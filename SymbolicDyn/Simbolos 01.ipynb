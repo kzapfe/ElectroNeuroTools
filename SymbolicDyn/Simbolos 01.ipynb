{
 "cells": [
  {
   "cell_type": "code",
   "execution_count": 1,
   "metadata": {},
   "outputs": [
    {
     "data": {
      "text/plain": [
       "Plots.GRBackend()"
      ]
     },
     "execution_count": 1,
     "metadata": {},
     "output_type": "execute_result"
    }
   ],
   "source": [
    "using JLD, Plots, Combinatorics\n",
    "using Base.Iterators\n",
    "gr()"
   ]
  },
  {
   "cell_type": "code",
   "execution_count": 2,
   "metadata": {},
   "outputs": [
    {
     "data": {
      "text/plain": [
       "Dict{String,Any} with 2 entries:\n",
       "  \"CSDPlanchada\" => Dict{AbstractString,Array}(\"Trancazo_2\"=>[-18.0116 -6.93308…\n",
       "  \"CSD\"          => Dict{AbstractString,Array}(\"Trancazo_2\"=>[-26.8791 -3.68286…"
      ]
     },
     "execution_count": 2,
     "metadata": {},
     "output_type": "execute_result"
    }
   ],
   "source": [
    "arxname=\"../JLDFiles/Evocada/CSDEvocada_3R7.jld\"\n",
    "data=load(arxname)"
   ]
  },
  {
   "cell_type": "code",
   "execution_count": 3,
   "metadata": {},
   "outputs": [
    {
     "data": {
      "text/plain": [
       "3-element Array{Int64,1}:\n",
       " -1\n",
       "  0\n",
       "  1"
      ]
     },
     "execution_count": 3,
     "metadata": {},
     "output_type": "execute_result"
    }
   ],
   "source": [
    "freq=7.022\n",
    "csd=(data[\"CSD\"][\"Trancazo_1\"]+data[\"CSD\"][\"Trancazo_2\"]+data[\"CSD\"][\"Trancazo_3\"])./3\n",
    "(h,w,nmax)=size(csd)\n",
    "epsi=21\n",
    "  ss=[-1,0,1]"
   ]
  },
  {
   "cell_type": "code",
   "execution_count": 4,
   "metadata": {},
   "outputs": [
    {
     "data": {
      "text/plain": [
       "simboliza (generic function with 2 methods)"
      ]
     },
     "execution_count": 4,
     "metadata": {},
     "output_type": "execute_result"
    }
   ],
   "source": [
    "function simboliza(x, delta=epsi)\n",
    "    result=0\n",
    "    if x>delta\n",
    "        result=1\n",
    "    elseif x< -delta\n",
    "        result=-1\n",
    "    else\n",
    "        result=0\n",
    "    end\n",
    "    return result\n",
    "end"
   ]
  },
  {
   "cell_type": "code",
   "execution_count": 5,
   "metadata": {},
   "outputs": [],
   "source": [
    "csdsymb=map(x->simboliza(x), csd);"
   ]
  },
  {
   "cell_type": "code",
   "execution_count": 6,
   "metadata": {},
   "outputs": [
    {
     "data": {
      "text/plain": [
       "problock (generic function with 1 method)"
      ]
     },
     "execution_count": 6,
     "metadata": {},
     "output_type": "execute_result"
    }
   ],
   "source": [
    "function problock(xxs::Array, yys::Array)\n",
    "    # calculamos la prob exp de encontrar el array yys en el array xxs\n",
    "    lx=length(xxs)\n",
    "    ly=length(yys)\n",
    "    lp=lx-ly+1\n",
    "    result=0\n",
    "    if(lx<ly)\n",
    "        error(\"tuabueliuta\")\n",
    "    else\n",
    "        for j=1:lp\n",
    "            if xxs[j:j+ly-1]==yys\n",
    "                result+=1\n",
    "            end\n",
    "        end\n",
    "    end\n",
    "    return result/lp\n",
    "end"
   ]
  },
  {
   "cell_type": "code",
   "execution_count": 7,
   "metadata": {},
   "outputs": [
    {
     "data": {
      "text/plain": [
       "ncartprod (generic function with 1 method)"
      ]
     },
     "execution_count": 7,
     "metadata": {},
     "output_type": "execute_result"
    }
   ],
   "source": [
    "function ncartprod(ss, n)\n",
    "    argumento=fill(ss, n)\n",
    "    result=collect(product(argumento...))\n",
    "    return(result)\n",
    "end"
   ]
  },
  {
   "cell_type": "code",
   "execution_count": 41,
   "metadata": {},
   "outputs": [
    {
     "data": {
      "text/plain": [
       "ncartprodR (generic function with 1 method)"
      ]
     },
     "execution_count": 41,
     "metadata": {},
     "output_type": "execute_result"
    }
   ],
   "source": [
    "function ncartprodR(ss, n)\n",
    "# okey, esto no funciona nada bien. Muuuy lento y usa mas RAM\n",
    "    result=[]\n",
    "    if n==1\n",
    "        for s in ss\n",
    "            push!(result, [s])\n",
    "        end\n",
    "        return result\n",
    "    else\n",
    "        aux=ncartprodR(ss, n-1)\n",
    "        for w in aux\n",
    "            for s in ss\n",
    "                vv=vcat(s, w)\n",
    "                push!(result, vv)\n",
    "            end\n",
    "        end\n",
    "        return result\n",
    "    end\n",
    "end"
   ]
  },
  {
   "cell_type": "code",
   "execution_count": 38,
   "metadata": {},
   "outputs": [
    {
     "name": "stdout",
     "output_type": "stream",
     "text": [
      "114.976364 seconds (451.99 M allocations: 20.946 GiB, 47.14% gc time)\n"
     ]
    }
   ],
   "source": [
    "@time a=ncartprodR(ss, 15);"
   ]
  },
  {
   "cell_type": "code",
   "execution_count": 40,
   "metadata": {},
   "outputs": [
    {
     "name": "stdout",
     "output_type": "stream",
     "text": [
      "  2.755678 seconds (598.34 k allocations: 1.628 GiB, 65.02% gc time)\n"
     ]
    }
   ],
   "source": [
    "@time ncartprod(ss, 15);"
   ]
  },
  {
   "cell_type": "code",
   "execution_count": 66,
   "metadata": {},
   "outputs": [
    {
     "data": {
      "text/plain": [
       "issubvec (generic function with 1 method)"
      ]
     },
     "execution_count": 66,
     "metadata": {},
     "output_type": "execute_result"
    }
   ],
   "source": [
    "# con permiso de StackOverflow oooo.key takes lot to compile!\n",
    "issubvec(v,big) = any([v == big[i:(i+length(v)-1)] for i=1:(length(big)-length(v)+1)])\n",
    "\n"
   ]
  },
  {
   "cell_type": "code",
   "execution_count": 127,
   "metadata": {},
   "outputs": [
    {
     "data": {
      "text/plain": [
       "allprobsn (generic function with 2 methods)"
      ]
     },
     "execution_count": 127,
     "metadata": {},
     "output_type": "execute_result"
    }
   ],
   "source": [
    "function allprobsn(xxs, ss, n)\n",
    "    result=Dict{Array, Float64}()\n",
    "    palabras=ncartprod(ss, n)\n",
    "    malas=Set()\n",
    "    for p in palabras\n",
    "        pr=[p...]\n",
    "        aux=problock(xxs, pr)\n",
    "        if aux>0\n",
    "            result[pr]= aux\n",
    "        else\n",
    "            push!(malas, pr)\n",
    "        end\n",
    "    end\n",
    "    return (result, malas)\n",
    "end\n",
    "\n",
    "\n",
    "function allprobsn(xxs, ss, n, vacias)\n",
    "    \n",
    "    #ush tambien muy ineficiente. Sigue siendo mejor buscar a lo pendejo???\n",
    "            result=Dict{Array, Float64}()\n",
    "    palabras=ncartprod(ss, n)\n",
    "    malas=Set()\n",
    "    for p in palabras\n",
    "        pr=[p...]\n",
    "        tanteada=any(issubvec(v, pr) for v in vacias)\n",
    "        if tanteada\n",
    "         #   print(pr, \" esta tanteada!!  \")\n",
    "            aux=0\n",
    "        else\n",
    "            aux=problock(xxs, pr)\n",
    "            if aux>0\n",
    "                result[pr]= aux\n",
    "            else\n",
    "                push!(malas, pr)\n",
    "            end\n",
    "        end # sobre tanteada\n",
    "    end #sobre palabras\n",
    "    return (result, malas)\n",
    "end"
   ]
  },
  {
   "cell_type": "code",
   "execution_count": 50,
   "metadata": {},
   "outputs": [
    {
     "name": "stdout",
     "output_type": "stream",
     "text": [
      "221\n"
     ]
    }
   ],
   "source": [
    "r=allprobsn(xs, ss, 5);\n",
    "a=0\n",
    "for q in keys(r)\n",
    "    if r[q]==0\n",
    "      #  println(\"yea zero \", q)\n",
    "        a+=1\n",
    "    end\n",
    "end\n"
   ]
  },
  {
   "cell_type": "code",
   "execution_count": 88,
   "metadata": {},
   "outputs": [
    {
     "data": {
      "text/plain": [
       "allprobsR (generic function with 1 method)"
      ]
     },
     "execution_count": 88,
     "metadata": {},
     "output_type": "execute_result"
    }
   ],
   "source": [
    "function allprobsR(xxs, ss, n)\n",
    "#not reaaalyy good. Actually preeeety bad\n",
    "     result=Dict{Array, Float64}()\n",
    "    if n==1\n",
    "        palabras=ncartprod(ss, n)\n",
    "        for p in palabras\n",
    "            pr=[p...]\n",
    "            result[pr]=problock(xxs, pr)\n",
    "        end\n",
    "    \n",
    "    else\n",
    "        \n",
    "        auxres=allprobsR(xxs,ss,n-1)\n",
    "        vacias=Set()\n",
    "        for v in keys(auxres)\n",
    "            if auxres[v]==0\n",
    "                push!(vacias, v)\n",
    "            end\n",
    "        end\n",
    "        \n",
    "        palabras=ncartprod(ss, n)\n",
    "        for p in palabras\n",
    "            pr=[p...]\n",
    "            tienemala=any(issubvec(v, pr) for v in vacias)\n",
    "            if tienemala\n",
    "                result[pr]=0\n",
    "            else\n",
    "                result[pr]=problock(xxs, pr)\n",
    "            end\n",
    "        end\n",
    "        \n",
    "        end  # cierra sobre n\n",
    "    \n",
    "    return result\n",
    "end\n",
    "                \n",
    "                \n",
    "    \n",
    "    "
   ]
  },
  {
   "cell_type": "code",
   "execution_count": 87,
   "metadata": {},
   "outputs": [
    {
     "name": "stdout",
     "output_type": "stream",
     "text": [
      "  2.798924 seconds (27.75 M allocations: 2.282 GiB, 21.37% gc time)\n"
     ]
    },
    {
     "data": {
      "text/plain": [
       "Dict{Array,Float64} with 6561 entries:\n",
       "  [-1, 0, 1, -1, -1, 0, 1, 0]  => 0.0\n",
       "  [-1, 1, 1, 0, 1, -1, 0, 0]   => 0.0\n",
       "  [0, -1, 0, 0, 0, -1, 1, 1]   => 0.0\n",
       "  [1, -1, 0, 1, 0, 1, -1, 1]   => 0.0\n",
       "  [1, 1, 1, -1, -1, 0, -1, 1]  => 0.0\n",
       "  [-1, 1, 0, 0, 0, 1, -1, -1]  => 0.0\n",
       "  [1, 1, 0, -1, -1, 1, -1, 1]  => 0.0\n",
       "  [0, 1, 0, -1, 1, 0, 1, 0]    => 0.0\n",
       "  [0, 1, 1, 1, 1, 1, 0, 1]     => 0.0\n",
       "  [0, 1, 1, 0, -1, -1, 1, 1]   => 0.0\n",
       "  [-1, 1, 0, 1, 1, 1, 0, -1]   => 0.0\n",
       "  [-1, 1, 0, 0, 1, 1, -1, -1]  => 0.0\n",
       "  [-1, 0, 0, 0, -1, 1, 1, -1]  => 0.0\n",
       "  [-1, -1, 1, 1, 0, 1, 1, -1]  => 0.0\n",
       "  [0, -1, -1, -1, 0, 0, 0, -1] => 0.0\n",
       "  [-1, 1, 0, 0, 1, 1, -1, 0]   => 0.0\n",
       "  [-1, -1, 0, -1, 1, 1, 0, 0]  => 0.0\n",
       "  [0, 0, -1, 1, 0, -1, 1, 0]   => 0.0\n",
       "  [0, 0, -1, 1, 0, -1, 1, 1]   => 0.0\n",
       "  [1, -1, 1, -1, 0, 1, 1, 0]   => 0.0\n",
       "  [0, -1, 0, -1, 1, 0, 1, 1]   => 0.0\n",
       "  [1, 1, 0, 0, -1, -1, -1, 0]  => 0.0\n",
       "  [0, 0, 1, 1, 1, -1, -1, 1]   => 0.0\n",
       "  [1, 1, -1, 0, -1, 1, 1, 1]   => 0.0\n",
       "  [-1, 1, 1, 0, 1, -1, 0, -1]  => 0.0\n",
       "  ⋮                            => ⋮"
      ]
     },
     "execution_count": 87,
     "metadata": {},
     "output_type": "execute_result"
    }
   ],
   "source": [
    "@time q=allprobsR(xs,ss,8)"
   ]
  },
  {
   "cell_type": "code",
   "execution_count": 163,
   "metadata": {},
   "outputs": [
    {
     "name": "stdout",
     "output_type": "stream",
     "text": [
      "  0.002697 seconds (60.56 k allocations: 7.326 MiB)\n"
     ]
    },
    {
     "data": {
      "text/plain": [
       "(Dict{Array,Float64}([0, 0, 0, 0, 1]=>0.0122951,[-1, 0, -1, -1, 0]=>0.00409836,[0, 0, 1, 0, 0]=>0.00819672,[0, -1, -1, 0, 0]=>0.00819672,[-1, 0, 0, 0, 0]=>0.0122951,[0, 0, 0, 1, 1]=>0.00409836,[0, 0, 0, 0, -1]=>0.0122951,[0, 0, -1, 0, 0]=>0.00409836,[0, -1, 0, 0, 0]=>0.00409836,[0, 0, 0, -1, 0]=>0.00409836…), Set(Any[[0, -1, 1, 0, 1], [-1, 1, 0, -1, -1], [-1, -1, 0, 0, -1], [1, 1, 1, 0, 1], [1, 0, 1, 1, 0], [-1, -1, 0, 1, -1], [-1, -1, -1, 0, 1], [-1, 0, 1, -1, 0], [0, 0, 1, 1, 1], [1, -1, 1, 0, -1]  …  [0, 1, 1, -1, -1], [-1, 0, 1, 0, 1], [0, -1, 0, 1, -1], [0, 0, -1, 1, 1], [0, 1, 1, 0, -1], [-1, 0, 0, 1, -1], [-1, -1, 1, 0, -1], [-1, -1, 1, -1, 1], [-1, 1, 0, -1, 1], [1, -1, -1, -1, 0], [0, 1, 0, -1, 0]]))"
      ]
     },
     "execution_count": 163,
     "metadata": {},
     "output_type": "execute_result"
    }
   ],
   "source": [
    "@time (p, v5)=allprobsn(xs, ss, 5)"
   ]
  },
  {
   "cell_type": "code",
   "execution_count": 160,
   "metadata": {},
   "outputs": [
    {
     "name": "stdout",
     "output_type": "stream",
     "text": [
      "  0.489057 seconds (4.85 M allocations: 730.258 MiB, 43.50% gc time)\n"
     ]
    },
    {
     "data": {
      "text/plain": [
       "(Dict{Array,Float64}([0, 0, 0, 0, -1, -1, 0, -1, -1]=>0.00416667,[0, 0, 0, 0, -1, -1, 0, 0, 0]=>0.00416667,[0, 0, 0, 0, 0, 0, 1, 0, 0]=>0.00833333,[0, 0, 1, 1, 0, 0, 0, 0, 0]=>0.00416667,[0, 0, 0, -1, -1, 0, -1, -1, 0]=>0.00416667,[0, 0, 0, -1, -1, 0, 0, 0, 0]=>0.00416667,[1, 0, 0, 0, 0, 0, -1, 0, 0]=>0.00416667,[0, 0, -1, 0, 0, 0, 0, 0, 0]=>0.00416667,[0, 0, 0, 1, 0, 0, 0, 0, 0]=>0.00833333,[0, 0, 0, 0, 0, 0, 0, -1, -1]=>0.00833333…), Set(Any[[0, -1, -1, 1, 0, -1, 1, 0, -1], [-1, 0, 0, 0, -1, -1, -1, -1, 0], [1, 0, 1, 0, -1, -1, 0, -1, 1], [-1, -1, 0, 1, 1, 1, 1, 1, -1], [-1, 1, 0, 1, -1, -1, 1, 1, 0], [1, 0, -1, -1, -1, 1, 1, 0, 0], [-1, 1, 0, 1, -1, 0, 0, -1, -1], [1, 1, -1, 1, 0, 0, -1, 0, 0], [0, -1, 0, -1, 1, -1, 0, 0, 0], [0, 0, 1, -1, -1, 1, 0, -1, -1]  …  [0, 0, 0, 0, 0, 1, 0, 1, 1], [-1, 0, -1, 1, 1, 1, -1, 1, 1], [0, 0, 0, 0, 1, 1, 0, 0, 1], [1, 0, 0, 1, -1, -1, 1, -1, 0], [1, 0, 0, -1, 0, 0, 0, 0, 1], [1, 0, -1, -1, -1, -1, 0, 1, -1], [-1, -1, -1, 0, -1, 1, -1, 0, 1], [1, 0, 1, 0, 0, 0, 1, 1, 1], [1, 0, -1, 0, 1, -1, -1, 1, 0], [-1, 1, 1, 0, -1, 0, 0, -1, -1], [1, -1, 0, 1, -1, 0, -1, 0, -1]]))"
      ]
     },
     "execution_count": 160,
     "metadata": {},
     "output_type": "execute_result"
    }
   ],
   "source": [
    "@time (p, v)=allprobsn(xs, ss, 9)"
   ]
  },
  {
   "cell_type": "code",
   "execution_count": 164,
   "metadata": {},
   "outputs": [
    {
     "data": {
      "text/plain": [
       "221"
      ]
     },
     "execution_count": 164,
     "metadata": {},
     "output_type": "execute_result"
    }
   ],
   "source": [
    "length(v5)"
   ]
  },
  {
   "cell_type": "code",
   "execution_count": 179,
   "metadata": {},
   "outputs": [
    {
     "name": "stdout",
     "output_type": "stream",
     "text": [
      "  1.988904 seconds (22.09 M allocations: 1.967 GiB, 41.91% gc time)\n"
     ]
    },
    {
     "data": {
      "text/plain": [
       "(Dict{Array,Float64}([1, 1, 0, 0, 0, 0, 0, -1, 0, 0, 0]=>0.00420168,[0, 0, 0, 0, 0, 0, 1, 1, 0, 0, 0]=>0.00420168,[1, 0, 0, 0, 0, 0, -1, 0, 0, 0, 0]=>0.00420168,[0, 0, 0, 0, 0, 0, 0, 0, 0, -1, -1]=>0.00840336,[0, 0, 0, 0, 0, 0, 0, 0, 0, 1, 0]=>0.00420168,[0, 0, 0, -1, 0, 0, 0, 0, 0, 0, 0]=>0.00420168,[0, 0, 0, 0, 0, 0, 0, 1, 0, 0, 0]=>0.00840336,[-1, 0, 0, 0, 0, 0, 0, 0, 0, 0, -1]=>0.00420168,[0, 0, 0, 0, 0, 1, 0, 0, 0, 0, 0]=>0.00840336,[0, 0, 0, 0, 0, 0, 0, 0, 0, 0, 1]=>0.00840336…), Set(Any[[0, -1, -1, 0, -1, -1, 0, 0, 0, 0, -1], [1, 1, 0, 0, 0, 0, 0, 0, 0, 0, -1], [-1, -1, 0, 0, 0, 1, 0, 0, 0, 0, 1], [1, 0, 0, 0, 1, 0, 0, 0, 0, -1, 0], [0, -1, 0, 0, 0, 1, 0, 0, 0, -1, 0], [0, 0, -1, -1, 0, 0, 0, 0, -1, -1, 0], [-1, 0, 0, 0, -1, -1, 0, -1, -1, 0, 0], [-1, 0, 0, 0, 0, 1, 0, 0, 0, 0, 0], [0, 1, 1, 0, 0, 0, -1, 0, 0, 0, 1], [0, 0, 0, 0, 0, 0, 0, 0, 0, -1, 0]  …  [1, 1, 0, 0, 0, 0, 0, 0, 0, 0, 1], [0, 0, 0, 0, -1, -1, 0, 0, 0, 0, -1], [-1, 0, 0, 0, 0, 0, 0, 0, 1, 1, 0], [1, 1, 0, 0, 0, 0, 0, 0, 0, 1, 0], [-1, 0, 0, 0, 0, -1, -1, 0, -1, -1, 0], [0, 0, -1, 0, 0, 0, 0, 0, 0, 1, 1], [0, 0, 0, -1, 0, 0, 0, -1, -1, 0, -1], [0, 0, 1, 0, 0, 0, 1, 0, 0, 0, -1], [0, 0, 0, 0, -1, 0, 0, 0, -1, 0, 0], [0, 0, 0, 1, 1, 0, 0, 0, 0, 1, 0], [0, 0, 0, 0, 1, 0, 0, 0, 0, 0, 1]]))"
      ]
     },
     "execution_count": 179,
     "metadata": {},
     "output_type": "execute_result"
    }
   ],
   "source": [
    "@time (ar, ir)=allprobsn(xs, ss,11, v4)"
   ]
  },
  {
   "cell_type": "code",
   "execution_count": 181,
   "metadata": {},
   "outputs": [
    {
     "data": {
      "text/plain": [
       "Set(Any[[1, -1, -1], [-1, 1, 1], [-1, 1, 0], [1, 0, -1], [1, 0, 1], [-1, -1, 1], [1, 1, 1], [1, -1, 0], [0, 1, -1], [-1, 0, 1], [1, -1, 1], [1, 1, -1], [0, -1, 1], [-1, 1, -1], [-1, -1, -1]])"
      ]
     },
     "execution_count": 181,
     "metadata": {},
     "output_type": "execute_result"
    }
   ],
   "source": [
    "v3"
   ]
  },
  {
   "cell_type": "code",
   "execution_count": 150,
   "metadata": {},
   "outputs": [
    {
     "data": {
      "text/plain": [
       "238"
      ]
     },
     "execution_count": 150,
     "metadata": {},
     "output_type": "execute_result"
    }
   ],
   "source": [
    "length(v)+length(p)"
   ]
  },
  {
   "cell_type": "code",
   "execution_count": 124,
   "metadata": {},
   "outputs": [
    {
     "name": "stdout",
     "output_type": "stream",
     "text": [
      "search: \u001b[0m\u001b[1mc\u001b[22m\u001b[0m\u001b[1mo\u001b[22m\u001b[0m\u001b[1ml\u001b[22m\u001b[0m\u001b[1ml\u001b[22m\u001b[0m\u001b[1me\u001b[22m\u001b[0m\u001b[1mc\u001b[22m\u001b[0m\u001b[1mt\u001b[22m \u001b[0m\u001b[1mC\u001b[22m\u001b[0m\u001b[1mo\u001b[22mo\u001b[0m\u001b[1ml\u001b[22m\u001b[0m\u001b[1mL\u001b[22m\u001b[0m\u001b[1me\u001b[22mx\u001b[0m\u001b[1mC\u001b[22mombina\u001b[0m\u001b[1mt\u001b[22mions get_\u001b[0m\u001b[1mc\u001b[22m\u001b[0m\u001b[1mo\u001b[22m\u001b[0m\u001b[1ml\u001b[22mor_pa\u001b[0m\u001b[1ml\u001b[22m\u001b[0m\u001b[1me\u001b[22mtte\n",
      "\n"
     ]
    },
    {
     "data": {
      "text/latex": [
       "\\begin{verbatim}\n",
       "collect(element_type, collection)\n",
       "\\end{verbatim}\n",
       "Return an \\texttt{Array} with the given element type of all items in a collection or iterable. The result has the same shape and number of dimensions as \\texttt{collection}.\n",
       "\n",
       "\\section{Examples}\n",
       "\\begin{verbatim}\n",
       "julia> collect(Float64, 1:2:5)\n",
       "3-element Array{Float64,1}:\n",
       " 1.0\n",
       " 3.0\n",
       " 5.0\n",
       "\\end{verbatim}\n",
       "\\rule{\\textwidth}{1pt}\n",
       "\\begin{verbatim}\n",
       "collect(collection)\n",
       "\\end{verbatim}\n",
       "Return an \\texttt{Array} of all items in a collection or iterator. For dictionaries, returns \\texttt{Pair\\{KeyType, ValType\\}}. If the argument is array-like or is an iterator with the \\href{@ref IteratorSize}{\\texttt{HasShape}} trait, the result will have the same shape and number of dimensions as the argument.\n",
       "\n",
       "\\section{Examples}\n",
       "\\begin{verbatim}\n",
       "julia> collect(1:2:13)\n",
       "7-element Array{Int64,1}:\n",
       "  1\n",
       "  3\n",
       "  5\n",
       "  7\n",
       "  9\n",
       " 11\n",
       " 13\n",
       "\\end{verbatim}\n"
      ],
      "text/markdown": [
       "```\n",
       "collect(element_type, collection)\n",
       "```\n",
       "\n",
       "Return an `Array` with the given element type of all items in a collection or iterable. The result has the same shape and number of dimensions as `collection`.\n",
       "\n",
       "# Examples\n",
       "\n",
       "```jldoctest\n",
       "julia> collect(Float64, 1:2:5)\n",
       "3-element Array{Float64,1}:\n",
       " 1.0\n",
       " 3.0\n",
       " 5.0\n",
       "```\n",
       "\n",
       "---\n",
       "\n",
       "```\n",
       "collect(collection)\n",
       "```\n",
       "\n",
       "Return an `Array` of all items in a collection or iterator. For dictionaries, returns `Pair{KeyType, ValType}`. If the argument is array-like or is an iterator with the [`HasShape`](@ref IteratorSize) trait, the result will have the same shape and number of dimensions as the argument.\n",
       "\n",
       "# Examples\n",
       "\n",
       "```jldoctest\n",
       "julia> collect(1:2:13)\n",
       "7-element Array{Int64,1}:\n",
       "  1\n",
       "  3\n",
       "  5\n",
       "  7\n",
       "  9\n",
       " 11\n",
       " 13\n",
       "```\n"
      ],
      "text/plain": [
       "\u001b[36m  collect(element_type, collection)\u001b[39m\n",
       "\n",
       "  Return an \u001b[36mArray\u001b[39m with the given element type of all items in a collection or\n",
       "  iterable. The result has the same shape and number of dimensions as\n",
       "  \u001b[36mcollection\u001b[39m.\n",
       "\n",
       "\u001b[1m  Examples\u001b[22m\n",
       "\u001b[1m  ≡≡≡≡≡≡≡≡≡≡\u001b[22m\n",
       "\n",
       "\u001b[36m  julia> collect(Float64, 1:2:5)\u001b[39m\n",
       "\u001b[36m  3-element Array{Float64,1}:\u001b[39m\n",
       "\u001b[36m   1.0\u001b[39m\n",
       "\u001b[36m   3.0\u001b[39m\n",
       "\u001b[36m   5.0\u001b[39m\n",
       "\n",
       "  ────────────────────────────────────────────────────────────────────────────\n",
       "\n",
       "\u001b[36m  collect(collection)\u001b[39m\n",
       "\n",
       "  Return an \u001b[36mArray\u001b[39m of all items in a collection or iterator. For dictionaries,\n",
       "  returns \u001b[36mPair{KeyType, ValType}\u001b[39m. If the argument is array-like or is an\n",
       "  iterator with the \u001b[36mHasShape\u001b[39m trait, the result will have the same shape and\n",
       "  number of dimensions as the argument.\n",
       "\n",
       "\u001b[1m  Examples\u001b[22m\n",
       "\u001b[1m  ≡≡≡≡≡≡≡≡≡≡\u001b[22m\n",
       "\n",
       "\u001b[36m  julia> collect(1:2:13)\u001b[39m\n",
       "\u001b[36m  7-element Array{Int64,1}:\u001b[39m\n",
       "\u001b[36m    1\u001b[39m\n",
       "\u001b[36m    3\u001b[39m\n",
       "\u001b[36m    5\u001b[39m\n",
       "\u001b[36m    7\u001b[39m\n",
       "\u001b[36m    9\u001b[39m\n",
       "\u001b[36m   11\u001b[39m\n",
       "\u001b[36m   13\u001b[39m"
      ]
     },
     "execution_count": 124,
     "metadata": {},
     "output_type": "execute_result"
    }
   ],
   "source": [
    "?collect"
   ]
  },
  {
   "cell_type": "code",
   "execution_count": null,
   "metadata": {},
   "outputs": [],
   "source": [
    "function shanonH_n(xxs, ss, n)\n",
    "    probs=allprobsn(xxs,ss,n)\n",
    "    h=0\n",
    "    for q in values(probs)\n",
    "        if q>0.00001\n",
    "            h+=q*log(q)\n",
    "        end\n",
    "    end\n",
    "    result=-h\n",
    "    return result\n",
    "end"
   ]
  },
  {
   "cell_type": "code",
   "execution_count": null,
   "metadata": {},
   "outputs": [],
   "source": [
    "0==0.000\n"
   ]
  },
  {
   "cell_type": "code",
   "execution_count": null,
   "metadata": {},
   "outputs": [],
   "source": [
    "nm=div(nmax,2)\n",
    "hhsn=zeros(h,w,nm)\n",
    "\n",
    "@time for n=1:7\n",
    "    for j=1:h, k=1:w\n",
    "        xs=csdsymb[j,k,:]\n",
    "      \n",
    "        hhsn[j,k,n]=shanonH_n(xs, ss, n)\n",
    "    end\n",
    "end"
   ]
  },
  {
   "cell_type": "code",
   "execution_count": null,
   "metadata": {},
   "outputs": [],
   "source": [
    "heatmap(hhsn[:,:,3], aspect_ratio=1)"
   ]
  },
  {
   "cell_type": "code",
   "execution_count": null,
   "metadata": {},
   "outputs": [],
   "source": [
    "hhsn[:,:,1]==hhsn[:,:,4]"
   ]
  },
  {
   "cell_type": "code",
   "execution_count": null,
   "metadata": {},
   "outputs": [],
   "source": [
    "allprobsn(xs, ss, 3)"
   ]
  },
  {
   "cell_type": "code",
   "execution_count": null,
   "metadata": {},
   "outputs": [],
   "source": [
    "ss=[-1,0,1]\n",
    "bla=[[q, j] for q in ss, j in ss ]"
   ]
  },
  {
   "cell_type": "code",
   "execution_count": 45,
   "metadata": {},
   "outputs": [
    {
     "data": {
      "text/plain": [
       "1-element Array{Int64,1}:\n",
       " 1"
      ]
     },
     "execution_count": 45,
     "metadata": {},
     "output_type": "execute_result"
    }
   ],
   "source": [
    "xs=csdsymb[16,42,:];\n",
    "ys=[1]"
   ]
  },
  {
   "cell_type": "code",
   "execution_count": 46,
   "metadata": {},
   "outputs": [
    {
     "data": {
      "text/plain": [
       "(0.016129032258064516, 0.9556451612903226, 0.028225806451612902)"
      ]
     },
     "execution_count": 46,
     "metadata": {},
     "output_type": "execute_result"
    }
   ],
   "source": [
    "problock(xs, [1]) , problock(xs, [0]),problock(xs, [-1])"
   ]
  },
  {
   "cell_type": "code",
   "execution_count": null,
   "metadata": {},
   "outputs": [],
   "source": []
  },
  {
   "cell_type": "code",
   "execution_count": null,
   "metadata": {},
   "outputs": [],
   "source": [
    "heatmap(sumsym, aspect_ratio=1)"
   ]
  },
  {
   "cell_type": "code",
   "execution_count": null,
   "metadata": {},
   "outputs": [],
   "source": [
    "?heatmap"
   ]
  },
  {
   "cell_type": "code",
   "execution_count": 68,
   "metadata": {},
   "outputs": [
    {
     "data": {
      "text/plain": [
       "3-element Array{Int64,1}:\n",
       " 1\n",
       " 0\n",
       " 1"
      ]
     },
     "execution_count": 68,
     "metadata": {},
     "output_type": "execute_result"
    }
   ],
   "source": [
    "a=[0,1]\n",
    "n=[0, 1]\n",
    "z=[1,1,0]\n",
    "z2=[1,0,1]"
   ]
  },
  {
   "cell_type": "code",
   "execution_count": 71,
   "metadata": {},
   "outputs": [
    {
     "name": "stdout",
     "output_type": "stream",
     "text": [
      "  0.000008 seconds (9 allocations: 512 bytes)\n"
     ]
    },
    {
     "data": {
      "text/plain": [
       "true"
      ]
     },
     "execution_count": 71,
     "metadata": {},
     "output_type": "execute_result"
    }
   ],
   "source": [
    "@time issubvec(a, z2)"
   ]
  },
  {
   "cell_type": "code",
   "execution_count": 72,
   "metadata": {},
   "outputs": [
    {
     "ename": "LoadError",
     "evalue": "MethodError: no method matching @inbounds(::LineNumberNode, ::Module)\nClosest candidates are:\n  @inbounds(::LineNumberNode, ::Module, !Matched::Any) at essentials.jl:538",
     "output_type": "error",
     "traceback": [
      "MethodError: no method matching @inbounds(::LineNumberNode, ::Module)\nClosest candidates are:\n  @inbounds(::LineNumberNode, ::Module, !Matched::Any) at essentials.jl:538",
      ""
     ]
    }
   ],
   "source": [
    "@inbounds"
   ]
  },
  {
   "cell_type": "code",
   "execution_count": 60,
   "metadata": {},
   "outputs": [
    {
     "data": {
      "text/plain": [
       "\"[0, 1]\""
      ]
     },
     "execution_count": 60,
     "metadata": {},
     "output_type": "execute_result"
    }
   ],
   "source": [
    "as=string(a)"
   ]
  },
  {
   "cell_type": "code",
   "execution_count": null,
   "metadata": {},
   "outputs": [],
   "source": []
  }
 ],
 "metadata": {
  "@webio": {
   "lastCommId": null,
   "lastKernelId": null
  },
  "kernelspec": {
   "display_name": "Julia 1.0.3",
   "language": "julia",
   "name": "julia-1.0"
  },
  "language_info": {
   "file_extension": ".jl",
   "mimetype": "application/julia",
   "name": "julia",
   "version": "1.0.3"
  }
 },
 "nbformat": 4,
 "nbformat_minor": 2
}
