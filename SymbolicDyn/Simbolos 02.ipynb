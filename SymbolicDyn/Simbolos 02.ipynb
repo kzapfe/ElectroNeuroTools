{
 "cells": [
  {
   "cell_type": "code",
   "execution_count": 1,
   "metadata": {},
   "outputs": [
    {
     "name": "stderr",
     "output_type": "stream",
     "text": [
      "┌ Info: Recompiling stale cache file /home/karel/.julia/compiled/v1.0/ArbolGrafosTikz.ji for ArbolGrafosTikz [top-level]\n",
      "└ @ Base loading.jl:1190\n",
      "WARNING: using ArbolGrafosTikz.ArbolGrafosTikz in module Main conflicts with an existing identifier.\n"
     ]
    },
    {
     "ename": "ErrorException",
     "evalue": "importing ArbolGrafosTikz into Main conflicts with an existing identifier",
     "output_type": "error",
     "traceback": [
      "importing ArbolGrafosTikz into Main conflicts with an existing identifier",
      "",
      "Stacktrace:",
      " [1] top-level scope at In[1]:6"
     ]
    }
   ],
   "source": [
    "using JLD, Plots\n",
    "using HDF5\n",
    "using Base.Iterators\n",
    "push!(LOAD_PATH,\".\")\n",
    "include(\"ArbolGrafosTikz.jl\")\n",
    "using ArbolGrafosTikz\n",
    "\n",
    "gr()"
   ]
  },
  {
   "cell_type": "code",
   "execution_count": 2,
   "metadata": {},
   "outputs": [],
   "source": [
    "arxname=\"../JLDFiles/Evocada/control1/LFP_Promedio_est_con5.jld\"\n",
    "datos=load(arxname)\n",
    "csd=datos[\"kCSDCorrecta\"]\n",
    "freq=datos[\"freq\"]\n",
    "retr=datos[\"retrazo\"]\n",
    "lat=datos[\"latencia\"]\n",
    "cresp=datos[\"Canalesrespuesta\"]\n",
    "csatu=datos[\"CanalesSaturados\"];"
   ]
  },
  {
   "cell_type": "code",
   "execution_count": 3,
   "metadata": {},
   "outputs": [
    {
     "data": {
      "text/plain": [
       "3-element Array{Int64,1}:\n",
       " -1\n",
       "  0\n",
       "  1"
      ]
     },
     "execution_count": 3,
     "metadata": {},
     "output_type": "execute_result"
    }
   ],
   "source": [
    "(h,w,nmax)=size(csd)\n",
    "epsi=21\n",
    "  ss=[-1,0,1]"
   ]
  },
  {
   "cell_type": "code",
   "execution_count": 4,
   "metadata": {},
   "outputs": [
    {
     "data": {
      "text/plain": [
       "(64, 64, 1163)"
      ]
     },
     "execution_count": 4,
     "metadata": {},
     "output_type": "execute_result"
    }
   ],
   "source": [
    "size(csd)"
   ]
  },
  {
   "cell_type": "code",
   "execution_count": 5,
   "metadata": {},
   "outputs": [
    {
     "data": {
      "text/plain": [
       "170.56650615657293"
      ]
     },
     "execution_count": 5,
     "metadata": {},
     "output_type": "execute_result"
    }
   ],
   "source": [
    "retr+lat+3*freq"
   ]
  },
  {
   "cell_type": "code",
   "execution_count": 6,
   "metadata": {},
   "outputs": [
    {
     "data": {
      "text/plain": [
       "581.7767582987807"
      ]
     },
     "execution_count": 6,
     "metadata": {},
     "output_type": "execute_result"
    }
   ],
   "source": [
    "maximum(csd[:,:,117:end])"
   ]
  },
  {
   "cell_type": "code",
   "execution_count": 7,
   "metadata": {},
   "outputs": [
    {
     "data": {
      "text/plain": [
       "Base.KeySet for a Dict{String,Any} with 10 entries. Keys:\n",
       "  \"Canalesrespuesta\"\n",
       "  \"KTT_KInv\"\n",
       "  \"freq\"\n",
       "  \"latencia\"\n",
       "  \"kCSDCorrecta\"\n",
       "  \"retrazo\"\n",
       "  \"Nota\"\n",
       "  \"LFPSaturados\"\n",
       "  \"final\"\n",
       "  \"CanalesSaturados\""
      ]
     },
     "execution_count": 7,
     "metadata": {},
     "output_type": "execute_result"
    }
   ],
   "source": [
    "keys(datos)"
   ]
  },
  {
   "cell_type": "code",
   "execution_count": 8,
   "metadata": {},
   "outputs": [
    {
     "data": {
      "text/plain": [
       "simboliza (generic function with 2 methods)"
      ]
     },
     "execution_count": 8,
     "metadata": {},
     "output_type": "execute_result"
    }
   ],
   "source": [
    "function simboliza(x, delta=epsi)\n",
    "    result=0\n",
    "    if x>delta\n",
    "        result=1\n",
    "    elseif x< -delta\n",
    "        result=-1\n",
    "    else\n",
    "        result=0\n",
    "    end\n",
    "    return result\n",
    "end"
   ]
  },
  {
   "cell_type": "code",
   "execution_count": 9,
   "metadata": {
    "collapsed": true
   },
   "outputs": [],
   "source": [
    "csdsymb=map(x->simboliza(x), csd);"
   ]
  },
  {
   "cell_type": "code",
   "execution_count": 10,
   "metadata": {},
   "outputs": [
    {
     "data": {
      "text/plain": [
       "1-element Array{Int64,1}:\n",
       " 1"
      ]
     },
     "execution_count": 10,
     "metadata": {},
     "output_type": "execute_result"
    }
   ],
   "source": [
    "xs=csdsymb[16,28,:];\n",
    "ys=[1]"
   ]
  },
  {
   "cell_type": "code",
   "execution_count": 11,
   "metadata": {},
   "outputs": [
    {
     "data": {
      "text/plain": [
       "problock (generic function with 1 method)"
      ]
     },
     "execution_count": 11,
     "metadata": {},
     "output_type": "execute_result"
    }
   ],
   "source": [
    "function problock(xxs::Array, yys::Array)\n",
    "    # calculamos la prob exp de encontrar el array yys en el array xxs\n",
    "    lx=length(xxs)\n",
    "    ly=length(yys)\n",
    "    lp=lx-ly+1\n",
    "    result=0\n",
    "    if(lx<ly)\n",
    "        error(\"tuabueliuta\")\n",
    "    else\n",
    "        for j=1:lp\n",
    "            if xxs[j:j+ly-1]==yys\n",
    "                result+=1\n",
    "            end\n",
    "        end\n",
    "    end\n",
    "    return result/lp\n",
    "end"
   ]
  },
  {
   "cell_type": "code",
   "execution_count": 12,
   "metadata": {},
   "outputs": [
    {
     "data": {
      "text/plain": [
       "ncartprod (generic function with 1 method)"
      ]
     },
     "execution_count": 12,
     "metadata": {},
     "output_type": "execute_result"
    }
   ],
   "source": [
    "function ncartprod(ss, n)\n",
    "    argumento=ntuple(i->ss, n)\n",
    "    result=product(argumento...)\n",
    "    return(result)\n",
    "end"
   ]
  },
  {
   "cell_type": "code",
   "execution_count": 13,
   "metadata": {},
   "outputs": [
    {
     "data": {
      "text/plain": [
       "issubvec (generic function with 1 method)"
      ]
     },
     "execution_count": 13,
     "metadata": {},
     "output_type": "execute_result"
    }
   ],
   "source": [
    "# con permiso de StackOverflow oooo.key takes lot to compile!\n",
    "issubvec(v,big) = any([v == big[i:(i+length(v)-1)] for i=1:(length(big)-length(v)+1)])"
   ]
  },
  {
   "cell_type": "code",
   "execution_count": 14,
   "metadata": {},
   "outputs": [
    {
     "data": {
      "text/plain": [
       "allprobsn (generic function with 2 methods)"
      ]
     },
     "execution_count": 14,
     "metadata": {},
     "output_type": "execute_result"
    }
   ],
   "source": [
    "function allprobsn(xxs, ss, n)\n",
    "    result=Dict{Array, Float64}()\n",
    "    palabras=ncartprod(ss, n)\n",
    "    malas=Set()\n",
    "    for p in palabras\n",
    "        pr=[p...]\n",
    "        aux=problock(xxs, pr)\n",
    "        if aux>0\n",
    "            result[pr]= aux\n",
    "        else\n",
    "            push!(malas, pr)\n",
    "        end\n",
    "    end\n",
    "    return (result, malas)\n",
    "end\n",
    "\n",
    "\n",
    "function allprobsn(xxs, ss, n, vacias)\n",
    "    \n",
    "    #ush tambien muy ineficiente. Sigue siendo mejor buscar a lo pendejo???\n",
    "            result=Dict{Array, Float64}()\n",
    "    palabras=ncartprod(ss, n)\n",
    "    malas=Set()\n",
    "    for p in palabras\n",
    "        pr=[p...]\n",
    "        tanteada=any(issubvec(v, pr) for v in vacias)\n",
    "        if tanteada\n",
    "         #   print(pr, \" esta tanteada!!  \")\n",
    "            aux=0\n",
    "        else\n",
    "            aux=problock(xxs, pr)\n",
    "            if aux>0\n",
    "                result[pr]= aux\n",
    "            else\n",
    "                push!(malas, pr)\n",
    "            end\n",
    "        end # sobre tanteada\n",
    "    end #sobre palabras\n",
    "    return (result, malas)\n",
    "end"
   ]
  },
  {
   "cell_type": "markdown",
   "metadata": {},
   "source": [
    "Haciendo pruebas, al parecer matar el conjunto de malas con entre 3 y 4 letras es la forma más rapida. Ya despues de eso tiene que revisar palabrerias tan largas que no conviene."
   ]
  },
  {
   "cell_type": "code",
   "execution_count": 15,
   "metadata": {},
   "outputs": [
    {
     "name": "stdout",
     "output_type": "stream",
     "text": [
      "  0.351561 seconds (855.07 k allocations: 44.928 MiB, 3.78% gc time)\n"
     ]
    },
    {
     "data": {
      "text/plain": [
       "(Dict{Array,Float64}([-1, -1, 0]=>0.000861326,[0, -1, -1]=>0.000861326,[0, 0, 0]=>0.953488,[0, -1, 0]=>0.00172265,[-1, 0, 0]=>0.00258398,[1, 0, 0]=>0.000861326,[0, 0, -1]=>0.00258398,[-1, -1, -1]=>0.0353144,[0, 0, 1]=>0.000861326,[0, 1, 0]=>0.000861326…), Set(Any[[1, -1, -1], [-1, 1, 1], [-1, 1, 0], [-1, 0, -1], [1, 0, -1], [1, 0, 1], [-1, -1, 1], [1, 1, 1], [1, -1, 0], [0, 1, -1], [-1, 0, 1], [1, -1, 1], [1, 1, -1], [1, 1, 0], [0, -1, 1], [-1, 1, -1], [0, 1, 1]]))"
      ]
     },
     "execution_count": 15,
     "metadata": {},
     "output_type": "execute_result"
    }
   ],
   "source": [
    "@time (p, v3)=allprobsn(xs, ss, 3)"
   ]
  },
  {
   "cell_type": "code",
   "execution_count": 16,
   "metadata": {},
   "outputs": [
    {
     "name": "stdout",
     "output_type": "stream",
     "text": [
      "  2.029072 seconds (23.28 M allocations: 3.419 GiB, 26.02% gc time)\n"
     ]
    },
    {
     "data": {
      "text/plain": [
       "(Dict{Array,Float64}([0, 0, 0, 0, 0, 0, 0, 0, -1]=>0.0017316,[0, 0, 0, 0, 0, -1, 0, 0, 0]=>0.000865801,[0, 0, 0, 0, 0, 0, -1, 0, 0]=>0.000865801,[0, -1, 0, 0, 0, 0, 0, 0, 0]=>0.0017316,[-1, -1, 0, 0, 0, -1, 0, 0, 0]=>0.000865801,[0, 0, 0, 0, 0, 0, 0, 1, 0]=>0.000865801,[-1, -1, -1, -1, -1, -1, -1, -1, 0]=>0.000865801,[0, 0, -1, 0, 0, 0, 0, 0, 0]=>0.0017316,[0, 0, 0, 1, 0, 0, 0, 0, 0]=>0.000865801,[0, 0, 0, 0, 0, 0, 0, -1, -1]=>0.000865801…), Set(Any[[0, -1, -1, 1, 0, -1, 1, 0, -1], [-1, 0, 0, 0, -1, -1, -1, -1, 0], [1, 0, 1, 0, -1, -1, 0, -1, 1], [-1, -1, 0, 1, 1, 1, 1, 1, -1], [-1, 1, 0, 1, -1, -1, 1, 1, 0], [1, 0, -1, -1, -1, 1, 1, 0, 0], [-1, 1, 0, 1, -1, 0, 0, -1, -1], [1, 1, -1, 1, 0, 0, -1, 0, 0], [0, -1, 0, -1, 1, -1, 0, 0, 0], [0, 0, 1, -1, -1, 1, 0, -1, -1]  …  [0, 0, 0, 0, 0, 1, 0, 1, 1], [-1, 0, -1, 1, 1, 1, -1, 1, 1], [0, 0, 0, 0, 1, 1, 0, 0, 1], [1, 0, 0, 1, -1, -1, 1, -1, 0], [1, 0, 0, -1, 0, 0, 0, 0, 1], [1, 0, -1, -1, -1, -1, 0, 1, -1], [-1, -1, -1, 0, -1, 1, -1, 0, 1], [1, 0, 1, 0, 0, 0, 1, 1, 1], [1, 0, -1, 0, 1, -1, -1, 1, 0], [-1, 1, 1, 0, -1, 0, 0, -1, -1], [1, -1, 0, 1, -1, 0, -1, 0, -1]]))"
      ]
     },
     "execution_count": 16,
     "metadata": {},
     "output_type": "execute_result"
    }
   ],
   "source": [
    "@time (p, v)=allprobsn(xs, ss, 9)"
   ]
  },
  {
   "cell_type": "code",
   "execution_count": 17,
   "metadata": {},
   "outputs": [
    {
     "data": {
      "text/plain": [
       "17"
      ]
     },
     "execution_count": 17,
     "metadata": {},
     "output_type": "execute_result"
    }
   ],
   "source": [
    "length(v3)"
   ]
  },
  {
   "cell_type": "code",
   "execution_count": 18,
   "metadata": {},
   "outputs": [
    {
     "name": "stdout",
     "output_type": "stream",
     "text": [
      "  1.032252 seconds (10.34 M allocations: 1.084 GiB, 18.36% gc time)\n"
     ]
    },
    {
     "data": {
      "text/plain": [
       "(Dict{Array,Float64}([0, 0, 0, 0, 0, 0, -1, -1, -1, -1, -1]=>0.000867303,[-1, 0, 0, 0, -1, 0, 0, 0, 0, 0, 0]=>0.000867303,[-1, -1, -1, 0, 0, 0, -1, 0, 0, 0, 0]=>0.000867303,[0, 0, 0, 0, 0, 0, 0, 0, -1, 0, 0]=>0.000867303,[0, 0, 0, 0, 0, 0, 0, 0, 0, -1, 0]=>0.000867303,[0, 0, 0, 0, 0, -1, -1, -1, -1, -1, -1]=>0.000867303,[-1, -1, -1, -1, -1, -1, -1, -1, -1, -1, -1]=>0.028621,[0, 0, 0, 0, 0, 0, 0, 0, 0, -1, -1]=>0.000867303,[0, 0, 0, 0, 0, 0, 0, 0, 0, 1, 0]=>0.000867303,[0, 0, 0, -1, 0, 0, 0, 0, 0, 0, 0]=>0.00173461…), Set(Any[[0, 0, 0, -1, -1, -1, 0, 0, 1, 0, 0], [0, 0, 0, 1, 0, 0, 1, 0, 0, 0, 0], [0, 0, 0, 0, 0, 0, -1, 0, 0, 1, 0], [-1, 0, 0, -1, 0, 0, 0, -1, 0, 0, 1], [0, -1, 0, 0, 0, 1, 0, 0, 0, -1, 0], [0, 0, 0, 0, 1, 0, 0, 1, 0, 0, 1], [1, 0, 0, -1, 0, 0, 1, 0, 0, -1, -1], [0, 0, 0, -1, -1, -1, -1, -1, 0, 0, 0], [-1, 0, 0, 0, 0, 1, 0, 0, 0, 0, 0], [0, -1, 0, 0, -1, -1, 0, 0, -1, -1, -1]  …  [0, 1, 0, 0, 0, -1, -1, 0, 0, -1, -1], [-1, -1, -1, -1, 0, 0, -1, -1, -1, 0, 0], [0, 0, 0, -1, 0, 0, 1, 0, 0, -1, 0], [1, 0, 0, 0, -1, -1, 0, 0, 0, 0, 1], [1, 0, 0, 0, 1, 0, 0, 1, 0, 0, -1], [-1, -1, -1, -1, 0, 0, 0, 0, -1, -1, -1], [0, 0, 1, 0, 0, 0, 1, 0, 0, 0, -1], [-1, -1, -1, 0, 0, 0, 0, -1, -1, 0, 0], [0, 0, 0, 0, 1, 0, 0, 0, 0, 0, 1], [0, -1, 0, 0, -1, -1, -1, 0, 0, 0, -1], [0, 0, -1, 0, 0, -1, -1, 0, 0, -1, 0]]))"
      ]
     },
     "execution_count": 18,
     "metadata": {},
     "output_type": "execute_result"
    }
   ],
   "source": [
    "@time (ar, ir)=allprobsn(xs, ss,11, v3)"
   ]
  },
  {
   "cell_type": "code",
   "execution_count": 19,
   "metadata": {},
   "outputs": [
    {
     "data": {
      "text/plain": [
       "shanonH_n (generic function with 3 methods)"
      ]
     },
     "execution_count": 19,
     "metadata": {},
     "output_type": "execute_result"
    }
   ],
   "source": [
    "function shanonH_n(xxs, ss, n)\n",
    "    (probs, v)=allprobsn(xxs,ss,n)\n",
    "    h=0\n",
    "    for q in values(probs)\n",
    "        if q>0.00001\n",
    "            h+=q*log(q)\n",
    "        end\n",
    "    end\n",
    "    result=-h/n\n",
    "    return result\n",
    "end\n",
    "\n",
    "function shanonH_n(xxs, ss, n, v)\n",
    "    (probs, v)=allprobsn(xxs,ss,n, v)\n",
    "    h=0\n",
    "    for q in values(probs)\n",
    "        if q>0.00001\n",
    "            h+=q*log(q)\n",
    "        end\n",
    "    end\n",
    "    result=-h/n\n",
    "    return result\n",
    "end\n",
    "\n",
    "function shanonH_n(probs,n)\n",
    "    #meter un dict con probs>0 porfis\n",
    "    h=0\n",
    "    for q in values(probs)\n",
    "        h+=q*log(q)\n",
    "    end\n",
    "    result=-h/n\n",
    "    return result\n",
    "end"
   ]
  },
  {
   "cell_type": "code",
   "execution_count": 20,
   "metadata": {},
   "outputs": [
    {
     "data": {
      "text/plain": [
       "359"
      ]
     },
     "execution_count": 20,
     "metadata": {},
     "output_type": "execute_result"
    }
   ],
   "source": [
    "lmax=length(cresp)"
   ]
  },
  {
   "cell_type": "code",
   "execution_count": 21,
   "metadata": {},
   "outputs": [
    {
     "data": {
      "text/plain": [
       "6.425158561694472"
      ]
     },
     "execution_count": 21,
     "metadata": {},
     "output_type": "execute_result"
    }
   ],
   "source": [
    "log(3, nmax)"
   ]
  },
  {
   "cell_type": "code",
   "execution_count": null,
   "metadata": {},
   "outputs": [],
   "source": [
    "hhsn=Dict{Array{Int, 1}, Array{Float64,1}}()\n",
    "hhsn2=Dict{Array{Int, 1}, Array{Float64,1}}()\n",
    "arbol=Dict{Array{Int,1}, Dict{Int, Array}}()\n",
    "nn=7\n",
    "@time for c in cresp\n",
    "        reng=c[1]\n",
    "        col=c[2]\n",
    "        xs=csdsymb[reng,col,:]\n",
    "        hhsn[c]=zeros(nn)\n",
    "        arbol[c]=Dict{Int, Array}()\n",
    "    for n=1:nn\n",
    "            v=Set()\n",
    "        if n<4\n",
    "            probs, v= allprobsn(xs, ss,n)\n",
    "        else\n",
    "            probs, v2= allprobsn(xs, ss,n, v)\n",
    "        end\n",
    "            buenas=collect(keys(probs))\n",
    "            arbol[[reng, col]][n]=buenas\n",
    "        hhsn[[reng,col]][n]=shanonH_n(probs,n)\n",
    "            \n",
    "    end\n",
    "\n",
    "    \n",
    "end\n"
   ]
  },
  {
   "cell_type": "code",
   "execution_count": null,
   "metadata": {},
   "outputs": [],
   "source": [
    "arbex=arbol[[26,39]]"
   ]
  },
  {
   "cell_type": "code",
   "execution_count": null,
   "metadata": {},
   "outputs": [],
   "source": [
    "ramerio=Subarbol[]\n",
    "for n=1:nn-1\n",
    "    for a in arbex[n]\n",
    "        nodito=Nodo(a)\n",
    "        jijov=Nodo[]\n",
    "        arbolillo=Subarbol(nodito,jijov)\n",
    "        for b in arbex[n+1]\n",
    "            if a==b[1:end-1] # si b pro\n",
    "                ramita=Nodo(b)\n",
    "                push!(arbolillo.hijos, ramita)\n",
    "            end\n",
    "        end\n",
    "        push!(ramerio,arbolillo)\n",
    "    end\n",
    "end\n",
    "\n",
    "arbolfull=Arbol(ramerio)"
   ]
  },
  {
   "cell_type": "code",
   "execution_count": null,
   "metadata": {},
   "outputs": [],
   "source": [
    "grafodelArbol=walk_tree(arbolfull)"
   ]
  },
  {
   "cell_type": "code",
   "execution_count": null,
   "metadata": {},
   "outputs": [],
   "source": []
  },
  {
   "cell_type": "code",
   "execution_count": null,
   "metadata": {},
   "outputs": [],
   "source": [
    "sum3n(n)=Int32(3/2*(-1+3^n))"
   ]
  },
  {
   "cell_type": "code",
   "execution_count": null,
   "metadata": {},
   "outputs": [],
   "source": [
    "function trescodifica(xxs)\n",
    "    #Convierte tus strings raros en un entero como si fuera ternario\n",
    "    # con las cifras 0,1,2 (que son las que tienes +1)\n",
    "    ll=length(xxs)\n",
    "    r=0\n",
    "    for j=1:ll\n",
    "       a=xxs[j]+1\n",
    "       r+=3^(ll-j)*a\n",
    "    end\n",
    "    return r\n",
    "end"
   ]
  },
  {
   "cell_type": "code",
   "execution_count": null,
   "metadata": {},
   "outputs": [],
   "source": [
    "function codanumero(xxs)\n",
    "    ll=length(xxs)\n",
    "    naux=sum3n(ll-1)\n",
    "    bla=trescodifica(xxs)\n",
    "    r=bla+naux+1 # la raiz en realidad es \"ningun signo\"\n",
    "    return r\n",
    "end"
   ]
  },
  {
   "cell_type": "code",
   "execution_count": null,
   "metadata": {},
   "outputs": [],
   "source": [
    "bl=[-1,-1,0,1,0]"
   ]
  },
  {
   "cell_type": "code",
   "execution_count": null,
   "metadata": {},
   "outputs": [],
   "source": [
    "codanumero(bl)"
   ]
  },
  {
   "cell_type": "code",
   "execution_count": null,
   "metadata": {},
   "outputs": [],
   "source": [
    "trescodifica(bl)"
   ]
  },
  {
   "cell_type": "code",
   "execution_count": null,
   "metadata": {},
   "outputs": [],
   "source": [
    "nredu"
   ]
  },
  {
   "cell_type": "code",
   "execution_count": null,
   "metadata": {},
   "outputs": [],
   "source": [
    "arbex=arbol[[23,43]]\n",
    "for a in arbol[[23,43]][2]\n",
    "    print(a, \" \")\n",
    "end"
   ]
  },
  {
   "cell_type": "code",
   "execution_count": null,
   "metadata": {},
   "outputs": [],
   "source": [
    "nredu=3\n",
    "nodosmax=sum3n(nredu)\n",
    "adja=zeros(Int8,nodosmax,nodosmax);\n",
    "println(nodosmax)"
   ]
  },
  {
   "cell_type": "code",
   "execution_count": null,
   "metadata": {},
   "outputs": [],
   "source": [
    "for n=1:nredu-1\n",
    "    for a in arbex[n]\n",
    "        acode=codanumero(a)\n",
    "        for b in arbex[n+1]\n",
    "            bcode=codanumero(b)\n",
    "            if a==b[1:end-1] # si b proviene de a mas un sufijo \n",
    "                print(\"a=\",a, \" b=\",b, \" acode=\", acode, \" bcode=\",bcode, \". \\n\")\n",
    "                adja[acode,bcode]=1\n",
    "            end\n",
    "        end\n",
    "    end\n",
    "end\n",
    "\n"
   ]
  },
  {
   "cell_type": "code",
   "execution_count": null,
   "metadata": {
    "collapsed": true
   },
   "outputs": [],
   "source": [
    "etiquetas=Dict{Int64, String}()\n",
    "for n=1:nredu\n",
    "    for a in arbex[n]\n",
    "        cod=codanumero(a)\n",
    "        etiquetas[cod]=string(a)\n",
    "    end\n",
    "end\n"
   ]
  },
  {
   "cell_type": "code",
   "execution_count": null,
   "metadata": {},
   "outputs": [],
   "source": [
    "etiquetas"
   ]
  },
  {
   "cell_type": "code",
   "execution_count": null,
   "metadata": {
    "collapsed": true
   },
   "outputs": [],
   "source": [
    "adja=adja+adja';"
   ]
  },
  {
   "cell_type": "code",
   "execution_count": null,
   "metadata": {
    "collapsed": true
   },
   "outputs": [],
   "source": [
    "pp=plot(key=false)\n",
    "b=1:nn\n",
    "for k in keys(hhsn)\n",
    "    y=hhsn[k]\n",
    "    scatter!(pp, b, y)\n",
    "end"
   ]
  },
  {
   "cell_type": "code",
   "execution_count": null,
   "metadata": {},
   "outputs": [],
   "source": [
    "pp"
   ]
  },
  {
   "cell_type": "code",
   "execution_count": null,
   "metadata": {
    "collapsed": true
   },
   "outputs": [],
   "source": [
    "xxx=[]\n",
    "yyy=[]\n",
    "gord1=[]\n",
    "gord2=[]\n",
    "for k in keys(hhsn)\n",
    "    push!(xxx, k[2])\n",
    "    push!(yyy, k[1])\n",
    "    push!(gord1, hhsn[k][1])\n",
    "    push!(gord2, hhsn[k][end])\n",
    "end\n",
    "    "
   ]
  },
  {
   "cell_type": "code",
   "execution_count": null,
   "metadata": {},
   "outputs": [],
   "source": [
    "ppp=heatmap(csd[:,:,160], aspect_ratio=1, clims=(-20,20))\n",
    "scatter!(xxx, yyy, markersize=gord1.*20, label=\"H_1\", markeralpha=gord1)\n",
    "scatter!(xxx, yyy, markersize=gord2.*20, label=\"H_8\")\n"
   ]
  },
  {
   "cell_type": "code",
   "execution_count": null,
   "metadata": {},
   "outputs": [],
   "source": [
    "retr+lat"
   ]
  },
  {
   "cell_type": "code",
   "execution_count": null,
   "metadata": {
    "collapsed": true
   },
   "outputs": [],
   "source": [
    "using LightGraphs, GraphPlot"
   ]
  },
  {
   "cell_type": "code",
   "execution_count": null,
   "metadata": {},
   "outputs": [],
   "source": [
    "using TikzGraphs"
   ]
  },
  {
   "cell_type": "code",
   "execution_count": null,
   "metadata": {},
   "outputs": [],
   "source": [
    "TikzGraphs.plot(arg)"
   ]
  },
  {
   "cell_type": "code",
   "execution_count": null,
   "metadata": {},
   "outputs": [],
   "source": [
    "arg=Graph(A)"
   ]
  },
  {
   "cell_type": "code",
   "execution_count": null,
   "metadata": {},
   "outputs": [],
   "source": [
    "TikzGraphs.plot(arg)"
   ]
  },
  {
   "cell_type": "code",
   "execution_count": null,
   "metadata": {},
   "outputs": [],
   "source": [
    "rem_vertex!(arg, 5)"
   ]
  },
  {
   "cell_type": "code",
   "execution_count": null,
   "metadata": {},
   "outputs": [],
   "source": [
    "TikzGraphs.plot(arg)"
   ]
  },
  {
   "cell_type": "code",
   "execution_count": null,
   "metadata": {},
   "outputs": [],
   "source": [
    "arbol1=Graph(adja)"
   ]
  },
  {
   "cell_type": "code",
   "execution_count": null,
   "metadata": {},
   "outputs": [],
   "source": [
    "palos=edges(arbol1)"
   ]
  },
  {
   "cell_type": "code",
   "execution_count": null,
   "metadata": {
    "collapsed": true
   },
   "outputs": [],
   "source": [
    "nodos=collect(vertices(arbol1));\n"
   ]
  },
  {
   "cell_type": "code",
   "execution_count": null,
   "metadata": {
    "collapsed": true
   },
   "outputs": [],
   "source": []
  },
  {
   "cell_type": "code",
   "execution_count": null,
   "metadata": {},
   "outputs": [],
   "source": [
    "arbol1podado=Graph()"
   ]
  },
  {
   "cell_type": "code",
   "execution_count": null,
   "metadata": {},
   "outputs": [],
   "source": [
    "for q in palos \n",
    "    print(q)\n",
    "    add_edge!(arbol1podado,q)\n",
    "end"
   ]
  },
  {
   "cell_type": "code",
   "execution_count": null,
   "metadata": {},
   "outputs": [],
   "source": [
    "palos[1]"
   ]
  },
  {
   "cell_type": "code",
   "execution_count": null,
   "metadata": {},
   "outputs": [],
   "source": [
    "TikzGraphs.plot(arbol1)"
   ]
  },
  {
   "cell_type": "code",
   "execution_count": null,
   "metadata": {},
   "outputs": [],
   "source": [
    "max1=maximum(aar)\n",
    "max8=maximum(bbr)"
   ]
  },
  {
   "cell_type": "code",
   "execution_count": null,
   "metadata": {},
   "outputs": [],
   "source": [
    "for k in keys(hhsn)\n",
    "    if hhsn[k][1]==min1\n",
    "        print(k, \" es el min de 1 bloque. \")\n",
    "    elseif hhsn[k][1]==max1\n",
    "        print(k, \" es el max de 1 bloque. \")\n",
    "    end\n",
    "   if hhsn[k][8]==min8\n",
    "        print(k, \" es el min de 8 bloque. \")\n",
    "    elseif hhsn[k][8]==max8\n",
    "        print(k, \" es el max de 8 bloque. \")\n",
    "    end\n",
    "end\n"
   ]
  },
  {
   "cell_type": "code",
   "execution_count": null,
   "metadata": {
    "collapsed": true
   },
   "outputs": [],
   "source": [
    "hhsn[:,:,1]==hhsn[:,:,4]"
   ]
  },
  {
   "cell_type": "code",
   "execution_count": null,
   "metadata": {
    "collapsed": true
   },
   "outputs": [],
   "source": [
    "allprobsn(xs, ss, 3)"
   ]
  },
  {
   "cell_type": "code",
   "execution_count": null,
   "metadata": {
    "collapsed": true
   },
   "outputs": [],
   "source": [
    "ss=[-1,0,1]\n",
    "bla=[[q, j] for q in ss, j in ss ]"
   ]
  },
  {
   "cell_type": "code",
   "execution_count": null,
   "metadata": {},
   "outputs": [],
   "source": [
    "struct ONodo\n",
    "    mesmo\n",
    "end\n",
    "a=ONodo(1)"
   ]
  },
  {
   "cell_type": "code",
   "execution_count": null,
   "metadata": {},
   "outputs": [],
   "source": [
    "?Nodo"
   ]
  },
  {
   "cell_type": "code",
   "execution_count": null,
   "metadata": {
    "collapsed": true
   },
   "outputs": [],
   "source": [
    "struct fobar\n",
    "    fo\n",
    "    bar\n",
    "end"
   ]
  },
  {
   "cell_type": "code",
   "execution_count": null,
   "metadata": {},
   "outputs": [],
   "source": [
    "a=fobar(1,2)"
   ]
  },
  {
   "cell_type": "code",
   "execution_count": null,
   "metadata": {},
   "outputs": [],
   "source": [
    "problock(xs, [1]) , problock(xs, [0]),problock(xs, [-1])"
   ]
  },
  {
   "cell_type": "code",
   "execution_count": null,
   "metadata": {
    "collapsed": true
   },
   "outputs": [],
   "source": []
  },
  {
   "cell_type": "code",
   "execution_count": null,
   "metadata": {
    "collapsed": true
   },
   "outputs": [],
   "source": [
    "heatmap(sumsym, aspect_ratio=1)"
   ]
  },
  {
   "cell_type": "code",
   "execution_count": null,
   "metadata": {
    "collapsed": true
   },
   "outputs": [],
   "source": [
    "?heatmap"
   ]
  },
  {
   "cell_type": "code",
   "execution_count": null,
   "metadata": {},
   "outputs": [],
   "source": [
    "a=[0,1]\n",
    "n=[0, 1]\n",
    "z=[1,1,0]\n",
    "z2=[1,0,1]"
   ]
  },
  {
   "cell_type": "code",
   "execution_count": null,
   "metadata": {},
   "outputs": [],
   "source": [
    "@time issubvec(a, z2)"
   ]
  },
  {
   "cell_type": "code",
   "execution_count": null,
   "metadata": {},
   "outputs": [],
   "source": [
    "@inbounds"
   ]
  },
  {
   "cell_type": "code",
   "execution_count": null,
   "metadata": {},
   "outputs": [],
   "source": [
    "as=string(a)"
   ]
  },
  {
   "cell_type": "code",
   "execution_count": null,
   "metadata": {
    "collapsed": true
   },
   "outputs": [],
   "source": []
  }
 ],
 "metadata": {
  "@webio": {
   "lastCommId": null,
   "lastKernelId": null
  },
  "kernelspec": {
   "display_name": "Julia 1.0.3",
   "language": "julia",
   "name": "julia-1.0"
  },
  "language_info": {
   "file_extension": ".jl",
   "mimetype": "application/julia",
   "name": "julia",
   "version": "1.0.3"
  }
 },
 "nbformat": 4,
 "nbformat_minor": 2
}
