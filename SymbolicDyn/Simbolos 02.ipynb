{
 "cells": [
  {
   "cell_type": "code",
   "execution_count": 1,
   "metadata": {},
   "outputs": [
    {
     "name": "stderr",
     "output_type": "stream",
     "text": [
      "┌ Info: Recompiling stale cache file /home/karel/.julia/compiled/v1.0/ArbolGrafosTikz.ji for ArbolGrafosTikz [top-level]\n",
      "└ @ Base loading.jl:1190\n",
      "WARNING: using ArbolGrafosTikz.ArbolGrafosTikz in module Main conflicts with an existing identifier.\n"
     ]
    },
    {
     "ename": "ErrorException",
     "evalue": "importing ArbolGrafosTikz into Main conflicts with an existing identifier",
     "output_type": "error",
     "traceback": [
      "importing ArbolGrafosTikz into Main conflicts with an existing identifier",
      "",
      "Stacktrace:",
      " [1] top-level scope at In[1]:6"
     ]
    }
   ],
   "source": [
    "using JLD, Plots\n",
    "using HDF5\n",
    "using Base.Iterators\n",
    "push!(LOAD_PATH,\".\")\n",
    "include(\"ArbolGrafosTikz.jl\")\n",
    "using ArbolGrafosTikz\n",
    "\n",
    "gr()"
   ]
  },
  {
   "cell_type": "code",
   "execution_count": 2,
   "metadata": {},
   "outputs": [],
   "source": [
    "arxname=\"../JLDFiles/Evocada/control1/LFP_Promedio_est_con5.jld\"\n",
    "datos=load(arxname)\n",
    "csd=datos[\"kCSDCorrecta\"]\n",
    "freq=datos[\"freq\"]\n",
    "retr=datos[\"retrazo\"]\n",
    "lat=datos[\"latencia\"]\n",
    "cresp=datos[\"Canalesrespuesta\"]\n",
    "csatu=datos[\"CanalesSaturados\"];"
   ]
  },
  {
   "cell_type": "code",
   "execution_count": 3,
   "metadata": {},
   "outputs": [
    {
     "data": {
      "text/plain": [
       "3-element Array{Int64,1}:\n",
       " -1\n",
       "  0\n",
       "  1"
      ]
     },
     "execution_count": 3,
     "metadata": {},
     "output_type": "execute_result"
    }
   ],
   "source": [
    "(h,w,nmax)=size(csd)\n",
    "epsi=21\n",
    "  ss=[-1,0,1]"
   ]
  },
  {
   "cell_type": "code",
   "execution_count": 4,
   "metadata": {},
   "outputs": [
    {
     "data": {
      "text/plain": [
       "(64, 64, 1163)"
      ]
     },
     "execution_count": 4,
     "metadata": {},
     "output_type": "execute_result"
    }
   ],
   "source": [
    "size(csd)"
   ]
  },
  {
   "cell_type": "code",
   "execution_count": 5,
   "metadata": {},
   "outputs": [
    {
     "data": {
      "text/plain": [
       "170.56650615657293"
      ]
     },
     "execution_count": 5,
     "metadata": {},
     "output_type": "execute_result"
    }
   ],
   "source": [
    "retr+lat+3*freq"
   ]
  },
  {
   "cell_type": "code",
   "execution_count": 6,
   "metadata": {},
   "outputs": [
    {
     "data": {
      "text/plain": [
       "581.7767582987807"
      ]
     },
     "execution_count": 6,
     "metadata": {},
     "output_type": "execute_result"
    }
   ],
   "source": [
    "maximum(csd[:,:,117:end])"
   ]
  },
  {
   "cell_type": "code",
   "execution_count": 7,
   "metadata": {},
   "outputs": [
    {
     "data": {
      "text/plain": [
       "Base.KeySet for a Dict{String,Any} with 10 entries. Keys:\n",
       "  \"Canalesrespuesta\"\n",
       "  \"KTT_KInv\"\n",
       "  \"freq\"\n",
       "  \"latencia\"\n",
       "  \"kCSDCorrecta\"\n",
       "  \"retrazo\"\n",
       "  \"Nota\"\n",
       "  \"LFPSaturados\"\n",
       "  \"final\"\n",
       "  \"CanalesSaturados\""
      ]
     },
     "execution_count": 7,
     "metadata": {},
     "output_type": "execute_result"
    }
   ],
   "source": [
    "keys(datos)"
   ]
  },
  {
   "cell_type": "code",
   "execution_count": 8,
   "metadata": {},
   "outputs": [
    {
     "data": {
      "text/plain": [
       "simboliza (generic function with 2 methods)"
      ]
     },
     "execution_count": 8,
     "metadata": {},
     "output_type": "execute_result"
    }
   ],
   "source": [
    "function simboliza(x, delta=epsi)\n",
    "    result=0\n",
    "    if x>delta\n",
    "        result=1\n",
    "    elseif x< -delta\n",
    "        result=-1\n",
    "    else\n",
    "        result=0\n",
    "    end\n",
    "    return result\n",
    "end"
   ]
  },
  {
   "cell_type": "code",
   "execution_count": 9,
   "metadata": {
    "collapsed": true
   },
   "outputs": [],
   "source": [
    "csdsymb=map(x->simboliza(x), csd);"
   ]
  },
  {
   "cell_type": "code",
   "execution_count": 10,
   "metadata": {},
   "outputs": [
    {
     "data": {
      "text/plain": [
       "1-element Array{Int64,1}:\n",
       " 1"
      ]
     },
     "execution_count": 10,
     "metadata": {},
     "output_type": "execute_result"
    }
   ],
   "source": [
    "xs=csdsymb[16,28,:];\n",
    "ys=[1]"
   ]
  },
  {
   "cell_type": "code",
   "execution_count": 11,
   "metadata": {},
   "outputs": [
    {
     "data": {
      "text/plain": [
       "problock (generic function with 1 method)"
      ]
     },
     "execution_count": 11,
     "metadata": {},
     "output_type": "execute_result"
    }
   ],
   "source": [
    "function problock(xxs::Array, yys::Array)\n",
    "    # calculamos la prob exp de encontrar el array yys en el array xxs\n",
    "    lx=length(xxs)\n",
    "    ly=length(yys)\n",
    "    lp=lx-ly+1\n",
    "    result=0\n",
    "    if(lx<ly)\n",
    "        error(\"tuabueliuta\")\n",
    "    else\n",
    "        for j=1:lp\n",
    "            if xxs[j:j+ly-1]==yys\n",
    "                result+=1\n",
    "            end\n",
    "        end\n",
    "    end\n",
    "    return result/lp\n",
    "end"
   ]
  },
  {
   "cell_type": "code",
   "execution_count": 12,
   "metadata": {},
   "outputs": [
    {
     "data": {
      "text/plain": [
       "ncartprod (generic function with 1 method)"
      ]
     },
     "execution_count": 12,
     "metadata": {},
     "output_type": "execute_result"
    }
   ],
   "source": [
    "function ncartprod(ss, n)\n",
    "    argumento=ntuple(i->ss, n)\n",
    "    result=product(argumento...)\n",
    "    return(result)\n",
    "end"
   ]
  },
  {
   "cell_type": "code",
   "execution_count": 13,
   "metadata": {},
   "outputs": [
    {
     "data": {
      "text/plain": [
       "issubvec (generic function with 1 method)"
      ]
     },
     "execution_count": 13,
     "metadata": {},
     "output_type": "execute_result"
    }
   ],
   "source": [
    "# con permiso de StackOverflow oooo.key takes lot to compile!\n",
    "issubvec(v,big) = any([v == big[i:(i+length(v)-1)] for i=1:(length(big)-length(v)+1)])"
   ]
  },
  {
   "cell_type": "code",
   "execution_count": 14,
   "metadata": {},
   "outputs": [
    {
     "data": {
      "text/plain": [
       "allprobsn (generic function with 2 methods)"
      ]
     },
     "execution_count": 14,
     "metadata": {},
     "output_type": "execute_result"
    }
   ],
   "source": [
    "function allprobsn(xxs, ss, n)\n",
    "    result=Dict{Array, Float64}()\n",
    "    palabras=ncartprod(ss, n)\n",
    "    malas=Set()\n",
    "    for p in palabras\n",
    "        pr=[p...]\n",
    "        aux=problock(xxs, pr)\n",
    "        if aux>0\n",
    "            result[pr]= aux\n",
    "        else\n",
    "            push!(malas, pr)\n",
    "        end\n",
    "    end\n",
    "    return (result, malas)\n",
    "end\n",
    "\n",
    "\n",
    "function allprobsn(xxs, ss, n, vacias)\n",
    "    \n",
    "    #ush tambien muy ineficiente. Sigue siendo mejor buscar a lo pendejo???\n",
    "            result=Dict{Array, Float64}()\n",
    "    palabras=ncartprod(ss, n)\n",
    "    malas=Set()\n",
    "    for p in palabras\n",
    "        pr=[p...]\n",
    "        tanteada=any(issubvec(v, pr) for v in vacias)\n",
    "        if tanteada\n",
    "         #   print(pr, \" esta tanteada!!  \")\n",
    "            aux=0\n",
    "        else\n",
    "            aux=problock(xxs, pr)\n",
    "            if aux>0\n",
    "                result[pr]= aux\n",
    "            else\n",
    "                push!(malas, pr)\n",
    "            end\n",
    "        end # sobre tanteada\n",
    "    end #sobre palabras\n",
    "    return (result, malas)\n",
    "end"
   ]
  },
  {
   "cell_type": "markdown",
   "metadata": {},
   "source": [
    "Haciendo pruebas, al parecer matar el conjunto de malas con entre 3 y 4 letras es la forma más rapida. Ya despues de eso tiene que revisar palabrerias tan largas que no conviene."
   ]
  },
  {
   "cell_type": "code",
   "execution_count": 15,
   "metadata": {},
   "outputs": [
    {
     "name": "stdout",
     "output_type": "stream",
     "text": [
      "  0.351561 seconds (855.07 k allocations: 44.928 MiB, 3.78% gc time)\n"
     ]
    },
    {
     "data": {
      "text/plain": [
       "(Dict{Array,Float64}([-1, -1, 0]=>0.000861326,[0, -1, -1]=>0.000861326,[0, 0, 0]=>0.953488,[0, -1, 0]=>0.00172265,[-1, 0, 0]=>0.00258398,[1, 0, 0]=>0.000861326,[0, 0, -1]=>0.00258398,[-1, -1, -1]=>0.0353144,[0, 0, 1]=>0.000861326,[0, 1, 0]=>0.000861326…), Set(Any[[1, -1, -1], [-1, 1, 1], [-1, 1, 0], [-1, 0, -1], [1, 0, -1], [1, 0, 1], [-1, -1, 1], [1, 1, 1], [1, -1, 0], [0, 1, -1], [-1, 0, 1], [1, -1, 1], [1, 1, -1], [1, 1, 0], [0, -1, 1], [-1, 1, -1], [0, 1, 1]]))"
      ]
     },
     "execution_count": 15,
     "metadata": {},
     "output_type": "execute_result"
    }
   ],
   "source": [
    "@time (p, v3)=allprobsn(xs, ss, 3)"
   ]
  },
  {
   "cell_type": "code",
   "execution_count": 16,
   "metadata": {},
   "outputs": [
    {
     "name": "stdout",
     "output_type": "stream",
     "text": [
      "  2.029072 seconds (23.28 M allocations: 3.419 GiB, 26.02% gc time)\n"
     ]
    },
    {
     "data": {
      "text/plain": [
       "(Dict{Array,Float64}([0, 0, 0, 0, 0, 0, 0, 0, -1]=>0.0017316,[0, 0, 0, 0, 0, -1, 0, 0, 0]=>0.000865801,[0, 0, 0, 0, 0, 0, -1, 0, 0]=>0.000865801,[0, -1, 0, 0, 0, 0, 0, 0, 0]=>0.0017316,[-1, -1, 0, 0, 0, -1, 0, 0, 0]=>0.000865801,[0, 0, 0, 0, 0, 0, 0, 1, 0]=>0.000865801,[-1, -1, -1, -1, -1, -1, -1, -1, 0]=>0.000865801,[0, 0, -1, 0, 0, 0, 0, 0, 0]=>0.0017316,[0, 0, 0, 1, 0, 0, 0, 0, 0]=>0.000865801,[0, 0, 0, 0, 0, 0, 0, -1, -1]=>0.000865801…), Set(Any[[0, -1, -1, 1, 0, -1, 1, 0, -1], [-1, 0, 0, 0, -1, -1, -1, -1, 0], [1, 0, 1, 0, -1, -1, 0, -1, 1], [-1, -1, 0, 1, 1, 1, 1, 1, -1], [-1, 1, 0, 1, -1, -1, 1, 1, 0], [1, 0, -1, -1, -1, 1, 1, 0, 0], [-1, 1, 0, 1, -1, 0, 0, -1, -1], [1, 1, -1, 1, 0, 0, -1, 0, 0], [0, -1, 0, -1, 1, -1, 0, 0, 0], [0, 0, 1, -1, -1, 1, 0, -1, -1]  …  [0, 0, 0, 0, 0, 1, 0, 1, 1], [-1, 0, -1, 1, 1, 1, -1, 1, 1], [0, 0, 0, 0, 1, 1, 0, 0, 1], [1, 0, 0, 1, -1, -1, 1, -1, 0], [1, 0, 0, -1, 0, 0, 0, 0, 1], [1, 0, -1, -1, -1, -1, 0, 1, -1], [-1, -1, -1, 0, -1, 1, -1, 0, 1], [1, 0, 1, 0, 0, 0, 1, 1, 1], [1, 0, -1, 0, 1, -1, -1, 1, 0], [-1, 1, 1, 0, -1, 0, 0, -1, -1], [1, -1, 0, 1, -1, 0, -1, 0, -1]]))"
      ]
     },
     "execution_count": 16,
     "metadata": {},
     "output_type": "execute_result"
    }
   ],
   "source": [
    "@time (p, v)=allprobsn(xs, ss, 9)"
   ]
  },
  {
   "cell_type": "code",
   "execution_count": 17,
   "metadata": {},
   "outputs": [
    {
     "data": {
      "text/plain": [
       "17"
      ]
     },
     "execution_count": 17,
     "metadata": {},
     "output_type": "execute_result"
    }
   ],
   "source": [
    "length(v3)"
   ]
  },
  {
   "cell_type": "code",
   "execution_count": 18,
   "metadata": {},
   "outputs": [
    {
     "name": "stdout",
     "output_type": "stream",
     "text": [
      "  1.032252 seconds (10.34 M allocations: 1.084 GiB, 18.36% gc time)\n"
     ]
    },
    {
     "data": {
      "text/plain": [
       "(Dict{Array,Float64}([0, 0, 0, 0, 0, 0, -1, -1, -1, -1, -1]=>0.000867303,[-1, 0, 0, 0, -1, 0, 0, 0, 0, 0, 0]=>0.000867303,[-1, -1, -1, 0, 0, 0, -1, 0, 0, 0, 0]=>0.000867303,[0, 0, 0, 0, 0, 0, 0, 0, -1, 0, 0]=>0.000867303,[0, 0, 0, 0, 0, 0, 0, 0, 0, -1, 0]=>0.000867303,[0, 0, 0, 0, 0, -1, -1, -1, -1, -1, -1]=>0.000867303,[-1, -1, -1, -1, -1, -1, -1, -1, -1, -1, -1]=>0.028621,[0, 0, 0, 0, 0, 0, 0, 0, 0, -1, -1]=>0.000867303,[0, 0, 0, 0, 0, 0, 0, 0, 0, 1, 0]=>0.000867303,[0, 0, 0, -1, 0, 0, 0, 0, 0, 0, 0]=>0.00173461…), Set(Any[[0, 0, 0, -1, -1, -1, 0, 0, 1, 0, 0], [0, 0, 0, 1, 0, 0, 1, 0, 0, 0, 0], [0, 0, 0, 0, 0, 0, -1, 0, 0, 1, 0], [-1, 0, 0, -1, 0, 0, 0, -1, 0, 0, 1], [0, -1, 0, 0, 0, 1, 0, 0, 0, -1, 0], [0, 0, 0, 0, 1, 0, 0, 1, 0, 0, 1], [1, 0, 0, -1, 0, 0, 1, 0, 0, -1, -1], [0, 0, 0, -1, -1, -1, -1, -1, 0, 0, 0], [-1, 0, 0, 0, 0, 1, 0, 0, 0, 0, 0], [0, -1, 0, 0, -1, -1, 0, 0, -1, -1, -1]  …  [0, 1, 0, 0, 0, -1, -1, 0, 0, -1, -1], [-1, -1, -1, -1, 0, 0, -1, -1, -1, 0, 0], [0, 0, 0, -1, 0, 0, 1, 0, 0, -1, 0], [1, 0, 0, 0, -1, -1, 0, 0, 0, 0, 1], [1, 0, 0, 0, 1, 0, 0, 1, 0, 0, -1], [-1, -1, -1, -1, 0, 0, 0, 0, -1, -1, -1], [0, 0, 1, 0, 0, 0, 1, 0, 0, 0, -1], [-1, -1, -1, 0, 0, 0, 0, -1, -1, 0, 0], [0, 0, 0, 0, 1, 0, 0, 0, 0, 0, 1], [0, -1, 0, 0, -1, -1, -1, 0, 0, 0, -1], [0, 0, -1, 0, 0, -1, -1, 0, 0, -1, 0]]))"
      ]
     },
     "execution_count": 18,
     "metadata": {},
     "output_type": "execute_result"
    }
   ],
   "source": [
    "@time (ar, ir)=allprobsn(xs, ss,11, v3)"
   ]
  },
  {
   "cell_type": "code",
   "execution_count": 19,
   "metadata": {},
   "outputs": [
    {
     "data": {
      "text/plain": [
       "shanonH_n (generic function with 3 methods)"
      ]
     },
     "execution_count": 19,
     "metadata": {},
     "output_type": "execute_result"
    }
   ],
   "source": [
    "function shanonH_n(xxs, ss, n)\n",
    "    (probs, v)=allprobsn(xxs,ss,n)\n",
    "    h=0\n",
    "    for q in values(probs)\n",
    "        if q>0.00001\n",
    "            h+=q*log(q)\n",
    "        end\n",
    "    end\n",
    "    result=-h/n\n",
    "    return result\n",
    "end\n",
    "\n",
    "function shanonH_n(xxs, ss, n, v)\n",
    "    (probs, v)=allprobsn(xxs,ss,n, v)\n",
    "    h=0\n",
    "    for q in values(probs)\n",
    "        if q>0.00001\n",
    "            h+=q*log(q)\n",
    "        end\n",
    "    end\n",
    "    result=-h/n\n",
    "    return result\n",
    "end\n",
    "\n",
    "function shanonH_n(probs,n)\n",
    "    #meter un dict con probs>0 porfis\n",
    "    h=0\n",
    "    for q in values(probs)\n",
    "        h+=q*log(q)\n",
    "    end\n",
    "    result=-h/n\n",
    "    return result\n",
    "end"
   ]
  },
  {
   "cell_type": "code",
   "execution_count": 20,
   "metadata": {},
   "outputs": [
    {
     "data": {
      "text/plain": [
       "359"
      ]
     },
     "execution_count": 20,
     "metadata": {},
     "output_type": "execute_result"
    }
   ],
   "source": [
    "lmax=length(cresp)"
   ]
  },
  {
   "cell_type": "code",
   "execution_count": 21,
   "metadata": {},
   "outputs": [
    {
     "data": {
      "text/plain": [
       "6.425158561694472"
      ]
     },
     "execution_count": 21,
     "metadata": {},
     "output_type": "execute_result"
    }
   ],
   "source": [
    "log(3, nmax)"
   ]
  },
  {
   "cell_type": "code",
   "execution_count": 22,
   "metadata": {},
   "outputs": [
    {
     "name": "stdout",
     "output_type": "stream",
     "text": [
      "121.402555 seconds (1.37 G allocations: 175.882 GiB, 33.29% gc time)\n"
     ]
    }
   ],
   "source": [
    "hhsn=Dict{Array{Int, 1}, Array{Float64,1}}()\n",
    "hhsn2=Dict{Array{Int, 1}, Array{Float64,1}}()\n",
    "arbol=Dict{Array{Int,1}, Dict{Int, Array}}()\n",
    "nn=7\n",
    "@time for c in cresp\n",
    "        reng=c[1]\n",
    "        col=c[2]\n",
    "        xs=csdsymb[reng,col,:]\n",
    "        hhsn[c]=zeros(nn)\n",
    "        arbol[c]=Dict{Int, Array}()\n",
    "    for n=1:nn\n",
    "            v=Set()\n",
    "        if n<4\n",
    "            probs, v= allprobsn(xs, ss,n)\n",
    "        else\n",
    "            probs, v2= allprobsn(xs, ss,n, v)\n",
    "        end\n",
    "            buenas=collect(keys(probs))\n",
    "            arbol[[reng, col]][n]=buenas\n",
    "        hhsn[[reng,col]][n]=shanonH_n(probs,n)\n",
    "            \n",
    "    end\n",
    "\n",
    "    \n",
    "end\n"
   ]
  },
  {
   "cell_type": "code",
   "execution_count": 23,
   "metadata": {},
   "outputs": [
    {
     "data": {
      "text/plain": [
       "Dict{Int64,Array} with 7 entries:\n",
       "  7 => Array[[1, 1, 1, 1, 1, 1, -1], [1, 1, 1, 1, 1, 1, 1], [1, 0, 0, 0, 0, 0, …\n",
       "  4 => Array[[1, 1, 1, -1], [-1, -1, -1, -1], [1, 1, 1, 1], [0, 0, -1, 0], [0, …\n",
       "  2 => Array[[0, -1], [-1, 0], [-1, -1], [0, 0], [1, 0], [1, -1], [1, 1], [0, 1…\n",
       "  3 => Array[[1, -1, -1], [0, -1, -1], [-1, -1, 0], [0, 0, 0], [1, 1, 1], [0, 1…\n",
       "  5 => Array[[-1, 0, 0, 1, 1], [0, 0, 0, 0, 1], [0, 0, 1, 0, 0], [-1, -1, 0, 0,…\n",
       "  6 => Array[[0, 0, 0, 0, 0, 1], [0, -1, 0, 0, 0, 0], [1, 0, 0, 0, 0, 0], [1, -…\n",
       "  1 => Array[[1], [-1], [0]]"
      ]
     },
     "execution_count": 23,
     "metadata": {},
     "output_type": "execute_result"
    }
   ],
   "source": [
    "arbex=arbol[[26,39]]"
   ]
  },
  {
   "cell_type": "code",
   "execution_count": 28,
   "metadata": {},
   "outputs": [
    {
     "data": {
      "text/plain": [
       "Arbol(Subarbol[Subarbol(Nodo([1]), Nodo[Nodo([1, 0]), Nodo([1, -1]), Nodo([1, 1])]), Subarbol(Nodo([-1]), Nodo[Nodo([-1, 0]), Nodo([-1, -1])]), Subarbol(Nodo([0]), Nodo[Nodo([0, -1]), Nodo([0, 0]), Nodo([0, 1])]), Subarbol(Nodo([0, -1]), Nodo[Nodo([0, -1, -1]), Nodo([0, -1, 0])]), Subarbol(Nodo([-1, 0]), Nodo[Nodo([-1, 0, 0])]), Subarbol(Nodo([-1, -1]), Nodo[Nodo([-1, -1, 0]), Nodo([-1, -1, -1])]), Subarbol(Nodo([0, 0]), Nodo[Nodo([0, 0, 0]), Nodo([0, 0, 1]), Nodo([0, 0, -1])]), Subarbol(Nodo([1, 0]), Nodo[Nodo([1, 0, 0])]), Subarbol(Nodo([1, -1]), Nodo[Nodo([1, -1, -1])]), Subarbol(Nodo([1, 1]), Nodo[Nodo([1, 1, 1]), Nodo([1, 1, -1])])  …  Subarbol(Nodo([0, 0, 0, 1]), Nodo[Nodo([0, 0, 0, 1, 0])]), Subarbol(Nodo([0, 0, 0, 0]), Nodo[Nodo([0, 0, 0, 0, 1]), Nodo([0, 0, 0, 0, -1]), Nodo([0, 0, 0, 0, 0])]), Subarbol(Nodo([0, 0, -1, -1]), Nodo[Nodo([0, 0, -1, -1, -1])]), Subarbol(Nodo([1, 0, 0, 0]), Nodo[Nodo([1, 0, 0, 0, 0])]), Subarbol(Nodo([0, 0, 1, 1]), Nodo[Nodo([0, 0, 1, 1, 1])]), Subarbol(Nodo([1, -1, -1, -1]), Nodo[Nodo([1, -1, -1, -1, -1])]), Subarbol(Nodo([-1, 0, 0, 0]), Nodo[Nodo([-1, 0, 0, 0, 0])]), Subarbol(Nodo([0, -1, 0, 0]), Nodo[Nodo([0, -1, 0, 0, 0])]), Subarbol(Nodo([1, 1, -1, -1]), Nodo[Nodo([1, 1, -1, -1, -1])]), Subarbol(Nodo([-1, -1, 0, 0]), Nodo[Nodo([-1, -1, 0, 0, 1]), Nodo([-1, -1, 0, 0, 0])])])"
      ]
     },
     "execution_count": 28,
     "metadata": {},
     "output_type": "execute_result"
    }
   ],
   "source": [
    "ramerio=Subarbol[]\n",
    "for n=1:4\n",
    "    for a in arbex[n]\n",
    "        nodito=Nodo(a)\n",
    "        jijov=Nodo[]\n",
    "        arbolillo=Subarbol(nodito,jijov)\n",
    "        for b in arbex[n+1]\n",
    "            if a==b[1:end-1] # si b pro\n",
    "                ramita=Nodo(b)\n",
    "                push!(arbolillo.hijos, ramita)\n",
    "            end\n",
    "        end\n",
    "        push!(ramerio,arbolillo)\n",
    "    end\n",
    "end\n",
    "\n",
    "arbolfull=Arbol(ramerio)"
   ]
  },
  {
   "cell_type": "code",
   "execution_count": 29,
   "metadata": {},
   "outputs": [
    {
     "data": {
      "text/plain": [
       "LabelledTree({73, 70} directed simple Int64 graph, Any[[1], [1, 0], [1, -1], [1, 1], [-1], [-1, 0], [-1, -1], [0], [0, -1], [0, 0]  …  [0, 0, 0, 0, 0], [0, 0, -1, -1, -1], [1, 0, 0, 0, 0], [0, 0, 1, 1, 1], [1, -1, -1, -1, -1], [-1, 0, 0, 0, 0], [0, -1, 0, 0, 0], [1, 1, -1, -1, -1], [-1, -1, 0, 0, 1], [-1, -1, 0, 0, 0]])"
      ]
     },
     "execution_count": 29,
     "metadata": {},
     "output_type": "execute_result"
    }
   ],
   "source": [
    "grafodelArbol=walk_tree(arbolfull)"
   ]
  },
  {
   "cell_type": "code",
   "execution_count": 31,
   "metadata": {},
   "outputs": [
    {
     "data": {
      "image/svg+xml": [
       "<?xml version=\"1.0\" encoding=\"UTF-8\"?>\n",
       "<svg xmlns=\"http://www.w3.org/2000/svg\" xmlns:xlink=\"http://www.w3.org/1999/xlink\" width=\"1993.197pt\" height=\"129.989pt\" viewBox=\"0 0 1993.197 129.989\" version=\"1.1\">\n",
       "<defs>\n",
       "<g>\n",
       "<symbol overflow=\"visible\" id=\"glyph-1558463490156206-0-0\">\n",
       "<path style=\"stroke:none;\" d=\"\"/>\n",
       "</symbol>\n",
       "<symbol overflow=\"visible\" id=\"glyph-1558463490156206-0-1\">\n",
       "<path style=\"stroke:none;\" d=\"M 2.546875 2.296875 C 2.546875 2.1875 2.46875 2.09375 2.359375 2.09375 L 1.53125 2.09375 L 1.53125 -7.078125 L 2.359375 -7.078125 C 2.46875 -7.078125 2.546875 -7.171875 2.546875 -7.28125 C 2.546875 -7.390625 2.46875 -7.484375 2.359375 -7.484375 L 1.140625 -7.484375 L 1.140625 2.5 L 2.359375 2.5 C 2.46875 2.5 2.546875 2.40625 2.546875 2.296875 Z M 2.546875 2.296875 \"/>\n",
       "</symbol>\n",
       "<symbol overflow=\"visible\" id=\"glyph-1558463490156206-0-2\">\n",
       "<path style=\"stroke:none;\" d=\"M 4.171875 0 L 4.171875 -0.3125 L 3.859375 -0.3125 C 2.953125 -0.3125 2.9375 -0.421875 2.9375 -0.78125 L 2.9375 -6.375 C 2.9375 -6.625 2.9375 -6.640625 2.703125 -6.640625 C 2.078125 -6 1.203125 -6 0.890625 -6 L 0.890625 -5.6875 C 1.09375 -5.6875 1.671875 -5.6875 2.1875 -5.953125 L 2.1875 -0.78125 C 2.1875 -0.421875 2.15625 -0.3125 1.265625 -0.3125 L 0.953125 -0.3125 L 0.953125 0 C 1.296875 -0.03125 2.15625 -0.03125 2.5625 -0.03125 C 2.953125 -0.03125 3.828125 -0.03125 4.171875 0 Z M 4.171875 0 \"/>\n",
       "</symbol>\n",
       "<symbol overflow=\"visible\" id=\"glyph-1558463490156206-0-3\">\n",
       "<path style=\"stroke:none;\" d=\"M 1.640625 2.5 L 1.640625 -7.484375 L 0.421875 -7.484375 C 0.3125 -7.484375 0.21875 -7.390625 0.21875 -7.28125 C 0.21875 -7.171875 0.3125 -7.078125 0.421875 -7.078125 L 1.234375 -7.078125 L 1.234375 2.09375 L 0.421875 2.09375 C 0.3125 2.09375 0.21875 2.1875 0.21875 2.296875 C 0.21875 2.40625 0.3125 2.5 0.421875 2.5 Z M 1.640625 2.5 \"/>\n",
       "</symbol>\n",
       "<symbol overflow=\"visible\" id=\"glyph-1558463490156206-0-4\">\n",
       "<path style=\"stroke:none;\" d=\"M 2.03125 -0.015625 C 2.03125 -0.671875 1.78125 -1.0625 1.390625 -1.0625 C 1.0625 -1.0625 0.859375 -0.8125 0.859375 -0.53125 C 0.859375 -0.265625 1.0625 0 1.390625 0 C 1.5 0 1.640625 -0.046875 1.734375 -0.125 C 1.765625 -0.15625 1.78125 -0.15625 1.78125 -0.15625 C 1.78125 -0.15625 1.796875 -0.15625 1.796875 -0.015625 C 1.796875 0.734375 1.453125 1.328125 1.125 1.65625 C 1.015625 1.765625 1.015625 1.78125 1.015625 1.8125 C 1.015625 1.890625 1.0625 1.921875 1.109375 1.921875 C 1.21875 1.921875 2.03125 1.15625 2.03125 -0.015625 Z M 2.03125 -0.015625 \"/>\n",
       "</symbol>\n",
       "<symbol overflow=\"visible\" id=\"glyph-1558463490156206-0-5\">\n",
       "<path style=\"stroke:none;\" d=\"M 4.578125 -3.1875 C 4.578125 -3.984375 4.53125 -4.78125 4.1875 -5.515625 C 3.734375 -6.484375 2.90625 -6.640625 2.5 -6.640625 C 1.890625 -6.640625 1.171875 -6.375 0.75 -5.453125 C 0.4375 -4.765625 0.390625 -3.984375 0.390625 -3.1875 C 0.390625 -2.4375 0.421875 -1.546875 0.84375 -0.78125 C 1.265625 0.015625 2 0.21875 2.484375 0.21875 C 3.015625 0.21875 3.78125 0.015625 4.21875 -0.9375 C 4.53125 -1.625 4.578125 -2.40625 4.578125 -3.1875 Z M 3.765625 -3.3125 C 3.765625 -2.5625 3.765625 -1.890625 3.65625 -1.25 C 3.5 -0.296875 2.9375 0 2.484375 0 C 2.09375 0 1.5 -0.25 1.328125 -1.203125 C 1.21875 -1.796875 1.21875 -2.71875 1.21875 -3.3125 C 1.21875 -3.953125 1.21875 -4.609375 1.296875 -5.140625 C 1.484375 -6.328125 2.234375 -6.421875 2.484375 -6.421875 C 2.8125 -6.421875 3.46875 -6.234375 3.65625 -5.25 C 3.765625 -4.6875 3.765625 -3.9375 3.765625 -3.3125 Z M 3.765625 -3.3125 \"/>\n",
       "</symbol>\n",
       "<symbol overflow=\"visible\" id=\"glyph-1558463490156206-0-6\">\n",
       "<path style=\"stroke:none;\" d=\"M 2.75 -1.859375 L 2.75 -2.4375 L 0.109375 -2.4375 L 0.109375 -1.859375 Z M 2.75 -1.859375 \"/>\n",
       "</symbol>\n",
       "</g>\n",
       "</defs>\n",
       "<g id=\"surface1\">\n",
       "<path style=\"fill:none;stroke-width:0.3985;stroke-linecap:butt;stroke-linejoin:miter;stroke:rgb(0%,0%,0%);stroke-opacity:1;stroke-miterlimit:10;\" d=\"M -0.0004375 -8.499781 L -0.0004375 -19.3865 \" transform=\"matrix(1,0,0,-1,255.477,8.301)\"/>\n",
       "<path style=\"fill:none;stroke-width:0.31879;stroke-linecap:round;stroke-linejoin:round;stroke:rgb(0%,0%,0%);stroke-opacity:1;stroke-miterlimit:10;\" d=\"M -1.196123 1.593312 C -1.09456 0.995656 -0.00081 0.101125 0.299971 -0.0004375 C -0.00081 -0.0980938 -1.09456 -0.996531 -1.196123 -1.594188 \" transform=\"matrix(0,1,1,0,255.477,27.68831)\"/>\n",
       "<path style=\"fill:none;stroke-width:0.3985;stroke-linecap:butt;stroke-linejoin:miter;stroke:rgb(0%,0%,0%);stroke-opacity:1;stroke-miterlimit:10;\" d=\"M 8.780812 -5.753687 L 29.909719 -19.593531 \" transform=\"matrix(1,0,0,-1,255.477,8.301)\"/>\n",
       "<path style=\"fill:none;stroke-width:0.31879;stroke-linecap:round;stroke-linejoin:round;stroke:rgb(0%,0%,0%);stroke-opacity:1;stroke-miterlimit:10;\" d=\"M -1.194139 1.594244 C -1.096272 0.996783 0.000104093 0.098334 0.297644 -0.000269259 C -0.00148322 -0.0983817 -1.09506 -0.996454 -1.197169 -1.594463 \" transform=\"matrix(0.83844,0.54924,0.54924,-0.83844,285.38731,27.89489)\"/>\n",
       "<path style=\"fill:none;stroke-width:0.3985;stroke-linecap:butt;stroke-linejoin:miter;stroke:rgb(0%,0%,0%);stroke-opacity:1;stroke-miterlimit:10;\" d=\"M -8.781688 -7.058375 L -24.324656 -19.558375 \" transform=\"matrix(1,0,0,-1,255.477,8.301)\"/>\n",
       "<path style=\"fill:none;stroke-width:0.31879;stroke-linecap:round;stroke-linejoin:round;stroke:rgb(0%,0%,0%);stroke-opacity:1;stroke-miterlimit:10;\" d=\"M -1.194895 1.591798 C -1.0941 0.995497 0.00139136 0.0996022 0.297649 0.00144899 C 0.000892735 -0.100094 -1.0942 -0.99539 -1.195544 -1.59423 \" transform=\"matrix(-0.78087,0.6279,0.6279,0.78087,231.15339,27.85885)\"/>\n",
       "<path style=\"fill:none;stroke-width:0.3985;stroke-linecap:butt;stroke-linejoin:miter;stroke:rgb(0%,0%,0%);stroke-opacity:1;stroke-miterlimit:10;\" d=\"M -0.953563 -36.847437 L -2.176219 -47.738062 \" transform=\"matrix(1,0,0,-1,255.477,8.301)\"/>\n",
       "<path style=\"fill:none;stroke-width:0.31879;stroke-linecap:round;stroke-linejoin:round;stroke:rgb(0%,0%,0%);stroke-opacity:1;stroke-miterlimit:10;\" d=\"M -1.195322 1.593665 C -1.096825 0.995585 0.00166318 0.100925 0.299774 0.000735495 C 0.00056973 -0.0996192 -1.097422 -0.996905 -1.195588 -1.593456 \" transform=\"matrix(-0.11145,0.994,0.994,0.11145,253.30221,56.03788)\"/>\n",
       "<path style=\"fill:none;stroke-width:0.3985;stroke-linecap:butt;stroke-linejoin:miter;stroke:rgb(0%,0%,0%);stroke-opacity:1;stroke-miterlimit:10;\" d=\"M 46.132375 -36.847437 L 49.80425 -47.757594 \" transform=\"matrix(1,0,0,-1,255.477,8.301)\"/>\n",
       "<path style=\"fill:none;stroke-width:0.31879;stroke-linecap:round;stroke-linejoin:round;stroke:rgb(0%,0%,0%);stroke-opacity:1;stroke-miterlimit:10;\" d=\"M -1.195611 1.592431 C -1.096187 0.995432 0.00104374 0.0997415 0.300355 -0.000961743 C -0.000752373 -0.101215 -1.095603 -0.995693 -1.194683 -1.595834 \" transform=\"matrix(0.3195,0.94962,0.94962,-0.3195,305.27995,56.05822)\"/>\n",
       "<path style=\"fill:none;stroke-width:0.3985;stroke-linecap:butt;stroke-linejoin:miter;stroke:rgb(0%,0%,0%);stroke-opacity:1;stroke-miterlimit:10;\" d=\"M -49.562938 -33.562281 L -92.742625 -49.304469 \" transform=\"matrix(1,0,0,-1,255.477,8.301)\"/>\n",
       "<path style=\"fill:none;stroke-width:0.31879;stroke-linecap:round;stroke-linejoin:round;stroke:rgb(0%,0%,0%);stroke-opacity:1;stroke-miterlimit:10;\" d=\"M -1.195887 1.594543 C -1.094055 0.996948 -0.00104872 0.100308 0.298461 -0.000571663 C 0.000791613 -0.0996426 -1.093975 -0.995875 -1.195758 -1.593974 \" transform=\"matrix(-0.94089,0.34299,0.34299,0.94089,162.73414,57.6052)\"/>\n",
       "<path style=\"fill:none;stroke-width:0.3985;stroke-linecap:butt;stroke-linejoin:miter;stroke:rgb(0%,0%,0%);stroke-opacity:1;stroke-miterlimit:10;\" d=\"M -20.94575 -31.054469 L 92.519094 -52.538844 \" transform=\"matrix(1,0,0,-1,255.477,8.301)\"/>\n",
       "<path style=\"fill:none;stroke-width:0.31879;stroke-linecap:round;stroke-linejoin:round;stroke:rgb(0%,0%,0%);stroke-opacity:1;stroke-miterlimit:10;\" d=\"M -1.193852 1.594991 C -1.096022 0.994341 -0.00157897 0.0981308 0.298763 0.000194307 C 0.000203703 -0.0999838 -1.095903 -0.998095 -1.197639 -1.592865 \" transform=\"matrix(0.98418,0.18631,0.18631,-0.98418,347.99499,60.83906)\"/>\n",
       "<path style=\"fill:none;stroke-width:0.3985;stroke-linecap:butt;stroke-linejoin:miter;stroke:rgb(0%,0%,0%);stroke-opacity:1;stroke-miterlimit:10;\" d=\"M 520.651906 -8.499781 L 528.437063 -19.468531 \" transform=\"matrix(1,0,0,-1,255.477,8.301)\"/>\n",
       "<path style=\"fill:none;stroke-width:0.31879;stroke-linecap:round;stroke-linejoin:round;stroke:rgb(0%,0%,0%);stroke-opacity:1;stroke-miterlimit:10;\" d=\"M -1.197133 1.594952 C -1.095819 0.99856 0.00230676 0.100146 0.298262 -0.000189257 C -0.000237964 -0.0983123 -1.094566 -0.995435 -1.196212 -1.595625 \" transform=\"matrix(0.58131,0.81923,0.81923,-0.58131,783.91271,27.77117)\"/>\n",
       "<path style=\"fill:none;stroke-width:0.3985;stroke-linecap:butt;stroke-linejoin:miter;stroke:rgb(0%,0%,0%);stroke-opacity:1;stroke-miterlimit:10;\" d=\"M 508.5855 -8.499781 L 500.80425 -19.468531 \" transform=\"matrix(1,0,0,-1,255.477,8.301)\"/>\n",
       "<path style=\"fill:none;stroke-width:0.31879;stroke-linecap:round;stroke-linejoin:round;stroke:rgb(0%,0%,0%);stroke-opacity:1;stroke-miterlimit:10;\" d=\"M -1.195432 1.594526 C -1.096037 0.997507 -0.00170844 0.100385 0.299042 -0.000909819 C 0.000836284 -0.0980739 -1.09729 -0.996488 -1.196353 -1.596051 \" transform=\"matrix(-0.58131,0.81923,0.81923,0.58131,756.28005,27.77117)\"/>\n",
       "<path style=\"fill:none;stroke-width:0.3985;stroke-linecap:butt;stroke-linejoin:miter;stroke:rgb(0%,0%,0%);stroke-opacity:1;stroke-miterlimit:10;\" d=\"M 534.733938 -36.847437 L 534.733938 -47.734156 \" transform=\"matrix(1,0,0,-1,255.477,8.301)\"/>\n",
       "<path style=\"fill:none;stroke-width:0.31879;stroke-linecap:round;stroke-linejoin:round;stroke:rgb(0%,0%,0%);stroke-opacity:1;stroke-miterlimit:10;\" d=\"M -1.195286 1.592987 C -1.09763 0.995331 0.00002625 0.1008 0.300807 -0.0007625 C 0.00002625 -0.0984188 -1.09763 -0.996856 -1.195286 -1.594513 \" transform=\"matrix(0,1,1,0,790.2117,56.03513)\"/>\n",
       "<path style=\"fill:none;stroke-width:0.3985;stroke-linecap:butt;stroke-linejoin:miter;stroke:rgb(0%,0%,0%);stroke-opacity:1;stroke-miterlimit:10;\" d=\"M 512.132375 -32.968531 L 579.011281 -50.503687 \" transform=\"matrix(1,0,0,-1,255.477,8.301)\"/>\n",
       "<path style=\"fill:none;stroke-width:0.31879;stroke-linecap:round;stroke-linejoin:round;stroke:rgb(0%,0%,0%);stroke-opacity:1;stroke-miterlimit:10;\" d=\"M -1.193621 1.593975 C -1.097784 0.997538 0.00149827 0.0991328 0.298092 -0.000693873 C 0.000921113 -0.098789 -1.095819 -0.995796 -1.196914 -1.595433 \" transform=\"matrix(0.96782,0.25375,0.25375,-0.96782,834.48902,58.8065)\"/>\n",
       "<path style=\"fill:none;stroke-width:0.3985;stroke-linecap:butt;stroke-linejoin:miter;stroke:rgb(0%,0%,0%);stroke-opacity:1;stroke-miterlimit:10;\" d=\"M 487.374563 -36.847437 L 478.155813 -47.839625 \" transform=\"matrix(1,0,0,-1,255.477,8.301)\"/>\n",
       "<path style=\"fill:none;stroke-width:0.31879;stroke-linecap:round;stroke-linejoin:round;stroke:rgb(0%,0%,0%);stroke-opacity:1;stroke-miterlimit:10;\" d=\"M -1.194951 1.593946 C -1.095445 0.997165 -0.000977296 0.0977797 0.299626 -0.000365323 C 0.00114078 -0.0984239 -1.093586 -0.996307 -1.195764 -1.594725 \" transform=\"matrix(-0.6454,0.76949,0.76949,0.6454,733.63116,56.14077)\"/>\n",
       "<path style=\"fill:none;stroke-width:0.3985;stroke-linecap:butt;stroke-linejoin:miter;stroke:rgb(0%,0%,0%);stroke-opacity:1;stroke-miterlimit:10;\" d=\"M 1134.444875 -3.144312 L 1188.409719 -22.472437 \" transform=\"matrix(1,0,0,-1,255.477,8.301)\"/>\n",
       "<path style=\"fill:none;stroke-width:0.31879;stroke-linecap:round;stroke-linejoin:round;stroke:rgb(0%,0%,0%);stroke-opacity:1;stroke-miterlimit:10;\" d=\"M -1.195226 1.595985 C -1.095626 0.994313 -0.00113333 0.0991878 0.29931 -0.000142195 C -0.000434496 -0.0992143 -1.09466 -0.996004 -1.194776 -1.594707 \" transform=\"matrix(0.94386,0.33803,0.33803,-0.94386,1443.88551,30.77369)\"/>\n",
       "<path style=\"fill:none;stroke-width:0.3985;stroke-linecap:butt;stroke-linejoin:miter;stroke:rgb(0%,0%,0%);stroke-opacity:1;stroke-miterlimit:10;\" d=\"M 1116.882375 -2.687281 L 1047.784719 -23.831812 \" transform=\"matrix(1,0,0,-1,255.477,8.301)\"/>\n",
       "<path style=\"fill:none;stroke-width:0.31879;stroke-linecap:round;stroke-linejoin:round;stroke:rgb(0%,0%,0%);stroke-opacity:1;stroke-miterlimit:10;\" d=\"M -1.194305 1.595628 C -1.096768 0.994821 -0.000155693 0.100504 0.299614 0.000609158 C -0.000138485 -0.0993369 -1.094314 -0.996126 -1.195477 -1.593222 \" transform=\"matrix(-0.95782,0.29312,0.29312,0.95782,1303.26336,32.13425)\"/>\n",
       "<path style=\"fill:none;stroke-width:0.3985;stroke-linecap:butt;stroke-linejoin:miter;stroke:rgb(0%,0%,0%);stroke-opacity:1;stroke-miterlimit:10;\" d=\"M 1125.663625 -8.499781 L 1125.663625 -19.3865 \" transform=\"matrix(1,0,0,-1,255.477,8.301)\"/>\n",
       "<path style=\"fill:none;stroke-width:0.31879;stroke-linecap:round;stroke-linejoin:round;stroke:rgb(0%,0%,0%);stroke-opacity:1;stroke-miterlimit:10;\" d=\"M -1.196123 1.593695 C -1.09456 0.996039 -0.00081 0.101508 0.299971 -0.000055 C -0.00081 -0.0977112 -1.09456 -0.996149 -1.196123 -1.593805 \" transform=\"matrix(0,1,1,0,1381.14068,27.68831)\"/>\n",
       "<path style=\"fill:none;stroke-width:0.3985;stroke-linecap:butt;stroke-linejoin:miter;stroke:rgb(0%,0%,0%);stroke-opacity:1;stroke-miterlimit:10;\" d=\"M 1204.808156 -36.847437 L 1204.808156 -47.734156 \" transform=\"matrix(1,0,0,-1,255.477,8.301)\"/>\n",
       "<path style=\"fill:none;stroke-width:0.31879;stroke-linecap:round;stroke-linejoin:round;stroke:rgb(0%,0%,0%);stroke-opacity:1;stroke-miterlimit:10;\" d=\"M -1.195286 1.592546 C -1.09763 0.99489 0.00002625 0.100359 0.300807 -0.00120375 C 0.00002625 -0.09886 -1.09763 -0.997298 -1.195286 -1.594954 \" transform=\"matrix(0,1,1,0,1460.28636,56.03513)\"/>\n",
       "<path style=\"fill:none;stroke-width:0.3985;stroke-linecap:butt;stroke-linejoin:miter;stroke:rgb(0%,0%,0%);stroke-opacity:1;stroke-miterlimit:10;\" d=\"M 1220.776906 -30.7615 L 1370.456594 -53.378687 \" transform=\"matrix(1,0,0,-1,255.477,8.301)\"/>\n",
       "<path style=\"fill:none;stroke-width:0.31879;stroke-linecap:round;stroke-linejoin:round;stroke:rgb(0%,0%,0%);stroke-opacity:1;stroke-miterlimit:10;\" d=\"M -1.195636 1.59482 C -1.097468 0.997413 -0.00209232 0.100393 0.297545 -0.000479405 C 0.000634705 -0.100642 -1.096286 -0.997126 -1.195873 -1.592815 \" transform=\"matrix(0.98894,0.14943,0.14943,-0.98894,1625.93238,61.67772)\"/>\n",
       "<path style=\"fill:none;stroke-width:0.3985;stroke-linecap:butt;stroke-linejoin:miter;stroke:rgb(0%,0%,0%);stroke-opacity:1;stroke-miterlimit:10;\" d=\"M 1026.093312 -36.847437 L 1017.11675 -47.835719 \" transform=\"matrix(1,0,0,-1,255.477,8.301)\"/>\n",
       "<path style=\"fill:none;stroke-width:0.31879;stroke-linecap:round;stroke-linejoin:round;stroke:rgb(0%,0%,0%);stroke-opacity:1;stroke-miterlimit:10;\" d=\"M -1.19555 1.59189 C -1.095215 0.995203 -0.00131471 0.0991577 0.301294 -0.00051468 C 0.000720064 -0.100261 -1.096779 -0.996777 -1.195862 -1.595499 \" transform=\"matrix(-0.63475,0.77705,0.77705,0.63475,1272.59399,56.1373)\"/>\n",
       "<path style=\"fill:none;stroke-width:0.3985;stroke-linecap:butt;stroke-linejoin:miter;stroke:rgb(0%,0%,0%);stroke-opacity:1;stroke-miterlimit:10;\" d=\"M 1039.983937 -36.847437 L 1048.9605 -47.835719 \" transform=\"matrix(1,0,0,-1,255.477,8.301)\"/>\n",
       "<path style=\"fill:none;stroke-width:0.31879;stroke-linecap:round;stroke-linejoin:round;stroke:rgb(0%,0%,0%);stroke-opacity:1;stroke-miterlimit:10;\" d=\"M -1.197442 1.593564 C -1.095896 0.997857 -0.000860168 0.0983267 0.299714 -0.00141981 C -0.000431989 -0.0980771 -1.096795 -0.997138 -1.19713 -1.593825 \" transform=\"matrix(0.63475,0.77705,0.77705,-0.63475,1304.43586,56.1373)\"/>\n",
       "<path style=\"fill:none;stroke-width:0.3985;stroke-linecap:butt;stroke-linejoin:miter;stroke:rgb(0%,0%,0%);stroke-opacity:1;stroke-miterlimit:10;\" d=\"M 1018.730031 -34.050562 L 983.667531 -48.023219 \" transform=\"matrix(1,0,0,-1,255.477,8.301)\"/>\n",
       "<path style=\"fill:none;stroke-width:0.31879;stroke-linecap:round;stroke-linejoin:round;stroke:rgb(0%,0%,0%);stroke-opacity:1;stroke-miterlimit:10;\" d=\"M -1.196734 1.593226 C -1.095434 0.995216 -0.000714086 0.10194 0.298125 -0.000380166 C -0.00117973 -0.0991276 -1.0965 -0.995932 -1.196268 -1.593477 \" transform=\"matrix(-0.93166,0.37128,0.37128,0.93166,1239.14508,56.32326)\"/>\n",
       "<path style=\"fill:none;stroke-width:0.3985;stroke-linecap:butt;stroke-linejoin:miter;stroke:rgb(0%,0%,0%);stroke-opacity:1;stroke-miterlimit:10;\" d=\"M 1118.718312 -36.847437 L 1109.74175 -47.835719 \" transform=\"matrix(1,0,0,-1,255.477,8.301)\"/>\n",
       "<path style=\"fill:none;stroke-width:0.31879;stroke-linecap:round;stroke-linejoin:round;stroke:rgb(0%,0%,0%);stroke-opacity:1;stroke-miterlimit:10;\" d=\"M -1.19754 1.594326 C -1.097205 0.997639 -0.000841824 0.0985788 0.299304 0.00192153 C 0.00119295 -0.10084 -1.096306 -0.997356 -1.195389 -1.596078 \" transform=\"matrix(-0.63475,0.77705,0.77705,0.63475,1365.21974,56.1373)\"/>\n",
       "<path style=\"fill:none;stroke-width:0.3985;stroke-linecap:butt;stroke-linejoin:miter;stroke:rgb(0%,0%,0%);stroke-opacity:1;stroke-miterlimit:10;\" d=\"M 1132.608937 -36.847437 L 1141.5855 -47.835719 \" transform=\"matrix(1,0,0,-1,255.477,8.301)\"/>\n",
       "<path style=\"fill:none;stroke-width:0.31879;stroke-linecap:round;stroke-linejoin:round;stroke:rgb(0%,0%,0%);stroke-opacity:1;stroke-miterlimit:10;\" d=\"M -1.195465 1.595985 C -1.096382 0.997263 0.00111729 0.100747 0.299228 -0.00201415 C -0.000917486 -0.0986714 -1.094817 -0.994717 -1.197616 -1.594419 \" transform=\"matrix(0.63475,0.77705,0.77705,-0.63475,1397.06163,56.1373)\"/>\n",
       "<path style=\"fill:none;stroke-width:0.3985;stroke-linecap:butt;stroke-linejoin:miter;stroke:rgb(0%,0%,0%);stroke-opacity:1;stroke-miterlimit:10;\" d=\"M 1204.808156 -65.195094 L 1204.808156 -76.081812 \" transform=\"matrix(1,0,0,-1,255.477,8.301)\"/>\n",
       "<path style=\"fill:none;stroke-width:0.31879;stroke-linecap:round;stroke-linejoin:round;stroke:rgb(0%,0%,0%);stroke-opacity:1;stroke-miterlimit:10;\" d=\"M -1.19443 1.592546 C -1.096774 0.99489 0.0008825 0.100359 0.297757 -0.00120375 C 0.0008825 -0.09886 -1.096774 -0.997298 -1.19443 -1.594954 \" transform=\"matrix(0,1,1,0,1460.28636,84.38193)\"/>\n",
       "<path style=\"fill:none;stroke-width:0.3985;stroke-linecap:butt;stroke-linejoin:miter;stroke:rgb(0%,0%,0%);stroke-opacity:1;stroke-miterlimit:10;\" d=\"M 1413.901906 -58.73025 L 1663.99175 -82.437281 \" transform=\"matrix(1,0,0,-1,255.477,8.301)\"/>\n",
       "<path style=\"fill:none;stroke-width:0.31879;stroke-linecap:round;stroke-linejoin:round;stroke:rgb(0%,0%,0%);stroke-opacity:1;stroke-miterlimit:10;\" d=\"M -1.194402 1.595004 C -1.094549 0.996548 -0.0016212 0.0999912 0.298184 -0.00102657 C 0.00161623 -0.0997269 -1.094008 -0.995806 -1.194241 -1.593612 \" transform=\"matrix(0.99597,0.09438,0.09438,-0.99597,1919.46874,90.73646)\"/>\n",
       "<path style=\"fill:none;stroke-width:0.3985;stroke-linecap:butt;stroke-linejoin:miter;stroke:rgb(0%,0%,0%);stroke-opacity:1;stroke-miterlimit:10;\" d=\"M 513.237844 -61.257594 L 428.667531 -79.206812 \" transform=\"matrix(1,0,0,-1,255.477,8.301)\"/>\n",
       "<path style=\"fill:none;stroke-width:0.31879;stroke-linecap:round;stroke-linejoin:round;stroke:rgb(0%,0%,0%);stroke-opacity:1;stroke-miterlimit:10;\" d=\"M -1.19477 1.593268 C -1.093807 0.997066 0.000646364 0.0981806 0.298901 -0.00105059 C -0.00169526 -0.100896 -1.098126 -0.997751 -1.197051 -1.59543 \" transform=\"matrix(-0.97865,0.20773,0.20773,0.97865,684.1443,87.50925)\"/>\n",
       "<path style=\"fill:none;stroke-width:0.3985;stroke-linecap:butt;stroke-linejoin:miter;stroke:rgb(0%,0%,0%);stroke-opacity:1;stroke-miterlimit:10;\" d=\"M 536.394094 -65.195094 L 538.519094 -76.089625 \" transform=\"matrix(1,0,0,-1,255.477,8.301)\"/>\n",
       "<path style=\"fill:none;stroke-width:0.31879;stroke-linecap:round;stroke-linejoin:round;stroke:rgb(0%,0%,0%);stroke-opacity:1;stroke-miterlimit:10;\" d=\"M -1.195377 1.594155 C -1.096866 0.998398 0.000365404 0.100487 0.298581 -0.00141779 C 0.00131363 -0.098506 -1.096539 -0.997693 -1.197021 -1.594398 \" transform=\"matrix(0.19162,0.98242,0.98242,-0.19162,793.99496,84.38999)\"/>\n",
       "<path style=\"fill:none;stroke-width:0.3985;stroke-linecap:butt;stroke-linejoin:miter;stroke:rgb(0%,0%,0%);stroke-opacity:1;stroke-miterlimit:10;\" d=\"M 607.5855 -65.195094 L 613.99175 -76.144312 \" transform=\"matrix(1,0,0,-1,255.477,8.301)\"/>\n",
       "<path style=\"fill:none;stroke-width:0.31879;stroke-linecap:round;stroke-linejoin:round;stroke:rgb(0%,0%,0%);stroke-opacity:1;stroke-miterlimit:10;\" d=\"M -1.197469 1.593027 C -1.095319 0.995887 0.000117657 0.097496 0.299327 -0.000820275 C 0.000969749 -0.101693 -1.095494 -0.995428 -1.197864 -1.594817 \" transform=\"matrix(0.50618,0.86504,0.86504,-0.50618,869.47029,84.44378)\"/>\n",
       "<path style=\"fill:none;stroke-width:0.3985;stroke-linecap:butt;stroke-linejoin:miter;stroke:rgb(0%,0%,0%);stroke-opacity:1;stroke-miterlimit:10;\" d=\"M 445.913625 -61.327906 L 351.394094 -78.98025 \" transform=\"matrix(1,0,0,-1,255.477,8.301)\"/>\n",
       "<path style=\"fill:none;stroke-width:0.31879;stroke-linecap:round;stroke-linejoin:round;stroke:rgb(0%,0%,0%);stroke-opacity:1;stroke-miterlimit:10;\" d=\"M -1.196279 1.593426 C -1.09757 0.995514 0.00127598 0.0997091 0.300222 0.000226217 C -0.0000153894 -0.0985017 -1.096575 -0.99713 -1.196078 -1.59375 \" transform=\"matrix(-0.98418,0.18378,0.18378,0.98418,606.86965,87.28054)\"/>\n",
       "<path style=\"fill:none;stroke-width:0.3985;stroke-linecap:butt;stroke-linejoin:miter;stroke:rgb(0%,0%,0%);stroke-opacity:1;stroke-miterlimit:10;\" d=\"M 470.726125 -65.195094 L 470.726125 -76.081812 \" transform=\"matrix(1,0,0,-1,255.477,8.301)\"/>\n",
       "<path style=\"fill:none;stroke-width:0.31879;stroke-linecap:round;stroke-linejoin:round;stroke:rgb(0%,0%,0%);stroke-opacity:1;stroke-miterlimit:10;\" d=\"M -1.19443 1.595841 C -1.096774 0.998185 0.0008825 0.0997475 0.297757 -0.001815 C 0.0008825 -0.0994712 -1.096774 -0.997909 -1.19443 -1.595565 \" transform=\"matrix(0,1,1,0,726.20494,84.38193)\"/>\n",
       "<path style=\"fill:none;stroke-width:0.3985;stroke-linecap:butt;stroke-linejoin:miter;stroke:rgb(0%,0%,0%);stroke-opacity:1;stroke-miterlimit:10;\" d=\"M 990.042531 -63.031031 L 948.187063 -76.398219 \" transform=\"matrix(1,0,0,-1,255.477,8.301)\"/>\n",
       "<path style=\"fill:none;stroke-width:0.31879;stroke-linecap:round;stroke-linejoin:round;stroke:rgb(0%,0%,0%);stroke-opacity:1;stroke-miterlimit:10;\" d=\"M -1.194743 1.595049 C -1.096031 0.995054 0.000637026 0.100823 0.300045 0.00109422 C -0.00178214 -0.0987986 -1.094401 -0.997138 -1.195309 -1.594714 \" transform=\"matrix(-0.95515,0.3051,0.3051,0.95515,1203.66516,84.70038)\"/>\n",
       "<path style=\"fill:none;stroke-width:0.3985;stroke-linecap:butt;stroke-linejoin:miter;stroke:rgb(0%,0%,0%);stroke-opacity:1;stroke-miterlimit:10;\" d=\"M 1029.722219 -58.827906 L 1247.690969 -82.265406 \" transform=\"matrix(1,0,0,-1,255.477,8.301)\"/>\n",
       "<path style=\"fill:none;stroke-width:0.31879;stroke-linecap:round;stroke-linejoin:round;stroke:rgb(0%,0%,0%);stroke-opacity:1;stroke-miterlimit:10;\" d=\"M -1.19682 1.593023 C -1.09722 0.995245 0.0000491566 0.100379 0.297538 -0.0011111 C 0.0019243 -0.0996308 -1.095243 -0.994884 -1.195653 -1.594537 \" transform=\"matrix(0.99504,0.10698,0.10698,-0.99504,1503.1689,90.56472)\"/>\n",
       "<path style=\"fill:none;stroke-width:0.3985;stroke-linecap:butt;stroke-linejoin:miter;stroke:rgb(0%,0%,0%);stroke-opacity:1;stroke-miterlimit:10;\" d=\"M 1029.722219 -58.288844 L 1336.390187 -82.964625 \" transform=\"matrix(1,0,0,-1,255.477,8.301)\"/>\n",
       "<path style=\"fill:none;stroke-width:0.31879;stroke-linecap:round;stroke-linejoin:round;stroke:rgb(0%,0%,0%);stroke-opacity:1;stroke-miterlimit:10;\" d=\"M -1.194401 1.594886 C -1.095241 0.995455 -0.000412353 0.0999132 0.297733 -0.00150507 C -0.000014173 -0.0999111 -1.095779 -0.995313 -1.196443 -1.595142 \" transform=\"matrix(0.99681,0.08018,0.08018,-0.99681,1591.8674,91.26369)\"/>\n",
       "<path style=\"fill:none;stroke-width:0.3985;stroke-linecap:butt;stroke-linejoin:miter;stroke:rgb(0%,0%,0%);stroke-opacity:1;stroke-miterlimit:10;\" d=\"M 1040.773 -65.195094 L 1020.593313 -76.316187 \" transform=\"matrix(1,0,0,-1,255.477,8.301)\"/>\n",
       "<path style=\"fill:none;stroke-width:0.31879;stroke-linecap:round;stroke-linejoin:round;stroke:rgb(0%,0%,0%);stroke-opacity:1;stroke-miterlimit:10;\" d=\"M -1.196996 1.594172 C -1.095295 0.994223 -0.000627522 0.100996 0.299283 -0.0019219 C 0.0000325082 -0.0999814 -1.096716 -0.997751 -1.194107 -1.594941 \" transform=\"matrix(-0.87622,0.48303,0.48303,0.87622,1276.07176,84.61884)\"/>\n",
       "<path style=\"fill:none;stroke-width:0.3985;stroke-linecap:butt;stroke-linejoin:miter;stroke:rgb(0%,0%,0%);stroke-opacity:1;stroke-miterlimit:10;\" d=\"M 1076.034719 -57.718531 L 1578.796437 -83.706812 \" transform=\"matrix(1,0,0,-1,255.477,8.301)\"/>\n",
       "<path style=\"fill:none;stroke-width:0.31879;stroke-linecap:round;stroke-linejoin:round;stroke:rgb(0%,0%,0%);stroke-opacity:1;stroke-miterlimit:10;\" d=\"M -1.19501 1.595319 C -1.097662 0.998033 0.0008069 0.100467 0.299407 -0.00143988 C -0.00061728 -0.0990744 -1.096301 -0.996577 -1.194594 -1.592238 \" transform=\"matrix(0.99875,0.0516,0.0516,-0.99875,1834.27526,92.00655)\"/>\n",
       "<path style=\"fill:none;stroke-width:0.3985;stroke-linecap:butt;stroke-linejoin:miter;stroke:rgb(0%,0%,0%);stroke-opacity:1;stroke-miterlimit:10;\" d=\"M 940.413625 -60.933375 L 845.690969 -79.620875 \" transform=\"matrix(1,0,0,-1,255.477,8.301)\"/>\n",
       "<path style=\"fill:none;stroke-width:0.31879;stroke-linecap:round;stroke-linejoin:round;stroke:rgb(0%,0%,0%);stroke-opacity:1;stroke-miterlimit:10;\" d=\"M -1.19682 1.592785 C -1.095778 0.996314 -0.000138997 0.100291 0.298493 0.00162838 C 0.000389655 -0.0986205 -1.095074 -0.995876 -1.196771 -1.592121 \" transform=\"matrix(-0.98242,0.19377,0.19377,0.98242,1101.16793,87.92103)\"/>\n",
       "<path style=\"fill:none;stroke-width:0.3985;stroke-linecap:butt;stroke-linejoin:miter;stroke:rgb(0%,0%,0%);stroke-opacity:1;stroke-miterlimit:10;\" d=\"M 983.405813 -57.827906 L 1470.2105 -83.503687 \" transform=\"matrix(1,0,0,-1,255.477,8.301)\"/>\n",
       "<path style=\"fill:none;stroke-width:0.31879;stroke-linecap:round;stroke-linejoin:round;stroke:rgb(0%,0%,0%);stroke-opacity:1;stroke-miterlimit:10;\" d=\"M -1.197121 1.594816 C -1.095246 0.997872 0.000211384 0.101313 0.298903 -0.00027261 C -0.00100153 -0.0982193 -1.095674 -0.996832 -1.197231 -1.592768 \" transform=\"matrix(0.99875,0.05266,0.05266,-0.99875,1725.68586,91.8043)\"/>\n",
       "<path style=\"fill:none;stroke-width:0.3985;stroke-linecap:butt;stroke-linejoin:miter;stroke:rgb(0%,0%,0%);stroke-opacity:1;stroke-miterlimit:10;\" d=\"M -4.13325 -65.195094 L -5.355906 -76.081812 \" transform=\"matrix(1,0,0,-1,255.477,8.301)\"/>\n",
       "<path style=\"fill:none;stroke-width:0.31879;stroke-linecap:round;stroke-linejoin:round;stroke:rgb(0%,0%,0%);stroke-opacity:1;stroke-miterlimit:10;\" d=\"M -1.194456 1.593442 C -1.095959 0.995363 -0.00135164 0.100267 0.30064 0.000513201 C 0.00143595 -0.0998415 -1.096556 -0.997128 -1.194722 -1.593679 \" transform=\"matrix(-0.11145,0.994,0.994,0.11145,250.12284,84.3847)\"/>\n",
       "<path style=\"fill:none;stroke-width:0.3985;stroke-linecap:butt;stroke-linejoin:miter;stroke:rgb(0%,0%,0%);stroke-opacity:1;stroke-miterlimit:10;\" d=\"M 55.671437 -65.195094 L 59.339406 -76.10525 \" transform=\"matrix(1,0,0,-1,255.477,8.301)\"/>\n",
       "<path style=\"fill:none;stroke-width:0.31879;stroke-linecap:round;stroke-linejoin:round;stroke:rgb(0%,0%,0%);stroke-opacity:1;stroke-miterlimit:10;\" d=\"M -1.194504 1.593072 C -1.09508 0.996073 0.00215061 0.100383 0.297766 0.000922665 C 0.000354491 -0.100574 -1.094496 -0.995052 -1.197272 -1.59395 \" transform=\"matrix(0.3195,0.94962,0.94962,-0.3195,314.81805,84.40503)\"/>\n",
       "<path style=\"fill:none;stroke-width:0.3985;stroke-linecap:butt;stroke-linejoin:miter;stroke:rgb(0%,0%,0%);stroke-opacity:1;stroke-miterlimit:10;\" d=\"M -132.852 -65.187281 L -158.949656 -76.359156 \" transform=\"matrix(1,0,0,-1,255.477,8.301)\"/>\n",
       "<path style=\"fill:none;stroke-width:0.31879;stroke-linecap:round;stroke-linejoin:round;stroke:rgb(0%,0%,0%);stroke-opacity:1;stroke-miterlimit:10;\" d=\"M -1.195312 1.592958 C -1.095334 0.995138 -0.000501071 0.0985463 0.300261 -0.00054582 C -0.00092967 -0.1004 -1.09604 -0.995858 -1.195008 -1.593249 \" transform=\"matrix(-0.92198,0.39468,0.39468,0.92198,96.52705,84.65934)\"/>\n",
       "<path style=\"fill:none;stroke-width:0.3985;stroke-linecap:butt;stroke-linejoin:miter;stroke:rgb(0%,0%,0%);stroke-opacity:1;stroke-miterlimit:10;\" d=\"M -113.012156 -65.195094 L -113.012156 -76.081812 \" transform=\"matrix(1,0,0,-1,255.477,8.301)\"/>\n",
       "<path style=\"fill:none;stroke-width:0.31879;stroke-linecap:round;stroke-linejoin:round;stroke:rgb(0%,0%,0%);stroke-opacity:1;stroke-miterlimit:10;\" d=\"M -1.19443 1.594474 C -1.096774 0.996817 0.0008825 0.09838 0.297757 0.00072375 C 0.0008825 -0.100839 -1.096774 -0.99537 -1.19443 -1.593026 \" transform=\"matrix(0,1,1,0,142.46412,84.38193)\"/>\n",
       "<path style=\"fill:none;stroke-width:0.3985;stroke-linecap:butt;stroke-linejoin:miter;stroke:rgb(0%,0%,0%);stroke-opacity:1;stroke-miterlimit:10;\" d=\"M 121.640187 -65.195094 L 130.913625 -76.187281 \" transform=\"matrix(1,0,0,-1,255.477,8.301)\"/>\n",
       "<path style=\"fill:none;stroke-width:0.31879;stroke-linecap:round;stroke-linejoin:round;stroke:rgb(0%,0%,0%);stroke-opacity:1;stroke-miterlimit:10;\" d=\"M -1.195514 1.595951 C -1.094798 0.995728 -0.000354019 0.0979266 0.298603 -0.00123752 C -0.0000610424 -0.101281 -1.097363 -0.99681 -1.19334 -1.594346 \" transform=\"matrix(0.64597,0.7657,0.7657,-0.64597,386.39009,84.48931)\"/>\n",
       "<path style=\"fill:none;stroke-width:0.3985;stroke-linecap:butt;stroke-linejoin:miter;stroke:rgb(0%,0%,0%);stroke-opacity:1;stroke-miterlimit:10;\" d=\"M 1093.718312 -65.195094 L 1082.319875 -76.218531 \" transform=\"matrix(1,0,0,-1,255.477,8.301)\"/>\n",
       "<path style=\"fill:none;stroke-width:0.31879;stroke-linecap:round;stroke-linejoin:round;stroke:rgb(0%,0%,0%);stroke-opacity:1;stroke-miterlimit:10;\" d=\"M -1.196039 1.594352 C -1.098029 0.995958 0.00128012 0.100413 0.300192 0.000783904 C -0.000934259 -0.0977963 -1.097977 -0.996773 -1.195378 -1.595659 \" transform=\"matrix(-0.72139,0.69783,0.69783,0.72139,1337.79804,84.52042)\"/>\n",
       "<path style=\"fill:none;stroke-width:0.3985;stroke-linecap:butt;stroke-linejoin:miter;stroke:rgb(0%,0%,0%);stroke-opacity:1;stroke-miterlimit:10;\" d=\"M 1145.007375 -65.195094 L 1140.105031 -76.120875 \" transform=\"matrix(1,0,0,-1,255.477,8.301)\"/>\n",
       "<path style=\"fill:none;stroke-width:0.31879;stroke-linecap:round;stroke-linejoin:round;stroke:rgb(0%,0%,0%);stroke-opacity:1;stroke-miterlimit:10;\" d=\"M -1.195832 1.593346 C -1.095314 0.998289 -0.000202181 0.0983186 0.299023 0.00210346 C -0.00149285 -0.0985737 -1.097064 -0.995503 -1.195398 -1.594416 \" transform=\"matrix(-0.41063,0.91531,0.91531,0.41063,1395.5818,84.42075)\"/>\n",
       "<path style=\"fill:none;stroke-width:0.3985;stroke-linecap:butt;stroke-linejoin:miter;stroke:rgb(0%,0%,0%);stroke-opacity:1;stroke-miterlimit:10;\" d=\"M 63.300344 -93.54275 L 64.523 -104.429469 \" transform=\"matrix(1,0,0,-1,255.477,8.301)\"/>\n",
       "<path style=\"fill:none;stroke-width:0.31879;stroke-linecap:round;stroke-linejoin:round;stroke:rgb(0%,0%,0%);stroke-opacity:1;stroke-miterlimit:10;\" d=\"M -1.193986 1.592095 C -1.095832 0.995543 -0.00174144 0.0986724 0.29746 -0.00168803 C -0.000216749 -0.09799 -1.095275 -0.996943 -1.193783 -1.595019 \" transform=\"matrix(0.11147,0.994,0.994,-0.11147,319.99977,112.73148)\"/>\n",
       "<path style=\"fill:none;stroke-width:0.3985;stroke-linecap:butt;stroke-linejoin:miter;stroke:rgb(0%,0%,0%);stroke-opacity:1;stroke-miterlimit:10;\" d=\"M 1204.808156 -93.54275 L 1204.808156 -104.429469 \" transform=\"matrix(1,0,0,-1,255.477,8.301)\"/>\n",
       "<path style=\"fill:none;stroke-width:0.31879;stroke-linecap:round;stroke-linejoin:round;stroke:rgb(0%,0%,0%);stroke-opacity:1;stroke-miterlimit:10;\" d=\"M -1.193574 1.592546 C -1.095918 0.99489 0.00173875 0.100359 0.298614 -0.00120375 C 0.00173875 -0.09886 -1.095918 -0.997298 -1.193574 -1.594954 \" transform=\"matrix(0,1,1,0,1460.28636,112.72873)\"/>\n",
       "<path style=\"fill:none;stroke-width:0.3985;stroke-linecap:butt;stroke-linejoin:miter;stroke:rgb(0%,0%,0%);stroke-opacity:1;stroke-miterlimit:10;\" d=\"M 619.198781 -93.54275 L 619.198781 -104.429469 \" transform=\"matrix(1,0,0,-1,255.477,8.301)\"/>\n",
       "<path style=\"fill:none;stroke-width:0.31879;stroke-linecap:round;stroke-linejoin:round;stroke:rgb(0%,0%,0%);stroke-opacity:1;stroke-miterlimit:10;\" d=\"M -1.193574 1.592521 C -1.095918 0.994865 0.00173875 0.100334 0.298614 -0.00122875 C 0.00173875 -0.098885 -1.095918 -0.997322 -1.193574 -1.594979 \" transform=\"matrix(0,1,1,0,874.67701,112.72873)\"/>\n",
       "<path style=\"fill:none;stroke-width:0.3985;stroke-linecap:butt;stroke-linejoin:miter;stroke:rgb(0%,0%,0%);stroke-opacity:1;stroke-miterlimit:10;\" d=\"M 641.7105 -93.54275 L 671.323781 -104.722437 \" transform=\"matrix(1,0,0,-1,255.477,8.301)\"/>\n",
       "<path style=\"fill:none;stroke-width:0.31879;stroke-linecap:round;stroke-linejoin:round;stroke:rgb(0%,0%,0%);stroke-opacity:1;stroke-miterlimit:10;\" d=\"M -1.197375 1.594205 C -1.09612 0.995194 -0.000459389 0.101133 0.299392 0.00195048 C 0.00000118217 -0.098614 -1.097912 -0.996364 -1.196404 -1.595836 \" transform=\"matrix(0.93787,0.35417,0.35417,-0.93787,926.80055,113.0247)\"/>\n",
       "<path style=\"fill:none;stroke-width:0.3985;stroke-linecap:butt;stroke-linejoin:miter;stroke:rgb(0%,0%,0%);stroke-opacity:1;stroke-miterlimit:10;\" d=\"M 899.120656 -93.54275 L 870.171438 -104.722437 \" transform=\"matrix(1,0,0,-1,255.477,8.301)\"/>\n",
       "<path style=\"fill:none;stroke-width:0.31879;stroke-linecap:round;stroke-linejoin:round;stroke:rgb(0%,0%,0%);stroke-opacity:1;stroke-miterlimit:10;\" d=\"M -1.197947 1.592867 C -1.093798 0.996869 0.000705777 0.0978267 0.297243 0.0000293716 C 0.000161068 -0.0983661 -1.094529 -0.996132 -1.19525 -1.592413 \" transform=\"matrix(-0.93478,0.36098,0.36098,0.93478,1125.64894,113.02158)\"/>\n",
       "<path style=\"fill:none;stroke-width:0.3985;stroke-linecap:butt;stroke-linejoin:miter;stroke:rgb(0%,0%,0%);stroke-opacity:1;stroke-miterlimit:10;\" d=\"M 921.136281 -93.54275 L 921.136281 -104.429469 \" transform=\"matrix(1,0,0,-1,255.477,8.301)\"/>\n",
       "<path style=\"fill:none;stroke-width:0.31879;stroke-linecap:round;stroke-linejoin:round;stroke:rgb(0%,0%,0%);stroke-opacity:1;stroke-miterlimit:10;\" d=\"M -1.193574 1.594491 C -1.095918 0.996835 0.00173875 0.0983975 0.298614 0.00074125 C 0.00173875 -0.100821 -1.095918 -0.995353 -1.193574 -1.593009 \" transform=\"matrix(0,1,1,0,1176.61254,112.72873)\"/>\n",
       "<path style=\"fill:none;stroke-width:0.3985;stroke-linecap:butt;stroke-linejoin:miter;stroke:rgb(0%,0%,0%);stroke-opacity:1;stroke-miterlimit:10;\" d=\"M 1275.421437 -93.54275 L 1277.86675 -104.437281 \" transform=\"matrix(1,0,0,-1,255.477,8.301)\"/>\n",
       "<path style=\"fill:none;stroke-width:0.31879;stroke-linecap:round;stroke-linejoin:round;stroke:rgb(0%,0%,0%);stroke-opacity:1;stroke-miterlimit:10;\" d=\"M -1.195235 1.595269 C -1.097364 0.997362 0.00104043 0.099042 0.298855 0.000244819 C 0.000221763 -0.100759 -1.096226 -0.994735 -1.194347 -1.592678 \" transform=\"matrix(0.21906,0.97664,0.97664,-0.21906,1533.34445,112.73943)\"/>\n",
       "<path style=\"fill:none;stroke-width:0.3985;stroke-linecap:butt;stroke-linejoin:miter;stroke:rgb(0%,0%,0%);stroke-opacity:1;stroke-miterlimit:10;\" d=\"M 1358.042531 -93.54275 L 1352.67925 -104.476344 \" transform=\"matrix(1,0,0,-1,255.477,8.301)\"/>\n",
       "<path style=\"fill:none;stroke-width:0.31879;stroke-linecap:round;stroke-linejoin:round;stroke:rgb(0%,0%,0%);stroke-opacity:1;stroke-miterlimit:10;\" d=\"M -1.196972 1.592581 C -1.096628 0.998027 0.000441619 0.100867 0.298329 -0.00090954 C -0.00105972 -0.0999674 -1.095832 -0.998207 -1.194602 -1.594765 \" transform=\"matrix(-0.44064,0.898,0.898,0.44064,1608.15571,112.77547)\"/>\n",
       "<path style=\"fill:none;stroke-width:0.3985;stroke-linecap:butt;stroke-linejoin:miter;stroke:rgb(0%,0%,0%);stroke-opacity:1;stroke-miterlimit:10;\" d=\"M 1379.062062 -93.54275 L 1401.136281 -104.679469 \" transform=\"matrix(1,0,0,-1,255.477,8.301)\"/>\n",
       "<path style=\"fill:none;stroke-width:0.31879;stroke-linecap:round;stroke-linejoin:round;stroke:rgb(0%,0%,0%);stroke-opacity:1;stroke-miterlimit:10;\" d=\"M -1.196642 1.592664 C -1.096815 0.996665 0.00153211 0.100899 0.296592 0.000839175 C -0.00121674 -0.101386 -1.096519 -0.994699 -1.195465 -1.594912 \" transform=\"matrix(0.89442,0.4513,0.4513,-0.89442,1656.61325,112.98018)\"/>\n",
       "<path style=\"fill:none;stroke-width:0.3985;stroke-linecap:butt;stroke-linejoin:miter;stroke:rgb(0%,0%,0%);stroke-opacity:1;stroke-miterlimit:10;\" d=\"M 1387.5855 -90.734156 L 1457.136281 -106.351344 \" transform=\"matrix(1,0,0,-1,255.477,8.301)\"/>\n",
       "<path style=\"fill:none;stroke-width:0.31879;stroke-linecap:round;stroke-linejoin:round;stroke:rgb(0%,0%,0%);stroke-opacity:1;stroke-miterlimit:10;\" d=\"M -1.195682 1.59437 C -1.097454 0.996471 -0.0000316216 0.0989265 0.298608 -0.00201737 C 0.000824022 -0.100866 -1.094415 -0.994689 -1.195979 -1.593444 \" transform=\"matrix(0.97664,0.21925,0.21925,-0.97664,1712.61506,114.65131)\"/>\n",
       "<path style=\"fill:none;stroke-width:0.3985;stroke-linecap:butt;stroke-linejoin:miter;stroke:rgb(0%,0%,0%);stroke-opacity:1;stroke-miterlimit:10;\" d=\"M -191.898875 -93.54275 L -208.418406 -104.628687 \" transform=\"matrix(1,0,0,-1,255.477,8.301)\"/>\n",
       "<path style=\"fill:none;stroke-width:0.31879;stroke-linecap:round;stroke-linejoin:round;stroke:rgb(0%,0%,0%);stroke-opacity:1;stroke-miterlimit:10;\" d=\"M -1.195132 1.594743 C -1.094165 0.995641 0.00202869 0.0999491 0.297315 0.000479667 C -0.000771526 -0.100358 -1.096146 -0.996686 -1.195486 -1.592988 \" transform=\"matrix(-0.83076,0.55765,0.55765,0.83076,47.05923,112.93146)\"/>\n",
       "<path style=\"fill:none;stroke-width:0.3985;stroke-linecap:butt;stroke-linejoin:miter;stroke:rgb(0%,0%,0%);stroke-opacity:1;stroke-miterlimit:10;\" d=\"M -123.523875 -93.54275 L -137.187938 -104.597437 \" transform=\"matrix(1,0,0,-1,255.477,8.301)\"/>\n",
       "<path style=\"fill:none;stroke-width:0.31879;stroke-linecap:round;stroke-linejoin:round;stroke:rgb(0%,0%,0%);stroke-opacity:1;stroke-miterlimit:10;\" d=\"M -1.194951 1.592985 C -1.096108 0.997783 -0.000278674 0.101398 0.29803 0.000174116 C 0.00167274 -0.100278 -1.09834 -0.996383 -1.195702 -1.592958 \" transform=\"matrix(-0.78087,0.63162,0.63162,0.78087,118.2873,112.89756)\"/>\n",
       "<path style=\"fill:none;stroke-width:0.3985;stroke-linecap:butt;stroke-linejoin:miter;stroke:rgb(0%,0%,0%);stroke-opacity:1;stroke-miterlimit:10;\" d=\"M -102.504344 -93.54275 L -88.836375 -104.597437 \" transform=\"matrix(1,0,0,-1,255.477,8.301)\"/>\n",
       "<path style=\"fill:none;stroke-width:0.31879;stroke-linecap:round;stroke-linejoin:round;stroke:rgb(0%,0%,0%);stroke-opacity:1;stroke-miterlimit:10;\" d=\"M -1.194597 1.593852 C -1.097234 0.997277 -0.000246141 0.0987258 0.299135 0.000719743 C 0.000826401 -0.100504 -1.095003 -0.996889 -1.19687 -1.594537 \" transform=\"matrix(0.78087,0.63162,0.63162,-0.78087,166.64096,112.89756)\"/>\n",
       "<path style=\"fill:none;stroke-width:0.3985;stroke-linecap:butt;stroke-linejoin:miter;stroke:rgb(0%,0%,0%);stroke-opacity:1;stroke-miterlimit:10;\" d=\"M 1069.636281 -93.54275 L 1065.058156 -104.460719 \" transform=\"matrix(1,0,0,-1,255.477,8.301)\"/>\n",
       "<path style=\"fill:none;stroke-width:0.31879;stroke-linecap:round;stroke-linejoin:round;stroke:rgb(0%,0%,0%);stroke-opacity:1;stroke-miterlimit:10;\" d=\"M -1.197342 1.593502 C -1.094151 0.995056 -0.00046422 0.0984814 0.298352 0.0000317007 C -0.00150808 -0.100382 -1.094397 -0.997752 -1.195166 -1.593069 \" transform=\"matrix(-0.388,0.92525,0.92525,0.388,1320.5337,112.763)\"/>\n",
       "<path style=\"fill:none;stroke-width:0.3985;stroke-linecap:butt;stroke-linejoin:miter;stroke:rgb(0%,0%,0%);stroke-opacity:1;stroke-miterlimit:10;\" d=\"M 1695.648 -93.54275 L 1701.011281 -104.476344 \" transform=\"matrix(1,0,0,-1,255.477,8.301)\"/>\n",
       "<path style=\"fill:none;stroke-width:0.31879;stroke-linecap:round;stroke-linejoin:round;stroke:rgb(0%,0%,0%);stroke-opacity:1;stroke-miterlimit:10;\" d=\"M -1.194619 1.594731 C -1.095849 0.998172 -0.00107678 0.0999326 0.298312 0.000874762 C 0.000424554 -0.100902 -1.094925 -0.994556 -1.196989 -1.592615 \" transform=\"matrix(0.44064,0.898,0.898,-0.44064,1956.48886,112.77547)\"/>\n",
       "<path style=\"fill:none;stroke-width:0.3985;stroke-linecap:butt;stroke-linejoin:miter;stroke:rgb(0%,0%,0%);stroke-opacity:1;stroke-miterlimit:10;\" d=\"M -7.312938 -93.54275 L -8.531688 -104.429469 \" transform=\"matrix(1,0,0,-1,255.477,8.301)\"/>\n",
       "<path style=\"fill:none;stroke-width:0.31879;stroke-linecap:round;stroke-linejoin:round;stroke:rgb(0%,0%,0%);stroke-opacity:1;stroke-miterlimit:10;\" d=\"M -1.19358 1.593207 C -1.095071 0.995131 -0.000448778 0.100059 0.297664 -0.000123938 C -0.00153824 -0.100484 -1.095629 -0.997355 -1.193782 -1.593907 \" transform=\"matrix(-0.11147,0.994,0.994,0.11147,246.94346,112.73148)\"/>\n",
       "<path style=\"fill:none;stroke-width:0.3985;stroke-linecap:butt;stroke-linejoin:miter;stroke:rgb(0%,0%,0%);stroke-opacity:1;stroke-miterlimit:10;\" d=\"M 1001.206594 -93.54275 L 996.624563 -104.460719 \" transform=\"matrix(1,0,0,-1,255.477,8.301)\"/>\n",
       "<path style=\"fill:none;stroke-width:0.31879;stroke-linecap:round;stroke-linejoin:round;stroke:rgb(0%,0%,0%);stroke-opacity:1;stroke-miterlimit:10;\" d=\"M -1.197559 1.594019 C -1.094368 0.995573 -0.000681032 0.0989984 0.298135 0.000548725 C -0.00172489 -0.0998655 -1.094614 -0.997235 -1.195382 -1.592552 \" transform=\"matrix(-0.388,0.92525,0.92525,0.388,1252.10345,112.763)\"/>\n",
       "<path style=\"fill:none;stroke-width:0.3985;stroke-linecap:butt;stroke-linejoin:miter;stroke:rgb(0%,0%,0%);stroke-opacity:1;stroke-miterlimit:10;\" d=\"M 1613.823781 -93.54275 L 1625.761281 -104.574 \" transform=\"matrix(1,0,0,-1,255.477,8.301)\"/>\n",
       "<path style=\"fill:none;stroke-width:0.31879;stroke-linecap:round;stroke-linejoin:round;stroke:rgb(0%,0%,0%);stroke-opacity:1;stroke-miterlimit:10;\" d=\"M -1.194866 1.592598 C -1.094259 0.995549 -0.00130362 0.100094 0.298192 0.0000191757 C -0.000963674 -0.101292 -1.095499 -0.996064 -1.196279 -1.593453 \" transform=\"matrix(0.73593,0.68013,0.68013,-0.73593,1881.23757,112.87533)\"/>\n",
       "<path style=\"fill:none;stroke-width:0.3985;stroke-linecap:butt;stroke-linejoin:miter;stroke:rgb(0%,0%,0%);stroke-opacity:1;stroke-miterlimit:10;\" d=\"M 140.538625 -93.54275 L 143.300344 -104.441187 \" transform=\"matrix(1,0,0,-1,255.477,8.301)\"/>\n",
       "<path style=\"fill:none;stroke-width:0.31879;stroke-linecap:round;stroke-linejoin:round;stroke:rgb(0%,0%,0%);stroke-opacity:1;stroke-miterlimit:10;\" d=\"M -1.194372 1.594934 C -1.096017 0.998237 0.000963137 0.10003 0.29787 0.000593056 C -0.00159828 -0.100645 -1.094135 -0.995348 -1.193631 -1.594226 \" transform=\"matrix(0.24597,0.97014,0.97014,-0.24597,398.77772,112.74242)\"/>\n",
       "<path style=\"fill:none;stroke-width:0.3985;stroke-linecap:butt;stroke-linejoin:miter;stroke:rgb(0%,0%,0%);stroke-opacity:1;stroke-miterlimit:10;\" d=\"M 399.534719 -93.54275 L 397.409719 -104.437281 \" transform=\"matrix(1,0,0,-1,255.477,8.301)\"/>\n",
       "<path style=\"fill:none;stroke-width:0.31879;stroke-linecap:round;stroke-linejoin:round;stroke:rgb(0%,0%,0%);stroke-opacity:1;stroke-miterlimit:10;\" d=\"M -1.195874 1.592989 C -1.095393 0.996284 0.00171288 0.100928 0.299727 0.00000894001 C 0.00076465 -0.098065 -1.096467 -0.995977 -1.19423 -1.595563 \" transform=\"matrix(-0.19162,0.98242,0.98242,0.19162,652.88555,112.73679)\"/>\n",
       "<path style=\"fill:none;stroke-width:0.3985;stroke-linecap:butt;stroke-linejoin:miter;stroke:rgb(0%,0%,0%);stroke-opacity:1;stroke-miterlimit:10;\" d=\"M 541.921438 -93.54275 L 544.046438 -104.437281 \" transform=\"matrix(1,0,0,-1,255.477,8.301)\"/>\n",
       "<path style=\"fill:none;stroke-width:0.31879;stroke-linecap:round;stroke-linejoin:round;stroke:rgb(0%,0%,0%);stroke-opacity:1;stroke-miterlimit:10;\" d=\"M -1.194919 1.592033 C -1.096408 0.996277 0.000823224 0.0983653 0.299786 0.000291365 C 0.00177145 -0.100627 -1.095334 -0.995984 -1.195816 -1.592688 \" transform=\"matrix(0.19162,0.98242,0.98242,-0.19162,799.5243,112.73679)\"/>\n",
       "<path style=\"fill:none;stroke-width:0.3985;stroke-linecap:butt;stroke-linejoin:miter;stroke:rgb(0%,0%,0%);stroke-opacity:1;stroke-miterlimit:10;\" d=\"M 805.546438 -93.54275 L 789.026906 -104.628687 \" transform=\"matrix(1,0,0,-1,255.477,8.301)\"/>\n",
       "<path style=\"fill:none;stroke-width:0.31879;stroke-linecap:round;stroke-linejoin:round;stroke:rgb(0%,0%,0%);stroke-opacity:1;stroke-miterlimit:10;\" d=\"M -1.1953 1.594856 C -1.094333 0.995754 0.00186065 0.100062 0.297147 0.000592463 C -0.000939564 -0.100245 -1.096314 -0.996573 -1.195654 -1.592875 \" transform=\"matrix(-0.83076,0.55765,0.55765,0.83076,1044.50434,112.93146)\"/>\n",
       "<path style=\"fill:none;stroke-width:0.3985;stroke-linecap:butt;stroke-linejoin:miter;stroke:rgb(0%,0%,0%);stroke-opacity:1;stroke-miterlimit:10;\" d=\"M 1518.108937 -93.54275 L 1542.718312 -104.695094 \" transform=\"matrix(1,0,0,-1,255.477,8.301)\"/>\n",
       "<path style=\"fill:none;stroke-width:0.31879;stroke-linecap:round;stroke-linejoin:round;stroke:rgb(0%,0%,0%);stroke-opacity:1;stroke-miterlimit:10;\" d=\"M -1.195897 1.592735 C -1.09643 0.995297 -0.000857911 0.0997614 0.297381 -0.000645251 C 0.00022296 -0.101073 -1.097228 -0.996891 -1.195042 -1.5938 \" transform=\"matrix(0.91193,0.41336,0.41336,-0.91193,1798.19392,112.99758)\"/>\n",
       "<path style=\"fill:none;stroke-width:0.3985;stroke-linecap:butt;stroke-linejoin:miter;stroke:rgb(0%,0%,0%);stroke-opacity:1;stroke-miterlimit:10;\" d=\"M 1134.194875 -93.54275 L 1131.749562 -104.437281 \" transform=\"matrix(1,0,0,-1,255.477,8.301)\"/>\n",
       "<path style=\"fill:none;stroke-width:0.31879;stroke-linecap:round;stroke-linejoin:round;stroke:rgb(0%,0%,0%);stroke-opacity:1;stroke-miterlimit:10;\" d=\"M -1.194672 1.594129 C -1.096551 0.996187 0.000750382 0.0984018 0.298529 0.00120652 C 0.000714899 -0.0975906 -1.097689 -0.99591 -1.19556 -1.593817 \" transform=\"matrix(-0.21906,0.97664,0.97664,0.21906,1387.22828,112.73943)\"/>\n",
       "<path style=\"fill:none;stroke-width:0.3985;stroke-linecap:butt;stroke-linejoin:miter;stroke:rgb(0%,0%,0%);stroke-opacity:1;stroke-miterlimit:10;\" d=\"M 293.937063 -93.54275 L 261.015188 -104.738062 \" transform=\"matrix(1,0,0,-1,255.477,8.301)\"/>\n",
       "<path style=\"fill:none;stroke-width:0.31879;stroke-linecap:round;stroke-linejoin:round;stroke:rgb(0%,0%,0%);stroke-opacity:1;stroke-miterlimit:10;\" d=\"M -1.195216 1.595261 C -1.09414 0.997349 -0.0010133 0.099112 0.298895 0.00124208 C 0.00148539 -0.099183 -1.097545 -0.996514 -1.193511 -1.593238 \" transform=\"matrix(-0.94963,0.32292,0.32292,0.94963,516.49047,113.03902)\"/>\n",
       "<path style=\"fill:none;stroke-width:0.3985;stroke-linecap:butt;stroke-linejoin:miter;stroke:rgb(0%,0%,0%);stroke-opacity:1;stroke-miterlimit:10;\" d=\"M 318.937063 -93.54275 L 318.937063 -104.429469 \" transform=\"matrix(1,0,0,-1,255.477,8.301)\"/>\n",
       "<path style=\"fill:none;stroke-width:0.31879;stroke-linecap:round;stroke-linejoin:round;stroke:rgb(0%,0%,0%);stroke-opacity:1;stroke-miterlimit:10;\" d=\"M -1.193574 1.592563 C -1.095918 0.994906 0.00173875 0.100375 0.298614 -0.0011875 C 0.00173875 -0.0988437 -1.095918 -0.997281 -1.193574 -1.594937 \" transform=\"matrix(0,1,1,0,574.41525,112.72873)\"/>\n",
       "<path style=\"fill:none;stroke-width:0.3985;stroke-linecap:butt;stroke-linejoin:miter;stroke:rgb(0%,0%,0%);stroke-opacity:1;stroke-miterlimit:10;\" d=\"M 470.726125 -93.54275 L 470.726125 -104.429469 \" transform=\"matrix(1,0,0,-1,255.477,8.301)\"/>\n",
       "<path style=\"fill:none;stroke-width:0.31879;stroke-linecap:round;stroke-linejoin:round;stroke:rgb(0%,0%,0%);stroke-opacity:1;stroke-miterlimit:10;\" d=\"M -1.193574 1.595841 C -1.095918 0.998185 0.00173875 0.0997475 0.298614 -0.001815 C 0.00173875 -0.0994712 -1.095918 -0.997909 -1.193574 -1.595565 \" transform=\"matrix(0,1,1,0,726.20494,112.72873)\"/>\n",
       "<g style=\"fill:rgb(0%,0%,0%);fill-opacity:1;\">\n",
       "  <use xlink:href=\"#glyph-1558463490156206-0-1\" x=\"250.216\" y=\"10.792\"/>\n",
       "  <use xlink:href=\"#glyph-1558463490156206-0-2\" x=\"252.985614\" y=\"10.792\"/>\n",
       "  <use xlink:href=\"#glyph-1558463490156206-0-3\" x=\"257.966934\" y=\"10.792\"/>\n",
       "</g>\n",
       "<g style=\"fill:rgb(0%,0%,0%);fill-opacity:1;\">\n",
       "  <use xlink:href=\"#glyph-1558463490156206-0-1\" x=\"244.687\" y=\"39.138\"/>\n",
       "  <use xlink:href=\"#glyph-1558463490156206-0-2\" x=\"247.456614\" y=\"39.138\"/>\n",
       "  <use xlink:href=\"#glyph-1558463490156206-0-4\" x=\"252.437934\" y=\"39.138\"/>\n",
       "</g>\n",
       "<g style=\"fill:rgb(0%,0%,0%);fill-opacity:1;\">\n",
       "  <use xlink:href=\"#glyph-1558463490156206-0-5\" x=\"258.515144\" y=\"39.138\"/>\n",
       "  <use xlink:href=\"#glyph-1558463490156206-0-3\" x=\"263.496464\" y=\"39.138\"/>\n",
       "</g>\n",
       "<g style=\"fill:rgb(0%,0%,0%);fill-opacity:1;\">\n",
       "  <use xlink:href=\"#glyph-1558463490156206-0-1\" x=\"286.299\" y=\"39.138\"/>\n",
       "  <use xlink:href=\"#glyph-1558463490156206-0-2\" x=\"289.068614\" y=\"39.138\"/>\n",
       "  <use xlink:href=\"#glyph-1558463490156206-0-4\" x=\"294.049934\" y=\"39.138\"/>\n",
       "</g>\n",
       "<g style=\"fill:rgb(0%,0%,0%);fill-opacity:1;\">\n",
       "  <use xlink:href=\"#glyph-1558463490156206-0-6\" x=\"300.127144\" y=\"39.138\"/>\n",
       "  <use xlink:href=\"#glyph-1558463490156206-0-2\" x=\"303.444703\" y=\"39.138\"/>\n",
       "  <use xlink:href=\"#glyph-1558463490156206-0-3\" x=\"308.426023\" y=\"39.138\"/>\n",
       "</g>\n",
       "<g style=\"fill:rgb(0%,0%,0%);fill-opacity:1;\">\n",
       "  <use xlink:href=\"#glyph-1558463490156206-0-1\" x=\"209.433\" y=\"39.138\"/>\n",
       "  <use xlink:href=\"#glyph-1558463490156206-0-2\" x=\"212.202614\" y=\"39.138\"/>\n",
       "  <use xlink:href=\"#glyph-1558463490156206-0-4\" x=\"217.183934\" y=\"39.138\"/>\n",
       "</g>\n",
       "<g style=\"fill:rgb(0%,0%,0%);fill-opacity:1;\">\n",
       "  <use xlink:href=\"#glyph-1558463490156206-0-2\" x=\"223.261144\" y=\"39.138\"/>\n",
       "  <use xlink:href=\"#glyph-1558463490156206-0-3\" x=\"228.242464\" y=\"39.138\"/>\n",
       "</g>\n",
       "<g style=\"fill:rgb(0%,0%,0%);fill-opacity:1;\">\n",
       "  <use xlink:href=\"#glyph-1558463490156206-0-1\" x=\"763.17\" y=\"10.792\"/>\n",
       "  <use xlink:href=\"#glyph-1558463490156206-0-6\" x=\"765.939614\" y=\"10.792\"/>\n",
       "  <use xlink:href=\"#glyph-1558463490156206-0-2\" x=\"769.257173\" y=\"10.792\"/>\n",
       "  <use xlink:href=\"#glyph-1558463490156206-0-3\" x=\"774.238493\" y=\"10.792\"/>\n",
       "</g>\n",
       "<g style=\"fill:rgb(0%,0%,0%);fill-opacity:1;\">\n",
       "  <use xlink:href=\"#glyph-1558463490156206-0-1\" x=\"777.756\" y=\"39.138\"/>\n",
       "  <use xlink:href=\"#glyph-1558463490156206-0-6\" x=\"780.525614\" y=\"39.138\"/>\n",
       "  <use xlink:href=\"#glyph-1558463490156206-0-2\" x=\"783.843173\" y=\"39.138\"/>\n",
       "  <use xlink:href=\"#glyph-1558463490156206-0-4\" x=\"788.824493\" y=\"39.138\"/>\n",
       "</g>\n",
       "<g style=\"fill:rgb(0%,0%,0%);fill-opacity:1;\">\n",
       "  <use xlink:href=\"#glyph-1558463490156206-0-5\" x=\"794.901703\" y=\"39.138\"/>\n",
       "  <use xlink:href=\"#glyph-1558463490156206-0-3\" x=\"799.883023\" y=\"39.138\"/>\n",
       "</g>\n",
       "<g style=\"fill:rgb(0%,0%,0%);fill-opacity:1;\">\n",
       "  <use xlink:href=\"#glyph-1558463490156206-0-1\" x=\"735.867\" y=\"39.138\"/>\n",
       "  <use xlink:href=\"#glyph-1558463490156206-0-6\" x=\"738.636614\" y=\"39.138\"/>\n",
       "  <use xlink:href=\"#glyph-1558463490156206-0-2\" x=\"741.954173\" y=\"39.138\"/>\n",
       "  <use xlink:href=\"#glyph-1558463490156206-0-4\" x=\"746.935493\" y=\"39.138\"/>\n",
       "</g>\n",
       "<g style=\"fill:rgb(0%,0%,0%);fill-opacity:1;\">\n",
       "  <use xlink:href=\"#glyph-1558463490156206-0-6\" x=\"753.012703\" y=\"39.138\"/>\n",
       "  <use xlink:href=\"#glyph-1558463490156206-0-2\" x=\"756.330263\" y=\"39.138\"/>\n",
       "  <use xlink:href=\"#glyph-1558463490156206-0-3\" x=\"761.311583\" y=\"39.138\"/>\n",
       "</g>\n",
       "<g style=\"fill:rgb(0%,0%,0%);fill-opacity:1;\">\n",
       "  <use xlink:href=\"#glyph-1558463490156206-0-1\" x=\"1375.866\" y=\"10.792\"/>\n",
       "  <use xlink:href=\"#glyph-1558463490156206-0-5\" x=\"1378.635614\" y=\"10.792\"/>\n",
       "  <use xlink:href=\"#glyph-1558463490156206-0-3\" x=\"1383.616934\" y=\"10.792\"/>\n",
       "</g>\n",
       "<g style=\"fill:rgb(0%,0%,0%);fill-opacity:1;\">\n",
       "  <use xlink:href=\"#glyph-1558463490156206-0-1\" x=\"1447.822\" y=\"39.138\"/>\n",
       "  <use xlink:href=\"#glyph-1558463490156206-0-5\" x=\"1450.591614\" y=\"39.138\"/>\n",
       "  <use xlink:href=\"#glyph-1558463490156206-0-4\" x=\"1455.572934\" y=\"39.138\"/>\n",
       "</g>\n",
       "<g style=\"fill:rgb(0%,0%,0%);fill-opacity:1;\">\n",
       "  <use xlink:href=\"#glyph-1558463490156206-0-6\" x=\"1461.650144\" y=\"39.138\"/>\n",
       "  <use xlink:href=\"#glyph-1558463490156206-0-2\" x=\"1464.967703\" y=\"39.138\"/>\n",
       "  <use xlink:href=\"#glyph-1558463490156206-0-3\" x=\"1469.949023\" y=\"39.138\"/>\n",
       "</g>\n",
       "<g style=\"fill:rgb(0%,0%,0%);fill-opacity:1;\">\n",
       "  <use xlink:href=\"#glyph-1558463490156206-0-1\" x=\"1277.712\" y=\"39.138\"/>\n",
       "  <use xlink:href=\"#glyph-1558463490156206-0-5\" x=\"1280.481614\" y=\"39.138\"/>\n",
       "  <use xlink:href=\"#glyph-1558463490156206-0-4\" x=\"1285.462934\" y=\"39.138\"/>\n",
       "</g>\n",
       "<g style=\"fill:rgb(0%,0%,0%);fill-opacity:1;\">\n",
       "  <use xlink:href=\"#glyph-1558463490156206-0-5\" x=\"1291.540144\" y=\"39.138\"/>\n",
       "  <use xlink:href=\"#glyph-1558463490156206-0-3\" x=\"1296.521464\" y=\"39.138\"/>\n",
       "</g>\n",
       "<g style=\"fill:rgb(0%,0%,0%);fill-opacity:1;\">\n",
       "  <use xlink:href=\"#glyph-1558463490156206-0-1\" x=\"1370.336\" y=\"39.138\"/>\n",
       "  <use xlink:href=\"#glyph-1558463490156206-0-5\" x=\"1373.105614\" y=\"39.138\"/>\n",
       "  <use xlink:href=\"#glyph-1558463490156206-0-4\" x=\"1378.086934\" y=\"39.138\"/>\n",
       "</g>\n",
       "<g style=\"fill:rgb(0%,0%,0%);fill-opacity:1;\">\n",
       "  <use xlink:href=\"#glyph-1558463490156206-0-2\" x=\"1384.164144\" y=\"39.138\"/>\n",
       "  <use xlink:href=\"#glyph-1558463490156206-0-3\" x=\"1389.145464\" y=\"39.138\"/>\n",
       "</g>\n",
       "<g style=\"fill:rgb(0%,0%,0%);fill-opacity:1;\">\n",
       "  <use xlink:href=\"#glyph-1558463490156206-0-1\" x=\"1440.634\" y=\"67.485\"/>\n",
       "  <use xlink:href=\"#glyph-1558463490156206-0-5\" x=\"1443.403614\" y=\"67.485\"/>\n",
       "  <use xlink:href=\"#glyph-1558463490156206-0-4\" x=\"1448.384934\" y=\"67.485\"/>\n",
       "</g>\n",
       "<g style=\"fill:rgb(0%,0%,0%);fill-opacity:1;\">\n",
       "  <use xlink:href=\"#glyph-1558463490156206-0-6\" x=\"1454.462144\" y=\"67.485\"/>\n",
       "  <use xlink:href=\"#glyph-1558463490156206-0-2\" x=\"1457.779703\" y=\"67.485\"/>\n",
       "  <use xlink:href=\"#glyph-1558463490156206-0-4\" x=\"1462.761023\" y=\"67.485\"/>\n",
       "</g>\n",
       "<g style=\"fill:rgb(0%,0%,0%);fill-opacity:1;\">\n",
       "  <use xlink:href=\"#glyph-1558463490156206-0-6\" x=\"1468.838234\" y=\"67.485\"/>\n",
       "  <use xlink:href=\"#glyph-1558463490156206-0-2\" x=\"1472.155793\" y=\"67.485\"/>\n",
       "  <use xlink:href=\"#glyph-1558463490156206-0-3\" x=\"1477.137113\" y=\"67.485\"/>\n",
       "</g>\n",
       "<g style=\"fill:rgb(0%,0%,0%);fill-opacity:1;\">\n",
       "  <use xlink:href=\"#glyph-1558463490156206-0-1\" x=\"1629.887\" y=\"67.485\"/>\n",
       "  <use xlink:href=\"#glyph-1558463490156206-0-5\" x=\"1632.656614\" y=\"67.485\"/>\n",
       "  <use xlink:href=\"#glyph-1558463490156206-0-4\" x=\"1637.637934\" y=\"67.485\"/>\n",
       "</g>\n",
       "<g style=\"fill:rgb(0%,0%,0%);fill-opacity:1;\">\n",
       "  <use xlink:href=\"#glyph-1558463490156206-0-6\" x=\"1643.715144\" y=\"67.485\"/>\n",
       "  <use xlink:href=\"#glyph-1558463490156206-0-2\" x=\"1647.032703\" y=\"67.485\"/>\n",
       "  <use xlink:href=\"#glyph-1558463490156206-0-4\" x=\"1652.014023\" y=\"67.485\"/>\n",
       "</g>\n",
       "<g style=\"fill:rgb(0%,0%,0%);fill-opacity:1;\">\n",
       "  <use xlink:href=\"#glyph-1558463490156206-0-5\" x=\"1658.091234\" y=\"67.485\"/>\n",
       "  <use xlink:href=\"#glyph-1558463490156206-0-3\" x=\"1663.072554\" y=\"67.485\"/>\n",
       "</g>\n",
       "<g style=\"fill:rgb(0%,0%,0%);fill-opacity:1;\">\n",
       "  <use xlink:href=\"#glyph-1558463490156206-0-1\" x=\"772.227\" y=\"67.485\"/>\n",
       "  <use xlink:href=\"#glyph-1558463490156206-0-6\" x=\"774.996614\" y=\"67.485\"/>\n",
       "  <use xlink:href=\"#glyph-1558463490156206-0-2\" x=\"778.314173\" y=\"67.485\"/>\n",
       "  <use xlink:href=\"#glyph-1558463490156206-0-4\" x=\"783.295493\" y=\"67.485\"/>\n",
       "</g>\n",
       "<g style=\"fill:rgb(0%,0%,0%);fill-opacity:1;\">\n",
       "  <use xlink:href=\"#glyph-1558463490156206-0-5\" x=\"789.372703\" y=\"67.485\"/>\n",
       "  <use xlink:href=\"#glyph-1558463490156206-0-4\" x=\"794.354023\" y=\"67.485\"/>\n",
       "</g>\n",
       "<g style=\"fill:rgb(0%,0%,0%);fill-opacity:1;\">\n",
       "  <use xlink:href=\"#glyph-1558463490156206-0-5\" x=\"800.431234\" y=\"67.485\"/>\n",
       "  <use xlink:href=\"#glyph-1558463490156206-0-3\" x=\"805.412554\" y=\"67.485\"/>\n",
       "</g>\n",
       "<g style=\"fill:rgb(0%,0%,0%);fill-opacity:1;\">\n",
       "  <use xlink:href=\"#glyph-1558463490156206-0-1\" x=\"838.444\" y=\"67.485\"/>\n",
       "  <use xlink:href=\"#glyph-1558463490156206-0-6\" x=\"841.213614\" y=\"67.485\"/>\n",
       "  <use xlink:href=\"#glyph-1558463490156206-0-2\" x=\"844.531173\" y=\"67.485\"/>\n",
       "  <use xlink:href=\"#glyph-1558463490156206-0-4\" x=\"849.512493\" y=\"67.485\"/>\n",
       "</g>\n",
       "<g style=\"fill:rgb(0%,0%,0%);fill-opacity:1;\">\n",
       "  <use xlink:href=\"#glyph-1558463490156206-0-6\" x=\"855.589703\" y=\"67.485\"/>\n",
       "  <use xlink:href=\"#glyph-1558463490156206-0-2\" x=\"858.907263\" y=\"67.485\"/>\n",
       "  <use xlink:href=\"#glyph-1558463490156206-0-4\" x=\"863.888583\" y=\"67.485\"/>\n",
       "</g>\n",
       "<g style=\"fill:rgb(0%,0%,0%);fill-opacity:1;\">\n",
       "  <use xlink:href=\"#glyph-1558463490156206-0-5\" x=\"869.965793\" y=\"67.485\"/>\n",
       "  <use xlink:href=\"#glyph-1558463490156206-0-3\" x=\"874.947113\" y=\"67.485\"/>\n",
       "</g>\n",
       "<g style=\"fill:rgb(0%,0%,0%);fill-opacity:1;\">\n",
       "  <use xlink:href=\"#glyph-1558463490156206-0-1\" x=\"704.903\" y=\"67.485\"/>\n",
       "  <use xlink:href=\"#glyph-1558463490156206-0-6\" x=\"707.672614\" y=\"67.485\"/>\n",
       "  <use xlink:href=\"#glyph-1558463490156206-0-2\" x=\"710.990173\" y=\"67.485\"/>\n",
       "  <use xlink:href=\"#glyph-1558463490156206-0-4\" x=\"715.971493\" y=\"67.485\"/>\n",
       "</g>\n",
       "<g style=\"fill:rgb(0%,0%,0%);fill-opacity:1;\">\n",
       "  <use xlink:href=\"#glyph-1558463490156206-0-6\" x=\"722.048703\" y=\"67.485\"/>\n",
       "  <use xlink:href=\"#glyph-1558463490156206-0-2\" x=\"725.366263\" y=\"67.485\"/>\n",
       "  <use xlink:href=\"#glyph-1558463490156206-0-4\" x=\"730.347583\" y=\"67.485\"/>\n",
       "</g>\n",
       "<g style=\"fill:rgb(0%,0%,0%);fill-opacity:1;\">\n",
       "  <use xlink:href=\"#glyph-1558463490156206-0-6\" x=\"736.424793\" y=\"67.485\"/>\n",
       "  <use xlink:href=\"#glyph-1558463490156206-0-2\" x=\"739.742352\" y=\"67.485\"/>\n",
       "  <use xlink:href=\"#glyph-1558463490156206-0-3\" x=\"744.723672\" y=\"67.485\"/>\n",
       "</g>\n",
       "<g style=\"fill:rgb(0%,0%,0%);fill-opacity:1;\">\n",
       "  <use xlink:href=\"#glyph-1558463490156206-0-1\" x=\"1249.026\" y=\"67.485\"/>\n",
       "  <use xlink:href=\"#glyph-1558463490156206-0-5\" x=\"1251.795614\" y=\"67.485\"/>\n",
       "  <use xlink:href=\"#glyph-1558463490156206-0-4\" x=\"1256.776934\" y=\"67.485\"/>\n",
       "</g>\n",
       "<g style=\"fill:rgb(0%,0%,0%);fill-opacity:1;\">\n",
       "  <use xlink:href=\"#glyph-1558463490156206-0-5\" x=\"1262.854144\" y=\"67.485\"/>\n",
       "  <use xlink:href=\"#glyph-1558463490156206-0-4\" x=\"1267.835464\" y=\"67.485\"/>\n",
       "</g>\n",
       "<g style=\"fill:rgb(0%,0%,0%);fill-opacity:1;\">\n",
       "  <use xlink:href=\"#glyph-1558463490156206-0-5\" x=\"1273.912675\" y=\"67.485\"/>\n",
       "  <use xlink:href=\"#glyph-1558463490156206-0-3\" x=\"1278.893995\" y=\"67.485\"/>\n",
       "</g>\n",
       "<g style=\"fill:rgb(0%,0%,0%);fill-opacity:1;\">\n",
       "  <use xlink:href=\"#glyph-1558463490156206-0-1\" x=\"1295.339\" y=\"67.485\"/>\n",
       "  <use xlink:href=\"#glyph-1558463490156206-0-5\" x=\"1298.108614\" y=\"67.485\"/>\n",
       "  <use xlink:href=\"#glyph-1558463490156206-0-4\" x=\"1303.089934\" y=\"67.485\"/>\n",
       "</g>\n",
       "<g style=\"fill:rgb(0%,0%,0%);fill-opacity:1;\">\n",
       "  <use xlink:href=\"#glyph-1558463490156206-0-5\" x=\"1309.167144\" y=\"67.485\"/>\n",
       "  <use xlink:href=\"#glyph-1558463490156206-0-4\" x=\"1314.148464\" y=\"67.485\"/>\n",
       "</g>\n",
       "<g style=\"fill:rgb(0%,0%,0%);fill-opacity:1;\">\n",
       "  <use xlink:href=\"#glyph-1558463490156206-0-2\" x=\"1320.225675\" y=\"67.485\"/>\n",
       "  <use xlink:href=\"#glyph-1558463490156206-0-3\" x=\"1325.206995\" y=\"67.485\"/>\n",
       "</g>\n",
       "<g style=\"fill:rgb(0%,0%,0%);fill-opacity:1;\">\n",
       "  <use xlink:href=\"#glyph-1558463490156206-0-1\" x=\"1199.396\" y=\"67.485\"/>\n",
       "  <use xlink:href=\"#glyph-1558463490156206-0-5\" x=\"1202.165614\" y=\"67.485\"/>\n",
       "  <use xlink:href=\"#glyph-1558463490156206-0-4\" x=\"1207.146934\" y=\"67.485\"/>\n",
       "</g>\n",
       "<g style=\"fill:rgb(0%,0%,0%);fill-opacity:1;\">\n",
       "  <use xlink:href=\"#glyph-1558463490156206-0-5\" x=\"1213.224144\" y=\"67.485\"/>\n",
       "  <use xlink:href=\"#glyph-1558463490156206-0-4\" x=\"1218.205464\" y=\"67.485\"/>\n",
       "</g>\n",
       "<g style=\"fill:rgb(0%,0%,0%);fill-opacity:1;\">\n",
       "  <use xlink:href=\"#glyph-1558463490156206-0-6\" x=\"1224.282675\" y=\"67.485\"/>\n",
       "  <use xlink:href=\"#glyph-1558463490156206-0-2\" x=\"1227.600234\" y=\"67.485\"/>\n",
       "  <use xlink:href=\"#glyph-1558463490156206-0-3\" x=\"1232.581554\" y=\"67.485\"/>\n",
       "</g>\n",
       "<g style=\"fill:rgb(0%,0%,0%);fill-opacity:1;\">\n",
       "  <use xlink:href=\"#glyph-1558463490156206-0-1\" x=\"235.978\" y=\"67.485\"/>\n",
       "  <use xlink:href=\"#glyph-1558463490156206-0-2\" x=\"238.747614\" y=\"67.485\"/>\n",
       "  <use xlink:href=\"#glyph-1558463490156206-0-4\" x=\"243.728934\" y=\"67.485\"/>\n",
       "</g>\n",
       "<g style=\"fill:rgb(0%,0%,0%);fill-opacity:1;\">\n",
       "  <use xlink:href=\"#glyph-1558463490156206-0-5\" x=\"249.806144\" y=\"67.485\"/>\n",
       "  <use xlink:href=\"#glyph-1558463490156206-0-4\" x=\"254.787464\" y=\"67.485\"/>\n",
       "</g>\n",
       "<g style=\"fill:rgb(0%,0%,0%);fill-opacity:1;\">\n",
       "  <use xlink:href=\"#glyph-1558463490156206-0-5\" x=\"260.864675\" y=\"67.485\"/>\n",
       "  <use xlink:href=\"#glyph-1558463490156206-0-3\" x=\"265.845995\" y=\"67.485\"/>\n",
       "</g>\n",
       "<g style=\"fill:rgb(0%,0%,0%);fill-opacity:1;\">\n",
       "  <use xlink:href=\"#glyph-1558463490156206-0-1\" x=\"288.649\" y=\"67.485\"/>\n",
       "  <use xlink:href=\"#glyph-1558463490156206-0-2\" x=\"291.418614\" y=\"67.485\"/>\n",
       "  <use xlink:href=\"#glyph-1558463490156206-0-4\" x=\"296.399934\" y=\"67.485\"/>\n",
       "</g>\n",
       "<g style=\"fill:rgb(0%,0%,0%);fill-opacity:1;\">\n",
       "  <use xlink:href=\"#glyph-1558463490156206-0-6\" x=\"302.477144\" y=\"67.485\"/>\n",
       "  <use xlink:href=\"#glyph-1558463490156206-0-2\" x=\"305.794703\" y=\"67.485\"/>\n",
       "  <use xlink:href=\"#glyph-1558463490156206-0-4\" x=\"310.776023\" y=\"67.485\"/>\n",
       "</g>\n",
       "<g style=\"fill:rgb(0%,0%,0%);fill-opacity:1;\">\n",
       "  <use xlink:href=\"#glyph-1558463490156206-0-6\" x=\"316.853234\" y=\"67.485\"/>\n",
       "  <use xlink:href=\"#glyph-1558463490156206-0-2\" x=\"320.170793\" y=\"67.485\"/>\n",
       "  <use xlink:href=\"#glyph-1558463490156206-0-3\" x=\"325.152113\" y=\"67.485\"/>\n",
       "</g>\n",
       "<g style=\"fill:rgb(0%,0%,0%);fill-opacity:1;\">\n",
       "  <use xlink:href=\"#glyph-1558463490156206-0-1\" x=\"126.146\" y=\"67.485\"/>\n",
       "  <use xlink:href=\"#glyph-1558463490156206-0-2\" x=\"128.915614\" y=\"67.485\"/>\n",
       "  <use xlink:href=\"#glyph-1558463490156206-0-4\" x=\"133.896934\" y=\"67.485\"/>\n",
       "</g>\n",
       "<g style=\"fill:rgb(0%,0%,0%);fill-opacity:1;\">\n",
       "  <use xlink:href=\"#glyph-1558463490156206-0-2\" x=\"139.974144\" y=\"67.485\"/>\n",
       "  <use xlink:href=\"#glyph-1558463490156206-0-4\" x=\"144.955464\" y=\"67.485\"/>\n",
       "</g>\n",
       "<g style=\"fill:rgb(0%,0%,0%);fill-opacity:1;\">\n",
       "  <use xlink:href=\"#glyph-1558463490156206-0-2\" x=\"151.032675\" y=\"67.485\"/>\n",
       "  <use xlink:href=\"#glyph-1558463490156206-0-3\" x=\"156.013995\" y=\"67.485\"/>\n",
       "</g>\n",
       "<g style=\"fill:rgb(0%,0%,0%);fill-opacity:1;\">\n",
       "  <use xlink:href=\"#glyph-1558463490156206-0-1\" x=\"351.964\" y=\"67.485\"/>\n",
       "  <use xlink:href=\"#glyph-1558463490156206-0-2\" x=\"354.733614\" y=\"67.485\"/>\n",
       "  <use xlink:href=\"#glyph-1558463490156206-0-4\" x=\"359.714934\" y=\"67.485\"/>\n",
       "</g>\n",
       "<g style=\"fill:rgb(0%,0%,0%);fill-opacity:1;\">\n",
       "  <use xlink:href=\"#glyph-1558463490156206-0-2\" x=\"365.792144\" y=\"67.485\"/>\n",
       "  <use xlink:href=\"#glyph-1558463490156206-0-4\" x=\"370.773464\" y=\"67.485\"/>\n",
       "</g>\n",
       "<g style=\"fill:rgb(0%,0%,0%);fill-opacity:1;\">\n",
       "  <use xlink:href=\"#glyph-1558463490156206-0-6\" x=\"376.850675\" y=\"67.485\"/>\n",
       "  <use xlink:href=\"#glyph-1558463490156206-0-2\" x=\"380.168234\" y=\"67.485\"/>\n",
       "  <use xlink:href=\"#glyph-1558463490156206-0-3\" x=\"385.149554\" y=\"67.485\"/>\n",
       "</g>\n",
       "<g style=\"fill:rgb(0%,0%,0%);fill-opacity:1;\">\n",
       "  <use xlink:href=\"#glyph-1558463490156206-0-1\" x=\"1341.651\" y=\"67.485\"/>\n",
       "  <use xlink:href=\"#glyph-1558463490156206-0-5\" x=\"1344.420614\" y=\"67.485\"/>\n",
       "  <use xlink:href=\"#glyph-1558463490156206-0-4\" x=\"1349.401934\" y=\"67.485\"/>\n",
       "</g>\n",
       "<g style=\"fill:rgb(0%,0%,0%);fill-opacity:1;\">\n",
       "  <use xlink:href=\"#glyph-1558463490156206-0-2\" x=\"1355.479144\" y=\"67.485\"/>\n",
       "  <use xlink:href=\"#glyph-1558463490156206-0-4\" x=\"1360.460464\" y=\"67.485\"/>\n",
       "</g>\n",
       "<g style=\"fill:rgb(0%,0%,0%);fill-opacity:1;\">\n",
       "  <use xlink:href=\"#glyph-1558463490156206-0-5\" x=\"1366.537675\" y=\"67.485\"/>\n",
       "  <use xlink:href=\"#glyph-1558463490156206-0-3\" x=\"1371.518995\" y=\"67.485\"/>\n",
       "</g>\n",
       "<g style=\"fill:rgb(0%,0%,0%);fill-opacity:1;\">\n",
       "  <use xlink:href=\"#glyph-1558463490156206-0-1\" x=\"1387.963\" y=\"67.485\"/>\n",
       "  <use xlink:href=\"#glyph-1558463490156206-0-5\" x=\"1390.732614\" y=\"67.485\"/>\n",
       "  <use xlink:href=\"#glyph-1558463490156206-0-4\" x=\"1395.713934\" y=\"67.485\"/>\n",
       "</g>\n",
       "<g style=\"fill:rgb(0%,0%,0%);fill-opacity:1;\">\n",
       "  <use xlink:href=\"#glyph-1558463490156206-0-2\" x=\"1401.791144\" y=\"67.485\"/>\n",
       "  <use xlink:href=\"#glyph-1558463490156206-0-4\" x=\"1406.772464\" y=\"67.485\"/>\n",
       "</g>\n",
       "<g style=\"fill:rgb(0%,0%,0%);fill-opacity:1;\">\n",
       "  <use xlink:href=\"#glyph-1558463490156206-0-2\" x=\"1412.849675\" y=\"67.485\"/>\n",
       "  <use xlink:href=\"#glyph-1558463490156206-0-3\" x=\"1417.830995\" y=\"67.485\"/>\n",
       "</g>\n",
       "<g style=\"fill:rgb(0%,0%,0%);fill-opacity:1;\">\n",
       "  <use xlink:href=\"#glyph-1558463490156206-0-1\" x=\"290.999\" y=\"95.831\"/>\n",
       "  <use xlink:href=\"#glyph-1558463490156206-0-2\" x=\"293.768614\" y=\"95.831\"/>\n",
       "  <use xlink:href=\"#glyph-1558463490156206-0-4\" x=\"298.749934\" y=\"95.831\"/>\n",
       "</g>\n",
       "<g style=\"fill:rgb(0%,0%,0%);fill-opacity:1;\">\n",
       "  <use xlink:href=\"#glyph-1558463490156206-0-6\" x=\"304.827144\" y=\"95.831\"/>\n",
       "  <use xlink:href=\"#glyph-1558463490156206-0-2\" x=\"308.144703\" y=\"95.831\"/>\n",
       "  <use xlink:href=\"#glyph-1558463490156206-0-4\" x=\"313.126023\" y=\"95.831\"/>\n",
       "</g>\n",
       "<g style=\"fill:rgb(0%,0%,0%);fill-opacity:1;\">\n",
       "  <use xlink:href=\"#glyph-1558463490156206-0-6\" x=\"319.203234\" y=\"95.831\"/>\n",
       "  <use xlink:href=\"#glyph-1558463490156206-0-2\" x=\"322.520793\" y=\"95.831\"/>\n",
       "  <use xlink:href=\"#glyph-1558463490156206-0-4\" x=\"327.502113\" y=\"95.831\"/>\n",
       "</g>\n",
       "<g style=\"fill:rgb(0%,0%,0%);fill-opacity:1;\">\n",
       "  <use xlink:href=\"#glyph-1558463490156206-0-6\" x=\"333.579323\" y=\"95.831\"/>\n",
       "  <use xlink:href=\"#glyph-1558463490156206-0-2\" x=\"336.896882\" y=\"95.831\"/>\n",
       "  <use xlink:href=\"#glyph-1558463490156206-0-3\" x=\"341.878202\" y=\"95.831\"/>\n",
       "</g>\n",
       "<g style=\"fill:rgb(0%,0%,0%);fill-opacity:1;\">\n",
       "  <use xlink:href=\"#glyph-1558463490156206-0-1\" x=\"1433.446\" y=\"95.831\"/>\n",
       "  <use xlink:href=\"#glyph-1558463490156206-0-5\" x=\"1436.215614\" y=\"95.831\"/>\n",
       "  <use xlink:href=\"#glyph-1558463490156206-0-4\" x=\"1441.196934\" y=\"95.831\"/>\n",
       "</g>\n",
       "<g style=\"fill:rgb(0%,0%,0%);fill-opacity:1;\">\n",
       "  <use xlink:href=\"#glyph-1558463490156206-0-6\" x=\"1447.274144\" y=\"95.831\"/>\n",
       "  <use xlink:href=\"#glyph-1558463490156206-0-2\" x=\"1450.591703\" y=\"95.831\"/>\n",
       "  <use xlink:href=\"#glyph-1558463490156206-0-4\" x=\"1455.573023\" y=\"95.831\"/>\n",
       "</g>\n",
       "<g style=\"fill:rgb(0%,0%,0%);fill-opacity:1;\">\n",
       "  <use xlink:href=\"#glyph-1558463490156206-0-6\" x=\"1461.650234\" y=\"95.831\"/>\n",
       "  <use xlink:href=\"#glyph-1558463490156206-0-2\" x=\"1464.967793\" y=\"95.831\"/>\n",
       "  <use xlink:href=\"#glyph-1558463490156206-0-4\" x=\"1469.949113\" y=\"95.831\"/>\n",
       "</g>\n",
       "<g style=\"fill:rgb(0%,0%,0%);fill-opacity:1;\">\n",
       "  <use xlink:href=\"#glyph-1558463490156206-0-6\" x=\"1476.026323\" y=\"95.831\"/>\n",
       "  <use xlink:href=\"#glyph-1558463490156206-0-2\" x=\"1479.343882\" y=\"95.831\"/>\n",
       "  <use xlink:href=\"#glyph-1558463490156206-0-3\" x=\"1484.325202\" y=\"95.831\"/>\n",
       "</g>\n",
       "<g style=\"fill:rgb(0%,0%,0%);fill-opacity:1;\">\n",
       "  <use xlink:href=\"#glyph-1558463490156206-0-1\" x=\"849.503\" y=\"95.831\"/>\n",
       "  <use xlink:href=\"#glyph-1558463490156206-0-6\" x=\"852.272614\" y=\"95.831\"/>\n",
       "  <use xlink:href=\"#glyph-1558463490156206-0-2\" x=\"855.590173\" y=\"95.831\"/>\n",
       "  <use xlink:href=\"#glyph-1558463490156206-0-4\" x=\"860.571493\" y=\"95.831\"/>\n",
       "</g>\n",
       "<g style=\"fill:rgb(0%,0%,0%);fill-opacity:1;\">\n",
       "  <use xlink:href=\"#glyph-1558463490156206-0-6\" x=\"866.648703\" y=\"95.831\"/>\n",
       "  <use xlink:href=\"#glyph-1558463490156206-0-2\" x=\"869.966263\" y=\"95.831\"/>\n",
       "  <use xlink:href=\"#glyph-1558463490156206-0-4\" x=\"874.947583\" y=\"95.831\"/>\n",
       "</g>\n",
       "<g style=\"fill:rgb(0%,0%,0%);fill-opacity:1;\">\n",
       "  <use xlink:href=\"#glyph-1558463490156206-0-5\" x=\"881.024793\" y=\"95.831\"/>\n",
       "  <use xlink:href=\"#glyph-1558463490156206-0-4\" x=\"886.006113\" y=\"95.831\"/>\n",
       "</g>\n",
       "<g style=\"fill:rgb(0%,0%,0%);fill-opacity:1;\">\n",
       "  <use xlink:href=\"#glyph-1558463490156206-0-5\" x=\"892.083323\" y=\"95.831\"/>\n",
       "  <use xlink:href=\"#glyph-1558463490156206-0-3\" x=\"897.064643\" y=\"95.831\"/>\n",
       "</g>\n",
       "<g style=\"fill:rgb(0%,0%,0%);fill-opacity:1;\">\n",
       "  <use xlink:href=\"#glyph-1558463490156206-0-1\" x=\"1153.093\" y=\"95.831\"/>\n",
       "  <use xlink:href=\"#glyph-1558463490156206-0-5\" x=\"1155.862614\" y=\"95.831\"/>\n",
       "  <use xlink:href=\"#glyph-1558463490156206-0-4\" x=\"1160.843934\" y=\"95.831\"/>\n",
       "</g>\n",
       "<g style=\"fill:rgb(0%,0%,0%);fill-opacity:1;\">\n",
       "  <use xlink:href=\"#glyph-1558463490156206-0-5\" x=\"1166.921144\" y=\"95.831\"/>\n",
       "  <use xlink:href=\"#glyph-1558463490156206-0-4\" x=\"1171.902464\" y=\"95.831\"/>\n",
       "</g>\n",
       "<g style=\"fill:rgb(0%,0%,0%);fill-opacity:1;\">\n",
       "  <use xlink:href=\"#glyph-1558463490156206-0-5\" x=\"1177.979675\" y=\"95.831\"/>\n",
       "  <use xlink:href=\"#glyph-1558463490156206-0-4\" x=\"1182.960995\" y=\"95.831\"/>\n",
       "</g>\n",
       "<g style=\"fill:rgb(0%,0%,0%);fill-opacity:1;\">\n",
       "  <use xlink:href=\"#glyph-1558463490156206-0-6\" x=\"1189.038205\" y=\"95.831\"/>\n",
       "  <use xlink:href=\"#glyph-1558463490156206-0-2\" x=\"1192.355764\" y=\"95.831\"/>\n",
       "  <use xlink:href=\"#glyph-1558463490156206-0-3\" x=\"1197.337084\" y=\"95.831\"/>\n",
       "</g>\n",
       "<g style=\"fill:rgb(0%,0%,0%);fill-opacity:1;\">\n",
       "  <use xlink:href=\"#glyph-1558463490156206-0-1\" x=\"1507.128\" y=\"95.831\"/>\n",
       "  <use xlink:href=\"#glyph-1558463490156206-0-5\" x=\"1509.897614\" y=\"95.831\"/>\n",
       "  <use xlink:href=\"#glyph-1558463490156206-0-4\" x=\"1514.878934\" y=\"95.831\"/>\n",
       "</g>\n",
       "<g style=\"fill:rgb(0%,0%,0%);fill-opacity:1;\">\n",
       "  <use xlink:href=\"#glyph-1558463490156206-0-5\" x=\"1520.956144\" y=\"95.831\"/>\n",
       "  <use xlink:href=\"#glyph-1558463490156206-0-4\" x=\"1525.937464\" y=\"95.831\"/>\n",
       "</g>\n",
       "<g style=\"fill:rgb(0%,0%,0%);fill-opacity:1;\">\n",
       "  <use xlink:href=\"#glyph-1558463490156206-0-5\" x=\"1532.014675\" y=\"95.831\"/>\n",
       "  <use xlink:href=\"#glyph-1558463490156206-0-4\" x=\"1536.995995\" y=\"95.831\"/>\n",
       "</g>\n",
       "<g style=\"fill:rgb(0%,0%,0%);fill-opacity:1;\">\n",
       "  <use xlink:href=\"#glyph-1558463490156206-0-2\" x=\"1543.073205\" y=\"95.831\"/>\n",
       "  <use xlink:href=\"#glyph-1558463490156206-0-3\" x=\"1548.054525\" y=\"95.831\"/>\n",
       "</g>\n",
       "<g style=\"fill:rgb(0%,0%,0%);fill-opacity:1;\">\n",
       "  <use xlink:href=\"#glyph-1558463490156206-0-1\" x=\"1595.826\" y=\"95.831\"/>\n",
       "  <use xlink:href=\"#glyph-1558463490156206-0-5\" x=\"1598.595614\" y=\"95.831\"/>\n",
       "  <use xlink:href=\"#glyph-1558463490156206-0-4\" x=\"1603.576934\" y=\"95.831\"/>\n",
       "</g>\n",
       "<g style=\"fill:rgb(0%,0%,0%);fill-opacity:1;\">\n",
       "  <use xlink:href=\"#glyph-1558463490156206-0-5\" x=\"1609.654144\" y=\"95.831\"/>\n",
       "  <use xlink:href=\"#glyph-1558463490156206-0-4\" x=\"1614.635464\" y=\"95.831\"/>\n",
       "</g>\n",
       "<g style=\"fill:rgb(0%,0%,0%);fill-opacity:1;\">\n",
       "  <use xlink:href=\"#glyph-1558463490156206-0-5\" x=\"1620.712675\" y=\"95.831\"/>\n",
       "  <use xlink:href=\"#glyph-1558463490156206-0-4\" x=\"1625.693995\" y=\"95.831\"/>\n",
       "</g>\n",
       "<g style=\"fill:rgb(0%,0%,0%);fill-opacity:1;\">\n",
       "  <use xlink:href=\"#glyph-1558463490156206-0-5\" x=\"1631.771205\" y=\"95.831\"/>\n",
       "  <use xlink:href=\"#glyph-1558463490156206-0-3\" x=\"1636.752525\" y=\"95.831\"/>\n",
       "</g>\n",
       "<g style=\"fill:rgb(0%,0%,0%);fill-opacity:1;\">\n",
       "  <use xlink:href=\"#glyph-1558463490156206-0-1\" x=\"52.741\" y=\"95.831\"/>\n",
       "  <use xlink:href=\"#glyph-1558463490156206-0-2\" x=\"55.510614\" y=\"95.831\"/>\n",
       "  <use xlink:href=\"#glyph-1558463490156206-0-4\" x=\"60.491934\" y=\"95.831\"/>\n",
       "</g>\n",
       "<g style=\"fill:rgb(0%,0%,0%);fill-opacity:1;\">\n",
       "  <use xlink:href=\"#glyph-1558463490156206-0-2\" x=\"66.569144\" y=\"95.831\"/>\n",
       "  <use xlink:href=\"#glyph-1558463490156206-0-4\" x=\"71.550464\" y=\"95.831\"/>\n",
       "</g>\n",
       "<g style=\"fill:rgb(0%,0%,0%);fill-opacity:1;\">\n",
       "  <use xlink:href=\"#glyph-1558463490156206-0-2\" x=\"77.627675\" y=\"95.831\"/>\n",
       "  <use xlink:href=\"#glyph-1558463490156206-0-4\" x=\"82.608995\" y=\"95.831\"/>\n",
       "</g>\n",
       "<g style=\"fill:rgb(0%,0%,0%);fill-opacity:1;\">\n",
       "  <use xlink:href=\"#glyph-1558463490156206-0-6\" x=\"88.686205\" y=\"95.831\"/>\n",
       "  <use xlink:href=\"#glyph-1558463490156206-0-2\" x=\"92.003764\" y=\"95.831\"/>\n",
       "  <use xlink:href=\"#glyph-1558463490156206-0-3\" x=\"96.985084\" y=\"95.831\"/>\n",
       "</g>\n",
       "<g style=\"fill:rgb(0%,0%,0%);fill-opacity:1;\">\n",
       "  <use xlink:href=\"#glyph-1558463490156206-0-1\" x=\"120.617\" y=\"95.831\"/>\n",
       "  <use xlink:href=\"#glyph-1558463490156206-0-2\" x=\"123.386614\" y=\"95.831\"/>\n",
       "  <use xlink:href=\"#glyph-1558463490156206-0-4\" x=\"128.367934\" y=\"95.831\"/>\n",
       "</g>\n",
       "<g style=\"fill:rgb(0%,0%,0%);fill-opacity:1;\">\n",
       "  <use xlink:href=\"#glyph-1558463490156206-0-2\" x=\"134.445144\" y=\"95.831\"/>\n",
       "  <use xlink:href=\"#glyph-1558463490156206-0-4\" x=\"139.426464\" y=\"95.831\"/>\n",
       "</g>\n",
       "<g style=\"fill:rgb(0%,0%,0%);fill-opacity:1;\">\n",
       "  <use xlink:href=\"#glyph-1558463490156206-0-2\" x=\"145.503675\" y=\"95.831\"/>\n",
       "  <use xlink:href=\"#glyph-1558463490156206-0-4\" x=\"150.484995\" y=\"95.831\"/>\n",
       "</g>\n",
       "<g style=\"fill:rgb(0%,0%,0%);fill-opacity:1;\">\n",
       "  <use xlink:href=\"#glyph-1558463490156206-0-2\" x=\"156.562205\" y=\"95.831\"/>\n",
       "  <use xlink:href=\"#glyph-1558463490156206-0-3\" x=\"161.543525\" y=\"95.831\"/>\n",
       "</g>\n",
       "<g style=\"fill:rgb(0%,0%,0%);fill-opacity:1;\">\n",
       "  <use xlink:href=\"#glyph-1558463490156206-0-1\" x=\"1306.816\" y=\"95.831\"/>\n",
       "  <use xlink:href=\"#glyph-1558463490156206-0-5\" x=\"1309.585614\" y=\"95.831\"/>\n",
       "  <use xlink:href=\"#glyph-1558463490156206-0-4\" x=\"1314.566934\" y=\"95.831\"/>\n",
       "</g>\n",
       "<g style=\"fill:rgb(0%,0%,0%);fill-opacity:1;\">\n",
       "  <use xlink:href=\"#glyph-1558463490156206-0-2\" x=\"1320.644144\" y=\"95.831\"/>\n",
       "  <use xlink:href=\"#glyph-1558463490156206-0-4\" x=\"1325.625464\" y=\"95.831\"/>\n",
       "</g>\n",
       "<g style=\"fill:rgb(0%,0%,0%);fill-opacity:1;\">\n",
       "  <use xlink:href=\"#glyph-1558463490156206-0-5\" x=\"1331.702675\" y=\"95.831\"/>\n",
       "  <use xlink:href=\"#glyph-1558463490156206-0-4\" x=\"1336.683995\" y=\"95.831\"/>\n",
       "</g>\n",
       "<g style=\"fill:rgb(0%,0%,0%);fill-opacity:1;\">\n",
       "  <use xlink:href=\"#glyph-1558463490156206-0-5\" x=\"1342.761205\" y=\"95.831\"/>\n",
       "  <use xlink:href=\"#glyph-1558463490156206-0-3\" x=\"1347.742525\" y=\"95.831\"/>\n",
       "</g>\n",
       "<g style=\"fill:rgb(0%,0%,0%);fill-opacity:1;\">\n",
       "  <use xlink:href=\"#glyph-1558463490156206-0-1\" x=\"1923.423\" y=\"95.831\"/>\n",
       "  <use xlink:href=\"#glyph-1558463490156206-0-5\" x=\"1926.192614\" y=\"95.831\"/>\n",
       "  <use xlink:href=\"#glyph-1558463490156206-0-4\" x=\"1931.173934\" y=\"95.831\"/>\n",
       "</g>\n",
       "<g style=\"fill:rgb(0%,0%,0%);fill-opacity:1;\">\n",
       "  <use xlink:href=\"#glyph-1558463490156206-0-6\" x=\"1937.251144\" y=\"95.831\"/>\n",
       "  <use xlink:href=\"#glyph-1558463490156206-0-2\" x=\"1940.568703\" y=\"95.831\"/>\n",
       "  <use xlink:href=\"#glyph-1558463490156206-0-4\" x=\"1945.550023\" y=\"95.831\"/>\n",
       "</g>\n",
       "<g style=\"fill:rgb(0%,0%,0%);fill-opacity:1;\">\n",
       "  <use xlink:href=\"#glyph-1558463490156206-0-5\" x=\"1951.627234\" y=\"95.831\"/>\n",
       "  <use xlink:href=\"#glyph-1558463490156206-0-4\" x=\"1956.608554\" y=\"95.831\"/>\n",
       "</g>\n",
       "<g style=\"fill:rgb(0%,0%,0%);fill-opacity:1;\">\n",
       "  <use xlink:href=\"#glyph-1558463490156206-0-5\" x=\"1962.685764\" y=\"95.831\"/>\n",
       "  <use xlink:href=\"#glyph-1558463490156206-0-3\" x=\"1967.667084\" y=\"95.831\"/>\n",
       "</g>\n",
       "<g style=\"fill:rgb(0%,0%,0%);fill-opacity:1;\">\n",
       "  <use xlink:href=\"#glyph-1558463490156206-0-1\" x=\"227.27\" y=\"95.831\"/>\n",
       "  <use xlink:href=\"#glyph-1558463490156206-0-2\" x=\"230.039614\" y=\"95.831\"/>\n",
       "  <use xlink:href=\"#glyph-1558463490156206-0-4\" x=\"235.020934\" y=\"95.831\"/>\n",
       "</g>\n",
       "<g style=\"fill:rgb(0%,0%,0%);fill-opacity:1;\">\n",
       "  <use xlink:href=\"#glyph-1558463490156206-0-5\" x=\"241.098144\" y=\"95.831\"/>\n",
       "  <use xlink:href=\"#glyph-1558463490156206-0-4\" x=\"246.079464\" y=\"95.831\"/>\n",
       "</g>\n",
       "<g style=\"fill:rgb(0%,0%,0%);fill-opacity:1;\">\n",
       "  <use xlink:href=\"#glyph-1558463490156206-0-5\" x=\"252.156675\" y=\"95.831\"/>\n",
       "  <use xlink:href=\"#glyph-1558463490156206-0-4\" x=\"257.137995\" y=\"95.831\"/>\n",
       "</g>\n",
       "<g style=\"fill:rgb(0%,0%,0%);fill-opacity:1;\">\n",
       "  <use xlink:href=\"#glyph-1558463490156206-0-5\" x=\"263.215205\" y=\"95.831\"/>\n",
       "  <use xlink:href=\"#glyph-1558463490156206-0-3\" x=\"268.196525\" y=\"95.831\"/>\n",
       "</g>\n",
       "<g style=\"fill:rgb(0%,0%,0%);fill-opacity:1;\">\n",
       "  <use xlink:href=\"#glyph-1558463490156206-0-1\" x=\"1238.387\" y=\"95.831\"/>\n",
       "  <use xlink:href=\"#glyph-1558463490156206-0-5\" x=\"1241.156614\" y=\"95.831\"/>\n",
       "  <use xlink:href=\"#glyph-1558463490156206-0-4\" x=\"1246.137934\" y=\"95.831\"/>\n",
       "</g>\n",
       "<g style=\"fill:rgb(0%,0%,0%);fill-opacity:1;\">\n",
       "  <use xlink:href=\"#glyph-1558463490156206-0-5\" x=\"1252.215144\" y=\"95.831\"/>\n",
       "  <use xlink:href=\"#glyph-1558463490156206-0-4\" x=\"1257.196464\" y=\"95.831\"/>\n",
       "</g>\n",
       "<g style=\"fill:rgb(0%,0%,0%);fill-opacity:1;\">\n",
       "  <use xlink:href=\"#glyph-1558463490156206-0-2\" x=\"1263.273675\" y=\"95.831\"/>\n",
       "  <use xlink:href=\"#glyph-1558463490156206-0-4\" x=\"1268.254995\" y=\"95.831\"/>\n",
       "</g>\n",
       "<g style=\"fill:rgb(0%,0%,0%);fill-opacity:1;\">\n",
       "  <use xlink:href=\"#glyph-1558463490156206-0-5\" x=\"1274.332205\" y=\"95.831\"/>\n",
       "  <use xlink:href=\"#glyph-1558463490156206-0-3\" x=\"1279.313525\" y=\"95.831\"/>\n",
       "</g>\n",
       "<g style=\"fill:rgb(0%,0%,0%);fill-opacity:1;\">\n",
       "  <use xlink:href=\"#glyph-1558463490156206-0-1\" x=\"1838.232\" y=\"95.831\"/>\n",
       "  <use xlink:href=\"#glyph-1558463490156206-0-5\" x=\"1841.001614\" y=\"95.831\"/>\n",
       "  <use xlink:href=\"#glyph-1558463490156206-0-4\" x=\"1845.982934\" y=\"95.831\"/>\n",
       "</g>\n",
       "<g style=\"fill:rgb(0%,0%,0%);fill-opacity:1;\">\n",
       "  <use xlink:href=\"#glyph-1558463490156206-0-5\" x=\"1852.060144\" y=\"95.831\"/>\n",
       "  <use xlink:href=\"#glyph-1558463490156206-0-4\" x=\"1857.041464\" y=\"95.831\"/>\n",
       "</g>\n",
       "<g style=\"fill:rgb(0%,0%,0%);fill-opacity:1;\">\n",
       "  <use xlink:href=\"#glyph-1558463490156206-0-2\" x=\"1863.118675\" y=\"95.831\"/>\n",
       "  <use xlink:href=\"#glyph-1558463490156206-0-4\" x=\"1868.099995\" y=\"95.831\"/>\n",
       "</g>\n",
       "<g style=\"fill:rgb(0%,0%,0%);fill-opacity:1;\">\n",
       "  <use xlink:href=\"#glyph-1558463490156206-0-2\" x=\"1874.177205\" y=\"95.831\"/>\n",
       "  <use xlink:href=\"#glyph-1558463490156206-0-3\" x=\"1879.158525\" y=\"95.831\"/>\n",
       "</g>\n",
       "<g style=\"fill:rgb(0%,0%,0%);fill-opacity:1;\">\n",
       "  <use xlink:href=\"#glyph-1558463490156206-0-1\" x=\"368.69\" y=\"95.831\"/>\n",
       "  <use xlink:href=\"#glyph-1558463490156206-0-2\" x=\"371.459614\" y=\"95.831\"/>\n",
       "  <use xlink:href=\"#glyph-1558463490156206-0-4\" x=\"376.440934\" y=\"95.831\"/>\n",
       "</g>\n",
       "<g style=\"fill:rgb(0%,0%,0%);fill-opacity:1;\">\n",
       "  <use xlink:href=\"#glyph-1558463490156206-0-2\" x=\"382.518144\" y=\"95.831\"/>\n",
       "  <use xlink:href=\"#glyph-1558463490156206-0-4\" x=\"387.499464\" y=\"95.831\"/>\n",
       "</g>\n",
       "<g style=\"fill:rgb(0%,0%,0%);fill-opacity:1;\">\n",
       "  <use xlink:href=\"#glyph-1558463490156206-0-6\" x=\"393.576675\" y=\"95.831\"/>\n",
       "  <use xlink:href=\"#glyph-1558463490156206-0-2\" x=\"396.894234\" y=\"95.831\"/>\n",
       "  <use xlink:href=\"#glyph-1558463490156206-0-4\" x=\"401.875554\" y=\"95.831\"/>\n",
       "</g>\n",
       "<g style=\"fill:rgb(0%,0%,0%);fill-opacity:1;\">\n",
       "  <use xlink:href=\"#glyph-1558463490156206-0-6\" x=\"407.952764\" y=\"95.831\"/>\n",
       "  <use xlink:href=\"#glyph-1558463490156206-0-2\" x=\"411.270323\" y=\"95.831\"/>\n",
       "  <use xlink:href=\"#glyph-1558463490156206-0-3\" x=\"416.251643\" y=\"95.831\"/>\n",
       "</g>\n",
       "<g style=\"fill:rgb(0%,0%,0%);fill-opacity:1;\">\n",
       "  <use xlink:href=\"#glyph-1558463490156206-0-1\" x=\"633.156\" y=\"95.831\"/>\n",
       "  <use xlink:href=\"#glyph-1558463490156206-0-6\" x=\"635.925614\" y=\"95.831\"/>\n",
       "  <use xlink:href=\"#glyph-1558463490156206-0-2\" x=\"639.243173\" y=\"95.831\"/>\n",
       "  <use xlink:href=\"#glyph-1558463490156206-0-4\" x=\"644.224493\" y=\"95.831\"/>\n",
       "</g>\n",
       "<g style=\"fill:rgb(0%,0%,0%);fill-opacity:1;\">\n",
       "  <use xlink:href=\"#glyph-1558463490156206-0-5\" x=\"650.301703\" y=\"95.831\"/>\n",
       "  <use xlink:href=\"#glyph-1558463490156206-0-4\" x=\"655.283023\" y=\"95.831\"/>\n",
       "</g>\n",
       "<g style=\"fill:rgb(0%,0%,0%);fill-opacity:1;\">\n",
       "  <use xlink:href=\"#glyph-1558463490156206-0-5\" x=\"661.360234\" y=\"95.831\"/>\n",
       "  <use xlink:href=\"#glyph-1558463490156206-0-4\" x=\"666.341554\" y=\"95.831\"/>\n",
       "</g>\n",
       "<g style=\"fill:rgb(0%,0%,0%);fill-opacity:1;\">\n",
       "  <use xlink:href=\"#glyph-1558463490156206-0-2\" x=\"672.418764\" y=\"95.831\"/>\n",
       "  <use xlink:href=\"#glyph-1558463490156206-0-3\" x=\"677.400084\" y=\"95.831\"/>\n",
       "</g>\n",
       "<g style=\"fill:rgb(0%,0%,0%);fill-opacity:1;\">\n",
       "  <use xlink:href=\"#glyph-1558463490156206-0-1\" x=\"772.227\" y=\"95.831\"/>\n",
       "  <use xlink:href=\"#glyph-1558463490156206-0-6\" x=\"774.996614\" y=\"95.831\"/>\n",
       "  <use xlink:href=\"#glyph-1558463490156206-0-2\" x=\"778.314173\" y=\"95.831\"/>\n",
       "  <use xlink:href=\"#glyph-1558463490156206-0-4\" x=\"783.295493\" y=\"95.831\"/>\n",
       "</g>\n",
       "<g style=\"fill:rgb(0%,0%,0%);fill-opacity:1;\">\n",
       "  <use xlink:href=\"#glyph-1558463490156206-0-5\" x=\"789.372703\" y=\"95.831\"/>\n",
       "  <use xlink:href=\"#glyph-1558463490156206-0-4\" x=\"794.354023\" y=\"95.831\"/>\n",
       "</g>\n",
       "<g style=\"fill:rgb(0%,0%,0%);fill-opacity:1;\">\n",
       "  <use xlink:href=\"#glyph-1558463490156206-0-5\" x=\"800.431234\" y=\"95.831\"/>\n",
       "  <use xlink:href=\"#glyph-1558463490156206-0-4\" x=\"805.412554\" y=\"95.831\"/>\n",
       "</g>\n",
       "<g style=\"fill:rgb(0%,0%,0%);fill-opacity:1;\">\n",
       "  <use xlink:href=\"#glyph-1558463490156206-0-5\" x=\"811.489764\" y=\"95.831\"/>\n",
       "  <use xlink:href=\"#glyph-1558463490156206-0-3\" x=\"816.471084\" y=\"95.831\"/>\n",
       "</g>\n",
       "<g style=\"fill:rgb(0%,0%,0%);fill-opacity:1;\">\n",
       "  <use xlink:href=\"#glyph-1558463490156206-0-1\" x=\"1050.173\" y=\"95.831\"/>\n",
       "  <use xlink:href=\"#glyph-1558463490156206-0-5\" x=\"1052.942614\" y=\"95.831\"/>\n",
       "  <use xlink:href=\"#glyph-1558463490156206-0-4\" x=\"1057.923934\" y=\"95.831\"/>\n",
       "</g>\n",
       "<g style=\"fill:rgb(0%,0%,0%);fill-opacity:1;\">\n",
       "  <use xlink:href=\"#glyph-1558463490156206-0-5\" x=\"1064.001144\" y=\"95.831\"/>\n",
       "  <use xlink:href=\"#glyph-1558463490156206-0-4\" x=\"1068.982464\" y=\"95.831\"/>\n",
       "</g>\n",
       "<g style=\"fill:rgb(0%,0%,0%);fill-opacity:1;\">\n",
       "  <use xlink:href=\"#glyph-1558463490156206-0-6\" x=\"1075.059675\" y=\"95.831\"/>\n",
       "  <use xlink:href=\"#glyph-1558463490156206-0-2\" x=\"1078.377234\" y=\"95.831\"/>\n",
       "  <use xlink:href=\"#glyph-1558463490156206-0-4\" x=\"1083.358554\" y=\"95.831\"/>\n",
       "</g>\n",
       "<g style=\"fill:rgb(0%,0%,0%);fill-opacity:1;\">\n",
       "  <use xlink:href=\"#glyph-1558463490156206-0-5\" x=\"1089.435764\" y=\"95.831\"/>\n",
       "  <use xlink:href=\"#glyph-1558463490156206-0-3\" x=\"1094.417084\" y=\"95.831\"/>\n",
       "</g>\n",
       "<g style=\"fill:rgb(0%,0%,0%);fill-opacity:1;\">\n",
       "  <use xlink:href=\"#glyph-1558463490156206-0-1\" x=\"1729.644\" y=\"95.831\"/>\n",
       "  <use xlink:href=\"#glyph-1558463490156206-0-5\" x=\"1732.413614\" y=\"95.831\"/>\n",
       "  <use xlink:href=\"#glyph-1558463490156206-0-4\" x=\"1737.394934\" y=\"95.831\"/>\n",
       "</g>\n",
       "<g style=\"fill:rgb(0%,0%,0%);fill-opacity:1;\">\n",
       "  <use xlink:href=\"#glyph-1558463490156206-0-5\" x=\"1743.472144\" y=\"95.831\"/>\n",
       "  <use xlink:href=\"#glyph-1558463490156206-0-4\" x=\"1748.453464\" y=\"95.831\"/>\n",
       "</g>\n",
       "<g style=\"fill:rgb(0%,0%,0%);fill-opacity:1;\">\n",
       "  <use xlink:href=\"#glyph-1558463490156206-0-6\" x=\"1754.530675\" y=\"95.831\"/>\n",
       "  <use xlink:href=\"#glyph-1558463490156206-0-2\" x=\"1757.848234\" y=\"95.831\"/>\n",
       "  <use xlink:href=\"#glyph-1558463490156206-0-4\" x=\"1762.829554\" y=\"95.831\"/>\n",
       "</g>\n",
       "<g style=\"fill:rgb(0%,0%,0%);fill-opacity:1;\">\n",
       "  <use xlink:href=\"#glyph-1558463490156206-0-6\" x=\"1768.906764\" y=\"95.831\"/>\n",
       "  <use xlink:href=\"#glyph-1558463490156206-0-2\" x=\"1772.224323\" y=\"95.831\"/>\n",
       "  <use xlink:href=\"#glyph-1558463490156206-0-3\" x=\"1777.205643\" y=\"95.831\"/>\n",
       "</g>\n",
       "<g style=\"fill:rgb(0%,0%,0%);fill-opacity:1;\">\n",
       "  <use xlink:href=\"#glyph-1558463490156206-0-1\" x=\"1369.717\" y=\"95.831\"/>\n",
       "  <use xlink:href=\"#glyph-1558463490156206-0-5\" x=\"1372.486614\" y=\"95.831\"/>\n",
       "  <use xlink:href=\"#glyph-1558463490156206-0-4\" x=\"1377.467934\" y=\"95.831\"/>\n",
       "</g>\n",
       "<g style=\"fill:rgb(0%,0%,0%);fill-opacity:1;\">\n",
       "  <use xlink:href=\"#glyph-1558463490156206-0-2\" x=\"1383.545144\" y=\"95.831\"/>\n",
       "  <use xlink:href=\"#glyph-1558463490156206-0-4\" x=\"1388.526464\" y=\"95.831\"/>\n",
       "</g>\n",
       "<g style=\"fill:rgb(0%,0%,0%);fill-opacity:1;\">\n",
       "  <use xlink:href=\"#glyph-1558463490156206-0-2\" x=\"1394.603675\" y=\"95.831\"/>\n",
       "  <use xlink:href=\"#glyph-1558463490156206-0-4\" x=\"1399.584995\" y=\"95.831\"/>\n",
       "</g>\n",
       "<g style=\"fill:rgb(0%,0%,0%);fill-opacity:1;\">\n",
       "  <use xlink:href=\"#glyph-1558463490156206-0-2\" x=\"1405.662205\" y=\"95.831\"/>\n",
       "  <use xlink:href=\"#glyph-1558463490156206-0-3\" x=\"1410.643525\" y=\"95.831\"/>\n",
       "</g>\n",
       "<g style=\"fill:rgb(0%,0%,0%);fill-opacity:1;\">\n",
       "  <use xlink:href=\"#glyph-1558463490156206-0-1\" x=\"545.928\" y=\"95.831\"/>\n",
       "  <use xlink:href=\"#glyph-1558463490156206-0-6\" x=\"548.697614\" y=\"95.831\"/>\n",
       "  <use xlink:href=\"#glyph-1558463490156206-0-2\" x=\"552.015173\" y=\"95.831\"/>\n",
       "  <use xlink:href=\"#glyph-1558463490156206-0-4\" x=\"556.996493\" y=\"95.831\"/>\n",
       "</g>\n",
       "<g style=\"fill:rgb(0%,0%,0%);fill-opacity:1;\">\n",
       "  <use xlink:href=\"#glyph-1558463490156206-0-6\" x=\"563.073703\" y=\"95.831\"/>\n",
       "  <use xlink:href=\"#glyph-1558463490156206-0-2\" x=\"566.391263\" y=\"95.831\"/>\n",
       "  <use xlink:href=\"#glyph-1558463490156206-0-4\" x=\"571.372583\" y=\"95.831\"/>\n",
       "</g>\n",
       "<g style=\"fill:rgb(0%,0%,0%);fill-opacity:1;\">\n",
       "  <use xlink:href=\"#glyph-1558463490156206-0-6\" x=\"577.449793\" y=\"95.831\"/>\n",
       "  <use xlink:href=\"#glyph-1558463490156206-0-2\" x=\"580.767352\" y=\"95.831\"/>\n",
       "  <use xlink:href=\"#glyph-1558463490156206-0-4\" x=\"585.748672\" y=\"95.831\"/>\n",
       "</g>\n",
       "<g style=\"fill:rgb(0%,0%,0%);fill-opacity:1;\">\n",
       "  <use xlink:href=\"#glyph-1558463490156206-0-6\" x=\"591.825882\" y=\"95.831\"/>\n",
       "  <use xlink:href=\"#glyph-1558463490156206-0-2\" x=\"595.143442\" y=\"95.831\"/>\n",
       "  <use xlink:href=\"#glyph-1558463490156206-0-3\" x=\"600.124762\" y=\"95.831\"/>\n",
       "</g>\n",
       "<g style=\"fill:rgb(0%,0%,0%);fill-opacity:1;\">\n",
       "  <use xlink:href=\"#glyph-1558463490156206-0-1\" x=\"699.374\" y=\"95.831\"/>\n",
       "  <use xlink:href=\"#glyph-1558463490156206-0-6\" x=\"702.143614\" y=\"95.831\"/>\n",
       "  <use xlink:href=\"#glyph-1558463490156206-0-2\" x=\"705.461173\" y=\"95.831\"/>\n",
       "  <use xlink:href=\"#glyph-1558463490156206-0-4\" x=\"710.442493\" y=\"95.831\"/>\n",
       "</g>\n",
       "<g style=\"fill:rgb(0%,0%,0%);fill-opacity:1;\">\n",
       "  <use xlink:href=\"#glyph-1558463490156206-0-6\" x=\"716.519703\" y=\"95.831\"/>\n",
       "  <use xlink:href=\"#glyph-1558463490156206-0-2\" x=\"719.837263\" y=\"95.831\"/>\n",
       "  <use xlink:href=\"#glyph-1558463490156206-0-4\" x=\"724.818583\" y=\"95.831\"/>\n",
       "</g>\n",
       "<g style=\"fill:rgb(0%,0%,0%);fill-opacity:1;\">\n",
       "  <use xlink:href=\"#glyph-1558463490156206-0-6\" x=\"730.895793\" y=\"95.831\"/>\n",
       "  <use xlink:href=\"#glyph-1558463490156206-0-2\" x=\"734.213352\" y=\"95.831\"/>\n",
       "  <use xlink:href=\"#glyph-1558463490156206-0-4\" x=\"739.194672\" y=\"95.831\"/>\n",
       "</g>\n",
       "<g style=\"fill:rgb(0%,0%,0%);fill-opacity:1;\">\n",
       "  <use xlink:href=\"#glyph-1558463490156206-0-5\" x=\"745.271882\" y=\"95.831\"/>\n",
       "  <use xlink:href=\"#glyph-1558463490156206-0-3\" x=\"750.253202\" y=\"95.831\"/>\n",
       "</g>\n",
       "<g style=\"fill:rgb(0%,0%,0%);fill-opacity:1;\">\n",
       "  <use xlink:href=\"#glyph-1558463490156206-0-1\" x=\"3.321\" y=\"124.178\"/>\n",
       "  <use xlink:href=\"#glyph-1558463490156206-0-2\" x=\"6.090614\" y=\"124.178\"/>\n",
       "  <use xlink:href=\"#glyph-1558463490156206-0-4\" x=\"11.071934\" y=\"124.178\"/>\n",
       "</g>\n",
       "<g style=\"fill:rgb(0%,0%,0%);fill-opacity:1;\">\n",
       "  <use xlink:href=\"#glyph-1558463490156206-0-2\" x=\"17.149144\" y=\"124.178\"/>\n",
       "  <use xlink:href=\"#glyph-1558463490156206-0-4\" x=\"22.130464\" y=\"124.178\"/>\n",
       "</g>\n",
       "<g style=\"fill:rgb(0%,0%,0%);fill-opacity:1;\">\n",
       "  <use xlink:href=\"#glyph-1558463490156206-0-2\" x=\"28.207675\" y=\"124.178\"/>\n",
       "  <use xlink:href=\"#glyph-1558463490156206-0-4\" x=\"33.188995\" y=\"124.178\"/>\n",
       "</g>\n",
       "<g style=\"fill:rgb(0%,0%,0%);fill-opacity:1;\">\n",
       "  <use xlink:href=\"#glyph-1558463490156206-0-6\" x=\"39.266205\" y=\"124.178\"/>\n",
       "  <use xlink:href=\"#glyph-1558463490156206-0-2\" x=\"42.583764\" y=\"124.178\"/>\n",
       "  <use xlink:href=\"#glyph-1558463490156206-0-4\" x=\"47.565084\" y=\"124.178\"/>\n",
       "</g>\n",
       "<g style=\"fill:rgb(0%,0%,0%);fill-opacity:1;\">\n",
       "  <use xlink:href=\"#glyph-1558463490156206-0-6\" x=\"53.642295\" y=\"124.178\"/>\n",
       "  <use xlink:href=\"#glyph-1558463490156206-0-2\" x=\"56.959854\" y=\"124.178\"/>\n",
       "  <use xlink:href=\"#glyph-1558463490156206-0-3\" x=\"61.941174\" y=\"124.178\"/>\n",
       "</g>\n",
       "<g style=\"fill:rgb(0%,0%,0%);fill-opacity:1;\">\n",
       "  <use xlink:href=\"#glyph-1558463490156206-0-1\" x=\"455.381\" y=\"124.178\"/>\n",
       "  <use xlink:href=\"#glyph-1558463490156206-0-6\" x=\"458.150614\" y=\"124.178\"/>\n",
       "  <use xlink:href=\"#glyph-1558463490156206-0-2\" x=\"461.468173\" y=\"124.178\"/>\n",
       "  <use xlink:href=\"#glyph-1558463490156206-0-4\" x=\"466.449493\" y=\"124.178\"/>\n",
       "</g>\n",
       "<g style=\"fill:rgb(0%,0%,0%);fill-opacity:1;\">\n",
       "  <use xlink:href=\"#glyph-1558463490156206-0-6\" x=\"472.526703\" y=\"124.178\"/>\n",
       "  <use xlink:href=\"#glyph-1558463490156206-0-2\" x=\"475.844263\" y=\"124.178\"/>\n",
       "  <use xlink:href=\"#glyph-1558463490156206-0-4\" x=\"480.825583\" y=\"124.178\"/>\n",
       "</g>\n",
       "<g style=\"fill:rgb(0%,0%,0%);fill-opacity:1;\">\n",
       "  <use xlink:href=\"#glyph-1558463490156206-0-6\" x=\"486.902793\" y=\"124.178\"/>\n",
       "  <use xlink:href=\"#glyph-1558463490156206-0-2\" x=\"490.220352\" y=\"124.178\"/>\n",
       "  <use xlink:href=\"#glyph-1558463490156206-0-4\" x=\"495.201672\" y=\"124.178\"/>\n",
       "</g>\n",
       "<g style=\"fill:rgb(0%,0%,0%);fill-opacity:1;\">\n",
       "  <use xlink:href=\"#glyph-1558463490156206-0-6\" x=\"501.278882\" y=\"124.178\"/>\n",
       "  <use xlink:href=\"#glyph-1558463490156206-0-2\" x=\"504.596442\" y=\"124.178\"/>\n",
       "  <use xlink:href=\"#glyph-1558463490156206-0-4\" x=\"509.577762\" y=\"124.178\"/>\n",
       "</g>\n",
       "<g style=\"fill:rgb(0%,0%,0%);fill-opacity:1;\">\n",
       "  <use xlink:href=\"#glyph-1558463490156206-0-6\" x=\"515.654972\" y=\"124.178\"/>\n",
       "  <use xlink:href=\"#glyph-1558463490156206-0-2\" x=\"518.972531\" y=\"124.178\"/>\n",
       "  <use xlink:href=\"#glyph-1558463490156206-0-3\" x=\"523.953851\" y=\"124.178\"/>\n",
       "</g>\n",
       "<g style=\"fill:rgb(0%,0%,0%);fill-opacity:1;\">\n",
       "  <use xlink:href=\"#glyph-1558463490156206-0-1\" x=\"540.398\" y=\"124.178\"/>\n",
       "  <use xlink:href=\"#glyph-1558463490156206-0-6\" x=\"543.167614\" y=\"124.178\"/>\n",
       "  <use xlink:href=\"#glyph-1558463490156206-0-2\" x=\"546.485173\" y=\"124.178\"/>\n",
       "  <use xlink:href=\"#glyph-1558463490156206-0-4\" x=\"551.466493\" y=\"124.178\"/>\n",
       "</g>\n",
       "<g style=\"fill:rgb(0%,0%,0%);fill-opacity:1;\">\n",
       "  <use xlink:href=\"#glyph-1558463490156206-0-6\" x=\"557.543703\" y=\"124.178\"/>\n",
       "  <use xlink:href=\"#glyph-1558463490156206-0-2\" x=\"560.861263\" y=\"124.178\"/>\n",
       "  <use xlink:href=\"#glyph-1558463490156206-0-4\" x=\"565.842583\" y=\"124.178\"/>\n",
       "</g>\n",
       "<g style=\"fill:rgb(0%,0%,0%);fill-opacity:1;\">\n",
       "  <use xlink:href=\"#glyph-1558463490156206-0-6\" x=\"571.919793\" y=\"124.178\"/>\n",
       "  <use xlink:href=\"#glyph-1558463490156206-0-2\" x=\"575.237352\" y=\"124.178\"/>\n",
       "  <use xlink:href=\"#glyph-1558463490156206-0-4\" x=\"580.218672\" y=\"124.178\"/>\n",
       "</g>\n",
       "<g style=\"fill:rgb(0%,0%,0%);fill-opacity:1;\">\n",
       "  <use xlink:href=\"#glyph-1558463490156206-0-6\" x=\"586.295882\" y=\"124.178\"/>\n",
       "  <use xlink:href=\"#glyph-1558463490156206-0-2\" x=\"589.613442\" y=\"124.178\"/>\n",
       "  <use xlink:href=\"#glyph-1558463490156206-0-4\" x=\"594.594762\" y=\"124.178\"/>\n",
       "</g>\n",
       "<g style=\"fill:rgb(0%,0%,0%);fill-opacity:1;\">\n",
       "  <use xlink:href=\"#glyph-1558463490156206-0-5\" x=\"600.671972\" y=\"124.178\"/>\n",
       "  <use xlink:href=\"#glyph-1558463490156206-0-3\" x=\"605.653292\" y=\"124.178\"/>\n",
       "</g>\n",
       "<g style=\"fill:rgb(0%,0%,0%);fill-opacity:1;\">\n",
       "  <use xlink:href=\"#glyph-1558463490156206-0-1\" x=\"78.385\" y=\"124.178\"/>\n",
       "  <use xlink:href=\"#glyph-1558463490156206-0-2\" x=\"81.154614\" y=\"124.178\"/>\n",
       "  <use xlink:href=\"#glyph-1558463490156206-0-4\" x=\"86.135934\" y=\"124.178\"/>\n",
       "</g>\n",
       "<g style=\"fill:rgb(0%,0%,0%);fill-opacity:1;\">\n",
       "  <use xlink:href=\"#glyph-1558463490156206-0-2\" x=\"92.213144\" y=\"124.178\"/>\n",
       "  <use xlink:href=\"#glyph-1558463490156206-0-4\" x=\"97.194464\" y=\"124.178\"/>\n",
       "</g>\n",
       "<g style=\"fill:rgb(0%,0%,0%);fill-opacity:1;\">\n",
       "  <use xlink:href=\"#glyph-1558463490156206-0-2\" x=\"103.271675\" y=\"124.178\"/>\n",
       "  <use xlink:href=\"#glyph-1558463490156206-0-4\" x=\"108.252995\" y=\"124.178\"/>\n",
       "</g>\n",
       "<g style=\"fill:rgb(0%,0%,0%);fill-opacity:1;\">\n",
       "  <use xlink:href=\"#glyph-1558463490156206-0-2\" x=\"114.330205\" y=\"124.178\"/>\n",
       "  <use xlink:href=\"#glyph-1558463490156206-0-4\" x=\"119.311525\" y=\"124.178\"/>\n",
       "</g>\n",
       "<g style=\"fill:rgb(0%,0%,0%);fill-opacity:1;\">\n",
       "  <use xlink:href=\"#glyph-1558463490156206-0-6\" x=\"125.388736\" y=\"124.178\"/>\n",
       "  <use xlink:href=\"#glyph-1558463490156206-0-2\" x=\"128.706295\" y=\"124.178\"/>\n",
       "  <use xlink:href=\"#glyph-1558463490156206-0-3\" x=\"133.687615\" y=\"124.178\"/>\n",
       "</g>\n",
       "<g style=\"fill:rgb(0%,0%,0%);fill-opacity:1;\">\n",
       "  <use xlink:href=\"#glyph-1558463490156206-0-1\" x=\"150.132\" y=\"124.178\"/>\n",
       "  <use xlink:href=\"#glyph-1558463490156206-0-2\" x=\"152.901614\" y=\"124.178\"/>\n",
       "  <use xlink:href=\"#glyph-1558463490156206-0-4\" x=\"157.882934\" y=\"124.178\"/>\n",
       "</g>\n",
       "<g style=\"fill:rgb(0%,0%,0%);fill-opacity:1;\">\n",
       "  <use xlink:href=\"#glyph-1558463490156206-0-2\" x=\"163.960144\" y=\"124.178\"/>\n",
       "  <use xlink:href=\"#glyph-1558463490156206-0-4\" x=\"168.941464\" y=\"124.178\"/>\n",
       "</g>\n",
       "<g style=\"fill:rgb(0%,0%,0%);fill-opacity:1;\">\n",
       "  <use xlink:href=\"#glyph-1558463490156206-0-2\" x=\"175.018675\" y=\"124.178\"/>\n",
       "  <use xlink:href=\"#glyph-1558463490156206-0-4\" x=\"179.999995\" y=\"124.178\"/>\n",
       "</g>\n",
       "<g style=\"fill:rgb(0%,0%,0%);fill-opacity:1;\">\n",
       "  <use xlink:href=\"#glyph-1558463490156206-0-2\" x=\"186.077205\" y=\"124.178\"/>\n",
       "  <use xlink:href=\"#glyph-1558463490156206-0-4\" x=\"191.058525\" y=\"124.178\"/>\n",
       "</g>\n",
       "<g style=\"fill:rgb(0%,0%,0%);fill-opacity:1;\">\n",
       "  <use xlink:href=\"#glyph-1558463490156206-0-2\" x=\"197.135736\" y=\"124.178\"/>\n",
       "  <use xlink:href=\"#glyph-1558463490156206-0-3\" x=\"202.117056\" y=\"124.178\"/>\n",
       "</g>\n",
       "<g style=\"fill:rgb(0%,0%,0%);fill-opacity:1;\">\n",
       "  <use xlink:href=\"#glyph-1558463490156206-0-1\" x=\"1002.412\" y=\"124.178\"/>\n",
       "  <use xlink:href=\"#glyph-1558463490156206-0-5\" x=\"1005.181614\" y=\"124.178\"/>\n",
       "  <use xlink:href=\"#glyph-1558463490156206-0-4\" x=\"1010.162934\" y=\"124.178\"/>\n",
       "</g>\n",
       "<g style=\"fill:rgb(0%,0%,0%);fill-opacity:1;\">\n",
       "  <use xlink:href=\"#glyph-1558463490156206-0-5\" x=\"1016.240144\" y=\"124.178\"/>\n",
       "  <use xlink:href=\"#glyph-1558463490156206-0-4\" x=\"1021.221464\" y=\"124.178\"/>\n",
       "</g>\n",
       "<g style=\"fill:rgb(0%,0%,0%);fill-opacity:1;\">\n",
       "  <use xlink:href=\"#glyph-1558463490156206-0-6\" x=\"1027.298675\" y=\"124.178\"/>\n",
       "  <use xlink:href=\"#glyph-1558463490156206-0-2\" x=\"1030.616234\" y=\"124.178\"/>\n",
       "  <use xlink:href=\"#glyph-1558463490156206-0-4\" x=\"1035.597554\" y=\"124.178\"/>\n",
       "</g>\n",
       "<g style=\"fill:rgb(0%,0%,0%);fill-opacity:1;\">\n",
       "  <use xlink:href=\"#glyph-1558463490156206-0-5\" x=\"1041.674764\" y=\"124.178\"/>\n",
       "  <use xlink:href=\"#glyph-1558463490156206-0-4\" x=\"1046.656084\" y=\"124.178\"/>\n",
       "</g>\n",
       "<g style=\"fill:rgb(0%,0%,0%);fill-opacity:1;\">\n",
       "  <use xlink:href=\"#glyph-1558463490156206-0-5\" x=\"1052.733295\" y=\"124.178\"/>\n",
       "  <use xlink:href=\"#glyph-1558463490156206-0-3\" x=\"1057.714615\" y=\"124.178\"/>\n",
       "</g>\n",
       "<g style=\"fill:rgb(0%,0%,0%);fill-opacity:1;\">\n",
       "  <use xlink:href=\"#glyph-1558463490156206-0-1\" x=\"1074.158\" y=\"124.178\"/>\n",
       "  <use xlink:href=\"#glyph-1558463490156206-0-5\" x=\"1076.927614\" y=\"124.178\"/>\n",
       "  <use xlink:href=\"#glyph-1558463490156206-0-4\" x=\"1081.908934\" y=\"124.178\"/>\n",
       "</g>\n",
       "<g style=\"fill:rgb(0%,0%,0%);fill-opacity:1;\">\n",
       "  <use xlink:href=\"#glyph-1558463490156206-0-5\" x=\"1087.986144\" y=\"124.178\"/>\n",
       "  <use xlink:href=\"#glyph-1558463490156206-0-4\" x=\"1092.967464\" y=\"124.178\"/>\n",
       "</g>\n",
       "<g style=\"fill:rgb(0%,0%,0%);fill-opacity:1;\">\n",
       "  <use xlink:href=\"#glyph-1558463490156206-0-5\" x=\"1099.044675\" y=\"124.178\"/>\n",
       "  <use xlink:href=\"#glyph-1558463490156206-0-4\" x=\"1104.025995\" y=\"124.178\"/>\n",
       "</g>\n",
       "<g style=\"fill:rgb(0%,0%,0%);fill-opacity:1;\">\n",
       "  <use xlink:href=\"#glyph-1558463490156206-0-6\" x=\"1110.103205\" y=\"124.178\"/>\n",
       "  <use xlink:href=\"#glyph-1558463490156206-0-2\" x=\"1113.420764\" y=\"124.178\"/>\n",
       "  <use xlink:href=\"#glyph-1558463490156206-0-4\" x=\"1118.402084\" y=\"124.178\"/>\n",
       "</g>\n",
       "<g style=\"fill:rgb(0%,0%,0%);fill-opacity:1;\">\n",
       "  <use xlink:href=\"#glyph-1558463490156206-0-5\" x=\"1124.479295\" y=\"124.178\"/>\n",
       "  <use xlink:href=\"#glyph-1558463490156206-0-3\" x=\"1129.460615\" y=\"124.178\"/>\n",
       "</g>\n",
       "<g style=\"fill:rgb(0%,0%,0%);fill-opacity:1;\">\n",
       "  <use xlink:href=\"#glyph-1558463490156206-0-1\" x=\"1145.905\" y=\"124.178\"/>\n",
       "  <use xlink:href=\"#glyph-1558463490156206-0-5\" x=\"1148.674614\" y=\"124.178\"/>\n",
       "  <use xlink:href=\"#glyph-1558463490156206-0-4\" x=\"1153.655934\" y=\"124.178\"/>\n",
       "</g>\n",
       "<g style=\"fill:rgb(0%,0%,0%);fill-opacity:1;\">\n",
       "  <use xlink:href=\"#glyph-1558463490156206-0-5\" x=\"1159.733144\" y=\"124.178\"/>\n",
       "  <use xlink:href=\"#glyph-1558463490156206-0-4\" x=\"1164.714464\" y=\"124.178\"/>\n",
       "</g>\n",
       "<g style=\"fill:rgb(0%,0%,0%);fill-opacity:1;\">\n",
       "  <use xlink:href=\"#glyph-1558463490156206-0-5\" x=\"1170.791675\" y=\"124.178\"/>\n",
       "  <use xlink:href=\"#glyph-1558463490156206-0-4\" x=\"1175.772995\" y=\"124.178\"/>\n",
       "</g>\n",
       "<g style=\"fill:rgb(0%,0%,0%);fill-opacity:1;\">\n",
       "  <use xlink:href=\"#glyph-1558463490156206-0-6\" x=\"1181.850205\" y=\"124.178\"/>\n",
       "  <use xlink:href=\"#glyph-1558463490156206-0-2\" x=\"1185.167764\" y=\"124.178\"/>\n",
       "  <use xlink:href=\"#glyph-1558463490156206-0-4\" x=\"1190.149084\" y=\"124.178\"/>\n",
       "</g>\n",
       "<g style=\"fill:rgb(0%,0%,0%);fill-opacity:1;\">\n",
       "  <use xlink:href=\"#glyph-1558463490156206-0-6\" x=\"1196.226295\" y=\"124.178\"/>\n",
       "  <use xlink:href=\"#glyph-1558463490156206-0-2\" x=\"1199.543854\" y=\"124.178\"/>\n",
       "  <use xlink:href=\"#glyph-1558463490156206-0-3\" x=\"1204.525174\" y=\"124.178\"/>\n",
       "</g>\n",
       "<g style=\"fill:rgb(0%,0%,0%);fill-opacity:1;\">\n",
       "  <use xlink:href=\"#glyph-1558463490156206-0-1\" x=\"622.098\" y=\"124.178\"/>\n",
       "  <use xlink:href=\"#glyph-1558463490156206-0-6\" x=\"624.867614\" y=\"124.178\"/>\n",
       "  <use xlink:href=\"#glyph-1558463490156206-0-2\" x=\"628.185173\" y=\"124.178\"/>\n",
       "  <use xlink:href=\"#glyph-1558463490156206-0-4\" x=\"633.166493\" y=\"124.178\"/>\n",
       "</g>\n",
       "<g style=\"fill:rgb(0%,0%,0%);fill-opacity:1;\">\n",
       "  <use xlink:href=\"#glyph-1558463490156206-0-5\" x=\"639.243703\" y=\"124.178\"/>\n",
       "  <use xlink:href=\"#glyph-1558463490156206-0-4\" x=\"644.225023\" y=\"124.178\"/>\n",
       "</g>\n",
       "<g style=\"fill:rgb(0%,0%,0%);fill-opacity:1;\">\n",
       "  <use xlink:href=\"#glyph-1558463490156206-0-5\" x=\"650.302234\" y=\"124.178\"/>\n",
       "  <use xlink:href=\"#glyph-1558463490156206-0-4\" x=\"655.283554\" y=\"124.178\"/>\n",
       "</g>\n",
       "<g style=\"fill:rgb(0%,0%,0%);fill-opacity:1;\">\n",
       "  <use xlink:href=\"#glyph-1558463490156206-0-2\" x=\"661.360764\" y=\"124.178\"/>\n",
       "  <use xlink:href=\"#glyph-1558463490156206-0-4\" x=\"666.342084\" y=\"124.178\"/>\n",
       "</g>\n",
       "<g style=\"fill:rgb(0%,0%,0%);fill-opacity:1;\">\n",
       "  <use xlink:href=\"#glyph-1558463490156206-0-2\" x=\"672.419295\" y=\"124.178\"/>\n",
       "  <use xlink:href=\"#glyph-1558463490156206-0-3\" x=\"677.400615\" y=\"124.178\"/>\n",
       "</g>\n",
       "<g style=\"fill:rgb(0%,0%,0%);fill-opacity:1;\">\n",
       "  <use xlink:href=\"#glyph-1558463490156206-0-1\" x=\"1220.97\" y=\"124.178\"/>\n",
       "  <use xlink:href=\"#glyph-1558463490156206-0-5\" x=\"1223.739614\" y=\"124.178\"/>\n",
       "  <use xlink:href=\"#glyph-1558463490156206-0-4\" x=\"1228.720934\" y=\"124.178\"/>\n",
       "</g>\n",
       "<g style=\"fill:rgb(0%,0%,0%);fill-opacity:1;\">\n",
       "  <use xlink:href=\"#glyph-1558463490156206-0-5\" x=\"1234.798144\" y=\"124.178\"/>\n",
       "  <use xlink:href=\"#glyph-1558463490156206-0-4\" x=\"1239.779464\" y=\"124.178\"/>\n",
       "</g>\n",
       "<g style=\"fill:rgb(0%,0%,0%);fill-opacity:1;\">\n",
       "  <use xlink:href=\"#glyph-1558463490156206-0-2\" x=\"1245.856675\" y=\"124.178\"/>\n",
       "  <use xlink:href=\"#glyph-1558463490156206-0-4\" x=\"1250.837995\" y=\"124.178\"/>\n",
       "</g>\n",
       "<g style=\"fill:rgb(0%,0%,0%);fill-opacity:1;\">\n",
       "  <use xlink:href=\"#glyph-1558463490156206-0-5\" x=\"1256.915205\" y=\"124.178\"/>\n",
       "  <use xlink:href=\"#glyph-1558463490156206-0-4\" x=\"1261.896525\" y=\"124.178\"/>\n",
       "</g>\n",
       "<g style=\"fill:rgb(0%,0%,0%);fill-opacity:1;\">\n",
       "  <use xlink:href=\"#glyph-1558463490156206-0-5\" x=\"1267.973736\" y=\"124.178\"/>\n",
       "  <use xlink:href=\"#glyph-1558463490156206-0-3\" x=\"1272.955056\" y=\"124.178\"/>\n",
       "</g>\n",
       "<g style=\"fill:rgb(0%,0%,0%);fill-opacity:1;\">\n",
       "  <use xlink:href=\"#glyph-1558463490156206-0-1\" x=\"1289.399\" y=\"124.178\"/>\n",
       "  <use xlink:href=\"#glyph-1558463490156206-0-5\" x=\"1292.168614\" y=\"124.178\"/>\n",
       "  <use xlink:href=\"#glyph-1558463490156206-0-4\" x=\"1297.149934\" y=\"124.178\"/>\n",
       "</g>\n",
       "<g style=\"fill:rgb(0%,0%,0%);fill-opacity:1;\">\n",
       "  <use xlink:href=\"#glyph-1558463490156206-0-2\" x=\"1303.227144\" y=\"124.178\"/>\n",
       "  <use xlink:href=\"#glyph-1558463490156206-0-4\" x=\"1308.208464\" y=\"124.178\"/>\n",
       "</g>\n",
       "<g style=\"fill:rgb(0%,0%,0%);fill-opacity:1;\">\n",
       "  <use xlink:href=\"#glyph-1558463490156206-0-5\" x=\"1314.285675\" y=\"124.178\"/>\n",
       "  <use xlink:href=\"#glyph-1558463490156206-0-4\" x=\"1319.266995\" y=\"124.178\"/>\n",
       "</g>\n",
       "<g style=\"fill:rgb(0%,0%,0%);fill-opacity:1;\">\n",
       "  <use xlink:href=\"#glyph-1558463490156206-0-5\" x=\"1325.344205\" y=\"124.178\"/>\n",
       "  <use xlink:href=\"#glyph-1558463490156206-0-4\" x=\"1330.325525\" y=\"124.178\"/>\n",
       "</g>\n",
       "<g style=\"fill:rgb(0%,0%,0%);fill-opacity:1;\">\n",
       "  <use xlink:href=\"#glyph-1558463490156206-0-5\" x=\"1336.402736\" y=\"124.178\"/>\n",
       "  <use xlink:href=\"#glyph-1558463490156206-0-3\" x=\"1341.384056\" y=\"124.178\"/>\n",
       "</g>\n",
       "<g style=\"fill:rgb(0%,0%,0%);fill-opacity:1;\">\n",
       "  <use xlink:href=\"#glyph-1558463490156206-0-1\" x=\"1357.829\" y=\"124.178\"/>\n",
       "  <use xlink:href=\"#glyph-1558463490156206-0-5\" x=\"1360.598614\" y=\"124.178\"/>\n",
       "  <use xlink:href=\"#glyph-1558463490156206-0-4\" x=\"1365.579934\" y=\"124.178\"/>\n",
       "</g>\n",
       "<g style=\"fill:rgb(0%,0%,0%);fill-opacity:1;\">\n",
       "  <use xlink:href=\"#glyph-1558463490156206-0-2\" x=\"1371.657144\" y=\"124.178\"/>\n",
       "  <use xlink:href=\"#glyph-1558463490156206-0-4\" x=\"1376.638464\" y=\"124.178\"/>\n",
       "</g>\n",
       "<g style=\"fill:rgb(0%,0%,0%);fill-opacity:1;\">\n",
       "  <use xlink:href=\"#glyph-1558463490156206-0-2\" x=\"1382.715675\" y=\"124.178\"/>\n",
       "  <use xlink:href=\"#glyph-1558463490156206-0-4\" x=\"1387.696995\" y=\"124.178\"/>\n",
       "</g>\n",
       "<g style=\"fill:rgb(0%,0%,0%);fill-opacity:1;\">\n",
       "  <use xlink:href=\"#glyph-1558463490156206-0-2\" x=\"1393.774205\" y=\"124.178\"/>\n",
       "  <use xlink:href=\"#glyph-1558463490156206-0-4\" x=\"1398.755525\" y=\"124.178\"/>\n",
       "</g>\n",
       "<g style=\"fill:rgb(0%,0%,0%);fill-opacity:1;\">\n",
       "  <use xlink:href=\"#glyph-1558463490156206-0-2\" x=\"1404.832736\" y=\"124.178\"/>\n",
       "  <use xlink:href=\"#glyph-1558463490156206-0-3\" x=\"1409.814056\" y=\"124.178\"/>\n",
       "</g>\n",
       "<g style=\"fill:rgb(0%,0%,0%);fill-opacity:1;\">\n",
       "  <use xlink:href=\"#glyph-1558463490156206-0-1\" x=\"1426.258\" y=\"124.178\"/>\n",
       "  <use xlink:href=\"#glyph-1558463490156206-0-5\" x=\"1429.027614\" y=\"124.178\"/>\n",
       "  <use xlink:href=\"#glyph-1558463490156206-0-4\" x=\"1434.008934\" y=\"124.178\"/>\n",
       "</g>\n",
       "<g style=\"fill:rgb(0%,0%,0%);fill-opacity:1;\">\n",
       "  <use xlink:href=\"#glyph-1558463490156206-0-6\" x=\"1440.086144\" y=\"124.178\"/>\n",
       "  <use xlink:href=\"#glyph-1558463490156206-0-2\" x=\"1443.403703\" y=\"124.178\"/>\n",
       "  <use xlink:href=\"#glyph-1558463490156206-0-4\" x=\"1448.385023\" y=\"124.178\"/>\n",
       "</g>\n",
       "<g style=\"fill:rgb(0%,0%,0%);fill-opacity:1;\">\n",
       "  <use xlink:href=\"#glyph-1558463490156206-0-6\" x=\"1454.462234\" y=\"124.178\"/>\n",
       "  <use xlink:href=\"#glyph-1558463490156206-0-2\" x=\"1457.779793\" y=\"124.178\"/>\n",
       "  <use xlink:href=\"#glyph-1558463490156206-0-4\" x=\"1462.761113\" y=\"124.178\"/>\n",
       "</g>\n",
       "<g style=\"fill:rgb(0%,0%,0%);fill-opacity:1;\">\n",
       "  <use xlink:href=\"#glyph-1558463490156206-0-6\" x=\"1468.838323\" y=\"124.178\"/>\n",
       "  <use xlink:href=\"#glyph-1558463490156206-0-2\" x=\"1472.155882\" y=\"124.178\"/>\n",
       "  <use xlink:href=\"#glyph-1558463490156206-0-4\" x=\"1477.137202\" y=\"124.178\"/>\n",
       "</g>\n",
       "<g style=\"fill:rgb(0%,0%,0%);fill-opacity:1;\">\n",
       "  <use xlink:href=\"#glyph-1558463490156206-0-6\" x=\"1483.214413\" y=\"124.178\"/>\n",
       "  <use xlink:href=\"#glyph-1558463490156206-0-2\" x=\"1486.531972\" y=\"124.178\"/>\n",
       "  <use xlink:href=\"#glyph-1558463490156206-0-3\" x=\"1491.513292\" y=\"124.178\"/>\n",
       "</g>\n",
       "<g style=\"fill:rgb(0%,0%,0%);fill-opacity:1;\">\n",
       "  <use xlink:href=\"#glyph-1558463490156206-0-1\" x=\"693.845\" y=\"124.178\"/>\n",
       "  <use xlink:href=\"#glyph-1558463490156206-0-6\" x=\"696.614614\" y=\"124.178\"/>\n",
       "  <use xlink:href=\"#glyph-1558463490156206-0-2\" x=\"699.932173\" y=\"124.178\"/>\n",
       "  <use xlink:href=\"#glyph-1558463490156206-0-4\" x=\"704.913493\" y=\"124.178\"/>\n",
       "</g>\n",
       "<g style=\"fill:rgb(0%,0%,0%);fill-opacity:1;\">\n",
       "  <use xlink:href=\"#glyph-1558463490156206-0-6\" x=\"710.990703\" y=\"124.178\"/>\n",
       "  <use xlink:href=\"#glyph-1558463490156206-0-2\" x=\"714.308263\" y=\"124.178\"/>\n",
       "  <use xlink:href=\"#glyph-1558463490156206-0-4\" x=\"719.289583\" y=\"124.178\"/>\n",
       "</g>\n",
       "<g style=\"fill:rgb(0%,0%,0%);fill-opacity:1;\">\n",
       "  <use xlink:href=\"#glyph-1558463490156206-0-6\" x=\"725.366793\" y=\"124.178\"/>\n",
       "  <use xlink:href=\"#glyph-1558463490156206-0-2\" x=\"728.684352\" y=\"124.178\"/>\n",
       "  <use xlink:href=\"#glyph-1558463490156206-0-4\" x=\"733.665672\" y=\"124.178\"/>\n",
       "</g>\n",
       "<g style=\"fill:rgb(0%,0%,0%);fill-opacity:1;\">\n",
       "  <use xlink:href=\"#glyph-1558463490156206-0-5\" x=\"739.742882\" y=\"124.178\"/>\n",
       "  <use xlink:href=\"#glyph-1558463490156206-0-4\" x=\"744.724202\" y=\"124.178\"/>\n",
       "</g>\n",
       "<g style=\"fill:rgb(0%,0%,0%);fill-opacity:1;\">\n",
       "  <use xlink:href=\"#glyph-1558463490156206-0-5\" x=\"750.801413\" y=\"124.178\"/>\n",
       "  <use xlink:href=\"#glyph-1558463490156206-0-3\" x=\"755.782733\" y=\"124.178\"/>\n",
       "</g>\n",
       "<g style=\"fill:rgb(0%,0%,0%);fill-opacity:1;\">\n",
       "  <use xlink:href=\"#glyph-1558463490156206-0-1\" x=\"1507.958\" y=\"124.178\"/>\n",
       "  <use xlink:href=\"#glyph-1558463490156206-0-5\" x=\"1510.727614\" y=\"124.178\"/>\n",
       "  <use xlink:href=\"#glyph-1558463490156206-0-4\" x=\"1515.708934\" y=\"124.178\"/>\n",
       "</g>\n",
       "<g style=\"fill:rgb(0%,0%,0%);fill-opacity:1;\">\n",
       "  <use xlink:href=\"#glyph-1558463490156206-0-5\" x=\"1521.786144\" y=\"124.178\"/>\n",
       "  <use xlink:href=\"#glyph-1558463490156206-0-4\" x=\"1526.767464\" y=\"124.178\"/>\n",
       "</g>\n",
       "<g style=\"fill:rgb(0%,0%,0%);fill-opacity:1;\">\n",
       "  <use xlink:href=\"#glyph-1558463490156206-0-5\" x=\"1532.844675\" y=\"124.178\"/>\n",
       "  <use xlink:href=\"#glyph-1558463490156206-0-4\" x=\"1537.825995\" y=\"124.178\"/>\n",
       "</g>\n",
       "<g style=\"fill:rgb(0%,0%,0%);fill-opacity:1;\">\n",
       "  <use xlink:href=\"#glyph-1558463490156206-0-2\" x=\"1543.903205\" y=\"124.178\"/>\n",
       "  <use xlink:href=\"#glyph-1558463490156206-0-4\" x=\"1548.884525\" y=\"124.178\"/>\n",
       "</g>\n",
       "<g style=\"fill:rgb(0%,0%,0%);fill-opacity:1;\">\n",
       "  <use xlink:href=\"#glyph-1558463490156206-0-5\" x=\"1554.961736\" y=\"124.178\"/>\n",
       "  <use xlink:href=\"#glyph-1558463490156206-0-3\" x=\"1559.943056\" y=\"124.178\"/>\n",
       "</g>\n",
       "<g style=\"fill:rgb(0%,0%,0%);fill-opacity:1;\">\n",
       "  <use xlink:href=\"#glyph-1558463490156206-0-1\" x=\"1576.387\" y=\"124.178\"/>\n",
       "  <use xlink:href=\"#glyph-1558463490156206-0-5\" x=\"1579.156614\" y=\"124.178\"/>\n",
       "  <use xlink:href=\"#glyph-1558463490156206-0-4\" x=\"1584.137934\" y=\"124.178\"/>\n",
       "</g>\n",
       "<g style=\"fill:rgb(0%,0%,0%);fill-opacity:1;\">\n",
       "  <use xlink:href=\"#glyph-1558463490156206-0-5\" x=\"1590.215144\" y=\"124.178\"/>\n",
       "  <use xlink:href=\"#glyph-1558463490156206-0-4\" x=\"1595.196464\" y=\"124.178\"/>\n",
       "</g>\n",
       "<g style=\"fill:rgb(0%,0%,0%);fill-opacity:1;\">\n",
       "  <use xlink:href=\"#glyph-1558463490156206-0-5\" x=\"1601.273675\" y=\"124.178\"/>\n",
       "  <use xlink:href=\"#glyph-1558463490156206-0-4\" x=\"1606.254995\" y=\"124.178\"/>\n",
       "</g>\n",
       "<g style=\"fill:rgb(0%,0%,0%);fill-opacity:1;\">\n",
       "  <use xlink:href=\"#glyph-1558463490156206-0-5\" x=\"1612.332205\" y=\"124.178\"/>\n",
       "  <use xlink:href=\"#glyph-1558463490156206-0-4\" x=\"1617.313525\" y=\"124.178\"/>\n",
       "</g>\n",
       "<g style=\"fill:rgb(0%,0%,0%);fill-opacity:1;\">\n",
       "  <use xlink:href=\"#glyph-1558463490156206-0-2\" x=\"1623.390736\" y=\"124.178\"/>\n",
       "  <use xlink:href=\"#glyph-1558463490156206-0-3\" x=\"1628.372056\" y=\"124.178\"/>\n",
       "</g>\n",
       "<g style=\"fill:rgb(0%,0%,0%);fill-opacity:1;\">\n",
       "  <use xlink:href=\"#glyph-1558463490156206-0-1\" x=\"1644.816\" y=\"124.178\"/>\n",
       "  <use xlink:href=\"#glyph-1558463490156206-0-5\" x=\"1647.585614\" y=\"124.178\"/>\n",
       "  <use xlink:href=\"#glyph-1558463490156206-0-4\" x=\"1652.566934\" y=\"124.178\"/>\n",
       "</g>\n",
       "<g style=\"fill:rgb(0%,0%,0%);fill-opacity:1;\">\n",
       "  <use xlink:href=\"#glyph-1558463490156206-0-5\" x=\"1658.644144\" y=\"124.178\"/>\n",
       "  <use xlink:href=\"#glyph-1558463490156206-0-4\" x=\"1663.625464\" y=\"124.178\"/>\n",
       "</g>\n",
       "<g style=\"fill:rgb(0%,0%,0%);fill-opacity:1;\">\n",
       "  <use xlink:href=\"#glyph-1558463490156206-0-5\" x=\"1669.702675\" y=\"124.178\"/>\n",
       "  <use xlink:href=\"#glyph-1558463490156206-0-4\" x=\"1674.683995\" y=\"124.178\"/>\n",
       "</g>\n",
       "<g style=\"fill:rgb(0%,0%,0%);fill-opacity:1;\">\n",
       "  <use xlink:href=\"#glyph-1558463490156206-0-5\" x=\"1680.761205\" y=\"124.178\"/>\n",
       "  <use xlink:href=\"#glyph-1558463490156206-0-4\" x=\"1685.742525\" y=\"124.178\"/>\n",
       "</g>\n",
       "<g style=\"fill:rgb(0%,0%,0%);fill-opacity:1;\">\n",
       "  <use xlink:href=\"#glyph-1558463490156206-0-6\" x=\"1691.819736\" y=\"124.178\"/>\n",
       "  <use xlink:href=\"#glyph-1558463490156206-0-2\" x=\"1695.137295\" y=\"124.178\"/>\n",
       "  <use xlink:href=\"#glyph-1558463490156206-0-3\" x=\"1700.118615\" y=\"124.178\"/>\n",
       "</g>\n",
       "<g style=\"fill:rgb(0%,0%,0%);fill-opacity:1;\">\n",
       "  <use xlink:href=\"#glyph-1558463490156206-0-1\" x=\"1716.563\" y=\"124.178\"/>\n",
       "  <use xlink:href=\"#glyph-1558463490156206-0-5\" x=\"1719.332614\" y=\"124.178\"/>\n",
       "  <use xlink:href=\"#glyph-1558463490156206-0-4\" x=\"1724.313934\" y=\"124.178\"/>\n",
       "</g>\n",
       "<g style=\"fill:rgb(0%,0%,0%);fill-opacity:1;\">\n",
       "  <use xlink:href=\"#glyph-1558463490156206-0-5\" x=\"1730.391144\" y=\"124.178\"/>\n",
       "  <use xlink:href=\"#glyph-1558463490156206-0-4\" x=\"1735.372464\" y=\"124.178\"/>\n",
       "</g>\n",
       "<g style=\"fill:rgb(0%,0%,0%);fill-opacity:1;\">\n",
       "  <use xlink:href=\"#glyph-1558463490156206-0-5\" x=\"1741.449675\" y=\"124.178\"/>\n",
       "  <use xlink:href=\"#glyph-1558463490156206-0-4\" x=\"1746.430995\" y=\"124.178\"/>\n",
       "</g>\n",
       "<g style=\"fill:rgb(0%,0%,0%);fill-opacity:1;\">\n",
       "  <use xlink:href=\"#glyph-1558463490156206-0-5\" x=\"1752.508205\" y=\"124.178\"/>\n",
       "  <use xlink:href=\"#glyph-1558463490156206-0-4\" x=\"1757.489525\" y=\"124.178\"/>\n",
       "</g>\n",
       "<g style=\"fill:rgb(0%,0%,0%);fill-opacity:1;\">\n",
       "  <use xlink:href=\"#glyph-1558463490156206-0-5\" x=\"1763.566736\" y=\"124.178\"/>\n",
       "  <use xlink:href=\"#glyph-1558463490156206-0-3\" x=\"1768.548056\" y=\"124.178\"/>\n",
       "</g>\n",
       "<g style=\"fill:rgb(0%,0%,0%);fill-opacity:1;\">\n",
       "  <use xlink:href=\"#glyph-1558463490156206-0-1\" x=\"1784.993\" y=\"124.178\"/>\n",
       "  <use xlink:href=\"#glyph-1558463490156206-0-5\" x=\"1787.762614\" y=\"124.178\"/>\n",
       "  <use xlink:href=\"#glyph-1558463490156206-0-4\" x=\"1792.743934\" y=\"124.178\"/>\n",
       "</g>\n",
       "<g style=\"fill:rgb(0%,0%,0%);fill-opacity:1;\">\n",
       "  <use xlink:href=\"#glyph-1558463490156206-0-5\" x=\"1798.821144\" y=\"124.178\"/>\n",
       "  <use xlink:href=\"#glyph-1558463490156206-0-4\" x=\"1803.802464\" y=\"124.178\"/>\n",
       "</g>\n",
       "<g style=\"fill:rgb(0%,0%,0%);fill-opacity:1;\">\n",
       "  <use xlink:href=\"#glyph-1558463490156206-0-6\" x=\"1809.879675\" y=\"124.178\"/>\n",
       "  <use xlink:href=\"#glyph-1558463490156206-0-2\" x=\"1813.197234\" y=\"124.178\"/>\n",
       "  <use xlink:href=\"#glyph-1558463490156206-0-4\" x=\"1818.178554\" y=\"124.178\"/>\n",
       "</g>\n",
       "<g style=\"fill:rgb(0%,0%,0%);fill-opacity:1;\">\n",
       "  <use xlink:href=\"#glyph-1558463490156206-0-6\" x=\"1824.255764\" y=\"124.178\"/>\n",
       "  <use xlink:href=\"#glyph-1558463490156206-0-2\" x=\"1827.573323\" y=\"124.178\"/>\n",
       "  <use xlink:href=\"#glyph-1558463490156206-0-4\" x=\"1832.554643\" y=\"124.178\"/>\n",
       "</g>\n",
       "<g style=\"fill:rgb(0%,0%,0%);fill-opacity:1;\">\n",
       "  <use xlink:href=\"#glyph-1558463490156206-0-6\" x=\"1838.631854\" y=\"124.178\"/>\n",
       "  <use xlink:href=\"#glyph-1558463490156206-0-2\" x=\"1841.949413\" y=\"124.178\"/>\n",
       "  <use xlink:href=\"#glyph-1558463490156206-0-3\" x=\"1846.930733\" y=\"124.178\"/>\n",
       "</g>\n",
       "<g style=\"fill:rgb(0%,0%,0%);fill-opacity:1;\">\n",
       "  <use xlink:href=\"#glyph-1558463490156206-0-1\" x=\"218.561\" y=\"124.178\"/>\n",
       "  <use xlink:href=\"#glyph-1558463490156206-0-2\" x=\"221.330614\" y=\"124.178\"/>\n",
       "  <use xlink:href=\"#glyph-1558463490156206-0-4\" x=\"226.311934\" y=\"124.178\"/>\n",
       "</g>\n",
       "<g style=\"fill:rgb(0%,0%,0%);fill-opacity:1;\">\n",
       "  <use xlink:href=\"#glyph-1558463490156206-0-5\" x=\"232.389144\" y=\"124.178\"/>\n",
       "  <use xlink:href=\"#glyph-1558463490156206-0-4\" x=\"237.370464\" y=\"124.178\"/>\n",
       "</g>\n",
       "<g style=\"fill:rgb(0%,0%,0%);fill-opacity:1;\">\n",
       "  <use xlink:href=\"#glyph-1558463490156206-0-5\" x=\"243.447675\" y=\"124.178\"/>\n",
       "  <use xlink:href=\"#glyph-1558463490156206-0-4\" x=\"248.428995\" y=\"124.178\"/>\n",
       "</g>\n",
       "<g style=\"fill:rgb(0%,0%,0%);fill-opacity:1;\">\n",
       "  <use xlink:href=\"#glyph-1558463490156206-0-5\" x=\"254.506205\" y=\"124.178\"/>\n",
       "  <use xlink:href=\"#glyph-1558463490156206-0-4\" x=\"259.487525\" y=\"124.178\"/>\n",
       "</g>\n",
       "<g style=\"fill:rgb(0%,0%,0%);fill-opacity:1;\">\n",
       "  <use xlink:href=\"#glyph-1558463490156206-0-5\" x=\"265.564736\" y=\"124.178\"/>\n",
       "  <use xlink:href=\"#glyph-1558463490156206-0-3\" x=\"270.546056\" y=\"124.178\"/>\n",
       "</g>\n",
       "<g style=\"fill:rgb(0%,0%,0%);fill-opacity:1;\">\n",
       "  <use xlink:href=\"#glyph-1558463490156206-0-1\" x=\"1863.375\" y=\"124.178\"/>\n",
       "  <use xlink:href=\"#glyph-1558463490156206-0-5\" x=\"1866.144614\" y=\"124.178\"/>\n",
       "  <use xlink:href=\"#glyph-1558463490156206-0-4\" x=\"1871.125934\" y=\"124.178\"/>\n",
       "</g>\n",
       "<g style=\"fill:rgb(0%,0%,0%);fill-opacity:1;\">\n",
       "  <use xlink:href=\"#glyph-1558463490156206-0-5\" x=\"1877.203144\" y=\"124.178\"/>\n",
       "  <use xlink:href=\"#glyph-1558463490156206-0-4\" x=\"1882.184464\" y=\"124.178\"/>\n",
       "</g>\n",
       "<g style=\"fill:rgb(0%,0%,0%);fill-opacity:1;\">\n",
       "  <use xlink:href=\"#glyph-1558463490156206-0-2\" x=\"1888.261675\" y=\"124.178\"/>\n",
       "  <use xlink:href=\"#glyph-1558463490156206-0-4\" x=\"1893.242995\" y=\"124.178\"/>\n",
       "</g>\n",
       "<g style=\"fill:rgb(0%,0%,0%);fill-opacity:1;\">\n",
       "  <use xlink:href=\"#glyph-1558463490156206-0-2\" x=\"1899.320205\" y=\"124.178\"/>\n",
       "  <use xlink:href=\"#glyph-1558463490156206-0-4\" x=\"1904.301525\" y=\"124.178\"/>\n",
       "</g>\n",
       "<g style=\"fill:rgb(0%,0%,0%);fill-opacity:1;\">\n",
       "  <use xlink:href=\"#glyph-1558463490156206-0-2\" x=\"1910.378736\" y=\"124.178\"/>\n",
       "  <use xlink:href=\"#glyph-1558463490156206-0-3\" x=\"1915.360056\" y=\"124.178\"/>\n",
       "</g>\n",
       "<g style=\"fill:rgb(0%,0%,0%);fill-opacity:1;\">\n",
       "  <use xlink:href=\"#glyph-1558463490156206-0-1\" x=\"286.991\" y=\"124.178\"/>\n",
       "  <use xlink:href=\"#glyph-1558463490156206-0-2\" x=\"289.760614\" y=\"124.178\"/>\n",
       "  <use xlink:href=\"#glyph-1558463490156206-0-4\" x=\"294.741934\" y=\"124.178\"/>\n",
       "</g>\n",
       "<g style=\"fill:rgb(0%,0%,0%);fill-opacity:1;\">\n",
       "  <use xlink:href=\"#glyph-1558463490156206-0-6\" x=\"300.819144\" y=\"124.178\"/>\n",
       "  <use xlink:href=\"#glyph-1558463490156206-0-2\" x=\"304.136703\" y=\"124.178\"/>\n",
       "  <use xlink:href=\"#glyph-1558463490156206-0-4\" x=\"309.118023\" y=\"124.178\"/>\n",
       "</g>\n",
       "<g style=\"fill:rgb(0%,0%,0%);fill-opacity:1;\">\n",
       "  <use xlink:href=\"#glyph-1558463490156206-0-6\" x=\"315.195234\" y=\"124.178\"/>\n",
       "  <use xlink:href=\"#glyph-1558463490156206-0-2\" x=\"318.512793\" y=\"124.178\"/>\n",
       "  <use xlink:href=\"#glyph-1558463490156206-0-4\" x=\"323.494113\" y=\"124.178\"/>\n",
       "</g>\n",
       "<g style=\"fill:rgb(0%,0%,0%);fill-opacity:1;\">\n",
       "  <use xlink:href=\"#glyph-1558463490156206-0-6\" x=\"329.571323\" y=\"124.178\"/>\n",
       "  <use xlink:href=\"#glyph-1558463490156206-0-2\" x=\"332.888882\" y=\"124.178\"/>\n",
       "  <use xlink:href=\"#glyph-1558463490156206-0-4\" x=\"337.870202\" y=\"124.178\"/>\n",
       "</g>\n",
       "<g style=\"fill:rgb(0%,0%,0%);fill-opacity:1;\">\n",
       "  <use xlink:href=\"#glyph-1558463490156206-0-6\" x=\"343.947413\" y=\"124.178\"/>\n",
       "  <use xlink:href=\"#glyph-1558463490156206-0-2\" x=\"347.264972\" y=\"124.178\"/>\n",
       "  <use xlink:href=\"#glyph-1558463490156206-0-3\" x=\"352.246292\" y=\"124.178\"/>\n",
       "</g>\n",
       "<g style=\"fill:rgb(0%,0%,0%);fill-opacity:1;\">\n",
       "  <use xlink:href=\"#glyph-1558463490156206-0-1\" x=\"772.227\" y=\"124.178\"/>\n",
       "  <use xlink:href=\"#glyph-1558463490156206-0-6\" x=\"774.996614\" y=\"124.178\"/>\n",
       "  <use xlink:href=\"#glyph-1558463490156206-0-2\" x=\"778.314173\" y=\"124.178\"/>\n",
       "  <use xlink:href=\"#glyph-1558463490156206-0-4\" x=\"783.295493\" y=\"124.178\"/>\n",
       "</g>\n",
       "<g style=\"fill:rgb(0%,0%,0%);fill-opacity:1;\">\n",
       "  <use xlink:href=\"#glyph-1558463490156206-0-5\" x=\"789.372703\" y=\"124.178\"/>\n",
       "  <use xlink:href=\"#glyph-1558463490156206-0-4\" x=\"794.354023\" y=\"124.178\"/>\n",
       "</g>\n",
       "<g style=\"fill:rgb(0%,0%,0%);fill-opacity:1;\">\n",
       "  <use xlink:href=\"#glyph-1558463490156206-0-5\" x=\"800.431234\" y=\"124.178\"/>\n",
       "  <use xlink:href=\"#glyph-1558463490156206-0-4\" x=\"805.412554\" y=\"124.178\"/>\n",
       "</g>\n",
       "<g style=\"fill:rgb(0%,0%,0%);fill-opacity:1;\">\n",
       "  <use xlink:href=\"#glyph-1558463490156206-0-5\" x=\"811.489764\" y=\"124.178\"/>\n",
       "  <use xlink:href=\"#glyph-1558463490156206-0-4\" x=\"816.471084\" y=\"124.178\"/>\n",
       "</g>\n",
       "<g style=\"fill:rgb(0%,0%,0%);fill-opacity:1;\">\n",
       "  <use xlink:href=\"#glyph-1558463490156206-0-5\" x=\"822.548295\" y=\"124.178\"/>\n",
       "  <use xlink:href=\"#glyph-1558463490156206-0-3\" x=\"827.529615\" y=\"124.178\"/>\n",
       "</g>\n",
       "<g style=\"fill:rgb(0%,0%,0%);fill-opacity:1;\">\n",
       "  <use xlink:href=\"#glyph-1558463490156206-0-1\" x=\"1931.804\" y=\"124.178\"/>\n",
       "  <use xlink:href=\"#glyph-1558463490156206-0-5\" x=\"1934.573614\" y=\"124.178\"/>\n",
       "  <use xlink:href=\"#glyph-1558463490156206-0-4\" x=\"1939.554934\" y=\"124.178\"/>\n",
       "</g>\n",
       "<g style=\"fill:rgb(0%,0%,0%);fill-opacity:1;\">\n",
       "  <use xlink:href=\"#glyph-1558463490156206-0-6\" x=\"1945.632144\" y=\"124.178\"/>\n",
       "  <use xlink:href=\"#glyph-1558463490156206-0-2\" x=\"1948.949703\" y=\"124.178\"/>\n",
       "  <use xlink:href=\"#glyph-1558463490156206-0-4\" x=\"1953.931023\" y=\"124.178\"/>\n",
       "</g>\n",
       "<g style=\"fill:rgb(0%,0%,0%);fill-opacity:1;\">\n",
       "  <use xlink:href=\"#glyph-1558463490156206-0-5\" x=\"1960.008234\" y=\"124.178\"/>\n",
       "  <use xlink:href=\"#glyph-1558463490156206-0-4\" x=\"1964.989554\" y=\"124.178\"/>\n",
       "</g>\n",
       "<g style=\"fill:rgb(0%,0%,0%);fill-opacity:1;\">\n",
       "  <use xlink:href=\"#glyph-1558463490156206-0-5\" x=\"1971.066764\" y=\"124.178\"/>\n",
       "  <use xlink:href=\"#glyph-1558463490156206-0-4\" x=\"1976.048084\" y=\"124.178\"/>\n",
       "</g>\n",
       "<g style=\"fill:rgb(0%,0%,0%);fill-opacity:1;\">\n",
       "  <use xlink:href=\"#glyph-1558463490156206-0-5\" x=\"1982.125295\" y=\"124.178\"/>\n",
       "  <use xlink:href=\"#glyph-1558463490156206-0-3\" x=\"1987.106615\" y=\"124.178\"/>\n",
       "</g>\n",
       "<g style=\"fill:rgb(0%,0%,0%);fill-opacity:1;\">\n",
       "  <use xlink:href=\"#glyph-1558463490156206-0-1\" x=\"368.69\" y=\"124.178\"/>\n",
       "  <use xlink:href=\"#glyph-1558463490156206-0-2\" x=\"371.459614\" y=\"124.178\"/>\n",
       "  <use xlink:href=\"#glyph-1558463490156206-0-4\" x=\"376.440934\" y=\"124.178\"/>\n",
       "</g>\n",
       "<g style=\"fill:rgb(0%,0%,0%);fill-opacity:1;\">\n",
       "  <use xlink:href=\"#glyph-1558463490156206-0-2\" x=\"382.518144\" y=\"124.178\"/>\n",
       "  <use xlink:href=\"#glyph-1558463490156206-0-4\" x=\"387.499464\" y=\"124.178\"/>\n",
       "</g>\n",
       "<g style=\"fill:rgb(0%,0%,0%);fill-opacity:1;\">\n",
       "  <use xlink:href=\"#glyph-1558463490156206-0-6\" x=\"393.576675\" y=\"124.178\"/>\n",
       "  <use xlink:href=\"#glyph-1558463490156206-0-2\" x=\"396.894234\" y=\"124.178\"/>\n",
       "  <use xlink:href=\"#glyph-1558463490156206-0-4\" x=\"401.875554\" y=\"124.178\"/>\n",
       "</g>\n",
       "<g style=\"fill:rgb(0%,0%,0%);fill-opacity:1;\">\n",
       "  <use xlink:href=\"#glyph-1558463490156206-0-6\" x=\"407.952764\" y=\"124.178\"/>\n",
       "  <use xlink:href=\"#glyph-1558463490156206-0-2\" x=\"411.270323\" y=\"124.178\"/>\n",
       "  <use xlink:href=\"#glyph-1558463490156206-0-4\" x=\"416.251643\" y=\"124.178\"/>\n",
       "</g>\n",
       "<g style=\"fill:rgb(0%,0%,0%);fill-opacity:1;\">\n",
       "  <use xlink:href=\"#glyph-1558463490156206-0-6\" x=\"422.328854\" y=\"124.178\"/>\n",
       "  <use xlink:href=\"#glyph-1558463490156206-0-2\" x=\"425.646413\" y=\"124.178\"/>\n",
       "  <use xlink:href=\"#glyph-1558463490156206-0-3\" x=\"430.627733\" y=\"124.178\"/>\n",
       "</g>\n",
       "<g style=\"fill:rgb(0%,0%,0%);fill-opacity:1;\">\n",
       "  <use xlink:href=\"#glyph-1558463490156206-0-1\" x=\"843.974\" y=\"124.178\"/>\n",
       "  <use xlink:href=\"#glyph-1558463490156206-0-6\" x=\"846.743614\" y=\"124.178\"/>\n",
       "  <use xlink:href=\"#glyph-1558463490156206-0-2\" x=\"850.061173\" y=\"124.178\"/>\n",
       "  <use xlink:href=\"#glyph-1558463490156206-0-4\" x=\"855.042493\" y=\"124.178\"/>\n",
       "</g>\n",
       "<g style=\"fill:rgb(0%,0%,0%);fill-opacity:1;\">\n",
       "  <use xlink:href=\"#glyph-1558463490156206-0-6\" x=\"861.119703\" y=\"124.178\"/>\n",
       "  <use xlink:href=\"#glyph-1558463490156206-0-2\" x=\"864.437263\" y=\"124.178\"/>\n",
       "  <use xlink:href=\"#glyph-1558463490156206-0-4\" x=\"869.418583\" y=\"124.178\"/>\n",
       "</g>\n",
       "<g style=\"fill:rgb(0%,0%,0%);fill-opacity:1;\">\n",
       "  <use xlink:href=\"#glyph-1558463490156206-0-5\" x=\"875.495793\" y=\"124.178\"/>\n",
       "  <use xlink:href=\"#glyph-1558463490156206-0-4\" x=\"880.477113\" y=\"124.178\"/>\n",
       "</g>\n",
       "<g style=\"fill:rgb(0%,0%,0%);fill-opacity:1;\">\n",
       "  <use xlink:href=\"#glyph-1558463490156206-0-5\" x=\"886.554323\" y=\"124.178\"/>\n",
       "  <use xlink:href=\"#glyph-1558463490156206-0-4\" x=\"891.535643\" y=\"124.178\"/>\n",
       "</g>\n",
       "<g style=\"fill:rgb(0%,0%,0%);fill-opacity:1;\">\n",
       "  <use xlink:href=\"#glyph-1558463490156206-0-2\" x=\"897.612854\" y=\"124.178\"/>\n",
       "  <use xlink:href=\"#glyph-1558463490156206-0-3\" x=\"902.594174\" y=\"124.178\"/>\n",
       "</g>\n",
       "<g style=\"fill:rgb(0%,0%,0%);fill-opacity:1;\">\n",
       "  <use xlink:href=\"#glyph-1558463490156206-0-1\" x=\"919.038\" y=\"124.178\"/>\n",
       "  <use xlink:href=\"#glyph-1558463490156206-0-6\" x=\"921.807614\" y=\"124.178\"/>\n",
       "  <use xlink:href=\"#glyph-1558463490156206-0-2\" x=\"925.125173\" y=\"124.178\"/>\n",
       "  <use xlink:href=\"#glyph-1558463490156206-0-4\" x=\"930.106493\" y=\"124.178\"/>\n",
       "</g>\n",
       "<g style=\"fill:rgb(0%,0%,0%);fill-opacity:1;\">\n",
       "  <use xlink:href=\"#glyph-1558463490156206-0-6\" x=\"936.183703\" y=\"124.178\"/>\n",
       "  <use xlink:href=\"#glyph-1558463490156206-0-2\" x=\"939.501263\" y=\"124.178\"/>\n",
       "  <use xlink:href=\"#glyph-1558463490156206-0-4\" x=\"944.482583\" y=\"124.178\"/>\n",
       "</g>\n",
       "<g style=\"fill:rgb(0%,0%,0%);fill-opacity:1;\">\n",
       "  <use xlink:href=\"#glyph-1558463490156206-0-5\" x=\"950.559793\" y=\"124.178\"/>\n",
       "  <use xlink:href=\"#glyph-1558463490156206-0-4\" x=\"955.541113\" y=\"124.178\"/>\n",
       "</g>\n",
       "<g style=\"fill:rgb(0%,0%,0%);fill-opacity:1;\">\n",
       "  <use xlink:href=\"#glyph-1558463490156206-0-5\" x=\"961.618323\" y=\"124.178\"/>\n",
       "  <use xlink:href=\"#glyph-1558463490156206-0-4\" x=\"966.599643\" y=\"124.178\"/>\n",
       "</g>\n",
       "<g style=\"fill:rgb(0%,0%,0%);fill-opacity:1;\">\n",
       "  <use xlink:href=\"#glyph-1558463490156206-0-5\" x=\"972.676854\" y=\"124.178\"/>\n",
       "  <use xlink:href=\"#glyph-1558463490156206-0-3\" x=\"977.658174\" y=\"124.178\"/>\n",
       "</g>\n",
       "</g>\n",
       "</svg>\n",
       "\n"
      ],
      "text/plain": [
       "TikzPictures.TikzPicture(\"\\\\graph [layered layout, ] {\\n1/\\\"[1]\\\" [],\\n2/\\\"[1, 0]\\\" [],\\n3/\\\"[1, -1]\\\" [],\\n4/\\\"[1, 1]\\\" [],\\n5/\\\"[-1]\\\" [],\\n6/\\\"[-1, 0]\\\" [],\\n7/\\\"[-1, -1]\\\" [],\\n8/\\\"[0]\\\" [],\\n9/\\\"[0, -1]\\\" [],\\n10/\\\"[0, 0]\\\" [],\\n11/\\\"[0, 1]\\\" [],\\n12/\\\"[0, -1, -1]\\\" [],\\n13/\\\"[0, -1, 0]\\\" [],\\n14/\\\"[-1, 0, 0]\\\" [],\\n15/\\\"[-1, -1, 0]\\\" [],\\n16/\\\"[-1, -1, -1]\\\" [],\\n17/\\\"[0, 0, 0]\\\" [],\\n18/\\\"[0, 0, 1]\\\" [],\\n19/\\\"[0, 0, -1]\\\" [],\\n20/\\\"[1, 0, 0]\\\" [],\\n21/\\\"[1, -1, -1]\\\" [],\\n22/\\\"[1, 1, 1]\\\" [],\\n23/\\\"[1, 1, -1]\\\" [],\\n24/\\\"[0, 1, 0]\\\" [],\\n25/\\\"[0, 1, 1]\\\" [],\\n26/\\\"[1, -1, -1, -1]\\\" [],\\n27/\\\"[0, -1, -1, -1]\\\" [],\\n28/\\\"[-1, -1, 0, 0]\\\" [],\\n29/\\\"[0, 0, 0, -1]\\\" [],\\n30/\\\"[0, 0, 0, 1]\\\" [],\\n31/\\\"[0, 0, 0, 0]\\\" [],\\n32/\\\"[1, 1, 1, -1]\\\" [],\\n33/\\\"[1, 1, 1, 1]\\\" [],\\n34/\\\"[0, 1, 0, 0]\\\" [],\\n35/\\\"[0, -1, 0, 0]\\\" [],\\n36/\\\"[1, 0, 0, 0]\\\" [],\\n37/\\\"[0, 0, 1, 0]\\\" [],\\n38/\\\"[0, 0, 1, 1]\\\" [],\\n39/\\\"[1, 1, -1, -1]\\\" [],\\n40/\\\"[-1, 0, 0, 1]\\\" [],\\n41/\\\"[-1, 0, 0, 0]\\\" [],\\n42/\\\"[0, 0, -1, 0]\\\" [],\\n43/\\\"[0, 0, -1, -1]\\\" [],\\n44/\\\"[0, 1, 1, 1]\\\" [],\\n45/\\\"[-1, -1, -1, -1]\\\" [],\\n46/\\\"[-1, -1, -1, 0]\\\" [],\\n47/\\\"[1, 1, 1, -1, -1]\\\" [],\\n48/\\\"[-1, -1, -1, -1, -1]\\\" [],\\n49/\\\"[-1, -1, -1, -1, 0]\\\" [],\\n50/\\\"[1, 1, 1, 1, -1]\\\" [],\\n51/\\\"[1, 1, 1, 1, 1]\\\" [],\\n52/\\\"[0, 0, -1, 0, 0]\\\" [],\\n53/\\\"[0, 0, 0, -1, 0]\\\" [],\\n54/\\\"[0, 0, 0, -1, -1]\\\" [],\\n55/\\\"[-1, 0, 0, 1, 1]\\\" [],\\n56/\\\"[0, 0, 1, 0, 0]\\\" [],\\n57/\\\"[0, 1, 0, 0, 0]\\\" [],\\n58/\\\"[0, 1, 1, 1, 1]\\\" [],\\n59/\\\"[0, -1, -1, -1, -1]\\\" [],\\n60/\\\"[-1, -1, -1, 0, 0]\\\" [],\\n61/\\\"[0, 0, 0, 1, 0]\\\" [],\\n62/\\\"[0, 0, 0, 0, 1]\\\" [],\\n63/\\\"[0, 0, 0, 0, -1]\\\" [],\\n64/\\\"[0, 0, 0, 0, 0]\\\" [],\\n65/\\\"[0, 0, -1, -1, -1]\\\" [],\\n66/\\\"[1, 0, 0, 0, 0]\\\" [],\\n67/\\\"[0, 0, 1, 1, 1]\\\" [],\\n68/\\\"[1, -1, -1, -1, -1]\\\" [],\\n69/\\\"[-1, 0, 0, 0, 0]\\\" [],\\n70/\\\"[0, -1, 0, 0, 0]\\\" [],\\n71/\\\"[1, 1, -1, -1, -1]\\\" [],\\n72/\\\"[-1, -1, 0, 0, 1]\\\" [],\\n73/\\\"[-1, -1, 0, 0, 0]\\\" [],\\n;\\n1 -> [,] 2;\\n1 -> [,] 3;\\n1 -> [,] 4;\\n2 -> [,] 20;\\n3 -> [,] 21;\\n4 -> [,] 22;\\n4 -> [,] 23;\\n5 -> [,] 6;\\n5 -> [,] 7;\\n6 -> [,] 14;\\n7 -> [,] 15;\\n7 -> [,] 16;\\n8 -> [,] 9;\\n8 -> [,] 10;\\n8 -> [,] 11;\\n9 -> [,] 12;\\n9 -> [,] 13;\\n10 -> [,] 17;\\n10 -> [,] 18;\\n10 -> [,] 19;\\n11 -> [,] 24;\\n11 -> [,] 25;\\n12 -> [,] 27;\\n13 -> [,] 35;\\n14 -> [,] 40;\\n14 -> [,] 41;\\n15 -> [,] 28;\\n16 -> [,] 45;\\n16 -> [,] 46;\\n17 -> [,] 29;\\n17 -> [,] 30;\\n17 -> [,] 31;\\n18 -> [,] 37;\\n18 -> [,] 38;\\n19 -> [,] 42;\\n19 -> [,] 43;\\n20 -> [,] 36;\\n21 -> [,] 26;\\n22 -> [,] 32;\\n22 -> [,] 33;\\n23 -> [,] 39;\\n24 -> [,] 34;\\n25 -> [,] 44;\\n26 -> [,] 68;\\n27 -> [,] 59;\\n28 -> [,] 72;\\n28 -> [,] 73;\\n29 -> [,] 53;\\n29 -> [,] 54;\\n30 -> [,] 61;\\n31 -> [,] 62;\\n31 -> [,] 63;\\n31 -> [,] 64;\\n32 -> [,] 47;\\n33 -> [,] 50;\\n33 -> [,] 51;\\n34 -> [,] 57;\\n35 -> [,] 70;\\n36 -> [,] 66;\\n37 -> [,] 56;\\n38 -> [,] 67;\\n39 -> [,] 71;\\n40 -> [,] 55;\\n41 -> [,] 69;\\n42 -> [,] 52;\\n43 -> [,] 65;\\n44 -> [,] 58;\\n45 -> [,] 48;\\n45 -> [,] 49;\\n46 -> [,] 60;\\n};\\n\", \"\", \"\\\\usepackage{fontspec}\\n\\\\setmainfont{Latin Modern Math}\\n\\\\usetikzlibrary{graphs}\\n\\\\usetikzlibrary{graphdrawing}\\n\\n% from: https://tex.stackexchange.com/questions/453132/fresh-install-of-tl2018-no-tikz-graph-drawing-libraries-found\\n\\\\usepackage{luacode}\\n\\\\begin{luacode*}\\n\\tfunction pgf_lookup_and_require(name)\\n\\tlocal sep = package.config:sub(1,1)\\n\\tlocal function lookup(name)\\n\\tlocal sub = name:gsub('%.',sep)  \\n\\tif kpse.find_file(sub, 'lua') then\\n\\trequire(name)\\n\\telseif kpse.find_file(sub, 'clua') then\\n\\tcollectgarbage('stop') \\n\\trequire(name)\\n\\tcollectgarbage('restart')\\n\\telse\\n\\treturn false\\n\\tend\\n\\treturn true\\n\\tend\\n\\treturn\\n\\tlookup('pgf.gd.' .. name .. '.library') or\\n\\tlookup('pgf.gd.' .. name) or\\n\\tlookup(name .. '.library') or\\n\\tlookup(name) \\n\\tend\\n\\\\end{luacode*}\\n\\n\\\\usegdlibrary{layered}\", true)"
      ]
     },
     "execution_count": 31,
     "metadata": {},
     "output_type": "execute_result"
    }
   ],
   "source": [
    "blabla=tikz_representation(grafodelArbol)"
   ]
  },
  {
   "cell_type": "code",
   "execution_count": 33,
   "metadata": {},
   "outputs": [],
   "source": [
    "using TikzPictures # this is required for saving\n",
    "TikzPictures.save(PDF(\"graph\"), blabla)"
   ]
  },
  {
   "cell_type": "code",
   "execution_count": null,
   "metadata": {},
   "outputs": [],
   "source": [
    "sum3n(n)=Int32(3/2*(-1+3^n))"
   ]
  },
  {
   "cell_type": "code",
   "execution_count": null,
   "metadata": {},
   "outputs": [],
   "source": [
    "function trescodifica(xxs)\n",
    "    #Convierte tus strings raros en un entero como si fuera ternario\n",
    "    # con las cifras 0,1,2 (que son las que tienes +1)\n",
    "    ll=length(xxs)\n",
    "    r=0\n",
    "    for j=1:ll\n",
    "       a=xxs[j]+1\n",
    "       r+=3^(ll-j)*a\n",
    "    end\n",
    "    return r\n",
    "end"
   ]
  },
  {
   "cell_type": "code",
   "execution_count": null,
   "metadata": {},
   "outputs": [],
   "source": [
    "function codanumero(xxs)\n",
    "    ll=length(xxs)\n",
    "    naux=sum3n(ll-1)\n",
    "    bla=trescodifica(xxs)\n",
    "    r=bla+naux+1 # la raiz en realidad es \"ningun signo\"\n",
    "    return r\n",
    "end"
   ]
  },
  {
   "cell_type": "code",
   "execution_count": null,
   "metadata": {},
   "outputs": [],
   "source": [
    "bl=[-1,-1,0,1,0]"
   ]
  },
  {
   "cell_type": "code",
   "execution_count": null,
   "metadata": {},
   "outputs": [],
   "source": [
    "codanumero(bl)"
   ]
  },
  {
   "cell_type": "code",
   "execution_count": null,
   "metadata": {},
   "outputs": [],
   "source": [
    "trescodifica(bl)"
   ]
  },
  {
   "cell_type": "code",
   "execution_count": null,
   "metadata": {},
   "outputs": [],
   "source": [
    "nredu"
   ]
  },
  {
   "cell_type": "code",
   "execution_count": null,
   "metadata": {},
   "outputs": [],
   "source": [
    "arbex=arbol[[23,43]]\n",
    "for a in arbol[[23,43]][2]\n",
    "    print(a, \" \")\n",
    "end"
   ]
  },
  {
   "cell_type": "code",
   "execution_count": null,
   "metadata": {},
   "outputs": [],
   "source": [
    "nredu=3\n",
    "nodosmax=sum3n(nredu)\n",
    "adja=zeros(Int8,nodosmax,nodosmax);\n",
    "println(nodosmax)"
   ]
  },
  {
   "cell_type": "code",
   "execution_count": null,
   "metadata": {},
   "outputs": [],
   "source": [
    "for n=1:nredu-1\n",
    "    for a in arbex[n]\n",
    "        acode=codanumero(a)\n",
    "        for b in arbex[n+1]\n",
    "            bcode=codanumero(b)\n",
    "            if a==b[1:end-1] # si b proviene de a mas un sufijo \n",
    "                print(\"a=\",a, \" b=\",b, \" acode=\", acode, \" bcode=\",bcode, \". \\n\")\n",
    "                adja[acode,bcode]=1\n",
    "            end\n",
    "        end\n",
    "    end\n",
    "end\n",
    "\n"
   ]
  },
  {
   "cell_type": "code",
   "execution_count": null,
   "metadata": {
    "collapsed": true
   },
   "outputs": [],
   "source": [
    "etiquetas=Dict{Int64, String}()\n",
    "for n=1:nredu\n",
    "    for a in arbex[n]\n",
    "        cod=codanumero(a)\n",
    "        etiquetas[cod]=string(a)\n",
    "    end\n",
    "end\n"
   ]
  },
  {
   "cell_type": "code",
   "execution_count": null,
   "metadata": {},
   "outputs": [],
   "source": [
    "etiquetas"
   ]
  },
  {
   "cell_type": "code",
   "execution_count": null,
   "metadata": {
    "collapsed": true
   },
   "outputs": [],
   "source": [
    "adja=adja+adja';"
   ]
  },
  {
   "cell_type": "code",
   "execution_count": null,
   "metadata": {
    "collapsed": true
   },
   "outputs": [],
   "source": [
    "pp=plot(key=false)\n",
    "b=1:nn\n",
    "for k in keys(hhsn)\n",
    "    y=hhsn[k]\n",
    "    scatter!(pp, b, y)\n",
    "end"
   ]
  },
  {
   "cell_type": "code",
   "execution_count": null,
   "metadata": {},
   "outputs": [],
   "source": [
    "pp"
   ]
  },
  {
   "cell_type": "code",
   "execution_count": null,
   "metadata": {
    "collapsed": true
   },
   "outputs": [],
   "source": [
    "xxx=[]\n",
    "yyy=[]\n",
    "gord1=[]\n",
    "gord2=[]\n",
    "for k in keys(hhsn)\n",
    "    push!(xxx, k[2])\n",
    "    push!(yyy, k[1])\n",
    "    push!(gord1, hhsn[k][1])\n",
    "    push!(gord2, hhsn[k][end])\n",
    "end\n",
    "    "
   ]
  },
  {
   "cell_type": "code",
   "execution_count": null,
   "metadata": {},
   "outputs": [],
   "source": [
    "ppp=heatmap(csd[:,:,160], aspect_ratio=1, clims=(-20,20))\n",
    "scatter!(xxx, yyy, markersize=gord1.*20, label=\"H_1\", markeralpha=gord1)\n",
    "scatter!(xxx, yyy, markersize=gord2.*20, label=\"H_8\")\n"
   ]
  },
  {
   "cell_type": "code",
   "execution_count": null,
   "metadata": {},
   "outputs": [],
   "source": [
    "retr+lat"
   ]
  },
  {
   "cell_type": "code",
   "execution_count": null,
   "metadata": {
    "collapsed": true
   },
   "outputs": [],
   "source": [
    "using LightGraphs, GraphPlot"
   ]
  },
  {
   "cell_type": "code",
   "execution_count": null,
   "metadata": {},
   "outputs": [],
   "source": [
    "using TikzGraphs"
   ]
  },
  {
   "cell_type": "code",
   "execution_count": null,
   "metadata": {},
   "outputs": [],
   "source": [
    "TikzGraphs.plot(arg)"
   ]
  },
  {
   "cell_type": "code",
   "execution_count": null,
   "metadata": {},
   "outputs": [],
   "source": [
    "arg=Graph(A)"
   ]
  },
  {
   "cell_type": "code",
   "execution_count": null,
   "metadata": {},
   "outputs": [],
   "source": [
    "TikzGraphs.plot(arg)"
   ]
  },
  {
   "cell_type": "code",
   "execution_count": null,
   "metadata": {},
   "outputs": [],
   "source": [
    "rem_vertex!(arg, 5)"
   ]
  },
  {
   "cell_type": "code",
   "execution_count": null,
   "metadata": {},
   "outputs": [],
   "source": [
    "TikzGraphs.plot(arg)"
   ]
  },
  {
   "cell_type": "code",
   "execution_count": null,
   "metadata": {},
   "outputs": [],
   "source": [
    "arbol1=Graph(adja)"
   ]
  },
  {
   "cell_type": "code",
   "execution_count": null,
   "metadata": {},
   "outputs": [],
   "source": [
    "palos=edges(arbol1)"
   ]
  },
  {
   "cell_type": "code",
   "execution_count": null,
   "metadata": {
    "collapsed": true
   },
   "outputs": [],
   "source": [
    "nodos=collect(vertices(arbol1));\n"
   ]
  },
  {
   "cell_type": "code",
   "execution_count": null,
   "metadata": {
    "collapsed": true
   },
   "outputs": [],
   "source": []
  },
  {
   "cell_type": "code",
   "execution_count": null,
   "metadata": {},
   "outputs": [],
   "source": [
    "arbol1podado=Graph()"
   ]
  },
  {
   "cell_type": "code",
   "execution_count": null,
   "metadata": {},
   "outputs": [],
   "source": [
    "for q in palos \n",
    "    print(q)\n",
    "    add_edge!(arbol1podado,q)\n",
    "end"
   ]
  },
  {
   "cell_type": "code",
   "execution_count": null,
   "metadata": {},
   "outputs": [],
   "source": [
    "palos[1]"
   ]
  },
  {
   "cell_type": "code",
   "execution_count": null,
   "metadata": {},
   "outputs": [],
   "source": [
    "TikzGraphs.plot(arbol1)"
   ]
  },
  {
   "cell_type": "code",
   "execution_count": null,
   "metadata": {},
   "outputs": [],
   "source": [
    "max1=maximum(aar)\n",
    "max8=maximum(bbr)"
   ]
  },
  {
   "cell_type": "code",
   "execution_count": null,
   "metadata": {},
   "outputs": [],
   "source": [
    "for k in keys(hhsn)\n",
    "    if hhsn[k][1]==min1\n",
    "        print(k, \" es el min de 1 bloque. \")\n",
    "    elseif hhsn[k][1]==max1\n",
    "        print(k, \" es el max de 1 bloque. \")\n",
    "    end\n",
    "   if hhsn[k][8]==min8\n",
    "        print(k, \" es el min de 8 bloque. \")\n",
    "    elseif hhsn[k][8]==max8\n",
    "        print(k, \" es el max de 8 bloque. \")\n",
    "    end\n",
    "end\n"
   ]
  },
  {
   "cell_type": "code",
   "execution_count": null,
   "metadata": {
    "collapsed": true
   },
   "outputs": [],
   "source": [
    "hhsn[:,:,1]==hhsn[:,:,4]"
   ]
  },
  {
   "cell_type": "code",
   "execution_count": null,
   "metadata": {
    "collapsed": true
   },
   "outputs": [],
   "source": [
    "allprobsn(xs, ss, 3)"
   ]
  },
  {
   "cell_type": "code",
   "execution_count": null,
   "metadata": {
    "collapsed": true
   },
   "outputs": [],
   "source": [
    "ss=[-1,0,1]\n",
    "bla=[[q, j] for q in ss, j in ss ]"
   ]
  },
  {
   "cell_type": "code",
   "execution_count": null,
   "metadata": {},
   "outputs": [],
   "source": [
    "struct ONodo\n",
    "    mesmo\n",
    "end\n",
    "a=ONodo(1)"
   ]
  },
  {
   "cell_type": "code",
   "execution_count": null,
   "metadata": {},
   "outputs": [],
   "source": [
    "?Nodo"
   ]
  },
  {
   "cell_type": "code",
   "execution_count": null,
   "metadata": {
    "collapsed": true
   },
   "outputs": [],
   "source": [
    "struct fobar\n",
    "    fo\n",
    "    bar\n",
    "end"
   ]
  },
  {
   "cell_type": "code",
   "execution_count": null,
   "metadata": {},
   "outputs": [],
   "source": [
    "a=fobar(1,2)"
   ]
  },
  {
   "cell_type": "code",
   "execution_count": null,
   "metadata": {},
   "outputs": [],
   "source": [
    "problock(xs, [1]) , problock(xs, [0]),problock(xs, [-1])"
   ]
  },
  {
   "cell_type": "code",
   "execution_count": null,
   "metadata": {
    "collapsed": true
   },
   "outputs": [],
   "source": []
  },
  {
   "cell_type": "code",
   "execution_count": null,
   "metadata": {
    "collapsed": true
   },
   "outputs": [],
   "source": [
    "heatmap(sumsym, aspect_ratio=1)"
   ]
  },
  {
   "cell_type": "code",
   "execution_count": null,
   "metadata": {
    "collapsed": true
   },
   "outputs": [],
   "source": [
    "?heatmap"
   ]
  },
  {
   "cell_type": "code",
   "execution_count": null,
   "metadata": {},
   "outputs": [],
   "source": [
    "a=[0,1]\n",
    "n=[0, 1]\n",
    "z=[1,1,0]\n",
    "z2=[1,0,1]"
   ]
  },
  {
   "cell_type": "code",
   "execution_count": null,
   "metadata": {},
   "outputs": [],
   "source": [
    "@time issubvec(a, z2)"
   ]
  },
  {
   "cell_type": "code",
   "execution_count": null,
   "metadata": {},
   "outputs": [],
   "source": [
    "@inbounds"
   ]
  },
  {
   "cell_type": "code",
   "execution_count": null,
   "metadata": {},
   "outputs": [],
   "source": [
    "as=string(a)"
   ]
  },
  {
   "cell_type": "code",
   "execution_count": null,
   "metadata": {
    "collapsed": true
   },
   "outputs": [],
   "source": []
  }
 ],
 "metadata": {
  "@webio": {
   "lastCommId": null,
   "lastKernelId": null
  },
  "kernelspec": {
   "display_name": "Julia 1.0.3",
   "language": "julia",
   "name": "julia-1.0"
  },
  "language_info": {
   "file_extension": ".jl",
   "mimetype": "application/julia",
   "name": "julia",
   "version": "1.0.3"
  }
 },
 "nbformat": 4,
 "nbformat_minor": 2
}
