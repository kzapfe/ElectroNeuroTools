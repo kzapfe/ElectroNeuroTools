{
 "cells": [
  {
   "cell_type": "code",
   "execution_count": 1,
   "id": "028da260",
   "metadata": {},
   "outputs": [],
   "source": [
    "using PyPlot, DelimitedFiles, JLD"
   ]
  },
  {
   "cell_type": "code",
   "execution_count": 15,
   "id": "809441a2",
   "metadata": {},
   "outputs": [],
   "source": [
    "using Statistics, Random"
   ]
  },
  {
   "cell_type": "code",
   "execution_count": 2,
   "id": "c2b6ad06",
   "metadata": {},
   "outputs": [],
   "source": [
    "lfpch=readdlm(\"../SimulaNeuron/lfpsimuladotalcual01.tsv\")\n",
    "lfp=reshape(lfpch,801,33,29)\n",
    "lfp*=1e6; #microVolts"
   ]
  },
  {
   "cell_type": "code",
   "execution_count": 7,
   "id": "2599edaf",
   "metadata": {},
   "outputs": [],
   "source": [
    "lfpordenado=zeros(33,29,801)\n",
    "for t=1:801\n",
    "    lfpordenado[:,:,t]=lfp[t,:,:]\n",
    "end"
   ]
  },
  {
   "cell_type": "code",
   "execution_count": 26,
   "id": "861d60d1",
   "metadata": {},
   "outputs": [
    {
     "data": {
      "text/plain": [
       "1.565991317318693"
      ]
     },
     "execution_count": 26,
     "metadata": {},
     "output_type": "execute_result"
    }
   ],
   "source": [
    "stdr=std(lfp)"
   ]
  },
  {
   "cell_type": "code",
   "execution_count": 9,
   "id": "ac914440",
   "metadata": {},
   "outputs": [
    {
     "data": {
      "text/plain": [
       "(0.05, 0.1, 0.2, 0.5, 1.0)"
      ]
     },
     "execution_count": 9,
     "metadata": {},
     "output_type": "execute_result"
    }
   ],
   "source": [
    "ruidos=(0.05,0.1,0.2,0.5,1.0)"
   ]
  },
  {
   "cell_type": "code",
   "execution_count": 16,
   "id": "1f061825",
   "metadata": {},
   "outputs": [],
   "source": [
    "rng=MersenneTwister(1234);\n",
    "leruido=randn(rng, (33,29,801));\n"
   ]
  },
  {
   "cell_type": "code",
   "execution_count": 27,
   "id": "d2a7be86",
   "metadata": {},
   "outputs": [],
   "source": [
    "lfpsruidosos=Dict{Float64, Array}() \n",
    "for j=1:5\n",
    "    r=ruidos[j]\n",
    "    lfpsruidosos[r]=leruido*r*stdr+lfpordenado\n",
    "end\n"
   ]
  },
  {
   "cell_type": "code",
   "execution_count": 28,
   "id": "0b255277",
   "metadata": {},
   "outputs": [],
   "source": [
    "save(\"lfpruidosos.jld\", \"lfps\", lfpsruidosos, \"sigma\",stdr, \"factores\", ruidos)"
   ]
  },
  {
   "cell_type": "code",
   "execution_count": 29,
   "id": "d7eacce3",
   "metadata": {},
   "outputs": [
    {
     "name": "stdout",
     "output_type": "stream",
     "text": [
      "1.567891077583159\n",
      "1.5736825098757534\n",
      "1.5967425652767826\n",
      "1.7500546862424768\n",
      "2.2129420578550687\n"
     ]
    }
   ],
   "source": [
    "for j=1:5\n",
    "    println(std(lfpsruidosos[ruidos[j]]))\n",
    "end"
   ]
  },
  {
   "cell_type": "code",
   "execution_count": null,
   "id": "d999830d",
   "metadata": {},
   "outputs": [],
   "source": []
  }
 ],
 "metadata": {
  "kernelspec": {
   "display_name": "Julia 1.4.1",
   "language": "julia",
   "name": "julia-1.4"
  },
  "language_info": {
   "file_extension": ".jl",
   "mimetype": "application/julia",
   "name": "julia",
   "version": "1.4.1"
  }
 },
 "nbformat": 4,
 "nbformat_minor": 5
}
