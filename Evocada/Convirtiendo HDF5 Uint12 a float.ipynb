{
 "cells": [
  {
   "cell_type": "markdown",
   "metadata": {},
   "source": [
    "# CSD y CM para actividad evocada"
   ]
  },
  {
   "cell_type": "code",
   "execution_count": 2,
   "metadata": {
    "collapsed": true
   },
   "outputs": [],
   "source": [
    "using HDF5"
   ]
  },
  {
   "cell_type": "code",
   "execution_count": 3,
   "metadata": {
    "collapsed": false
   },
   "outputs": [
    {
     "data": {
      "text/plain": [
       "HDF5 data file: /media/bodega/050815-hdf5/050815_1R0.brw"
      ]
     },
     "execution_count": 3,
     "metadata": {},
     "output_type": "execute_result"
    }
   ],
   "source": [
    "DatosPrueba=h5open(\"/media/bodega/050815-hdf5/050815_1R0.brw\", \"r\")"
   ]
  },
  {
   "cell_type": "code",
   "execution_count": 4,
   "metadata": {
    "collapsed": false
   },
   "outputs": [
    {
     "data": {
      "text/plain": [
       "HDF5 dataset: /3BData/Raw (file: /media/bodega/050815-hdf5/050815_1R0.brw)"
      ]
     },
     "execution_count": 4,
     "metadata": {},
     "output_type": "execute_result"
    }
   ],
   "source": [
    "Apunta=DatosPrueba[\"3BData/Raw\"]"
   ]
  },
  {
   "cell_type": "code",
   "execution_count": 7,
   "metadata": {
    "collapsed": false
   },
   "outputs": [
    {
     "data": {
      "text/plain": [
       "64x64 Array{Uint16,2}:\n",
       " 0x0000  0x0806  0x07f6  0x0800  0x0800  …  0x0803  0x0801  0x07f4  0x07f9\n",
       " 0x07fe  0x0804  0x07f5  0x07f1  0x07f9     0x0808  0x0803  0x07ee  0x07fc\n",
       " 0x07fa  0x0804  0x080c  0x07f6  0x07f1     0x0809  0x07e7  0x07fb  0x07ff\n",
       " 0x07ff  0x0813  0x07fc  0x0806  0x07f9     0x0801  0x07fd  0x0800  0x07fd\n",
       " 0x07fe  0x07fc  0x07fa  0x07f2  0x07f1     0x0806  0x0801  0x07f2  0x0806\n",
       " 0x07f3  0x0803  0x0807  0x0801  0x0803  …  0x0800  0x07f2  0x0800  0x07fb\n",
       " 0x0802  0x0809  0x07f4  0x07f8  0x07f5     0x080d  0x07f8  0x07fa  0x0802\n",
       " 0x080c  0x0810  0x0805  0x0803  0x0800     0x080d  0x07f1  0x0000  0x0000\n",
       " 0x0808  0x0806  0x07fe  0x07f6  0x07f8     0x0801  0x07e9  0x07f4  0x0806\n",
       " 0x07f3  0x080d  0x07ff  0x0000  0x0808     0x0805  0x07ed  0x07fc  0x07f9\n",
       " 0x07f5  0x080a  0x0809  0x07f4  0x07f3  …  0x07fd  0x07ee  0x0805  0x0810\n",
       " 0x07f4  0x0802  0x0808  0x0803  0x07f2     0x0800  0x07f4  0x07f1  0x07fd\n",
       " 0x0800  0x0800  0x0812  0x07f7  0x07fb     0x0808  0x07f4  0x07ff  0x0806\n",
       "      ⋮                                  ⋱       ⋮                        \n",
       " 0x0808  0x07f6  0x07ff  0x0806  0x07fb     0x07f6  0x07fe  0x07ef  0x0803\n",
       " 0x080b  0x0806  0x0800  0x0808  0x080d     0x07e9  0x07f3  0x07f4  0x07ff\n",
       " 0x0807  0x07f4  0x07e6  0x0803  0x07f4     0x0808  0x07fd  0x07e9  0x0803\n",
       " 0x0807  0x07f5  0x07fb  0x07ff  0x0000  …  0x07f5  0x07f4  0x07fb  0x07fe\n",
       " 0x07ef  0x0801  0x07ff  0x0801  0x07f1     0x0800  0x07f2  0x07f3  0x07fd\n",
       " 0x0805  0x0804  0x07ef  0x0808  0x07f9     0x07ef  0x07f3  0x07fc  0x080a\n",
       " 0x07fe  0x0807  0x07f6  0x07fd  0x080b     0x0806  0x07fa  0x07fb  0x07fc\n",
       " 0x07f6  0x07ff  0x07e9  0x080c  0x07f6     0x07fb  0x07f3  0x07e7  0x07fe\n",
       " 0x0808  0x07fa  0x07ea  0x0801  0x07f0  …  0x0804  0x07fc  0x07f3  0x07f4\n",
       " 0x07fa  0x07fa  0x07ed  0x0811  0x07fc     0x0807  0x07f3  0x07f8  0x07f0\n",
       " 0x07fd  0x0803  0x07fa  0x0000  0x0000     0x07f2  0x07fc  0x07f4  0x07f7\n",
       " 0x0800  0x0802  0x07f5  0x0809  0x0802     0x0800  0x07f9  0x07f3  0x07fb"
      ]
     },
     "execution_count": 7,
     "metadata": {},
     "output_type": "execute_result"
    }
   ],
   "source": [
    "Blabla=read(Apunta);\n",
    "Blaejemplo=reshape(Blabla[:,5000], 64,64)"
   ]
  },
  {
   "cell_type": "code",
   "execution_count": 8,
   "metadata": {
    "collapsed": true
   },
   "outputs": [],
   "source": [
    "writedlm(\"Blaejemplo.dat\", Blaejemplo)"
   ]
  },
  {
   "cell_type": "code",
   "execution_count": 17,
   "metadata": {
    "collapsed": false
   },
   "outputs": [],
   "source": [
    "Blaejemplo2=int16(Blaejemplo);\n"
   ]
  },
  {
   "cell_type": "code",
   "execution_count": 21,
   "metadata": {
    "collapsed": false
   },
   "outputs": [
    {
     "data": {
      "text/plain": [
       "64x64 Array{Uint16,2}:\n",
       " 0x07d0  0xffca  0xffda  0xffd0  0xffd0  …  0xffcd  0xffcf  0xffdc  0xffd7\n",
       " 0xffd2  0xffcc  0xffdb  0xffdf  0xffd7     0xffc8  0xffcd  0xffe2  0xffd4\n",
       " 0xffd6  0xffcc  0xffc4  0xffda  0xffdf     0xffc7  0xffe9  0xffd5  0xffd1\n",
       " 0xffd1  0xffbd  0xffd4  0xffca  0xffd7     0xffcf  0xffd3  0xffd0  0xffd3\n",
       " 0xffd2  0xffd4  0xffd6  0xffde  0xffdf     0xffca  0xffcf  0xffde  0xffca\n",
       " 0xffdd  0xffcd  0xffc9  0xffcf  0xffcd  …  0xffd0  0xffde  0xffd0  0xffd5\n",
       " 0xffce  0xffc7  0xffdc  0xffd8  0xffdb     0xffc3  0xffd8  0xffd6  0xffce\n",
       " 0xffc4  0xffc0  0xffcb  0xffcd  0xffd0     0xffc3  0xffdf  0x07d0  0x07d0\n",
       " 0xffc8  0xffca  0xffd2  0xffda  0xffd8     0xffcf  0xffe7  0xffdc  0xffca\n",
       " 0xffdd  0xffc3  0xffd1  0x07d0  0xffc8     0xffcb  0xffe3  0xffd4  0xffd7\n",
       " 0xffdb  0xffc6  0xffc7  0xffdc  0xffdd  …  0xffd3  0xffe2  0xffcb  0xffc0\n",
       " 0xffdc  0xffce  0xffc8  0xffcd  0xffde     0xffd0  0xffdc  0xffdf  0xffd3\n",
       " 0xffd0  0xffd0  0xffbe  0xffd9  0xffd5     0xffc8  0xffdc  0xffd1  0xffca\n",
       "      ⋮                                  ⋱       ⋮                        \n",
       " 0xffc8  0xffda  0xffd1  0xffca  0xffd5     0xffda  0xffd2  0xffe1  0xffcd\n",
       " 0xffc5  0xffca  0xffd0  0xffc8  0xffc3     0xffe7  0xffdd  0xffdc  0xffd1\n",
       " 0xffc9  0xffdc  0xffea  0xffcd  0xffdc     0xffc8  0xffd3  0xffe7  0xffcd\n",
       " 0xffc9  0xffdb  0xffd5  0xffd1  0x07d0  …  0xffdb  0xffdc  0xffd5  0xffd2\n",
       " 0xffe1  0xffcf  0xffd1  0xffcf  0xffdf     0xffd0  0xffde  0xffdd  0xffd3\n",
       " 0xffcb  0xffcc  0xffe1  0xffc8  0xffd7     0xffe1  0xffdd  0xffd4  0xffc6\n",
       " 0xffd2  0xffc9  0xffda  0xffd3  0xffc5     0xffca  0xffd6  0xffd5  0xffd4\n",
       " 0xffda  0xffd1  0xffe7  0xffc4  0xffda     0xffd5  0xffdd  0xffe9  0xffd2\n",
       " 0xffc8  0xffd6  0xffe6  0xffcf  0xffe0  …  0xffcc  0xffd4  0xffdd  0xffdc\n",
       " 0xffd6  0xffd6  0xffe3  0xffbf  0xffd4     0xffc9  0xffdd  0xffd8  0xffe0\n",
       " 0xffd3  0xffcd  0xffd6  0x07d0  0x07d0     0xffde  0xffd4  0xffdc  0xffd9\n",
       " 0xffd0  0xffce  0xffdb  0xffc7  0xffce     0xffd0  0xffd7  0xffdd  0xffd5"
      ]
     },
     "execution_count": 21,
     "metadata": {},
     "output_type": "execute_result"
    }
   ],
   "source": [
    "Blaejemplo*(-1)+2000"
   ]
  },
  {
   "cell_type": "code",
   "execution_count": 7,
   "metadata": {
    "collapsed": false
   },
   "outputs": [
    {
     "name": "stderr",
     "output_type": "stream",
     "text": [
      "Warning: replacing module ConvertidorDigitalAnalogo\n"
     ]
    }
   ],
   "source": [
    "include(\"../BrainWaveSoft/ConvertidorDigitalAnalogo.jl\")\n",
    "\n",
    "#=\n",
    "capacidad=400000\n",
    "\n",
    "function ConvierteAMiliVolts(archivo::HDF5File)\n",
    "    ApuntaFactores=archivo[\"/3BRecInfo/3BRecVars\"]\n",
    "    Factores=read(ApuntaFactores)\n",
    "    Frames=Factores[\"NRecFrames\"][1]\n",
    "    if Frames > capacidad\n",
    "        println(\"Error: No puedo cargar todos los datos de un jalon\")\n",
    "        return 0;\n",
    "    else\n",
    "        ApuntaDatos=archivo[\"/3BData/Raw\"]\n",
    "        Aux=float(read(ApuntaDatos))\n",
    "        #Aux=read(ApuntaDatos)       \n",
    "        Signo=float(Factores[\"SignalInversion\"][1])\n",
    "        Divisor=float(2^Factores[\"BitDepth\"][1])\n",
    "        FactorConversion=(Factores[\"MaxVolt\"][1]-Factores[\"MinVolt\"][1])/(Divisor)*Signo\n",
    "        Offset=float(Factores[\"MinVolt\"][1])*Signo\n",
    "        #println(\"Factor: \", FactorConversion, \" Offset: \", Offset, \"Signo: \", Signo)\n",
    "        #Aux2=similar(Aux)\n",
    "        Aux2=FactorConversion*Aux+Offset\n",
    "        #Aux=0\n",
    "        \n",
    "    return Aux2\n",
    "    end\n",
    "end\n",
    "=#\n"
   ]
  },
  {
   "cell_type": "code",
   "execution_count": 8,
   "metadata": {
    "collapsed": false
   },
   "outputs": [
    {
     "name": "stdout",
     "output_type": "stream",
     "text": [
      "elapsed time: 8.872630196 seconds (22432224584 bytes allocated, 6.45% gc time)\n"
     ]
    },
    {
     "data": {
      "text/plain": [
       "4096x210624 Array{Float64,2}:\n",
       " 4125.0      4125.0      4125.0      …  4125.0      4125.0      4125.0    \n",
       "  -16.1133    -74.5239      2.01416      -38.269     -32.2266     32.2266 \n",
       "   -2.01416   -70.4956    -38.269         -4.02832    12.085      28.1982 \n",
       "   -4.02832   -96.6797    -18.1274       -22.1558      0.0        38.269  \n",
       "    2.01416  -106.75       -6.04248      -26.1841      0.0        34.2407 \n",
       "  -54.3823   -100.708      -6.04248  …   -28.1982    -10.0708     14.0991 \n",
       "  -42.2974    -80.5664    -34.2407       -32.2266    -22.1558     34.2407 \n",
       "  -16.1133    -78.5522    -10.0708       -16.1133      4.02832    20.1416 \n",
       "  -14.0991    -84.5947     -6.04248      -16.1133     -8.05664    16.1133 \n",
       "  -66.4673   -112.793      -2.01416       -2.01416   -18.1274      4.02832\n",
       "  -22.1558    -94.6655     -8.05664  …   -40.2832    -16.1133     18.1274 \n",
       "  -32.2266    -90.6372      0.0          -14.0991     -4.02832    18.1274 \n",
       "  -32.2266   -106.75      -12.085        -22.1558     16.1133     16.1133 \n",
       "    ⋮                                ⋱                                    \n",
       "  -18.1274     -4.02832   -26.1841       -14.0991    -14.0991    -14.0991 \n",
       "  -14.0991     -2.01416    -4.02832  …   -16.1133      0.0        -6.04248\n",
       "    4.02832    10.0708    -36.2549       -30.2124    -14.0991    -20.1416 \n",
       "  -30.2124    -16.1133    -14.0991         4.02832    14.0991     28.1982 \n",
       "  -22.1558    -14.0991     -8.05664       -2.01416   -10.0708    -16.1133 \n",
       "  -26.1841     10.0708     -2.01416      -18.1274     -8.05664     8.05664\n",
       "  -20.1416     -8.05664   -10.0708   …     0.0         2.01416     2.01416\n",
       "  -22.1558     -6.04248   -16.1133        -2.01416     6.04248   -10.0708 \n",
       "  -32.2266     20.1416     -8.05664      -30.2124    -10.0708     -8.05664\n",
       "   -4.02832    -4.02832    -6.04248      -30.2124     20.1416      0.0    \n",
       "   -6.04248     2.01416    14.0991       -26.1841     10.0708      0.0    \n",
       "   -8.05664   -14.0991    -24.1699   …     2.01416    10.0708    -12.085  "
      ]
     },
     "execution_count": 8,
     "metadata": {},
     "output_type": "execute_result"
    }
   ],
   "source": [
    "@time hola=ConvertidorDigitalAnalogo.ConvierteAMiliVolts(DatosPrueba);"
   ]
  },
  {
   "cell_type": "code",
   "execution_count": 9,
   "metadata": {
    "collapsed": false
   },
   "outputs": [
    {
     "data": {
      "text/plain": [
       "64x64x210624 Array{Float64,3}:\n",
       "[:, :, 1] =\n",
       " 4125.0        4.02832  -14.0991  …  -38.269     -44.3115   -60.4248 \n",
       "  -16.1133    30.2124   -40.2832       6.04248   -46.3257   -30.2124 \n",
       "   -2.01416   12.085    -50.354      -10.0708    -32.2266   -16.1133 \n",
       "   -4.02832    6.04248  -34.2407     -28.1982    -74.5239   -22.1558 \n",
       "    2.01416   26.1841   -30.2124      -6.04248   -52.3682   -40.2832 \n",
       "  -54.3823    -8.05664  -34.2407  …  -38.269     -52.3682   -60.4248 \n",
       "  -42.2974    22.1558   -44.3115     -20.1416    -30.2124   -42.2974 \n",
       "  -16.1133    14.0991   -28.1982     -14.0991   4125.0     4125.0    \n",
       "  -14.0991    -2.01416  -34.2407     -12.085     -44.3115   -18.1274 \n",
       "  -66.4673   -12.085    -46.3257     -10.0708    -46.3257   -20.1416 \n",
       "  -22.1558     0.0      -12.085   …  -28.1982    -46.3257   -18.1274 \n",
       "  -32.2266   -14.0991   -66.4673      -8.05664   -68.4814   -42.2974 \n",
       "  -32.2266    20.1416   -14.0991      -8.05664   -30.2124   -14.0991 \n",
       "    ⋮                             ⋱                                  \n",
       "   16.1133   -16.1133   -58.4106     -36.2549    -54.3823   -18.1274 \n",
       "  -22.1558   -12.085    -42.2974     -64.4531    -26.1841   -14.0991 \n",
       "    0.0       14.0991   -58.4106     -22.1558    -52.3682     4.02832\n",
       "    4.02832    4.02832  -52.3682  …  -34.2407    -20.1416   -30.2124 \n",
       "  -36.2549    10.0708   -74.5239     -14.0991    -56.3965   -22.1558 \n",
       "   10.0708    20.1416   -44.3115     -22.1558    -52.3682   -26.1841 \n",
       "    2.01416  -32.2266   -56.3965     -44.3115    -44.3115   -20.1416 \n",
       "  -14.0991    -4.02832  -58.4106     -54.3823    -22.1558   -22.1558 \n",
       "  -12.085    -22.1558   -50.354   …  -40.2832    -44.3115   -32.2266 \n",
       "  -24.1699    -4.02832  -46.3257     -26.1841    -32.2266    -4.02832\n",
       "   -8.05664  -10.0708   -44.3115      -8.05664   -40.2832    -6.04248\n",
       "  -40.2832    -4.02832  -78.5522     -36.2549    -46.3257    -8.05664\n",
       "\n",
       "[:, :, 2] =\n",
       " 4125.0     -38.269    -60.4248  …   20.1416    -12.085      24.1699 \n",
       "  -74.5239  -48.3398   -38.269       22.1558     20.1416    -12.085  \n",
       "  -70.4956  -16.1133   -34.2407      44.3115     -2.01416     6.04248\n",
       "  -96.6797  -28.1982   -22.1558      40.2832    -18.1274      6.04248\n",
       " -106.75    -38.269    -14.0991      26.1841     10.0708     26.1841 \n",
       " -100.708   -38.269    -50.354   …   12.085      26.1841      4.02832\n",
       "  -80.5664  -52.3682   -40.2832      24.1699      8.05664    12.085  \n",
       "  -78.5522  -44.3115   -44.3115      26.1841   4125.0      4125.0    \n",
       "  -84.5947  -52.3682   -46.3257       8.05664   -18.1274     20.1416 \n",
       " -112.793   -32.2266   -38.269        2.01416    10.0708    -14.0991 \n",
       "  -94.6655  -30.2124   -42.2974  …   24.1699     20.1416      0.0    \n",
       "  -90.6372  -24.1699   -74.5239      30.2124     -4.02832    24.1699 \n",
       " -106.75    -44.3115   -50.354       16.1133     10.0708     22.1558 \n",
       "    ⋮                            ⋱                                   \n",
       "  -66.4673  -22.1558   -48.3398     -10.0708      4.02832    -4.02832\n",
       "  -46.3257  -18.1274   -34.2407       2.01416    -6.04248    -2.01416\n",
       "  -62.439   -64.4531   -66.4673      20.1416    -14.0991     10.0708 \n",
       "  -30.2124  -22.1558   -64.4531  …   22.1558      0.0       -16.1133 \n",
       "  -70.4956  -40.2832   -56.3965      18.1274     14.0991    -14.0991 \n",
       "  -80.5664  -34.2407   -40.2832      22.1558    -16.1133     10.0708 \n",
       "  -74.5239  -60.4248   -48.3398       6.04248    28.1982     -8.05664\n",
       "  -74.5239  -44.3115   -26.1841      18.1274      0.0        -6.04248\n",
       "  -66.4673  -38.269   -100.708   …   24.1699      6.04248    20.1416 \n",
       "  -60.4248  -26.1841   -34.2407      -2.01416   -22.1558     -4.02832\n",
       "  -50.354   -24.1699   -74.5239      14.0991     18.1274      2.01416\n",
       "  -54.3823  -26.1841   -56.3965      12.085      24.1699    -14.0991 \n",
       "\n",
       "[:, :, 3] =\n",
       " 4125.0       10.0708     0.0      …    2.01416     2.01416   -46.3257 \n",
       "    2.01416  -24.1699   -16.1133      -32.2266     -8.05664   -34.2407 \n",
       "  -38.269      0.0       12.085        -4.02832    12.085      16.1133 \n",
       "  -18.1274     6.04248    4.02832     -22.1558     -8.05664   -16.1133 \n",
       "   -6.04248   24.1699     8.05664     -30.2124    -22.1558    -18.1274 \n",
       "   -6.04248   20.1416     6.04248  …   -8.05664   -18.1274     -8.05664\n",
       "  -34.2407    10.0708    -2.01416       0.0       -28.1982     -2.01416\n",
       "  -10.0708     4.02832  -16.1133       -8.05664  4125.0      4125.0    \n",
       "   -6.04248   18.1274     0.0           0.0       -20.1416     -6.04248\n",
       "   -2.01416  -20.1416     4.02832     -20.1416      0.0         0.0    \n",
       "   -8.05664   26.1841    -8.05664  …  -22.1558      2.01416   -34.2407 \n",
       "    0.0       14.0991    16.1133       -2.01416     4.02832   -22.1558 \n",
       "  -12.085     24.1699    30.2124        0.0        -2.01416     0.0    \n",
       "    ⋮                              ⋱                                   \n",
       "   12.085    -14.0991   -14.0991      -24.1699      0.0       -26.1841 \n",
       "  -20.1416   -12.085    -12.085        -8.05664   -16.1133     -4.02832\n",
       "    4.02832   10.0708   -16.1133        8.05664    -4.02832   -36.2549 \n",
       "   -8.05664   -2.01416   20.1416   …   38.269     -22.1558    -14.0991 \n",
       "   -6.04248   -2.01416  -42.2974        0.0       -32.2266     -8.05664\n",
       "    4.02832   10.0708   -30.2124      -10.0708    -24.1699     -2.01416\n",
       "   20.1416   -24.1699    -8.05664      -8.05664   -12.085     -10.0708 \n",
       "   16.1133    -2.01416  -14.0991      -12.085     -22.1558    -16.1133 \n",
       "  -12.085      0.0       -4.02832  …   14.0991    -22.1558     -8.05664\n",
       "    0.0        0.0      -16.1133        6.04248   -26.1841     -6.04248\n",
       "   16.1133     4.02832  -18.1274        0.0       -22.1558     14.0991 \n",
       "    4.02832   -4.02832  -12.085         0.0        -4.02832   -24.1699 \n",
       "\n",
       "...\n",
       "\n",
       "[:, :, 210622] =\n",
       " 4125.0        2.01416  -16.1133   …    2.01416   -36.2549    -18.1274 \n",
       "  -38.269    -26.1841     2.01416       2.01416   -24.1699     30.2124 \n",
       "   -4.02832  -26.1841    12.085        10.0708    -24.1699    -12.085  \n",
       "  -22.1558    20.1416    -6.04248       4.02832   -16.1133     -8.05664\n",
       "  -26.1841    18.1274    22.1558       14.0991    -30.2124      2.01416\n",
       "  -28.1982    10.0708    -4.02832  …    2.01416   -40.2832     20.1416 \n",
       "  -32.2266    36.2549   -32.2266       20.1416    -28.1982     -6.04248\n",
       "  -16.1133     4.02832    4.02832      34.2407   4125.0      4125.0    \n",
       "  -16.1133     2.01416   10.0708      -16.1133     -6.04248   -22.1558 \n",
       "   -2.01416   12.085      2.01416      14.0991    -12.085       8.05664\n",
       "  -40.2832    -2.01416   12.085    …   18.1274    -20.1416     -4.02832\n",
       "  -14.0991     4.02832  -32.2266        0.0       -32.2266    -16.1133 \n",
       "  -22.1558     0.0      -22.1558       20.1416    -58.4106    -10.0708 \n",
       "    ⋮                              ⋱                                   \n",
       "    8.05664   10.0708   -10.0708      -10.0708     30.2124    -14.0991 \n",
       "   28.1982     0.0       10.0708      -12.085      12.085     -16.1133 \n",
       "   24.1699    -8.05664  -16.1133      -10.0708      2.01416   -30.2124 \n",
       "   30.2124    14.0991     8.05664  …  -26.1841      8.05664     4.02832\n",
       "   26.1841     2.01416  -18.1274      -24.1699     -2.01416    -2.01416\n",
       "   22.1558     6.04248   -8.05664     -16.1133     -8.05664   -18.1274 \n",
       "    8.05664   12.085      0.0           4.02832   -10.0708      0.0    \n",
       "   18.1274    16.1133   -22.1558      -16.1133      2.01416    -2.01416\n",
       "    4.02832    2.01416   10.0708   …  -16.1133     14.0991    -30.2124 \n",
       "   22.1558     6.04248   -8.05664     -24.1699    -10.0708    -30.2124 \n",
       "   18.1274   -22.1558    12.085        -8.05664    12.085     -26.1841 \n",
       "    2.01416    0.0      -18.1274        4.02832    22.1558      2.01416\n",
       "\n",
       "[:, :, 210623] =\n",
       " 4125.0       18.1274   -24.1699   …    2.01416    24.1699     24.1699 \n",
       "  -32.2266    24.1699   -20.1416       -2.01416    14.0991     46.3257 \n",
       "   12.085     12.085    -20.1416       30.2124      6.04248    30.2124 \n",
       "    0.0        2.01416  -32.2266       -6.04248    20.1416      6.04248\n",
       "    0.0      -10.0708   -24.1699       10.0708     18.1274    -22.1558 \n",
       "  -10.0708   -30.2124   -32.2266   …   -6.04248    10.0708     22.1558 \n",
       "  -22.1558    -4.02832  -68.4814       24.1699    -20.1416     -4.02832\n",
       "    4.02832  -40.2832   -36.2549       12.085    4125.0      4125.0    \n",
       "   -8.05664    2.01416    4.02832     -14.0991     -2.01416     2.01416\n",
       "  -18.1274     0.0        8.05664       6.04248    26.1841     20.1416 \n",
       "  -16.1133   -20.1416    -6.04248  …   -6.04248    22.1558      2.01416\n",
       "   -4.02832  -32.2266   -38.269        16.1133     28.1982     -4.02832\n",
       "   16.1133     0.0      -10.0708       10.0708      4.02832    12.085  \n",
       "    ⋮                              ⋱                                   \n",
       "    8.05664  -10.0708     0.0          12.085      16.1133    -14.0991 \n",
       "  -22.1558   -52.3682   -14.0991       26.1841     -2.01416     0.0    \n",
       "   -4.02832  -22.1558   -10.0708       18.1274     24.1699    -14.0991 \n",
       "    8.05664  -40.2832    -4.02832  …   32.2266      6.04248    14.0991 \n",
       "  -18.1274   -56.3965   -14.0991        0.0        14.0991    -10.0708 \n",
       "   20.1416     2.01416  -18.1274        0.0        22.1558     -8.05664\n",
       "   -8.05664  -50.354     -6.04248      24.1699     14.0991      2.01416\n",
       "   18.1274   -36.2549   -34.2407        0.0        24.1699      6.04248\n",
       "    6.04248  -28.1982   -16.1133   …   10.0708      8.05664   -10.0708 \n",
       "  -22.1558   -42.2974    -2.01416      36.2549     26.1841     20.1416 \n",
       "  -40.2832   -26.1841   -16.1133       30.2124     -8.05664    10.0708 \n",
       "  -14.0991   -36.2549   -32.2266        4.02832    32.2266     10.0708 \n",
       "\n",
       "[:, :, 210624] =\n",
       " 4125.0      30.2124   36.2549   …  -12.085       6.04248     0.0    \n",
       "   32.2266   70.4956   68.4814       10.0708    -22.1558      4.02832\n",
       "   28.1982   68.4814   54.3823       -2.01416   -18.1274    -20.1416 \n",
       "   38.269    28.1982   40.2832        0.0        -4.02832   -18.1274 \n",
       "   34.2407   48.3398   56.3965      -18.1274     -6.04248   -12.085  \n",
       "   14.0991   24.1699   26.1841   …  -14.0991     -6.04248   -34.2407 \n",
       "   34.2407   58.4106    0.0          16.1133      4.02832   -26.1841 \n",
       "   20.1416   48.3398   44.3115        0.0      4125.0      4125.0    \n",
       "   16.1133    4.02832  16.1133      -22.1558    -16.1133     -4.02832\n",
       "    4.02832  26.1841   48.3398       -6.04248     8.05664   -12.085  \n",
       "   18.1274   40.2832    2.01416  …  -14.0991     -4.02832    -8.05664\n",
       "   18.1274   28.1982   68.4814       -4.02832   -10.0708     -6.04248\n",
       "   16.1133   38.269    42.2974       18.1274    -26.1841      6.04248\n",
       "    ⋮                            ⋱                                   \n",
       "   38.269    56.3965   46.3257      -30.2124     26.1841    -14.0991 \n",
       "   22.1558   34.2407   46.3257      -10.0708      4.02832    -6.04248\n",
       "    0.0      24.1699   60.4248      -10.0708     22.1558    -20.1416 \n",
       "   26.1841    6.04248  46.3257   …  -14.0991     14.0991     28.1982 \n",
       "   10.0708   38.269    42.2974       -6.04248    34.2407    -16.1133 \n",
       "   40.2832   38.269    52.3682      -30.2124    -18.1274      8.05664\n",
       "   22.1558   30.2124   42.2974        0.0        44.3115      2.01416\n",
       "   38.269     2.01416  56.3965      -14.0991     30.2124    -10.0708 \n",
       "   42.2974    8.05664  28.1982   …  -30.2124     20.1416     -8.05664\n",
       "   50.354     8.05664  24.1699      -34.2407     46.3257      0.0    \n",
       "   12.085    32.2266   46.3257      -26.1841     34.2407      0.0    \n",
       "   12.085     2.01416  30.2124      -26.1841     24.1699    -12.085  "
      ]
     },
     "execution_count": 9,
     "metadata": {},
     "output_type": "execute_result"
    }
   ],
   "source": [
    "reshape(hola,64,64,210624)"
   ]
  },
  {
   "cell_type": "code",
   "execution_count": 16,
   "metadata": {
    "collapsed": false
   },
   "outputs": [
    {
     "name": "stdout",
     "output_type": "stream",
     "text": [
      "HDF5 group: /3BData (file: /media/bodega/050815-hdf5/050815_1R0.brw)HDF5 group: /3BRecInfo (file: /media/bodega/050815-hdf5/050815_1R0.brw)HDF5 group: /3BUserInfo (file: /media/bodega/050815-hdf5/050815_1R0.brw)"
     ]
    }
   ],
   "source": [
    "for a in DatosPrueba\n",
    "    print(a)\n",
    "end\n",
    "#Okey, ya viste que trae adentro el HDF5. Ta chingon"
   ]
  },
  {
   "cell_type": "code",
   "execution_count": 24,
   "metadata": {
    "collapsed": false
   },
   "outputs": [
    {
     "data": {
      "text/plain": [
       "HDF5 dataset: /3BData/Raw (file: /media/bodega/050815-hdf5/050815_1R0.brw)"
      ]
     },
     "execution_count": 24,
     "metadata": {},
     "output_type": "execute_result"
    }
   ],
   "source": [
    "ApuntaDatos=DatosPrueba[\"/3BData/Raw\"]"
   ]
  },
  {
   "cell_type": "code",
   "execution_count": 25,
   "metadata": {
    "collapsed": false
   },
   "outputs": [],
   "source": [
    "Datos=read(ApuntaDatos);"
   ]
  },
  {
   "cell_type": "code",
   "execution_count": 31,
   "metadata": {
    "collapsed": false
   },
   "outputs": [
    {
     "data": {
      "text/plain": [
       "(4096,210624)"
      ]
     },
     "execution_count": 31,
     "metadata": {},
     "output_type": "execute_result"
    }
   ],
   "source": [
    "size(Datos)"
   ]
  },
  {
   "cell_type": "code",
   "execution_count": 32,
   "metadata": {
    "collapsed": false
   },
   "outputs": [],
   "source": [
    "A=reshape(Datos, 64,64,210624);"
   ]
  },
  {
   "cell_type": "code",
   "execution_count": 34,
   "metadata": {
    "collapsed": false
   },
   "outputs": [
    {
     "data": {
      "text/plain": [
       "HDF5 group: /3BRecInfo/3BRecVars (file: /media/bodega/050815-hdf5/050815_1R0.brw)"
      ]
     },
     "execution_count": 34,
     "metadata": {},
     "output_type": "execute_result"
    }
   ],
   "source": [
    "factores=DatosPrueba[\"/3BRecInfo/3BRecVars\"]"
   ]
  },
  {
   "cell_type": "code",
   "execution_count": 35,
   "metadata": {
    "collapsed": false
   },
   "outputs": [
    {
     "data": {
      "text/plain": [
       "Dict{Union(UTF8String,ASCIIString),Any} with 6 entries:\n",
       "  \"NRecFrames\"      => [210624]\n",
       "  \"SignalInversion\" => [-1.0]\n",
       "  \"MinVolt\"         => [-4125.0]\n",
       "  \"BitDepth\"        => Uint8[12]\n",
       "  \"SamplingRate\"    => [7020.800706028248]\n",
       "  \"MaxVolt\"         => [4125.0]"
      ]
     },
     "execution_count": 35,
     "metadata": {},
     "output_type": "execute_result"
    }
   ],
   "source": [
    "facts=read(factores)"
   ]
  },
  {
   "cell_type": "code",
   "execution_count": 38,
   "metadata": {
    "collapsed": false
   },
   "outputs": [
    {
     "data": {
      "text/plain": [
       "4096"
      ]
     },
     "execution_count": 38,
     "metadata": {},
     "output_type": "execute_result"
    }
   ],
   "source": [
    "2^facts[\"BitDepth\"][1]"
   ]
  },
  {
   "cell_type": "code",
   "execution_count": 41,
   "metadata": {
    "collapsed": false
   },
   "outputs": [
    {
     "data": {
      "text/plain": [
       "-2.01416015625"
      ]
     },
     "execution_count": 41,
     "metadata": {},
     "output_type": "execute_result"
    }
   ],
   "source": [
    "FactorConversion=(facts[\"MaxVolt\"][1]-facts[\"MinVolt\"][1])/(2^facts[\"BitDepth\"][1])*facts[\"SignalInversion\"][1]"
   ]
  },
  {
   "cell_type": "code",
   "execution_count": 42,
   "metadata": {
    "collapsed": false
   },
   "outputs": [
    {
     "data": {
      "text/plain": [
       "4125.0"
      ]
     },
     "execution_count": 42,
     "metadata": {},
     "output_type": "execute_result"
    }
   ],
   "source": [
    "Offset=facts[\"SignalInversion\"][1]*facts[\"MinVolt\"][1]"
   ]
  },
  {
   "cell_type": "code",
   "execution_count": 47,
   "metadata": {
    "collapsed": false
   },
   "outputs": [
    {
     "data": {
      "text/plain": [
       "tuabuela (generic function with 2 methods)"
      ]
     },
     "execution_count": 47,
     "metadata": {},
     "output_type": "execute_result"
    }
   ],
   "source": [
    "function tuabuela(x::Real)\n",
    "    x+x\n",
    "    \n",
    "end"
   ]
  },
  {
   "cell_type": "code",
   "execution_count": 49,
   "metadata": {
    "collapsed": false
   },
   "outputs": [
    {
     "name": "stdout",
     "output_type": "stream",
     "text": [
      "1 is of type\n"
     ]
    },
    {
     "name": "stderr",
     "output_type": "stream",
     "text": [
      "INFO: Loading help data...\n"
     ]
    },
    {
     "name": "stdout",
     "output_type": "stream",
     "text": [
      "DataType   : Int64\n",
      "  supertype: Signed\n"
     ]
    }
   ],
   "source": [
    "?HDF5.H5D_CONTIGUOUS"
   ]
  },
  {
   "cell_type": "code",
   "execution_count": null,
   "metadata": {
    "collapsed": true
   },
   "outputs": [],
   "source": []
  }
 ],
 "metadata": {
  "kernelspec": {
   "display_name": "Julia 0.3.12-pre",
   "language": "julia",
   "name": "julia-0.3"
  },
  "language_info": {
   "file_extension": ".jl",
   "mimetype": "application/julia",
   "name": "julia",
   "version": "0.3.12"
  }
 },
 "nbformat": 4,
 "nbformat_minor": 0
}
