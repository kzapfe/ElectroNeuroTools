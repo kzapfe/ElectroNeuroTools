{
 "cells": [
  {
   "cell_type": "markdown",
   "metadata": {},
   "source": [
    "# CSD y CM de Actividad Evocada. \n",
    "Usemos esto como opurtunidad para poner todo el código en orden.\n",
    "\n",
    "\n",
    "En este *notebook* de Julia implementaremos métodos numéricos para llevar a cabo un análisis de *centro de masa* (promedio vectorial) de la densidad de pozos y fuentes de corriente sobre una rebanada del hipocámpo de una rata. En este Notebook estudiaremos los datos de los experimentos evocados que hizo Franco en Agosto.\n",
    " Al parecer primero toca hacer una prueba con todo aquí mismo antes que hacer un modulo ordenado por una inconveniencia al hacer modulos (no se pueden recargar)."
   ]
  },
  {
   "cell_type": "code",
   "execution_count": 1,
   "metadata": {
    "collapsed": false
   },
   "outputs": [],
   "source": [
    "using HDF5"
   ]
  },
  {
   "cell_type": "code",
   "execution_count": 2,
   "metadata": {
    "collapsed": false
   },
   "outputs": [
    {
     "data": {
      "text/plain": [
       "AbreyCheca (generic function with 1 method)"
      ]
     },
     "execution_count": 2,
     "metadata": {},
     "output_type": "execute_result"
    }
   ],
   "source": [
    "function AbreyCheca(x::AbstractString)\n",
    "    #Abre el archivo de brw (acepta el nombre tal cual)\n",
    "    archivo=h5open(x)\n",
    "    #sacatito todas las variables que te interesan\n",
    "    numcuadros=archivo[\"/3BRecInfo/3BRecVars/NRecFrames\"][1][1]\n",
    "    frecuencia=archivo[\"/3BRecInfo/3BRecVars/SamplingRate\"][1][1]\n",
    "    maxvolt=archivo[\"/3BRecInfo/3BRecVars/MaxVolt\"][1][1]\n",
    "    minvolt=archivo[\"/3BRecInfo/3BRecVars/MinVolt\"][1][1]\n",
    "    bitdepth=archivo[\"/3BRecInfo/3BRecVars/BitDepth\"][1][1]\n",
    "    duracionexperimento=numcuadros/frecuencia\n",
    "    factordeescala=(maxvolt-minvolt)/2^bitdepth\n",
    "    DatosCrudos=read(archivo[\"/3BData/Raw\"])\n",
    "    result=Dict(\"numcuadros\" => numcuadros,\n",
    "                \"frecuencia\"=> frecuencia,\n",
    "                \"maxvolt\" => maxvolt,\n",
    "                \"minvolt\" => minvolt,\n",
    "                \"bitdepth\" => bitdepth,\n",
    "                \"duracion\" => duracionexperimento,\n",
    "                \"factor\" => factordeescala,\n",
    "                \"DatosCrudos\"=>DatosCrudos )\n",
    "    return result\n",
    "                    \n",
    "end"
   ]
  },
  {
   "cell_type": "code",
   "execution_count": 3,
   "metadata": {
    "collapsed": false
   },
   "outputs": [
    {
     "data": {
      "text/plain": [
       "Dict{ASCIIString,Any} with 8 entries:\n",
       "  \"minvolt\"     => -4125.0\n",
       "  \"maxvolt\"     => 4125.0\n",
       "  \"frecuencia\"  => 7020.800706028248\n",
       "  \"DatosCrudos\" => 4096x210624 Array{UInt16,2}:…\n",
       "  \"bitdepth\"    => 0x0c\n",
       "  \"factor\"      => 2.01416015625\n",
       "  \"numcuadros\"  => 210624\n",
       "  \"duracion\"    => 29.99999698312937"
      ]
     },
     "execution_count": 3,
     "metadata": {},
     "output_type": "execute_result"
    }
   ],
   "source": [
    "Datos=AbreyCheca(\"050815_3R7_converted.brw\")"
   ]
  },
  {
   "cell_type": "code",
   "execution_count": 5,
   "metadata": {
    "collapsed": false
   },
   "outputs": [
    {
     "data": {
      "text/plain": [
       "EncuentraTrancazosRaw (generic function with 2 methods)"
      ]
     },
     "execution_count": 5,
     "metadata": {},
     "output_type": "execute_result"
    }
   ],
   "source": [
    "function EncuentraTrancazosRaw(datos::Array, tolerancia=1400)\n",
    "    result=Int[]\n",
    "    longitud=length(datos)\n",
    "    jcomp=0\n",
    "    media=mean(datos)\n",
    "    for j=1:longitud\n",
    "        if abs(datos[j]-media)>tolerancia\n",
    "            if j-jcomp>1\n",
    "                push!(result,j)\n",
    "            end\n",
    "            jcomp=j\n",
    "        end\n",
    "    end\n",
    "    return result\n",
    "end\n"
   ]
  },
  {
   "cell_type": "code",
   "execution_count": 6,
   "metadata": {
    "collapsed": false
   },
   "outputs": [],
   "source": [
    "exemplo=vec(Datos[\"DatosCrudos\"][1500,:]);"
   ]
  },
  {
   "cell_type": "code",
   "execution_count": 7,
   "metadata": {
    "collapsed": true
   },
   "outputs": [],
   "source": [
    "using PyPlot\n",
    "ion()"
   ]
  },
  {
   "cell_type": "code",
   "execution_count": 8,
   "metadata": {
    "collapsed": false
   },
   "outputs": [
    {
     "data": {
      "image/png": "[encoded data removed]",
      "text/plain": [
       "PyPlot.Figure(PyObject <matplotlib.figure.Figure object at 0x7efe281b6860>)"
      ]
     },
     "metadata": {},
     "output_type": "display_data"
    },
    {
     "data": {
      "text/plain": [
       "1-element Array{Any,1}:\n",
       " PyObject <matplotlib.lines.Line2D object at 0x7efe27e43908>"
      ]
     },
     "execution_count": 8,
     "metadata": {},
     "output_type": "execute_result"
    }
   ],
   "source": [
    "plot(1:210624,exemplo)"
   ]
  },
  {
   "cell_type": "code",
   "execution_count": 9,
   "metadata": {
    "collapsed": false
   },
   "outputs": [
    {
     "data": {
      "text/plain": [
       "3-element Array{Int64,1}:\n",
       "  47149\n",
       " 117758\n",
       " 188366"
      ]
     },
     "execution_count": 9,
     "metadata": {},
     "output_type": "execute_result"
    }
   ],
   "source": [
    "listongas=EncuentraTrancazosRaw(exemplo)"
   ]
  },
  {
   "cell_type": "code",
   "execution_count": 10,
   "metadata": {
    "collapsed": false
   },
   "outputs": [
    {
     "data": {
      "text/plain": [
       "ActividadFueraTrancazo (generic function with 1 method)"
      ]
     },
     "execution_count": 10,
     "metadata": {},
     "output_type": "execute_result"
    }
   ],
   "source": [
    "function ActivAlrededorTrancazo(Lista::Array, xxs::Array)\n",
    "    #Aqui no se le ha hecho reshape a las matrices todavia\n",
    "    result=Dict{AbstractString, Array}()\n",
    "    q=1\n",
    "    desde=36\n",
    "    hasta=211\n",
    "    for j in Lista\n",
    "        nomineclave=\"Trancazo_$q\"\n",
    "        result[nomineclave]=xxs[:,j-desde:j+hasta]\n",
    "        #println(nomineclave)\n",
    "        q+=1\n",
    "    end\n",
    "    return result\n",
    "end\n",
    "\n",
    "function ActividadFueraTrancazo(Lista::Array, xxs::Array)\n",
    "    q=1\n",
    "    desde=36\n",
    "    hasta=211\n",
    "    aux=trues(xxs)\n",
    "    for j in Lista\n",
    "        aux[j-desde:j+hasta]=false\n",
    "    end\n",
    "    result=zeros(1)\n",
    "    aux2=find(aux)\n",
    "    for j in aux2\n",
    "        result=vcat(result,xxs[j])\n",
    "    end\n",
    "    return result\n",
    "end\n",
    "        \n",
    "    \n",
    "\n"
   ]
  },
  {
   "cell_type": "markdown",
   "metadata": {},
   "source": [
    "Rafael sugiere tomar $5ms$ antes del estímulo y unos $30ms$ después. En cuadros esto resulta ser unos 36 cuadros antes y 211 después."
   ]
  },
  {
   "cell_type": "code",
   "execution_count": 11,
   "metadata": {
    "collapsed": false
   },
   "outputs": [
    {
     "data": {
      "text/plain": [
       "(4096,248)"
      ]
     },
     "execution_count": 11,
     "metadata": {},
     "output_type": "execute_result"
    }
   ],
   "source": [
    "ActividadRaw=ActivAlrededorTrancazo(listongas, Datos[\"DatosCrudos\"])\n",
    "(bla,tmax)=size(ActividadRaw[\"Trancazo_1\"])"
   ]
  },
  {
   "cell_type": "code",
   "execution_count": 12,
   "metadata": {
    "collapsed": false
   },
   "outputs": [
    {
     "data": {
      "text/plain": [
       "FormaMatrizDatosCentrados (generic function with 1 method)"
      ]
     },
     "execution_count": 12,
     "metadata": {},
     "output_type": "execute_result"
    }
   ],
   "source": [
    "factor=Datos[\"factor\"]\n",
    "function FormaMatrizDatosCentrados(xxs::Array)\n",
    "    #El array tiene que ser de 4096 por algo mas\n",
    "    irrrelevante,largo=size(xxs)\n",
    "    aux=Array(Int32, 64,64, largo);\n",
    "    for j=1:64,k=1:64\n",
    "        aux[k,j,:]=xxs[j+(k-1)*64,:]\n",
    "    end\n",
    "    result=(aux*(-1)+2048)*factor;\n",
    "    aux=0\n",
    "    return result\n",
    "end"
   ]
  },
  {
   "cell_type": "code",
   "execution_count": 13,
   "metadata": {
    "collapsed": false
   },
   "outputs": [],
   "source": [
    "FueraTrancazo=ActividadFueraTrancazo(listongas,exemplo);\n",
    "FueraTrancazo=(FueraTrancazo*(-1)+2048)*factor;"
   ]
  },
  {
   "cell_type": "markdown",
   "metadata": {},
   "source": [
    "\n",
    "Hay un montonal de canales que por la forma en que requiere ser hecho el experimento no detectaron nada o casi nada. Esos aparecen el registro como saturados en el máximo valor posible. Dado que esto es MUY inconveniente para el cálculo del CM, tenemos que detectarlos automáticamente y ponerlos en cero o ver si los esquivamos."
   ]
  },
  {
   "cell_type": "code",
   "execution_count": 14,
   "metadata": {
    "collapsed": false
   },
   "outputs": [],
   "source": [
    "DatosCentrados=Dict{AbstractString, Array}()\n",
    "for k in keys(ActividadRaw)\n",
    "    DatosCentrados[k]=FormaMatrizDatosCentrados(ActividadRaw[k])\n",
    "end"
   ]
  },
  {
   "cell_type": "code",
   "execution_count": 125,
   "metadata": {
    "collapsed": false
   },
   "outputs": [
    {
     "data": {
      "text/plain": [
       "BuscaSaturados (generic function with 2 methods)"
      ]
     },
     "execution_count": 125,
     "metadata": {},
     "output_type": "execute_result"
    }
   ],
   "source": [
    "function BuscaSaturados(datos::Array, saturavalue=1900)\n",
    "    (ancho,alto,largo)=size(datos)\n",
    "    result=Set{Array{Int,1}}()\n",
    "    arreglostd=zeros(ancho,alto)\n",
    "    arregloprom=zeros(ancho,alto)\n",
    "    for j=1:ancho, k=1:alto\n",
    "        prom=mean(datos[k,j,:])\n",
    "        arregloprom[k,j]=prom\n",
    "        desviacion=std(datos[k,j,:])\n",
    "        arreglostd[k,j]=desviacion\n",
    "        if abs(prom)>saturavalue # || desviacion<1\n",
    "            push!(result, [k,j])\n",
    "        end\n",
    "    end\n",
    "    return (result,arreglostd, arregloprom)\n",
    "end"
   ]
  },
  {
   "cell_type": "code",
   "execution_count": 131,
   "metadata": {
    "collapsed": false
   },
   "outputs": [
    {
     "data": {
      "text/plain": [
       "123"
      ]
     },
     "execution_count": 131,
     "metadata": {},
     "output_type": "execute_result"
    }
   ],
   "source": [
    "PruebSatu=BuscaSaturados(DatosCentrados[\"Trancazo_3\"])\n",
    "length(PruebSatu[1])\n",
    "#in([1,1], PruebSatu[1])"
   ]
  },
  {
   "cell_type": "code",
   "execution_count": 132,
   "metadata": {
    "collapsed": false
   },
   "outputs": [],
   "source": [
    "DictSaturados=Dict{AbstractString, Tuple}()\n",
    "for k in keys(DatosCentrados)\n",
    "    DictSaturados[k]=BuscaSaturados(DatosCentrados[k])\n",
    "end"
   ]
  },
  {
   "cell_type": "code",
   "execution_count": 95,
   "metadata": {
    "collapsed": false
   },
   "outputs": [],
   "source": [
    "#length(DictSaturados[\"Trancazo_3\"][1])\n",
    "#DictSaturados[\"Trancazo_3\"][1]\n",
    "#plot(vec(DatosCentrados[\"Trancazo_2\"][1,1,:]))"
   ]
  },
  {
   "cell_type": "code",
   "execution_count": 96,
   "metadata": {
    "collapsed": false
   },
   "outputs": [
    {
     "data": {
      "text/plain": [
       "hazruido (generic function with 1 method)"
      ]
     },
     "execution_count": 96,
     "metadata": {},
     "output_type": "execute_result"
    }
   ],
   "source": [
    "function imitaruido(x::Array)\n",
    "    #Esta funcion asume que x es ruido gaussiano y lo imita.\n",
    "    #Igual de largo que xx\n",
    "    sigma=std(x)\n",
    "    prom=mean(x)\n",
    "    l=length(x)\n",
    "    result=sigma*randn(l)+prom\n",
    "    return result\n",
    "end\n",
    "\n",
    "function hazruido(sigma, prom, length)\n",
    "    # hace ruido\n",
    "    result=round(Int32, sigma*randn(length)+prom)\n",
    "    return result\n",
    "end\n",
    "\n"
   ]
  },
  {
   "cell_type": "code",
   "execution_count": 97,
   "metadata": {
    "collapsed": false
   },
   "outputs": [
    {
     "data": {
      "text/plain": [
       "(-100:2:100,[28,24,22,40,44,97,77,90,101,112  …  48,29,28,10,10,12,7,3,3,2])"
      ]
     },
     "execution_count": 97,
     "metadata": {},
     "output_type": "execute_result"
    }
   ],
   "source": [
    "binsize=2\n",
    "HistogramaRuido=hist(FueraTrancazo, -100:binsize:100)"
   ]
  },
  {
   "cell_type": "code",
   "execution_count": 98,
   "metadata": {
    "collapsed": false
   },
   "outputs": [
    {
     "data": {
      "text/plain": [
       "(-0.23790162174488164,28.013579915939754)"
      ]
     },
     "execution_count": 98,
     "metadata": {},
     "output_type": "execute_result"
    }
   ],
   "source": [
    "sigmaruido=std(FueraTrancazo)\n",
    "promruido=mean(FueraTrancazo)\n",
    "(promruido,sigmaruido)"
   ]
  },
  {
   "cell_type": "code",
   "execution_count": 99,
   "metadata": {
    "collapsed": false
   },
   "outputs": [
    {
     "data": {
      "text/plain": [
       "(-0.17216789854227593,28.0492812647304)"
      ]
     },
     "execution_count": 99,
     "metadata": {},
     "output_type": "execute_result"
    }
   ],
   "source": [
    "RuidoArtificial=imitaruido(FueraTrancazo)\n",
    "HistoRuidoArtificial=hist(RuidoArtificial,-100:binsize:100)\n",
    "norma=length(RuidoArtificial)\n",
    "mean(RuidoArtificial),std(RuidoArtificial)\n"
   ]
  },
  {
   "cell_type": "code",
   "execution_count": 100,
   "metadata": {
    "collapsed": false
   },
   "outputs": [
    {
     "data": {
      "text/plain": [
       "gauss (generic function with 1 method)"
      ]
     },
     "execution_count": 100,
     "metadata": {},
     "output_type": "execute_result"
    }
   ],
   "source": [
    "mu=promruido\n",
    "sigma=sigmaruido\n",
    "function gauss(x)\n",
    "    return 1/(sqrt(2*pi)*sigma)*exp(-((x-mu)/sigma)^2/2)\n",
    "end"
   ]
  },
  {
   "cell_type": "code",
   "execution_count": 101,
   "metadata": {
    "collapsed": false
   },
   "outputs": [],
   "source": [
    "xdata=collect(HistogramaRuido[1][2:end])\n",
    "measuredata=HistogramaRuido[2];"
   ]
  },
  {
   "cell_type": "code",
   "execution_count": 102,
   "metadata": {
    "collapsed": false
   },
   "outputs": [
    {
     "data": {
      "image/png": "[encoded data removed]",
      "text/plain": [
       "PyPlot.Figure(PyObject <matplotlib.figure.Figure object at 0x7efe2426c940>)"
      ]
     },
     "metadata": {},
     "output_type": "display_data"
    },
    {
     "data": {
      "text/plain": [
       "1-element Array{Any,1}:\n",
       " PyObject <matplotlib.lines.Line2D object at 0x7efe24720630>"
      ]
     },
     "execution_count": 102,
     "metadata": {},
     "output_type": "execute_result"
    }
   ],
   "source": [
    "figure(figsize=(8,6))\n",
    "xlim(-100,100)\n",
    "ylim(-0.1,8000)\n",
    "scatter(xdata,measuredata, color=\"red\")\n",
    "scatter(HistoRuidoArtificial[1][2:end],HistoRuidoArtificial[2])\n",
    "plot(xdata, map(x->binsize*norma*gauss(x),xdata), color=\"green\",lw=2)\n",
    "#savefig(\"GaussianasBonitas01.svg\", dpi=96)"
   ]
  },
  {
   "cell_type": "code",
   "execution_count": 103,
   "metadata": {
    "collapsed": false
   },
   "outputs": [
    {
     "data": {
      "text/plain": [
       "promediasobreconjunto (generic function with 1 method)"
      ]
     },
     "execution_count": 103,
     "metadata": {},
     "output_type": "execute_result"
    }
   ],
   "source": [
    "function vecindad8(punto::Array)\n",
    "    j=punto[1]\n",
    "    k=punto[2]\n",
    "    result=Set{Array{Int64,1}}()\n",
    "    push!(result, [j-1,k-1])\n",
    "    push!(result, [j-1,k])\n",
    "    push!(result, [j-1,k+1])\n",
    "    push!(result, [j,k-1])\n",
    "    push!(result, [j,k+1])\n",
    "    push!(result, [j+1,k-1])\n",
    "    push!(result, [j+1,k])\n",
    "    push!(result, [j+1,k+1])\n",
    "    return result\n",
    "end\n",
    "\n",
    "function promediasobreconjunto(puntos::Set, datos::Array)\n",
    "    n=0\n",
    "    result=0\n",
    "    for q in puntos\n",
    "        result+=datos[q[1],q[2]]\n",
    "        n+=1\n",
    "    end\n",
    "    result/=n\n",
    "    return result\n",
    "end\n",
    "        "
   ]
  },
  {
   "cell_type": "code",
   "execution_count": 133,
   "metadata": {
    "collapsed": false
   },
   "outputs": [
    {
     "name": "stdout",
     "output_type": "stream",
     "text": [
      "283, 0"
     ]
    }
   ],
   "source": [
    "DatosDesaturados=Dict{AbstractString, Array}()\n",
    "n=0\n",
    "l=0\n",
    "for k in keys(DatosCentrados)\n",
    "    largo=length(DatosCentrados[k][1,1,:])\n",
    "    lista=DictSaturados[k][1]\n",
    "    aux=copy(DatosCentrados[k])\n",
    "   # println(k,\" \",length(lista))\n",
    "    \n",
    "     for m in lista\n",
    "        conjuntoutil=setdiff(vecindad8(m),lista)\n",
    "        q=m[1]\n",
    "        p=m[2]\n",
    "     #   if isempty(conjuntoutil)   \n",
    "            aux[q,p,:]=hazruido(sigmaruido,promruido,largo)\n",
    "            n+=1\n",
    "     #   else\n",
    "     #       for t=1:tmax\n",
    "     #           aux[q,p,t]=promediasobreconjunto(conjuntoutil,aux[:,:,t])\n",
    "     #       end\n",
    "     #       l+=1\n",
    "     #   end\n",
    "     end\n",
    "    DatosDesaturados[k]=aux\n",
    "end\n",
    "print(n,\", \",l)"
   ]
  },
  {
   "cell_type": "code",
   "execution_count": 136,
   "metadata": {
    "collapsed": false
   },
   "outputs": [
    {
     "data": {
      "image/png": "[encoded data removed]",
      "text/plain": [
       "PyPlot.Figure(PyObject <matplotlib.figure.Figure object at 0x7efe240a9d68>)"
      ]
     },
     "metadata": {},
     "output_type": "display_data"
    },
    {
     "data": {
      "text/plain": [
       "PyObject <matplotlib.colorbar.Colorbar object at 0x7efe240f3898>"
      ]
     },
     "execution_count": 136,
     "metadata": {},
     "output_type": "execute_result"
    }
   ],
   "source": [
    "ion()\n",
    "limites=200\n",
    "figure(figsize=(6,6))\n",
    "\n",
    "exdesaturado=DatosDesaturados[\"Trancazo_2\"][:,:,140];\n",
    "imagen=imshow(exdesaturado, origin=\"lower\", interpolation=\"nearest\", cmap=\"viridis\", vmin=-limites,vmax=limites)\n",
    "cb=colorbar(imagen, fraction=0.046)\n",
    "#savefig(\"LFP_Desaturado_1-340.svg\", dpi=96)"
   ]
  },
  {
   "cell_type": "code",
   "execution_count": 138,
   "metadata": {
    "collapsed": false
   },
   "outputs": [
    {
     "data": {
      "image/png": "[encoded data removed]",
      "text/plain": [
       "PyPlot.Figure(PyObject <matplotlib.figure.Figure object at 0x7efe24439cc0>)"
      ]
     },
     "metadata": {},
     "output_type": "display_data"
    },
    {
     "data": {
      "text/plain": [
       "PyObject <matplotlib.colorbar.Colorbar object at 0x7efe261a8940>"
      ]
     },
     "execution_count": 138,
     "metadata": {},
     "output_type": "execute_result"
    }
   ],
   "source": [
    "limites=2300\n",
    "figure(figsize=(6,6))\n",
    "rara=zeros(64,64)\n",
    "exdesaturado=mean!(rara, DatosDesaturados[\"Trancazo_2\"]);\n",
    "map!(x->x>1800?x:0, exdesaturado)\n",
    "imagen=imshow(exdesaturado, origin=\"lower\", interpolation=\"nearest\", cmap=\"viridis\", vmin=-200,vmax=limites)\n",
    "cb=colorbar(imagen, fraction=0.046)"
   ]
  },
  {
   "cell_type": "code",
   "execution_count": 106,
   "metadata": {
    "collapsed": false
   },
   "outputs": [
    {
     "data": {
      "image/png": "[encoded data removed]",
      "text/plain": [
       "PyPlot.Figure(PyObject <matplotlib.figure.Figure object at 0x7efe241f1b00>)"
      ]
     },
     "metadata": {},
     "output_type": "display_data"
    },
    {
     "data": {
      "text/plain": [
       "PyObject <matplotlib.colorbar.Colorbar object at 0x7efe23fc72e8>"
      ]
     },
     "execution_count": 106,
     "metadata": {},
     "output_type": "execute_result"
    }
   ],
   "source": [
    "figure(figsize=(6,6))\n",
    "exsaturado=DatosCentrados[\"Trancazo_2\"][:,:,140];\n",
    "imagen=imshow(exsaturado, origin=\"lower\", interpolation=\"nearest\", cmap=\"viridis\")\n",
    "cb=colorbar(imagen,fraction=0.046)\n",
    "#savefig(\"LFP_Saturado_1-340.svg\", dpi=96)"
   ]
  },
  {
   "cell_type": "code",
   "execution_count": 148,
   "metadata": {
    "collapsed": false
   },
   "outputs": [],
   "source": [
    "PyPlot.ioff()\n",
    "limites=200\n",
    "for t=1:tmax \n",
    "    tau=t-36\n",
    "    milisec=round(tau/7.02, 2)   \n",
    "    exdesaturado=DatosDesaturados[\"Trancazo_2\"][:,:,t];\n",
    "    figure(figsize=(6,6))\n",
    "    imagen=imshow(exdesaturado, origin=\"lower\", interpolation=\"nearest\", vmin=-limites,vmax=limites, cmap=\"jet\")\n",
    "    cb=colorbar(imagen, fraction=0.046)\n",
    "    PyPlot.title(\"t= $milisec ms\")\n",
    "    \n",
    "    savefig(\"LFP_Desaturado_2_3R7-$t.png\", dpi=96)\n",
    "    close()\n",
    "end"
   ]
  },
  {
   "cell_type": "code",
   "execution_count": 149,
   "metadata": {
    "collapsed": false
   },
   "outputs": [
    {
     "data": {
      "text/plain": [
       "GaussSuavizarTemporal (generic function with 2 methods)"
      ]
     },
     "execution_count": 149,
     "metadata": {},
     "output_type": "execute_result"
    }
   ],
   "source": [
    "function UnNormGauss(x,sigma)\n",
    "    return exp(-x*x/(2*sigma))\n",
    "end\n",
    "\n",
    "function GaussSuavizarTemporal(Datos,Sigma=3)  \n",
    "    #sigma esta medido en pixeles, es la desviacion estandar de nuestro kernel.\n",
    "    #El medioancho de nuestra ventana seran 3*sigma\n",
    "    #Esto es escencialmente un filtro pasabajos\n",
    "    medioancho=ceil(Sigma*3)\n",
    "    colchon=ones(medioancho)\n",
    "    result=zeros(Datos)\n",
    "    datoscolchon=vcat(colchon*Datos[1], Datos, colchon*Datos[end])\n",
    "    kernel=map(x->UnNormGauss(x,Sigma), collect(-medioancho:medioancho))\n",
    "    kernel=kernel/(sum(kernel))\n",
    "    #La convolucion asi normalizada preserva el valor RELATIVO entre los puntos de la funcion.\n",
    "    #pero queremos ponerlo mas parecido a los voltajes que medimos, para preservar el rango de valores\n",
    "    #experimentales y su criterio de potenciales de accion / ruido\n",
    "    for t=medioancho+1:length(Datos)-medioancho\n",
    "        result[t-medioancho]=sum(datoscolchon[t-medioancho:t+medioancho].*kernel)\n",
    "    end\n",
    "    a=maximum(abs(Datos))\n",
    "    b=maximum(abs(result))\n",
    "    #nromalizacion \n",
    "    #result=result*a/b\n",
    "    return result\n",
    "end\n",
    "    "
   ]
  },
  {
   "cell_type": "code",
   "execution_count": 150,
   "metadata": {
    "collapsed": false
   },
   "outputs": [
    {
     "data": {
      "text/plain": [
       "GaussianSmooth (generic function with 1 method)"
      ]
     },
     "execution_count": 150,
     "metadata": {},
     "output_type": "execute_result"
    }
   ],
   "source": [
    "#De momento todo \"in file\"\n",
    "GaussianKernel=[0.00000067\t0.00002292\t0.00019117\t0.00038771\t0.00019117\t0.00002292\t0.00000067\n",
    "0.00002292\t0.00078634\t0.00655965\t0.01330373\t0.00655965\t0.00078633\t0.00002292\n",
    "0.00019117\t0.00655965\t0.05472157\t0.11098164\t0.05472157\t0.00655965\t0.00019117\n",
    "0.00038771\t0.01330373\t0.11098164\t0.22508352\t0.11098164\t0.01330373\t0.00038771\n",
    "0.00019117\t0.00655965\t0.05472157\t0.11098164\t0.05472157\t0.00655965\t0.00019117\n",
    "0.00002292\t0.00078633\t0.00655965\t0.01330373\t0.00655965\t0.00078633\t0.00002292\n",
    "    0.00000067\t0.00002292\t0.00019117\t0.00038771\t0.00019117\t0.00002292\t0.00000067]\n",
    "\n",
    "function GaussianSmooth(Datos)\n",
    "    tamanodatos=size(Datos)\n",
    "    result=zeros(Datos)\n",
    "    temp=copy(Datos)\n",
    "    #Primero, hacemos el padding de los datos para que no se suavice demasiado\n",
    "    for j=1:3\n",
    "        temp=vcat(temp[1,:], temp, temp[end,:])\n",
    "    end\n",
    "    for j=1:3\n",
    "        temp=hcat(temp[:,1], temp, temp[:,1])\n",
    "    end\n",
    "    \n",
    "    for j=4:tamanodatos[1]+3, k=4:tamanodatos[2]+3\n",
    "        #los indices van primero, \"renglones\", luego \"columnas\", etc\n",
    "        aux=temp[j-3:j+3,k-3:k+3]\n",
    "        result[j-3,k-3]=sum(GaussianKernel.*aux)\n",
    "    end\n",
    "    #Esta convolución no respeta norma L2\n",
    "    #result=result*maximum(abs(Datos))/maximum(abs(result))\n",
    "    return result\n",
    "end\n",
    "\n"
   ]
  },
  {
   "cell_type": "code",
   "execution_count": 151,
   "metadata": {
    "collapsed": false
   },
   "outputs": [
    {
     "data": {
      "text/plain": [
       "DiscreteLaplacian (generic function with 1 method)"
      ]
     },
     "execution_count": 151,
     "metadata": {},
     "output_type": "execute_result"
    }
   ],
   "source": [
    "#checa que Julia va ordenando los datos renglon por renglon, no columna por columna\n",
    "LaplacianTerm1=[[0 1 0]; [1 -4 1]; [0 1 0]]\n",
    "LaplacianTerm2=[[0.5 0 0.5]; [0 -2 0]; [0.5 0 0.5]]\n",
    "LaplacianKernel=(1-1/3)*LaplacianTerm1+(1/3)*LaplacianTerm2\n",
    "\n",
    "#Nueva variante: AHORA SI VAMOS A ELIMINAR LAS ORILLAS\n",
    "#Los efectos de borde estan dando puro choro en el CSD.\n",
    "function DiscreteLaplacian(Datos)\n",
    "    result=zeros(Datos)\n",
    "    temp=copy(Datos)\n",
    "    #Primero, hacemos el padding de los datos para que no se suavice demasiado\n",
    "    temp=vcat(temp[1,:], temp, temp[end,:])\n",
    "    temp=hcat(temp[:,1], temp, temp[:,end])\n",
    "    largo,ancho=size(Datos)\n",
    "    aux=Array(Float64,(3,3))\n",
    "    result=zeros(Datos)\n",
    "    for j=2:largo+1, k=2:ancho+1\n",
    "        #los indices van primero, \"renglones\", luego \"columnas\", etc\n",
    "        aux=temp[j-1:j+1,k-1:k+1]\n",
    "        result[j-1,k-1]=sum(LaplacianKernel.*aux)\n",
    "    end\n",
    "    #Crop the borders\n",
    "    result=result[2:end-1,2:end-1]\n",
    "    return result\n",
    "end"
   ]
  },
  {
   "cell_type": "code",
   "execution_count": 152,
   "metadata": {
    "collapsed": false
   },
   "outputs": [],
   "source": [
    "CSD=Dict{AbstractString, Array}()\n",
    "for k in keys(DatosDesaturados)\n",
    "    (mu,nu,lu)=size(DatosDesaturados[k])\n",
    "    aux1=zeros(mu,nu,lu)\n",
    "    aux2=zeros(mu-2,nu-2,lu)\n",
    "    temp=map(Float64,DatosDesaturados[k])\n",
    "    for t=1:lu\n",
    "        aux1[:,:,t]=GaussianSmooth(temp[:,:,t])\n",
    "        aux2[:,:,t]=DiscreteLaplacian(aux1[:,:,t])\n",
    "    end\n",
    "    CSD[k]=-aux2\n",
    "end"
   ]
  },
  {
   "cell_type": "code",
   "execution_count": 153,
   "metadata": {
    "collapsed": false
   },
   "outputs": [],
   "source": [
    "CSDPlanchada=Dict{AbstractString, Array}()\n",
    "for k in keys(CSD)\n",
    "    (mu,nu,lu)=size(CSD[k])\n",
    "    aux=zeros(mu,nu,lu)\n",
    "    for j=1:mu,l=1:nu\n",
    "        porromponpon=vec(CSD[k][j,l,:])\n",
    "        aux[j,l,:]=GaussSuavizarTemporal(porromponpon)\n",
    "    end\n",
    "    CSDPlanchada[k]=aux\n",
    "end"
   ]
  },
  {
   "cell_type": "code",
   "execution_count": 144,
   "metadata": {
    "collapsed": false
   },
   "outputs": [
    {
     "data": {
      "image/png": "[encoded data removed]",
      "text/plain": [
       "PyPlot.Figure(PyObject <matplotlib.figure.Figure object at 0x7efe260d86d8>)"
      ]
     },
     "metadata": {},
     "output_type": "display_data"
    }
   ],
   "source": [
    "ion()\n",
    "t=140\n",
    "tau=t-36\n",
    "milisec=round(tau/7.02, 2)\n",
    "CSDexample=CSDPromedio[:,:,t];\n",
    "\n",
    "figure(figsize=(6,6))\n",
    "#exsaturado=DatosCentrados[\"Trancazo_1\"][:,:,340]+DatosCentrados[\"Trancazo_3\"][:,:,340]+DatosCentrados[\"Trancazo_2\"][:,:,340]\n",
    "imagen=imshow(CSDexample, origin=\"lower\", interpolation=\"nearest\", cmap=\"coolwarm\", vmin=-40, vmax=40)\n",
    "cb=colorbar(imagen,fraction=0.046, ticks=[])\n",
    " PyPlot.title(\"t= $milisec ms\")\n",
    "\n",
    "   \n",
    "    annotate(\"Source\",\n",
    "    xy=[1.03;0.98],\n",
    "    xycoords=\"axes fraction\",\n",
    "    xytext=[-10,10],\n",
    "    textcoords=\"offset points\",\n",
    "#font_properties=(\"DejaVu Serif\"),\n",
    "    fontsize=14,\n",
    "    ha=\"left\",\n",
    "   va=\"bottom\")\n",
    "\n",
    "\n",
    "annotate(\"Sink\",\n",
    "    xy=[1.07;-0.11],\n",
    "    xycoords=\"axes fraction\",\n",
    "    xytext=[-10,10],\n",
    "    textcoords=\"offset points\",\n",
    "    fontsize=14.0,\n",
    "    ha=\"left\",\n",
    "    va=\"bottom\")\n",
    "    \n",
    "tight_layout()  \n",
    "#savefig(\"CSDSuave_1-$t.png\", dpi=96)\n"
   ]
  },
  {
   "cell_type": "code",
   "execution_count": 156,
   "metadata": {
    "collapsed": false
   },
   "outputs": [],
   "source": [
    "\n",
    "PyPlot.ioff()\n",
    "for t=1:tmax\n",
    "    tau=t-36\n",
    "    milisec=round(tau/7.02, 2)\n",
    "    \n",
    "    datos=CSDPlanchada[\"Trancazo_2\"][:,:,t];\n",
    "    figure(figsize=(6,6))\n",
    "    imagen=imshow(datos, origin=\"lower\", interpolation=\"nearest\", vmin=-60,vmax=60, cmap=\"coolwarm\")\n",
    "    cb=colorbar(imagen, fraction=0.046, ticks=[])\n",
    "    PyPlot.title(\"t= $milisec ms\")\n",
    "    \n",
    "    annotate(\"Source\",\n",
    "    xy=[1.03;0.98],\n",
    "    xycoords=\"axes fraction\",\n",
    "    xytext=[-10,10],\n",
    "    textcoords=\"offset points\",\n",
    "#font_properties=(\"DejaVu Serif\"),\n",
    "    fontsize=14,\n",
    "    ha=\"left\",\n",
    "   va=\"bottom\")\n",
    "\n",
    "\n",
    "annotate(\"Sink\",\n",
    "    xy=[1.07;-0.11],\n",
    "    xycoords=\"axes fraction\",\n",
    "    xytext=[-10,10],\n",
    "    textcoords=\"offset points\",\n",
    "    fontsize=14.0,\n",
    "    ha=\"left\",\n",
    "    va=\"bottom\")\n",
    "    \n",
    "    tight_layout()    \n",
    "    savefig(\"CSDPlanchado_2_3R7-$t.png\", dpi=96)\n",
    "    close()\n",
    "end"
   ]
  },
  {
   "cell_type": "code",
   "execution_count": 145,
   "metadata": {
    "collapsed": false
   },
   "outputs": [],
   "source": [
    "using JLD\n",
    "save(\"CSDEvocada.jld\", \"CSDPlanchada\", CSDPlanchada, \"CSD\", CSD)"
   ]
  },
  {
   "cell_type": "code",
   "execution_count": 143,
   "metadata": {
    "collapsed": false
   },
   "outputs": [],
   "source": [
    "CSDPromedio=CSDPlanchada[\"Trancazo_1\"]+CSDPlanchada[\"Trancazo_2\"]+CSDPlanchada[\"Trancazo_3\"];\n",
    "CSDPromedio/=3.0;"
   ]
  },
  {
   "cell_type": "code",
   "execution_count": null,
   "metadata": {
    "collapsed": true
   },
   "outputs": [],
   "source": [
    "PyPlot.ioff()\n",
    "for t=1:501\n",
    "    datos=CSDPromedio[:,:,t];\n",
    "    figure(figsize=(6,6))\n",
    "    imagen=imshow(datos, origin=\"lower\", interpolation=\"nearest\", vmin=-20,vmax=20, cmap=\"coolwarm\")\n",
    "    cb=colorbar(imagen, fraction=0.046)\n",
    "    savefig(\"CSD_Promedio-$t.png\", dpi=96)\n",
    "    close()\n",
    "end\n"
   ]
  },
  {
   "cell_type": "code",
   "execution_count": 157,
   "metadata": {
    "collapsed": false
   },
   "outputs": [
    {
     "data": {
      "text/plain": [
       "ObtenComponentesYEscribe (generic function with 4 methods)"
      ]
     },
     "execution_count": 157,
     "metadata": {},
     "output_type": "execute_result"
    }
   ],
   "source": [
    "function ObtenComponentesYEscribe(Datos::Array, tini=1, tfini=tmax, epsilon=1.0)\n",
    "    #CSD ahora no tiene orillas. Asi que toca adaptarse.\n",
    "    \n",
    "    \n",
    " for t=tini:tfini\n",
    "    #iniciar variables vacias\n",
    "    ActividadNegativa=Array{Int16}[]\n",
    "    ActividadPositiva=Array{Int16}[]\n",
    "    SpikeCountPositivo=zeros(62,62)\n",
    "    SpikeCountNegativo=zeros(62,62)\n",
    "    #Todos\n",
    "    for j=1:62, k=1:62\n",
    "            if(Datos[j,k,t]<-epsilon)     \n",
    "            push!(ActividadNegativa, [j, k])\n",
    "            SpikeCountNegativo[j,k]+=1\n",
    "                elseif(Datos[j,k,t]>epsilon)\n",
    "            push!(ActividadPositiva, [j, k])\n",
    "            SpikeCountPositivo[j,k]+=1\n",
    "        end             \n",
    "    end\n",
    "\n",
    "    #Simple pass method\n",
    "    listaneg=copy(ActividadNegativa)\n",
    "    listapos=copy(ActividadPositiva)\n",
    "    componentesneg=Set{Any}()\n",
    "    componentespos=Set{Any}()\n",
    "    #Primero lo negativo (pozos)\n",
    "    while(length(listaneg)!=0)\n",
    "        x=pop!(listaneg) #arranca el ULTIMO elemento de la lista\n",
    "        listaprofundeza=Array{Int64}[]\n",
    "        componentecurlab=Array{Int64}[]\n",
    "        push!(listaprofundeza, x) #Pone elementos al FINAL de la lista\n",
    "        push!(componentecurlab, x)    \n",
    "        profundidad=0\n",
    "        while ((length(listaprofundeza)!=0) && profundidad<1000)\n",
    "            y=pop!(listaprofundeza)\n",
    "            for v in vecindad8(y)\n",
    "                if in(v, listaneg)\n",
    "             #   \n",
    "                        deleteat!(listaneg, indexin(Any[v], listaneg))\n",
    "                    push!(listaprofundeza, v)\n",
    "                    profundidad+=1\n",
    "                    push!(componentecurlab, v)\n",
    "                end\n",
    "            end\n",
    "        end\n",
    "    # println(\"Para \", x, \"la profundidad fue \", profundidad)\n",
    "        \n",
    "        push!(componentesneg, componentecurlab)\n",
    "    end\n",
    "\n",
    "\n",
    "    centrosdemasaneg=[[0 0 0];]\n",
    "    for p in componentesneg\n",
    "        masa=0.00\n",
    "        x=0.00\n",
    "        y=0.00\n",
    "        for q in p\n",
    "            j=q[1]\n",
    "            k=q[2]\n",
    "                masalocal=Datos[j,k,t]\n",
    "            masa+=masalocal\n",
    "            x+=k*masalocal\n",
    "            y+=j*masalocal\n",
    "        end\n",
    "        x/=masa\n",
    "        y/=masa\n",
    "        A=[x y masa]\n",
    "        centrosdemasaneg=vcat(centrosdemasaneg, A)\n",
    "    end\n",
    "    centrosdemasaneg=centrosdemasaneg[2:end,:]\n",
    "        zacatlan=\"CenterOfMassCollector/CMPozos-$t.dat\"\n",
    "    writedlm(zacatlan, centrosdemasaneg)\n",
    "    ##### Ahora lo posittivo (fuentes)\n",
    "    while(length(listapos)!=0)\n",
    "        x=pop!(listapos) #arranca el ULTIMO elemento de la lista\n",
    "        listaprofundeza=Array{Int64}[]\n",
    "        componentecurlab=Array{Int64}[]\n",
    "        push!(listaprofundeza, x) #Pone elementos al FINAL de la lista\n",
    "        push!(componentecurlab, x)    \n",
    "        profundidad=0\n",
    "        while ((length(listaprofundeza)!=0) && profundidad<1000)\n",
    "            y=pop!(listaprofundeza)\n",
    "            for v in vecindad8(y)\n",
    "                if in(v, listapos)\n",
    "             #   \n",
    "                        deleteat!(listapos, indexin(Any[v], listapos))\n",
    "                    push!(listaprofundeza, v)\n",
    "                    profundidad+=1\n",
    "                    push!(componentecurlab, v)\n",
    "                end\n",
    "            end\n",
    "        end\n",
    "    # println(\"Para \", x, \"la profundidad fue \", profundidad)\n",
    "        \n",
    "        push!(componentespos, componentecurlab)\n",
    "    end\n",
    "\n",
    "\n",
    "    centrosdemasapos=[[0 0 0];]\n",
    "    for p in componentespos\n",
    "        masa=0.00\n",
    "        x=0.00\n",
    "        y=0.00\n",
    "        for q in p\n",
    "            j=q[1]\n",
    "            k=q[2]\n",
    "                masalocal=Datos[j,k,t]\n",
    "            masa+=masalocal\n",
    "            x+=k*masalocal\n",
    "            y+=j*masalocal\n",
    "        end\n",
    "        x/=masa\n",
    "        y/=masa\n",
    "        A=[x y masa]\n",
    "        centrosdemasapos=vcat(centrosdemasapos, A)\n",
    "    end\n",
    "    centrosdemasapos=centrosdemasapos[2:end,:]\n",
    "        zacatlan=\"CenterOfMassCollector/CMFuentes-$t.dat\"\n",
    "    writedlm(zacatlan, centrosdemasapos)\n",
    "end\n",
    "    return 0\n",
    "end"
   ]
  },
  {
   "cell_type": "code",
   "execution_count": null,
   "metadata": {
    "collapsed": false
   },
   "outputs": [],
   "source": [
    "ObtenComponentesYEscribe(CSDPlanchada[\"Trancazo_2\"], 1,tmax,1)"
   ]
  },
  {
   "cell_type": "code",
   "execution_count": null,
   "metadata": {
    "collapsed": false
   },
   "outputs": [],
   "source": [
    "function leeunmegaarray(NomineGeneralis::AbstractString, cuantos=501)\n",
    "    LeMegaArray=Array[]\n",
    "    for t=35:cuantos\n",
    "      #  println(\"$NomineGeneralis-$t.dat\")\n",
    "        CMx=readdlm(\"$NomineGeneralis-$t.dat\")\n",
    "        push!(LeMegaArray, CMx)\n",
    "    end\n",
    "    return LeMegaArray\n",
    "end"
   ]
  },
  {
   "cell_type": "code",
   "execution_count": null,
   "metadata": {
    "collapsed": false
   },
   "outputs": [],
   "source": [
    "function dist2D(x::Array,y::Array)\n",
    "    result=sqrt((x[1]-y[1])^2+(x[2]-y[2])^2)\n",
    "    return result\n",
    "end"
   ]
  },
  {
   "cell_type": "code",
   "execution_count": null,
   "metadata": {
    "collapsed": false
   },
   "outputs": [],
   "source": [
    "function encuentraTrayectorias(Datos::Array, mincadena=20)\n",
    "\n",
    "toleradist=4.0*sqrt(2)\n",
    "tau=1\n",
    "t=1\n",
    "j=1\n",
    "Catenario=Set{Array{Any}}()\n",
    "Cadena=[0 0 0 0]\n",
    "    CopiaMegaArray=deepcopy(Datos);\n",
    "    NumFrames=length(Datos)\n",
    "FakeNumFrames=NumFrames\n",
    "\n",
    "\n",
    "\n",
    "while t <= FakeNumFrames-1 \n",
    "    \n",
    "    tau=t\n",
    "    \n",
    "    @label arrrrh\n",
    "  \n",
    "    jmax,nada= size(CopiaMegaArray[tau])\n",
    "    \n",
    "    while j <=jmax && tau<FakeNumFrames\n",
    "        \n",
    "            if abs(CopiaMegaArray[tau][j,3]) > 0.05\n",
    "                       \n",
    "            Eslabon=[copy(CopiaMegaArray[tau][j,:]) tau]\n",
    "            Cadena=vcat(Cadena, Eslabon)\n",
    "         #   println(\"Papa t: \", t, \"  tau: \", tau, \" y  j: \",j )\n",
    "            mindist=2\n",
    "            kasterisco=1\n",
    "            kmax, nada= size(CopiaMegaArray[tau+1])\n",
    "            huboalgo=false\n",
    "          \n",
    "        #    kmax=5\n",
    "            \n",
    "            for k=1:kmax\n",
    "                \n",
    "                EslabonTentativo=CopiaMegaArray[tau+1][k,:]\n",
    "            #    println(EslabonTentativo)\n",
    "                    if abs(EslabonTentativo[3])>0.05\n",
    "                    dist=dist2D(Eslabon,EslabonTentativo)                  \n",
    "                    if dist<mindist\n",
    "                        mindist=dist\n",
    "                        kasterisco=k\n",
    "                        \n",
    "                       # println(kasterisco, \"=k*\", k, \"=k\")\n",
    "                        huboalgo=true\n",
    "                    end\n",
    "                end\n",
    "            \n",
    "            end    \n",
    "            \n",
    "            if huboalgo && mindist<toleradist\n",
    "                #quitamos el anterior\n",
    "                CopiaMegaArray[tau][j,3]=0.0000 \n",
    "               # println(mindist,\" \", t, \" \", tau+1 ,\" \", kasterisco )\n",
    "                \n",
    "                if tau+1<FakeNumFrames\n",
    "                    tau+=1\n",
    "                    j=kasterisco\n",
    "      #              println(\"Pepe t: \", t, \"  tau: \", tau, \" y  j: \",j )\n",
    "                    @goto arrrrh\n",
    "                \n",
    "                else\n",
    "                    \n",
    "                    Eslabon=[copy(CopiaMegaArray[tau+1][kasterisco,:]) tau+1]\n",
    "                    Cadena=vcat(Cadena, Eslabon)\n",
    "      #              println(\"Pipi t: \", t, \"  t: \", t, \" y  j: \",j )\n",
    "                    j+=1\n",
    "                    tau=t\n",
    "                    \n",
    "                    if size(Cadena)[1]>mincadena\n",
    "                        push!(Catenario, Cadena[2:end,:])\n",
    "                    end\n",
    "                    \n",
    "                    Cadena=[0 0 0 0]\n",
    "                    @goto arrrrh\n",
    "                end\n",
    "                                \n",
    "            else\n",
    "                \n",
    "                if size(Cadena)[1]>mincadena\n",
    "                    push!(Catenario, Cadena[2:end,:])\n",
    "                end\n",
    "                Cadena=[0 0 0 0]\n",
    "                j+=1\n",
    "                tau=t\n",
    "                @goto arrrrh\n",
    "            end\n",
    "                       \n",
    "        end #cierra sobre el if de  la masa \n",
    "                \n",
    "        j+=1                    \n",
    "        tau=t\n",
    "    \n",
    "    end\n",
    "    @label urrr\n",
    "      \n",
    "    j=1\n",
    "    t+=1\n",
    "    tau=t\n",
    "    Cadena=[0 0 0 0]\n",
    "end \n",
    "    \n",
    "    return Catenario\n",
    "end"
   ]
  },
  {
   "cell_type": "code",
   "execution_count": null,
   "metadata": {
    "collapsed": false
   },
   "outputs": [],
   "source": [
    "MegaArrayPositivo=Array[]\n",
    "MegaArrayNegativo=Array[]\n",
    "MegaArrayPositivo=leeunmegaarray(\"CenterOfMassCollector/CMFuentes\",480);\n",
    "MegaArrayNegativo=leeunmegaarray(\"CenterOfMassCollector/CMPozos\",480);"
   ]
  },
  {
   "cell_type": "code",
   "execution_count": null,
   "metadata": {
    "collapsed": false
   },
   "outputs": [],
   "source": [
    "\n",
    "CatenarioPositivo=encuentraTrayectorias(MegaArrayPositivo, 2);\n",
    "CatenarioNegativo=encuentraTrayectorias(MegaArrayNegativo,2);"
   ]
  },
  {
   "cell_type": "code",
   "execution_count": null,
   "metadata": {
    "collapsed": true
   },
   "outputs": [],
   "source": [
    "save(\"Catenarios4AP-Trancazo-3.jld\", \"CatenarioNegativo\", CatenarioNegativo, \"CatenarioPositivo\", CatenarioPositivo)"
   ]
  },
  {
   "cell_type": "code",
   "execution_count": null,
   "metadata": {
    "collapsed": true
   },
   "outputs": [],
   "source": [
    "CatenarioPositivo=load(\"Catenarios4AP-01.jld\", \"CatenarioPositivo\")\n",
    "CatenarioNegativo=load(\"Catenarios4AP-01.jld\", \"CatenarioNegativo\");"
   ]
  },
  {
   "cell_type": "code",
   "execution_count": null,
   "metadata": {
    "collapsed": false
   },
   "outputs": [],
   "source": [
    "ImagenCSD=CSDPlanchada[\"Trancazo_1\"][:,:,64];"
   ]
  },
  {
   "cell_type": "code",
   "execution_count": null,
   "metadata": {
    "collapsed": false
   },
   "outputs": [],
   "source": [
    "ion()\n",
    "\n",
    "figure(figsize=(6,6))\n",
    "#axis(\"equal\")\n",
    "tick_params(labelbottom=\"off\", labelleft=\"off\")\n",
    "xlim(-0.50,61.5)\n",
    "ylim(-0.5,61.5)\n",
    "bolitasrojas=0\n",
    "bolitasazules=0\n",
    "minlargo=5\n",
    "marcagor=85\n",
    "muevemin=0.5\n",
    "tight_layout()\n",
    "\n",
    "guacafondo=imshow(ImagenCSD, cmap=\"bwr\", interpolation=\"spline16\", origin=\"lower\", vmin=-40, vmax=40)\n",
    "\n",
    "for p in CatenarioPositivo\n",
    "    gordura=abs(map(Float32,p[:,3]))\n",
    "    desviax=std(map(Float32,p[:,1]))\n",
    "    desviay=std(map(Float32,p[:,2]))\n",
    "    longus,falsus=size(p)\n",
    "    if mean(gordura)> marcagor && (desviax>muevemin || desviay>muevemin) && longus> minlargo \n",
    "        #Si son chiquitos no nos interesan.\n",
    "        xxpos=p[:,1]\n",
    "        yypos=p[:,2]    \n",
    "        tiempos=p[:,4]/7022    \n",
    "        plot(xxpos, yypos, marker=\"o\", markersize=1, color=\"r\")\n",
    "        #bolitasrojas=scatter(xxpos,yypos, s=gordura, \n",
    "        #edgecolors=\"none\", color=\"r\" )\n",
    "        inicios=scatter(xxpos[1],yypos[1], s=marcagor, edgecolors=\"black\", \n",
    "        linewidth=1,\n",
    "        facecolor=\"red\", marker=\"o\" )\n",
    "        finales=scatter(xxpos[end],yypos[end], s=marcagor, edgecolors=\"black\", \n",
    "        linewidth=1,facecolor=\"red\", marker=\"^\", label=\"Final\" )\n",
    "      #  annotate(round(tiempos[1]*1000,1),  (xxpos[1], yypos[1]), fontsize=7, color=\"black\")\n",
    "       # annotate(round(tiempos[end]*1000,1), (xxpos[end], yypos[end]), fontsize=7, color=\"green\")\n",
    "\n",
    "    end\n",
    "end\n",
    "\n",
    "\n",
    "\n",
    "\n",
    "for p in CatenarioNegativo\n",
    "    gordura=abs(map(Float32,p[:,3]))\n",
    "    desviax=std(map(Float32,p[:,1]))\n",
    "    desviay=std(map(Float32, p[:,2]))\n",
    "    longus,falsus=size(p)\n",
    "    if mean(gordura)>marcagor && (desviax>muevemin || desviay > muevemin) &&longus> minlargo\n",
    "        #Si son chiquitos no nos interesan.\n",
    "        xxpos=p[:,1]\n",
    "        yypos=p[:,2]    \n",
    "        tiempos=p[:,4]/7022    \n",
    "        plot(xxpos, yypos, marker=\"o\", markersize=1, color=\"b\")\n",
    "        #bolitasazules=scatter(xxpos,yypos, s=gordura,\n",
    "        #edgecolors=\"none\", color=\"b\")\n",
    "        inicios=scatter(xxpos[1],yypos[1], s=marcagor, edgecolors=\"black\", \n",
    "        linewidth=1,\n",
    "        facecolor=\"blue\", alpha=0.7, marker=\"o\", label=\"Final\" )\n",
    "        finales=scatter(xxpos[end],yypos[end], s=marcagor, edgecolors=\"black\", \n",
    "        linewidth=1,\n",
    "        facecolor=\"blue\", marker=\"^\", label=\"Final\" )\n",
    "      #  annotate(round(tiempos[1],4),  (xxpos[1], yypos[1]), fontsize=7, color=\"black\")\n",
    "      #  annotate(round(tiempos[end],4), (xxpos[end], yypos[end]), fontsize=7, color=\"green\")\n",
    "\n",
    "    end\n",
    "end\n",
    "\n",
    "#colorbar(bolitasrojas, fraction=0.046)\n",
    "#colorbar(bolitasazules, fraction=0.052, ticks=[])\n",
    "\n",
    "savefig(\"TrayectoriaEvocada_1R4_Trancazo-1.svg\", dpi=90)"
   ]
  },
  {
   "cell_type": "code",
   "execution_count": null,
   "metadata": {
    "collapsed": true
   },
   "outputs": [],
   "source": []
  }
 ],
 "metadata": {
  "kernelspec": {
   "display_name": "Julia 0.4.2-pre",
   "language": "julia",
   "name": "julia-0.4"
  },
  "language_info": {
   "file_extension": ".jl",
   "mimetype": "application/julia",
   "name": "julia",
   "version": "0.4.2"
  }
 },
 "nbformat": 4,
 "nbformat_minor": 0
}
