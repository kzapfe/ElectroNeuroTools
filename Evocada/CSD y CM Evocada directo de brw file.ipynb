{
 "cells": [
  {
   "cell_type": "markdown",
   "metadata": {},
   "source": [
    "# CSD y CM de Actividad Evocada. \n",
    "Usemos esto como opurtunidad para poner todo el código en orden.\n",
    "\n",
    "\n",
    "En este *notebook* de Julia implementaremos métodos numéricos para llevar a cabo un análisis de *centro de masa* (promedio vectorial) de la densidad de pozos y fuentes de corriente sobre una rebanada del hipocámpo de una rata. En este Notebook estudiaremos los datos de los experimentos evocados que hizo Franco en Agosto.\n",
    " Al parecer primero toca hacer una prueba con todo aquí mismo antes que hacer un modulo ordenado por una inconveniencia al hacer modulos (no se pueden recargar)."
   ]
  },
  {
   "cell_type": "code",
   "execution_count": 1,
   "metadata": {
    "collapsed": false
   },
   "outputs": [],
   "source": [
    "using HDF5"
   ]
  },
  {
   "cell_type": "code",
   "execution_count": 2,
   "metadata": {
    "collapsed": false
   },
   "outputs": [
    {
     "data": {
      "text/plain": [
       "AbreyCheca (generic function with 1 method)"
      ]
     },
     "execution_count": 2,
     "metadata": {},
     "output_type": "execute_result"
    }
   ],
   "source": [
    "function AbreyCheca(x::AbstractString)\n",
    "    #Abre el archivo de brw (acepta el nombre tal cual)\n",
    "    archivo=h5open(x)\n",
    "    #sacatito todas las variables que te interesan\n",
    "    numcuadros=archivo[\"/3BRecInfo/3BRecVars/NRecFrames\"][1][1]\n",
    "    frecuencia=archivo[\"/3BRecInfo/3BRecVars/SamplingRate\"][1][1]\n",
    "    maxvolt=archivo[\"/3BRecInfo/3BRecVars/MaxVolt\"][1][1]\n",
    "    minvolt=archivo[\"/3BRecInfo/3BRecVars/MinVolt\"][1][1]\n",
    "    bitdepth=archivo[\"/3BRecInfo/3BRecVars/BitDepth\"][1][1]\n",
    "    duracionexperimento=numcuadros/frecuencia\n",
    "    factordeescala=(maxvolt-minvolt)/2^bitdepth\n",
    "    DatosCrudos=read(archivo[\"/3BData/Raw\"])\n",
    "    result=Dict(\"numcuadros\" => numcuadros,\n",
    "                \"frecuencia\"=> frecuencia,\n",
    "                \"maxvolt\" => maxvolt,\n",
    "                \"minvolt\" => minvolt,\n",
    "                \"bitdepth\" => bitdepth,\n",
    "                \"duracion\" => duracionexperimento,\n",
    "                \"factor \" => factordeescala,\n",
    "                \"DatosCrudos\"=>DatosCrudos )\n",
    "    return result\n",
    "                    \n",
    "end"
   ]
  },
  {
   "cell_type": "code",
   "execution_count": 3,
   "metadata": {
    "collapsed": false
   },
   "outputs": [
    {
     "data": {
      "text/plain": [
       "Dict{ASCIIString,Any} with 8 entries:\n",
       "  \"minvolt\"     => -4125.0\n",
       "  \"maxvolt\"     => 4125.0\n",
       "  \"factor \"     => 2.01416015625\n",
       "  \"frecuencia\"  => 7020.800706028248\n",
       "  \"DatosCrudos\" => 4096x210624 Array{UInt16,2}:…\n",
       "  \"bitdepth\"    => 0x0c\n",
       "  \"numcuadros\"  => 210624\n",
       "  \"duracion\"    => 29.99999698312937"
      ]
     },
     "execution_count": 3,
     "metadata": {},
     "output_type": "execute_result"
    }
   ],
   "source": [
    "Datos=AbreyCheca(\"050815_1R4.brw\")"
   ]
  },
  {
   "cell_type": "code",
   "execution_count": 4,
   "metadata": {
    "collapsed": false
   },
   "outputs": [
    {
     "data": {
      "text/plain": [
       "EncuentraTrancazosRaw (generic function with 2 methods)"
      ]
     },
     "execution_count": 4,
     "metadata": {},
     "output_type": "execute_result"
    }
   ],
   "source": [
    "function EncuentraTrancazosRaw(datos::Array, tolerancia=1400)\n",
    "    result=Int[]\n",
    "    longitud=length(datos)\n",
    "    jcomp=0\n",
    "    for j=1:longitud\n",
    "        if abs(datos[j])>tolerancia\n",
    "            if j-jcomp>1\n",
    "                push!(result,j)\n",
    "            end\n",
    "            jcomp=j\n",
    "        end\n",
    "    end\n",
    "    return result\n",
    "end\n"
   ]
  },
  {
   "cell_type": "code",
   "execution_count": 5,
   "metadata": {
    "collapsed": false
   },
   "outputs": [],
   "source": [
    "exemplo=vec(Datos[\"DatosCrudos\"][2000,:]);"
   ]
  },
  {
   "cell_type": "code",
   "execution_count": 6,
   "metadata": {
    "collapsed": false
   },
   "outputs": [
    {
     "data": {
      "text/plain": [
       "3-element Array{Int64,1}:\n",
       "  43890\n",
       " 114498\n",
       " 185107"
      ]
     },
     "execution_count": 6,
     "metadata": {},
     "output_type": "execute_result"
    }
   ],
   "source": [
    "listongas=EncuentraTrancazosRaw(exemplo)"
   ]
  },
  {
   "cell_type": "code",
   "execution_count": 7,
   "metadata": {
    "collapsed": false
   },
   "outputs": [
    {
     "data": {
      "text/plain": [
       "ActividadFueraTrancazo (generic function with 1 method)"
      ]
     },
     "execution_count": 7,
     "metadata": {},
     "output_type": "execute_result"
    }
   ],
   "source": [
    "function ActivAlrededorTrancazo(Lista::Array, xxs::Array)\n",
    "    #Aqui no se le ha hecho reshape a las matrices todavia\n",
    "    result=Dict{AbstractString, Array}()\n",
    "    q=1\n",
    "    desde=20\n",
    "    hasta=480\n",
    "    for j in Lista\n",
    "        nomineclave=\"Trancazo_$q\"\n",
    "        result[nomineclave]=xxs[:,j-desde:j+hasta]\n",
    "        #println(nomineclave)\n",
    "        q+=1\n",
    "    end\n",
    "    return result\n",
    "end\n",
    "\n",
    "function ActividadFueraTrancazo(Lista::Array, xxs::Array)\n",
    "    q=1\n",
    "    desde=20\n",
    "    hasta=480\n",
    "    aux=trues(xxs)\n",
    "    for j in Lista\n",
    "        aux[j-desde:j+hasta]=false\n",
    "    end\n",
    "    result=zeros(1)\n",
    "    aux2=find(aux)\n",
    "    for j in aux2\n",
    "        result=vcat(result,xxs[j])\n",
    "    end\n",
    "    return result\n",
    "end\n",
    "        \n",
    "    \n",
    "\n"
   ]
  },
  {
   "cell_type": "code",
   "execution_count": 8,
   "metadata": {
    "collapsed": false
   },
   "outputs": [
    {
     "data": {
      "text/plain": [
       "Dict{AbstractString,Array{T,N}} with 3 entries:\n",
       "  \"Trancazo_2\" => 4096x501 Array{UInt16,2}:…\n",
       "  \"Trancazo_1\" => 4096x501 Array{UInt16,2}:…\n",
       "  \"Trancazo_3\" => 4096x501 Array{UInt16,2}:…"
      ]
     },
     "execution_count": 8,
     "metadata": {},
     "output_type": "execute_result"
    }
   ],
   "source": [
    "ActividadRaw=ActivAlrededorTrancazo(listongas, Datos[\"DatosCrudos\"])"
   ]
  },
  {
   "cell_type": "code",
   "execution_count": 9,
   "metadata": {
    "collapsed": false
   },
   "outputs": [
    {
     "data": {
      "text/plain": [
       "209122-element Array{Int32,1}:\n",
       " 2048\n",
       "   -2\n",
       "    5\n",
       "   -2\n",
       "   -1\n",
       "   -7\n",
       "   11\n",
       "    1\n",
       "   25\n",
       "   -8\n",
       "    4\n",
       "    3\n",
       "   -5\n",
       "    ⋮\n",
       "  -13\n",
       "    2\n",
       "    6\n",
       "   -4\n",
       "  -37\n",
       "   15\n",
       "    3\n",
       "    3\n",
       "    3\n",
       "    6\n",
       "  -11\n",
       "   -2"
      ]
     },
     "execution_count": 9,
     "metadata": {},
     "output_type": "execute_result"
    }
   ],
   "source": [
    "FueraTrancazo=ActividadFueraTrancazo(listongas,exemplo);\n",
    "FueraTrancazo=round(Int32,FueraTrancazo)*(-1)+2048"
   ]
  },
  {
   "cell_type": "code",
   "execution_count": 10,
   "metadata": {
    "collapsed": false
   },
   "outputs": [
    {
     "data": {
      "text/plain": [
       "FormaMatrizDatosCentrados (generic function with 1 method)"
      ]
     },
     "execution_count": 10,
     "metadata": {},
     "output_type": "execute_result"
    }
   ],
   "source": [
    "function FormaMatrizDatosCentrados(xxs::Array)\n",
    "    #El array tiene que ser de 4096 por algo mas\n",
    "    irrrelevante,largo=size(xxs)\n",
    "    aux=Array(Int32, 64,64, largo);\n",
    "    for j=1:64,k=1:64\n",
    "        aux[k,j,:]=xxs[j+(k-1)*64,:]\n",
    "    end\n",
    "    result=round(Int32,aux)*(-1)+2048;\n",
    "    aux=0\n",
    "    return result\n",
    "end"
   ]
  },
  {
   "cell_type": "markdown",
   "metadata": {},
   "source": [
    "\n",
    "Hay un montonal de canales que por la forma en que requiere ser hecho el experimento no detectaron nada o casi nada. Esos aparecen el registro como saturados en el máximo valor posible. Dado que esto es MUY inconveniente para el cálculo del CM, tenemos que detectarlos automáticamente y ponerlos en cero o ver si los esquivamos."
   ]
  },
  {
   "cell_type": "code",
   "execution_count": 11,
   "metadata": {
    "collapsed": false
   },
   "outputs": [],
   "source": [
    "DatosCentrados=Dict{AbstractString, Array}()\n",
    "for k in keys(ActividadRaw)\n",
    "    DatosCentrados[k]=FormaMatrizDatosCentrados(ActividadRaw[k])\n",
    "end"
   ]
  },
  {
   "cell_type": "code",
   "execution_count": 12,
   "metadata": {
    "collapsed": false
   },
   "outputs": [
    {
     "data": {
      "text/plain": [
       "BuscaSaturados (generic function with 2 methods)"
      ]
     },
     "execution_count": 12,
     "metadata": {},
     "output_type": "execute_result"
    }
   ],
   "source": [
    "function BuscaSaturados(datos::Array, saturavalue=1700)\n",
    "    (ancho,alto,largo)=size(datos)\n",
    "    result=Set{Array{Int,1}}()\n",
    "    arreglostd=zeros(ancho,alto)\n",
    "    arregloprom=zeros(ancho,alto)\n",
    "    for j=1:ancho, k=1:alto\n",
    "        prom=mean(datos[k,j,:])\n",
    "        arregloprom[k,j]=prom\n",
    "        desviacion=std(datos[k,j,:])\n",
    "        arreglostd[k,j]=desviacion\n",
    "        if abs(prom)>saturavalue || desviacion<10\n",
    "            push!(result, [k,j])\n",
    "        end\n",
    "    end\n",
    "    return (result,arreglostd, arregloprom)\n",
    "end"
   ]
  },
  {
   "cell_type": "code",
   "execution_count": 13,
   "metadata": {
    "collapsed": false
   },
   "outputs": [],
   "source": [
    "DictSaturados=Dict{AbstractString, Tuple}()\n",
    "for k in keys(DatosCentrados)\n",
    "    DictSaturados[k]=BuscaSaturados(DatosCentrados[k])\n",
    "end"
   ]
  },
  {
   "cell_type": "code",
   "execution_count": 14,
   "metadata": {
    "collapsed": false
   },
   "outputs": [
    {
     "data": {
      "text/plain": [
       "hazruido (generic function with 1 method)"
      ]
     },
     "execution_count": 14,
     "metadata": {},
     "output_type": "execute_result"
    }
   ],
   "source": [
    "function imitaruido(x::Array)\n",
    "    #Esta funcion asume que x es ruido gaussiano y lo imita.\n",
    "    #Igual de largo que xx\n",
    "    sigma=std(x)\n",
    "    prom=mean(x)\n",
    "    l=length(x)\n",
    "    result=sigma*randn(l)+prom\n",
    "    return result\n",
    "end\n",
    "\n",
    "function hazruido(sigma, prom, length)\n",
    "    # hace ruido\n",
    "    result=round(Int32, sigma*randn(length)+prom)\n",
    "    return result\n",
    "end\n",
    "\n"
   ]
  },
  {
   "cell_type": "code",
   "execution_count": 15,
   "metadata": {
    "collapsed": false
   },
   "outputs": [
    {
     "data": {
      "text/plain": [
       "(-100:1:100,[0,0,0,0,0,0,0,0,0,0  …  0,0,0,0,0,0,0,0,0,0])"
      ]
     },
     "execution_count": 15,
     "metadata": {},
     "output_type": "execute_result"
    }
   ],
   "source": [
    "HistogramaRuido=hist(FueraTrancazo, -100:1:100)"
   ]
  },
  {
   "cell_type": "code",
   "execution_count": 16,
   "metadata": {
    "collapsed": false
   },
   "outputs": [
    {
     "data": {
      "text/plain": [
       "(-0.2902755329424929,14.409291834298928)"
      ]
     },
     "execution_count": 16,
     "metadata": {},
     "output_type": "execute_result"
    }
   ],
   "source": [
    "sigmaruido=std(FueraTrancazo)\n",
    "promruido=mean(FueraTrancazo)\n",
    "(promruido,sigmaruido)"
   ]
  },
  {
   "cell_type": "code",
   "execution_count": 17,
   "metadata": {
    "collapsed": false
   },
   "outputs": [
    {
     "data": {
      "text/plain": [
       "(-0.2797037323791043,14.40698586606932)"
      ]
     },
     "execution_count": 17,
     "metadata": {},
     "output_type": "execute_result"
    }
   ],
   "source": [
    "RuidoArtificial=imitaruido(FueraTrancazo)\n",
    "HistoRuidoArtificial=hist(RuidoArtificial,-100:1:100)\n",
    "mean(RuidoArtificial),std(RuidoArtificial)"
   ]
  },
  {
   "cell_type": "code",
   "execution_count": 18,
   "metadata": {
    "collapsed": false
   },
   "outputs": [],
   "source": [
    "using PyPlot\n",
    "ion()"
   ]
  },
  {
   "cell_type": "code",
   "execution_count": 19,
   "metadata": {
    "collapsed": false
   },
   "outputs": [
    {
     "data": {
      "text/plain": [
       "gauss (generic function with 1 method)"
      ]
     },
     "execution_count": 19,
     "metadata": {},
     "output_type": "execute_result"
    }
   ],
   "source": [
    "mu=promruido\n",
    "sigma=sigmaruido\n",
    "function gauss(x)\n",
    "    return 1/(sqrt(2*pi)*sigma)*exp(-((x-mu)/sigma)^2/2)\n",
    "end"
   ]
  },
  {
   "cell_type": "code",
   "execution_count": 20,
   "metadata": {
    "collapsed": false
   },
   "outputs": [],
   "source": [
    "xdata=collect(HistogramaRuido[1][2:end])\n",
    "measuredata=HistogramaRuido[2];"
   ]
  },
  {
   "cell_type": "code",
   "execution_count": 31,
   "metadata": {
    "collapsed": false
   },
   "outputs": [
    {
     "data": {
      "image/png": "[encoded data removed]",
      "text/plain": [
       "PyPlot.Figure(PyObject <matplotlib.figure.Figure object at 0x7f741e876e80>)"
      ]
     },
     "metadata": {},
     "output_type": "display_data"
    }
   ],
   "source": [
    "figure(figsize=(8,6))\n",
    "xlim(-100,100)\n",
    "ylim(-1,10005)\n",
    "scatter(xdata,measuredata, color=\"red\")\n",
    "scatter(HistoRuidoArtificial[1][2:end],HistoRuidoArtificial[2])\n",
    "plot(xdata, map(x->209122*gauss(x),xdata), color=\"green\",lw=2)\n",
    "savefig(\"GaussianasBonitas01.svg\", dpi=96)"
   ]
  },
  {
   "cell_type": "code",
   "execution_count": 22,
   "metadata": {
    "collapsed": false
   },
   "outputs": [
    {
     "name": "stdout",
     "output_type": "stream",
     "text": [
      "609"
     ]
    }
   ],
   "source": [
    "DatosDesaturados=Dict{AbstractString, Array}()\n",
    "n=0\n",
    "\n",
    "for k in keys(DatosCentrados)\n",
    "    largo=length(DatosCentrados[k][1,1,:])\n",
    "    lista=DictSaturados[k][1]\n",
    "    aux=copy(DatosCentrados[k])\n",
    "   # println(k,\" \",length(lista))\n",
    "    \n",
    "     for m in lista\n",
    "        q=m[1]\n",
    "        p=m[2]\n",
    "        aux[q,p,:]=hazruido(sigmaruido,promruido,largo)\n",
    "        n+=1\n",
    "     end\n",
    "    DatosDesaturados[k]=aux\n",
    "end\n",
    "print(n)"
   ]
  },
  {
   "cell_type": "code",
   "execution_count": 83,
   "metadata": {
    "collapsed": false
   },
   "outputs": [
    {
     "data": {
      "image/png": "[encoded data removed]",
      "text/plain": [
       "PyPlot.Figure(PyObject <matplotlib.figure.Figure object at 0x7f740739ca20>)"
      ]
     },
     "metadata": {},
     "output_type": "display_data"
    }
   ],
   "source": [
    "ion()\n",
    "figure(figsize=(6,6))\n",
    "exdesaturado=DatosDesaturados[\"Trancazo_1\"][:,:,340];\n",
    "imagen=imshow(exdesaturado, origin=\"lower\", interpolation=\"nearest\", cmap=\"jet\")\n",
    "cb=colorbar(imagen, fraction=0.046)\n",
    "savefig(\"LFP_Desaturado_1-340.svg\", dpi=96)"
   ]
  },
  {
   "cell_type": "code",
   "execution_count": 49,
   "metadata": {
    "collapsed": false
   },
   "outputs": [
    {
     "data": {
      "image/png": "[encoded data removed]",
      "text/plain": [
       "PyPlot.Figure(PyObject <matplotlib.figure.Figure object at 0x7f74b7dbf940>)"
      ]
     },
     "metadata": {},
     "output_type": "display_data"
    }
   ],
   "source": [
    "figure(figsize=(6,6))\n",
    "exsaturado=DatosCentrados[\"Trancazo_1\"][:,:,340];\n",
    "imagen=imshow(exsaturado, origin=\"lower\", interpolation=\"nearest\", cmap=\"jet\")\n",
    "cb=colorbar(imagen,fraction=0.046)\n",
    "savefig(\"LFP_Saturado_1-340.svg\", dpi=96)"
   ]
  },
  {
   "cell_type": "code",
   "execution_count": 50,
   "metadata": {
    "collapsed": false
   },
   "outputs": [],
   "source": [
    "PyPlot.ioff()\n",
    "for t=1:501\n",
    "    exdesaturado=DatosDesaturados[\"Trancazo_1\"][:,:,t];\n",
    "    figure(figsize=(6,6))\n",
    "    imagen=imshow(exdesaturado, origin=\"lower\", interpolation=\"nearest\", vmin=-40,vmax=40, cmap=\"jet\")\n",
    "    cb=colorbar(imagen, fraction=0.046)\n",
    "    savefig(\"LFP_Desaturado_1-$t.png\", dpi=96)\n",
    "    close()\n",
    "end"
   ]
  },
  {
   "cell_type": "code",
   "execution_count": 106,
   "metadata": {
    "collapsed": false
   },
   "outputs": [
    {
     "data": {
      "text/plain": [
       "GaussSuavizarTemporal (generic function with 2 methods)"
      ]
     },
     "execution_count": 106,
     "metadata": {},
     "output_type": "execute_result"
    }
   ],
   "source": [
    "function UnNormGauss(x,sigma)\n",
    "    return exp(-x*x/(2*sigma))\n",
    "end\n",
    "\n",
    "function GaussSuavizarTemporal(Datos,Sigma=3)  \n",
    "    #sigma esta medido en pixeles, es la desviacion estandar de nuestro kernel.\n",
    "    #El medioancho de nuestra ventana seran 3*sigma\n",
    "    #Esto es escencialmente un filtro pasabajos\n",
    "    medioancho=ceil(Sigma*3)\n",
    "    colchon=ones(medioancho)\n",
    "    result=zeros(Datos)\n",
    "    datoscolchon=vcat(colchon*Datos[1], Datos, colchon*Datos[end])\n",
    "    kernel=map(x->UnNormGauss(x,Sigma), collect(-medioancho:medioancho))\n",
    "    kernel=kernel/(sum(kernel))\n",
    "    #La convolucion asi normalizada preserva el valor RELATIVO entre los puntos de la funcion.\n",
    "    #pero queremos ponerlo mas parecido a los voltajes que medimos, para preservar el rango de valores\n",
    "    #experimentales y su criterio de potenciales de accion / ruido\n",
    "    for t=medioancho+1:length(Datos)-medioancho\n",
    "        result[t-medioancho]=sum(datoscolchon[t-medioancho:t+medioancho].*kernel)\n",
    "    end\n",
    "    a=maximum(abs(Datos))\n",
    "    b=maximum(abs(result))\n",
    "    #nromalizacion \n",
    "    #result=result*a/b\n",
    "    return result\n",
    "end\n",
    "    "
   ]
  },
  {
   "cell_type": "code",
   "execution_count": 107,
   "metadata": {
    "collapsed": false
   },
   "outputs": [
    {
     "data": {
      "text/plain": [
       "200-element Array{Float64,1}:\n",
       " 0.516573\n",
       " 0.449564\n",
       " 0.401094\n",
       " 0.393379\n",
       " 0.428748\n",
       " 0.490565\n",
       " 0.551057\n",
       " 0.581412\n",
       " 0.567375\n",
       " 0.523293\n",
       " 0.482224\n",
       " 0.466085\n",
       " 0.472446\n",
       " ⋮       \n",
       " 0.0     \n",
       " 0.0     \n",
       " 0.0     \n",
       " 0.0     \n",
       " 0.0     \n",
       " 0.0     \n",
       " 0.0     \n",
       " 0.0     \n",
       " 0.0     \n",
       " 0.0     \n",
       " 0.0     \n",
       " 0.0     "
      ]
     },
     "execution_count": 107,
     "metadata": {},
     "output_type": "execute_result"
    }
   ],
   "source": [
    "ela=rand(200)\n",
    "ula=rand(10)\n",
    "bula=rand(3)\n",
    "mama=vcat(bula[1],ela,ula[2])\n",
    "GaussSuavizarTemporal(ela)"
   ]
  },
  {
   "cell_type": "code",
   "execution_count": 52,
   "metadata": {
    "collapsed": false
   },
   "outputs": [
    {
     "data": {
      "text/plain": [
       "GaussianSmooth (generic function with 1 method)"
      ]
     },
     "execution_count": 52,
     "metadata": {},
     "output_type": "execute_result"
    }
   ],
   "source": [
    "#De momento todo \"in file\"\n",
    "GaussianKernel=[0.00000067\t0.00002292\t0.00019117\t0.00038771\t0.00019117\t0.00002292\t0.00000067\n",
    "0.00002292\t0.00078634\t0.00655965\t0.01330373\t0.00655965\t0.00078633\t0.00002292\n",
    "0.00019117\t0.00655965\t0.05472157\t0.11098164\t0.05472157\t0.00655965\t0.00019117\n",
    "0.00038771\t0.01330373\t0.11098164\t0.22508352\t0.11098164\t0.01330373\t0.00038771\n",
    "0.00019117\t0.00655965\t0.05472157\t0.11098164\t0.05472157\t0.00655965\t0.00019117\n",
    "0.00002292\t0.00078633\t0.00655965\t0.01330373\t0.00655965\t0.00078633\t0.00002292\n",
    "    0.00000067\t0.00002292\t0.00019117\t0.00038771\t0.00019117\t0.00002292\t0.00000067]\n",
    "\n",
    "function GaussianSmooth(Datos)\n",
    "    tamanodatos=size(Datos)\n",
    "    result=zeros(Datos)\n",
    "    temp=copy(Datos)\n",
    "    #Primero, hacemos el padding de los datos para que no se suavice demasiado\n",
    "    for j=1:3\n",
    "        temp=vcat(temp[1,:], temp, temp[end,:])\n",
    "    end\n",
    "    for j=1:3\n",
    "        temp=hcat(temp[:,1], temp, temp[:,1])\n",
    "    end\n",
    "    \n",
    "    for j=4:tamanodatos[1]+3, k=4:tamanodatos[2]+3\n",
    "        #los indices van primero, \"renglones\", luego \"columnas\", etc\n",
    "        aux=temp[j-3:j+3,k-3:k+3]\n",
    "        result[j-3,k-3]=sum(GaussianKernel.*aux)\n",
    "    end\n",
    "    #Esta convolución no respeta norma L2\n",
    "    #result=result*maximum(abs(Datos))/maximum(abs(result))\n",
    "    return result\n",
    "end\n",
    "\n"
   ]
  },
  {
   "cell_type": "code",
   "execution_count": 54,
   "metadata": {
    "collapsed": false
   },
   "outputs": [
    {
     "data": {
      "text/plain": [
       "DiscreteLaplacian (generic function with 1 method)"
      ]
     },
     "execution_count": 54,
     "metadata": {},
     "output_type": "execute_result"
    }
   ],
   "source": [
    "#checa que Julia va ordenando los datos renglon por renglon, no columna por columna\n",
    "LaplacianTerm1=[[0 1 0]; [1 -4 1]; [0 1 0]]\n",
    "LaplacianTerm2=[[0.5 0 0.5]; [0 -2 0]; [0.5 0 0.5]]\n",
    "LaplacianKernel=(1-1/3)*LaplacianTerm1+(1/3)*LaplacianTerm2\n",
    "\n",
    "#Nueva variante: AHORA SI VAMOS A ELIMINAR LAS ORILLAS\n",
    "#Los efectos de borde estan dando puro choro en el CSD.\n",
    "function DiscreteLaplacian(Datos)\n",
    "    result=zeros(Datos)\n",
    "    temp=copy(Datos)\n",
    "    #Primero, hacemos el padding de los datos para que no se suavice demasiado\n",
    "    temp=vcat(temp[1,:], temp, temp[end,:])\n",
    "    temp=hcat(temp[:,1], temp, temp[:,end])\n",
    "    largo,ancho=size(Datos)\n",
    "    aux=Array(Float64,(3,3))\n",
    "    result=zeros(Datos)\n",
    "    for j=2:largo+1, k=2:ancho+1\n",
    "        #los indices van primero, \"renglones\", luego \"columnas\", etc\n",
    "        aux=temp[j-1:j+1,k-1:k+1]\n",
    "        result[j-1,k-1]=sum(LaplacianKernel.*aux)\n",
    "    end\n",
    "    #Crop the borders\n",
    "    result=result[2:end-1,2:end-1]\n",
    "    return result\n",
    "end"
   ]
  },
  {
   "cell_type": "code",
   "execution_count": 61,
   "metadata": {
    "collapsed": false
   },
   "outputs": [],
   "source": [
    "Test=Dict{AbstractString, Array}()\n",
    "for k in keys(DatosDesaturados)\n",
    "    (mu,nu,lu)=size(DatosDesaturados[k])\n",
    "    aux1=zeros(mu,nu,lu)\n",
    "    aux2=zeros(mu-2,nu-2,lu)\n",
    "    temp=map(Float64,DatosDesaturados[k])\n",
    "    for t=1:lu\n",
    "        aux1[:,:,t]=GaussianSmooth(temp[:,:,t])\n",
    "        aux2[:,:,t]=DiscreteLaplacian(aux1[:,:,t])\n",
    "    end\n",
    "    Test[k]=aux2\n",
    "end"
   ]
  },
  {
   "cell_type": "code",
   "execution_count": 108,
   "metadata": {
    "collapsed": false
   },
   "outputs": [],
   "source": [
    "CSDPlanchada=Dict{AbstractString, Array}()\n",
    "for k in keys(Test)\n",
    "    (mu,nu,lu)=size(Test[k])\n",
    "    aux=zeros(mu,nu,lu)\n",
    "    for j=1:mu,l=1:nu\n",
    "        porromponpon=vec(Test[k][j,l,:])\n",
    "        aux[j,l,:]=GaussSuavizarTemporal(porromponpon)\n",
    "    end\n",
    "    CSDPlanchada[k]=aux\n",
    "end"
   ]
  },
  {
   "cell_type": "code",
   "execution_count": 109,
   "metadata": {
    "collapsed": false
   },
   "outputs": [
    {
     "data": {
      "text/plain": [
       "62x62 Array{Float64,2}:\n",
       " -1.44763     0.184565   -1.55881    …  -2.8519    -0.49593    3.10344  \n",
       " -2.27447    -0.0938079   0.381556      -2.01769   -0.616292   2.45853  \n",
       " -3.22434    -1.16652     0.16142       -4.36752   -3.14602   -1.06424  \n",
       " -1.78343    -0.952274    2.09212       -3.93553   -2.93539   -0.647666 \n",
       "  1.08921    -0.747068    0.363362       0.506604   0.427491   3.21001  \n",
       "  1.95601     0.0752524  -2.33337    …   1.01795    0.961536   2.82152  \n",
       " -3.27052    -1.43401    -3.40114        1.3412     0.764382  -0.748809 \n",
       " -1.52755     2.36054     1.15971       -1.40397   -1.07624   -1.64698  \n",
       " -0.412113    2.38714    -0.149684       1.71645    2.00795    0.556553 \n",
       "  0.213673    1.08781     0.794124       0.189151  -1.29915   -1.98198  \n",
       "  0.0386801  -1.6875     -2.50399    …  -4.34798   -2.64394   -0.0873828\n",
       "  0.291235   -2.39007    -1.14039       -2.95354    0.425239   1.56552  \n",
       " -2.66973    -3.53393    -0.285247       1.29682    2.2965    -1.09595  \n",
       "  ⋮                                  ⋱              ⋮                   \n",
       " -0.579267    0.590807    1.21017    …   4.46608    4.14726   -1.32458  \n",
       " -1.83689    -2.56738     0.530471      -1.86049    3.87739   -1.33225  \n",
       " -0.355187   -2.28971     0.422555      -4.41176    4.4344    -1.42999  \n",
       " -1.10699    -0.343156    2.66075        0.296327   1.82018   -2.64667  \n",
       " -1.70128    -1.49713     0.197467       0.790096  -1.9285    -0.736021 \n",
       " -0.269405   -0.539428    0.221161   …   2.0443    -1.64753    0.0785205\n",
       "  1.03905     0.660562    0.789271      -0.725881  -3.53438   -3.37527  \n",
       "  0.24361     1.86541     0.16504       -0.275525   1.52271    0.97191  \n",
       "  0.990267    3.59973     0.242482       0.812161   2.0088     1.35669  \n",
       " -0.449285   -0.50076    -0.0741803      0.239088  -0.221494  -0.115615 \n",
       " -2.7432     -2.21499     0.0145176  …  -1.69711   -1.51413   -0.422261 \n",
       "  2.09045     2.96578     4.14482        0.479984   0.611514  -0.171795 "
      ]
     },
     "execution_count": 109,
     "metadata": {},
     "output_type": "execute_result"
    }
   ],
   "source": [
    "CSDexample=CSDPlanchada[\"Trancazo_1\"][:,:,340]"
   ]
  },
  {
   "cell_type": "code",
   "execution_count": 90,
   "metadata": {
    "collapsed": false
   },
   "outputs": [
    {
     "data": {
      "image/png": "[encoded data removed]",
      "text/plain": [
       "PyPlot.Figure(PyObject <matplotlib.figure.Figure object at 0x7f740e55cc18>)"
      ]
     },
     "metadata": {},
     "output_type": "display_data"
    },
    {
     "data": {
      "text/plain": [
       "PyObject <matplotlib.colorbar.Colorbar object at 0x7f7411194da0>"
      ]
     },
     "execution_count": 90,
     "metadata": {},
     "output_type": "execute_result"
    }
   ],
   "source": [
    "ion()\n",
    "figure(figsize=(6,6))\n",
    "exsaturado=DatosCentrados[\"Trancazo_1\"][:,:,340]+DatosCentrados[\"Trancazo_3\"][:,:,340]+DatosCentrados[\"Trancazo_2\"][:,:,340]\n",
    "imagen=imshow(CSDexample, origin=\"lower\", interpolation=\"nearest\", cmap=\"coolwarm\", vmin=-20, vmax=20)\n",
    "cb=colorbar(imagen,fraction=0.046)\n",
    "#savefig(\"LFP_Saturado_1-340.svg\", dpi=96)"
   ]
  },
  {
   "cell_type": "code",
   "execution_count": 110,
   "metadata": {
    "collapsed": true
   },
   "outputs": [],
   "source": [
    "PyPlot.ioff()\n",
    "for t=1:501\n",
    "    datos=CSDPlanchada[\"Trancazo_1\"][:,:,t];\n",
    "    figure(figsize=(6,6))\n",
    "    imagen=imshow(datos, origin=\"lower\", interpolation=\"nearest\", vmin=-20,vmax=20, cmap=\"coolwarm\")\n",
    "    cb=colorbar(imagen, fraction=0.046)\n",
    "    savefig(\"CSD_1-$t.png\", dpi=96)\n",
    "    close()\n",
    "end"
   ]
  },
  {
   "cell_type": "code",
   "execution_count": 111,
   "metadata": {
    "collapsed": false
   },
   "outputs": [],
   "source": [
    "using JLD\n",
    "save(\"CSDEvocada.jld\", \"CSD\", CSDPlanchada)"
   ]
  },
  {
   "cell_type": "code",
   "execution_count": 86,
   "metadata": {
    "collapsed": false
   },
   "outputs": [
    {
     "data": {
      "text/plain": [
       "(-66,48)"
      ]
     },
     "execution_count": 86,
     "metadata": {},
     "output_type": "execute_result"
    }
   ],
   "source": []
  },
  {
   "cell_type": "code",
   "execution_count": null,
   "metadata": {
    "collapsed": true
   },
   "outputs": [],
   "source": []
  }
 ],
 "metadata": {
  "kernelspec": {
   "display_name": "Julia 0.4.2-pre",
   "language": "julia",
   "name": "julia-0.4"
  },
  "language_info": {
   "file_extension": ".jl",
   "mimetype": "application/julia",
   "name": "julia",
   "version": "0.4.2"
  }
 },
 "nbformat": 4,
 "nbformat_minor": 0
}
