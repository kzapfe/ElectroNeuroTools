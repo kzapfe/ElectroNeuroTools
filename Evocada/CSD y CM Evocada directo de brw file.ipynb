{
 "cells": [
  {
   "cell_type": "markdown",
   "metadata": {},
   "source": [
    "# CSD y CM de Actividad Evocada. \n",
    "Usemos esto como opurtunidad para poner todo el código en orden.\n",
    "\n",
    "\n",
    "En este *notebook* de Julia implementaremos métodos numéricos para llevar a cabo un análisis de *centro de masa* (promedio vectorial) de la densidad de pozos y fuentes de corriente sobre una rebanada del hipocámpo de una rata. En este Notebook estudiaremos los datos de los experimentos evocados que hizo Franco en Agosto.\n",
    " Al parecer primero toca hacer una prueba con todo aquí mismo antes que hacer un modulo ordenado por una inconveniencia al hacer modulos (no se pueden recargar)."
   ]
  },
  {
   "cell_type": "code",
   "execution_count": 4,
   "metadata": {
    "collapsed": false
   },
   "outputs": [],
   "source": [
    "using HDF5"
   ]
  },
  {
   "cell_type": "code",
   "execution_count": 5,
   "metadata": {
    "collapsed": false
   },
   "outputs": [
    {
     "data": {
      "text/plain": [
       "AbreyCheca (generic function with 1 method)"
      ]
     },
     "execution_count": 5,
     "metadata": {},
     "output_type": "execute_result"
    }
   ],
   "source": [
    "function AbreyCheca(x::AbstractString)\n",
    "    #Abre el archivo de brw (acepta el nombre tal cual)\n",
    "    archivo=h5open(x)\n",
    "    #sacatito todas las variables que te interesan\n",
    "    numcuadros=archivo[\"/3BRecInfo/3BRecVars/NRecFrames\"][1][1]\n",
    "    frecuencia=archivo[\"/3BRecInfo/3BRecVars/SamplingRate\"][1][1]\n",
    "    maxvolt=archivo[\"/3BRecInfo/3BRecVars/MaxVolt\"][1][1]\n",
    "    minvolt=archivo[\"/3BRecInfo/3BRecVars/MinVolt\"][1][1]\n",
    "    bitdepth=archivo[\"/3BRecInfo/3BRecVars/BitDepth\"][1][1]\n",
    "    duracionexperimento=numcuadros/frecuencia\n",
    "    factordeescala=(maxvolt-minvolt)/2^bitdepth\n",
    "    DatosCrudos=read(archivo[\"/3BData/Raw\"])\n",
    "    result=Dict(\"numcuadros\" => numcuadros,\n",
    "                \"frecuencia\"=> frecuencia,\n",
    "                \"maxvolt\" => maxvolt,\n",
    "                \"minvolt\" => minvolt,\n",
    "                \"bitdepth\" => bitdepth,\n",
    "                \"duracion\" => duracionexperimento,\n",
    "                \"factor \" => factordeescala,\n",
    "                \"DatosCrudos\"=>DatosCrudos )\n",
    "    return result\n",
    "                    \n",
    "end"
   ]
  },
  {
   "cell_type": "code",
   "execution_count": 6,
   "metadata": {
    "collapsed": false
   },
   "outputs": [
    {
     "data": {
      "text/plain": [
       "Dict{ASCIIString,Any} with 8 entries:\n",
       "  \"minvolt\"     => -4125.0\n",
       "  \"maxvolt\"     => 4125.0\n",
       "  \"factor \"     => 2.01416015625\n",
       "  \"frecuencia\"  => 7020.800706028248\n",
       "  \"DatosCrudos\" => 4096x210624 Array{UInt16,2}:…\n",
       "  \"bitdepth\"    => 0x0c\n",
       "  \"numcuadros\"  => 210624\n",
       "  \"duracion\"    => 29.99999698312937"
      ]
     },
     "execution_count": 6,
     "metadata": {},
     "output_type": "execute_result"
    }
   ],
   "source": [
    "Datos=AbreyCheca(\"050815_1R4.brw\")"
   ]
  },
  {
   "cell_type": "code",
   "execution_count": 7,
   "metadata": {
    "collapsed": false
   },
   "outputs": [
    {
     "data": {
      "text/plain": [
       "EncuentraTrancazosRaw (generic function with 2 methods)"
      ]
     },
     "execution_count": 7,
     "metadata": {},
     "output_type": "execute_result"
    }
   ],
   "source": [
    "function EncuentraTrancazosRaw(datos::Array, tolerancia=1400)\n",
    "    result=Int[]\n",
    "    longitud=length(datos)\n",
    "    jcomp=0\n",
    "    for j=1:longitud\n",
    "        if abs(datos[j])>tolerancia\n",
    "            if j-jcomp>1\n",
    "                push!(result,j)\n",
    "            end\n",
    "            jcomp=j\n",
    "        end\n",
    "    end\n",
    "    return result\n",
    "end\n"
   ]
  },
  {
   "cell_type": "code",
   "execution_count": 9,
   "metadata": {
    "collapsed": false
   },
   "outputs": [],
   "source": [
    "exemplo=vec(Datos[\"DatosCrudos\"][2000,:]);"
   ]
  },
  {
   "cell_type": "code",
   "execution_count": 12,
   "metadata": {
    "collapsed": false
   },
   "outputs": [
    {
     "data": {
      "text/plain": [
       "3-element Array{Int64,1}:\n",
       "  43890\n",
       " 114498\n",
       " 185107"
      ]
     },
     "execution_count": 12,
     "metadata": {},
     "output_type": "execute_result"
    }
   ],
   "source": [
    "listongas=EncuentraTrancazosRaw(exemplo)"
   ]
  },
  {
   "cell_type": "code",
   "execution_count": 13,
   "metadata": {
    "collapsed": false
   },
   "outputs": [
    {
     "data": {
      "text/plain": [
       "ActivAlrededorTrancazo (generic function with 1 method)"
      ]
     },
     "execution_count": 13,
     "metadata": {},
     "output_type": "execute_result"
    }
   ],
   "source": [
    "function ActivAlrededorTrancazo(Lista::Array, xxs::Array)\n",
    "    #Aqui no se le ha hecho reshape a las matrices todavia\n",
    "    result=Dict{AbstractString, Array}()\n",
    "    q=1\n",
    "    desde=20\n",
    "    hasta=280\n",
    "    for j in Lista\n",
    "        nomineclave=\"Trancazo_$q\"\n",
    "        result[nomineclave]=xxs[:,j-desde:j+hasta]\n",
    "        #println(nomineclave)\n",
    "        q+=1\n",
    "    end\n",
    "    return result\n",
    "end\n"
   ]
  },
  {
   "cell_type": "code",
   "execution_count": 14,
   "metadata": {
    "collapsed": false
   },
   "outputs": [
    {
     "data": {
      "text/plain": [
       "Dict{AbstractString,Array{T,N}} with 3 entries:\n",
       "  \"Trancazo_2\" => 4096x301 Array{UInt16,2}:…\n",
       "  \"Trancazo_1\" => 4096x301 Array{UInt16,2}:…\n",
       "  \"Trancazo_3\" => 4096x301 Array{UInt16,2}:…"
      ]
     },
     "execution_count": 14,
     "metadata": {},
     "output_type": "execute_result"
    }
   ],
   "source": [
    "ActividadRaw=ActivAlrededorTrancazo(listongas, Datos[\"DatosCrudos\"])"
   ]
  },
  {
   "cell_type": "code",
   "execution_count": 16,
   "metadata": {
    "collapsed": false
   },
   "outputs": [
    {
     "data": {
      "text/plain": [
       "FormaMatrizDatosCentrados (generic function with 1 method)"
      ]
     },
     "execution_count": 16,
     "metadata": {},
     "output_type": "execute_result"
    }
   ],
   "source": [
    "function FormaMatrizDatosCentrados(xxs::Array)\n",
    "    #El array tiene que ser de 4096 por algo mas\n",
    "    irrrelevante,largo=size(xxs)\n",
    "    aux=Array(Int32, 64,64, largo);\n",
    "    for j=1:64,k=1:64\n",
    "        aux[k,j,:]=xxs[j+(k-1)*64,:]\n",
    "    end\n",
    "    result=round(Int32,aux)*(-1)+2048;\n",
    "    aux=0\n",
    "    return result\n",
    "end"
   ]
  },
  {
   "cell_type": "code",
   "execution_count": 17,
   "metadata": {
    "collapsed": false
   },
   "outputs": [
    {
     "data": {
      "text/plain": [
       "64x64x301 Array{Int32,3}:\n",
       "[:, :, 1] =\n",
       " 2048   22    7    13   27   30   13  …   28   45   28   46   37    58   23\n",
       "   47   35   57    39   31   64   37      16   23   13   22   36    53    9\n",
       "   25   26   44     8   42    6   14      36   45   53   65   41    39   53\n",
       "   15   20   17    18   18   -4   19      27   24   39   11   35    23   23\n",
       "    5   16   10    25  -17   28    2      19   15    9   20   16  2048    6\n",
       "   12   14   20     7   15   24   18  …    6    8   23    0    1     9    8\n",
       "   12   23   11    19   15   25   16      23   32   30   25   34    37   25\n",
       "   28   42   30    39   27   21   20      20   18    9   10   22    12   -1\n",
       "   14   18   20    11   21   19   20      24   27   38   27   19    36   36\n",
       "   46   31   27    31   34   31   32      20   11   19   14    8     6    2\n",
       "    3   14   31    20   23   23   12  …   31   29   22   30   23    19   25\n",
       "   12   13    7    26    8   16   12      24   28   27   17   34    17   24\n",
       "   16   17   15    31   17   33   16      18   30   14   18   13    29   10\n",
       "    ⋮                         ⋮       ⋱                   ⋮                \n",
       "    6   12   -8    -7    3    2    5       1   -8    6   -5   -2    -1  -18\n",
       " 2048    4    6     4   -3    4    2      -3   -2   21    8    4     9   14\n",
       "    0   -3  -11   -19  -10  -15  -11     -11   12   10    0    3    11    1\n",
       "   20   21   18    14   14    4    9  …    2   -5   -2   -5    0   -19   -7\n",
       "    0  -21  -10   -16   -6  -12  -11       1  -13    1  -21    0    -3   13\n",
       " 2048   -9   -5   -15    2    5    1     -24  -30  -21   -7  -20   -19   -4\n",
       "  -10  -25   -7  2048  -17  -13  -20     -11    1  -12  -21   -8    -3   -2\n",
       "  -17  -11  -31   -16  -22  -31  -22     -13  -20  -21  -37   -7   -22  -11\n",
       "  -41  -21  -25   -34  -30  -23  -30  …  -20  -20  -21  -17  -10   -22  -30\n",
       "  -14  -10  -12     1  -11   -7  -33     -15  -19   -5  -27  -17   -11  -17\n",
       "  -18  -14  -12   -28  -12  -15  -19      -3  -16  -13  -16  -19   -21  -19\n",
       "   -5    0   -7    -2    0  -13   -6     -12  -25   -9   -6  -13    -1  -25\n",
       "\n",
       "[:, :, 2] =\n",
       " 2048    3   -5    -7   10  -13  -26  …  -10  -14  -21  -39  -20   -18   -9\n",
       "  -13   -9   -3   -14  -13  -14   -4     -19  -15    0   -8  -18    -4    1\n",
       "  -18  -12  -14   -20   -6  -24  -25       7    9    6   22   -4     1    0\n",
       "  -17  -13   -5     3   -3   -6  -18       2   -7  -14  -17  -10   -10   -6\n",
       "    4    0   -8    -7    0   -7    1     -13   -6    0   -7   -7  2048   12\n",
       "    9   23    9    15    4   -7   18  …   -6   -5   -6   -8   -7   -12   -7\n",
       "    7    2   -3    15   -1   11    9      -4    0   -8   -9   -8    15    0\n",
       "    9  -13   -9    -7  -10   -5   -5      -4   13    5    2   13     6    9\n",
       "    2   13   10    15   16   13   10       3   -2    6    2    7    -3  -11\n",
       "    6   -6   -3    -8   10    0    3      18   -3    6   15   12    16   13\n",
       "  -10   -4    1     4    2    5   -4  …   16   19   11   13   13    10    8\n",
       "   13   10   12    10   19   27   -3     -11   -2   -9  -13   -6   -13  -16\n",
       "    3    2   -3     1   -7   -5    1       3   10    1   -1    8     5   -3\n",
       "    ⋮                         ⋮       ⋱                   ⋮                \n",
       "   11    3    9     8   15    9    3       2   -7   -5   11    7    11   12\n",
       " 2048   -1    8    -1    2    0    5      12   -3    2    1   -9     0    5\n",
       "   19   10    6    -3   11    7   17      13    7   -1    0   18    10   14\n",
       "    6    2    2    17   13    8    3  …   30   19   36   12   21    14   13\n",
       "   -1   -3   -2    -6   -6   -7   11      22   15    9   10   24     9    5\n",
       " 2048    7   26    23   12   15   18      12   17   10   13   11    13   16\n",
       "   21   28   25  2048    8    0   21      12    8   15   -1   23     1   11\n",
       "   40   25   29    20   17   33   24       9    2   18    7   17    19   22\n",
       "   28   24    5    23   13   19   18  …    0    3   -6    4    9    28    9\n",
       "    6   12   14    30    7   12   19      -1    0    8    9   13    12    6\n",
       "   18   17   16     7   20   16   14      18   29   14   14   13    15   33\n",
       "   15   12   23    19   20   19    9      11   27   12   21   14    17   23\n",
       "\n",
       "[:, :, 3] =\n",
       " 2048   11   -4     7   12   10   -8  …   31   18   12   15   10    31   13\n",
       "   34    9   25    18   34   15   27      20   22   12   17   10    32   22\n",
       "   18    4   13    28   16   14   14      14   23   13   19    7    12   24\n",
       "    1  -13   11    -2   11   10    9      -2    9   18   13    0     8    4\n",
       "   10   25   17    13   12   26   16       5    8    5   11   -3  2048   10\n",
       "   -2  -22    8     5    4    2   -2  …   11   11   13   16   12     0   10\n",
       "   -4    1   17     9    7   14    5      13   16   19   15    2    31   28\n",
       "   21   15   23     8    5   13    0      14    4    9    4   -1     8    0\n",
       "   12   13   19    10   23   18    4      46   24   30   15   22    25   13\n",
       "   13   20   15     5    3   12   14       9   20  -10    2    7     1   16\n",
       "    8   16   18     4   -1   19    8  …    3    3   11   12    2    10   19\n",
       "   26    6   10    23    6    0   23      19   13    8    8   16     3   23\n",
       "   12   21   27    11   27   28   16      24   16   28   20   12    10   18\n",
       "    ⋮                         ⋮       ⋱                   ⋮                \n",
       "   -9  -24  -17   -18  -29  -16  -13     -13  -22   -7  -26   -4   -21  -19\n",
       " 2048  -36  -20   -15  -15  -22  -22     -17  -10  -13   -6   -7    -8   -6\n",
       "  -11  -10  -22   -13  -10  -10  -15     -11  -14   -5    7  -15   -14  -10\n",
       "  -10  -17  -15    -3   -5    0   -8  …   -7   -4    9   -6   10    -4    0\n",
       "   -3   -6   -5   -10   -8   -2   -9     -12   -7   -7    0   -6    -8    4\n",
       " 2048    0  -10   -15   -5   -4    3       2    0    7   -1   -1     1   -1\n",
       "    4   12   12  2048    7    2    7      -9   -1  -23  -11   -3    -6  -19\n",
       "   -5   -7   12    -1    0  -10    7       4    3   -6   -9  -10    -8    6\n",
       "   19   -6   -2    -5   11   -3   -1  …   14   -1   -5   -3   -6     6   20\n",
       "   -7   -1    6    22    6   13    2      -6    1  -10  -11   -2    -2  -21\n",
       "   -2   -5    3   -22   -5  -11  -18       0   15    6   10   12     8   16\n",
       "   -3  -15   -4    -9   -6    0  -11     -18   -6  -14  -11  -27    -9  -16\n",
       "\n",
       "...\n",
       "\n",
       "[:, :, 299] =\n",
       " 2048  -11  -17   -13  -13   -8  -18  …  -15  -32  -20  -34  -19   -28  -11\n",
       "  -41  -44  -30   -22  -27  -30   -3      -2  -37  -17  -15  -21     5   -8\n",
       "   -1    0  -19    -1  -18   -8   21     -22  -33  -29  -19  -22   -38  -27\n",
       "   -7  -18  -18   -13  -34   -9  -15     -17  -11   -7   -9   -7    -9  -18\n",
       "  -13  -22  -27   -12  -19  -25  -22     -24  -36  -24  -29  -19  2048  -22\n",
       "  -29  -12  -16   -28  -30  -20  -27  …  -35  -24  -17  -14  -15   -21  -10\n",
       "  -29  -29  -27   -34  -31  -32  -30     -27  -27  -32  -44  -30   -61   -4\n",
       "  -29  -31  -15   -35  -28  -21  -28     -40  -10  -35  -25  -32   -24  -34\n",
       "  -41  -48  -28   -25  -28  -33  -24     -41  -34  -46  -35  -42   -32  -22\n",
       "  -34  -46  -37   -25  -44  -32  -14     -44  -49  -40  -39  -31   -27  -30\n",
       "  -28  -20  -33   -27  -23  -21  -21  …  -35  -30  -22  -22  -33   -32  -29\n",
       "  -30  -19  -20   -23   -5  -27  -17      -1   -2  -11    1   -7    -7   -6\n",
       "  -25  -30  -29   -20  -36  -22  -22     -18  -27  -22  -26  -26   -24  -23\n",
       "    ⋮                         ⋮       ⋱                   ⋮                \n",
       "   11    8   16     8    4    5    6       2   14    7   14    2    -3    1\n",
       " 2048    8   18     6   -4    3    7       8    3   18   11    7    10    2\n",
       "    4    8   12    10   18   10    5       8   -6    1   -4    2     6    2\n",
       "   -4   -3  -16    -2    3   12    2  …   10    6   11    4    0     8   14\n",
       "   17   19    5    16    8   14    7      -3   -7  -14  -29    3    -3  -11\n",
       " 2048    1    0    -9   -2   -8    8      30   18    6    2   12    26    6\n",
       "    2   -5    8  2048    9   -6   24      -9  -11    9   10    8    -1    0\n",
       "   -8    4    0    -3    3    2    5       6   11    2   16    2    12   12\n",
       "    7   12   -6     7    3   -5    5  …   -1    5    5   -7  -11     0   -4\n",
       "    9    1  -25    12   -6   14   -2       1    2    1   -7    2     1   11\n",
       "    1   -3    2     3    8    4    2     -11    3   -1    0   -4   -11   -5\n",
       "   -8    4  -10     0   -6   -8   -5       6    8    3   12   -3     6    9\n",
       "\n",
       "[:, :, 300] =\n",
       " 2048  -10  -10    -5    2  -22   -3  …    1    4   -2  -17   -4     0  -12\n",
       "   -8  -41   -7    -5  -12    1  -11      -7   -7   -4  -11   -7   -14  -10\n",
       "  -24    0  -18   -17  -26  -18   12     -10  -19  -20  -15  -21    -2  -25\n",
       "  -17  -23  -35   -23  -19  -22  -11     -15   -4  -14    0   -8    -8   -7\n",
       "   -8   -7   -6   -24  -12   -4  -26     -11  -18  -15  -18  -12  2048  -18\n",
       "  -27  -27   10   -22  -25   -8  -15  …  -19  -15    1  -16   -8   -25  -21\n",
       "  -10   -9  -11    -6   -5   -3   -4     -21  -11  -23  -21  -12   -44  -13\n",
       "    6    3    2    -9    6   -7  -14     -19    1   -9    2   -5   -16  -15\n",
       "  -27  -15   -3    -6  -17  -10  -12       2    1    2   -6  -11     1   -9\n",
       "   -5    3    4     8    0  -13    1      -2  -11  -14  -21   -4   -17  -18\n",
       "   -5   -6   -5    12   -8   -8   -4  …    3    0   11   14   10    17   11\n",
       "  -12  -16    4   -12   -2  -10   17      -5  -10   -5   -5   -7   -18   -4\n",
       "  -16    1  -12    -7    0    0  -11     -14  -19  -12   -4  -25   -16    2\n",
       "    ⋮                         ⋮       ⋱                   ⋮                \n",
       "   13   13    8    -6    7   -2    3     -16   -6   -9   -2   -9    -4  -11\n",
       " 2048  -14  -16    -4   -7  -11  -17       8   -1    0   -5    2    13   10\n",
       "  -18   -2   -9   -14  -11   -4    0       0    2   -7   -3  -14   -10  -11\n",
       "  -15   -6  -11   -15   -1    0   -8  …   -7  -12    2   -4   -2     0    0\n",
       "    0   12    2    -5    3   -6   -1       0    7    4   -7   -1     6   -8\n",
       " 2048   12    3    -2    7   -5    7      -2   -4    7    2  -12    -2    4\n",
       "   -6   -5    4  2048    1   -5  -13      -3  -11    1  -10  -13     4    0\n",
       "   -8    1  -28   -10  -11  -18   -3      -4  -12   -4  -13  -16   -15   -9\n",
       "   -9   -7    8     3   -7    7   -2  …  -17   -5    1   -8   -9     0  -10\n",
       "  -20    0  -18    -4   -1   -3    1       0    0  -11   11   -1    -3    0\n",
       "    7    3   -8     1  -13    0    9       5   -3    6   -1    5     4  -23\n",
       "    6   11   15     7   12    4   12      17    6    4    7   10     1    6\n",
       "\n",
       "[:, :, 301] =\n",
       " 2048  -17  -18   -13  -12   -4  -10  …  -17   -5  -11  -16  -19   -33   -6\n",
       "   -3   -7    8     6   -3  -12   -7     -26  -19  -10   -5  -22   -15  -26\n",
       "  -20   -4   -3     0   -8  -11   -1      -9  -20  -14  -13  -26   -16  -19\n",
       "  -21  -48  -13   -18  -29  -12  -11      -6  -16   -6    0   -6   -24  -15\n",
       "  -20  -35  -28   -29  -29  -15  -22     -11   -8  -21  -30  -16  2048  -23\n",
       "   -5    6   -3    -1   -8  -10   11  …  -11   -6  -24  -13  -25   -29  -26\n",
       "  -11  -15  -27   -10    3   -5   -1       4  -11   -5    9  -15    -8    7\n",
       "    5  -12    2   -10   -7  -18   -9     -10    3  -10   -5  -11   -15  -11\n",
       "  -17  -25  -20   -28   -7  -13  -22       1  -17  -13  -16  -18    -6  -22\n",
       "  -18   -7  -11   -24  -21  -10   -2     -15   -2   -6  -21  -19    -3  -18\n",
       "  -20  -19   -2   -26  -28  -20   -9  …  -32  -18  -10  -18  -11   -29   -5\n",
       "   -8  -11   -1     2   -4   -5   13     -10   -9  -17    0   -6   -25   -8\n",
       "  -11  -21   -6   -11  -10   -6  -11     -11  -18  -14   -8  -10    -8    7\n",
       "    ⋮                         ⋮       ⋱                   ⋮                \n",
       "  -25  -19   -5    -8   -7  -17  -13      -4  -21  -13    3   -4   -17   -8\n",
       " 2048  -21  -28   -19  -21  -17  -25     -22   -9  -27   -2  -22    -2  -12\n",
       "   -4   -2    6   -11  -10  -16   -6     -12  -20  -15  -19  -15   -12  -10\n",
       "  -17   -6   -3   -16  -12  -12  -17  …   -3   -1  -16   -7   -4    -3   -8\n",
       "   -6  -14  -13     0  -11  -11    3      -5    0   -6   12   -4   -14  -10\n",
       " 2048   -7    0     2   -1   -8   -5     -10  -27  -39  -21  -31   -17  -21\n",
       "  -17  -18  -23  2048  -19  -17  -24     -21  -11  -15  -34  -10   -18  -15\n",
       "   -3  -12   -5   -11  -17  -13  -12     -21  -17  -13   -2  -10    -6   -7\n",
       "  -17  -20   -4     1   -8   -3   -6  …   -8    0  -14   -7    0    -5   -1\n",
       "  -12  -24  -39    -9  -24  -20  -11      -8   -4   -8   -5    2   -20  -19\n",
       "  -21   -8   -8   -17  -16   -4   -8     -22  -14  -20   -9   -7   -22  -19\n",
       "   -6  -13    0   -16    0  -13  -13     -11    9   -8   -7  -15     5  -18"
      ]
     },
     "execution_count": 17,
     "metadata": {},
     "output_type": "execute_result"
    }
   ],
   "source": [
    "DatosCentrados=FormaMatrizDatosCentrados(ActividadRaw[\"Trancazo_1\"])"
   ]
  },
  {
   "cell_type": "markdown",
   "metadata": {},
   "source": [
    "\n",
    "Hay un montonal de canales que por la forma en que requiere ser hecho el experimento no detectaron nada o casi nada. Esos aparecen el registro como saturados en el máximo valor posible. Dado que esto es MUY inconveniente para el cálculo del CM, tenemos que detectarlos automáticamente y ponerlos en cero o ver si los esquivamos."
   ]
  },
  {
   "cell_type": "code",
   "execution_count": null,
   "metadata": {
    "collapsed": true
   },
   "outputs": [],
   "source": []
  }
 ],
 "metadata": {
  "kernelspec": {
   "display_name": "Julia 0.4.3-pre",
   "language": "julia",
   "name": "julia-0.4"
  },
  "language_info": {
   "file_extension": ".jl",
   "mimetype": "application/julia",
   "name": "julia",
   "version": "0.4.3"
  }
 },
 "nbformat": 4,
 "nbformat_minor": 0
}
