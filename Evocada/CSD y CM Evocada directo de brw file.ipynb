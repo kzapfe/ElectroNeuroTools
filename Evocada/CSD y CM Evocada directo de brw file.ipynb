{
 "cells": [
  {
   "cell_type": "markdown",
   "metadata": {},
   "source": [
    "# CSD y CM de Actividad Evocada. \n",
    "Usemos esto como opurtunidad para poner todo el código en orden.\n",
    "\n",
    "\n",
    "En este *notebook* de Julia implementaremos métodos numéricos para llevar a cabo un análisis de *centro de masa* (promedio vectorial) de la densidad de pozos y fuentes de corriente sobre una rebanada del hipocámpo de una rata. En este Notebook estudiaremos los datos de los experimentos evocados que hizo Franco en Agosto.\n",
    " Al parecer primero toca hacer una prueba con todo aquí mismo antes que hacer un modulo ordenado por una inconveniencia al hacer modulos (no se pueden recargar)."
   ]
  },
  {
   "cell_type": "code",
   "execution_count": 1,
   "metadata": {
    "collapsed": false
   },
   "outputs": [],
   "source": [
    "using HDF5"
   ]
  },
  {
   "cell_type": "code",
   "execution_count": 2,
   "metadata": {
    "collapsed": false
   },
   "outputs": [
    {
     "data": {
      "text/plain": [
       "AbreyCheca (generic function with 1 method)"
      ]
     },
     "execution_count": 2,
     "metadata": {},
     "output_type": "execute_result"
    }
   ],
   "source": [
    "function AbreyCheca(x::AbstractString)\n",
    "    #Abre el archivo de brw (acepta el nombre tal cual)\n",
    "    archivo=h5open(x)\n",
    "    #sacatito todas las variables que te interesan\n",
    "    numcuadros=archivo[\"/3BRecInfo/3BRecVars/NRecFrames\"][1][1]\n",
    "    frecuencia=archivo[\"/3BRecInfo/3BRecVars/SamplingRate\"][1][1]\n",
    "    maxvolt=archivo[\"/3BRecInfo/3BRecVars/MaxVolt\"][1][1]\n",
    "    minvolt=archivo[\"/3BRecInfo/3BRecVars/MinVolt\"][1][1]\n",
    "    bitdepth=archivo[\"/3BRecInfo/3BRecVars/BitDepth\"][1][1]\n",
    "    duracionexperimento=numcuadros/frecuencia\n",
    "    factordeescala=(maxvolt-minvolt)/2^bitdepth\n",
    "    DatosCrudos=read(archivo[\"/3BData/Raw\"])\n",
    "    result=Dict(\"numcuadros\" => numcuadros,\n",
    "                \"frecuencia\"=> frecuencia,\n",
    "                \"maxvolt\" => maxvolt,\n",
    "                \"minvolt\" => minvolt,\n",
    "                \"bitdepth\" => bitdepth,\n",
    "                \"duracion\" => duracionexperimento,\n",
    "                \"factor \" => factordeescala,\n",
    "                \"DatosCrudos\"=>DatosCrudos )\n",
    "    return result\n",
    "                    \n",
    "end"
   ]
  },
  {
   "cell_type": "code",
   "execution_count": 3,
   "metadata": {
    "collapsed": false
   },
   "outputs": [
    {
     "data": {
      "text/plain": [
       "Dict{ASCIIString,Any} with 8 entries:\n",
       "  \"minvolt\"     => -4125.0\n",
       "  \"maxvolt\"     => 4125.0\n",
       "  \"factor \"     => 2.01416015625\n",
       "  \"frecuencia\"  => 7020.800706028248\n",
       "  \"DatosCrudos\" => 4096x210624 Array{UInt16,2}:…\n",
       "  \"bitdepth\"    => 0x0c\n",
       "  \"numcuadros\"  => 210624\n",
       "  \"duracion\"    => 29.99999698312937"
      ]
     },
     "execution_count": 3,
     "metadata": {},
     "output_type": "execute_result"
    }
   ],
   "source": [
    "Datos=AbreyCheca(\"050815_1R4.brw\")"
   ]
  },
  {
   "cell_type": "code",
   "execution_count": 4,
   "metadata": {
    "collapsed": false
   },
   "outputs": [
    {
     "data": {
      "text/plain": [
       "EncuentraTrancazosRaw (generic function with 2 methods)"
      ]
     },
     "execution_count": 4,
     "metadata": {},
     "output_type": "execute_result"
    }
   ],
   "source": [
    "function EncuentraTrancazosRaw(datos::Array, tolerancia=1400)\n",
    "    result=Int[]\n",
    "    longitud=length(datos)\n",
    "    jcomp=0\n",
    "    for j=1:longitud\n",
    "        if abs(datos[j])>tolerancia\n",
    "            if j-jcomp>1\n",
    "                push!(result,j)\n",
    "            end\n",
    "            jcomp=j\n",
    "        end\n",
    "    end\n",
    "    return result\n",
    "end\n"
   ]
  },
  {
   "cell_type": "code",
   "execution_count": 5,
   "metadata": {
    "collapsed": false
   },
   "outputs": [],
   "source": [
    "exemplo=vec(Datos[\"DatosCrudos\"][2000,:]);"
   ]
  },
  {
   "cell_type": "code",
   "execution_count": 6,
   "metadata": {
    "collapsed": false
   },
   "outputs": [
    {
     "data": {
      "text/plain": [
       "3-element Array{Int64,1}:\n",
       "  43890\n",
       " 114498\n",
       " 185107"
      ]
     },
     "execution_count": 6,
     "metadata": {},
     "output_type": "execute_result"
    }
   ],
   "source": [
    "listongas=EncuentraTrancazosRaw(exemplo)"
   ]
  },
  {
   "cell_type": "code",
   "execution_count": 7,
   "metadata": {
    "collapsed": false
   },
   "outputs": [
    {
     "data": {
      "text/plain": [
       "ActivAlrededorTrancazo (generic function with 1 method)"
      ]
     },
     "execution_count": 7,
     "metadata": {},
     "output_type": "execute_result"
    }
   ],
   "source": [
    "function ActivAlrededorTrancazo(Lista::Array, xxs::Array)\n",
    "    #Aqui no se le ha hecho reshape a las matrices todavia\n",
    "    result=Dict{AbstractString, Array}()\n",
    "    q=1\n",
    "    desde=20\n",
    "    hasta=480\n",
    "    for j in Lista\n",
    "        nomineclave=\"Trancazo_$q\"\n",
    "        result[nomineclave]=xxs[:,j-desde:j+hasta]\n",
    "        #println(nomineclave)\n",
    "        q+=1\n",
    "    end\n",
    "    return result\n",
    "end\n"
   ]
  },
  {
   "cell_type": "code",
   "execution_count": 8,
   "metadata": {
    "collapsed": false
   },
   "outputs": [
    {
     "data": {
      "text/plain": [
       "Dict{AbstractString,Array{T,N}} with 3 entries:\n",
       "  \"Trancazo_2\" => 4096x501 Array{UInt16,2}:…\n",
       "  \"Trancazo_1\" => 4096x501 Array{UInt16,2}:…\n",
       "  \"Trancazo_3\" => 4096x501 Array{UInt16,2}:…"
      ]
     },
     "execution_count": 8,
     "metadata": {},
     "output_type": "execute_result"
    }
   ],
   "source": [
    "ActividadRaw=ActivAlrededorTrancazo(listongas, Datos[\"DatosCrudos\"])"
   ]
  },
  {
   "cell_type": "code",
   "execution_count": 9,
   "metadata": {
    "collapsed": false
   },
   "outputs": [
    {
     "data": {
      "text/plain": [
       "FormaMatrizDatosCentrados (generic function with 1 method)"
      ]
     },
     "execution_count": 9,
     "metadata": {},
     "output_type": "execute_result"
    }
   ],
   "source": [
    "function FormaMatrizDatosCentrados(xxs::Array)\n",
    "    #El array tiene que ser de 4096 por algo mas\n",
    "    irrrelevante,largo=size(xxs)\n",
    "    aux=Array(Int32, 64,64, largo);\n",
    "    for j=1:64,k=1:64\n",
    "        aux[k,j,:]=xxs[j+(k-1)*64,:]\n",
    "    end\n",
    "    result=round(Int32,aux)*(-1)+2048;\n",
    "    aux=0\n",
    "    return result\n",
    "end"
   ]
  },
  {
   "cell_type": "markdown",
   "metadata": {},
   "source": [
    "\n",
    "Hay un montonal de canales que por la forma en que requiere ser hecho el experimento no detectaron nada o casi nada. Esos aparecen el registro como saturados en el máximo valor posible. Dado que esto es MUY inconveniente para el cálculo del CM, tenemos que detectarlos automáticamente y ponerlos en cero o ver si los esquivamos."
   ]
  },
  {
   "cell_type": "code",
   "execution_count": 10,
   "metadata": {
    "collapsed": false
   },
   "outputs": [],
   "source": [
    "DatosCentrados=Dict{AbstractString, Array}()\n",
    "for k in keys(ActividadRaw)\n",
    "    DatosCentrados[k]=FormaMatrizDatosCentrados(ActividadRaw[k])\n",
    "end"
   ]
  },
  {
   "cell_type": "code",
   "execution_count": 11,
   "metadata": {
    "collapsed": false
   },
   "outputs": [
    {
     "data": {
      "text/plain": [
       "BuscaSaturados (generic function with 2 methods)"
      ]
     },
     "execution_count": 11,
     "metadata": {},
     "output_type": "execute_result"
    }
   ],
   "source": [
    "function BuscaSaturados(datos::Array, saturavalue=1700)\n",
    "    (ancho,alto,largo)=size(datos)\n",
    "    result=Set{Array{Int,1}}()\n",
    "    arreglostd=zeros(ancho,alto)\n",
    "    arregloprom=zeros(ancho,alto)\n",
    "    for j=1:ancho, k=1:alto\n",
    "        prom=mean(datos[k,j,:])\n",
    "        arregloprom[k,j]=prom\n",
    "        desviacion=std(datos[k,j,:])\n",
    "        arreglostd[k,j]=desviacion\n",
    "        if abs(prom)>saturavalue || desviacion<10\n",
    "            push!(result, [k,j])\n",
    "        end\n",
    "    end\n",
    "    return (result,arreglostd, arregloprom)\n",
    "end"
   ]
  },
  {
   "cell_type": "code",
   "execution_count": 12,
   "metadata": {
    "collapsed": false
   },
   "outputs": [],
   "source": [
    "DictSaturados=Dict{AbstractString, Tuple}()\n",
    "for k in keys(DatosCentrados)\n",
    "    DictSaturados[k]=BuscaSaturados(DatosCentrados[k])\n",
    "end"
   ]
  },
  {
   "cell_type": "code",
   "execution_count": 13,
   "metadata": {
    "collapsed": false
   },
   "outputs": [
    {
     "data": {
      "text/plain": [
       "vecindad8 (generic function with 1 method)"
      ]
     },
     "execution_count": 13,
     "metadata": {},
     "output_type": "execute_result"
    }
   ],
   "source": [
    "function vecindad8(punto::Array)\n",
    "    j=punto[1]\n",
    "    k=punto[2]\n",
    "    result=Set{Array{Int64,1}}()\n",
    "    push!(result, [j-1,k-1])\n",
    "    push!(result, [j-1,k])\n",
    "    push!(result, [j-1,k+1])\n",
    "    push!(result, [j,k-1])\n",
    "    push!(result, [j,k+1])\n",
    "    push!(result, [j+1,k-1])\n",
    "    push!(result, [j+1,k])\n",
    "    push!(result, [j+1,k+1])\n",
    "    return result\n",
    "end"
   ]
  },
  {
   "cell_type": "markdown",
   "metadata": {},
   "source": [
    "Parece ser que promediar los canales saturados sobre sus vecinos no es tan buena idea. Puede ser que incluso meta hipótesis superfluas sobre la CSD, als sobre suavizar esos puntos. Además, un sólo pase no basta para quitar la saturación. Así que la función de abajo no es taaan buena idea."
   ]
  },
  {
   "cell_type": "code",
   "execution_count": 14,
   "metadata": {
    "collapsed": false
   },
   "outputs": [
    {
     "data": {
      "text/plain": [
       "PromediaSaturados! (generic function with 1 method)"
      ]
     },
     "execution_count": 14,
     "metadata": {},
     "output_type": "execute_result"
    }
   ],
   "source": [
    "function PromediaSaturados!(malos::Set, xxs::Array)\n",
    "    \n",
    "    #Es mejor hacer esto Frame por Frame aunque sea lento.\n",
    "    result=zeros(xxs)\n",
    "    temp=copy(xxs)\n",
    "    #Primero, hacemos el padding de los datos.\n",
    "    temp=vcat(temp[1,:], temp, temp[end,:])\n",
    "    temp=hcat(temp[:,1], temp, temp[:,end])\n",
    "#    println(size(temp))\n",
    "    for q in malos\n",
    "        prome=0\n",
    "        for p in vecindad8(q)\n",
    "   #         println(p)\n",
    "   #         println(temp[p[1],p[2]])\n",
    "            #tus vecindades, por el padding, estan desplazadas +1\n",
    "            prome+=temp[p[1]+1,p[2]+1]\n",
    "        end\n",
    "        prome/=8\n",
    "        xxs[q[1],q[2]]=prome\n",
    "    end\n",
    "    return\n",
    "end"
   ]
  },
  {
   "cell_type": "code",
   "execution_count": 15,
   "metadata": {
    "collapsed": false
   },
   "outputs": [
    {
     "data": {
      "text/plain": [
       "imitaruido (generic function with 1 method)"
      ]
     },
     "execution_count": 15,
     "metadata": {},
     "output_type": "execute_result"
    }
   ],
   "source": [
    "function imitaruido(x::Array)\n",
    "    #Esta funcion asume que x es ruido gaussiano y lo imita.\n",
    "    sigma=std(x)\n",
    "    prom=mean(x)\n",
    "    l=length(x)\n",
    "    result=sigma*randn(l)+prom\n",
    "    return result\n",
    "end"
   ]
  },
  {
   "cell_type": "code",
   "execution_count": 16,
   "metadata": {
    "collapsed": false
   },
   "outputs": [],
   "source": [
    "TestArray1=map(Float32, DatosCentrados[\"Trancazo_1\"][:,:,100]);\n",
    "TestMalos=DictSaturados[\"Trancazo_1\"][1];"
   ]
  },
  {
   "cell_type": "code",
   "execution_count": 17,
   "metadata": {
    "collapsed": false
   },
   "outputs": [
    {
     "ename": "LoadError",
     "evalue": "LoadError: UndefVarError: TestArray not defined\nwhile loading In[17], in expression starting on line 1",
     "output_type": "error",
     "traceback": [
      "LoadError: UndefVarError: TestArray not defined\nwhile loading In[17], in expression starting on line 1",
      ""
     ]
    }
   ],
   "source": [
    "PromediaSaturados!(TestMalos,TestArray)"
   ]
  },
  {
   "cell_type": "code",
   "execution_count": 18,
   "metadata": {
    "collapsed": false
   },
   "outputs": [
    {
     "data": {
      "text/plain": [
       "false"
      ]
     },
     "execution_count": 18,
     "metadata": {},
     "output_type": "execute_result"
    }
   ],
   "source": [
    "q=[10,45]\n",
    "in(q,TestMalos)"
   ]
  },
  {
   "cell_type": "code",
   "execution_count": 19,
   "metadata": {
    "collapsed": false
   },
   "outputs": [
    {
     "data": {
      "text/plain": [
       "(-200:5:200,[0,0,0,0,0,0,0,0,0,0  …  0,0,0,0,0,0,0,0,0,0])"
      ]
     },
     "execution_count": 19,
     "metadata": {},
     "output_type": "execute_result"
    }
   ],
   "source": [
    "bla=vcat(vec(DatosCentrados[\"Trancazo_1\"][10,45,:])\n",
    ",vec(DatosCentrados[\"Trancazo_2\"][10,45,:]), \n",
    "vec(DatosCentrados[\"Trancazo_3\"][10,45,:]))\n",
    "cuac=hist(bla, -200:5:200)\n"
   ]
  },
  {
   "cell_type": "code",
   "execution_count": 20,
   "metadata": {
    "collapsed": false
   },
   "outputs": [
    {
     "data": {
      "text/plain": [
       "(-0.12974051896207583,66.1456333201427)"
      ]
     },
     "execution_count": 20,
     "metadata": {},
     "output_type": "execute_result"
    }
   ],
   "source": [
    "sigma=std(bla)\n",
    "prom=mean(bla)\n",
    "(prom,sigma)"
   ]
  },
  {
   "cell_type": "code",
   "execution_count": 21,
   "metadata": {
    "collapsed": false
   },
   "outputs": [
    {
     "data": {
      "text/plain": [
       "(-1.7713121966309149,68.8466163893645)"
      ]
     },
     "execution_count": 21,
     "metadata": {},
     "output_type": "execute_result"
    }
   ],
   "source": [
    "bla2=imitaruido(bla)\n",
    "cuac2=hist(bla2,-200:5:200)\n",
    "mean(bla2),std(bla2)"
   ]
  },
  {
   "cell_type": "code",
   "execution_count": 22,
   "metadata": {
    "collapsed": true
   },
   "outputs": [],
   "source": [
    "using PyPlot"
   ]
  },
  {
   "cell_type": "code",
   "execution_count": 23,
   "metadata": {
    "collapsed": false
   },
   "outputs": [
    {
     "data": {
      "text/plain": [
       "gauss (generic function with 1 method)"
      ]
     },
     "execution_count": 23,
     "metadata": {},
     "output_type": "execute_result"
    }
   ],
   "source": [
    "mu=0.165\n",
    "sigma=84\n",
    "function gauss(x)\n",
    "    return 1/(sqrt(2*pi)*sigma)*exp(-((x-mu)/sigma)^2/2)\n",
    "end"
   ]
  },
  {
   "cell_type": "code",
   "execution_count": 34,
   "metadata": {
    "collapsed": false
   },
   "outputs": [],
   "source": [
    "xdata=collect(cuac[1][2:end])\n",
    "measuredata=cuac[2];"
   ]
  },
  {
   "cell_type": "code",
   "execution_count": 31,
   "metadata": {
    "collapsed": false
   },
   "outputs": [
    {
     "data": {
      "image/png": "[encoded data removed]",
      "text/plain": [
       "PyPlot.Figure(PyObject <matplotlib.figure.Figure object at 0x7f69a0ba4b00>)"
      ]
     },
     "metadata": {},
     "output_type": "display_data"
    },
    {
     "data": {
      "text/plain": [
       "1-element Array{Any,1}:\n",
       " PyObject <matplotlib.lines.Line2D object at 0x7f69a0b7dd68>"
      ]
     },
     "execution_count": 31,
     "metadata": {},
     "output_type": "execute_result"
    }
   ],
   "source": [
    "xlim(-200,200)\n",
    "ylim(-1,335)\n",
    "scatter(xdata,measuredata, color=\"red\")\n",
    "scatter(cuac2[1][2:end],cuac2[2])\n",
    "plot(cuac[1][2:end], map(x->sqrt(1801*gauss(x)),cuac[1][2:end]))"
   ]
  },
  {
   "cell_type": "code",
   "execution_count": 48,
   "metadata": {
    "collapsed": false
   },
   "outputs": [],
   "source": [
    "using LsqFit"
   ]
  },
  {
   "cell_type": "code",
   "execution_count": 42,
   "metadata": {
    "collapsed": false
   },
   "outputs": [
    {
     "data": {
      "text/plain": [
       "matazeros (generic function with 1 method)"
      ]
     },
     "execution_count": 42,
     "metadata": {},
     "output_type": "execute_result"
    }
   ],
   "source": [
    "function matazeros(xxs::Array, yys::Array)\n",
    "    largo=length(yys)\n",
    "    xdepurada=copy(xxs)\n",
    "    ydepurada=copy(yys)\n",
    "    for j=largo:-1:1\n",
    "        if yys[j]==0 \n",
    "            deleteat!(xdepurada, j)\n",
    "            deleteat!(ydepurada,j)\n",
    "        end\n",
    "    end\n",
    "    return (xdepurada,ydepurada)\n",
    "end\n"
   ]
  },
  {
   "cell_type": "code",
   "execution_count": 45,
   "metadata": {
    "collapsed": false
   },
   "outputs": [
    {
     "data": {
      "image/png": "[encoded data removed]",
      "text/plain": [
       "PyPlot.Figure(PyObject <matplotlib.figure.Figure object at 0x7f69a0bb5128>)"
      ]
     },
     "metadata": {},
     "output_type": "display_data"
    },
    {
     "data": {
      "text/plain": [
       "1-element Array{Any,1}:\n",
       " PyObject <matplotlib.lines.Line2D object at 0x7f69a0ac12e8>"
      ]
     },
     "execution_count": 45,
     "metadata": {},
     "output_type": "execute_result"
    }
   ],
   "source": [
    "(ar,ur)=matazeros(xdata,measuredata)\n",
    "plot(ar, log(ur))"
   ]
  },
  {
   "cell_type": "code",
   "execution_count": 49,
   "metadata": {
    "collapsed": false
   },
   "outputs": [],
   "source": [
    "#LsqFit no es bueno ajustando gaussianas, hagamos que ajuste un polinomio.\n",
    "#function ajustaGaussiana(xxs::Array,yys::Array)\n",
    "yys=ur\n",
    "xxs=ar\n",
    "model(x,p)=p[3]+x.*p[2]+x.^2.*p[1]\n",
    "ydata=log(yys)\n",
    "    rara=curve_fit(model,xxs,ydata, [0.5,0.5,0.5])\n",
    "#    return rara.fitparam\n",
    "#end\n",
    "   \n",
    "\n"
   ]
  },
  {
   "cell_type": "code",
   "execution_count": 55,
   "metadata": {
    "collapsed": false
   },
   "outputs": [
    {
     "data": {
      "image/png": "[encoded data removed]",
      "text/plain": [
       "PyPlot.Figure(PyObject <matplotlib.figure.Figure object at 0x7f69a0898da0>)"
      ]
     },
     "metadata": {},
     "output_type": "display_data"
    },
    {
     "data": {
      "text/plain": [
       "1-element Array{Any,1}:\n",
       " PyObject <matplotlib.lines.Line2D object at 0x7f69a08442e8>"
      ]
     },
     "execution_count": 55,
     "metadata": {},
     "output_type": "execute_result"
    }
   ],
   "source": [
    "rara.param\n",
    "uiriruri=map(x->model(x,rara.param),ar)\n",
    "scatter(ar,ur, color=\"red\")\n",
    "plot(ar, exp(uiriruri))\n"
   ]
  },
  {
   "cell_type": "code",
   "execution_count": 48,
   "metadata": {
    "collapsed": false
   },
   "outputs": [
    {
     "ename": "LoadError",
     "evalue": "LoadError: MethodError: `eps` has no method matching eps(::Type{Int64})\nwhile loading In[48], in expression starting on line 1",
     "output_type": "error",
     "traceback": [
      "LoadError: MethodError: `eps` has no method matching eps(::Type{Int64})\nwhile loading In[48], in expression starting on line 1",
      "",
      " [inlined code] from /home/karel/.julia/v0.4/Calculus/src/finite_difference.jl:27",
      " in finite_difference_jacobian! at /home/karel/.julia/v0.4/Calculus/src/finite_difference.jl:165",
      " in g at /home/karel/.julia/v0.4/Calculus/src/derivative.jl:23",
      " in levenberg_marquardt at /home/karel/.julia/v0.4/Optim/src/levenberg_marquardt.jl:53",
      " in lmfit at /home/karel/.julia/v0.4/LsqFit/src/curve_fit.jl:29",
      " in curve_fit at /home/karel/.julia/v0.4/LsqFit/src/curve_fit.jl:39",
      " in ajustaGaussiana at In[47]:5"
     ]
    }
   ],
   "source": [
    "ajustaGaussiana(xdata,measuredata)"
   ]
  },
  {
   "cell_type": "code",
   "execution_count": null,
   "metadata": {
    "collapsed": false
   },
   "outputs": [],
   "source": [
    "fiteado=curve_fit(model,fakexdata,ydata, [0.5,0.5])"
   ]
  },
  {
   "cell_type": "code",
   "execution_count": null,
   "metadata": {
    "collapsed": false
   },
   "outputs": [],
   "source": [
    "?power_by_squaring"
   ]
  },
  {
   "cell_type": "code",
   "execution_count": null,
   "metadata": {
    "collapsed": false
   },
   "outputs": [],
   "source": [
    "imagen=imshow(TestArray,interpolation=\"nearest\")\n",
    "cb=colorbar(imagen)"
   ]
  },
  {
   "cell_type": "code",
   "execution_count": null,
   "metadata": {
    "collapsed": true
   },
   "outputs": [],
   "source": []
  }
 ],
 "metadata": {
  "kernelspec": {
   "display_name": "Julia 0.4.3-pre",
   "language": "julia",
   "name": "julia-0.4"
  },
  "language_info": {
   "file_extension": ".jl",
   "mimetype": "application/julia",
   "name": "julia",
   "version": "0.4.3"
  }
 },
 "nbformat": 4,
 "nbformat_minor": 0
}
