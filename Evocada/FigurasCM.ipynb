{
 "cells": [
  {
   "cell_type": "code",
   "execution_count": 1,
   "metadata": {
    "collapsed": false
   },
   "outputs": [
    {
     "data": {
      "text/plain": [
       "false"
      ]
     },
     "execution_count": 1,
     "metadata": {},
     "output_type": "execute_result"
    }
   ],
   "source": [
    "using PyPlot\n",
    "using JLD\n",
    "#acuerdate: no quieres svg interpolados\n",
    "matplotlib[:rcParams][:\"svg.image_noscale\"]=false"
   ]
  },
  {
   "cell_type": "code",
   "execution_count": 2,
   "metadata": {
    "collapsed": true
   },
   "outputs": [],
   "source": [
    "CSD=load(\"CSDEvocada.jld\", \"CSD\")\n",
    "CSDPlanchado=load(\"CSDEvocada.jld\", \"CSDPlanchada\")\n",
    "CSDPromedio=CSD[\"Trancazo_1\"]+CSD[\"Trancazo_2\"]+CSD[\"Trancazo_3\"]\n",
    "CSDPlanchadoPromedio=CSDPlanchado[\"Trancazo_1\"]+CSDPlanchado[\"Trancazo_2\"]+CSDPlanchado[\"Trancazo_3\"];"
   ]
  },
  {
   "cell_type": "code",
   "execution_count": 3,
   "metadata": {
    "collapsed": false
   },
   "outputs": [
    {
     "data": {
      "text/plain": [
       "(63,70,77,84,91,98)"
      ]
     },
     "execution_count": 3,
     "metadata": {},
     "output_type": "execute_result"
    }
   ],
   "source": [
    "#Las esquinas del cuadro\n",
    "xizq=22\n",
    "xder=48\n",
    "ybajo=4\n",
    "yalto=30\n",
    "retraso=35\n",
    "tmax=size(CSDPromedio)[3]\n",
    "tiemposinteresantes=(63,70,77,84,91,98)"
   ]
  },
  {
   "cell_type": "code",
   "execution_count": 4,
   "metadata": {
    "collapsed": true
   },
   "outputs": [],
   "source": [
    "CatenarioPositivo=load(\"CatenariosEvocados-Promedio-3.jld\", \"CatenarioPositivo\")\n",
    "CatenarioNegativo=load(\"CatenariosEvocados-Promedio-3.jld\", \"CatenarioNegativo\");"
   ]
  },
  {
   "cell_type": "code",
   "execution_count": 2,
   "metadata": {
    "collapsed": false
   },
   "outputs": [
    {
     "ename": "LoadError",
     "evalue": "LoadError: UndefVarError: CSDPromedio not defined\nwhile loading In[2], in expression starting on line 3",
     "output_type": "error",
     "traceback": [
      "LoadError: UndefVarError: CSDPromedio not defined\nwhile loading In[2], in expression starting on line 3",
      ""
     ]
    }
   ],
   "source": [
    "cuadro=91\n",
    "\n",
    "CSDEjemplo=CSDPromedio[:,:,cuadro];\n",
    "map!(x->abs(x)<10? 0:x, CSDEjemplo)\n",
    "\n",
    "PyPlot.ion()\n",
    "#################\n",
    "font1 = Dict(\"family\"=>\"DejaVu Serif\",\n",
    "    \"color\"=>\"black\",\n",
    "    \"weight\"=>\"normal\",\n",
    "    \"size\"=>16)\n",
    "seg=round((cuadro-35)/7022, 1)\n",
    "titulo=\"$seg ms\"\n",
    "figure(figsize=(4,3.5))\n",
    "PyPlot.xlim(1,64)\n",
    "PyPlot.ylim(1,64)\n",
    "limcsd=180\n",
    "\n",
    "otraimagen=imshow(CSDEjemplo, cmap=\"bwr\", origin=\"lower\", vmin=-limcsd, vmax=limcsd, \n",
    "interpolation=\"nearest\", extent=[1,64,1,64])\n",
    "\n",
    "cb=colorbar(otraimagen, ticks=[-150, +150],fraction=0.046, pad=0.04)\n",
    "farofa=cb[:set_ticklabels]([\"Sink\", \"Source\"])\n",
    "\n",
    "\n",
    "EjemploCentrosCSDPos=readdlm(\"CenterOfMassCollector/CMFuentes-$cuadro.dat\")\n",
    "xxpos=EjemploCentrosCSDPos[:,1]+xizq\n",
    "yypos=EjemploCentrosCSDPos[:,2]+ybajo\n",
    "valorpos=EjemploCentrosCSDPos[:,3]\n",
    "EjemploCentrosCSDNeg=readdlm(\"CenterOfMassCollector//CMPozos-$cuadro.dat\")\n",
    "xxneg=EjemploCentrosCSDNeg[:,1]+xizq\n",
    "yyneg=EjemploCentrosCSDNeg[:,2]+ybajo\n",
    "valorneg=EjemploCentrosCSDNeg[:,3];\n",
    "\n",
    "scatter(xxpos,yypos, s=valorpos, alpha=0.4, c=\"r\", edgecolors=\"none\")\n",
    "scatter(xxneg, yyneg, s=abs(valorneg), alpha=0.4, c=\"g\", edgecolors=\"none\")\n",
    "\n",
    "scatter(xxpos,yypos, s=0.02*valorpos, alpha=0.9, c=\"yellow\", edgecolors=\"black\")\n",
    "scatter(xxneg, yyneg,s=0.02*abs(valorneg), alpha=0.9, c=\"green\", edgecolors=\"black\")\n",
    "\n",
    "tick_params(axis=\"both\", labelsize=14)\n",
    "\n",
    "title(titulo, fontdict=font1)\n",
    " #tight_layout()\n",
    "#savefig(\"CSDParaDisjoint-$cuadro.svg\", dpi=90)\n",
    "PyPlot.close_queued_figs()"
   ]
  },
  {
   "cell_type": "code",
   "execution_count": 8,
   "metadata": {
    "collapsed": false
   },
   "outputs": [],
   "source": [
    "Componentes91=readdlm(\"ComponenteCollector/CompNeg-91.dat\");\n",
    "SubDatos=CSDPromedio[ybajo:yalto, xizq:xder,1:tmax];"
   ]
  },
  {
   "cell_type": "code",
   "execution_count": 9,
   "metadata": {
    "collapsed": false
   },
   "outputs": [
    {
     "data": {
      "image/png": "[encoded data removed]",
      "text/plain": [
       "PyPlot.Figure(PyObject <matplotlib.figure.Figure object at 0x7f00f844eb00>)"
      ]
     },
     "metadata": {},
     "output_type": "display_data"
    }
   ],
   "source": [
    "\n",
    "figure(figsize=(4.0,3.55))\n",
    "\n",
    "font1 = Dict(\"family\"=>\"DejaVu Serif\",\n",
    "    \"color\"=>\"black\",\n",
    "    \"weight\"=>\"normal\",\n",
    "\"size\"=>24)\n",
    "limcsd=180\n",
    "\n",
    "milisec=round((cuadro-retraso)/7.022,1)\n",
    "\n",
    " #title(\"t= $milisec ms\", fontdict=font1)\n",
    "\n",
    "PyPlot.xlim(xizq,xder)\n",
    "PyPlot.ylim(ybajo,yalto)\n",
    "#otraimagen=imshow(SubDatos, cmap=\"bwr\", origin=\"lower\", vmin=-limcsd, vmax=limcsd, \n",
    "#interpolation=\"nearest\", extent=[xizq-0.5,xder+0.5, ybajo-0.5,yalto+0.5])\n",
    "xxpos=Componentes91[:,1]+xizq-1\n",
    "    yypos=Componentes91[:,2]+ybajo-1\n",
    "colores=Componentes91[:,4]\n",
    "normcolor=maximum(colores)\n",
    "colorete=colores/normcolor\n",
    "pinpun=scatter(xxpos,yypos,c=colores,cmap=\"viridis\", linewidth=0,marker=\"s\",alpha=0.9, s=70)\n",
    "cb=colorbar(pinpun,fraction=0.046, ticks=1:2:26)\n",
    "cb[:set_label](\"Component Label\")\n",
    "#savefig(\"ComponentesNegativosEtiquetados-$cuadro.svg\",dpi=90)"
   ]
  },
  {
   "cell_type": "code",
   "execution_count": 10,
   "metadata": {
    "collapsed": false
   },
   "outputs": [],
   "source": [
    "SubPos=map(x->x>15?x:0,SubDatos);\n",
    "SubNeg=map(x->x<-15?x:0,SubDatos);"
   ]
  },
  {
   "cell_type": "code",
   "execution_count": 11,
   "metadata": {
    "collapsed": false
   },
   "outputs": [
    {
     "data": {
      "image/png": "[encoded data removed]",
      "text/plain": [
       "PyPlot.Figure(PyObject <matplotlib.figure.Figure object at 0x7f00f84ed630>)"
      ]
     },
     "metadata": {},
     "output_type": "display_data"
    }
   ],
   "source": [
    "\n",
    "figure(figsize=(4.0,3.55))\n",
    "limcsd=60\n",
    "PyPlot.xlim(xizq,xder)\n",
    "PyPlot.ylim(ybajo,yalto)\n",
    "otraimagen=imshow(SubNeg[:,:,91], cmap=\"bwr\", origin=\"lower\", vmin=-limcsd, vmax=limcsd, \n",
    "interpolation=\"nearest\", extent=[xizq-0.5,xder+0.5, ybajo-0.5,yalto+0.5])\n",
    "\n",
    "cb[:set_label](\"Component Label\")\n",
    "#savefig(\"ComponentesNegativos-$cuadro.svg\",dpi=90)"
   ]
  },
  {
   "cell_type": "code",
   "execution_count": 12,
   "metadata": {
    "collapsed": false
   },
   "outputs": [
    {
     "data": {
      "image/png": "[encoded data removed]",
      "text/plain": [
       "PyPlot.Figure(PyObject <matplotlib.figure.Figure object at 0x7f00f8347550>)"
      ]
     },
     "metadata": {},
     "output_type": "display_data"
    },
    {
     "data": {
      "text/plain": [
       "PyObject <matplotlib.collections.PathCollection object at 0x7f00f82eda58>"
      ]
     },
     "execution_count": 12,
     "metadata": {},
     "output_type": "execute_result"
    }
   ],
   "source": [
    "\n",
    "figure(figsize=(4.0,3.55))\n",
    "limcsd=10\n",
    "PyPlot.xlim(xizq,xder)\n",
    "PyPlot.ylim(ybajo,yalto)\n",
    "otraimagen=imshow(SubNeg[:,:,91], cmap=\"bwr\", origin=\"lower\", vmin=-limcsd, vmax=limcsd, \n",
    "interpolation=\"nearest\", extent=[xizq-0.5,xder+0.5, ybajo-0.5,yalto+0.5])\n",
    "\n",
    "EjemploCentrosCSDPos=readdlm(\"CenterOfMassCollector/CMFuentes-$cuadro.dat\")\n",
    "xxpos=EjemploCentrosCSDPos[:,1]+xizq-1\n",
    "yypos=EjemploCentrosCSDPos[:,2]+ybajo-1\n",
    "valorpos=EjemploCentrosCSDPos[:,3]\n",
    "EjemploCentrosCSDNeg=readdlm(\"CenterOfMassCollector//CMPozos-$cuadro.dat\")\n",
    "xxneg=EjemploCentrosCSDNeg[:,1]+xizq-1\n",
    "yyneg=EjemploCentrosCSDNeg[:,2]+ybajo-1\n",
    "valorneg=EjemploCentrosCSDNeg[:,3];\n",
    "\n",
    "#scatter(xxpos,yypos, s=valorpos, alpha=0.4, c=\"r\", edgecolors=\"none\")\n",
    "#scatter(xxneg, yyneg, s=abs(valorneg), alpha=0.4, c=\"g\", edgecolors=\"none\")\n",
    "\n",
    "#scatter(xxpos,yypos, s=0.02*valorpos, alpha=0.9, c=\"yellow\", edgecolors=\"black\")\n",
    "scatter(xxneg, yyneg,s=0.02*abs(valorneg), alpha=0.9, c=\"black\", edgecolors=\"orange\", lw=2)\n",
    "\n",
    "#savefig(\"ComponentesNegativosyCM-$cuadro.svg\",dpi=90)"
   ]
  },
  {
   "cell_type": "code",
   "execution_count": 13,
   "metadata": {
    "collapsed": false
   },
   "outputs": [],
   "source": [
    "ioff()\n",
    "\n",
    "ImagenCSD=SubDatos[:,:,70];\n",
    "\n",
    "figure(figsize=(6,6))\n",
    "#axis(\"equal\")\n",
    "tick_params(labelbottom=\"on\", labelleft=\"on\")\n",
    "xticks(fontsize=20)\n",
    "yticks(fontsize=20)\n",
    "xlim(xizq-0.50,xder+0.5)\n",
    "ylim(ybajo-0.5,yalto+0.5)\n",
    "bolitasrojas=0\n",
    "bolitasazules=0\n",
    "minlargo=3\n",
    "marcagor=300\n",
    "muevemin=0.5\n",
    "limcsd=180\n",
    "tight_layout()\n",
    "\n",
    "guacafondo=imshow(ImagenCSD, cmap=\"bwr\", interpolation=\"sinc\", \n",
    "origin=\"lower\", vmin=-limcsd, vmax=limcsd, extent=[xizq,xder,ybajo,yalto])\n",
    "\n",
    "for p in CatenarioPositivo\n",
    "    gordura=abs(map(Float32,p[:,3]))\n",
    "    desviax=std(map(Float32,p[:,1]))\n",
    "    desviay=std(map(Float32,p[:,2]))\n",
    "    longus,falsus=size(p)\n",
    "    if mean(gordura)> marcagor && (desviax>muevemin || desviay>muevemin) && longus> minlargo \n",
    "        #Si son chiquitos no nos interesan.\n",
    "        xxpos=p[:,1]+xizq\n",
    "        yypos=p[:,2]+ybajo    \n",
    "        tiempos=p[:,4]/7022    \n",
    "        plot(xxpos, yypos, marker=\"o\", markersize=1, color=\"maroon\", lw=2)\n",
    "        #bolitasrojas=scatter(xxpos,yypos, s=gordura, \n",
    "        #edgecolors=\"none\", color=\"r\" )\n",
    "        inicios=scatter(xxpos[1],yypos[1], s=40, edgecolors=\"black\", \n",
    "        linewidth=1,\n",
    "        facecolor=\"maroon\", marker=\"o\" )\n",
    "        finales=scatter(xxpos[end],yypos[end], s=40, edgecolors=\"black\", \n",
    "        linewidth=1,facecolor=\"maroon\", marker=\"^\", label=\"Final\" )\n",
    "      #  annotate(round(tiempos[1]*1000,1),  (xxpos[1], yypos[1]), fontsize=7, color=\"black\")\n",
    "       # annotate(round(tiempos[end]*1000,1), (xxpos[end], yypos[end]), fontsize=7, color=\"green\")\n",
    "\n",
    "    end\n",
    "end\n",
    "\n",
    "\n",
    "\n",
    "\n",
    "for p in CatenarioNegativo\n",
    "    gordura=abs(map(Float32,p[:,3]))\n",
    "    desviax=std(map(Float32,p[:,1]))\n",
    "    desviay=std(map(Float32, p[:,2]))\n",
    "    longus,falsus=size(p)\n",
    "    if mean(gordura)>marcagor && (desviax>muevemin || desviay > muevemin) &&longus> minlargo\n",
    "        #Si son chiquitos no nos interesan.\n",
    "        xxpos=p[:,1]+xizq\n",
    "        yypos=p[:,2]+ybajo    \n",
    "        tiempos=p[:,4]/7022    \n",
    "        plot(xxpos, yypos, marker=\"o\", markersize=1, color=\"midnightblue\", lw=2)\n",
    "        #bolitasazules=scatter(xxpos,yypos, s=gordura,\n",
    "        #edgecolors=\"none\", color=\"b\")\n",
    "        inicios=scatter(xxpos[1],yypos[1], s=40, edgecolors=\"black\", \n",
    "        linewidth=1,\n",
    "        facecolor=\"midnightblue\", alpha=0.7, marker=\"o\", label=\"Final\" )\n",
    "        finales=scatter(xxpos[end],yypos[end], s=40, edgecolors=\"black\", \n",
    "        linewidth=1,\n",
    "        facecolor=\"midnightblue\", marker=\"^\", label=\"Final\" )\n",
    "      #  annotate(round(tiempos[1],4),  (xxpos[1], yypos[1]), fontsize=7, color=\"black\")\n",
    "      #  annotate(round(tiempos[end],4), (xxpos[end], yypos[end]), fontsize=7, color=\"green\")\n",
    "\n",
    "    end\n",
    "end\n",
    "\n",
    "savefig(\"TrayectoriasEvocadasCompletasMayores300-01.svg\",dpi=90)"
   ]
  },
  {
   "cell_type": "code",
   "execution_count": 15,
   "metadata": {
    "collapsed": false
   },
   "outputs": [
    {
     "data": {
      "text/plain": [
       "AntesQue (generic function with 1 method)"
      ]
     },
     "execution_count": 15,
     "metadata": {},
     "output_type": "execute_result"
    }
   ],
   "source": [
    "function AntesQue(Datos::Array, tiempo)\n",
    "    Cadena=[0 0 0 0]\n",
    "    for a in eachindex(Datos[:,4])\n",
    "        if Datos[a,4]+40<tiempo\n",
    "            Cadena=vcat(Cadena, Datos[a,:])\n",
    "    end\n",
    "end\n",
    "    Cadena=Cadena[2:end,:]\n",
    "    return Cadena\n",
    "end"
   ]
  },
  {
   "cell_type": "code",
   "execution_count": 18,
   "metadata": {
    "collapsed": false
   },
   "outputs": [],
   "source": [
    "ioff()\n",
    "\n",
    "for cuadro in tiemposinteresantes\n",
    "\n",
    "ImagenCSD=SubDatos[:,:,cuadro];\n",
    "\n",
    "figure(figsize=(4,3.5))\n",
    "#axis(\"equal\")\n",
    " \n",
    "font1 = Dict(\"family\"=>\"DejaVu Serif\",\n",
    "    \"color\"=>\"black\",\n",
    "    \"weight\"=>\"normal\",\n",
    "\"size\"=>24)\n",
    "limcsd=180\n",
    "\n",
    "milisec=round((cuadro-retraso)/7.022,1)\n",
    "\n",
    "title(\"t= $milisec ms\", fontdict=font1)\n",
    "   \n",
    "    \n",
    "tick_params(labelbottom=\"on\", labelleft=\"on\")\n",
    "xticks(fontsize=20)\n",
    "yticks(fontsize=20)\n",
    "xlim(xizq-0.50,xder+0.5)\n",
    "ylim(ybajo-0.5,yalto+0.5)\n",
    "bolitasrojas=0\n",
    "bolitasazules=0\n",
    "minlargo=4\n",
    "marcagor=300\n",
    "muevemin=0.5\n",
    "limcsd=180\n",
    "tight_layout()\n",
    "\n",
    "    guacafondo=imshow(ImagenCSD, cmap=\"bwr\", interpolation=\"sinc\", \n",
    "origin=\"lower\", vmin=-limcsd, vmax=limcsd, extent=[xizq,xder,ybajo,yalto])\n",
    "\n",
    "for p in CatenarioPositivo\n",
    "    gordura=abs(map(Float32,p[:,3]))\n",
    "    desviax=std(map(Float32,p[:,1]))\n",
    "    desviay=std(map(Float32,p[:,2]))\n",
    "    paux=AntesQue(p,cuadro)\n",
    "    cucho,fleto=size(paux)\n",
    "     longus,falsus=size(p)\n",
    "        frase=(mean(gordura)> marcagor && longus>minlargo &&\n",
    "            (desviax>muevemin || desviay>muevemin) &&cucho>0)\n",
    "     #   println(longus, \" \", minlargo,\" \", frase)\n",
    "       \n",
    "        if frase\n",
    "        #Si son chiquitos no nos interesan.\n",
    "        xxpos=paux[:,1]+xizq-1\n",
    "        yypos=paux[:,2]+ybajo-1\n",
    "            gordis=abs(map(Float32, paux[:,3]))\n",
    "        tiempos=round((paux[:,4]-retraso+40)/7.022,1)   \n",
    "        plot(xxpos, yypos, marker=\"o\", markersize=1, color=\"maroon\", lw=4)\n",
    "        #bolitasrojas=scatter(xxpos,yypos, s=gordura, \n",
    "        #edgecolors=\"none\", color=\"r\" )\n",
    "        inicios=scatter(xxpos[1],yypos[1], s=40, edgecolors=\"black\", \n",
    "        linewidth=1,\n",
    "        facecolor=\"maroon\", marker=\"o\" )\n",
    "            finales=scatter(xxpos[end],yypos[end], s=120, edgecolors=\"orangered\", \n",
    "        linewidth=2,facecolor=\"maroon\", marker=\"^\", label=\"Final\" )\n",
    "      #  annotate(round(tiempos[1]*1000,1),  (xxpos[1], yypos[1]), fontsize=7, color=\"black\")\n",
    "      #  annotate(tiempos[end], (xxpos[end], yypos[end]), fontsize=15, color=\"green\")\n",
    "      #      scatter(xxpos[end],yypos[end], s=gordis[end]*0.5, alpha=0.5, \n",
    "       #     c=\"darkorange\", edgecolors=\"none\")\n",
    "    end\n",
    "\n",
    "end\n",
    "\n",
    "\n",
    "\n",
    "\n",
    "for p in CatenarioNegativo\n",
    "    gordura=abs(map(Float32,p[:,3]))\n",
    "    desviax=std(map(Float32,p[:,1]))\n",
    "    desviay=std(map(Float32, p[:,2]))\n",
    "    \n",
    "    paux=AntesQue(p,cuadro)\n",
    "    cucho,fleto=size(paux)\n",
    "     longus,falsus=size(p)\n",
    "        \n",
    "        if mean(gordura)>marcagor && longus>minlargo &&\n",
    "            (desviax>muevemin || desviay > muevemin) && cucho>0\n",
    "        #Si son chiquitos no nos interesan.\n",
    "        xxpos=paux[:,1]+xizq\n",
    "        yypos=paux[:,2]+ybajo    \n",
    "        gordis=abs(map(Float32, paux[:,3]))\n",
    "  \n",
    "            #  tiempos= round(paux[:,4]-retraso)/7.022,1)   \n",
    "        plot(xxpos, yypos, marker=\"o\", markersize=1, color=\"midnightblue\", lw=4)\n",
    "        #bolitasazules=scatter(xxpos,yypos, s=gordura,\n",
    "        #edgecolors=\"none\", color=\"b\")\n",
    "        inicios=scatter(xxpos[1],yypos[1], s=40, edgecolors=\"black\", \n",
    "        linewidth=1,\n",
    "        facecolor=\"midnightblue\", alpha=0.7, marker=\"o\", label=\"Final\" )\n",
    "            finales=scatter(xxpos[end],yypos[end], s=120, edgecolors=\"slateblue\", \n",
    "        linewidth=2,\n",
    "        facecolor=\"midnightblue\", marker=\"^\", label=\"Final\" )\n",
    "      #  annotate(round(tiempos[1],4),  (xxpos[1], yypos[1]), fontsize=7, color=\"black\")\n",
    "      #  annotate(round(tiempos[end],4), (xxpos[end], yypos[end]), fontsize=7, color=\"green\")\n",
    "      #      scatter(xxpos[end],yypos[end], s=gordis*0.5, alpha=0.5,\n",
    "      #      c=\"aquamarine\", edgecolors=\"none\")\n",
    "\n",
    "    end\n",
    "end\n",
    "\n",
    "    savefig(\"CuadroTray-$cuadro.svg\",dpi=90)\n",
    "    \n",
    "end"
   ]
  },
  {
   "cell_type": "code",
   "execution_count": 18,
   "metadata": {
    "collapsed": false
   },
   "outputs": [
    {
     "name": "stdout",
     "output_type": "stream",
     "text": [
      "search: zero zeros spzeros nonzeros set_zero_subnormals get_zero_subnormals\n",
      "\n"
     ]
    },
    {
     "data": {
      "text/latex": [
       "\\begin{verbatim}\n",
       "zero(x)\n",
       "\\end{verbatim}\n",
       "Get the additive identity element for the type of \\texttt{x} (\\texttt{x} can also specify the type itself).\n"
      ],
      "text/markdown": [
       "```\n",
       "zero(x)\n",
       "```\n",
       "\n",
       "Get the additive identity element for the type of `x` (`x` can also specify the type itself).\n"
      ],
      "text/plain": [
       "```\n",
       "zero(x)\n",
       "```\n",
       "\n",
       "Get the additive identity element for the type of `x` (`x` can also specify the type itself).\n"
      ]
     },
     "execution_count": 18,
     "metadata": {},
     "output_type": "execute_result"
    }
   ],
   "source": [
    "?zero"
   ]
  },
  {
   "cell_type": "code",
   "execution_count": null,
   "metadata": {
    "collapsed": true
   },
   "outputs": [],
   "source": []
  }
 ],
 "metadata": {
  "kernelspec": {
   "display_name": "Julia 0.4.3-pre",
   "language": "julia",
   "name": "julia-0.4"
  },
  "language_info": {
   "file_extension": ".jl",
   "mimetype": "application/julia",
   "name": "julia",
   "version": "0.4.3"
  }
 },
 "nbformat": 4,
 "nbformat_minor": 0
}
