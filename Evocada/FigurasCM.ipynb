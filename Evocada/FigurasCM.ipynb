{
 "cells": [
  {
   "cell_type": "code",
   "execution_count": 1,
   "metadata": {
    "collapsed": false
   },
   "outputs": [
    {
     "data": {
      "text/plain": [
       "\"3R3\""
      ]
     },
     "execution_count": 1,
     "metadata": {},
     "output_type": "execute_result"
    }
   ],
   "source": [
    "#En vez de estar pendejeando y checar que todos los nombres estén bien, pon como una variable\n",
    "# el juego de datos que estas analizando, al menos su terminacion que indica\n",
    "# Sitio de estimulación, Reversa y Volts de estimulacion.\n",
    "StringDatos=\"3R3\""
   ]
  },
  {
   "cell_type": "code",
   "execution_count": 2,
   "metadata": {
    "collapsed": false
   },
   "outputs": [
    {
     "data": {
      "text/plain": [
       "false"
      ]
     },
     "execution_count": 2,
     "metadata": {},
     "output_type": "execute_result"
    }
   ],
   "source": [
    "using PyPlot\n",
    "using JLD\n",
    "#acuerdate: no quieres svg interpolados\n",
    "matplotlib[:rcParams][:\"svg.image_noscale\"]=false"
   ]
  },
  {
   "cell_type": "code",
   "execution_count": 3,
   "metadata": {
    "collapsed": false
   },
   "outputs": [],
   "source": [
    "CSD=load(\"CSDEvocada_$StringDatos.jld\", \"CSD\")\n",
    "CSDPlanchado=load(\"CSDEvocada_$StringDatos.jld\", \"CSDPlanchada\")\n",
    "CSDPromedio=CSD[\"Trancazo_1\"]+CSD[\"Trancazo_2\"]+CSD[\"Trancazo_3\"]\n",
    "CSDPlanchadoPromedio=CSDPlanchado[\"Trancazo_1\"]+CSDPlanchado[\"Trancazo_2\"]+CSDPlanchado[\"Trancazo_3\"];"
   ]
  },
  {
   "cell_type": "code",
   "execution_count": 4,
   "metadata": {
    "collapsed": false
   },
   "outputs": [
    {
     "data": {
      "text/plain": [
       "(28,63,70,77,84,91,98,105)"
      ]
     },
     "execution_count": 4,
     "metadata": {},
     "output_type": "execute_result"
    }
   ],
   "source": [
    "#Las esquinas del cuadro\n",
    "xizq=22\n",
    "xder=48\n",
    "ybajo=4\n",
    "yalto=30\n",
    "retraso=35 # cuantos frames hay antes del disparo?\n",
    "tmax=size(CSDPromedio)[3]\n",
    "tiemposinteresantes=(28,63,70,77,84,91,98,105)"
   ]
  },
  {
   "cell_type": "code",
   "execution_count": 5,
   "metadata": {
    "collapsed": false
   },
   "outputs": [],
   "source": [
    "ArchivoCatenarios=string(\"CatenariosEvocados-Promedio-\",StringDatos,\"_Sub.jld\")\n",
    "CatenarioPositivo=load(ArchivoCatenarios, \"CatenarioPositivo\")\n",
    "CatenarioNegativo=load(ArchivoCatenarios, \"CatenarioNegativo\");"
   ]
  },
  {
   "cell_type": "code",
   "execution_count": 6,
   "metadata": {
    "collapsed": false
   },
   "outputs": [
    {
     "ename": "LoadError",
     "evalue": "LoadError: SystemError: opening file CenterOfMassCollector/CMFuentes-91.dat: No such file or directory\nwhile loading In[6], in expression starting on line 26",
     "output_type": "error",
     "traceback": [
      "LoadError: SystemError: opening file CenterOfMassCollector/CMFuentes-91.dat: No such file or directory\nwhile loading In[6], in expression starting on line 26",
      "",
      " in open at ./iostream.jl:90",
      " in open at ./iostream.jl:112",
      " in readdlm_auto at datafmt.jl:45",
      " in readdlm at datafmt.jl:39",
      " in readdlm at datafmt.jl:36"
     ]
    }
   ],
   "source": [
    "cuadro=91\n",
    "\n",
    "CSDEjemplo=CSDPromedio[:,:,cuadro];\n",
    "map!(x->abs(x)<10? 0:x, CSDEjemplo)\n",
    "\n",
    "PyPlot.ion()\n",
    "#################\n",
    "font1 = Dict(\"family\"=>\"Arial\",\n",
    "    \"color\"=>\"black\",\n",
    "    \"weight\"=>\"normal\",\n",
    "    \"size\"=>12)\n",
    "seg=round((cuadro-35)/7.022, 1)\n",
    "titulo=\"$seg ms\"\n",
    "figure(figsize=(4,3.5))\n",
    "PyPlot.xlim(1,64)\n",
    "PyPlot.ylim(1,64)\n",
    "limcsd=180\n",
    "\n",
    "otraimagen=imshow(CSDEjemplo, cmap=\"bwr\", origin=\"lower\", vmin=-limcsd, vmax=limcsd, \n",
    "interpolation=\"nearest\", extent=[1,64,1,64])\n",
    "\n",
    "cb=colorbar(otraimagen, ticks=[-150, +150],fraction=0.046, pad=0.04)\n",
    "farofa=cb[:set_ticklabels]([\"Sink\", \"Source\"])\n",
    "\n",
    "\n",
    "EjemploCentrosCSDPos=readdlm(\"CenterOfMassCollector/CMFuentes-$cuadro.dat\")\n",
    "xxpos=EjemploCentrosCSDPos[:,1]+xizq\n",
    "yypos=EjemploCentrosCSDPos[:,2]+ybajo\n",
    "valorpos=EjemploCentrosCSDPos[:,3]\n",
    "EjemploCentrosCSDNeg=readdlm(\"CenterOfMassCollector/CMPozos-$cuadro.dat\")\n",
    "xxneg=EjemploCentrosCSDNeg[:,1]+xizq\n",
    "yyneg=EjemploCentrosCSDNeg[:,2]+ybajo\n",
    "valorneg=EjemploCentrosCSDNeg[:,3];\n",
    "\n",
    "scatter(xxpos,yypos, s=valorpos, alpha=0.4, c=\"r\", edgecolors=\"none\")\n",
    "scatter(xxneg, yyneg, s=abs(valorneg), alpha=0.4, c=\"g\", edgecolors=\"none\")\n",
    "\n",
    "scatter(xxpos,yypos, s=0.02*valorpos, alpha=0.9, c=\"yellow\", edgecolors=\"black\")\n",
    "scatter(xxneg, yyneg,s=0.02*abs(valorneg), alpha=0.9, c=\"green\", edgecolors=\"black\")\n",
    "\n",
    "tick_params(axis=\"both\", labelsize=14)\n",
    "\n",
    "title(titulo, fontdict=font1)\n",
    " #tight_layout()\n",
    "#savefig(\"CSDParaDisjoint-$cuadro.svg\", dpi=90)\n",
    "PyPlot.close_queued_figs()"
   ]
  },
  {
   "cell_type": "code",
   "execution_count": 8,
   "metadata": {
    "collapsed": false
   },
   "outputs": [],
   "source": [
    "Componentes91=readdlm(\"ComponenteCollector/CompNeg-91.dat\");\n",
    "SubDatos=CSDPromedio[ybajo:yalto, xizq:xder,1:tmax];"
   ]
  },
  {
   "cell_type": "code",
   "execution_count": 20,
   "metadata": {
    "collapsed": false
   },
   "outputs": [
    {
     "data": {
      "image/png": "[encoded data removed]",
      "text/plain": [
       "PyPlot.Figure(PyObject <matplotlib.figure.Figure object at 0x7f0a79720b00>)"
      ]
     },
     "metadata": {},
     "output_type": "display_data"
    }
   ],
   "source": [
    "ion()\n",
    "figure(figsize=(4.0,3.55))\n",
    "\n",
    "font1 = Dict(\"family\"=>\"DejaVu Serif\",\n",
    "    \"color\"=>\"black\",\n",
    "    \"weight\"=>\"normal\",\n",
    "\"size\"=>24)\n",
    "limcsd=180\n",
    "\n",
    "milisec=round((cuadro-retraso)/7.022,1)\n",
    "\n",
    " #title(\"t= $milisec ms\", fontdict=font1)\n",
    "\n",
    "PyPlot.xlim(xizq,xder)\n",
    "PyPlot.ylim(ybajo,yalto)\n",
    "#otraimagen=imshow(SubDatos, cmap=\"bwr\", origin=\"lower\", vmin=-limcsd, vmax=limcsd, \n",
    "#interpolation=\"nearest\", extent=[xizq-0.5,xder+0.5, ybajo-0.5,yalto+0.5])\n",
    "xxpos=Componentes91[:,1]+xizq-1\n",
    "    yypos=Componentes91[:,2]+ybajo-1\n",
    "colores=Componentes91[:,4]\n",
    "normcolor=maximum(colores)\n",
    "colorete=colores/normcolor\n",
    "pinpun=scatter(xxpos,yypos,c=colores,cmap=\"viridis\", linewidth=0,marker=\"s\",alpha=0.9, s=70)\n",
    "cb=colorbar(pinpun,fraction=0.046, ticks=1:2:26)\n",
    "cb[:set_label](\"Component Label\")\n",
    "#savefig(\"ComponentesNegativosEtiquetados-$cuadro.svg\",dpi=90)"
   ]
  },
  {
   "cell_type": "code",
   "execution_count": 21,
   "metadata": {
    "collapsed": false
   },
   "outputs": [],
   "source": [
    "SubPos=map(x->x>15?x:0,SubDatos);\n",
    "SubNeg=map(x->x<-15?x:0,SubDatos);"
   ]
  },
  {
   "cell_type": "code",
   "execution_count": 22,
   "metadata": {
    "collapsed": false
   },
   "outputs": [
    {
     "data": {
      "image/png": "[encoded data removed]",
      "text/plain": [
       "PyPlot.Figure(PyObject <matplotlib.figure.Figure object at 0x7f0a79720cc0>)"
      ]
     },
     "metadata": {},
     "output_type": "display_data"
    }
   ],
   "source": [
    "\n",
    "figure(figsize=(4.0,3.55))\n",
    "limcsd=60\n",
    "PyPlot.xlim(xizq,xder)\n",
    "PyPlot.ylim(ybajo,yalto)\n",
    "otraimagen=imshow(SubNeg[:,:,91], cmap=\"bwr\", origin=\"lower\", vmin=-limcsd, vmax=limcsd, \n",
    "interpolation=\"nearest\", extent=[xizq-0.5,xder+0.5, ybajo-0.5,yalto+0.5])\n",
    "\n",
    "cb[:set_label](\"Component Label\")\n",
    "#savefig(\"ComponentesNegativos-$cuadro.svg\",dpi=90)"
   ]
  },
  {
   "cell_type": "code",
   "execution_count": 23,
   "metadata": {
    "collapsed": false
   },
   "outputs": [
    {
     "data": {
      "image/png": "[encoded data removed]",
      "text/plain": [
       "PyPlot.Figure(PyObject <matplotlib.figure.Figure object at 0x7f0a774fd550>)"
      ]
     },
     "metadata": {},
     "output_type": "display_data"
    },
    {
     "data": {
      "text/plain": [
       "PyObject <matplotlib.collections.PathCollection object at 0x7f0a4a2b38d0>"
      ]
     },
     "execution_count": 23,
     "metadata": {},
     "output_type": "execute_result"
    }
   ],
   "source": [
    "\n",
    "figure(figsize=(4.0,3.55))\n",
    "limcsd=10\n",
    "PyPlot.xlim(xizq,xder)\n",
    "PyPlot.ylim(ybajo,yalto)\n",
    "otraimagen=imshow(SubNeg[:,:,91], cmap=\"bwr\", origin=\"lower\", vmin=-limcsd, vmax=limcsd, \n",
    "interpolation=\"nearest\", extent=[xizq-0.5,xder+0.5, ybajo-0.5,yalto+0.5])\n",
    "\n",
    "EjemploCentrosCSDPos=readdlm(\"CenterOfMassCollector/CMFuentes-$cuadro.dat\")\n",
    "xxpos=EjemploCentrosCSDPos[:,1]+xizq-1\n",
    "yypos=EjemploCentrosCSDPos[:,2]+ybajo-1\n",
    "valorpos=EjemploCentrosCSDPos[:,3]\n",
    "EjemploCentrosCSDNeg=readdlm(\"CenterOfMassCollector/CMPozos-$cuadro.dat\")\n",
    "xxneg=EjemploCentrosCSDNeg[:,1]+xizq-1\n",
    "yyneg=EjemploCentrosCSDNeg[:,2]+ybajo-1\n",
    "valorneg=EjemploCentrosCSDNeg[:,3];\n",
    "\n",
    "#scatter(xxpos,yypos, s=valorpos, alpha=0.4, c=\"r\", edgecolors=\"none\")\n",
    "#scatter(xxneg, yyneg, s=abs(valorneg), alpha=0.4, c=\"g\", edgecolors=\"none\")\n",
    "\n",
    "#scatter(xxpos,yypos, s=0.02*valorpos, alpha=0.9, c=\"yellow\", edgecolors=\"black\")\n",
    "scatter(xxneg, yyneg,s=0.02*abs(valorneg), alpha=0.9, c=\"black\", edgecolors=\"orange\", lw=2)\n",
    "\n",
    "#savefig(\"ComponentesNegativosyCM-$cuadro.svg\",dpi=90)"
   ]
  },
  {
   "cell_type": "code",
   "execution_count": 9,
   "metadata": {
    "collapsed": false
   },
   "outputs": [],
   "source": [
    "ioff()\n",
    "\n",
    "ImagenCSD=SubDatos[:,:,70];\n",
    "\n",
    "figure(figsize=(6,6))\n",
    "#axis(\"equal\")\n",
    "tick_params(labelbottom=\"on\", labelleft=\"on\")\n",
    "xticks(fontsize=20)\n",
    "yticks(fontsize=20)\n",
    "xlim(xizq-0.50,xder+0.5)\n",
    "ylim(ybajo-0.5,yalto+0.5)\n",
    "bolitasrojas=0\n",
    "bolitasazules=0\n",
    "minlargo=3\n",
    "marcagor=1000\n",
    "muevemin=0.5\n",
    "limcsd=180\n",
    "tight_layout()\n",
    "\n",
    "#guacafondo=imshow(ImagenCSD, cmap=\"bwr\", interpolation=\"nearest\", \n",
    "#origin=\"lower\", vmin=-limcsd, vmax=limcsd, extent=[xizq,xder,ybajo,yalto])\n",
    "\n",
    "for p in CatenarioPositivo\n",
    "    gordura=abs(map(Float32,p[:,3]))\n",
    "    desviax=std(map(Float32,p[:,1]))\n",
    "    desviay=std(map(Float32,p[:,2]))\n",
    "    longus,falsus=size(p)\n",
    "    if mean(gordura)> marcagor && (desviax>muevemin || desviay>muevemin) && longus> minlargo \n",
    "        #Si son chiquitos no nos interesan.\n",
    "        xxpos=p[:,1]+xizq\n",
    "        yypos=p[:,2]+ybajo    \n",
    "        tiempos=p[:,4]/7022\n",
    "        \n",
    "        scatter(xxpos,yypos,marker=\"o\",s=0.25*gordura, color=\"red\",alpha=0.3)\n",
    "        \n",
    "        plot(xxpos, yypos, marker=\"o\", markersize=1, color=\"darkorange\", lw=2)\n",
    "        #bolitasrojas=scatter(xxpos,yypos, s=gordura, \n",
    "        #edgecolors=\"none\", color=\"r\" )\n",
    "        inicios=scatter(xxpos[1],yypos[1], s=100, edgecolors=\"black\", \n",
    "        linewidth=1,\n",
    "        facecolor=\"maroon\", marker=\"o\",zorder=1999 )\n",
    "        \n",
    "        finales=scatter(xxpos[end],yypos[end], s=100, edgecolors=\"black\", \n",
    "        linewidth=1,facecolor=\"maroon\", marker=\"^\", label=\"Final\" ,zorder=2000)\n",
    "        \n",
    "      #  annotate(round(tiempos[1]*1000,1),  (xxpos[1], yypos[1]), fontsize=7, color=\"black\")\n",
    "      #  annotate(round(tiempos[end]*1000,1), (xxpos[end], yypos[end]), fontsize=7, color=\"green\")\n",
    "\n",
    "    end\n",
    "end\n",
    "\n",
    "\n",
    "\n",
    "\n",
    "for p in CatenarioNegativo\n",
    "    gordura=abs(map(Float32,p[:,3]))\n",
    "    desviax=std(map(Float32,p[:,1]))\n",
    "    desviay=std(map(Float32, p[:,2]))\n",
    "    longus,falsus=size(p)\n",
    "    if mean(gordura)>marcagor && (desviax>muevemin || desviay > muevemin) &&longus> minlargo\n",
    "        #Si son chiquitos no nos interesan.\n",
    "        xxpos=p[:,1]+xizq\n",
    "        yypos=p[:,2]+ybajo    \n",
    "        tiempos=p[:,4]/7022    \n",
    "        \n",
    "        scatter(xxpos,yypos,marker=\"o\", s=0.25*gordura, color=\"blue\",alpha=0.3)\n",
    "        \n",
    "        plot(xxpos, yypos, marker=\"o\", markersize=1, color=\"dodgerblue\", lw=2)\n",
    "        #bolitasazules=scatter(xxpos,yypos, s=gordura,\n",
    "        #edgecolors=\"none\", color=\"b\")\n",
    "        inicios=scatter(xxpos[1],yypos[1], s=100, edgecolors=\"black\", \n",
    "        linewidth=1,\n",
    "        facecolor=\"midnightblue\", marker=\"o\", label=\"Inicio\",zorder=1999 )\n",
    "        \n",
    "        finales=scatter(xxpos[end],yypos[end], s=100, edgecolors=\"black\", \n",
    "        linewidth=1,\n",
    "        facecolor=\"midnightblue\", marker=\"^\", label=\"Final\", zorder=2000 )\n",
    "      #  annotate(round(tiempos[1],4),  (xxpos[1], yypos[1]), fontsize=7, color=\"black\")\n",
    "      #  annotate(round(tiempos[end],4), (xxpos[end], yypos[end]), fontsize=7, color=\"green\")\n",
    "\n",
    "    end\n",
    "end\n",
    "\n",
    "savefig(\"TrayectoriasEvocadasGordura-$StringDatos-$marcagor.svg\",dpi=90)"
   ]
  },
  {
   "cell_type": "code",
   "execution_count": 25,
   "metadata": {
    "collapsed": false
   },
   "outputs": [
    {
     "data": {
      "text/plain": [
       "DespuesQue (generic function with 1 method)"
      ]
     },
     "execution_count": 25,
     "metadata": {},
     "output_type": "execute_result"
    }
   ],
   "source": [
    "function AntesQue(Datos::Array, tiempo)\n",
    "    Cadena=[0 0 0 0]\n",
    "    for a in eachindex(Datos[:,4])\n",
    "        if Datos[a,4]+39<tiempo\n",
    "            Cadena=vcat(Cadena, Datos[a,:])\n",
    "    end\n",
    "end\n",
    "    Cadena=Cadena[2:end,:]\n",
    "    return Cadena\n",
    "end\n",
    "\n",
    "\n",
    "function DespuesQue(Datos::Array, tiempo)\n",
    "    Cadena=[0 0 0 0]\n",
    "    for a in eachindex(Datos[:,4])\n",
    "        if Datos[a,4]+39>tiempo\n",
    "            Cadena=vcat(Cadena, Datos[a,:])\n",
    "    end\n",
    "end\n",
    "    Cadena=Cadena[2:end,:]\n",
    "    return Cadena\n",
    "end\n"
   ]
  },
  {
   "cell_type": "code",
   "execution_count": 60,
   "metadata": {
    "collapsed": false
   },
   "outputs": [],
   "source": [
    "ioff()\n",
    "\n",
    "otrostiemposinteresantes=47:90\n",
    "#for cuadro in tiemposinteresantes\n",
    "for cuadro in otrostiemposinteresantes\n",
    "\n",
    "\n",
    "ImagenCSD=SubDatos[:,:,cuadro];\n",
    "\n",
    "figure(figsize=(3,3))\n",
    "#axis(\"equal\")\n",
    " \n",
    "\n",
    "limcsd=180\n",
    "\n",
    "milisec=round((cuadro-retraso)/7.022,1)\n",
    "\n",
    "title(\"t= $milisec ms\", fontdict=font1)\n",
    "   \n",
    "    \n",
    "tick_params(labelbottom=\"on\", labelleft=\"on\", direction=\"out\")\n",
    "xticks(fontsize=10)\n",
    "yticks(fontsize=10)\n",
    "xlim(xizq-0.10,xder+0.1)\n",
    "ylim(ybajo-0.1,yalto+0.1)\n",
    "bolitasrojas=0\n",
    "bolitasazules=0\n",
    "minlargo=4\n",
    "marcagor=100\n",
    "maxgor=85000\n",
    "muevemin=0.5\n",
    "limcsd=180\n",
    "    mintiempo=47\n",
    "    \n",
    "tight_layout()\n",
    "\n",
    "    guacafondo=imshow(ImagenCSD, cmap=\"bwr\", interpolation=\"nearest\", \n",
    "    origin=\"lower\", vmin=-limcsd, vmax=limcsd, extent=[xizq,xder,ybajo,yalto])\n",
    "\n",
    "for p in CatenarioPositivo\n",
    "    gordura=abs(map(Float32,p[:,3]))\n",
    "    desviax=std(map(Float32,p[:,1]))\n",
    "    desviay=std(map(Float32,p[:,2]))\n",
    "    paux=AntesQue(p,cuadro+1)\n",
    "        paux=DespuesQue(paux,mintiempo)\n",
    "    cucho,fleto=size(paux)\n",
    "     longus,falsus=size(p)\n",
    "        frase=(mean(gordura)> marcagor && longus>minlargo && mean(gordura)<maxgor &&\n",
    "            (desviax>muevemin || desviay>muevemin) &&cucho>0)\n",
    "     #   println(longus, \" \", minlargo,\" \", frase)\n",
    "       \n",
    "        if frase\n",
    "        #Si son chiquitos no nos interesan.\n",
    "        xxpos=paux[:,1]+xizq-1\n",
    "        yypos=paux[:,2]+ybajo-1\n",
    "            gordis=abs(map(Float32, paux[:,3]))\n",
    "        tiempos=round((paux[:,4]-retraso+40)/7.022,1)   \n",
    "            plot(xxpos, yypos, marker=\"o\", markersize=1, color=\"orange\", lw=1,zorder=1998)\n",
    "            \n",
    "            scatter(xxpos[end],yypos[end],marker=\"o\",s=0.125*gordura, color=\"red\",alpha=0.3)\n",
    "            \n",
    "        #bolitasrojas=scatter(xxpos,yypos, s=gordura, \n",
    "        #edgecolors=\"none\", color=\"r\" )\n",
    "        inicios=scatter(xxpos[1],yypos[1], s=40, edgecolors=\"black\", \n",
    "        linewidth=2,\n",
    "            facecolor=\"maroon\", marker=\"o\",zorder=1999 )\n",
    "            \n",
    "        if paux[end,1]==p[end,1]\n",
    "                finales=scatter(xxpos[end],yypos[end], s=40, edgecolors=\"orange\", \n",
    "                linewidth=1,facecolor=\"crimson\", marker=\"^\", label=\"Final\",zorder=2000 )\n",
    "        else\n",
    "                finales=scatter(xxpos[end],yypos[end], s=40, edgecolors=\"crimson\", \n",
    "                linewidth=2,facecolor=\"none\", marker=\"^\", label=\"Final\",zorder=2000 )\n",
    "         end\n",
    "      #  an\n",
    "      #  annotate(round(tiempos[1]*1000,1),  (xxpos[1], yypos[1]), fontsize=7, color=\"black\")\n",
    "      #  annotate(tiempos[end], (xxpos[end], yypos[end]), fontsize=15, color=\"green\")\n",
    "      #      scatter(xxpos[end],yypos[end], s=gordis[end]*0.5, alpha=0.5, \n",
    "       #     c=\"darkorange\", edgecolors=\"none\")\n",
    "    end\n",
    "\n",
    "end\n",
    "\n",
    "\n",
    "\n",
    "\n",
    "for p in CatenarioNegativo\n",
    "    gordura=abs(map(Float32,p[:,3]))\n",
    "    desviax=std(map(Float32,p[:,1]))\n",
    "    desviay=std(map(Float32, p[:,2]))\n",
    "    \n",
    "    paux=AntesQue(p,cuadro+1)\n",
    "        paux=DespuesQue(paux,mintiempo)\n",
    "    cucho,fleto=size(paux)\n",
    "     longus,falsus=size(p)\n",
    "    #    println(\"Hola, soy asi de gordo \", mean(gordura))\n",
    "        \n",
    "        if mean(gordura)>marcagor && longus>minlargo &&mean(gordura)<maxgor &&\n",
    "            (desviax>muevemin || desviay > muevemin) && cucho>0\n",
    "        #Si son chiquitos no nos interesan.\n",
    "        xxpos=paux[:,1]+xizq\n",
    "        yypos=paux[:,2]+ybajo    \n",
    "        gordis=abs(map(Float32, paux[:,3]))\n",
    "  \n",
    "            #  tiempos= round(paux[:,4]-retraso)/7.022,1)   \n",
    "            plot(xxpos, yypos, marker=\"o\", markersize=1, color=\"cyan\", lw=1,zorder=1998)\n",
    "      \n",
    "            scatter(xxpos[end],yypos[end],marker=\"o\", s=0.125*gordura, color=\"blue\",alpha=0.3)\n",
    "            \n",
    "            inicios=scatter(xxpos[1],yypos[1], s=40, edgecolors=\"black\", \n",
    "        linewidth=2,\n",
    "            facecolor=\"midnightblue\", alpha=0.7, marker=\"o\", label=\"Final\",zorder=1999 \n",
    "            \n",
    "            )\n",
    "            \n",
    "            \n",
    "            if paux[end,1]==p[end,1]\n",
    "                finales=scatter(xxpos[end],yypos[end], s=40, edgecolors=\"cyan\", \n",
    "        linewidth=1,\n",
    "                facecolor=\"midnightblue\", marker=\"^\", label=\"Final\",zorder=2000 )\n",
    "            else\n",
    "                finales=scatter(xxpos[end],yypos[end], s=40, edgecolors=\"cyan\", \n",
    "        linewidth=2,\n",
    "                facecolor=\"none\", marker=\"^\", label=\"Final\" ,zorder=2000)\n",
    "            end\n",
    "   \n",
    "\n",
    "    end\n",
    "end\n",
    "\n",
    "    savefig(\"CSDyTray-$StringDatos-$cuadro.png\",dpi=90)\n",
    "    \n",
    "end"
   ]
  },
  {
   "cell_type": "markdown",
   "metadata": {},
   "source": [
    "Una vez terminado esto, podemos hacer un convert -delay 10 CuadroTrayyGordos-Bla* .-loop 0 AnimacionBla.gif\n",
    "      "
   ]
  },
  {
   "cell_type": "code",
   "execution_count": 40,
   "metadata": {
    "collapsed": false
   },
   "outputs": [
    {
     "name": "stdout",
     "output_type": "stream",
     "text": [
      "search: zero zeros spzeros nonzeros set_zero_subnormals get_zero_subnormals\n",
      "\n"
     ]
    },
    {
     "data": {
      "text/latex": [
       "\\begin{verbatim}\n",
       "zero(x)\n",
       "\\end{verbatim}\n",
       "Get the additive identity element for the type of \\texttt{x} (\\texttt{x} can also specify the type itself).\n"
      ],
      "text/markdown": [
       "```\n",
       "zero(x)\n",
       "```\n",
       "\n",
       "Get the additive identity element for the type of `x` (`x` can also specify the type itself).\n"
      ],
      "text/plain": [
       "```\n",
       "zero(x)\n",
       "```\n",
       "\n",
       "Get the additive identity element for the type of `x` (`x` can also specify the type itself).\n"
      ]
     },
     "execution_count": 40,
     "metadata": {},
     "output_type": "execute_result"
    }
   ],
   "source": [
    "?zero"
   ]
  },
  {
   "cell_type": "code",
   "execution_count": 20,
   "metadata": {
    "collapsed": false
   },
   "outputs": [
    {
     "data": {
      "text/plain": [
       "Set(Array{Any,N}[\n",
       "5x4 Array{Any,2}:\n",
       " 16.3266  25.0     -109.72    122.0\n",
       " 17.3817  25.5244  -180.654   123.0\n",
       " 16.1703  26.2516   -97.8237  124.0\n",
       " 16.3658  24.2922  -251.295   125.0\n",
       " 15.8934  23.9984  -220.72    126.0,\n",
       "\n",
       "3x4 Array{Any,2}:\n",
       " 24.4601  18.367   -481.489  93.0\n",
       " 24.6016  18.0     -196.728  94.0\n",
       " 26.0459  17.7259  -101.157  95.0,\n",
       "\n",
       "4x4 Array{Any,2}:\n",
       " 26.6713  26.2681  -235.222  12.0\n",
       " 26.5932  26.522   -213.537  13.0\n",
       " 26.1263  26.7813  -179.718  14.0\n",
       " 26.4669  26.4378  -235.692  15.0,\n",
       "\n",
       "4x4 Array{Any,2}:\n",
       " 25.5302  26.676   -308.493  23.0\n",
       " 25.6337  26.5709  -226.941  24.0\n",
       " 25.6878  27.0     -190.827  25.0\n",
       " 25.7029  26.8829  -212.251  26.0,\n",
       "\n",
       "4x4 Array{Any,2}:\n",
       " 7.92131  3.69852  -132.926  132.0\n",
       " 6.6786   4.66851  -139.255  133.0\n",
       " 7.16026  4.27733  -225.629  134.0\n",
       " 6.26396  2.71103  -242.252  135.0,\n",
       "\n",
       "5x4 Array{Any,2}:\n",
       "  7.64397  20.5202  -231.799   69.0\n",
       "  7.33038  19.8245  -115.348   70.0\n",
       "  9.14051  19.4702  -263.611   71.0\n",
       "  8.66312  18.4365  -187.393   72.0\n",
       " 10.5034   18.7511   -90.9392  73.0,\n",
       "\n",
       "10x4 Array{Any,2}:\n",
       " 12.0033  26.9367  -394.23   10.0\n",
       " 13.0081  26.4706  -589.165  11.0\n",
       " 12.1984  26.7726  -445.569  12.0\n",
       " 12.9234  26.4236  -527.393  13.0\n",
       " 12.1041  26.8869  -362.511  14.0\n",
       " 12.5676  26.7134  -488.016  15.0\n",
       " 12.0036  26.94    -362.461  16.0\n",
       " 12.1381  26.8424  -287.506  17.0\n",
       " 12.8132  26.5839  -525.237  18.0\n",
       " 12.8306  26.5789  -497.302  19.0,\n",
       "\n",
       "3x4 Array{Any,2}:\n",
       " 1.74288  23.1094  -193.893  34.0\n",
       " 2.77103  22.8104  -150.057  35.0\n",
       " 2.99184  23.0     -157.223  36.0,\n",
       "\n",
       "3x4 Array{Any,2}:\n",
       " 18.0051  21.132   -176.211  89.0\n",
       " 17.214   22.1566  -419.206  90.0\n",
       " 18.2077  21.9726  -390.584  91.0,\n",
       "\n",
       "3x4 Array{Any,2}:\n",
       " 11.8243  12.5679  -428.842  72.0\n",
       " 13.1823  12.3848  -343.121  73.0\n",
       " 12.6174  12.234   -229.921  74.0  …  \n",
       "3x4 Array{Any,2}:\n",
       " 6.61849  3.04122  -103.514   69.0\n",
       " 7.52136  4.46309   -85.1895  70.0\n",
       " 8.77328  5.41968  -373.792   71.0,\n",
       "\n",
       "5x4 Array{Any,2}:\n",
       " 24.3125  1.25988  -454.881  3.0\n",
       " 24.3014  1.21281  -271.709  4.0\n",
       " 24.1358  1.0      -196.94   5.0\n",
       " 24.8378  2.51377  -390.089  6.0\n",
       " 24.4093  1.0      -142.713  7.0,\n",
       "\n",
       "3x4 Array{Any,2}:\n",
       " 24.3477  26.2988  -267.852  48.0\n",
       " 24.8973  26.2728  -202.707  49.0\n",
       " 23.0605  26.0     -143.105  50.0,\n",
       "\n",
       "3x4 Array{Any,2}:\n",
       " 18.9995  14.197   -165.182  65.0\n",
       " 18.9364  14.6912  -321.529  66.0\n",
       " 18.5956  15.7485  -141.18   67.0,\n",
       "\n",
       "3x4 Array{Any,2}:\n",
       " 9.57682  12.2335  -125.613  86.0\n",
       " 7.94805  11.5421  -167.417  87.0\n",
       " 8.34678  12.1368  -217.165  88.0,\n",
       "\n",
       "4x4 Array{Any,2}:\n",
       " 10.0107  23.8786  -751.487  1.0\n",
       " 10.0515  23.8544  -697.281  2.0\n",
       " 10.0495  23.9774  -673.98   3.0\n",
       " 10.0631  23.8905  -742.664  4.0,\n",
       "\n",
       "4x4 Array{Any,2}:\n",
       " 20.7428  16.1922  -313.896  107.0\n",
       " 20.5945  16.4572  -207.675  108.0\n",
       " 21.4715  16.97    -117.159  109.0\n",
       " 20.8606  17.123   -168.796  110.0,\n",
       "\n",
       "6x4 Array{Any,2}:\n",
       " 24.8974  20.9691   -937.359  15.0\n",
       " 25.2066  19.9286  -1227.37   16.0\n",
       " 23.842   18.9953  -2389.06   17.0\n",
       " 22.9143  17.9784  -2882.11   18.0\n",
       " 22.8217  17.5679  -3348.53   19.0\n",
       " 22.6759  17.6589  -4481.89   20.0,\n",
       "\n",
       "3x4 Array{Any,2}:\n",
       " 11.6609  18.7132  -1973.39   56.0\n",
       " 12.3634  18.3764  -1141.55   57.0\n",
       " 11.0211  18.3648   -841.096  58.0,\n",
       "\n",
       "3x4 Array{Any,2}:\n",
       " 20.372   3.0      -159.577   100.0\n",
       " 19.2871  3.30725   -80.1782  101.0\n",
       " 20.2117  3.37216  -123.081   102.0])"
      ]
     },
     "execution_count": 20,
     "metadata": {},
     "output_type": "execute_result"
    }
   ],
   "source": [
    "CatenarioNegativo"
   ]
  },
  {
   "cell_type": "code",
   "execution_count": null,
   "metadata": {
    "collapsed": true
   },
   "outputs": [],
   "source": []
  }
 ],
 "metadata": {
  "kernelspec": {
   "display_name": "Julia 0.4.2-pre",
   "language": "julia",
   "name": "julia-0.4"
  },
  "language_info": {
   "file_extension": ".jl",
   "mimetype": "application/julia",
   "name": "julia",
   "version": "0.4.2"
  }
 },
 "nbformat": 4,
 "nbformat_minor": 0
}
