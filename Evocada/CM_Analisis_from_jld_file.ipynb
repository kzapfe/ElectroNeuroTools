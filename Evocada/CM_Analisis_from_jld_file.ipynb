{
 "cells": [
  {
   "cell_type": "markdown",
   "metadata": {
    "deletable": true,
    "editable": true
   },
   "source": [
    "   ## CM de Actividad Evocada\n",
    "   Aquí cargaremos las funciones que permiten tener el CM de Pozos y Fuentes a partir de los datos analizados en el Notebook aledaño. "
   ]
  },
  {
   "cell_type": "code",
   "execution_count": 1,
   "metadata": {
    "collapsed": false,
    "deletable": true,
    "editable": true
   },
   "outputs": [
    {
     "data": {
      "text/plain": [
       "false"
      ]
     },
     "execution_count": 1,
     "metadata": {},
     "output_type": "execute_result"
    }
   ],
   "source": [
    "using JLD\n",
    "using PyPlot\n",
    "matplotlib[:rcParams][:\"svg.image_noscale\"]=false"
   ]
  },
  {
   "cell_type": "code",
   "execution_count": 2,
   "metadata": {
    "collapsed": false,
    "deletable": true,
    "editable": true
   },
   "outputs": [
    {
     "data": {
      "text/plain": [
       "\"3R11\""
      ]
     },
     "execution_count": 2,
     "metadata": {},
     "output_type": "execute_result"
    }
   ],
   "source": [
    "StringDatos=\"3R11\""
   ]
  },
  {
   "cell_type": "code",
   "execution_count": 3,
   "metadata": {
    "collapsed": false,
    "deletable": true,
    "editable": true
   },
   "outputs": [
    {
     "data": {
      "text/plain": [
       "7.020800706028248"
      ]
     },
     "execution_count": 3,
     "metadata": {},
     "output_type": "execute_result"
    }
   ],
   "source": [
    "carganombre=string(\"CSDEvocada_\",StringDatos,\".jld\")\n",
    "CSD=load(carganombre, \"CSD\")\n",
    "CSDPlanchado=load(carganombre, \"CSDPlanchada\")\n",
    "CSDPromedio=CSD[\"Trancazo_1\"]+CSD[\"Trancazo_2\"]+CSD[\"Trancazo_3\"]\n",
    "CSDPlanchadoPromedio=CSDPlanchado[\"Trancazo_1\"]+CSDPlanchado[\"Trancazo_2\"]+CSDPlanchado[\"Trancazo_3\"];\n",
    "freq=load(carganombre, \"freq\")"
   ]
  },
  {
   "cell_type": "code",
   "execution_count": 4,
   "metadata": {
    "collapsed": false,
    "deletable": true,
    "editable": true
   },
   "outputs": [
    {
     "data": {
      "text/plain": [
       "(63,70,77,84,91,98)"
      ]
     },
     "execution_count": 4,
     "metadata": {},
     "output_type": "execute_result"
    }
   ],
   "source": [
    "xizq=22\n",
    "xder=48\n",
    "ybajo=4\n",
    "yalto=30\n",
    "tmax=size(CSDPromedio)[3]\n",
    "tiemposinteresantes=(63,70,77,84,91,98)"
   ]
  },
  {
   "cell_type": "code",
   "execution_count": 5,
   "metadata": {
    "collapsed": false,
    "deletable": true,
    "editable": true
   },
   "outputs": [
    {
     "data": {
      "text/plain": [
       "vecindad8 (generic function with 1 method)"
      ]
     },
     "execution_count": 5,
     "metadata": {},
     "output_type": "execute_result"
    }
   ],
   "source": [
    "function vecindad8(punto::Array)\n",
    "    j=punto[1]\n",
    "    k=punto[2]\n",
    "    result=Set{Array{Int64,1}}()\n",
    "    push!(result, [j-1,k-1])\n",
    "    push!(result, [j-1,k])\n",
    "    push!(result, [j-1,k+1])\n",
    "    push!(result, [j,k-1])\n",
    "    push!(result, [j,k+1])\n",
    "    push!(result, [j+1,k-1])\n",
    "    push!(result, [j+1,k])\n",
    "    push!(result, [j+1,k+1])\n",
    "    return result\n",
    "end"
   ]
  },
  {
   "cell_type": "code",
   "execution_count": 6,
   "metadata": {
    "collapsed": false,
    "deletable": true,
    "editable": true
   },
   "outputs": [
    {
     "data": {
      "text/plain": [
       "ComponenteLista (generic function with 3 methods)"
      ]
     },
     "execution_count": 6,
     "metadata": {},
     "output_type": "execute_result"
    }
   ],
   "source": [
    "function ComponenteLista(Datos::Array, epsilon=1.0, tau=300)\n",
    "    #Solo obten componentes de un frame y escribelos.  \n",
    "    #iniciar variables vacias\n",
    "    ActividadNegativa=Array{Int16}[]\n",
    "    ActividadPositiva=Array{Int16}[]\n",
    "    (mu,nu,lu)=size(Datos)\n",
    "    SpikeCountPositivo=zeros(mu,nu)\n",
    "    SpikeCountNegativo=zeros(mu,nu)\n",
    "    #Todos\n",
    "    for j=1:mu, k=1:nu\n",
    "            if(Datos[j,k,tau]<-epsilon)     \n",
    "            push!(ActividadNegativa, [j, k])\n",
    "            SpikeCountNegativo[j,k]+=1\n",
    "                elseif(Datos[j,k,tau]>epsilon)\n",
    "            push!(ActividadPositiva, [j, k])\n",
    "            SpikeCountPositivo[j,k]+=1\n",
    "        end             \n",
    "    end\n",
    "\n",
    "    #Simple pass method\n",
    "    listaneg=copy(ActividadNegativa)\n",
    "    listapos=copy(ActividadPositiva)\n",
    "    componentesneg=Set{Any}()\n",
    "    componentespos=Set{Any}()\n",
    "    \n",
    "    \n",
    "    #Primero lo negativo (pozos)\n",
    "    while(length(listaneg)!=0)\n",
    "        x=pop!(listaneg) #arranca el ULTIMO elemento de la lista\n",
    "        listaprofundeza=Array{Int64}[]\n",
    "        componentecurlab=Array{Int64}[]\n",
    "        push!(listaprofundeza, x) #Pone elementos al FINAL de la lista\n",
    "        push!(componentecurlab, x)    \n",
    "        profundidad=0\n",
    "        while ((length(listaprofundeza)!=0) && profundidad<4000)\n",
    "            y=pop!(listaprofundeza)\n",
    "            for v in vecindad8(y)\n",
    "                if in(v, listaneg)\n",
    "             #   \n",
    "                        deleteat!(listaneg, indexin(Any[v], listaneg))\n",
    "                    push!(listaprofundeza, v)\n",
    "                    profundidad+=1\n",
    "                    push!(componentecurlab, v)\n",
    "                end\n",
    "            end\n",
    "        end\n",
    "    # println(\"Para \", x, \"la profundidad fue \", profundidad)\n",
    "        \n",
    "        push!(componentesneg, componentecurlab)\n",
    "    end\n",
    "\n",
    "\n",
    "    etiqueta=0\n",
    "    outfile = open(\"ComponenteCollector/CompNeg-$tau.dat\", \"w\")\n",
    "    \n",
    "    for p in componentesneg\n",
    "        etiqueta+=1\n",
    "    \n",
    "        for q in p\n",
    "            j=q[2]\n",
    "            k=q[1]\n",
    "            masalocal=Datos[j,k,tau]\n",
    "            write(outfile,join((j,k,masalocal,etiqueta), \"\\t\"),\"\\n\")\n",
    "        end\n",
    "        write(outfile, \"\\n\")\n",
    "    end\n",
    "    close(outfile)    \n",
    "    \n",
    "\n",
    "    ##### Ahora lo posittivo (fuentes)\n",
    "    while(length(listapos)!=0)\n",
    "        x=pop!(listapos) #arranca el ULTIMO elemento de la lista\n",
    "        listaprofundeza=Array{Int64}[]\n",
    "        componentecurlab=Array{Int64}[]\n",
    "        push!(listaprofundeza, x) #Pone elementos al FINAL de la lista\n",
    "        push!(componentecurlab, x)    \n",
    "        profundidad=0\n",
    "        while ((length(listaprofundeza)!=0) && profundidad<4000)\n",
    "            y=pop!(listaprofundeza)\n",
    "            for v in vecindad8(y)\n",
    "                if in(v, listapos)\n",
    "             #   \n",
    "                        deleteat!(listapos, indexin(Any[v], listapos))\n",
    "                    push!(listaprofundeza, v)\n",
    "                    profundidad+=1\n",
    "                    push!(componentecurlab, v)\n",
    "                end\n",
    "            end\n",
    "        end\n",
    "    # println(\"Para \", x, \"la profundidad fue \", profundidad)\n",
    "        \n",
    "        push!(componentespos, componentecurlab)\n",
    "    end\n",
    "\n",
    "\n",
    "    etiqueta=0\n",
    "    outfile = open(\"ComponenteCollector/CompPos-$tau.dat\", \"w\")\n",
    "    \n",
    "    for p in componentespos\n",
    "        etiqueta+=1\n",
    "    \n",
    "        for q in p\n",
    "            j=q[2]\n",
    "            k=q[1]\n",
    "            masalocal=Datos[j,k,tau]\n",
    "            write(outfile,join((j,k,masalocal,etiqueta), \"\\t\"),\"\\n\")\n",
    "        end\n",
    "        write(outfile, \"\\n\")\n",
    "    end\n",
    "    close(outfile)    \n",
    "    \n",
    "end"
   ]
  },
  {
   "cell_type": "code",
   "execution_count": 7,
   "metadata": {
    "collapsed": false,
    "deletable": true,
    "editable": true
   },
   "outputs": [
    {
     "data": {
      "text/plain": [
       "ObtenComponentesYEscribe (generic function with 4 methods)"
      ]
     },
     "execution_count": 7,
     "metadata": {},
     "output_type": "execute_result"
    }
   ],
   "source": [
    "function ObtenComponentesYEscribe(Datos::Array, tini=1, tfini=tmax, epsilon=1.0)\n",
    "    #CSD ahora no tiene orillas. Asi que toca adaptarse.\n",
    "    (alto,ancho,lu)=size(Datos)\n",
    "    #la cantidad minima de pixeles que tiene que tener un componente para\n",
    "    #que lo tomemeos en cuenta\n",
    "    tamano=3\n",
    "    \n",
    " for t=tini:tfini\n",
    "    #iniciar variables vacias\n",
    "    ActividadNegativa=Array{Int16}[]\n",
    "    ActividadPositiva=Array{Int16}[]\n",
    "        SpikeCountPositivo=zeros(alto,ancho)\n",
    "        SpikeCountNegativo=zeros(alto,ancho)\n",
    "    #Todos\n",
    "        for j=1:alto, k=1:ancho\n",
    "            if(Datos[j,k,t]<-epsilon)     \n",
    "            push!(ActividadNegativa, [j, k])\n",
    "            SpikeCountNegativo[j,k]+=1\n",
    "                elseif(Datos[j,k,t]>epsilon)\n",
    "            push!(ActividadPositiva, [j, k])\n",
    "            SpikeCountPositivo[j,k]+=1\n",
    "        end             \n",
    "    end\n",
    "\n",
    "    #Simple pass method\n",
    "    listaneg=copy(ActividadNegativa)\n",
    "    listapos=copy(ActividadPositiva)\n",
    "    componentesneg=Set{Any}()\n",
    "    componentespos=Set{Any}()\n",
    "    #Primero lo negativo (pozos)\n",
    "    while(length(listaneg)!=0)\n",
    "        x=pop!(listaneg) #arranca el ULTIMO elemento de la lista\n",
    "        listaprofundeza=Array{Int64}[]\n",
    "        componentecurlab=Array{Int64}[]\n",
    "        push!(listaprofundeza, x) #Pone elementos al FINAL de la lista\n",
    "        push!(componentecurlab, x)    \n",
    "        profundidad=0\n",
    "        while ((length(listaprofundeza)!=0) && profundidad<1000)\n",
    "            y=pop!(listaprofundeza)\n",
    "            for v in vecindad8(y)\n",
    "                if in(v, listaneg)\n",
    "             #   \n",
    "                        deleteat!(listaneg, indexin(Any[v], listaneg))\n",
    "                    push!(listaprofundeza, v)\n",
    "                    profundidad+=1\n",
    "                    push!(componentecurlab, v)\n",
    "                end\n",
    "            end\n",
    "        end\n",
    "    # println(\"Para \", x, \"la profundidad fue \", profundidad)\n",
    "        \n",
    "        push!(componentesneg, componentecurlab)\n",
    "    end\n",
    "\n",
    "\n",
    "    centrosdemasaneg=[[0 0 0];]\n",
    "    for p in componentesneg\n",
    "        mu=length(p)\n",
    "            \n",
    "        if mu>tamano\n",
    "            masa=0.00\n",
    "            x=0.00\n",
    "            y=0.00\n",
    "            for q in p\n",
    "                j=q[1]\n",
    "                k=q[2]\n",
    "                masalocal=Datos[j,k,t]\n",
    "                masa+=masalocal\n",
    "                x+=k*masalocal\n",
    "                y+=j*masalocal\n",
    "            end\n",
    "            x/=masa\n",
    "            y/=masa\n",
    "            A=[x y masa]\n",
    "            centrosdemasaneg=vcat(centrosdemasaneg, A)\n",
    "        end\n",
    "    end\n",
    "        \n",
    "    centrosdemasaneg=centrosdemasaneg[2:end,:]\n",
    "        zacatlan=\"CenterOfMassCollector/CMPozos-$t.dat\"\n",
    "    writedlm(zacatlan, centrosdemasaneg)\n",
    "        \n",
    "        \n",
    "    ##### Ahora lo posittivo (fuentes)\n",
    "    while(length(listapos)!=0)\n",
    "        x=pop!(listapos) #arranca el ULTIMO elemento de la lista\n",
    "        listaprofundeza=Array{Int64}[]\n",
    "        componentecurlab=Array{Int64}[]\n",
    "        push!(listaprofundeza, x) #Pone elementos al FINAL de la lista\n",
    "        push!(componentecurlab, x)    \n",
    "        profundidad=0\n",
    "        while ((length(listaprofundeza)!=0) && profundidad<1000)\n",
    "            y=pop!(listaprofundeza)\n",
    "            for v in vecindad8(y)\n",
    "                if in(v, listapos)\n",
    "             #   \n",
    "                        deleteat!(listapos, indexin(Any[v], listapos))\n",
    "                    push!(listaprofundeza, v)\n",
    "                    profundidad+=1\n",
    "                    push!(componentecurlab, v)\n",
    "                end\n",
    "            end\n",
    "        end\n",
    "    # println(\"Para \", x, \"la profundidad fue \", profundidad)\n",
    "        \n",
    "        push!(componentespos, componentecurlab)\n",
    "    end\n",
    "\n",
    "\n",
    "    centrosdemasapos=[[0 0 0];]\n",
    "    for p in componentespos\n",
    "            mu=length(p)\n",
    "        if mu>tamano\n",
    "            masa=0.00\n",
    "            x=0.00\n",
    "            y=0.00\n",
    "            for q in p\n",
    "                j=q[1]\n",
    "                k=q[2]\n",
    "                masalocal=Datos[j,k,t]\n",
    "                masa+=masalocal\n",
    "                x+=k*masalocal\n",
    "                y+=j*masalocal\n",
    "            end\n",
    "            x/=masa\n",
    "            y/=masa\n",
    "            A=[x y masa]\n",
    "            centrosdemasapos=vcat(centrosdemasapos, A)\n",
    "        end\n",
    "    end\n",
    "        \n",
    "    centrosdemasapos=centrosdemasapos[2:end,:]\n",
    "    \n",
    "        \n",
    "    zacatlan=\"CenterOfMassCollector/CMFuentes-$t.dat\"\n",
    "    writedlm(zacatlan, centrosdemasapos)\n",
    "end\n",
    "    return 0\n",
    "end"
   ]
  },
  {
   "cell_type": "code",
   "execution_count": 8,
   "metadata": {
    "collapsed": false,
    "deletable": true,
    "editable": true
   },
   "outputs": [
    {
     "data": {
      "text/plain": [
       "leeunmegaarray (generic function with 3 methods)"
      ]
     },
     "execution_count": 8,
     "metadata": {},
     "output_type": "execute_result"
    }
   ],
   "source": [
    "function leeunmegaarray(NomineGeneralis::AbstractString, desde=35, hasta=501)\n",
    "    LeMegaArray=Array[]\n",
    "    for t=desde:hasta\n",
    "      #  println(\"$NomineGeneralis-$t.dat\")\n",
    "        CMx=readdlm(\"$NomineGeneralis-$t.dat\")\n",
    "        push!(LeMegaArray, CMx)\n",
    "    end\n",
    "    return LeMegaArray\n",
    "end"
   ]
  },
  {
   "cell_type": "code",
   "execution_count": 9,
   "metadata": {
    "collapsed": false,
    "deletable": true,
    "editable": true
   },
   "outputs": [
    {
     "data": {
      "text/plain": [
       "dist2D (generic function with 1 method)"
      ]
     },
     "execution_count": 9,
     "metadata": {},
     "output_type": "execute_result"
    }
   ],
   "source": [
    "function dist2D(x::Array,y::Array)\n",
    "    result=sqrt((x[1]-y[1])^2+(x[2]-y[2])^2)\n",
    "    return result\n",
    "end"
   ]
  },
  {
   "cell_type": "code",
   "execution_count": 10,
   "metadata": {
    "collapsed": false,
    "deletable": true,
    "editable": true
   },
   "outputs": [
    {
     "data": {
      "text/plain": [
       "encuentraTrayectorias (generic function with 2 methods)"
      ]
     },
     "execution_count": 10,
     "metadata": {},
     "output_type": "execute_result"
    }
   ],
   "source": [
    "function encuentraTrayectorias(Datos::Array, mincadena=20)\n",
    "\n",
    "toleradist=6.0*sqrt(2)\n",
    "tau=1\n",
    "t=1\n",
    "j=1\n",
    "Catenario=Set{Array{Any}}()\n",
    "Cadena=[0 0 0 0]\n",
    "    CopiaMegaArray=deepcopy(Datos);\n",
    "    NumFrames=length(Datos)\n",
    "FakeNumFrames=NumFrames\n",
    "\n",
    "\n",
    "\n",
    "while t <= FakeNumFrames-1 \n",
    "    \n",
    "    tau=t\n",
    "    \n",
    "    @label arrrrh\n",
    "  \n",
    "    jmax,nada= size(CopiaMegaArray[tau])\n",
    "    \n",
    "    while j <=jmax && tau<FakeNumFrames\n",
    "        \n",
    "            if abs(CopiaMegaArray[tau][j,3]) > 0.05\n",
    "                       \n",
    "            Eslabon=[copy(CopiaMegaArray[tau][j,:]) tau]\n",
    "            Cadena=vcat(Cadena, Eslabon)\n",
    "         #   println(\"Papa t: \", t, \"  tau: \", tau, \" y  j: \",j )\n",
    "            mindist=2\n",
    "            kasterisco=1\n",
    "            kmax, nada= size(CopiaMegaArray[tau+1])\n",
    "            huboalgo=false\n",
    "          \n",
    "        #    kmax=5\n",
    "            \n",
    "            for k=1:kmax\n",
    "                \n",
    "                EslabonTentativo=CopiaMegaArray[tau+1][k,:]\n",
    "            #    println(EslabonTentativo)\n",
    "                    if abs(EslabonTentativo[3])>0.05\n",
    "                    dist=dist2D(Eslabon,EslabonTentativo)                  \n",
    "                    if dist<mindist\n",
    "                        mindist=dist\n",
    "                        kasterisco=k\n",
    "                        \n",
    "                       # println(kasterisco, \"=k*\", k, \"=k\")\n",
    "                        huboalgo=true\n",
    "                    end\n",
    "                end\n",
    "            \n",
    "            end    \n",
    "            \n",
    "            if huboalgo && mindist<toleradist\n",
    "                #quitamos el anterior\n",
    "                CopiaMegaArray[tau][j,3]=0.0000 \n",
    "               # println(mindist,\" \", t, \" \", tau+1 ,\" \", kasterisco )\n",
    "                \n",
    "                if tau+1<FakeNumFrames\n",
    "                    tau+=1\n",
    "                    j=kasterisco\n",
    "      #              println(\"Pepe t: \", t, \"  tau: \", tau, \" y  j: \",j )\n",
    "                    @goto arrrrh\n",
    "                \n",
    "                else\n",
    "                    \n",
    "                    Eslabon=[copy(CopiaMegaArray[tau+1][kasterisco,:]) tau+1]\n",
    "                    Cadena=vcat(Cadena, Eslabon)\n",
    "      #              println(\"Pipi t: \", t, \"  t: \", t, \" y  j: \",j )\n",
    "                    j+=1\n",
    "                    tau=t\n",
    "                    \n",
    "                    if size(Cadena)[1]>mincadena\n",
    "                        push!(Catenario, Cadena[2:end,:])\n",
    "                    end\n",
    "                    \n",
    "                    Cadena=[0 0 0 0]\n",
    "                    @goto arrrrh\n",
    "                end\n",
    "                                \n",
    "            else\n",
    "                \n",
    "                if size(Cadena)[1]>mincadena\n",
    "                    push!(Catenario, Cadena[2:end,:])\n",
    "                end\n",
    "                Cadena=[0 0 0 0]\n",
    "                j+=1\n",
    "                tau=t\n",
    "                @goto arrrrh\n",
    "            end\n",
    "                       \n",
    "        end #cierra sobre el if de  la masa \n",
    "                \n",
    "        j+=1                    \n",
    "        tau=t\n",
    "    \n",
    "    end\n",
    "    @label urrr\n",
    "      \n",
    "    j=1\n",
    "    t+=1\n",
    "    tau=t\n",
    "    Cadena=[0 0 0 0]\n",
    "end \n",
    "    \n",
    "    return Catenario\n",
    "end"
   ]
  },
  {
   "cell_type": "code",
   "execution_count": 11,
   "metadata": {
    "collapsed": false,
    "deletable": true,
    "editable": true
   },
   "outputs": [],
   "source": [
    "SubCSD=getindex(CSDPromedio, ybajo:yalto,xizq:xder,1:tmax);"
   ]
  },
  {
   "cell_type": "code",
   "execution_count": 12,
   "metadata": {
    "collapsed": true,
    "deletable": true,
    "editable": true
   },
   "outputs": [],
   "source": [
    "ComponenteLista(SubCSD, 15, 91)"
   ]
  },
  {
   "cell_type": "code",
   "execution_count": 13,
   "metadata": {
    "collapsed": false,
    "deletable": true,
    "editable": true
   },
   "outputs": [
    {
     "data": {
      "text/plain": [
       "0"
      ]
     },
     "execution_count": 13,
     "metadata": {},
     "output_type": "execute_result"
    }
   ],
   "source": [
    "ObtenComponentesYEscribe(SubCSD, 40,450,15)"
   ]
  },
  {
   "cell_type": "code",
   "execution_count": 14,
   "metadata": {
    "collapsed": false,
    "deletable": true,
    "editable": true
   },
   "outputs": [],
   "source": [
    "MegaArrayPositivo=Array[]\n",
    "MegaArrayNegativo=Array[]\n",
    "MegaArrayPositivo=leeunmegaarray(\"CenterOfMassCollector/CMFuentes\",40,450);\n",
    "MegaArrayNegativo=leeunmegaarray(\"CenterOfMassCollector/CMPozos\",40,450);"
   ]
  },
  {
   "cell_type": "code",
   "execution_count": 15,
   "metadata": {
    "collapsed": true,
    "deletable": true,
    "editable": true
   },
   "outputs": [],
   "source": [
    "#Recuerda el segundo argumento es la longitud mínima de la cadena\n",
    "CatenarioPositivo=encuentraTrayectorias(MegaArrayPositivo, 3);\n",
    "CatenarioNegativo=encuentraTrayectorias(MegaArrayNegativo,3);"
   ]
  },
  {
   "cell_type": "code",
   "execution_count": 16,
   "metadata": {
    "collapsed": false,
    "deletable": true,
    "editable": true
   },
   "outputs": [],
   "source": [
    "ioff()\n",
    "\n",
    "ImagenCSD=CSDPromedio[:,:,64];\n",
    "\n",
    "figure(figsize=(6,6))\n",
    "#axis(\"equal\")\n",
    "tick_params(labelbottom=\"off\", labelleft=\"off\")\n",
    "xlim(-0.50,64+0.5)\n",
    "ylim(-0.5,64+0.5)\n",
    "bolitasrojas=0\n",
    "bolitasazules=0\n",
    "minlargo=3\n",
    "marcagor=5\n",
    "muevemin=0.5\n",
    "limcsd=180\n",
    "tight_layout()\n",
    "\n",
    "guacafondo=imshow(ImagenCSD, cmap=\"bwr\", interpolation=\"sinc\", \n",
    "origin=\"lower\", vmin=-limcsd, vmax=limcsd, extent=[1,64,1,64])\n",
    "\n",
    "for p in CatenarioPositivo\n",
    "    gordura=abs(map(Float32,p[:,3]))\n",
    "    desviax=std(map(Float32,p[:,1]))\n",
    "    desviay=std(map(Float32,p[:,2]))\n",
    "    longus,falsus=size(p)\n",
    "    if mean(gordura)> marcagor && (desviax>muevemin || desviay>muevemin) && longus> minlargo \n",
    "        #Si son chiquitos no nos interesan.\n",
    "        xxpos=p[:,1]+xizq\n",
    "        yypos=p[:,2]+ybajo    \n",
    "        tiempos=p[:,4]/7022    \n",
    "        plot(xxpos, yypos, marker=\"o\", markersize=1, color=\"r\")\n",
    "        #bolitasrojas=scatter(xxpos,yypos, s=gordura, \n",
    "        #edgecolors=\"none\", color=\"r\" )\n",
    "        inicios=scatter(xxpos[1],yypos[1], s=marcagor, edgecolors=\"black\", \n",
    "        linewidth=1,\n",
    "        facecolor=\"red\", marker=\"o\" )\n",
    "        finales=scatter(xxpos[end],yypos[end], s=marcagor, edgecolors=\"black\", \n",
    "        linewidth=1,facecolor=\"red\", marker=\"^\", label=\"Final\" )\n",
    "      #  annotate(round(tiempos[1]*1000,1),  (xxpos[1], yypos[1]), fontsize=7, color=\"black\")\n",
    "       # annotate(round(tiempos[end]*1000,1), (xxpos[end], yypos[end]), fontsize=7, color=\"green\")\n",
    "\n",
    "    end\n",
    "end\n",
    "\n",
    "\n",
    "\n",
    "\n",
    "for p in CatenarioNegativo\n",
    "    gordura=abs(map(Float32,p[:,3]))\n",
    "    desviax=std(map(Float32,p[:,1]))\n",
    "    desviay=std(map(Float32, p[:,2]))\n",
    "    longus,falsus=size(p)\n",
    "    if mean(gordura)>marcagor && (desviax>muevemin || desviay > muevemin) &&longus> minlargo\n",
    "        #Si son chiquitos no nos interesan.\n",
    "        xxpos=p[:,1]+xizq\n",
    "        yypos=p[:,2]+ybajo    \n",
    "        tiempos=p[:,4]/7022    \n",
    "        plot(xxpos, yypos, marker=\"o\", markersize=1, color=\"b\")\n",
    "        #bolitasazules=scatter(xxpos,yypos, s=gordura,\n",
    "        #edgecolors=\"none\", color=\"b\")\n",
    "        inicios=scatter(xxpos[1],yypos[1], s=marcagor, edgecolors=\"black\", \n",
    "        linewidth=1,\n",
    "        facecolor=\"blue\", alpha=0.7, marker=\"o\", label=\"Final\" )\n",
    "        finales=scatter(xxpos[end],yypos[end], s=marcagor, edgecolors=\"black\", \n",
    "        linewidth=1,\n",
    "        facecolor=\"blue\", marker=\"^\", label=\"Final\" )\n",
    "      #  annotate(round(tiempos[1],4),  (xxpos[1], yypos[1]), fontsize=7, color=\"black\")\n",
    "      #  annotate(round(tiempos[end],4), (xxpos[end], yypos[end]), fontsize=7, color=\"green\")\n",
    "\n",
    "    end\n",
    "end\n",
    "\n",
    "outname=string(\"Tralala_\",StringDatos,\"_Sub.png\")\n",
    "\n",
    "savefig(outname,dpi=92)"
   ]
  },
  {
   "cell_type": "code",
   "execution_count": 17,
   "metadata": {
    "collapsed": false,
    "deletable": true,
    "editable": true
   },
   "outputs": [],
   "source": [
    "outname=string(\"CatenariosEvocados-Promedio-\",StringDatos,\".jld\")\n",
    "save(outname, \"CatenarioNegativo\", CatenarioNegativo, \"CatenarioPositivo\", CatenarioPositivo, \"freq\", freq)"
   ]
  },
  {
   "cell_type": "code",
   "execution_count": null,
   "metadata": {
    "collapsed": false,
    "deletable": true,
    "editable": true
   },
   "outputs": [],
   "source": [
    "for t in tiemposinteresantes\n",
    "    ComponenteLista(CSDPromedio, 2, t)\n",
    "end"
   ]
  },
  {
   "cell_type": "code",
   "execution_count": null,
   "metadata": {
    "collapsed": true,
    "deletable": true,
    "editable": true
   },
   "outputs": [],
   "source": []
  }
 ],
 "metadata": {
  "kernelspec": {
   "display_name": "Julia 0.5.0",
   "language": "julia",
   "name": "julia-0.5"
  },
  "language_info": {
   "file_extension": ".jl",
   "mimetype": "application/julia",
   "name": "julia",
   "version": "0.5.0"
  }
 },
 "nbformat": 4,
 "nbformat_minor": 0
}
