{
 "cells": [
  {
   "cell_type": "markdown",
   "metadata": {},
   "source": [
    "# Preprocesamiento para Experimentos de Actividad Espontánea\n",
    " \n",
    "Este Cuaderno es muy similar al Preprocesamiento para Evocados, pero sin promediar sobre múltiples estímulos. En lugar de eso se recomienda una inspección visual para obtener un intervalo interesante del Archivo Experimental."
   ]
  },
  {
   "cell_type": "code",
   "execution_count": 1,
   "metadata": {},
   "outputs": [],
   "source": [
    "include(\"SeparaActividadySaturados01.jl\")\n",
    "using SeparaActividadySaturados01\n",
    "using JLD"
   ]
  },
  {
   "cell_type": "markdown",
   "metadata": {},
   "source": [
    "La mayoría de los experimentos de actividad espontánea producen archivos de varios GB. Es imposible hacer el prerprocesamiento con \n",
    "memoría limitada. Es muy probable que haya que dividir el archivo en cachos."
   ]
  },
  {
   "cell_type": "code",
   "execution_count": 2,
   "metadata": {},
   "outputs": [
    {
     "data": {
      "text/plain": [
       "\"/home/karel/BRWFiles/140116s2cut\""
      ]
     },
     "execution_count": 2,
     "metadata": {},
     "output_type": "execute_result"
    }
   ],
   "source": [
    "abrestring=\"/home/karel/BRWFiles/140116s2cut.brw\"\n",
    "stringgeneral=replace(abrestring, \".brw\", \"\")  "
   ]
  },
  {
   "cell_type": "code",
   "execution_count": 3,
   "metadata": {},
   "outputs": [
    {
     "data": {
      "text/plain": [
       "Dict{String,Any} with 8 entries:\n",
       "  \"minvolt\"     => -4125.0\n",
       "  \"maxvolt\"     => 4125.0\n",
       "  \"frecuencia\"  => 7022.06\n",
       "  \"DatosCrudos\" => UInt16[0x0fff 0x0fff … 0x0fff 0x0fff; 0x0805 0x07f7 … 0x07ed…\n",
       "  \"bitdepth\"    => 0x0c\n",
       "  \"factor\"      => 2.01416\n",
       "  \"numcuadros\"  => 2106617\n",
       "  \"duracion\"    => 300.0"
      ]
     },
     "execution_count": 3,
     "metadata": {},
     "output_type": "execute_result"
    }
   ],
   "source": [
    "Datos=AbreyCheca(abrestring)"
   ]
  },
  {
   "cell_type": "code",
   "execution_count": 5,
   "metadata": {},
   "outputs": [
    {
     "data": {
      "text/plain": [
       "0.14881024684492145"
      ]
     },
     "execution_count": 5,
     "metadata": {},
     "output_type": "execute_result"
    }
   ],
   "source": [
    "fmemlibre=Sys.free_memory()/Sys.total_memory()"
   ]
  },
  {
   "cell_type": "code",
   "execution_count": 11,
   "metadata": {},
   "outputs": [
    {
     "data": {
      "text/plain": [
       "0"
      ]
     },
     "execution_count": 11,
     "metadata": {},
     "output_type": "execute_result"
    }
   ],
   "source": [
    "# Si los datos andan en un arreglo de lista en lugar de cuadrado, los ponemos cuadrados\n",
    "if size(Datos[\"DatosCrudos\"])[1] != 4096\n",
    "DatosCrudosArreglados=reshape(Datos[\"DatosCrudos\"], (4096, Datos[\"numcuadros\"]))\n",
    "else\n",
    "DatosCrudosArreglados=Datos[\"DatosCrudos\"]\n",
    "end;\n",
    "\n",
    "# si la fraccion de memoria libre es inferior a 0.2, tenemos que cortar un cacho de los datos. Que tan chico el cacho depende... \n",
    "# toca probar\n",
    "if fmemlibre <0.2\n",
    "cacho=round(Int, Datos[\"numcuadros\"]/4)\n",
    "DatosCrudosArreglados=DatosCrudosArreglados[:,1:cacho]\n",
    "    end;\n",
    "# Liberar memoria\n",
    "Datos[\"DatosCrudos\"]=0"
   ]
  },
  {
   "cell_type": "code",
   "execution_count": 12,
   "metadata": {},
   "outputs": [
    {
     "data": {
      "text/plain": [
       "11"
      ]
     },
     "execution_count": 12,
     "metadata": {},
     "output_type": "execute_result"
    }
   ],
   "source": [
    "### parametetros globales.\n",
    "freq=Datos[\"frecuencia\"]/1000 #cuadros por milisegundo.\n",
    "factor=Datos[\"factor\"] #Factor de conversion de numeros enteros a microVolts\n",
    "retrazo=round(Int, ceil(5*freq))\n",
    "final=round(Int, ceil(60*freq))\n",
    "latencia=round(Int, ceil(1.5*freq))\n"
   ]
  },
  {
   "cell_type": "code",
   "execution_count": 13,
   "metadata": {},
   "outputs": [
    {
     "data": {
      "text/plain": [
       "0"
      ]
     },
     "execution_count": 13,
     "metadata": {},
     "output_type": "execute_result"
    }
   ],
   "source": [
    " DatosCentrados=FormaMatrizDatosCentrados(DatosCrudosArreglados, factor);\n",
    "# libera memoria\n",
    "DatosCrudosArreglados=0\n"
   ]
  },
  {
   "cell_type": "code",
   "execution_count": 15,
   "metadata": {},
   "outputs": [
    {
     "data": {
      "text/plain": [
       "(64, 64, 526654)"
      ]
     },
     "execution_count": 15,
     "metadata": {},
     "output_type": "execute_result"
    }
   ],
   "source": [
    "size(DatosCentrados)"
   ]
  },
  {
   "cell_type": "code",
   "execution_count": 16,
   "metadata": {},
   "outputs": [
    {
     "name": "stdout",
     "output_type": "stream",
     "text": [
      "Tienes 526654 cuadros de muestreo a 7.022058198545425 cuadros por segundo. Esto corresponde a  74999.94803647356ms.\n"
     ]
    }
   ],
   "source": [
    "cuadrosmax=size(DatosCentrados)[3]\n",
    "tiempototalms=cuadrosmax/freq \n",
    "println(\"Tienes \", cuadrosmax, \" cuadros de muestreo a \", freq, \" cuadros por segundo. Esto corresponde a  \", tiempototalms, \"ms.\" )"
   ]
  },
  {
   "cell_type": "code",
   "execution_count": 21,
   "metadata": {},
   "outputs": [
    {
     "name": "stdout",
     "output_type": "stream",
     "text": [
      "Encontramos 5 canales probablemente saturados.\n"
     ]
    }
   ],
   "source": [
    "#los parametros son datos promediados, frecuencia, tiempo post estimulo en ms, umbral en microvolts, umbral de saturación en microvolts\n",
    "PruebaRespuesta=BuscaCanalRespActPot(DatosCentrados,freq, 120,-120,-800)\n",
    "# y luego los saturados\n",
    "iniciobusqueda=retrazo\n",
    "finbusqueda=retrazo+4*latencia\n",
    "Saturados=BuscaSaturados(DatosCentrados,1200,iniciobusqueda,finbusqueda)\n",
    "numerosaturados=length(Saturados)\n",
    "println(\"Encontramos \", numerosaturados, \" canales probablemente saturados.\")\n",
    "println(\"Encontramos \", length(PruebaRespuesta) \" canales probablemente con actividad.\")\n"
   ]
  },
  {
   "cell_type": "code",
   "execution_count": 25,
   "metadata": {},
   "outputs": [
    {
     "data": {
      "text/plain": [
       "Set(Array{Int64,1}[[10, 46], [32, 1], [29, 34], [49, 46], [19, 36], [6, 9], [8, 32], [44, 41], [34, 53], [46, 14]  …  [30, 40], [54, 42], [4, 20], [48, 30], [40, 47], [14, 57], [35, 25], [17, 48], [13, 56], [44, 55]])"
      ]
     },
     "execution_count": 25,
     "metadata": {},
     "output_type": "execute_result"
    }
   ],
   "source": []
  },
  {
   "cell_type": "code",
   "execution_count": null,
   "metadata": {
    "collapsed": true
   },
   "outputs": [],
   "source": []
  },
  {
   "cell_type": "code",
   "execution_count": null,
   "metadata": {
    "collapsed": true
   },
   "outputs": [],
   "source": []
  }
 ],
 "metadata": {
  "kernelspec": {
   "display_name": "Julia 0.6.3",
   "language": "julia",
   "name": "julia-0.6"
  },
  "language_info": {
   "file_extension": ".jl",
   "mimetype": "application/julia",
   "name": "julia",
   "version": "0.6.3"
  }
 },
 "nbformat": 4,
 "nbformat_minor": 2
}
