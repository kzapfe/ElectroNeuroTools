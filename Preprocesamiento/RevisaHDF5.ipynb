{
 "cells": [
  {
   "cell_type": "markdown",
   "metadata": {},
   "source": [
    "# Este cuaderno revisa los canales saturados y los de respuesta\n",
    " \n",
    "## ADVERTENCIA: este cuaderno es potencialmente peligroso: \n",
    "## SOBRESCRIBE los datos \"CanalesSaturados\" y \"Canalesrespuesta\"\n",
    "\n",
    "\n",
    "Vamos a reprocesar los hdf5 si es necesario con estas herramientas."
   ]
  },
  {
   "cell_type": "code",
   "execution_count": 1,
   "metadata": {},
   "outputs": [
    {
     "name": "stderr",
     "output_type": "stream",
     "text": [
      "┌ Info: Recompiling stale cache file /home/karel/.julia/compiled/v1.0/PreprocTools.ji for PreprocTools [top-level]\n",
      "└ @ Base loading.jl:1190\n"
     ]
    }
   ],
   "source": [
    "push!(LOAD_PATH, \".\")\n",
    "using PreprocTools\n",
    "using HDF5, PyPlot, Statistics"
   ]
  },
  {
   "cell_type": "code",
   "execution_count": 20,
   "metadata": {},
   "outputs": [
    {
     "data": {
      "text/plain": [
       "10-element Array{String,1}:\n",
       " \"CanalesBurbuja\"  \n",
       " \"CanalesRuido\"    \n",
       " \"CanalesSaturados\"\n",
       " \"Canalesrespuesta\"\n",
       " \"KTT_KInv\"        \n",
       " \"LFPTotal\"        \n",
       " \"Nota\"            \n",
       " \"Saturados\"       \n",
       " \"freq\"            \n",
       " \"kCSDCorrecta\"    "
      ]
     },
     "execution_count": 20,
     "metadata": {},
     "output_type": "execute_result"
    }
   ],
   "source": [
    "arxname=\"/home/karel/RGutWork/JLDFiles/Desinhibida/180116s1/test_1.h5\"\n",
    "arx=h5open(arxname, \"r+\") # r+ :=read and append o algo asi\"\n",
    "names(arx)"
   ]
  },
  {
   "cell_type": "code",
   "execution_count": 3,
   "metadata": {},
   "outputs": [
    {
     "data": {
      "text/plain": [
       "\"Usamos las siguientes B y BT para obtener las Ks: BceroDura-r-0.25.dat y BtildeceroDura-r-0.25.dat\""
      ]
     },
     "execution_count": 3,
     "metadata": {},
     "output_type": "execute_result"
    }
   ],
   "source": [
    "LFP=read(arx[\"LFPTotal\"]);\n",
    "freq=read(arx[\"freq\"]);\n",
    "Saturados=read(arx[\"CanalesSaturados\"])\n",
    "Respuesta=read(arx[\"Canalesrespuesta\"])\n",
    "nota=read(arx[\"Nota\"])"
   ]
  },
  {
   "cell_type": "code",
   "execution_count": 4,
   "metadata": {},
   "outputs": [
    {
     "data": {
      "text/plain": [
       "(13, 2)"
      ]
     },
     "execution_count": 4,
     "metadata": {},
     "output_type": "execute_result"
    }
   ],
   "source": [
    "size(Saturados)"
   ]
  },
  {
   "cell_type": "code",
   "execution_count": 5,
   "metadata": {},
   "outputs": [
    {
     "name": "stdout",
     "output_type": "stream",
     "text": [
      "Estoy buscando del cuadro 1 al , 703\n",
      "\n",
      "Encontramos 14 canales probablemente saturados.\n",
      "Encontramos 90 canales probablemente con burbuja saturados.\n",
      "Encontramos 8 canales probablemente con ruido positivo.\n",
      "Encontramos 73 canales probablemente con actividad.\n"
     ]
    }
   ],
   "source": [
    "#los parametros son datos promediados, frecuencia, tiempo post estimulo en ms, umbral en microvolts, umbral de saturación en microvolts\n",
    "#PruebaRespuesta=BCRP(DatosCentrados,freq, 0.1,100,-100, -300)\n",
    "PruebaRespuesta=BuscaCanalRespActPot(LFP,freq, 0.1,100,-85, -300, 11, 24 )\n",
    "#\n",
    "# y luego los saturados\n",
    "iniciobusqueda=0.1\n",
    "finbusqueda=100\n",
    "Saturados2=BuscaSaturados(LFP,freq, 800,iniciobusqueda,finbusqueda)\n",
    "OtrosSaturados=BuscaSaturadosStd(LFP, 0.1,100, freq, 26)\n",
    "yOtrosMas=BuscaRuidosos(LFP, 0.1, 100, freq, 100, 3)\n",
    "ns=size(Saturados2)[1]\n",
    "ns2=size(OtrosSaturados)[1]\n",
    "ns3=size(yOtrosMas)[1]\n",
    "\n",
    "nr=size(PruebaRespuesta)[1]\n",
    "println(\"\")\n",
    "println(\"Encontramos \", ns, \" canales probablemente saturados.\")\n",
    "println(\"Encontramos \", ns2, \" canales probablemente con burbuja saturados.\")\n",
    "println(\"Encontramos \", ns3, \" canales probablemente con ruido positivo.\")\n",
    "println(\"Encontramos \",  nr, \" canales probablemente con actividad.\")\n"
   ]
  },
  {
   "cell_type": "markdown",
   "metadata": {},
   "source": [
    "## Aquí comienza la parte peligrosa. A Partir de aquí sobreescribimos los datos.\n",
    "\n",
    "Es posible usar una copia del archivo si no esta Su Merce segura de lo que está haciendo. \n",
    "Correr la siguientes celdas SOBREESCRIBIRA los datos etiquetados como \"CanalesSaturados\" y \"CanalesRespuesta\""
   ]
  },
  {
   "cell_type": "code",
   "execution_count": 17,
   "metadata": {
    "collapsed": true
   },
   "outputs": [],
   "source": [
    "if exists(arx, \"CanalesSaturados\") \n",
    "    o_delete(arx, \"CanalesSaturados\")\n",
    "end\n",
    "write(arx, \"CanalesSaturados\", Saturados2)\n"
   ]
  },
  {
   "cell_type": "code",
   "execution_count": 16,
   "metadata": {},
   "outputs": [
    {
     "name": "stdout",
     "output_type": "stream",
     "text": [
      "yeah"
     ]
    }
   ],
   "source": [
    "if exists(arx, \"Canalesrespuesta\")\n",
    "   o_delete(arx, \"Canalesrespuesta\")\n",
    "end\n",
    "write(arx, \"Canalesrespuesta\", PruebaRespuesta)\n"
   ]
  },
  {
   "cell_type": "markdown",
   "metadata": {},
   "source": [
    " Estos probablemente sean nuevos para la gran mayoría de los archivos. (Criterios mas estrictos)"
   ]
  },
  {
   "cell_type": "code",
   "execution_count": 18,
   "metadata": {
    "collapsed": true
   },
   "outputs": [],
   "source": [
    "if exists(arx, \"CanalesBurbuja\")\n",
    "   o_delete(arx, \"CanalesBurbuja\")\n",
    "end\n",
    "write(arx, \"CanalesBurbuja\", OtrosSaturados)\n",
    "\n",
    "if exists(arx, \"CanalesRuido\")\n",
    "   o_delete(arx, \"CanalesRuido\")\n",
    "end\n",
    "write(arx, \"CanalesRuido\", yOtrosMas)\n",
    "\n"
   ]
  },
  {
   "cell_type": "code",
   "execution_count": 19,
   "metadata": {
    "collapsed": true
   },
   "outputs": [],
   "source": [
    "close(arx)"
   ]
  },
  {
   "cell_type": "code",
   "execution_count": null,
   "metadata": {
    "collapsed": true
   },
   "outputs": [],
   "source": []
  }
 ],
 "metadata": {
  "@webio": {
   "lastCommId": "082EA1257B904E9F8E5036B9D00664DA",
   "lastKernelId": "a890076b-b5ed-4721-b1df-b6914f95cb69"
  },
  "kernelspec": {
   "display_name": "Julia 1.0.3",
   "language": "julia",
   "name": "julia-1.0"
  },
  "language_info": {
   "file_extension": ".jl",
   "mimetype": "application/julia",
   "name": "julia",
   "version": "1.0.3"
  }
 },
 "nbformat": 4,
 "nbformat_minor": 2
}
