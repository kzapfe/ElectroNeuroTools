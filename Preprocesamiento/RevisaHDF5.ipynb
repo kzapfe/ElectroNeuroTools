{
 "cells": [
  {
   "cell_type": "markdown",
   "metadata": {},
   "source": [
    "Vamos a reprocesar los hdf5 si es necesario con estas herramientas."
   ]
  },
  {
   "cell_type": "code",
   "execution_count": 1,
   "metadata": {},
   "outputs": [
    {
     "name": "stderr",
     "output_type": "stream",
     "text": [
      "┌ Info: Recompiling stale cache file /home/karel/.julia/compiled/v1.0/PreprocTools.ji for PreprocTools [top-level]\n",
      "└ @ Base loading.jl:1190\n"
     ]
    }
   ],
   "source": [
    "push!(LOAD_PATH, \".\")\n",
    "using PreprocTools\n",
    "using HDF5, PyPlot, Statistics"
   ]
  },
  {
   "cell_type": "code",
   "execution_count": 3,
   "metadata": {},
   "outputs": [
    {
     "data": {
      "text/plain": [
       "7-element Array{String,1}:\n",
       " \"CanalesSaturados\"\n",
       " \"Canalesrespuesta\"\n",
       " \"KTT_KInv\"        \n",
       " \"LFPTotal\"        \n",
       " \"Nota\"            \n",
       " \"freq\"            \n",
       " \"kCSDCorrecta\"    "
      ]
     },
     "execution_count": 3,
     "metadata": {},
     "output_type": "execute_result"
    }
   ],
   "source": [
    "arxname=\"/home/karel/RGutWork/JLDFiles/Desinhibida/180116s1/180116s1cut_evento_1.h5\"\n",
    "arx=h5open(arxname, \"r\")\n",
    "names(arx)"
   ]
  },
  {
   "cell_type": "code",
   "execution_count": 4,
   "metadata": {},
   "outputs": [
    {
     "data": {
      "text/plain": [
       "7-element Array{String,1}:\n",
       " \"CanalesSaturados\"\n",
       " \"Canalesrespuesta\"\n",
       " \"KTT_KInv\"        \n",
       " \"LFPTotal\"        \n",
       " \"Nota\"            \n",
       " \"freq\"            \n",
       " \"kCSDCorrecta\"    "
      ]
     },
     "execution_count": 4,
     "metadata": {},
     "output_type": "execute_result"
    }
   ],
   "source": [
    "arx=h5open(arxname, \"r\")\n",
    "names(arx)"
   ]
  },
  {
   "cell_type": "code",
   "execution_count": 5,
   "metadata": {},
   "outputs": [
    {
     "data": {
      "text/plain": [
       "7-element Array{String,1}:\n",
       " \"CanalesSaturados\"\n",
       " \"Canalesrespuesta\"\n",
       " \"KTT_KInv\"        \n",
       " \"LFPTotal\"        \n",
       " \"Nota\"            \n",
       " \"freq\"            \n",
       " \"kCSDCorrecta\"    "
      ]
     },
     "execution_count": 5,
     "metadata": {},
     "output_type": "execute_result"
    }
   ],
   "source": [
    "names(arx)"
   ]
  },
  {
   "cell_type": "code",
   "execution_count": 8,
   "metadata": {},
   "outputs": [
    {
     "data": {
      "text/plain": [
       "\"Usamos las siguientes B y BT para obtener las Ks: BceroDura-r-0.25.dat y BtildeceroDura-r-0.25.dat\""
      ]
     },
     "execution_count": 8,
     "metadata": {},
     "output_type": "execute_result"
    }
   ],
   "source": [
    "LFP=read(arx[\"LFPTotal\"]);\n",
    "freq=read(arx[\"freq\"]);\n",
    "Saturados=read(arx[\"CanalesSaturados\"])\n",
    "Respuesta=read(arx[\"Canalesrespuesta\"])\n",
    "nota=read(arx[\"Nota\"])"
   ]
  },
  {
   "cell_type": "code",
   "execution_count": 9,
   "metadata": {},
   "outputs": [
    {
     "data": {
      "text/plain": [
       "(13, 2)"
      ]
     },
     "execution_count": 9,
     "metadata": {},
     "output_type": "execute_result"
    }
   ],
   "source": [
    "size(Saturados)"
   ]
  },
  {
   "cell_type": "code",
   "execution_count": 7,
   "metadata": {},
   "outputs": [
    {
     "name": "stdout",
     "output_type": "stream",
     "text": [
      "Estoy buscando del cuadro 1 al , 703\n",
      "\n",
      "Encontramos 14 canales probablemente saturados.\n",
      "Encontramos 90 canales probablemente con burbuja saturados.\n",
      "Encontramos 8 canales probablemente con ruido positivo.\n",
      "Encontramos 73 canales probablemente con actividad.\n"
     ]
    }
   ],
   "source": [
    "#los parametros son datos promediados, frecuencia, tiempo post estimulo en ms, umbral en microvolts, umbral de saturación en microvolts\n",
    "#PruebaRespuesta=BCRP(DatosCentrados,freq, 0.1,100,-100, -300)\n",
    "PruebaRespuesta=BuscaCanalRespActPot(LFP,freq, 0.1,100,-85, -300, 11, 24 )\n",
    "#\n",
    "# y luego los saturados\n",
    "iniciobusqueda=0.1\n",
    "finbusqueda=100\n",
    "Saturados=BuscaSaturados(LFP,freq, 800,iniciobusqueda,finbusqueda)\n",
    "OtrosSaturados=BuscaSaturadosStd(LFP, 0.1,100, freq, 26)\n",
    "yOtrosMas=BuscaRuidosos(LFP, 0.1, 100, freq, 100, 3)\n",
    "ns=size(Saturados)[1]\n",
    "ns2=size(OtrosSaturados)[1]\n",
    "ns3=size(yOtrosMas)[1]\n",
    "\n",
    "nr=size(PruebaRespuesta)[1]\n",
    "println(\"\")\n",
    "println(\"Encontramos \", ns, \" canales probablemente saturados.\")\n",
    "println(\"Encontramos \", ns2, \" canales probablemente con burbuja saturados.\")\n",
    "println(\"Encontramos \", ns3, \" canales probablemente con ruido positivo.\")\n",
    "println(\"Encontramos \",  nr, \" canales probablemente con actividad.\")\n"
   ]
  },
  {
   "cell_type": "code",
   "execution_count": null,
   "metadata": {},
   "outputs": [],
   "source": [
    "h5read(arxname, \"Canalesrespuesta\")"
   ]
  },
  {
   "cell_type": "code",
   "execution_count": null,
   "metadata": {
    "collapsed": true
   },
   "outputs": [],
   "source": []
  }
 ],
 "metadata": {
  "@webio": {
   "lastCommId": "FC87F5EC25C8469A993BAF6A4D03465E",
   "lastKernelId": "a4dc93ad-751e-4781-b908-661e9baf7534"
  },
  "kernelspec": {
   "display_name": "Julia 1.0.3",
   "language": "julia",
   "name": "julia-1.0"
  },
  "language_info": {
   "file_extension": ".jl",
   "mimetype": "application/julia",
   "name": "julia",
   "version": "1.0.3"
  }
 },
 "nbformat": 4,
 "nbformat_minor": 2
}
