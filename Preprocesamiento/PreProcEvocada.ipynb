{
 "cells": [
  {
   "cell_type": "markdown",
   "metadata": {},
   "source": [
    "# Preprocesamiento para Experimentos de Actividad Evocada\n",
    "\n",
    "Este Cuaderno es básicamente una versión interactiva del programa en el archivo \"SeparaActividadyPromedia.jl\" que contiene las mismas rutinas pero automatizadas. Esta versión permite un poco más de interacción."
   ]
  },
  {
   "cell_type": "code",
   "execution_count": 1,
   "metadata": {},
   "outputs": [
    {
     "name": "stderr",
     "output_type": "stream",
     "text": [
      "┌ Info: Recompiling stale cache file /home/karel/.julia/compiled/v1.0/SeparaActividadySaturados01.ji for SeparaActividadySaturados01 [top-level]\n",
      "└ @ Base loading.jl:1184\n"
     ]
    }
   ],
   "source": [
    "push!(LOAD_PATH, \".\")\n",
    "# en este modulo se encuentran las rutinas para encontrar los estimulos (\"trancazos\")\n",
    "# y los canales saturados\n",
    "using SeparaActividadySaturados01\n",
    "using JLD"
   ]
  },
  {
   "cell_type": "code",
   "execution_count": 2,
   "metadata": {},
   "outputs": [
    {
     "data": {
      "text/plain": [
       "\"/home/karel/BRWFiles/Evocada05082015/050815_3R3_converted\""
      ]
     },
     "execution_count": 2,
     "metadata": {},
     "output_type": "execute_result"
    }
   ],
   "source": [
    "# Nombre de un archivo *brw en formato hdf5 con datos de acticidad evocada\n",
    "abrestring=\"/home/karel/BRWFiles/Evocada05082015/050815_3R3_converted.brw\"\n",
    "stringgeneral=replace(abrestring, \".brw\"=>\"\")  "
   ]
  },
  {
   "cell_type": "code",
   "execution_count": 3,
   "metadata": {},
   "outputs": [
    {
     "data": {
      "text/plain": [
       "Dict{String,Any} with 8 entries:\n",
       "  \"minvolt\"     => -4125.0\n",
       "  \"maxvolt\"     => 4125.0\n",
       "  \"frecuencia\"  => 7020.8\n",
       "  \"DatosCrudos\" => UInt16[0x0800 0x0000 … 0x0000 0x0000; 0x080b 0x0809 … 0x07f5…\n",
       "  \"bitdepth\"    => 0x0c\n",
       "  \"factor\"      => 2.01416\n",
       "  \"numcuadros\"  => 210624\n",
       "  \"duracion\"    => 30.0"
      ]
     },
     "execution_count": 3,
     "metadata": {},
     "output_type": "execute_result"
    }
   ],
   "source": [
    "#Todos los datos de la matriz del brw file\n",
    "Datos=AbreyCheca(abrestring)"
   ]
  },
  {
   "cell_type": "code",
   "execution_count": 4,
   "metadata": {
    "collapsed": true
   },
   "outputs": [],
   "source": [
    "# Si los datos andan en un arreglo de lista en lugar de cuadrado, los ponemos cuadrados\n",
    "if size(Datos[\"DatosCrudos\"])[1] != 4096\n",
    "DatosCrudosArreglados=reshape(Datos[\"DatosCrudos\"], (4096, Datos[\"numcuadros\"]))\n",
    "else\n",
    "DatosCrudosArreglados=Datos[\"DatosCrudos\"]\n",
    "end;\n"
   ]
  },
  {
   "cell_type": "code",
   "execution_count": 5,
   "metadata": {},
   "outputs": [
    {
     "data": {
      "text/plain": [
       "46"
      ]
     },
     "execution_count": 5,
     "metadata": {},
     "output_type": "execute_result"
    }
   ],
   "source": [
    "#parametetros globales.\n",
    "freq=Datos[\"frecuencia\"]/1000 #cuadros por milisegundo.\n",
    "factor=Datos[\"factor\"] #Factor de conversion de numeros enteros a microVolts\n",
    "\n",
    "retrazo=round(Int, ceil(5*freq))\n",
    "final=round(Int, ceil(60*freq))\n",
    "latencia=round(Int, ceil(1.5*freq))\n",
    "#Gis recomienda esperar hasta 6.5 ms por cada estimulo.\n",
    "tiempopostgolpe=round(Int,ceil(6.5*freq))\n"
   ]
  },
  {
   "cell_type": "markdown",
   "metadata": {},
   "source": [
    "Tomamos un electrodo como ejemplo y buscamos los momentos (en cuadros, unidades enteras) de los estimulos:"
   ]
  },
  {
   "cell_type": "code",
   "execution_count": 6,
   "metadata": {},
   "outputs": [
    {
     "name": "stdout",
     "output_type": "stream",
     "text": [
      "Sitios de trancazo electrico en cuadros =[67863, 138471, 209079]\n"
     ]
    }
   ],
   "source": [
    "ejemplo=vec(DatosCrudosArreglados[1500,:]);\n",
    "listongas=EncuentraTrancazosRaw(ejemplo,500)\n",
    "println(\"Sitios de trancazo electrico en cuadros =\", listongas)"
   ]
  },
  {
   "cell_type": "markdown",
   "metadata": {},
   "source": [
    "Ahora creamos un diccionario que contenga la actividad alrededor de los estimulos"
   ]
  },
  {
   "cell_type": "code",
   "execution_count": 7,
   "metadata": {},
   "outputs": [
    {
     "name": "stdout",
     "output_type": "stream",
     "text": [
      "Tiempo, en cuadros, de los intervalos con trancazo=459\n"
     ]
    }
   ],
   "source": [
    "ActividadRaw=ActivAlrededorTrancazo(listongas, DatosCrudosArreglados, freq)\n",
    "(bla,tmax)=size(ActividadRaw[\"Trancazo_1\"])\n",
    "println(\"Tiempo, en cuadros, de los intervalos con trancazo=\",tmax)\n"
   ]
  },
  {
   "cell_type": "markdown",
   "metadata": {},
   "source": [
    "Finalmente, centramos y  reescalamos los datos, y los promediamos."
   ]
  },
  {
   "cell_type": "code",
   "execution_count": 8,
   "metadata": {},
   "outputs": [],
   "source": [
    "DatosCentrados=Dict{AbstractString, Array}()\n",
    "for k in keys(ActividadRaw)\n",
    "    DatosCentrados[k]=FormaMatrizDatosCentrados(ActividadRaw[k], factor)\n",
    "end\n",
    "LFPPromedio=(DatosCentrados[\"Trancazo_1\"]+DatosCentrados[\"Trancazo_2\"]+DatosCentrados[\"Trancazo_3\"])/3;"
   ]
  },
  {
   "cell_type": "markdown",
   "metadata": {},
   "source": [
    "Eso fue la parte de promediar y poner escala sensible a los datos. Ahora prosigue detectar canales con respuesta fisiológica y canales saturados. Empecemos primero por las respuestas."
   ]
  },
  {
   "cell_type": "code",
   "execution_count": 9,
   "metadata": {},
   "outputs": [
    {
     "name": "stdout",
     "output_type": "stream",
     "text": [
      "Encontramos 229 canales probablemente saturados.\n"
     ]
    }
   ],
   "source": [
    "#los parametros son datos promediados, frecuencia, tiempo post estimulo en ms, umbral en microvolts, umbral de saturación en microvolts\n",
    "PruebaRespuesta=BuscaCanalRespActPot(LFPPromedio,freq, 120,-120,-800)\n",
    "# y luego los saturados\n",
    "iniciobusqueda=retrazo\n",
    "finbusqueda=retrazo+4*latencia\n",
    "Saturados=BuscaSaturados(LFPPromedio,1200,iniciobusqueda,finbusqueda)\n",
    "numerosaturados=length(Saturados)\n",
    "println(\"Encontramos \", numerosaturados, \" canales probablemente saturados.\")\n"
   ]
  },
  {
   "cell_type": "code",
   "execution_count": 10,
   "metadata": {},
   "outputs": [
    {
     "data": {
      "text/plain": [
       "(\"/home/karel/BRWFiles/Evocada05082015\", \"050815_3R3_converted\")"
      ]
     },
     "execution_count": 10,
     "metadata": {},
     "output_type": "execute_result"
    }
   ],
   "source": [
    "dirname(stringgeneral), basename(stringgeneral)"
   ]
  },
  {
   "cell_type": "markdown",
   "metadata": {},
   "source": [
    "Finalmente podemos guardar los Datos"
   ]
  },
  {
   "cell_type": "code",
   "execution_count": 11,
   "metadata": {
    "collapsed": true
   },
   "outputs": [],
   "source": [
    "dirgen=dirname(stringgeneral)\n",
    "basegen=basename(stringgeneral)\n",
    "outname=string(dirgen,\"/LFP_Promedio_\", basegen, \".jld\")\n",
    "#aqui hay que arreglar el rollo del directorio\n",
    "parametros=(freq, retrazo, latencia,final)\n",
    "save(outname,\n",
    "     \"LFPSaturados\", LFPPromedio,\n",
    "     \"freq\",freq,\n",
    "     \"retrazo\", retrazo,\n",
    "     \"latencia\", latencia,\n",
    "     \"final\", final,\n",
    "     \"Canalesrespuesta\", PruebaRespuesta,\n",
    "     \"CanalesSaturados\", Saturados)"
   ]
  },
  {
   "cell_type": "code",
   "execution_count": 12,
   "metadata": {},
   "outputs": [
    {
     "data": {
      "text/plain": [
       "\"/home/karel/BRWFiles/Evocada05082015/LFP_Promedio_050815_3R3_converted.jld\""
      ]
     },
     "execution_count": 12,
     "metadata": {},
     "output_type": "execute_result"
    }
   ],
   "source": [
    "outnamee"
   ]
  },
  {
   "cell_type": "code",
   "execution_count": null,
   "metadata": {
    "collapsed": true
   },
   "outputs": [],
   "source": []
  }
 ],
 "metadata": {
  "@webio": {
   "lastCommId": "E4C3D5F322CA491390AF03B00418019C",
   "lastKernelId": "bbcfa1d4-6a98-4154-835b-88b15ecdfcb3"
  },
  "kernelspec": {
   "display_name": "Julia 1.0.0",
   "language": "julia",
   "name": "julia-1.0"
  },
  "language_info": {
   "file_extension": ".jl",
   "mimetype": "application/julia",
   "name": "julia",
   "version": "1.0.0"
  }
 },
 "nbformat": 4,
 "nbformat_minor": 2
}
