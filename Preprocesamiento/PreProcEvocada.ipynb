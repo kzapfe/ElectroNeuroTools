{
 "cells": [
  {
   "cell_type": "markdown",
   "metadata": {},
   "source": [
    "# Preprocesamiento para Experimentos de Actividad Evocada\n",
    "\n",
    "Este Cuaderno es básicamente una versión interactiva del programa en el archivo \"SeparaActividadyPromedia.jl\" que contiene las mismas rutinas pero automatizadas. Esta versión permite un poco más de interacción."
   ]
  },
  {
   "cell_type": "code",
   "execution_count": 1,
   "metadata": {},
   "outputs": [],
   "source": [
    "push!(LOAD_PATH, \".\")\n",
    "# en este modulo se encuentran las rutinas para encontrar los estimulos (\"trancazos\")\n",
    "# y los canales saturados\n",
    "using SeparaActividadySaturados01\n",
    "using HDF5"
   ]
  },
  {
   "cell_type": "code",
   "execution_count": 2,
   "metadata": {},
   "outputs": [
    {
     "data": {
      "text/plain": [
       "\"/home/karel/RafaelGutierrez/BRWFiles/050815_3R7_converted\""
      ]
     },
     "execution_count": 2,
     "metadata": {},
     "output_type": "execute_result"
    }
   ],
   "source": [
    "# Nombre de un archivo *brw en formato hdf5 con datos de acticidad evocada\n",
    "abrestring=\"/home/karel/RafaelGutierrez/BRWFiles/050815_3R7_converted.brw\"\n",
    "stringgeneral=replace(abrestring, \".brw\"=>\"\")  "
   ]
  },
  {
   "cell_type": "code",
   "execution_count": 3,
   "metadata": {},
   "outputs": [
    {
     "data": {
      "text/plain": [
       "Dict{String,Any} with 8 entries:\n",
       "  \"minvolt\"     => -4125.0\n",
       "  \"maxvolt\"     => 4125.0\n",
       "  \"frecuencia\"  => 7020.8\n",
       "  \"DatosCrudos\" => UInt16[0x0000 0x0000 … 0x0000 0x0000; 0x0800 0x0809 … 0x07ed…\n",
       "  \"bitdepth\"    => 0x0c\n",
       "  \"factor\"      => 2.01416\n",
       "  \"numcuadros\"  => 210624\n",
       "  \"duracion\"    => 30.0"
      ]
     },
     "execution_count": 3,
     "metadata": {},
     "output_type": "execute_result"
    }
   ],
   "source": [
    "#Todos los datos de la matriz del brw file\n",
    "Datos=AbreyCheca(abrestring)"
   ]
  },
  {
   "cell_type": "code",
   "execution_count": 4,
   "metadata": {},
   "outputs": [],
   "source": [
    "# Si los datos andan en un arreglo de lista en lugar de cuadrado, los ponemos cuadrados\n",
    "if size(Datos[\"DatosCrudos\"])[1] != 4096\n",
    "DatosCrudosArreglados=reshape(Datos[\"DatosCrudos\"], (4096, Datos[\"numcuadros\"]))\n",
    "else\n",
    "DatosCrudosArreglados=Datos[\"DatosCrudos\"]\n",
    "end;\n"
   ]
  },
  {
   "cell_type": "code",
   "execution_count": 5,
   "metadata": {},
   "outputs": [
    {
     "data": {
      "text/plain": [
       "46"
      ]
     },
     "execution_count": 5,
     "metadata": {},
     "output_type": "execute_result"
    }
   ],
   "source": [
    "#parametetros globales.\n",
    "freq=Datos[\"frecuencia\"]/1000 #cuadros por milisegundo.\n",
    "factor=Datos[\"factor\"] #Factor de conversion de numeros enteros a microVolts\n",
    "\n",
    "retrazo=round(Int, ceil(5*freq))\n",
    "final=round(Int, ceil(60*freq))\n",
    "latencia=round(Int, ceil(1.5*freq))\n",
    "#Gis recomienda esperar hasta 6.5 ms por cada estimulo.\n",
    "tiempopostgolpe=round(Int,ceil(6.5*freq))\n"
   ]
  },
  {
   "cell_type": "markdown",
   "metadata": {},
   "source": [
    "Tomamos un electrodo como ejemplo y buscamos los momentos (en cuadros, unidades enteras) de los estimulos:"
   ]
  },
  {
   "cell_type": "code",
   "execution_count": 6,
   "metadata": {},
   "outputs": [
    {
     "name": "stdout",
     "output_type": "stream",
     "text": [
      "Sitios de trancazo electrico en cuadros =[47149, 117758, 188366]\n"
     ]
    }
   ],
   "source": [
    "ejemplo=vec(DatosCrudosArreglados[1500,:]);\n",
    "listongas=EncuentraTrancazosRaw(ejemplo,500)\n",
    "println(\"Sitios de trancazo electrico en cuadros =\", listongas)"
   ]
  },
  {
   "cell_type": "markdown",
   "metadata": {},
   "source": [
    "Ahora creamos un diccionario que contenga la actividad alrededor de los estimulos"
   ]
  },
  {
   "cell_type": "code",
   "execution_count": 7,
   "metadata": {},
   "outputs": [
    {
     "name": "stdout",
     "output_type": "stream",
     "text": [
      "Tiempo, en cuadros, de los intervalos con trancazo=459\n"
     ]
    }
   ],
   "source": [
    "ActividadRaw=ActivAlrededorTrancazo(listongas, DatosCrudosArreglados, freq)\n",
    "(bla,tmax)=size(ActividadRaw[\"Trancazo_1\"])\n",
    "println(\"Tiempo, en cuadros, de los intervalos con trancazo=\",tmax)\n"
   ]
  },
  {
   "cell_type": "markdown",
   "metadata": {},
   "source": [
    "Finalmente, centramos y  reescalamos los datos, y los promediamos."
   ]
  },
  {
   "cell_type": "code",
   "execution_count": 8,
   "metadata": {},
   "outputs": [],
   "source": [
    "DatosCentrados=Dict{AbstractString, Array}()\n",
    "for k in keys(ActividadRaw)\n",
    "    DatosCentrados[k]=FormaMatrizDatosCentrados(ActividadRaw[k], factor)\n",
    "end\n",
    "LFPPromedio=(DatosCentrados[\"Trancazo_1\"]+DatosCentrados[\"Trancazo_2\"]+DatosCentrados[\"Trancazo_3\"])/3;"
   ]
  },
  {
   "cell_type": "markdown",
   "metadata": {},
   "source": [
    "Eso fue la parte de promediar y poner escala sensible a los datos. Ahora prosigue detectar canales con respuesta fisiológica y canales saturados. Empecemos primero por las respuestas."
   ]
  },
  {
   "cell_type": "code",
   "execution_count": 9,
   "metadata": {},
   "outputs": [
    {
     "name": "stdout",
     "output_type": "stream",
     "text": [
      "Encontramos 274 canales probablemente saturados.\n"
     ]
    }
   ],
   "source": [
    "#los parametros son datos promediados, frecuencia, tiempo post estimulo en ms, umbral en microvolts, umbral de saturación en microvolts\n",
    "PruebaRespuesta=BuscaCanalRespActPot(LFPPromedio,freq, 120,-120,-800)\n",
    "# y luego los saturados\n",
    "iniciobusqueda=retrazo\n",
    "finbusqueda=retrazo+4*latencia\n",
    "Saturados=BuscaSaturados(LFPPromedio,1200,iniciobusqueda,finbusqueda)\n",
    "numerosaturados=length(Saturados)\n",
    "println(\"Encontramos \", numerosaturados, \" canales probablemente saturados.\")\n"
   ]
  },
  {
   "cell_type": "code",
   "execution_count": 10,
   "metadata": {},
   "outputs": [
    {
     "data": {
      "text/plain": [
       "(\"/home/karel/RafaelGutierrez/BRWFiles\", \"050815_3R7_converted\")"
      ]
     },
     "execution_count": 10,
     "metadata": {},
     "output_type": "execute_result"
    }
   ],
   "source": [
    "dirname(stringgeneral), basename(stringgeneral)"
   ]
  },
  {
   "cell_type": "markdown",
   "metadata": {},
   "source": [
    "Finalmente podemos guardar los Datos"
   ]
  },
  {
   "cell_type": "code",
   "execution_count": 12,
   "metadata": {},
   "outputs": [
    {
     "name": "stdout",
     "output_type": "stream",
     "text": [
      "/home/karel/RafaelGutierrez/BRWFiles/LFP_Promedio_050815_3R7_converted.h5\n",
      "abriendo los datos Canalesrespuesta\n",
      "abriendo los datos CanalesSaturados\n",
      "abriendo los datos latencia\n",
      "abriendo los datos retrazo\n",
      "abriendo los datos LFPSaturados\n",
      "abriendo los datos freq\n",
      "abriendo los datos final\n"
     ]
    }
   ],
   "source": [
    "dirgen=dirname(stringgeneral)\n",
    "basegen=basename(stringgeneral)\n",
    "outname=string(dirgen,\"/LFP_Promedio_\", basegen, \".h5\")\n",
    "#aqui hay que arreglar el rollo del directorio\n",
    "parametros=(freq, retrazo, latencia,final)\n",
    "listaaguardar=Dict(\n",
    "     \"LFPSaturados\"=>LFPPromedio,\n",
    "     \"freq\" =>freq,\n",
    "     \"freq\" => freq,\n",
    "     \"retrazo\" => retrazo,\n",
    "     \"latencia\" =>latencia,\n",
    "     \"final\"=> final,\n",
    "     \"Canalesrespuesta\"=>PruebaRespuesta,\n",
    "     \"CanalesSaturados\" => Saturados)\n",
    "\n",
    "\n",
    "println(outname )\n",
    "   h5open(outname, \"w\")  do file\n",
    "        for k in keys(listaaguardar)\n",
    "            datos=listaaguardar[k]\n",
    "            println(\"abriendo los datos \", k)\n",
    "            println\n",
    "            write(file, \"$k\", datos)\n",
    "        end\n",
    "    end"
   ]
  },
  {
   "cell_type": "code",
   "execution_count": 14,
   "metadata": {},
   "outputs": [
    {
     "data": {
      "text/plain": [
       "\"/home/karel/RafaelGutierrez/BRWFiles/LFP_Promedio_050815_3R7_converted.h5\""
      ]
     },
     "execution_count": 14,
     "metadata": {},
     "output_type": "execute_result"
    }
   ],
   "source": [
    "outname"
   ]
  },
  {
   "cell_type": "code",
   "execution_count": null,
   "metadata": {
    "collapsed": true
   },
   "outputs": [],
   "source": []
  }
 ],
 "metadata": {
  "@webio": {
   "lastCommId": "D46A7A25E3984C9E8DDBE3D78CD8F4B5",
   "lastKernelId": "73cbcae8-b80e-41e7-bd6a-b96255c3754b"
  },
  "kernelspec": {
   "display_name": "Julia 1.0.0",
   "language": "julia",
   "name": "julia-1.0"
  },
  "language_info": {
   "file_extension": ".jl",
   "mimetype": "application/julia",
   "name": "julia",
   "version": "1.0.0"
  }
 },
 "nbformat": 4,
 "nbformat_minor": 2
}
