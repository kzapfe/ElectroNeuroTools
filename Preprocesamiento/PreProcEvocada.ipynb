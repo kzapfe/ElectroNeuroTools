{
 "cells": [
  {
   "cell_type": "markdown",
   "metadata": {},
   "source": [
    "# Preprocesamiento para Experimentos de Actividad Evocada\n",
    "\n",
    "Este Cuaderno es básicamente una versión interactiva del programa en el archivo \"SeparaActividadyPromedia.jl\" que contiene las mismas rutinas pero automatizadas. Esta versión permite un poco más de interacción."
   ]
  },
  {
   "cell_type": "code",
   "execution_count": 1,
   "metadata": {},
   "outputs": [
    {
     "name": "stderr",
     "output_type": "stream",
     "text": [
      "\u001b[1m\u001b[36mINFO: \u001b[39m\u001b[22m\u001b[36mRecompiling stale cache file /home/karel/.julia/lib/v0.6/FileIO.ji for module FileIO.\n",
      "\u001b[39m\u001b[1m\u001b[36mINFO: \u001b[39m\u001b[22m\u001b[36mRecompiling stale cache file /home/karel/.julia/lib/v0.6/JLD.ji for module JLD.\n",
      "\u001b[39m"
     ]
    }
   ],
   "source": [
    "include(\"SeparaActividadySaturados01.jl\")\n",
    "# en este modulo se encuentran las rutinas para encontrar los estimulos (\"trancazos\")\n",
    "# y los canales saturados\n",
    "using SeparaActividadySaturados01\n",
    "using JLD"
   ]
  },
  {
   "cell_type": "code",
   "execution_count": 2,
   "metadata": {},
   "outputs": [
    {
     "data": {
      "text/plain": [
       "\"/home/karel/BRWFiles/Evocada05082015/050815_3R3_converted\""
      ]
     },
     "execution_count": 2,
     "metadata": {},
     "output_type": "execute_result"
    }
   ],
   "source": [
    "# Nombre de un archivo *brw en formato hdf5 con datos de acticidad evocada\n",
    "abrestring=\"/home/karel/BRWFiles/Evocada05082015/050815_3R3_converted.brw\"\n",
    "stringgeneral=replace(abrestring, \".brw\", \"\")  "
   ]
  },
  {
   "cell_type": "code",
   "execution_count": 3,
   "metadata": {},
   "outputs": [
    {
     "data": {
      "text/plain": [
       "Dict{String,Any} with 8 entries:\n",
       "  \"minvolt\"     => -4125.0\n",
       "  \"maxvolt\"     => 4125.0\n",
       "  \"frecuencia\"  => 7020.8\n",
       "  \"DatosCrudos\" => UInt16[0x0800 0x0000 … 0x0000 0x0000; 0x080b 0x0809 … 0x07f5…\n",
       "  \"bitdepth\"    => 0x0c\n",
       "  \"factor\"      => 2.01416\n",
       "  \"numcuadros\"  => 210624\n",
       "  \"duracion\"    => 30.0"
      ]
     },
     "execution_count": 3,
     "metadata": {},
     "output_type": "execute_result"
    }
   ],
   "source": [
    "#Todos los datos de la matriz del brw file\n",
    "Datos=AbreyCheca(abrestring)"
   ]
  },
  {
   "cell_type": "code",
   "execution_count": 4,
   "metadata": {},
   "outputs": [],
   "source": [
    "# Si los datos andan en un arreglo de lista en lugar de cuadrado, los ponemos cuadrados\n",
    "if size(Datos[\"DatosCrudos\"])[1] != 4096\n",
    "DatosCrudosArreglados=reshape(Datos[\"DatosCrudos\"], (4096, Datos[\"numcuadros\"]))\n",
    "else\n",
    "DatosCrudosArreglados=Datos[\"DatosCrudos\"]\n",
    "end;\n"
   ]
  },
  {
   "cell_type": "code",
   "execution_count": 5,
   "metadata": {},
   "outputs": [
    {
     "data": {
      "text/plain": [
       "46"
      ]
     },
     "execution_count": 5,
     "metadata": {},
     "output_type": "execute_result"
    }
   ],
   "source": [
    "#parametetros globales.\n",
    "freq=Datos[\"frecuencia\"]/1000 #cuadros por milisegundo.\n",
    "factor=Datos[\"factor\"] #Factor de conversion de numeros enteros a microVolts\n",
    "\n",
    "retrazo=round(Int, ceil(5*freq))\n",
    "final=round(Int, ceil(60*freq))\n",
    "latencia=round(Int, ceil(1.5*freq))\n",
    "#Gis recomienda esperar hasta 6.5 ms por cada estimulo.\n",
    "tiempopostgolpe=round(Int,ceil(6.5*freq))\n"
   ]
  },
  {
   "cell_type": "markdown",
   "metadata": {},
   "source": [
    "Tomamos un electrodo como ejemplo y buscamos los momentos (en cuadros, unidades enteras) de los estimulos:"
   ]
  },
  {
   "cell_type": "code",
   "execution_count": 6,
   "metadata": {},
   "outputs": [
    {
     "name": "stdout",
     "output_type": "stream",
     "text": [
      "Sitios de trancazo electrico=[67863, 138471, 209079]\n"
     ]
    }
   ],
   "source": [
    "ejemplo=vec(DatosCrudosArreglados[1500,:]);\n",
    "listongas=EncuentraTrancazosRaw(ejemplo,500)\n",
    "println(\"Sitios de trancazo electrico en cuadros =\", listongas)"
   ]
  },
  {
   "cell_type": "markdown",
   "metadata": {},
   "source": [
    "Ahora creamos un diccionario que contenga la actividad alrededor de los estimulos"
   ]
  },
  {
   "cell_type": "code",
   "execution_count": 7,
   "metadata": {},
   "outputs": [
    {
     "name": "stdout",
     "output_type": "stream",
     "text": [
      "Tiempo, en cuadros, de los intervalos con trancazo=459\n"
     ]
    }
   ],
   "source": [
    "ActividadRaw=ActivAlrededorTrancazo(listongas, DatosCrudosArreglados, freq)\n",
    "(bla,tmax)=size(ActividadRaw[\"Trancazo_1\"])\n",
    "println(\"Tiempo, en cuadros, de los intervalos con trancazo=\",tmax)\n"
   ]
  },
  {
   "cell_type": "markdown",
   "metadata": {},
   "source": [
    "Finalmente, centramos y  reescalamos los datos, y los promediamos."
   ]
  },
  {
   "cell_type": "code",
   "execution_count": 10,
   "metadata": {},
   "outputs": [
    {
     "name": "stderr",
     "output_type": "stream",
     "text": [
      "\u001b[1m\u001b[33mWARNING: \u001b[39m\u001b[22m\u001b[33mArray(::Type{T}, m::Int, n::Int, o::Int) where T is deprecated, use Array{T}(m, n, o) instead.\u001b[39m\n",
      "Stacktrace:\n",
      " [1] \u001b[1mdepwarn\u001b[22m\u001b[22m\u001b[1m(\u001b[22m\u001b[22m::String, ::Symbol\u001b[1m)\u001b[22m\u001b[22m at \u001b[1m./deprecated.jl:70\u001b[22m\u001b[22m\n",
      " [2] \u001b[1mArray\u001b[22m\u001b[22m\u001b[1m(\u001b[22m\u001b[22m::Type{Int32}, ::Int64, ::Int64, ::Int64\u001b[1m)\u001b[22m\u001b[22m at \u001b[1m./deprecated.jl:57\u001b[22m\u001b[22m\n",
      " [3] \u001b[1mFormaMatrizDatosCentrados\u001b[22m\u001b[22m\u001b[1m(\u001b[22m\u001b[22m::Array{UInt16,2}, ::Float64\u001b[1m)\u001b[22m\u001b[22m at \u001b[1m/home/karel/RGutWork/Preprocesamiento/SeparaActividadySaturados01.jl:83\u001b[22m\u001b[22m\n",
      " [4] \u001b[1mmacro expansion\u001b[22m\u001b[22m at \u001b[1m./In[10]:3\u001b[22m\u001b[22m [inlined]\n",
      " [5] \u001b[1manonymous\u001b[22m\u001b[22m at \u001b[1m./<missing>:?\u001b[22m\u001b[22m\n",
      " [6] \u001b[1mexecute_request\u001b[22m\u001b[22m\u001b[1m(\u001b[22m\u001b[22m::ZMQ.Socket, ::IJulia.Msg\u001b[1m)\u001b[22m\u001b[22m at \u001b[1m/home/karel/.julia/v0.6/IJulia/src/execute_request.jl:180\u001b[22m\u001b[22m\n",
      " [7] \u001b[1m(::Compat.#inner#14{Array{Any,1},IJulia.#execute_request,Tuple{ZMQ.Socket,IJulia.Msg}})\u001b[22m\u001b[22m\u001b[1m(\u001b[22m\u001b[22m\u001b[1m)\u001b[22m\u001b[22m at \u001b[1m/home/karel/.julia/v0.6/Compat/src/Compat.jl:332\u001b[22m\u001b[22m\n",
      " [8] \u001b[1meventloop\u001b[22m\u001b[22m\u001b[1m(\u001b[22m\u001b[22m::ZMQ.Socket\u001b[1m)\u001b[22m\u001b[22m at \u001b[1m/home/karel/.julia/v0.6/IJulia/src/eventloop.jl:8\u001b[22m\u001b[22m\n",
      " [9] \u001b[1m(::IJulia.##15#18)\u001b[22m\u001b[22m\u001b[1m(\u001b[22m\u001b[22m\u001b[1m)\u001b[22m\u001b[22m at \u001b[1m./task.jl:335\u001b[22m\u001b[22m\n",
      "while loading In[10], in expression starting on line 2\n"
     ]
    }
   ],
   "source": [
    "DatosCentrados=Dict{AbstractString, Array}()\n",
    "for k in keys(ActividadRaw)\n",
    "    DatosCentrados[k]=FormaMatrizDatosCentrados(ActividadRaw[k], factor)\n",
    "end\n",
    "LFPPromedio=(DatosCentrados[\"Trancazo_1\"]+DatosCentrados[\"Trancazo_2\"]+DatosCentrados[\"Trancazo_3\"])/3;"
   ]
  },
  {
   "cell_type": "markdown",
   "metadata": {},
   "source": [
    "Eso fue la parte de promediar y poner escala sensible a los datos. Ahora prosigue detectar canales con respuesta fisiológica y canales saturados. Empecemos primero por las respuestas."
   ]
  },
  {
   "cell_type": "code",
   "execution_count": 14,
   "metadata": {},
   "outputs": [
    {
     "name": "stdout",
     "output_type": "stream",
     "text": [
      "Encontramos 229 canales probablemente saturados.\n"
     ]
    }
   ],
   "source": [
    "#los parametros son datos promediados, frecuencia, tiempo post estimulo en ms, umbral en microvolts, umbral de saturación en microvolts\n",
    "PruebaRespuesta=BuscaCanalRespActPot(LFPPromedio,freq, 120,-120,-800)\n",
    "# y luego los saturados\n",
    "iniciobusqueda=retrazo\n",
    "finbusqueda=retrazo+4*latencia\n",
    "Saturados=BuscaSaturados(LFPPromedio,1200,iniciobusqueda,finbusqueda)\n",
    "numerosaturados=length(Saturados)\n",
    "println(\"Encontramos \", numerosaturados, \" canales probablemente saturados.\")\n"
   ]
  },
  {
   "cell_type": "code",
   "execution_count": 20,
   "metadata": {},
   "outputs": [
    {
     "data": {
      "text/plain": [
       "(\"/home/karel/BRWFiles/Evocada05082015\", \"050815_3R3_converted\")"
      ]
     },
     "execution_count": 20,
     "metadata": {},
     "output_type": "execute_result"
    }
   ],
   "source": [
    "dirname(stringgeneral), basename(stringgeneral)"
   ]
  },
  {
   "cell_type": "markdown",
   "metadata": {},
   "source": [
    "Finalmente podemos guardar los Datos"
   ]
  },
  {
   "cell_type": "code",
   "execution_count": 18,
   "metadata": {},
   "outputs": [
    {
     "name": "stderr",
     "output_type": "stream",
     "text": [
      "HDF5-DIAG: Error detected in HDF5 (1.8.18) thread 0:\n",
      "  #000: /var/tmp/portage/sci-libs/hdf5-1.8.18/work/hdf5-1.8.18/src/H5F.c line 522 in H5Fcreate(): unable to create file\n",
      "    major: File accessibilty\n",
      "    minor: Unable to open file\n",
      "  #001: /var/tmp/portage/sci-libs/hdf5-1.8.18/work/hdf5-1.8.18/src/H5Fint.c line 1003 in H5F_open(): unable to open file: time = Mon Aug 27 13:46:26 2018\n",
      ", name = 'LFP_Promedio_/home/karel/BRWFiles/Evocada05082015/050815_3R3_converted.jld', tent_flags = 13\n",
      "    major: File accessibilty\n",
      "    minor: Unable to open file\n",
      "  #002: /var/tmp/portage/sci-libs/hdf5-1.8.18/work/hdf5-1.8.18/src/H5FD.c line 993 in H5FD_open(): open failed\n",
      "    major: Virtual File Layer\n",
      "    minor: Unable to initialize object\n",
      "  #003: /var/tmp/portage/sci-libs/hdf5-1.8.18/work/hdf5-1.8.18/src/H5FDsec2.c line 339 in H5FD_sec2_open(): unable to open file: name = 'LFP_Promedio_/home/karel/BRWFiles/Evocada05082015/050815_3R3_converted.jld', errno = 2, error message = 'No such file or directory', flags = 13, o_flags = 242\n",
      "    major: File accessibilty\n",
      "    minor: Unable to open file\n"
     ]
    },
    {
     "ename": "LoadError",
     "evalue": "\u001b[91mError creating file LFP_Promedio_/home/karel/BRWFiles/Evocada05082015/050815_3R3_converted.jld\u001b[39m",
     "output_type": "error",
     "traceback": [
      "\u001b[91mError creating file LFP_Promedio_/home/karel/BRWFiles/Evocada05082015/050815_3R3_converted.jld\u001b[39m",
      "",
      "Stacktrace:",
      " [1] \u001b[1mh5f_create\u001b[22m\u001b[22m\u001b[1m(\u001b[22m\u001b[22m::String, ::UInt16, ::Int32, ::Int32\u001b[1m)\u001b[22m\u001b[22m at \u001b[1m/home/karel/.julia/v0.6/HDF5/src/HDF5.jl:2264\u001b[22m\u001b[22m",
      " [2] \u001b[1m#jldopen#9\u001b[22m\u001b[22m\u001b[1m(\u001b[22m\u001b[22m::Bool, ::Bool, ::Bool, ::Function, ::String, ::Bool, ::Bool, ::Bool, ::Bool, ::Bool\u001b[1m)\u001b[22m\u001b[22m at \u001b[1m/home/karel/.julia/v0.6/JLD/src/JLD.jl:167\u001b[22m\u001b[22m",
      " [3] \u001b[1m(::JLD.#kw##jldopen)\u001b[22m\u001b[22m\u001b[1m(\u001b[22m\u001b[22m::Array{Any,1}, ::JLD.#jldopen, ::String, ::Bool, ::Bool, ::Bool, ::Bool, ::Bool\u001b[1m)\u001b[22m\u001b[22m at \u001b[1m./<missing>:0\u001b[22m\u001b[22m",
      " [4] \u001b[1m#jldopen#10\u001b[22m\u001b[22m\u001b[1m(\u001b[22m\u001b[22m::Bool, ::Bool, ::Bool, ::Function, ::String, ::String\u001b[1m)\u001b[22m\u001b[22m at \u001b[1m/home/karel/.julia/v0.6/JLD/src/JLD.jl:231\u001b[22m\u001b[22m",
      " [5] \u001b[1m(::JLD.#kw##jldopen)\u001b[22m\u001b[22m\u001b[1m(\u001b[22m\u001b[22m::Array{Any,1}, ::JLD.#jldopen, ::String, ::String\u001b[1m)\u001b[22m\u001b[22m at \u001b[1m./<missing>:0\u001b[22m\u001b[22m",
      " [6] \u001b[1m#jldopen#11\u001b[22m\u001b[22m\u001b[1m(\u001b[22m\u001b[22m::Array{Any,1}, ::Function, ::JLD.##34#35{String,Array{Float64,3},Tuple{String,Float64,String,Int64,String,Int64,String,Int64,String,Set{Array{Int64,1}},String,Set{Array{Int64,1}}}}, ::String, ::Vararg{String,N} where N\u001b[1m)\u001b[22m\u001b[22m at \u001b[1m/home/karel/.julia/v0.6/JLD/src/JLD.jl:241\u001b[22m\u001b[22m",
      " [7] \u001b[1m(::JLD.#kw##jldopen)\u001b[22m\u001b[22m\u001b[1m(\u001b[22m\u001b[22m::Array{Any,1}, ::JLD.#jldopen, ::Function, ::String, ::String\u001b[1m)\u001b[22m\u001b[22m at \u001b[1m./<missing>:0\u001b[22m\u001b[22m",
      " [8] \u001b[1m#save#33\u001b[22m\u001b[22m\u001b[1m(\u001b[22m\u001b[22m::Bool, ::Bool, ::Function, ::FileIO.File{FileIO.DataFormat{:JLD}}, ::String, ::Array{Float64,3}, ::String, ::Vararg{Any,N} where N\u001b[1m)\u001b[22m\u001b[22m at \u001b[1m/home/karel/.julia/v0.6/JLD/src/JLD.jl:1222\u001b[22m\u001b[22m",
      " [9] \u001b[1msave\u001b[22m\u001b[22m\u001b[1m(\u001b[22m\u001b[22m::FileIO.File{FileIO.DataFormat{:JLD}}, ::String, ::Array{Float64,3}, ::String, ::Vararg{Any,N} where N\u001b[1m)\u001b[22m\u001b[22m at \u001b[1m/home/karel/.julia/v0.6/JLD/src/JLD.jl:1219\u001b[22m\u001b[22m",
      " [10] \u001b[1m#save#15\u001b[22m\u001b[22m\u001b[1m(\u001b[22m\u001b[22m::Array{Any,1}, ::Function, ::String, ::String, ::Vararg{Any,N} where N\u001b[1m)\u001b[22m\u001b[22m at \u001b[1m/home/karel/.julia/v0.6/FileIO/src/loadsave.jl:113\u001b[22m\u001b[22m",
      " [11] \u001b[1msave\u001b[22m\u001b[22m\u001b[1m(\u001b[22m\u001b[22m::String, ::String, ::Array{Float64,3}, ::String, ::Vararg{Any,N} where N\u001b[1m)\u001b[22m\u001b[22m at \u001b[1m/home/karel/.julia/v0.6/FileIO/src/loadsave.jl:113\u001b[22m\u001b[22m",
      " [12] \u001b[1mexecute_request\u001b[22m\u001b[22m\u001b[1m(\u001b[22m\u001b[22m::ZMQ.Socket, ::IJulia.Msg\u001b[1m)\u001b[22m\u001b[22m at \u001b[1m/home/karel/.julia/v0.6/IJulia/src/execute_request.jl:180\u001b[22m\u001b[22m",
      " [13] \u001b[1m(::Compat.#inner#14{Array{Any,1},IJulia.#execute_request,Tuple{ZMQ.Socket,IJulia.Msg}})\u001b[22m\u001b[22m\u001b[1m(\u001b[22m\u001b[22m\u001b[1m)\u001b[22m\u001b[22m at \u001b[1m/home/karel/.julia/v0.6/Compat/src/Compat.jl:332\u001b[22m\u001b[22m",
      " [14] \u001b[1meventloop\u001b[22m\u001b[22m\u001b[1m(\u001b[22m\u001b[22m::ZMQ.Socket\u001b[1m)\u001b[22m\u001b[22m at \u001b[1m/home/karel/.julia/v0.6/IJulia/src/eventloop.jl:8\u001b[22m\u001b[22m",
      " [15] \u001b[1m(::IJulia.##15#18)\u001b[22m\u001b[22m\u001b[1m(\u001b[22m\u001b[22m\u001b[1m)\u001b[22m\u001b[22m at \u001b[1m./task.jl:335\u001b[22m\u001b[22m"
     ]
    }
   ],
   "source": [
    "dirgen=dirname(stringgeneral)\n",
    "basegen=basename(stringgeneral)\n",
    "outname=string(,stringgeneral,\".jld\")\n",
    "#aqui hay que arreglar el rollo del directorio\n",
    "parametros=(freq, retrazo, latencia,final)\n",
    "save(outname,\n",
    "     \"LFPSaturados\", LFPPromedio,\n",
    "     \"freq\",freq,\n",
    "     \"retrazo\", retrazo,\n",
    "     \"latencia\", latencia,\n",
    "     \"final\", final,\n",
    "     \"Canalesrespuesta\", PruebaRespuesta,\n",
    "     \"CanalesSaturados\", Saturados)"
   ]
  },
  {
   "cell_type": "code",
   "execution_count": null,
   "metadata": {
    "collapsed": true
   },
   "outputs": [],
   "source": []
  }
 ],
 "metadata": {
  "kernelspec": {
   "display_name": "Julia 0.6.3",
   "language": "julia",
   "name": "julia-0.6"
  },
  "language_info": {
   "file_extension": ".jl",
   "mimetype": "application/julia",
   "name": "julia",
   "version": "0.6.3"
  }
 },
 "nbformat": 4,
 "nbformat_minor": 2
}
