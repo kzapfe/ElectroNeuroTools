{
 "cells": [
  {
   "cell_type": "markdown",
   "metadata": {},
   "source": [
    "# Preprocesamiento para Experimentos de Actividad Espontánea\n",
    " \n",
    "Este Cuaderno es muy similar al Preprocesamiento para Evocados, pero sin promediar sobre múltiples estímulos. \n",
    "Dado que estos experimentos son muy grandes y causan problemas con el RAM, lo que vamos a hacer es primero cortarlos en cachos \n",
    "manejables (aproximadamente unos 400MB a lo más), y hacer el preprocesamiento sobre cada subarchivo.\n",
    "En lugar de eso se recomienda una inspección visual para obtener un intervalo interesante del Archivo Experimental."
   ]
  },
  {
   "cell_type": "code",
   "execution_count": 1,
   "metadata": {},
   "outputs": [
    {
     "name": "stderr",
     "output_type": "stream",
     "text": [
      "┌ Info: Recompiling stale cache file /home/karel/.julia/compiled/v1.0/ActividadSutil.ji for ActividadSutil [top-level]\n",
      "└ @ Base loading.jl:1190\n"
     ]
    }
   ],
   "source": [
    "push!(LOAD_PATH, \".\")\n",
    "using PreprocTools\n",
    "using HDF5, PyPlot, Statistics\n",
    "using Otsu, ArraySetTools\n",
    "using ActividadSutil"
   ]
  },
  {
   "cell_type": "markdown",
   "metadata": {},
   "source": [
    "La mayoría de los experimentos de actividad espontánea producen archivos de varios GB. Es imposible hacer el prerprocesamiento con \n",
    "memoría limitada. Es muy probable que haya que dividir el archivo en cachos."
   ]
  },
  {
   "cell_type": "code",
   "execution_count": 2,
   "metadata": {},
   "outputs": [
    {
     "data": {
      "text/plain": [
       "\"/home/karel/BRWFiles/Eduardo/Control/Cacho_4_193005_CTRL_Rtn_EMAD_01.h5\""
      ]
     },
     "execution_count": 2,
     "metadata": {},
     "output_type": "execute_result"
    }
   ],
   "source": [
    "abrestring=\"/home/karel/BRWFiles/Eduardo/Control/Cacho_4_193005_CTRL_Rtn_EMAD_01.h5\"\n",
    "stringgeneral=replace(abrestring, \".brw\"=>\"\")  "
   ]
  },
  {
   "cell_type": "code",
   "execution_count": 3,
   "metadata": {},
   "outputs": [
    {
     "data": {
      "text/plain": [
       "\"/home/karel/BRWFiles/Eduardo/Control/Cacho_4_193005_CTRL_Rtn_EMAD_01.h5\""
      ]
     },
     "execution_count": 3,
     "metadata": {},
     "output_type": "execute_result"
    }
   ],
   "source": [
    "abrestring"
   ]
  },
  {
   "cell_type": "code",
   "execution_count": 4,
   "metadata": {},
   "outputs": [
    {
     "data": {
      "text/plain": [
       "Dict{String,Any} with 3 entries:\n",
       "  \"intervalo\" => [15700.0, 16700.0]\n",
       "  \"lfp\"       => Float32[-4125.0 0.0 … 0.0 0.0; -12.085 24.1699 … 32.2266 10.07…\n",
       "  \"freq\"      => 17.8555"
      ]
     },
     "execution_count": 4,
     "metadata": {},
     "output_type": "execute_result"
    }
   ],
   "source": [
    "data=abrecacho(abrestring)"
   ]
  },
  {
   "cell_type": "code",
   "execution_count": 5,
   "metadata": {},
   "outputs": [
    {
     "data": {
      "text/plain": [
       "0"
      ]
     },
     "execution_count": 5,
     "metadata": {},
     "output_type": "execute_result"
    }
   ],
   "source": [
    "lfp=data[\"lfp\"]\n",
    "intervalo=data[\"intervalo\"]\n",
    "freq=data[\"freq\"];\n",
    "data=0"
   ]
  },
  {
   "cell_type": "markdown",
   "metadata": {},
   "source": [
    "Para archivos monstruosamente grandes, o dividimos automaticamente en cachos todo, o escogemos intervalos interesantes y de ahi trabajamos los cachos."
   ]
  },
  {
   "cell_type": "code",
   "execution_count": 6,
   "metadata": {},
   "outputs": [
    {
     "data": {
      "text/plain": [
       "(64, 64, 17857)"
      ]
     },
     "execution_count": 6,
     "metadata": {},
     "output_type": "execute_result"
    }
   ],
   "source": [
    "(rengs, cols, nmax)=size(lfp)"
   ]
  },
  {
   "cell_type": "code",
   "execution_count": 7,
   "metadata": {},
   "outputs": [
    {
     "name": "stdout",
     "output_type": "stream",
     "text": [
      "Tienes 17857 cuadros de muestreo a 17.8555 cuadros por milisegundo\n",
      "Esto corresponde a  1000.1ms.\n"
     ]
    }
   ],
   "source": [
    "tiempototalms=round(nmax/freq; digits=1) \n",
    "println(\"Tienes \", nmax, \" cuadros de muestreo a \", round(freq; digits=4), \" cuadros por milisegundo\")\n",
    "println( \"Esto corresponde a  \", tiempototalms, \"ms.\" )"
   ]
  },
  {
   "cell_type": "code",
   "execution_count": 8,
   "metadata": {},
   "outputs": [
    {
     "data": {
      "text/plain": [
       "0.06054798113781201"
      ]
     },
     "execution_count": 8,
     "metadata": {},
     "output_type": "execute_result"
    }
   ],
   "source": [
    "fmemlibre=Sys.free_memory()/Sys.total_memory()"
   ]
  },
  {
   "cell_type": "code",
   "execution_count": 9,
   "metadata": {
    "scrolled": true
   },
   "outputs": [],
   "source": [
    "exc=lfp[10,48,:];"
   ]
  },
  {
   "cell_type": "code",
   "execution_count": 10,
   "metadata": {},
   "outputs": [
    {
     "data": {
      "image/png": "[encoded data removed]",
      "text/plain": [
       "Figure(PyObject <Figure size 900x300 with 1 Axes>)"
      ]
     },
     "metadata": {},
     "output_type": "display_data"
    },
    {
     "data": {
      "text/plain": [
       "1-element Array{PyCall.PyObject,1}:\n",
       " PyObject <matplotlib.lines.Line2D object at 0x7fcc832676d8>"
      ]
     },
     "execution_count": 10,
     "metadata": {},
     "output_type": "execute_result"
    }
   ],
   "source": [
    "figure(figsize=(9,3))\n",
    "inter=16000:nmax\n",
    "it=inter./freq\n",
    "plot(it, exc[inter])"
   ]
  },
  {
   "cell_type": "code",
   "execution_count": 11,
   "metadata": {},
   "outputs": [
    {
     "data": {
      "text/plain": [
       "64"
      ]
     },
     "execution_count": 11,
     "metadata": {},
     "output_type": "execute_result"
    }
   ],
   "source": [
    "# De donde a donde quieres recortar\n",
    "renglonmin=16\n",
    "renglonmax=50\n",
    "colmin=32\n",
    "colmax=64"
   ]
  },
  {
   "cell_type": "code",
   "execution_count": 12,
   "metadata": {},
   "outputs": [],
   "source": [
    "sublfp=lfp[renglonmin:renglonmax, colmin:colmax,:];"
   ]
  },
  {
   "cell_type": "code",
   "execution_count": 13,
   "metadata": {},
   "outputs": [
    {
     "data": {
      "text/plain": [
       "0.0521"
      ]
     },
     "execution_count": 13,
     "metadata": {},
     "output_type": "execute_result"
    }
   ],
   "source": [
    "round(Sys.free_memory()/Sys.total_memory(),digits=4)"
   ]
  },
  {
   "cell_type": "code",
   "execution_count": 14,
   "metadata": {
    "scrolled": true
   },
   "outputs": [
    {
     "name": "stdout",
     "output_type": "stream",
     "text": [
      "Estoy buscando del cuadro 18 al , 17856\n",
      "Encontramos 22 canales malos por promedio alto.\n",
      "Encontramos 82 canales malos por mucha desviacion alto.\n",
      "Encontramos 69 canales malos por ruidi.\n",
      "Encontramos 81 canales probablemente con actividad.\n"
     ]
    }
   ],
   "source": [
    "#los parametros son datos promediados, frecuencia, tiempo post estimulo en ms, umbral en microvolts, umbral de saturación en microvolts\n",
    "inib=1 # inicio busqueda en ms\n",
    "finb=1000 # fin busqueda en ms\n",
    "\n",
    "conpicos=buscaCanalPicos(lfp, inib, finb, freq,-80,-600,23,35)\n",
    "saturados=BuscaSaturados(lfp, inib, finb, freq, 801 )\n",
    "satstd=BuscaSaturadosStd(lfp, inib, finb, freq, 10, 30)\n",
    "satrd=BuscaRuidosos(lfp, inib, finb, freq, 200, 20)\n",
    "\n",
    "numerosaturados=length(saturados)\n",
    "numsatstd=length(satstd)\n",
    "numsatrd=length(satrd)\n",
    "numbom=length(conpicos)\n",
    "\n",
    "println(\"Encontramos \", numerosaturados, \" canales malos por promedio alto.\")\n",
    "println(\"Encontramos \", numsatstd, \" canales malos por mucha desviacion alto.\")\n",
    "println(\"Encontramos \", numsatrd, \" canales malos por ruidi.\")\n",
    "println(\"Encontramos \", numbom, \" canales probablemente con actividad.\")\n"
   ]
  },
  {
   "cell_type": "code",
   "execution_count": 15,
   "metadata": {},
   "outputs": [
    {
     "data": {
      "text/plain": [
       "Set(Array{Int8,1}[[18, 27], [32, 15], [11, 63], [41, 9], [6, 27], [60, 58], [64, 45], [38, 33], [24, 40], [23, 7]  …  [10, 48], [27, 18], [5, 27], [33, 38], [45, 10], [12, 27], [52, 55], [38, 21], [27, 40], [60, 54], [55, 52]])"
      ]
     },
     "execution_count": 15,
     "metadata": {},
     "output_type": "execute_result"
    }
   ],
   "source": [
    "malos=union(saturados, satstd, satrd)"
   ]
  },
  {
   "cell_type": "code",
   "execution_count": 16,
   "metadata": {},
   "outputs": [
    {
     "data": {
      "text/plain": [
       "17.85550205219098"
      ]
     },
     "execution_count": 16,
     "metadata": {},
     "output_type": "execute_result"
    }
   ],
   "source": [
    "freq"
   ]
  },
  {
   "cell_type": "code",
   "execution_count": 17,
   "metadata": {},
   "outputs": [
    {
     "data": {
      "text/plain": [
       "(1, 5, 10, 20, 75)"
      ]
     },
     "execution_count": 17,
     "metadata": {},
     "output_type": "execute_result"
    }
   ],
   "source": [
    "#ar=(m1, m2, m3, m4, m5)\n",
    "ur=(1, 5, 10, 20, 75)"
   ]
  },
  {
   "cell_type": "code",
   "execution_count": 18,
   "metadata": {},
   "outputs": [],
   "source": [
    "mmms=Dict{Int, Array}()\n",
    "\n",
    "for j=1:5\n",
    "    puf=ur[j]\n",
    "    aux=buscasigmaactiva(lfp, malos=malos, venms=puf, freq=freq)\n",
    "    mmms[j]=otsuumbralizar(aux)\n",
    "end"
   ]
  },
  {
   "cell_type": "code",
   "execution_count": null,
   "metadata": {},
   "outputs": [],
   "source": [
    "fff=mmms[1]+mmms[2]+mmms[3]+mmms[4]+mmms[5]"
   ]
  },
  {
   "cell_type": "markdown",
   "metadata": {},
   "source": [
    "### inspección visual. \n",
    "Podemos tomar una imagen de la desviación estándar por canal y sobreponerle unas marcas para los canales \"respuesta\".\n",
    "De ahí podemos tomar un ejemplo para dibujar el trazo en ese canal."
   ]
  },
  {
   "cell_type": "code",
   "execution_count": 19,
   "metadata": {},
   "outputs": [],
   "source": [
    "(alto, ancho, nmax)=size(lfp)\n",
    "DesviacionPorCanal=zeros(alto,ancho)\n",
    "ventastd=zeros(alto,ancho)\n",
    "proms=zeros(alto, ancho)\n",
    "\n",
    "for j=1:alto\n",
    "    for k=1:ancho\n",
    "        ChorizoExemplo=vec(lfp[j,k,:])\n",
    "        DesviacionPorCanal[j,k]=std(ChorizoExemplo)\n",
    "        aux=desviacionventanas(ChorizoExemplo, 40, freq)\n",
    "        ventastd[j,k]=median(aux)\n",
    "        proms[j,k]=sum(ChorizoExemplo)\n",
    "    end\n",
    "end"
   ]
  },
  {
   "cell_type": "code",
   "execution_count": 20,
   "metadata": {},
   "outputs": [
    {
     "data": {
      "text/plain": [
       "(0.093017578125, 19.81997421952792)"
      ]
     },
     "execution_count": 20,
     "metadata": {},
     "output_type": "execute_result"
    }
   ],
   "source": [
    "mean(mmms[1]), mean(ventastd)"
   ]
  },
  {
   "cell_type": "code",
   "execution_count": 21,
   "metadata": {},
   "outputs": [],
   "source": [
    "using ArraySetTools"
   ]
  },
  {
   "cell_type": "code",
   "execution_count": 22,
   "metadata": {},
   "outputs": [
    {
     "data": {
      "image/png": "[encoded data removed]",
      "text/plain": [
       "Figure(PyObject <Figure size 900x900 with 2 Axes>)"
      ]
     },
     "metadata": {},
     "output_type": "display_data"
    }
   ],
   "source": [
    "figure(figsize=(9,9))\n",
    "xlim(0,ancho+1)\n",
    "ylim(0, alto+1)\n",
    "title(\"σ\")\n",
    "limsup=1\n",
    "liminf=0\n",
    "\n",
    "kk=3\n",
    "title(\"ventana $(ur[kk]) ms\")\n",
    "\n",
    "imagen=imshow(mmms[kk], origin=\"lower\", interpolation=\"nearest\",cmap=\"gray\", \n",
    "                      vmin=liminf,vmax=limsup, extent=[0.5,ancho+0.5,0.5,alto+0.5])\n",
    "cb=colorbar()\n",
    "\n",
    "xx1=elemtorow(conpicos)\n",
    "\n",
    "plot([colmin-0.5, colmin-0.5], [renglonmin,renglonmax], lw=2, c=\"black\")\n",
    "plot([colmin-0.5, colmax+0.5], [renglonmax,renglonmax], lw=2, c=\"black\")\n",
    "plot([colmax+0.5, colmax+0.5], [renglonmax,renglonmin], lw=2, c=\"black\")\n",
    "plot([colmax+0.5, colmin-0.5], [renglonmin,renglonmin], lw=2, c=\"black\")\n",
    "\n",
    "\n",
    "xx2=elemtorow(saturados)\n",
    "xx3=elemtorow(satstd)\n",
    "xx4=elemtorow(satrd)\n",
    "\n",
    "\n",
    "xticks(0:4:64)\n",
    "yticks(0:4:64)\n",
    "\n",
    "scatter(xx1[:,2],xx1[:,1], marker=\"x\",c=\"blue\", s=30)\n",
    "scatter(xx2[:,2],xx2[:,1], marker=\"o\",c=\"lightgreen\", s=25)\n",
    "scatter(xx3[:,2],xx3[:,1], marker=\"D\",c=\"green\", s=25)\n",
    "scatter(xx4[:,2], xx4[:,1], marker=\"x\",c=\"green\", s=25)\n",
    "grid(which=\"both\", color=\"white\")"
   ]
  },
  {
   "cell_type": "code",
   "execution_count": 23,
   "metadata": {
    "scrolled": false
   },
   "outputs": [
    {
     "data": {
      "image/png": "[encoded data removed]",
      "text/plain": [
       "Figure(PyObject <Figure size 640x480 with 1 Axes>)"
      ]
     },
     "metadata": {},
     "output_type": "display_data"
    }
   ],
   "source": [
    "hist(vec(mmms[2]), bins=128, log=false);"
   ]
  },
  {
   "cell_type": "code",
   "execution_count": null,
   "metadata": {},
   "outputs": [],
   "source": [
    "bla=hist(vec(mmms[3]), range=(17,100),bins=128);"
   ]
  },
  {
   "cell_type": "code",
   "execution_count": null,
   "metadata": {},
   "outputs": [],
   "source": [
    "extrema(mmms[3])"
   ]
  },
  {
   "cell_type": "code",
   "execution_count": null,
   "metadata": {},
   "outputs": [],
   "source": [
    "(cuac, cuc,coc)=otsumethod(mmms[3])"
   ]
  },
  {
   "cell_type": "code",
   "execution_count": null,
   "metadata": {},
   "outputs": [],
   "source": [
    "mean(mmm), std(mmm)"
   ]
  },
  {
   "cell_type": "code",
   "execution_count": null,
   "metadata": {},
   "outputs": [],
   "source": [
    " tantos=length(rango)\n",
    "    #valores\n",
    "    omega1=0\n",
    "    omega2=0\n",
    "    mu1=0\n",
    "    mu2=0\n",
    "    sigmab=0\n",
    "    sigmabtemp=0\n",
    "    tbest=0\n",
    "    varlim=0\n",
    "    for t=1:tantos-1\n",
    "        omega1=sum(cuentas[1:t])\n",
    "        omega2=sum(cuentas[t+1:tantos-1])\n",
    "        mu1=sum(cuentas[1:t].*rango[1:t])/omega1\n",
    "        mu2=sum(cuentas[t+1:tantos-1].*rango[t+1:tantos-1])/omega2        \n",
    "        sigmabtemp=omega1*omega2*((mu1-mu2)^2)\n",
    "        if sigmabtemp>sigmab\n",
    "            sigmab=sigmabtemp\n",
    "            tbest=t\n",
    "            varlim=rango[t]\n",
    "        end\n",
    "    end"
   ]
  },
  {
   "cell_type": "code",
   "execution_count": null,
   "metadata": {},
   "outputs": [],
   "source": [
    "tbest"
   ]
  },
  {
   "cell_type": "code",
   "execution_count": null,
   "metadata": {},
   "outputs": [],
   "source": [
    "typeof(h.edges[1])"
   ]
  },
  {
   "cell_type": "code",
   "execution_count": null,
   "metadata": {},
   "outputs": [],
   "source": [
    "median(ventastd), std(ventastd)"
   ]
  },
  {
   "cell_type": "code",
   "execution_count": null,
   "metadata": {},
   "outputs": [],
   "source": [
    "egtrazo=lfp[28,42,:];"
   ]
  },
  {
   "cell_type": "code",
   "execution_count": null,
   "metadata": {},
   "outputs": [],
   "source": [
    "std(egtrazo)"
   ]
  },
  {
   "cell_type": "code",
   "execution_count": null,
   "metadata": {},
   "outputs": [],
   "source": [
    "?hist"
   ]
  },
  {
   "cell_type": "markdown",
   "metadata": {},
   "source": [
    "Escogamos uno de los que parecen estar en la \"sombra luminosa\" del Cuerno de Amon y que estén marcados con x blanca."
   ]
  },
  {
   "cell_type": "code",
   "execution_count": null,
   "metadata": {},
   "outputs": [],
   "source": [
    "figure(figsize=(12,4))\n",
    "xlabel(\"cuadros\")\n",
    "ylabel(\"mV\")\n",
    "ylim(-100,100)\n",
    "#subintervalo a graficar, por omision, todo primero, es decir desde=1, hasta=cuadrosmax\n",
    "desde=6\n",
    "hasta=1200\n",
    "#intervalo=1:cacho\n",
    "intervalo=desde:hasta\n",
    "it=intervalo./freq\n",
    "grid()\n",
    "plot(it,egtrazo[intervalo], lw=2)"
   ]
  },
  {
   "cell_type": "markdown",
   "metadata": {},
   "source": [
    "Tomaremos el intervalo interesante y guardaremos esos datos en un archivo con toda la información de saturados y respuestas, \n",
    "de la misma forma que como se hace con los evocados. A diferencia de éstos, no tenemos parámetros de latencia, en lugar de eso\n",
    "tendremos una indicacion de \"de donde a donde se cortaron los datos\", en cuadros."
   ]
  },
  {
   "cell_type": "code",
   "execution_count": null,
   "metadata": {},
   "outputs": [],
   "source": [
    "dirname(stringgeneral), basename(stringgeneral)"
   ]
  },
  {
   "cell_type": "code",
   "execution_count": null,
   "metadata": {},
   "outputs": [],
   "source": [
    "dirgen=dirname(stringgeneral)\n",
    "basegen=basename(stringgeneral)\n",
    "#una palabra para indicar el intervalo \n",
    "indicadorespecifico=\"_subdatos.h5\"\n",
    "outname=string(dirgen,palabritaespecial, basegen, indicadorespecifico)\n",
    "#aqui hay que arreglar el rollo del directorio\n",
    "\n",
    "listaaguardar=Dict(\n",
    "    \"LFPRecortado\" => Subdatos,\n",
    "     \"cols\" => [colmin, colmax],\n",
    "      \"rengs\" => [renglonmin, renglonmax],\n",
    "     \"freq\" =>freq,\n",
    "     \"Canalesrespuesta\" => PruebaRespuesta,\n",
    "     \"CanalesSaturados\" => Saturados)\n",
    "\n",
    "println(outname )\n",
    "   h5open(outname, \"w\")  do file\n",
    "        for k in keys(listaaguardar)\n",
    "            datos=listaaguardar[k]\n",
    "            println(\"abriendo los datos \", k)\n",
    "            println\n",
    "            write(file, \"$k\", datos)\n",
    "        end\n",
    "    end\n",
    "\n",
    "println(\"hemos guardado este cacho en el archivo \", outname)\n"
   ]
  },
  {
   "cell_type": "code",
   "execution_count": null,
   "metadata": {},
   "outputs": [],
   "source": [
    "typeof(Subdatos)"
   ]
  },
  {
   "cell_type": "code",
   "execution_count": null,
   "metadata": {},
   "outputs": [],
   "source": [
    "Subdatos=convert.(Float32, Subdatos)"
   ]
  },
  {
   "cell_type": "code",
   "execution_count": null,
   "metadata": {},
   "outputs": [],
   "source": []
  }
 ],
 "metadata": {
  "@webio": {
   "lastCommId": null,
   "lastKernelId": null
  },
  "kernelspec": {
   "display_name": "Julia 1.0.3",
   "language": "julia",
   "name": "julia-1.0"
  },
  "language_info": {
   "file_extension": ".jl",
   "mimetype": "application/julia",
   "name": "julia",
   "version": "1.0.3"
  }
 },
 "nbformat": 4,
 "nbformat_minor": 2
}
