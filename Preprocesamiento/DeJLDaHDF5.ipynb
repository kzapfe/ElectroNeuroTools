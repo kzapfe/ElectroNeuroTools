{
 "cells": [
  {
   "cell_type": "code",
   "execution_count": 1,
   "metadata": {},
   "outputs": [
    {
     "name": "stderr",
     "output_type": "stream",
     "text": [
      "WARNING: could not import Base.lastindex into HDF5\n",
      "WARNING: could not import Base.iterate into HDF5\n"
     ]
    },
    {
     "ename": "LoadError",
     "evalue": "LoadError: \u001b[91mArgumentError: Module Libdl not found in current path.\nRun `Pkg.add(\"Libdl\")` to install the Libdl package.\u001b[39m\nwhile loading /home/karel/.julia/v0.6/HDF5/src/HDF5.jl, in expression starting on line 10",
     "output_type": "error",
     "traceback": [
      "LoadError: \u001b[91mArgumentError: Module Libdl not found in current path.\nRun `Pkg.add(\"Libdl\")` to install the Libdl package.\u001b[39m\nwhile loading /home/karel/.julia/v0.6/HDF5/src/HDF5.jl, in expression starting on line 10",
      "",
      "Stacktrace:",
      " [1] \u001b[1m_require\u001b[22m\u001b[22m\u001b[1m(\u001b[22m\u001b[22m::Symbol\u001b[1m)\u001b[22m\u001b[22m at \u001b[1m./loading.jl:435\u001b[22m\u001b[22m",
      " [2] \u001b[1mrequire\u001b[22m\u001b[22m\u001b[1m(\u001b[22m\u001b[22m::Symbol\u001b[1m)\u001b[22m\u001b[22m at \u001b[1m./loading.jl:405\u001b[22m\u001b[22m",
      " [3] \u001b[1minclude_from_node1\u001b[22m\u001b[22m\u001b[1m(\u001b[22m\u001b[22m::String\u001b[1m)\u001b[22m\u001b[22m at \u001b[1m./loading.jl:576\u001b[22m\u001b[22m",
      " [4] \u001b[1m_require\u001b[22m\u001b[22m\u001b[1m(\u001b[22m\u001b[22m::Symbol\u001b[1m)\u001b[22m\u001b[22m at \u001b[1m./loading.jl:490\u001b[22m\u001b[22m",
      " [5] \u001b[1mrequire\u001b[22m\u001b[22m\u001b[1m(\u001b[22m\u001b[22m::Symbol\u001b[1m)\u001b[22m\u001b[22m at \u001b[1m./loading.jl:405\u001b[22m\u001b[22m",
      " [6] \u001b[1mexecute_request\u001b[22m\u001b[22m\u001b[1m(\u001b[22m\u001b[22m::ZMQ.Socket, ::IJulia.Msg\u001b[1m)\u001b[22m\u001b[22m at \u001b[1m/home/karel/.julia/v0.6/IJulia/src/execute_request.jl:193\u001b[22m\u001b[22m",
      " [7] \u001b[1m(::Compat.#inner#6{Array{Any,1},IJulia.#execute_request,Tuple{ZMQ.Socket,IJulia.Msg}})\u001b[22m\u001b[22m\u001b[1m(\u001b[22m\u001b[22m\u001b[1m)\u001b[22m\u001b[22m at \u001b[1m/home/karel/.julia/v0.6/Compat/src/Compat.jl:189\u001b[22m\u001b[22m",
      " [8] \u001b[1meventloop\u001b[22m\u001b[22m\u001b[1m(\u001b[22m\u001b[22m::ZMQ.Socket\u001b[1m)\u001b[22m\u001b[22m at \u001b[1m/home/karel/.julia/v0.6/IJulia/src/eventloop.jl:8\u001b[22m\u001b[22m",
      " [9] \u001b[1m(::IJulia.##13#16)\u001b[22m\u001b[22m\u001b[1m(\u001b[22m\u001b[22m\u001b[1m)\u001b[22m\u001b[22m at \u001b[1m./task.jl:335\u001b[22m\u001b[22m"
     ]
    }
   ],
   "source": [
    "using HDF5,JLD"
   ]
  },
  {
   "cell_type": "code",
   "execution_count": 139,
   "metadata": {},
   "outputs": [
    {
     "data": {
      "text/plain": [
       "\"/home/karel/RGutWork/JLDFiles/19115s1cut_single_event.h5\""
      ]
     },
     "execution_count": 139,
     "metadata": {},
     "output_type": "execute_result"
    }
   ],
   "source": [
    "nombre=\"/home/karel/RGutWork/JLDFiles/19115s1cut_single_event.jld\"\n",
    "nombrecortado=nombre[1:end-3]\n",
    "nombreout=nombrecortado*\"h5\""
   ]
  },
  {
   "cell_type": "code",
   "execution_count": 152,
   "metadata": {},
   "outputs": [
    {
     "data": {
      "text/plain": [
       "true"
      ]
     },
     "execution_count": 152,
     "metadata": {},
     "output_type": "execute_result"
    }
   ],
   "source": [
    "arx=load(nombre)\n",
    "listanombres=keys(arx)\n",
    "in(\"Canalesrespuesta\", listanombres)"
   ]
  },
  {
   "cell_type": "code",
   "execution_count": 153,
   "metadata": {},
   "outputs": [],
   "source": [
    "cSatu=arx[\"CanalesSaturados\"]\n",
    "cRespu=arx[\"Canalesrespuesta\"]\n",
    "freq=arx[\"freq\"]\n",
    "KTT_Kinv=arx[\"KTT_KInv\"]\n",
    "Nota=arx[\"Nota\"]\n",
    "LFPSaturados=arx[\"LFPSaturados\"]\n",
    "kCSDCorrecta=arx[\"kCSDCorrecta\"];"
   ]
  },
  {
   "cell_type": "code",
   "execution_count": 154,
   "metadata": {},
   "outputs": [
    {
     "data": {
      "text/plain": [
       "107"
      ]
     },
     "execution_count": 154,
     "metadata": {},
     "output_type": "execute_result"
    }
   ],
   "source": [
    "length(cSatu)"
   ]
  },
  {
   "cell_type": "code",
   "execution_count": 155,
   "metadata": {},
   "outputs": [
    {
     "name": "stdout",
     "output_type": "stream",
     "text": [
      "it does boeyit does boey "
     ]
    }
   ],
   "source": [
    "#aprendamos a usar el \"splat operator\" es decir, esto: \"...\"\n",
    "if haskey(arx, \"Canalesrespuesta\")\n",
    "    print(\"it does boey \")\n",
    "    cRespu=arx[\"Canalesrespuesta\"]\n",
    "    cRespu2=Array[[0::Int64,0::Int64 ]];\n",
    "    for i in cRespu\n",
    "     push!(cRespu2,i)\n",
    "     end\n",
    "    cRespu3=transpose(hcat(cRespu2[2:end,:]...))\n",
    "    arx[\"Canalesrespuesta\"]=cRespu3;\n",
    "else\n",
    "    println(\"no hay conjunto de canales respuesta guey\")\n",
    "end ;"
   ]
  },
  {
   "cell_type": "code",
   "execution_count": 156,
   "metadata": {},
   "outputs": [
    {
     "name": "stdout",
     "output_type": "stream",
     "text": [
      "abriendo los datos Canalesrespuesta\n",
      "abriendo los datos KTT_KInv\n",
      "abriendo los datos kCSDCorrecta\n",
      "abriendo los datos Nota\n",
      "abriendo los datos LFPSaturados\n",
      "abriendo los datos freq\n",
      "abriendo los datos CanalesSaturados\n"
     ]
    }
   ],
   "source": [
    "if (haskey(arx, \"Canalesrespuesta\") ||  haskey(arx, \"CanalesSaturados\"))\n",
    "   h5open(nombreout, \"w\")  do file\n",
    "        for k in keys(arx)\n",
    "            datos=arx[k]\n",
    "            println(\"abriendo los datos \", k)\n",
    "            println\n",
    "            write(file, \"$k\", datos)\n",
    "        end\n",
    "    \n",
    "        #close(fid)   \n",
    "    end\n",
    "else\n",
    "   intln(\"No hay ninguno de los datos en conjunto conflictivos en este archivo.\")   \n",
    "end"
   ]
  },
  {
   "cell_type": "code",
   "execution_count": 125,
   "metadata": {},
   "outputs": [
    {
     "name": "stdout",
     "output_type": "stream",
     "text": [
      "HDF5.HDF5File\n"
     ]
    }
   ],
   "source": [
    "h5open(\"tuabuela\", \"w\") do file\n",
    "    println(typeof(file))\n",
    "    write(file, \"A\",  [827,23])\n",
    "    write(file, \"B\", [82,23])\n",
    "    write(file, \"C\", [9,9])\n",
    "        for i =1:10\n",
    "        write(file, \"$i\", i)\n",
    "    end\n",
    "    \n",
    "end"
   ]
  },
  {
   "cell_type": "code",
   "execution_count": 157,
   "metadata": {},
   "outputs": [
    {
     "name": "stdout",
     "output_type": "stream",
     "text": [
      "Canalesrespuesta Array{Int64,2}\n",
      "KTT_KInv Array{Float64,2}\n",
      "kCSDCorrecta Array{Float64,3}\n",
      "Nota String\n",
      "LFPSaturados Array{Float64,3}\n",
      "freq Float64\n",
      "CanalesSaturados Array{Int64,2}\n"
     ]
    }
   ],
   "source": [
    "for k in keys(arx)\n",
    "    println(k, \" \", typeof(arx[k]))\n",
    "end"
   ]
  },
  {
   "cell_type": "code",
   "execution_count": 159,
   "metadata": {},
   "outputs": [
    {
     "data": {
      "text/plain": [
       "107×2 Array{Int64,2}:\n",
       "  8  58\n",
       " 11  63\n",
       "  4  62\n",
       " 13  61\n",
       "  6  63\n",
       "  2  60\n",
       " 14  64\n",
       "  8  59\n",
       "  5  64\n",
       "  1  57\n",
       " 20   7\n",
       "  6  59\n",
       "  9  58\n",
       "  ⋮    \n",
       " 23   4\n",
       " 23   1\n",
       "  2  62\n",
       " 10  64\n",
       " 20   1\n",
       "  4  59\n",
       "  2  63\n",
       "  7  61\n",
       "  5  63\n",
       " 12  62\n",
       "  3  56\n",
       "  3  63"
      ]
     },
     "execution_count": 159,
     "metadata": {},
     "output_type": "execute_result"
    }
   ],
   "source": [
    "arx[\"CanalesSaturados\"]"
   ]
  },
  {
   "cell_type": "code",
   "execution_count": 158,
   "metadata": {},
   "outputs": [
    {
     "data": {
      "text/plain": [
       "true"
      ]
     },
     "execution_count": 158,
     "metadata": {},
     "output_type": "execute_result"
    }
   ],
   "source": [
    "cSatu3==arx[\"CanalesSaturados\"]"
   ]
  },
  {
   "cell_type": "code",
   "execution_count": 160,
   "metadata": {},
   "outputs": [
    {
     "data": {
      "text/plain": [
       "107×2 Array{Int64,2}:\n",
       "  8  58\n",
       " 11  63\n",
       "  4  62\n",
       " 13  61\n",
       "  6  63\n",
       "  2  60\n",
       " 14  64\n",
       "  8  59\n",
       "  5  64\n",
       "  1  57\n",
       " 20   7\n",
       "  6  59\n",
       "  9  58\n",
       "  ⋮    \n",
       " 23   4\n",
       " 23   1\n",
       "  2  62\n",
       " 10  64\n",
       " 20   1\n",
       "  4  59\n",
       "  2  63\n",
       "  7  61\n",
       "  5  63\n",
       " 12  62\n",
       "  3  56\n",
       "  3  63"
      ]
     },
     "execution_count": 160,
     "metadata": {},
     "output_type": "execute_result"
    }
   ],
   "source": [
    "h5read(nombreout, \"CanalesSaturados\")"
   ]
  },
  {
   "cell_type": "code",
   "execution_count": 151,
   "metadata": {},
   "outputs": [
    {
     "data": {
      "text/plain": [
       "Array{Int64,2}"
      ]
     },
     "execution_count": 151,
     "metadata": {},
     "output_type": "execute_result"
    }
   ],
   "source": [
    "typeof(arx[\"CanalesSaturados\"])"
   ]
  },
  {
   "cell_type": "code",
   "execution_count": null,
   "metadata": {
    "collapsed": true
   },
   "outputs": [],
   "source": []
  }
 ],
 "metadata": {
  "kernelspec": {
   "display_name": "Julia 0.6.3",
   "language": "julia",
   "name": "julia-0.6"
  },
  "language_info": {
   "file_extension": ".jl",
   "mimetype": "application/julia",
   "name": "julia",
   "version": "0.6.3"
  }
 },
 "nbformat": 4,
 "nbformat_minor": 2
}
