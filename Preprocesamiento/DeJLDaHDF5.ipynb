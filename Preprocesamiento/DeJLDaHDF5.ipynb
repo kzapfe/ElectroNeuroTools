{
 "cells": [
  {
   "cell_type": "code",
   "execution_count": 27,
   "metadata": {
    "collapsed": true
   },
   "outputs": [],
   "source": [
    "using HDF5,JLD"
   ]
  },
  {
   "cell_type": "code",
   "execution_count": 28,
   "metadata": {},
   "outputs": [
    {
     "data": {
      "text/plain": [
       "\"/home/karel/RGutWork/JLDFiles/19115s1cut_single_event.h5\""
      ]
     },
     "execution_count": 28,
     "metadata": {},
     "output_type": "execute_result"
    }
   ],
   "source": [
    "nombre=\"/home/karel/RGutWork/JLDFiles/19115s1cut_single_event.jld\"\n",
    "nombrecortado=nombre[1:end-3]\n",
    "nombreout=nombrecortado*\"h5\""
   ]
  },
  {
   "cell_type": "code",
   "execution_count": 29,
   "metadata": {},
   "outputs": [
    {
     "data": {
      "text/plain": [
       "true"
      ]
     },
     "execution_count": 29,
     "metadata": {},
     "output_type": "execute_result"
    }
   ],
   "source": [
    "arx=load(nombre)\n",
    "listanombres=keys(arx)\n",
    "in(\"Canalesrespuesta\", listanombres)"
   ]
  },
  {
   "cell_type": "code",
   "execution_count": 30,
   "metadata": {
    "collapsed": true
   },
   "outputs": [],
   "source": [
    "cSatu=arx[\"CanalesSaturados\"]\n",
    "cRespu=arx[\"Canalesrespuesta\"]\n",
    "freq=arx[\"freq\"]\n",
    "KTT_Kinv=arx[\"KTT_KInv\"]\n",
    "Nota=arx[\"Nota\"]\n",
    "LFPSaturados=arx[\"LFPSaturados\"]\n",
    "kCSDCorrecta=arx[\"kCSDCorrecta\"];"
   ]
  },
  {
   "cell_type": "code",
   "execution_count": 31,
   "metadata": {},
   "outputs": [
    {
     "data": {
      "text/plain": [
       "Set(Array{Int64,1}[[8, 58], [11, 63], [4, 62], [13, 61], [6, 63], [2, 60], [14, 64], [8, 59], [5, 64], [1, 57]  …  [2, 62], [10, 64], [20, 1], [4, 59], [2, 63], [7, 61], [5, 63], [12, 62], [3, 56], [3, 63]])"
      ]
     },
     "execution_count": 31,
     "metadata": {},
     "output_type": "execute_result"
    }
   ],
   "source": [
    "cSatu"
   ]
  },
  {
   "cell_type": "code",
   "execution_count": 32,
   "metadata": {},
   "outputs": [
    {
     "data": {
      "text/plain": [
       "Set(Array{Int64,1}[[51, 31], [47, 24], [50, 29], [60, 41], [49, 25], [52, 34], [57, 36], [52, 21], [64, 43], [45, 44]  …  [49, 45], [44, 30], [56, 24], [53, 47], [61, 34], [48, 30], [59, 43], [58, 48], [50, 37], [62, 49]])"
      ]
     },
     "execution_count": 32,
     "metadata": {},
     "output_type": "execute_result"
    }
   ],
   "source": [
    "cRespu"
   ]
  },
  {
   "cell_type": "code",
   "execution_count": null,
   "metadata": {
    "collapsed": true
   },
   "outputs": [],
   "source": []
  },
  {
   "cell_type": "code",
   "execution_count": 33,
   "metadata": {},
   "outputs": [
    {
     "data": {
      "text/plain": [
       "107"
      ]
     },
     "execution_count": 33,
     "metadata": {},
     "output_type": "execute_result"
    }
   ],
   "source": [
    "length(cSatu)"
   ]
  },
  {
   "cell_type": "code",
   "execution_count": 34,
   "metadata": {},
   "outputs": [
    {
     "name": "stdout",
     "output_type": "stream",
     "text": [
      "it does boeyit does boey "
     ]
    }
   ],
   "source": [
    "#aprendamos a usar el \"splat operator\" es decir, esto: \"...\"\n",
    "\n",
    "\n",
    "if haskey(arx, \"CanalesSaturados\")\n",
    "    print(\"it does boey\")\n",
    "    cSatu=arx[\"CanalesSaturados\"];\n",
    "    cSatu2=Array[[0::Int64,0::Int64 ]]\n",
    "    for i in cSatu\n",
    "     push!(cSatu2,i)\n",
    "     end\n",
    "    cSatu3=transpose(hcat(cSatu2[2:end,:]...))\n",
    "    arx[\"CanalesSaturados\"]=cSatu3;\n",
    "else\n",
    "    println(\"no hay conjunto de canales saturados guey\")\n",
    "end \n",
    "\n",
    "\n",
    "if haskey(arx, \"Canalesrespuesta\")\n",
    "    print(\"it does boey \")\n",
    "    cRespu=arx[\"Canalesrespuesta\"]\n",
    "    cRespu2=Array[[0::Int64,0::Int64 ]];\n",
    "    for i in cRespu\n",
    "     push!(cRespu2,i)\n",
    "     end\n",
    "    cRespu3=transpose(hcat(cRespu2[2:end,:]...))\n",
    "    arx[\"Canalesrespuesta\"]=cRespu3;\n",
    "else\n",
    "    println(\"no hay conjunto de canales respuesta guey\")\n",
    "end ;"
   ]
  },
  {
   "cell_type": "code",
   "execution_count": 35,
   "metadata": {},
   "outputs": [
    {
     "name": "stdout",
     "output_type": "stream",
     "text": [
      "abriendo los datos Canalesrespuesta\n",
      "abriendo los datos KTT_KInv\n",
      "abriendo los datos kCSDCorrecta\n",
      "abriendo los datos Nota\n",
      "abriendo los datos LFPSaturados\n",
      "abriendo los datos freq\n",
      "abriendo los datos CanalesSaturados\n"
     ]
    }
   ],
   "source": [
    "if (haskey(arx, \"Canalesrespuesta\") ||  haskey(arx, \"CanalesSaturados\"))\n",
    "   h5open(nombreout, \"w\")  do file\n",
    "        for k in keys(arx)\n",
    "            datos=arx[k]\n",
    "            println(\"abriendo los datos \", k)\n",
    "            println\n",
    "            write(file, \"$k\", datos)\n",
    "        end\n",
    "    \n",
    "        #close(fid)   \n",
    "    end\n",
    "else\n",
    "   intln(\"No hay ninguno de los datos en conjunto conflictivos en este archivo.\")   \n",
    "end"
   ]
  },
  {
   "cell_type": "code",
   "execution_count": 36,
   "metadata": {},
   "outputs": [
    {
     "name": "stdout",
     "output_type": "stream",
     "text": [
      "HDF5.HDF5File\n"
     ]
    }
   ],
   "source": [
    "h5open(\"tuabuela\", \"w\") do file\n",
    "    println(typeof(file))\n",
    "    write(file, \"A\",  [827,23])\n",
    "    write(file, \"B\", [82,23])\n",
    "    write(file, \"C\", [9,9])\n",
    "        for i =1:10\n",
    "        write(file, \"$i\", i)\n",
    "    end\n",
    "    \n",
    "end"
   ]
  },
  {
   "cell_type": "code",
   "execution_count": 37,
   "metadata": {},
   "outputs": [
    {
     "name": "stdout",
     "output_type": "stream",
     "text": [
      "Canalesrespuesta Array{Int64,2}\n",
      "KTT_KInv Array{Float64,2}\n",
      "kCSDCorrecta Array{Float64,3}\n",
      "Nota String\n",
      "LFPSaturados Array{Float64,3}\n",
      "freq Float64\n",
      "CanalesSaturados Array{Int64,2}\n"
     ]
    }
   ],
   "source": [
    "for k in keys(arx)\n",
    "    println(k, \" \", typeof(arx[k]))\n",
    "end"
   ]
  },
  {
   "cell_type": "code",
   "execution_count": 38,
   "metadata": {},
   "outputs": [
    {
     "data": {
      "text/plain": [
       "670×2 Array{Int64,2}:\n",
       " 51  31\n",
       " 47  24\n",
       " 50  29\n",
       " 60  41\n",
       " 49  25\n",
       " 52  34\n",
       " 57  36\n",
       " 52  21\n",
       " 64  43\n",
       " 45  44\n",
       " 61  31\n",
       " 13  42\n",
       " 48  38\n",
       "  ⋮    \n",
       " 45  29\n",
       " 57  46\n",
       " 49  45\n",
       " 44  30\n",
       " 56  24\n",
       " 53  47\n",
       " 61  34\n",
       " 48  30\n",
       " 59  43\n",
       " 58  48\n",
       " 50  37\n",
       " 62  49"
      ]
     },
     "execution_count": 38,
     "metadata": {},
     "output_type": "execute_result"
    }
   ],
   "source": [
    "arx[\"Canalesrespuesta\"]"
   ]
  },
  {
   "cell_type": "code",
   "execution_count": 39,
   "metadata": {},
   "outputs": [
    {
     "data": {
      "text/plain": [
       "true"
      ]
     },
     "execution_count": 39,
     "metadata": {},
     "output_type": "execute_result"
    }
   ],
   "source": [
    "cRespu3==arx[\"Canalesrespuesta\"]"
   ]
  },
  {
   "cell_type": "code",
   "execution_count": 40,
   "metadata": {},
   "outputs": [
    {
     "data": {
      "text/plain": [
       "true"
      ]
     },
     "execution_count": 40,
     "metadata": {},
     "output_type": "execute_result"
    }
   ],
   "source": [
    "cSatu3==arx[\"CanalesSaturados\"]"
   ]
  },
  {
   "cell_type": "code",
   "execution_count": 41,
   "metadata": {},
   "outputs": [
    {
     "data": {
      "text/plain": [
       "true"
      ]
     },
     "execution_count": 41,
     "metadata": {},
     "output_type": "execute_result"
    }
   ],
   "source": [
    "h5read(nombreout, \"Canalesrespuesta\")==arx[\"Canalesrespuesta\"]"
   ]
  },
  {
   "cell_type": "code",
   "execution_count": 42,
   "metadata": {},
   "outputs": [
    {
     "data": {
      "text/plain": [
       "Array{Int64,2}"
      ]
     },
     "execution_count": 42,
     "metadata": {},
     "output_type": "execute_result"
    }
   ],
   "source": [
    "typeof(arx[\"CanalesSaturados\"])"
   ]
  },
  {
   "cell_type": "code",
   "execution_count": null,
   "metadata": {
    "collapsed": true
   },
   "outputs": [],
   "source": []
  }
 ],
 "metadata": {
  "kernelspec": {
   "display_name": "Julia 0.6.3",
   "language": "julia",
   "name": "julia-0.6"
  },
  "language_info": {
   "file_extension": ".jl",
   "mimetype": "application/julia",
   "name": "julia",
   "version": "0.6.3"
  }
 },
 "nbformat": 4,
 "nbformat_minor": 2
}
