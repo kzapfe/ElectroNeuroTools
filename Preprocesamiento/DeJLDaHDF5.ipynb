{
 "cells": [
  {
   "cell_type": "code",
   "execution_count": 1,
   "metadata": {
    "collapsed": true
   },
   "outputs": [],
   "source": [
    "using HDF5,JLD"
   ]
  },
  {
   "cell_type": "code",
   "execution_count": 139,
   "metadata": {},
   "outputs": [
    {
     "data": {
      "text/plain": [
       "\"/home/karel/RGutWork/JLDFiles/19115s1cut_single_event.h5\""
      ]
     },
     "execution_count": 139,
     "metadata": {},
     "output_type": "execute_result"
    }
   ],
   "source": [
    "nombre=\"/home/karel/RGutWork/JLDFiles/19115s1cut_single_event.jld\"\n",
    "nombrecortado=nombre[1:end-3]\n",
    "nombreout=nombrecortado*\"h5\""
   ]
  },
  {
   "cell_type": "code",
   "execution_count": 152,
   "metadata": {},
   "outputs": [
    {
     "data": {
      "text/plain": [
       "true"
      ]
     },
     "execution_count": 152,
     "metadata": {},
     "output_type": "execute_result"
    }
   ],
   "source": [
    "arx=load(nombre)\n",
    "listanombres=keys(arx)\n",
    "in(\"Canalesrespuesta\", listanombres)"
   ]
  },
  {
   "cell_type": "code",
   "execution_count": 153,
   "metadata": {},
   "outputs": [],
   "source": [
    "cSatu=arx[\"CanalesSaturados\"]\n",
    "cRespu=arx[\"Canalesrespuesta\"]\n",
    "freq=arx[\"freq\"]\n",
    "KTT_Kinv=arx[\"KTT_KInv\"]\n",
    "Nota=arx[\"Nota\"]\n",
    "LFPSaturados=arx[\"LFPSaturados\"]\n",
    "kCSDCorrecta=arx[\"kCSDCorrecta\"];"
   ]
  },
  {
   "cell_type": "code",
   "execution_count": 154,
   "metadata": {},
   "outputs": [
    {
     "data": {
      "text/plain": [
       "107"
      ]
     },
     "execution_count": 154,
     "metadata": {},
     "output_type": "execute_result"
    }
   ],
   "source": [
    "length(cSatu)"
   ]
  },
  {
   "cell_type": "code",
   "execution_count": 155,
   "metadata": {},
   "outputs": [
    {
     "name": "stdout",
     "output_type": "stream",
     "text": [
      "it does boeyit does boey "
     ]
    }
   ],
   "source": [
    "#aprendamos a usar el \"splat operator\" es decir, esto: \"...\"\n",
    "\n",
    "\n",
    "if haskey(arx, \"CanalesSaturados\")\n",
    "    print(\"it does boey\")\n",
    "    cSatu=arx[\"CanalesSaturados\"];\n",
    "    cSatu2=Array[[0::Int64,0::Int64 ]]\n",
    "    for i in cSatu\n",
    "     push!(cSatu2,i)\n",
    "     end\n",
    "    cSatu3=transpose(hcat(cSatu2[2:end,:]...))\n",
    "    arx[\"CanalesSaturados\"]=cSatu3;\n",
    "else\n",
    "    println(\"no hay conjunto de canales saturados guey\")\n",
    "end \n",
    "\n",
    "\n",
    "if haskey(arx, \"Canalesrespuesta\")\n",
    "    print(\"it does boey \")\n",
    "    cRespu=arx[\"Canalesrespuesta\"]\n",
    "    crespu2=Array[[0::Int64,0::Int64 ]];\n",
    "    for i in cRespu\n",
    "     push!(cRespu2,i)\n",
    "     end\n",
    "    cRespu3=transpose(hcat(cRespu2[2:end,:]...))\n",
    "    arx[\"Canalesrespuesta\"]=cRespu3;\n",
    "else\n",
    "    println(\"no hay conjunto de canales respuesta guey\")\n",
    "end ;"
   ]
  },
  {
   "cell_type": "code",
   "execution_count": 156,
   "metadata": {},
   "outputs": [
    {
     "name": "stdout",
     "output_type": "stream",
     "text": [
      "abriendo los datos Canalesrespuesta\n",
      "abriendo los datos KTT_KInv\n",
      "abriendo los datos kCSDCorrecta\n",
      "abriendo los datos Nota\n",
      "abriendo los datos LFPSaturados\n",
      "abriendo los datos freq\n",
      "abriendo los datos CanalesSaturados\n"
     ]
    }
   ],
   "source": [
    "if (haskey(arx, \"Canalesrespuesta\") ||  haskey(arx, \"CanalesSaturados\"))\n",
    "   h5open(nombreout, \"w\")  do file\n",
    "        for k in keys(arx)\n",
    "            datos=arx[k]\n",
    "            println(\"abriendo los datos \", k)\n",
    "            println\n",
    "            write(file, \"$k\", datos)\n",
    "        end\n",
    "    \n",
    "        #close(fid)   \n",
    "    end\n",
    "else\n",
    "   intln(\"No hay ninguno de los datos en conjunto conflictivos en este archivo.\")   \n",
    "end"
   ]
  },
  {
   "cell_type": "code",
   "execution_count": 125,
   "metadata": {},
   "outputs": [
    {
     "name": "stdout",
     "output_type": "stream",
     "text": [
      "HDF5.HDF5File\n"
     ]
    }
   ],
   "source": [
    "h5open(\"tuabuela\", \"w\") do file\n",
    "    println(typeof(file))\n",
    "    write(file, \"A\",  [827,23])\n",
    "    write(file, \"B\", [82,23])\n",
    "    write(file, \"C\", [9,9])\n",
    "        for i =1:10\n",
    "        write(file, \"$i\", i)\n",
    "    end\n",
    "    \n",
    "end"
   ]
  },
  {
   "cell_type": "code",
   "execution_count": 157,
   "metadata": {},
   "outputs": [
    {
     "name": "stdout",
     "output_type": "stream",
     "text": [
      "Canalesrespuesta Array{Int64,2}\n",
      "KTT_KInv Array{Float64,2}\n",
      "kCSDCorrecta Array{Float64,3}\n",
      "Nota String\n",
      "LFPSaturados Array{Float64,3}\n",
      "freq Float64\n",
      "CanalesSaturados Array{Int64,2}\n"
     ]
    }
   ],
   "source": [
    "for k in keys(arx)\n",
    "    println(k, \" \", typeof(arx[k]))\n",
    "end"
   ]
  },
  {
   "cell_type": "code",
   "execution_count": 159,
   "metadata": {},
   "outputs": [
    {
     "data": {
      "text/plain": [
       "107×2 Array{Int64,2}:\n",
       "  8  58\n",
       " 11  63\n",
       "  4  62\n",
       " 13  61\n",
       "  6  63\n",
       "  2  60\n",
       " 14  64\n",
       "  8  59\n",
       "  5  64\n",
       "  1  57\n",
       " 20   7\n",
       "  6  59\n",
       "  9  58\n",
       "  ⋮    \n",
       " 23   4\n",
       " 23   1\n",
       "  2  62\n",
       " 10  64\n",
       " 20   1\n",
       "  4  59\n",
       "  2  63\n",
       "  7  61\n",
       "  5  63\n",
       " 12  62\n",
       "  3  56\n",
       "  3  63"
      ]
     },
     "execution_count": 159,
     "metadata": {},
     "output_type": "execute_result"
    }
   ],
   "source": [
    "arx[\"CanalesSaturados\"]"
   ]
  },
  {
   "cell_type": "code",
   "execution_count": 158,
   "metadata": {},
   "outputs": [
    {
     "data": {
      "text/plain": [
       "true"
      ]
     },
     "execution_count": 158,
     "metadata": {},
     "output_type": "execute_result"
    }
   ],
   "source": [
    "cSatu3==arx[\"CanalesSaturados\"]"
   ]
  },
  {
   "cell_type": "code",
   "execution_count": 160,
   "metadata": {},
   "outputs": [
    {
     "data": {
      "text/plain": [
       "107×2 Array{Int64,2}:\n",
       "  8  58\n",
       " 11  63\n",
       "  4  62\n",
       " 13  61\n",
       "  6  63\n",
       "  2  60\n",
       " 14  64\n",
       "  8  59\n",
       "  5  64\n",
       "  1  57\n",
       " 20   7\n",
       "  6  59\n",
       "  9  58\n",
       "  ⋮    \n",
       " 23   4\n",
       " 23   1\n",
       "  2  62\n",
       " 10  64\n",
       " 20   1\n",
       "  4  59\n",
       "  2  63\n",
       "  7  61\n",
       "  5  63\n",
       " 12  62\n",
       "  3  56\n",
       "  3  63"
      ]
     },
     "execution_count": 160,
     "metadata": {},
     "output_type": "execute_result"
    }
   ],
   "source": [
    "h5read(nombreout, \"CanalesSaturados\")"
   ]
  },
  {
   "cell_type": "code",
   "execution_count": 151,
   "metadata": {},
   "outputs": [
    {
     "data": {
      "text/plain": [
       "Array{Int64,2}"
      ]
     },
     "execution_count": 151,
     "metadata": {},
     "output_type": "execute_result"
    }
   ],
   "source": [
    "typeof(arx[\"CanalesSaturados\"])"
   ]
  },
  {
   "cell_type": "code",
   "execution_count": null,
   "metadata": {
    "collapsed": true
   },
   "outputs": [],
   "source": []
  }
 ],
 "metadata": {
  "kernelspec": {
   "display_name": "Julia 0.6.3",
   "language": "julia",
   "name": "julia-0.6"
  },
  "language_info": {
   "file_extension": ".jl",
   "mimetype": "application/julia",
   "name": "julia",
   "version": "0.6.3"
  }
 },
 "nbformat": 4,
 "nbformat_minor": 2
}
