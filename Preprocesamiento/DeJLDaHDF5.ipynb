{
 "cells": [
  {
   "cell_type": "code",
   "execution_count": 37,
   "metadata": {
    "collapsed": true
   },
   "outputs": [],
   "source": [
    "using HDF5,JLD"
   ]
  },
  {
   "cell_type": "code",
   "execution_count": 38,
   "metadata": {},
   "outputs": [
    {
     "data": {
      "text/plain": [
       "\"/home/karel/RGutWork/JLDFiles/19115s1cut_single_event.h5\""
      ]
     },
     "execution_count": 38,
     "metadata": {},
     "output_type": "execute_result"
    }
   ],
   "source": [
    "nombre=\"/home/karel/RGutWork/JLDFiles/19115s1cut_single_event.jld\"\n",
    "nombrecortado=nombre[1:end-3]\n",
    "nombreout=nombrecortado*\"h5\""
   ]
  },
  {
   "cell_type": "code",
   "execution_count": 39,
   "metadata": {},
   "outputs": [
    {
     "data": {
      "text/plain": [
       "true"
      ]
     },
     "execution_count": 39,
     "metadata": {},
     "output_type": "execute_result"
    }
   ],
   "source": [
    "arx=load(nombre)\n",
    "listanombres=keys(arx)\n",
    "in(\"Canalesrespuesta\", listanombres)"
   ]
  },
  {
   "cell_type": "code",
   "execution_count": 40,
   "metadata": {
    "collapsed": true
   },
   "outputs": [],
   "source": [
    "cSatu=arx[\"CanalesSaturados\"]\n",
    "cRespu=arx[\"Canalesrespuesta\"]\n",
    "freq=arx[\"freq\"]\n",
    "KTT_Kinv=arx[\"KTT_KInv\"]\n",
    "Nota=arx[\"Nota\"]\n",
    "LFPSaturados=arx[\"LFPSaturados\"]\n",
    "kCSDCorrecta=arx[\"kCSDCorrecta\"];"
   ]
  },
  {
   "cell_type": "code",
   "execution_count": 41,
   "metadata": {},
   "outputs": [
    {
     "data": {
      "text/plain": [
       "Set(Array{Int64,1}[[5, 62], [9, 64], [12, 64], [4, 60], [10, 61], [1, 64], [4, 59], [6, 62], [7, 61], [5, 63]  …  [21, 2], [9, 63], [8, 61], [21, 1], [3, 62], [5, 58], [12, 63], [1, 57], [12, 3], [22, 2], [13, 62]])"
      ]
     },
     "execution_count": 41,
     "metadata": {},
     "output_type": "execute_result"
    }
   ],
   "source": [
    "cSatu"
   ]
  },
  {
   "cell_type": "code",
   "execution_count": 42,
   "metadata": {},
   "outputs": [
    {
     "data": {
      "text/plain": [
       "Set(Array{Int64,1}[[51, 20], [11, 45], [57, 39], [57, 55], [57, 42], [53, 36], [57, 23], [60, 36], [4, 32], [48, 34]  …  [58, 49], [51, 30], [52, 45], [53, 20], [8, 40], [44, 26], [38, 63], [50, 50], [59, 28], [44, 28], [43, 28]])"
      ]
     },
     "execution_count": 42,
     "metadata": {},
     "output_type": "execute_result"
    }
   ],
   "source": [
    "cRespu"
   ]
  },
  {
   "cell_type": "code",
   "execution_count": 43,
   "metadata": {},
   "outputs": [
    {
     "data": {
      "text/plain": [
       "107"
      ]
     },
     "execution_count": 43,
     "metadata": {},
     "output_type": "execute_result"
    }
   ],
   "source": [
    "length(cSatu)"
   ]
  },
  {
   "cell_type": "code",
   "execution_count": 44,
   "metadata": {},
   "outputs": [
    {
     "data": {
      "text/plain": [
       "Set(Array{Int64,1}[[51, 20], [11, 45], [57, 39], [57, 55], [57, 42], [53, 36], [57, 23], [60, 36], [4, 32], [48, 34]  …  [58, 49], [51, 30], [52, 45], [53, 20], [8, 40], [44, 26], [38, 63], [50, 50], [59, 28], [44, 28], [43, 28]])"
      ]
     },
     "execution_count": 44,
     "metadata": {},
     "output_type": "execute_result"
    }
   ],
   "source": [
    "arx[\"Canalesrespuesta\"]"
   ]
  },
  {
   "cell_type": "code",
   "execution_count": 45,
   "metadata": {},
   "outputs": [
    {
     "data": {
      "text/plain": [
       "Set(Array{Int64,1}[[5, 62], [9, 64], [12, 64], [4, 60], [10, 61], [1, 64], [4, 59], [6, 62], [7, 61], [5, 63]  …  [21, 2], [9, 63], [8, 61], [21, 1], [3, 62], [5, 58], [12, 63], [1, 57], [12, 3], [22, 2], [13, 62]])"
      ]
     },
     "execution_count": 45,
     "metadata": {},
     "output_type": "execute_result"
    }
   ],
   "source": [
    "cSatu"
   ]
  },
  {
   "cell_type": "code",
   "execution_count": 46,
   "metadata": {},
   "outputs": [
    {
     "name": "stdout",
     "output_type": "stream",
     "text": [
      "it does boeyit does boey "
     ]
    }
   ],
   "source": [
    "#aprendamos a usar el \"splat operator\" es decir, esto: \"...\"\n",
    "\n",
    "\n",
    "if haskey(arx, \"CanalesSaturados\")\n",
    "    print(\"it does boey\")\n",
    "    cSatu=arx[\"CanalesSaturados\"];\n",
    "    cSatu2=Array[[0::Int64,0::Int64 ]]\n",
    "    for i in cSatu\n",
    "     push!(cSatu2,i)\n",
    "     end\n",
    "    cSatu3=permutedims(hcat(cSatu2[2:end,:]...), [2,1])\n",
    "    arx[\"CanalesSaturados\"]=cSatu3;\n",
    "else\n",
    "    println(\"no hay conjunto de canales saturados guey\")\n",
    "end \n",
    "\n",
    "\n",
    "if haskey(arx, \"Canalesrespuesta\")\n",
    "    print(\"it does boey \")\n",
    "    cRespu=arx[\"Canalesrespuesta\"]\n",
    "    cRespu2=Array[[0::Int64,0::Int64 ]];\n",
    "    for i in cRespu\n",
    "     push!(cRespu2,i)\n",
    "     end\n",
    "    cRespu3=permutedims(hcat(cRespu2[2:end,:]...), [2,1])\n",
    "    arx[\"Canalesrespuesta\"]=cRespu3;\n",
    "else\n",
    "    println(\"no hay conjunto de canales respuesta guey\")\n",
    "end ;"
   ]
  },
  {
   "cell_type": "code",
   "execution_count": 47,
   "metadata": {},
   "outputs": [
    {
     "name": "stdout",
     "output_type": "stream",
     "text": [
      "abriendo los datos Canalesrespuesta\n",
      "abriendo los datos KTT_KInv\n",
      "abriendo los datos kCSDCorrecta\n",
      "abriendo los datos Nota\n",
      "abriendo los datos LFPSaturados\n",
      "abriendo los datos freq\n",
      "abriendo los datos CanalesSaturados\n"
     ]
    }
   ],
   "source": [
    "if (haskey(arx, \"Canalesrespuesta\") ||  haskey(arx, \"CanalesSaturados\"))\n",
    "   h5open(nombreout, \"w\")  do file\n",
    "        for k in keys(arx)\n",
    "            datos=arx[k]\n",
    "            println(\"abriendo los datos \", k)\n",
    "            println\n",
    "            write(file, \"$k\", datos)\n",
    "        end\n",
    "    \n",
    "        #close(fid)   \n",
    "    end\n",
    "else\n",
    "   intln(\"No hay ninguno de los datos en conjunto conflictivos en este archivo.\")   \n",
    "end"
   ]
  },
  {
   "cell_type": "code",
   "execution_count": 48,
   "metadata": {},
   "outputs": [
    {
     "name": "stdout",
     "output_type": "stream",
     "text": [
      "HDF5File\n"
     ]
    }
   ],
   "source": [
    "h5open(\"tuabuela\", \"w\") do file\n",
    "    println(typeof(file))\n",
    "    write(file, \"A\",  [827,23])\n",
    "    write(file, \"B\", [82,23])\n",
    "    write(file, \"C\", [9,9])\n",
    "        for i =1:10\n",
    "        write(file, \"$i\", i)\n",
    "    end\n",
    "    \n",
    "end"
   ]
  },
  {
   "cell_type": "code",
   "execution_count": 49,
   "metadata": {},
   "outputs": [
    {
     "name": "stdout",
     "output_type": "stream",
     "text": [
      "Canalesrespuesta Array{Int64,2}\n",
      "KTT_KInv Array{Float64,2}\n",
      "kCSDCorrecta Array{Float64,3}\n",
      "Nota String\n",
      "LFPSaturados Array{Float64,3}\n",
      "freq Float64\n",
      "CanalesSaturados Array{Int64,2}\n"
     ]
    }
   ],
   "source": [
    "for k in keys(arx)\n",
    "    println(k, \" \", typeof(arx[k]))\n",
    "end"
   ]
  },
  {
   "cell_type": "code",
   "execution_count": 50,
   "metadata": {},
   "outputs": [
    {
     "data": {
      "text/plain": [
       "670×2 Array{Int64,2}:\n",
       " 51  20\n",
       " 11  45\n",
       " 57  39\n",
       " 57  55\n",
       " 57  42\n",
       " 53  36\n",
       " 57  23\n",
       " 60  36\n",
       "  4  32\n",
       " 48  34\n",
       " 63  44\n",
       " 43  38\n",
       " 54  44\n",
       "  ⋮    \n",
       " 62  32\n",
       " 58  49\n",
       " 51  30\n",
       " 52  45\n",
       " 53  20\n",
       "  8  40\n",
       " 44  26\n",
       " 38  63\n",
       " 50  50\n",
       " 59  28\n",
       " 44  28\n",
       " 43  28"
      ]
     },
     "execution_count": 50,
     "metadata": {},
     "output_type": "execute_result"
    }
   ],
   "source": [
    "arx[\"Canalesrespuesta\"]"
   ]
  },
  {
   "cell_type": "code",
   "execution_count": 39,
   "metadata": {},
   "outputs": [
    {
     "data": {
      "text/plain": [
       "true"
      ]
     },
     "execution_count": 39,
     "metadata": {},
     "output_type": "execute_result"
    }
   ],
   "source": [
    "cRespu3==arx[\"Canalesrespuesta\"]"
   ]
  },
  {
   "cell_type": "code",
   "execution_count": 40,
   "metadata": {},
   "outputs": [
    {
     "data": {
      "text/plain": [
       "true"
      ]
     },
     "execution_count": 40,
     "metadata": {},
     "output_type": "execute_result"
    }
   ],
   "source": [
    "cSatu3==arx[\"CanalesSaturados\"]"
   ]
  },
  {
   "cell_type": "code",
   "execution_count": 41,
   "metadata": {},
   "outputs": [
    {
     "data": {
      "text/plain": [
       "true"
      ]
     },
     "execution_count": 41,
     "metadata": {},
     "output_type": "execute_result"
    }
   ],
   "source": [
    "h5read(nombreout, \"Canalesrespuesta\")==arx[\"Canalesrespuesta\"]"
   ]
  },
  {
   "cell_type": "code",
   "execution_count": 42,
   "metadata": {},
   "outputs": [
    {
     "data": {
      "text/plain": [
       "Array{Int64,2}"
      ]
     },
     "execution_count": 42,
     "metadata": {},
     "output_type": "execute_result"
    }
   ],
   "source": [
    "typeof(arx[\"CanalesSaturados\"])"
   ]
  },
  {
   "cell_type": "code",
   "execution_count": null,
   "metadata": {
    "collapsed": true
   },
   "outputs": [],
   "source": []
  }
 ],
 "metadata": {
  "@webio": {
   "lastCommId": "7827D3DC84784B0E8139ECA480A7601E",
   "lastKernelId": "599b2443-37ec-4be4-8de6-40917bbd0a46"
  },
  "kernelspec": {
   "display_name": "Julia 1.0.0",
   "language": "julia",
   "name": "julia-1.0"
  },
  "language_info": {
   "file_extension": ".jl",
   "mimetype": "application/julia",
   "name": "julia",
   "version": "1.0.0"
  }
 },
 "nbformat": 4,
 "nbformat_minor": 2
}
