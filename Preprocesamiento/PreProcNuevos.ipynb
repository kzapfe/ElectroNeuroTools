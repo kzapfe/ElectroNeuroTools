{
 "cells": [
  {
   "cell_type": "markdown",
   "metadata": {},
   "source": [
    "# Preprocesamiento para Experimentos de altísima frecuencia y grandes conjuntos de datos\n",
    " \n",
    "Este Cuaderno es muy similar al Preprocesamiento para Evocados, pero sin promediar sobre múltiples estímulos. \n",
    "Dado que estos experimentos son muy grandes y causan problemas con el RAM, lo que vamos a hacer es primero cortarlos en cachos. En este cuaderno asumimos que ya se cortó o no fue necesario hacerlo. Para cortar revisar el programa CortarMatriz.jl en la carpeta Isabel."
   ]
  },
  {
   "cell_type": "code",
   "execution_count": 1,
   "metadata": {},
   "outputs": [
    {
     "name": "stderr",
     "output_type": "stream",
     "text": [
      "┌ Info: Recompiling stale cache file /home/karel/.julia/compiled/v1.0/PreprocUInt8.ji for PreprocUInt8 [top-level]\n",
      "└ @ Base loading.jl:1190\n"
     ]
    }
   ],
   "source": [
    "push!(LOAD_PATH, \".\")\n",
    "push!(LOAD_PATH, \"../Isabel/\")\n",
    "using Z_auxiliaresBRW\n",
    "using PreprocUInt8\n",
    "using HDF5, PyPlot, Statistics\n",
    "using ArraySetTools"
   ]
  },
  {
   "cell_type": "code",
   "execution_count": 2,
   "metadata": {},
   "outputs": [
    {
     "data": {
      "text/plain": [
       "\"/home/karel/BRWFiles/Isabel2019/Cacho_04_control_02.brw\""
      ]
     },
     "execution_count": 2,
     "metadata": {},
     "output_type": "execute_result"
    }
   ],
   "source": [
    "arxname=\"/home/karel/BRWFiles/Isabel2019/Cacho_04_control_02.brw\" "
   ]
  },
  {
   "cell_type": "markdown",
   "metadata": {},
   "source": [
    "Vamos a hacer que pueda abrir tanto un brw original como un cacho arreglado o manipulado.\n",
    "Tratemos de que funcione con los nuevos unicamente. Luego vemos si generalizamos."
   ]
  },
  {
   "cell_type": "code",
   "execution_count": 3,
   "metadata": {},
   "outputs": [
    {
     "name": "stdout",
     "output_type": "stream",
     "text": [
      "Este es un intervalo de un dataset mas grande. \n",
      "\n",
      "                    Contiene los cuadros de 1205245 a 1606992."
     ]
    },
    {
     "data": {
      "text/plain": [
       "false"
      ]
     },
     "execution_count": 3,
     "metadata": {},
     "output_type": "execute_result"
    }
   ],
   "source": [
    "if occursin(\"Cacho\", arxname)\n",
    "    arx=h5open(arxname)\n",
    "    nota=read(arx[\"notacacho\"])\n",
    "    print(nota)\n",
    "else\n",
    "    arx=brw_things(arxname)\n",
    "    print(\"Estas partiendo de un brw original\")\n",
    "end\n",
    "\n",
    "freq=read(arx[\"SamplingRate\"])/1000 # usamos kHz y milisegundos aqui porfa\n",
    "dataraw=read(arx[\"dset\"])\n",
    "factor=read(arx[\"Factor\"])\n",
    "listchans=read(arx[\"Chs\"])\n",
    "evocado=false"
   ]
  },
  {
   "cell_type": "code",
   "execution_count": 4,
   "metadata": {},
   "outputs": [
    {
     "data": {
      "text/plain": [
       "401748"
      ]
     },
     "execution_count": 4,
     "metadata": {},
     "output_type": "execute_result"
    }
   ],
   "source": [
    "tamanos=size(dataraw)\n",
    "if length(tamanos)==2\n",
    "    ncuadros=tamanos[2]\n",
    "else\n",
    "    tot=tamanos[1]\n",
    "    ncuadros=Int(tamanos/4096)\n",
    "end"
   ]
  },
  {
   "cell_type": "code",
   "execution_count": 5,
   "metadata": {},
   "outputs": [
    {
     "data": {
      "text/plain": [
       "(0, 0, 0)"
      ]
     },
     "execution_count": 5,
     "metadata": {},
     "output_type": "execute_result"
    }
   ],
   "source": [
    "#Estas medidas estan en cuadros, no en ms.\n",
    "if evocado\n",
    "    retrazo=round(Int, ceil(5*freq))\n",
    "    final=round(Int, ceil(60*freq))\n",
    "    latencia=round(Int, ceil(1.5*freq))\n",
    "else\n",
    "    retrazo, final, latencia = 0, 0, 0\n",
    "end"
   ]
  },
  {
   "cell_type": "code",
   "execution_count": 6,
   "metadata": {},
   "outputs": [
    {
     "name": "stdout",
     "output_type": "stream",
     "text": [
      "Tienes 401748 cuadros de muestreo a 17.8555 cuadros por milisegundo\n",
      "Esto corresponde a  22500.0ms.\n"
     ]
    }
   ],
   "source": [
    "tiempototalms=round(ncuadros/freq; digits=1) \n",
    "println(\"Tienes \", ncuadros, \" cuadros de muestreo a \", round(freq; digits=4), \" cuadros por milisegundo\")\n",
    "println( \"Esto corresponde a  \", tiempototalms, \"ms.\" )"
   ]
  },
  {
   "cell_type": "code",
   "execution_count": 7,
   "metadata": {
    "collapsed": true
   },
   "outputs": [],
   "source": [
    "# Si los datos andan en un arreglo de lista en lugar de cuadrado, los ponemos cuadrados\n",
    "if size(dataraw)[1] != 4096\n",
    "reshape!(dataraw, (4096, Datos[\"numcuadros\"]))\n",
    "end;"
   ]
  },
  {
   "cell_type": "code",
   "execution_count": 33,
   "metadata": {},
   "outputs": [
    {
     "data": {
      "text/plain": [
       "bsht (generic function with 1 method)"
      ]
     },
     "execution_count": 33,
     "metadata": {},
     "output_type": "execute_result"
    }
   ],
   "source": [
    "\n",
    "function muvoltint(x, factor, offset)\n",
    "    result=x/factor-offset\n",
    "end\n",
    "\n",
    "\n",
    "function bsht(datos::Array;\n",
    "                         factor,\n",
    "                         offset=-2048,\n",
    "                         tini=0.5,\n",
    "                              tfin=8, freq=deffreq,\n",
    "                              maxvolt=-100, minvolt=-1500, \n",
    "                              minstd=10, maxstd=35)\n",
    "    #Busquemos los canales con probable respuesta de potencial de accion\n",
    "    (nchans,nc)=size(datos)\n",
    "    taux1=round(Int, ceil(tini*freq))\n",
    "    taux2=round(Int,ceil(tfin*freq))\n",
    "\n",
    "    mxvint=muvoltint(maxvolt, factor, offset)\n",
    "    mnvint=muvoltint(minvolt, factor, offset)\n",
    "    ustdint=abs(maxstd/factor)\n",
    "    lstdint=abs(minstd/factor)\n",
    "    \n",
    "    println(\"Estoy buscando del cuadro \" , taux1, \" al , \", taux2)\n",
    "\n",
    "    result=Set(Array{Int8, 1}[])\n",
    "    \n",
    "    for j=1:nchans\n",
    "        \n",
    "        fondo=minimum(vec(datos[j,taux1:taux2]))\n",
    "        dpgs=std(datos[j,taux1:taux2])\n",
    "        test=true\n",
    "        \n",
    "        if factor>0\n",
    "            test=(mxvint >fondo>mnvint) && ( ustdint > dpgs > lstdint)\n",
    "        else\n",
    "            test=(mxvint <fondo<mnvint) && ( ustdint > dpgs > lstdint)\n",
    "        end\n",
    "           \n",
    "        if test\n",
    "            println(\"EL MUGRE IF SE EST CUIMPLUIENDO\")       \n",
    "            (b,a)=divrem(j, 64)\n",
    "            println(a, b)       \n",
    "        \n",
    "            #los canales se cuentas desde 1, no de cero\n",
    "            b+=1\n",
    "            a+=1\n",
    "            println(a, b)       \n",
    "        \n",
    "            bla= [j, a, b]\n",
    "            println(bla, a, b)       \n",
    "            result=push!(result,bla)\n",
    "        end\n",
    "    end\n",
    "\n",
    "    #= Esta rutina no es muy confiable. Solo da buenos resultados\n",
    "    con actividad evocada. Necesitamos algo mas estricto =#\n",
    "   \n",
    "    return result\n",
    "end\n"
   ]
  },
  {
   "cell_type": "code",
   "execution_count": 37,
   "metadata": {},
   "outputs": [
    {
     "data": {
      "text/plain": [
       "0.12307692307692308"
      ]
     },
     "execution_count": 37,
     "metadata": {},
     "output_type": "execute_result"
    }
   ],
   "source": [
    "8000/65000"
   ]
  },
  {
   "cell_type": "code",
   "execution_count": 34,
   "metadata": {
    "scrolled": true
   },
   "outputs": [
    {
     "name": "stdout",
     "output_type": "stream",
     "text": [
      "Estoy buscando del cuadro 18 al , 5036\n",
      "EL MUGRE IF SE EST CUIMPLUIENDO\n",
      "390\n",
      "401\n",
      "[39, 40, 1]401\n",
      "EL MUGRE IF SE EST CUIMPLUIENDO\n",
      "450\n",
      "461\n",
      "[45, 46, 1]461\n",
      "EL MUGRE IF SE EST CUIMPLUIENDO\n",
      "182\n",
      "193\n",
      "[146, 19, 3]193\n"
     ]
    },
    {
     "ename": "InexactError",
     "evalue": "InexactError: trunc(Int8, 146)",
     "output_type": "error",
     "traceback": [
      "InexactError: trunc(Int8, 146)",
      "",
      "Stacktrace:",
      " [1] checked_trunc_sint at ./boot.jl:589 [inlined]",
      " [2] toInt8 at ./boot.jl:604 [inlined]",
      " [3] Type at ./boot.jl:714 [inlined]",
      " [4] convert at ./number.jl:7 [inlined]",
      " [5] setindex! at ./array.jl:769 [inlined]",
      " [6] copyto!(::IndexLinear, ::Array{Int8,1}, ::IndexLinear, ::Array{Int64,1}) at ./abstractarray.jl:731",
      " [7] copyto! at ./abstractarray.jl:723 [inlined]",
      " [8] Type at ./array.jl:497 [inlined]",
      " [9] convert at ./array.jl:489 [inlined]",
      " [10] setindex!(::Dict{Array{Int8,1},Nothing}, ::Nothing, ::Array{Int64,1}) at ./dict.jl:373",
      " [11] push! at ./set.jl:48 [inlined]",
      " [12] #bsht#24(::Float64, ::Int64, ::Int64, ::Int64, ::Float64, ::Int64, ::Int64, ::Int64, ::Int64, ::typeof(bsht), ::Array{UInt16,2}) at ./In[33]:52",
      " [13] (::getfield(Main, Symbol(\"#kw##bsht\")))(::NamedTuple{(:factor, :tini, :tfin, :freq),Tuple{Float64,Int64,Int64,Float64}}, ::typeof(bsht), ::Array{UInt16,2}) at ./none:0",
      " [14] top-level scope at In[34]:5"
     ]
    }
   ],
   "source": [
    "#los parametros son datos promediados, frecuencia, tiempo post estimulo en ms, umbral en microvolts, umbral de saturación en microvolts\n",
    "\n",
    "iniciobusqueda=1\n",
    "finbusqueda=282\n",
    "\n",
    "PruebaRespuesta=bsht(dataraw, factor=factor,\n",
    "    tini=iniciobusqueda, tfin=finbusqueda, freq=freq)\n",
    "# y luego los saturados\n",
    "\n",
    "#=\n",
    "satu=BuscaSaturados(lfp,iniciobusqueda,finbusqueda,freq,1000, 0.04)\n",
    "\n",
    "numerosaturados=length(satu)\n",
    "println(\"Encontramos \", numerosaturados, \" canales probablemente saturados.\")\n",
    "println(\"Encontramos \", length(PruebaRespuesta), \" canales probablemente con actividad.\")\n",
    "=#"
   ]
  },
  {
   "cell_type": "code",
   "execution_count": null,
   "metadata": {},
   "outputs": [],
   "source": [
    "quietos=BuscaSaturadosStd(lfp, iniciobusqueda,finbusqueda, freq, 15,10000)\n",
    "intensos=BuscaSaturadosStd(lfp, iniciobusqueda, finbusqueda, freq, 0, 30)\n",
    "\n",
    "numerosaturados=length(quietos)\n",
    "println(\"Encontramos \", numerosaturados, \" canales muy quietos\")\n",
    "numerosaturados=length(intensos)\n",
    "println(\"Encontramos \", numerosaturados, \" canales muy intensos\")\n",
    "\n",
    "ruidosos=BuscaRuidosos(lfp, iniciobusqueda, finbusqueda, freq,200,15)\n",
    "numerosaturados=length(ruidosos)\n",
    "println(\"Encontramos \", numerosaturados, \" canales con ruido alto\")"
   ]
  },
  {
   "cell_type": "markdown",
   "metadata": {},
   "source": [
    "### inspección visual. \n",
    "Podemos tomar una imagen de la desviación estándar por canal y sobreponerle unas marcas para los canales \"respuesta\".\n",
    "De ahí podemos tomar un ejemplo para dibujar el trazo en ese canal."
   ]
  },
  {
   "cell_type": "code",
   "execution_count": null,
   "metadata": {
    "collapsed": true
   },
   "outputs": [],
   "source": [
    "DesviacionPorCanal=zeros(64,64)\n",
    "for j=1:64\n",
    "    for k=1:64\n",
    "        ChorizoExemplo=vec(lfp[j,k,:])\n",
    "        DesviacionPorCanal[j,k]=std(ChorizoExemplo)\n",
    "    end\n",
    "end"
   ]
  },
  {
   "cell_type": "code",
   "execution_count": null,
   "metadata": {},
   "outputs": [],
   "source": [
    "figure(figsize=(10,10))\n",
    "xlim(0,65)\n",
    "ylim(0,65)\n",
    "title(\"σ\")\n",
    "limites=90\n",
    "imagen=imshow(DesviacionPorCanal, origin=\"lower\", interpolation=\"nearest\",cmap=\"gnuplot2\", \n",
    "                      vmin=10,vmax=limites, extent=[0.5,64.5,0.5,64.5])\n",
    "cb=colorbar()\n",
    "\n",
    "x=[]\n",
    "y=[]\n",
    "for j in PruebaRespuesta\n",
    "  append!(x,j[2])\n",
    "   append!(y,j[1])\n",
    "end\n",
    "\n",
    "\n",
    "x2=[]\n",
    "y2=[]\n",
    "for j in satu\n",
    "  append!(x2,j[2])\n",
    "   append!(y2,j[1])\n",
    "end\n",
    "\n",
    "\n",
    "x3=[]\n",
    "y3=[]\n",
    "for j in quietos\n",
    "  append!(x3,j[2])\n",
    "   append!(y3,j[1])\n",
    "end\n",
    "\n",
    "\n",
    "x4=[]\n",
    "y4=[]\n",
    "for j in intensos\n",
    "  append!(x4,j[2])\n",
    "   append!(y4,j[1])\n",
    "end\n",
    "\n",
    "\n",
    "x5=[]\n",
    "y5=[]\n",
    "for j in ruidosos\n",
    "  append!(x5,j[2])\n",
    "   append!(y5,j[1])\n",
    "end\n",
    "\n",
    "\n",
    "\n",
    "\n",
    "\n",
    "scatter(x,y, marker=\"o\",c=\"lightblue\", s=15)\n",
    "scatter(x2,y2, marker=\"o\",c=\"green\", s=5)\n",
    "scatter(x3,y3, marker=\"x\",c=\"green\", s=25)\n",
    "scatter(x4,y4, marker=\"+\",c=\"lightblue\", s=25)\n",
    "scatter(x5,y5, marker=\"v\",c=\"green\", s=25)\n",
    "\n"
   ]
  },
  {
   "cell_type": "markdown",
   "metadata": {},
   "source": [
    "\"ruidosos\" parece ser totalmente redundante. No aporta nada que no sea JUSTO lo que no nos interesa: la union de lo peor y lo mejor.\n",
    "Escogamos uno de los que parecen estar en la \"sombra luminosa\" del Cuerno de Amon y que estén marcados con x blanca."
   ]
  },
  {
   "cell_type": "code",
   "execution_count": null,
   "metadata": {
    "collapsed": true
   },
   "outputs": [],
   "source": [
    "egtrazo=lfp[19,42,:];"
   ]
  },
  {
   "cell_type": "code",
   "execution_count": null,
   "metadata": {
    "collapsed": true
   },
   "outputs": [],
   "source": [
    "using Statistics"
   ]
  },
  {
   "cell_type": "code",
   "execution_count": null,
   "metadata": {},
   "outputs": [],
   "source": [
    "mean(egtrazo)"
   ]
  },
  {
   "cell_type": "code",
   "execution_count": null,
   "metadata": {},
   "outputs": [],
   "source": [
    "figure(figsize=(12,4))\n",
    "xlabel(\"cuadros\")\n",
    "ylabel(\"mV\")\n",
    "ylim(-180,180)\n",
    "#subintervalo a graficar, por omision, todo primero, es decir desde=1, hasta=cuadrosmax\n",
    "desde=1\n",
    "hasta=8000\n",
    "#intervalo=1:cacho\n",
    "intervalo=desde:hasta\n",
    "grid()\n",
    "plot(intervalo,egtrazo[intervalo], lw=0.22)"
   ]
  },
  {
   "cell_type": "code",
   "execution_count": null,
   "metadata": {},
   "outputs": [],
   "source": [
    "mal=union(quietos, satu)\n",
    "buenos=union(intensos, PruebaRespuesta)\n",
    "setdiff!(buenos, mal)"
   ]
  },
  {
   "cell_type": "code",
   "execution_count": null,
   "metadata": {
    "collapsed": true
   },
   "outputs": [],
   "source": [
    "malforsave=elemtorow(mal)\n",
    "buenforsave=elemtorow(buenos);"
   ]
  },
  {
   "cell_type": "code",
   "execution_count": null,
   "metadata": {},
   "outputs": [],
   "source": [
    "size(lfp)"
   ]
  },
  {
   "cell_type": "code",
   "execution_count": null,
   "metadata": {},
   "outputs": [],
   "source": [
    "names(arx)"
   ]
  },
  {
   "cell_type": "code",
   "execution_count": null,
   "metadata": {},
   "outputs": [],
   "source": [
    "basename(arxname)[1:end-3]"
   ]
  },
  {
   "cell_type": "markdown",
   "metadata": {},
   "source": [
    "Tomaremos el intervalo interesante y guardaremos esos datos en un archivo con toda la información de saturados y respuestas, \n",
    "de la misma forma que como se hace con los evocados. A diferencia de éstos, no tenemos parámetros de latencia, en lugar de eso\n",
    "tendremos una indicacion de \"de donde a donde se cortaron los datos\", en cuadros."
   ]
  },
  {
   "cell_type": "code",
   "execution_count": null,
   "metadata": {},
   "outputs": [],
   "source": [
    "dirgen=dirname(arxname)*\"/\"\n",
    "basegen=basename(arxname)[1:end-4]\n",
    "#una palabra para indicar el intervalo \n",
    "outname=string(dirgen, basegen, \"_preproc.h5\")\n",
    "#aqui hay que arreglar el rollo del directorio\n",
    "\n",
    "listaaguardar=Dict(\n",
    "    \"LFPSaturados\" => lfp[:,:,:],\n",
    "     \"notacacho\"=>nota,\n",
    "     \"freq\" =>freq,\n",
    "     \"CanalesBuenos\" => buenforsave,\n",
    "     \"CanalesMalos\" => malforsave)\n",
    "\n",
    "println(outname )\n",
    "   h5open(outname, \"w\")  do file\n",
    "        for k in keys(listaaguardar)\n",
    "            datos=listaaguardar[k]\n",
    "            println(\"abriendo los datos \", k)\n",
    "            println\n",
    "            write(file, \"$k\", datos)\n",
    "        end\n",
    "    end\n",
    "\n",
    "println(\"hemos guardado este cacho en el archivo \", outname)"
   ]
  },
  {
   "cell_type": "code",
   "execution_count": null,
   "metadata": {},
   "outputs": [],
   "source": [
    "typeof(listaaguardar)"
   ]
  },
  {
   "cell_type": "code",
   "execution_count": null,
   "metadata": {
    "scrolled": true
   },
   "outputs": [],
   "source": [
    "freq"
   ]
  },
  {
   "cell_type": "code",
   "execution_count": null,
   "metadata": {
    "collapsed": true
   },
   "outputs": [],
   "source": []
  }
 ],
 "metadata": {
  "@webio": {
   "lastCommId": null,
   "lastKernelId": null
  },
  "kernelspec": {
   "display_name": "Julia 1.0.3",
   "language": "julia",
   "name": "julia-1.0"
  },
  "language_info": {
   "file_extension": ".jl",
   "mimetype": "application/julia",
   "name": "julia",
   "version": "1.0.3"
  }
 },
 "nbformat": 4,
 "nbformat_minor": 2
}
