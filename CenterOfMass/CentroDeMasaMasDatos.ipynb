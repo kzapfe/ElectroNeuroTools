{
 "cells": [
  {
   "cell_type": "markdown",
   "metadata": {},
   "source": [
    "# Busqueda del Centro de Masa de la Densidad de Fuentes de Corriente"
   ]
  },
  {
   "cell_type": "markdown",
   "metadata": {
    "collapsed": true
   },
   "source": [
    "Primero, vamos a intentarlo con un experimento que tenga una actividad notoria. Aquí cargamos un archivo que contiene los datos de un experimento con actividad epiléptica. La región CA aparece muy activa varias veces en las mediciones del potencial de campo local, LFP de ahora en adelante."
   ]
  },
  {
   "cell_type": "code",
   "execution_count": 1,
   "metadata": {
    "collapsed": false
   },
   "outputs": [
    {
     "data": {
      "text/plain": [
       "IOStream(<file DatosActividadEpilepticaSelectos.bin>)"
      ]
     },
     "execution_count": 1,
     "metadata": {},
     "output_type": "execute_result"
    }
   ],
   "source": [
    "muacamuaca=open(\"DatosActividadEpilepticaSelectos.bin\", \"r\")"
   ]
  },
  {
   "cell_type": "code",
   "execution_count": 2,
   "metadata": {
    "collapsed": false
   },
   "outputs": [
    {
     "data": {
      "text/plain": [
       "(64,64,9101)"
      ]
     },
     "execution_count": 2,
     "metadata": {},
     "output_type": "execute_result"
    }
   ],
   "source": [
    "formaarray=(64,64,9101)"
   ]
  },
  {
   "cell_type": "code",
   "execution_count": 3,
   "metadata": {
    "collapsed": false
   },
   "outputs": [],
   "source": [
    "Datos=read(muacamuaca, Float64, formaarray);"
   ]
  },
  {
   "cell_type": "code",
   "execution_count": 4,
   "metadata": {
    "collapsed": false
   },
   "outputs": [
    {
     "data": {
      "text/plain": [
       "9101"
      ]
     },
     "execution_count": 4,
     "metadata": {},
     "output_type": "execute_result"
    }
   ],
   "source": [
    "tmax=formaarray[3]\n"
   ]
  },
  {
   "cell_type": "code",
   "execution_count": 8,
   "metadata": {
    "collapsed": false
   },
   "outputs": [],
   "source": [
    "close(muacamuaca)"
   ]
  },
  {
   "cell_type": "markdown",
   "metadata": {},
   "source": [
    "No todos los datos son interesentas. La actividad se concentra en los siguientes cuadros."
   ]
  },
  {
   "cell_type": "code",
   "execution_count": 5,
   "metadata": {
    "collapsed": false
   },
   "outputs": [
    {
     "data": {
      "text/plain": [
       "5001"
      ]
     },
     "execution_count": 5,
     "metadata": {},
     "output_type": "execute_result"
    }
   ],
   "source": [
    "#No todo es interesante. \n",
    "Datos=Datos[:,:,3500:8500]\n",
    "tmax=size(Datos)[3]\n",
    "formaarray=(64,64,tmax)"
   ]
  },
  {
   "cell_type": "markdown",
   "metadata": {},
   "source": [
    "Vamos a guardar la serie de tiempo de un electródo particular para comparar y hacer gráficas bonitas."
   ]
  },
  {
   "cell_type": "code",
   "execution_count": 6,
   "metadata": {
    "collapsed": true
   },
   "outputs": [],
   "source": [
    "#Ejemplo a comparar\n",
    "writedlm(\"ExampleDatosLargos-58-50.dat\", reshape(Datos[58,50,:],tmax))"
   ]
  },
  {
   "cell_type": "markdown",
   "metadata": {},
   "source": [
    "Aquí abajo definimos los filtros que matarán señales saturadas y pondran toda señal debajo de cierto umbral en cero."
   ]
  },
  {
   "cell_type": "code",
   "execution_count": 7,
   "metadata": {
    "collapsed": false
   },
   "outputs": [
    {
     "data": {
      "text/plain": [
       "UnNormGauss (generic function with 1 method)"
      ]
     },
     "execution_count": 7,
     "metadata": {},
     "output_type": "execute_result"
    }
   ],
   "source": [
    "function umbral(x)\n",
    "    result=((abs(x)>500) ? 0 : x)\n",
    "end;\n",
    "\n",
    "function aplastar(x)\n",
    "    result=((abs(x)<60) ? 0 : x)\n",
    "end;\n",
    "\n",
    "function UnNormGauss(x,sigma)\n",
    "    return exp(-x*x/(2*sigma))\n",
    "end"
   ]
  },
  {
   "cell_type": "markdown",
   "metadata": {},
   "source": [
    "La umbralización de Otsu la vamos a aplicar sobre la desviación estándar en la señal de cada electródo. Para ello, primero quitamos los canales saturados y después calculamos este valor."
   ]
  },
  {
   "cell_type": "code",
   "execution_count": 9,
   "metadata": {
    "collapsed": false
   },
   "outputs": [],
   "source": [
    "map!(umbral, Datos); #map! quiere decir map in situ\n",
    "DesviacionPorElectrodo=zeros(64,64)\n",
    "for j=1:64, k=1:64\n",
    "    DesviacionPorElectrodo[j,k]=std(reshape(Datos[j,k,:],tmax));\n",
    "end"
   ]
  },
  {
   "cell_type": "markdown",
   "metadata": {},
   "source": [
    "Aqui viene una función que hace un suavizado Gaussiano sobre una serie de tiempo. Tengo la impresión de que esto no lo voy a usar."
   ]
  },
  {
   "cell_type": "code",
   "execution_count": 10,
   "metadata": {
    "collapsed": false
   },
   "outputs": [
    {
     "data": {
      "text/plain": [
       "GaussSuavizar (generic function with 1 method)"
      ]
     },
     "execution_count": 10,
     "metadata": {},
     "output_type": "execute_result"
    }
   ],
   "source": [
    "function GaussSuavizar(Datos,Sigma)  \n",
    "    #sigma esta medido en pixeles, es la desviacion estandar de nuestro kernel.\n",
    "    #El medioancho de nuestra ventana seran 3 sigmas.\n",
    "    #Bien, veamos como chingaos le ponemos \"padding\" a las convoluciones.\n",
    "    medioancho=ceil(Sigma*3)\n",
    "    colchon=ones(medioancho)\n",
    "    result=zeros(Datos)\n",
    "    datoscolchon=vcat(colchon*Datos[1], Datos, colchon*Datos[end])\n",
    "    kernel=map(x->UnNormGauss(x,Sigma), [-medioancho:medioancho])\n",
    "    kernel=kernel/(sum(kernel))\n",
    "    #La convolucion asi normalizada preserva el valor RELATIVO entre los puntos de la funcion.\n",
    "    #pero queremos ponerlo mas parecido a los voltajes que medimos, para preservar el rango de valores\n",
    "    #experimentales y su criterio de potenciales de accion / ruido\n",
    "    for t=medioancho+1:length(Datos)-medioancho\n",
    "        result[t-medioancho]=sum(datoscolchon[t-medioancho:t+medioancho].*kernel)\n",
    "    end\n",
    "    a=maximum(abs(Datos))\n",
    "    b=maximum(abs(result))\n",
    "    result=result*a/b\n",
    "    return result\n",
    "end\n",
    "    "
   ]
  },
  {
   "cell_type": "markdown",
   "metadata": {},
   "source": [
    "Esta función calcula la desviación estándar por ventanas temporales en cada canal. Franco uso esta información para separar sus canales de actividad neuronal de aquellas de ruido por medio de un procedimiento relativamente complejo. Esto se puede simplificar usando el criterio de Otsu para separar en cada ventana temporal y obtener un *\"criterio de Otsu por ventanas\"*."
   ]
  },
  {
   "cell_type": "code",
   "execution_count": 38,
   "metadata": {
    "collapsed": false
   },
   "outputs": [
    {
     "data": {
      "text/plain": [
       "SigmaVentanas (generic function with 1 method)"
      ]
     },
     "execution_count": 38,
     "metadata": {},
     "output_type": "execute_result"
    }
   ],
   "source": [
    "function SigmaVentanas(Datos, ancho, paso)\n",
    "    anchomedio=floor(ancho/2)\n",
    "    tantos=convert(Int, floor((length(Datos)-ancho)/paso))\n",
    "    result=zeros(tantos)\n",
    "    for t=1:tantos\n",
    "        result[t]=std(Datos[(t-1)*paso+1:(t-1)*paso+ancho])\n",
    "    end\n",
    "    return result  \n",
    "end"
   ]
  },
  {
   "cell_type": "markdown",
   "metadata": {},
   "source": [
    "Aquí implementamos el método de Otsu, tal cual."
   ]
  },
  {
   "cell_type": "code",
   "execution_count": 12,
   "metadata": {
    "collapsed": false
   },
   "outputs": [
    {
     "data": {
      "text/plain": [
       "OtsuUmbralizar (generic function with 1 method)"
      ]
     },
     "execution_count": 12,
     "metadata": {},
     "output_type": "execute_result"
    }
   ],
   "source": [
    "function OtsuMethod(Data)\n",
    "    #Pa que esto funcione hay que mandar los datos ya sin NaNs u otras mugres   \n",
    "    binsdefault=2*ceil(Int,sqrt(length(Data)))\n",
    "    (rango, cuentas)=hist(Data,binsdefault)\n",
    "    tantos=length(rango)\n",
    "    valores\n",
    "    omega1=0\n",
    "    omega2=0\n",
    "    mu1=0\n",
    "    mu2=0\n",
    "    sigmab=0\n",
    "    sigmabtemp=0\n",
    "    tbest=0\n",
    "    varlim=0\n",
    "    for t=1:tantos-1\n",
    "        omega1=sum(cuentas[1:t])\n",
    "        omega2=sum(cuentas[t+1:tantos-1])\n",
    "        mu1=sum(cuentas[1:t].*rango[1:t])/omega1\n",
    "        mu2=sum(cuentas[t+1:tantos-1].*rango[t+1:tantos-1])/omega2        \n",
    "        sigmabtemp=omega1*omega2*((mu1-mu2)^2)\n",
    "        if sigmabtemp>sigmab\n",
    "            sigmab=sigmabtemp\n",
    "            tbest=t\n",
    "            varlim=rango[t]\n",
    "        end\n",
    "    end\n",
    "    return (sigmab,tbest,varlim)\n",
    "end\n",
    "\n",
    "function OtsuUmbralizar(DatosMatriz)\n",
    "    # aplanar datos\n",
    "    DataFlatten=reshape(DatosMatriz, size(DatosMatriz)[1]*size(DatosMatriz)[2])\n",
    "    mascara=zeros(DatosMatriz)\n",
    "    umbral=OtsuMethod(DataFlatten)[3]\n",
    "    mascara=map(x->(x>umbral)?1:0, DatosMatriz)\n",
    "    return mascara\n",
    "end\n"
   ]
  },
  {
   "cell_type": "markdown",
   "metadata": {},
   "source": [
    "Aplicamos la función DesviacionPorVentana a ventanas de 350 cuadros de duración, y avanzando 35 cuadros cada vez. Esto corresponde a aproximadamente ventanas de $49.8 \\mu s$ y pasos de $ 4.9 \\mu s$."
   ]
  },
  {
   "cell_type": "code",
   "execution_count": 13,
   "metadata": {
    "collapsed": false
   },
   "outputs": [],
   "source": [
    "ancho=350\n",
    "paso=35\n",
    "cuantasventanas=convert(Int, floor((tmax-ancho)/paso))\n",
    "DesviacionPorVentana=zeros((64,64,cuantasventanas))\n",
    "for j=1:64, k=1:64\n",
    "    chorizo=reshape(Datos[j,k,:],tmax)\n",
    "    DesviacionPorVentana[j,k,:]=SigmaVentanas(chorizo, ancho, paso)\n",
    "end"
   ]
  },
  {
   "cell_type": "markdown",
   "metadata": {},
   "source": [
    "Aqui es donde mezclamos el criterio de Franco con la umbralización de Otsu. A cada una de las ventanas de desviaciones calculadas anteriormente en el arreglo DesviacionPorVentana le aplicamos el umbral de Otsu. Con eso formamos una máscara donde vamos sumando puntos cada vez que un canal está dentro de la umbralización de Otsu."
   ]
  },
  {
   "cell_type": "code",
   "execution_count": 14,
   "metadata": {
    "collapsed": false
   },
   "outputs": [],
   "source": [
    "SumaVentanasOtsuUmbral=zeros(64,64)\n",
    "for t=1:cuantasventanas\n",
    "    SumaVentanasOtsuUmbral+=OtsuUmbralizar(DesviacionPorVentana[:,:,t])\n",
    "end"
   ]
  },
  {
   "cell_type": "code",
   "execution_count": 15,
   "metadata": {
    "collapsed": false
   },
   "outputs": [],
   "source": [
    "writedlm(\"MascaraOtsuRica01.dat\", SumaVentanasOtsuUmbral)"
   ]
  },
  {
   "cell_type": "markdown",
   "metadata": {},
   "source": [
    "Ahora tenemos que decidir hasta que punto un registro contiene actividad neuronal. Aquí hemos llevado a cabo la superposición de 240 umbrales de Otsu, realmente. Asi que aquellos que pasen más de la mitad de las veces serán considerados canales con actividad neuronal."
   ]
  },
  {
   "cell_type": "code",
   "execution_count": 16,
   "metadata": {
    "collapsed": false
   },
   "outputs": [],
   "source": [
    "MascaraOtsu=zeros(64,64);\n",
    "MascaraOtsu=map(x->(x>120)?1:0, SumaVentanasOtsuUmbral);"
   ]
  },
  {
   "cell_type": "markdown",
   "metadata": {},
   "source": [
    "La máscara así obtenida tiene huecos y puntos sueltos. Para normalizarla un poco y tratar de que sea un objeto de un componente conexo, le aplicamos la función mostrada abajo. Esta función quita los canales que se encuentren sin vecinos y añade aquellos que se encuentren rodeados por al menos otros dos puntos."
   ]
  },
  {
   "cell_type": "code",
   "execution_count": 17,
   "metadata": {
    "collapsed": false
   },
   "outputs": [
    {
     "data": {
      "text/plain": [
       "ParchaMascara01 (generic function with 1 method)"
      ]
     },
     "execution_count": 17,
     "metadata": {},
     "output_type": "execute_result"
    }
   ],
   "source": [
    "function ParchaMascara01(Datos)\n",
    "    result=zeros(Datos)\n",
    "    temp=copy(Datos)\n",
    "    (alto,ancho)=size(Datos)\n",
    "    #Primero, hacemos el padding de los datos para que no se suavice demasiado\n",
    "    \n",
    "    colchonvertical=zeros(1,ancho)\n",
    "    colchonhorizontal=zeros(alto+2)\n",
    "    \n",
    "    temp=vcat(colchonvertical, temp, colchonvertical)\n",
    "    temp=hcat(colchonhorizontal, temp, colchonhorizontal)\n",
    "    \n",
    "    \n",
    "    for j=2:alto+1, k=2:ancho+1\n",
    "        aux=temp[j-1:j+1,k-1:k+1]\n",
    "        test=sum(aux)\n",
    "        if(temp[j,k]<2.0 && test<2.1)\n",
    "            result[j-1,k-1]=0\n",
    "        #    println(j,k)\n",
    "        elseif(temp[j,k]<1.1 && test>2.0)\n",
    "            result[j-1,k-1]=1\n",
    "        else\n",
    "            result[j-1,k-1]=temp[j,k]\n",
    "        end\n",
    "    end   \n",
    "\n",
    "    return result\n",
    "    \n",
    "end\n"
   ]
  },
  {
   "cell_type": "code",
   "execution_count": 18,
   "metadata": {
    "collapsed": false
   },
   "outputs": [],
   "source": [
    "MascaraOtsu=ParchaMascara01(MascaraOtsu);"
   ]
  },
  {
   "cell_type": "markdown",
   "metadata": {},
   "source": [
    "Seleccionamos los canales que están dentro de la Máscara."
   ]
  },
  {
   "cell_type": "code",
   "execution_count": 19,
   "metadata": {
    "collapsed": false
   },
   "outputs": [],
   "source": [
    "DatosLimpios=zeros(64,64,tmax)\n",
    "for t=1:tmax\n",
    "    DatosLimpios[:,:,t]=Datos[:,:,t].*MascaraOtsu\n",
    "end"
   ]
  },
  {
   "cell_type": "markdown",
   "metadata": {},
   "source": [
    "Verificamos que este canal en particular sigue dentro de la máscara, para ejemplos."
   ]
  },
  {
   "cell_type": "code",
   "execution_count": 20,
   "metadata": {
    "collapsed": false
   },
   "outputs": [
    {
     "data": {
      "text/plain": [
       "1"
      ]
     },
     "execution_count": 20,
     "metadata": {},
     "output_type": "execute_result"
    }
   ],
   "source": [
    "MascaraOtsu[58,50]"
   ]
  },
  {
   "cell_type": "code",
   "execution_count": 21,
   "metadata": {
    "collapsed": false
   },
   "outputs": [],
   "source": [
    "writedlm(\"MascaraOtsu01.dat\", MascaraOtsu)"
   ]
  },
  {
   "cell_type": "markdown",
   "metadata": {},
   "source": [
    "Ahora sí, ya que el ruido ha servido su propósito, podemos anularlo. "
   ]
  },
  {
   "cell_type": "code",
   "execution_count": 22,
   "metadata": {
    "collapsed": false
   },
   "outputs": [],
   "source": [
    "map!(aplastar, DatosLimpios);"
   ]
  },
  {
   "cell_type": "code",
   "execution_count": 40,
   "metadata": {
    "collapsed": false
   },
   "outputs": [],
   "source": [
    "#Tal ves esto no es necesario.\n",
    "Chumbaganga=zeros(DatosLimpios);\n",
    "for j=1:64, k=1:64\n",
    "    if(MascaraOtsu[j,k]==1)\n",
    "        Chumbaganga[j,k,:]=GaussSuavizar(reshape(DatosLimpios[j,k,:],tmax),7)\n",
    "    end    \n",
    "end"
   ]
  },
  {
   "cell_type": "code",
   "execution_count": 24,
   "metadata": {
    "collapsed": false
   },
   "outputs": [],
   "source": [
    "writedlm(\"ExampleDatosLargosUmbrales-58-50.dat\", reshape(DatosLimpios[58,50,:],tmax))\n",
    "writedlm(\"ExampleDatosLargosSuaves-58-50.dat\", reshape(Chumbaganga[58,50,:],tmax))"
   ]
  },
  {
   "cell_type": "code",
   "execution_count": 25,
   "metadata": {
    "collapsed": false
   },
   "outputs": [
    {
     "data": {
      "text/plain": [
       "GaussianSmooth (generic function with 1 method)"
      ]
     },
     "execution_count": 25,
     "metadata": {},
     "output_type": "execute_result"
    }
   ],
   "source": [
    "GaussianKernel=readdlm(\"GaussianMatrix.dat\");\n",
    "function GaussianSmooth(Datos)\n",
    "    tamanodatos=size(Datos)\n",
    "    result=zeros(Datos)\n",
    "    temp=copy(Datos)\n",
    "    #Primero, hacemos el padding de los datos para que no se suavice demasiado\n",
    "    for j=1:3\n",
    "        temp=vcat(temp[1,:], temp, temp[end,:])\n",
    "    end\n",
    "    for j=1:3\n",
    "        temp=hcat(temp[:,1], temp, temp[:,1])\n",
    "    end\n",
    "    \n",
    "    for j=4:tamanodatos[1]+3, k=4:tamanodatos[2]+3\n",
    "        #los indices van primero, \"renglones\", luego \"columnas\", etc\n",
    "        aux=temp[j-3:j+3,k-3:k+3]\n",
    "        result[j-3,k-3]=sum(GaussianKernel.*aux)\n",
    "    end\n",
    "    #piensa como normalizar\n",
    "    #result=result*maximum(abs(Datos))/maximum(abs(result))\n",
    "    return result\n",
    "end"
   ]
  },
  {
   "cell_type": "code",
   "execution_count": 26,
   "metadata": {
    "collapsed": false
   },
   "outputs": [],
   "source": [
    "Sumbaganga=zeros(formaarray)\n",
    "for t=1:tmax\n",
    "    Sumbaganga[:,:,t]=GaussianSmooth(Chumbaganga[:,:,t])\n",
    "end"
   ]
  },
  {
   "cell_type": "code",
   "execution_count": 27,
   "metadata": {
    "collapsed": false
   },
   "outputs": [
    {
     "data": {
      "text/plain": [
       "(-383.4402411684296,413.50233266723654)"
      ]
     },
     "execution_count": 27,
     "metadata": {},
     "output_type": "execute_result"
    }
   ],
   "source": [
    "extrema(Sumbaganga)"
   ]
  },
  {
   "cell_type": "code",
   "execution_count": 28,
   "metadata": {
    "collapsed": false
   },
   "outputs": [
    {
     "data": {
      "text/plain": [
       "0"
      ]
     },
     "execution_count": 28,
     "metadata": {},
     "output_type": "execute_result"
    }
   ],
   "source": [
    "Datos=0\n"
   ]
  },
  {
   "cell_type": "code",
   "execution_count": 29,
   "metadata": {
    "collapsed": false
   },
   "outputs": [],
   "source": [
    "gc()"
   ]
  },
  {
   "cell_type": "code",
   "execution_count": 30,
   "metadata": {
    "collapsed": false
   },
   "outputs": [],
   "source": [
    "# a escribir, pa variar\n",
    "for t=1:tmax\n",
    "#    aux=map(x-> isnan(x)?0:x, Chumbaganga[:,:,t])\n",
    "    zacatlan=\"./GarbageCollector/GaussianFilteredSpaceTime-$t.dat\"\n",
    "    writedlm(zacatlan, Sumbaganga[:,:,t])\n",
    "end\n"
   ]
  },
  {
   "cell_type": "code",
   "execution_count": 31,
   "metadata": {
    "collapsed": false
   },
   "outputs": [
    {
     "data": {
      "text/plain": [
       "DiscreteLaplacian (generic function with 1 method)"
      ]
     },
     "execution_count": 31,
     "metadata": {},
     "output_type": "execute_result"
    }
   ],
   "source": [
    "LaplacianKernel=zeros(3,3);\n",
    "#checa que Julia va ordenando los datos renglon por renglon, no columna por columna\n",
    "LaplacianKernel=[[0.5 1. 0.5], [1. -6. 1], [0.5 1. 0.5]];\n",
    "\n",
    "function DiscreteLaplacian(Datos)\n",
    "    result=zeros(Datos)\n",
    "    temp=copy(Datos)\n",
    "    #Primero, hacemos el padding de los datos para que no se suavice demasiado\n",
    "    temp=vcat(temp[1,:], temp, temp[end,:])\n",
    "    temp=hcat(temp[:,1], temp, temp[:,end])\n",
    "    largo,ancho=size(Datos)\n",
    "    aux=Array(Float64,(3,3))\n",
    "    result=zeros(Datos)\n",
    "    for j=2:largo, k=2:ancho\n",
    "        #los indices van primero, \"renglones\", luego \"columnas\", etc\n",
    "        aux=temp[j-1:j+1,k-1:k+1]\n",
    "        result[j-1,k-1]=sum(LaplacianKernel.*aux)\n",
    "    end\n",
    "    return result\n",
    "end"
   ]
  },
  {
   "cell_type": "code",
   "execution_count": 32,
   "metadata": {
    "collapsed": false
   },
   "outputs": [],
   "source": [
    "Laplaganga=zeros(formaarray)\n",
    "for t=1:tmax\n",
    "    Laplaganga[:,:,t]=DiscreteLaplacian(Sumbaganga[:,:,t])\n",
    "end"
   ]
  },
  {
   "cell_type": "code",
   "execution_count": 33,
   "metadata": {
    "collapsed": false
   },
   "outputs": [],
   "source": [
    "for t=1:tmax\n",
    "#    aux=map(x-> isnan(x)?0:x, Chumbaganga[:,:,t])\n",
    "    zacatlan=\"GarbageCollector/LaplacianFilteredSpaceTime-$t.dat\"\n",
    "    writedlm(zacatlan, Laplaganga[:,:,t])\n",
    "end\n"
   ]
  },
  {
   "cell_type": "code",
   "execution_count": 34,
   "metadata": {
    "collapsed": false
   },
   "outputs": [],
   "source": [
    "ActividadNegativa=zeros(Laplaganga);\n",
    "ActividadPositiva=zeros(Laplaganga);\n",
    "SpikeCountPositivo=zeros(64,64);\n",
    "SpikeCountNegativo=zeros(64,64);\n",
    "SpikeCountTotal=zeros(64,64;)\n",
    "for j=1:64\n",
    "    for k=1:64\n",
    "        for t=1:tmax          \n",
    "            if(Laplaganga[j,k,t]<-0.0)      \n",
    "                ActividadNegativa[j,k,t]=Laplaganga[j,k,t]\n",
    "                SpikeCountNegativo[j,k]+=1\n",
    "            elseif(Laplaganga[j,k,t]>0.0) \n",
    "                ActividadPositiva[j,k,t]=Laplaganga[j,k,t]\n",
    "                SpikeCountPositivo[j,k]+=1\n",
    "            end\n",
    "        end\n",
    "            \n",
    "    end\n",
    "end\n"
   ]
  },
  {
   "cell_type": "code",
   "execution_count": 35,
   "metadata": {
    "collapsed": false
   },
   "outputs": [],
   "source": [
    "writedlm(\"SpikeCountNegativo.dat\", SpikeCountNegativo)\n",
    "writedlm(\"SpikeCountPositivo.dat\", SpikeCountPositivo)"
   ]
  },
  {
   "cell_type": "code",
   "execution_count": 36,
   "metadata": {
    "collapsed": false
   },
   "outputs": [
    {
     "ename": "LoadError",
     "evalue": "masa not defined\nwhile loading In[36], in expression starting on line 3",
     "output_type": "error",
     "traceback": [
      "masa not defined\nwhile loading In[36], in expression starting on line 3",
      "",
      " in anonymous at no file:10"
     ]
    }
   ],
   "source": [
    "Salida=open(\"DatosCMNegativo01.dat\", \"w\");\n",
    "(xanterior, yanterior)=(32., 32.)\n",
    "for t=1:tmax\n",
    "    xmasa=0.0\n",
    "    ymasa=0.0\n",
    "    for j=1:64\n",
    "        xmasa+=j*sum(ActividadNegativa[j,:,t])\n",
    "        ymasa+=j*sum(ActividadNegativa[:,j,t])\n",
    "    end\n",
    "    if(abs(masa)>100)\n",
    "        xmasa=xmasa/masa\n",
    "        ymasa=ymasa/masa\n",
    "        write(Salida,join((xmasa,ymasa,masa), \"\\t\"), \"\\n\" )\n",
    "        xanterior=xmasa\n",
    "        yanterior=ymasa\n",
    "    else\n",
    "        write(Salida,join((xanterior,yanterior,0.0), \"\\t\"), \"\\n\" )\n",
    "    end\n",
    "end\n",
    "close(Salida);\n"
   ]
  },
  {
   "cell_type": "code",
   "execution_count": 37,
   "metadata": {
    "collapsed": false
   },
   "outputs": [],
   "source": [
    "Salida=open(\"DatosCMPositivo01.dat\", \"w\")\n",
    "(xanterior,yanterior)=(32.0, 32.0)\n",
    "for t=1:tmax\n",
    "    masa=sum(ActividadPositiva[:,:,t]);\n",
    "    xmasa=0.0\n",
    "    ymasa=0.0\n",
    "    for j=1:64\n",
    "        xmasa+=j*sum(ActividadPositiva[j,:,t])\n",
    "        ymasa+=j*sum(ActividadPositiva[:,j,t])\n",
    "    end\n",
    "    if(abs(masa)>100)\n",
    "        xmasa=xmasa/masa\n",
    "        ymasa=ymasa/masa\n",
    "        write(Salida,join((xmasa,ymasa,masa), \"\\t\"), \"\\n\" )\n",
    "        xanterior=xmasa\n",
    "        yanteriro=ymasa\n",
    "    else \n",
    "        write(Salida,join((xanterior,yanterior,0.0), \"\\t\"), \"\\n\" )\n",
    "    end\n",
    "        \n",
    "end\n",
    "close(Salida);"
   ]
  },
  {
   "cell_type": "code",
   "execution_count": null,
   "metadata": {
    "collapsed": false
   },
   "outputs": [],
   "source": []
  }
 ],
 "metadata": {
  "kernelspec": {
   "display_name": "Julia 0.3.7-pre",
   "language": "julia",
   "name": "julia 0.3"
  },
  "language_info": {
   "name": "julia",
   "version": "0.3.7"
  }
 },
 "nbformat": 4,
 "nbformat_minor": 0
}
