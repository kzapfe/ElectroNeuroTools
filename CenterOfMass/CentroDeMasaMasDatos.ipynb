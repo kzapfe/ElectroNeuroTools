{
 "metadata": {
  "language": "Julia",
  "name": "",
  "signature": "sha256:ea4352b26bbcc7fb8af8998d53583bd6654c060178d327e586d9a7dd994dc601"
 },
 "nbformat": 3,
 "nbformat_minor": 0,
 "worksheets": [
  {
   "cells": [
    {
     "cell_type": "code",
     "collapsed": false,
     "input": [
      "muacamuaca=open(\"../CriterioFranco/DatosActividadEpilepticaSelectos.bin\", \"r\")"
     ],
     "language": "python",
     "metadata": {},
     "outputs": [
      {
       "metadata": {},
       "output_type": "pyout",
       "prompt_number": 2,
       "text": [
        "IOStream(<file ../CriterioFranco/DatosActividadEpilepticaSelectos.bin>)"
       ]
      }
     ],
     "prompt_number": 2
    },
    {
     "cell_type": "code",
     "collapsed": false,
     "input": [
      "formaarray=(64,64,9101)"
     ],
     "language": "python",
     "metadata": {},
     "outputs": [
      {
       "metadata": {},
       "output_type": "pyout",
       "prompt_number": 4,
       "text": [
        "(64,64,9101)"
       ]
      }
     ],
     "prompt_number": 4
    },
    {
     "cell_type": "code",
     "collapsed": false,
     "input": [
      "Datos=read(muacamuaca, Float64, formaarray);"
     ],
     "language": "python",
     "metadata": {},
     "outputs": [],
     "prompt_number": 5
    },
    {
     "cell_type": "code",
     "collapsed": false,
     "input": [
      "tmax=formaarray[3]\n"
     ],
     "language": "python",
     "metadata": {},
     "outputs": [
      {
       "metadata": {},
       "output_type": "pyout",
       "prompt_number": 6,
       "text": [
        "9101"
       ]
      }
     ],
     "prompt_number": 6
    },
    {
     "cell_type": "code",
     "collapsed": false,
     "input": [
      "function umbral(x)\n",
      "    result=((abs(x)>200) ? 0 : x)\n",
      "end;\n",
      "\n",
      "function aplastar(x)\n",
      "    result=((abs(x)<50) ? 0 : x)\n",
      "end;\n",
      "\n",
      "function UnNormGauss(x,sigma)\n",
      "    return exp(-x*x/(2*sigma))\n",
      "end"
     ],
     "language": "python",
     "metadata": {},
     "outputs": [
      {
       "metadata": {},
       "output_type": "pyout",
       "prompt_number": 7,
       "text": [
        "UnNormGauss (generic function with 1 method)"
       ]
      }
     ],
     "prompt_number": 7
    },
    {
     "cell_type": "code",
     "collapsed": false,
     "input": [
      "close(muacamuaca)"
     ],
     "language": "python",
     "metadata": {},
     "outputs": [],
     "prompt_number": 8
    },
    {
     "cell_type": "code",
     "collapsed": false,
     "input": [
      "map!(umbral, Datos); #map! quiere decir map in situ\n",
      "DesviacionPorElectrodo=zeros(64,64)\n",
      "for j=1:64, k=1:64\n",
      "    DesviacionPorElectrodo[j,k]=std(reshape(Datos[j,k,:],tmax));\n",
      "end"
     ],
     "language": "python",
     "metadata": {},
     "outputs": [],
     "prompt_number": 9
    },
    {
     "cell_type": "code",
     "collapsed": false,
     "input": [
      "function PromedioSuavizar(Datos, mediaventana)\n",
      "    #Bien, veamos como chingaos le ponemos \"padding\" a las convoluciones.\n",
      "    colchon=zeros(mediaventana)\n",
      "    result=zeros(Datos)\n",
      "    datoscolchon=vcat(colchon, Datos, colchon)\n",
      "    for t=mediaventana+1:length(Datos)-mediaventana\n",
      "        result[t-mediaventana]=mean(datoscolchon[t-mediaventana:t+mediaventana])\n",
      "    end\n",
      "    return result\n",
      "end\n",
      "     "
     ],
     "language": "python",
     "metadata": {},
     "outputs": [
      {
       "metadata": {},
       "output_type": "pyout",
       "prompt_number": 10,
       "text": [
        "PromedioSuavizar (generic function with 1 method)"
       ]
      }
     ],
     "prompt_number": 10
    },
    {
     "cell_type": "code",
     "collapsed": false,
     "input": [
      "function GaussSuavizar(Datos,Sigma)  \n",
      "    #sigma esta medido en pixeles, es la desviacion estandar de nuestro kernel.\n",
      "    #El medioancho de nuestra ventana seran 3 sigmas.\n",
      "    #Bien, veamos como chingaos le ponemos \"padding\" a las convoluciones.\n",
      "    medioancho=ceil(Sigma*3)\n",
      "    colchon=ones(medioancho)\n",
      "    result=zeros(Datos)\n",
      "    datoscolchon=vcat(colchon*Datos[1], Datos, colchon*Datos[end])\n",
      "    kernel=map(x->UnNormGauss(x,Sigma), [-medioancho:medioancho])\n",
      "    kernel=kernel/(sum(kernel))\n",
      "    #La convolucion asi normalizada preserva el valor RELATIVO entre los puntos de la funcion.\n",
      "    #pero queremos ponerlo mas parecido a los voltajes que medimos, para preservar el rango de valores\n",
      "    #experimentales y su criterio de potenciales de accion / ruido\n",
      "    for t=medioancho+1:length(Datos)-medioancho\n",
      "        result[t-medioancho]=sum(datoscolchon[t-medioancho:t+medioancho].*kernel)\n",
      "    end\n",
      "    a=maximum(abs(Datos))\n",
      "    b=maximum(abs(result))\n",
      "    result=result*a/b\n",
      "    return result\n",
      "end\n",
      "    "
     ],
     "language": "python",
     "metadata": {},
     "outputs": [
      {
       "metadata": {},
       "output_type": "pyout",
       "prompt_number": 11,
       "text": [
        "GaussSuavizar (generic function with 1 method)"
       ]
      }
     ],
     "prompt_number": 11
    },
    {
     "cell_type": "code",
     "collapsed": false,
     "input": [
      "function SigmaVentanas(Datos, ancho, paso)\n",
      "    anchomedio=floor(ancho/2)\n",
      "    tantos=convert(Int, floor((length(Datos)-ancho)/paso))\n",
      "    result=zeros(tantos)\n",
      "    for t=1:tantos\n",
      "        result[t]=std(Datos[(t-1)*paso+1:(t-1)*paso+ancho])\n",
      "    end\n",
      "    return result  \n",
      "end"
     ],
     "language": "python",
     "metadata": {},
     "outputs": [
      {
       "metadata": {},
       "output_type": "pyout",
       "prompt_number": 12,
       "text": [
        "SigmaVentanas (generic function with 1 method)"
       ]
      }
     ],
     "prompt_number": 12
    },
    {
     "cell_type": "code",
     "collapsed": false,
     "input": [
      "function OtsuMethod(Data)\n",
      "    #Pa que esto funcione hay que mandar los datos ya sin NaNs u otras mugres   \n",
      "    binsdefault=2*ceil(Int,sqrt(length(Data)))\n",
      "    (rango, cuentas)=hist(Data,binsdefault)\n",
      "    tantos=length(rango)\n",
      "    valores\n",
      "    omega1=0\n",
      "    omega2=0\n",
      "    mu1=0\n",
      "    mu2=0\n",
      "    sigmab=0\n",
      "    sigmabtemp=0\n",
      "    tbest=0\n",
      "    varlim=0\n",
      "    for t=1:tantos-1\n",
      "        omega1=sum(cuentas[1:t])\n",
      "        omega2=sum(cuentas[t+1:tantos-1])\n",
      "        mu1=sum(cuentas[1:t].*rango[1:t])/omega1\n",
      "        mu2=sum(cuentas[t+1:tantos-1].*rango[t+1:tantos-1])/omega2        \n",
      "        sigmabtemp=omega1*omega2*((mu1-mu2)^2)\n",
      "        if sigmabtemp>sigmab\n",
      "            sigmab=sigmabtemp\n",
      "            tbest=t\n",
      "            varlim=rango[t]\n",
      "        end\n",
      "    end\n",
      "    return (sigmab,tbest,varlim)\n",
      "end\n",
      "\n",
      "function OtsuUmbralizar(DatosMatriz)\n",
      "    # aplanar datos\n",
      "    DataFlatten=reshape(DatosMatriz, size(DatosMatriz)[1]*size(DatosMatriz)[2])\n",
      "    mascara=zeros(DatosMatriz)\n",
      "    umbral=OtsuMethod(DataFlatten)[3]\n",
      "    mascara=map(x->(x>umbral)?1:0, DatosMatriz)\n",
      "    return mascara\n",
      "end\n"
     ],
     "language": "python",
     "metadata": {},
     "outputs": [
      {
       "metadata": {},
       "output_type": "pyout",
       "prompt_number": 13,
       "text": [
        "OtsuUmbralizar (generic function with 1 method)"
       ]
      }
     ],
     "prompt_number": 13
    },
    {
     "cell_type": "code",
     "collapsed": false,
     "input": [
      "ancho=350\n",
      "paso=35\n",
      "cuantasventanas=convert(Int, floor((tmax-ancho)/paso))\n",
      "DesviacionPorVentana=zeros((64,64,cuantasventanas))\n",
      "for j=1:64, k=1:64\n",
      "    chorizo=reshape(Datos[j,k,:],tmax)\n",
      "    DesviacionPorVentana[j,k,:]=SigmaVentanas(chorizo, ancho, paso)\n",
      "end"
     ],
     "language": "python",
     "metadata": {},
     "outputs": [],
     "prompt_number": 14
    },
    {
     "cell_type": "code",
     "collapsed": false,
     "input": [
      "SumaVentanasOtsuUmbral=zeros(64,64)\n",
      "for t=1:cuantasventanas\n",
      "    SumaVentanasOtsuUmbral+=OtsuUmbralizar(DesviacionPorVentana[:,:,t])\n",
      "end"
     ],
     "language": "python",
     "metadata": {},
     "outputs": [],
     "prompt_number": 17
    },
    {
     "cell_type": "code",
     "collapsed": false,
     "input": [
      "writedlm(\"MascaraOtsuRica01.dat\", SumaVentanasOtsuUmbral)"
     ],
     "language": "python",
     "metadata": {},
     "outputs": [],
     "prompt_number": 22
    },
    {
     "cell_type": "code",
     "collapsed": false,
     "input": [
      "MascaraOtsu=zeros(64,64);\n",
      "MascaraOtsu=map(x->(x>100)?1:0, SumaVentanasOtsuUmbral);"
     ],
     "language": "python",
     "metadata": {},
     "outputs": [],
     "prompt_number": 23
    },
    {
     "cell_type": "code",
     "collapsed": false,
     "input": [
      "DatosLimpios=zeros(formaarray)\n",
      "for t=1:tmax\n",
      "    DatosLimpios[:,:,t]=Datos[:,:,t].*MascaraOtsu\n",
      "end"
     ],
     "language": "python",
     "metadata": {},
     "outputs": [],
     "prompt_number": 24
    },
    {
     "cell_type": "code",
     "collapsed": false,
     "input": [
      "MascaraOtsu[58,50]"
     ],
     "language": "python",
     "metadata": {},
     "outputs": [
      {
       "metadata": {},
       "output_type": "pyout",
       "prompt_number": 28,
       "text": [
        "1"
       ]
      }
     ],
     "prompt_number": 28
    },
    {
     "cell_type": "code",
     "collapsed": false,
     "input": [
      "writedlm(\"MascaraOtsu01.dat\", MascaraOtsu)"
     ],
     "language": "python",
     "metadata": {},
     "outputs": [],
     "prompt_number": 47
    },
    {
     "cell_type": "code",
     "collapsed": false,
     "input": [
      "writedlm(\"ExampleDatosLargos-58-10.dat\", reshape(DatosLimpios[58,50,:],tmax))"
     ],
     "language": "python",
     "metadata": {},
     "outputs": [],
     "prompt_number": 29
    },
    {
     "cell_type": "code",
     "collapsed": false,
     "input": [
      "map!(aplastar, DatosLimpios);"
     ],
     "language": "python",
     "metadata": {},
     "outputs": [],
     "prompt_number": 30
    },
    {
     "cell_type": "code",
     "collapsed": false,
     "input": [
      "Chumbaganga=zeros(DatosLimpios);\n",
      "for j=1:64, k=1:64\n",
      "    if(MascaraOtsu[j,k]==1)\n",
      "   #     Chumbaganga[j,k,:]=GaussSuavizar(reshape(CuernoDeAmon[j,k,:],tmax),7)\n",
      "        Chumbaganga[j,k,:]=GaussSuavizar(reshape(DatosLimpios[j,k,:],tmax),7)\n",
      "    end    \n",
      "end"
     ],
     "language": "python",
     "metadata": {},
     "outputs": [],
     "prompt_number": 31
    },
    {
     "cell_type": "code",
     "collapsed": false,
     "input": [
      "writedlm(\"ExampleDatosLargosSuaves-58-10.dat\", reshape(Chumbaganga[58,50,:],tmax))"
     ],
     "language": "python",
     "metadata": {},
     "outputs": [],
     "prompt_number": 32
    },
    {
     "cell_type": "code",
     "collapsed": false,
     "input": [
      "GaussianKernel=readdlm(\"GaussianMatrixFilter01.dat\");\n",
      "function GaussianSmooth(Datos)\n",
      "    tamanodatos=size(Datos)\n",
      "    result=zeros(Datos)\n",
      "    temp=copy(Datos)\n",
      "    #Primero, hacemos el padding de los datos para que no se suavice demasiado\n",
      "    for j=1:3\n",
      "        temp=vcat(temp[1,:], temp, temp[end,:])\n",
      "    end\n",
      "    for j=1:3\n",
      "        temp=hcat(temp[:,1], temp, temp[:,1])\n",
      "    end\n",
      "    \n",
      "    for j=4:tamanodatos[1]+3, k=4:tamanodatos[2]+3\n",
      "        #los indices van primero, \"renglones\", luego \"columnas\", etc\n",
      "        aux=temp[j-3:j+3,k-3:k+3]\n",
      "        result[j-3,k-3]=sum(GaussianKernel.*aux)\n",
      "    end\n",
      "    #piensa como normalizar\n",
      "    #result=result*maximum(abs(Datos))/maximum(abs(result))\n",
      "    return result\n",
      "end"
     ],
     "language": "python",
     "metadata": {},
     "outputs": [
      {
       "metadata": {},
       "output_type": "pyout",
       "prompt_number": 34,
       "text": [
        "GaussianSmooth (generic function with 1 method)"
       ]
      }
     ],
     "prompt_number": 34
    },
    {
     "cell_type": "code",
     "collapsed": false,
     "input": [
      "Sumbaganga=zeros(formaarray)\n",
      "for t=1:tmax\n",
      "    Sumbaganga[:,:,t]=GaussianSmooth(Chumbaganga[:,:,t])\n",
      "end\n"
     ],
     "language": "python",
     "metadata": {},
     "outputs": [],
     "prompt_number": 35
    },
    {
     "cell_type": "code",
     "collapsed": false,
     "input": [
      "Datos=0"
     ],
     "language": "python",
     "metadata": {},
     "outputs": [
      {
       "metadata": {},
       "output_type": "pyout",
       "prompt_number": 36,
       "text": [
        "0"
       ]
      }
     ],
     "prompt_number": 36
    },
    {
     "cell_type": "code",
     "collapsed": false,
     "input": [
      "DatosLimpios=0"
     ],
     "language": "python",
     "metadata": {},
     "outputs": [
      {
       "metadata": {},
       "output_type": "pyout",
       "prompt_number": 37,
       "text": [
        "0"
       ]
      }
     ],
     "prompt_number": 37
    },
    {
     "cell_type": "code",
     "collapsed": false,
     "input": [
      "Datos"
     ],
     "language": "python",
     "metadata": {},
     "outputs": [
      {
       "metadata": {},
       "output_type": "pyout",
       "prompt_number": 44,
       "text": [
        "0"
       ]
      }
     ],
     "prompt_number": 44
    },
    {
     "cell_type": "code",
     "collapsed": false,
     "input": [
      "gc()"
     ],
     "language": "python",
     "metadata": {},
     "outputs": [],
     "prompt_number": 38
    },
    {
     "cell_type": "code",
     "collapsed": false,
     "input": [
      "# a escribir, pa variar\n",
      "for t=1:tmax\n",
      "#    aux=map(x-> isnan(x)?0:x, Chumbaganga[:,:,t])\n",
      "    zacatlan=\"GaussianFilteredSpaceTime-$t.dat\"\n",
      "    writedlm(zacatlan, Sumbaganga[:,:,t])\n",
      "end\n"
     ],
     "language": "python",
     "metadata": {},
     "outputs": [],
     "prompt_number": 39
    },
    {
     "cell_type": "code",
     "collapsed": false,
     "input": [
      "writedlm(\"GaussianFilteredSpaceTimeCompletoActividadEpileptica01.dat\", Sumbaganga)"
     ],
     "language": "python",
     "metadata": {},
     "outputs": [],
     "prompt_number": 40
    },
    {
     "cell_type": "code",
     "collapsed": false,
     "input": [
      "LaplacianKernel=zeros(3,3);\n",
      "#checa que Julia va ordenando los datos renglon por renglon, no columna por columna\n",
      "LaplacianKernel=[[0.5 1 0.5], [1 -6 1], [0.5 1 0.5]];\n",
      "\n",
      "function DiscreteLaplacian(Datos)\n",
      "    result=zeros(Datos)\n",
      "    temp=copy(Datos)\n",
      "    #Primero, hacemos el padding de los datos para que no se suavice demasiado\n",
      "    temp=vcat(temp[1,:], temp, temp[end,:])\n",
      "    temp=hcat(temp[:,1], temp, temp[:,1])\n",
      "    largo,ancho=size(Datos)\n",
      "    aux=Array(Float64,(3,3))\n",
      "    result=zeros(Datos)\n",
      "    for j=2:largo, k=2:ancho\n",
      "        #los indices van primero, \"renglones\", luego \"columnas\", etc\n",
      "        aux=temp[j-1:j+1,k-1:k+1]\n",
      "        result[j,k]=sum(LaplacianKernel.*aux)\n",
      "    end\n",
      "    return result\n",
      "end"
     ],
     "language": "python",
     "metadata": {},
     "outputs": [
      {
       "metadata": {},
       "output_type": "pyout",
       "prompt_number": 41,
       "text": [
        "DiscreteLaplacian (generic function with 1 method)"
       ]
      }
     ],
     "prompt_number": 41
    },
    {
     "cell_type": "code",
     "collapsed": false,
     "input": [
      "Laplaganga=zeros(formaarray)\n",
      "for t=1:tmax\n",
      "    Laplaganga[:,:,t]=DiscreteLaplacian(Sumbaganga[:,:,t])\n",
      "end"
     ],
     "language": "python",
     "metadata": {},
     "outputs": [],
     "prompt_number": 44
    },
    {
     "cell_type": "code",
     "collapsed": false,
     "input": [
      "for t=1:tmax\n",
      "#    aux=map(x-> isnan(x)?0:x, Chumbaganga[:,:,t])\n",
      "    zacatlan=\"LaplacianFilteredSpaceTime-$t.dat\"\n",
      "    writedlm(zacatlan, Laplaganga[:,:,t])\n",
      "end\n"
     ],
     "language": "python",
     "metadata": {},
     "outputs": [],
     "prompt_number": 45
    },
    {
     "cell_type": "code",
     "collapsed": false,
     "input": [
      "writedlm(\"LaplacianSpaceTimeCompletoActividadEpileptica01.dat\", Laplaganga)"
     ],
     "language": "python",
     "metadata": {},
     "outputs": [],
     "prompt_number": 46
    },
    {
     "cell_type": "code",
     "collapsed": false,
     "input": [
      "ActividadNegativa=zeros(Laplaganga);\n",
      "ActividadPositiva=zeros(Laplaganga);\n",
      "SpikeCountPositivo=zeros(64,64);\n",
      "SpikeCountNegativo=zeros(64,64);\n",
      "SpikeCountTotal=zeros(64,64;)\n",
      "for j=1:64\n",
      "    for k=1:64\n",
      "        for t=1:1051          \n",
      "            if(Laplaganga[j,k,t]<0)      \n",
      "                ActividadNegativa[j,k,t]=Laplaganga[j,k,t]\n",
      "                SpikeCountNegativo[j,k]+=1\n",
      "            else\n",
      "                ActividadPositiva[j,k,t]=Laplaganga[j,k,t]\n",
      "                SpikeCountPositivo[j,k]+=1\n",
      "            end\n",
      "        end\n",
      "            \n",
      "    end\n",
      "end\n"
     ],
     "language": "python",
     "metadata": {},
     "outputs": [],
     "prompt_number": 48
    },
    {
     "cell_type": "code",
     "collapsed": false,
     "input": [
      "writedlm(\"SpikeCountNegativo.dat\", SpikeCountNegativo)\n",
      "writedlm(\"SpikeCountPositivo.dat\", SpikeCountPositivo)"
     ],
     "language": "python",
     "metadata": {},
     "outputs": [],
     "prompt_number": 50
    },
    {
     "cell_type": "code",
     "collapsed": false,
     "input": [],
     "language": "python",
     "metadata": {},
     "outputs": []
    }
   ],
   "metadata": {}
  }
 ]
}