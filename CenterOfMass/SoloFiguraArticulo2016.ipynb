{
 "cells": [
  {
   "cell_type": "markdown",
   "metadata": {},
   "source": [
    "# Scripts de PyPlot para hacer figuras chingonas para poster"
   ]
  },
  {
   "cell_type": "markdown",
   "metadata": {
    "collapsed": true
   },
   "source": [
    "Primero, vamos a intentarlo con un experimento que tenga una actividad notoria. Aquí cargamos un archivo que contiene los datos de un experimento con actividad epiléptica. La región CA aparece muy activa varias veces en las mediciones del potencial de campo local, LFP de ahora en adelante."
   ]
  },
  {
   "cell_type": "code",
   "execution_count": 1,
   "metadata": {
    "collapsed": false
   },
   "outputs": [],
   "source": [
    "using PyPlot\n",
    "using JLD"
   ]
  },
  {
   "cell_type": "code",
   "execution_count": 2,
   "metadata": {
    "collapsed": false
   },
   "outputs": [
    {
     "data": {
      "text/plain": [
       "AntesQue (generic function with 1 method)"
      ]
     },
     "execution_count": 2,
     "metadata": {},
     "output_type": "execute_result"
    }
   ],
   "source": [
    "function estavacia(arxiv)\n",
    "    suaca=stat(arxiv)\n",
    "    result=(suaca.size==0)\n",
    "end\n",
    "\n",
    "function AntesQue(Datos::Array, tiempo)\n",
    "    Cadena=[0 0 0 0]\n",
    "    for a in eachindex(Datos[:,4])\n",
    "        if Datos[a,4]+40<tiempo\n",
    "            Cadena=vcat(Cadena, Datos[a,:])\n",
    "    end\n",
    "end\n",
    "    Cadena=Cadena[2:end,:]\n",
    "    return Cadena\n",
    "end"
   ]
  },
  {
   "cell_type": "code",
   "execution_count": 3,
   "metadata": {
    "collapsed": false
   },
   "outputs": [],
   "source": [
    "tmax=1300\n",
    "CSD=load(\"CSD4APForPaperTotal.jld\", \"CSD\")\n",
    "CSDPlanchado=load(\"CSD4APForPaperTotal.jld\", \"CSDPlanchada\");"
   ]
  },
  {
   "cell_type": "code",
   "execution_count": 4,
   "metadata": {
    "collapsed": false
   },
   "outputs": [],
   "source": [
    "CatenarioPositivo=load(\"Catenarios4AP.jld\", \"CatenarioPositivo\")\n",
    "CatenarioNegativo=load(\"Catenarios4AP.jld\", \"CatenarioNegativo\");"
   ]
  },
  {
   "cell_type": "code",
   "execution_count": null,
   "metadata": {
    "collapsed": false
   },
   "outputs": [],
   "source": [
    "\n",
    "PyPlot.ioff()\n",
    "\n",
    "for cuadro=1:1300\n",
    "#cuadro=301\n",
    "\n",
    "    CSDEjemplo=CSDPlanchado[:,:,cuadro];\n",
    "#map!(x->abs(x)<10? 0:x, CSDEjemplo)\n",
    "\n",
    "#################\n",
    "font1 = Dict(\"family\"=>\"DejaVu Serif\",\n",
    "    \"color\"=>\"black\",\n",
    "    \"weight\"=>\"normal\",\n",
    "    \"size\"=>16)\n",
    "seg=round((cuadro)/7.022, 1)\n",
    "titulo=\"$seg ms\"\n",
    "figure(figsize=(4,3.5))\n",
    "PyPlot.xlim(1,64)\n",
    "PyPlot.ylim(1,64)\n",
    "limcsd=50\n",
    "\n",
    "otraimagen=imshow(CSDEjemplo, cmap=\"BrBG\", origin=\"lower\", vmin=-limcsd, vmax=limcsd, \n",
    "interpolation=\"sinc\", extent=[1,64,1,64])\n",
    "\n",
    "#cb=colorbar(otraimagen, ticks=[-150, +150],fraction=0.046, pad=0.04)\n",
    "#cb=colorbar(otraimagen, ticks=[-150, +150], use_gridspec=\"True\")\n",
    "#farofa=cb[:set_ticklabels]([\"Sink\", \"Source\"])\n",
    "#xlabel(\"furufu\", fontdict=font1)\n",
    "\n",
    "    if !(estavacia(\"CenterOfMassCollector/CMFuentes-$cuadro.dat\"))        \n",
    "        EjemploCentrosCSDPos=readdlm(\"CenterOfMassCollector/CMFuentes-$cuadro.dat\")\n",
    "        xxpos=EjemploCentrosCSDPos[:,1]\n",
    "        yypos=EjemploCentrosCSDPos[:,2]\n",
    "        valorpos=EjemploCentrosCSDPos[:,3]\n",
    "        \n",
    "    scatter(xxpos,yypos, s=valorpos, alpha=0.8, c=valorpos,cmap=\"viridis\", edgecolors=\"none\")\n",
    "        scatter(xxpos,yypos, s=0.02*valorpos, alpha=0.9, c=\"yellow\", edgecolors=\"black\")\n",
    "    end\n",
    "    \n",
    "    if !(estavacia(\"CenterOfMassCollector/CMPozos-$cuadro.dat\"))        \n",
    "        EjemploCentrosCSDNeg=readdlm(\"CenterOfMassCollector/CMPozos-$cuadro.dat\")\n",
    "        xxneg=EjemploCentrosCSDNeg[:,1]\n",
    "        yyneg=EjemploCentrosCSDNeg[:,2]\n",
    "        valorneg=EjemploCentrosCSDNeg[:,3];\n",
    "\n",
    "    scatter(xxneg, yyneg, s=abs(valorneg), alpha=0.8, c=valorneg,cmap=\"inferno\", edgecolors=\"none\")\n",
    "        scatter(xxneg, yyneg,s=0.02*abs(valorneg), alpha=0.9, c=\"green\", edgecolors=\"black\")\n",
    "    end\n",
    "        \n",
    "tick_params(axis=\"both\", labelsize=14)\n",
    "\n",
    "title(titulo, fontdict=font1)\n",
    " tight_layout()\n",
    "savefig(\"AcidCSD_CM-$cuadro.png\", dpi=90)\n",
    "end\n",
    "PyPlot.close_queued_figs()"
   ]
  },
  {
   "cell_type": "code",
   "execution_count": null,
   "metadata": {
    "collapsed": false
   },
   "outputs": [],
   "source": [
    "ioff()\n",
    "\n",
    "ImagenCSD=CSDPlanchado[:,:,490];\n",
    "\n",
    "for longis in (3,12,20)\n",
    "    for gordis in (100,300,500)\n",
    "\n",
    "figure(figsize=(3.5,3.5))\n",
    "#axis(\"equal\")\n",
    "tick_params(labelbottom=\"on\", labelleft=\"on\")\n",
    "xticks(fontsize=20)\n",
    "yticks(fontsize=20)\n",
    "xlim(1,64)\n",
    "ylim(1,64)\n",
    "bolitasrojas=0\n",
    "bolitasazules=0\n",
    "    minlargo=longis\n",
    "        marcagor=gordis\n",
    "muevemin=0.5\n",
    "limcsd=80\n",
    "tight_layout()\n",
    "\n",
    "guacafondo=imshow(ImagenCSD, cmap=\"bwr\", interpolation=\"sinc\", \n",
    "origin=\"lower\", vmin=-limcsd, vmax=limcsd, extent=[1,64,1,64])\n",
    "\n",
    "for p in CatenarioPositivo\n",
    "    gordura=abs(map(Float32,p[:,3]))\n",
    "    desviax=std(map(Float32,p[:,1]))\n",
    "    desviay=std(map(Float32,p[:,2]))\n",
    "    longus,falsus=size(p)\n",
    "    if mean(gordura)> marcagor && (desviax>muevemin || desviay>muevemin) && longus> minlargo \n",
    "        #Si son chiquitos no nos interesan.\n",
    "        xxpos=p[:,1]\n",
    "        yypos=p[:,2]    \n",
    "        tiempos=p[:,4]/7022    \n",
    "        plot(xxpos, yypos, marker=\"o\", markersize=1, color=\"maroon\", lw=0.5)\n",
    "        #bolitasrojas=scatter(xxpos,yypos, s=gordura, \n",
    "        #edgecolors=\"none\", color=\"r\" )\n",
    "        inicios=scatter(xxpos[1],yypos[1], s=10, edgecolors=\"black\", \n",
    "        linewidth=1,\n",
    "        facecolor=\"maroon\", marker=\"o\" )\n",
    "        finales=scatter(xxpos[end],yypos[end], s=10, edgecolors=\"black\", \n",
    "        linewidth=1,facecolor=\"maroon\", marker=\"^\", label=\"Final\" )\n",
    "      #  annotate(round(tiempos[1]*1000,1),  (xxpos[1], yypos[1]), fontsize=7, color=\"black\")\n",
    "       # annotate(round(tiempos[end]*1000,1), (xxpos[end], yypos[end]), fontsize=7, color=\"green\")\n",
    "\n",
    "    end\n",
    "end\n",
    "\n",
    "\n",
    "\n",
    "\n",
    "for p in CatenarioNegativo\n",
    "    gordura=abs(map(Float32,p[:,3]))\n",
    "    desviax=std(map(Float32,p[:,1]))\n",
    "    desviay=std(map(Float32, p[:,2]))\n",
    "    longus,falsus=size(p)\n",
    "    if mean(gordura)>marcagor && (desviax>muevemin || desviay > muevemin) &&longus> minlargo\n",
    "        #Si son chiquitos no nos interesan.\n",
    "        xxpos=p[:,1]\n",
    "        yypos=p[:,2]    \n",
    "        tiempos=p[:,4]/7022    \n",
    "        plot(xxpos, yypos, marker=\"o\", markersize=1, color=\"midnightblue\", lw=0.5)\n",
    "        #bolitasazules=scatter(xxpos,yypos, s=gordura,\n",
    "        #edgecolors=\"none\", color=\"b\")\n",
    "        inicios=scatter(xxpos[1],yypos[1], s=10, edgecolors=\"black\", \n",
    "        linewidth=1,\n",
    "        facecolor=\"midnightblue\", alpha=0.7, marker=\"o\", label=\"Final\" )\n",
    "        finales=scatter(xxpos[end],yypos[end], s=10, edgecolors=\"black\", \n",
    "        linewidth=1,\n",
    "        facecolor=\"midnightblue\", marker=\"^\", label=\"Final\" )\n",
    "      #  annotate(round(tiempos[1],4),  (xxpos[1], yypos[1]), fontsize=7, color=\"black\")\n",
    "      #  annotate(round(tiempos[end],4), (xxpos[end], yypos[end]), fontsize=7, color=\"green\")\n",
    "\n",
    "    end\n",
    "end\n",
    "\n",
    "    \n",
    "    savefig(\"TrayectoriasGordis-$marcagor-longus-$minlargo.png\",dpi=90)\n",
    "\n",
    "end\n",
    "    \n",
    "end"
   ]
  },
  {
   "cell_type": "code",
   "execution_count": 7,
   "metadata": {
    "collapsed": false
   },
   "outputs": [],
   "source": [
    "ioff()\n",
    "tiemposinteresantes=1:tmax\n",
    "\n",
    "for cuadro in tiemposinteresantes\n",
    "\n",
    "ImagenCSD=CSDPlanchado[:,:,cuadro];\n",
    "\n",
    "figure(figsize=(6,5.25))\n",
    "#axis(\"equal\")\n",
    " \n",
    "font1 = Dict(\"family\"=>\"DejaVu Serif\",\n",
    "    \"color\"=>\"black\",\n",
    "    \"weight\"=>\"normal\",\n",
    "\"size\"=>24)\n",
    "limcsd=80\n",
    "\n",
    "milisec=round((cuadro)/7.022,1)\n",
    "\n",
    "title(\"t= $milisec ms\", fontdict=font1)\n",
    "   \n",
    "    \n",
    "tick_params(labelbottom=\"on\", labelleft=\"on\")\n",
    "xticks(fontsize=20)\n",
    "yticks(fontsize=20)\n",
    "xlim(1,64)\n",
    "ylim(1,64)\n",
    "bolitasrojas=0\n",
    "bolitasazules=0\n",
    "minlargo=3\n",
    "marcagor=100\n",
    "muevemin=0.5\n",
    "limcsd=180\n",
    "tight_layout()\n",
    "\n",
    "guacafondo=imshow(ImagenCSD, cmap=\"bwr\", interpolation=\"sinc\", \n",
    "origin=\"lower\", vmin=-limcsd, vmax=limcsd, extent=[1,64,1,64])\n",
    "\n",
    "for p in CatenarioPositivo\n",
    "    gordura=abs(map(Float32,p[:,3]))\n",
    "    desviax=std(map(Float32,p[:,1]))\n",
    "    desviay=std(map(Float32,p[:,2]))\n",
    "    paux=AntesQue(p,cuadro)\n",
    "    cucho,fleto=size(paux)\n",
    "     longus,falsus=size(p)\n",
    "        frase=(mean(gordura)> marcagor && longus>minlargo &&\n",
    "            (desviax>muevemin || desviay>muevemin) &&cucho>0)\n",
    "     #   println(longus, \" \", minlargo,\" \", frase)\n",
    "       \n",
    "        if frase\n",
    "        #Si son chiquitos no nos interesan.\n",
    "        xxpos=paux[:,1]\n",
    "        yypos=paux[:,2]\n",
    "            gordis=abs(map(Float32, paux[:,3]))\n",
    "        tiempos=round((paux[:,4])/7.022,1)   \n",
    "        plot(xxpos, yypos, marker=\"o\", markersize=1, color=\"maroon\", lw=0.5)\n",
    "        #bolitasrojas=scatter(xxpos,yypos, s=gordura, \n",
    "        #edgecolors=\"none\", color=\"r\" )\n",
    "        inicios=scatter(xxpos[1],yypos[1], s=10, edgecolors=\"black\", \n",
    "        linewidth=0.5,\n",
    "        facecolor=\"maroon\", marker=\"o\" )\n",
    "            finales=scatter(xxpos[end],yypos[end], s=10, edgecolors=\"orangered\", \n",
    "        linewidth=0.5,facecolor=\"maroon\", marker=\"^\", label=\"Final\" )\n",
    "      #  annotate(round(tiempos[1]*1000,1),  (xxpos[1], yypos[1]), fontsize=7, color=\"black\")\n",
    "      #  annotate(tiempos[end], (xxpos[end], yypos[end]), fontsize=15, color=\"green\")\n",
    "      #      scatter(xxpos[end],yypos[end], s=gordis[end]*0.5, alpha=0.5, \n",
    "       #     c=\"darkorange\", edgecolors=\"none\")\n",
    "    end\n",
    "\n",
    "end\n",
    "\n",
    "\n",
    "\n",
    "\n",
    "for p in CatenarioNegativo\n",
    "    gordura=abs(map(Float32,p[:,3]))\n",
    "    desviax=std(map(Float32,p[:,1]))\n",
    "    desviay=std(map(Float32, p[:,2]))\n",
    "    \n",
    "    paux=AntesQue(p,cuadro)\n",
    "    cucho,fleto=size(paux)\n",
    "     longus,falsus=size(p)\n",
    "        \n",
    "        if mean(gordura)>marcagor && longus>minlargo &&\n",
    "            (desviax>muevemin || desviay > muevemin) && cucho>0\n",
    "        #Si son chiquitos no nos interesan.\n",
    "        xxpos=paux[:,1]\n",
    "        yypos=paux[:,2]\n",
    "        gordis=abs(map(Float32, paux[:,3]))\n",
    "  \n",
    "    #  tiempos= round(paux[:,4])/7.022,1)   \n",
    "        plot(xxpos, yypos, marker=\"o\", markersize=1, color=\"midnightblue\", lw=0.5)\n",
    "        #bolitasazules=scatter(xxpos,yypos, s=gordura,\n",
    "        #edgecolors=\"none\", color=\"b\")\n",
    "        inicios=scatter(xxpos[1],yypos[1], s=10, edgecolors=\"black\", \n",
    "        linewidth=0.5,\n",
    "        facecolor=\"midnightblue\", alpha=0.7, marker=\"o\", label=\"Final\" )\n",
    "            finales=scatter(xxpos[end],yypos[end], s=10, edgecolors=\"slateblue\", \n",
    "        linewidth=0.5,\n",
    "        facecolor=\"midnightblue\", marker=\"^\", label=\"Final\" )\n",
    "      #  annotate(round(tiempos[1],4),  (xxpos[1], yypos[1]), fontsize=7, color=\"black\")\n",
    "      #  annotate(round(tiempos[end],4), (xxpos[end], yypos[end]), fontsize=7, color=\"green\")\n",
    "      #      scatter(xxpos[end],yypos[end], s=gordis*0.5, alpha=0.5,\n",
    "      #      c=\"aquamarine\", edgecolors=\"none\")\n",
    "\n",
    "    end\n",
    "end\n",
    "\n",
    "    savefig(\"CuadroTray-$cuadro.png\",dpi=90)\n",
    "    PyPlot.close(\"all\")\n",
    "end\n",
    "PyPlot.close_queued_figs()"
   ]
  },
  {
   "cell_type": "code",
   "execution_count": null,
   "metadata": {
    "collapsed": false
   },
   "outputs": [],
   "source": [
    "collect(100:100:tmax)"
   ]
  },
  {
   "cell_type": "code",
   "execution_count": null,
   "metadata": {
    "collapsed": true
   },
   "outputs": [],
   "source": []
  }
 ],
 "metadata": {
  "kernelspec": {
   "display_name": "Julia 0.4.2-pre",
   "language": "julia",
   "name": "julia-0.4"
  },
  "language_info": {
   "file_extension": ".jl",
   "mimetype": "application/julia",
   "name": "julia",
   "version": "0.4.2"
  }
 },
 "nbformat": 4,
 "nbformat_minor": 0
}
