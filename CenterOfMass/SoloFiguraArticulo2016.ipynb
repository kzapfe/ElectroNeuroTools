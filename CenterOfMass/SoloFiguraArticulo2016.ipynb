{
 "cells": [
  {
   "cell_type": "markdown",
   "metadata": {},
   "source": [
    "# Scripts de PyPlot para hacer figuras chingonas para poster"
   ]
  },
  {
   "cell_type": "markdown",
   "metadata": {
    "collapsed": true
   },
   "source": [
    "Primero, vamos a intentarlo con un experimento que tenga una actividad notoria. Aquí cargamos un archivo que contiene los datos de un experimento con actividad epiléptica. La región CA aparece muy activa varias veces en las mediciones del potencial de campo local, LFP de ahora en adelante."
   ]
  },
  {
   "cell_type": "code",
   "execution_count": 1,
   "metadata": {
    "collapsed": false
   },
   "outputs": [],
   "source": [
    "using PyPlot\n",
    "using JLD"
   ]
  },
  {
   "cell_type": "code",
   "execution_count": 2,
   "metadata": {
    "collapsed": false
   },
   "outputs": [
    {
     "data": {
      "text/plain": [
       "estavacia (generic function with 1 method)"
      ]
     },
     "execution_count": 2,
     "metadata": {},
     "output_type": "execute_result"
    }
   ],
   "source": [
    "function estavacia(arxiv)\n",
    "    suaca=stat(arxiv)\n",
    "    result=(suaca.size==0)\n",
    "end"
   ]
  },
  {
   "cell_type": "code",
   "execution_count": 9,
   "metadata": {
    "collapsed": false
   },
   "outputs": [],
   "source": [
    "CSD=load(\"CSD4APForPaperTotal.jld\", \"CSD\")\n",
    "CSDPlanchado=load(\"CSD4APForPaperTotal.jld\", \"CSDPlanchada\");"
   ]
  },
  {
   "cell_type": "code",
   "execution_count": 21,
   "metadata": {
    "collapsed": false
   },
   "outputs": [],
   "source": [
    "CatenarioPositivo=load(\"Catenarios4AP.jld\", \"CatenarioPositivo\")\n",
    "CatenarioNegativo=load(\"Catenarios4AP.jld\", \"CatenarioNegativo\");"
   ]
  },
  {
   "cell_type": "code",
   "execution_count": 8,
   "metadata": {
    "collapsed": false
   },
   "outputs": [],
   "source": [
    "\n",
    "PyPlot.ioff()\n",
    "\n",
    "for cuadro=1:1300\n",
    "#cuadro=301\n",
    "\n",
    "    CSDEjemplo=CSDPlanchado[:,:,cuadro];\n",
    "#map!(x->abs(x)<10? 0:x, CSDEjemplo)\n",
    "\n",
    "#################\n",
    "font1 = Dict(\"family\"=>\"DejaVu Serif\",\n",
    "    \"color\"=>\"black\",\n",
    "    \"weight\"=>\"normal\",\n",
    "    \"size\"=>16)\n",
    "seg=round((cuadro)/7.022, 1)\n",
    "titulo=\"$seg ms\"\n",
    "figure(figsize=(4,3.5))\n",
    "PyPlot.xlim(1,64)\n",
    "PyPlot.ylim(1,64)\n",
    "limcsd=50\n",
    "\n",
    "otraimagen=imshow(CSDEjemplo, cmap=\"BrBG\", origin=\"lower\", vmin=-limcsd, vmax=limcsd, \n",
    "interpolation=\"sinc\", extent=[1,64,1,64])\n",
    "\n",
    "#cb=colorbar(otraimagen, ticks=[-150, +150],fraction=0.046, pad=0.04)\n",
    "#cb=colorbar(otraimagen, ticks=[-150, +150], use_gridspec=\"True\")\n",
    "#farofa=cb[:set_ticklabels]([\"Sink\", \"Source\"])\n",
    "#xlabel(\"furufu\", fontdict=font1)\n",
    "\n",
    "    if !(estavacia(\"CenterOfMassCollector/CMFuentes-$cuadro.dat\"))        \n",
    "        EjemploCentrosCSDPos=readdlm(\"CenterOfMassCollector/CMFuentes-$cuadro.dat\")\n",
    "        xxpos=EjemploCentrosCSDPos[:,1]\n",
    "        yypos=EjemploCentrosCSDPos[:,2]\n",
    "        valorpos=EjemploCentrosCSDPos[:,3]\n",
    "        \n",
    "    scatter(xxpos,yypos, s=valorpos, alpha=0.8, c=valorpos,cmap=\"viridis\", edgecolors=\"none\")\n",
    "        scatter(xxpos,yypos, s=0.02*valorpos, alpha=0.9, c=\"yellow\", edgecolors=\"black\")\n",
    "    end\n",
    "    \n",
    "    if !(estavacia(\"CenterOfMassCollector/CMPozos-$cuadro.dat\"))        \n",
    "        EjemploCentrosCSDNeg=readdlm(\"CenterOfMassCollector/CMPozos-$cuadro.dat\")\n",
    "        xxneg=EjemploCentrosCSDNeg[:,1]\n",
    "        yyneg=EjemploCentrosCSDNeg[:,2]\n",
    "        valorneg=EjemploCentrosCSDNeg[:,3];\n",
    "\n",
    "    scatter(xxneg, yyneg, s=abs(valorneg), alpha=0.8, c=valorneg,cmap=\"inferno\", edgecolors=\"none\")\n",
    "        scatter(xxneg, yyneg,s=0.02*abs(valorneg), alpha=0.9, c=\"green\", edgecolors=\"black\")\n",
    "    end\n",
    "        \n",
    "tick_params(axis=\"both\", labelsize=14)\n",
    "\n",
    "title(titulo, fontdict=font1)\n",
    " tight_layout()\n",
    "savefig(\"AcidCSD_CM-$cuadro.png\", dpi=90)\n",
    "end\n",
    "PyPlot.close_queued_figs()"
   ]
  },
  {
   "cell_type": "code",
   "execution_count": 28,
   "metadata": {
    "collapsed": false
   },
   "outputs": [],
   "source": [
    "ioff()\n",
    "\n",
    "ImagenCSD=CSDPlanchado[:,:,490];\n",
    "\n",
    "for longis in (3) #(3,12,20)\n",
    "    for gordis in (100) # (100,300,500)\n",
    "\n",
    "figure(figsize=(3.5,3.5))\n",
    "#axis(\"equal\")\n",
    "tick_params(labelbottom=\"on\", labelleft=\"on\")\n",
    "xticks(fontsize=20)\n",
    "yticks(fontsize=20)\n",
    "xlim(1,64)\n",
    "ylim(1,64)\n",
    "bolitasrojas=0\n",
    "bolitasazules=0\n",
    "    minlargo=longis\n",
    "        marcagor=gordis\n",
    "muevemin=0.5\n",
    "limcsd=80\n",
    "tight_layout()\n",
    "\n",
    "guacafondo=imshow(ImagenCSD, cmap=\"bwr\", interpolation=\"sinc\", \n",
    "origin=\"lower\", vmin=-limcsd, vmax=limcsd, extent=[1,64,1,64])\n",
    "\n",
    "for p in CatenarioPositivo\n",
    "    gordura=abs(map(Float32,p[:,3]))\n",
    "    desviax=std(map(Float32,p[:,1]))\n",
    "    desviay=std(map(Float32,p[:,2]))\n",
    "    longus,falsus=size(p)\n",
    "    if mean(gordura)> marcagor && (desviax>muevemin || desviay>muevemin) && longus> minlargo \n",
    "        #Si son chiquitos no nos interesan.\n",
    "        xxpos=p[:,1]\n",
    "        yypos=p[:,2]    \n",
    "        tiempos=p[:,4]/7022    \n",
    "        plot(xxpos, yypos, marker=\"o\", markersize=1, color=\"maroon\", lw=0.5)\n",
    "        #bolitasrojas=scatter(xxpos,yypos, s=gordura, \n",
    "        #edgecolors=\"none\", color=\"r\" )\n",
    "        inicios=scatter(xxpos[1],yypos[1], s=10, edgecolors=\"black\", \n",
    "        linewidth=1,\n",
    "        facecolor=\"maroon\", marker=\"o\" )\n",
    "        finales=scatter(xxpos[end],yypos[end], s=10, edgecolors=\"black\", \n",
    "        linewidth=1,facecolor=\"maroon\", marker=\"^\", label=\"Final\" )\n",
    "      #  annotate(round(tiempos[1]*1000,1),  (xxpos[1], yypos[1]), fontsize=7, color=\"black\")\n",
    "       # annotate(round(tiempos[end]*1000,1), (xxpos[end], yypos[end]), fontsize=7, color=\"green\")\n",
    "\n",
    "    end\n",
    "end\n",
    "\n",
    "\n",
    "\n",
    "\n",
    "for p in CatenarioNegativo\n",
    "    gordura=abs(map(Float32,p[:,3]))\n",
    "    desviax=std(map(Float32,p[:,1]))\n",
    "    desviay=std(map(Float32, p[:,2]))\n",
    "    longus,falsus=size(p)\n",
    "    if mean(gordura)>marcagor && (desviax>muevemin || desviay > muevemin) &&longus> minlargo\n",
    "        #Si son chiquitos no nos interesan.\n",
    "        xxpos=p[:,1]\n",
    "        yypos=p[:,2]    \n",
    "        tiempos=p[:,4]/7022    \n",
    "        plot(xxpos, yypos, marker=\"o\", markersize=1, color=\"midnightblue\", lw=0.5)\n",
    "        #bolitasazules=scatter(xxpos,yypos, s=gordura,\n",
    "        #edgecolors=\"none\", color=\"b\")\n",
    "        inicios=scatter(xxpos[1],yypos[1], s=10, edgecolors=\"black\", \n",
    "        linewidth=1,\n",
    "        facecolor=\"midnightblue\", alpha=0.7, marker=\"o\", label=\"Final\" )\n",
    "        finales=scatter(xxpos[end],yypos[end], s=10, edgecolors=\"black\", \n",
    "        linewidth=1,\n",
    "        facecolor=\"midnightblue\", marker=\"^\", label=\"Final\" )\n",
    "      #  annotate(round(tiempos[1],4),  (xxpos[1], yypos[1]), fontsize=7, color=\"black\")\n",
    "      #  annotate(round(tiempos[end],4), (xxpos[end], yypos[end]), fontsize=7, color=\"green\")\n",
    "\n",
    "    end\n",
    "end\n",
    "\n",
    "    \n",
    "    savefig(\"TrayectoriasGordis-$marcagor-longus-$minlargo.png\",dpi=90)\n",
    "\n",
    "end\n",
    "    \n",
    "end"
   ]
  },
  {
   "cell_type": "code",
   "execution_count": null,
   "metadata": {
    "collapsed": false
   },
   "outputs": [],
   "source": [
    "function ListaPixelesdeLinea(x::Array, y::Array)\n",
    "    #obtener una lista de pixeles/electrodos a lo largo de una linea con dos endpoints enteros.\n",
    "    #Se ponen las dos coordenadas x en un arreglo y las dos y en otro-\n",
    "    xuno, xdos=x[1], x[2]\n",
    "    yuno, ydos=y[1],y[2]\n",
    "    longitud=abs(xuno-xdos)\n",
    "    m=(ydos-yuno)/(xdos-xuno)\n",
    "    xresult=collect(xuno:xdos) #asumimos que el xdos es el grande!\n",
    "    yresult=zeros(Int, longitud+1)\n",
    "    for j in 1:longitud+1\n",
    "        yresult[j]=round(Int,yuno+(j-1)*m)\n",
    "    end\n",
    "    return (xresult,yresult)\n",
    "end"
   ]
  },
  {
   "cell_type": "code",
   "execution_count": null,
   "metadata": {
    "collapsed": false
   },
   "outputs": [],
   "source": [
    "puntox=[44,48,52,54,58, 63]\n",
    "puntoy=[38,42,45,47,50, 54]\n",
    "puntoy=puntoy+3\n",
    "puntol=[\"F\",\"E\", \"D\", \"C\", \"B\",\"A\"];\n",
    "primax=[32, 32, 32, 32, 32, 32]\n",
    "primay=[43,47,51,55,59,63]\n",
    "primal=[\"F'\",\"E'\", \"D'\", \"C'\", \"B'\",\"A'\"];"
   ]
  },
  {
   "cell_type": "code",
   "execution_count": null,
   "metadata": {
    "collapsed": false
   },
   "outputs": [],
   "source": [
    "muchasx,muchasy=ListaPixelesdeLinea([44,63],[38,28])\n",
    "size(muchasx)"
   ]
  },
  {
   "cell_type": "code",
   "execution_count": null,
   "metadata": {
    "collapsed": true
   },
   "outputs": [],
   "source": [
    "dobleprimax=[44,48,52,54,58,62]\n",
    "dobleprimay=[38,36,34,32,30,28]\n",
    "dobleprimal=[\"F''\",\"E''\", \"D''\", \"C''\", \"B''\",\"A''\"];"
   ]
  },
  {
   "cell_type": "code",
   "execution_count": null,
   "metadata": {
    "collapsed": false
   },
   "outputs": [],
   "source": [
    "t=850\n",
    "EjemploLFP=readdlm(\"GarbageCollector/LFP_forPictures-$t.dat\")"
   ]
  },
  {
   "cell_type": "code",
   "execution_count": null,
   "metadata": {
    "collapsed": false
   },
   "outputs": [],
   "source": [
    "ion()\n",
    "figure(figsize=(7.0,5.5))\n",
    "font1 = Dict(\"family\"=>\"DejaVu Serif\",\n",
    "    \"color\"=>\"black\",\n",
    "    \"weight\"=>\"normal\",\n",
    "    \"size\"=>24)\n",
    "\n",
    "title(\"LFP\", fontdict=font1)\n",
    "limites=200\n",
    "PyPlot.xlim(1,64)\n",
    "PyPlot.ylim(1,64)\n",
    "\n",
    "\n",
    "for punto in 1:6\n",
    "   annotate(puntol[punto], (puntox[punto], puntoy[punto]), xytext=(-5,10), textcoords=\"offset points\", fontsize=14)\n",
    "   # annotate(primal[punto], (primax[punto], primay[punto]), xytext=(-18,-4), textcoords=\"offset points\", fontsize=14)\n",
    "   # annotate(dobleprimal[punto], (dobleprimax[punto], dobleprimay[punto]), xytext=(-18,-4), \n",
    "   # textcoords=\"offset points\", fontsize=14)\n",
    "end\n",
    "\n",
    "imagen=imshow(EjemploLFP, \n",
    "interpolation=\"nearest\", cmap=\"rainbow\", origin=\"lower\", vmin=-limites, vmax=limites, extent=[1,64,1,64])\n",
    "tick_params(axis=\"both\", labelsize=14)\n",
    "\n",
    "scatter(puntox,puntoy, marker=\"o\", s=20, c=\"black\")\n",
    "\n",
    "#scatter(primax,primay, marker=\"d\", s=20, c=\"grey\")\n",
    "#scatter(dobleprimax,dobleprimay, marker=\"s\", s=20, c=\"grey\")\n",
    "\n",
    "\n",
    "plot([44, 63], [41, 57], \"k-\")\n",
    "\n",
    "cbx=colorbar(imagen, fraction=0.045) \n",
    "cbx[:set_label](\"microvolts\")\n",
    "tick_params(axis=\"both\", labelsize=14)\n",
    "\n",
    "xlabel(\"electrode number\", fontsize=14)\n",
    "ylabel(\"electrode number\", fontsize=14)\n",
    "\n",
    "savefig(\"LFP_Recorded_With_Electrodes-$t.svg\", dpi=90)"
   ]
  },
  {
   "cell_type": "code",
   "execution_count": null,
   "metadata": {
    "collapsed": false
   },
   "outputs": [],
   "source": [
    "t=550\n",
    "EjemploCSD=readdlm(\"GarbageCollector/CSD_forPictures-$t.dat\");"
   ]
  },
  {
   "cell_type": "code",
   "execution_count": null,
   "metadata": {
    "collapsed": false
   },
   "outputs": [],
   "source": [
    "EjemploModificado=map(x->abs(x)>2.0?x:0,EjemploCSD);"
   ]
  },
  {
   "cell_type": "code",
   "execution_count": null,
   "metadata": {
    "collapsed": false
   },
   "outputs": [],
   "source": [
    "PyPlot.ion()\n",
    "#################\n",
    "font1 = Dict(\"family\"=>\"DejaVu Serif\",\n",
    "    \"color\"=>\"black\",\n",
    "    \"weight\"=>\"normal\",\n",
    "    \"size\"=>20)\n",
    "\n",
    "limites=100\n",
    "seg=round(t/7022, 4)\n",
    "titulo=\"$seg s\"\n",
    "figure(figsize=(7.0, 5.5))\n",
    "PyPlot.xlim(1,64)\n",
    "PyPlot.ylim(1,64)\n",
    "#tick_params(labelbottom=\"off\", labelleft=\"off\")\n",
    "otraimagen=imshow(EjemploCSD, cmap=\"bwr\", interpolation=\"nearest\", origin=\"lower\", vmin=-limites, vmax=limites, extent=[1,64,1,64])\n",
    "#cb=colorbar(otraimagen)\n",
    "#cb=colorbar(otraimagen, ticks=[-150, +150],fraction=0.046, pad=0.04, use_gridspace='True')\n",
    "cb=colorbar(otraimagen, ticks=[-100, +100], use_gridspec=\"True\",fraction=0.045 )\n",
    "farofa=cb[:set_ticklabels]([Any[\"Sink\"], Any[\"Source\"]])\n",
    "#xlabel(\"furufu\", fontdict=font1)\n",
    "tick_params(axis=\"both\", labelsize=14)\n",
    "#contour(0:63, 0:63, CSDPlanchada[:,:,t], levels=[-1,1])\n",
    "\n",
    "\n",
    "xlabel(\"electrode number\", fontsize=14)\n",
    "\n",
    "ylabel(\"electrode number\", fontsize=14)\n",
    "\n",
    "\n",
    "#title(\"CSD\", fontdict=font1)\n",
    "\n",
    "savefig(\"CSD-$t.svg\", dpi=90)\n",
    "\n",
    "#tight_layout()\n",
    "\n",
    "PyPlot.close_queued_figs()"
   ]
  },
  {
   "cell_type": "code",
   "execution_count": null,
   "metadata": {
    "collapsed": false
   },
   "outputs": [],
   "source": [
    "EjemploPositivo=map(x->x>2.0?x:0,EjemploModificado);"
   ]
  },
  {
   "cell_type": "code",
   "execution_count": null,
   "metadata": {
    "collapsed": false
   },
   "outputs": [],
   "source": [
    "PyPlot.ion()\n",
    "#################\n",
    "font1 = Dict(\"family\"=>\"DejaVu Serif\",\n",
    "    \"color\"=>\"black\",\n",
    "    \"weight\"=>\"normal\",\n",
    "    \"size\"=>20)\n",
    "\n",
    "limites=1\n",
    "seg=round(t/7022, 4)\n",
    "titulo=\"$seg s\"\n",
    "figure(figsize=(7.0, 5.5))\n",
    "PyPlot.xlim(1,64)\n",
    "PyPlot.ylim(1,64)\n",
    "#tick_params(labelbottom=\"off\", labelleft=\"off\")\n",
    "otraimagen=imshow(EjemploPositivo, cmap=\"bwr\", interpolation=\"nearest\", origin=\"lower\", vmin=-limites, vmax=limites, extent=[1,64,1,64])\n",
    "#cb=colorbar(otraimagen)\n",
    "#cb=colorbar(otraimagen, ticks=[-150, +150],fraction=0.046, pad=0.04, use_gridspace='True')\n",
    "#cb=colorbar(otraimagen, ticks=[-150, +150], use_gridspec=\"True\",fraction=0.045 )\n",
    "#farofa=cb[:set_ticklabels]([{\"Sink\"}, {\"Source\"}])\n",
    "#xlabel(\"furufu\", fontdict=font1)\n",
    "tick_params(axis=\"both\", labelsize=14)\n",
    "#contour(0:63, 0:63, CSDPlanchada[:,:,t], levels=[-1,1])\n",
    "\n",
    "\n",
    "xlabel(\"electrode number\", fontsize=14)\n",
    "\n",
    "ylabel(\"electrode number\", fontsize=14)\n",
    "\n",
    "\n",
    "#title(\"CSD\", fontdict=font1)\n",
    "\n",
    "savefig(\"CSD-Positivo-$t.svg\", dpi=90)\n",
    "\n",
    "#tight_layout()\n",
    "\n",
    "PyPlot.close_queued_figs()"
   ]
  },
  {
   "cell_type": "code",
   "execution_count": null,
   "metadata": {
    "collapsed": false
   },
   "outputs": [],
   "source": [
    "matplotlib[:rcParams][:\"svg.image_noscale\"]=false"
   ]
  },
  {
   "cell_type": "code",
   "execution_count": null,
   "metadata": {
    "collapsed": false
   },
   "outputs": [],
   "source": [
    "ComponentesEtiquetados=readdlm(\"GarbageCollector/CompNeg-850.dat\");"
   ]
  },
  {
   "cell_type": "code",
   "execution_count": null,
   "metadata": {
    "collapsed": false
   },
   "outputs": [],
   "source": [
    "xxpos=ComponentesEtiquetados[:,1]\n",
    "yypos=ComponentesEtiquetados[:,2]\n",
    "gordo=ComponentesEtiquetados[:,3]\n",
    "etiqueta=ComponentesEtiquetados[:,4]\n",
    "figure(figsize=(5.5, 5.5))\n",
    "PyPlot.xlim(1,64)\n",
    "PyPlot.ylim(1,64)\n",
    "\n",
    "scatter(yypos, xxpos, s=10.0, marker=\"s\", edgecolors=\"none\")\n",
    "for j=1:length(etiqueta)\n",
    "    annotate(etiqueta[j], (yypos[j],xxpos[j]))\n",
    "end"
   ]
  },
  {
   "cell_type": "code",
   "execution_count": null,
   "metadata": {
    "collapsed": false
   },
   "outputs": [],
   "source": [
    "CascadaLFP=readdlm(\"GarbageCollector/LFP_spaciotemporal_01.dat\");\n",
    "CascadaLFP=transpose(CascadaLFP)"
   ]
  },
  {
   "cell_type": "code",
   "execution_count": null,
   "metadata": {
    "collapsed": false
   },
   "outputs": [],
   "source": [
    "limites=100\n",
    "fag, gaf=subplots(figsize=(8,3))\n",
    "#The density plot\n",
    "gaf[:set_xlim](1,1300)\n",
    "gaf[:set_ylim](19.5,0)\n",
    "imagen=gaf[:imshow](CascadaLFP, cmap=\"rainbow\", vmin=-limites, vmax=limites)\n",
    "tiempoestampas=gaf[:axes][:get_xticks]()\n",
    "gaf[:plot]([0,351],[21,21], \"k-\", lw=2)\n",
    "gaf[:annotate](\"50ms\", (30.5,23))\n",
    "gaf[:plot]([0,0],[21,2.73], \"k-\", lw=2)\n",
    "gaf[:annotate](\"1mm\", (0,14))\n",
    "\n",
    "#Some vertical lines\n",
    "gaf[:plot]([350,350],[22,0], \"k-\", lw=3)\n",
    "gaf[:plot]([550,550],[22,0], \"k-\", lw=3)\n",
    "gaf[:plot]([850,850],[22,0], \"k-\", lw=3)\n",
    "\n",
    "gaf[:annotate](\"0\", (300,23))\n",
    "gaf[:annotate](\"28\", (500,23))\n",
    "gaf[:annotate](\"71\", (800,23))\n",
    "\n",
    "\n",
    "#adjust aspcet ratioo\n",
    "gaf[:axes][:set_aspect](20)\n",
    "map!(x->round(x/7.0224,1), tiempoestampas)\n",
    "gaf[:axes][:set_xticklabels](tiempoestampas)\n",
    "gaf[:set_yticks]([19,16,12,8,4,0.5])\n",
    "gaf[:set_yticklabels](puntol)\n",
    "\n",
    "\n",
    "#colorbar\n",
    "cbx=colorbar(imagen, fraction=0.014)\n",
    "\n",
    "#the traces over the plot\n",
    "ga2 = gaf[:twinx]()\n",
    "ga2[:set_ylim](-300,300)\n",
    "\n",
    "ga2[:plot](1:1300, vec(CascadaLFP[19,1:1300])-200, \"-\", linewidth=0.3, color=\"0.25\")\n",
    "ga2[:plot](1:1300, vec(CascadaLFP[16,1:1300])-140, \"-\", linewidth=0.3, color=\"0.25\")\n",
    "ga2[:plot](1:1300, vec(CascadaLFP[12,1:1300])-40, \"-\", linewidth=0.3 , color=\"0.25\")\n",
    "ga2[:plot](1:1300, vec(CascadaLFP[8,1:1300])+40, \"-\", linewidth=0.3, color=\"0.25\")\n",
    "ga2[:plot](1:1300, vec(CascadaLFP[4,1:1300])+120, \"-\", linewidth=0.3, color=\"0.25\")\n",
    "ga2[:plot](1:1300, vec(CascadaLFP[1,1:1300])+200, \"-\", linewidth=0.3,color=\"0.25\")\n",
    "ga2[:plot]([1300,1300],[-200,0], \"k-\", lw=2)\n",
    "ga2[:annotate](\"200µm\", (1200,-100))\n",
    "\n",
    "\n",
    "ga2[:set_xlim](1,1300)\n",
    "#ga2[:set_ylim](-300,300)\n",
    "\n",
    "savefig(\"LFP_timespace01.png\", dpi=90)"
   ]
  },
  {
   "cell_type": "code",
   "execution_count": null,
   "metadata": {
    "collapsed": false
   },
   "outputs": [],
   "source": [
    "#savefig(\"LFPRainbow-AF_timespaceTest01.svg\", dpi=90)\n",
    "gaf=0\n",
    "fag=0\n",
    "tiempoestampas=0\n",
    "profundidadestampas=0\n",
    "close()"
   ]
  },
  {
   "cell_type": "code",
   "execution_count": null,
   "metadata": {
    "collapsed": false
   },
   "outputs": [],
   "source": [
    "CascadaCSD=readdlm(\"GarbageCollector/CSD-4AP-Selecto_planchado_spaciotemporal_01.dat\");\n",
    "CascadaCSD=transpose(CascadaCSD)"
   ]
  },
  {
   "cell_type": "code",
   "execution_count": null,
   "metadata": {
    "collapsed": false
   },
   "outputs": [],
   "source": [
    "limites=100\n",
    "figure(figsize=(8,3))\n",
    "xlim(1,1300)\n",
    "ylim(19.5,0)\n",
    "picts=imshow(CascadaCSD, cmap=\"coolwarm\",vmin=-limites, vmax=limites)\n",
    "tiempoestampas=axes()[:get_xticks]()\n",
    "map!(x->round(x/7.0224,1), tiempoestampas)\n",
    "axes()[:set_xticklabels](tiempoestampas)\n",
    "yticks([19,16,12,8,4,0.5])\n",
    "axes()[:get_yticks]()\n",
    "axes()[:set_yticklabels](puntol)\n",
    "\n",
    "\n",
    "axes()[:set_aspect](20)\n",
    "\n",
    "tick_params(axis=\"off\", labelsize=14)\n",
    "\n",
    "plot([0,351],[21,21], \"k-\", lw=2)\n",
    "annotate(\"50ms\", (30.5,19))\n",
    "plot([0,0],[21,2.73], \"k-\", lw=2)\n",
    "annotate(\"1mm\", (0,14))\n",
    "cb=colorbar(picts, ticks=[-150, +150], use_gridspec=\"True\",fraction=0.016 )\n",
    "\n",
    "savefig(\"CSD-AF_timespaceTest01.svg\", dpi=90)\n"
   ]
  },
  {
   "cell_type": "code",
   "execution_count": null,
   "metadata": {
    "collapsed": false
   },
   "outputs": [],
   "source": [
    "size(CSDPlanchada)"
   ]
  },
  {
   "cell_type": "code",
   "execution_count": null,
   "metadata": {
    "collapsed": true
   },
   "outputs": [],
   "source": [
    "t=550\n",
    "EjemploCentrosCSDPos=readdlm(\"GarbageCollector/CentrosDeMasaParaPoster/CMFuentes-550.dat\")\n",
    "EjemploCentrosCSDPos=DropPeques(EjemploCentrosCSDPos)\n",
    "xxpos=EjemploCentrosCSDPos[:,1]\n",
    "yypos=EjemploCentrosCSDPos[:,2]\n",
    "valorpos=EjemploCentrosCSDPos[:,3]\n",
    "EjemploCentrosCSDNeg=readdlm(\"GarbageCollector/CentrosDeMasaParaPoster/CMPozos-550.dat\")\n",
    "EjemploCentrosCSDNeg=DropPeques(EjemploCentrosCSDNeg)\n",
    "xxneg=EjemploCentrosCSDNeg[:,1]\n",
    "yyneg=EjemploCentrosCSDNeg[:,2]\n",
    "valorneg=EjemploCentrosCSDNeg[:,3];\n",
    "CSDEjemplo=CSDPlanchada[:,:,550];"
   ]
  },
  {
   "cell_type": "code",
   "execution_count": null,
   "metadata": {
    "collapsed": false
   },
   "outputs": [],
   "source": [
    "PyPlot.ion()\n",
    "#################\n",
    "font1 = Dict(\"family\"=>\"DejaVu Serif\",\n",
    "    \"color\"=>\"black\",\n",
    "    \"weight\"=>\"normal\",\n",
    "    \"size\"=>20)\n",
    "seg=round(t/7022, 4)\n",
    "titulo=\"$seg s\"\n",
    "figure(figsize=(5,5))\n",
    "PyPlot.xlim(0,64)\n",
    "PyPlot.ylim(0,64)\n",
    "\n",
    "otraimagen=imshow(CSDEjemplo, cmap=\"bwr\", origin=\"lower\", vmin=-50, vmax=50, interpolation=\"none\")\n",
    "#cb=colorbar(otraimagen)\n",
    "#cb=colorbar(otraimagen, ticks=[-150, +150],fraction=0.046, pad=0.04, use_gridspace='True')\n",
    "#cb=colorbar(otraimagen, ticks=[-150, +150], use_gridspec=\"True\")\n",
    "#farofa=cb[:set_ticklabels]([{\"Sink\"}, {\"Source\"}])\n",
    "#xlabel(\"furufu\", fontdict=font1)\n",
    "\n",
    "#scatter(xxpos,yypos, s=valorpos, alpha=0.4, c=\"r\", edgecolors=\"none\")\n",
    "#scatter(xxneg, yyneg, s=abs(valorneg), alpha=0.4, c=\"g\", edgecolors=\"none\")\n",
    "#scatter(xxpos,yypos, s=0.02*valorpos, alpha=0.9, c=\"yellow\", edgecolors=\"black\")\n",
    "#scatter(xxneg, yyneg,s=0.02*abs(valorneg), alpha=0.9, c=\"green\", edgecolors=\"black\")\n",
    "\n",
    "tick_params(axis=\"both\", labelsize=14)\n",
    "\n",
    "#title(titulo, fontdict=font1)\n",
    " #tight_layout()\n",
    "savefig(\"CSDParaDisjoint-550.svg\", dpi=90)\n",
    "PyPlot.close_queued_figs()"
   ]
  },
  {
   "cell_type": "code",
   "execution_count": null,
   "metadata": {
    "collapsed": false
   },
   "outputs": [],
   "source": [
    "t=550\n",
    "EjemploCentrosCSDPos=readdlm(\"GarbageCollector/CMFuentes-$t.dat\")\n",
    "#EjemploCentrosCSDPos=DropPeques(EjemploCentrosCSDPos)\n",
    "xxpos=EjemploCentrosCSDPos[:,1]\n",
    "yypos=EjemploCentrosCSDPos[:,2]\n",
    "valorpos=EjemploCentrosCSDPos[:,3]\n",
    "EjemploCentrosCSDNeg=readdlm(\"GarbageCollector/CMPozos-$t.dat\")\n",
    "#EjemploCentrosCSDNeg=DropPeques(EjemploCentrosCSDNeg)\n",
    "xxneg=EjemploCentrosCSDNeg[:,1]\n",
    "yyneg=EjemploCentrosCSDNeg[:,2]\n",
    "valorneg=EjemploCentrosCSDNeg[:,3];\n",
    "CSDEjemplo=readdlm(\"GarbageCollector/CSD_forPictures-$t.dat\");"
   ]
  },
  {
   "cell_type": "code",
   "execution_count": null,
   "metadata": {
    "collapsed": false
   },
   "outputs": [],
   "source": [
    "PyPlot.ion()\n",
    "#################\n",
    "font1 = Dict(\"family\"=>\"DejaVu Serif\",\n",
    "    \"color\"=>\"black\",\n",
    "    \"weight\"=>\"normal\",\n",
    "    \"size\"=>20)\n",
    "seg=round(t/7022, 4)\n",
    "titulo=\"$seg s\"\n",
    "figure()\n",
    "PyPlot.xlim(0,64)\n",
    "PyPlot.ylim(0,64)\n",
    "tick_params(labelbottom=\"off\", labelleft=\"off\")\n",
    "otraimagen=imshow(EjemploPositivo, cmap=\"bwr\",interpolation=\"nearest\", origin=\"lower\", vmin=-1, vmax=1)\n",
    "#cb=colorbar(otraimagen)\n",
    "#cb=colorbar(otraimagen, ticks=[-150, +150],fraction=0.046, pad=0.04, use_gridspace='True')\n",
    "#cb=colorbar(otraimagen, ticks=[-150, +150], use_gridspec=\"True\")\n",
    "#farofa=cb[:set_ticklabels]([{\"Sink\"}, {\"Source\"}])\n",
    "#xlabel(\"furufu\", fontdict=font1)\n",
    "\n",
    "#scatter(xxpos,yypos, s=valorpos, alpha=0.4, c=\"r\", edgecolors=\"none\")\n",
    "#scatter(xxneg, yyneg, s=abs(valorneg), alpha=0.4, c=\"g\", edgecolors=\"none\")\n",
    "scatter(xxpos,yypos, s=0.03*valorpos, alpha=0.9, c=\"k\", edgecolors=\"black\")\n",
    "#scatter(xxneg, yyneg,s=0.02*abs(valorneg), alpha=0.9, c=\"b\", edgecolors=\"black\")\n",
    "\n",
    "#=\n",
    "annotate(\"Pozo\",\n",
    "    xy=[1.05;-0.11],\n",
    "    xycoords=\"axes fraction\",\n",
    "    xytext=[-10,10],\n",
    "    textcoords=\"offset points\",\n",
    "font_properties=\"DejaVu Serif\",\n",
    "    fontsize=24.0,\n",
    "    ha=\"left\",\n",
    "    va=\"bottom\")\n",
    "\n",
    "annotate(\"Fuente\",\n",
    "    xy=[1.05;0.98],\n",
    "    xycoords=\"axes fraction\",\n",
    "    xytext=[-10,10],\n",
    "    textcoords=\"offset points\",\n",
    "font_properties=(\"DejaVu Serif\"),\n",
    "    fontsize=24,\n",
    "    ha=\"left\",\n",
    "   va=\"bottom\")\n",
    "=#\n",
    "\n",
    "#title(titulo, fontdict=font1)\n",
    " #tight_layout()\n",
    "savefig(\"CSDCMPositive-$t.svg\", dpi=90)\n",
    "PyPlot.close_queued_figs()"
   ]
  },
  {
   "cell_type": "code",
   "execution_count": null,
   "metadata": {
    "collapsed": true
   },
   "outputs": [],
   "source": []
  }
 ],
 "metadata": {
  "kernelspec": {
   "display_name": "Julia 0.4.2-pre",
   "language": "julia",
   "name": "julia-0.4"
  },
  "language_info": {
   "file_extension": ".jl",
   "mimetype": "application/julia",
   "name": "julia",
   "version": "0.4.2"
  }
 },
 "nbformat": 4,
 "nbformat_minor": 0
}
