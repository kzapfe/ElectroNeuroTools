{
 "metadata": {
  "language": "Julia",
  "name": "",
  "signature": "sha256:fcaf9929668e9af43bcf33e55bb7d9d9314d2af19e5d0d67ee57de74639d583a"
 },
 "nbformat": 3,
 "nbformat_minor": 0,
 "worksheets": [
  {
   "cells": [
    {
     "cell_type": "heading",
     "level": 1,
     "metadata": {},
     "source": [
      "Aprendiendo a modificar y concatener adecuadamente Arreglos"
     ]
    },
    {
     "cell_type": "code",
     "collapsed": false,
     "input": [
      "A=[ [5 2 2] , [9.6 -1.2 8.3] , [8.9 0 -1], [9 -7  10] ]"
     ],
     "language": "python",
     "metadata": {},
     "outputs": [
      {
       "metadata": {},
       "output_type": "pyout",
       "prompt_number": 14,
       "text": [
        "4x3 Array{Float64,2}:\n",
        " 5.0   2.0   2.0\n",
        " 9.6  -1.2   8.3\n",
        " 8.9   0.0  -1.0\n",
        " 9.0  -7.0  10.0"
       ]
      }
     ],
     "prompt_number": 14
    },
    {
     "cell_type": "code",
     "collapsed": false,
     "input": [
      "function ColchonZeros(Data)\n",
      "    tamanos=size(Data)\n",
      "    aux=zeros((tamanos[1],2))\n",
      "    result=cat(2, aux, Data, aux)\n",
      "    tamanos=size(result)\n",
      "    aux=zeros(2,tamanos[2])\n",
      "    result=cat(1, aux, result, aux)\n",
      "    return result\n",
      "end"
     ],
     "language": "python",
     "metadata": {},
     "outputs": [
      {
       "metadata": {},
       "output_type": "pyout",
       "prompt_number": 16,
       "text": [
        "ColchonZeros (generic function with 1 method)"
       ]
      }
     ],
     "prompt_number": 16
    },
    {
     "cell_type": "code",
     "collapsed": false,
     "input": [
      "ColchonZeros(A)"
     ],
     "language": "python",
     "metadata": {},
     "outputs": [
      {
       "metadata": {},
       "output_type": "pyout",
       "prompt_number": 17,
       "text": [
        "8x7 Array{Float64,2}:\n",
        " 0.0  0.0  0.0   0.0   0.0  0.0  0.0\n",
        " 0.0  0.0  0.0   0.0   0.0  0.0  0.0\n",
        " 0.0  0.0  5.0   2.0   2.0  0.0  0.0\n",
        " 0.0  0.0  9.6  -1.2   8.3  0.0  0.0\n",
        " 0.0  0.0  8.9   0.0  -1.0  0.0  0.0\n",
        " 0.0  0.0  9.0  -7.0  10.0  0.0  0.0\n",
        " 0.0  0.0  0.0   0.0   0.0  0.0  0.0\n",
        " 0.0  0.0  0.0   0.0   0.0  0.0  0.0"
       ]
      }
     ],
     "prompt_number": 17
    },
    {
     "cell_type": "code",
     "collapsed": false,
     "input": [],
     "language": "python",
     "metadata": {},
     "outputs": []
    }
   ],
   "metadata": {}
  }
 ]
}