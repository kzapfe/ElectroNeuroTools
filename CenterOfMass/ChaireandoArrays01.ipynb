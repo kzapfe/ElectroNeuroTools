{
 "metadata": {
  "language": "Julia",
  "name": "",
  "signature": "sha256:dd4936dd9b7695e40994bebe06b16b9932d7ca7e80240d94bd5069ae0d14d4f1"
 },
 "nbformat": 3,
 "nbformat_minor": 0,
 "worksheets": [
  {
   "cells": [
    {
     "cell_type": "heading",
     "level": 1,
     "metadata": {},
     "source": [
      "Aprendiendo a modificar y concatener adecuadamente Arreglos"
     ]
    },
    {
     "cell_type": "code",
     "collapsed": false,
     "input": [
      "A=[ [5 2 2] , [9.6 -1.2 8.3] , [8.9 0 -1], [9 -7  10] ]"
     ],
     "language": "python",
     "metadata": {},
     "outputs": [
      {
       "metadata": {},
       "output_type": "pyout",
       "prompt_number": 1,
       "text": [
        "4x3 Array{Float64,2}:\n",
        " 5.0   2.0   2.0\n",
        " 9.6  -1.2   8.3\n",
        " 8.9   0.0  -1.0\n",
        " 9.0  -7.0  10.0"
       ]
      }
     ],
     "prompt_number": 1
    },
    {
     "cell_type": "code",
     "collapsed": false,
     "input": [
      "function ColchonZeros(Data)\n",
      "    tamanos=size(Data)\n",
      "    aux=zeros((tamanos[1],2))\n",
      "    result=cat(2, aux, Data, aux)\n",
      "    tamanos=size(result)\n",
      "    aux=zeros(2,tamanos[2])\n",
      "    result=cat(1, aux, result, aux)\n",
      "    return result\n",
      "end"
     ],
     "language": "python",
     "metadata": {},
     "outputs": [
      {
       "metadata": {},
       "output_type": "pyout",
       "prompt_number": 2,
       "text": [
        "ColchonZeros (generic function with 1 method)"
       ]
      }
     ],
     "prompt_number": 2
    },
    {
     "cell_type": "code",
     "collapsed": false,
     "input": [
      "ColchonZeros(A)"
     ],
     "language": "python",
     "metadata": {},
     "outputs": [
      {
       "metadata": {},
       "output_type": "pyout",
       "prompt_number": 3,
       "text": [
        "8x7 Array{Float64,2}:\n",
        " 0.0  0.0  0.0   0.0   0.0  0.0  0.0\n",
        " 0.0  0.0  0.0   0.0   0.0  0.0  0.0\n",
        " 0.0  0.0  5.0   2.0   2.0  0.0  0.0\n",
        " 0.0  0.0  9.6  -1.2   8.3  0.0  0.0\n",
        " 0.0  0.0  8.9   0.0  -1.0  0.0  0.0\n",
        " 0.0  0.0  9.0  -7.0  10.0  0.0  0.0\n",
        " 0.0  0.0  0.0   0.0   0.0  0.0  0.0\n",
        " 0.0  0.0  0.0   0.0   0.0  0.0  0.0"
       ]
      }
     ],
     "prompt_number": 3
    },
    {
     "cell_type": "code",
     "collapsed": false,
     "input": [
      "popo=readdlm(\"mascaracompletamentealdedazo01.dat\");\n",
      "popo=reshape(popo, (3,64,64))"
     ],
     "language": "python",
     "metadata": {},
     "outputs": [
      {
       "metadata": {},
       "output_type": "pyout",
       "prompt_number": 4,
       "text": [
        "3x64x64 Array{Float64,3}:\n",
        "[:, :, 1] =\n",
        " 0.0  0.0  0.0  0.0  0.0  0.0  0.0  0.0  \u2026  0.0  0.0  0.0  0.0  0.0  0.0  0.0\n",
        " 0.0  0.0  0.0  0.0  0.0  0.0  0.0  0.0     0.0  0.0  0.0  0.0  0.0  0.0  0.0\n",
        " 0.0  0.0  0.0  0.0  0.0  0.0  0.0  0.0     0.0  0.0  0.0  0.0  0.0  0.0  0.0\n",
        "\n",
        "[:, :, 2] =\n",
        " 0.0  0.0  0.0  0.0  0.0  0.0  0.0  0.0  \u2026  0.0  0.0  0.0  0.0  0.0  0.0  0.0\n",
        " 0.0  0.0  0.0  0.0  0.0  0.0  0.0  0.0     0.0  0.0  0.0  0.0  0.0  0.0  0.0\n",
        " 0.0  0.0  0.0  0.0  0.0  0.0  0.0  0.0     0.0  0.0  0.0  0.0  0.0  0.0  0.0\n",
        "\n",
        "[:, :, 3] =\n",
        " 0.0  0.0  0.0  0.0  0.0  0.0  0.0  0.0  \u2026  0.0  0.0  0.0  0.0  0.0  0.0  0.0\n",
        " 0.0  0.0  0.0  0.0  0.0  0.0  0.0  0.0     0.0  0.0  0.0  0.0  0.0  0.0  0.0\n",
        " 0.0  0.0  0.0  0.0  0.0  0.0  0.0  0.0     0.0  0.0  0.0  0.0  0.0  0.0  0.0\n",
        "\n",
        "...\n",
        "\n",
        "[:, :, 62] =\n",
        " 255.0  255.0  255.0  255.0  255.0  \u2026  255.0  255.0  255.0  0.0  0.0  0.0\n",
        " 255.0  255.0  255.0  255.0  255.0     255.0  255.0  255.0  0.0  0.0  0.0\n",
        " 255.0  255.0  255.0  255.0  255.0     255.0  255.0  255.0  0.0  0.0  0.0\n",
        "\n",
        "[:, :, 63] =\n",
        " 255.0  255.0  255.0  255.0  255.0  \u2026  255.0  255.0  0.0  0.0  0.0  0.0\n",
        " 255.0  255.0  255.0  255.0  255.0     255.0  255.0  0.0  0.0  0.0  0.0\n",
        " 255.0  255.0  255.0  255.0  255.0     255.0  255.0  0.0  0.0  0.0  0.0\n",
        "\n",
        "[:, :, 64] =\n",
        " 255.0  255.0  255.0  255.0  255.0  255.0  \u2026  255.0  0.0  0.0  0.0  0.0  0.0\n",
        " 255.0  255.0  255.0  255.0  255.0  255.0     255.0  0.0  0.0  0.0  0.0  0.0\n",
        " 255.0  255.0  255.0  255.0  255.0  255.0     255.0  0.0  0.0  0.0  0.0  0.0"
       ]
      }
     ],
     "prompt_number": 4
    },
    {
     "cell_type": "code",
     "collapsed": false,
     "input": [
      "cuac=readdlm(\"mascaradedazo01.dat\");\n",
      "cuac=reshape(cuac,(64,64))"
     ],
     "language": "python",
     "metadata": {},
     "outputs": [
      {
       "metadata": {},
       "output_type": "pyout",
       "prompt_number": 7,
       "text": [
        "64x64 Array{Float64,2}:\n",
        " 0.0    0.0    0.0    0.0    0.0    0.0  \u2026  255.0  255.0  255.0  255.0  255.0\n",
        " 0.0    0.0    0.0    0.0    0.0    0.0     255.0  255.0  255.0  255.0  255.0\n",
        " 0.0    0.0    0.0    0.0    0.0    0.0     255.0  255.0  255.0  255.0  255.0\n",
        " 0.0    0.0    0.0    0.0    0.0    0.0     255.0  255.0  255.0  255.0  255.0\n",
        " 0.0    0.0    0.0    0.0    0.0    0.0     255.0  255.0  255.0  255.0  255.0\n",
        " 0.0    0.0    0.0    0.0    0.0    0.0  \u2026  255.0  255.0  255.0  255.0  255.0\n",
        " 0.0    0.0    0.0    0.0    0.0    0.0     255.0  255.0  255.0  255.0  255.0\n",
        " 0.0    0.0    0.0    0.0    0.0    0.0     255.0  255.0  255.0  255.0  255.0\n",
        " 0.0    0.0    0.0    0.0    0.0    0.0     255.0  255.0  255.0  255.0  255.0\n",
        " 0.0    0.0    0.0    0.0    0.0    0.0     255.0  255.0  255.0  255.0  255.0\n",
        " 0.0    0.0    0.0    0.0    0.0    0.0  \u2026  255.0  255.0  255.0  255.0  255.0\n",
        " 0.0    0.0    0.0    0.0    0.0    0.0     255.0  255.0  255.0  255.0  255.0\n",
        " 0.0    0.0    0.0    0.0    0.0    0.0     255.0  255.0  255.0  255.0  255.0\n",
        " \u22ee                                  \u22ee    \u22f1           \u22ee                       \n",
        " 0.0  255.0  255.0  255.0  255.0  255.0     255.0  255.0  255.0  255.0  255.0\n",
        " 0.0    0.0  255.0  255.0  255.0  255.0     255.0  255.0  255.0  255.0  255.0\n",
        " 0.0    0.0  255.0  255.0  255.0  255.0     255.0  255.0  255.0  255.0  255.0\n",
        " 0.0    0.0    0.0  255.0  255.0  255.0  \u2026  255.0  255.0  255.0  255.0  255.0\n",
        " 0.0    0.0    0.0    0.0  255.0  255.0     255.0  255.0  255.0  255.0  255.0\n",
        " 0.0    0.0    0.0    0.0    0.0  255.0     255.0  255.0  255.0  255.0  255.0\n",
        " 0.0    0.0    0.0    0.0    0.0    0.0     255.0  255.0  255.0  255.0  255.0\n",
        " 0.0    0.0    0.0    0.0    0.0    0.0     255.0  255.0  255.0  255.0    0.0\n",
        " 0.0    0.0    0.0    0.0    0.0    0.0  \u2026  255.0  255.0  255.0    0.0    0.0\n",
        " 0.0    0.0    0.0    0.0    0.0    0.0     255.0    0.0    0.0    0.0    0.0\n",
        " 0.0    0.0    0.0    0.0    0.0    0.0       0.0    0.0    0.0    0.0    0.0\n",
        " 0.0    0.0    0.0    0.0    0.0    0.0       0.0    0.0    0.0    0.0    0.0"
       ]
      }
     ],
     "prompt_number": 7
    },
    {
     "cell_type": "code",
     "collapsed": false,
     "input": [
      "writedlm(\"mascaradedazo02.dat\", cuac)"
     ],
     "language": "python",
     "metadata": {},
     "outputs": [],
     "prompt_number": 8
    },
    {
     "cell_type": "code",
     "collapsed": false,
     "input": [
      "writedlm(\"mascaradedazo03.dat\", transpose(cuac))"
     ],
     "language": "python",
     "metadata": {},
     "outputs": [],
     "prompt_number": 13
    },
    {
     "cell_type": "code",
     "collapsed": false,
     "input": [
      "cuac2=transpose(cuac);\n",
      "decabeza=zeros(cuac2);\n",
      "(nu,mu)=size(decabeza);\n",
      "for j=1:nu-1\n",
      "    decabeza[end-j,:]=cuac2[j,:]\n",
      "end"
     ],
     "language": "python",
     "metadata": {},
     "outputs": [],
     "prompt_number": 18
    },
    {
     "cell_type": "code",
     "collapsed": false,
     "input": [
      "writedlm(\"mascaradedazo05.dat\",decabeza)"
     ],
     "language": "python",
     "metadata": {},
     "outputs": [],
     "prompt_number": 19
    },
    {
     "cell_type": "code",
     "collapsed": false,
     "input": [],
     "language": "python",
     "metadata": {},
     "outputs": []
    }
   ],
   "metadata": {}
  }
 ]
}