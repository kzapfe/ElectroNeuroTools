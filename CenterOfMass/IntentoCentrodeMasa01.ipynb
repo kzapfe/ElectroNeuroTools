{
 "metadata": {
  "language": "Julia",
  "name": "",
  "signature": "sha256:ce418a00bc61658533bd2c98b38841b0490ea2d086c12aac209ceb6415fc5299"
 },
 "nbformat": 3,
 "nbformat_minor": 0,
 "worksheets": [
  {
   "cells": [
    {
     "cell_type": "heading",
     "level": 1,
     "metadata": {},
     "source": [
      "Vamos a tratar de leer archivos MAT de lo de Franco"
     ]
    },
    {
     "cell_type": "markdown",
     "metadata": {},
     "source": [
      "Experimentos con unos datos de Franco. Primero, importar desde MatLab, despues, ver si podemos sacar trivialmente\n",
      "el centro de masas a lo Manjarrez."
     ]
    },
    {
     "cell_type": "code",
     "collapsed": false,
     "input": [
      "using MAT"
     ],
     "language": "python",
     "metadata": {},
     "outputs": [],
     "prompt_number": 1
    },
    {
     "cell_type": "code",
     "collapsed": false,
     "input": [
      "file=matopen(\"propagacion.mat\")"
     ],
     "language": "python",
     "metadata": {},
     "outputs": [
      {
       "metadata": {},
       "output_type": "pyout",
       "prompt_number": 3,
       "text": [
        "Matlabv5File(IOStream(<file propagacion.mat>),false,#undef)"
       ]
      }
     ],
     "prompt_number": 3
    },
    {
     "cell_type": "code",
     "collapsed": false,
     "input": [
      "matread(\"propagacion.mat\")"
     ],
     "language": "python",
     "metadata": {},
     "outputs": [
      {
       "metadata": {},
       "output_type": "pyout",
       "prompt_number": 4,
       "text": [
        "Dict{ASCIIString,Any} with 4 entries:\n",
        "  \"SamplingFrequency\" => 7022.0\n",
        "  \"StopFrame\"         => 5.549486e6\n",
        "  \"StartFrame\"        => 5.545273e6\n",
        "  \"RawMatrix\"         => [4125.0 2.01416015625 -28.1982421875 -10.07080078125 -\u2026"
       ]
      }
     ],
     "prompt_number": 4
    },
    {
     "cell_type": "markdown",
     "metadata": {},
     "source": [
      "La matriz cruda de datos esta en la siguiente variable"
     ]
    },
    {
     "cell_type": "code",
     "collapsed": false,
     "input": [
      "TodosLosDatos=read(file, \"RawMatrix\");"
     ],
     "language": "python",
     "metadata": {},
     "outputs": [],
     "prompt_number": 7
    },
    {
     "cell_type": "code",
     "collapsed": false,
     "input": [
      "for j=1:4000\n",
      "    zacatlan=\"Cuadro-$j.dat\"\n",
      "    zacatito=TodosLosDatos[:,:,j]\n",
      "    writedlm(zacatlan,zacatito )\n",
      "end"
     ],
     "language": "python",
     "metadata": {},
     "outputs": [],
     "prompt_number": 8
    },
    {
     "cell_type": "markdown",
     "metadata": {},
     "source": [
      "Veamos, un truquillo para hacer una animacion mas bonitininha"
     ]
    },
    {
     "cell_type": "code",
     "collapsed": false,
     "input": [
      "zacatito=TodosLosDatos[:,:,1499]\n",
      "for j=1500:3000\n",
      "    zacatlan=\"CuadroConSombra-$j.dat\"\n",
      "    zacatito=zacatito*0.75+TodosLosDatos[:,:,j]\n",
      "    writedlm(zacatlan,zacatito )\n",
      "end"
     ],
     "language": "python",
     "metadata": {},
     "outputs": [],
     "prompt_number": 10
    },
    {
     "cell_type": "code",
     "collapsed": false,
     "input": [
      "function umbral(x)\n",
      "    result=((abs(x)<60)||(abs(x)>2000)?0:x)\n",
      "end"
     ],
     "language": "python",
     "metadata": {},
     "outputs": [
      {
       "metadata": {},
       "output_type": "pyout",
       "prompt_number": 16,
       "text": [
        "umbral (generic function with 1 method)"
       ]
      }
     ],
     "prompt_number": 16
    },
    {
     "cell_type": "code",
     "collapsed": false,
     "input": [
      "zacatito=map(umbral, TodosLosDatos[:,:,1499])\n",
      "for j=1500:3000\n",
      "    zacatlan=\"CuadroConSombra-$j.dat\"\n",
      "    zacatito=zacatito*0.75+map(umbral, TodosLosDatos[:,:,j])\n",
      "    writedlm(zacatlan,zacatito )\n",
      "end"
     ],
     "language": "python",
     "metadata": {},
     "outputs": [],
     "prompt_number": 18
    },
    {
     "cell_type": "code",
     "collapsed": false,
     "input": [],
     "language": "python",
     "metadata": {},
     "outputs": []
    }
   ],
   "metadata": {}
  }
 ]
}