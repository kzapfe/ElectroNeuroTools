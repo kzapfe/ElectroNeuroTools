{
 "cells": [
  {
   "cell_type": "code",
   "execution_count": 2,
   "metadata": {},
   "outputs": [
    {
     "data": {
      "text/plain": [
       "7-element Array{String,1}:\n",
       " \"@\"\n",
       " \"@v#.#\"\n",
       " \"@stdlib\"\n",
       " \".\"\n",
       " \"../CSDA/\"\n",
       " \".\"\n",
       " \"../CSDA/\""
      ]
     },
     "execution_count": 2,
     "metadata": {},
     "output_type": "execute_result"
    }
   ],
   "source": [
    "push!(LOAD_PATH, \".\")\n",
    "push!(LOAD_PATH, \"../CSDA/\")"
   ]
  },
  {
   "cell_type": "code",
   "execution_count": 3,
   "metadata": {},
   "outputs": [
    {
     "data": {
      "text/plain": [
       "\"/home/karel/ElectroNeuroTools/JLDFiles/Deshinibida/180116s1/180116s1cut_evento_1_bandascsd.h5\""
      ]
     },
     "execution_count": 3,
     "metadata": {},
     "output_type": "execute_result"
    }
   ],
   "source": [
    "nombre=\"/home/karel/ElectroNeuroTools/JLDFiles/Deshinibida/180116s1/180116s1cut_evento_1_bandascsd.h5\""
   ]
  },
  {
   "cell_type": "code",
   "execution_count": 4,
   "metadata": {},
   "outputs": [
    {
     "name": "stderr",
     "output_type": "stream",
     "text": [
      "┌ Info: Precompiling CentrosdeMasa [top-level]\n",
      "└ @ Base loading.jl:1260\n"
     ]
    }
   ],
   "source": [
    "using HDF5\n",
    "using Statistics\n",
    "using CentrosdeMasa\n",
    "using LindenbergOperadores\n"
   ]
  },
  {
   "cell_type": "code",
   "execution_count": 7,
   "metadata": {},
   "outputs": [
    {
     "data": {
      "text/plain": [
       "5-element Array{String,1}:\n",
       " \"alpha\"\n",
       " \"beta\"\n",
       " \"gamma\"\n",
       " \"spr\"\n",
       " \"uspr\""
      ]
     },
     "execution_count": 7,
     "metadata": {},
     "output_type": "execute_result"
    }
   ],
   "source": [
    "arx=h5open(nombre)\n",
    "nomine=names(arx)"
   ]
  },
  {
   "cell_type": "code",
   "execution_count": 8,
   "metadata": {},
   "outputs": [],
   "source": [
    "csds=Dict{String, Array}()\n",
    "\n",
    "for n in nomine\n",
    "    csds[n]=read(arx[n])\n",
    "end"
   ]
  },
  {
   "cell_type": "code",
   "execution_count": 10,
   "metadata": {},
   "outputs": [
    {
     "data": {
      "text/plain": [
       "(64, 64, 2001)"
      ]
     },
     "execution_count": 10,
     "metadata": {},
     "output_type": "execute_result"
    }
   ],
   "source": [
    "(ancho,alto,nmax)=size(csds[\"alpha\"])\n",
    "\n"
   ]
  },
  {
   "cell_type": "code",
   "execution_count": 14,
   "metadata": {},
   "outputs": [
    {
     "name": "stdout",
     "output_type": "stream",
     "text": [
      "empezando  la banda alpha: la stddev es 1.1647684807600354.\n",
      "terminando  la banda alpha\n",
      "empezando  la banda beta: la stddev es 0.9718746887056936.\n",
      "terminando  la banda beta\n",
      "empezando  la banda gamma: la stddev es 2.147810592267772.\n",
      "terminando  la banda gamma\n",
      "empezando  la banda spr: la stddev es 3.916119092967827.\n",
      "terminando  la banda spr\n",
      "empezando  la banda uspr: la stddev es 3.916119092967827.\n",
      "terminando  la banda uspr\n"
     ]
    }
   ],
   "source": [
    "cmdict=Dict{String, Any}()\n",
    "factor=1.0\n",
    "\n",
    "for n in nomine\n",
    "    (mincsd,maxcsd)=extrema(csds[n])\n",
    "#Esto de abajo no sirve para actividad evocada si incluimos los tiempos en que todo esta saturado\n",
    "    ϵ=max(abs(mincsd),abs(maxcsd))/100\n",
    "    scsd=std(csds[n])\n",
    "    ##Prueba con componentes mas separados\n",
    "    ##factor=5\n",
    "    #aun más separados\n",
    "    #factor=10\n",
    "    # sin mucha separacion\n",
    "    factor=1.0\n",
    "    umbrsep=factor*scsd\n",
    "    umbrsepnota=round(umbrsep, digits=4)\n",
    "    println(\"empezando  la banda $n: la stddev es $scsd.\")\n",
    "    flush(stdout)\n",
    "    cmdict[n]=ObtenComponentesyCM(csds[n],1,nmax,umbrsep);\n",
    "    println(\"terminando  la banda $n\")\n",
    "    flush(stdout)\n",
    "end"
   ]
  },
  {
   "cell_type": "code",
   "execution_count": 17,
   "metadata": {},
   "outputs": [
    {
     "data": {
      "text/plain": [
       "\"Se separaron los componentes con 1.0 desv. est. del CSD suavizado gaussiano espacial por bandas.\\nCada entrada del archivo es una tupla con un componente positivo y uno negativo.\""
      ]
     },
     "execution_count": 17,
     "metadata": {},
     "output_type": "execute_result"
    }
   ],
   "source": [
    "nota=\"Se separaron los componentes con $factor desv. est. del CSD suavizado gaussiano espacial por bandas.\n",
    "Cada entrada del archivo es una tupla con un componente positivo y uno negativo.\""
   ]
  },
  {
   "cell_type": "code",
   "execution_count": 18,
   "metadata": {},
   "outputs": [],
   "source": [
    "# pues siempre hay que usar JLD de todas formas!\n",
    "using JLD"
   ]
  },
  {
   "cell_type": "code",
   "execution_count": 19,
   "metadata": {},
   "outputs": [],
   "source": [
    "nomCM=nombre[1:end-4]*\"-CM.jld\"\n",
    "\n",
    "jldopen(nomCM, \"w\") do file\n",
    "    for n in nomine\n",
    "        write(file, n, cmdict[n])\n",
    "    end\n",
    "end"
   ]
  },
  {
   "cell_type": "code",
   "execution_count": 23,
   "metadata": {},
   "outputs": [
    {
     "data": {
      "text/plain": [
       "Dict{Int64,Array}"
      ]
     },
     "execution_count": 23,
     "metadata": {},
     "output_type": "execute_result"
    }
   ],
   "source": [
    "typeof(cmdict[\"alpha\"][1])"
   ]
  },
  {
   "cell_type": "code",
   "execution_count": 24,
   "metadata": {},
   "outputs": [
    {
     "data": {
      "text/plain": [
       "Dict{Int64,Array} with 2001 entries:\n",
       "  1704 => [16.3477 37.0298 10.8647; 14.1652 47.6725 17.2248; 19.9781 38.6197 11…\n",
       "  1760 => [24.9703 41.2176 10.0525; 18.9364 38.3436 55.1938; 16.235 47.4365 325…\n",
       "  306  => [15.5293 53.4884 19.6628; 9.92182 49.2556 9.91431; … ; 7.04386 45.763…\n",
       "  1316 => [20.3984 37.9762 17.2052; 17.6515 47.5653 917.575; … ; 24.4959 40.489…\n",
       "  1090 => [13.4995 51.908 326.316]\n",
       "  1333 => [20.6153 37.8863 8.16859; 15.9479 60.0621 32.8428; 2.55459 49.1711 34…\n",
       "  29   => Array{Int64}(undef,0,3)\n",
       "  1671 => [12.3654 52.6153 116.788]\n",
       "  1131 => [5.11092 33.9826 14.491; 21.206 59.335 8.35999; … ; 19.0785 37.1608 1…\n",
       "  74   => Array{Int64}(undef,0,3)\n",
       "  1662 => [28.0013 59.8089 6.42274; 32.6915 59.7867 7.17315; 11.8493 51.7938 16…\n",
       "  1265 => [2.69373 49.2631 45.2905; 14.963 7.53014 13.7126; … ; 3.39943 23.2279…\n",
       "  905  => [10.8466 21.086 16.2744; 16.6771 52.1715 512.154; … ; 14.7927 15.7681…\n",
       "  176  => [13.4021 47.6185 27.6766]\n",
       "  1469 => [20.5529 9.09652 23.0337; 11.0822 21.2638 9.09425; … ; 14.3618 15.702…\n",
       "  892  => [10.9182 21.0976 12.653; 17.7001 42.0988 606.147; … ; 17.1236 52.3996…\n",
       "  285  => [23.5018 47.7091 8.56773; 15.5931 42.9713 43.8938]\n",
       "  1461 => [20.5639 9.09468 21.2714; 11.4835 21.0 6.3855; … ; 14.361 15.6974 19.…\n",
       "  1881 => [17.1222 48.5259 263.957]\n",
       "  1693 => [19.4831 38.9955 7.89851; 4.69522 46.1071 6.94574]\n",
       "  1481 => [20.5391 9.09893 25.2726; 17.7583 42.3054 546.429; … ; 14.5158 15.726…\n",
       "  318  => [28.5138 47.5069 5.37587; 16.4329 42.9996 158.71; … ; 31.9611 57.8012…\n",
       "  1124 => [18.9812 37.0978 112.013; 7.7705 39.7074 5.79296; … ; 5.33484 47.3176…\n",
       "  1337 => [2.46748 49.0696 32.5943; 15.9359 60.0604 31.9272; 17.6702 47.9432 72…\n",
       "  873  => [17.0949 52.4476 287.214; 20.4685 8.96468 17.9828; … ; 14.7731 15.425…\n",
       "  ⋮    => ⋮"
      ]
     },
     "execution_count": 24,
     "metadata": {},
     "output_type": "execute_result"
    }
   ],
   "source": [
    "cmposalpha=cmdict[\"alpha\"][1]"
   ]
  },
  {
   "cell_type": "code",
   "execution_count": 21,
   "metadata": {},
   "outputs": [
    {
     "data": {
      "text/plain": [
       "17.85550205219098"
      ]
     },
     "execution_count": 21,
     "metadata": {},
     "output_type": "execute_result"
    }
   ],
   "source": [
    "freq=read(arx[\"freq\"])"
   ]
  },
  {
   "cell_type": "code",
   "execution_count": null,
   "metadata": {
    "collapsed": true
   },
   "outputs": [],
   "source": []
  }
 ],
 "metadata": {
  "@webio": {
   "lastCommId": null,
   "lastKernelId": null
  },
  "kernelspec": {
   "display_name": "Julia 1.4.1",
   "language": "julia",
   "name": "julia-1.4"
  },
  "language_info": {
   "file_extension": ".jl",
   "mimetype": "application/julia",
   "name": "julia",
   "version": "1.4.1"
  }
 },
 "nbformat": 4,
 "nbformat_minor": 2
}
