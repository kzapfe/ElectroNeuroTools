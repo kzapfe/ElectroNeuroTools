{
 "cells": [
  {
   "cell_type": "code",
   "execution_count": 1,
   "metadata": {},
   "outputs": [
    {
     "data": {
      "text/plain": [
       "5-element Array{String,1}:\n",
       " \"@\"       \n",
       " \"@v#.#\"   \n",
       " \"@stdlib\" \n",
       " \".\"       \n",
       " \"../CSDA/\""
      ]
     },
     "execution_count": 1,
     "metadata": {},
     "output_type": "execute_result"
    }
   ],
   "source": [
    "push!(LOAD_PATH, \".\")\n",
    "push!(LOAD_PATH, \"../CSDA/\")"
   ]
  },
  {
   "cell_type": "code",
   "execution_count": 2,
   "metadata": {},
   "outputs": [
    {
     "data": {
      "text/plain": [
       "\"/home/karel/BRWFiles/Facilitada/Completo_19115s1cut_single_event_preproc.h5\""
      ]
     },
     "execution_count": 2,
     "metadata": {},
     "output_type": "execute_result"
    }
   ],
   "source": [
    "nombre=\"/home/karel/BRWFiles/Facilitada/Completo_19115s1cut_single_event_preproc.h5\""
   ]
  },
  {
   "cell_type": "code",
   "execution_count": 3,
   "metadata": {
    "collapsed": true
   },
   "outputs": [],
   "source": [
    "esjld=false\n",
    "if nombre[end-2:end]==\"jld\"\n",
    " esjld=true\n",
    "end"
   ]
  },
  {
   "cell_type": "code",
   "execution_count": 4,
   "metadata": {
    "collapsed": true
   },
   "outputs": [],
   "source": [
    "if esjld\n",
    "    using JLD\n",
    "else\n",
    "    using HDF5\n",
    "end\n",
    "using Statistics\n",
    "using CentrosdeMasa\n",
    "using LindenbergOperadores\n"
   ]
  },
  {
   "cell_type": "code",
   "execution_count": 5,
   "metadata": {},
   "outputs": [
    {
     "data": {
      "text/plain": [
       "HDF5 data file: /home/karel/BRWFiles/Facilitada/Completo_19115s1cut_single_event_preproc.h5"
      ]
     },
     "execution_count": 5,
     "metadata": {},
     "output_type": "execute_result"
    }
   ],
   "source": [
    "if esjld\n",
    "arx=load(nombre)\n",
    "else\n",
    "    arx=h5open(nombre)\n",
    "end\n",
    "#Checa como diablos se llama el CSD en cada Archivo\n"
   ]
  },
  {
   "cell_type": "code",
   "execution_count": 6,
   "metadata": {
    "collapsed": true
   },
   "outputs": [],
   "source": [
    "if esjld\n",
    "csda=arx[\"CSDALindenberg\"]\n",
    "else\n",
    "    csda=read(arx[\"CSDALindenberg\"])\n",
    "end\n",
    "    #csd=csddict[\"Trancazo_1\"]+csddict[\"Trancazo_2\"]+csddict[\"Trancazo_3\"];\n",
    "#csd=csd./3;"
   ]
  },
  {
   "cell_type": "code",
   "execution_count": 7,
   "metadata": {},
   "outputs": [
    {
     "data": {
      "text/plain": [
       "(64, 64, 2000)"
      ]
     },
     "execution_count": 7,
     "metadata": {},
     "output_type": "execute_result"
    }
   ],
   "source": [
    "(ancho,alto,nmax)=size(csda)"
   ]
  },
  {
   "cell_type": "code",
   "execution_count": 8,
   "metadata": {},
   "outputs": [
    {
     "data": {
      "text/plain": [
       "(-437.46588f0, 1748.9255f0)"
      ]
     },
     "execution_count": 8,
     "metadata": {},
     "output_type": "execute_result"
    }
   ],
   "source": [
    "(mincsd,maxcsd)=extrema(csda)"
   ]
  },
  {
   "cell_type": "markdown",
   "metadata": {},
   "source": [
    "Esto de abajo no sirve para actividad evocada si incluimos los tiempos en que todo esta saturado"
   ]
  },
  {
   "cell_type": "code",
   "execution_count": 9,
   "metadata": {},
   "outputs": [
    {
     "data": {
      "text/plain": [
       "17.489256f0"
      ]
     },
     "execution_count": 9,
     "metadata": {},
     "output_type": "execute_result"
    }
   ],
   "source": [
    "ϵ=max(abs(mincsd),abs(maxcsd))/100"
   ]
  },
  {
   "cell_type": "code",
   "execution_count": 10,
   "metadata": {},
   "outputs": [
    {
     "data": {
      "text/plain": [
       "8.831027f0"
      ]
     },
     "execution_count": 10,
     "metadata": {},
     "output_type": "execute_result"
    }
   ],
   "source": [
    "scsd=std(csda)"
   ]
  },
  {
   "cell_type": "code",
   "execution_count": 11,
   "metadata": {
    "collapsed": true
   },
   "outputs": [],
   "source": [
    "##Prueba con componentes mas separados\n",
    "##ctor=5\n",
    "#aun más separados\n",
    "#actor=10\n",
    "# sin mucha separacion\n",
    "factor=0.35\n",
    "(CMP, CMN)=ObtenComponentesyCM(csda,1,nmax,scsd*factor);"
   ]
  },
  {
   "cell_type": "code",
   "execution_count": 12,
   "metadata": {},
   "outputs": [
    {
     "data": {
      "text/plain": [
       "\"Se separaron los componentes con 0.35 desv. est. del CSD suavizado gaussiano\""
      ]
     },
     "execution_count": 12,
     "metadata": {},
     "output_type": "execute_result"
    }
   ],
   "source": [
    "nota=\"Se separaron los componentes con $factor desv. est. del CSD suavizado gaussiano\""
   ]
  },
  {
   "cell_type": "code",
   "execution_count": 13,
   "metadata": {
    "collapsed": true
   },
   "outputs": [],
   "source": [
    "# pues siempre hay que usar JLD de todas formas!\n",
    "using JLD"
   ]
  },
  {
   "cell_type": "code",
   "execution_count": 14,
   "metadata": {},
   "outputs": [
    {
     "data": {
      "text/plain": [
       "\"/home/karel/BRWFiles/Facilitada/Completo_19115s1cut_single_event_prepro-CM.jld\""
      ]
     },
     "execution_count": 14,
     "metadata": {},
     "output_type": "execute_result"
    }
   ],
   "source": [
    "nomCM=nombre[1:end-4]*\"-CM.jld\""
   ]
  },
  {
   "cell_type": "code",
   "execution_count": 15,
   "metadata": {
    "collapsed": true
   },
   "outputs": [],
   "source": [
    "save(nomCM, \"CMP\", CMP, \"CMN\", CMN, \"notacm\", nota)"
   ]
  },
  {
   "cell_type": "code",
   "execution_count": 16,
   "metadata": {},
   "outputs": [
    {
     "data": {
      "text/plain": [
       "80×3 Array{Float64,2}:\n",
       " 13.5559   20.1421    68.5369\n",
       " 44.5348    2.52838   28.5692\n",
       " 37.7949   12.3524   116.534 \n",
       " 31.5228   26.3949    26.9619\n",
       " 45.8137   21.5351    37.5317\n",
       " 48.1442    7.08423   94.3332\n",
       " 63.5453   57.3652    35.1479\n",
       "  3.82268  19.8177    67.4588\n",
       " 47.8515   55.4572    48.7796\n",
       " 24.8776   35.8073    58.552 \n",
       " 46.8339   17.094    145.406 \n",
       " 52.7261   35.3199    24.8989\n",
       " 28.9679   57.6166   674.926 \n",
       "  ⋮                          \n",
       " 46.3218   30.6058    39.735 \n",
       "  3.09891   1.71322   19.0136\n",
       "  4.15731  59.0       25.8576\n",
       " 52.3591   25.0837    63.9768\n",
       " 36.4077   46.792     20.907 \n",
       " 58.3326   38.8405    40.5229\n",
       " 14.8686   52.3236    46.3572\n",
       " 20.3479   42.1161    66.4654\n",
       " 53.7304   63.2647    22.806 \n",
       " 10.5445   13.8302   111.713 \n",
       " 10.4668   42.2434    37.9695\n",
       " 10.5931   56.2268    55.3346"
      ]
     },
     "execution_count": 16,
     "metadata": {},
     "output_type": "execute_result"
    }
   ],
   "source": [
    "CMP[1300]"
   ]
  },
  {
   "cell_type": "code",
   "execution_count": 17,
   "metadata": {},
   "outputs": [
    {
     "data": {
      "text/plain": [
       "0.48750000000000004"
      ]
     },
     "execution_count": 17,
     "metadata": {},
     "output_type": "execute_result"
    }
   ],
   "source": [
    "0.325*1.5"
   ]
  },
  {
   "cell_type": "code",
   "execution_count": null,
   "metadata": {
    "collapsed": true
   },
   "outputs": [],
   "source": []
  }
 ],
 "metadata": {
  "@webio": {
   "lastCommId": null,
   "lastKernelId": null
  },
  "kernelspec": {
   "display_name": "Julia 1.0.3",
   "language": "julia",
   "name": "julia-1.0"
  },
  "language_info": {
   "file_extension": ".jl",
   "mimetype": "application/julia",
   "name": "julia",
   "version": "1.0.3"
  }
 },
 "nbformat": 4,
 "nbformat_minor": 2
}
