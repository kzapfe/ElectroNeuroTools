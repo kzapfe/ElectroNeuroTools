{
 "cells": [
  {
   "cell_type": "code",
   "execution_count": 1,
   "metadata": {},
   "outputs": [
    {
     "data": {
      "text/plain": [
       "ObtenComponentesyCM (generic function with 4 methods)"
      ]
     },
     "execution_count": 1,
     "metadata": {},
     "output_type": "execute_result"
    }
   ],
   "source": [
    "using JLD\n",
    "include(\"SoloCentrosdeMasa01.jl\")"
   ]
  },
  {
   "cell_type": "code",
   "execution_count": 2,
   "metadata": {},
   "outputs": [
    {
     "data": {
      "text/plain": [
       "\"../JLDFiles/Evocada/CSDEvocada_3R7.jld\""
      ]
     },
     "execution_count": 2,
     "metadata": {},
     "output_type": "execute_result"
    }
   ],
   "source": [
    "nombre=\"../JLDFiles/Evocada/CSDEvocada_3R7.jld\""
   ]
  },
  {
   "cell_type": "code",
   "execution_count": 3,
   "metadata": {},
   "outputs": [
    {
     "data": {
      "text/plain": [
       "Dict{String,Any} with 2 entries:\n",
       "  \"CSDPlanchada\" => Dict{AbstractString,Array}(\"Trancazo_2\"=>[-18.0116 -6.93308…\n",
       "  \"CSD\"          => Dict{AbstractString,Array}(\"Trancazo_2\"=>[-26.8791 -3.68286…"
      ]
     },
     "execution_count": 3,
     "metadata": {},
     "output_type": "execute_result"
    }
   ],
   "source": [
    "arx=load(nombre)\n",
    "#Checa como diablos se llama el CSD en cada Archivo\n"
   ]
  },
  {
   "cell_type": "code",
   "execution_count": 5,
   "metadata": {},
   "outputs": [],
   "source": [
    "csddict=arx[\"CSDPlanchada\"]\n",
    "csd=csddict[\"Trancazo_1\"]+csddict[\"Trancazo_2\"]+csddict[\"Trancazo_3\"];"
   ]
  },
  {
   "cell_type": "code",
   "execution_count": 6,
   "metadata": {},
   "outputs": [
    {
     "data": {
      "text/plain": [
       "(62, 62, 248)"
      ]
     },
     "execution_count": 6,
     "metadata": {},
     "output_type": "execute_result"
    }
   ],
   "source": [
    "(ancho,alto,nmax)=size(csd)"
   ]
  },
  {
   "cell_type": "code",
   "execution_count": 7,
   "metadata": {},
   "outputs": [
    {
     "data": {
      "text/plain": [
       "(-3326.6126025461335, 6425.736483911465)"
      ]
     },
     "execution_count": 7,
     "metadata": {},
     "output_type": "execute_result"
    }
   ],
   "source": [
    "(mincsd,maxcsd)=extrema(csd)"
   ]
  },
  {
   "cell_type": "markdown",
   "metadata": {},
   "source": [
    "Esto de abajo no sirve para actividad evocada si incluimos los tiempos en que todo esta saturado"
   ]
  },
  {
   "cell_type": "code",
   "execution_count": 8,
   "metadata": {},
   "outputs": [
    {
     "data": {
      "text/plain": [
       "64.25736483911466"
      ]
     },
     "execution_count": 8,
     "metadata": {},
     "output_type": "execute_result"
    }
   ],
   "source": [
    "#ϵ=max(abs(mincsd),abs(maxcsd))/100"
   ]
  },
  {
   "cell_type": "code",
   "execution_count": 9,
   "metadata": {},
   "outputs": [
    {
     "data": {
      "text/plain": [
       "1.0"
      ]
     },
     "execution_count": 9,
     "metadata": {},
     "output_type": "execute_result"
    }
   ],
   "source": [
    "ϵ=1.0"
   ]
  },
  {
   "cell_type": "code",
   "execution_count": 11,
   "metadata": {},
   "outputs": [],
   "source": [
    "##Prueba con componentes mas separados\n",
    "##ctor=5\n",
    "#aun más separados\n",
    "#actor=10\n",
    "# sin mucha separacion\n",
    "factor=10\n",
    "(CMP, CMN)=ObtenComponentesyCM(csd,1,nmax,ϵ*factor);"
   ]
  },
  {
   "cell_type": "code",
   "execution_count": 12,
   "metadata": {},
   "outputs": [
    {
     "data": {
      "text/plain": [
       "\"../JLDFiles/Evocada/CSDEvocada_3R7-CM.jld\""
      ]
     },
     "execution_count": 12,
     "metadata": {},
     "output_type": "execute_result"
    }
   ],
   "source": [
    "nomCM=nombre[1:end-4]*\"-CM.jld\""
   ]
  },
  {
   "cell_type": "code",
   "execution_count": 13,
   "metadata": {},
   "outputs": [],
   "source": [
    "save(nomCM, \"CMP\", CMP, \"CMN\", CMN)"
   ]
  },
  {
   "cell_type": "code",
   "execution_count": 15,
   "metadata": {},
   "outputs": [
    {
     "data": {
      "text/plain": [
       "24×3 Array{Float64,2}:\n",
       " 41.5847   54.0         53.8923\n",
       " 57.0638   11.0         65.5089\n",
       "  3.76529  31.6286      71.1342\n",
       " 48.7105    1.0         71.0273\n",
       " 45.5288   44.0         49.4954\n",
       " 23.5229   14.0038      43.4924\n",
       " 51.6416   24.7115    7539.95  \n",
       " 51.3624   17.0         51.8401\n",
       " 36.0026   53.999     3369.52  \n",
       " 10.6427   31.1941      63.3675\n",
       "  7.97042  11.4891      70.9541\n",
       "  6.99981  57.0032    3325.38  \n",
       "  2.16589   8.19619     63.1178\n",
       "  9.82342  61.0144      58.1193\n",
       " 58.0436   50.0         71.5258\n",
       " 24.0002   53.0024    3349.47  \n",
       " 37.4564   24.7146      77.871 \n",
       " 51.4416   46.4713      47.252 \n",
       " 58.9991   34.9975   10056.2   \n",
       " 17.0627   46.3504      59.7642\n",
       " 10.9993   54.2287      57.8067\n",
       " 17.2059   11.629       78.924 \n",
       " 30.4883   28.4445      52.3254\n",
       " 52.9958   38.0         88.9147"
      ]
     },
     "execution_count": 15,
     "metadata": {},
     "output_type": "execute_result"
    }
   ],
   "source": [
    "CMP[8]"
   ]
  },
  {
   "cell_type": "code",
   "execution_count": 17,
   "metadata": {},
   "outputs": [
    {
     "data": {
      "text/plain": [
       "64×3 Array{Float64,2}:\n",
       " 13.9907   15.7765     67.0657\n",
       " 36.2817   31.5561    320.198 \n",
       " 41.8274   21.3504    226.171 \n",
       "  2.37127  38.5972     67.6724\n",
       " 56.6876    1.6559    139.672 \n",
       " 36.1605    3.32248   176.217 \n",
       " 57.2862   44.2435    138.632 \n",
       " 25.9598   15.3866     74.2957\n",
       "  2.27316  45.0        55.4863\n",
       " 61.5323    1.44884    55.2818\n",
       " 14.5788   28.7706    116.829 \n",
       " 38.4067   58.3022    111.097 \n",
       " 54.2075   36.3442   1442.2   \n",
       "  ⋮                           \n",
       " 58.1392   17.6901   4106.84  \n",
       " 19.9772    9.03933   108.685 \n",
       "  8.71091  48.6588     83.5686\n",
       "  7.27825  38.8017     71.6076\n",
       " 50.1112    1.69656   126.588 \n",
       " 54.0231   27.0189   6698.63  \n",
       " 28.3292    2.41173   142.946 \n",
       " 13.4947   42.5454     75.34  \n",
       " 57.0717   61.6989    151.99  \n",
       "  5.37223  29.0       191.25  \n",
       " 51.3131   22.5023    498.681 \n",
       " 33.1335   12.1966     55.6093"
      ]
     },
     "execution_count": 17,
     "metadata": {},
     "output_type": "execute_result"
    }
   ],
   "source": []
  },
  {
   "cell_type": "code",
   "execution_count": null,
   "metadata": {},
   "outputs": [],
   "source": []
  }
 ],
 "metadata": {
  "@webio": {
   "lastCommId": "d587ef4a1c2d40c9a90774746bbd8a48",
   "lastKernelId": "1ceb35e1-5470-4998-8d9c-90d2541eb450"
  },
  "kernelspec": {
   "display_name": "Julia 1.0.3",
   "language": "julia",
   "name": "julia-1.0"
  },
  "language_info": {
   "file_extension": ".jl",
   "mimetype": "application/julia",
   "name": "julia",
   "version": "1.0.3"
  }
 },
 "nbformat": 4,
 "nbformat_minor": 2
}
