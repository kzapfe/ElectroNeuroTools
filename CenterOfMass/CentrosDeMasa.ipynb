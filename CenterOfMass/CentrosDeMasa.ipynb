{
 "cells": [
  {
   "cell_type": "code",
   "execution_count": 2,
   "metadata": {},
   "outputs": [
    {
     "data": {
      "text/plain": [
       "ObtenComponentesyCM (generic function with 4 methods)"
      ]
     },
     "execution_count": 2,
     "metadata": {},
     "output_type": "execute_result"
    }
   ],
   "source": [
    "using JLD\n",
    "include(\"SoloCentrosdeMasa01.jl\")"
   ]
  },
  {
   "cell_type": "code",
   "execution_count": 3,
   "metadata": {},
   "outputs": [
    {
     "data": {
      "text/plain": [
       "\"../JLDFiles/Deshinibida/180116s1/180116s1cut_evento_1.jld\""
      ]
     },
     "execution_count": 3,
     "metadata": {},
     "output_type": "execute_result"
    }
   ],
   "source": [
    "nombre=\"../JLDFiles/Deshinibida/180116s1/180116s1cut_evento_1.jld\""
   ]
  },
  {
   "cell_type": "code",
   "execution_count": 4,
   "metadata": {},
   "outputs": [
    {
     "ename": "LoadError",
     "evalue": "\u001b[91mUndefVarError: csd not defined\u001b[39m",
     "output_type": "error",
     "traceback": [
      "\u001b[91mUndefVarError: csd not defined\u001b[39m",
      ""
     ]
    }
   ],
   "source": [
    "arx=load(nombre)\n",
    "#Checa como diablos se llama el CSD en cada archivo\n",
    "#csd=arx[\"kCSDCorrecta\"]\n",
    "(ancho,alto,tmax)=size(csd)\n"
   ]
  },
  {
   "cell_type": "code",
   "execution_count": 7,
   "metadata": {},
   "outputs": [
    {
     "data": {
      "text/plain": [
       "16-element Array{String,1}:\n",
       "    \"Canalesrespuesta\"\n",
       "    \"LFPTotal\"        \n",
       " #undef               \n",
       " #undef               \n",
       " #undef               \n",
       "    \"CSDLindenberg\"   \n",
       " #undef               \n",
       " #undef               \n",
       " #undef               \n",
       " #undef               \n",
       " #undef               \n",
       " #undef               \n",
       " #undef               \n",
       "    \"freq\"            \n",
       " #undef               \n",
       "    \"CanalesSaturados\""
      ]
     },
     "execution_count": 7,
     "metadata": {},
     "output_type": "execute_result"
    }
   ],
   "source": [
    "(ancho,alto,tmax)=size(csd)\n"
   ]
  },
  {
   "cell_type": "code",
   "execution_count": null,
   "metadata": {
    "collapsed": true
   },
   "outputs": [],
   "source": []
  }
 ],
 "metadata": {
  "kernelspec": {
   "display_name": "Julia 0.6.0",
   "language": "julia",
   "name": "julia-0.6"
  },
  "language_info": {
   "file_extension": ".jl",
   "mimetype": "application/julia",
   "name": "julia",
   "version": "0.6.0"
  }
 },
 "nbformat": 4,
 "nbformat_minor": 2
}
