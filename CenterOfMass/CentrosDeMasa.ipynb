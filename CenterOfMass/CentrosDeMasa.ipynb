{
 "cells": [
  {
   "cell_type": "code",
   "execution_count": 1,
   "metadata": {},
   "outputs": [
    {
     "data": {
      "text/plain": [
       "ObtenComponentesyCM (generic function with 4 methods)"
      ]
     },
     "execution_count": 1,
     "metadata": {},
     "output_type": "execute_result"
    }
   ],
   "source": [
    "using JLD\n",
    "include(\"SoloCentrosdeMasa01.jl\")"
   ]
  },
  {
   "cell_type": "code",
   "execution_count": 20,
   "metadata": {},
   "outputs": [
    {
     "data": {
      "text/plain": [
       "\"../JLDFiles/TrabajandoCentrosdeMasa/LFP_Promedio_310816_stim_antidromic_nbqx_apv_mfq7.jld\""
      ]
     },
     "execution_count": 20,
     "metadata": {},
     "output_type": "execute_result"
    }
   ],
   "source": [
    "nombre=\"../JLDFiles/TrabajandoCentrosdeMasa/LFP_Promedio_310816_stim_antidromic_nbqx_apv_mfq7.jld\""
   ]
  },
  {
   "cell_type": "code",
   "execution_count": 21,
   "metadata": {},
   "outputs": [
    {
     "data": {
      "text/plain": [
       "Dict{String,Any} with 12 entries:\n",
       "  \"KTT_KInv\"         => [0.72808 0.157417 … -6.21176e-5 -3.54182e-5; 0.171284 0…\n",
       "  \"latencia\"         => 27\n",
       "  \"kCSDCorrecta\"     => [0.0 0.373949 … 0.0322543 0.171073; 0.190799 0.584796 ……\n",
       "  \"final\"            => 1072\n",
       "  \"KTilde\"           => [28.1263 33.76 … 1.19496 0.892065; 27.0489 36.982 … 1.2…\n",
       "  \"Canalesrespuesta\" => Set(Array{Int64,1}[[34, 34], [47, 24], [50, 29], [46, 1…\n",
       "  \"retrazo\"          => 90\n",
       "  \"freq\"             => 17.8555\n",
       "  \"LFPSaturados\"     => [4125.0 -7.38525 … -6.71387 -1.34277; -3.35693 -10.7422…\n",
       "  \"Nota\"             => \"Usamos las siguientes B y BT para obtener las Ks: Bcer…\n",
       "  \"K\"                => [7296.52 3774.01 … 1529.2 1500.3; 3774.01 7856.68 … 155…\n",
       "  \"CanalesSaturados\" => Set(Array{Int64,1}[[51, 30], [61, 53], [51, 31], [47, 3…"
      ]
     },
     "execution_count": 21,
     "metadata": {},
     "output_type": "execute_result"
    }
   ],
   "source": [
    "arx=load(nombre)\n",
    "#Checa como diablos se llama el CSD en cada Archivo\n"
   ]
  },
  {
   "cell_type": "code",
   "execution_count": 22,
   "metadata": {
    "collapsed": true
   },
   "outputs": [],
   "source": [
    "csd=arx[\"kCSDCorrecta\"];"
   ]
  },
  {
   "cell_type": "code",
   "execution_count": 23,
   "metadata": {},
   "outputs": [
    {
     "data": {
      "text/plain": [
       "(64, 64, 1163)"
      ]
     },
     "execution_count": 23,
     "metadata": {},
     "output_type": "execute_result"
    }
   ],
   "source": [
    "(ancho,alto,tmax)=size(csd)"
   ]
  },
  {
   "cell_type": "code",
   "execution_count": 24,
   "metadata": {},
   "outputs": [
    {
     "data": {
      "text/plain": [
       "(-188.84965917460235, 192.59611105771728)"
      ]
     },
     "execution_count": 24,
     "metadata": {},
     "output_type": "execute_result"
    }
   ],
   "source": [
    "(mincsd,maxcsd)=extrema(csd)"
   ]
  },
  {
   "cell_type": "code",
   "execution_count": 25,
   "metadata": {},
   "outputs": [
    {
     "data": {
      "text/plain": [
       "1.9259611105771728"
      ]
     },
     "execution_count": 25,
     "metadata": {},
     "output_type": "execute_result"
    }
   ],
   "source": [
    "ϵ=max(abs(mincsd),abs(maxcsd))/100"
   ]
  },
  {
   "cell_type": "code",
   "execution_count": 26,
   "metadata": {
    "collapsed": true
   },
   "outputs": [],
   "source": [
    "(CMP, CMN)=ObtenComponentesyCM(csd,1,tmax,ϵ);"
   ]
  },
  {
   "cell_type": "code",
   "execution_count": 27,
   "metadata": {},
   "outputs": [
    {
     "data": {
      "text/plain": [
       "\"../JLDFiles/TrabajandoCentrosdeMasa/LFP_Promedio_310816_stim_antidromic_nbqx_apv_mfq7-CM.jld\""
      ]
     },
     "execution_count": 27,
     "metadata": {},
     "output_type": "execute_result"
    }
   ],
   "source": [
    "nomCM=nombre[1:end-4]\"-CM.jld\""
   ]
  },
  {
   "cell_type": "code",
   "execution_count": 28,
   "metadata": {
    "collapsed": true
   },
   "outputs": [],
   "source": [
    "save(nomCM, \"CMP\", CMP, \"CMN\", CMN)"
   ]
  },
  {
   "cell_type": "code",
   "execution_count": null,
   "metadata": {
    "collapsed": true
   },
   "outputs": [],
   "source": []
  }
 ],
 "metadata": {
  "kernelspec": {
   "display_name": "Julia 0.6.0",
   "language": "julia",
   "name": "julia-0.6"
  },
  "language_info": {
   "file_extension": ".jl",
   "mimetype": "application/julia",
   "name": "julia",
   "version": "0.6.1"
  }
 },
 "nbformat": 4,
 "nbformat_minor": 2
}
