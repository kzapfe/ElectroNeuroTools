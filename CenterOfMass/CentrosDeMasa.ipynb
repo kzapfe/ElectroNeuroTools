{
 "cells": [
  {
   "cell_type": "code",
   "execution_count": 1,
   "metadata": {},
   "outputs": [
    {
     "data": {
      "text/plain": [
       "5-element Array{String,1}:\n",
       " \"@\"       \n",
       " \"@v#.#\"   \n",
       " \"@stdlib\" \n",
       " \".\"       \n",
       " \"../CSDA/\""
      ]
     },
     "execution_count": 1,
     "metadata": {},
     "output_type": "execute_result"
    }
   ],
   "source": [
    "push!(LOAD_PATH, \".\")\n",
    "push!(LOAD_PATH, \"../CSDA/\")"
   ]
  },
  {
   "cell_type": "code",
   "execution_count": 2,
   "metadata": {},
   "outputs": [
    {
     "data": {
      "text/plain": [
       "\"/home/karel/BRWFiles/Facilitada/Completo_19115s1cut_single_event_preproc.h5\""
      ]
     },
     "execution_count": 2,
     "metadata": {},
     "output_type": "execute_result"
    }
   ],
   "source": [
    "nombre=\"/home/karel/BRWFiles/Facilitada/Completo_19115s1cut_single_event_preproc.h5\""
   ]
  },
  {
   "cell_type": "code",
   "execution_count": 3,
   "metadata": {},
   "outputs": [],
   "source": [
    "esjld=false\n",
    "if nombre[end-2:end]==\"jld\"\n",
    " esjld=true\n",
    "end"
   ]
  },
  {
   "cell_type": "code",
   "execution_count": 4,
   "metadata": {},
   "outputs": [],
   "source": [
    "if esjld\n",
    "    using JLD\n",
    "else\n",
    "    using HDF5\n",
    "end\n",
    "using Statistics\n",
    "using CentrosdeMasa\n",
    "using LindenbergOperadores\n"
   ]
  },
  {
   "cell_type": "code",
   "execution_count": 6,
   "metadata": {},
   "outputs": [
    {
     "data": {
      "text/plain": [
       "HDF5 data file: /home/karel/BRWFiles/Facilitada/Completo_19115s1cut_single_event_preproc.h5"
      ]
     },
     "execution_count": 6,
     "metadata": {},
     "output_type": "execute_result"
    }
   ],
   "source": [
    "if esjld\n",
    "arx=load(nombre)\n",
    "else\n",
    "    arx=h5open(nombre)\n",
    "end\n",
    "#Checa como diablos se llama el CSD en cada Archivo\n"
   ]
  },
  {
   "cell_type": "code",
   "execution_count": 11,
   "metadata": {},
   "outputs": [],
   "source": [
    "if esjld\n",
    "csda=arx[\"CSDALindenberg\"]\n",
    "else\n",
    "    csda=read(arx[\"CSDALindenberg\"])\n",
    "end\n",
    "    #csd=csddict[\"Trancazo_1\"]+csddict[\"Trancazo_2\"]+csddict[\"Trancazo_3\"];\n",
    "#csd=csd./3;"
   ]
  },
  {
   "cell_type": "code",
   "execution_count": 13,
   "metadata": {},
   "outputs": [
    {
     "data": {
      "text/plain": [
       "(64, 64, 2000)"
      ]
     },
     "execution_count": 13,
     "metadata": {},
     "output_type": "execute_result"
    }
   ],
   "source": [
    "(ancho,alto,nmax)=size(csda)"
   ]
  },
  {
   "cell_type": "code",
   "execution_count": 14,
   "metadata": {
    "collapsed": true
   },
   "outputs": [],
   "source": [
    " #=\n",
    "csdg=zeros(ancho,alto,nmax)\n",
    "for n=1:nmax\n",
    "   # aux1[:,:,t]=GaussianSmooth(lfpplanchado[:,:,t])\n",
    "    csdg[:,:,n]=GaussianSmooth(csda[:,:,n])\n",
    "end\n",
    "=#"
   ]
  },
  {
   "cell_type": "code",
   "execution_count": 16,
   "metadata": {},
   "outputs": [
    {
     "data": {
      "text/plain": [
       "(-2284.3835f0, 2744.6685f0)"
      ]
     },
     "execution_count": 16,
     "metadata": {},
     "output_type": "execute_result"
    }
   ],
   "source": [
    "(mincsd,maxcsd)=extrema(csda)"
   ]
  },
  {
   "cell_type": "markdown",
   "metadata": {},
   "source": [
    "Esto de abajo no sirve para actividad evocada si incluimos los tiempos en que todo esta saturado"
   ]
  },
  {
   "cell_type": "code",
   "execution_count": 17,
   "metadata": {},
   "outputs": [
    {
     "data": {
      "text/plain": [
       "27.446684f0"
      ]
     },
     "execution_count": 17,
     "metadata": {},
     "output_type": "execute_result"
    }
   ],
   "source": [
    "ϵ=max(abs(mincsd),abs(maxcsd))/100"
   ]
  },
  {
   "cell_type": "code",
   "execution_count": 19,
   "metadata": {},
   "outputs": [
    {
     "data": {
      "text/plain": [
       "171.91692f0"
      ]
     },
     "execution_count": 19,
     "metadata": {},
     "output_type": "execute_result"
    }
   ],
   "source": [
    "scsd=std(csda)"
   ]
  },
  {
   "cell_type": "code",
   "execution_count": 28,
   "metadata": {},
   "outputs": [],
   "source": [
    "##Prueba con componentes mas separados\n",
    "##ctor=5\n",
    "#aun más separados\n",
    "#actor=10\n",
    "# sin mucha separacion\n",
    "factor=0.5\n",
    "(CMP, CMN)=ObtenComponentesyCM(csda,1,nmax,scsd*factor);"
   ]
  },
  {
   "cell_type": "code",
   "execution_count": 29,
   "metadata": {},
   "outputs": [
    {
     "data": {
      "text/plain": [
       "\"Se separaron los componentes con 0.5 desv. est. del CSD suavizado gaussiano\""
      ]
     },
     "execution_count": 29,
     "metadata": {},
     "output_type": "execute_result"
    }
   ],
   "source": [
    "nota=\"Se separaron los componentes con $factor desv. est. del CSD suavizado gaussiano\""
   ]
  },
  {
   "cell_type": "code",
   "execution_count": 30,
   "metadata": {
    "collapsed": true
   },
   "outputs": [],
   "source": [
    "# pues siempre hay que usar JLD de todas formas!\n",
    "using JLD"
   ]
  },
  {
   "cell_type": "code",
   "execution_count": 31,
   "metadata": {},
   "outputs": [
    {
     "data": {
      "text/plain": [
       "\"/home/karel/BRWFiles/Facilitada/Completo_19115s1cut_single_event_prepro-CM.jld\""
      ]
     },
     "execution_count": 31,
     "metadata": {},
     "output_type": "execute_result"
    }
   ],
   "source": [
    "nomCM=nombre[1:end-4]*\"-CM.jld\""
   ]
  },
  {
   "cell_type": "code",
   "execution_count": null,
   "metadata": {
    "collapsed": true
   },
   "outputs": [],
   "source": []
  },
  {
   "cell_type": "code",
   "execution_count": 32,
   "metadata": {
    "collapsed": true
   },
   "outputs": [],
   "source": [
    "save(nomCM, \"CMP\", CMP, \"CMN\", CMN, \"notacm\", nota)"
   ]
  },
  {
   "cell_type": "code",
   "execution_count": 33,
   "metadata": {},
   "outputs": [
    {
     "data": {
      "text/plain": [
       "9×3 Array{Float64,2}:\n",
       " 21.0007   36.9938    3352.63\n",
       "  1.46744  21.6026   11827.2 \n",
       "  1.0      16.5225    3180.77\n",
       " 59.7863    7.58052  35356.8 \n",
       "  3.00063  52.9997    3358.53\n",
       " 43.0006    4.99693   3351.56\n",
       "  4.15979  25.0968    2488.26\n",
       "  3.00087  11.9945    3340.03\n",
       "  7.0026   20.0019    3348.98"
      ]
     },
     "execution_count": 33,
     "metadata": {},
     "output_type": "execute_result"
    }
   ],
   "source": [
    "CMP[300]"
   ]
  },
  {
   "cell_type": "code",
   "execution_count": null,
   "metadata": {
    "collapsed": true
   },
   "outputs": [],
   "source": []
  }
 ],
 "metadata": {
  "@webio": {
   "lastCommId": null,
   "lastKernelId": null
  },
  "kernelspec": {
   "display_name": "Julia 1.0.3",
   "language": "julia",
   "name": "julia-1.0"
  },
  "language_info": {
   "file_extension": ".jl",
   "mimetype": "application/julia",
   "name": "julia",
   "version": "1.0.3"
  }
 },
 "nbformat": 4,
 "nbformat_minor": 2
}
