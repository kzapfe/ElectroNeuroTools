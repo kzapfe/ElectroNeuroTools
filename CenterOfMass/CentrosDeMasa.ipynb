{
 "cells": [
  {
   "cell_type": "code",
   "execution_count": 1,
   "metadata": {},
   "outputs": [
    {
     "data": {
      "text/plain": [
       "ObtenComponentesyCM (generic function with 4 methods)"
      ]
     },
     "execution_count": 1,
     "metadata": {},
     "output_type": "execute_result"
    }
   ],
   "source": [
    "using JLD\n",
    "include(\"SoloCentrosdeMasa01.jl\")"
   ]
  },
  {
   "cell_type": "code",
   "execution_count": 2,
   "metadata": {},
   "outputs": [
    {
     "data": {
      "text/plain": [
       "\"../JLDFiles/Evocada/CSDEvocada_3R7.jld\""
      ]
     },
     "execution_count": 2,
     "metadata": {},
     "output_type": "execute_result"
    }
   ],
   "source": [
    "nombre=\"../JLDFiles/Evocada/CSDEvocada_3R7.jld\""
   ]
  },
  {
   "cell_type": "code",
   "execution_count": 3,
   "metadata": {},
   "outputs": [
    {
     "data": {
      "text/plain": [
       "Dict{String,Any} with 2 entries:\n",
       "  \"CSDPlanchada\" => Dict{AbstractString,Array}(\"Trancazo_2\"=>[-18.0116 -6.93308…\n",
       "  \"CSD\"          => Dict{AbstractString,Array}(\"Trancazo_2\"=>[-26.8791 -3.68286…"
      ]
     },
     "execution_count": 3,
     "metadata": {},
     "output_type": "execute_result"
    }
   ],
   "source": [
    "arx=load(nombre)\n",
    "#Checa como diablos se llama el CSD en cada Archivo\n"
   ]
  },
  {
   "cell_type": "code",
   "execution_count": 4,
   "metadata": {},
   "outputs": [],
   "source": [
    "csddict=arx[\"CSDPlanchada\"]\n",
    "csd=csddict[\"Trancazo_1\"]+csddict[\"Trancazo_2\"]+csddict[\"Trancazo_3\"];\n",
    "csd=csd./3;"
   ]
  },
  {
   "cell_type": "code",
   "execution_count": 5,
   "metadata": {},
   "outputs": [
    {
     "data": {
      "text/plain": [
       "(62, 62, 248)"
      ]
     },
     "execution_count": 5,
     "metadata": {},
     "output_type": "execute_result"
    }
   ],
   "source": [
    "(ancho,alto,nmax)=size(csd)"
   ]
  },
  {
   "cell_type": "code",
   "execution_count": 6,
   "metadata": {},
   "outputs": [
    {
     "data": {
      "text/plain": [
       "(-1108.8708675153778, 2141.912161303822)"
      ]
     },
     "execution_count": 6,
     "metadata": {},
     "output_type": "execute_result"
    }
   ],
   "source": [
    "(mincsd,maxcsd)=extrema(csd)"
   ]
  },
  {
   "cell_type": "markdown",
   "metadata": {},
   "source": [
    "Esto de abajo no sirve para actividad evocada si incluimos los tiempos en que todo esta saturado"
   ]
  },
  {
   "cell_type": "code",
   "execution_count": 7,
   "metadata": {},
   "outputs": [
    {
     "data": {
      "text/plain": [
       "21.419121613038218"
      ]
     },
     "execution_count": 7,
     "metadata": {},
     "output_type": "execute_result"
    }
   ],
   "source": [
    "ϵ=max(abs(mincsd),abs(maxcsd))/100"
   ]
  },
  {
   "cell_type": "code",
   "execution_count": null,
   "metadata": {},
   "outputs": [],
   "source": []
  },
  {
   "cell_type": "code",
   "execution_count": 8,
   "metadata": {},
   "outputs": [],
   "source": [
    "##Prueba con componentes mas separados\n",
    "##ctor=5\n",
    "#aun más separados\n",
    "#actor=10\n",
    "# sin mucha separacion\n",
    "factor=0.75\n",
    "(CMP, CMN)=ObtenComponentesyCM(csd,1,nmax,ϵ*factor);"
   ]
  },
  {
   "cell_type": "code",
   "execution_count": 9,
   "metadata": {},
   "outputs": [
    {
     "data": {
      "text/plain": [
       "\"../JLDFiles/Evocada/CSDEvocada_3R7-CM.jld\""
      ]
     },
     "execution_count": 9,
     "metadata": {},
     "output_type": "execute_result"
    }
   ],
   "source": [
    "nomCM=nombre[1:end-4]*\"-CM.jld\""
   ]
  },
  {
   "cell_type": "code",
   "execution_count": 10,
   "metadata": {},
   "outputs": [],
   "source": [
    "save(nomCM, \"CMP\", CMP, \"CMN\", CMN)"
   ]
  },
  {
   "cell_type": "code",
   "execution_count": 11,
   "metadata": {},
   "outputs": [
    {
     "data": {
      "text/plain": [
       "5×3 Array{Float64,2}:\n",
       " 58.9991   34.9975  3352.08\n",
       "  6.99981  57.0032  1108.46\n",
       " 36.0026   53.999   1123.17\n",
       " 24.0002   53.0024  1116.49\n",
       " 51.6416   24.7115  2513.32"
      ]
     },
     "execution_count": 11,
     "metadata": {},
     "output_type": "execute_result"
    }
   ],
   "source": [
    "CMP[8]"
   ]
  }
 ],
 "metadata": {
  "@webio": {
   "lastCommId": "D3F0374142F345F2AE6B42F00C2DC399",
   "lastKernelId": "4cac316a-40f6-4c7a-9350-490327c520df"
  },
  "kernelspec": {
   "display_name": "Julia 1.0.3",
   "language": "julia",
   "name": "julia-1.0"
  },
  "language_info": {
   "file_extension": ".jl",
   "mimetype": "application/julia",
   "name": "julia",
   "version": "1.0.3"
  }
 },
 "nbformat": 4,
 "nbformat_minor": 2
}
