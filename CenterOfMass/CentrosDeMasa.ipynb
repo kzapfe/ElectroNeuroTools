{
 "cells": [
  {
   "cell_type": "code",
   "execution_count": 1,
   "metadata": {},
   "outputs": [
    {
     "data": {
      "text/plain": [
       "ObtenComponentesyCM (generic function with 4 methods)"
      ]
     },
     "execution_count": 1,
     "metadata": {},
     "output_type": "execute_result"
    }
   ],
   "source": [
    "using JLD\n",
    "include(\"SoloCentrosdeMasa01.jl\")"
   ]
  },
  {
   "cell_type": "code",
   "execution_count": 2,
   "metadata": {},
   "outputs": [
    {
     "data": {
      "text/plain": [
       "\"../JLDFiles/Evocada/CSDEvocada_3R7.jld\""
      ]
     },
     "execution_count": 2,
     "metadata": {},
     "output_type": "execute_result"
    }
   ],
   "source": [
    "nombre=\"../JLDFiles/Evocada/CSDEvocada_3R7.jld\""
   ]
  },
  {
   "cell_type": "code",
   "execution_count": 3,
   "metadata": {},
   "outputs": [
    {
     "data": {
      "text/plain": [
       "Dict{String,Any} with 2 entries:\n",
       "  \"CSDPlanchada\" => Dict{AbstractString,Array}(\"Trancazo_2\"=>[0.0 0.0 … 0.0 0.0…\n",
       "  \"CSD\"          => Dict{AbstractString,Array}(\"Trancazo_2\"=>[-0.0 -0.0 … -0.0 …"
      ]
     },
     "execution_count": 3,
     "metadata": {},
     "output_type": "execute_result"
    }
   ],
   "source": [
    "arx=load(nombre)\n",
    "#Checa como diablos se llama el CSD en cada Archivo\n"
   ]
  },
  {
   "cell_type": "code",
   "execution_count": 4,
   "metadata": {
    "collapsed": true
   },
   "outputs": [],
   "source": [
    "csddict=arx[\"CSDPlanchada\"]\n",
    "csd=csddict[\"Trancazo_1\"]+csddict[\"Trancazo_2\"]+csddict[\"Trancazo_3\"];"
   ]
  },
  {
   "cell_type": "code",
   "execution_count": 5,
   "metadata": {},
   "outputs": [
    {
     "data": {
      "text/plain": [
       "(64, 64, 457)"
      ]
     },
     "execution_count": 5,
     "metadata": {},
     "output_type": "execute_result"
    }
   ],
   "source": [
    "(ancho,alto,nmax)=size(csd)"
   ]
  },
  {
   "cell_type": "code",
   "execution_count": 6,
   "metadata": {},
   "outputs": [
    {
     "data": {
      "text/plain": [
       "(-3232.062419956141, 6425.685543282586)"
      ]
     },
     "execution_count": 6,
     "metadata": {},
     "output_type": "execute_result"
    }
   ],
   "source": [
    "(mincsd,maxcsd)=extrema(csd)"
   ]
  },
  {
   "cell_type": "markdown",
   "metadata": {},
   "source": [
    "Esto de abajo no sirve para actividad evocada si incluimos los tiempos en que todo esta saturado"
   ]
  },
  {
   "cell_type": "code",
   "execution_count": 7,
   "metadata": {},
   "outputs": [
    {
     "data": {
      "text/plain": [
       "64.25685543282586"
      ]
     },
     "execution_count": 7,
     "metadata": {},
     "output_type": "execute_result"
    }
   ],
   "source": [
    "ϵ=max(abs(mincsd),abs(maxcsd))/100"
   ]
  },
  {
   "cell_type": "code",
   "execution_count": null,
   "metadata": {
    "collapsed": true
   },
   "outputs": [],
   "source": []
  },
  {
   "cell_type": "code",
   "execution_count": 8,
   "metadata": {
    "collapsed": true
   },
   "outputs": [],
   "source": [
    "##Prueba con componentes mas separados\n",
    "##ctor=5\n",
    "#aun más separados\n",
    "#actor=10\n",
    "# sin mucha separacion\n",
    "factor=1\n",
    "(CMP, CMN)=ObtenComponentesyCM(csd,1,nmax,ϵ*factor);"
   ]
  },
  {
   "cell_type": "code",
   "execution_count": 9,
   "metadata": {},
   "outputs": [
    {
     "data": {
      "text/plain": [
       "\"../JLDFiles/Evocada/CSDEvocada_3R7-CM.jld\""
      ]
     },
     "execution_count": 9,
     "metadata": {},
     "output_type": "execute_result"
    }
   ],
   "source": [
    "nomCM=nombre[1:end-4]*\"-CM.jld\""
   ]
  },
  {
   "cell_type": "code",
   "execution_count": 10,
   "metadata": {
    "collapsed": true
   },
   "outputs": [],
   "source": [
    "save(nomCM, \"CMP\", CMP, \"CMN\", CMN)"
   ]
  },
  {
   "cell_type": "code",
   "execution_count": 11,
   "metadata": {},
   "outputs": [
    {
     "data": {
      "text/plain": [
       "5×3 Array{Float64,2}:\n",
       " 60.9815   37.0129  9565.56\n",
       "  8.99977  59.0032  3306.42\n",
       " 38.0026   55.999   3369.52\n",
       " 26.0002   55.0024  3349.47\n",
       " 53.6438   26.7159  7551.07"
      ]
     },
     "execution_count": 11,
     "metadata": {},
     "output_type": "execute_result"
    }
   ],
   "source": [
    "CMP[8]"
   ]
  },
  {
   "cell_type": "code",
   "execution_count": 17,
   "metadata": {},
   "outputs": [
    {
     "data": {
      "text/plain": [
       "64×3 Array{Float64,2}:\n",
       " 13.9907   15.7765     67.0657\n",
       " 36.2817   31.5561    320.198 \n",
       " 41.8274   21.3504    226.171 \n",
       "  2.37127  38.5972     67.6724\n",
       " 56.6876    1.6559    139.672 \n",
       " 36.1605    3.32248   176.217 \n",
       " 57.2862   44.2435    138.632 \n",
       " 25.9598   15.3866     74.2957\n",
       "  2.27316  45.0        55.4863\n",
       " 61.5323    1.44884    55.2818\n",
       " 14.5788   28.7706    116.829 \n",
       " 38.4067   58.3022    111.097 \n",
       " 54.2075   36.3442   1442.2   \n",
       "  ⋮                           \n",
       " 58.1392   17.6901   4106.84  \n",
       " 19.9772    9.03933   108.685 \n",
       "  8.71091  48.6588     83.5686\n",
       "  7.27825  38.8017     71.6076\n",
       " 50.1112    1.69656   126.588 \n",
       " 54.0231   27.0189   6698.63  \n",
       " 28.3292    2.41173   142.946 \n",
       " 13.4947   42.5454     75.34  \n",
       " 57.0717   61.6989    151.99  \n",
       "  5.37223  29.0       191.25  \n",
       " 51.3131   22.5023    498.681 \n",
       " 33.1335   12.1966     55.6093"
      ]
     },
     "execution_count": 17,
     "metadata": {},
     "output_type": "execute_result"
    }
   ],
   "source": []
  },
  {
   "cell_type": "code",
   "execution_count": null,
   "metadata": {
    "collapsed": true
   },
   "outputs": [],
   "source": []
  }
 ],
 "metadata": {
  "@webio": {
   "lastCommId": "D3F0374142F345F2AE6B42F00C2DC399",
   "lastKernelId": "4cac316a-40f6-4c7a-9350-490327c520df"
  },
  "kernelspec": {
   "display_name": "Julia 1.0.3",
   "language": "julia",
   "name": "julia-1.0"
  },
  "language_info": {
   "file_extension": ".jl",
   "mimetype": "application/julia",
   "name": "julia",
   "version": "1.0.3"
  }
 },
 "nbformat": 4,
 "nbformat_minor": 2
}
