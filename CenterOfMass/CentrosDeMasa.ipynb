{
 "cells": [
  {
   "cell_type": "code",
   "execution_count": 1,
   "metadata": {
    "collapsed": false
   },
   "outputs": [
    {
     "data": {
      "text/plain": [
       "ObtenComponentesyCM (generic function with 4 methods)"
      ]
     },
     "execution_count": 1,
     "metadata": {},
     "output_type": "execute_result"
    }
   ],
   "source": [
    "using JLD\n",
    "include(\"SoloCentrosdeMasa01.jl\")"
   ]
  },
  {
   "cell_type": "code",
   "execution_count": 2,
   "metadata": {
    "collapsed": false
   },
   "outputs": [
    {
     "data": {
      "text/plain": [
       "\"../JLDFiles/Evocada/control1/LFP_Promedio_est_con5.jld\""
      ]
     },
     "execution_count": 2,
     "metadata": {},
     "output_type": "execute_result"
    }
   ],
   "source": [
    "nombre=\"../JLDFiles/Evocada/control1/LFP_Promedio_est_con5.jld\""
   ]
  },
  {
   "cell_type": "code",
   "execution_count": 3,
   "metadata": {
    "collapsed": false
   },
   "outputs": [
    {
     "data": {
      "text/plain": [
       "Dict{String,Any} with 10 entries:\n",
       "  \"Canalesrespuesta\" => Set(Array{Int64,1}[[33, 57], [25, 39], [33, 56], [30, 4…\n",
       "  \"KTT_KInv\"         => [0.710605 0.155257 … -5.54059e-5 -2.93594e-5; 0.168929 …\n",
       "  \"freq\"             => 17.8555\n",
       "  \"latencia\"         => 27\n",
       "  \"kCSDCorrecta\"     => [0.0 -4.33223 … 13.3719 12.5651; 2.28279 -0.443459 … 14…\n",
       "  \"retrazo\"          => 90\n",
       "  \"Nota\"             => \"Usamos las siguientes B y BT para obtener las Ks: Bcer…\n",
       "  \"LFPSaturados\"     => [4125.0 7.38525 … 20.813 6.71387; 22.1558 18.7988 … 11.…\n",
       "  \"final\"            => 1072\n",
       "  \"CanalesSaturados\" => Set(Array{Int64,1}[[11, 63], [41, 46], [6, 37], [44, 23…"
      ]
     },
     "execution_count": 3,
     "metadata": {},
     "output_type": "execute_result"
    }
   ],
   "source": [
    "arx=load(nombre)\n",
    "#Checa como diablos se llama el CSD en cada Archivo\n"
   ]
  },
  {
   "cell_type": "code",
   "execution_count": null,
   "metadata": {
    "collapsed": true
   },
   "outputs": [],
   "source": []
  },
  {
   "cell_type": "code",
   "execution_count": 4,
   "metadata": {
    "collapsed": false
   },
   "outputs": [],
   "source": [
    "csd=arx[\"kCSDCorrecta\"];"
   ]
  },
  {
   "cell_type": "code",
   "execution_count": 5,
   "metadata": {
    "collapsed": false
   },
   "outputs": [
    {
     "data": {
      "text/plain": [
       "(64, 64, 1163)"
      ]
     },
     "execution_count": 5,
     "metadata": {},
     "output_type": "execute_result"
    }
   ],
   "source": [
    "(ancho,alto,tmax)=size(csd)"
   ]
  },
  {
   "cell_type": "code",
   "execution_count": 6,
   "metadata": {
    "collapsed": false
   },
   "outputs": [
    {
     "data": {
      "text/plain": [
       "(-4369.1827203725015, 1629.3108992837756)"
      ]
     },
     "execution_count": 6,
     "metadata": {},
     "output_type": "execute_result"
    }
   ],
   "source": [
    "(mincsd,maxcsd)=extrema(csd)"
   ]
  },
  {
   "cell_type": "code",
   "execution_count": 7,
   "metadata": {
    "collapsed": false
   },
   "outputs": [
    {
     "data": {
      "text/plain": [
       "43.69182720372501"
      ]
     },
     "execution_count": 7,
     "metadata": {},
     "output_type": "execute_result"
    }
   ],
   "source": [
    "ϵ=max(abs(mincsd),abs(maxcsd))/100"
   ]
  },
  {
   "cell_type": "code",
   "execution_count": 8,
   "metadata": {
    "collapsed": false
   },
   "outputs": [
    {
     "data": {
      "text/plain": [
       "(Dict{Int64,Array}(Pair{Int64,Array}(306, Array{Int64}(0,3)),Pair{Int64,Array}(1090, Array{Int64}(0,3)),Pair{Int64,Array}(29, Array{Int64}(0,3)),Pair{Int64,Array}(1131, Array{Int64}(0,3)),Pair{Int64,Array}(74, Array{Int64}(0,3)),Pair{Int64,Array}(905, Array{Int64}(0,3)),Pair{Int64,Array}(176, Array{Int64}(0,3)),Pair{Int64,Array}(892, Array{Int64}(0,3)),Pair{Int64,Array}(285, Array{Int64}(0,3)),Pair{Int64,Array}(318, Array{Int64}(0,3))…), Dict{Int64,Array}(Pair{Int64,Array}(306, Array{Int64}(0,3)),Pair{Int64,Array}(1090, [10.0056 1.46616 -300.939]),Pair{Int64,Array}(29, Array{Int64}(0,3)),Pair{Int64,Array}(1131, Array{Int64}(0,3)),Pair{Int64,Array}(74, Array{Int64}(0,3)),Pair{Int64,Array}(905, Array{Int64}(0,3)),Pair{Int64,Array}(176, Array{Int64}(0,3)),Pair{Int64,Array}(892, Array{Int64}(0,3)),Pair{Int64,Array}(285, [10.0898 1.73242 -537.918]),Pair{Int64,Array}(318, Array{Int64}(0,3))…))"
      ]
     },
     "execution_count": 8,
     "metadata": {},
     "output_type": "execute_result"
    }
   ],
   "source": [
    "(CMP, CMN)=ObtenComponentesyCM(csd,1,tmax,ϵ);"
   ]
  },
  {
   "cell_type": "code",
   "execution_count": 11,
   "metadata": {
    "collapsed": false
   },
   "outputs": [
    {
     "data": {
      "text/plain": [
       "\"../JLDFiles/Evocada/control1/LFP_Promedio_est_con5.-CM.jld\""
      ]
     },
     "execution_count": 11,
     "metadata": {},
     "output_type": "execute_result"
    }
   ],
   "source": [
    "nomCM=nombre[1:end-3]\"-CM.jld\""
   ]
  },
  {
   "cell_type": "code",
   "execution_count": 12,
   "metadata": {
    "collapsed": true
   },
   "outputs": [],
   "source": [
    "save(nomCM, \"CMP\", CMP, \"CMN\", CMN)"
   ]
  },
  {
   "cell_type": "code",
   "execution_count": null,
   "metadata": {
    "collapsed": true
   },
   "outputs": [],
   "source": []
  }
 ],
 "metadata": {
  "kernelspec": {
   "display_name": "Julia 0.6.0",
   "language": "julia",
   "name": "julia-0.6"
  },
  "language_info": {
   "file_extension": ".jl",
   "mimetype": "application/julia",
   "name": "julia",
   "version": "0.6.0"
  }
 },
 "nbformat": 4,
 "nbformat_minor": 2
}
