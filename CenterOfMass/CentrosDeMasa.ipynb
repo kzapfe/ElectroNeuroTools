{
 "cells": [
  {
   "cell_type": "code",
   "execution_count": 2,
   "metadata": {},
   "outputs": [
    {
     "data": {
      "text/plain": [
       "6-element Array{String,1}:\n",
       " \"@\"       \n",
       " \"@v#.#\"   \n",
       " \"@stdlib\" \n",
       " \".\"       \n",
       " \".\"       \n",
       " \"../CSDA/\""
      ]
     },
     "execution_count": 2,
     "metadata": {},
     "output_type": "execute_result"
    }
   ],
   "source": [
    "push!(LOAD_PATH, \".\")\n",
    "push!(LOAD_PATH, \"../CSDA/\")"
   ]
  },
  {
   "cell_type": "code",
   "execution_count": 3,
   "metadata": {},
   "outputs": [
    {
     "name": "stderr",
     "output_type": "stream",
     "text": [
      "┌ Info: Precompiling CentrosdeMasa [top-level]\n",
      "└ @ Base loading.jl:1192\n"
     ]
    }
   ],
   "source": [
    "using JLD, Statistics\n",
    "using CentrosdeMasa\n",
    "using LindenbergOperadores\n"
   ]
  },
  {
   "cell_type": "code",
   "execution_count": 4,
   "metadata": {},
   "outputs": [
    {
     "data": {
      "text/plain": [
       "\"../JLDFiles/4AP/DatosLFP4APusadosPaper.jld\""
      ]
     },
     "execution_count": 4,
     "metadata": {},
     "output_type": "execute_result"
    }
   ],
   "source": [
    "nombre=\"../JLDFiles/4AP/DatosLFP4APusadosPaper.jld\""
   ]
  },
  {
   "cell_type": "code",
   "execution_count": 5,
   "metadata": {},
   "outputs": [
    {
     "data": {
      "text/plain": [
       "Dict{String,Any} with 4 entries:\n",
       "  \"notacsd\"        => \"la dCSD fue obtenida directamente, sin planchar gaussian…\n",
       "  \"CSDALindenberg\" => Float32[6.71387 5.70679 … 66.1316 -14.4348; -25.8484 -36.…\n",
       "  \"LFP\"            => [0.0 2.01416 … 12.085 -8.05664; -8.05664 -10.0708 … 8.056…\n",
       "  \"kCSDCorrecta\"   => [0.0 -0.095717 … -0.535431 -0.684494; 0.060564 -0.111223 …"
      ]
     },
     "execution_count": 5,
     "metadata": {},
     "output_type": "execute_result"
    }
   ],
   "source": [
    "arx=load(nombre)\n",
    "#Checa como diablos se llama el CSD en cada Archivo\n"
   ]
  },
  {
   "cell_type": "code",
   "execution_count": 8,
   "metadata": {},
   "outputs": [],
   "source": [
    "csda=arx[\"CSDALindenberg\"]\n",
    "#csd=csddict[\"Trancazo_1\"]+csddict[\"Trancazo_2\"]+csddict[\"Trancazo_3\"];\n",
    "#csd=csd./3;"
   ]
  },
  {
   "cell_type": "code",
   "execution_count": 9,
   "metadata": {},
   "outputs": [
    {
     "data": {
      "text/plain": [
       "(64, 64, 1402)"
      ]
     },
     "execution_count": 9,
     "metadata": {},
     "output_type": "execute_result"
    }
   ],
   "source": [
    "(ancho,alto,nmax)=size(csda)"
   ]
  },
  {
   "cell_type": "code",
   "execution_count": 19,
   "metadata": {},
   "outputs": [],
   "source": [
    "csdg=zeros(ancho,alto,nmax)\n",
    "for n=1:nmax\n",
    "   # aux1[:,:,t]=GaussianSmooth(lfpplanchado[:,:,t])\n",
    "    csdg[:,:,n]=GaussianSmooth(csda[:,:,n])\n",
    "end"
   ]
  },
  {
   "cell_type": "code",
   "execution_count": 20,
   "metadata": {},
   "outputs": [
    {
     "data": {
      "text/plain": [
       "(-441.8779242330932, 252.63765092620852)"
      ]
     },
     "execution_count": 20,
     "metadata": {},
     "output_type": "execute_result"
    }
   ],
   "source": [
    "(mincsd,maxcsd)=extrema(csdg)"
   ]
  },
  {
   "cell_type": "markdown",
   "metadata": {},
   "source": [
    "Esto de abajo no sirve para actividad evocada si incluimos los tiempos en que todo esta saturado"
   ]
  },
  {
   "cell_type": "code",
   "execution_count": 21,
   "metadata": {},
   "outputs": [
    {
     "data": {
      "text/plain": [
       "4.418779242330932"
      ]
     },
     "execution_count": 21,
     "metadata": {},
     "output_type": "execute_result"
    }
   ],
   "source": [
    "ϵ=max(abs(mincsd),abs(maxcsd))/100"
   ]
  },
  {
   "cell_type": "code",
   "execution_count": 22,
   "metadata": {},
   "outputs": [
    {
     "data": {
      "text/plain": [
       "10.068129214856711"
      ]
     },
     "execution_count": 22,
     "metadata": {},
     "output_type": "execute_result"
    }
   ],
   "source": [
    "scsd=std(csdg)"
   ]
  },
  {
   "cell_type": "code",
   "execution_count": 40,
   "metadata": {},
   "outputs": [],
   "source": [
    "##Prueba con componentes mas separados\n",
    "##ctor=5\n",
    "#aun más separados\n",
    "#actor=10\n",
    "# sin mucha separacion\n",
    "factor=2.0\n",
    "(CMP, CMN)=ObtenComponentesyCM(csdg,1,nmax,scsd*factor);"
   ]
  },
  {
   "cell_type": "code",
   "execution_count": 41,
   "metadata": {},
   "outputs": [
    {
     "data": {
      "text/plain": [
       "\"Se separaron los componentes con 2.0 desv. est. del CSD suavizado gaussiano\""
      ]
     },
     "execution_count": 41,
     "metadata": {},
     "output_type": "execute_result"
    }
   ],
   "source": [
    "nota=\"Se separaron los componentes con $factor desv. est. del CSD suavizado gaussiano\""
   ]
  },
  {
   "cell_type": "code",
   "execution_count": 42,
   "metadata": {},
   "outputs": [
    {
     "data": {
      "text/plain": [
       "\"../JLDFiles/4AP/DatosLFP4APusadosPaper-CM.jld\""
      ]
     },
     "execution_count": 42,
     "metadata": {},
     "output_type": "execute_result"
    }
   ],
   "source": [
    "nomCM=nombre[1:end-4]*\"-CM.jld\""
   ]
  },
  {
   "cell_type": "code",
   "execution_count": null,
   "metadata": {},
   "outputs": [],
   "source": []
  },
  {
   "cell_type": "code",
   "execution_count": 43,
   "metadata": {},
   "outputs": [],
   "source": [
    "save(nomCM, \"CMP\", CMP, \"CMN\", CMN, \"notacm\", nota)"
   ]
  },
  {
   "cell_type": "code",
   "execution_count": 44,
   "metadata": {},
   "outputs": [
    {
     "data": {
      "text/plain": [
       "1×3 Array{Float64,2}:\n",
       " 31.2343  61.2127  87.6939"
      ]
     },
     "execution_count": 44,
     "metadata": {},
     "output_type": "execute_result"
    }
   ],
   "source": [
    "CMP[300]"
   ]
  },
  {
   "cell_type": "code",
   "execution_count": null,
   "metadata": {},
   "outputs": [],
   "source": []
  }
 ],
 "metadata": {
  "@webio": {
   "lastCommId": "D3F0374142F345F2AE6B42F00C2DC399",
   "lastKernelId": "4cac316a-40f6-4c7a-9350-490327c520df"
  },
  "kernelspec": {
   "display_name": "Julia 1.0.3",
   "language": "julia",
   "name": "julia-1.0"
  },
  "language_info": {
   "file_extension": ".jl",
   "mimetype": "application/julia",
   "name": "julia",
   "version": "1.0.3"
  }
 },
 "nbformat": 4,
 "nbformat_minor": 2
}
