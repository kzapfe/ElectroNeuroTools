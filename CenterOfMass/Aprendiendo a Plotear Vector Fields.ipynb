{
 "cells": [
  {
   "cell_type": "code",
   "execution_count": 6,
   "metadata": {
    "collapsed": false
   },
   "outputs": [],
   "source": [
    "LFPexample=readdlm(\"GarbageCollector/LFP/LFPSuave-990.dat\");"
   ]
  },
  {
   "cell_type": "code",
   "execution_count": 7,
   "metadata": {
    "collapsed": false
   },
   "outputs": [
    {
     "data": {
      "text/plain": [
       "Divergencia2D (generic function with 2 methods)"
      ]
     },
     "execution_count": 7,
     "metadata": {},
     "output_type": "execute_result"
    }
   ],
   "source": [
    "include(\"DiferentialOperators01.jl\")"
   ]
  },
  {
   "cell_type": "code",
   "execution_count": 8,
   "metadata": {
    "collapsed": false
   },
   "outputs": [],
   "source": [
    "(EFx,EFy)=Gradiente2D(LFPexample);"
   ]
  },
  {
   "cell_type": "code",
   "execution_count": 10,
   "metadata": {
    "collapsed": false
   },
   "outputs": [
    {
     "ename": "LoadError",
     "evalue": "z not defined\nwhile loading In[10], in expression starting on line 1",
     "output_type": "error",
     "traceback": [
      "z not defined\nwhile loading In[10], in expression starting on line 1",
      "",
      " in Divergencia2D at /home/karel/RafaelGutierrezWork/CenterOfMass/DiferentialOperators01.jl:42"
     ]
    }
   ],
   "source": [
    "Rho=Divergencia2D(EFx, EFy)"
   ]
  },
  {
   "cell_type": "code",
   "execution_count": 4,
   "metadata": {
    "collapsed": false
   },
   "outputs": [
    {
     "name": "stderr",
     "output_type": "stream",
     "text": [
      "INFO: Loading help data...\n"
     ]
    }
   ],
   "source": [
    "using PyPlot"
   ]
  },
  {
   "cell_type": "code",
   "execution_count": 11,
   "metadata": {
    "collapsed": false
   },
   "outputs": [
    {
     "data": {
      "text/plain": [
       "64x64 Array{Float64,2}:\n",
       " 0.388153   0.25763    0.403986    …  0.336417   0.442622  0.465479 \n",
       " 0.660165   0.684378   0.739939       0.0611095  0.638458  0.632767 \n",
       " 0.657079   0.728059   0.762809       0.733776   0.555298  0.899722 \n",
       " 0.244475   0.333288   0.597164       0.980507   0.848441  0.298802 \n",
       " 0.329379   0.0318827  0.184718       0.853572   0.382874  0.289474 \n",
       " 0.119375   0.143542   0.311335    …  0.684892   0.999032  0.957234 \n",
       " 0.369111   0.917425   0.673844       0.527412   0.868318  0.212802 \n",
       " 0.611639   0.439195   0.29115        0.0856312  0.71308   0.879375 \n",
       " 0.603076   0.692245   0.786148       0.882058   0.780765  0.194279 \n",
       " 0.703504   0.1211     0.572495       0.614602   0.931565  0.624127 \n",
       " 0.78851    0.859921   0.74457     …  0.844833   0.969858  0.586226 \n",
       " 0.6152     0.190393   0.259887       0.912142   0.720174  0.78287  \n",
       " 0.28935    0.940966   0.00220701     0.622894   0.437035  0.99864  \n",
       " ⋮                                 ⋱                                \n",
       " 0.144352   0.682494   0.0623311      0.230864   0.675376  0.79471  \n",
       " 0.343084   0.459997   0.241021       0.118677   0.291611  0.127788 \n",
       " 0.211973   0.166898   0.916904       0.0176225  0.944203  0.0307863\n",
       " 0.274805   0.180995   0.926183    …  0.62603    0.08586   0.309443 \n",
       " 0.101872   0.206963   0.0188014      0.595509   0.360346  0.173619 \n",
       " 0.362887   0.687428   0.645908       0.470006   0.350305  0.960017 \n",
       " 0.142588   0.939843   0.846381       0.843386   0.905868  0.43139  \n",
       " 0.91697    0.500114   0.474337       0.390094   0.341071  0.731816 \n",
       " 0.235356   0.195715   0.78766     …  0.730672   0.571191  0.0663994\n",
       " 0.101912   0.530889   0.0968686      0.955411   0.445749  0.96427  \n",
       " 0.0770001  0.264016   0.0872385      0.771228   0.509573  0.161729 \n",
       " 0.695185   0.931259   0.624656       0.167242   0.546461  0.54222  "
      ]
     },
     "execution_count": 11,
     "metadata": {},
     "output_type": "execute_result"
    }
   ],
   "source": [
    "x=1:64\n",
    "y=1:64\n",
    "m=rand(64,64)\n",
    "n=rand(64,64)"
   ]
  },
  {
   "cell_type": "code",
   "execution_count": 25,
   "metadata": {
    "collapsed": false
   },
   "outputs": [
    {
     "ename": "LoadError",
     "evalue": "PyError (:PyObject_Call) <type 'exceptions.AssertionError'>\nAssertionError()\n  File \"/usr/lib/pymodules/python2.7/matplotlib/pyplot.py\", line 2892, in imshow\n    imlim=imlim, resample=resample, url=url, **kwargs)\n  File \"/usr/lib/pymodules/python2.7/matplotlib/axes.py\", line 7292, in imshow\n    assert(isinstance(norm, mcolors.Normalize))\n\nwhile loading In[25], in expression starting on line 4",
     "output_type": "error",
     "traceback": [
      "PyError (:PyObject_Call) <type 'exceptions.AssertionError'>\nAssertionError()\n  File \"/usr/lib/pymodules/python2.7/matplotlib/pyplot.py\", line 2892, in imshow\n    imlim=imlim, resample=resample, url=url, **kwargs)\n  File \"/usr/lib/pymodules/python2.7/matplotlib/axes.py\", line 7292, in imshow\n    assert(isinstance(norm, mcolors.Normalize))\n\nwhile loading In[25], in expression starting on line 4",
      "",
      " in getindex at /home/karel/.julia/v0.3/PyCall/src/PyCall.jl:246",
      " in pysequence_query at /home/karel/.julia/v0.3/PyCall/src/conversions.jl:776",
      " in pytype_query at /home/karel/.julia/v0.3/PyCall/src/conversions.jl:792",
      " in convert at /home/karel/.julia/v0.3/PyCall/src/conversions.jl:842",
      " in pycall at /home/karel/.julia/v0.3/PyCall/src/PyCall.jl:403",
      " in fn at /home/karel/.julia/v0.3/PyCall/src/conversions.jl:188",
      " in close_queued_figs at /home/karel/.julia/v0.3/PyPlot/src/PyPlot.jl:296"
     ]
    }
   ],
   "source": [
    "PyPlot.ion()\n",
    "xlim(1,64)\n",
    "ylim(1,64)\n",
    "clim(0,120)\n",
    "flechitas=quiver(x,y,EFx,EFy, sqrt((EFx.*EFx+EFy.*EFy)), pivot=\"middle\", cmap=\"Blues\")\n",
    "cb=colorbar(flechitas)"
   ]
  },
  {
   "cell_type": "code",
   "execution_count": 19,
   "metadata": {
    "collapsed": false
   },
   "outputs": [
    {
     "data": {
      "text/plain": [
       "2051-element Array{Union(UTF8String,ASCIIString),1}:\n",
       " \"LFPSuave-1000.dat\"\n",
       " \"LFPSuave-1001.dat\"\n",
       " \"LFPSuave-1002.dat\"\n",
       " \"LFPSuave-1003.dat\"\n",
       " \"LFPSuave-1004.dat\"\n",
       " \"LFPSuave-1005.dat\"\n",
       " \"LFPSuave-1006.dat\"\n",
       " \"LFPSuave-1007.dat\"\n",
       " \"LFPSuave-1008.dat\"\n",
       " \"LFPSuave-1009.dat\"\n",
       " \"LFPSuave-1010.dat\"\n",
       " \"LFPSuave-1011.dat\"\n",
       " \"LFPSuave-1012.dat\"\n",
       " ⋮                  \n",
       " \"LFPSuave-988.dat\" \n",
       " \"LFPSuave-989.dat\" \n",
       " \"LFPSuave-990.dat\" \n",
       " \"LFPSuave-991.dat\" \n",
       " \"LFPSuave-992.dat\" \n",
       " \"LFPSuave-993.dat\" \n",
       " \"LFPSuave-994.dat\" \n",
       " \"LFPSuave-995.dat\" \n",
       " \"LFPSuave-996.dat\" \n",
       " \"LFPSuave-997.dat\" \n",
       " \"LFPSuave-998.dat\" \n",
       " \"LFPSuave-999.dat\" "
      ]
     },
     "execution_count": 19,
     "metadata": {},
     "output_type": "execute_result"
    }
   ],
   "source": [
    "blabla=readdir(\"GarbageCollector/LFP/\")"
   ]
  },
  {
   "cell_type": "code",
   "execution_count": 17,
   "metadata": {
    "collapsed": false
   },
   "outputs": [
    {
     "name": "stderr",
     "output_type": "stream",
     "text": [
      "\n",
      "WARNING: deprecated syntax \"x[i:]\" at In[17]:4.\n",
      "Use \"x[i:end]\" instead.\n",
      "/usr/lib/pymodules/python2.7/matplotlib/pyplot.py:412: RuntimeWarning: More than 20 figures have been opened. Figures created through the pyplot interface (`matplotlib.pyplot.figure`) are retained until explicitly closed and may consume too much memory. (To control this warning, see the rcParam `figure.max_num_figures`).\n",
      "  max_open_warning, RuntimeWarning)\n"
     ]
    },
    {
     "ename": "LoadError",
     "evalue": "unexpected character 'Q' after quoted field at row 85 column 3\nwhile loading In[17], in expression starting on line 4",
     "output_type": "error",
     "traceback": [
      "unexpected character 'Q' after quoted field at row 85 column 3\nwhile loading In[17], in expression starting on line 4",
      "",
      " in error at error.jl:21",
      " in dlm_parse at datafmt.jl:483",
      " in dlm_parse at datafmt.jl:335",
      " in readdlm_string at datafmt.jl:259",
      " in readdlm_auto at datafmt.jl:59",
      " in readdlm at datafmt.jl:49",
      " in readdlm at datafmt.jl:46",
      " in anonymous at no file:6"
     ]
    }
   ],
   "source": [
    "PyPlot.ioff()\n",
    "xlim(1,64)\n",
    "ylim(1,64)\n",
    "for h in blabla[4:]\n",
    "    figure()\n",
    "    Testing=readdlm(\"GarbageCollector/LFP/$h\");\n",
    "    (EFx,EFy)=Gradiente2D(Testing)\n",
    "    flechitas=quiver(x,y,EFx,EFy, sqrt((EFx.*EFx+EFy.*EFy)), pivot=\"middle\", cmap=\"Blues\", vmin=0, vma)\n",
    "    cb=colorbar(flechitas)\n",
    "    savefig(\"GarbageCollector/LFP/VectoresEFNorm_$h.png\", dpi=72)\n",
    "    PyPlot.close_queued_figs()\n",
    "end"
   ]
  },
  {
   "cell_type": "code",
   "execution_count": 14,
   "metadata": {
    "collapsed": false
   },
   "outputs": [
    {
     "data": {
      "text/plain": [
       "4-element Array{Union(UTF8String,ASCIIString),1}:\n",
       " \"LFPSuave-1000.dat\"\n",
       " \"LFPSuave-1001.dat\"\n",
       " \"LFPSuave-1002.dat\"\n",
       " \"LFPSuave-1003.dat\""
      ]
     },
     "execution_count": 14,
     "metadata": {},
     "output_type": "execute_result"
    }
   ],
   "source": [
    "blabla[1:4]"
   ]
  },
  {
   "cell_type": "code",
   "execution_count": 27,
   "metadata": {
    "collapsed": false
   },
   "outputs": [
    {
     "name": "stdout",
     "output_type": "stream",
     "text": [
      "v\"1.3.1\" is of type\n",
      "DataType   : VersionNumber (constructor with 4 methods)\n",
      "  supertype: Any\n",
      "  fields   : (:major,:minor,:patch,:prerelease,:build)\n"
     ]
    }
   ],
   "source": [
    "?PyPlot.version"
   ]
  },
  {
   "cell_type": "code",
   "execution_count": null,
   "metadata": {
    "collapsed": true
   },
   "outputs": [],
   "source": []
  }
 ],
 "metadata": {
  "kernelspec": {
   "display_name": "Julia 0.3.7-pre",
   "language": "julia",
   "name": "julia 0.3"
  },
  "language_info": {
   "name": "julia",
   "version": "0.3.7"
  }
 },
 "nbformat": 4,
 "nbformat_minor": 0
}
