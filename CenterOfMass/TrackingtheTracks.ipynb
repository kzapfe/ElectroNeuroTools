{
 "cells": [
  {
   "cell_type": "markdown",
   "metadata": {
    "collapsed": true
   },
   "source": [
    "# Siguiendo los Centros de Masa: un algorítmo que une los puntos de promedios vectoriales para cuadros consecutivos."
   ]
  },
  {
   "cell_type": "markdown",
   "metadata": {
    "collapsed": true
   },
   "source": [
    "Pensemos si el \"breadth first search\" nos da los mejores resultados para encontrar las trayectorias disjuntas de los Centros de Masa. Ejemplo 01, chequemos si hay puntos consecutivos entre estos dos."
   ]
  },
  {
   "cell_type": "code",
   "execution_count": 1,
   "metadata": {
    "collapsed": false
   },
   "outputs": [
    {
     "data": {
      "text/plain": [
       "dist2D (generic function with 1 method)"
      ]
     },
     "execution_count": 1,
     "metadata": {},
     "output_type": "execute_result"
    }
   ],
   "source": [
    "function dist2D(x::Array,y::Array)\n",
    "    result=sqrt((x[1]-y[1])^2+(x[2]-y[2])^2)\n",
    "    return result\n",
    "end"
   ]
  },
  {
   "cell_type": "code",
   "execution_count": 2,
   "metadata": {
    "collapsed": false
   },
   "outputs": [],
   "source": [
    "using PyPlot"
   ]
  },
  {
   "cell_type": "code",
   "execution_count": 3,
   "metadata": {
    "collapsed": false
   },
   "outputs": [
    {
     "data": {
      "text/plain": [
       "0-element Array{Array{T,N},1}"
      ]
     },
     "execution_count": 3,
     "metadata": {},
     "output_type": "execute_result"
    }
   ],
   "source": [
    "MegaArrayPositivo=Array[] \n",
    "#=El borrico que toco la flauta por casualidad:\n",
    "Esto hace un Arrey de Arrays vacio de dimensión uno...\n",
    "=#"
   ]
  },
  {
   "cell_type": "code",
   "execution_count": 4,
   "metadata": {
    "collapsed": false
   },
   "outputs": [
    {
     "data": {
      "text/plain": [
       "0-element Array{Array{T,N},1}"
      ]
     },
     "execution_count": 4,
     "metadata": {},
     "output_type": "execute_result"
    }
   ],
   "source": [
    "MegaArrayNegativo=Array[] \n",
    "#=El borrico que toco la flauta por casualidad:\n",
    "Esto hace un Arrey de Arrays vacio de dimensión uno...\n",
    "=#"
   ]
  },
  {
   "cell_type": "code",
   "execution_count": 5,
   "metadata": {
    "collapsed": false
   },
   "outputs": [
    {
     "data": {
      "text/plain": [
       "leeunmegaarray (generic function with 2 methods)"
      ]
     },
     "execution_count": 5,
     "metadata": {},
     "output_type": "execute_result"
    }
   ],
   "source": [
    "function leeunmegaarray(NomineGeneralis::AbstractString, cuantos=1350)\n",
    "    LeMegaArray=Array[]\n",
    "    for t=200:cuantos\n",
    "      #  println(\"$NomineGeneralis-$t.dat\")\n",
    "        CMx=readdlm(\"$NomineGeneralis-$t.dat\")\n",
    "        push!(LeMegaArray, CMx)\n",
    "    end\n",
    "    return LeMegaArray\n",
    "end"
   ]
  },
  {
   "cell_type": "code",
   "execution_count": 6,
   "metadata": {
    "collapsed": false
   },
   "outputs": [],
   "source": [
    "MegaArrayPositivo=leeunmegaarray(\"GarbageCollector/CMFuentes\", 1300);\n",
    "MegaArrayNegativo=leeunmegaarray(\"GarbageCollector/CMPozos\", 1300);"
   ]
  },
  {
   "cell_type": "markdown",
   "metadata": {},
   "source": [
    "Tendremos que hacer un Forest Cutting SEARCH!!!\n"
   ]
  },
  {
   "cell_type": "code",
   "execution_count": 7,
   "metadata": {
    "collapsed": false
   },
   "outputs": [
    {
     "data": {
      "text/plain": [
       "encuentraTrayectorias (generic function with 2 methods)"
      ]
     },
     "execution_count": 7,
     "metadata": {},
     "output_type": "execute_result"
    }
   ],
   "source": [
    "function encuentraTrayectorias(Datos::Array, mincadena=20)\n",
    "\n",
    "toleradist=4.0*sqrt(2)\n",
    "tau=1\n",
    "t=1\n",
    "j=1\n",
    "Catenario=Set{Array{Any}}()\n",
    "Cadena=[0 0 0 0]\n",
    "    CopiaMegaArray=deepcopy(Datos);\n",
    "    NumFrames=length(Datos)\n",
    "FakeNumFrames=NumFrames\n",
    "\n",
    "\n",
    "\n",
    "while t <= FakeNumFrames-1 \n",
    "    \n",
    "    tau=t\n",
    "    \n",
    "    @label arrrrh\n",
    "  \n",
    "    jmax,nada= size(CopiaMegaArray[tau])\n",
    "    \n",
    "    while j <=jmax && tau<FakeNumFrames\n",
    "        \n",
    "            if abs(CopiaMegaArray[tau][j,3]) > 0.05\n",
    "                       \n",
    "            Eslabon=[copy(CopiaMegaArray[tau][j,:]) tau]\n",
    "            Cadena=vcat(Cadena, Eslabon)\n",
    "         #   println(\"Papa t: \", t, \"  tau: \", tau, \" y  j: \",j )\n",
    "            mindist=2\n",
    "            kasterisco=1\n",
    "            kmax, nada= size(CopiaMegaArray[tau+1])\n",
    "            huboalgo=false\n",
    "          \n",
    "        #    kmax=5\n",
    "            \n",
    "            for k=1:kmax\n",
    "                \n",
    "                EslabonTentativo=CopiaMegaArray[tau+1][k,:]\n",
    "            #    println(EslabonTentativo)\n",
    "                    if abs(EslabonTentativo[3])>0.05\n",
    "                    dist=dist2D(Eslabon,EslabonTentativo)                  \n",
    "                    if dist<mindist\n",
    "                        mindist=dist\n",
    "                        kasterisco=k\n",
    "                        \n",
    "                       # println(kasterisco, \"=k*\", k, \"=k\")\n",
    "                        huboalgo=true\n",
    "                    end\n",
    "                end\n",
    "            \n",
    "            end    \n",
    "            \n",
    "            if huboalgo && mindist<toleradist\n",
    "                #quitamos el anterior\n",
    "                CopiaMegaArray[tau][j,3]=0.0000 \n",
    "               # println(mindist,\" \", t, \" \", tau+1 ,\" \", kasterisco )\n",
    "                \n",
    "                if tau+1<FakeNumFrames\n",
    "                    tau+=1\n",
    "                    j=kasterisco\n",
    "      #              println(\"Pepe t: \", t, \"  tau: \", tau, \" y  j: \",j )\n",
    "                    @goto arrrrh\n",
    "                \n",
    "                else\n",
    "                    \n",
    "                    Eslabon=[copy(CopiaMegaArray[tau+1][kasterisco,:]) tau+1]\n",
    "                    Cadena=vcat(Cadena, Eslabon)\n",
    "      #              println(\"Pipi t: \", t, \"  t: \", t, \" y  j: \",j )\n",
    "                    j+=1\n",
    "                    tau=t\n",
    "                    \n",
    "                    if size(Cadena)[1]>mincadena\n",
    "                        push!(Catenario, Cadena[2:end,:])\n",
    "                    end\n",
    "                    \n",
    "                    Cadena=[0 0 0 0]\n",
    "                    @goto arrrrh\n",
    "                end\n",
    "                                \n",
    "            else\n",
    "                \n",
    "                if size(Cadena)[1]>mincadena\n",
    "                    push!(Catenario, Cadena[2:end,:])\n",
    "                end\n",
    "                Cadena=[0 0 0 0]\n",
    "                j+=1\n",
    "                tau=t\n",
    "                @goto arrrrh\n",
    "            end\n",
    "                       \n",
    "        end #cierra sobre el if de  la masa \n",
    "                \n",
    "        j+=1                    \n",
    "        tau=t\n",
    "    \n",
    "    end\n",
    "    @label urrr\n",
    "      \n",
    "    j=1\n",
    "    t+=1\n",
    "    tau=t\n",
    "    Cadena=[0 0 0 0]\n",
    "end \n",
    "    \n",
    "    return Catenario\n",
    "end"
   ]
  },
  {
   "cell_type": "code",
   "execution_count": 8,
   "metadata": {
    "collapsed": false
   },
   "outputs": [],
   "source": [
    "CatenarioPositivo=encuentraTrayectorias(MegaArrayPositivo, 2);\n"
   ]
  },
  {
   "cell_type": "code",
   "execution_count": 9,
   "metadata": {
    "collapsed": false
   },
   "outputs": [],
   "source": [
    "CatenarioNegativo=encuentraTrayectorias(MegaArrayNegativo,2);"
   ]
  },
  {
   "cell_type": "code",
   "execution_count": 10,
   "metadata": {
    "collapsed": false
   },
   "outputs": [
    {
     "data": {
      "text/plain": [
       "(19740,19798)"
      ]
     },
     "execution_count": 10,
     "metadata": {},
     "output_type": "execute_result"
    }
   ],
   "source": [
    "length(CatenarioPositivo), length(CatenarioNegativo)"
   ]
  },
  {
   "cell_type": "code",
   "execution_count": 11,
   "metadata": {
    "collapsed": false
   },
   "outputs": [],
   "source": [
    "longer= Array{Int}(length(CatenarioPositivo))\n",
    "gorder=Array{Float32}(length(CatenarioPositivo))\n",
    "k=1\n",
    "trashy=0\n",
    "for p in CatenarioPositivo\n",
    "    gordura=mean(abs(p[:3]))\n",
    "    longer[k], trashy=size(p)\n",
    "    gorder[k]=gordura\n",
    "    k+=1\n",
    "end"
   ]
  },
  {
   "cell_type": "code",
   "execution_count": 12,
   "metadata": {
    "collapsed": false
   },
   "outputs": [
    {
     "data": {
      "image/png": "[encoded data removed]",
      "text/plain": [
       "PyPlot.Figure(PyObject <matplotlib.figure.Figure object at 0x7fe3d2eb9be0>)"
      ]
     },
     "metadata": {},
     "output_type": "display_data"
    },
    {
     "data": {
      "text/plain": [
       "PyObject <matplotlib.collections.PathCollection object at 0x7fe3c7828b70>"
      ]
     },
     "execution_count": 12,
     "metadata": {},
     "output_type": "execute_result"
    }
   ],
   "source": [
    "ion()\n",
    "figure(figsize=(6,6))\n",
    "xlim(2,110)\n",
    "ylim(0,65)\n",
    "scatter(longer,gorder, marker=\".\")"
   ]
  },
  {
   "cell_type": "code",
   "execution_count": 13,
   "metadata": {
    "collapsed": false
   },
   "outputs": [
    {
     "data": {
      "text/plain": [
       "(0.0:1.0:64.0,[481,320,284,291,291,318,361,319,279,328  …  262,275,267,258,281,306,316,293,320,686])"
      ]
     },
     "execution_count": 13,
     "metadata": {},
     "output_type": "execute_result"
    }
   ],
   "source": [
    "histolongs=hist(longer, 100)\n",
    "histogords=hist(gorder,100)"
   ]
  },
  {
   "cell_type": "code",
   "execution_count": 14,
   "metadata": {
    "collapsed": false
   },
   "outputs": [
    {
     "data": {
      "text/plain": [
       "(0.0:2.0:118.0,[3718,4763,2940,2007,1331,1045,751,632,482,394  …  0,0,1,1,0,0,0,0,0,1])"
      ]
     },
     "execution_count": 14,
     "metadata": {},
     "output_type": "execute_result"
    }
   ],
   "source": [
    "histolongs"
   ]
  },
  {
   "cell_type": "code",
   "execution_count": 15,
   "metadata": {
    "collapsed": false
   },
   "outputs": [
    {
     "data": {
      "image/png": "[encoded data removed]",
      "text/plain": [
       "PyPlot.Figure(PyObject <matplotlib.figure.Figure object at 0x7fe3c7766d30>)"
      ]
     },
     "metadata": {},
     "output_type": "display_data"
    },
    {
     "data": {
      "text/plain": [
       "PyObject <matplotlib.collections.PathCollection object at 0x7fe3c77494e0>"
      ]
     },
     "execution_count": 15,
     "metadata": {},
     "output_type": "execute_result"
    }
   ],
   "source": [
    "xxs=0:2:117\n",
    "figure(figsize=(6,6))\n",
    "xlim(1,118)\n",
    "ylim(0,10)\n",
    "yys=log(histolongs[2]+1)\n",
    "scatter(xxs,yys, marker=\"o\")"
   ]
  },
  {
   "cell_type": "code",
   "execution_count": 16,
   "metadata": {
    "collapsed": false
   },
   "outputs": [
    {
     "data": {
      "image/png": "[encoded data removed]",
      "text/plain": [
       "PyPlot.Figure(PyObject <matplotlib.figure.Figure object at 0x7fe3c77456d8>)"
      ]
     },
     "metadata": {},
     "output_type": "display_data"
    },
    {
     "data": {
      "text/plain": [
       "1-element Array{Any,1}:\n",
       " PyObject <matplotlib.lines.Line2D object at 0x7fe3c73f2f28>"
      ]
     },
     "execution_count": 16,
     "metadata": {},
     "output_type": "execute_result"
    }
   ],
   "source": [
    "xxs=0:63\n",
    "figure(figsize=(6,6))\n",
    "xlim(0,64)\n",
    "ylim(0,500)\n",
    "yys=histogords[2]\n",
    "plot(xxs,yys, marker=\"o\")"
   ]
  },
  {
   "cell_type": "code",
   "execution_count": null,
   "metadata": {
    "collapsed": false,
    "scrolled": false
   },
   "outputs": [],
   "source": [
    "PyPlot.ion()\n",
    "figure(figsize=(9,8))\n",
    "#axis(\"equal\")\n",
    "xlim(0.0,65.0)\n",
    "ylim(0.0,65.0)\n",
    "tolerancia=1.0\n",
    "minlong=10\n",
    "maxlong=20\n",
    "#colores=Union{}\n",
    "\n",
    "for p in CatenarioPositivo\n",
    "    gordura=abs(p[:3])\n",
    "    longus,gordus=size(p)\n",
    "    if (mean(gordura)>tolerancia) && (longus>minlong) && longus < maxlong\n",
    "        #Si son chiquitos no nos interesan.\n",
    "        xxpos=p[:,1]\n",
    "        yypos=p[:,2]    \n",
    "        tiempos=p[:,4]/7022    \n",
    "        plot(xxpos, yypos, marker=\"o\", markersize=1, color=\"r\")\n",
    "        colores=scatter(xxpos,yypos, s=gordura*2, edgecolors=\"none\", \n",
    "        c=tiempos, cmap=\"autumn\", vmin=0.0, vmax=0.72 )\n",
    "        principios=scatter(xxpos[1],yypos[1], s=gordura*1.5,\n",
    "        edgecolors=\"black\", \n",
    "        color=\"r\", marker=\"s\", label=\"Inicio\" )\n",
    "        finales=scatter(xxpos[end],yypos[end], s=gordura*1.5, edgecolors=\"black\", \n",
    "        color=\"gold\", marker=\"D\", label=\"Final\" )\n",
    "        # annotate(round(tiempos[1],4),  (xxpos[1], yypos[1]), fontsize=7, color=\"black\")\n",
    "        # annotate(round(tiempos[end],4), (xxpos[end], yypos[end]), fontsize=7, color=\"green\")\n",
    "\n",
    "    end\n",
    "end\n",
    "\n",
    "#legend(loc=\"upper left\")\n",
    "#colorbar(colores, fraction=0.046)\n",
    "\n",
    "#savefig(\"TrayectoriasPositivasPrincipioyFinal-01.svg\", dpi=90)"
   ]
  },
  {
   "cell_type": "code",
   "execution_count": null,
   "metadata": {
    "collapsed": false
   },
   "outputs": [],
   "source": [
    "figure(figsize=(9,8))\n",
    "#axis(\"equal\")\n",
    "xlim(0,64)\n",
    "ylim(0,64)\n",
    "bolitasrojas=0\n",
    "bolitasazules=0\n",
    "\n",
    "tolerancia=20.0\n",
    "minlong=55\n",
    "\n",
    "for p in CatenarioPositivo\n",
    "    gordura=abs(p[:3])\n",
    "    longus,falsus=size(p)\n",
    "    if mean(gordura)>tolerancia && (longus>minlong)\n",
    "        #Si son chiquitos no nos interesan.\n",
    "        xxpos=p[:,1]\n",
    "        yypos=p[:,2]    \n",
    "        tiempos=p[:,4]/7022    \n",
    "        plot(xxpos, yypos, marker=\"o\", markersize=1, color=\"r\")\n",
    "        bolitasrojas=scatter(xxpos,yypos, s=gordura, \n",
    "        edgecolors=\"none\", alpha=0.4, c=tiempos, cmap=\"autumn\", vmin=0, vmax=0.72 )\n",
    "       # annotate(round(tiempos[1],4),  (xxpos[1], yypos[1]), fontsize=7, color=\"black\")\n",
    "        # annotate(round(tiempos[end],4), (xxpos[end], yypos[end]), fontsize=7, color=\"green\")\n",
    "\n",
    "    end\n",
    "end\n",
    "\n",
    "\n",
    "\n",
    "\n",
    "for p in CatenarioNegativo\n",
    "    gordura=abs(p[:3])\n",
    "    longus,falsus=size(p)\n",
    "    if mean(gordura)>tolerancia  && (longus>minlong)\n",
    "        #Si son chiquitos no nos interesan.\n",
    "        xxpos=p[:,1]\n",
    "        yypos=p[:,2]    \n",
    "        tiempos=p[:,4]/7022    \n",
    "        plot(xxpos, yypos, marker=\"o\", markersize=1, color=\"b\")\n",
    "        bolitasazules=scatter(xxpos,yypos, s=gordura,\n",
    "        edgecolors=\"none\", alpha=0.4, c=tiempos, cmap=\"winter\",\n",
    "        vmin=0,vmax=0.72)\n",
    "        #annotate(round(tiempos[1]/7022,4),  (xxpos[1], yypos[1]), fontsize=7, color=\"black\")\n",
    "        #annotate(round(tiempos[end]/7022,4), (xxpos[end], yypos[end]), fontsize=7, color=\"green\")\n",
    "\n",
    "    end\n",
    "end\n",
    "\n",
    "colorbar(bolitasrojas, fraction=0.046)\n",
    "colorbar(bolitasazules, fraction=0.052, ticks=[])\n",
    "\n",
    "#savefig(\"TrayectoriasLimpiasSinLabelColorMap-20-01.png\", dpi=90)"
   ]
  },
  {
   "cell_type": "code",
   "execution_count": null,
   "metadata": {
    "collapsed": false
   },
   "outputs": [],
   "source": [
    "ImagenCSD=readdlm(\"GarbageCollector/CentrosDeMasaParaPoster/CSDForLineArtAbove-550.dat\")"
   ]
  },
  {
   "cell_type": "code",
   "execution_count": null,
   "metadata": {
    "collapsed": false
   },
   "outputs": [],
   "source": [
    "ion()\n",
    "\n",
    "figure(figsize=(6,6))\n",
    "#axis(\"equal\")\n",
    "tick_params(labelbottom=\"off\", labelleft=\"off\")\n",
    "xlim(0,64.5)\n",
    "ylim(0,64.5)\n",
    "bolitasrojas=0\n",
    "bolitasazules=0\n",
    "tolerancia=15\n",
    "marcagor=20\n",
    "muevemin=0.001\n",
    "tight_layout()\n",
    "\n",
    "guacafondo=imshow(ImagenCSD, cmap=\"bwr\", interpolation=\"spline16\", origin=\"lower\", vmin=-50, vmax=50)\n",
    "\n",
    "for p in CatenarioPositivo\n",
    "    gordura=abs(float32(p[:,3]))\n",
    "    desviax=std(float32(p[:,1]))\n",
    "    desviay=std(float32(p[:,2]))\n",
    "    if mean(gordura)>tolerancia && (desviax>muevemin || desviay>muevemin) \n",
    "        #Si son chiquitos no nos interesan.\n",
    "        xxpos=p[:,1]\n",
    "        yypos=p[:,2]    \n",
    "        tiempos=p[:,4]/7022    \n",
    "        plot(xxpos, yypos, marker=\"o\", markersize=1, color=\"r\")\n",
    "        #bolitasrojas=scatter(xxpos,yypos, s=gordura, \n",
    "        #edgecolors=\"none\", color=\"r\" )\n",
    "        inicios=scatter(xxpos[1],yypos[1], s=marcagor, edgecolors=\"black\", \n",
    "        linewidth=1,\n",
    "        facecolor=\"red\", marker=\"o\" )\n",
    "        finales=scatter(xxpos[end],yypos[end], s=marcagor, edgecolors=\"black\", \n",
    "        linewidth=1,facecolor=\"red\", marker=\"^\", label=\"Final\" )\n",
    "      #  annotate(round(tiempos[1]*1000,1),  (xxpos[1], yypos[1]), fontsize=7, color=\"black\")\n",
    "       # annotate(round(tiempos[end]*1000,1), (xxpos[end], yypos[end]), fontsize=7, color=\"green\")\n",
    "\n",
    "    end\n",
    "end\n",
    "\n",
    "\n",
    "\n",
    "\n",
    "for p in CatenarioNegativo\n",
    "    gordura=abs(float32(p[:,3]))\n",
    "    desviax=std(float32(p[:,1]))\n",
    "    desviay=std(float32(p[:,2]))\n",
    "    if mean(gordura)>tolerancia && (desviax>muevemin || desviay > muevemin)\n",
    "        #Si son chiquitos no nos interesan.\n",
    "        xxpos=p[:,1]\n",
    "        yypos=p[:,2]    \n",
    "        tiempos=p[:,4]/7022    \n",
    "        plot(xxpos, yypos, marker=\"o\", markersize=1, color=\"b\")\n",
    "        #bolitasazules=scatter(xxpos,yypos, s=gordura,\n",
    "        #edgecolors=\"none\", color=\"b\")\n",
    "        inicios=scatter(xxpos[1],yypos[1], s=marcagor, edgecolors=\"black\", \n",
    "        linewidth=1,\n",
    "        facecolor=\"blue\", alpha=0.7, marker=\"o\", label=\"Final\" )\n",
    "        finales=scatter(xxpos[end],yypos[end], s=marcagor, edgecolors=\"black\", \n",
    "        linewidth=1,\n",
    "        facecolor=\"blue\", marker=\"^\", label=\"Final\" )\n",
    "      #  annotate(round(tiempos[1],4),  (xxpos[1], yypos[1]), fontsize=7, color=\"black\")\n",
    "      #  annotate(round(tiempos[end],4), (xxpos[end], yypos[end]), fontsize=7, color=\"green\")\n",
    "\n",
    "    end\n",
    "end\n",
    "\n",
    "#colorbar(bolitasrojas, fraction=0.046)\n",
    "#colorbar(bolitasazules, fraction=0.052, ticks=[])\n",
    "\n",
    "#savefig(\"TrayectoriasPhiladelfiaColorSpace-01.svg\", dpi=90)"
   ]
  },
  {
   "cell_type": "code",
   "execution_count": null,
   "metadata": {
    "collapsed": false
   },
   "outputs": [],
   "source": [
    "#una figura por cada trayectoria, si no, no vamos a ver ni maiz paloma\n",
    "tolerancia=25.0\n",
    "cuenta=0\n",
    "ioff()\n",
    "\n",
    "for p in CatenarioPositivo\n",
    "    #Si no pasan de la tolerancia, no nos interesa\n",
    "    gordura=abs(float64(p[:,3]))\n",
    "    if mean(gordura)>tolerancia\n",
    "    \n",
    "        cuenta+=1\n",
    "        figurin=figure(figsize=(6,6))\n",
    "        axis(\"equal\")\n",
    "        xlim(0,64.5)\n",
    "        ylim(0,64.5)\n",
    "        bolitasrojas=None\n",
    "        bolitasazules=None\n",
    "    \n",
    "        tight_layout()\n",
    "    \n",
    " \n",
    "        #Si son chiquitos no nos interesan.\n",
    "        xxpos=p[:,1]\n",
    "        yypos=p[:,2]    \n",
    "        tiempos=p[:,4]/7022    \n",
    "        plot(xxpos, yypos, marker=\"o\", markersize=1, color=\"r\")\n",
    "        #bolitasrojas=scatter(xxpos,yypos, s=gordura, \n",
    "        #edgecolors=\"none\", color=\"r\" )\n",
    "        inicios=scatter(xxpos[1],yypos[1], s=gordura*0.5, edgecolors=\"black\", \n",
    "        color=\"red\", marker=\"s\", label=\"Final\" )\n",
    "        finales=scatter(xxpos[end],yypos[end], s=gordura*0.5, edgecolors=\"black\", \n",
    "        color=\"gold\", marker=\"D\", label=\"Final\" )\n",
    "       # annotate(round(tiempos[1],4),  (xxpos[1], yypos[1]), fontsize=7, color=\"black\")\n",
    "        # annotate(round(tiempos[end],4), (xxpos[end], yypos[end]), fontsize=7, color=\"green\")\n",
    "        savefig(\"TrayectoriaFuente_$cuenta.svg\", dpi=90)\n",
    "        close()\n",
    "   \n",
    "    end\n",
    "end\n",
    "\n",
    "\n",
    "\n",
    "#=\n",
    "for p in CatenarioNegativo\n",
    "    gordura=abs(p[:3])\n",
    "    if mean(gordura)>tolerancia &&des\n",
    "        #Si son chiquitos no nos interesan.\n",
    "        xxpos=p[:,1]\n",
    "        yypos=p[:,2]    \n",
    "        tiempos=p[:,4]/7022    \n",
    "        plot(xxpos, yypos, marker=\"o\", markersize=1, color=\"b\")\n",
    "        #bolitasazules=scatter(xxpos,yypos, s=gordura,\n",
    "        #edgecolors=\"none\", color=\"b\")\n",
    "         inicios=scatter(xxpos[1],yypos[1], s=gordura*0.5, edgecolors=\"black\", \n",
    "        color=\"blue\", alpha=0.7, marker=\"s\", label=\"Final\" )\n",
    "        finales=scatter(xxpos[end],yypos[end], s=gordura*0.5, edgecolors=\"black\", \n",
    "        color=\"green\", marker=\"D\", label=\"Final\" )\n",
    "        #annotate(round(tiempos[1],4),  (xxpos[1], yypos[1]), fontsize=7, color=\"black\")\n",
    "        #annotate(round(tiempos[end],4), (xxpos[end], yypos[end]), fontsize=7, color=\"green\")\n",
    "\n",
    "    end\n",
    "end\n",
    "=#\n",
    "#colorbar(bolitasrojas, fraction=0.046)\n",
    "#colorbar(bolitasazules, fraction=0.052, ticks=[])\n",
    "\n",
    "#savefig(\"TrayectoriasInicioFinal-20-01.svg\", dpi=90)"
   ]
  },
  {
   "cell_type": "code",
   "execution_count": null,
   "metadata": {
    "collapsed": true
   },
   "outputs": [],
   "source": [
    "example=readdlm(\"CentrosMasa/TrayectoriaPositiva_107.dat\")\n",
    "xxpos=example[:,1]\n",
    "yypos=example[:,2]\n",
    "gordura=example[:,3]\n",
    "etiquetas=example[:,4];"
   ]
  },
  {
   "cell_type": "code",
   "execution_count": null,
   "metadata": {
    "collapsed": false
   },
   "outputs": [],
   "source": [
    "function quitalospromediosbajos(Datos::Array, tolerancia=1.0)\n",
    "    #la masa es el tercer argumento\n",
    "end"
   ]
  },
  {
   "cell_type": "code",
   "execution_count": null,
   "metadata": {
    "collapsed": false
   },
   "outputs": [],
   "source": [
    "example[:2]"
   ]
  },
  {
   "cell_type": "code",
   "execution_count": null,
   "metadata": {
    "collapsed": true
   },
   "outputs": [],
   "source": []
  }
 ],
 "metadata": {
  "kernelspec": {
   "display_name": "Julia 0.4.2-pre",
   "language": "julia",
   "name": "julia-0.4"
  },
  "language_info": {
   "file_extension": ".jl",
   "mimetype": "application/julia",
   "name": "julia",
   "version": "0.4.2"
  }
 },
 "nbformat": 4,
 "nbformat_minor": 0
}
