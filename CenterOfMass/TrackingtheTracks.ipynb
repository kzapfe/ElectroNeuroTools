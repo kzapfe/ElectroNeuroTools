{
 "cells": [
  {
   "cell_type": "code",
   "execution_count": null,
   "metadata": {
    "collapsed": true
   },
   "outputs": [],
   "source": [
    "Pensemos si el \"breadth first search\" nos da los mejores resultados para encontrar las trayectorias disjuntas de los Centros de Masa. Ejemplo 01, chequemos si hay puntos consecutivos entre estos dos."
   ]
  },
  {
   "cell_type": "code",
   "execution_count": 6,
   "metadata": {
    "collapsed": false
   },
   "outputs": [],
   "source": [
    "CentrosEx1=readdlm(\"CentrosMasa/CMPosLapla-1999.dat\")\n",
    "CentrosEx2=readdlm(\"CentrosMasa/CMPosLapla-2000.dat\");"
   ]
  },
  {
   "cell_type": "code",
   "execution_count": 7,
   "metadata": {
    "collapsed": false
   },
   "outputs": [
    {
     "data": {
      "text/plain": [
       "(66,3)"
      ]
     },
     "execution_count": 7,
     "metadata": {},
     "output_type": "execute_result"
    }
   ],
   "source": [
    "size(CentrosEx2)"
   ]
  },
  {
   "cell_type": "code",
   "execution_count": 8,
   "metadata": {
    "collapsed": false
   },
   "outputs": [
    {
     "data": {
      "text/plain": [
       "1x3 Array{Float64,2}:\n",
       " 43.6876  38.7519  110.768"
      ]
     },
     "execution_count": 8,
     "metadata": {},
     "output_type": "execute_result"
    }
   ],
   "source": [
    "CentrosEx1[1,:]"
   ]
  },
  {
   "cell_type": "code",
   "execution_count": 9,
   "metadata": {
    "collapsed": false
   },
   "outputs": [
    {
     "data": {
      "text/plain": [
       "dist2D (generic function with 1 method)"
      ]
     },
     "execution_count": 9,
     "metadata": {},
     "output_type": "execute_result"
    }
   ],
   "source": [
    "function dist2D(x::Array,y::Array)\n",
    "    result=sqrt((x[1]-y[1])^2+(x[2]-y[2])^2)\n",
    "    return result\n",
    "end"
   ]
  },
  {
   "cell_type": "code",
   "execution_count": 10,
   "metadata": {
    "collapsed": false
   },
   "outputs": [
    {
     "data": {
      "text/plain": [
       "22.135943621178658"
      ]
     },
     "execution_count": 10,
     "metadata": {},
     "output_type": "execute_result"
    }
   ],
   "source": [
    "dist2D(CentrosEx1[34,:],CentrosEx2[11,:])"
   ]
  },
  {
   "cell_type": "code",
   "execution_count": 11,
   "metadata": {
    "collapsed": false
   },
   "outputs": [],
   "source": [
    "TodasLasDist=Array(Float64,(68,66));"
   ]
  },
  {
   "cell_type": "code",
   "execution_count": 12,
   "metadata": {
    "collapsed": false
   },
   "outputs": [],
   "source": [
    "for j=1:68,k=1:66\n",
    "    aux=dist2D(CentrosEx1[j,:],CentrosEx2[k,:])\n",
    "    aux>0.5 ? TodasLasDist[j,k]=100 : TodasLasDist[j,k]=0\n",
    "end"
   ]
  },
  {
   "cell_type": "code",
   "execution_count": 14,
   "metadata": {
    "collapsed": false
   },
   "outputs": [],
   "source": [
    "using PyPlot"
   ]
  },
  {
   "cell_type": "code",
   "execution_count": 15,
   "metadata": {
    "collapsed": false
   },
   "outputs": [
    {
     "data": {
      "image/png": "[encoded data removed]",
      "text/plain": [
       "Figure(PyObject <matplotlib.figure.Figure object at 0x7f48b77a2da0>)"
      ]
     },
     "metadata": {},
     "output_type": "display_data"
    },
    {
     "data": {
      "text/plain": [
       "PyObject <matplotlib.colorbar.Colorbar object at 0x7f48e2d21d68>"
      ]
     },
     "execution_count": 15,
     "metadata": {},
     "output_type": "execute_result"
    }
   ],
   "source": [
    "imagen=imshow(TodasLasDist, interpolation=\"none\", cmap=\"gist_heat\")\n",
    "cb=colorbar(imagen,fraction=0.046)"
   ]
  },
  {
   "cell_type": "code",
   "execution_count": 26,
   "metadata": {
    "collapsed": false
   },
   "outputs": [
    {
     "data": {
      "text/plain": [
       "0-element Array{Array{T,N},1}"
      ]
     },
     "execution_count": 26,
     "metadata": {},
     "output_type": "execute_result"
    }
   ],
   "source": [
    "UnMegaArray=Array[] \n",
    "#=El borrico que toco la flauta por casualidad:\n",
    "Esto hace un Arrey de Arrays vacio de dimensión uno...\n",
    "=#"
   ]
  },
  {
   "cell_type": "code",
   "execution_count": 27,
   "metadata": {
    "collapsed": false
   },
   "outputs": [
    {
     "name": "stdout",
     "output_type": "stream",
     "text": [
      "elapsed time: 1.077805322 seconds (390028928 bytes allocated, 24.52% gc time)\n"
     ]
    }
   ],
   "source": [
    "#tomemos el tiempo\n",
    "@time for t=1:7000\n",
    "    CentrosMasa=readdlm(\"CentrosMasa/CMPosLapla-$t.dat\")\n",
    "    push!(UnMegaArray,CentrosMasa)\n",
    "end"
   ]
  },
  {
   "cell_type": "code",
   "execution_count": 29,
   "metadata": {
    "collapsed": false
   },
   "outputs": [],
   "source": [
    "CopiaMegaArray=deepcopy(UnMegaArray);"
   ]
  },
  {
   "cell_type": "code",
   "execution_count": 34,
   "metadata": {
    "collapsed": false
   },
   "outputs": [
    {
     "data": {
      "text/plain": [
       "10"
      ]
     },
     "execution_count": 34,
     "metadata": {},
     "output_type": "execute_result"
    }
   ],
   "source": [
    "NumFrames=length(UnMegaArray)\n",
    "FakeNumFrames=10"
   ]
  },
  {
   "cell_type": "markdown",
   "metadata": {},
   "source": [
    "Tendremos que hacer un Forest Cutting SEARCH!!!\n"
   ]
  },
  {
   "cell_type": "code",
   "execution_count": 89,
   "metadata": {
    "collapsed": false
   },
   "outputs": [
    {
     "data": {
      "text/plain": [
       "0-element Array{Array{T,N},1}"
      ]
     },
     "execution_count": 89,
     "metadata": {},
     "output_type": "execute_result"
    }
   ],
   "source": [
    "toleradist=sqrt(2)/2\n",
    "t=1\n",
    "j=1\n",
    "TodasCadenas=Set{Array{Float64,1}}()\n",
    "Cadena=Array[]"
   ]
  },
  {
   "cell_type": "code",
   "execution_count": 90,
   "metadata": {
    "collapsed": false
   },
   "outputs": [
    {
     "ename": "LoadError",
     "evalue": "mismatch in dimension 2\nwhile loading In[90], in expression starting on line 1",
     "output_type": "error",
     "traceback": [
      "mismatch in dimension 2\nwhile loading In[90], in expression starting on line 1",
      "",
      " in cat at abstractarray.jl:631",
      " in vcat at abstractarray.jl:670",
      " in anonymous at no file:12"
     ]
    }
   ],
   "source": [
    "while t <= FakeNumFrames\n",
    "    \n",
    "    @label arrrrh\n",
    "    largura,nada= size(CopiaMegaArray[t])\n",
    "    \n",
    "    while j <=largura\n",
    "        \n",
    "        if CopiaMegaArray[t][j,3] > 0.01\n",
    "            #println(CopiaMegaArray[t])\n",
    "            #comenzamos la cadena\n",
    "            \n",
    "            Eslabon=[copy(CopiaMegaArray[t][j,:]), t]\n",
    "            push!(Cadena, Eslabon)\n",
    "            mindist=66\n",
    "            kasterisco=1\n",
    "            otralargura, nada= size(CopiaMegaArray[t+1])\n",
    "            huboalgo=false\n",
    "            \n",
    "            for k=1:otralargura\n",
    "                #=\n",
    "                EslabonTentativo=CopiaMegaArray[t+1][k]\n",
    "                if(EslabonTentativo[3]>0.01)\n",
    "                    dist=dist2D(Eslabon,EslabonTentativo)                  \n",
    "                    if dist<mindist\n",
    "                        kasterisko=k\n",
    "                        huboalgo=true\n",
    "                    end\n",
    "                end\n",
    "            =#\n",
    "            end    \n",
    "            \n",
    "            if huboalgo && mindist<toleradist\n",
    "               # Eslabon=[copy(CopiaMegaArray[t+1][kasterisco,:]) t+1]\n",
    "                t+=1\n",
    "                j=kasterisco\n",
    "                @goto arrrrh\n",
    "            end\n",
    "            \n",
    "            \n",
    "        end #cierra sobre el if de  la masa \n",
    "                \n",
    "        j+=1\n",
    "                    \n",
    "    end \n",
    "    t+=10\n",
    "end #cierra sobre t"
   ]
  },
  {
   "cell_type": "code",
   "execution_count": 91,
   "metadata": {
    "collapsed": false
   },
   "outputs": [
    {
     "data": {
      "text/plain": [
       "0-element Array{Array{T,N},1}"
      ]
     },
     "execution_count": 91,
     "metadata": {},
     "output_type": "execute_result"
    }
   ],
   "source": [
    "Cadena"
   ]
  },
  {
   "cell_type": "code",
   "execution_count": 54,
   "metadata": {
    "collapsed": false
   },
   "outputs": [
    {
     "ename": "LoadError",
     "evalue": "Eslabon not defined\nwhile loading In[54], in expression starting on line 1",
     "output_type": "error",
     "traceback": [
      "Eslabon not defined\nwhile loading In[54], in expression starting on line 1",
      ""
     ]
    }
   ],
   "source": [
    "Eslabon"
   ]
  },
  {
   "cell_type": "code",
   "execution_count": null,
   "metadata": {
    "collapsed": true
   },
   "outputs": [],
   "source": []
  }
 ],
 "metadata": {
  "kernelspec": {
   "display_name": "Julia 0.3.7-pre",
   "language": "julia",
   "name": "julia 0.3"
  },
  "language_info": {
   "name": "julia",
   "version": "0.3.11"
  }
 },
 "nbformat": 4,
 "nbformat_minor": 0
}
