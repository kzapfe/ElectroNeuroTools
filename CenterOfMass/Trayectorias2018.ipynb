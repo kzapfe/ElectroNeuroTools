{
 "cells": [
  {
   "cell_type": "code",
   "execution_count": 1,
   "metadata": {
    "collapsed": true
   },
   "outputs": [],
   "source": [
    "using JLD\n",
    "using PyPlot\n",
    "using Statistics, StatsBase #mean and std"
   ]
  },
  {
   "cell_type": "code",
   "execution_count": 2,
   "metadata": {},
   "outputs": [
    {
     "data": {
      "text/plain": [
       "2000"
      ]
     },
     "execution_count": 2,
     "metadata": {},
     "output_type": "execute_result"
    }
   ],
   "source": [
    "nombrecm=\"/home/karel/BRWFiles/Facilitada/Completo_19115s1cut_single_event_prepro-CM.jld\"\n",
    "archivo=load(nombrecm)\n",
    "DatosCMP=archivo[\"CMP\"]\n",
    "DatosCMN=archivo[\"CMN\"];\n",
    "evocada=false\n",
    "nmax=length(DatosCMP) #cuantos cuadros hay"
   ]
  },
  {
   "cell_type": "code",
   "execution_count": 3,
   "metadata": {},
   "outputs": [
    {
     "data": {
      "text/plain": [
       "83×3 Array{Float64,2}:\n",
       " 56.6458    7.36196   17.6792\n",
       " 51.1547    2.95859   35.0012\n",
       " 31.8368   23.8453    32.9296\n",
       " 63.0976   56.9914    38.6804\n",
       " 56.6326   50.6631    76.7433\n",
       "  5.40743  34.117     49.3687\n",
       " 26.3859   29.8833    40.1037\n",
       " 54.5827   27.6771    41.2686\n",
       " 42.5711    9.18131   47.2493\n",
       " 38.1718   22.2212    21.6175\n",
       " 53.9741   38.7809    15.9524\n",
       "  3.78011  58.7839    15.5167\n",
       " 25.2995   56.1111   216.564 \n",
       "  ⋮                          \n",
       " 18.3771   58.4491    33.3549\n",
       " 45.5718   18.3869    58.2111\n",
       "  9.9672   40.1501    39.4087\n",
       " 38.8371   32.2749    36.4274\n",
       " 40.2815   18.759     22.4502\n",
       " 39.5743   63.1783   399.349 \n",
       "  3.87119  48.7651    55.9999\n",
       " 24.3479   24.1827    53.0432\n",
       "  2.412    10.5233    33.0711\n",
       " 49.1141   50.6049    37.0693\n",
       " 63.6691   49.7238    20.0149\n",
       " 50.5328   34.7027    36.9648"
      ]
     },
     "execution_count": 3,
     "metadata": {},
     "output_type": "execute_result"
    }
   ],
   "source": [
    "DatosCMP[1337]"
   ]
  },
  {
   "cell_type": "code",
   "execution_count": 4,
   "metadata": {},
   "outputs": [
    {
     "data": {
      "text/plain": [
       "91×3 Array{Float64,2}:\n",
       " 16.9233   30.6356    49.8932\n",
       " 14.2005   62.0       27.4387\n",
       " 44.9154   15.8225    24.0242\n",
       " 19.306     5.74008   26.0908\n",
       " 41.3845   12.6281    55.6523\n",
       " 37.5174   63.2014   233.159 \n",
       " 11.2154   22.9842    30.8148\n",
       " 12.3875   50.3651    54.1826\n",
       " 33.8663    3.97144   95.0296\n",
       " 20.9743   62.541     21.9201\n",
       " 10.4353   12.408     52.9457\n",
       " 10.7588   53.2344    31.5709\n",
       " 31.2726   47.6283    74.2546\n",
       "  ⋮                          \n",
       " 61.9817   19.1807    19.7678\n",
       "  9.52775  61.5209    29.2413\n",
       " 60.756    28.7404    23.3925\n",
       " 19.3017   13.7233    61.8143\n",
       " 19.3663   19.0293    55.6596\n",
       " 13.801     4.38367  129.27  \n",
       " 31.7663   28.0747    26.6813\n",
       "  3.64829  25.5845    24.4496\n",
       " 22.0748   47.7652    79.9095\n",
       " 35.4152   16.7306    30.4561\n",
       " 16.238    45.361     54.1227\n",
       " 41.4803   53.0049   392.106 "
      ]
     },
     "execution_count": 4,
     "metadata": {},
     "output_type": "execute_result"
    }
   ],
   "source": [
    "DatosCMP[1341]"
   ]
  },
  {
   "cell_type": "code",
   "execution_count": 5,
   "metadata": {},
   "outputs": [
    {
     "data": {
      "text/plain": [
       "leunjlddeCM (generic function with 3 methods)"
      ]
     },
     "execution_count": 5,
     "metadata": {},
     "output_type": "execute_result"
    }
   ],
   "source": [
    "function leeunmegaarrayarchivos(NomineGeneralis::AbstractString, desde=35, hasta=501)\n",
    "    LeMegaArray=Array[]\n",
    "    for t=desde:hasta\n",
    "      #  println(\"$NomineGeneralis-$t.dat\")\n",
    "        CMx=try \n",
    "            readdlm(\"$NomineGeneralis-$t.dat\")\n",
    "        catch\n",
    "            []\n",
    "        end\n",
    "        push!(LeMegaArray, CMx)\n",
    "    end\n",
    "    return LeMegaArray\n",
    "    end\n",
    "\n",
    "\n",
    "function leunjlddeCM(datos, desde=1, hasta=300)\n",
    "    LeMegaArray=Array[]\n",
    "    for t=desde:hasta\n",
    "      #  println(\"$NomineGeneralis-$t.dat\")\n",
    "        CMx=try \n",
    "        readdlm(\"$NomineGeneralis-$t.dat\")\n",
    "        catch\n",
    "            []\n",
    "        end\n",
    "        push!(LeMegaArray, CMx)\n",
    "    end\n",
    "    return LeMegaArray\n",
    "end\n",
    "\n"
   ]
  },
  {
   "cell_type": "markdown",
   "metadata": {},
   "source": [
    "Para Evocados, hay un par de variables temporales para considerar:\n",
    "- retrazo: el tiempo en cuadros que hubo desde el comienzo del registro hasta el estimulo\n",
    "- latencia: el tiempo en cuadros que hubo desde el estimulo hasta que paso algo interesante\n"
   ]
  },
  {
   "cell_type": "code",
   "execution_count": 6,
   "metadata": {},
   "outputs": [
    {
     "data": {
      "text/plain": [
       "2000"
      ]
     },
     "execution_count": 6,
     "metadata": {},
     "output_type": "execute_result"
    }
   ],
   "source": [
    "freq=7.022 # la frecuencia de muestreo en kHz de los experimentos viejos\n",
    "\n",
    "if evocada\n",
    "    retms=5.0 #retrazo en milisec\n",
    "    latms=4.0 #latencia en milisec\n",
    "    retrazo=round(Int, retms * freq)\n",
    "    lat=round(Int, latms * freq)\n",
    "    desde=retrazo+lat\n",
    "    hasta=300\n",
    "else\n",
    "    retms=0\n",
    "    latms=0\n",
    "    retrazo=0\n",
    "    lat=0\n",
    "    desde=1\n",
    "    hasta=nmax\n",
    "end"
   ]
  },
  {
   "cell_type": "code",
   "execution_count": 7,
   "metadata": {},
   "outputs": [
    {
     "data": {
      "text/plain": [
       "difgordis (generic function with 1 method)"
      ]
     },
     "execution_count": 7,
     "metadata": {},
     "output_type": "execute_result"
    }
   ],
   "source": [
    "function dist2D(x,y)\n",
    "    result=sqrt((x[1]-y[1])^2+(x[2]-y[2])^2)\n",
    "    return result\n",
    "end\n",
    "\n",
    "function difgordis(x,y)\n",
    "    result=abs(x-y)/max(abs(x),abs(y))\n",
    "    return result\n",
    "end"
   ]
  },
  {
   "cell_type": "code",
   "execution_count": 8,
   "metadata": {},
   "outputs": [
    {
     "data": {
      "text/plain": [
       "0.27586206896551724"
      ]
     },
     "execution_count": 8,
     "metadata": {},
     "output_type": "execute_result"
    }
   ],
   "source": [
    "difgordis(0.21,0.29)"
   ]
  },
  {
   "cell_type": "code",
   "execution_count": 9,
   "metadata": {},
   "outputs": [
    {
     "data": {
      "text/plain": [
       "encuentraTrayectorias (generic function with 5 methods)"
      ]
     },
     "execution_count": 9,
     "metadata": {},
     "output_type": "execute_result"
    }
   ],
   "source": [
    "function encuentraTrayectorias(Datos, mincadena=20, mingordo=2.0, desde=1,hasta=20)\n",
    "\n",
    "toleradist=16.0*sqrt(2)\n",
    "#toldifgordis=0.33\n",
    "tau=1\n",
    "t=1\n",
    "j=1\n",
    "\n",
    "Catenario=Dict{Integer, Array{Any}}()\n",
    "Cadena=[0 0 0 0]\n",
    "tnum=1\n",
    "CopiaMegaArray=deepcopy(Datos);\n",
    "NumFrames=length(Datos)\n",
    "FakeNumFrames=NumFrames\n",
    "\n",
    "\n",
    "\n",
    "while t <= FakeNumFrames-1 \n",
    "    \n",
    "    tau=t\n",
    "    \n",
    "    @label arrrrh\n",
    " \n",
    "        if(CopiaMegaArray[tau]==[])\n",
    "            \n",
    "            jmax,nada=0,0\n",
    "        else\n",
    "          \n",
    "     jmax,nada= size(CopiaMegaArray[tau])\n",
    "        end\n",
    "    \n",
    "        \n",
    "    while j <=jmax && tau<FakeNumFrames\n",
    "            \n",
    "            if abs(CopiaMegaArray[tau][j,3]) > mingordo\n",
    "                \n",
    "            Eslabon=[transpose(CopiaMegaArray[tau][j,:]) tau]\n",
    "            Cadena=vcat(Cadena, Eslabon)\n",
    "         #   println(\"Papa t: \", t, \"  tau: \", tau, \" y  j: \",j )\n",
    "            mindist=2\n",
    "            kasterisco=1\n",
    "                \n",
    "                if CopiaMegaArray[tau+1]==[]\n",
    "                    kmax,nada=0,0\n",
    "                else\n",
    "                kmax, nada= size(CopiaMegaArray[tau+1])\n",
    "                end\n",
    "                huboalgo=false\n",
    "          \n",
    "        #    kmax=5\n",
    "            \n",
    "            for k=1:kmax\n",
    "                \n",
    "                EslabonTentativo=CopiaMegaArray[tau+1][k,:]\n",
    "            #    println(EslabonTentativo)\n",
    "                    if abs(EslabonTentativo[3])>mingordo\n",
    "                    dist=dist2D(Eslabon,EslabonTentativo)                  \n",
    "                    if dist<mindist\n",
    "                        mindist=dist\n",
    "                        kasterisco=k\n",
    "                        \n",
    "                       # println(kasterisco, \"=k*\", k, \"=k\")\n",
    "                        huboalgo=true\n",
    "                    end\n",
    "                end\n",
    "            \n",
    "            end    \n",
    "            \n",
    "            if huboalgo && mindist<toleradist\n",
    "                #quitamos el anterior\n",
    "                CopiaMegaArray[tau][j,3]=0.0000 \n",
    "               # println(mindist,\" \", t, \" \", tau+1 ,\" \", kasterisco )\n",
    "                \n",
    "                if tau+1<FakeNumFrames\n",
    "                    tau+=1\n",
    "                    j=kasterisco\n",
    "      #              println(\"Pepe t: \", t, \"  tau: \", tau, \" y  j: \",j )\n",
    "                    @goto arrrrh\n",
    "                \n",
    "                else\n",
    "                    \n",
    "                    Eslabon=[transpose(CopiaMegaArray[tau+1][kasterisco,:]) tau+1]\n",
    "                    Cadena=vcat(Cadena, Eslabon)\n",
    "      #              println(\"Pipi t: \", t, \"  t: \", t, \" y  j: \",j )\n",
    "                    j+=1\n",
    "                    tau=t\n",
    "                    \n",
    "                    if size(Cadena)[1]>mincadena\n",
    "                        #push!(Catenario, Cadena[2:end,:])\n",
    "                        Catenario[tnum]=Cadena[2:end,:]\n",
    "                        tnum+=1\n",
    "                    end\n",
    "                    \n",
    "                    Cadena=[0 0 0 0]\n",
    "                    @goto arrrrh\n",
    "                end\n",
    "                                \n",
    "            else\n",
    "                \n",
    "                if size(Cadena)[1]>mincadena\n",
    "                    # veamos si funciona  mejor como dict \n",
    "                        #push!(Catenario, Cadena[2:end,:])\n",
    "                        Catenario[tnum]=Cadena[2:end,:]\n",
    "                        tnum+=1\n",
    "                end\n",
    "                Cadena=[0 0 0 0]\n",
    "                j+=1\n",
    "                tau=t\n",
    "                @goto arrrrh\n",
    "            end\n",
    "                       \n",
    "        end #cierra sobre el if de  la masa \n",
    "                \n",
    "        j+=1                    \n",
    "        tau=t\n",
    "    \n",
    "    end\n",
    "    @label urrr\n",
    "      \n",
    "    j=1\n",
    "    t+=1\n",
    "    tau=t\n",
    "    Cadena=[0 0 0 0]\n",
    "        end \n",
    "    \n",
    "    return Catenario\n",
    "end"
   ]
  },
  {
   "cell_type": "code",
   "execution_count": 10,
   "metadata": {},
   "outputs": [
    {
     "data": {
      "text/plain": [
       "(1, 2000)"
      ]
     },
     "execution_count": 10,
     "metadata": {},
     "output_type": "execute_result"
    }
   ],
   "source": [
    "(desde, hasta)\n"
   ]
  },
  {
   "cell_type": "code",
   "execution_count": 27,
   "metadata": {},
   "outputs": [
    {
     "data": {
      "text/plain": [
       "3"
      ]
     },
     "execution_count": 27,
     "metadata": {},
     "output_type": "execute_result"
    }
   ],
   "source": [
    "pesomin=500\n",
    "longmin=3"
   ]
  },
  {
   "cell_type": "code",
   "execution_count": 28,
   "metadata": {},
   "outputs": [
    {
     "name": "stdout",
     "output_type": "stream",
     "text": [
      "  0.183878 seconds (1.16 M allocations: 40.214 MiB, 7.81% gc time)\n"
     ]
    }
   ],
   "source": [
    "#Recuerda el segundo argumento es la longitud mínima de la cadena\n",
    "@time CatenarioPositivo=encuentraTrayectorias(DatosCMP,longmin,pesomin,desde,hasta);\n"
   ]
  },
  {
   "cell_type": "code",
   "execution_count": 29,
   "metadata": {
    "collapsed": true
   },
   "outputs": [],
   "source": [
    "CatenarioNegativo=encuentraTrayectorias(DatosCMN,longmin,pesomin,desde,hasta);"
   ]
  },
  {
   "cell_type": "code",
   "execution_count": 30,
   "metadata": {},
   "outputs": [
    {
     "data": {
      "text/plain": [
       "\"longitud minima fue 3, peso minimo fue 500 \""
      ]
     },
     "execution_count": 30,
     "metadata": {},
     "output_type": "execute_result"
    }
   ],
   "source": [
    "nombreout=nombrecm[1:end-6]*\"Tray-todas.jld\"\n",
    "nota=\"longitud minima fue $longmin, peso minimo fue $pesomin \"\n",
    "#save(nombreout, \"CatenarioNegativo\", CatenarioNegativo, \"CatenarioPositivo\", CatenarioPositivo, \"nota\", nota)"
   ]
  },
  {
   "cell_type": "code",
   "execution_count": 31,
   "metadata": {},
   "outputs": [
    {
     "data": {
      "text/plain": [
       "(188, 182)"
      ]
     },
     "execution_count": 31,
     "metadata": {},
     "output_type": "execute_result"
    }
   ],
   "source": [
    "length(CatenarioPositivo), length(CatenarioNegativo)"
   ]
  },
  {
   "cell_type": "code",
   "execution_count": 32,
   "metadata": {},
   "outputs": [
    {
     "data": {
      "text/plain": [
       "Dict{Integer,Array{Any,N} where N} with 188 entries:\n",
       "  11  => Any[44.1631 59.388 750.527 577.0; 44.0373 59.5218 945.099 578.0; 43.79…\n",
       "  134 => Any[38.7553 55.5844 5967.65 1042.0; 38.3455 55.5394 6179.1 1043.0; … ;…\n",
       "  158 => Any[21.825 50.1698 507.791 1125.0; 22.1198 50.5972 576.873 1126.0; 22.…\n",
       "  160 => Any[33.6828 59.6031 3097.24 1129.0; 33.6175 59.2259 3063.63 1130.0; 34…\n",
       "  29  => Any[52.7993 15.1715 530.475 627.0; 53.838 14.2519 712.701 628.0; … ; 5…\n",
       "  131 => Any[34.5283 49.3238 1992.69 1025.0; 34.7892 48.6763 1528.84 1026.0; … …\n",
       "  173 => Any[40.4271 50.9023 1352.62 1196.0; 40.7978 51.0796 1294.41 1197.0; 40…\n",
       "  74  => Any[32.7544 56.4425 1715.28 768.0; 34.3212 57.6015 1524.2 769.0; 33.60…\n",
       "  176 => Any[32.7641 58.5676 947.94 1204.0; 32.8323 58.4183 976.206 1205.0; 32.…\n",
       "  57  => Any[39.9927 7.82734 535.41 725.0; 40.1332 7.98831 579.649 726.0; … ; 4…\n",
       "  31  => Any[57.6594 21.9314 1324.83 633.0; 57.4424 22.6384 1247.03 634.0; 57.4…\n",
       "  70  => Any[25.8907 56.5202 578.648 757.0; 26.2762 57.0206 702.835 758.0; 26.3…\n",
       "  33  => Any[61.1711 29.3851 648.749 640.0; 60.9445 29.4193 743.789 641.0; 60.8…\n",
       "  114 => Any[36.1595 58.3145 2519.38 958.0; 36.0583 58.2852 2414.24 959.0; … ; …\n",
       "  165 => Any[32.2697 58.5937 877.9 1158.0; 32.6378 58.5871 863.698 1159.0; 32.9…\n",
       "  96  => Any[34.5172 58.8454 1477.63 867.0; 33.0676 58.5085 1421.79 868.0; 33.2…\n",
       "  133 => Any[48.6556 62.9345 639.084 1039.0; 48.1928 63.009 845.295 1040.0; 48.…\n",
       "  49  => Any[34.7398 49.982 4207.27 690.0; 34.4796 49.5394 3999.0 691.0; … ; 35…\n",
       "  84  => Any[33.7068 57.904 2177.36 806.0; 33.3181 56.9629 2079.94 807.0; … ; 3…\n",
       "  117 => Any[44.8883 62.0181 879.384 964.0; 44.6931 61.9636 957.292 965.0; 44.8…\n",
       "  93  => Any[34.1223 44.8264 719.709 841.0; 34.2384 44.2948 669.723 842.0; … ; …\n",
       "  50  => Any[46.6023 12.6036 1069.96 692.0; 46.6819 12.6982 1052.38 693.0; 46.7…\n",
       "  77  => Any[37.6823 57.0427 1673.18 783.0; 37.1767 56.0312 1809.11 784.0; 36.7…\n",
       "  80  => Any[30.6066 58.6006 996.853 795.0; 30.9759 58.6427 1307.57 796.0; … ; …\n",
       "  188 => Any[29.9024 59.2143 556.755 1343.0; 30.2784 59.3576 579.911 1344.0; … …\n",
       "  ⋮   => ⋮"
      ]
     },
     "execution_count": 32,
     "metadata": {},
     "output_type": "execute_result"
    }
   ],
   "source": [
    "CatenarioPositivo"
   ]
  },
  {
   "cell_type": "code",
   "execution_count": 33,
   "metadata": {},
   "outputs": [
    {
     "data": {
      "text/plain": [
       "\"/home/karel/BRWFiles/Facilitada/Completo_19115s1cut_single_event_prepro-Tray-todas.jld\""
      ]
     },
     "execution_count": 33,
     "metadata": {},
     "output_type": "execute_result"
    }
   ],
   "source": [
    "nombreout"
   ]
  },
  {
   "cell_type": "code",
   "execution_count": 34,
   "metadata": {},
   "outputs": [
    {
     "data": {
      "text/plain": [
       "Base.ValueIterator for a Dict{Integer,Array{Any,N} where N} with 182 entries. Values:\n",
       "  Any[30.0128 45.82 -613.293 594.0; 29.7989 45.6104 -725.389 595.0; 29.8667 45.…\n",
       "  Any[32.0147 53.5725 -8023.32 1068.0; 31.8978 53.6241 -7507.77 1069.0; 31.8804…\n",
       "  Any[38.608 54.8887 -1603.39 1219.0; 37.0174 55.4568 -1558.71 1220.0; 36.1535 …\n",
       "  Any[40.1273 7.0875 -627.715 1231.0; 39.8626 6.99845 -695.965 1232.0; … ; 39.1…\n",
       "  Any[24.9162 53.4952 -1300.94 643.0; 25.1218 53.2569 -1291.49 644.0; … ; 25.48…\n",
       "  Any[32.7002 51.334 -7206.76 1061.0; 32.131 51.3908 -7635.94 1062.0; 32.1429 5…\n",
       "  Any[38.8445 55.6901 -1146.9 1317.0; 37.3881 56.0862 -1010.21 1318.0; 35.6951 …\n",
       "  Any[49.2209 58.4926 -704.083 755.0; 47.7839 58.4642 -643.972 756.0; 47.0873 5…\n",
       "  Any[39.8615 58.3735 -898.772 1330.0; 37.9801 58.4631 -792.743 1331.0; 37.933 …\n",
       "  Any[35.0871 48.097 -2673.66 708.0; 34.3749 48.155 -2037.54 709.0; … ; 38.2485…\n",
       "  Any[50.822 61.001 -1689.32 644.0; 51.375 60.5188 -1635.7 645.0; 51.7877 60.19…\n",
       "  Any[34.2012 45.8271 -1421.87 735.0; 34.6042 45.6349 -1309.05 736.0; 34.5203 4…\n",
       "  Any[52.3387 34.9675 -3285.09 647.0; 52.1993 34.1042 -3172.21 648.0; 52.5496 3…\n",
       "  Any[47.724 60.053 -1080.87 990.0; 47.166 60.0034 -1456.64 991.0; … ; 45.6327 …\n",
       "  Any[32.967 55.7318 -745.345 1259.0; 32.8397 55.9437 -766.562 1260.0; … ; 32.0…\n",
       "  Any[31.8605 59.9212 -1488.72 898.0; 31.3732 59.7617 -1994.28 899.0; … ; 29.76…\n",
       "  Any[55.7842 56.0242 -625.108 1067.0; 56.1959 56.5786 -669.969 1068.0; … ; 55.…\n",
       "  Any[35.3921 57.4606 -5469.61 683.0; 34.9548 57.3074 -6350.81 684.0; … ; 32.29…\n",
       "  Any[41.9003 51.765 -772.101 822.0; 41.5758 51.0074 -619.629 823.0; 41.9811 50…\n",
       "  Any[35.124 51.169 -4624.62 1006.0; 35.8537 50.9409 -4172.26 1007.0; … ; 35.59…\n",
       "  Any[36.1905 63.0306 -556.248 871.0; 35.9957 63.0665 -595.229 872.0; … ; 35.85…\n",
       "  Any[43.9778 43.8982 -720.916 688.0; 44.0488 43.8484 -668.537 689.0; 43.919 44…\n",
       "  Any[36.5965 58.4417 -974.488 785.0; 36.4476 58.2251 -996.009 786.0; 36.2982 5…\n",
       "  Any[38.8493 58.3155 -2545.82 805.0; 39.0284 57.9113 -2308.51 806.0; … ; 40.97…\n",
       "  Any[52.8465 24.6657 -656.717 1065.0; 52.8317 23.4208 -508.379 1066.0; 53.0733…\n",
       "  ⋮"
      ]
     },
     "execution_count": 34,
     "metadata": {},
     "output_type": "execute_result"
    }
   ],
   "source": [
    "values(CatenarioNegativo)"
   ]
  },
  {
   "cell_type": "code",
   "execution_count": 35,
   "metadata": {
    "collapsed": true
   },
   "outputs": [],
   "source": [
    "save(nombreout, \"CatenarioPositivo\", CatenarioPositivo, \"CatenarioNegativo\", CatenarioNegativo, \"notatray\", nota)"
   ]
  },
  {
   "cell_type": "code",
   "execution_count": 36,
   "metadata": {},
   "outputs": [
    {
     "data": {
      "image/png": "[encoded data removed]",
      "text/plain": [
       "Figure(PyObject <Figure size 900x800 with 1 Axes>)"
      ]
     },
     "metadata": {},
     "output_type": "display_data"
    }
   ],
   "source": [
    "#PyPlot.ion()\n",
    "figure(figsize=(9,8))\n",
    "#axis(\"equal\")\n",
    "xlim(0.0,65.0)\n",
    "ylim(0.0,65.0)\n",
    "tolerancia=0\n",
    "minlong=0\n",
    "maxlong=20000\n",
    "#colores=Union{}\n",
    "\n",
    "for p in values(CatenarioPositivo)\n",
    "    gordura=abs(p[:3])\n",
    "    longus,gordus=size(p)\n",
    "    if (mean(gordura)>tolerancia) && (longus>minlong) && longus < maxlong\n",
    "        #Si son chiquitos no nos interesan.\n",
    "        xxpos=p[:,1]\n",
    "        yypos=p[:,2]    \n",
    "        tiempos=p[:,4]/7022    \n",
    "        plot(xxpos, yypos, marker=\"o\", markersize=0.25, color=\"r\", lw=0.25, zorder=15)\n",
    "        colores=scatter(xxpos,yypos, s=gordura*0.4, edgecolors=\"none\", \n",
    "        c=tiempos, cmap=\"autumn\", vmin=0.0, vmax=0.72 )\n",
    "        principios=scatter(xxpos[1],yypos[1], s=gordura*0.5,\n",
    "        edgecolors=\"black\", \n",
    "        color=\"r\", marker=\"s\", label=\"Inicio\" ,\n",
    "        zorder=1)\n",
    "        finales=scatter(xxpos[end],yypos[end], s=gordura*0.5, edgecolors=\"black\", \n",
    "        color=\"gold\", marker=\"D\", label=\"Final\", zorder=2 )\n",
    "        # annotate(round(tiempos[1],4),  (xxpos[1], yypos[1]), fontsize=7, color=\"black\")\n",
    "        # annotate(round(tiempos[end],4), (xxpos[end], yypos[end]), fontsize=7, color=\"green\")\n",
    "\n",
    "    end\n",
    "end\n",
    "\n",
    "#savefig(\"ejemploaltaspositivas-01.svg\",dpi=92)"
   ]
  },
  {
   "cell_type": "code",
   "execution_count": 31,
   "metadata": {},
   "outputs": [
    {
     "data": {
      "text/plain": [
       "save (generic function with 8 methods)"
      ]
     },
     "execution_count": 31,
     "metadata": {},
     "output_type": "execute_result"
    }
   ],
   "source": [
    "JLD.save"
   ]
  },
  {
   "cell_type": "code",
   "execution_count": 36,
   "metadata": {
    "collapsed": true
   },
   "outputs": [],
   "source": [
    "save(nombreout, \"CatenarioPositivo\", CatenarioPositivo, \"CatenarioNegativo\", CatenarioNegativo, \"notatray\", nota)"
   ]
  },
  {
   "cell_type": "code",
   "execution_count": null,
   "metadata": {
    "collapsed": true
   },
   "outputs": [],
   "source": []
  }
 ],
 "metadata": {
  "@webio": {
   "lastCommId": null,
   "lastKernelId": null
  },
  "kernelspec": {
   "display_name": "Julia 1.0.3",
   "language": "julia",
   "name": "julia-1.0"
  },
  "language_info": {
   "file_extension": ".jl",
   "mimetype": "application/julia",
   "name": "julia",
   "version": "1.0.3"
  }
 },
 "nbformat": 4,
 "nbformat_minor": 1
}
