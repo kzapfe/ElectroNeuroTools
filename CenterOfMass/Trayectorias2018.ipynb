{
 "cells": [
  {
   "cell_type": "code",
   "execution_count": 1,
   "metadata": {
    "collapsed": true
   },
   "outputs": [],
   "source": [
    "using JLD\n",
    "using PyPlot\n",
    "using Statistics, StatsBase #mean and std"
   ]
  },
  {
   "cell_type": "code",
   "execution_count": 2,
   "metadata": {},
   "outputs": [
    {
     "data": {
      "text/plain": [
       "89278"
      ]
     },
     "execution_count": 2,
     "metadata": {},
     "output_type": "execute_result"
    }
   ],
   "source": [
    "nombrecm=\"/home/karel/BRWFiles/estriado/Cacho_5_estriado_slice1_1004A-CM.jld\"\n",
    "archivo=load(nombrecm)\n",
    "DatosCMP=archivo[\"CMP\"]\n",
    "DatosCMN=archivo[\"CMN\"];\n",
    "evocada=false\n",
    "nmax=length(DatosCMP) #cuantos cuadros hay"
   ]
  },
  {
   "cell_type": "code",
   "execution_count": 3,
   "metadata": {},
   "outputs": [
    {
     "data": {
      "text/plain": [
       "0×3 Array{Int64,2}"
      ]
     },
     "execution_count": 3,
     "metadata": {},
     "output_type": "execute_result"
    }
   ],
   "source": [
    "DatosCMP[1337]"
   ]
  },
  {
   "cell_type": "code",
   "execution_count": 4,
   "metadata": {},
   "outputs": [
    {
     "data": {
      "text/plain": [
       "0×3 Array{Int64,2}"
      ]
     },
     "execution_count": 4,
     "metadata": {},
     "output_type": "execute_result"
    }
   ],
   "source": [
    "DatosCMP[1341]"
   ]
  },
  {
   "cell_type": "code",
   "execution_count": 5,
   "metadata": {},
   "outputs": [
    {
     "data": {
      "text/plain": [
       "leunjlddeCM (generic function with 3 methods)"
      ]
     },
     "execution_count": 5,
     "metadata": {},
     "output_type": "execute_result"
    }
   ],
   "source": [
    "function leeunmegaarrayarchivos(NomineGeneralis::AbstractString, desde=35, hasta=501)\n",
    "    LeMegaArray=Array[]\n",
    "    for t=desde:hasta\n",
    "      #  println(\"$NomineGeneralis-$t.dat\")\n",
    "        CMx=try \n",
    "            readdlm(\"$NomineGeneralis-$t.dat\")\n",
    "        catch\n",
    "            []\n",
    "        end\n",
    "        push!(LeMegaArray, CMx)\n",
    "    end\n",
    "    return LeMegaArray\n",
    "    end\n",
    "\n",
    "\n",
    "function leunjlddeCM(datos, desde=1, hasta=300)\n",
    "    LeMegaArray=Array[]\n",
    "    for t=desde:hasta\n",
    "      #  println(\"$NomineGeneralis-$t.dat\")\n",
    "        CMx=try \n",
    "        readdlm(\"$NomineGeneralis-$t.dat\")\n",
    "        catch\n",
    "            []\n",
    "        end\n",
    "        push!(LeMegaArray, CMx)\n",
    "    end\n",
    "    return LeMegaArray\n",
    "end\n",
    "\n"
   ]
  },
  {
   "cell_type": "markdown",
   "metadata": {},
   "source": [
    "Para Evocados, hay un par de variables temporales para considerar:\n",
    "- retrazo: el tiempo en cuadros que hubo desde el comienzo del registro hasta el estimulo\n",
    "- latencia: el tiempo en cuadros que hubo desde el estimulo hasta que paso algo interesante\n"
   ]
  },
  {
   "cell_type": "code",
   "execution_count": 6,
   "metadata": {},
   "outputs": [
    {
     "data": {
      "text/plain": [
       "89278"
      ]
     },
     "execution_count": 6,
     "metadata": {},
     "output_type": "execute_result"
    }
   ],
   "source": [
    "#freq=7.022 # la frecuencia de muestreo en kHz de los experimentos viejos\n",
    "freq=17.85550205219098 # la freq de los nuevos, en kHz\n",
    " \n",
    "if evocada\n",
    "    retms=5.0 #retrazo en milisec\n",
    "    latms=4.0 #latencia en milisec\n",
    "    retrazo=round(Int, retms * freq)\n",
    "    lat=round(Int, latms * freq)\n",
    "    desde=retrazo+lat\n",
    "    hasta=300\n",
    "else\n",
    "    retms=0\n",
    "    latms=0\n",
    "    retrazo=0\n",
    "    lat=0\n",
    "    desde=1\n",
    "    hasta=nmax\n",
    "end"
   ]
  },
  {
   "cell_type": "code",
   "execution_count": 7,
   "metadata": {},
   "outputs": [
    {
     "data": {
      "text/plain": [
       "difgordis (generic function with 1 method)"
      ]
     },
     "execution_count": 7,
     "metadata": {},
     "output_type": "execute_result"
    }
   ],
   "source": [
    "function dist2D(x,y)\n",
    "    result=sqrt((x[1]-y[1])^2+(x[2]-y[2])^2)\n",
    "    return result\n",
    "end\n",
    "\n",
    "function difgordis(x,y)\n",
    "    result=abs(x-y)/max(abs(x),abs(y))\n",
    "    return result\n",
    "end"
   ]
  },
  {
   "cell_type": "code",
   "execution_count": 8,
   "metadata": {},
   "outputs": [
    {
     "data": {
      "text/plain": [
       "0.27586206896551724"
      ]
     },
     "execution_count": 8,
     "metadata": {},
     "output_type": "execute_result"
    }
   ],
   "source": [
    "difgordis(0.21,0.29)"
   ]
  },
  {
   "cell_type": "code",
   "execution_count": 9,
   "metadata": {},
   "outputs": [
    {
     "data": {
      "text/plain": [
       "encuentraTrayectorias (generic function with 5 methods)"
      ]
     },
     "execution_count": 9,
     "metadata": {},
     "output_type": "execute_result"
    }
   ],
   "source": [
    "function encuentraTrayectorias(Datos, mincadena=20, mingordo=2.0, desde=1,hasta=20)\n",
    "\n",
    "toleradist=16.0*sqrt(2)\n",
    "#toldifgordis=0.33\n",
    "tau=1\n",
    "t=1\n",
    "j=1\n",
    "\n",
    "Catenario=Dict{Integer, Array{Any}}()\n",
    "Cadena=[0 0 0 0]\n",
    "tnum=1\n",
    "CopiaMegaArray=deepcopy(Datos);\n",
    "NumFrames=length(Datos)\n",
    "FakeNumFrames=NumFrames\n",
    "\n",
    "\n",
    "\n",
    "while t <= FakeNumFrames-1 \n",
    "    \n",
    "    tau=t\n",
    "    \n",
    "    @label arrrrh\n",
    " \n",
    "        if(CopiaMegaArray[tau]==[])\n",
    "            \n",
    "            jmax,nada=0,0\n",
    "        else\n",
    "          \n",
    "     jmax,nada= size(CopiaMegaArray[tau])\n",
    "        end\n",
    "    \n",
    "        \n",
    "    while j <=jmax && tau<FakeNumFrames\n",
    "            \n",
    "            if abs(CopiaMegaArray[tau][j,3]) > mingordo\n",
    "                \n",
    "            Eslabon=[transpose(CopiaMegaArray[tau][j,:]) tau]\n",
    "            Cadena=vcat(Cadena, Eslabon)\n",
    "         #   println(\"Papa t: \", t, \"  tau: \", tau, \" y  j: \",j )\n",
    "            mindist=2\n",
    "            kasterisco=1\n",
    "                \n",
    "                if CopiaMegaArray[tau+1]==[]\n",
    "                    kmax,nada=0,0\n",
    "                else\n",
    "                kmax, nada= size(CopiaMegaArray[tau+1])\n",
    "                end\n",
    "                huboalgo=false\n",
    "          \n",
    "        #    kmax=5\n",
    "            \n",
    "            for k=1:kmax\n",
    "                \n",
    "                EslabonTentativo=CopiaMegaArray[tau+1][k,:]\n",
    "            #    println(EslabonTentativo)\n",
    "                    if abs(EslabonTentativo[3])>mingordo\n",
    "                    dist=dist2D(Eslabon,EslabonTentativo)                  \n",
    "                    if dist<mindist\n",
    "                        mindist=dist\n",
    "                        kasterisco=k\n",
    "                        \n",
    "                       # println(kasterisco, \"=k*\", k, \"=k\")\n",
    "                        huboalgo=true\n",
    "                    end\n",
    "                end\n",
    "            \n",
    "            end    \n",
    "            \n",
    "            if huboalgo && mindist<toleradist\n",
    "                #quitamos el anterior\n",
    "                CopiaMegaArray[tau][j,3]=0.0000 \n",
    "               # println(mindist,\" \", t, \" \", tau+1 ,\" \", kasterisco )\n",
    "                \n",
    "                if tau+1<FakeNumFrames\n",
    "                    tau+=1\n",
    "                    j=kasterisco\n",
    "      #              println(\"Pepe t: \", t, \"  tau: \", tau, \" y  j: \",j )\n",
    "                    @goto arrrrh\n",
    "                \n",
    "                else\n",
    "                    \n",
    "                    Eslabon=[transpose(CopiaMegaArray[tau+1][kasterisco,:]) tau+1]\n",
    "                    Cadena=vcat(Cadena, Eslabon)\n",
    "      #              println(\"Pipi t: \", t, \"  t: \", t, \" y  j: \",j )\n",
    "                    j+=1\n",
    "                    tau=t\n",
    "                    \n",
    "                    if size(Cadena)[1]>mincadena\n",
    "                        #push!(Catenario, Cadena[2:end,:])\n",
    "                        Catenario[tnum]=Cadena[2:end,:]\n",
    "                        tnum+=1\n",
    "                    end\n",
    "                    \n",
    "                    Cadena=[0 0 0 0]\n",
    "                    @goto arrrrh\n",
    "                end\n",
    "                                \n",
    "            else\n",
    "                \n",
    "                if size(Cadena)[1]>mincadena\n",
    "                    # veamos si funciona  mejor como dict \n",
    "                        #push!(Catenario, Cadena[2:end,:])\n",
    "                        Catenario[tnum]=Cadena[2:end,:]\n",
    "                        tnum+=1\n",
    "                end\n",
    "                Cadena=[0 0 0 0]\n",
    "                j+=1\n",
    "                tau=t\n",
    "                @goto arrrrh\n",
    "            end\n",
    "                       \n",
    "        end #cierra sobre el if de  la masa \n",
    "                \n",
    "        j+=1                    \n",
    "        tau=t\n",
    "    \n",
    "    end\n",
    "    @label urrr\n",
    "      \n",
    "    j=1\n",
    "    t+=1\n",
    "    tau=t\n",
    "    Cadena=[0 0 0 0]\n",
    "        end \n",
    "    \n",
    "    return Catenario\n",
    "end"
   ]
  },
  {
   "cell_type": "code",
   "execution_count": 10,
   "metadata": {},
   "outputs": [
    {
     "data": {
      "text/plain": [
       "(1, 89278)"
      ]
     },
     "execution_count": 10,
     "metadata": {},
     "output_type": "execute_result"
    }
   ],
   "source": [
    "(desde, hasta)\n"
   ]
  },
  {
   "cell_type": "code",
   "execution_count": 15,
   "metadata": {},
   "outputs": [
    {
     "data": {
      "text/plain": [
       "3"
      ]
     },
     "execution_count": 15,
     "metadata": {},
     "output_type": "execute_result"
    }
   ],
   "source": [
    "pesomin=5\n",
    "longmin=3"
   ]
  },
  {
   "cell_type": "code",
   "execution_count": 16,
   "metadata": {},
   "outputs": [
    {
     "name": "stdout",
     "output_type": "stream",
     "text": [
      "  2.428914 seconds (5.60 M allocations: 5.592 GiB, 22.40% gc time)\n"
     ]
    }
   ],
   "source": [
    "#Recuerda el segundo argumento es la longitud mínima de la cadena\n",
    "@time CatenarioPositivo=encuentraTrayectorias(DatosCMP,longmin,pesomin,desde,hasta);\n"
   ]
  },
  {
   "cell_type": "code",
   "execution_count": 17,
   "metadata": {
    "collapsed": true
   },
   "outputs": [],
   "source": [
    "CatenarioNegativo=encuentraTrayectorias(DatosCMN,longmin,pesomin,desde,hasta);"
   ]
  },
  {
   "cell_type": "code",
   "execution_count": 18,
   "metadata": {},
   "outputs": [
    {
     "data": {
      "text/plain": [
       "(58, 55)"
      ]
     },
     "execution_count": 18,
     "metadata": {},
     "output_type": "execute_result"
    }
   ],
   "source": [
    "length(CatenarioPositivo), length(CatenarioNegativo)"
   ]
  },
  {
   "cell_type": "code",
   "execution_count": 19,
   "metadata": {
    "collapsed": true
   },
   "outputs": [],
   "source": [
    "nombreout=nombrecm[1:end-6]*\"Tray-todas.jld\"\n",
    "nota=\"longitud minima fue $longmin, peso minimo fue $pesomin \"\n",
    "JLD.save(nombreout, \"CatenarioNegativo\", CatenarioNegativo, \"CatenarioPositivo\", CatenarioPositivo, \"nota\", nota)"
   ]
  },
  {
   "cell_type": "code",
   "execution_count": 20,
   "metadata": {},
   "outputs": [
    {
     "data": {
      "image/png": "[encoded data removed]",
      "text/plain": [
       "Figure(PyObject <Figure size 900x800 with 1 Axes>)"
      ]
     },
     "metadata": {},
     "output_type": "display_data"
    }
   ],
   "source": [
    "#PyPlot.ion()\n",
    "figure(figsize=(9,8))\n",
    "#axis(\"equal\")\n",
    "xlim(0.0,65.0)\n",
    "ylim(0.0,65.0)\n",
    "tolerancia=0\n",
    "minlong=0\n",
    "maxlong=20000\n",
    "#colores=Union{}\n",
    "\n",
    "for p in values(CatenarioPositivo)\n",
    "    gordura=abs(p[:3])\n",
    "    longus,gordus=size(p)\n",
    "    if (mean(gordura)>tolerancia) && (longus>minlong) && longus < maxlong\n",
    "        #Si son chiquitos no nos interesan.\n",
    "        xxpos=p[:,1]\n",
    "        yypos=p[:,2]    \n",
    "        tiempos=p[:,4]/7022    \n",
    "        plot(xxpos, yypos, marker=\"o\", markersize=0.25, color=\"r\", lw=0.25, zorder=15)\n",
    "        colores=scatter(xxpos,yypos, s=gordura*0.4, edgecolors=\"none\", \n",
    "        c=tiempos, cmap=\"autumn\", vmin=0.0, vmax=0.72 )\n",
    "        principios=scatter(xxpos[1],yypos[1], s=gordura*0.5,\n",
    "        edgecolors=\"black\", \n",
    "        color=\"r\", marker=\"s\", label=\"Inicio\" ,\n",
    "        zorder=1)\n",
    "        finales=scatter(xxpos[end],yypos[end], s=gordura*0.5, edgecolors=\"black\", \n",
    "        color=\"gold\", marker=\"D\", label=\"Final\", zorder=2 )\n",
    "        # annotate(round(tiempos[1],4),  (xxpos[1], yypos[1]), fontsize=7, color=\"black\")\n",
    "        # annotate(round(tiempos[end],4), (xxpos[end], yypos[end]), fontsize=7, color=\"green\")\n",
    "\n",
    "    end\n",
    "end\n",
    "\n",
    "#savefig(\"ejemploaltaspositivas-01.svg\",dpi=92)"
   ]
  },
  {
   "cell_type": "code",
   "execution_count": null,
   "metadata": {
    "collapsed": true
   },
   "outputs": [],
   "source": [
    "JLD.save"
   ]
  },
  {
   "cell_type": "code",
   "execution_count": null,
   "metadata": {
    "collapsed": true
   },
   "outputs": [],
   "source": []
  }
 ],
 "metadata": {
  "@webio": {
   "lastCommId": null,
   "lastKernelId": null
  },
  "kernelspec": {
   "display_name": "Julia 1.0.3",
   "language": "julia",
   "name": "julia-1.0"
  },
  "language_info": {
   "file_extension": ".jl",
   "mimetype": "application/julia",
   "name": "julia",
   "version": "1.0.3"
  }
 },
 "nbformat": 4,
 "nbformat_minor": 1
}
