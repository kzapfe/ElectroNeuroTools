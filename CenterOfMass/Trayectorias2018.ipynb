{
 "cells": [
  {
   "cell_type": "code",
   "execution_count": 23,
   "metadata": {
    "collapsed": true
   },
   "outputs": [],
   "source": [
    "using JLD\n",
    "using PyPlot\n",
    "using Statistics, StatsBase #mean and std"
   ]
  },
  {
   "cell_type": "code",
   "execution_count": 24,
   "metadata": {},
   "outputs": [
    {
     "data": {
      "text/plain": [
       "2000"
      ]
     },
     "execution_count": 24,
     "metadata": {},
     "output_type": "execute_result"
    }
   ],
   "source": [
    "nombrecm=\"/home/karel/BRWFiles/Facilitada/Completo_19115s1cut_single_event_prepro-CM.jld\"\n",
    "archivo=load(nombrecm)\n",
    "DatosCMP=archivo[\"CMP\"]\n",
    "DatosCMN=archivo[\"CMN\"];\n",
    "evocada=false\n",
    "nmax=length(DatosCMP) #cuantos cuadros hay"
   ]
  },
  {
   "cell_type": "code",
   "execution_count": 25,
   "metadata": {},
   "outputs": [
    {
     "data": {
      "text/plain": [
       "7×3 Array{Float64,2}:\n",
       "  4.15995  25.0991    2493.22\n",
       " 43.9996   46.0026    3347.96\n",
       "  2.99887  11.9951    3355.06\n",
       "  7.00194  19.9985    3346.89\n",
       "  1.46749  21.602    11805.0 \n",
       " 59.8803    8.20336  31117.2 \n",
       "  1.0      16.5164    3172.54"
      ]
     },
     "execution_count": 25,
     "metadata": {},
     "output_type": "execute_result"
    }
   ],
   "source": [
    "DatosCMP[1337]"
   ]
  },
  {
   "cell_type": "code",
   "execution_count": 26,
   "metadata": {},
   "outputs": [
    {
     "data": {
      "text/plain": [
       "7×3 Array{Float64,2}:\n",
       "  4.16123  25.0985    2507.9 \n",
       " 44.0012   45.9989    3367.17\n",
       "  2.99954  11.9971    3342.16\n",
       "  7.00254  19.9977    3364.37\n",
       "  1.46772  21.6013   11819.3 \n",
       " 59.881     8.20467  31142.7 \n",
       "  1.0      16.5191    3178.63"
      ]
     },
     "execution_count": 26,
     "metadata": {},
     "output_type": "execute_result"
    }
   ],
   "source": [
    "DatosCMP[1341]"
   ]
  },
  {
   "cell_type": "code",
   "execution_count": 27,
   "metadata": {},
   "outputs": [
    {
     "data": {
      "text/plain": [
       "leunjlddeCM (generic function with 3 methods)"
      ]
     },
     "execution_count": 27,
     "metadata": {},
     "output_type": "execute_result"
    }
   ],
   "source": [
    "function leeunmegaarrayarchivos(NomineGeneralis::AbstractString, desde=35, hasta=501)\n",
    "    LeMegaArray=Array[]\n",
    "    for t=desde:hasta\n",
    "      #  println(\"$NomineGeneralis-$t.dat\")\n",
    "        CMx=try \n",
    "            readdlm(\"$NomineGeneralis-$t.dat\")\n",
    "        catch\n",
    "            []\n",
    "        end\n",
    "        push!(LeMegaArray, CMx)\n",
    "    end\n",
    "    return LeMegaArray\n",
    "    end\n",
    "\n",
    "\n",
    "function leunjlddeCM(datos, desde=1, hasta=300)\n",
    "    LeMegaArray=Array[]\n",
    "    for t=desde:hasta\n",
    "      #  println(\"$NomineGeneralis-$t.dat\")\n",
    "        CMx=try \n",
    "        readdlm(\"$NomineGeneralis-$t.dat\")\n",
    "        catch\n",
    "            []\n",
    "        end\n",
    "        push!(LeMegaArray, CMx)\n",
    "    end\n",
    "    return LeMegaArray\n",
    "end\n",
    "\n"
   ]
  },
  {
   "cell_type": "markdown",
   "metadata": {},
   "source": [
    "Para Evocados, hay un par de variables temporales para considerar:\n",
    "- retrazo: el tiempo en cuadros que hubo desde el comienzo del registro hasta el estimulo\n",
    "- latencia: el tiempo en cuadros que hubo desde el estimulo hasta que paso algo interesante\n"
   ]
  },
  {
   "cell_type": "code",
   "execution_count": 28,
   "metadata": {},
   "outputs": [
    {
     "data": {
      "text/plain": [
       "2000"
      ]
     },
     "execution_count": 28,
     "metadata": {},
     "output_type": "execute_result"
    }
   ],
   "source": [
    "freq=7.022 # la frecuencia de muestreo en kHz de los experimentos viejos\n",
    "\n",
    "if evocada\n",
    "    retms=5.0 #retrazo en milisec\n",
    "    latms=4.0 #latencia en milisec\n",
    "    retrazo=round(Int, retms * freq)\n",
    "    lat=round(Int, latms * freq)\n",
    "    desde=retrazo+lat\n",
    "    hasta=300\n",
    "else\n",
    "    retms=0\n",
    "    latms=0\n",
    "    retrazo=0\n",
    "    lat=0\n",
    "    desde=1\n",
    "    hasta=nmax\n",
    "end"
   ]
  },
  {
   "cell_type": "code",
   "execution_count": 29,
   "metadata": {},
   "outputs": [
    {
     "data": {
      "text/plain": [
       "difgordis (generic function with 1 method)"
      ]
     },
     "execution_count": 29,
     "metadata": {},
     "output_type": "execute_result"
    }
   ],
   "source": [
    "function dist2D(x,y)\n",
    "    result=sqrt((x[1]-y[1])^2+(x[2]-y[2])^2)\n",
    "    return result\n",
    "end\n",
    "\n",
    "function difgordis(x,y)\n",
    "    result=abs(x-y)/max(abs(x),abs(y))\n",
    "    return result\n",
    "end"
   ]
  },
  {
   "cell_type": "code",
   "execution_count": 30,
   "metadata": {},
   "outputs": [
    {
     "data": {
      "text/plain": [
       "0.27586206896551724"
      ]
     },
     "execution_count": 30,
     "metadata": {},
     "output_type": "execute_result"
    }
   ],
   "source": [
    "difgordis(0.21,0.29)"
   ]
  },
  {
   "cell_type": "code",
   "execution_count": 31,
   "metadata": {},
   "outputs": [
    {
     "data": {
      "text/plain": [
       "encuentraTrayectorias (generic function with 5 methods)"
      ]
     },
     "execution_count": 31,
     "metadata": {},
     "output_type": "execute_result"
    }
   ],
   "source": [
    "function encuentraTrayectorias(Datos, mincadena=20, mingordo=2.0, desde=1,hasta=20)\n",
    "\n",
    "toleradist=16.0*sqrt(2)\n",
    "#toldifgordis=0.33\n",
    "tau=1\n",
    "t=1\n",
    "j=1\n",
    "\n",
    "Catenario=Dict{Integer, Array{Any}}()\n",
    "Cadena=[0 0 0 0]\n",
    "tnum=1\n",
    "CopiaMegaArray=deepcopy(Datos);\n",
    "NumFrames=length(Datos)\n",
    "FakeNumFrames=NumFrames\n",
    "\n",
    "\n",
    "\n",
    "while t <= FakeNumFrames-1 \n",
    "    \n",
    "    tau=t\n",
    "    \n",
    "    @label arrrrh\n",
    " \n",
    "        if(CopiaMegaArray[tau]==[])\n",
    "            \n",
    "            jmax,nada=0,0\n",
    "        else\n",
    "          \n",
    "     jmax,nada= size(CopiaMegaArray[tau])\n",
    "        end\n",
    "    \n",
    "        \n",
    "    while j <=jmax && tau<FakeNumFrames\n",
    "            \n",
    "            if abs(CopiaMegaArray[tau][j,3]) > mingordo\n",
    "                \n",
    "            Eslabon=[transpose(CopiaMegaArray[tau][j,:]) tau]\n",
    "            Cadena=vcat(Cadena, Eslabon)\n",
    "         #   println(\"Papa t: \", t, \"  tau: \", tau, \" y  j: \",j )\n",
    "            mindist=2\n",
    "            kasterisco=1\n",
    "                \n",
    "                if CopiaMegaArray[tau+1]==[]\n",
    "                    kmax,nada=0,0\n",
    "                else\n",
    "                kmax, nada= size(CopiaMegaArray[tau+1])\n",
    "                end\n",
    "                huboalgo=false\n",
    "          \n",
    "        #    kmax=5\n",
    "            \n",
    "            for k=1:kmax\n",
    "                \n",
    "                EslabonTentativo=CopiaMegaArray[tau+1][k,:]\n",
    "            #    println(EslabonTentativo)\n",
    "                    if abs(EslabonTentativo[3])>mingordo\n",
    "                    dist=dist2D(Eslabon,EslabonTentativo)                  \n",
    "                    if dist<mindist\n",
    "                        mindist=dist\n",
    "                        kasterisco=k\n",
    "                        \n",
    "                       # println(kasterisco, \"=k*\", k, \"=k\")\n",
    "                        huboalgo=true\n",
    "                    end\n",
    "                end\n",
    "            \n",
    "            end    \n",
    "            \n",
    "            if huboalgo && mindist<toleradist\n",
    "                #quitamos el anterior\n",
    "                CopiaMegaArray[tau][j,3]=0.0000 \n",
    "               # println(mindist,\" \", t, \" \", tau+1 ,\" \", kasterisco )\n",
    "                \n",
    "                if tau+1<FakeNumFrames\n",
    "                    tau+=1\n",
    "                    j=kasterisco\n",
    "      #              println(\"Pepe t: \", t, \"  tau: \", tau, \" y  j: \",j )\n",
    "                    @goto arrrrh\n",
    "                \n",
    "                else\n",
    "                    \n",
    "                    Eslabon=[transpose(CopiaMegaArray[tau+1][kasterisco,:]) tau+1]\n",
    "                    Cadena=vcat(Cadena, Eslabon)\n",
    "      #              println(\"Pipi t: \", t, \"  t: \", t, \" y  j: \",j )\n",
    "                    j+=1\n",
    "                    tau=t\n",
    "                    \n",
    "                    if size(Cadena)[1]>mincadena\n",
    "                        #push!(Catenario, Cadena[2:end,:])\n",
    "                        Catenario[tnum]=Cadena[2:end,:]\n",
    "                        tnum+=1\n",
    "                    end\n",
    "                    \n",
    "                    Cadena=[0 0 0 0]\n",
    "                    @goto arrrrh\n",
    "                end\n",
    "                                \n",
    "            else\n",
    "                \n",
    "                if size(Cadena)[1]>mincadena\n",
    "                    # veamos si funciona  mejor como dict \n",
    "                        #push!(Catenario, Cadena[2:end,:])\n",
    "                        Catenario[tnum]=Cadena[2:end,:]\n",
    "                        tnum+=1\n",
    "                end\n",
    "                Cadena=[0 0 0 0]\n",
    "                j+=1\n",
    "                tau=t\n",
    "                @goto arrrrh\n",
    "            end\n",
    "                       \n",
    "        end #cierra sobre el if de  la masa \n",
    "                \n",
    "        j+=1                    \n",
    "        tau=t\n",
    "    \n",
    "    end\n",
    "    @label urrr\n",
    "      \n",
    "    j=1\n",
    "    t+=1\n",
    "    tau=t\n",
    "    Cadena=[0 0 0 0]\n",
    "        end \n",
    "    \n",
    "    return Catenario\n",
    "end"
   ]
  },
  {
   "cell_type": "code",
   "execution_count": 32,
   "metadata": {},
   "outputs": [
    {
     "data": {
      "text/plain": [
       "(1, 2000)"
      ]
     },
     "execution_count": 32,
     "metadata": {},
     "output_type": "execute_result"
    }
   ],
   "source": [
    "(desde, hasta)\n"
   ]
  },
  {
   "cell_type": "code",
   "execution_count": 33,
   "metadata": {},
   "outputs": [
    {
     "data": {
      "text/plain": [
       "3"
      ]
     },
     "execution_count": 33,
     "metadata": {},
     "output_type": "execute_result"
    }
   ],
   "source": [
    "pesomin=1\n",
    "longmin=3"
   ]
  },
  {
   "cell_type": "code",
   "execution_count": 34,
   "metadata": {},
   "outputs": [
    {
     "name": "stdout",
     "output_type": "stream",
     "text": [
      "  0.482016 seconds (1.54 M allocations: 469.388 MiB, 12.95% gc time)\n"
     ]
    }
   ],
   "source": [
    "#Recuerda el segundo argumento es la longitud mínima de la cadena\n",
    "@time CatenarioPositivo=encuentraTrayectorias(DatosCMP,longmin,pesomin,desde,hasta);\n"
   ]
  },
  {
   "cell_type": "code",
   "execution_count": 35,
   "metadata": {
    "collapsed": true
   },
   "outputs": [],
   "source": [
    "CatenarioNegativo=encuentraTrayectorias(DatosCMN,longmin,pesomin,desde,hasta);"
   ]
  },
  {
   "cell_type": "code",
   "execution_count": 13,
   "metadata": {},
   "outputs": [
    {
     "data": {
      "text/plain": [
       "\"longitud minima fue 3, peso minimo fue 1 \""
      ]
     },
     "execution_count": 13,
     "metadata": {},
     "output_type": "execute_result"
    }
   ],
   "source": [
    "nombreout=nombrecm[1:end-6]*\"Tray-todas.jld\"\n",
    "nota=\"longitud minima fue $longmin, peso minimo fue $pesomin \"\n",
    "#save(nombreout, \"CatenarioNegativo\", CatenarioNegativo, \"CatenarioPositivo\", CatenarioPositivo, \"nota\", nota)"
   ]
  },
  {
   "cell_type": "code",
   "execution_count": 36,
   "metadata": {},
   "outputs": [
    {
     "data": {
      "text/plain": [
       "(10, 8)"
      ]
     },
     "execution_count": 36,
     "metadata": {},
     "output_type": "execute_result"
    }
   ],
   "source": [
    "length(CatenarioPositivo), length(CatenarioNegativo)"
   ]
  },
  {
   "cell_type": "code",
   "execution_count": 37,
   "metadata": {},
   "outputs": [
    {
     "data": {
      "text/plain": [
       "Dict{Integer,Array{Any,N} where N} with 10 entries:\n",
       "  7  => Any[59.7881 7.57328 35259.6 1.0; 59.7885 7.57326 35311.4 2.0; … ; 59.88…\n",
       "  4  => Any[4.16028 25.0959 2494.4 1.0; 4.16039 25.0962 2492.41 2.0; … ; 4.1601…\n",
       "  9  => Any[3.0015 53.0016 3356.45 1.0; 3.00201 53.0004 3350.91 2.0; … ; 2.9955…\n",
       "  10 => Any[43.9998 45.8562 602.59 610.0; 44.002 45.9971 1327.76 611.0; … ; 44.…\n",
       "  2  => Any[1.46762 21.6023 11812.7 1.0; 1.46759 21.6024 11819.2 2.0; … ; 1.467…\n",
       "  3  => Any[42.9959 5.0023 3339.76 1.0; 42.9963 5.00143 3346.84 2.0; … ; 42.997…\n",
       "  5  => Any[1.0 16.5139 3180.4 1.0; 1.0 16.517 3179.26 2.0; … ; 1.0 16.5182 317…\n",
       "  8  => Any[7.00581 20.0028 3341.45 1.0; 7.00583 20.0026 3348.85 2.0; … ; 7.003…\n",
       "  6  => Any[2.99981 11.9946 3336.78 1.0; 2.99937 11.996 3343.91 2.0; … ; 3.0024…\n",
       "  1  => Any[21.0005 36.9927 3364.2 1.0; 20.9993 36.9946 3356.83 2.0; … ; 20.995…"
      ]
     },
     "execution_count": 37,
     "metadata": {},
     "output_type": "execute_result"
    }
   ],
   "source": [
    "CatenarioPositivo"
   ]
  },
  {
   "cell_type": "code",
   "execution_count": 15,
   "metadata": {},
   "outputs": [
    {
     "data": {
      "text/plain": [
       "\"/home/karel/BRWFiles/Facilitada/Completo_19115s1cut_single_event_prepro-Tray-todas.jld\""
      ]
     },
     "execution_count": 15,
     "metadata": {},
     "output_type": "execute_result"
    }
   ],
   "source": [
    "nombreout"
   ]
  },
  {
   "cell_type": "code",
   "execution_count": 39,
   "metadata": {},
   "outputs": [
    {
     "data": {
      "image/png": "[encoded data removed]",
      "text/plain": [
       "Figure(PyObject <Figure size 900x800 with 1 Axes>)"
      ]
     },
     "metadata": {},
     "output_type": "display_data"
    }
   ],
   "source": [
    "#PyPlot.ion()\n",
    "figure(figsize=(9,8))\n",
    "#axis(\"equal\")\n",
    "xlim(0.0,65.0)\n",
    "ylim(0.0,65.0)\n",
    "tolerancia=0\n",
    "minlong=0\n",
    "maxlong=20000\n",
    "#colores=Union{}\n",
    "\n",
    "for p in values(CatenarioPositivo)\n",
    "    gordura=abs(p[:3])\n",
    "    longus,gordus=size(p)\n",
    "    if (mean(gordura)>tolerancia) && (longus>minlong) && longus < maxlong\n",
    "        #Si son chiquitos no nos interesan.\n",
    "        xxpos=p[:,1]\n",
    "        yypos=p[:,2]    \n",
    "        tiempos=p[:,4]/7022    \n",
    "        plot(xxpos, yypos, marker=\"o\", markersize=0.25, color=\"r\", lw=0.25, zorder=15)\n",
    "        colores=scatter(xxpos,yypos, s=gordura*0.4, edgecolors=\"none\", \n",
    "        c=tiempos, cmap=\"autumn\", vmin=0.0, vmax=0.72 )\n",
    "        principios=scatter(xxpos[1],yypos[1], s=gordura*0.5,\n",
    "        edgecolors=\"black\", \n",
    "        color=\"r\", marker=\"s\", label=\"Inicio\" ,\n",
    "        zorder=1)\n",
    "        finales=scatter(xxpos[end],yypos[end], s=gordura*0.5, edgecolors=\"black\", \n",
    "        color=\"gold\", marker=\"D\", label=\"Final\", zorder=2 )\n",
    "        # annotate(round(tiempos[1],4),  (xxpos[1], yypos[1]), fontsize=7, color=\"black\")\n",
    "        # annotate(round(tiempos[end],4), (xxpos[end], yypos[end]), fontsize=7, color=\"green\")\n",
    "\n",
    "    end\n",
    "end\n",
    "\n",
    "#savefig(\"ejemploaltaspositivas-01.svg\",dpi=92)"
   ]
  },
  {
   "cell_type": "code",
   "execution_count": 54,
   "metadata": {},
   "outputs": [
    {
     "data": {
      "text/plain": [
       "Base.ValueIterator for a Dict{Integer,Array{Any,N} where N} with 860 entries. Values:\n",
       "  Any[31.5812 29.3239 -203.75 663.0; 32.0047 30.0982 -229.158 664.0; 32.4171 31…\n",
       "  Any[17.7235 61.011 -263.295 214.0; 17.4776 60.757 -362.718 215.0; … ; 17.7665…\n",
       "  Any[55.4341 47.3057 -2524.4 448.0; 55.2756 47.1163 -2450.98 449.0; 55.5759 46…\n",
       "  Any[40.4962 31.4264 -136.71 546.0; 39.2454 31.8379 -182.66 547.0; 39.0034 31.…\n",
       "  Any[27.4338 60.4188 -365.09 643.0; 26.7776 60.2849 -260.412 644.0; 26.5807 60…\n",
       "  Any[35.8058 29.6784 -586.528 675.0; 36.9603 29.8958 -627.706 676.0; … ; 39.40…\n",
       "  Any[23.278 61.5997 -341.025 710.0; 23.3864 61.4841 -375.122 711.0; 23.172 61.…\n",
       "  Any[39.8889 58.7892 -191.545 999.0; 39.8666 58.306 -317.436 1000.0; 39.7325 5…\n",
       "  Any[49.3629 55.7831 -202.636 941.0; 48.8359 56.2677 -257.566 942.0; … ; 50.56…\n",
       "  Any[60.7451 45.4388 -121.94 1078.0; 60.1197 46.1888 -189.813 1079.0; … ; 59.3…\n",
       "  Any[35.5023 31.4859 -91.6817 1155.0; 35.596 31.5039 -124.504 1156.0; 36.4779 …\n",
       "  Any[48.9318 54.112 -307.456 492.0; 47.6718 53.8258 -380.659 493.0; … ; 47.962…\n",
       "  Any[35.5194 59.4778 -229.315 642.0; 35.3067 60.2295 -195.375 643.0; … ; 30.76…\n",
       "  Any[3.34336 47.938 -209.368 821.0; 3.62027 47.7557 -334.792 822.0; 3.73513 47…\n",
       "  Any[7.23327 55.6199 -155.253 552.0; 6.63807 55.7238 -284.088 553.0; … ; 6.268…\n",
       "  Any[42.7893 56.7841 -640.974 974.0; 42.9553 56.389 -601.001 975.0; 42.5085 55…\n",
       "  Any[14.7868 60.5486 -181.22 1101.0; 14.8791 60.3557 -229.19 1102.0; … ; 15.52…\n",
       "  Any[33.1927 60.5413 -334.325 1254.0; 33.8201 60.2795 -522.648 1255.0; … ; 34.…\n",
       "  Any[22.3693 61.5428 -181.358 1012.0; 23.0263 61.4208 -224.163 1013.0; 22.5086…\n",
       "  Any[59.5566 44.5489 -148.995 1008.0; 60.0801 44.3888 -203.138 1009.0; … ; 59.…\n",
       "  Any[54.4205 47.533 -96.8972 709.0; 53.9944 47.8282 -151.276 710.0; 54.4512 48…\n",
       "  Any[5.10602 51.4522 -105.519 1277.0; 5.57401 51.6147 -145.276 1278.0; 6.48959…\n",
       "  Any[5.71182 56.4705 -228.527 781.0; 6.17568 56.9896 -153.313 782.0; 5.2917 56…\n",
       "  Any[53.3522 53.5655 -398.159 457.0; 52.8402 53.1893 -392.565 458.0; 53.2674 5…\n",
       "  Any[30.1273 62.0 -173.772 443.0; 29.6873 61.6658 -252.366 444.0; 29.7036 61.1…\n",
       "  ⋮"
      ]
     },
     "execution_count": 54,
     "metadata": {},
     "output_type": "execute_result"
    }
   ],
   "source": [
    "values(CatenarioNegativo)"
   ]
  },
  {
   "cell_type": "code",
   "execution_count": null,
   "metadata": {
    "collapsed": true
   },
   "outputs": [],
   "source": []
  }
 ],
 "metadata": {
  "@webio": {
   "lastCommId": "7B6516C96528481389467B194719F2E9",
   "lastKernelId": "aa42327d-48e1-4ca5-a297-2195db870297"
  },
  "kernelspec": {
   "display_name": "Julia 1.0.3",
   "language": "julia",
   "name": "julia-1.0"
  },
  "language_info": {
   "file_extension": ".jl",
   "mimetype": "application/julia",
   "name": "julia",
   "version": "1.0.3"
  }
 },
 "nbformat": 4,
 "nbformat_minor": 1
}
