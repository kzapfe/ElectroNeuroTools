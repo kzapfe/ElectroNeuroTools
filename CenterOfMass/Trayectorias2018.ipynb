{
 "cells": [
  {
   "cell_type": "code",
   "execution_count": 58,
   "metadata": {
    "collapsed": true
   },
   "outputs": [],
   "source": [
    "using JLD\n",
    "using PyPlot\n",
    "using Statistics, StatsBase #mean and std"
   ]
  },
  {
   "cell_type": "code",
   "execution_count": 59,
   "metadata": {},
   "outputs": [
    {
     "data": {
      "text/plain": [
       "89275"
      ]
     },
     "execution_count": 59,
     "metadata": {},
     "output_type": "execute_result"
    }
   ],
   "source": [
    "nombrecm=\"/home/karel/BRWFiles/estriado/Cacho_6_estriado_slice1_1004A-CM.jld\"\n",
    "archivo=load(nombrecm)\n",
    "DatosCMP=archivo[\"CMP\"]\n",
    "DatosCMN=archivo[\"CMN\"];\n",
    "evocada=false\n",
    "nmax=length(DatosCMP) #cuantos cuadros hay"
   ]
  },
  {
   "cell_type": "code",
   "execution_count": 60,
   "metadata": {},
   "outputs": [
    {
     "data": {
      "text/plain": [
       "0×3 Array{Int64,2}"
      ]
     },
     "execution_count": 60,
     "metadata": {},
     "output_type": "execute_result"
    }
   ],
   "source": [
    "DatosCMP[1337]"
   ]
  },
  {
   "cell_type": "code",
   "execution_count": 61,
   "metadata": {},
   "outputs": [
    {
     "data": {
      "text/plain": [
       "0×3 Array{Int64,2}"
      ]
     },
     "execution_count": 61,
     "metadata": {},
     "output_type": "execute_result"
    }
   ],
   "source": [
    "DatosCMP[1341]"
   ]
  },
  {
   "cell_type": "code",
   "execution_count": 62,
   "metadata": {},
   "outputs": [
    {
     "data": {
      "text/plain": [
       "leunjlddeCM (generic function with 3 methods)"
      ]
     },
     "execution_count": 62,
     "metadata": {},
     "output_type": "execute_result"
    }
   ],
   "source": [
    "function leeunmegaarrayarchivos(NomineGeneralis::AbstractString, desde=35, hasta=501)\n",
    "    LeMegaArray=Array[]\n",
    "    for t=desde:hasta\n",
    "      #  println(\"$NomineGeneralis-$t.dat\")\n",
    "        CMx=try \n",
    "            readdlm(\"$NomineGeneralis-$t.dat\")\n",
    "        catch\n",
    "            []\n",
    "        end\n",
    "        push!(LeMegaArray, CMx)\n",
    "    end\n",
    "    return LeMegaArray\n",
    "    end\n",
    "\n",
    "\n",
    "function leunjlddeCM(datos, desde=1, hasta=300)\n",
    "    LeMegaArray=Array[]\n",
    "    for t=desde:hasta\n",
    "      #  println(\"$NomineGeneralis-$t.dat\")\n",
    "        CMx=try \n",
    "        readdlm(\"$NomineGeneralis-$t.dat\")\n",
    "        catch\n",
    "            []\n",
    "        end\n",
    "        push!(LeMegaArray, CMx)\n",
    "    end\n",
    "    return LeMegaArray\n",
    "end\n",
    "\n"
   ]
  },
  {
   "cell_type": "markdown",
   "metadata": {},
   "source": [
    "Para Evocados, hay un par de variables temporales para considerar:\n",
    "- retrazo: el tiempo en cuadros que hubo desde el comienzo del registro hasta el estimulo\n",
    "- latencia: el tiempo en cuadros que hubo desde el estimulo hasta que paso algo interesante\n"
   ]
  },
  {
   "cell_type": "code",
   "execution_count": 63,
   "metadata": {},
   "outputs": [
    {
     "data": {
      "text/plain": [
       "89275"
      ]
     },
     "execution_count": 63,
     "metadata": {},
     "output_type": "execute_result"
    }
   ],
   "source": [
    "#freq=7.022 # la frecuencia de muestreo en kHz de los experimentos viejos\n",
    "freq=17.85550205219098 # la freq de los nuevos, en kHz\n",
    " \n",
    "if evocada\n",
    "    retms=5.0 #retrazo en milisec\n",
    "    latms=4.0 #latencia en milisec\n",
    "    retrazo=round(Int, retms * freq)\n",
    "    lat=round(Int, latms * freq)\n",
    "    desde=retrazo+lat\n",
    "    hasta=300\n",
    "else\n",
    "    retms=0\n",
    "    latms=0\n",
    "    retrazo=0\n",
    "    lat=0\n",
    "    desde=1\n",
    "    hasta=nmax\n",
    "end"
   ]
  },
  {
   "cell_type": "code",
   "execution_count": 64,
   "metadata": {},
   "outputs": [
    {
     "data": {
      "text/plain": [
       "difgordis (generic function with 1 method)"
      ]
     },
     "execution_count": 64,
     "metadata": {},
     "output_type": "execute_result"
    }
   ],
   "source": [
    "function dist2D(x,y)\n",
    "    result=sqrt((x[1]-y[1])^2+(x[2]-y[2])^2)\n",
    "    return result\n",
    "end\n",
    "\n",
    "function difgordis(x,y)\n",
    "    result=abs(x-y)/max(abs(x),abs(y))\n",
    "    return result\n",
    "end"
   ]
  },
  {
   "cell_type": "code",
   "execution_count": 65,
   "metadata": {},
   "outputs": [
    {
     "data": {
      "text/plain": [
       "0.27586206896551724"
      ]
     },
     "execution_count": 65,
     "metadata": {},
     "output_type": "execute_result"
    }
   ],
   "source": [
    "difgordis(0.21,0.29)"
   ]
  },
  {
   "cell_type": "code",
   "execution_count": 66,
   "metadata": {},
   "outputs": [
    {
     "data": {
      "text/plain": [
       "encuentraTrayectorias (generic function with 5 methods)"
      ]
     },
     "execution_count": 66,
     "metadata": {},
     "output_type": "execute_result"
    }
   ],
   "source": [
    "function encuentraTrayectorias(Datos, mincadena=20, mingordo=2.0, desde=1,hasta=20)\n",
    "\n",
    "toleradist=16.0*sqrt(2)\n",
    "#toldifgordis=0.33\n",
    "tau=1\n",
    "t=1\n",
    "j=1\n",
    "\n",
    "Catenario=Dict{Integer, Array{Any}}()\n",
    "Cadena=[0 0 0 0]\n",
    "tnum=1\n",
    "CopiaMegaArray=deepcopy(Datos);\n",
    "NumFrames=length(Datos)\n",
    "FakeNumFrames=NumFrames\n",
    "\n",
    "\n",
    "\n",
    "while t <= FakeNumFrames-1 \n",
    "    \n",
    "    tau=t\n",
    "    \n",
    "    @label arrrrh\n",
    " \n",
    "        if(CopiaMegaArray[tau]==[])\n",
    "            \n",
    "            jmax,nada=0,0\n",
    "        else\n",
    "          \n",
    "     jmax,nada= size(CopiaMegaArray[tau])\n",
    "        end\n",
    "    \n",
    "        \n",
    "    while j <=jmax && tau<FakeNumFrames\n",
    "            \n",
    "            if abs(CopiaMegaArray[tau][j,3]) > mingordo\n",
    "                \n",
    "            Eslabon=[transpose(CopiaMegaArray[tau][j,:]) tau]\n",
    "            Cadena=vcat(Cadena, Eslabon)\n",
    "         #   println(\"Papa t: \", t, \"  tau: \", tau, \" y  j: \",j )\n",
    "            mindist=2\n",
    "            kasterisco=1\n",
    "                \n",
    "                if CopiaMegaArray[tau+1]==[]\n",
    "                    kmax,nada=0,0\n",
    "                else\n",
    "                kmax, nada= size(CopiaMegaArray[tau+1])\n",
    "                end\n",
    "                huboalgo=false\n",
    "          \n",
    "        #    kmax=5\n",
    "            \n",
    "            for k=1:kmax\n",
    "                \n",
    "                EslabonTentativo=CopiaMegaArray[tau+1][k,:]\n",
    "            #    println(EslabonTentativo)\n",
    "                    if abs(EslabonTentativo[3])>mingordo\n",
    "                    dist=dist2D(Eslabon,EslabonTentativo)                  \n",
    "                    if dist<mindist\n",
    "                        mindist=dist\n",
    "                        kasterisco=k\n",
    "                        \n",
    "                       # println(kasterisco, \"=k*\", k, \"=k\")\n",
    "                        huboalgo=true\n",
    "                    end\n",
    "                end\n",
    "            \n",
    "            end    \n",
    "            \n",
    "            if huboalgo && mindist<toleradist\n",
    "                #quitamos el anterior\n",
    "                CopiaMegaArray[tau][j,3]=0.0000 \n",
    "               # println(mindist,\" \", t, \" \", tau+1 ,\" \", kasterisco )\n",
    "                \n",
    "                if tau+1<FakeNumFrames\n",
    "                    tau+=1\n",
    "                    j=kasterisco\n",
    "      #              println(\"Pepe t: \", t, \"  tau: \", tau, \" y  j: \",j )\n",
    "                    @goto arrrrh\n",
    "                \n",
    "                else\n",
    "                    \n",
    "                    Eslabon=[transpose(CopiaMegaArray[tau+1][kasterisco,:]) tau+1]\n",
    "                    Cadena=vcat(Cadena, Eslabon)\n",
    "      #              println(\"Pipi t: \", t, \"  t: \", t, \" y  j: \",j )\n",
    "                    j+=1\n",
    "                    tau=t\n",
    "                    \n",
    "                    if size(Cadena)[1]>mincadena\n",
    "                        #push!(Catenario, Cadena[2:end,:])\n",
    "                        Catenario[tnum]=Cadena[2:end,:]\n",
    "                        tnum+=1\n",
    "                    end\n",
    "                    \n",
    "                    Cadena=[0 0 0 0]\n",
    "                    @goto arrrrh\n",
    "                end\n",
    "                                \n",
    "            else\n",
    "                \n",
    "                if size(Cadena)[1]>mincadena\n",
    "                    # veamos si funciona  mejor como dict \n",
    "                        #push!(Catenario, Cadena[2:end,:])\n",
    "                        Catenario[tnum]=Cadena[2:end,:]\n",
    "                        tnum+=1\n",
    "                end\n",
    "                Cadena=[0 0 0 0]\n",
    "                j+=1\n",
    "                tau=t\n",
    "                @goto arrrrh\n",
    "            end\n",
    "                       \n",
    "        end #cierra sobre el if de  la masa \n",
    "                \n",
    "        j+=1                    \n",
    "        tau=t\n",
    "    \n",
    "    end\n",
    "    @label urrr\n",
    "      \n",
    "    j=1\n",
    "    t+=1\n",
    "    tau=t\n",
    "    Cadena=[0 0 0 0]\n",
    "        end \n",
    "    \n",
    "    return Catenario\n",
    "end"
   ]
  },
  {
   "cell_type": "code",
   "execution_count": 67,
   "metadata": {},
   "outputs": [
    {
     "data": {
      "text/plain": [
       "(1, 89275)"
      ]
     },
     "execution_count": 67,
     "metadata": {},
     "output_type": "execute_result"
    }
   ],
   "source": [
    "(desde, hasta)\n"
   ]
  },
  {
   "cell_type": "code",
   "execution_count": 68,
   "metadata": {},
   "outputs": [
    {
     "data": {
      "text/plain": [
       "3"
      ]
     },
     "execution_count": 68,
     "metadata": {},
     "output_type": "execute_result"
    }
   ],
   "source": [
    "pesomin=5\n",
    "longmin=3"
   ]
  },
  {
   "cell_type": "code",
   "execution_count": 69,
   "metadata": {},
   "outputs": [
    {
     "name": "stdout",
     "output_type": "stream",
     "text": [
      "  3.218217 seconds (3.68 M allocations: 8.875 GiB, 30.70% gc time)\n"
     ]
    }
   ],
   "source": [
    "#Recuerda el segundo argumento es la longitud mínima de la cadena\n",
    "@time CatenarioPositivo=encuentraTrayectorias(DatosCMP,longmin,pesomin,desde,hasta);\n"
   ]
  },
  {
   "cell_type": "code",
   "execution_count": 70,
   "metadata": {
    "collapsed": true
   },
   "outputs": [],
   "source": [
    "CatenarioNegativo=encuentraTrayectorias(DatosCMN,longmin,pesomin,desde,hasta);"
   ]
  },
  {
   "cell_type": "code",
   "execution_count": 55,
   "metadata": {
    "collapsed": true
   },
   "outputs": [],
   "source": [
    "nombreout=nombrecm[1:end-6]*\"Tray-todas.jld\"\n",
    "nota=\"longitud minima fue $longmin, peso minimo fue $pesomin \"\n",
    "save(nombreout, \"CatenarioNegativo\", CatenarioNegativo, \"CatenarioPositivo\", CatenarioPositivo, \"nota\", nota)"
   ]
  },
  {
   "cell_type": "code",
   "execution_count": 71,
   "metadata": {},
   "outputs": [
    {
     "data": {
      "text/plain": [
       "(346, 1102)"
      ]
     },
     "execution_count": 71,
     "metadata": {},
     "output_type": "execute_result"
    }
   ],
   "source": [
    "length(CatenarioPositivo), length(CatenarioNegativo)"
   ]
  },
  {
   "cell_type": "code",
   "execution_count": 72,
   "metadata": {},
   "outputs": [
    {
     "data": {
      "text/plain": [
       "Dict{Integer,Array{Any,N} where N} with 346 entries:\n",
       "  288 => Any[30.505 33.5555 57.8864 78645.0; 30.5005 33.5365 70.255 78646.0; … …\n",
       "  306 => Any[8.43692 13.4448 67.5754 81067.0; 8.43081 13.4541 68.5466 81068.0; …\n",
       "  11  => Any[6.96499 40.4727 99.5611 2610.0; 6.97541 40.4693 105.188 2611.0; 7.…\n",
       "  134 => Any[8.40725 13.4966 66.5606 37858.0; 8.41911 13.5131 67.8592 37859.0; …\n",
       "  158 => Any[39.9329 5.46427 106.354 42940.0; 39.838 5.57705 114.728 42941.0; ……\n",
       "  160 => Any[4.71706 39.5008 92.6526 42943.0; 4.69223 39.5011 94.3215 42944.0; …\n",
       "  215 => Any[21.4569 46.3397 55.6876 57873.0; 21.734 46.287 57.1991 57874.0; 22…\n",
       "  29  => Any[41.3944 6.84857 115.129 7230.0; 41.4059 6.90863 113.858 7231.0; … …\n",
       "  131 => Any[13.3501 57.4735 80.3433 37098.0; 13.3978 57.5254 75.5834 37099.0; …\n",
       "  249 => Any[19.4899 31.4102 65.314 69325.0; 19.4907 31.4115 65.9285 69326.0; 1…\n",
       "  207 => Any[21.0995 45.7747 95.8722 57060.0; 20.9312 45.868 141.528 57061.0; ……\n",
       "  300 => Any[12.4337 13.5283 66.5694 78798.0; 12.4873 13.4917 82.4131 78799.0; …\n",
       "  173 => Any[35.4975 61.5978 68.0242 48913.0; 35.7236 61.521 94.0289 48914.0; 3…\n",
       "  289 => Any[36.6282 61.4039 93.3105 78646.0; 36.3408 61.2825 107.777 78647.0; …\n",
       "  74  => Any[14.4323 42.4226 64.0855 21515.0; 14.4417 42.4157 67.8248 21516.0; …\n",
       "  201 => Any[18.9816 41.2544 59.7089 54718.0; 18.8304 41.3771 87.9577 54719.0; …\n",
       "  176 => Any[22.981 17.7931 68.752 49969.0; 22.9784 17.7874 68.2398 49970.0; 22…\n",
       "  57  => Any[41.3254 6.53725 75.5682 14372.0; 41.1383 6.65499 108.501 14373.0; …\n",
       "  31  => Any[36.154 62.935 85.082 7233.0; 36.1779 63.2755 69.7788 7234.0; 36.32…\n",
       "  285 => Any[35.0047 61.4647 73.7652 78573.0; 34.9944 61.4695 78.7392 78574.0; …\n",
       "  70  => Any[6.79785 40.5792 98.3381 21512.0; 6.6606 40.6061 128.81 21513.0; … …\n",
       "  318 => Any[8.42629 13.4634 63.3154 84307.0; 8.4369 13.4803 74.9818 84308.0; 8…\n",
       "  33  => Any[44.519 23.4555 61.2977 9549.0; 44.5097 23.4696 67.1868 9550.0; 44.…\n",
       "  335 => Any[9.98567 31.8216 83.8825 86266.0; 9.98452 31.8333 87.7374 86267.0; …\n",
       "  252 => Any[23.401 19.486 66.479 69553.0; 23.4331 19.499 66.6841 69554.0; … ; …\n",
       "  ⋮   => ⋮"
      ]
     },
     "execution_count": 72,
     "metadata": {},
     "output_type": "execute_result"
    }
   ],
   "source": [
    "CatenarioPositivo"
   ]
  },
  {
   "cell_type": "code",
   "execution_count": 73,
   "metadata": {},
   "outputs": [
    {
     "data": {
      "text/plain": [
       "\"/home/karel/BRWFiles/estriado/Cacho_6_estriado_slice1_1004A-Tray-todas.jld\""
      ]
     },
     "execution_count": 73,
     "metadata": {},
     "output_type": "execute_result"
    }
   ],
   "source": [
    "nombreout"
   ]
  },
  {
   "cell_type": "code",
   "execution_count": 74,
   "metadata": {},
   "outputs": [
    {
     "data": {
      "text/plain": [
       "Base.ValueIterator for a Dict{Integer,Array{Any,N} where N} with 1102 entries. Values:\n",
       "  Any[21.4884 23.4329 -76.7954 27085.0; 21.4673 23.4593 -88.134 27086.0; … ; 21…\n",
       "  Any[21.7304 22.5432 -113.998 88250.0; 21.7534 22.5945 -148.068 88251.0; … ; 2…\n",
       "  Any[24.1229 26.6339 -88.3571 1244.0; 23.9245 26.5862 -79.8585 1245.0; 23.8928…\n",
       "  Any[26.5414 44.5342 -65.6183 4872.0; 26.5756 44.4911 -66.2758 4873.0; 26.5817…\n",
       "  Any[28.3128 19.5211 -87.4428 76712.0; 28.3611 19.4788 -88.8486 76713.0; … ; 2…\n",
       "  Any[35.5897 62.4434 -68.126 13306.0; 35.5635 62.4533 -70.9124 13307.0; 35.502…\n",
       "  Any[26.3283 40.5592 -88.3579 76153.0; 26.3819 40.588 -101.421 76154.0; … ; 26…\n",
       "  Any[17.5797 39.4914 -72.7008 24490.0; 17.5606 39.4814 -76.3987 24491.0; 17.54…\n",
       "  Any[26.3945 40.5451 -75.3345 28154.0; 26.4263 40.5206 -82.4235 28155.0; … ; 2…\n",
       "  Any[23.4667 18.3784 -96.6787 75030.0; 23.4568 18.4343 -101.28 75031.0; … ; 23…\n",
       "  Any[31.4484 16.5228 -64.2599 80225.0; 31.4331 16.5378 -66.6368 80226.0; 31.41…\n",
       "  Any[28.5168 18.4383 -76.7527 30366.0; 28.6095 18.4896 -91.0122 30367.0; … ; 2…\n",
       "  Any[27.5496 18.3304 -85.742 52829.0; 27.5057 18.3508 -95.3037 52830.0; 27.469…\n",
       "  Any[23.5034 15.4213 -85.2367 49608.0; 23.4613 15.4495 -106.755 49609.0; … ; 2…\n",
       "  Any[8.4486 13.4884 -60.2571 87813.0; 8.44317 13.4855 -80.6825 87814.0; 8.4313…\n",
       "  Any[26.0201 40.7438 -70.3221 75487.0; 26.1953 40.67 -101.524 75488.0; … ; 26.…\n",
       "  Any[26.4403 50.5317 -56.0959 57221.0; 26.4636 50.5101 -58.7614 57222.0; 26.68…\n",
       "  Any[27.4018 18.5698 -68.1022 62304.0; 27.4806 18.5583 -74.3852 62305.0; 27.53…\n",
       "  Any[22.2257 22.927 -104.54 77975.0; 22.3709 22.8551 -114.217 77976.0; 22.5125…\n",
       "  Any[33.0416 25.8542 -99.2641 7230.0; 33.034 25.8585 -101.349 7231.0; 33.0113 …\n",
       "  Any[27.5667 17.6394 -90.3034 24437.0; 27.4869 17.8045 -113.359 24438.0; … ; 2…\n",
       "  Any[47.991 32.7896 -98.5186 41628.0; 47.9689 32.8109 -98.1441 41629.0; 47.963…\n",
       "  Any[17.1445 8.78345 -162.01 14293.0; 17.154 8.9588 -530.735 14294.0; … ; 17.0…\n",
       "  Any[28.4704 16.5159 -64.5752 51227.0; 28.4903 16.5263 -63.0548 51228.0; 28.48…\n",
       "  Any[20.4095 41.5094 -99.5386 58279.0; 20.4802 41.4039 -110.419 58280.0; 20.57…\n",
       "  ⋮"
      ]
     },
     "execution_count": 74,
     "metadata": {},
     "output_type": "execute_result"
    }
   ],
   "source": [
    "values(CatenarioNegativo)"
   ]
  },
  {
   "cell_type": "code",
   "execution_count": 75,
   "metadata": {
    "collapsed": true
   },
   "outputs": [],
   "source": [
    "save(nombreout, \"CatenarioPositivo\", CatenarioPositivo, \"CatenarioNegativo\", CatenarioNegativo, \"notatray\", nota)"
   ]
  },
  {
   "cell_type": "code",
   "execution_count": 76,
   "metadata": {},
   "outputs": [
    {
     "data": {
      "image/png": "[encoded data removed]",
      "text/plain": [
       "Figure(PyObject <Figure size 900x800 with 1 Axes>)"
      ]
     },
     "metadata": {},
     "output_type": "display_data"
    }
   ],
   "source": [
    "#PyPlot.ion()\n",
    "figure(figsize=(9,8))\n",
    "#axis(\"equal\")\n",
    "xlim(0.0,65.0)\n",
    "ylim(0.0,65.0)\n",
    "tolerancia=0\n",
    "minlong=0\n",
    "maxlong=20000\n",
    "#colores=Union{}\n",
    "\n",
    "for p in values(CatenarioPositivo)\n",
    "    gordura=abs(p[:3])\n",
    "    longus,gordus=size(p)\n",
    "    if (mean(gordura)>tolerancia) && (longus>minlong) && longus < maxlong\n",
    "        #Si son chiquitos no nos interesan.\n",
    "        xxpos=p[:,1]\n",
    "        yypos=p[:,2]    \n",
    "        tiempos=p[:,4]/7022    \n",
    "        plot(xxpos, yypos, marker=\"o\", markersize=0.25, color=\"r\", lw=0.25, zorder=15)\n",
    "        colores=scatter(xxpos,yypos, s=gordura*0.4, edgecolors=\"none\", \n",
    "        c=tiempos, cmap=\"autumn\", vmin=0.0, vmax=0.72 )\n",
    "        principios=scatter(xxpos[1],yypos[1], s=gordura*0.5,\n",
    "        edgecolors=\"black\", \n",
    "        color=\"r\", marker=\"s\", label=\"Inicio\" ,\n",
    "        zorder=1)\n",
    "        finales=scatter(xxpos[end],yypos[end], s=gordura*0.5, edgecolors=\"black\", \n",
    "        color=\"gold\", marker=\"D\", label=\"Final\", zorder=2 )\n",
    "        # annotate(round(tiempos[1],4),  (xxpos[1], yypos[1]), fontsize=7, color=\"black\")\n",
    "        # annotate(round(tiempos[end],4), (xxpos[end], yypos[end]), fontsize=7, color=\"green\")\n",
    "\n",
    "    end\n",
    "end\n",
    "\n",
    "#savefig(\"ejemploaltaspositivas-01.svg\",dpi=92)"
   ]
  },
  {
   "cell_type": "code",
   "execution_count": 31,
   "metadata": {},
   "outputs": [
    {
     "data": {
      "text/plain": [
       "save (generic function with 8 methods)"
      ]
     },
     "execution_count": 31,
     "metadata": {},
     "output_type": "execute_result"
    }
   ],
   "source": [
    "JLD.save"
   ]
  },
  {
   "cell_type": "code",
   "execution_count": null,
   "metadata": {
    "collapsed": true
   },
   "outputs": [],
   "source": []
  }
 ],
 "metadata": {
  "@webio": {
   "lastCommId": null,
   "lastKernelId": null
  },
  "kernelspec": {
   "display_name": "Julia 1.0.3",
   "language": "julia",
   "name": "julia-1.0"
  },
  "language_info": {
   "file_extension": ".jl",
   "mimetype": "application/julia",
   "name": "julia",
   "version": "1.0.3"
  }
 },
 "nbformat": 4,
 "nbformat_minor": 1
}
