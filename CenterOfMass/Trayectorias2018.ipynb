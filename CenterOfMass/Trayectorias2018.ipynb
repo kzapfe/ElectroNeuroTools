{
 "cells": [
  {
   "cell_type": "code",
   "execution_count": 1,
   "metadata": {
    "collapsed": true
   },
   "outputs": [],
   "source": [
    "using JLD\n",
    "using PyPlot"
   ]
  },
  {
   "cell_type": "code",
   "execution_count": 2,
   "metadata": {},
   "outputs": [],
   "source": [
    "archivo=load(\"../JLDFiles/TrabajandoCentrosdeMasa/140116s2cut2_evento_2-CM.jld\")\n",
    "DatosCMP=archivo[\"CMP\"]\n",
    "DatosCMN=archivo[\"CMN\"];"
   ]
  },
  {
   "cell_type": "code",
   "execution_count": 6,
   "metadata": {},
   "outputs": [
    {
     "data": {
      "text/plain": [
       "leunjlddeCM (generic function with 3 methods)"
      ]
     },
     "execution_count": 6,
     "metadata": {},
     "output_type": "execute_result"
    }
   ],
   "source": [
    "function leeunmegaarrayarchivos(NomineGeneralis::AbstractString, desde=35, hasta=501)\n",
    "    LeMegaArray=Array[]\n",
    "    for t=desde:hasta\n",
    "      #  println(\"$NomineGeneralis-$t.dat\")\n",
    "        CMx=try \n",
    "            readdlm(\"$NomineGeneralis-$t.dat\")\n",
    "        catch\n",
    "            []\n",
    "        end\n",
    "        push!(LeMegaArray, CMx)\n",
    "    end\n",
    "    return LeMegaArray\n",
    "    end\n",
    "\n",
    "\n",
    "function leunjlddeCM(datos, desde=1, hasta=300)\n",
    "    LeMegaArray=Array[]\n",
    "    for t=desde:hasta\n",
    "      #  println(\"$NomineGeneralis-$t.dat\")\n",
    "        CMx=try \n",
    "        readdlm(\"$NomineGeneralis-$t.dat\")\n",
    "        catch\n",
    "            []\n",
    "        end\n",
    "        push!(LeMegaArray, CMx)\n",
    "    end\n",
    "    return LeMegaArray\n",
    "end\n",
    "\n"
   ]
  },
  {
   "cell_type": "code",
   "execution_count": 7,
   "metadata": {},
   "outputs": [
    {
     "data": {
      "text/plain": [
       "94×3 Array{Float64,2}:\n",
       " 14.5913   13.0       18.2248 \n",
       " 47.0208    1.0       49.1933 \n",
       " 62.5856    5.01797   37.3977 \n",
       " 24.8457   55.5787    49.0017 \n",
       " 12.531    54.5648    24.0163 \n",
       " 54.3702   17.2734    22.6476 \n",
       "  9.32503   9.35457   56.525  \n",
       " 62.8807   60.1575    25.9703 \n",
       " 28.257    41.8538   142.636  \n",
       " 43.8689   59.7366    21.5165 \n",
       " 23.7956    6.94079  240.387  \n",
       " 53.9299    7.96302  105.199  \n",
       "  8.05734   3.69633  144.708  \n",
       "  ⋮                           \n",
       "  7.637    57.0        9.83984\n",
       " 50.3426   51.7049    55.8505 \n",
       " 19.4123   29.0511    39.3362 \n",
       " 59.9946   16.858     21.4021 \n",
       " 47.311    26.6904   170.069  \n",
       " 15.7655   59.9625    33.4178 \n",
       "  2.59295  63.7248    15.7672 \n",
       "  4.51767   8.30373   18.4594 \n",
       " 31.9679   11.2922    62.1465 \n",
       " 42.4545   63.0607    76.6045 \n",
       " 55.9218   48.3915    95.195  \n",
       " 36.8439   29.3028    98.9685 "
      ]
     },
     "execution_count": 7,
     "metadata": {},
     "output_type": "execute_result"
    }
   ],
   "source": [
    "DatosCMP[99]"
   ]
  },
  {
   "cell_type": "code",
   "execution_count": 8,
   "metadata": {},
   "outputs": [
    {
     "data": {
      "text/plain": [
       "dist2D (generic function with 1 method)"
      ]
     },
     "execution_count": 8,
     "metadata": {},
     "output_type": "execute_result"
    }
   ],
   "source": [
    "function dist2D(x,y)\n",
    "    result=sqrt((x[1]-y[1])^2+(x[2]-y[2])^2)\n",
    "    return result\n",
    "end"
   ]
  },
  {
   "cell_type": "code",
   "execution_count": 21,
   "metadata": {},
   "outputs": [
    {
     "data": {
      "text/plain": [
       "encuentraTrayectorias (generic function with 5 methods)"
      ]
     },
     "execution_count": 21,
     "metadata": {},
     "output_type": "execute_result"
    }
   ],
   "source": [
    "function encuentraTrayectorias(Datos, mincadena=20, mingordo=2.0, desde=1,hasta=20)\n",
    "\n",
    "toleradist=4.0*sqrt(2)\n",
    "tau=1\n",
    "t=1\n",
    "j=1\n",
    "Catenario=Dict{Integer, Array{Any}}()\n",
    "Cadena=[0 0 0 0]\n",
    "tnum=1\n",
    "CopiaMegaArray=deepcopy(Datos);\n",
    "NumFrames=length(Datos)\n",
    "FakeNumFrames=NumFrames\n",
    "\n",
    "\n",
    "\n",
    "while t <= FakeNumFrames-1 \n",
    "    \n",
    "    tau=t\n",
    "    \n",
    "    @label arrrrh\n",
    " \n",
    "        if(CopiaMegaArray[tau]==[])\n",
    "            \n",
    "            jmax,nada=0,0\n",
    "        else\n",
    "          \n",
    "     jmax,nada= size(CopiaMegaArray[tau])\n",
    "        end\n",
    "    \n",
    "        \n",
    "    while j <=jmax && tau<FakeNumFrames\n",
    "            \n",
    "            if abs(CopiaMegaArray[tau][j,3]) > mingordo\n",
    "                \n",
    "            Eslabon=[transpose(CopiaMegaArray[tau][j,:]) tau]\n",
    "            Cadena=vcat(Cadena, Eslabon)\n",
    "         #   println(\"Papa t: \", t, \"  tau: \", tau, \" y  j: \",j )\n",
    "            mindist=2\n",
    "            kasterisco=1\n",
    "                \n",
    "                if CopiaMegaArray[tau+1]==[]\n",
    "                    kmax,nada=0,0\n",
    "                else\n",
    "                kmax, nada= size(CopiaMegaArray[tau+1])\n",
    "                end\n",
    "                huboalgo=false\n",
    "          \n",
    "        #    kmax=5\n",
    "            \n",
    "            for k=1:kmax\n",
    "                \n",
    "                EslabonTentativo=CopiaMegaArray[tau+1][k,:]\n",
    "            #    println(EslabonTentativo)\n",
    "                    if abs(EslabonTentativo[3])>mingordo\n",
    "                    dist=dist2D(Eslabon,EslabonTentativo)                  \n",
    "                    if dist<mindist\n",
    "                        mindist=dist\n",
    "                        kasterisco=k\n",
    "                        \n",
    "                       # println(kasterisco, \"=k*\", k, \"=k\")\n",
    "                        huboalgo=true\n",
    "                    end\n",
    "                end\n",
    "            \n",
    "            end    \n",
    "            \n",
    "            if huboalgo && mindist<toleradist\n",
    "                #quitamos el anterior\n",
    "                CopiaMegaArray[tau][j,3]=0.0000 \n",
    "               # println(mindist,\" \", t, \" \", tau+1 ,\" \", kasterisco )\n",
    "                \n",
    "                if tau+1<FakeNumFrames\n",
    "                    tau+=1\n",
    "                    j=kasterisco\n",
    "      #              println(\"Pepe t: \", t, \"  tau: \", tau, \" y  j: \",j )\n",
    "                    @goto arrrrh\n",
    "                \n",
    "                else\n",
    "                    \n",
    "                    Eslabon=[transpose(CopiaMegaArray[tau+1][kasterisco,:]) tau+1]\n",
    "                    Cadena=vcat(Cadena, Eslabon)\n",
    "      #              println(\"Pipi t: \", t, \"  t: \", t, \" y  j: \",j )\n",
    "                    j+=1\n",
    "                    tau=t\n",
    "                    \n",
    "                    if size(Cadena)[1]>mincadena\n",
    "                        #push!(Catenario, Cadena[2:end,:])\n",
    "                        Catenario[tnum]=Cadena[2:end,:]\n",
    "                        tnum+=1\n",
    "                    end\n",
    "                    \n",
    "                    Cadena=[0 0 0 0]\n",
    "                    @goto arrrrh\n",
    "                end\n",
    "                                \n",
    "            else\n",
    "                \n",
    "                if size(Cadena)[1]>mincadena\n",
    "                    # veamos si funciona  mejor como dict \n",
    "                        #push!(Catenario, Cadena[2:end,:])\n",
    "                        Catenario[tnum]=Cadena[2:end,:]\n",
    "                        tnum+=1\n",
    "                end\n",
    "                Cadena=[0 0 0 0]\n",
    "                j+=1\n",
    "                tau=t\n",
    "                @goto arrrrh\n",
    "            end\n",
    "                       \n",
    "        end #cierra sobre el if de  la masa \n",
    "                \n",
    "        j+=1                    \n",
    "        tau=t\n",
    "    \n",
    "    end\n",
    "    @label urrr\n",
    "      \n",
    "    j=1\n",
    "    t+=1\n",
    "    tau=t\n",
    "    Cadena=[0 0 0 0]\n",
    "        end \n",
    "    \n",
    "    return Catenario\n",
    "end"
   ]
  },
  {
   "cell_type": "code",
   "execution_count": 29,
   "metadata": {},
   "outputs": [
    {
     "name": "stdout",
     "output_type": "stream",
     "text": [
      " 30.655556 seconds (41.56 M allocations: 1.091 GiB, 1.61% gc time)\n"
     ]
    }
   ],
   "source": [
    "#Recuerda el segundo argumento es la longitud mínima de la cadena\n",
    "@time CatenarioPositivo=encuentraTrayectorias(DatosCMP,3,100,2,2000);\n"
   ]
  },
  {
   "cell_type": "code",
   "execution_count": 30,
   "metadata": {
    "collapsed": true
   },
   "outputs": [],
   "source": [
    "CatenarioNegativo=encuentraTrayectorias(DatosCMN,3,100,2,2000);"
   ]
  },
  {
   "cell_type": "code",
   "execution_count": 32,
   "metadata": {
    "collapsed": true
   },
   "outputs": [],
   "source": [
    "save(\"LFP_Promedio_est_con6-Tray.jld\", \"CatenarioNegativo\", CatenarioNegativo, \"CatenarioPositivo\", CatenarioPositivo)"
   ]
  },
  {
   "cell_type": "code",
   "execution_count": 31,
   "metadata": {},
   "outputs": [
    {
     "data": {
      "text/plain": [
       "(2272, 2111)"
      ]
     },
     "execution_count": 31,
     "metadata": {},
     "output_type": "execute_result"
    }
   ],
   "source": [
    "length(CatenarioPositivo), length(CatenarioNegativo)"
   ]
  },
  {
   "cell_type": "code",
   "execution_count": 16,
   "metadata": {},
   "outputs": [
    {
     "data": {
      "text/plain": [
       "Set(Array{Any,N} where N[Any[60.6101 7.67803 -49.6458 326.0; 60.264 8.24817 -61.078 327.0; … ; 60.743 7.37732 -92.0724 329.0; 60.433 8.69014 -55.7771 330.0], Any[20.7213 19.7644 -34.81 99.0; 21.366 19.4988 -28.1373 100.0; … ; 22.3641 19.0229 -21.6833 102.0; 23.4264 18.7161 -17.1871 103.0], Any[57.6337 57.365 -25.2505 548.0; 58.1375 57.3054 -16.852 549.0; … ; 58.5376 56.6961 -21.7564 551.0; 59.9782 56.906 -16.533 552.0], Any[1.12761 43.5351 -19.8307 1380.0; 1.11619 44.2232 -16.7393 1381.0; 1.1805 44.3982 -15.7527 1382.0], Any[9.3469 27.5951 -18.6983 442.0; 9.45362 27.5413 -19.8844 443.0; 9.57218 27.5674 -18.6076 444.0], Any[7.35956 29.0882 -20.9723 1682.0; 8.05965 29.5735 -28.2992 1683.0; … ; 10.0671 27.6051 -26.6671 1690.0; 9.7535 27.7615 -36.876 1691.0], Any[13.5792 40.3572 -57.9073 821.0; 13.7364 40.2286 -54.3413 822.0; … ; 14.0638 40.2105 -38.8227 824.0; 14.4502 40.2633 -32.7117 825.0], Any[15.1495 14.4507 -25.9546 473.0; 14.952 14.5132 -16.9169 474.0; … ; 14.5579 14.5115 -38.1116 478.0; 13.7577 14.3074 -65.723 479.0], Any[7.22014 26.4774 -65.2826 888.0; 7.4709 26.7162 -62.3896 889.0; 9.16092 27.5228 -128.645 890.0], Any[39.1534 29.2474 -47.2231 164.0; 39.8243 29.2598 -45.6492 165.0; 39.6787 29.2693 -40.0578 166.0; 39.7118 29.0536 -36.7783 167.0]  …  Any[25.2357 24.4243 -14.8511 1557.0; 26.2574 24.1867 -37.5442 1558.0; 26.4328 24.1917 -53.7739 1559.0], Any[11.1632 25.2953 -73.7733 386.0; 11.5088 24.9535 -64.868 387.0; 11.2795 24.9333 -62.5166 388.0], Any[34.2849 19.2433 -22.1814 1478.0; 35.1845 18.4656 -18.3674 1479.0; … ; 34.5438 18.9221 -34.969 1484.0; 34.064 19.515 -49.8483 1485.0], Any[3.38345 20.4216 -16.5466 588.0; 3.31417 20.4071 -20.5942 589.0; … ; 1.74943 20.57 -25.6358 597.0; 1.66733 20.5298 -19.3585 598.0], Any[47.019 26.1328 -37.4069 352.0; 47.1603 25.9804 -38.6537 353.0; 47.3238 25.8834 -36.0937 354.0], Any[23.4078 54.4452 -44.0826 1067.0; 25.2861 54.4185 -80.0711 1068.0; 23.9483 54.3466 -60.5325 1069.0; 24.3005 54.0517 -55.2 1070.0], Any[39.1861 33.8544 -17.313 1516.0; 39.2642 34.1958 -28.3525 1517.0; 39.2978 34.3438 -37.4039 1518.0], Any[24.3446 20.0 -10.0405 1151.0; 24.2002 19.9003 -18.9385 1152.0; 23.7239 20.5286 -50.6163 1153.0], Any[14.2414 39.3408 -15.4873 1269.0; 14.1978 39.3696 -21.7 1270.0; 14.1875 39.3949 -22.0936 1271.0], Any[37.6101 24.1354 -44.1249 1431.0; 37.7961 24.2869 -52.1616 1432.0; 37.9905 24.4415 -54.2292 1433.0]])"
      ]
     },
     "execution_count": 16,
     "metadata": {},
     "output_type": "execute_result"
    }
   ],
   "source": []
  },
  {
   "cell_type": "code",
   "execution_count": 42,
   "metadata": {},
   "outputs": [
    {
     "data": {
      "image/png": "[encoded data removed]",
      "text/plain": [
       "PyPlot.Figure(PyObject <matplotlib.figure.Figure object at 0x7fc69b2a9710>)"
      ]
     },
     "metadata": {},
     "output_type": "display_data"
    }
   ],
   "source": [
    "PyPlot.ion()\n",
    "figure(figsize=(9,8))\n",
    "#axis(\"equal\")\n",
    "xlim(0.0,65.0)\n",
    "ylim(0.0,65.0)\n",
    "tolerancia=25\n",
    "minlong=7\n",
    "maxlong=100\n",
    "#colores=Union{}\n",
    "\n",
    "for p in values(CatenarioPositivo)\n",
    "    gordura=abs(p[:3])\n",
    "    longus,gordus=size(p)\n",
    "    if (mean(gordura)>tolerancia) && (longus>minlong) && longus < maxlong\n",
    "        #Si son chiquitos no nos interesan.\n",
    "        xxpos=p[:,1]\n",
    "        yypos=p[:,2]    \n",
    "        tiempos=p[:,4]/7022    \n",
    "        plot(xxpos, yypos, marker=\"o\", markersize=0.25, color=\"r\")\n",
    "        colores=scatter(xxpos,yypos, s=gordura*0.4, edgecolors=\"none\", \n",
    "        c=tiempos, cmap=\"autumn\", vmin=0.0, vmax=0.72 )\n",
    "        principios=scatter(xxpos[1],yypos[1], s=gordura*0.5,\n",
    "        edgecolors=\"black\", \n",
    "        color=\"r\", marker=\"s\", label=\"Inicio\" )\n",
    "        finales=scatter(xxpos[end],yypos[end], s=gordura*0.5, edgecolors=\"black\", \n",
    "        color=\"gold\", marker=\"D\", label=\"Final\" )\n",
    "        # annotate(round(tiempos[1],4),  (xxpos[1], yypos[1]), fontsize=7, color=\"black\")\n",
    "        # annotate(round(tiempos[end],4), (xxpos[end], yypos[end]), fontsize=7, color=\"green\")\n",
    "\n",
    "    end\n",
    "end"
   ]
  },
  {
   "cell_type": "code",
   "execution_count": 36,
   "metadata": {},
   "outputs": [
    {
     "data": {
      "text/plain": [
       "Base.ValueIterator for a Dict{Integer,Array{Any,N} where N} with 2111 entries. Values:\n",
       "  Any[53.5033 32.4076 -133.551 1621.0; 53.4892 32.7307 -136.299 1622.0; 54.1822…\n",
       "  Any[55.8665 12.0067 -225.197 1672.0; 56.5207 12.1896 -224.462 1673.0; 56.4422…\n",
       "  Any[6.59196 45.59 -103.91 355.0; 7.14074 46.3508 -141.1 356.0; … ; 5.35004 47…\n",
       "  Any[45.0799 9.86538 -922.799 1307.0; 45.3606 10.2127 -893.363 1308.0; 45.7932…\n",
       "  Any[47.305 5.74263 -285.768 1113.0; 48.9043 6.26266 -245.747 1114.0; 48.5071 …\n",
       "  Any[11.6321 58.9727 -112.206 1998.0; 11.8719 59.5696 -128.812 1999.0; 10.7445…\n",
       "  Any[20.1788 28.8426 -120.598 1318.0; 20.8275 28.6643 -104.927 1319.0; 18.9634…\n",
       "  Any[8.32063 19.8652 -172.682 46.0; 8.5374 19.9342 -154.231 47.0; 8.4098 20.34…\n",
       "  Any[55.0209 25.3078 -155.68 1597.0; 56.074 26.8711 -202.385 1598.0; … ; 55.68…\n",
       "  Any[55.7124 14.0536 -2754.54 1150.0; 55.6006 13.8985 -3013.4 1151.0; 55.1074 …\n",
       "  Any[7.82534 44.3645 -186.664 94.0; 7.53528 44.3108 -194.993 95.0; 7.60553 44.…\n",
       "  Any[24.7877 14.4522 -189.128 1587.0; 24.8143 14.4333 -162.04 1588.0; 25.3413 …\n",
       "  Any[19.0188 46.9757 -135.564 1264.0; 19.339 46.6373 -147.948 1265.0; 19.5605 …\n",
       "  Any[39.4415 45.4727 -122.458 951.0; 41.0583 46.197 -177.428 952.0; 41.0455 46…\n",
       "  Any[24.4484 23.0762 -222.426 200.0; 22.9574 22.3195 -144.684 201.0; 23.1866 2…\n",
       "  Any[28.7264 30.9179 -148.943 1413.0; 29.0344 31.1642 -146.81 1414.0; 30.6433 …\n",
       "  Any[8.63095 24.5331 -159.342 937.0; 9.17847 26.1247 -232.527 938.0; 9.21333 2…\n",
       "  Any[45.6685 3.5169 -111.542 332.0; 45.5332 3.53108 -114.793 333.0; 43.9831 3.…\n",
       "  Any[12.8807 23.2519 -146.704 1407.0; 13.2735 24.4575 -125.745 1408.0; … ; 12.…\n",
       "  Any[8.35611 2.44771 -149.143 1773.0; 8.5304 2.47956 -139.134 1774.0; 8.52202 …\n",
       "  Any[8.53903 37.2148 -194.106 1612.0; 10.0719 37.2533 -178.326 1613.0; … ; 9.4…\n",
       "  Any[26.0777 13.3374 -186.218 1422.0; 24.2743 13.3523 -165.001 1423.0; 23.0925…\n",
       "  Any[24.8451 49.1819 -167.219 369.0; 24.9875 49.3167 -166.556 370.0; 26.0587 4…\n",
       "  Any[36.9121 12.0027 -1942.48 1139.0; 36.7109 12.2772 -2128.81 1140.0; 35.8662…\n",
       "  ⋮"
      ]
     },
     "execution_count": 36,
     "metadata": {},
     "output_type": "execute_result"
    }
   ],
   "source": [
    "values(CatenarioNegativo)"
   ]
  },
  {
   "cell_type": "code",
   "execution_count": null,
   "metadata": {
    "collapsed": true
   },
   "outputs": [],
   "source": []
  }
 ],
 "metadata": {
  "kernelspec": {
   "display_name": "Julia 0.6.0",
   "language": "julia",
   "name": "julia-0.6"
  },
  "language_info": {
   "file_extension": ".jl",
   "mimetype": "application/julia",
   "name": "julia",
   "version": "0.6.1"
  }
 },
 "nbformat": 4,
 "nbformat_minor": 1
}
