{
 "cells": [
  {
   "cell_type": "code",
   "execution_count": 3,
   "metadata": {},
   "outputs": [],
   "source": [
    "using JLD\n",
    "using PyPlot\n",
    "using Statistics, StatsBase #mean and std"
   ]
  },
  {
   "cell_type": "code",
   "execution_count": 33,
   "metadata": {},
   "outputs": [],
   "source": [
    "nombrecm=\"../JLDFiles/Evocada/CSDEvocada_3R7-CM.jld\"\n",
    "archivo=load(nombrecm)\n",
    "DatosCMP=archivo[\"CMP\"]\n",
    "DatosCMN=archivo[\"CMN\"];"
   ]
  },
  {
   "cell_type": "code",
   "execution_count": 5,
   "metadata": {},
   "outputs": [
    {
     "data": {
      "text/plain": [
       "leunjlddeCM (generic function with 3 methods)"
      ]
     },
     "execution_count": 5,
     "metadata": {},
     "output_type": "execute_result"
    }
   ],
   "source": [
    "function leeunmegaarrayarchivos(NomineGeneralis::AbstractString, desde=35, hasta=501)\n",
    "    LeMegaArray=Array[]\n",
    "    for t=desde:hasta\n",
    "      #  println(\"$NomineGeneralis-$t.dat\")\n",
    "        CMx=try \n",
    "            readdlm(\"$NomineGeneralis-$t.dat\")\n",
    "        catch\n",
    "            []\n",
    "        end\n",
    "        push!(LeMegaArray, CMx)\n",
    "    end\n",
    "    return LeMegaArray\n",
    "    end\n",
    "\n",
    "\n",
    "function leunjlddeCM(datos, desde=1, hasta=300)\n",
    "    LeMegaArray=Array[]\n",
    "    for t=desde:hasta\n",
    "      #  println(\"$NomineGeneralis-$t.dat\")\n",
    "        CMx=try \n",
    "        readdlm(\"$NomineGeneralis-$t.dat\")\n",
    "        catch\n",
    "            []\n",
    "        end\n",
    "        push!(LeMegaArray, CMx)\n",
    "    end\n",
    "    return LeMegaArray\n",
    "end\n",
    "\n"
   ]
  },
  {
   "cell_type": "markdown",
   "metadata": {},
   "source": [
    "Para Evocados, hay un par de variables temporales para considerar:\n",
    "- retrazo: el tiempo en cuadros que hubo desde el comienzo del registro hasta el estimulo\n",
    "- latencia: el tiempo en cuadros que hubo desde el estimulo hasta que paso algo interesante\n"
   ]
  },
  {
   "cell_type": "code",
   "execution_count": 16,
   "metadata": {},
   "outputs": [
    {
     "data": {
      "text/plain": [
       "300"
      ]
     },
     "execution_count": 16,
     "metadata": {},
     "output_type": "execute_result"
    }
   ],
   "source": [
    "freq=7.022 # la frecuencia de muestreo en kHz de los experimentos viejos\n",
    "retms=5.0 #retrazo en milisec\n",
    "latms=4.0 #latencia en milisec\n",
    "retrazo=round(Int, retms * freq)\n",
    "lat=round(Int, latms * freq)\n",
    "desde=retrazo+lat\n",
    "hasta=300"
   ]
  },
  {
   "cell_type": "code",
   "execution_count": 17,
   "metadata": {},
   "outputs": [
    {
     "data": {
      "text/plain": [
       "difgordis (generic function with 1 method)"
      ]
     },
     "execution_count": 17,
     "metadata": {},
     "output_type": "execute_result"
    }
   ],
   "source": [
    "function dist2D(x,y)\n",
    "    result=sqrt((x[1]-y[1])^2+(x[2]-y[2])^2)\n",
    "    return result\n",
    "end\n",
    "\n",
    "function difgordis(x,y)\n",
    "    result=abs(x-y)/max(abs(x),abs(y))\n",
    "    return result\n",
    "end"
   ]
  },
  {
   "cell_type": "code",
   "execution_count": 18,
   "metadata": {},
   "outputs": [
    {
     "data": {
      "text/plain": [
       "0.27586206896551724"
      ]
     },
     "execution_count": 18,
     "metadata": {},
     "output_type": "execute_result"
    }
   ],
   "source": [
    "difgordis(0.21,0.29)"
   ]
  },
  {
   "cell_type": "code",
   "execution_count": 19,
   "metadata": {},
   "outputs": [
    {
     "data": {
      "text/plain": [
       "encuentraTrayectorias (generic function with 5 methods)"
      ]
     },
     "execution_count": 19,
     "metadata": {},
     "output_type": "execute_result"
    }
   ],
   "source": [
    "function encuentraTrayectorias(Datos, mincadena=20, mingordo=2.0, desde=1,hasta=20)\n",
    "\n",
    "toleradist=16.0*sqrt(2)\n",
    "#toldifgordis=0.33\n",
    "tau=1\n",
    "t=1\n",
    "j=1\n",
    "Catenario=Dict{Integer, Array{Any}}()\n",
    "Cadena=[0 0 0 0]\n",
    "tnum=1\n",
    "CopiaMegaArray=deepcopy(Datos);\n",
    "NumFrames=length(Datos)\n",
    "FakeNumFrames=NumFrames\n",
    "\n",
    "\n",
    "\n",
    "while t <= FakeNumFrames-1 \n",
    "    \n",
    "    tau=t\n",
    "    \n",
    "    @label arrrrh\n",
    " \n",
    "        if(CopiaMegaArray[tau]==[])\n",
    "            \n",
    "            jmax,nada=0,0\n",
    "        else\n",
    "          \n",
    "     jmax,nada= size(CopiaMegaArray[tau])\n",
    "        end\n",
    "    \n",
    "        \n",
    "    while j <=jmax && tau<FakeNumFrames\n",
    "            \n",
    "            if abs(CopiaMegaArray[tau][j,3]) > mingordo\n",
    "                \n",
    "            Eslabon=[transpose(CopiaMegaArray[tau][j,:]) tau]\n",
    "            Cadena=vcat(Cadena, Eslabon)\n",
    "         #   println(\"Papa t: \", t, \"  tau: \", tau, \" y  j: \",j )\n",
    "            mindist=2\n",
    "            kasterisco=1\n",
    "                \n",
    "                if CopiaMegaArray[tau+1]==[]\n",
    "                    kmax,nada=0,0\n",
    "                else\n",
    "                kmax, nada= size(CopiaMegaArray[tau+1])\n",
    "                end\n",
    "                huboalgo=false\n",
    "          \n",
    "        #    kmax=5\n",
    "            \n",
    "            for k=1:kmax\n",
    "                \n",
    "                EslabonTentativo=CopiaMegaArray[tau+1][k,:]\n",
    "            #    println(EslabonTentativo)\n",
    "                    if abs(EslabonTentativo[3])>mingordo\n",
    "                    dist=dist2D(Eslabon,EslabonTentativo)                  \n",
    "                    if dist<mindist\n",
    "                        mindist=dist\n",
    "                        kasterisco=k\n",
    "                        \n",
    "                       # println(kasterisco, \"=k*\", k, \"=k\")\n",
    "                        huboalgo=true\n",
    "                    end\n",
    "                end\n",
    "            \n",
    "            end    \n",
    "            \n",
    "            if huboalgo && mindist<toleradist\n",
    "                #quitamos el anterior\n",
    "                CopiaMegaArray[tau][j,3]=0.0000 \n",
    "               # println(mindist,\" \", t, \" \", tau+1 ,\" \", kasterisco )\n",
    "                \n",
    "                if tau+1<FakeNumFrames\n",
    "                    tau+=1\n",
    "                    j=kasterisco\n",
    "      #              println(\"Pepe t: \", t, \"  tau: \", tau, \" y  j: \",j )\n",
    "                    @goto arrrrh\n",
    "                \n",
    "                else\n",
    "                    \n",
    "                    Eslabon=[transpose(CopiaMegaArray[tau+1][kasterisco,:]) tau+1]\n",
    "                    Cadena=vcat(Cadena, Eslabon)\n",
    "      #              println(\"Pipi t: \", t, \"  t: \", t, \" y  j: \",j )\n",
    "                    j+=1\n",
    "                    tau=t\n",
    "                    \n",
    "                    if size(Cadena)[1]>mincadena\n",
    "                        #push!(Catenario, Cadena[2:end,:])\n",
    "                        Catenario[tnum]=Cadena[2:end,:]\n",
    "                        tnum+=1\n",
    "                    end\n",
    "                    \n",
    "                    Cadena=[0 0 0 0]\n",
    "                    @goto arrrrh\n",
    "                end\n",
    "                                \n",
    "            else\n",
    "                \n",
    "                if size(Cadena)[1]>mincadena\n",
    "                    # veamos si funciona  mejor como dict \n",
    "                        #push!(Catenario, Cadena[2:end,:])\n",
    "                        Catenario[tnum]=Cadena[2:end,:]\n",
    "                        tnum+=1\n",
    "                end\n",
    "                Cadena=[0 0 0 0]\n",
    "                j+=1\n",
    "                tau=t\n",
    "                @goto arrrrh\n",
    "            end\n",
    "                       \n",
    "        end #cierra sobre el if de  la masa \n",
    "                \n",
    "        j+=1                    \n",
    "        tau=t\n",
    "    \n",
    "    end\n",
    "    @label urrr\n",
    "      \n",
    "    j=1\n",
    "    t+=1\n",
    "    tau=t\n",
    "    Cadena=[0 0 0 0]\n",
    "        end \n",
    "    \n",
    "    return Catenario\n",
    "end"
   ]
  },
  {
   "cell_type": "code",
   "execution_count": 34,
   "metadata": {},
   "outputs": [
    {
     "name": "stdout",
     "output_type": "stream",
     "text": [
      "  0.063519 seconds (244.25 k allocations: 13.343 MiB, 25.69% gc time)\n"
     ]
    }
   ],
   "source": [
    "#Recuerda el segundo argumento es la longitud mínima de la cadena\n",
    "@time CatenarioPositivo=encuentraTrayectorias(DatosCMP,3,5,desde,hasta);\n"
   ]
  },
  {
   "cell_type": "code",
   "execution_count": 35,
   "metadata": {
    "collapsed": true
   },
   "outputs": [],
   "source": [
    "CatenarioNegativo=encuentraTrayectorias(DatosCMN,3,5,desde,hasta);"
   ]
  },
  {
   "cell_type": "code",
   "execution_count": 39,
   "metadata": {},
   "outputs": [],
   "source": [
    "nombreout=nombrecm[1:end-6]*\"Tray-todas.jld\"\n",
    "save(nombreout, \"CatenarioNegativo\", CatenarioNegativo, \"CatenarioPositivo\", CatenarioPositivo)"
   ]
  },
  {
   "cell_type": "code",
   "execution_count": 40,
   "metadata": {},
   "outputs": [
    {
     "data": {
      "text/plain": [
       "(96, 83)"
      ]
     },
     "execution_count": 40,
     "metadata": {},
     "output_type": "execute_result"
    }
   ],
   "source": [
    "length(CatenarioPositivo), length(CatenarioNegativo)"
   ]
  },
  {
   "cell_type": "code",
   "execution_count": 41,
   "metadata": {},
   "outputs": [
    {
     "data": {
      "text/plain": [
       "\"../JLDFiles/Evocada/CSDEvocada_3R7-Tray-todas.jld\""
      ]
     },
     "execution_count": 41,
     "metadata": {},
     "output_type": "execute_result"
    }
   ],
   "source": [
    "nombreout"
   ]
  },
  {
   "cell_type": "code",
   "execution_count": null,
   "metadata": {
    "collapsed": true
   },
   "outputs": [],
   "source": []
  },
  {
   "cell_type": "code",
   "execution_count": 42,
   "metadata": {},
   "outputs": [
    {
     "data": {
      "image/png": "[encoded data removed]",
      "text/plain": [
       "Figure(PyObject <Figure size 900x800 with 1 Axes>)"
      ]
     },
     "metadata": {},
     "output_type": "display_data"
    }
   ],
   "source": [
    "PyPlot.ion()\n",
    "figure(figsize=(9,8))\n",
    "#axis(\"equal\")\n",
    "xlim(0.0,65.0)\n",
    "ylim(0.0,65.0)\n",
    "tolerancia=25\n",
    "minlong=7\n",
    "maxlong=100\n",
    "#colores=Union{}\n",
    "\n",
    "for p in values(CatenarioPositivo)\n",
    "    gordura=abs(p[:3])\n",
    "    longus,gordus=size(p)\n",
    "    if (mean(gordura)>tolerancia) && (longus>minlong) && longus < maxlong\n",
    "        #Si son chiquitos no nos interesan.\n",
    "        xxpos=p[:,1]\n",
    "        yypos=p[:,2]    \n",
    "        tiempos=p[:,4]/7022    \n",
    "        plot(xxpos, yypos, marker=\"o\", markersize=0.25, color=\"r\")\n",
    "        colores=scatter(xxpos,yypos, s=gordura*0.4, edgecolors=\"none\", \n",
    "        c=tiempos, cmap=\"autumn\", vmin=0.0, vmax=0.72 )\n",
    "        principios=scatter(xxpos[1],yypos[1], s=gordura*0.5,\n",
    "        edgecolors=\"black\", \n",
    "        color=\"r\", marker=\"s\", label=\"Inicio\" )\n",
    "        finales=scatter(xxpos[end],yypos[end], s=gordura*0.5, edgecolors=\"black\", \n",
    "        color=\"gold\", marker=\"D\", label=\"Final\" )\n",
    "        # annotate(round(tiempos[1],4),  (xxpos[1], yypos[1]), fontsize=7, color=\"black\")\n",
    "        # annotate(round(tiempos[end],4), (xxpos[end], yypos[end]), fontsize=7, color=\"green\")\n",
    "\n",
    "    end\n",
    "end\n",
    "\n",
    "#savefig(\"ejemploaltaspositivas-01.svg\",dpi=92)"
   ]
  },
  {
   "cell_type": "code",
   "execution_count": 26,
   "metadata": {},
   "outputs": [
    {
     "data": {
      "text/plain": [
       "Base.ValueIterator for a Dict{Integer,Array{Any,N} where N} with 49 entries. Values:\n",
       "  Any[26.0013 55.088 -2483.63 1.0; 25.9281 55.1359 -2536.19 2.0; … ; 26.252 55.…\n",
       "  Any[60.0665 48.1529 -11285.5 37.0; 58.5928 48.816 -14123.2 38.0; … ; 60.7554 …\n",
       "  Any[57.0717 20.8273 -893.858 266.0; 57.0121 20.9801 -1487.13 267.0; … ; 54.74…\n",
       "  Any[59.8827 36.2366 -662.705 340.0; 60.1055 35.2429 -1671.05 341.0; … ; 59.92…\n",
       "  Any[46.0328 23.5231 -482.692 55.0; 46.0322 23.4967 -561.517 56.0; … ; 41.3692…\n",
       "  Any[54.7044 22.2003 -10563.8 298.0; 54.7015 22.2252 -10625.3 299.0; … ; 54.75…\n",
       "  Any[46.2107 19.1913 -385.022 74.0; 46.5183 19.0278 -498.873 75.0; … ; 46.6269…\n",
       "  Any[44.4036 46.9165 -2402.79 34.0; 42.9937 46.1832 -7759.53 35.0; … ; 42.3591…\n",
       "  Any[30.1005 19.2671 -898.828 41.0; 29.9422 19.1648 -740.373 42.0; … ; 29.9397…\n",
       "  Any[41.1494 30.0006 -1348.46 40.0; 41.1503 30.0294 -942.735 41.0; … ; 41.1256…\n",
       "  Any[55.9736 15.7986 -10635.2 75.0; 55.6318 15.6515 -9996.41 76.0; … ; 54.1762…\n",
       "  Any[43.4478 15.4463 -471.041 78.0; 42.7377 14.8938 -815.783 79.0; … ; 42.8749…\n",
       "  Any[35.9426 42.9273 -1405.04 40.0; 35.9709 42.9555 -1118.69 41.0; … ; 35.9993…\n",
       "  Any[58.0848 31.9842 -82352.7 64.0; 57.9245 33.7078 -73444.5 65.0; … ; 57.9772…\n",
       "  Any[52.3499 14.167 -3320.85 83.0; 52.4927 14.118 -2632.69 84.0; … ; 50.9139 1…\n",
       "  Any[36.1164 38.835 -1894.37 40.0; 37.0058 38.9464 -1077.0 41.0; … ; 36.9945 3…\n",
       "  Any[56.4352 27.2225 -17098.6 348.0; 56.5057 27.6115 -18064.4 349.0; … ; 56.55…\n",
       "  Any[54.7075 22.0638 -10463.5 321.0; 54.7079 22.0874 -10398.0 322.0; … ; 54.75…\n",
       "  Any[8.95202 59.0876 -2764.35 2.0; 8.98619 59.1063 -2821.85 3.0; … ; 9.2083 58…\n",
       "  Any[49.9858 30.978 -1426.95 253.0; 49.9884 30.9833 -1903.08 254.0; … ; 50.031…\n",
       "  Any[49.9801 30.9485 -2597.22 322.0; 49.9828 30.9648 -2600.3 323.0; … ; 49.976…\n",
       "  Any[57.9637 47.1995 -2024.66 40.0; 58.0884 47.085 -1679.41 41.0; … ; 58.1136 …\n",
       "  Any[58.12 32.6495 -72721.1 75.0; 58.1007 32.6776 -72474.5 76.0; … ; 57.8966 2…\n",
       "  Any[60.8896 36.8459 -9860.36 1.0; 60.8894 36.8495 -9883.54 2.0; … ; 60.8485 3…\n",
       "  Any[53.7947 23.9258 -12968.5 342.0; 53.8084 23.8784 -12910.3 343.0; … ; 54.69…\n",
       "  ⋮"
      ]
     },
     "execution_count": 26,
     "metadata": {},
     "output_type": "execute_result"
    }
   ],
   "source": [
    "values(CatenarioNegativo)"
   ]
  },
  {
   "cell_type": "code",
   "execution_count": null,
   "metadata": {
    "collapsed": true
   },
   "outputs": [],
   "source": []
  }
 ],
 "metadata": {
  "@webio": {
   "lastCommId": "7B6516C96528481389467B194719F2E9",
   "lastKernelId": "aa42327d-48e1-4ca5-a297-2195db870297"
  },
  "kernelspec": {
   "display_name": "Julia 1.0.3",
   "language": "julia",
   "name": "julia-1.0"
  },
  "language_info": {
   "file_extension": ".jl",
   "mimetype": "application/julia",
   "name": "julia",
   "version": "1.0.3"
  }
 },
 "nbformat": 4,
 "nbformat_minor": 1
}
