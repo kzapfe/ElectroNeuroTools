{
 "cells": [
  {
   "cell_type": "markdown",
   "metadata": {},
   "source": [
    "# Estadística sobre las Trayectorias.\n",
    "Varias medidas en busca de significado estadístico de los cálculos de las trayectorias de los Centros de Masa, definidos en el Notebook TrackingtheTracks."
   ]
  },
  {
   "cell_type": "code",
   "execution_count": 1,
   "metadata": {},
   "outputs": [
    {
     "data": {
      "text/plain": [
       "4-element Array{String,1}:\n",
       " \"@\"\n",
       " \"@v#.#\"\n",
       " \"@stdlib\"\n",
       " \"./\""
      ]
     },
     "execution_count": 1,
     "metadata": {},
     "output_type": "execute_result"
    }
   ],
   "source": [
    "using JLD\n",
    "using PyPlot\n",
    "using StatsBase, Statistics\n",
    "push!(LOAD_PATH,\"./\")"
   ]
  },
  {
   "cell_type": "code",
   "execution_count": 6,
   "metadata": {},
   "outputs": [],
   "source": [
    "cm2p=1/2.54;"
   ]
  },
  {
   "cell_type": "code",
   "execution_count": 3,
   "metadata": {},
   "outputs": [
    {
     "name": "stderr",
     "output_type": "stream",
     "text": [
      "┌ Info: Precompiling TrayectoriasAux [top-level]\n",
      "└ @ Base loading.jl:1260\n",
      "WARNING: using TrayectoriasAux.set2dict in module Main conflicts with an existing identifier.\n"
     ]
    }
   ],
   "source": [
    "using TrayectoriasAux"
   ]
  },
  {
   "cell_type": "code",
   "execution_count": 7,
   "metadata": {},
   "outputs": [
    {
     "data": {
      "text/plain": [
       "Dict{String,Any} with 2 entries:\n",
       "  \"CatenarioPositivo\" => Set(Array{Any,N} where N[[31.2014 11.2472 38.8053 167.…\n",
       "  \"CatenarioNegativo\" => Set(Array{Any,N} where N[[46.1679 10.0396 -57.3452 96.…"
      ]
     },
     "execution_count": 7,
     "metadata": {},
     "output_type": "execute_result"
    }
   ],
   "source": [
    "Datos=load(\"../JLDFiles/TrabajandoCentrosdeMasa/LFP_Promedio_est_bic5-CM-Tray.jld\")"
   ]
  },
  {
   "cell_type": "code",
   "execution_count": 8,
   "metadata": {},
   "outputs": [],
   "source": [
    "CatenarioPozos=set2dict(Datos[\"CatenarioNegativo\"])\n",
    "CatenarioFuentes=set2dict(Datos[\"CatenarioPositivo\"]);"
   ]
  },
  {
   "cell_type": "code",
   "execution_count": 9,
   "metadata": {},
   "outputs": [
    {
     "data": {
      "text/plain": [
       "65.13398484123232"
      ]
     },
     "execution_count": 9,
     "metadata": {},
     "output_type": "execute_result"
    }
   ],
   "source": [
    "umpalumpa=load(\"../JLDFiles/TrabajandoCentrosdeMasa/LFP_Promedio_est_bic5.jld\")\n",
    "nmax=size(umpalumpa[\"LFPSaturados\"],  3)\n",
    "freq=umpalumpa[\"freq\"]\n",
    "tmax=nmax/freq"
   ]
  },
  {
   "cell_type": "code",
   "execution_count": 10,
   "metadata": {},
   "outputs": [
    {
     "data": {
      "text/plain": [
       "105"
      ]
     },
     "execution_count": 10,
     "metadata": {},
     "output_type": "execute_result"
    }
   ],
   "source": [
    "dispozos=TrayectoriasAux.distprom(CatenarioPozos);\n",
    "disfuentes=TrayectoriasAux.distprom(CatenarioFuentes)\n",
    "length(disfuentes)"
   ]
  },
  {
   "cell_type": "code",
   "execution_count": 11,
   "metadata": {},
   "outputs": [
    {
     "data": {
      "text/plain": [
       "Histogram{Int64,1,Tuple{StepRange{Int64,Int64}}}\n",
       "edges:\n",
       "  0:25:800\n",
       "weights: [0, 1, 1, 2, 3, 3, 1, 2, 3, 3  …  1, 4, 1, 2, 1, 2, 4, 1, 1, 2]\n",
       "closed: right\n",
       "isdensity: false"
      ]
     },
     "execution_count": 11,
     "metadata": {},
     "output_type": "execute_result"
    }
   ],
   "source": [
    "distie=42 #distancia inter electrodo\n",
    "cajas=0:25:800\n",
    "\n",
    "tantos=length(dispozos)\n",
    "vspozos=zeros(tantos)\n",
    "\n",
    "\n",
    "for j in 1:tantos\n",
    "    vspozos[j]=dispozos[j]\n",
    "end\n",
    "# la vs esta en unidades \"de la MEA\", asi que... escalas\n",
    "vspozos=vspozos*distie*freq;\n",
    "histvpozos=fit(Histogram, vspozos, cajas,closed=:right)\n",
    "\n",
    "tantos=length(disfuentes)\n",
    "vsfuentes=zeros(tantos)\n",
    "for j in 1:tantos\n",
    "    vsfuentes[j]=disfuentes[j]\n",
    "end\n",
    "# la vs esta en unidades \"de la MEA\", asi que... escalas\n",
    "\n",
    "vsfuentes=vsfuentes*distie*freq;\n",
    "histvfuentes=fit(Histogram, vsfuentes, cajas,closed=:right)\n"
   ]
  },
  {
   "cell_type": "code",
   "execution_count": 12,
   "metadata": {},
   "outputs": [
    {
     "data": {
      "text/plain": [
       "15"
      ]
     },
     "execution_count": 12,
     "metadata": {},
     "output_type": "execute_result"
    }
   ],
   "source": [
    "centroshistopozos=(histvpozos.edges[1][2:end]+histvpozos.edges[1][1:end-1])/2\n",
    "centroshistofuentes=(histvfuentes.edges[1][2:end]+histvfuentes.edges[1][1:end-1])/2\n",
    "\n",
    "ancho=15\n"
   ]
  },
  {
   "cell_type": "code",
   "execution_count": 13,
   "metadata": {},
   "outputs": [
    {
     "data": {
      "text/plain": [
       "(216, 514)"
      ]
     },
     "execution_count": 13,
     "metadata": {},
     "output_type": "execute_result"
    }
   ],
   "source": [
    "mvp, mvf = (round(Int, mean(vspozos)), round(Int, mean(vsfuentes)) )"
   ]
  },
  {
   "cell_type": "code",
   "execution_count": 15,
   "metadata": {},
   "outputs": [
    {
     "data": {
      "image/png": "[encoded data removed]",
      "text/plain": [
       "Figure(PyObject <Figure size 314.961x255.906 with 1 Axes>)"
      ]
     },
     "metadata": {},
     "output_type": "display_data"
    }
   ],
   "source": [
    "\n",
    "fu=figure(figsize=(8*cm2p,6.5*cm2p))\n",
    "fs=8\n",
    "\n",
    "xlabel(\"Average Velocity per trayectory (mm/s)\", fontsize=fs)\n",
    "\n",
    "#ylabel(\"Total Count\", fontsize=fs)\n",
    "xticks(fontsize=fs)\n",
    "yticks(fontsize=fs)\n",
    "\n",
    "bar(centroshistofuentes.-2, histvfuentes.weights, ancho, color=\"red\", \n",
    "    alpha=0.9, edgecolor=\"black\", lw=1, label=\"Sources:\\n $mvf mm/s\")\n",
    "bar(centroshistopozos.+4, histvpozos.weights, ancho, \n",
    "    color=\"darkblue\", alpha=0.7, edgecolor=\"black\", lw=1, label=\"Sinks:\\n $mvp mm/s\")\n",
    "#annotate()\n",
    "legend(loc=1, fontsize=fs, frameon=false)\n",
    "\n",
    "tight_layout()\n",
    "savefig(\"HistogramVelocities_est_bic5.svg\",dpi=90)\n",
    "savefig(\"HistogramVelocities_est_bic5.png\",dpi=90)"
   ]
  },
  {
   "cell_type": "code",
   "execution_count": 16,
   "metadata": {},
   "outputs": [
    {
     "data": {
      "text/plain": [
       "(223.37734291282152, 285.24937473398523)"
      ]
     },
     "execution_count": 16,
     "metadata": {},
     "output_type": "execute_result"
    }
   ],
   "source": [
    "std(vspozos), std(vsfuentes)"
   ]
  },
  {
   "cell_type": "code",
   "execution_count": 17,
   "metadata": {},
   "outputs": [
    {
     "data": {
      "text/plain": [
       "distanciasAcumuladas (generic function with 1 method)"
      ]
     },
     "execution_count": 17,
     "metadata": {},
     "output_type": "execute_result"
    }
   ],
   "source": [
    "dist2D(xx::Array, yy::Array)=dist(xx[1], yy[1], xx[2], yy[2])\n",
    "\n",
    "function distanciasAcumuladas(cadena::Array)\n",
    "    jmax,bla=size(cadena)\n",
    "    result=zeros(jmax)\n",
    "    acu=0\n",
    "    for j=1:jmax-1\n",
    "        acu+=dist2D(cadena[j,:],cadena[j+1,:])\n",
    "        result[j+1]=acu\n",
    "    end\n",
    "    return result\n",
    "end"
   ]
  },
  {
   "cell_type": "code",
   "execution_count": 18,
   "metadata": {},
   "outputs": [
    {
     "data": {
      "text/plain": [
       "Figure(PyObject <Figure size 688.976x255.906 with 1 Axes>)"
      ]
     },
     "metadata": {},
     "output_type": "display_data"
    }
   ],
   "source": [
    "PyPlot.ion()\n",
    "figure(figsize=(17.5*cm2p,6.5*cm2p))\n",
    "#axis(\"equal\")\n",
    "#xlim(0.0,25.0)\n",
    "xmaa=2000\n",
    "xlim(0,xmaa)\n",
    "ylim(90,2500.0)\n",
    "\n",
    "for p in values(CatenarioPozos)\n",
    "    #println(p)\n",
    "    #offset=p[1,4]./100\n",
    "    xxpos=distanciasAcumuladas(p)#.+offset\n",
    "    xme=mean(xxpos)\n",
    "    yypos=map(x->abs(x), p[:,3])\n",
    "    parcor=1.5*xme/xmaa\n",
    "    cores=(0, 0.7*parcor, 1-parcor*parcor)\n",
    "    plot(xxpos,yypos, lw=0.5, color=cores)\n",
    "end\n"
   ]
  },
  {
   "cell_type": "code",
   "execution_count": 19,
   "metadata": {},
   "outputs": [
    {
     "data": {
      "text/plain": [
       "65.13398484123232"
      ]
     },
     "execution_count": 19,
     "metadata": {},
     "output_type": "execute_result"
    }
   ],
   "source": [
    "tmax"
   ]
  },
  {
   "cell_type": "code",
   "execution_count": 20,
   "metadata": {},
   "outputs": [
    {
     "data": {
      "text/plain": [
       "17.85550205219098"
      ]
     },
     "execution_count": 20,
     "metadata": {},
     "output_type": "execute_result"
    }
   ],
   "source": [
    "freq"
   ]
  },
  {
   "cell_type": "code",
   "execution_count": 24,
   "metadata": {},
   "outputs": [
    {
     "data": {
      "image/png": "[encoded data removed]",
      "text/plain": [
       "Figure(PyObject <Figure size 688.976x255.906 with 1 Axes>)"
      ]
     },
     "metadata": {},
     "output_type": "display_data"
    }
   ],
   "source": [
    "figure(figsize=(17.5*cm2p,6.5*cm2p))\n",
    "\n",
    "#axis(\"equal\")\n",
    "\n",
    "xlim(0,tmax)\n",
    "ylim(-0.0,4500.0)\n",
    "fs=8\n",
    "xlabel(\"time [ms]\",fontsize=fs)\n",
    "ylabel(\"CSD [a.u.]\", fontsize=fs)\n",
    "xticks(fontsize=fs)\n",
    "yticks(fontsize=fs)\n",
    "xmaa=25\n",
    "xlim(0,xmaa)\n",
    "\n",
    "for p in values(CatenarioFuentes)\n",
    "    xxpos=p[:,4]./freq\n",
    "    timecentro=mean(xxpos)\n",
    "    yypos=map(x->abs(x), p[:,3])\n",
    "    gordocentro=mean(yypos)\n",
    "    parcor=timecentro/xmaa\n",
    "    if parcor <=1\n",
    "        cores=(parcor, 0.2*parcor, 1-parcor*parcor)\n",
    "    #println(timecentro)\n",
    "        plot(xxpos,yypos, c=cores, lw=0.7, zorder=1)\n",
    "    #print(timecentro)\n",
    "        scatter(timecentro,gordocentro, color=cores, s=3 ,\n",
    "            lw=0.5, edgecolor=\"black\", zorder=10)\n",
    "\n",
    "    end\n",
    "end\n",
    "    \n",
    "vlines([umpalumpa[\"retrazo\"]/freq], 0, 5000, lw=2)\n",
    "\n",
    "savefig(\"Fuentes_est_bic5-tiempovsintensidad.svg\", dpi=90)\n",
    "savefig(\"Fuentes_est_bic5-tiempovsintensidad.png\", dpi=90)"
   ]
  },
  {
   "cell_type": "code",
   "execution_count": 73,
   "metadata": {},
   "outputs": [
    {
     "name": "stdout",
     "output_type": "stream",
     "text": [
      "search: \u001b[0m\u001b[1mv\u001b[22m\u001b[0m\u001b[1ml\u001b[22m\u001b[0m\u001b[1mi\u001b[22m\u001b[0m\u001b[1mn\u001b[22m\u001b[0m\u001b[1me\u001b[22m\u001b[0m\u001b[1ms\u001b[22m ax\u001b[0m\u001b[1mv\u001b[22m\u001b[0m\u001b[1ml\u001b[22m\u001b[0m\u001b[1mi\u001b[22m\u001b[0m\u001b[1mn\u001b[22m\u001b[0m\u001b[1me\u001b[22m\n",
      "\n"
     ]
    },
    {
     "data": {
      "text/plain": [
       "Plot vertical lines.\n",
       "\n",
       "Plot vertical lines at each *x* from *ymin* to *ymax*.\n",
       "\n",
       "Parameters\n",
       "----------\n",
       "x : scalar or 1D array_like\n",
       "    x-indexes where to plot the lines.\n",
       "\n",
       "ymin, ymax : scalar or 1D array_like\n",
       "    Respective beginning and end of each line. If scalars are\n",
       "    provided, all lines will have same length.\n",
       "\n",
       "colors : array_like of colors, optional, default: 'k'\n",
       "\n",
       "linestyles : {'solid', 'dashed', 'dashdot', 'dotted'}, optional\n",
       "\n",
       "label : string, optional, default: ''\n",
       "\n",
       "Returns\n",
       "-------\n",
       "lines : `~matplotlib.collections.LineCollection`\n",
       "\n",
       "Other Parameters\n",
       "----------------\n",
       "**kwargs : `~matplotlib.collections.LineCollection` properties.\n",
       "\n",
       "See also\n",
       "--------\n",
       "hlines : horizontal lines\n",
       "axvline: vertical line across the axes\n",
       "\n",
       "Notes\n",
       "-----\n",
       "\n",
       "\n",
       ".. note::\n",
       "    In addition to the above described arguments, this function can take a\n",
       "    **data** keyword argument. If such a **data** argument is given, the\n",
       "    following arguments are replaced by **data[<arg>]**:\n",
       "\n",
       "    * All arguments with the following names: 'colors', 'x', 'ymax', 'ymin'.\n",
       "\n",
       "    Objects passed as **data** must support item access (``data[<arg>]``) and\n",
       "    membership test (``<arg> in data``).\n"
      ]
     },
     "execution_count": 73,
     "metadata": {},
     "output_type": "execute_result"
    },
    {
     "name": "stderr",
     "output_type": "stream",
     "text": [
      "┌ Warning: `getindex(o::PyObject, s::AbstractString)` is deprecated in favor of dot overloading (`getproperty`) so elements should now be accessed as e.g. `o.\"s\"` instead of `o[\"s\"]`.\n",
      "│   caller = show(::IOContext{Base.GenericIOBuffer{Array{UInt8,1}}}, ::MIME{Symbol(\"text/plain\")}, ::PyPlot.LazyHelp) at PyPlot.jl:27\n",
      "└ @ PyPlot /home/karel/.julia/packages/PyPlot/XHEG0/src/PyPlot.jl:27\n"
     ]
    }
   ],
   "source": [
    "?vlines"
   ]
  },
  {
   "cell_type": "code",
   "execution_count": 15,
   "metadata": {},
   "outputs": [
    {
     "data": {
      "text/plain": [
       "5×4 Array{Any,2}:\n",
       " 21.7649  59.8442  -321.962  145.0\n",
       " 21.5407  59.8809  -293.063  146.0\n",
       " 21.556   59.4634  -148.093  147.0\n",
       " 21.803   60.7994  -195.478  148.0\n",
       " 21.4534  61.5755  -134.934  149.0"
      ]
     },
     "execution_count": 15,
     "metadata": {},
     "output_type": "execute_result"
    }
   ],
   "source": [
    "CatenarioPozos[20]"
   ]
  },
  {
   "cell_type": "code",
   "execution_count": null,
   "metadata": {},
   "outputs": [],
   "source": []
  }
 ],
 "metadata": {
  "@webio": {
   "lastCommId": null,
   "lastKernelId": null
  },
  "kernelspec": {
   "display_name": "Julia 1.4.1",
   "language": "julia",
   "name": "julia-1.4"
  },
  "language_info": {
   "file_extension": ".jl",
   "mimetype": "application/julia",
   "name": "julia",
   "version": "1.4.1"
  }
 },
 "nbformat": 4,
 "nbformat_minor": 1
}
