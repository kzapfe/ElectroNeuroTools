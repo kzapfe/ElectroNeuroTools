{
 "metadata": {
  "language": "Julia",
  "name": "",
  "signature": "sha256:f8079b8e9ee5559f448ba35b8dc9a3b860cb8dcc4a46f9823614bac712891e2f"
 },
 "nbformat": 3,
 "nbformat_minor": 0,
 "worksheets": [
  {
   "cells": [
    {
     "cell_type": "heading",
     "level": 1,
     "metadata": {},
     "source": [
      "Medidas de actividad por electrodo: Laplaciano de la se\u00f1al."
     ]
    },
    {
     "cell_type": "markdown",
     "metadata": {},
     "source": [
      "Veamos. Franco dice que hay una distribucion trimodal en los datos. Cada moda indica la superposici\u00f3n de otra se\u00f1al. Una es el ruido de fondo. La mas violenta debe ser la actividad real."
     ]
    },
    {
     "cell_type": "code",
     "collapsed": false,
     "input": [
      "using MAT \n",
      "DatosAparato=matopen(\"propagacion.mat\");\n",
      "matread(\"propagacion.mat\")"
     ],
     "language": "python",
     "metadata": {},
     "outputs": [
      {
       "metadata": {},
       "output_type": "pyout",
       "prompt_number": 1,
       "text": [
        "Dict{ASCIIString,Any} with 4 entries:\n",
        "  \"SamplingFrequency\" => 7022.0\n",
        "  \"StopFrame\"         => 5.549486e6\n",
        "  \"StartFrame\"        => 5.545273e6\n",
        "  \"RawMatrix\"         => [4125.0 2.01416015625 -28.1982421875 -10.07080078125 -\u2026"
       ]
      }
     ],
     "prompt_number": 1
    },
    {
     "cell_type": "markdown",
     "metadata": {},
     "source": [
      "La siguiente variable contiene TODO el arreglo de los datos, cuyas longitudes son espacio, espacio y tiempo."
     ]
    },
    {
     "cell_type": "code",
     "collapsed": false,
     "input": [
      "LasMedicionesCrudas=read(DatosAparato, \"RawMatrix\");\n",
      "size(LasMedicionesCrudas)"
     ],
     "language": "python",
     "metadata": {},
     "outputs": [
      {
       "metadata": {},
       "output_type": "pyout",
       "prompt_number": 2,
       "text": [
        "(64,64,4213)"
       ]
      }
     ],
     "prompt_number": 2
    },
    {
     "cell_type": "markdown",
     "metadata": {},
     "source": [
      "Como podemos ver, los datos fueron tomados a 7022 muestras por segundo, son 4213 cuadros, y cada cuadro es de 64 por 64 entradas. Estas estan medidas en microvolts, $\\mu V$, respecto a una tierra base que tiene el aparato ah\u00ed definida."
     ]
    },
    {
     "cell_type": "markdown",
     "metadata": {},
     "source": [
      "La actividad mas interesante se da entre los cuadros 1300 y 2700 aprox, vamos a usar solo esos."
     ]
    },
    {
     "cell_type": "code",
     "collapsed": false,
     "input": [
      "ParteInteresante=LasMedicionesCrudas[:,:,1300:2700];\n",
      "medidasdatos=size(ParteInteresante)\n",
      "tmax=medidasdatos[3]"
     ],
     "language": "python",
     "metadata": {},
     "outputs": [
      {
       "metadata": {},
       "output_type": "pyout",
       "prompt_number": 3,
       "text": [
        "1401"
       ]
      }
     ],
     "prompt_number": 3
    },
    {
     "cell_type": "markdown",
     "metadata": {},
     "source": [
      "Hay un par de electros saturados, que marcan voltajes absurdamente altos. Esos los vamos a matar con una funcion umbral. La funcion umbral no va a matar se\u00f1ales peque\u00f1as. Eso es tarea de una suavizaci\u00f3n temporal. Despues de todo, el ruido es temporal."
     ]
    },
    {
     "cell_type": "code",
     "collapsed": false,
     "input": [
      "function umbral(x)\n",
      "    result=((abs(x)>150) ? 0 : x)\n",
      "end;\n",
      "\n",
      "function aplastar(x)\n",
      "    result=((abs(x)<40) ? 0 : x)\n",
      "end;\n",
      "\n",
      "function UnNormGauss(x,sigma)\n",
      "    return exp(-x*x/(2*sigma))\n",
      "end\n"
     ],
     "language": "python",
     "metadata": {},
     "outputs": [
      {
       "metadata": {},
       "output_type": "pyout",
       "prompt_number": 4,
       "text": [
        "UnNormGauss (generic function with 1 method)"
       ]
      }
     ],
     "prompt_number": 4
    },
    {
     "cell_type": "code",
     "collapsed": false,
     "input": [
      "map!(umbral, ParteInteresante); #map! quiere decir map in situ\n",
      "DesviacionPorElectrodo=zeros(64,64)\n",
      "for j=1:64, k=1:64\n",
      "    DesviacionPorElectrodo[j,k]=std(reshape(ParteInteresante[j,k,:],tmax));\n",
      "end"
     ],
     "language": "python",
     "metadata": {},
     "outputs": [],
     "prompt_number": 5
    },
    {
     "cell_type": "code",
     "collapsed": false,
     "input": [
      "include(\"Otsu01.jl\")\n"
     ],
     "language": "python",
     "metadata": {},
     "outputs": [
      {
       "metadata": {},
       "output_type": "pyout",
       "prompt_number": 6,
       "text": [
        "OtsuUmbralizar (generic function with 1 method)"
       ]
      }
     ],
     "prompt_number": 6
    },
    {
     "cell_type": "code",
     "collapsed": false,
     "input": [
      "MascaraOtsu=OtsuUmbralizar(DesviacionPorElectrodo);"
     ],
     "language": "python",
     "metadata": {},
     "outputs": [],
     "prompt_number": 7
    },
    {
     "cell_type": "code",
     "collapsed": false,
     "input": [
      "canalesinteresantes=sum(MascaraOtsu)"
     ],
     "language": "python",
     "metadata": {},
     "outputs": [
      {
       "metadata": {},
       "output_type": "pyout",
       "prompt_number": 8,
       "text": [
        "1128"
       ]
      }
     ],
     "prompt_number": 8
    },
    {
     "cell_type": "code",
     "collapsed": false,
     "input": [
      "CuernoDeAmon=zeros(ParteInteresante);\n",
      "for t=1:tmax\n",
      "    CuernoDeAmon[:,:,t]=ParteInteresante[:,:,t].*MascaraOtsu\n",
      "end"
     ],
     "language": "python",
     "metadata": {},
     "outputs": [],
     "prompt_number": 9
    },
    {
     "cell_type": "code",
     "collapsed": false,
     "input": [
      "function PromedioSuavizar(Datos, mediaventana)\n",
      "    #Bien, veamos como chingaos le ponemos \"padding\" a las convoluciones.\n",
      "    colchon=zeros(mediaventana)\n",
      "    result=zeros(Datos)\n",
      "    datoscolchon=vcat(colchon, Datos, colchon)\n",
      "    for t=mediaventana+1:length(Datos)-mediaventana\n",
      "        result[t-mediaventana]=mean(datoscolchon[t-mediaventana:t+mediaventana])\n",
      "    end\n",
      "    return result\n",
      "end\n",
      "     "
     ],
     "language": "python",
     "metadata": {},
     "outputs": [
      {
       "metadata": {},
       "output_type": "pyout",
       "prompt_number": 10,
       "text": [
        "PromedioSuavizar (generic function with 1 method)"
       ]
      }
     ],
     "prompt_number": 10
    },
    {
     "cell_type": "code",
     "collapsed": false,
     "input": [
      "function GaussSuavizar(Datos,Sigma)  \n",
      "    #sigma esta medido en pixeles, es la desviacion estandar de nuestro kernel.\n",
      "    #El medioancho de nuestra ventana seran 3 sigmas.\n",
      "    #Bien, veamos como chingaos le ponemos \"padding\" a las convoluciones.\n",
      "    medioancho=ceil(Sigma*3)\n",
      "    colchon=ones(medioancho)\n",
      "    result=zeros(Datos)\n",
      "    datoscolchon=vcat(colchon*Datos[1], Datos, colchon*Datos[end])\n",
      "    kernel=map(x->UnNormGauss(x,Sigma), [-medioancho:medioancho])\n",
      "    kernel=kernel/(sum(kernel))\n",
      "    #La convolucion asi normalizada preserva el valor RELATIVO entre los puntos de la funcion.\n",
      "    #pero queremos ponerlo mas parecido a los voltajes que medimos, para preservar el rango de valores\n",
      "    #experimentales y su criterio de potenciales de accion / ruido\n",
      "    for t=medioancho+1:length(Datos)-medioancho\n",
      "        result[t-medioancho]=sum(datoscolchon[t-medioancho:t+medioancho].*kernel)\n",
      "    end\n",
      "    a=maximum(abs(Datos))\n",
      "    b=maximum(abs(result))\n",
      "    result=result*a/b\n",
      "    return result\n",
      "end\n",
      "    "
     ],
     "language": "python",
     "metadata": {},
     "outputs": [
      {
       "metadata": {},
       "output_type": "pyout",
       "prompt_number": 11,
       "text": [
        "GaussSuavizar (generic function with 1 method)"
       ]
      }
     ],
     "prompt_number": 11
    },
    {
     "cell_type": "code",
     "collapsed": false,
     "input": [
      "#Datos de interes general\n",
      "VoltajeBase=minimum(CuernoDeAmon);\n",
      "VoltajeMaximo=maximum(CuernoDeAmon);\n",
      "(VoltajeBase, VoltajeMaximo)"
     ],
     "language": "python",
     "metadata": {},
     "outputs": [
      {
       "metadata": {},
       "output_type": "pyout",
       "prompt_number": 12,
       "text": [
        "(-149.0478515625,143.00537109375)"
       ]
      }
     ],
     "prompt_number": 12
    },
    {
     "cell_type": "code",
     "collapsed": false,
     "input": [
      "Chumbaganga=zeros(CuernoDeAmon);\n",
      "for j=1:64, k=1:64\n",
      "    if(MascaraOtsu[j,k]==1)\n",
      "   #     Chumbaganga[j,k,:]=GaussSuavizar(reshape(CuernoDeAmon[j,k,:],tmax),7)\n",
      "        Chumbaganga[j,k,:]=map(aplastar, reshape(CuernoDeAmon[j,k,:], tmax))\n",
      "        Chumbaganga[j,k,:]=GaussSuavizar(reshape(Chumbaganga[j,k,:],tmax),7)\n",
      "    end    \n",
      "end"
     ],
     "language": "python",
     "metadata": {},
     "outputs": [],
     "prompt_number": 13
    },
    {
     "cell_type": "code",
     "collapsed": false,
     "input": [
      "writedlm(\"MascaraOtsu01.dat\", MascaraOtsu)"
     ],
     "language": "python",
     "metadata": {},
     "outputs": [],
     "prompt_number": 17
    },
    {
     "cell_type": "code",
     "collapsed": false,
     "input": [
      "Chumbaganga=map(x->isnan(x)? 0:x, Chumbaganga);"
     ],
     "language": "python",
     "metadata": {},
     "outputs": [],
     "prompt_number": 14
    },
    {
     "cell_type": "code",
     "collapsed": false,
     "input": [
      "# a escribir, pa variar\n",
      "for t=1:tmax\n",
      "#    aux=map(x-> isnan(x)?0:x, Chumbaganga[:,:,t])\n",
      "    zacatlan=\"GaussianFilteredonTime-$t.dat\"\n",
      "    writedlm(zacatlan, Chumbaganga[:,:,t])\n",
      "end\n"
     ],
     "language": "python",
     "metadata": {},
     "outputs": [],
     "prompt_number": 15
    },
    {
     "cell_type": "code",
     "collapsed": false,
     "input": [
      "MascaraOtsu[50,50]"
     ],
     "language": "python",
     "metadata": {},
     "outputs": [
      {
       "metadata": {},
       "output_type": "pyout",
       "prompt_number": 16,
       "text": [
        "1"
       ]
      }
     ],
     "prompt_number": 16
    },
    {
     "cell_type": "code",
     "collapsed": false,
     "input": [
      "Vmaxmas=maximum(Chumbaganga);\n",
      "Vminmas=minimum(Chumbaganga);\n",
      "(Vmaxmas,Vminmas)"
     ],
     "language": "python",
     "metadata": {},
     "outputs": [
      {
       "metadata": {},
       "output_type": "pyout",
       "prompt_number": 19,
       "text": [
        "(143.00537109375,-149.0478515625)"
       ]
      }
     ],
     "prompt_number": 19
    },
    {
     "cell_type": "code",
     "collapsed": false,
     "input": [
      "GaussianKernel=readdlm(\"GaussianMatrixFilter01.dat\");\n",
      "function GaussianSmooth(Datos)\n",
      "    tamanodatos=size(Datos)\n",
      "    result=zeros(Datos)\n",
      "    temp=copy(Datos)\n",
      "    #Primero, hacemos el padding de los datos para que no se suavice demasiado\n",
      "    for j=1:3\n",
      "        temp=vcat(temp[1,:], temp, temp[end,:])\n",
      "    end\n",
      "    for j=1:3\n",
      "        temp=hcat(temp[:,1], temp, temp[:,1])\n",
      "    end\n",
      "    \n",
      "    for j=4:tamanodatos[1]+3, k=4:tamanodatos[2]+3\n",
      "        #los indices van primero, \"renglones\", luego \"columnas\", etc\n",
      "        aux=temp[j-3:j+3,k-3:k+3]\n",
      "        result[j-3,k-3]=sum(GaussianKernel.*aux)\n",
      "    end\n",
      "    #piensa como normalizar\n",
      "    #result=result*maximum(abs(Datos))/maximum(abs(result))\n",
      "    return result\n",
      "end"
     ],
     "language": "python",
     "metadata": {},
     "outputs": [
      {
       "metadata": {},
       "output_type": "pyout",
       "prompt_number": 17,
       "text": [
        "GaussianSmooth (generic function with 1 method)"
       ]
      }
     ],
     "prompt_number": 17
    },
    {
     "cell_type": "code",
     "collapsed": false,
     "input": [
      "@time CuackCuack=GaussianSmooth(Chumbaganga[:,:,59]);"
     ],
     "language": "python",
     "metadata": {},
     "outputs": [
      {
       "output_type": "stream",
       "stream": "stdout",
       "text": [
        "elapsed time: 0."
       ]
      },
      {
       "output_type": "stream",
       "stream": "stdout",
       "text": [
        "024252052 seconds (6912488 bytes allocated)\n"
       ]
      }
     ],
     "prompt_number": 20
    },
    {
     "cell_type": "code",
     "collapsed": false,
     "input": [
      "Sumbaganga=zeros(Chumbaganga)\n",
      "for t=1:tmax\n",
      "    Sumbaganga[:,:,t]=GaussianSmooth(Chumbaganga[:,:,t])\n",
      "end\n"
     ],
     "language": "python",
     "metadata": {},
     "outputs": [],
     "prompt_number": 21
    },
    {
     "cell_type": "code",
     "collapsed": false,
     "input": [
      "Sumbaganga=Sumbaganga*(Vmaxmas/maximum(Sumbaganga));"
     ],
     "language": "python",
     "metadata": {},
     "outputs": [],
     "prompt_number": 22
    },
    {
     "cell_type": "code",
     "collapsed": false,
     "input": [
      "# y otra vez escribiendo.\n",
      "for t=1:tmax\n",
      "    zacatlan=\"GaussSmoothSpaceandTime01-$t.dat\"\n",
      "    writedlm(zacatlan, Sumbaganga[:,:,t])\n",
      "end"
     ],
     "language": "python",
     "metadata": {},
     "outputs": [],
     "prompt_number": 58
    },
    {
     "cell_type": "code",
     "collapsed": false,
     "input": [
      "#Un par de ejemplos para ver como se ven esas cosas:\n",
      "writedlm(\"SuavizadoSP-21-50.dat\", reshape(Sumbaganga[21,50,:],tmax))\n",
      "writedlm(\"SuavizadoSP-50-50.dat\", reshape(Sumbaganga[50,50,:],tmax))"
     ],
     "language": "python",
     "metadata": {},
     "outputs": [],
     "prompt_number": 23
    },
    {
     "cell_type": "markdown",
     "metadata": {},
     "source": [
      "Varias medidas estadisticas que vamos a usar, desviacion estandar total, por canal, etc."
     ]
    },
    {
     "cell_type": "code",
     "collapsed": false,
     "input": [
      "extrema(Sumbaganga)"
     ],
     "language": "python",
     "metadata": {},
     "outputs": [
      {
       "metadata": {},
       "output_type": "pyout",
       "prompt_number": 24,
       "text": [
        "(-201.35533038269236,143.00537109375)"
       ]
      }
     ],
     "prompt_number": 24
    },
    {
     "cell_type": "code",
     "collapsed": false,
     "input": [
      "ActividadMascara=1:tmax;\n",
      "for j=1:64, k=1:64\n",
      "    if(MascaraOtsu[j,k]==1)\n",
      "    ActividadMascara=hcat(ActividadMascara, reshape(Sumbaganga[j,k,:],tmax))\n",
      "    end\n",
      "end"
     ],
     "language": "python",
     "metadata": {},
     "outputs": [],
     "prompt_number": 20
    },
    {
     "cell_type": "code",
     "collapsed": false,
     "input": [
      "map!(x->abs(x)<20?0:x, Sumbaganga);\n",
      "SumbagangaPositiva=map(x->(x>0)?x:0, Sumbaganga);\n",
      "SumbagangaNegativa=map(x->(x<0)?-x:0,Sumbaganga) ;"
     ],
     "language": "python",
     "metadata": {},
     "outputs": [],
     "prompt_number": 27
    },
    {
     "cell_type": "code",
     "collapsed": false,
     "input": [
      "Salida=open(\"DatosCMNegativo.dat\", \"w\");\n",
      "xanterior=32.0\n",
      "yanterior=32.0\n",
      "for t=1:tmax\n",
      "    masa=sum(SumbagangaNegativa[:,:,t]);\n",
      "    xmasa=0.0\n",
      "    ymasa=0.0\n",
      "    for j=1:64\n",
      "        xmasa+=j*sum(SumbagangaNegativa[j,:,t])\n",
      "        ymasa+=j*sum(SumbagangaNegativa[:,j,t])\n",
      "    end\n",
      "    xmasa=xmasa/masa\n",
      "    ymasa=ymasa/masa\n",
      "    if(isnan(xmasa)|| isnan(ymasa))\n",
      "        write(Salida,join((xanterior,yanterior,masa,t), \"\\t\"), \"\\n\" )\n",
      "    elseif(masa<80.0)\n",
      "        write(Salida,join((xanterior,yanterior,0.00,t), \"\\t\"), \"\\n\" )\n",
      "    else\n",
      "        xanterior=xmasa\n",
      "        yanterior=ymasa\n",
      "        write(Salida,join((xmasa,ymasa,masa,t), \"\\t\"), \"\\n\" )\n",
      "    end\n",
      "end\n",
      "close(Salida)"
     ],
     "language": "python",
     "metadata": {},
     "outputs": [],
     "prompt_number": 29
    },
    {
     "cell_type": "code",
     "collapsed": false,
     "input": [
      "map!(x->isnan(x)? 0:x, ActividadMascara);\n",
      "writedlm(\"ActividadSuavizadaPorCanal01.dat\", ActividadMascara)"
     ],
     "language": "python",
     "metadata": {},
     "outputs": [],
     "prompt_number": 21
    },
    {
     "cell_type": "code",
     "collapsed": false,
     "input": [
      "LaplacianKernel=zeros(3,3);\n",
      "#checa que Julia va ordenando los datos renglon por renglon, no columna por columna\n",
      "LaplacianKernel=[[0.5 1 0.5], [1 -6 1], [0.5 1 0.5]];\n",
      "\n",
      "function DiscreteLaplacian(Datos)\n",
      "    result=zeros(Datos)\n",
      "    temp=copy(Datos)\n",
      "    #Primero, hacemos el padding de los datos para que no se suavice demasiado\n",
      "    temp=vcat(temp[1,:], temp, temp[end,:])\n",
      "    temp=hcat(temp[:,1], temp, temp[:,1])\n",
      "    largo,ancho=size(Datos)\n",
      "    aux=Array(Float64,(3,3))\n",
      "    result=zeros(Datos)\n",
      "    for j=2:largo, k=2:ancho\n",
      "        #los indices van primero, \"renglones\", luego \"columnas\", etc\n",
      "        aux=temp[j-1:j+1,k-1:k+1]\n",
      "        result[j,k]=sum(LaplacianKernel.*aux)\n",
      "    end\n",
      "    return result\n",
      "end"
     ],
     "language": "python",
     "metadata": {},
     "outputs": [
      {
       "metadata": {},
       "output_type": "pyout",
       "prompt_number": 32,
       "text": [
        "DiscreteLaplacian (generic function with 1 method)"
       ]
      }
     ],
     "prompt_number": 32
    },
    {
     "cell_type": "code",
     "collapsed": false,
     "input": [
      "TestLaplacian=zeros(LasMedicionesCrudas);\n",
      "for t=1:tmax\n",
      "    TestLaplacian[:,:,t]=DiscreteLaplacian(Sumbaganga[:,:,t])\n",
      "    zacatlan=\"Laplacian-$t.dat\"\n",
      "    writedlm(zacatlan, TestLaplacian[:,:,t])\n",
      "end\n"
     ],
     "language": "python",
     "metadata": {},
     "outputs": [],
     "prompt_number": 34
    },
    {
     "cell_type": "code",
     "collapsed": false,
     "input": [
      "#checa que Julia va ordenando los datos renglon por renglon, no columna por columna\n",
      "\n",
      "\n",
      "function MedianSmooth(Datos)\n",
      "    MedianKernel=[[1 1 1], [1 1 1], [1 1 1]];\n",
      "    result=zeros(Datos)\n",
      "    temp=copy(Datos)\n",
      "    #Primero, hacemos el padding de los datos para que no se suavice demasiado\n",
      "    temp=vcat(temp[1,:], temp, temp[end,:])\n",
      "    temp=hcat(temp[:,1], temp, temp[:,1])\n",
      "    largo,ancho=size(Datos)\n",
      "    aux=Array(Float64,(3,3))\n",
      "    result=zeros(Datos)\n",
      "    for j=2:largo, k=2:ancho\n",
      "        #los indices van primero, \"renglones\", luego \"columnas\", etc\n",
      "        aux=temp[j-1:j+1,k-1:k+1]\n",
      "        result[j,k]=sum(MedianKernel.*aux)\n",
      "    end\n",
      "    result=result/9.0\n",
      "    return result\n",
      "end"
     ],
     "language": "python",
     "metadata": {},
     "outputs": [
      {
       "metadata": {},
       "output_type": "pyout",
       "prompt_number": 35,
       "text": [
        "MedianSmooth (generic function with 1 method)"
       ]
      }
     ],
     "prompt_number": 35
    },
    {
     "cell_type": "code",
     "collapsed": false,
     "input": [
      "SuavizadoMediano=zeros(Chumbaganga);\n",
      "for t=1:tmax\n",
      "    SuavizadoMediano[:,:,t]=MedianSmooth(Chumbaganga[:,:,t])\n",
      "end"
     ],
     "language": "python",
     "metadata": {},
     "outputs": [],
     "prompt_number": 36
    },
    {
     "cell_type": "code",
     "collapsed": false,
     "input": [
      "TestLaplacian=zeros(SuavizadoMediano);\n",
      "for t=1:tmax\n",
      "    TestLaplacian[:,:,t]=DiscreteLaplacian(SuavizadoMediano[:,:,t])\n",
      "    zacatlan=\"SuavizadoTrevinoLaplacian-$t.dat\"\n",
      "    writedlm(zacatlan, TestLaplacian[:,:,t])\n",
      "end"
     ],
     "language": "python",
     "metadata": {},
     "outputs": [],
     "prompt_number": 39
    },
    {
     "cell_type": "markdown",
     "metadata": {},
     "source": [
      "Voy  a considerar ahora solo los datos que estan en la mascara. Checate como Julia hace la operacion elemento por elemento!"
     ]
    },
    {
     "cell_type": "code",
     "collapsed": false,
     "input": [
      "zacatito=zeros(64,64)\n",
      "auxiliar=zeros(64,64)\n",
      "for t=1:tmax\n",
      "    zacatlan=\"FlattSmooth-$t.dat\"\n",
      "    writedlm(zacatlan,SuavizadoMediano[:,:,t])\n",
      "end"
     ],
     "language": "python",
     "metadata": {},
     "outputs": [],
     "prompt_number": 38
    },
    {
     "cell_type": "code",
     "collapsed": false,
     "input": [
      "ProbandoGauss=GaussianSmooth(LasMedicionesCrudas[:,:,745]);\n",
      "writedlm(\"DM745Gaussian01.dat\", ProbandoGauss)"
     ],
     "language": "python",
     "metadata": {},
     "outputs": [],
     "prompt_number": 12
    },
    {
     "cell_type": "code",
     "collapsed": false,
     "input": [
      "VarianciasTemporales=zeros(64,64);\n",
      "for j=1:64\n",
      "    for k=1:64\n",
      "         VarianciasTemporales[j,k]=std(DatosInteresantes[j,k,:])\n",
      "    end\n",
      "end"
     ],
     "language": "python",
     "metadata": {},
     "outputs": [],
     "prompt_number": 12
    },
    {
     "cell_type": "code",
     "collapsed": false,
     "input": [],
     "language": "python",
     "metadata": {},
     "outputs": [],
     "prompt_number": 13
    },
    {
     "cell_type": "code",
     "collapsed": false,
     "input": [
      "writedlm(\"VarianciasTemporals01.dat\", VarianciasTemporales);"
     ],
     "language": "python",
     "metadata": {},
     "outputs": [],
     "prompt_number": 14
    },
    {
     "cell_type": "code",
     "collapsed": false,
     "input": [
      "MediasTemporales=zeros(64,64);\n",
      "for j=1:64\n",
      "    for k=1:64\n",
      "         MediasTemporales[j,k]=mean(DatosInteresantes[j,k,:])\n",
      "    end\n",
      "end"
     ],
     "language": "python",
     "metadata": {},
     "outputs": [],
     "prompt_number": 15
    },
    {
     "cell_type": "code",
     "collapsed": false,
     "input": [
      "writedlm(\"MediasTemporals01.dat\", MediasTemporales);"
     ],
     "language": "python",
     "metadata": {},
     "outputs": [],
     "prompt_number": 16
    },
    {
     "cell_type": "code",
     "collapsed": false,
     "input": [
      "sigmaTotalAbsoluta"
     ],
     "language": "python",
     "metadata": {},
     "outputs": [
      {
       "metadata": {},
       "output_type": "pyout",
       "prompt_number": 17,
       "text": [
        "16.515387990287376"
       ]
      }
     ],
     "prompt_number": 17
    },
    {
     "cell_type": "code",
     "collapsed": false,
     "input": [
      "promediototal=mean(DatosFiltrados)"
     ],
     "language": "python",
     "metadata": {},
     "outputs": [
      {
       "metadata": {},
       "output_type": "pyout",
       "prompt_number": 39,
       "text": [
        "-0.09987307054327693"
       ]
      }
     ],
     "prompt_number": 39
    },
    {
     "cell_type": "code",
     "collapsed": false,
     "input": [
      "VarianciasVentaneadas=zeros(DatosFiltrados)\n",
      "for j=1:64\n",
      "    for k=1:64\n",
      "        ChorizoExemplo=reshape(DatosFiltrados[j,k,:],1401)\n",
      "        VarianciasVentaneadas[j,k,:]=desviaporventanas(ChorizoExemplo,350)\n",
      "    end\n",
      "end"
     ],
     "language": "python",
     "metadata": {},
     "outputs": [],
     "prompt_number": 19
    },
    {
     "cell_type": "code",
     "collapsed": false,
     "input": [
      "MediasVentaneadas=zeros(DatosFiltrados)\n",
      "for j=1:64\n",
      "    for k=1:64\n",
      "        if (Mascara[j,k]==1)\n",
      "            ChorizoExemplo=reshape(DatosFiltrados[j,k,:],1401)\n",
      "            MediasVentaneadas[j,k,:]=mediaporventana(ChorizoExemplo,350)\n",
      "        end\n",
      "    end\n",
      "end"
     ],
     "language": "python",
     "metadata": {},
     "outputs": [],
     "prompt_number": 20
    },
    {
     "cell_type": "code",
     "collapsed": false,
     "input": [
      "zacatito=zeros(Float64,(64,64))\n",
      "for t=1:1051\n",
      "    zacatlan=\"MediasFiltradaLocal350-$t.dat\"\n",
      "    zacatito=VarianciasVentaneadas[:,:,t]\n",
      "    writedlm(zacatlan,zacatito )\n",
      "end"
     ],
     "language": "python",
     "metadata": {},
     "outputs": [],
     "prompt_number": 21
    },
    {
     "cell_type": "code",
     "collapsed": false,
     "input": [
      "ActividadNegativa=zeros(DatosFiltrados);\n",
      "ActividadPositiva=zeros(DatosFiltrados);\n",
      "SpikeCountPositivo=zeros(64,64);\n",
      "SpikeCountNegativo=zeros(64,64);\n",
      "SpikeCountTotal=zeros(64,64;)\n",
      "for j=1:64\n",
      "    for k=1:64\n",
      "        for t=1:1051\n",
      "            if(abs(DatosFiltrados[j,k,t]-promediototal)>2*sigmaTotalAbsoluta)\n",
      "                SpikeCountTotal[j,k]+=1;    \n",
      "                if(MediasVentaneadas[j,k,t]<0)      \n",
      "                    ActividadNegativa[j,k,t]=DatosFiltrados[j,k,t]\n",
      "                    SpikeCountNegativo[j,k]+=1\n",
      "                else\n",
      "                    ActividadPositiva[j,k,t]=DatosFiltrados[j,k,t]\n",
      "                    SpikeCountPositivo[j,k]+=1\n",
      "                end\n",
      "            end\n",
      "            \n",
      "        end\n",
      "    end\n",
      "end"
     ],
     "language": "python",
     "metadata": {},
     "outputs": [],
     "prompt_number": 48
    },
    {
     "cell_type": "code",
     "collapsed": false,
     "input": [
      "writedlm(\"SpikeCountNegativo.dat\", SpikeCountNegativo)\n",
      "writedlm(\"SpikeCountPositivo.dat\", SpikeCountPositivo)\n",
      "writedlm(\"SpikeCountTotal.dat\", SpikeCountTotal)"
     ],
     "language": "python",
     "metadata": {},
     "outputs": [],
     "prompt_number": 49
    },
    {
     "cell_type": "code",
     "collapsed": false,
     "input": [
      "SpikeCountTotal[30,60],\n",
      "Mascara[30,60]\n"
     ],
     "language": "python",
     "metadata": {},
     "outputs": [
      {
       "metadata": {},
       "output_type": "pyout",
       "prompt_number": 53,
       "text": [
        "(118.0,1)"
       ]
      }
     ],
     "prompt_number": 53
    },
    {
     "cell_type": "code",
     "collapsed": false,
     "input": [
      "testingsmooth=reshape(DatosFiltrados[30,60,:],1401);\n",
      "writedlm(\"DatosExemplo3060.dat\", testingsmooth);\n",
      "suavizados=mediaporventana(testingsmooth,50);\n",
      "writedlm(\"DatosSmoothed01.dat\", suavizados);\n",
      "suavizaditos=mediaporventana(testingsmooth,24);\n",
      "suavizadisimos=mediaporventana(testingsmooth,350);\n",
      "writedlm(\"DatospocoSmoothed01.dat\", suavizaditos);\n",
      "writedlm(\"DatosmuySmoothed01.dat\", suavizadisimos);"
     ],
     "language": "python",
     "metadata": {},
     "outputs": [],
     "prompt_number": 67
    },
    {
     "cell_type": "code",
     "collapsed": false,
     "input": [
      "desviacionexemplo=desviaporventanas(testingsmooth,50);\n",
      "writedlm(\"DesviacionesExemplo01.dat\", desviacionexemplo);"
     ],
     "language": "python",
     "metadata": {},
     "outputs": [],
     "prompt_number": 66
    },
    {
     "cell_type": "code",
     "collapsed": false,
     "input": [
      "pocopocosuaves=mediaporventana(testingsmooth,10);\n",
      "writedlm(\"MuypocoSuaves01.dat\", pocopocosuaves);"
     ],
     "language": "python",
     "metadata": {},
     "outputs": [],
     "prompt_number": 68
    },
    {
     "cell_type": "code",
     "collapsed": false,
     "input": [
      "zacatito=zeros(Float64,(64,64))\n",
      "for t=1:1051\n",
      "    zacatlan=\"PseudoSpikeCountNeg-$t.dat\"\n",
      "    zacatito=ActividadNegativa[:,:,t]\n",
      "    writedlm(zacatlan,zacatito )\n",
      "    zacatlan=\"PseudoSpikeCountPos-$t.dat\"\n",
      "    zacatito=ActividadPositiva[:,:,t]\n",
      "    writedlm(zacatlan,zacatito )\n",
      "end\n"
     ],
     "language": "python",
     "metadata": {},
     "outputs": [],
     "prompt_number": 41
    },
    {
     "cell_type": "code",
     "collapsed": false,
     "input": [],
     "language": "python",
     "metadata": {},
     "outputs": []
    },
    {
     "cell_type": "code",
     "collapsed": false,
     "input": [
      "Salida=open(\"DatosCMNegativo01.dat\", \"w\");"
     ],
     "language": "python",
     "metadata": {},
     "outputs": [],
     "prompt_number": 24
    },
    {
     "cell_type": "code",
     "collapsed": false,
     "input": [
      "for t=1:1051\n",
      "    masa=sum(ActividadNegativa[:,:,t]);\n",
      "    xmasa=0.0\n",
      "    ymasa=0.0\n",
      "    for j=1:64\n",
      "        xmasa+=j*sum(ActividadNegativa[j,:,t])\n",
      "        ymasa+=j*sum(ActividadNegativa[:,j,t])\n",
      "    end\n",
      "    xmasa=xmasa/masa\n",
      "    ymasa=ymasa/masa\n",
      "    write(Salida,join((xmasa,ymasa,masa), \"\\t\"), \"\\n\" )\n",
      "end"
     ],
     "language": "python",
     "metadata": {},
     "outputs": [],
     "prompt_number": 25
    },
    {
     "cell_type": "code",
     "collapsed": false,
     "input": [
      "close(Salida);\n",
      "Salida=open(\"DatosCMPositivo01.dat\", \"w\")"
     ],
     "language": "python",
     "metadata": {},
     "outputs": [
      {
       "metadata": {},
       "output_type": "pyout",
       "prompt_number": 26,
       "text": [
        "IOStream(<file DatosCMPositivo01.dat>)"
       ]
      }
     ],
     "prompt_number": 26
    },
    {
     "cell_type": "code",
     "collapsed": false,
     "input": [
      "for t=1:1051\n",
      "    masa=sum(ActividadPositiva[:,:,t]);\n",
      "    xmasa=0.0\n",
      "    ymasa=0.0\n",
      "    for j=1:64\n",
      "        xmasa+=j*sum(ActividadPositiva[j,:,t])\n",
      "        ymasa+=j*sum(ActividadPositiva[:,j,t])\n",
      "    end\n",
      "    xmasa=xmasa/masa\n",
      "    ymasa=ymasa/masa\n",
      "    write(Salida,join((xmasa,ymasa,masa), \"\\t\"), \"\\n\" )\n",
      "end"
     ],
     "language": "python",
     "metadata": {},
     "outputs": [],
     "prompt_number": 27
    },
    {
     "cell_type": "code",
     "collapsed": false,
     "input": [
      "close(Salida)"
     ],
     "language": "python",
     "metadata": {},
     "outputs": [],
     "prompt_number": 28
    },
    {
     "cell_type": "code",
     "collapsed": false,
     "input": [],
     "language": "python",
     "metadata": {},
     "outputs": [],
     "prompt_number": 29
    },
    {
     "cell_type": "code",
     "collapsed": false,
     "input": [
      "paescribirunfolded=sort(paescribir);\n",
      "paescribirunfolded=diff(paescribirunfolded); #checa el metodo diff"
     ],
     "language": "python",
     "metadata": {},
     "outputs": [
      {
       "ename": "LoadError",
       "evalue": "paescribir not defined\nwhile loading In[30], in expression starting on line 1",
       "output_type": "pyerr",
       "traceback": [
        "paescribir not defined\nwhile loading In[30], in expression starting on line 1",
        ""
       ]
      }
     ],
     "prompt_number": 30
    },
    {
     "cell_type": "code",
     "collapsed": false,
     "input": [
      "writedlm(\"DiferenciasVariancias01.dat\", paescribirunfolded)"
     ],
     "language": "python",
     "metadata": {},
     "outputs": [
      {
       "ename": "LoadError",
       "evalue": "paescribirunfolded not defined\nwhile loading In[31], in expression starting on line 1",
       "output_type": "pyerr",
       "traceback": [
        "paescribirunfolded not defined\nwhile loading In[31], in expression starting on line 1",
        ""
       ]
      }
     ],
     "prompt_number": 31
    },
    {
     "cell_type": "code",
     "collapsed": false,
     "input": [
      "otrasbins=range(0,0.005,200)\n",
      "histodiff=hist(paescribirunfolded,otrasbins)\n",
      "cruac=DataFrame();\n",
      "cruac[1]=collect(otrasbins[1:end-1]);\n",
      "cruac[2]=histodiff[2];\n",
      "writetable(\"HistoDiffVariancias.dat\", cruac, separator='\\t')"
     ],
     "language": "python",
     "metadata": {},
     "outputs": [
      {
       "ename": "LoadError",
       "evalue": "paescribirunfolded not defined\nwhile loading In[32], in expression starting on line 2",
       "output_type": "pyerr",
       "traceback": [
        "paescribirunfolded not defined\nwhile loading In[32], in expression starting on line 2",
        ""
       ]
      }
     ],
     "prompt_number": 32
    },
    {
     "cell_type": "code",
     "collapsed": false,
     "input": [
      "Distributions.fit(Distributions.Gamma, paescribirunfolded)"
     ],
     "language": "python",
     "metadata": {},
     "outputs": [
      {
       "ename": "LoadError",
       "evalue": "Distributions not defined\nwhile loading In[33], in expression starting on line 1",
       "output_type": "pyerr",
       "traceback": [
        "Distributions not defined\nwhile loading In[33], in expression starting on line 1",
        ""
       ]
      }
     ],
     "prompt_number": 33
    },
    {
     "cell_type": "code",
     "collapsed": false,
     "input": [
      "sum(cruac[2])"
     ],
     "language": "python",
     "metadata": {},
     "outputs": [
      {
       "ename": "LoadError",
       "evalue": "cruac not defined\nwhile loading In[34], in expression starting on line 1",
       "output_type": "pyerr",
       "traceback": [
        "cruac not defined\nwhile loading In[34], in expression starting on line 1",
        ""
       ]
      }
     ],
     "prompt_number": 34
    },
    {
     "cell_type": "markdown",
     "metadata": {},
     "source": [
      "Okey, vamos a seguir Francos Way a partir de ahora. Veamos que endiabladas cosas esas funcionan mas o menos menos chungo"
     ]
    },
    {
     "cell_type": "code",
     "collapsed": false,
     "input": [
      "Mascara=zeros(Variancias)\n",
      "Mascara=map(x->((x<26)&&(x>17))?1:0, Variancias);\n",
      "writedlm(\"mascara.dat\", Mascara)"
     ],
     "language": "python",
     "metadata": {},
     "outputs": [
      {
       "ename": "LoadError",
       "evalue": "Variancias not defined\nwhile loading In[35], in expression starting on line 1",
       "output_type": "pyerr",
       "traceback": [
        "Variancias not defined\nwhile loading In[35], in expression starting on line 1",
        ""
       ]
      }
     ],
     "prompt_number": 35
    },
    {
     "cell_type": "code",
     "collapsed": false,
     "input": [
      "?std"
     ],
     "language": "python",
     "metadata": {},
     "outputs": [
      {
       "output_type": "stream",
       "stream": "stderr",
       "text": [
        "INFO: Loading help data...\n"
       ]
      },
      {
       "output_type": "stream",
       "stream": "stdout",
       "text": [
        "Base.std(v[, region])\n",
        "\n",
        "   Compute the sample standard deviation of a vector or array \"v\",\n",
        "   optionally along dimensions in \"region\". The algorithm returns an\n",
        "   estimator of the generative distribution's standard deviation under\n",
        "   the assumption that each entry of \"v\" is an IID drawn from that\n",
        "   generative distribution. This computation is equivalent to\n",
        "   calculating \"sqrt(sum((v - mean(v)).^2) / (length(v) - 1))\".\n",
        "   Note: Julia does not ignore \"NaN\" values in the computation. For\n",
        "   applications requiring the handling of missing data, the\n",
        "   \"DataArray\" package is recommended.\n"
       ]
      }
     ],
     "prompt_number": 36
    },
    {
     "cell_type": "code",
     "collapsed": false,
     "input": [
      "std(LasMedicionesCrudas)"
     ],
     "language": "python",
     "metadata": {},
     "outputs": [
      {
       "metadata": {},
       "output_type": "pyout",
       "prompt_number": 37,
       "text": [
        "80.68605707215762"
       ]
      }
     ],
     "prompt_number": 37
    },
    {
     "cell_type": "code",
     "collapsed": false,
     "input": [],
     "language": "python",
     "metadata": {},
     "outputs": [],
     "prompt_number": 38
    }
   ],
   "metadata": {}
  }
 ]
}