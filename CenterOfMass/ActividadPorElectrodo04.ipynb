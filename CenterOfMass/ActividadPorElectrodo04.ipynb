{
 "cells": [
  {
   "cell_type": "markdown",
   "metadata": {},
   "source": [
    "# Medidas de actividad por electrodo: Laplaciano de la señal."
   ]
  },
  {
   "cell_type": "markdown",
   "metadata": {},
   "source": [
    "Veamos. Franco dice que hay una distribucion trimodal en los datos. Cada moda indica la superposición de otra señal. Una es el ruido de fondo. La mas violenta debe ser la actividad real."
   ]
  },
  {
   "cell_type": "code",
   "execution_count": 1,
   "metadata": {
    "collapsed": false
   },
   "outputs": [
    {
     "data": {
      "text/plain": [
       "Dict{ASCIIString,Any} with 4 entries:\n",
       "  \"SamplingFrequency\" => 7022.0\n",
       "  \"StopFrame\"         => 5.549486e6\n",
       "  \"StartFrame\"        => 5.545273e6\n",
       "  \"RawMatrix\"         => [4125.0 2.01416015625 -28.1982421875 -10.07080078125 -…"
      ]
     },
     "execution_count": 1,
     "metadata": {},
     "output_type": "execute_result"
    }
   ],
   "source": [
    "using MAT \n",
    "DatosAparato=matopen(\"propagacion.mat\");\n",
    "matread(\"propagacion.mat\")"
   ]
  },
  {
   "cell_type": "markdown",
   "metadata": {},
   "source": [
    "La siguiente variable contiene TODO el arreglo de los datos, cuyas longitudes son espacio, espacio y tiempo."
   ]
  },
  {
   "cell_type": "code",
   "execution_count": 2,
   "metadata": {
    "collapsed": false
   },
   "outputs": [
    {
     "data": {
      "text/plain": [
       "(64,64,4213)"
      ]
     },
     "execution_count": 2,
     "metadata": {},
     "output_type": "execute_result"
    }
   ],
   "source": [
    "LasMedicionesCrudas=read(DatosAparato, \"RawMatrix\");\n",
    "size(LasMedicionesCrudas)"
   ]
  },
  {
   "cell_type": "markdown",
   "metadata": {},
   "source": [
    "Como podemos ver, los datos fueron tomados a 7022 muestras por segundo, son 4213 cuadros, y cada cuadro es de 64 por 64 entradas. Estas estan medidas en microvolts, $\\mu V$, respecto a una tierra base que tiene el aparato ahí definida."
   ]
  },
  {
   "cell_type": "markdown",
   "metadata": {},
   "source": [
    "La actividad mas interesante se da entre los cuadros 1300 y 2700 aprox, vamos a usar solo esos."
   ]
  },
  {
   "cell_type": "code",
   "execution_count": 3,
   "metadata": {
    "collapsed": false
   },
   "outputs": [
    {
     "data": {
      "text/plain": [
       "1401"
      ]
     },
     "execution_count": 3,
     "metadata": {},
     "output_type": "execute_result"
    }
   ],
   "source": [
    "ParteInteresante=LasMedicionesCrudas[:,:,1300:2700];\n",
    "medidasdatos=size(ParteInteresante)\n",
    "tmax=medidasdatos[3]"
   ]
  },
  {
   "cell_type": "markdown",
   "metadata": {},
   "source": [
    "Hay un par de electros saturados, que marcan voltajes absurdamente altos. Esos los vamos a matar con una funcion umbral. La funcion umbral no va a matar señales pequeñas. Eso es tarea de una suavización temporal. Despues de todo, el ruido es temporal."
   ]
  },
  {
   "cell_type": "code",
   "execution_count": 4,
   "metadata": {
    "collapsed": false
   },
   "outputs": [
    {
     "data": {
      "text/plain": [
       "UnNormGauss (generic function with 1 method)"
      ]
     },
     "execution_count": 4,
     "metadata": {},
     "output_type": "execute_result"
    }
   ],
   "source": [
    "function umbral(x)\n",
    "    result=((abs(x)>150) ? 0 : x)\n",
    "end;\n",
    "\n",
    "function aplastar(x)\n",
    "    result=((abs(x)<40) ? 0 : x)\n",
    "end;\n",
    "\n",
    "function UnNormGauss(x,sigma)\n",
    "    return exp(-x*x/(2*sigma))\n",
    "end\n"
   ]
  },
  {
   "cell_type": "code",
   "execution_count": 5,
   "metadata": {
    "collapsed": false
   },
   "outputs": [],
   "source": [
    "map!(umbral, ParteInteresante); #map! quiere decir map in situ\n",
    "DesviacionPorElectrodo=zeros(64,64)\n",
    "for j=1:64, k=1:64\n",
    "    DesviacionPorElectrodo[j,k]=std(reshape(ParteInteresante[j,k,:],tmax));\n",
    "end"
   ]
  },
  {
   "cell_type": "code",
   "execution_count": 6,
   "metadata": {
    "collapsed": false
   },
   "outputs": [
    {
     "data": {
      "text/plain": [
       "OtsuUmbralizar (generic function with 1 method)"
      ]
     },
     "execution_count": 6,
     "metadata": {},
     "output_type": "execute_result"
    }
   ],
   "source": [
    "include(\"Otsu01.jl\")\n"
   ]
  },
  {
   "cell_type": "code",
   "execution_count": 7,
   "metadata": {
    "collapsed": false
   },
   "outputs": [],
   "source": [
    "MascaraOtsu=OtsuUmbralizar(DesviacionPorElectrodo);"
   ]
  },
  {
   "cell_type": "code",
   "execution_count": 8,
   "metadata": {
    "collapsed": false
   },
   "outputs": [
    {
     "data": {
      "text/plain": [
       "1128"
      ]
     },
     "execution_count": 8,
     "metadata": {},
     "output_type": "execute_result"
    }
   ],
   "source": [
    "canalesinteresantes=sum(MascaraOtsu)"
   ]
  },
  {
   "cell_type": "code",
   "execution_count": 9,
   "metadata": {
    "collapsed": false
   },
   "outputs": [],
   "source": [
    "CuernoDeAmon=zeros(ParteInteresante);\n",
    "for t=1:tmax\n",
    "    CuernoDeAmon[:,:,t]=ParteInteresante[:,:,t].*MascaraOtsu\n",
    "end"
   ]
  },
  {
   "cell_type": "code",
   "execution_count": 10,
   "metadata": {
    "collapsed": false
   },
   "outputs": [
    {
     "data": {
      "text/plain": [
       "PromedioSuavizar (generic function with 1 method)"
      ]
     },
     "execution_count": 10,
     "metadata": {},
     "output_type": "execute_result"
    }
   ],
   "source": [
    "function PromedioSuavizar(Datos, mediaventana)\n",
    "    #Bien, veamos como chingaos le ponemos \"padding\" a las convoluciones.\n",
    "    colchon=zeros(mediaventana)\n",
    "    result=zeros(Datos)\n",
    "    datoscolchon=vcat(colchon, Datos, colchon)\n",
    "    for t=mediaventana+1:length(Datos)-mediaventana\n",
    "        result[t-mediaventana]=mean(datoscolchon[t-mediaventana:t+mediaventana])\n",
    "    end\n",
    "    return result\n",
    "end\n",
    "     "
   ]
  },
  {
   "cell_type": "code",
   "execution_count": 11,
   "metadata": {
    "collapsed": false
   },
   "outputs": [
    {
     "data": {
      "text/plain": [
       "GaussSuavizar (generic function with 1 method)"
      ]
     },
     "execution_count": 11,
     "metadata": {},
     "output_type": "execute_result"
    }
   ],
   "source": [
    "function GaussSuavizar(Datos,Sigma)  \n",
    "    #sigma esta medido en pixeles, es la desviacion estandar de nuestro kernel.\n",
    "    #El medioancho de nuestra ventana seran 3 sigmas.\n",
    "    #Bien, veamos como chingaos le ponemos \"padding\" a las convoluciones.\n",
    "    medioancho=ceil(Sigma*3)\n",
    "    colchon=ones(medioancho)\n",
    "    result=zeros(Datos)\n",
    "    datoscolchon=vcat(colchon*Datos[1], Datos, colchon*Datos[end])\n",
    "    kernel=map(x->UnNormGauss(x,Sigma), [-medioancho:medioancho])\n",
    "    kernel=kernel/(sum(kernel))\n",
    "    #La convolucion asi normalizada preserva el valor RELATIVO entre los puntos de la funcion.\n",
    "    #pero queremos ponerlo mas parecido a los voltajes que medimos, para preservar el rango de valores\n",
    "    #experimentales y su criterio de potenciales de accion / ruido\n",
    "    for t=medioancho+1:length(Datos)-medioancho\n",
    "        result[t-medioancho]=sum(datoscolchon[t-medioancho:t+medioancho].*kernel)\n",
    "    end\n",
    "    a=maximum(abs(Datos))\n",
    "    b=maximum(abs(result))\n",
    "    result=result*a/b\n",
    "    return result\n",
    "end\n",
    "    "
   ]
  },
  {
   "cell_type": "code",
   "execution_count": 12,
   "metadata": {
    "collapsed": false
   },
   "outputs": [
    {
     "data": {
      "text/plain": [
       "(-149.0478515625,143.00537109375)"
      ]
     },
     "execution_count": 12,
     "metadata": {},
     "output_type": "execute_result"
    }
   ],
   "source": [
    "#Datos de interes general\n",
    "VoltajeBase=minimum(CuernoDeAmon);\n",
    "VoltajeMaximo=maximum(CuernoDeAmon);\n",
    "(VoltajeBase, VoltajeMaximo)"
   ]
  },
  {
   "cell_type": "code",
   "execution_count": 13,
   "metadata": {
    "collapsed": false
   },
   "outputs": [],
   "source": [
    "Chumbaganga=zeros(CuernoDeAmon);\n",
    "for j=1:64, k=1:64\n",
    "    if(MascaraOtsu[j,k]==1)\n",
    "   #     Chumbaganga[j,k,:]=GaussSuavizar(reshape(CuernoDeAmon[j,k,:],tmax),7)\n",
    "        Chumbaganga[j,k,:]=map(aplastar, reshape(CuernoDeAmon[j,k,:], tmax))\n",
    "        Chumbaganga[j,k,:]=GaussSuavizar(reshape(Chumbaganga[j,k,:],tmax),7)\n",
    "    end    \n",
    "end"
   ]
  },
  {
   "cell_type": "code",
   "execution_count": 17,
   "metadata": {
    "collapsed": false
   },
   "outputs": [],
   "source": [
    "writedlm(\"MascaraOtsu01.dat\", MascaraOtsu)"
   ]
  },
  {
   "cell_type": "code",
   "execution_count": 14,
   "metadata": {
    "collapsed": false
   },
   "outputs": [],
   "source": [
    "Chumbaganga=map(x->isnan(x)? 0:x, Chumbaganga);"
   ]
  },
  {
   "cell_type": "code",
   "execution_count": 15,
   "metadata": {
    "collapsed": false
   },
   "outputs": [],
   "source": [
    "# a escribir, pa variar\n",
    "for t=1:tmax\n",
    "#    aux=map(x-> isnan(x)?0:x, Chumbaganga[:,:,t])\n",
    "    zacatlan=\"GaussianFilteredonTime-$t.dat\"\n",
    "    writedlm(zacatlan, Chumbaganga[:,:,t])\n",
    "end\n"
   ]
  },
  {
   "cell_type": "code",
   "execution_count": 16,
   "metadata": {
    "collapsed": false
   },
   "outputs": [
    {
     "data": {
      "text/plain": [
       "1"
      ]
     },
     "execution_count": 16,
     "metadata": {},
     "output_type": "execute_result"
    }
   ],
   "source": [
    "MascaraOtsu[50,50]"
   ]
  },
  {
   "cell_type": "code",
   "execution_count": 19,
   "metadata": {
    "collapsed": false
   },
   "outputs": [
    {
     "data": {
      "text/plain": [
       "(143.00537109375,-149.0478515625)"
      ]
     },
     "execution_count": 19,
     "metadata": {},
     "output_type": "execute_result"
    }
   ],
   "source": [
    "Vmaxmas=maximum(Chumbaganga);\n",
    "Vminmas=minimum(Chumbaganga);\n",
    "(Vmaxmas,Vminmas)"
   ]
  },
  {
   "cell_type": "code",
   "execution_count": 17,
   "metadata": {
    "collapsed": false
   },
   "outputs": [
    {
     "data": {
      "text/plain": [
       "GaussianSmooth (generic function with 1 method)"
      ]
     },
     "execution_count": 17,
     "metadata": {},
     "output_type": "execute_result"
    }
   ],
   "source": [
    "GaussianKernel=readdlm(\"GaussianMatrixFilter01.dat\");\n",
    "function GaussianSmooth(Datos)\n",
    "    tamanodatos=size(Datos)\n",
    "    result=zeros(Datos)\n",
    "    temp=copy(Datos)\n",
    "    #Primero, hacemos el padding de los datos para que no se suavice demasiado\n",
    "    for j=1:3\n",
    "        temp=vcat(temp[1,:], temp, temp[end,:])\n",
    "    end\n",
    "    for j=1:3\n",
    "        temp=hcat(temp[:,1], temp, temp[:,1])\n",
    "    end\n",
    "    \n",
    "    for j=4:tamanodatos[1]+3, k=4:tamanodatos[2]+3\n",
    "        #los indices van primero, \"renglones\", luego \"columnas\", etc\n",
    "        aux=temp[j-3:j+3,k-3:k+3]\n",
    "        result[j-3,k-3]=sum(GaussianKernel.*aux)\n",
    "    end\n",
    "    #piensa como normalizar\n",
    "    #result=result*maximum(abs(Datos))/maximum(abs(result))\n",
    "    return result\n",
    "end"
   ]
  },
  {
   "cell_type": "code",
   "execution_count": 20,
   "metadata": {
    "collapsed": false
   },
   "outputs": [
    {
     "name": "stdout",
     "output_type": "stream",
     "text": [
      "elapsed time: 0.024252052 seconds (6912488 bytes allocated)\n"
     ]
    }
   ],
   "source": [
    "@time CuackCuack=GaussianSmooth(Chumbaganga[:,:,59]);"
   ]
  },
  {
   "cell_type": "code",
   "execution_count": 21,
   "metadata": {
    "collapsed": false
   },
   "outputs": [],
   "source": [
    "Sumbaganga=zeros(Chumbaganga)\n",
    "for t=1:tmax\n",
    "    Sumbaganga[:,:,t]=GaussianSmooth(Chumbaganga[:,:,t])\n",
    "end\n"
   ]
  },
  {
   "cell_type": "code",
   "execution_count": 22,
   "metadata": {
    "collapsed": false
   },
   "outputs": [],
   "source": [
    "Sumbaganga=Sumbaganga*(Vmaxmas/maximum(Sumbaganga));"
   ]
  },
  {
   "cell_type": "code",
   "execution_count": 58,
   "metadata": {
    "collapsed": false
   },
   "outputs": [],
   "source": [
    "# y otra vez escribiendo.\n",
    "for t=1:tmax\n",
    "    zacatlan=\"GaussSmoothSpaceandTime01-$t.dat\"\n",
    "    writedlm(zacatlan, Sumbaganga[:,:,t])\n",
    "end"
   ]
  },
  {
   "cell_type": "code",
   "execution_count": 23,
   "metadata": {
    "collapsed": false
   },
   "outputs": [],
   "source": [
    "#Un par de ejemplos para ver como se ven esas cosas:\n",
    "writedlm(\"SuavizadoSP-21-50.dat\", reshape(Sumbaganga[21,50,:],tmax))\n",
    "writedlm(\"SuavizadoSP-50-50.dat\", reshape(Sumbaganga[50,50,:],tmax))"
   ]
  },
  {
   "cell_type": "markdown",
   "metadata": {},
   "source": [
    "Varias medidas estadisticas que vamos a usar, desviacion estandar total, por canal, etc."
   ]
  },
  {
   "cell_type": "code",
   "execution_count": 24,
   "metadata": {
    "collapsed": false
   },
   "outputs": [
    {
     "data": {
      "text/plain": [
       "(-201.35533038269236,143.00537109375)"
      ]
     },
     "execution_count": 24,
     "metadata": {},
     "output_type": "execute_result"
    }
   ],
   "source": [
    "extrema(Sumbaganga)"
   ]
  },
  {
   "cell_type": "code",
   "execution_count": 20,
   "metadata": {
    "collapsed": false
   },
   "outputs": [],
   "source": [
    "ActividadMascara=1:tmax;\n",
    "for j=1:64, k=1:64\n",
    "    if(MascaraOtsu[j,k]==1)\n",
    "    ActividadMascara=hcat(ActividadMascara, reshape(Sumbaganga[j,k,:],tmax))\n",
    "    end\n",
    "end"
   ]
  },
  {
   "cell_type": "code",
   "execution_count": 27,
   "metadata": {
    "collapsed": false
   },
   "outputs": [],
   "source": [
    "map!(x->abs(x)<20?0:x, Sumbaganga);\n",
    "SumbagangaPositiva=map(x->(x>0)?x:0, Sumbaganga);\n",
    "SumbagangaNegativa=map(x->(x<0)?-x:0,Sumbaganga) ;"
   ]
  },
  {
   "cell_type": "code",
   "execution_count": 29,
   "metadata": {
    "collapsed": false
   },
   "outputs": [],
   "source": [
    "Salida=open(\"DatosCMNegativo.dat\", \"w\");\n",
    "xanterior=32.0\n",
    "yanterior=32.0\n",
    "for t=1:tmax\n",
    "    masa=sum(SumbagangaNegativa[:,:,t]);\n",
    "    xmasa=0.0\n",
    "    ymasa=0.0\n",
    "    for j=1:64\n",
    "        xmasa+=j*sum(SumbagangaNegativa[j,:,t])\n",
    "        ymasa+=j*sum(SumbagangaNegativa[:,j,t])\n",
    "    end\n",
    "    xmasa=xmasa/masa\n",
    "    ymasa=ymasa/masa\n",
    "    if(isnan(xmasa)|| isnan(ymasa))\n",
    "        write(Salida,join((xanterior,yanterior,masa,t), \"\\t\"), \"\\n\" )\n",
    "    elseif(masa<80.0)\n",
    "        write(Salida,join((xanterior,yanterior,0.00,t), \"\\t\"), \"\\n\" )\n",
    "    else\n",
    "        xanterior=xmasa\n",
    "        yanterior=ymasa\n",
    "        write(Salida,join((xmasa,ymasa,masa,t), \"\\t\"), \"\\n\" )\n",
    "    end\n",
    "end\n",
    "close(Salida)"
   ]
  },
  {
   "cell_type": "code",
   "execution_count": 21,
   "metadata": {
    "collapsed": false
   },
   "outputs": [],
   "source": [
    "map!(x->isnan(x)? 0:x, ActividadMascara);\n",
    "writedlm(\"ActividadSuavizadaPorCanal01.dat\", ActividadMascara)"
   ]
  },
  {
   "cell_type": "code",
   "execution_count": 32,
   "metadata": {
    "collapsed": false
   },
   "outputs": [
    {
     "data": {
      "text/plain": [
       "DiscreteLaplacian (generic function with 1 method)"
      ]
     },
     "execution_count": 32,
     "metadata": {},
     "output_type": "execute_result"
    }
   ],
   "source": [
    "LaplacianKernel=zeros(3,3);\n",
    "#checa que Julia va ordenando los datos renglon por renglon, no columna por columna\n",
    "LaplacianKernel=[[0.5 1 0.5], [1 -6 1], [0.5 1 0.5]];\n",
    "\n",
    "function DiscreteLaplacian(Datos)\n",
    "    result=zeros(Datos)\n",
    "    temp=copy(Datos)\n",
    "    #Primero, hacemos el padding de los datos para que no se suavice demasiado\n",
    "    temp=vcat(temp[1,:], temp, temp[end,:])\n",
    "    temp=hcat(temp[:,1], temp, temp[:,1])\n",
    "    largo,ancho=size(Datos)\n",
    "    aux=Array(Float64,(3,3))\n",
    "    result=zeros(Datos)\n",
    "    for j=2:largo, k=2:ancho\n",
    "        #los indices van primero, \"renglones\", luego \"columnas\", etc\n",
    "        aux=temp[j-1:j+1,k-1:k+1]\n",
    "        result[j,k]=sum(LaplacianKernel.*aux)\n",
    "    end\n",
    "    return result\n",
    "end"
   ]
  },
  {
   "cell_type": "code",
   "execution_count": 34,
   "metadata": {
    "collapsed": false
   },
   "outputs": [],
   "source": [
    "TestLaplacian=zeros(LasMedicionesCrudas);\n",
    "for t=1:tmax\n",
    "    TestLaplacian[:,:,t]=DiscreteLaplacian(Sumbaganga[:,:,t])\n",
    "    zacatlan=\"Laplacian-$t.dat\"\n",
    "    writedlm(zacatlan, TestLaplacian[:,:,t])\n",
    "end\n"
   ]
  },
  {
   "cell_type": "code",
   "execution_count": 35,
   "metadata": {
    "collapsed": false
   },
   "outputs": [
    {
     "data": {
      "text/plain": [
       "MedianSmooth (generic function with 1 method)"
      ]
     },
     "execution_count": 35,
     "metadata": {},
     "output_type": "execute_result"
    }
   ],
   "source": [
    "#checa que Julia va ordenando los datos renglon por renglon, no columna por columna\n",
    "\n",
    "\n",
    "function MedianSmooth(Datos)\n",
    "    MedianKernel=[[1 1 1], [1 1 1], [1 1 1]];\n",
    "    result=zeros(Datos)\n",
    "    temp=copy(Datos)\n",
    "    #Primero, hacemos el padding de los datos para que no se suavice demasiado\n",
    "    temp=vcat(temp[1,:], temp, temp[end,:])\n",
    "    temp=hcat(temp[:,1], temp, temp[:,1])\n",
    "    largo,ancho=size(Datos)\n",
    "    aux=Array(Float64,(3,3))\n",
    "    result=zeros(Datos)\n",
    "    for j=2:largo, k=2:ancho\n",
    "        #los indices van primero, \"renglones\", luego \"columnas\", etc\n",
    "        aux=temp[j-1:j+1,k-1:k+1]\n",
    "        result[j,k]=sum(MedianKernel.*aux)\n",
    "    end\n",
    "    result=result/9.0\n",
    "    return result\n",
    "end"
   ]
  },
  {
   "cell_type": "code",
   "execution_count": 36,
   "metadata": {
    "collapsed": false
   },
   "outputs": [],
   "source": [
    "SuavizadoMediano=zeros(Chumbaganga);\n",
    "for t=1:tmax\n",
    "    SuavizadoMediano[:,:,t]=MedianSmooth(Chumbaganga[:,:,t])\n",
    "end"
   ]
  },
  {
   "cell_type": "code",
   "execution_count": 39,
   "metadata": {
    "collapsed": false
   },
   "outputs": [],
   "source": [
    "TestLaplacian=zeros(SuavizadoMediano);\n",
    "for t=1:tmax\n",
    "    TestLaplacian[:,:,t]=DiscreteLaplacian(SuavizadoMediano[:,:,t])\n",
    "    zacatlan=\"SuavizadoTrevinoLaplacian-$t.dat\"\n",
    "    writedlm(zacatlan, TestLaplacian[:,:,t])\n",
    "end"
   ]
  },
  {
   "cell_type": "markdown",
   "metadata": {},
   "source": [
    "Voy  a considerar ahora solo los datos que estan en la mascara. Checate como Julia hace la operacion elemento por elemento!"
   ]
  },
  {
   "cell_type": "code",
   "execution_count": 38,
   "metadata": {
    "collapsed": false
   },
   "outputs": [],
   "source": [
    "zacatito=zeros(64,64)\n",
    "auxiliar=zeros(64,64)\n",
    "for t=1:tmax\n",
    "    zacatlan=\"FlattSmooth-$t.dat\"\n",
    "    writedlm(zacatlan,SuavizadoMediano[:,:,t])\n",
    "end"
   ]
  },
  {
   "cell_type": "code",
   "execution_count": 12,
   "metadata": {
    "collapsed": false
   },
   "outputs": [],
   "source": [
    "ProbandoGauss=GaussianSmooth(LasMedicionesCrudas[:,:,745]);\n",
    "writedlm(\"DM745Gaussian01.dat\", ProbandoGauss)"
   ]
  },
  {
   "cell_type": "code",
   "execution_count": 12,
   "metadata": {
    "collapsed": false
   },
   "outputs": [],
   "source": [
    "VarianciasTemporales=zeros(64,64);\n",
    "for j=1:64\n",
    "    for k=1:64\n",
    "         VarianciasTemporales[j,k]=std(DatosInteresantes[j,k,:])\n",
    "    end\n",
    "end"
   ]
  },
  {
   "cell_type": "code",
   "execution_count": 13,
   "metadata": {
    "collapsed": false
   },
   "outputs": [],
   "source": []
  },
  {
   "cell_type": "code",
   "execution_count": 14,
   "metadata": {
    "collapsed": false
   },
   "outputs": [],
   "source": [
    "writedlm(\"VarianciasTemporals01.dat\", VarianciasTemporales);"
   ]
  },
  {
   "cell_type": "code",
   "execution_count": 15,
   "metadata": {
    "collapsed": false
   },
   "outputs": [],
   "source": [
    "MediasTemporales=zeros(64,64);\n",
    "for j=1:64\n",
    "    for k=1:64\n",
    "         MediasTemporales[j,k]=mean(DatosInteresantes[j,k,:])\n",
    "    end\n",
    "end"
   ]
  },
  {
   "cell_type": "code",
   "execution_count": 16,
   "metadata": {
    "collapsed": false
   },
   "outputs": [],
   "source": [
    "writedlm(\"MediasTemporals01.dat\", MediasTemporales);"
   ]
  },
  {
   "cell_type": "code",
   "execution_count": 17,
   "metadata": {
    "collapsed": false
   },
   "outputs": [
    {
     "data": {
      "text/plain": [
       "16.515387990287376"
      ]
     },
     "execution_count": 17,
     "metadata": {},
     "output_type": "execute_result"
    }
   ],
   "source": [
    "sigmaTotalAbsoluta"
   ]
  },
  {
   "cell_type": "code",
   "execution_count": 39,
   "metadata": {
    "collapsed": false
   },
   "outputs": [
    {
     "data": {
      "text/plain": [
       "-0.09987307054327693"
      ]
     },
     "execution_count": 39,
     "metadata": {},
     "output_type": "execute_result"
    }
   ],
   "source": [
    "promediototal=mean(DatosFiltrados)"
   ]
  },
  {
   "cell_type": "code",
   "execution_count": 19,
   "metadata": {
    "collapsed": false
   },
   "outputs": [],
   "source": [
    "VarianciasVentaneadas=zeros(DatosFiltrados)\n",
    "for j=1:64\n",
    "    for k=1:64\n",
    "        ChorizoExemplo=reshape(DatosFiltrados[j,k,:],1401)\n",
    "        VarianciasVentaneadas[j,k,:]=desviaporventanas(ChorizoExemplo,350)\n",
    "    end\n",
    "end"
   ]
  },
  {
   "cell_type": "code",
   "execution_count": 20,
   "metadata": {
    "collapsed": false
   },
   "outputs": [],
   "source": [
    "MediasVentaneadas=zeros(DatosFiltrados)\n",
    "for j=1:64\n",
    "    for k=1:64\n",
    "        if (Mascara[j,k]==1)\n",
    "            ChorizoExemplo=reshape(DatosFiltrados[j,k,:],1401)\n",
    "            MediasVentaneadas[j,k,:]=mediaporventana(ChorizoExemplo,350)\n",
    "        end\n",
    "    end\n",
    "end"
   ]
  },
  {
   "cell_type": "code",
   "execution_count": 21,
   "metadata": {
    "collapsed": false
   },
   "outputs": [],
   "source": [
    "zacatito=zeros(Float64,(64,64))\n",
    "for t=1:1051\n",
    "    zacatlan=\"MediasFiltradaLocal350-$t.dat\"\n",
    "    zacatito=VarianciasVentaneadas[:,:,t]\n",
    "    writedlm(zacatlan,zacatito )\n",
    "end"
   ]
  },
  {
   "cell_type": "code",
   "execution_count": 48,
   "metadata": {
    "collapsed": false
   },
   "outputs": [],
   "source": [
    "ActividadNegativa=zeros(DatosFiltrados);\n",
    "ActividadPositiva=zeros(DatosFiltrados);\n",
    "SpikeCountPositivo=zeros(64,64);\n",
    "SpikeCountNegativo=zeros(64,64);\n",
    "SpikeCountTotal=zeros(64,64;)\n",
    "for j=1:64\n",
    "    for k=1:64\n",
    "        for t=1:1051\n",
    "            if(abs(DatosFiltrados[j,k,t]-promediototal)>2*sigmaTotalAbsoluta)\n",
    "                SpikeCountTotal[j,k]+=1;    \n",
    "                if(MediasVentaneadas[j,k,t]<0)      \n",
    "                    ActividadNegativa[j,k,t]=DatosFiltrados[j,k,t]\n",
    "                    SpikeCountNegativo[j,k]+=1\n",
    "                else\n",
    "                    ActividadPositiva[j,k,t]=DatosFiltrados[j,k,t]\n",
    "                    SpikeCountPositivo[j,k]+=1\n",
    "                end\n",
    "            end\n",
    "            \n",
    "        end\n",
    "    end\n",
    "end"
   ]
  },
  {
   "cell_type": "code",
   "execution_count": 49,
   "metadata": {
    "collapsed": false
   },
   "outputs": [],
   "source": [
    "writedlm(\"SpikeCountNegativo.dat\", SpikeCountNegativo)\n",
    "writedlm(\"SpikeCountPositivo.dat\", SpikeCountPositivo)\n",
    "writedlm(\"SpikeCountTotal.dat\", SpikeCountTotal)"
   ]
  },
  {
   "cell_type": "code",
   "execution_count": 53,
   "metadata": {
    "collapsed": false
   },
   "outputs": [
    {
     "data": {
      "text/plain": [
       "(118.0,1)"
      ]
     },
     "execution_count": 53,
     "metadata": {},
     "output_type": "execute_result"
    }
   ],
   "source": [
    "SpikeCountTotal[30,60],\n",
    "Mascara[30,60]\n"
   ]
  },
  {
   "cell_type": "code",
   "execution_count": 67,
   "metadata": {
    "collapsed": false
   },
   "outputs": [],
   "source": [
    "testingsmooth=reshape(DatosFiltrados[30,60,:],1401);\n",
    "writedlm(\"DatosExemplo3060.dat\", testingsmooth);\n",
    "suavizados=mediaporventana(testingsmooth,50);\n",
    "writedlm(\"DatosSmoothed01.dat\", suavizados);\n",
    "suavizaditos=mediaporventana(testingsmooth,24);\n",
    "suavizadisimos=mediaporventana(testingsmooth,350);\n",
    "writedlm(\"DatospocoSmoothed01.dat\", suavizaditos);\n",
    "writedlm(\"DatosmuySmoothed01.dat\", suavizadisimos);"
   ]
  },
  {
   "cell_type": "code",
   "execution_count": 66,
   "metadata": {
    "collapsed": false
   },
   "outputs": [],
   "source": [
    "desviacionexemplo=desviaporventanas(testingsmooth,50);\n",
    "writedlm(\"DesviacionesExemplo01.dat\", desviacionexemplo);"
   ]
  },
  {
   "cell_type": "code",
   "execution_count": 68,
   "metadata": {
    "collapsed": false
   },
   "outputs": [],
   "source": [
    "pocopocosuaves=mediaporventana(testingsmooth,10);\n",
    "writedlm(\"MuypocoSuaves01.dat\", pocopocosuaves);"
   ]
  },
  {
   "cell_type": "code",
   "execution_count": 41,
   "metadata": {
    "collapsed": false
   },
   "outputs": [],
   "source": [
    "zacatito=zeros(Float64,(64,64))\n",
    "for t=1:1051\n",
    "    zacatlan=\"PseudoSpikeCountNeg-$t.dat\"\n",
    "    zacatito=ActividadNegativa[:,:,t]\n",
    "    writedlm(zacatlan,zacatito )\n",
    "    zacatlan=\"PseudoSpikeCountPos-$t.dat\"\n",
    "    zacatito=ActividadPositiva[:,:,t]\n",
    "    writedlm(zacatlan,zacatito )\n",
    "end\n"
   ]
  },
  {
   "cell_type": "code",
   "execution_count": null,
   "metadata": {
    "collapsed": false
   },
   "outputs": [],
   "source": []
  },
  {
   "cell_type": "code",
   "execution_count": 24,
   "metadata": {
    "collapsed": false
   },
   "outputs": [],
   "source": [
    "Salida=open(\"DatosCMNegativo01.dat\", \"w\");"
   ]
  },
  {
   "cell_type": "code",
   "execution_count": 25,
   "metadata": {
    "collapsed": false
   },
   "outputs": [],
   "source": [
    "for t=1:1051\n",
    "    masa=sum(ActividadNegativa[:,:,t]);\n",
    "    xmasa=0.0\n",
    "    ymasa=0.0\n",
    "    for j=1:64\n",
    "        xmasa+=j*sum(ActividadNegativa[j,:,t])\n",
    "        ymasa+=j*sum(ActividadNegativa[:,j,t])\n",
    "    end\n",
    "    xmasa=xmasa/masa\n",
    "    ymasa=ymasa/masa\n",
    "    write(Salida,join((xmasa,ymasa,masa), \"\\t\"), \"\\n\" )\n",
    "end"
   ]
  },
  {
   "cell_type": "code",
   "execution_count": 26,
   "metadata": {
    "collapsed": false
   },
   "outputs": [
    {
     "data": {
      "text/plain": [
       "IOStream(<file DatosCMPositivo01.dat>)"
      ]
     },
     "execution_count": 26,
     "metadata": {},
     "output_type": "execute_result"
    }
   ],
   "source": [
    "close(Salida);\n",
    "Salida=open(\"DatosCMPositivo01.dat\", \"w\")"
   ]
  },
  {
   "cell_type": "code",
   "execution_count": 27,
   "metadata": {
    "collapsed": false
   },
   "outputs": [],
   "source": [
    "for t=1:1051\n",
    "    masa=sum(ActividadPositiva[:,:,t]);\n",
    "    xmasa=0.0\n",
    "    ymasa=0.0\n",
    "    for j=1:64\n",
    "        xmasa+=j*sum(ActividadPositiva[j,:,t])\n",
    "        ymasa+=j*sum(ActividadPositiva[:,j,t])\n",
    "    end\n",
    "    xmasa=xmasa/masa\n",
    "    ymasa=ymasa/masa\n",
    "    write(Salida,join((xmasa,ymasa,masa), \"\\t\"), \"\\n\" )\n",
    "end"
   ]
  },
  {
   "cell_type": "code",
   "execution_count": 28,
   "metadata": {
    "collapsed": false
   },
   "outputs": [],
   "source": [
    "close(Salida)"
   ]
  },
  {
   "cell_type": "code",
   "execution_count": 29,
   "metadata": {
    "collapsed": false
   },
   "outputs": [],
   "source": []
  },
  {
   "cell_type": "code",
   "execution_count": 30,
   "metadata": {
    "collapsed": false
   },
   "outputs": [
    {
     "ename": "LoadError",
     "evalue": "paescribir not defined\nwhile loading In[30], in expression starting on line 1",
     "output_type": "error",
     "traceback": [
      "paescribir not defined\nwhile loading In[30], in expression starting on line 1",
      ""
     ]
    }
   ],
   "source": [
    "paescribirunfolded=sort(paescribir);\n",
    "paescribirunfolded=diff(paescribirunfolded); #checa el metodo diff"
   ]
  },
  {
   "cell_type": "code",
   "execution_count": 31,
   "metadata": {
    "collapsed": false
   },
   "outputs": [
    {
     "ename": "LoadError",
     "evalue": "paescribirunfolded not defined\nwhile loading In[31], in expression starting on line 1",
     "output_type": "error",
     "traceback": [
      "paescribirunfolded not defined\nwhile loading In[31], in expression starting on line 1",
      ""
     ]
    }
   ],
   "source": [
    "writedlm(\"DiferenciasVariancias01.dat\", paescribirunfolded)"
   ]
  },
  {
   "cell_type": "code",
   "execution_count": 32,
   "metadata": {
    "collapsed": false
   },
   "outputs": [
    {
     "ename": "LoadError",
     "evalue": "paescribirunfolded not defined\nwhile loading In[32], in expression starting on line 2",
     "output_type": "error",
     "traceback": [
      "paescribirunfolded not defined\nwhile loading In[32], in expression starting on line 2",
      ""
     ]
    }
   ],
   "source": [
    "otrasbins=range(0,0.005,200)\n",
    "histodiff=hist(paescribirunfolded,otrasbins)\n",
    "cruac=DataFrame();\n",
    "cruac[1]=collect(otrasbins[1:end-1]);\n",
    "cruac[2]=histodiff[2];\n",
    "writetable(\"HistoDiffVariancias.dat\", cruac, separator='\\t')"
   ]
  },
  {
   "cell_type": "code",
   "execution_count": 33,
   "metadata": {
    "collapsed": false
   },
   "outputs": [
    {
     "ename": "LoadError",
     "evalue": "Distributions not defined\nwhile loading In[33], in expression starting on line 1",
     "output_type": "error",
     "traceback": [
      "Distributions not defined\nwhile loading In[33], in expression starting on line 1",
      ""
     ]
    }
   ],
   "source": [
    "Distributions.fit(Distributions.Gamma, paescribirunfolded)"
   ]
  },
  {
   "cell_type": "code",
   "execution_count": 34,
   "metadata": {
    "collapsed": false
   },
   "outputs": [
    {
     "ename": "LoadError",
     "evalue": "cruac not defined\nwhile loading In[34], in expression starting on line 1",
     "output_type": "error",
     "traceback": [
      "cruac not defined\nwhile loading In[34], in expression starting on line 1",
      ""
     ]
    }
   ],
   "source": [
    "sum(cruac[2])"
   ]
  },
  {
   "cell_type": "markdown",
   "metadata": {},
   "source": [
    "Okey, vamos a seguir Francos Way a partir de ahora. Veamos que endiabladas cosas esas funcionan mas o menos menos chungo"
   ]
  },
  {
   "cell_type": "code",
   "execution_count": 35,
   "metadata": {
    "collapsed": false
   },
   "outputs": [
    {
     "ename": "LoadError",
     "evalue": "Variancias not defined\nwhile loading In[35], in expression starting on line 1",
     "output_type": "error",
     "traceback": [
      "Variancias not defined\nwhile loading In[35], in expression starting on line 1",
      ""
     ]
    }
   ],
   "source": [
    "Mascara=zeros(Variancias)\n",
    "Mascara=map(x->((x<26)&&(x>17))?1:0, Variancias);\n",
    "writedlm(\"mascara.dat\", Mascara)"
   ]
  },
  {
   "cell_type": "code",
   "execution_count": 36,
   "metadata": {
    "collapsed": false
   },
   "outputs": [
    {
     "name": "stderr",
     "output_type": "stream",
     "text": [
      "INFO: Loading help data...\n"
     ]
    },
    {
     "name": "stdout",
     "output_type": "stream",
     "text": [
      "Base.std(v[, region])\n",
      "\n",
      "   Compute the sample standard deviation of a vector or array \"v\",\n",
      "   optionally along dimensions in \"region\". The algorithm returns an\n",
      "   estimator of the generative distribution's standard deviation under\n",
      "   the assumption that each entry of \"v\" is an IID drawn from that\n",
      "   generative distribution. This computation is equivalent to\n",
      "   calculating \"sqrt(sum((v - mean(v)).^2) / (length(v) - 1))\".\n",
      "   Note: Julia does not ignore \"NaN\" values in the computation. For\n",
      "   applications requiring the handling of missing data, the\n",
      "   \"DataArray\" package is recommended.\n"
     ]
    }
   ],
   "source": [
    "?std"
   ]
  },
  {
   "cell_type": "code",
   "execution_count": 37,
   "metadata": {
    "collapsed": false
   },
   "outputs": [
    {
     "data": {
      "text/plain": [
       "80.68605707215762"
      ]
     },
     "execution_count": 37,
     "metadata": {},
     "output_type": "execute_result"
    }
   ],
   "source": [
    "std(LasMedicionesCrudas)"
   ]
  },
  {
   "cell_type": "code",
   "execution_count": 38,
   "metadata": {
    "collapsed": false
   },
   "outputs": [],
   "source": []
  }
 ],
 "metadata": {
  "kernelspec": {
   "display_name": "Julia 0.3.7-pre",
   "language": "julia",
   "name": "julia 0.3"
  },
  "language_info": {
   "name": "julia",
   "version": "0.3.7"
  }
 },
 "nbformat": 4,
 "nbformat_minor": 0
}
