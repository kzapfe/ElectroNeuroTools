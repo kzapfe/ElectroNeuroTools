{
 "cells": [
  {
   "cell_type": "code",
   "execution_count": null,
   "metadata": {
    "collapsed": true
   },
   "outputs": [],
   "source": [
    "function pseudoCFT(Datos::Array,dt::Number)\n",
    "    #En este esquema los datos estan pseudo centrados alrededor de un\n",
    "    #ficticio t_0\n",
    "    N=length(datos)\n",
    "    datosalternados=zeros(length)\n",
    "    \n",
    "    \n",
    "end\n"
   ]
  }
 ],
 "metadata": {
  "kernelspec": {
   "display_name": "Julia 0.3.7-pre debug",
   "language": "julia",
   "name": "julia 0.3 debug"
  },
  "language_info": {
   "name": "julia",
   "version": "0.3.7"
  }
 },
 "nbformat": 4,
 "nbformat_minor": 0
}
