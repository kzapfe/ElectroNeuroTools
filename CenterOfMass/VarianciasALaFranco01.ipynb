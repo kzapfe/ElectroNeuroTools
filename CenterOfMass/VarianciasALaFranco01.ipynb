{
 "cells": [
  {
   "cell_type": "markdown",
   "metadata": {},
   "source": [
    "# Medidas de actividad por electrodo: Distribuciones de prob de señal, desviaciones y modas."
   ]
  },
  {
   "cell_type": "markdown",
   "metadata": {},
   "source": [
    "Veamos. Franco dice que hay una distribucion trimodal en los datos. Cada moda indica la superposición de otra señal. Una es el ruido de fondo. La mas violenta debe ser la actividad real."
   ]
  },
  {
   "cell_type": "code",
   "execution_count": 1,
   "metadata": {
    "collapsed": false
   },
   "outputs": [
    {
     "data": {
      "text/plain": [
       "Dict{ASCIIString,Any} with 4 entries:\n",
       "  \"SamplingFrequency\" => 7022.0\n",
       "  \"StopFrame\"         => 5.549486e6\n",
       "  \"StartFrame\"        => 5.545273e6\n",
       "  \"RawMatrix\"         => [4125.0 2.01416015625 -28.1982421875 -10.07080078125 -…"
      ]
     },
     "execution_count": 1,
     "metadata": {},
     "output_type": "execute_result"
    }
   ],
   "source": [
    "using MAT \n",
    "DatosAparato=matopen(\"propagacion.mat\");\n",
    "matread(\"propagacion.mat\")"
   ]
  },
  {
   "cell_type": "code",
   "execution_count": 2,
   "metadata": {
    "collapsed": false
   },
   "outputs": [
    {
     "data": {
      "text/plain": [
       "(64,64,4213)"
      ]
     },
     "execution_count": 2,
     "metadata": {},
     "output_type": "execute_result"
    }
   ],
   "source": [
    "LasMedicionesCrudas=read(DatosAparato, \"RawMatrix\");\n",
    "tamano=size(LasMedicionesCrudas)"
   ]
  },
  {
   "cell_type": "code",
   "execution_count": 3,
   "metadata": {
    "collapsed": false
   },
   "outputs": [],
   "source": [
    "function umbral(x)\n",
    "    result=((abs(x)>200) ? 0 : x)\n",
    "end;\n",
    "\n",
    "function aplastar(x)\n",
    "    result=((abs(x)<40) ? 0 : x)\n",
    "end;\n"
   ]
  },
  {
   "cell_type": "code",
   "execution_count": 10,
   "metadata": {
    "collapsed": false
   },
   "outputs": [],
   "source": [
    "#quitemos el mugroso canal saturado y similares\n",
    "DatosDeSaturados=map(umbral, LasMedicionesCrudas);"
   ]
  },
  {
   "cell_type": "markdown",
   "metadata": {},
   "source": [
    "Saquemos estadistica sobre todos los datos y veamos cuanto se tarda."
   ]
  },
  {
   "cell_type": "code",
   "execution_count": 11,
   "metadata": {
    "collapsed": false
   },
   "outputs": [],
   "source": [
    "DesviacionPorElectrodo=zeros(tamano[1],tamano[2])\n",
    "for j=1:64, k=1:64\n",
    "    DesviacionPorElectrodo[j,k]=std(reshape(LasMedicionesCrudas[j,k,:],tamano[3]));\n",
    "end\n",
    "writedlm(\"DesviacionesTotalesEjemplo01.dat\", DesviacionPorElectrodo)\n"
   ]
  },
  {
   "cell_type": "code",
   "execution_count": 14,
   "metadata": {
    "collapsed": false
   },
   "outputs": [
    {
     "data": {
      "text/plain": [
       "64x64 Array{Float64,2}:\n",
       "  0.0     13.572   16.0092  14.2284  …  16.4378  15.2936  14.4599  17.0095\n",
       " 15.2189  15.3733  16.9369  16.2843     17.1325  16.9005  15.011   14.6944\n",
       " 15.1487  16.205   15.4246  14.9731     14.803   15.7776  16.701   15.3513\n",
       " 15.225   16.4475  15.4804  23.5391     16.4577  19.9773  16.1923  15.7709\n",
       " 15.1806  15.9918  16.2133  15.5441     16.3465  18.5022  15.4268  15.3136\n",
       " 15.863   14.8662  15.5449  15.7024  …  17.8495  15.2282  16.378   21.7898\n",
       " 15.3221  16.1782  14.9934  15.3517     16.9116  16.6305  16.6185  17.2088\n",
       " 15.3783  14.7717  16.7101  16.2186     15.6026  17.3575  18.1438  15.8534\n",
       " 14.5119  15.5706  14.7123  14.7602     16.5219  15.6425  15.2475  14.5104\n",
       " 15.8327  15.4433  18.3297  16.4969     17.7183  14.9865  15.221   13.3931\n",
       " 15.5044  14.9394  16.1324  15.7822  …  17.9097  17.7534  15.8622  15.5514\n",
       " 14.7791  15.1567  17.269   16.3143     16.7417  15.5708  15.8883  14.9204\n",
       " 16.6736  15.5399  14.0674  15.2925     17.9801  17.1504  17.0267  16.8321\n",
       "  ⋮                                  ⋱   ⋮                                \n",
       " 14.5585  15.1715  16.2052  14.8798     15.6406  16.1614  15.8645  16.5654\n",
       " 14.478   14.3393  16.3477  16.2765     15.4741  14.9198  14.2553  16.1853\n",
       " 15.4496  16.1735  16.4605  15.462      15.4796  14.834   15.9275  14.1098\n",
       " 19.8391  15.0486  15.9365  14.0334  …  14.3428  17.7356  14.7632  15.2896\n",
       " 16.3338  15.4431  16.815   13.8216     16.6049  15.7532  15.4574  16.1733\n",
       " 14.2072  14.7887  15.6504  15.5547     17.7375  15.3106  14.5624  14.2743\n",
       " 16.2579  13.9087  15.3701  15.1715     15.5994  14.8383  14.3788  17.5464\n",
       " 14.409   15.5952  13.7982  14.4492     16.6764  14.7111  14.2188  14.0111\n",
       " 15.2872  12.8612  16.8086  13.7991  …  14.9602  14.7228  15.7785  15.0867\n",
       " 13.7622  14.389   16.0729  13.3835     15.0846  13.1652  14.789   13.9587\n",
       " 14.4861  16.0167  15.8512  13.8076     14.5668  15.0642  15.465   15.2409\n",
       " 15.0584  14.1506  16.0826  15.3383     15.6074  16.9974  13.6524  14.5564"
      ]
     },
     "execution_count": 14,
     "metadata": {},
     "output_type": "execute_result"
    }
   ],
   "source": [
    "map!(x->abs(x)>60?0:x, DesviacionPorElectrodo)"
   ]
  },
  {
   "cell_type": "code",
   "execution_count": 5,
   "metadata": {
    "collapsed": false
   },
   "outputs": [
    {
     "data": {
      "text/plain": [
       "OtsuUmbralizar (generic function with 1 method)"
      ]
     },
     "execution_count": 5,
     "metadata": {},
     "output_type": "execute_result"
    }
   ],
   "source": [
    "include (\"Otsu01.jl\")"
   ]
  },
  {
   "cell_type": "code",
   "execution_count": 16,
   "metadata": {
    "collapsed": false
   },
   "outputs": [],
   "source": [
    "Mascara=OtsuUmbralizar(DesviacionPorElectrodo)\n",
    "writedlm(\"MascaraOtsu01.dat\", Mascara)"
   ]
  },
  {
   "cell_type": "markdown",
   "metadata": {},
   "source": [
    "Ahora toca hacer un supuesto \"smoothing\" de los datos. Se me ocurre lo siguiente: promediar los datos de 50 en 50 frames y ver que pasa, moviendo la ventana, claro esta, paso por paso."
   ]
  },
  {
   "cell_type": "code",
   "execution_count": 17,
   "metadata": {
    "collapsed": false
   },
   "outputs": [
    {
     "data": {
      "text/plain": [
       "GaussianSmooth (generic function with 1 method)"
      ]
     },
     "execution_count": 17,
     "metadata": {},
     "output_type": "execute_result"
    }
   ],
   "source": [
    "function SuavizarDatos(data, param)\n",
    "    tantos=length(data)\n",
    "    result=zeros(data)\n",
    "    for j=1:(tantos-param-1)\n",
    "        chusco=sum(data[j:j+param])/param\n",
    "        result[j]=chusco\n",
    "    end\n",
    "    return result\n",
    "end\n",
    "\n",
    "GaussianKernel=readdlm(\"GaussianMatrixFilter01.dat\");\n",
    "function GaussianSmooth(Datos)\n",
    "    tamano1=size(Datos)\n",
    "    colchonhorizontal=zeros(tamano1[1],3)\n",
    "    temp=cat(2, colchonhorizontal, Datos, colchonhorizontal)\n",
    "    tamano2=size(temp)\n",
    "    colchonvertical=zeros(3,tamano2[2])\n",
    "    temp=cat(1, colchonvertical,temp,colchonvertical)\n",
    "    result=zeros(Datos)\n",
    "    for j=4:tamano1[1]+3, k=4:tamano1[2]+3\n",
    "        #los indices van primero, \"renglones\", luego \"columnas\", etc\n",
    "        aux=temp[j-3:j+3,k-3:k+3]\n",
    "        result[j-3,k-3]=sum(GaussianKernel.*aux)\n",
    "    end\n",
    "    result=result*maximum(Datos)/maximum(result)\n",
    "    return result\n",
    "end"
   ]
  },
  {
   "cell_type": "code",
   "execution_count": 20,
   "metadata": {
    "collapsed": false
   },
   "outputs": [],
   "source": [
    "MascaraSuave=GaussianSmooth(Mascara)\n",
    "writedlm(\"MascaraSuave01.dat\", MascaraSuave)"
   ]
  },
  {
   "cell_type": "code",
   "execution_count": 21,
   "metadata": {
    "collapsed": false
   },
   "outputs": [],
   "source": [
    "DobleSuave=GaussianSmooth(MascaraSuave);\n",
    "writedlm(\"Mascara2vecesSuave01.dat\", DobleSuave)"
   ]
  },
  {
   "cell_type": "code",
   "execution_count": 23,
   "metadata": {
    "collapsed": false
   },
   "outputs": [],
   "source": [
    "Apachurrada=map(x->x<7?0:x, MascaraSuave)\n",
    "Apachurrada=GaussianSmooth(Apachurrada)\n",
    "writedlm(\"MascaraApachurrada01.dat\", Apachurrada)"
   ]
  },
  {
   "cell_type": "code",
   "execution_count": 8,
   "metadata": {
    "collapsed": false
   },
   "outputs": [
    {
     "data": {
      "text/plain": [
       "desviaporventanas (generic function with 1 method)"
      ]
     },
     "execution_count": 8,
     "metadata": {},
     "output_type": "execute_result"
    }
   ],
   "source": [
    "function desviaporventanas(data, param)\n",
    "    tantos=length(data)\n",
    "    result=zeros(data)\n",
    "    for j=1:(tantos-param-1)\n",
    "        chusco=std(data[j:j+param])\n",
    "        result[j]=chusco\n",
    "    end\n",
    "    return result\n",
    "    \n",
    "end\n",
    "    "
   ]
  },
  {
   "cell_type": "code",
   "execution_count": 4,
   "metadata": {
    "collapsed": false
   },
   "outputs": [],
   "source": [
    "PromediosPorCanal=zeros(64,64);\n",
    "for j=1:64\n",
    "    for k=1:64\n",
    "        ChorizoExemplo=reshape(LasMedicionesCrudas[j,k,:],4213)\n",
    "        PromediosPorCanal[j,k]=mean(ChorizoExemplo)\n",
    "    end\n",
    "end\n"
   ]
  },
  {
   "cell_type": "code",
   "execution_count": 10,
   "metadata": {
    "collapsed": false
   },
   "outputs": [],
   "source": [
    "DatosCentrados=zeros(LasMedicionesCrudas);\n",
    "for t=1:4213\n",
    "    DatosCentrados[:,:,t]=LasMedicionesCrudas[:,:,t]-PromediosPorCanal\n",
    "end"
   ]
  },
  {
   "cell_type": "code",
   "execution_count": 11,
   "metadata": {
    "collapsed": false
   },
   "outputs": [],
   "source": []
  },
  {
   "cell_type": "code",
   "execution_count": 12,
   "metadata": {
    "collapsed": false
   },
   "outputs": [],
   "source": [
    "for j=1:64\n",
    "    ChorizoExemplo=reshape(DatosCentrados[30,j,:],4213);\n",
    "    chairo=hist(ChorizoExemplo, cajas)\n",
    "    curamaca[j+1]=chairo[2]\n",
    "end"
   ]
  },
  {
   "cell_type": "code",
   "execution_count": 5,
   "metadata": {
    "collapsed": false
   },
   "outputs": [],
   "source": [
    "Variancias=zeros(PromediosPorCanal)\n",
    "for j=1:64\n",
    "    for k=1:64\n",
    "        ChorizoExemplo=reshape(LasMedicionesCrudas[j,k,:],4213)\n",
    "        Variancias[j,k]=std(ChorizoExemplo)\n",
    "    end\n",
    "end\n"
   ]
  },
  {
   "cell_type": "code",
   "execution_count": 14,
   "metadata": {
    "collapsed": false
   },
   "outputs": [],
   "source": [
    "paescribir=reshape(Variancias, 4096);\n",
    "writedlm(\"VarianciasCentradas.dat\", paescribir)\n",
    "writedlm(\"VarianciasCentradasTabla.dat\", Variancias)"
   ]
  },
  {
   "cell_type": "code",
   "execution_count": 15,
   "metadata": {
    "collapsed": false
   },
   "outputs": [],
   "source": [
    "VarianciasVentaneadas=zeros(DatosCentrados)\n",
    "for j=1:64\n",
    "    for k=1:64\n",
    "        ChorizoExemplo=reshape(DatosCentrados[j,k,:],4213)\n",
    "        VarianciasVentaneadas[j,k,:]=desviaporventanas(ChorizoExemplo,50)\n",
    "    end\n",
    "end"
   ]
  },
  {
   "cell_type": "code",
   "execution_count": 16,
   "metadata": {
    "collapsed": false
   },
   "outputs": [],
   "source": [
    "zacatito=zeros(Float64,(64,64))\n",
    "for t=1:4213\n",
    "    zacatlan=\"CuadradosConSombra-$t.dat\"\n",
    "    zacatito=zacatito*0.5+VarianciasVentaneadas[:,:,t]\n",
    "    writedlm(zacatlan,zacatito )\n",
    "end"
   ]
  },
  {
   "cell_type": "code",
   "execution_count": 64,
   "metadata": {
    "collapsed": false
   },
   "outputs": [],
   "source": [
    "otrascajas=range(0,0.75,41)\n",
    "promediovariancias=mean(paescribir);\n",
    "chairo=hist(paescribir, otrascajas)\n",
    "cruac=DataFrame();\n",
    "cruac[1]=collect(otrascajas[1:end-1]);\n",
    "cruac[2]=chairo[2];\n",
    "writetable(\"HistoVariancias.dat\", cruac, separator='\\t')"
   ]
  },
  {
   "cell_type": "code",
   "execution_count": 30,
   "metadata": {
    "collapsed": false
   },
   "outputs": [
    {
     "data": {
      "text/plain": [
       "12.096726356719277"
      ]
     },
     "execution_count": 30,
     "metadata": {},
     "output_type": "execute_result"
    }
   ],
   "source": [
    "minimum(paescribir)"
   ]
  },
  {
   "cell_type": "code",
   "execution_count": 63,
   "metadata": {
    "collapsed": false
   },
   "outputs": [
    {
     "data": {
      "text/plain": [
       "4094"
      ]
     },
     "execution_count": 63,
     "metadata": {},
     "output_type": "execute_result"
    }
   ],
   "source": [
    "sum(chairo[2])"
   ]
  },
  {
   "cell_type": "code",
   "execution_count": 33,
   "metadata": {
    "collapsed": false
   },
   "outputs": [],
   "source": [
    "import Distributions"
   ]
  },
  {
   "cell_type": "code",
   "execution_count": 36,
   "metadata": {
    "collapsed": false
   },
   "outputs": [
    {
     "name": "stderr",
     "output_type": "stream",
     "text": [
      "INFO: Loading help data...\n"
     ]
    },
    {
     "name": "stdout",
     "output_type": "stream",
     "text": [
      "Symbol not found. Falling back on apropos search ...\n",
      "No help information found.\n"
     ]
    }
   ],
   "source": [
    "?Distributions"
   ]
  },
  {
   "cell_type": "code",
   "execution_count": 51,
   "metadata": {
    "collapsed": false
   },
   "outputs": [
    {
     "data": {
      "text/plain": [
       "Gamma(α=18.51755901600754, β=0.9008965546617297)"
      ]
     },
     "execution_count": 51,
     "metadata": {},
     "output_type": "execute_result"
    }
   ],
   "source": [
    "Distributions.fit(Distributions.Gamma, paescribir)"
   ]
  },
  {
   "cell_type": "code",
   "execution_count": 57,
   "metadata": {
    "collapsed": false
   },
   "outputs": [
    {
     "ename": "LoadError",
     "evalue": "α and β must be positive\nwhile loading In[57], in expression starting on line 1",
     "output_type": "error",
     "traceback": [
      "α and β must be positive\nwhile loading In[57], in expression starting on line 1",
      "",
      " in Beta at /home/karel/.julia/v0.3/Distributions/src/univariate/continuous/beta.jl:6",
      " in fit at /home/karel/.julia/v0.3/Distributions/src/univariate/continuous/beta.jl:89"
     ]
    }
   ],
   "source": [
    "Distributions.fit(Distributions.Beta, paescribir)"
   ]
  },
  {
   "cell_type": "code",
   "execution_count": 58,
   "metadata": {
    "collapsed": false
   },
   "outputs": [
    {
     "data": {
      "text/plain": [
       "1.0"
      ]
     },
     "execution_count": 58,
     "metadata": {},
     "output_type": "execute_result"
    }
   ],
   "source": [
    "sum(chairo[2]/4079.)"
   ]
  },
  {
   "cell_type": "code",
   "execution_count": 68,
   "metadata": {
    "collapsed": false
   },
   "outputs": [],
   "source": [
    "paescribirunfolded=sort(paescribir);\n",
    "paescribirunfolded=diff(paescribirunfolded); #checa el metodo diff"
   ]
  },
  {
   "cell_type": "code",
   "execution_count": 69,
   "metadata": {
    "collapsed": false
   },
   "outputs": [],
   "source": [
    "writedlm(\"DiferenciasVariancias01.dat\", paescribirunfolded)"
   ]
  },
  {
   "cell_type": "code",
   "execution_count": 81,
   "metadata": {
    "collapsed": false
   },
   "outputs": [],
   "source": [
    "otrasbins=range(0,0.005,200)\n",
    "histodiff=hist(paescribirunfolded,otrasbins)\n",
    "cruac=DataFrame();\n",
    "cruac[1]=collect(otrasbins[1:end-1]);\n",
    "cruac[2]=histodiff[2];\n",
    "writetable(\"HistoDiffVariancias.dat\", cruac, separator='\\t')"
   ]
  },
  {
   "cell_type": "code",
   "execution_count": 82,
   "metadata": {
    "collapsed": false
   },
   "outputs": [
    {
     "data": {
      "text/plain": [
       "Gamma(α=0.12669302226161874, β=3.083200873659658)"
      ]
     },
     "execution_count": 82,
     "metadata": {},
     "output_type": "execute_result"
    }
   ],
   "source": [
    "Distributions.fit(Distributions.Gamma, paescribirunfolded)"
   ]
  },
  {
   "cell_type": "code",
   "execution_count": 83,
   "metadata": {
    "collapsed": false
   },
   "outputs": [
    {
     "data": {
      "text/plain": [
       "4092"
      ]
     },
     "execution_count": 83,
     "metadata": {},
     "output_type": "execute_result"
    }
   ],
   "source": [
    "sum(cruac[2])"
   ]
  },
  {
   "cell_type": "markdown",
   "metadata": {},
   "source": [
    "Okey, vamos a seguir Francos Way a partir de ahora. Veamos que endiabladas cosas esas funcionan mas o menos menos chungo"
   ]
  },
  {
   "cell_type": "code",
   "execution_count": 6,
   "metadata": {
    "collapsed": false
   },
   "outputs": [],
   "source": [
    "Mascara=zeros(Variancias)\n",
    "Mascara=map(x->((x<26)&&(x>17))?1:0, Variancias);\n",
    "writedlm(\"mascara.dat\", Mascara)"
   ]
  },
  {
   "cell_type": "code",
   "execution_count": 90,
   "metadata": {
    "collapsed": false
   },
   "outputs": [
    {
     "name": "stdout",
     "output_type": "stream",
     "text": [
      "Base.std(v[, region])\n",
      "\n",
      "   Compute the sample standard deviation of a vector or array \"v\",\n",
      "   optionally along dimensions in \"region\". The algorithm returns an\n",
      "   estimator of the generative distribution's standard deviation under\n",
      "   the assumption that each entry of \"v\" is an IID drawn from that\n",
      "   generative distribution. This computation is equivalent to\n",
      "   calculating \"sqrt(sum((v - mean(v)).^2) / (length(v) - 1))\".\n",
      "   Note: Julia does not ignore \"NaN\" values in the computation. For\n",
      "   applications requiring the handling of missing data, the\n",
      "   \"DataArray\" package is recommended.\n"
     ]
    }
   ],
   "source": [
    "?std"
   ]
  },
  {
   "cell_type": "code",
   "execution_count": 91,
   "metadata": {
    "collapsed": false
   },
   "outputs": [
    {
     "data": {
      "text/plain": [
       "72.0767825266103"
      ]
     },
     "execution_count": 91,
     "metadata": {},
     "output_type": "execute_result"
    }
   ],
   "source": [
    "std(LasMedicionesCrudas)"
   ]
  },
  {
   "cell_type": "code",
   "execution_count": null,
   "metadata": {
    "collapsed": false
   },
   "outputs": [],
   "source": []
  }
 ],
 "metadata": {
  "kernelspec": {
   "display_name": "Julia 0.3.7-pre",
   "language": "julia",
   "name": "julia 0.3"
  },
  "language_info": {
   "name": "julia",
   "version": "0.3.7"
  }
 },
 "nbformat": 4,
 "nbformat_minor": 0
}
