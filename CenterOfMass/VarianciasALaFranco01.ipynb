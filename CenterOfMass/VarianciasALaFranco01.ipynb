{
 "metadata": {
  "language": "Julia",
  "name": "",
  "signature": "sha256:d01ab68cecea5b0528d9906ab11594ab8d938f71b9f1977a214f5f6c9239a175"
 },
 "nbformat": 3,
 "nbformat_minor": 0,
 "worksheets": [
  {
   "cells": [
    {
     "cell_type": "heading",
     "level": 1,
     "metadata": {},
     "source": [
      "Medidas de actividad por electrodo: Distribuciones de prob de se\u00f1al, desviaciones y modas."
     ]
    },
    {
     "cell_type": "markdown",
     "metadata": {},
     "source": [
      "Veamos. Franco dice que hay una distribucion trimodal en los datos. Cada moda indica la superposici\u00f3n de otra se\u00f1al. Una es el ruido de fondo. La mas violenta debe ser la actividad real."
     ]
    },
    {
     "cell_type": "code",
     "collapsed": false,
     "input": [
      "using MAT \n",
      "DatosAparato=matopen(\"propagacion.mat\");\n",
      "matread(\"propagacion.mat\")"
     ],
     "language": "python",
     "metadata": {},
     "outputs": [
      {
       "metadata": {},
       "output_type": "pyout",
       "prompt_number": 7,
       "text": [
        "Dict{ASCIIString,Any} with 4 entries:\n",
        "  \"SamplingFrequency\" => 7022.0\n",
        "  \"StopFrame\"         => 5.549486e6\n",
        "  \"StartFrame\"        => 5.545273e6\n",
        "  \"RawMatrix\"         => [4125.0 2.01416015625 -28.1982421875 -10.07080078125 -\u2026"
       ]
      }
     ],
     "prompt_number": 7
    },
    {
     "cell_type": "code",
     "collapsed": false,
     "input": [
      "LasMedicionesCrudas=read(DatosAparato, \"RawMatrix\");\n",
      "tamano=size(LasMedicionesCrudas)"
     ],
     "language": "python",
     "metadata": {},
     "outputs": [
      {
       "metadata": {},
       "output_type": "pyout",
       "prompt_number": 8,
       "text": [
        "(64,64,4213)"
       ]
      }
     ],
     "prompt_number": 8
    },
    {
     "cell_type": "code",
     "collapsed": false,
     "input": [
      "function umbral(x)\n",
      "    result=((abs(x)>200) ? 0 : x)\n",
      "end;\n",
      "\n",
      "function aplastar(x)\n",
      "    result=((abs(x)<40) ? 0 : x)\n",
      "end;\n"
     ],
     "language": "python",
     "metadata": {},
     "outputs": [],
     "prompt_number": 9
    },
    {
     "cell_type": "code",
     "collapsed": false,
     "input": [
      "#quitemos el mugroso canal saturado y similares\n",
      "DatosDeSaturados=map(umbral, LasMedicionesCrudas);"
     ],
     "language": "python",
     "metadata": {},
     "outputs": [],
     "prompt_number": 10
    },
    {
     "cell_type": "markdown",
     "metadata": {},
     "source": [
      "Saquemos estadistica sobre todos los datos y veamos cuanto se tarda."
     ]
    },
    {
     "cell_type": "code",
     "collapsed": false,
     "input": [
      "DesviacionPorElectrodo=zeros(tamano[1],tamano[2])\n",
      "for j=1:64, k=1:64\n",
      "    DesviacionPorElectrodo[j,k]=std(reshape(LasMedicionesCrudas[j,k,:],tamano[3]));\n",
      "end\n",
      "writedlm(\"DesviacionesTotalesEjemplo01.dat\", DesviacionPorElectrodo)\n"
     ],
     "language": "python",
     "metadata": {},
     "outputs": [],
     "prompt_number": 11
    },
    {
     "cell_type": "code",
     "collapsed": false,
     "input": [
      "map!(x->abs(x)>60?0:x, DesviacionPorElectrodo)"
     ],
     "language": "python",
     "metadata": {},
     "outputs": [
      {
       "metadata": {},
       "output_type": "pyout",
       "prompt_number": 14,
       "text": [
        "64x64 Array{Float64,2}:\n",
        "  0.0     13.572   16.0092  14.2284  \u2026  16.4378  15.2936  14.4599  17.0095\n",
        " 15.2189  15.3733  16.9369  16.2843     17.1325  16.9005  15.011   14.6944\n",
        " 15.1487  16.205   15.4246  14.9731     14.803   15.7776  16.701   15.3513\n",
        " 15.225   16.4475  15.4804  23.5391     16.4577  19.9773  16.1923  15.7709\n",
        " 15.1806  15.9918  16.2133  15.5441     16.3465  18.5022  15.4268  15.3136\n",
        " 15.863   14.8662  15.5449  15.7024  \u2026  17.8495  15.2282  16.378   21.7898\n",
        " 15.3221  16.1782  14.9934  15.3517     16.9116  16.6305  16.6185  17.2088\n",
        " 15.3783  14.7717  16.7101  16.2186     15.6026  17.3575  18.1438  15.8534\n",
        " 14.5119  15.5706  14.7123  14.7602     16.5219  15.6425  15.2475  14.5104\n",
        " 15.8327  15.4433  18.3297  16.4969     17.7183  14.9865  15.221   13.3931\n",
        " 15.5044  14.9394  16.1324  15.7822  \u2026  17.9097  17.7534  15.8622  15.5514\n",
        " 14.7791  15.1567  17.269   16.3143     16.7417  15.5708  15.8883  14.9204\n",
        " 16.6736  15.5399  14.0674  15.2925     17.9801  17.1504  17.0267  16.8321\n",
        "  \u22ee                                  \u22f1   \u22ee                                \n",
        " 14.5585  15.1715  16.2052  14.8798     15.6406  16.1614  15.8645  16.5654\n",
        " 14.478   14.3393  16.3477  16.2765     15.4741  14.9198  14.2553  16.1853\n",
        " 15.4496  16.1735  16.4605  15.462      15.4796  14.834   15.9275  14.1098\n",
        " 19.8391  15.0486  15.9365  14.0334  \u2026  14.3428  17.7356  14.7632  15.2896\n",
        " 16.3338  15.4431  16.815   13.8216     16.6049  15.7532  15.4574  16.1733\n",
        " 14.2072  14.7887  15.6504  15.5547     17.7375  15.3106  14.5624  14.2743\n",
        " 16.2579  13.9087  15.3701  15.1715     15.5994  14.8383  14.3788  17.5464\n",
        " 14.409   15.5952  13.7982  14.4492     16.6764  14.7111  14.2188  14.0111\n",
        " 15.2872  12.8612  16.8086  13.7991  \u2026  14.9602  14.7228  15.7785  15.0867\n",
        " 13.7622  14.389   16.0729  13.3835     15.0846  13.1652  14.789   13.9587\n",
        " 14.4861  16.0167  15.8512  13.8076     14.5668  15.0642  15.465   15.2409\n",
        " 15.0584  14.1506  16.0826  15.3383     15.6074  16.9974  13.6524  14.5564"
       ]
      }
     ],
     "prompt_number": 14
    },
    {
     "cell_type": "code",
     "collapsed": false,
     "input": [
      "include (\"Otsu01.jl\")"
     ],
     "language": "python",
     "metadata": {},
     "outputs": [
      {
       "metadata": {},
       "output_type": "pyout",
       "prompt_number": 5,
       "text": [
        "OtsuUmbralizar (generic function with 1 method)"
       ]
      }
     ],
     "prompt_number": 5
    },
    {
     "cell_type": "code",
     "collapsed": false,
     "input": [
      "Mascara=OtsuUmbralizar(DesviacionPorElectrodo)\n",
      "writedlm(\"MascaraOtsu01.dat\", Mascara)"
     ],
     "language": "python",
     "metadata": {},
     "outputs": [],
     "prompt_number": 16
    },
    {
     "cell_type": "markdown",
     "metadata": {},
     "source": [
      "Ahora toca hacer un supuesto \"smoothing\" de los datos. Se me ocurre lo siguiente: promediar los datos de 50 en 50 frames y ver que pasa, moviendo la ventana, claro esta, paso por paso."
     ]
    },
    {
     "cell_type": "code",
     "collapsed": false,
     "input": [
      "function SuavizarDatos(data, param)\n",
      "    tantos=length(data)\n",
      "    result=zeros(data)\n",
      "    for j=1:(tantos-param-1)\n",
      "        chusco=sum(data[j:j+param])/param\n",
      "        result[j]=chusco\n",
      "    end\n",
      "    return result\n",
      "end\n",
      "\n",
      "GaussianKernel=readdlm(\"GaussianMatrixFilter01.dat\");\n",
      "function GaussianSmooth(Datos)\n",
      "    tamano1=size(Datos)\n",
      "    colchonhorizontal=zeros(tamano1[1],3)\n",
      "    temp=cat(2, colchonhorizontal, Datos, colchonhorizontal)\n",
      "    tamano2=size(temp)\n",
      "    colchonvertical=zeros(3,tamano2[2])\n",
      "    temp=cat(1, colchonvertical,temp,colchonvertical)\n",
      "    result=zeros(Datos)\n",
      "    for j=4:tamano1[1]+3, k=4:tamano1[2]+3\n",
      "        #los indices van primero, \"renglones\", luego \"columnas\", etc\n",
      "        aux=temp[j-3:j+3,k-3:k+3]\n",
      "        result[j-3,k-3]=sum(GaussianKernel.*aux)\n",
      "    end\n",
      "    result=result*maximum(Datos)/maximum(result)\n",
      "    return result\n",
      "end"
     ],
     "language": "python",
     "metadata": {},
     "outputs": [
      {
       "metadata": {},
       "output_type": "pyout",
       "prompt_number": 17,
       "text": [
        "GaussianSmooth (generic function with 1 method)"
       ]
      }
     ],
     "prompt_number": 17
    },
    {
     "cell_type": "code",
     "collapsed": false,
     "input": [
      "MascaraSuave=GaussianSmooth(Mascara)\n",
      "writedlm(\"MascaraSuave01.dat\", MascaraSuave)"
     ],
     "language": "python",
     "metadata": {},
     "outputs": [],
     "prompt_number": 20
    },
    {
     "cell_type": "code",
     "collapsed": false,
     "input": [
      "DobleSuave=GaussianSmooth(MascaraSuave);\n",
      "writedlm(\"Mascara2vecesSuave01.dat\", DobleSuave)"
     ],
     "language": "python",
     "metadata": {},
     "outputs": [],
     "prompt_number": 21
    },
    {
     "cell_type": "code",
     "collapsed": false,
     "input": [
      "Apachurrada=map(x->x<7?0:x, MascaraSuave)\n",
      "Apachurrada=GaussianSmooth(Apachurrada)\n",
      "writedlm(\"MascaraApachurrada01.dat\", Apachurrada)"
     ],
     "language": "python",
     "metadata": {},
     "outputs": [],
     "prompt_number": 23
    },
    {
     "cell_type": "code",
     "collapsed": false,
     "input": [
      "function desviaporventanas(data, param)\n",
      "    tantos=length(data)\n",
      "    result=zeros(data)\n",
      "    for j=1:(tantos-param-1)\n",
      "        chusco=std(data[j:j+param])\n",
      "        result[j]=chusco\n",
      "    end\n",
      "    return result\n",
      "    \n",
      "end\n",
      "    "
     ],
     "language": "python",
     "metadata": {},
     "outputs": [
      {
       "metadata": {},
       "output_type": "pyout",
       "prompt_number": 8,
       "text": [
        "desviaporventanas (generic function with 1 method)"
       ]
      }
     ],
     "prompt_number": 8
    },
    {
     "cell_type": "code",
     "collapsed": false,
     "input": [
      "PromediosPorCanal=zeros(64,64);\n",
      "for j=1:64\n",
      "    for k=1:64\n",
      "        ChorizoExemplo=reshape(LasMedicionesCrudas[j,k,:],4213)\n",
      "        PromediosPorCanal[j,k]=mean(ChorizoExemplo)\n",
      "    end\n",
      "end\n"
     ],
     "language": "python",
     "metadata": {},
     "outputs": [],
     "prompt_number": 4
    },
    {
     "cell_type": "code",
     "collapsed": false,
     "input": [
      "DatosCentrados=zeros(LasMedicionesCrudas);\n",
      "for t=1:4213\n",
      "    DatosCentrados[:,:,t]=LasMedicionesCrudas[:,:,t]-PromediosPorCanal\n",
      "end"
     ],
     "language": "python",
     "metadata": {},
     "outputs": [],
     "prompt_number": 10
    },
    {
     "cell_type": "code",
     "collapsed": false,
     "input": [],
     "language": "python",
     "metadata": {},
     "outputs": [],
     "prompt_number": 11
    },
    {
     "cell_type": "code",
     "collapsed": false,
     "input": [
      "for j=1:64\n",
      "    ChorizoExemplo=reshape(DatosCentrados[30,j,:],4213);\n",
      "    chairo=hist(ChorizoExemplo, cajas)\n",
      "    curamaca[j+1]=chairo[2]\n",
      "end"
     ],
     "language": "python",
     "metadata": {},
     "outputs": [],
     "prompt_number": 12
    },
    {
     "cell_type": "code",
     "collapsed": false,
     "input": [
      "Variancias=zeros(PromediosPorCanal)\n",
      "for j=1:64\n",
      "    for k=1:64\n",
      "        ChorizoExemplo=reshape(LasMedicionesCrudas[j,k,:],4213)\n",
      "        Variancias[j,k]=std(ChorizoExemplo)\n",
      "    end\n",
      "end\n"
     ],
     "language": "python",
     "metadata": {},
     "outputs": [],
     "prompt_number": 5
    },
    {
     "cell_type": "code",
     "collapsed": false,
     "input": [
      "paescribir=reshape(Variancias, 4096);\n",
      "writedlm(\"VarianciasCentradas.dat\", paescribir)\n",
      "writedlm(\"VarianciasCentradasTabla.dat\", Variancias)"
     ],
     "language": "python",
     "metadata": {},
     "outputs": [],
     "prompt_number": 14
    },
    {
     "cell_type": "code",
     "collapsed": false,
     "input": [
      "VarianciasVentaneadas=zeros(DatosCentrados)\n",
      "for j=1:64\n",
      "    for k=1:64\n",
      "        ChorizoExemplo=reshape(DatosCentrados[j,k,:],4213)\n",
      "        VarianciasVentaneadas[j,k,:]=desviaporventanas(ChorizoExemplo,50)\n",
      "    end\n",
      "end"
     ],
     "language": "python",
     "metadata": {},
     "outputs": [],
     "prompt_number": 15
    },
    {
     "cell_type": "code",
     "collapsed": false,
     "input": [
      "zacatito=zeros(Float64,(64,64))\n",
      "for t=1:4213\n",
      "    zacatlan=\"CuadradosConSombra-$t.dat\"\n",
      "    zacatito=zacatito*0.5+VarianciasVentaneadas[:,:,t]\n",
      "    writedlm(zacatlan,zacatito )\n",
      "end"
     ],
     "language": "python",
     "metadata": {},
     "outputs": [],
     "prompt_number": 16
    },
    {
     "cell_type": "code",
     "collapsed": false,
     "input": [
      "otrascajas=range(0,0.75,41)\n",
      "promediovariancias=mean(paescribir);\n",
      "chairo=hist(paescribir, otrascajas)\n",
      "cruac=DataFrame();\n",
      "cruac[1]=collect(otrascajas[1:end-1]);\n",
      "cruac[2]=chairo[2];\n",
      "writetable(\"HistoVariancias.dat\", cruac, separator='\\t')"
     ],
     "language": "python",
     "metadata": {},
     "outputs": [],
     "prompt_number": 64
    },
    {
     "cell_type": "code",
     "collapsed": false,
     "input": [
      "minimum(paescribir)"
     ],
     "language": "python",
     "metadata": {},
     "outputs": [
      {
       "metadata": {},
       "output_type": "pyout",
       "prompt_number": 30,
       "text": [
        "12.096726356719277"
       ]
      }
     ],
     "prompt_number": 30
    },
    {
     "cell_type": "code",
     "collapsed": false,
     "input": [
      "sum(chairo[2])"
     ],
     "language": "python",
     "metadata": {},
     "outputs": [
      {
       "metadata": {},
       "output_type": "pyout",
       "prompt_number": 63,
       "text": [
        "4094"
       ]
      }
     ],
     "prompt_number": 63
    },
    {
     "cell_type": "code",
     "collapsed": false,
     "input": [
      "import Distributions"
     ],
     "language": "python",
     "metadata": {},
     "outputs": [],
     "prompt_number": 33
    },
    {
     "cell_type": "code",
     "collapsed": false,
     "input": [
      "?Distributions"
     ],
     "language": "python",
     "metadata": {},
     "outputs": [
      {
       "output_type": "stream",
       "stream": "stderr",
       "text": [
        "INFO: Loading help data...\n"
       ]
      },
      {
       "output_type": "stream",
       "stream": "stdout",
       "text": [
        "Symbol not found. Falling back on apropos search ...\n"
       ]
      },
      {
       "output_type": "stream",
       "stream": "stdout",
       "text": [
        "No help information found.\n"
       ]
      }
     ],
     "prompt_number": 36
    },
    {
     "cell_type": "code",
     "collapsed": false,
     "input": [
      "Distributions.fit(Distributions.Gamma, paescribir)"
     ],
     "language": "python",
     "metadata": {},
     "outputs": [
      {
       "metadata": {},
       "output_type": "pyout",
       "prompt_number": 51,
       "text": [
        "Gamma(\u03b1=18.51755901600754, \u03b2=0.9008965546617297)"
       ]
      }
     ],
     "prompt_number": 51
    },
    {
     "cell_type": "code",
     "collapsed": false,
     "input": [
      "Distributions.fit(Distributions.Beta, paescribir)"
     ],
     "language": "python",
     "metadata": {},
     "outputs": [
      {
       "ename": "LoadError",
       "evalue": "\u03b1 and \u03b2 must be positive\nwhile loading In[57], in expression starting on line 1",
       "output_type": "pyerr",
       "traceback": [
        "\u03b1 and \u03b2 must be positive\nwhile loading In[57], in expression starting on line 1",
        "",
        " in Beta at /home/karel/.julia/v0.3/Distributions/src/univariate/continuous/beta.jl:6",
        " in fit at /home/karel/.julia/v0.3/Distributions/src/univariate/continuous/beta.jl:89"
       ]
      }
     ],
     "prompt_number": 57
    },
    {
     "cell_type": "code",
     "collapsed": false,
     "input": [
      "sum(chairo[2]/4079.)"
     ],
     "language": "python",
     "metadata": {},
     "outputs": [
      {
       "metadata": {},
       "output_type": "pyout",
       "prompt_number": 58,
       "text": [
        "1.0"
       ]
      }
     ],
     "prompt_number": 58
    },
    {
     "cell_type": "code",
     "collapsed": false,
     "input": [
      "paescribirunfolded=sort(paescribir);\n",
      "paescribirunfolded=diff(paescribirunfolded); #checa el metodo diff"
     ],
     "language": "python",
     "metadata": {},
     "outputs": [],
     "prompt_number": 68
    },
    {
     "cell_type": "code",
     "collapsed": false,
     "input": [
      "writedlm(\"DiferenciasVariancias01.dat\", paescribirunfolded)"
     ],
     "language": "python",
     "metadata": {},
     "outputs": [],
     "prompt_number": 69
    },
    {
     "cell_type": "code",
     "collapsed": false,
     "input": [
      "otrasbins=range(0,0.005,200)\n",
      "histodiff=hist(paescribirunfolded,otrasbins)\n",
      "cruac=DataFrame();\n",
      "cruac[1]=collect(otrasbins[1:end-1]);\n",
      "cruac[2]=histodiff[2];\n",
      "writetable(\"HistoDiffVariancias.dat\", cruac, separator='\\t')"
     ],
     "language": "python",
     "metadata": {},
     "outputs": [],
     "prompt_number": 81
    },
    {
     "cell_type": "code",
     "collapsed": false,
     "input": [
      "Distributions.fit(Distributions.Gamma, paescribirunfolded)"
     ],
     "language": "python",
     "metadata": {},
     "outputs": [
      {
       "metadata": {},
       "output_type": "pyout",
       "prompt_number": 82,
       "text": [
        "Gamma(\u03b1=0.12669302226161874, \u03b2=3.083200873659658)"
       ]
      }
     ],
     "prompt_number": 82
    },
    {
     "cell_type": "code",
     "collapsed": false,
     "input": [
      "sum(cruac[2])"
     ],
     "language": "python",
     "metadata": {},
     "outputs": [
      {
       "metadata": {},
       "output_type": "pyout",
       "prompt_number": 83,
       "text": [
        "4092"
       ]
      }
     ],
     "prompt_number": 83
    },
    {
     "cell_type": "markdown",
     "metadata": {},
     "source": [
      "Okey, vamos a seguir Francos Way a partir de ahora. Veamos que endiabladas cosas esas funcionan mas o menos menos chungo"
     ]
    },
    {
     "cell_type": "code",
     "collapsed": false,
     "input": [
      "Mascara=zeros(Variancias)\n",
      "Mascara=map(x->((x<26)&&(x>17))?1:0, Variancias);\n",
      "writedlm(\"mascara.dat\", Mascara)"
     ],
     "language": "python",
     "metadata": {},
     "outputs": [],
     "prompt_number": 6
    },
    {
     "cell_type": "code",
     "collapsed": false,
     "input": [
      "?std"
     ],
     "language": "python",
     "metadata": {},
     "outputs": [
      {
       "output_type": "stream",
       "stream": "stdout",
       "text": [
        "Base.std(v[, region])\n",
        "\n",
        "   Compute the sample standard deviation of a vector or array \"v\",\n",
        "   optionally along dimensions in \"region\". The algorithm returns an\n",
        "   estimator of the generative distribution's standard deviation under\n",
        "   the assumption that each entry of \"v\" is an IID drawn from that\n",
        "   generative distribution. This computation is equivalent to\n",
        "   calculating \"sqrt(sum((v - mean(v)).^2) / (length(v) - 1))\".\n",
        "   Note: Julia does not ignore \"NaN\" values in the computation. For\n",
        "   applications requiring the handling of missing data, the\n",
        "   \"DataArray\" package is recommended.\n"
       ]
      }
     ],
     "prompt_number": 90
    },
    {
     "cell_type": "code",
     "collapsed": false,
     "input": [
      "std(LasMedicionesCrudas)"
     ],
     "language": "python",
     "metadata": {},
     "outputs": [
      {
       "metadata": {},
       "output_type": "pyout",
       "prompt_number": 91,
       "text": [
        "72.0767825266103"
       ]
      }
     ],
     "prompt_number": 91
    },
    {
     "cell_type": "code",
     "collapsed": false,
     "input": [],
     "language": "python",
     "metadata": {},
     "outputs": []
    }
   ],
   "metadata": {}
  }
 ]
}