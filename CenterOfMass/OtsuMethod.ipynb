{
 "metadata": {
  "language": "Julia",
  "name": "",
  "signature": "sha256:dec9e535ad0ab1584b4ab7c819923a0ac3e46a47771ebc5a6905d21b0ecd42f6"
 },
 "nbformat": 3,
 "nbformat_minor": 0,
 "worksheets": [
  {
   "cells": [
    {
     "cell_type": "code",
     "collapsed": false,
     "input": [
      "function OtsuMethod(Data)\n",
      "    minimo=minimum(Data)\n",
      "    maximo=maximum(Data)\n",
      "end"
     ],
     "language": "python",
     "metadata": {},
     "outputs": [
      {
       "metadata": {},
       "output_type": "pyout",
       "prompt_number": 1,
       "text": [
        "OtsuMethod (generic function with 1 method)"
       ]
      }
     ],
     "prompt_number": 1
    },
    {
     "cell_type": "code",
     "collapsed": false,
     "input": [],
     "language": "python",
     "metadata": {},
     "outputs": []
    }
   ],
   "metadata": {}
  }
 ]
}