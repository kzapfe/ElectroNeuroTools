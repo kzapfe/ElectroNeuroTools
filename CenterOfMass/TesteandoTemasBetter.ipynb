{
 "metadata": {
  "name": "",
  "signature": "sha256:d9cfeeffab513362c53d69cb6ede4598bbb4f1bf2645ca966efc4fee27f13166"
 },
 "nbformat": 3,
 "nbformat_minor": 0,
 "worksheets": [
  {
   "cells": [
    {
     "cell_type": "code",
     "collapsed": false,
     "input": [
      "import os\n",
      "import subprocess\n",
      "import urllib"
     ],
     "language": "python",
     "metadata": {},
     "outputs": [],
     "prompt_number": 1
    },
    {
     "cell_type": "code",
     "collapsed": false,
     "input": [
      "theme_names = ['3024-dark',\n",
      "               '3024-light',\n",
      "               'atelierdune-dark',\n",
      "               'atelierdune-light',\n",
      "               'atelierforest-dark',\n",
      "               'atelierforest-light',\n",
      "               'atelierheath-dark',\n",
      "               'atelierheath-light',\n",
      "               'atelierlakeside-dark',\n",
      "               'atelierlakeside-light',\n",
      "               'atelierseaside-dark',\n",
      "               'atelierseaside-light',\n",
      "               'bespin-dark',\n",
      "               'bespin-light',\n",
      "               'chalk-dark',\n",
      "               'chalk-light',\n",
      "               'default-dark',\n",
      "               'default-light',\n",
      "               'eighties-dark',\n",
      "               'eighties-light',\n",
      "               'grayscale-dark',\n",
      "               'grayscale-light',\n",
      "               'greenscreen-dark',\n",
      "               'greenscreen-light',\n",
      "               'isotope-dark',\n",
      "               'isotope-light',\n",
      "               'londontube-dark',\n",
      "               'londontube-light',\n",
      "               'marrakesh-dark',\n",
      "               'marrakesh-light',\n",
      "               'mocha-dark',\n",
      "               'mocha-light',\n",
      "               'monokai-dark',\n",
      "               'monokai-light',\n",
      "               'ocean-dark',\n",
      "               'ocean-light',\n",
      "               'paraiso-dark',\n",
      "               'paraiso-light',\n",
      "               'railscasts-dark',\n",
      "               'railscasts-light',\n",
      "               'shapeshifter-dark',\n",
      "               'shapeshifter-light',\n",
      "               'solarized-dark',\n",
      "               'solarized-light',\n",
      "               'tomorrow-dark',\n",
      "               'tomorrow-light',\n",
      "               'twilight-dark',\n",
      "               'twilight-light']\n"
     ],
     "language": "python",
     "metadata": {},
     "outputs": [],
     "prompt_number": 3
    },
    {
     "cell_type": "code",
     "collapsed": false,
     "input": [
      "listacorta=theme_names[24:28]\n",
      "listacorta"
     ],
     "language": "python",
     "metadata": {},
     "outputs": [
      {
       "metadata": {},
       "output_type": "pyout",
       "prompt_number": 33,
       "text": [
        "['isotope-dark', 'isotope-light', 'londontube-dark', 'londontube-light']"
       ]
      }
     ],
     "prompt_number": 33
    },
    {
     "cell_type": "code",
     "collapsed": false,
     "input": [
      "#done"
     ],
     "language": "python",
     "metadata": {},
     "outputs": [],
     "prompt_number": 8
    },
    {
     "cell_type": "code",
     "collapsed": false,
     "input": [
      "for i, name in enumerate(listacorta):\n",
      "    port = str(9000 + i) \n",
      "    subprocess.Popen([\"ipython\", \"notebook\", \"--profile=\" + name, \"--port=\" + port])"
     ],
     "language": "python",
     "metadata": {},
     "outputs": [],
     "prompt_number": 34
    },
    {
     "cell_type": "code",
     "collapsed": false,
     "input": [
      "base_url = \"http://127.0.0.1:\"\n",
      "notebook = \"/notebooks/48-themes-for-your-ipython-notebook.ipynb\"\n",
      "\n",
      "for i, name in enumerate(theme_names):\n",
      "    port = str(9000 + i) \n",
      "    url = base_url + port + notebook\n",
      "    print (url, name)"
     ],
     "language": "python",
     "metadata": {},
     "outputs": [
      {
       "output_type": "stream",
       "stream": "stdout",
       "text": [
        "http://127.0.0.1:9000/notebooks/48-themes-for-your-ipython-notebook.ipynb 3024-dark\n",
        "http://127.0.0.1:9001/notebooks/48-themes-for-your-ipython-notebook.ipynb 3024-light\n",
        "http://127.0.0.1:9002/notebooks/48-themes-for-your-ipython-notebook.ipynb atelierdune-dark\n",
        "http://127.0.0.1:9003/notebooks/48-themes-for-your-ipython-notebook.ipynb atelierdune-light\n",
        "http://127.0.0.1:9004/notebooks/48-themes-for-your-ipython-notebook.ipynb atelierforest-dark\n",
        "http://127.0.0.1:9005/notebooks/48-themes-for-your-ipython-notebook.ipynb atelierforest-light\n",
        "http://127.0.0.1:9006/notebooks/48-themes-for-your-ipython-notebook.ipynb atelierheath-dark\n",
        "http://127.0.0.1:9007/notebooks/48-themes-for-your-ipython-notebook.ipynb atelierheath-light\n",
        "http://127.0.0.1:9008/notebooks/48-themes-for-your-ipython-notebook.ipynb atelierlakeside-dark\n",
        "http://127.0.0.1:9009/notebooks/48-themes-for-your-ipython-notebook.ipynb atelierlakeside-light\n",
        "http://127.0.0.1:9010/notebooks/48-themes-for-your-ipython-notebook.ipynb atelierseaside-dark\n",
        "http://127.0.0.1:9011/notebooks/48-themes-for-your-ipython-notebook.ipynb atelierseaside-light\n",
        "http://127.0.0.1:9012/notebooks/48-themes-for-your-ipython-notebook.ipynb bespin-dark\n",
        "http://127.0.0.1:9013/notebooks/48-themes-for-your-ipython-notebook.ipynb bespin-light\n",
        "http://127.0.0.1:9014/notebooks/48-themes-for-your-ipython-notebook.ipynb chalk-dark\n",
        "http://127.0.0.1:9015/notebooks/48-themes-for-your-ipython-notebook.ipynb chalk-light\n",
        "http://127.0.0.1:9016/notebooks/48-themes-for-your-ipython-notebook.ipynb default-dark\n",
        "http://127.0.0.1:9017/notebooks/48-themes-for-your-ipython-notebook.ipynb default-light\n",
        "http://127.0.0.1:9018/notebooks/48-themes-for-your-ipython-notebook.ipynb eighties-dark\n",
        "http://127.0.0.1:9019/notebooks/48-themes-for-your-ipython-notebook.ipynb eighties-light\n",
        "http://127.0.0.1:9020/notebooks/48-themes-for-your-ipython-notebook.ipynb grayscale-dark\n",
        "http://127.0.0.1:9021/notebooks/48-themes-for-your-ipython-notebook.ipynb grayscale-light\n",
        "http://127.0.0.1:9022/notebooks/48-themes-for-your-ipython-notebook.ipynb greenscreen-dark\n",
        "http://127.0.0.1:9023/notebooks/48-themes-for-your-ipython-notebook.ipynb greenscreen-light\n",
        "http://127.0.0.1:9024/notebooks/48-themes-for-your-ipython-notebook.ipynb isotope-dark\n",
        "http://127.0.0.1:9025/notebooks/48-themes-for-your-ipython-notebook.ipynb isotope-light\n",
        "http://127.0.0.1:9026/notebooks/48-themes-for-your-ipython-notebook.ipynb londontube-dark\n",
        "http://127.0.0.1:9027/notebooks/48-themes-for-your-ipython-notebook.ipynb londontube-light\n",
        "http://127.0.0.1:9028/notebooks/48-themes-for-your-ipython-notebook.ipynb marrakesh-dark\n",
        "http://127.0.0.1:9029/notebooks/48-themes-for-your-ipython-notebook.ipynb marrakesh-light\n",
        "http://127.0.0.1:9030/notebooks/48-themes-for-your-ipython-notebook.ipynb mocha-dark\n",
        "http://127.0.0.1:9031/notebooks/48-themes-for-your-ipython-notebook.ipynb mocha-light\n",
        "http://127.0.0.1:9032/notebooks/48-themes-for-your-ipython-notebook.ipynb monokai-dark\n",
        "http://127.0.0.1:9033/notebooks/48-themes-for-your-ipython-notebook.ipynb monokai-light\n",
        "http://127.0.0.1:9034/notebooks/48-themes-for-your-ipython-notebook.ipynb ocean-dark\n",
        "http://127.0.0.1:9035/notebooks/48-themes-for-your-ipython-notebook.ipynb ocean-light\n",
        "http://127.0.0.1:9036/notebooks/48-themes-for-your-ipython-notebook.ipynb paraiso-dark\n",
        "http://127.0.0.1:9037/notebooks/48-themes-for-your-ipython-notebook.ipynb paraiso-light\n",
        "http://127.0.0.1:9038/notebooks/48-themes-for-your-ipython-notebook.ipynb railscasts-dark\n",
        "http://127.0.0.1:9039/notebooks/48-themes-for-your-ipython-notebook.ipynb railscasts-light\n",
        "http://127.0.0.1:9040/notebooks/48-themes-for-your-ipython-notebook.ipynb shapeshifter-dark\n",
        "http://127.0.0.1:9041/notebooks/48-themes-for-your-ipython-notebook.ipynb shapeshifter-light\n",
        "http://127.0.0.1:9042/notebooks/48-themes-for-your-ipython-notebook.ipynb solarized-dark\n",
        "http://127.0.0.1:9043/notebooks/48-themes-for-your-ipython-notebook.ipynb solarized-light\n",
        "http://127.0.0.1:9044/notebooks/48-themes-for-your-ipython-notebook.ipynb tomorrow-dark\n",
        "http://127.0.0.1:9045/notebooks/48-themes-for-your-ipython-notebook.ipynb tomorrow-light\n",
        "http://127.0.0.1:9046/notebooks/48-themes-for-your-ipython-notebook.ipynb twilight-dark\n",
        "http://127.0.0.1:9047/notebooks/48-themes-for-your-ipython-notebook.ipynb twilight-light\n"
       ]
      }
     ],
     "prompt_number": 7
    },
    {
     "cell_type": "code",
     "collapsed": false,
     "input": [
      "!killall ipython\n"
     ],
     "language": "python",
     "metadata": {},
     "outputs": [],
     "prompt_number": 27
    },
    {
     "cell_type": "code",
     "collapsed": false,
     "input": [],
     "language": "python",
     "metadata": {},
     "outputs": []
    }
   ],
   "metadata": {}
  }
 ]
}