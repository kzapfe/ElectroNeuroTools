{
 "cells": [
  {
   "cell_type": "code",
   "execution_count": 3,
   "metadata": {
    "collapsed": false
   },
   "outputs": [
    {
     "data": {
      "text/plain": [
       "IOStream(<file ../CriterioFranco/DatosActividadEpilepticaSelectos.bin>)"
      ]
     },
     "execution_count": 3,
     "metadata": {},
     "output_type": "execute_result"
    }
   ],
   "source": [
    "muacamuaca=open(\"../CriterioFranco/DatosActividadEpilepticaSelectos.bin\", \"r\")"
   ]
  },
  {
   "cell_type": "code",
   "execution_count": 4,
   "metadata": {
    "collapsed": false
   },
   "outputs": [
    {
     "data": {
      "text/plain": [
       "(64,64,9101)"
      ]
     },
     "execution_count": 4,
     "metadata": {},
     "output_type": "execute_result"
    }
   ],
   "source": [
    "formaarray=(64,64,9101)"
   ]
  },
  {
   "cell_type": "code",
   "execution_count": 5,
   "metadata": {
    "collapsed": false
   },
   "outputs": [],
   "source": [
    "Datos=read(muacamuaca, Float64, formaarray);"
   ]
  },
  {
   "cell_type": "code",
   "execution_count": 6,
   "metadata": {
    "collapsed": false
   },
   "outputs": [
    {
     "data": {
      "text/plain": [
       "9101"
      ]
     },
     "execution_count": 6,
     "metadata": {},
     "output_type": "execute_result"
    }
   ],
   "source": [
    "formaarray[3]\n"
   ]
  },
  {
   "cell_type": "code",
   "execution_count": 7,
   "metadata": {
    "collapsed": false
   },
   "outputs": [
    {
     "data": {
      "text/plain": [
       "UnNormGauss (generic function with 1 method)"
      ]
     },
     "execution_count": 7,
     "metadata": {},
     "output_type": "execute_result"
    }
   ],
   "source": [
    "function umbral(x)\n",
    "    result=((abs(x)>250) ? 0 : x)\n",
    "end;\n",
    "\n",
    "function aplastar(x)\n",
    "    result=((abs(x)<60) ? 0 : x)\n",
    "end;\n",
    "\n",
    "function UnNormGauss(x,sigma)\n",
    "    return exp(-x*x/(2*sigma))\n",
    "end"
   ]
  },
  {
   "cell_type": "code",
   "execution_count": 8,
   "metadata": {
    "collapsed": false
   },
   "outputs": [],
   "source": [
    "close(muacamuaca)\n"
   ]
  },
  {
   "cell_type": "code",
   "execution_count": 9,
   "metadata": {
    "collapsed": false
   },
   "outputs": [],
   "source": [
    "Mascara=readdlm(\"Parchada02.dat\");"
   ]
  },
  {
   "cell_type": "code",
   "execution_count": 10,
   "metadata": {
    "collapsed": false
   },
   "outputs": [
    {
     "data": {
      "text/plain": [
       "GaussSuavizar (generic function with 1 method)"
      ]
     },
     "execution_count": 10,
     "metadata": {},
     "output_type": "execute_result"
    }
   ],
   "source": [
    "function GaussSuavizar(Datos,Sigma)  \n",
    "    #sigma esta medido en pixeles, es la desviacion estandar de nuestro kernel.\n",
    "    #El medioancho de nuestra ventana seran 3 sigmas.\n",
    "    #Bien, veamos como chingaos le ponemos \"padding\" a las convoluciones.\n",
    "    medioancho=ceil(Sigma*3)\n",
    "    colchon=ones(medioancho)\n",
    "    result=zeros(Datos)\n",
    "    datoscolchon=vcat(colchon*Datos[1], Datos, colchon*Datos[end])\n",
    "    kernel=map(x->UnNormGauss(x,Sigma), [-medioancho:medioancho])\n",
    "    kernel=kernel/(sum(kernel))\n",
    "    #La convolucion asi normalizada preserva el valor RELATIVO entre los puntos de la funcion.\n",
    "    #pero queremos ponerlo mas parecido a los voltajes que medimos, para preservar el rango de valores\n",
    "    #experimentales y su criterio de potenciales de accion / ruido\n",
    "    for t=medioancho+1:length(Datos)-medioancho\n",
    "        result[t-medioancho]=sum(datoscolchon[t-medioancho:t+medioancho].*kernel)\n",
    "    end\n",
    "    a=maximum(abs(Datos))\n",
    "    b=maximum(abs(result))\n",
    "    #result=result*a/b\n",
    "    return result\n",
    "end\n",
    "    "
   ]
  },
  {
   "cell_type": "code",
   "execution_count": 11,
   "metadata": {
    "collapsed": false
   },
   "outputs": [
    {
     "data": {
      "text/plain": [
       "5001"
      ]
     },
     "execution_count": 11,
     "metadata": {},
     "output_type": "execute_result"
    }
   ],
   "source": [
    "ParteInteresante=Datos[:,:,3000:8000]\n",
    "formaarray=size(ParteInteresante)\n",
    "tmax=formaarray[3]"
   ]
  },
  {
   "cell_type": "code",
   "execution_count": 13,
   "metadata": {
    "collapsed": false
   },
   "outputs": [],
   "source": [
    "DatosLimpios=zeros(formaarray)\n",
    "for t=1:tmax\n",
    "    DatosLimpios[:,:,t]=ParteInteresante[:,:,t].*Mascara\n",
    "end"
   ]
  },
  {
   "cell_type": "code",
   "execution_count": 14,
   "metadata": {
    "collapsed": false
   },
   "outputs": [],
   "source": [
    "map!(aplastar, DatosLimpios);\n",
    "map!(umbral, DatosLimpios);"
   ]
  },
  {
   "cell_type": "code",
   "execution_count": 15,
   "metadata": {
    "collapsed": false
   },
   "outputs": [],
   "source": [
    "Chumbaganga=zeros(formaarray);\n",
    "for j=1:64, k=1:64\n",
    "    if(Mascara[j,k]==1)\n",
    "   #     Chumbaganga[j,k,:]=GaussSuavizar(reshape(CuernoDeAmon[j,k,:],tmax),7)\n",
    "        Chumbaganga[j,k,:]=GaussSuavizar(reshape(DatosLimpios[j,k,:],tmax),7)\n",
    "    end    \n",
    "end"
   ]
  },
  {
   "cell_type": "code",
   "execution_count": 16,
   "metadata": {
    "collapsed": false
   },
   "outputs": [],
   "source": [
    "writedlm(\"ExampleDatosLargosSuaves-55-49.dat\", reshape(Chumbaganga[49,55,:],tmax))"
   ]
  },
  {
   "cell_type": "code",
   "execution_count": 16,
   "metadata": {
    "collapsed": false
   },
   "outputs": [
    {
     "data": {
      "text/plain": [
       "GaussianSmooth (generic function with 1 method)"
      ]
     },
     "execution_count": 16,
     "metadata": {},
     "output_type": "execute_result"
    }
   ],
   "source": [
    "GaussianKernel=readdlm(\"GaussianMatrixFilter01.dat\");\n",
    "function GaussianSmooth(Datos)\n",
    "    tamanodatos=size(Datos)\n",
    "    result=zeros(Datos)\n",
    "    temp=copy(Datos)\n",
    "    #Primero, hacemos el padding de los datos para que no se suavice demasiado\n",
    "    for j=1:3\n",
    "        temp=vcat(temp[1,:], temp, temp[end,:])\n",
    "    end\n",
    "    for j=1:3\n",
    "        temp=hcat(temp[:,1], temp, temp[:,1])\n",
    "    end\n",
    "    \n",
    "    for j=4:tamanodatos[1]+3, k=4:tamanodatos[2]+3\n",
    "        #los indices van primero, \"renglones\", luego \"columnas\", etc\n",
    "        aux=temp[j-3:j+3,k-3:k+3]\n",
    "        result[j-3,k-3]=sum(GaussianKernel.*aux)\n",
    "    end\n",
    "    #piensa como normalizar\n",
    "    #result=result*maximum(abs(Datos))/maximum(abs(result))\n",
    "    return result\n",
    "end"
   ]
  },
  {
   "cell_type": "code",
   "execution_count": 17,
   "metadata": {
    "collapsed": false
   },
   "outputs": [],
   "source": [
    "Sumbaganga=zeros(formaarray)\n",
    "for t=1:tmax\n",
    "    Sumbaganga[:,:,t]=GaussianSmooth(Chumbaganga[:,:,t])\n",
    "end\n"
   ]
  },
  {
   "cell_type": "code",
   "execution_count": 15,
   "metadata": {
    "collapsed": false
   },
   "outputs": [
    {
     "data": {
      "text/plain": [
       "(-177.40269703504885,184.53240220268867)"
      ]
     },
     "execution_count": 15,
     "metadata": {},
     "output_type": "execute_result"
    }
   ],
   "source": [
    "extrema(Sumbaganga)"
   ]
  },
  {
   "cell_type": "code",
   "execution_count": 18,
   "metadata": {
    "collapsed": false
   },
   "outputs": [
    {
     "data": {
      "text/plain": [
       "(0.0,184.53240220268867)"
      ]
     },
     "execution_count": 18,
     "metadata": {},
     "output_type": "execute_result"
    }
   ],
   "source": [
    "extrema(abs(Sumbaganga))"
   ]
  },
  {
   "cell_type": "code",
   "execution_count": 19,
   "metadata": {
    "collapsed": false
   },
   "outputs": [
    {
     "data": {
      "text/plain": [
       "1.0693069435882294"
      ]
     },
     "execution_count": 19,
     "metadata": {},
     "output_type": "execute_result"
    }
   ],
   "source": [
    "mean(abs(Sumbaganga))"
   ]
  },
  {
   "cell_type": "code",
   "execution_count": 20,
   "metadata": {
    "collapsed": false
   },
   "outputs": [
    {
     "data": {
      "text/plain": [
       "0"
      ]
     },
     "execution_count": 20,
     "metadata": {},
     "output_type": "execute_result"
    }
   ],
   "source": [
    "Datos=0\n",
    "\n"
   ]
  },
  {
   "cell_type": "code",
   "execution_count": 21,
   "metadata": {
    "collapsed": false
   },
   "outputs": [],
   "source": [
    "gc()"
   ]
  },
  {
   "cell_type": "code",
   "execution_count": 24,
   "metadata": {
    "collapsed": false
   },
   "outputs": [],
   "source": [
    "# a escribir, pa variar\n",
    "for t=1:tmax\n",
    "#    aux=map(x-> isnan(x)?0:x, Chumbaganga[:,:,t])\n",
    "    zacatlan=\"GarbageCollector/GaussianFilteredSpaceTime-$t.dat\"\n",
    "    writedlm(zacatlan, Sumbaganga[:,:,t])\n",
    "end"
   ]
  },
  {
   "cell_type": "code",
   "execution_count": 22,
   "metadata": {
    "collapsed": false
   },
   "outputs": [
    {
     "data": {
      "text/plain": [
       "DiscreteLaplacian (generic function with 1 method)"
      ]
     },
     "execution_count": 22,
     "metadata": {},
     "output_type": "execute_result"
    }
   ],
   "source": [
    "LaplacianKernel=zeros(3,3);\n",
    "#checa que Julia va ordenando los datos renglon por renglon, no columna por columna\n",
    "LaplacianKernel=[[0.5 1. 0.5], [1. -6. 1], [0.5 1. 0.5]];\n",
    "\n",
    "function DiscreteLaplacian(Datos)\n",
    "    result=zeros(Datos)\n",
    "    temp=copy(Datos)\n",
    "    #Primero, hacemos el padding de los datos para que no se suavice demasiado\n",
    "    temp=vcat(temp[1,:], temp, temp[end,:])\n",
    "    temp=hcat(temp[:,1], temp, temp[:,end])\n",
    "    largo,ancho=size(Datos)\n",
    "    aux=Array(Float64,(3,3))\n",
    "    result=zeros(Datos)\n",
    "    for j=2:largo, k=2:ancho\n",
    "        #los indices van primero, \"renglones\", luego \"columnas\", etc\n",
    "        aux=temp[j-1:j+1,k-1:k+1]\n",
    "        result[j-1,k-1]=sum(LaplacianKernel.*aux)\n",
    "    end\n",
    "    return result\n",
    "end"
   ]
  },
  {
   "cell_type": "markdown",
   "metadata": {},
   "source": [
    "Vamos a hacer una interpolación de los datos, a fin de que el Laplaciano tenga un efecto mas de borde y no tan violento en los picos."
   ]
  },
  {
   "cell_type": "code",
   "execution_count": 23,
   "metadata": {
    "collapsed": false
   },
   "outputs": [],
   "source": [
    "using Grid"
   ]
  },
  {
   "cell_type": "code",
   "execution_count": 24,
   "metadata": {
    "collapsed": false
   },
   "outputs": [],
   "source": [
    "MuestraGauss=Sumbaganga[:,:,2567];"
   ]
  },
  {
   "cell_type": "code",
   "execution_count": 27,
   "metadata": {
    "collapsed": false
   },
   "outputs": [
    {
     "name": "stderr",
     "output_type": "stream",
     "text": [
      "INFO: Loading help data...\n"
     ]
    }
   ],
   "source": [
    "using PyPlot"
   ]
  },
  {
   "cell_type": "code",
   "execution_count": 28,
   "metadata": {
    "collapsed": false
   },
   "outputs": [
    {
     "data": {
      "image/png": "[encoded data removed]",
      "text/plain": [
       "Figure(PyObject <matplotlib.figure.Figure object at 0x7f877ceb1050>)"
      ]
     },
     "metadata": {},
     "output_type": "display_data"
    },
    {
     "data": {
      "text/plain": [
       "PyObject <matplotlib.colorbar.Colorbar instance at 0x7f877e827cb0>"
      ]
     },
     "execution_count": 28,
     "metadata": {},
     "output_type": "execute_result"
    }
   ],
   "source": [
    "imshow(MuestraGauss, cmap=\"seismic\", vmin=-3, vmax=3)\n",
    "colorbar()"
   ]
  },
  {
   "cell_type": "markdown",
   "metadata": {},
   "source": [
    "Esa muestra es en realidad sin interpolar, quien realmente esta interpolando es el mugroso matplotlib. Por eso parecen \"suaves\" los datos."
   ]
  },
  {
   "cell_type": "code",
   "execution_count": 60,
   "metadata": {
    "collapsed": false
   },
   "outputs": [],
   "source": [
    "#Okey, vamos a ponerle galleta a esto: los primeros 1500 frames estan muy aburridos. Creo que podemos tirarlos a la basura.\n",
    "densificador=4\n",
    "Laplaganga=zeros(64*densificador,64*densificador,tmax)\n",
    "x=1:64\n",
    "y=1:64\n",
    "for t=1:tmax\n",
    "    cuaracuaca = CoordInterpGrid((x,y), Sumbaganga[:,:,t], BCnearest, InterpQuadratic);\n",
    "    MuestraDensificada=zeros(64*densificador,64*densificador)\n",
    "        for j=densificador:64*densificador, k=densificador:64*densificador\n",
    "            MuestraDensificada[j,k]=cuaracuaca[j/densificador, k/densificador]\n",
    "    end\n",
    "    Laplaganga[:,:,t]=MuestraDensificada\n",
    "\n",
    "end"
   ]
  },
  {
   "cell_type": "code",
   "execution_count": 30,
   "metadata": {
    "collapsed": false
   },
   "outputs": [],
   "source": [
    "gc()"
   ]
  },
  {
   "cell_type": "code",
   "execution_count": 61,
   "metadata": {
    "collapsed": true
   },
   "outputs": [],
   "source": [
    "for t=1:5001\n",
    "    Laplaganga[:,:,t]=DiscreteLaplacian(Laplaganga[:,:,t])\n",
    "end"
   ]
  },
  {
   "cell_type": "code",
   "execution_count": 62,
   "metadata": {
    "collapsed": false
   },
   "outputs": [
    {
     "data": {
      "text/plain": [
       "(-106.74669493582533,114.86965136091668)"
      ]
     },
     "execution_count": 62,
     "metadata": {},
     "output_type": "execute_result"
    }
   ],
   "source": [
    "extrema(Laplaganga)"
   ]
  },
  {
   "cell_type": "code",
   "execution_count": 64,
   "metadata": {
    "collapsed": false
   },
   "outputs": [
    {
     "data": {
      "text/plain": [
       "245x245x5001 Array{Float64,3}:\n",
       "[:, :, 1] =\n",
       " -2.32735e-27  -7.43197e-27  -7.75335e-27  …  -0.000115007  -5.32109e-5 \n",
       " -3.83689e-27  -1.0681e-26   -1.00884e-26     -0.000170351  -8.857e-5   \n",
       " -4.46961e-27  -1.25792e-26  -1.19866e-26     -0.00022766   -0.000116536\n",
       " -4.86529e-27  -1.37662e-26  -1.31736e-26     -0.00025773   -0.000130958\n",
       " -4.89839e-27  -1.41166e-26  -1.37034e-26     -0.00179496   -0.000498225\n",
       " -4.76618e-27  -1.39711e-26  -1.37372e-26  …  -0.00517236   -0.00177994 \n",
       " -4.66598e-27  -1.36705e-26  -1.34366e-26     -0.0107229    -0.0045377  \n",
       " -4.47223e-27  -1.30893e-26  -1.28554e-26     -0.0199811    -0.0091379  \n",
       " -4.16177e-27  -1.22042e-26  -1.20034e-26     -0.0322789    -0.0154207  \n",
       " -3.77099e-27  -1.10782e-26  -1.09104e-26     -0.0474728    -0.0231425  \n",
       " -3.33628e-27  -9.77401e-27  -9.60628e-27  …  -0.0654194    -0.0320601  \n",
       " -2.83447e-27  -8.26858e-27  -8.10085e-27     -0.0854507    -0.0420134  \n",
       " -2.12631e-27  -6.42262e-27  -6.45384e-27     -0.102326     -0.051892   \n",
       "  ⋮                                        ⋱                            \n",
       " -6.7245e-36   -1.63498e-34  -2.65873e-34      4.45289e-12   1.86291e-12\n",
       "  7.16624e-35   7.16623e-35  -3.07126e-35      1.31846e-12   3.06777e-13\n",
       "  1.09099e-34   1.83973e-34   8.15982e-35  …  -1.76562e-13  -4.35611e-13\n",
       "  6.36072e-35   1.31455e-34   8.90501e-35     -8.11645e-13  -5.46657e-13\n",
       "  1.15327e-36   2.80511e-35   4.56162e-35     -7.68214e-13  -3.20867e-13\n",
       " -1.22956e-35  -1.22956e-35   5.26955e-36     -2.27688e-13  -5.27491e-14\n",
       " -1.87184e-35  -3.15641e-35  -1.39989e-35      3.0452e-14    7.52968e-14\n",
       " -1.09117e-35  -2.25508e-35  -1.52764e-35  …   1.396e-13     9.41739e-14\n",
       " -1.95169e-37  -4.80824e-36  -7.82449e-36      1.318e-13     5.50413e-14\n",
       "  2.11137e-36   2.11137e-36  -9.04872e-37      3.9098e-14    9.05792e-15\n",
       "  3.21141e-36   5.41149e-36   2.39525e-36     -5.11388e-15  -1.28726e-14\n",
       "  1.86297e-36   3.85014e-36   2.60816e-36     -2.38341e-14  -1.60785e-14\n",
       "\n",
       "[:, :, 2] =\n",
       " -3.16093e-27  -1.00487e-26  -1.04529e-26  …  -0.000143816  -6.69556e-5 \n",
       " -5.17957e-27  -1.4366e-26   -1.35284e-26     -0.000212949  -0.000111639\n",
       " -5.99386e-27  -1.68089e-26  -1.59713e-26     -0.000280946  -0.000145084\n",
       " -6.47311e-27  -1.82466e-26  -1.7409e-26      -0.000312905  -0.000160847\n",
       " -6.41905e-27  -1.8481e-26   -1.79266e-26     -0.00220467   -0.000608255\n",
       " -6.14323e-27  -1.805e-26    -1.77788e-26  …  -0.00637856   -0.00218945 \n",
       " -5.95719e-27  -1.74919e-26  -1.72207e-26     -0.0132569    -0.00560658 \n",
       " -5.66267e-27  -1.66083e-26  -1.63371e-26     -0.0247355    -0.011309   \n",
       " -5.22803e-27  -1.53677e-26  -1.51417e-26     -0.0399911    -0.0190991  \n",
       " -4.703e-27    -1.38559e-26  -1.36751e-26     -0.0588481    -0.0286779  \n",
       " -4.1373e-27   -1.21588e-26  -1.1978e-26   …  -0.0811312    -0.0397465  \n",
       " -3.49928e-27  -1.02447e-26  -1.0064e-26      -0.106017     -0.0521074  \n",
       " -2.62589e-27  -7.95068e-27  -8.00283e-27     -0.126833     -0.064284   \n",
       "  ⋮                                        ⋱                            \n",
       " -6.96296e-35  -1.69297e-33  -2.75303e-33      1.50144e-11   6.28197e-12\n",
       "  7.42041e-34   7.42041e-34  -3.18018e-34      4.45647e-12   1.04048e-12\n",
       "  1.12969e-33   1.90498e-33   8.44923e-34  …  -5.81609e-13  -1.46104e-12\n",
       "  6.58632e-34   1.36117e-33   9.22085e-34     -2.72605e-12  -1.83801e-12\n",
       "  1.19417e-35   2.9046e-34    4.72341e-34     -2.58532e-12  -1.08054e-12\n",
       " -1.27317e-34  -1.27317e-34   5.45645e-35     -7.67855e-13  -1.78771e-13\n",
       " -1.93823e-34  -3.26836e-34  -1.44954e-34      1.00114e-13   2.5189e-13 \n",
       " -1.12987e-34  -2.33507e-34  -1.58182e-34  …   4.68447e-13   3.16175e-13\n",
       " -2.02091e-36  -4.97878e-35  -8.102e-35        4.43556e-13   1.85355e-13\n",
       "  2.18626e-35   2.18626e-35  -9.36966e-36      1.31854e-13   3.0698e-14 \n",
       "  3.32531e-35   5.60343e-35   2.48021e-35     -1.68039e-14  -4.30615e-14\n",
       "  1.92905e-35   3.9867e-35    2.70067e-35     -7.99787e-14  -5.39811e-14\n",
       "\n",
       "[:, :, 3] =\n",
       " -3.43932e-27  -1.09271e-26  -1.13622e-26  …  -0.000155514  -7.26163e-5 \n",
       " -5.63109e-27  -1.56106e-26  -1.46944e-26     -0.000230334  -0.000121255\n",
       " -6.51048e-27  -1.82487e-26  -1.73325e-26     -0.000301735  -0.000156526\n",
       " -7.02338e-27  -1.97875e-26  -1.88713e-26     -0.000333043  -0.000172258\n",
       " -6.95e-27     -2.00069e-26  -1.94047e-26     -0.00235735   -0.00064832 \n",
       " -6.63574e-27  -1.95037e-26  -1.92155e-26  …  -0.00683399   -0.00234257 \n",
       " -6.426e-27    -1.88745e-26  -1.85863e-26     -0.0142223    -0.00601285 \n",
       " -6.10097e-27  -1.78994e-26  -1.76112e-26     -0.0265553    -0.012139   \n",
       " -5.62625e-27  -1.65441e-26  -1.63051e-26     -0.0429513    -0.0205092  \n",
       " -5.05591e-27  -1.49019e-26  -1.47121e-26     -0.0632234    -0.0308041  \n",
       " -4.44404e-27  -1.30663e-26  -1.28765e-26  …  -0.0871845    -0.0427041  \n",
       " -3.75623e-27  -1.10029e-26  -1.0813e-26      -0.113953     -0.0559974  \n",
       " -2.81887e-27  -8.53801e-27  -8.59616e-27     -0.136255     -0.0690378  \n",
       "  ⋮                                        ⋱                            \n",
       " -3.41268e-34  -8.29757e-33  -1.34931e-32      4.38686e-11   1.83555e-11\n",
       "  3.63688e-33   3.63688e-33  -1.55866e-33      1.30414e-11   3.05159e-12\n",
       "  5.53681e-33   9.33668e-33   4.14113e-33  …  -1.67325e-12  -4.25408e-12\n",
       "  3.22808e-33   6.67137e-33   4.51932e-33     -7.94461e-12  -5.3603e-12 \n",
       "  5.85287e-35   1.4236e-33    2.31504e-33     -7.54426e-12  -3.15449e-12\n",
       " -6.24006e-34  -6.24006e-34   2.67431e-34     -2.24374e-12  -5.24055e-13\n",
       " -9.49966e-34  -1.60189e-33  -7.10448e-34      2.8764e-13    7.32168e-13\n",
       " -5.53771e-34  -1.14446e-33  -7.7528e-34   …   1.3644e-12    9.21202e-13\n",
       " -9.90483e-36  -2.4402e-34   -3.97095e-34      1.29435e-12   5.41119e-13\n",
       "  1.07153e-34   1.07153e-34  -4.59225e-35      3.85289e-13   8.99893e-14\n",
       "  1.6298e-34    2.74635e-34   1.2156e-34      -4.82625e-14  -1.25165e-13\n",
       "  9.45464e-35   1.95396e-34   1.32365e-34     -2.32946e-13  -1.57278e-13\n",
       "\n",
       "...\n",
       "\n",
       "[:, :, 4999] =\n",
       " 0.0  0.0  0.0  0.0  0.0  0.0  0.0  0.0  …  0.0  0.0  0.0  0.0  0.0  0.0  0.0\n",
       " 0.0  0.0  0.0  0.0  0.0  0.0  0.0  0.0     0.0  0.0  0.0  0.0  0.0  0.0  0.0\n",
       " 0.0  0.0  0.0  0.0  0.0  0.0  0.0  0.0     0.0  0.0  0.0  0.0  0.0  0.0  0.0\n",
       " 0.0  0.0  0.0  0.0  0.0  0.0  0.0  0.0     0.0  0.0  0.0  0.0  0.0  0.0  0.0\n",
       " 0.0  0.0  0.0  0.0  0.0  0.0  0.0  0.0     0.0  0.0  0.0  0.0  0.0  0.0  0.0\n",
       " 0.0  0.0  0.0  0.0  0.0  0.0  0.0  0.0  …  0.0  0.0  0.0  0.0  0.0  0.0  0.0\n",
       " 0.0  0.0  0.0  0.0  0.0  0.0  0.0  0.0     0.0  0.0  0.0  0.0  0.0  0.0  0.0\n",
       " 0.0  0.0  0.0  0.0  0.0  0.0  0.0  0.0     0.0  0.0  0.0  0.0  0.0  0.0  0.0\n",
       " 0.0  0.0  0.0  0.0  0.0  0.0  0.0  0.0     0.0  0.0  0.0  0.0  0.0  0.0  0.0\n",
       " 0.0  0.0  0.0  0.0  0.0  0.0  0.0  0.0     0.0  0.0  0.0  0.0  0.0  0.0  0.0\n",
       " 0.0  0.0  0.0  0.0  0.0  0.0  0.0  0.0  …  0.0  0.0  0.0  0.0  0.0  0.0  0.0\n",
       " 0.0  0.0  0.0  0.0  0.0  0.0  0.0  0.0     0.0  0.0  0.0  0.0  0.0  0.0  0.0\n",
       " 0.0  0.0  0.0  0.0  0.0  0.0  0.0  0.0     0.0  0.0  0.0  0.0  0.0  0.0  0.0\n",
       " ⋮                        ⋮              ⋱            ⋮                      \n",
       " 0.0  0.0  0.0  0.0  0.0  0.0  0.0  0.0     0.0  0.0  0.0  0.0  0.0  0.0  0.0\n",
       " 0.0  0.0  0.0  0.0  0.0  0.0  0.0  0.0     0.0  0.0  0.0  0.0  0.0  0.0  0.0\n",
       " 0.0  0.0  0.0  0.0  0.0  0.0  0.0  0.0  …  0.0  0.0  0.0  0.0  0.0  0.0  0.0\n",
       " 0.0  0.0  0.0  0.0  0.0  0.0  0.0  0.0     0.0  0.0  0.0  0.0  0.0  0.0  0.0\n",
       " 0.0  0.0  0.0  0.0  0.0  0.0  0.0  0.0     0.0  0.0  0.0  0.0  0.0  0.0  0.0\n",
       " 0.0  0.0  0.0  0.0  0.0  0.0  0.0  0.0     0.0  0.0  0.0  0.0  0.0  0.0  0.0\n",
       " 0.0  0.0  0.0  0.0  0.0  0.0  0.0  0.0     0.0  0.0  0.0  0.0  0.0  0.0  0.0\n",
       " 0.0  0.0  0.0  0.0  0.0  0.0  0.0  0.0  …  0.0  0.0  0.0  0.0  0.0  0.0  0.0\n",
       " 0.0  0.0  0.0  0.0  0.0  0.0  0.0  0.0     0.0  0.0  0.0  0.0  0.0  0.0  0.0\n",
       " 0.0  0.0  0.0  0.0  0.0  0.0  0.0  0.0     0.0  0.0  0.0  0.0  0.0  0.0  0.0\n",
       " 0.0  0.0  0.0  0.0  0.0  0.0  0.0  0.0     0.0  0.0  0.0  0.0  0.0  0.0  0.0\n",
       " 0.0  0.0  0.0  0.0  0.0  0.0  0.0  0.0     0.0  0.0  0.0  0.0  0.0  0.0  0.0\n",
       "\n",
       "[:, :, 5000] =\n",
       " 0.0  0.0  0.0  0.0  0.0  0.0  0.0  0.0  …  0.0  0.0  0.0  0.0  0.0  0.0  0.0\n",
       " 0.0  0.0  0.0  0.0  0.0  0.0  0.0  0.0     0.0  0.0  0.0  0.0  0.0  0.0  0.0\n",
       " 0.0  0.0  0.0  0.0  0.0  0.0  0.0  0.0     0.0  0.0  0.0  0.0  0.0  0.0  0.0\n",
       " 0.0  0.0  0.0  0.0  0.0  0.0  0.0  0.0     0.0  0.0  0.0  0.0  0.0  0.0  0.0\n",
       " 0.0  0.0  0.0  0.0  0.0  0.0  0.0  0.0     0.0  0.0  0.0  0.0  0.0  0.0  0.0\n",
       " 0.0  0.0  0.0  0.0  0.0  0.0  0.0  0.0  …  0.0  0.0  0.0  0.0  0.0  0.0  0.0\n",
       " 0.0  0.0  0.0  0.0  0.0  0.0  0.0  0.0     0.0  0.0  0.0  0.0  0.0  0.0  0.0\n",
       " 0.0  0.0  0.0  0.0  0.0  0.0  0.0  0.0     0.0  0.0  0.0  0.0  0.0  0.0  0.0\n",
       " 0.0  0.0  0.0  0.0  0.0  0.0  0.0  0.0     0.0  0.0  0.0  0.0  0.0  0.0  0.0\n",
       " 0.0  0.0  0.0  0.0  0.0  0.0  0.0  0.0     0.0  0.0  0.0  0.0  0.0  0.0  0.0\n",
       " 0.0  0.0  0.0  0.0  0.0  0.0  0.0  0.0  …  0.0  0.0  0.0  0.0  0.0  0.0  0.0\n",
       " 0.0  0.0  0.0  0.0  0.0  0.0  0.0  0.0     0.0  0.0  0.0  0.0  0.0  0.0  0.0\n",
       " 0.0  0.0  0.0  0.0  0.0  0.0  0.0  0.0     0.0  0.0  0.0  0.0  0.0  0.0  0.0\n",
       " ⋮                        ⋮              ⋱            ⋮                      \n",
       " 0.0  0.0  0.0  0.0  0.0  0.0  0.0  0.0     0.0  0.0  0.0  0.0  0.0  0.0  0.0\n",
       " 0.0  0.0  0.0  0.0  0.0  0.0  0.0  0.0     0.0  0.0  0.0  0.0  0.0  0.0  0.0\n",
       " 0.0  0.0  0.0  0.0  0.0  0.0  0.0  0.0  …  0.0  0.0  0.0  0.0  0.0  0.0  0.0\n",
       " 0.0  0.0  0.0  0.0  0.0  0.0  0.0  0.0     0.0  0.0  0.0  0.0  0.0  0.0  0.0\n",
       " 0.0  0.0  0.0  0.0  0.0  0.0  0.0  0.0     0.0  0.0  0.0  0.0  0.0  0.0  0.0\n",
       " 0.0  0.0  0.0  0.0  0.0  0.0  0.0  0.0     0.0  0.0  0.0  0.0  0.0  0.0  0.0\n",
       " 0.0  0.0  0.0  0.0  0.0  0.0  0.0  0.0     0.0  0.0  0.0  0.0  0.0  0.0  0.0\n",
       " 0.0  0.0  0.0  0.0  0.0  0.0  0.0  0.0  …  0.0  0.0  0.0  0.0  0.0  0.0  0.0\n",
       " 0.0  0.0  0.0  0.0  0.0  0.0  0.0  0.0     0.0  0.0  0.0  0.0  0.0  0.0  0.0\n",
       " 0.0  0.0  0.0  0.0  0.0  0.0  0.0  0.0     0.0  0.0  0.0  0.0  0.0  0.0  0.0\n",
       " 0.0  0.0  0.0  0.0  0.0  0.0  0.0  0.0     0.0  0.0  0.0  0.0  0.0  0.0  0.0\n",
       " 0.0  0.0  0.0  0.0  0.0  0.0  0.0  0.0     0.0  0.0  0.0  0.0  0.0  0.0  0.0\n",
       "\n",
       "[:, :, 5001] =\n",
       " 0.0  0.0  0.0  0.0  0.0  0.0  0.0  0.0  …  0.0  0.0  0.0  0.0  0.0  0.0  0.0\n",
       " 0.0  0.0  0.0  0.0  0.0  0.0  0.0  0.0     0.0  0.0  0.0  0.0  0.0  0.0  0.0\n",
       " 0.0  0.0  0.0  0.0  0.0  0.0  0.0  0.0     0.0  0.0  0.0  0.0  0.0  0.0  0.0\n",
       " 0.0  0.0  0.0  0.0  0.0  0.0  0.0  0.0     0.0  0.0  0.0  0.0  0.0  0.0  0.0\n",
       " 0.0  0.0  0.0  0.0  0.0  0.0  0.0  0.0     0.0  0.0  0.0  0.0  0.0  0.0  0.0\n",
       " 0.0  0.0  0.0  0.0  0.0  0.0  0.0  0.0  …  0.0  0.0  0.0  0.0  0.0  0.0  0.0\n",
       " 0.0  0.0  0.0  0.0  0.0  0.0  0.0  0.0     0.0  0.0  0.0  0.0  0.0  0.0  0.0\n",
       " 0.0  0.0  0.0  0.0  0.0  0.0  0.0  0.0     0.0  0.0  0.0  0.0  0.0  0.0  0.0\n",
       " 0.0  0.0  0.0  0.0  0.0  0.0  0.0  0.0     0.0  0.0  0.0  0.0  0.0  0.0  0.0\n",
       " 0.0  0.0  0.0  0.0  0.0  0.0  0.0  0.0     0.0  0.0  0.0  0.0  0.0  0.0  0.0\n",
       " 0.0  0.0  0.0  0.0  0.0  0.0  0.0  0.0  …  0.0  0.0  0.0  0.0  0.0  0.0  0.0\n",
       " 0.0  0.0  0.0  0.0  0.0  0.0  0.0  0.0     0.0  0.0  0.0  0.0  0.0  0.0  0.0\n",
       " 0.0  0.0  0.0  0.0  0.0  0.0  0.0  0.0     0.0  0.0  0.0  0.0  0.0  0.0  0.0\n",
       " ⋮                        ⋮              ⋱            ⋮                      \n",
       " 0.0  0.0  0.0  0.0  0.0  0.0  0.0  0.0     0.0  0.0  0.0  0.0  0.0  0.0  0.0\n",
       " 0.0  0.0  0.0  0.0  0.0  0.0  0.0  0.0     0.0  0.0  0.0  0.0  0.0  0.0  0.0\n",
       " 0.0  0.0  0.0  0.0  0.0  0.0  0.0  0.0  …  0.0  0.0  0.0  0.0  0.0  0.0  0.0\n",
       " 0.0  0.0  0.0  0.0  0.0  0.0  0.0  0.0     0.0  0.0  0.0  0.0  0.0  0.0  0.0\n",
       " 0.0  0.0  0.0  0.0  0.0  0.0  0.0  0.0     0.0  0.0  0.0  0.0  0.0  0.0  0.0\n",
       " 0.0  0.0  0.0  0.0  0.0  0.0  0.0  0.0     0.0  0.0  0.0  0.0  0.0  0.0  0.0\n",
       " 0.0  0.0  0.0  0.0  0.0  0.0  0.0  0.0     0.0  0.0  0.0  0.0  0.0  0.0  0.0\n",
       " 0.0  0.0  0.0  0.0  0.0  0.0  0.0  0.0  …  0.0  0.0  0.0  0.0  0.0  0.0  0.0\n",
       " 0.0  0.0  0.0  0.0  0.0  0.0  0.0  0.0     0.0  0.0  0.0  0.0  0.0  0.0  0.0\n",
       " 0.0  0.0  0.0  0.0  0.0  0.0  0.0  0.0     0.0  0.0  0.0  0.0  0.0  0.0  0.0\n",
       " 0.0  0.0  0.0  0.0  0.0  0.0  0.0  0.0     0.0  0.0  0.0  0.0  0.0  0.0  0.0\n",
       " 0.0  0.0  0.0  0.0  0.0  0.0  0.0  0.0     0.0  0.0  0.0  0.0  0.0  0.0  0.0"
      ]
     },
     "execution_count": 64,
     "metadata": {},
     "output_type": "execute_result"
    }
   ],
   "source": [
    "#Vamos a cortar las orillas, la interpolación hace valores espurios ahi\n",
    "Laplaganga=Laplaganga[6:250,6:250,:]"
   ]
  },
  {
   "cell_type": "code",
   "execution_count": 65,
   "metadata": {
    "collapsed": false
   },
   "outputs": [
    {
     "data": {
      "image/png": "[encoded data removed]",
      "text/plain": [
       "Figure(PyObject <matplotlib.figure.Figure object at 0x7f87719b0f90>)"
      ]
     },
     "metadata": {},
     "output_type": "display_data"
    },
    {
     "data": {
      "text/plain": [
       "PyObject <matplotlib.colorbar.Colorbar instance at 0x7f87718b5710>"
      ]
     },
     "execution_count": 65,
     "metadata": {},
     "output_type": "execute_result"
    }
   ],
   "source": [
    "Tururu=Laplaganga[:,:,229];\n",
    "imshow(Tururu, cmap=\"seismic\", vmin=-10, vmax=10)\n",
    "colorbar()"
   ]
  },
  {
   "cell_type": "code",
   "execution_count": 66,
   "metadata": {
    "collapsed": false
   },
   "outputs": [
    {
     "ename": "LoadError",
     "evalue": "BoundsError()\nwhile loading In[66], in expression starting on line 1",
     "output_type": "error",
     "traceback": [
      "BoundsError()\nwhile loading In[66], in expression starting on line 1",
      "",
      " in checkbounds at abstractarray.jl:65",
      " in checkbounds at abstractarray.jl:92",
      " in getindex at multidimensional.jl:49"
     ]
    }
   ],
   "source": [
    "Laplaganga[240:256,170:190,\n",
    "    3999]"
   ]
  },
  {
   "cell_type": "code",
   "execution_count": 67,
   "metadata": {
    "collapsed": false
   },
   "outputs": [],
   "source": [
    "for t=1:5001\n",
    "#    aux=map(x-> isnan(x)?0:x, Chumbaganga[:,:,t])\n",
    "    zacatlan=\"GarbageCollector/LaplacianFilteredSpaceTime-$t.dat\"\n",
    "    writedlm(zacatlan, Laplaganga[:,:,t])\n",
    "end\n"
   ]
  },
  {
   "cell_type": "code",
   "execution_count": 77,
   "metadata": {
    "collapsed": false
   },
   "outputs": [],
   "source": [
    "ActividadNegativa=zeros(Laplaganga);\n",
    "ActividadPositiva=zeros(Laplaganga);\n",
    "SpikeCountPositivo=zeros(244,244);\n",
    "SpikeCountNegativo=zeros(244,244);\n",
    "SpikeCountTotal=zeros(244,244;)\n",
    "for j=1:244\n",
    "    for k=1:244\n",
    "        for t=1:tmax          \n",
    "            if(Laplaganga[j,k,t]<-0.0)      \n",
    "                ActividadNegativa[j,k,t]=Laplaganga[j,k,t]\n",
    "                SpikeCountNegativo[j,k]+=1\n",
    "            elseif(Laplaganga[j,k,t]>0.0) \n",
    "                ActividadPositiva[j,k,t]=Laplaganga[j,k,t]\n",
    "                SpikeCountPositivo[j,k]+=1\n",
    "            end\n",
    "        end\n",
    "            \n",
    "    end\n",
    "end\n"
   ]
  },
  {
   "cell_type": "code",
   "execution_count": 78,
   "metadata": {
    "collapsed": false
   },
   "outputs": [],
   "source": [
    "writedlm(\"SpikeCountNegativo.dat\", SpikeCountNegativo)\n",
    "writedlm(\"SpikeCountPositivo.dat\", SpikeCountPositivo)"
   ]
  },
  {
   "cell_type": "code",
   "execution_count": 79,
   "metadata": {
    "collapsed": false
   },
   "outputs": [],
   "source": [
    "Salida=open(\"DatosCMNegativo01.dat\", \"w\");\n",
    "(xanterior, yanterior)=(128., 128.)\n",
    "for t=1:tmax\n",
    "    masa=sum(ActividadNegativa[:,:,t]);\n",
    "    xmasa=0.0\n",
    "    ymasa=0.0\n",
    "    for j=1:244\n",
    "        xmasa+=j*sum(ActividadNegativa[j,:,t])\n",
    "        ymasa+=j*sum(ActividadNegativa[:,j,t])\n",
    "    end\n",
    "    if(abs(masa)>0.5)\n",
    "        xmasa=-xmasa/masa\n",
    "        ymasa=-ymasa/masa\n",
    "        write(Salida,join((xmasa,ymasa,masa), \"\\t\"), \"\\n\" )\n",
    "        xanterior=xmasa\n",
    "        yanterior=ymasa\n",
    "    else\n",
    "        write(Salida,join((xanterior,yanterior,0.0), \"\\t\"), \"\\n\" )\n",
    "    end\n",
    "end\n",
    "close(Salida);\n"
   ]
  },
  {
   "cell_type": "code",
   "execution_count": 80,
   "metadata": {
    "collapsed": false
   },
   "outputs": [],
   "source": [
    "Salida=open(\"DatosCMPositivo01.dat\", \"w\")\n",
    "(xanterior,yanterior)=(128.0, 128.0)\n",
    "for t=1:tmax\n",
    "    masa=sum(ActividadPositiva[:,:,t]);\n",
    "    xmasa=0.0\n",
    "    ymasa=0.0\n",
    "    for j=1:244\n",
    "        xmasa+=j*sum(ActividadPositiva[j,:,t])\n",
    "        ymasa+=j*sum(ActividadPositiva[:,j,t])\n",
    "    end\n",
    "    if(abs(masa)>0.5)\n",
    "        xmasa=xmasa/masa\n",
    "        ymasa=ymasa/masa\n",
    "        write(Salida,join((xmasa,ymasa,masa), \"\\t\"), \"\\n\" )\n",
    "        xanterior=xmasa\n",
    "        yanteriro=ymasa\n",
    "    else \n",
    "        write(Salida,join((xanterior,yanterior,0.0), \"\\t\"), \"\\n\" )\n",
    "    end\n",
    "        \n",
    "end\n",
    "close(Salida);"
   ]
  },
  {
   "cell_type": "code",
   "execution_count": null,
   "metadata": {
    "collapsed": false
   },
   "outputs": [],
   "source": []
  }
 ],
 "metadata": {
  "kernelspec": {
   "display_name": "Julia 0.3.7-pre",
   "language": "julia",
   "name": "julia 0.3"
  },
  "language_info": {
   "name": "julia",
   "version": "0.3.7"
  }
 },
 "nbformat": 4,
 "nbformat_minor": 0
}
