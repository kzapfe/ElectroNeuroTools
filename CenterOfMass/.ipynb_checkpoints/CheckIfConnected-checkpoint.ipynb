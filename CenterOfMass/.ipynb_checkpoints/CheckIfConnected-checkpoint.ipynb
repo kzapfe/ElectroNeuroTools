{
 "cells": [
  {
   "cell_type": "code",
   "execution_count": 144,
   "metadata": {
    "collapsed": false
   },
   "outputs": [
    {
     "data": {
      "text/plain": [
       "16x16 Array{Int16,2}:\n",
       "  0  -2   1   0  -1   0   0   0  -1   0   0  -1  -1   1  -1   1\n",
       " -1  -1  -2   1   0  -1   0   1  -1   0   0  -2   0   1   0   0\n",
       " -1  -1  -1   2  -2  -1   0   0   0  -2   1   0  -1  -1  -1   1\n",
       "  0   0  -1  -1   0  -2  -2  -2  -2  -1   1  -2   0   1   1   0\n",
       " -1  -1  -3   0   0   0  -2  -1  -1   0   1   0  -2   0  -1   1\n",
       " -1   0  -2   1  -1  -1   0   0   0   0  -3  -1   0   0   0  -1\n",
       "  0   1  -1   0  -1  -2   0   0  -1  -2  -1  -2   0   3   0   0\n",
       " -1  -1   0   0  -2   1   0  -2   0   0  -2  -2   0   1  -2  -1\n",
       "  0   0   0  -1   1   1  -1  -1  -1  -2   0   1  -2   0  -1   1\n",
       "  0  -2   1   0  -1  -1   1   1  -1   0   0   0   0  -1  -1  -2\n",
       "  1   1   0   1   1  -1   0   0  -2  -1  -1  -1  -2   0   0   0\n",
       "  0   0   0  -2  -1   0  -1   1  -1   0   2   0   0   2   0  -1\n",
       "  0  -2  -1  -2  -1   0  -2   0  -1   0  -1   1   0   0   1   0\n",
       " -1   0   0  -1  -1   0  -1   1   0  -1  -1   0  -1  -1   0  -1\n",
       " -1  -1   0   0  -2  -1   0  -2  -3  -2   1  -1  -1   0  -1   1\n",
       "  0  -1   0   0  -2   1  -1  -1  -2  -3   1  -1  -1  -1  -2   0"
      ]
     },
     "execution_count": 144,
     "metadata": {},
     "output_type": "execute_result"
    }
   ],
   "source": [
    "Juar,Kuar=16,16\n",
    "putinsky=randn(Juar,Kuar)\n",
    "map!(x->floor(x), putinsky)\n",
    "putete=map(x->convert(Int16, x), putinsky)"
   ]
  },
  {
   "cell_type": "code",
   "execution_count": 2,
   "metadata": {
    "collapsed": false
   },
   "outputs": [
    {
     "name": "stderr",
     "output_type": "stream",
     "text": [
      "INFO: Loading help data...\n"
     ]
    }
   ],
   "source": [
    "using PyPlot"
   ]
  },
  {
   "cell_type": "code",
   "execution_count": 153,
   "metadata": {
    "collapsed": false
   },
   "outputs": [
    {
     "data": {
      "image/png": "[encoded data removed]",
      "text/plain": [
       "Figure(PyObject <matplotlib.figure.Figure object at 0x7f9a460377d0>)"
      ]
     },
     "metadata": {},
     "output_type": "display_data"
    },
    {
     "data": {
      "text/plain": [
       "PyObject <matplotlib.colorbar.Colorbar instance at 0x7f9a45f0c8c0>"
      ]
     },
     "execution_count": 153,
     "metadata": {},
     "output_type": "execute_result"
    }
   ],
   "source": [
    "figure(figsize=(4.5,4.5))\n",
    "\n",
    "imagen=imshow(putete, cmap=\"seismic\", interpolation=\"none\", vmin=-3, vmax=3, origin=\"lower\")\n",
    "colorbar(imagen)"
   ]
  },
  {
   "cell_type": "code",
   "execution_count": 146,
   "metadata": {
    "collapsed": false
   },
   "outputs": [],
   "source": [
    "ActividadNegativa=Array{Int64}[]\n",
    "#ActividadPositiva=Graph()\n",
    "#SpikeCountPositivo=zeros(64,64);\n",
    "SpikeCountNegativo=zeros(Juar,Kuar);\n",
    "SpikeCountTotal=zeros(Juar,Kuar;)\n",
    "for j=1:Juar, k=1:Kuar          \n",
    "    if(putete[j,k]>0.0)      \n",
    "        push!(ActividadNegativa, [j, k])\n",
    "        SpikeCountNegativo[j,k]+=1\n",
    "    #elseif(putete[j,k]>0.0) \n",
    "    #    ActividadPositiva=vcat(ActividadPositiva, [j, k])\n",
    "    #    SpikeCountPositivo[j,k]+=1\n",
    "    end\n",
    "end"
   ]
  },
  {
   "cell_type": "code",
   "execution_count": 111,
   "metadata": {
    "collapsed": false
   },
   "outputs": [
    {
     "data": {
      "text/plain": [
       "Array{Int64,1}"
      ]
     },
     "execution_count": 111,
     "metadata": {},
     "output_type": "execute_result"
    }
   ],
   "source": [
    "typeof(ActividadNegativa[3])"
   ]
  },
  {
   "cell_type": "code",
   "execution_count": 139,
   "metadata": {
    "collapsed": false
   },
   "outputs": [
    {
     "data": {
      "text/plain": [
       "vecindad8 (generic function with 1 method)"
      ]
     },
     "execution_count": 139,
     "metadata": {},
     "output_type": "execute_result"
    }
   ],
   "source": [
    "function vecindad8(punto::Array)\n",
    "    j=punto[1]\n",
    "    k=punto[2]\n",
    "    result=Set{Array{Int64,1}}()\n",
    "    push!(result, [j-1,k-1])\n",
    "    push!(result, [j-1,k])\n",
    "    push!(result, [j-1,k+1])\n",
    "    push!(result, [j,k-1])\n",
    "    push!(result, [j,k+1])\n",
    "    push!(result, [j+1,k-1])\n",
    "    push!(result, [j+1,k])\n",
    "    push!(result, [j+1,k+1])\n",
    "    return result\n",
    "end\n",
    "    "
   ]
  },
  {
   "cell_type": "code",
   "execution_count": 87,
   "metadata": {
    "collapsed": false
   },
   "outputs": [
    {
     "data": {
      "text/plain": [
       "(Set{Array{Int64,1}}({[3,3],[4,3],[5,5],[4,5],[5,4],[3,4],[3,5],[5,3]}),[4,4])"
      ]
     },
     "execution_count": 87,
     "metadata": {},
     "output_type": "execute_result"
    }
   ],
   "source": [
    "(vecindad8(ActividadNegativa[end]), ActividadNegativa[end])"
   ]
  },
  {
   "cell_type": "code",
   "execution_count": 151,
   "metadata": {
    "collapsed": false
   },
   "outputs": [
    {
     "data": {
      "text/plain": [
       "20"
      ]
     },
     "execution_count": 151,
     "metadata": {},
     "output_type": "execute_result"
    }
   ],
   "source": [
    "#Simple pass method\n",
    "lista=copy(ActividadNegativa)\n",
    "curlab=0\n",
    "componentes=Set{Any}()\n",
    "while(length(lista)!=0)\n",
    "    x=pop!(lista) #arranca el ULTIMO elemento de la lista\n",
    "    listaprofundeza=Array{Int64}[]\n",
    "    componentecurlab=Array{Int64}[]\n",
    "    push!(listaprofundeza, x) #Pone elementos al FINAL de la lista\n",
    "    push!(componentecurlab, x)    \n",
    "    profundidad=0\n",
    "    while ((length(listaprofundeza)!=0) && profundidad<100)\n",
    "        y=pop!(listaprofundeza)\n",
    "        for v in vecindad8(y)\n",
    "                if in(v, lista)\n",
    "             #   println(indexin({v},lista), v)\n",
    "                deleteat!(lista, indexin({v}, lista))\n",
    "            #    println(v, \"si estaba en la lista\")\n",
    "             #   println(lista)\n",
    "                    push!(listaprofundeza, v)\n",
    "                    profundidad+=1\n",
    "                    push!(componentecurlab, v)\n",
    "                else\n",
    "                    #println(v, \"no estaba en la lista\")\n",
    "                end\n",
    "            end\n",
    "    end\n",
    "    # println(\"Para \", x, \"la profundidad fue \", profundidad)\n",
    "    curlab+=1\n",
    "    push!(componentes, componentecurlab)\n",
    "end\n",
    "curlab"
   ]
  },
  {
   "cell_type": "code",
   "execution_count": 116,
   "metadata": {
    "collapsed": false
   },
   "outputs": [
    {
     "data": {
      "text/plain": [
       "0-element Array{Array{Int64,N},1}"
      ]
     },
     "execution_count": 116,
     "metadata": {},
     "output_type": "execute_result"
    }
   ],
   "source": [
    "lista"
   ]
  },
  {
   "cell_type": "code",
   "execution_count": 154,
   "metadata": {
    "collapsed": false
   },
   "outputs": [
    {
     "name": "stdout",
     "output_type": "stream",
     "text": [
      "Array{Int64,N}[[16,6]]\n",
      "Array{Int64,N}[[5,16],[4,15],[3,16],[4,14]]\n",
      "Array{Int64,N}[[12,8]]\n",
      "Array{Int64,N}[[9,16]]\n",
      "Array{Int64,N}[[15,16]]\n",
      "Array{Int64,N}[[13,15],[12,14]]\n",
      "Array{Int64,N}[[11,5],[11,4],[10,3],[11,2],[11,1]]\n",
      "Array{Int64,N}[[9,12]]\n",
      "Array{Int64,N}[[7,2]]\n",
      "Array{Int64,N}[[10,8],[10,7],[9,6],[8,6],[9,5]]\n",
      "Array{Int64,N}[[5,11],[4,11],[3,11]]\n",
      "Array{Int64,N}[[16,11],[15,11]]\n",
      "Array{Int64,N}[[13,12],[12,11]]\n",
      "Array{Int64,N}[[3,4],[2,4],[1,3]]\n",
      "Array{Int64,N}[[2,14],[1,14]]\n",
      "Array{Int64,N}[[8,14],[7,14]]\n",
      "Array{Int64,N}[[1,16]]\n",
      "Array{Int64,N}[[14,8]]\n",
      "Array{Int64,N}[[6,4]]\n",
      "Array{Int64,N}[[2,8]]\n"
     ]
    }
   ],
   "source": [
    "for x in componentes\n",
    "    println(x)\n",
    "end"
   ]
  },
  {
   "cell_type": "code",
   "execution_count": 155,
   "metadata": {
    "collapsed": false,
    "scrolled": true
   },
   "outputs": [
    {
     "data": {
      "text/plain": [
       "20x3 Array{Float64,2}:\n",
       "  6.0     16.0     1.0\n",
       " 15.25     4.0     4.0\n",
       "  8.0     12.0     1.0\n",
       " 16.0      9.0     1.0\n",
       " 16.0     15.0     1.0\n",
       " 14.3333  12.3333  3.0\n",
       "  3.0     10.8     5.0\n",
       " 12.0      9.0     1.0\n",
       "  2.0      7.0     1.0\n",
       "  6.4      9.2     5.0\n",
       " 11.0      4.0     3.0\n",
       " 11.0     15.5     2.0\n",
       " 11.3333  12.3333  3.0\n",
       "  3.75     2.25    4.0\n",
       " 14.0      1.5     2.0\n",
       " 14.0      7.25    4.0\n",
       " 16.0      1.0     1.0\n",
       "  8.0     14.0     1.0\n",
       "  4.0      6.0     1.0\n",
       "  8.0      2.0     1.0"
      ]
     },
     "execution_count": 155,
     "metadata": {},
     "output_type": "execute_result"
    }
   ],
   "source": [
    "centrosdemasa=[[0 0 0];]\n",
    "for p in componentes\n",
    "    masa=0.00\n",
    "    x=0.00\n",
    "    y=0.00\n",
    "    for q in p\n",
    "        j=q[1]\n",
    "        k=q[2]\n",
    "        masalocal=putete[j,k]\n",
    "        masa+=masalocal\n",
    "        x+=k*masalocal\n",
    "        y+=j*masalocal\n",
    "    end\n",
    "    x/=masa\n",
    "    y/=masa\n",
    "    A=[x y masa]\n",
    "    centrosdemasa=vcat(centrosdemasa, A)\n",
    "end\n",
    "centrosdemasa=centrosdemasa[2:end,:]"
   ]
  },
  {
   "cell_type": "code",
   "execution_count": 156,
   "metadata": {
    "collapsed": false
   },
   "outputs": [
    {
     "data": {
      "image/png": "[encoded data removed]",
      "text/plain": [
       "Figure(PyObject <matplotlib.figure.Figure object at 0x7f9a46133e90>)"
      ]
     },
     "metadata": {},
     "output_type": "display_data"
    }
   ],
   "source": [
    "imagen=scatter(centrosdemasa[:,1], centrosdemasa[:,2], c=centrosdemasa[:,3], s=abs(100*centrosdemasa[:,3]), alpha=0.9)\n",
    "colorbar(imagen)\n",
    "grid()"
   ]
  },
  {
   "cell_type": "code",
   "execution_count": 183,
   "metadata": {
    "collapsed": false
   },
   "outputs": [
    {
     "data": {
      "text/plain": [
       "135"
      ]
     },
     "execution_count": 183,
     "metadata": {},
     "output_type": "execute_result"
    }
   ],
   "source": [
    "length(componentes)"
   ]
  },
  {
   "cell_type": "code",
   "execution_count": 72,
   "metadata": {
    "collapsed": false
   },
   "outputs": [
    {
     "data": {
      "text/plain": [
       "11-element Array{Int64,1}:\n",
       "  1\n",
       "  2\n",
       "  3\n",
       "  4\n",
       "  5\n",
       "  6\n",
       "  8\n",
       " 13\n",
       " 88\n",
       " 87\n",
       " 89"
      ]
     },
     "execution_count": 72,
     "metadata": {},
     "output_type": "execute_result"
    }
   ],
   "source": [
    "testlista=[1, 2, 3, 4, 5, 6, 8, 13, 88, 87, 89]"
   ]
  },
  {
   "cell_type": "code",
   "execution_count": 67,
   "metadata": {
    "collapsed": false
   },
   "outputs": [
    {
     "data": {
      "text/plain": [
       "dosvecindad (generic function with 1 method)"
      ]
     },
     "execution_count": 67,
     "metadata": {},
     "output_type": "execute_result"
    }
   ],
   "source": [
    "function dosvecindad(x)\n",
    "    result=Set()\n",
    "    push!(result, x-1)\n",
    "    push!(result, x+1)\n",
    "    return result\n",
    "end"
   ]
  },
  {
   "cell_type": "code",
   "execution_count": 76,
   "metadata": {
    "collapsed": false
   },
   "outputs": [
    {
     "name": "stdout",
     "output_type": "stream",
     "text": [
      "89\n",
      "[1,2,3,4,5,6,8,13,88,87]\n",
      "esta es listaprofundeza: []\n",
      "88yo si estaba en la lista\n",
      "y asi quedo la lista\n",
      "[1,2,3,4,5,6,8,13,87]\n",
      "90no estaba en la lista\n",
      "para 89 la profuÇndidad fue de 1\n",
      "esta es listaprofundeza: []\n",
      "89no estaba en la lista\n",
      "87yo si estaba en la lista\n",
      "y asi quedo la lista\n",
      "[1,2,3,4,5,6,8,13]\n",
      "para 88 la profuÇndidad fue de 2\n",
      "esta es listaprofundeza: []\n",
      "86no estaba en la lista\n",
      "88no estaba en la lista\n",
      "para 87 la profuÇndidad fue de 2\n",
      "13\n",
      "[1,2,3,4,5,6,8]\n",
      "esta es listaprofundeza: []\n",
      "14no estaba en la lista\n",
      "12no estaba en la lista\n",
      "para 13 la profuÇndidad fue de 0\n",
      "8\n",
      "[1,2,3,4,5,6]\n",
      "esta es listaprofundeza: []\n",
      "7no estaba en la lista\n",
      "9no estaba en la lista\n",
      "para 8 la profuÇndidad fue de 0\n",
      "6\n",
      "[1,2,3,4,5]\n",
      "esta es listaprofundeza: []\n",
      "7no estaba en la lista\n",
      "5yo si estaba en la lista\n",
      "y asi quedo la lista\n",
      "[1,2,3,4]\n",
      "para 6 la profuÇndidad fue de 1\n",
      "esta es listaprofundeza: []\n",
      "4yo si estaba en la lista\n",
      "y asi quedo la lista\n",
      "[1,2,3]\n",
      "6no estaba en la lista\n",
      "para 5 la profuÇndidad fue de 2\n",
      "esta es listaprofundeza: []\n",
      "3yo si estaba en la lista\n",
      "y asi quedo la lista\n",
      "[1,2]\n",
      "5no estaba en la lista\n",
      "para 4 la profuÇndidad fue de 3\n",
      "esta es listaprofundeza: []\n",
      "4no estaba en la lista\n",
      "2yo si estaba en la lista\n",
      "y asi quedo la lista\n",
      "[1]\n",
      "para 3 la profuÇndidad fue de 4\n",
      "esta es listaprofundeza: []\n",
      "3no estaba en la lista\n",
      "1yo si estaba en la lista\n",
      "y asi quedo la lista\n",
      "[]\n",
      "para 2 la profuÇndidad fue de 5\n",
      "esta es listaprofundeza: []\n",
      "0no estaba en la lista\n",
      "2no estaba en la lista\n",
      "para 1 la profuÇndidad fue de 5\n"
     ]
    },
    {
     "data": {
      "text/plain": [
       "4"
      ]
     },
     "execution_count": 76,
     "metadata": {},
     "output_type": "execute_result"
    }
   ],
   "source": [
    "#Simple pass method\n",
    "lista=copy(testlista)\n",
    "curlab=0\n",
    "componentes=Set{Any}()\n",
    "while(length(lista)!=0)\n",
    "    x=pop!(lista) #arranca el ULTIMO elemento de la lista\n",
    "    println(x)\n",
    "    println(lista)\n",
    "    listaprofundeza=Int64[]\n",
    "    componentecurlab=Int64[]\n",
    "    push!(listaprofundeza, x) #Pone elementos al FINAL de la lista\n",
    "    push!(componentecurlab, x)    \n",
    "    profundidad=0  \n",
    "    while ((length(listaprofundeza)!=0) && profundidad<10)\n",
    "        x=pop!(listaprofundeza)\n",
    "        println(\"esta es listaprofundeza: \", listaprofundeza)\n",
    "        for v in dosvecindad(x)\n",
    "                if in(v, lista)\n",
    "                println(v, \"yo si estaba en la lista\")\n",
    "                    deleteat!(lista, findin(lista, v))\n",
    "                println(\"y asi quedo la lista\")\n",
    "                println(lista)\n",
    "                    push!(listaprofundeza, v)\n",
    "                    profundidad+=1\n",
    "                    push!(componentecurlab, v)\n",
    "                else\n",
    "                    println(v, \"no estaba en la lista\")\n",
    "                end\n",
    "            end\n",
    "        println(\"para \", x, \" la profuÇndidad fue de \", profundidad)\n",
    "    end\n",
    "    curlab+=1\n",
    "    push!(componentes, componentecurlab)\n",
    "end\n",
    "curlab"
   ]
  },
  {
   "cell_type": "code",
   "execution_count": 77,
   "metadata": {
    "collapsed": false
   },
   "outputs": [
    {
     "data": {
      "text/plain": [
       "Set{Any}({[89,88,87],[8],[13],[6,5,4,3,2,1]})"
      ]
     },
     "execution_count": 77,
     "metadata": {},
     "output_type": "execute_result"
    }
   ],
   "source": [
    "componentes"
   ]
  },
  {
   "cell_type": "code",
   "execution_count": 11,
   "metadata": {
    "collapsed": false
   },
   "outputs": [
    {
     "data": {
      "text/plain": [
       "8016"
      ]
     },
     "execution_count": 11,
     "metadata": {},
     "output_type": "execute_result"
    }
   ],
   "source": [
    "conter=0\n",
    "for a in ActividadNegativa.vertices\n",
    "    for v in vecindad8(a)\n",
    "        if ( in(v, ActividadNegativa.vertices)) \n",
    "            conter+=1\n",
    "            lado=ExEdge(conter, a, v)\n",
    "            push!(ActividadNegativa.edges, lado)\n",
    "        end\n",
    "    end\n",
    "end\n",
    "conter"
   ]
  },
  {
   "cell_type": "code",
   "execution_count": 53,
   "metadata": {
    "collapsed": false
   },
   "outputs": [
    {
     "data": {
      "text/plain": [
       "8-element Array{Int64,1}:\n",
       "  1\n",
       "  2\n",
       "  3\n",
       "  4\n",
       "  6\n",
       "  8\n",
       " 13\n",
       " 90"
      ]
     },
     "execution_count": 53,
     "metadata": {},
     "output_type": "execute_result"
    }
   ],
   "source": [
    "testlista"
   ]
  },
  {
   "cell_type": "code",
   "execution_count": null,
   "metadata": {
    "collapsed": false
   },
   "outputs": [],
   "source": []
  },
  {
   "cell_type": "code",
   "execution_count": null,
   "metadata": {
    "collapsed": false
   },
   "outputs": [],
   "source": []
  },
  {
   "cell_type": "code",
   "execution_count": 5,
   "metadata": {
    "collapsed": false
   },
   "outputs": [
    {
     "data": {
      "text/plain": [
       "edge [4]: 4 -- 1"
      ]
     },
     "execution_count": 5,
     "metadata": {},
     "output_type": "execute_result"
    }
   ],
   "source": [
    "add_edge!(gr, 2,3)\n",
    "add_edge!(gr, 1,3)\n",
    "add_edge!(gr, 5,3)\n",
    "add_edge!(gr, 4,1)\n"
   ]
  },
  {
   "cell_type": "code",
   "execution_count": 8,
   "metadata": {
    "collapsed": false
   },
   "outputs": [
    {
     "name": "stderr",
     "output_type": "stream",
     "text": [
      "Failed to open XLIB display: \n"
     ]
    }
   ],
   "source": [
    "plot(gr)"
   ]
  },
  {
   "cell_type": "code",
   "execution_count": 18,
   "metadata": {
    "collapsed": false
   },
   "outputs": [
    {
     "name": "stdout",
     "output_type": "stream",
     "text": [
      "Symbol not found. Falling back on apropos search ...\n",
      "No help information found.\n"
     ]
    }
   ],
   "source": [
    "?Graphs"
   ]
  },
  {
   "cell_type": "code",
   "execution_count": 20,
   "metadata": {
    "collapsed": false
   },
   "outputs": [
    {
     "data": {
      "text/plain": [
       "v\"0.5.2\""
      ]
     },
     "execution_count": 20,
     "metadata": {},
     "output_type": "execute_result"
    }
   ],
   "source": [
    "Pkg.installed(\"Graphs\")"
   ]
  },
  {
   "cell_type": "code",
   "execution_count": null,
   "metadata": {
    "collapsed": true
   },
   "outputs": [],
   "source": []
  }
 ],
 "metadata": {
  "kernelspec": {
   "display_name": "Julia 0.3.7-pre",
   "language": "julia",
   "name": "julia 0.3"
  },
  "language_info": {
   "name": "julia",
   "version": "0.3.7"
  }
 },
 "nbformat": 4,
 "nbformat_minor": 0
}
