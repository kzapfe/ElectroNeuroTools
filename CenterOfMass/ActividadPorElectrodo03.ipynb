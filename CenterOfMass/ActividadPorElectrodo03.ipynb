{
 "metadata": {
  "language": "Julia",
  "name": "",
  "signature": "sha256:3f9a91c284bcf1215820d04f3325fa369abc5f3f60952384ff3781a8114fabc2"
 },
 "nbformat": 3,
 "nbformat_minor": 0,
 "worksheets": [
  {
   "cells": [
    {
     "cell_type": "heading",
     "level": 1,
     "metadata": {},
     "source": [
      "Medidas de actividad por electrodo: Distribuciones de prob de se\u00f1al, desviaciones y modas."
     ]
    },
    {
     "cell_type": "markdown",
     "metadata": {},
     "source": [
      "Veamos. Franco dice que hay una distribucion trimodal en los datos. Cada moda indica la superposici\u00f3n de otra se\u00f1al. Una es el ruido de fondo. La mas violenta debe ser la actividad real."
     ]
    },
    {
     "cell_type": "code",
     "collapsed": false,
     "input": [
      "using MAT \n",
      "DatosAparato=matopen(\"propagacion.mat\");\n",
      "matread(\"propagacion.mat\")"
     ],
     "language": "python",
     "metadata": {},
     "outputs": [
      {
       "metadata": {},
       "output_type": "pyout",
       "prompt_number": 1,
       "text": [
        "Dict{ASCIIString,Any} with 4 entries:\n",
        "  \"SamplingFrequency\" => 7022.0\n",
        "  \"StopFrame\"         => 5.549486e6\n",
        "  \"StartFrame\"        => 5.545273e6\n",
        "  \"RawMatrix\"         => [4125.0 2.01416015625 -28.1982421875 -10.07080078125 -\u2026"
       ]
      }
     ],
     "prompt_number": 1
    },
    {
     "cell_type": "markdown",
     "metadata": {},
     "source": [
      "La siguiente variable contiene TODO el arreglo de los datos, cuyas longitudes son espacio, espacio y tiempo."
     ]
    },
    {
     "cell_type": "code",
     "collapsed": false,
     "input": [
      "LasMedicionesCrudas=read(DatosAparato, \"RawMatrix\");\n",
      "size(LasMedicionesCrudas)"
     ],
     "language": "python",
     "metadata": {},
     "outputs": [
      {
       "metadata": {},
       "output_type": "pyout",
       "prompt_number": 10,
       "text": [
        "(64,64,4213)"
       ]
      }
     ],
     "prompt_number": 10
    },
    {
     "cell_type": "markdown",
     "metadata": {},
     "source": [
      "La actividad mas interesante se da entre los cuadros 1300 y 2700 aprox, vamos a usar solo esos."
     ]
    },
    {
     "cell_type": "code",
     "collapsed": false,
     "input": [
      "LasMedicionesCrudas=LasMedicionesCrudas[:,:,1300:2700];\n",
      "size(LasMedicionesCrudas)"
     ],
     "language": "python",
     "metadata": {},
     "outputs": [
      {
       "metadata": {},
       "output_type": "pyout",
       "prompt_number": 11,
       "text": [
        "(64,64,1401)"
       ]
      }
     ],
     "prompt_number": 11
    },
    {
     "cell_type": "markdown",
     "metadata": {},
     "source": [
      "Hay un par de electros saturados, que marcan voltajes absurdamente altos. Esos los vamos a matar con una funcion umbral."
     ]
    },
    {
     "cell_type": "code",
     "collapsed": false,
     "input": [
      "function umbral(x)\n",
      "    result=((abs(x)<1)||(abs(x)>2000)?0:x)\n",
      "end;"
     ],
     "language": "python",
     "metadata": {},
     "outputs": [],
     "prompt_number": 14
    },
    {
     "cell_type": "code",
     "collapsed": false,
     "input": [
      "DatosInteresantes=map(umbral, LasMedicionesCrudas);"
     ],
     "language": "python",
     "metadata": {},
     "outputs": [],
     "prompt_number": 15
    },
    {
     "cell_type": "markdown",
     "metadata": {},
     "source": [
      "Varias medidas estadisticas que vamos a usar, desviacion estandar total, por canal, etc."
     ]
    },
    {
     "cell_type": "code",
     "collapsed": false,
     "input": [
      "sigmaTotalAbsoluta=std(DatosInteresantes);\n",
      "DesviacionPorCanal=zeros(64,64)\n",
      "for j=1:64\n",
      "    for k=1:64\n",
      "        ChorizoExemplo=reshape(DatosInteresantes[j,k,:],1401)\n",
      "        DesviacionPorCanal[j,k]=std(ChorizoExemplo)\n",
      "    end\n",
      "end"
     ],
     "language": "python",
     "metadata": {},
     "outputs": [],
     "prompt_number": 18
    },
    {
     "cell_type": "code",
     "collapsed": false,
     "input": [
      "writedlm(\"UmpaLoompa.dat\", DesviacionPorCanal-sigmaTotalAbsoluta);\n"
     ],
     "language": "python",
     "metadata": {},
     "outputs": [],
     "prompt_number": 22
    },
    {
     "cell_type": "code",
     "collapsed": false,
     "input": [
      "PromediosPorCanal=zeros(64,64);\n",
      "for j=1:64\n",
      "    for k=1:64\n",
      "        ChorizoExemplo=reshape(LasMedicionesCrudas[j,k,:],4213)\n",
      "        PromediosPorCanal[j,k]=mean(ChorizoExemplo)\n",
      "    end\n",
      "end\n"
     ],
     "language": "python",
     "metadata": {},
     "outputs": [],
     "prompt_number": 9
    },
    {
     "cell_type": "code",
     "collapsed": false,
     "input": [
      "DatosCentrados=zeros(LasMedicionesCrudas);\n",
      "for t=1:4213\n",
      "    DatosCentrados[:,:,t]=LasMedicionesCrudas[:,:,t]-PromediosPorCanal\n",
      "end"
     ],
     "language": "python",
     "metadata": {},
     "outputs": [],
     "prompt_number": 10
    },
    {
     "cell_type": "code",
     "collapsed": false,
     "input": [],
     "language": "python",
     "metadata": {},
     "outputs": [],
     "prompt_number": 11
    },
    {
     "cell_type": "code",
     "collapsed": false,
     "input": [
      "for j=1:64\n",
      "    ChorizoExemplo=reshape(DatosCentrados[30,j,:],4213);\n",
      "    chairo=hist(ChorizoExemplo, cajas)\n",
      "    curamaca[j+1]=chairo[2]\n",
      "end"
     ],
     "language": "python",
     "metadata": {},
     "outputs": [],
     "prompt_number": 12
    },
    {
     "cell_type": "code",
     "collapsed": false,
     "input": [
      "Variancias=zeros(PromediosPorCanal)\n",
      "for j=1:64\n",
      "    for k=1:64\n",
      "        ChorizoExemplo=reshape(LasMedicionesCrudas[j,k,:],4213)\n",
      "        Variancias[j,k]=std(ChorizoExemplo)\n",
      "    end\n",
      "end\n"
     ],
     "language": "python",
     "metadata": {},
     "outputs": [],
     "prompt_number": 13
    },
    {
     "cell_type": "code",
     "collapsed": false,
     "input": [
      "paescribir=reshape(Variancias, 4096);\n",
      "writedlm(\"VarianciasCentradas.dat\", paescribir)\n",
      "writedlm(\"VarianciasCentradasTabla.dat\", Variancias)"
     ],
     "language": "python",
     "metadata": {},
     "outputs": [],
     "prompt_number": 14
    },
    {
     "cell_type": "code",
     "collapsed": false,
     "input": [
      "VarianciasVentaneadas=zeros(DatosCentrados)\n",
      "for j=1:64\n",
      "    for k=1:64\n",
      "        ChorizoExemplo=reshape(DatosCentrados[j,k,:],4213)\n",
      "        VarianciasVentaneadas[j,k,:]=desviaporventanas(ChorizoExemplo,50)\n",
      "    end\n",
      "end"
     ],
     "language": "python",
     "metadata": {},
     "outputs": [],
     "prompt_number": 15
    },
    {
     "cell_type": "code",
     "collapsed": false,
     "input": [
      "zacatito=zeros(Float64,(64,64))\n",
      "for t=1:4213\n",
      "    zacatlan=\"CuadradosConSombra-$t.dat\"\n",
      "    zacatito=zacatito*0.5+VarianciasVentaneadas[:,:,t]\n",
      "    writedlm(zacatlan,zacatito )\n",
      "end"
     ],
     "language": "python",
     "metadata": {},
     "outputs": [],
     "prompt_number": 16
    },
    {
     "cell_type": "code",
     "collapsed": false,
     "input": [
      "otrascajas=range(0,0.75,41)\n",
      "promediovariancias=mean(paescribir);\n",
      "chairo=hist(paescribir, otrascajas)\n",
      "cruac=DataFrame();\n",
      "cruac[1]=collect(otrascajas[1:end-1]);\n",
      "cruac[2]=chairo[2];\n",
      "writetable(\"HistoVariancias.dat\", cruac, separator='\\t')"
     ],
     "language": "python",
     "metadata": {},
     "outputs": [],
     "prompt_number": 64
    },
    {
     "cell_type": "code",
     "collapsed": false,
     "input": [
      "minimum(paescribir)"
     ],
     "language": "python",
     "metadata": {},
     "outputs": [
      {
       "metadata": {},
       "output_type": "pyout",
       "prompt_number": 30,
       "text": [
        "12.096726356719277"
       ]
      }
     ],
     "prompt_number": 30
    },
    {
     "cell_type": "code",
     "collapsed": false,
     "input": [
      "sum(chairo[2])"
     ],
     "language": "python",
     "metadata": {},
     "outputs": [
      {
       "metadata": {},
       "output_type": "pyout",
       "prompt_number": 63,
       "text": [
        "4094"
       ]
      }
     ],
     "prompt_number": 63
    },
    {
     "cell_type": "code",
     "collapsed": false,
     "input": [
      "import Distributions"
     ],
     "language": "python",
     "metadata": {},
     "outputs": [],
     "prompt_number": 33
    },
    {
     "cell_type": "code",
     "collapsed": false,
     "input": [
      "?Distributions"
     ],
     "language": "python",
     "metadata": {},
     "outputs": [
      {
       "output_type": "stream",
       "stream": "stderr",
       "text": [
        "INFO: Loading help data...\n"
       ]
      },
      {
       "output_type": "stream",
       "stream": "stdout",
       "text": [
        "Symbol not found. Falling back on apropos search ...\n"
       ]
      },
      {
       "output_type": "stream",
       "stream": "stdout",
       "text": [
        "No help information found.\n"
       ]
      }
     ],
     "prompt_number": 36
    },
    {
     "cell_type": "code",
     "collapsed": false,
     "input": [
      "Distributions.fit(Distributions.Gamma, paescribir)"
     ],
     "language": "python",
     "metadata": {},
     "outputs": [
      {
       "metadata": {},
       "output_type": "pyout",
       "prompt_number": 51,
       "text": [
        "Gamma(\u03b1=18.51755901600754, \u03b2=0.9008965546617297)"
       ]
      }
     ],
     "prompt_number": 51
    },
    {
     "cell_type": "code",
     "collapsed": false,
     "input": [
      "Distributions.fit(Distributions.Beta, paescribir)"
     ],
     "language": "python",
     "metadata": {},
     "outputs": [
      {
       "ename": "LoadError",
       "evalue": "\u03b1 and \u03b2 must be positive\nwhile loading In[57], in expression starting on line 1",
       "output_type": "pyerr",
       "traceback": [
        "\u03b1 and \u03b2 must be positive\nwhile loading In[57], in expression starting on line 1",
        "",
        " in Beta at /home/karel/.julia/v0.3/Distributions/src/univariate/continuous/beta.jl:6",
        " in fit at /home/karel/.julia/v0.3/Distributions/src/univariate/continuous/beta.jl:89"
       ]
      }
     ],
     "prompt_number": 57
    },
    {
     "cell_type": "code",
     "collapsed": false,
     "input": [
      "sum(chairo[2]/4079.)"
     ],
     "language": "python",
     "metadata": {},
     "outputs": [
      {
       "metadata": {},
       "output_type": "pyout",
       "prompt_number": 58,
       "text": [
        "1.0"
       ]
      }
     ],
     "prompt_number": 58
    },
    {
     "cell_type": "code",
     "collapsed": false,
     "input": [
      "paescribirunfolded=sort(paescribir);\n",
      "paescribirunfolded=diff(paescribirunfolded); #checa el metodo diff"
     ],
     "language": "python",
     "metadata": {},
     "outputs": [],
     "prompt_number": 68
    },
    {
     "cell_type": "code",
     "collapsed": false,
     "input": [
      "writedlm(\"DiferenciasVariancias01.dat\", paescribirunfolded)"
     ],
     "language": "python",
     "metadata": {},
     "outputs": [],
     "prompt_number": 69
    },
    {
     "cell_type": "code",
     "collapsed": false,
     "input": [
      "otrasbins=range(0,0.005,200)\n",
      "histodiff=hist(paescribirunfolded,otrasbins)\n",
      "cruac=DataFrame();\n",
      "cruac[1]=collect(otrasbins[1:end-1]);\n",
      "cruac[2]=histodiff[2];\n",
      "writetable(\"HistoDiffVariancias.dat\", cruac, separator='\\t')"
     ],
     "language": "python",
     "metadata": {},
     "outputs": [],
     "prompt_number": 81
    },
    {
     "cell_type": "code",
     "collapsed": false,
     "input": [
      "Distributions.fit(Distributions.Gamma, paescribirunfolded)"
     ],
     "language": "python",
     "metadata": {},
     "outputs": [
      {
       "metadata": {},
       "output_type": "pyout",
       "prompt_number": 82,
       "text": [
        "Gamma(\u03b1=0.12669302226161874, \u03b2=3.083200873659658)"
       ]
      }
     ],
     "prompt_number": 82
    },
    {
     "cell_type": "code",
     "collapsed": false,
     "input": [
      "sum(cruac[2])"
     ],
     "language": "python",
     "metadata": {},
     "outputs": [
      {
       "metadata": {},
       "output_type": "pyout",
       "prompt_number": 83,
       "text": [
        "4092"
       ]
      }
     ],
     "prompt_number": 83
    },
    {
     "cell_type": "markdown",
     "metadata": {},
     "source": [
      "Okey, vamos a seguir Francos Way a partir de ahora. Veamos que endiabladas cosas esas funcionan mas o menos menos chungo"
     ]
    },
    {
     "cell_type": "code",
     "collapsed": false,
     "input": [
      "Mascara=zeros(Variancias)\n",
      "Mascara=map(x->((x<26)&&(x>17))?1:0, Variancias);\n",
      "writedlm(\"mascara.dat\", Mascara)"
     ],
     "language": "python",
     "metadata": {},
     "outputs": [],
     "prompt_number": 89
    },
    {
     "cell_type": "code",
     "collapsed": false,
     "input": [
      "?std"
     ],
     "language": "python",
     "metadata": {},
     "outputs": [
      {
       "output_type": "stream",
       "stream": "stdout",
       "text": [
        "Base.std(v[, region])\n",
        "\n",
        "   Compute the sample standard deviation of a vector or array \"v\",\n",
        "   optionally along dimensions in \"region\". The algorithm returns an\n",
        "   estimator of the generative distribution's standard deviation under\n",
        "   the assumption that each entry of \"v\" is an IID drawn from that\n",
        "   generative distribution. This computation is equivalent to\n",
        "   calculating \"sqrt(sum((v - mean(v)).^2) / (length(v) - 1))\".\n",
        "   Note: Julia does not ignore \"NaN\" values in the computation. For\n",
        "   applications requiring the handling of missing data, the\n",
        "   \"DataArray\" package is recommended.\n"
       ]
      }
     ],
     "prompt_number": 90
    },
    {
     "cell_type": "code",
     "collapsed": false,
     "input": [
      "std(LasMedicionesCrudas)"
     ],
     "language": "python",
     "metadata": {},
     "outputs": [
      {
       "metadata": {},
       "output_type": "pyout",
       "prompt_number": 91,
       "text": [
        "72.0767825266103"
       ]
      }
     ],
     "prompt_number": 91
    },
    {
     "cell_type": "code",
     "collapsed": false,
     "input": [],
     "language": "python",
     "metadata": {},
     "outputs": []
    }
   ],
   "metadata": {}
  }
 ]
}