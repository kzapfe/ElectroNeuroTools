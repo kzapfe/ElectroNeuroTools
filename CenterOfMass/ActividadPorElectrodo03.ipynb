{
 "metadata": {
  "language": "Julia",
  "name": "",
  "signature": "sha256:5fba538db06e100d87cbfce827d5fab89654059d721d8349cb9c88aedf24a474"
 },
 "nbformat": 3,
 "nbformat_minor": 0,
 "worksheets": [
  {
   "cells": [
    {
     "cell_type": "heading",
     "level": 1,
     "metadata": {},
     "source": [
      "Medidas de actividad por electrodo: Distribuciones de prob de se\u00f1al, desviaciones y modas."
     ]
    },
    {
     "cell_type": "markdown",
     "metadata": {},
     "source": [
      "Veamos. Franco dice que hay una distribucion trimodal en los datos. Cada moda indica la superposici\u00f3n de otra se\u00f1al. Una es el ruido de fondo. La mas violenta debe ser la actividad real."
     ]
    },
    {
     "cell_type": "code",
     "collapsed": false,
     "input": [
      "using MAT \n",
      "DatosAparato=matopen(\"propagacion.mat\");\n",
      "matread(\"propagacion.mat\")"
     ],
     "language": "python",
     "metadata": {},
     "outputs": [
      {
       "metadata": {},
       "output_type": "pyout",
       "prompt_number": 32,
       "text": [
        "Dict{ASCIIString,Any} with 4 entries:\n",
        "  \"SamplingFrequency\" => 7022.0\n",
        "  \"StopFrame\"         => 5.549486e6\n",
        "  \"StartFrame\"        => 5.545273e6\n",
        "  \"RawMatrix\"         => [4125.0 2.01416015625 -28.1982421875 -10.07080078125 -\u2026"
       ]
      }
     ],
     "prompt_number": 32
    },
    {
     "cell_type": "markdown",
     "metadata": {},
     "source": [
      "La siguiente variable contiene TODO el arreglo de los datos, cuyas longitudes son espacio, espacio y tiempo."
     ]
    },
    {
     "cell_type": "code",
     "collapsed": false,
     "input": [
      "LasMedicionesCrudas=read(DatosAparato, \"RawMatrix\");\n",
      "size(LasMedicionesCrudas)"
     ],
     "language": "python",
     "metadata": {},
     "outputs": [
      {
       "metadata": {},
       "output_type": "pyout",
       "prompt_number": 33,
       "text": [
        "(64,64,4213)"
       ]
      }
     ],
     "prompt_number": 33
    },
    {
     "cell_type": "markdown",
     "metadata": {},
     "source": [
      "La actividad mas interesante se da entre los cuadros 1300 y 2700 aprox, vamos a usar solo esos."
     ]
    },
    {
     "cell_type": "code",
     "collapsed": false,
     "input": [
      "LasMedicionesCrudas=LasMedicionesCrudas[:,:,1300:2700];\n",
      "size(LasMedicionesCrudas)"
     ],
     "language": "python",
     "metadata": {},
     "outputs": [
      {
       "metadata": {},
       "output_type": "pyout",
       "prompt_number": 34,
       "text": [
        "(64,64,1401)"
       ]
      }
     ],
     "prompt_number": 34
    },
    {
     "cell_type": "markdown",
     "metadata": {},
     "source": [
      "Hay un par de electros saturados, que marcan voltajes absurdamente altos. Esos los vamos a matar con una funcion umbral."
     ]
    },
    {
     "cell_type": "code",
     "collapsed": false,
     "input": [
      "function umbral(x)\n",
      "    result=((abs(x)<1)||(abs(x)>1000)?0:x)\n",
      "end;"
     ],
     "language": "python",
     "metadata": {},
     "outputs": [],
     "prompt_number": 35
    },
    {
     "cell_type": "code",
     "collapsed": false,
     "input": [
      "DatosInteresantes=map(umbral, LasMedicionesCrudas);"
     ],
     "language": "python",
     "metadata": {},
     "outputs": [],
     "prompt_number": 36
    },
    {
     "cell_type": "code",
     "collapsed": false,
     "input": [
      "function desviaporventanas(data, param)\n",
      "    tantos=length(data)\n",
      "    result=zeros(data-param-1)\n",
      "    for j=1:(tantos-param-1)\n",
      "        chusco=std(data[j:j+param])\n",
      "        result[j]=chusco\n",
      "    end\n",
      "    return result \n",
      "end\n",
      "\n",
      "function mediaporventana(data,param)\n",
      "    tantos=length(data)\n",
      "    result=zeros(data-param-1)\n",
      "    for j=1:(tantos-param-1)\n",
      "        chusco=mean(data[j:j+param])\n",
      "        result[j]=chusco\n",
      "    end\n",
      "    return result\n",
      "end"
     ],
     "language": "python",
     "metadata": {},
     "outputs": [
      {
       "metadata": {},
       "output_type": "pyout",
       "prompt_number": 69,
       "text": [
        "mediaporventana (generic function with 1 method)"
       ]
      }
     ],
     "prompt_number": 69
    },
    {
     "cell_type": "markdown",
     "metadata": {},
     "source": [
      "Varias medidas estadisticas que vamos a usar, desviacion estandar total, por canal, etc."
     ]
    },
    {
     "cell_type": "code",
     "collapsed": false,
     "input": [
      "sigmaTotalAbsoluta=std(DatosInteresantes);\n",
      "DesviacionPorCanal=zeros(64,64)\n",
      "for j=1:64\n",
      "    for k=1:64\n",
      "        ChorizoExemplo=reshape(DatosInteresantes[j,k,:],1401)\n",
      "        DesviacionPorCanal[j,k]=std(ChorizoExemplo)\n",
      "    end\n",
      "end"
     ],
     "language": "python",
     "metadata": {},
     "outputs": [],
     "prompt_number": 37
    },
    {
     "cell_type": "code",
     "collapsed": false,
     "input": [
      "writedlm(\"UmpaLoompa.dat\", DesviacionPorCanal-sigmaTotalAbsoluta);\n"
     ],
     "language": "python",
     "metadata": {},
     "outputs": [],
     "prompt_number": 38
    },
    {
     "cell_type": "code",
     "collapsed": false,
     "input": [
      "Mascara=zeros(DesviacionPorCanal)\n",
      "Mascara=map(x->((x<0)||(x>20))?0:1, DesviacionPorCanal-sigmaTotalAbsoluta);\n",
      "writedlm(\"mascara.dat\", Mascara)"
     ],
     "language": "python",
     "metadata": {},
     "outputs": [],
     "prompt_number": 39
    },
    {
     "cell_type": "markdown",
     "metadata": {},
     "source": [
      "Voy  a considerar ahora solo los datos que estan en la mascara. Checate como Julia hace la operacion elemento por elemento!"
     ]
    },
    {
     "cell_type": "code",
     "collapsed": false,
     "input": [
      "DatosFiltrados=zeros(DatosInteresantes)\n",
      "for t=1:1401\n",
      "    DatosFiltrados[:,:,t]=DatosInteresantes[:,:,t].*Mascara\n",
      "end"
     ],
     "language": "python",
     "metadata": {},
     "outputs": [],
     "prompt_number": 40
    },
    {
     "cell_type": "code",
     "collapsed": false,
     "input": [
      "zacatito=zeros(Float64,(64,64))\n",
      "for t=1:1401\n",
      "    zacatlan=\"DatosEnmascarados05fadeout-$t.dat\"\n",
      "    zacatito=zacatito*0.5+DatosFiltrados[:,:,t]\n",
      "    writedlm(zacatlan,zacatito )\n",
      "end"
     ],
     "language": "python",
     "metadata": {},
     "outputs": [],
     "prompt_number": 41
    },
    {
     "cell_type": "code",
     "collapsed": false,
     "input": [
      "VarianciasTemporales=zeros(64,64);\n",
      "for j=1:64\n",
      "    for k=1:64\n",
      "         VarianciasTemporales[j,k]=std(DatosInteresantes[j,k,:])\n",
      "    end\n",
      "end"
     ],
     "language": "python",
     "metadata": {},
     "outputs": [],
     "prompt_number": 59
    },
    {
     "cell_type": "code",
     "collapsed": false,
     "input": [],
     "language": "python",
     "metadata": {},
     "outputs": []
    },
    {
     "cell_type": "code",
     "collapsed": false,
     "input": [
      "writedlm(\"VarianciasTemporals01.dat\", VarianciasTemporales);"
     ],
     "language": "python",
     "metadata": {},
     "outputs": [],
     "prompt_number": 60
    },
    {
     "cell_type": "code",
     "collapsed": false,
     "input": [
      "MediasTemporales=zeros(64,64);\n",
      "for j=1:64\n",
      "    for k=1:64\n",
      "         MediasTemporales[j,k]=mean(DatosInteresantes[j,k,:])\n",
      "    end\n",
      "end"
     ],
     "language": "python",
     "metadata": {},
     "outputs": [],
     "prompt_number": 62
    },
    {
     "cell_type": "code",
     "collapsed": false,
     "input": [
      "writedlm(\"MediasTemporals01.dat\", MediasTemporales);"
     ],
     "language": "python",
     "metadata": {},
     "outputs": [],
     "prompt_number": 63
    },
    {
     "cell_type": "code",
     "collapsed": false,
     "input": [
      "sigmaTotalAbsoluta"
     ],
     "language": "python",
     "metadata": {},
     "outputs": [
      {
       "metadata": {},
       "output_type": "pyout",
       "prompt_number": 64,
       "text": [
        "16.515387990287376"
       ]
      }
     ],
     "prompt_number": 64
    },
    {
     "cell_type": "code",
     "collapsed": false,
     "input": [
      "mean(DatosFiltrados)"
     ],
     "language": "python",
     "metadata": {},
     "outputs": [
      {
       "metadata": {},
       "output_type": "pyout",
       "prompt_number": 66,
       "text": [
        "-0.16736687506036535"
       ]
      }
     ],
     "prompt_number": 66
    },
    {
     "cell_type": "code",
     "collapsed": false,
     "input": [
      "VarianciasVentaneadas=zeros(DatosFiltrados)\n",
      "for j=1:64\n",
      "    for k=1:64\n",
      "        ChorizoExemplo=reshape(DatosFiltrados[j,k,:],1401)\n",
      "        VarianciasVentaneadas[j,k,:]=desviaporventanas(ChorizoExemplo,350)\n",
      "    end\n",
      "end"
     ],
     "language": "python",
     "metadata": {},
     "outputs": [],
     "prompt_number": 51
    },
    {
     "cell_type": "code",
     "collapsed": false,
     "input": [
      "MediasVentaneadas=zeros(DatosFiltrados)\n",
      "for j=1:64\n",
      "    for k=1:64\n",
      "        ChorizoExemplo=reshape(DatosFiltrados[j,k,:],1401)\n",
      "        VarianciasVentaneadas[j,k,:]=mediaporventana(ChorizoExemplo,350)\n",
      "    end\n",
      "end"
     ],
     "language": "python",
     "metadata": {},
     "outputs": [],
     "prompt_number": 70
    },
    {
     "cell_type": "code",
     "collapsed": false,
     "input": [
      "zacatito=zeros(Float64,(64,64))\n",
      "for t=1:1051\n",
      "    zacatlan=\"MediasFiltradaLocal350-$t.dat\"\n",
      "    zacatito=VarianciasVentaneadas[:,:,t]\n",
      "    writedlm(zacatlan,zacatito )\n",
      "end"
     ],
     "language": "python",
     "metadata": {},
     "outputs": [],
     "prompt_number": 72
    },
    {
     "cell_type": "code",
     "collapsed": false,
     "input": [
      "ActividadNegativa=zeros(DatosFiltrados);\n",
      "ActividadPositiva=zeros(DatosFiltrados);\n",
      "for j=1:64\n",
      "    for k=1:64\n",
      "        for t=1:1051\n",
      "            if(VarianciasVentaneadas[j,k,t]<0)\n",
      "                ActividadNegativa[j,k,t]=VarianciasVentaneadas[j,k,t]\n",
      "            else\n",
      "                ActividadPositiva[j,k,t]=VarianciasVentaneadas[j,k,t]\n",
      "            end\n",
      "        end\n",
      "    end\n",
      "end"
     ],
     "language": "python",
     "metadata": {},
     "outputs": [],
     "prompt_number": 76
    },
    {
     "cell_type": "code",
     "collapsed": false,
     "input": [
      "zacatito=zeros(Float64,(64,64))\n",
      "for t=1:1051\n",
      "    zacatlan=\"ActividadNegativaLocal350-$t.dat\"\n",
      "    zacatito=ActividadNegativa[:,:,t]\n",
      "    writedlm(zacatlan,zacatito )\n",
      "    zacatlan=\"ActividadPositivaLocal350-$t.dat\"\n",
      "    zacatito=ActividadPositiva[:,:,t]\n",
      "    writedlm(zacatlan,zacatito )\n",
      "end"
     ],
     "language": "python",
     "metadata": {},
     "outputs": [],
     "prompt_number": 77
    },
    {
     "cell_type": "code",
     "collapsed": false,
     "input": [
      "sum(chairo[2])"
     ],
     "language": "python",
     "metadata": {},
     "outputs": [
      {
       "ename": "LoadError",
       "evalue": "chairo not defined\nwhile loading In[17], in expression starting on line 1",
       "output_type": "pyerr",
       "traceback": [
        "chairo not defined\nwhile loading In[17], in expression starting on line 1",
        ""
       ]
      }
     ],
     "prompt_number": 17
    },
    {
     "cell_type": "code",
     "collapsed": false,
     "input": [
      "import Distributions"
     ],
     "language": "python",
     "metadata": {},
     "outputs": [],
     "prompt_number": 18
    },
    {
     "cell_type": "code",
     "collapsed": false,
     "input": [
      "?Distributions"
     ],
     "language": "python",
     "metadata": {},
     "outputs": [
      {
       "output_type": "stream",
       "stream": "stderr",
       "text": [
        "INFO: Loading help data...\n"
       ]
      },
      {
       "output_type": "stream",
       "stream": "stdout",
       "text": [
        "Symbol not found. Falling back on apropos search ...\n"
       ]
      },
      {
       "output_type": "stream",
       "stream": "stdout",
       "text": [
        "No help information found.\n"
       ]
      }
     ],
     "prompt_number": 19
    },
    {
     "cell_type": "code",
     "collapsed": false,
     "input": [
      "Distributions.fit(Distributions.Gamma, paescribir)"
     ],
     "language": "python",
     "metadata": {},
     "outputs": [
      {
       "ename": "LoadError",
       "evalue": "paescribir not defined\nwhile loading In[20], in expression starting on line 1",
       "output_type": "pyerr",
       "traceback": [
        "paescribir not defined\nwhile loading In[20], in expression starting on line 1",
        ""
       ]
      }
     ],
     "prompt_number": 20
    },
    {
     "cell_type": "code",
     "collapsed": false,
     "input": [
      "Distributions.fit(Distributions.Beta, paescribir)"
     ],
     "language": "python",
     "metadata": {},
     "outputs": [
      {
       "ename": "LoadError",
       "evalue": "paescribir not defined\nwhile loading In[21], in expression starting on line 1",
       "output_type": "pyerr",
       "traceback": [
        "paescribir not defined\nwhile loading In[21], in expression starting on line 1",
        ""
       ]
      }
     ],
     "prompt_number": 21
    },
    {
     "cell_type": "code",
     "collapsed": false,
     "input": [
      "sum(chairo[2]/4079.)"
     ],
     "language": "python",
     "metadata": {},
     "outputs": [
      {
       "ename": "LoadError",
       "evalue": "chairo not defined\nwhile loading In[22], in expression starting on line 1",
       "output_type": "pyerr",
       "traceback": [
        "chairo not defined\nwhile loading In[22], in expression starting on line 1",
        ""
       ]
      }
     ],
     "prompt_number": 22
    },
    {
     "cell_type": "code",
     "collapsed": false,
     "input": [
      "paescribirunfolded=sort(paescribir);\n",
      "paescribirunfolded=diff(paescribirunfolded); #checa el metodo diff"
     ],
     "language": "python",
     "metadata": {},
     "outputs": [
      {
       "ename": "LoadError",
       "evalue": "paescribir not defined\nwhile loading In[23], in expression starting on line 1",
       "output_type": "pyerr",
       "traceback": [
        "paescribir not defined\nwhile loading In[23], in expression starting on line 1",
        ""
       ]
      }
     ],
     "prompt_number": 23
    },
    {
     "cell_type": "code",
     "collapsed": false,
     "input": [
      "writedlm(\"DiferenciasVariancias01.dat\", paescribirunfolded)"
     ],
     "language": "python",
     "metadata": {},
     "outputs": [
      {
       "ename": "LoadError",
       "evalue": "paescribirunfolded not defined\nwhile loading In[24], in expression starting on line 1",
       "output_type": "pyerr",
       "traceback": [
        "paescribirunfolded not defined\nwhile loading In[24], in expression starting on line 1",
        ""
       ]
      }
     ],
     "prompt_number": 24
    },
    {
     "cell_type": "code",
     "collapsed": false,
     "input": [
      "otrasbins=range(0,0.005,200)\n",
      "histodiff=hist(paescribirunfolded,otrasbins)\n",
      "cruac=DataFrame();\n",
      "cruac[1]=collect(otrasbins[1:end-1]);\n",
      "cruac[2]=histodiff[2];\n",
      "writetable(\"HistoDiffVariancias.dat\", cruac, separator='\\t')"
     ],
     "language": "python",
     "metadata": {},
     "outputs": [
      {
       "ename": "LoadError",
       "evalue": "paescribirunfolded not defined\nwhile loading In[25], in expression starting on line 2",
       "output_type": "pyerr",
       "traceback": [
        "paescribirunfolded not defined\nwhile loading In[25], in expression starting on line 2",
        ""
       ]
      }
     ],
     "prompt_number": 25
    },
    {
     "cell_type": "code",
     "collapsed": false,
     "input": [
      "Distributions.fit(Distributions.Gamma, paescribirunfolded)"
     ],
     "language": "python",
     "metadata": {},
     "outputs": [
      {
       "ename": "LoadError",
       "evalue": "paescribirunfolded not defined\nwhile loading In[26], in expression starting on line 1",
       "output_type": "pyerr",
       "traceback": [
        "paescribirunfolded not defined\nwhile loading In[26], in expression starting on line 1",
        ""
       ]
      }
     ],
     "prompt_number": 26
    },
    {
     "cell_type": "code",
     "collapsed": false,
     "input": [
      "sum(cruac[2])"
     ],
     "language": "python",
     "metadata": {},
     "outputs": [
      {
       "ename": "LoadError",
       "evalue": "cruac not defined\nwhile loading In[27], in expression starting on line 1",
       "output_type": "pyerr",
       "traceback": [
        "cruac not defined\nwhile loading In[27], in expression starting on line 1",
        ""
       ]
      }
     ],
     "prompt_number": 27
    },
    {
     "cell_type": "markdown",
     "metadata": {},
     "source": [
      "Okey, vamos a seguir Francos Way a partir de ahora. Veamos que endiabladas cosas esas funcionan mas o menos menos chungo"
     ]
    },
    {
     "cell_type": "code",
     "collapsed": false,
     "input": [
      "Mascara=zeros(Variancias)\n",
      "Mascara=map(x->((x<26)&&(x>17))?1:0, Variancias);\n",
      "writedlm(\"mascara.dat\", Mascara)"
     ],
     "language": "python",
     "metadata": {},
     "outputs": [
      {
       "ename": "LoadError",
       "evalue": "Variancias not defined\nwhile loading In[28], in expression starting on line 1",
       "output_type": "pyerr",
       "traceback": [
        "Variancias not defined\nwhile loading In[28], in expression starting on line 1",
        ""
       ]
      }
     ],
     "prompt_number": 28
    },
    {
     "cell_type": "code",
     "collapsed": false,
     "input": [
      "?std"
     ],
     "language": "python",
     "metadata": {},
     "outputs": [
      {
       "output_type": "stream",
       "stream": "stdout",
       "text": [
        "Base.std(v[, region])\n",
        "\n",
        "   Compute the sample standard deviation of a vector or array \"v\",\n",
        "   optionally along dimensions in \"region\". The algorithm returns an\n",
        "   estimator of the generative distribution's standard deviation under\n",
        "   the assumption that each entry of \"v\" is an IID drawn from that\n",
        "   generative distribution. This computation is equivalent to\n",
        "   calculating \"sqrt(sum((v - mean(v)).^2) / (length(v) - 1))\".\n",
        "   Note: Julia does not ignore \"NaN\" values in the computation. For\n",
        "   applications requiring the handling of missing data, the\n",
        "   \"DataArray\" package is recommended.\n"
       ]
      }
     ],
     "prompt_number": 29
    },
    {
     "cell_type": "code",
     "collapsed": false,
     "input": [
      "std(LasMedicionesCrudas)"
     ],
     "language": "python",
     "metadata": {},
     "outputs": [
      {
       "ename": "LoadError",
       "evalue": "LasMedicionesCrudas not defined\nwhile loading In[30], in expression starting on line 1",
       "output_type": "pyerr",
       "traceback": [
        "LasMedicionesCrudas not defined\nwhile loading In[30], in expression starting on line 1",
        ""
       ]
      }
     ],
     "prompt_number": 30
    },
    {
     "cell_type": "code",
     "collapsed": false,
     "input": [],
     "language": "python",
     "metadata": {},
     "outputs": [],
     "prompt_number": 31
    }
   ],
   "metadata": {}
  }
 ]
}