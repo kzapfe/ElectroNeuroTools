{
 "cells": [
  {
   "cell_type": "code",
   "execution_count": 1,
   "metadata": {
    "collapsed": false
   },
   "outputs": [
    {
     "data": {
      "text/plain": [
       "IOStream(<file ../CriterioFranco/DatosActividadEpilepticaSelectos.bin>)"
      ]
     },
     "execution_count": 1,
     "metadata": {},
     "output_type": "execute_result"
    }
   ],
   "source": [
    "muacamuaca=open(\"../CriterioFranco/DatosActividadEpilepticaSelectos.bin\", \"r\")"
   ]
  },
  {
   "cell_type": "code",
   "execution_count": 8,
   "metadata": {
    "collapsed": false
   },
   "outputs": [
    {
     "data": {
      "text/plain": [
       "(64,64,9101)"
      ]
     },
     "execution_count": 8,
     "metadata": {},
     "output_type": "execute_result"
    }
   ],
   "source": [
    "formaarray=(64,64,9101)"
   ]
  },
  {
   "cell_type": "code",
   "execution_count": 9,
   "metadata": {
    "collapsed": false
   },
   "outputs": [
    {
     "ename": "LoadError",
     "evalue": "read: end of file\nwhile loading In[9], in expression starting on line 1",
     "output_type": "error",
     "traceback": [
      "read: end of file\nwhile loading In[9], in expression starting on line 1",
      "",
      " in read! at iostream.jl:196",
      " in read at io.jl:123"
     ]
    }
   ],
   "source": [
    "Datos=read(muacamuaca, Float64, formaarray);"
   ]
  },
  {
   "cell_type": "code",
   "execution_count": 4,
   "metadata": {
    "collapsed": false
   },
   "outputs": [
    {
     "data": {
      "text/plain": [
       "9101"
      ]
     },
     "execution_count": 4,
     "metadata": {},
     "output_type": "execute_result"
    }
   ],
   "source": [
    "tmax=formaarray[3]\n"
   ]
  },
  {
   "cell_type": "code",
   "execution_count": 5,
   "metadata": {
    "collapsed": false
   },
   "outputs": [
    {
     "data": {
      "text/plain": [
       "UnNormGauss (generic function with 1 method)"
      ]
     },
     "execution_count": 5,
     "metadata": {},
     "output_type": "execute_result"
    }
   ],
   "source": [
    "function umbral(x)\n",
    "    result=((abs(x)>250) ? 0 : x)\n",
    "end;\n",
    "\n",
    "function aplastar(x)\n",
    "    result=((abs(x)<60) ? 0 : x)\n",
    "end;\n",
    "\n",
    "function UnNormGauss(x,sigma)\n",
    "    return exp(-x*x/(2*sigma))\n",
    "end"
   ]
  },
  {
   "cell_type": "code",
   "execution_count": 6,
   "metadata": {
    "collapsed": false
   },
   "outputs": [],
   "source": [
    "close(muacamuaca)\n"
   ]
  },
  {
   "cell_type": "code",
   "execution_count": 10,
   "metadata": {
    "collapsed": false
   },
   "outputs": [],
   "source": [
    "Mascara=readdlm(\"Parchada02.dat\");"
   ]
  },
  {
   "cell_type": "code",
   "execution_count": 7,
   "metadata": {
    "collapsed": false
   },
   "outputs": [
    {
     "data": {
      "text/plain": [
       "PromedioSuavizar (generic function with 1 method)"
      ]
     },
     "execution_count": 7,
     "metadata": {},
     "output_type": "execute_result"
    }
   ],
   "source": [
    "\n"
   ]
  },
  {
   "cell_type": "code",
   "execution_count": 15,
   "metadata": {
    "collapsed": false
   },
   "outputs": [
    {
     "data": {
      "text/plain": [
       "GaussSuavizar (generic function with 1 method)"
      ]
     },
     "execution_count": 15,
     "metadata": {},
     "output_type": "execute_result"
    }
   ],
   "source": [
    "function GaussSuavizar(Datos,Sigma)  \n",
    "    #sigma esta medido en pixeles, es la desviacion estandar de nuestro kernel.\n",
    "    #El medioancho de nuestra ventana seran 3 sigmas.\n",
    "    #Bien, veamos como chingaos le ponemos \"padding\" a las convoluciones.\n",
    "    medioancho=ceil(Sigma*3)\n",
    "    colchon=ones(medioancho)\n",
    "    result=zeros(Datos)\n",
    "    datoscolchon=vcat(colchon*Datos[1], Datos, colchon*Datos[end])\n",
    "    kernel=map(x->UnNormGauss(x,Sigma), [-medioancho:medioancho])\n",
    "    kernel=kernel/(sum(kernel))\n",
    "    #La convolucion asi normalizada preserva el valor RELATIVO entre los puntos de la funcion.\n",
    "    #pero queremos ponerlo mas parecido a los voltajes que medimos, para preservar el rango de valores\n",
    "    #experimentales y su criterio de potenciales de accion / ruido\n",
    "    for t=medioancho+1:length(Datos)-medioancho\n",
    "        result[t-medioancho]=sum(datoscolchon[t-medioancho:t+medioancho].*kernel)\n",
    "    end\n",
    "    a=maximum(abs(Datos))\n",
    "    b=maximum(abs(result))\n",
    "    #result=result*a/b\n",
    "    return result\n",
    "end\n",
    "    "
   ]
  },
  {
   "cell_type": "code",
   "execution_count": 12,
   "metadata": {
    "collapsed": false
   },
   "outputs": [],
   "source": [
    "DatosLimpios=zeros(formaarray)\n",
    "for t=1:tmax\n",
    "    DatosLimpios[:,:,t]=Datos[:,:,t].*Mascara\n",
    "end"
   ]
  },
  {
   "cell_type": "code",
   "execution_count": 14,
   "metadata": {
    "collapsed": false
   },
   "outputs": [],
   "source": [
    "map!(aplastar, DatosLimpios);\n",
    "map!(umbral, DatosLimpios);"
   ]
  },
  {
   "cell_type": "code",
   "execution_count": 16,
   "metadata": {
    "collapsed": false
   },
   "outputs": [],
   "source": [
    "Chumbaganga=zeros(DatosLimpios);\n",
    "for j=1:64, k=1:64\n",
    "    if(Mascara[j,k]==1)\n",
    "   #     Chumbaganga[j,k,:]=GaussSuavizar(reshape(CuernoDeAmon[j,k,:],tmax),7)\n",
    "        Chumbaganga[j,k,:]=GaussSuavizar(reshape(DatosLimpios[j,k,:],tmax),7)\n",
    "    end    \n",
    "end"
   ]
  },
  {
   "cell_type": "code",
   "execution_count": 17,
   "metadata": {
    "collapsed": false
   },
   "outputs": [],
   "source": [
    "writedlm(\"ExampleDatosLargosSuaves-55-49.dat\", reshape(Chumbaganga[49,55,:],tmax))"
   ]
  },
  {
   "cell_type": "code",
   "execution_count": 18,
   "metadata": {
    "collapsed": false
   },
   "outputs": [
    {
     "data": {
      "text/plain": [
       "GaussianSmooth (generic function with 1 method)"
      ]
     },
     "execution_count": 18,
     "metadata": {},
     "output_type": "execute_result"
    }
   ],
   "source": [
    "GaussianKernel=readdlm(\"GaussianMatrixFilter01.dat\");\n",
    "function GaussianSmooth(Datos)\n",
    "    tamanodatos=size(Datos)\n",
    "    result=zeros(Datos)\n",
    "    temp=copy(Datos)\n",
    "    #Primero, hacemos el padding de los datos para que no se suavice demasiado\n",
    "    for j=1:3\n",
    "        temp=vcat(temp[1,:], temp, temp[end,:])\n",
    "    end\n",
    "    for j=1:3\n",
    "        temp=hcat(temp[:,1], temp, temp[:,1])\n",
    "    end\n",
    "    \n",
    "    for j=4:tamanodatos[1]+3, k=4:tamanodatos[2]+3\n",
    "        #los indices van primero, \"renglones\", luego \"columnas\", etc\n",
    "        aux=temp[j-3:j+3,k-3:k+3]\n",
    "        result[j-3,k-3]=sum(GaussianKernel.*aux)\n",
    "    end\n",
    "    #piensa como normalizar\n",
    "    #result=result*maximum(abs(Datos))/maximum(abs(result))\n",
    "    return result\n",
    "end"
   ]
  },
  {
   "cell_type": "code",
   "execution_count": 19,
   "metadata": {
    "collapsed": false
   },
   "outputs": [],
   "source": [
    "Sumbaganga=zeros(formaarray)\n",
    "for t=1:tmax\n",
    "    Sumbaganga[:,:,t]=GaussianSmooth(Chumbaganga[:,:,t])\n",
    "end\n"
   ]
  },
  {
   "cell_type": "code",
   "execution_count": 20,
   "metadata": {
    "collapsed": false
   },
   "outputs": [
    {
     "data": {
      "text/plain": [
       "(-177.40269703504885,184.53240220268867)"
      ]
     },
     "execution_count": 20,
     "metadata": {},
     "output_type": "execute_result"
    }
   ],
   "source": [
    "extrema(Sumbaganga)"
   ]
  },
  {
   "cell_type": "code",
   "execution_count": 21,
   "metadata": {
    "collapsed": false
   },
   "outputs": [
    {
     "data": {
      "text/plain": [
       "(0.0,184.53240220268867)"
      ]
     },
     "execution_count": 21,
     "metadata": {},
     "output_type": "execute_result"
    }
   ],
   "source": [
    "extrema(abs(Sumbaganga))"
   ]
  },
  {
   "cell_type": "code",
   "execution_count": 28,
   "metadata": {
    "collapsed": false
   },
   "outputs": [
    {
     "data": {
      "text/plain": [
       "0.605443365059636"
      ]
     },
     "execution_count": 28,
     "metadata": {},
     "output_type": "execute_result"
    }
   ],
   "source": [
    "mean(abs(Sumbaganga))"
   ]
  },
  {
   "cell_type": "code",
   "execution_count": 22,
   "metadata": {
    "collapsed": false
   },
   "outputs": [
    {
     "data": {
      "text/plain": [
       "0"
      ]
     },
     "execution_count": 22,
     "metadata": {},
     "output_type": "execute_result"
    }
   ],
   "source": [
    "Datos=0\n"
   ]
  },
  {
   "cell_type": "code",
   "execution_count": 23,
   "metadata": {
    "collapsed": false
   },
   "outputs": [],
   "source": [
    "gc()"
   ]
  },
  {
   "cell_type": "code",
   "execution_count": 24,
   "metadata": {
    "collapsed": false
   },
   "outputs": [],
   "source": [
    "# a escribir, pa variar\n",
    "for t=1:tmax\n",
    "#    aux=map(x-> isnan(x)?0:x, Chumbaganga[:,:,t])\n",
    "    zacatlan=\"GarbageCollector/GaussianFilteredSpaceTime-$t.dat\"\n",
    "    writedlm(zacatlan, Sumbaganga[:,:,t])\n",
    "end"
   ]
  },
  {
   "cell_type": "code",
   "execution_count": 25,
   "metadata": {
    "collapsed": false
   },
   "outputs": [
    {
     "data": {
      "text/plain": [
       "DiscreteLaplacian (generic function with 1 method)"
      ]
     },
     "execution_count": 25,
     "metadata": {},
     "output_type": "execute_result"
    }
   ],
   "source": [
    "LaplacianKernel=zeros(3,3);\n",
    "#checa que Julia va ordenando los datos renglon por renglon, no columna por columna\n",
    "LaplacianKernel=[[0.5 1. 0.5], [1. -6. 1], [0.5 1. 0.5]];\n",
    "\n",
    "function DiscreteLaplacian(Datos)\n",
    "    result=zeros(Datos)\n",
    "    temp=copy(Datos)\n",
    "    #Primero, hacemos el padding de los datos para que no se suavice demasiado\n",
    "    temp=vcat(temp[1,:], temp, temp[end,:])\n",
    "    temp=hcat(temp[:,1], temp, temp[:,end])\n",
    "    largo,ancho=size(Datos)\n",
    "    aux=Array(Float64,(3,3))\n",
    "    result=zeros(Datos)\n",
    "    for j=2:largo, k=2:ancho\n",
    "        #los indices van primero, \"renglones\", luego \"columnas\", etc\n",
    "        aux=temp[j-1:j+1,k-1:k+1]\n",
    "        result[j-1,k-1]=sum(LaplacianKernel.*aux)\n",
    "    end\n",
    "    return result\n",
    "end"
   ]
  },
  {
   "cell_type": "code",
   "execution_count": 26,
   "metadata": {
    "collapsed": false
   },
   "outputs": [],
   "source": [
    "Laplaganga=zeros(formaarray)\n",
    "for t=1:tmax\n",
    "    Laplaganga[:,:,t]=DiscreteLaplacian(Sumbaganga[:,:,t])\n",
    "end"
   ]
  },
  {
   "cell_type": "code",
   "execution_count": 27,
   "metadata": {
    "collapsed": false
   },
   "outputs": [],
   "source": [
    "for t=1:tmax\n",
    "#    aux=map(x-> isnan(x)?0:x, Chumbaganga[:,:,t])\n",
    "    zacatlan=\"GarbageCollector/LaplacianFilteredSpaceTime-$t.dat\"\n",
    "    writedlm(zacatlan, Laplaganga[:,:,t])\n",
    "end\n"
   ]
  },
  {
   "cell_type": "code",
   "execution_count": 29,
   "metadata": {
    "collapsed": false
   },
   "outputs": [],
   "source": [
    "ActividadNegativa=zeros(Laplaganga);\n",
    "ActividadPositiva=zeros(Laplaganga);\n",
    "SpikeCountPositivo=zeros(64,64);\n",
    "SpikeCountNegativo=zeros(64,64);\n",
    "SpikeCountTotal=zeros(64,64;)\n",
    "for j=1:64\n",
    "    for k=1:64\n",
    "        for t=1:1051          \n",
    "            if(Laplaganga[j,k,t]<-0.0)      \n",
    "                ActividadNegativa[j,k,t]=Laplaganga[j,k,t]\n",
    "                SpikeCountNegativo[j,k]+=1\n",
    "            elseif(Laplaganga[j,k,t]>0.0) \n",
    "                ActividadPositiva[j,k,t]=Laplaganga[j,k,t]\n",
    "                SpikeCountPositivo[j,k]+=1\n",
    "            end\n",
    "        end\n",
    "            \n",
    "    end\n",
    "end\n"
   ]
  },
  {
   "cell_type": "code",
   "execution_count": 31,
   "metadata": {
    "collapsed": false
   },
   "outputs": [],
   "source": [
    "writedlm(\"SpikeCountNegativo.dat\", SpikeCountNegativo)\n",
    "writedlm(\"SpikeCountPositivo.dat\", SpikeCountPositivo)"
   ]
  },
  {
   "cell_type": "code",
   "execution_count": 50,
   "metadata": {
    "collapsed": false
   },
   "outputs": [],
   "source": [
    "Salida=open(\"DatosCMNegativo01.dat\", \"w\");\n",
    "(xanterior, yanterior)=(32., 32.)\n",
    "for t=1:tmax\n",
    "    masa=sum(ActividadNegativa[:,:,t]);\n",
    "    xmasa=0.0\n",
    "    ymasa=0.0\n",
    "    for j=1:64\n",
    "        xmasa+=j*sum(ActividadNegativa[j,:,t])\n",
    "        ymasa+=j*sum(ActividadNegativa[:,j,t])\n",
    "    end\n",
    "    if(abs(masa)>50)\n",
    "        xmasa=-xmasa/masa\n",
    "        ymasa=-ymasa/masa\n",
    "        write(Salida,join((xmasa,ymasa,masa), \"\\t\"), \"\\n\" )\n",
    "        xanterior=xmasa\n",
    "        yanterior=ymasa\n",
    "    else\n",
    "        write(Salida,join((xanterior,yanterior,0.0), \"\\t\"), \"\\n\" )\n",
    "    end\n",
    "end\n",
    "close(Salida);\n"
   ]
  },
  {
   "cell_type": "code",
   "execution_count": 51,
   "metadata": {
    "collapsed": false
   },
   "outputs": [],
   "source": [
    "Salida=open(\"DatosCMPositivo01.dat\", \"w\")\n",
    "(xanterior,yanterior)=(32.0, 32.0)\n",
    "for t=1:tmax\n",
    "    masa=sum(ActividadPositiva[:,:,t]);\n",
    "    xmasa=0.0\n",
    "    ymasa=0.0\n",
    "    for j=1:64\n",
    "        xmasa+=j*sum(ActividadPositiva[j,:,t])\n",
    "        ymasa+=j*sum(ActividadPositiva[:,j,t])\n",
    "    end\n",
    "    if(abs(masa)>50)\n",
    "        xmasa=xmasa/masa\n",
    "        ymasa=ymasa/masa\n",
    "        write(Salida,join((xmasa,ymasa,masa), \"\\t\"), \"\\n\" )\n",
    "        xanterior=xmasa\n",
    "        yanteriro=ymasa\n",
    "    else \n",
    "        write(Salida,join((xanterior,yanterior,0.0), \"\\t\"), \"\\n\" )\n",
    "    end\n",
    "        \n",
    "end\n",
    "close(Salida);"
   ]
  },
  {
   "cell_type": "code",
   "execution_count": null,
   "metadata": {
    "collapsed": false
   },
   "outputs": [],
   "source": []
  }
 ],
 "metadata": {
  "kernelspec": {
   "display_name": "Julia 0.3.6-pre debug",
   "language": "julia",
   "name": "julia 0.3 debug"
  },
  "language_info": {
   "name": "julia",
   "version": "0.3.6"
  }
 },
 "nbformat": 4,
 "nbformat_minor": 0
}
