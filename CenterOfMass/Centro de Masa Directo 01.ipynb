{
 "metadata": {
  "language": "Julia",
  "name": "",
  "signature": "sha256:403db816661880e79361f9a28450e8c01e2022505757c1523e81f9ef88bee7ba"
 },
 "nbformat": 3,
 "nbformat_minor": 0,
 "worksheets": [
  {
   "cells": [
    {
     "cell_type": "heading",
     "level": 1,
     "metadata": {},
     "source": [
      "Centro de Masa 01: Intento de Fuerza Bruta, tomando TODO el espacio de mediciones y Valores Positivos y Negativos\n"
     ]
    },
    {
     "cell_type": "markdown",
     "metadata": {},
     "source": [
      "Primero, importamos la biblioteca para leer archivos de Matlab en Julia, abrimos el archivo de datos y lo cargamos en la variable *archivo*. De ah\u00ed leemos el contenido: "
     ]
    },
    {
     "cell_type": "code",
     "collapsed": false,
     "input": [
      "using MAT \n",
      "archivo=matopen(\"propagacion.mat\");\n",
      "matread(\"propagacion.mat\")"
     ],
     "language": "python",
     "metadata": {},
     "outputs": [
      {
       "metadata": {},
       "output_type": "pyout",
       "prompt_number": 1,
       "text": [
        "Dict{ASCIIString,Any} with 4 entries:\n",
        "  \"SamplingFrequency\" => 7022.0\n",
        "  \"StopFrame\"         => 5.549486e6\n",
        "  \"StartFrame\"        => 5.545273e6\n",
        "  \"RawMatrix\"         => [4125.0 2.01416015625 -28.1982421875 -10.07080078125 -\u2026"
       ]
      }
     ],
     "prompt_number": 1
    },
    {
     "cell_type": "markdown",
     "metadata": {},
     "source": [
      "Sospechamos que *RawMatrix* es el conjunto de valores de la medicion, asi que lo cargamos en una variable. Los otros son autodescriptivos, al parecer."
     ]
    },
    {
     "cell_type": "code",
     "collapsed": false,
     "input": [
      "TodosLosDatos=read(archivo, \"RawMatrix\");\n",
      "size(TodosLosDatos)"
     ],
     "language": "python",
     "metadata": {},
     "outputs": [
      {
       "metadata": {},
       "output_type": "pyout",
       "prompt_number": 2,
       "text": [
        "(64,64,4213)"
       ]
      }
     ],
     "prompt_number": 2
    },
    {
     "cell_type": "markdown",
     "metadata": {},
     "source": [
      "*TodosLosDatos* resulta ser un array de 64x64x4213 valores. Claramente los dos primeros indicies son los del electrodo y el tercero es el tiempo. Una prueba anterior demuestra que la actividad mas interesante est\u00e1 en los cuadros 1000 al 3000."
     ]
    },
    {
     "cell_type": "code",
     "collapsed": false,
     "input": [
      "DatosInteresantes=TodosLosDatos[:,:,1000:3000];\n"
     ],
     "language": "python",
     "metadata": {},
     "outputs": [
      {
       "ename": "LoadError",
       "evalue": "umbral not defined\nwhile loading In[25], in expression starting on line 2",
       "output_type": "pyerr",
       "traceback": [
        "umbral not defined\nwhile loading In[25], in expression starting on line 2",
        ""
       ]
      }
     ],
     "prompt_number": 25
    },
    {
     "cell_type": "markdown",
     "metadata": {},
     "source": [
      "Podemos ahora entonces calcular *crudamente* el centro de *masa* por cada cuadro (frame)."
     ]
    },
    {
     "cell_type": "code",
     "collapsed": false,
     "input": [
      "Salida=open(\"DatosCM01.dat\", \"w\");"
     ],
     "language": "python",
     "metadata": {},
     "outputs": [],
     "prompt_number": 22
    },
    {
     "cell_type": "code",
     "collapsed": false,
     "input": [
      "#Esta forma de hacerlo es particularmente mala. \n",
      "#Para empezar, tenemos un canal saturado en el mugroso punto de hasta abajo.\n",
      "for t=1:2000\n",
      "    masa=sum(DatosInteresantes[:,:,t]);\n",
      "    xmasa=0.0\n",
      "    ymasa=0.0\n",
      "    for j=1:64\n",
      "        xmasa=j*sum(DatosInteresantes[j,:,t])\n",
      "        ymasa=j*sum(DatosInteresantes[:,j,t])\n",
      "    end\n",
      "    xmasa=xmasa/masa\n",
      "    ymasa=ymasa/masa\n",
      "    write(Salida,join((xmasa,ymasa,masa), \"\\t\"), \"\\n\" )\n",
      "end"
     ],
     "language": "python",
     "metadata": {},
     "outputs": [],
     "prompt_number": 23
    },
    {
     "cell_type": "code",
     "collapsed": false,
     "input": [
      "close(Salida)"
     ],
     "language": "python",
     "metadata": {},
     "outputs": [],
     "prompt_number": 24
    },
    {
     "cell_type": "code",
     "collapsed": false,
     "input": [],
     "language": "python",
     "metadata": {},
     "outputs": []
    }
   ],
   "metadata": {}
  }
 ]
}