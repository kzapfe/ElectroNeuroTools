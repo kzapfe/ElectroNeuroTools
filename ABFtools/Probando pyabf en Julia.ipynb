{
 "cells": [
  {
   "cell_type": "code",
   "execution_count": 31,
   "metadata": {},
   "outputs": [],
   "source": [
    "using PyCall\n",
    "using PyPlot"
   ]
  },
  {
   "cell_type": "code",
   "execution_count": 2,
   "metadata": {},
   "outputs": [
    {
     "data": {
      "text/plain": [
       "PyObject <module 'pyabf' from '/home/karel/.local/lib64/python3.6/site-packages/pyabf/__init__.py'>"
      ]
     },
     "execution_count": 2,
     "metadata": {},
     "output_type": "execute_result"
    }
   ],
   "source": [
    "pyabf=pyimport(\"pyabf\")"
   ]
  },
  {
   "cell_type": "code",
   "execution_count": 17,
   "metadata": {},
   "outputs": [
    {
     "data": {
      "text/plain": [
       "PyObject ABFcore(abf=\"/home/karel/RafaelGutierrez/ABFiles/Eduardo/CarbacholCA3.abf\", loadData=True)"
      ]
     },
     "execution_count": 17,
     "metadata": {},
     "output_type": "execute_result"
    }
   ],
   "source": [
    "arx=pyabf[:ABF](\"../ABFiles/Eduardo/CarbacholCA3.abf\") # sintaxis similar a PyPlot.jl"
   ]
  },
  {
   "cell_type": "code",
   "execution_count": 18,
   "metadata": {},
   "outputs": [
    {
     "data": {
      "text/plain": [
       "1"
      ]
     },
     "execution_count": 18,
     "metadata": {},
     "output_type": "execute_result"
    }
   ],
   "source": [
    "canales=arx[:channelCount]"
   ]
  },
  {
   "cell_type": "code",
   "execution_count": 19,
   "metadata": {},
   "outputs": [
    {
     "data": {
      "text/plain": [
       "101-element Array{Symbol,1}:\n",
       " :__class__        \n",
       " :__delattr__      \n",
       " :__dict__         \n",
       " :__dir__          \n",
       " :__doc__          \n",
       " :__eq__           \n",
       " :__format__       \n",
       " :__ge__           \n",
       " :__getattribute__ \n",
       " :__gt__           \n",
       " :__hash__         \n",
       " :__init__         \n",
       " :__init_subclass__\n",
       " ⋮                 \n",
       " :sweepPointCount  \n",
       " :sweepTimesMin    \n",
       " :sweepTimesSec    \n",
       " :sweepUnitsC      \n",
       " :sweepUnitsX      \n",
       " :sweepUnitsY      \n",
       " :sweepX           \n",
       " :sweepY           \n",
       " :tagComments      \n",
       " :tagSweeps        \n",
       " :tagTimesMin      \n",
       " :tagTimesSec      "
      ]
     },
     "execution_count": 19,
     "metadata": {},
     "output_type": "execute_result"
    }
   ],
   "source": [
    "llaves=keys(arx)"
   ]
  },
  {
   "cell_type": "code",
   "execution_count": 22,
   "metadata": {},
   "outputs": [
    {
     "name": "stdout",
     "output_type": "stream",
     "text": [
      "sweepX , _cacheStimulusFiles , dacUnits , dacNames , data , dataSecPerPoint , creatorVersion , sweepUnitsC , _fileSize , dataPointsPerMs , abfFilePath , abfVersion , tagSweeps , _dtype , abfDateTime , sweepUnitsX , holdingCommand , sweepPointCount , _sweepBaselinePoints , fileGUID , sweepIntervalSec , sweepLabelY , dataPointByteSize , sweepY , adcNames , sweepCount , _preLoadData , dataPointCount , _dataOffset , abfID , abfDateTimeString , adcUnits , dataRate , tagTimesSec , protocolPath , sweepChannel , stimulusByChannel , _headerV1 , sweepLabelC , sweepUnitsY , sweepNumber , channelCount , channelList , _nDataFormat , creatorVersionString , sweepLengthSec , tagComments , _dataGain , protocol , abfFileComment , dataByteStart , dataLengthSec , sweepLabelX , sweepList , tagTimesMin , dataLengthMin , sweepEpochs , stimulusFileFolder , abfVersionString , "
     ]
    }
   ],
   "source": [
    "#este diccionario parece tener cosas interesantes\n",
    "for i in keys(arx[:__dict__])\n",
    "    print(i,\" , \")\n",
    "end "
   ]
  },
  {
   "cell_type": "code",
   "execution_count": 26,
   "metadata": {},
   "outputs": [
    {
     "data": {
      "text/plain": [
       "\"time (seconds)\""
      ]
     },
     "execution_count": 26,
     "metadata": {},
     "output_type": "execute_result"
    }
   ],
   "source": [
    "arx[:__dict__][\"sweepLabelX\"]"
   ]
  },
  {
   "cell_type": "code",
   "execution_count": 27,
   "metadata": {},
   "outputs": [
    {
     "data": {
      "text/plain": [
       "\"time (seconds)\""
      ]
     },
     "execution_count": 27,
     "metadata": {},
     "output_type": "execute_result"
    }
   ],
   "source": [
    "arx[:sweepLabelX] "
   ]
  },
  {
   "cell_type": "code",
   "execution_count": 32,
   "metadata": {},
   "outputs": [
    {
     "data": {
      "text/plain": [
       "true"
      ]
     },
     "execution_count": 32,
     "metadata": {},
     "output_type": "execute_result"
    }
   ],
   "source": [
    "# Al parecer son equivalentes, aunque el __dict__ parece solo tener objetos con data \n",
    "# mientras que el diccionario original tiene mucho mnas cosas (una copia de si mismo al parecer)\n",
    "arx[:sweepLabelX] ==arx[:__dict__][\"sweepLabelX\"]"
   ]
  },
  {
   "cell_type": "code",
   "execution_count": 34,
   "metadata": {},
   "outputs": [
    {
     "name": "stdout",
     "output_type": "stream",
     "text": [
      "__class__, __delattr__, __dict__, __dir__, __doc__, __eq__, __format__, __ge__, __getattribute__, __gt__, __hash__, __init__, __init_subclass__, __le__, __lt__, __module__, __ne__, __new__, __reduce__, __reduce_ex__, __repr__, __setattr__, __sizeof__, __str__, __subclasshook__, __weakref__, _cacheStimulusFiles, _dataGain, _dataOffset, _dtype, _fileSize, _headerV1, _ide_helper, _loadAndScaleData, _makeAdditionalVariables, _nDataFormat, _preLoadData, _readHeadersV1, _readHeadersV2, _sweepBaselinePoints, abfDateTime, abfDateTimeString, abfFileComment, abfFilePath, abfID, abfVersion, abfVersionString, adcNames, adcUnits, channelCount, channelList, creatorVersion, creatorVersionString, dacNames, dacUnits, data, dataByteStart, dataLengthMin, dataLengthSec, dataPointByteSize, dataPointCount, dataPointsPerMs, dataRate, dataSecPerPoint, fileGUID, headerHTML, headerLaunch, headerMarkdown, headerText, holdingCommand, launchInClampFit, protocol, protocolPath, saveABF1, setSweep, stimulusByChannel, stimulusFileFolder, sweepC, sweepChannel, sweepCount, sweepD, sweepEpochs, sweepIntervalSec, sweepLabelC, sweepLabelX, sweepLabelY, sweepLengthSec, sweepList, sweepNumber, sweepPointCount, sweepTimesMin, sweepTimesSec, sweepUnitsC, sweepUnitsX, sweepUnitsY, sweepX, sweepY, tagComments, tagSweeps, tagTimesMin, tagTimesSec, "
     ]
    }
   ],
   "source": [
    "for l in llaves\n",
    "    print(l, \", \")\n",
    "end"
   ]
  },
  {
   "cell_type": "code",
   "execution_count": 35,
   "metadata": {},
   "outputs": [],
   "source": [
    "arx[:setSweep](1)"
   ]
  },
  {
   "cell_type": "code",
   "execution_count": 36,
   "metadata": {},
   "outputs": [
    {
     "data": {
      "image/png": "[encoded data removed]",
      "text/plain": [
       "Figure(PyObject <Figure size 640x480 with 1 Axes>)"
      ]
     },
     "metadata": {},
     "output_type": "display_data"
    },
    {
     "data": {
      "text/plain": [
       "1-element Array{PyObject,1}:\n",
       " PyObject <matplotlib.lines.Line2D object at 0x7fce24be86d8>"
      ]
     },
     "execution_count": 36,
     "metadata": {},
     "output_type": "execute_result"
    }
   ],
   "source": [
    "tts=arx[:sweepX]\n",
    "vvs=arx[:sweepY]\n",
    "plot(tts,vvs)"
   ]
  },
  {
   "cell_type": "code",
   "execution_count": 39,
   "metadata": {},
   "outputs": [
    {
     "ename": "PyCall.PyError",
     "evalue": "PyError ($(Expr(:escape, :(ccall(#= /home/karel/.julia/packages/PyCall/0jMpb/src/pyfncall.jl:44 =# @pysym(:PyObject_Call), PyPtr, (PyPtr, PyPtr, PyPtr), o, pyargsptr, kw))))) <class 'ValueError'>\nValueError('Sweep 23 not available (must be 0 - 22)',)\n  File \"/home/karel/.local/lib64/python3.6/site-packages/pyabf/abf.py\", line 465, in setSweep\n    raise ValueError(msg)\n",
     "output_type": "error",
     "traceback": [
      "PyError ($(Expr(:escape, :(ccall(#= /home/karel/.julia/packages/PyCall/0jMpb/src/pyfncall.jl:44 =# @pysym(:PyObject_Call), PyPtr, (PyPtr, PyPtr, PyPtr), o, pyargsptr, kw))))) <class 'ValueError'>\nValueError('Sweep 23 not available (must be 0 - 22)',)\n  File \"/home/karel/.local/lib64/python3.6/site-packages/pyabf/abf.py\", line 465, in setSweep\n    raise ValueError(msg)\n",
      "",
      "Stacktrace:",
      " [1] pyerr_check at /home/karel/.julia/packages/PyCall/0jMpb/src/exception.jl:60 [inlined]",
      " [2] pyerr_check at /home/karel/.julia/packages/PyCall/0jMpb/src/exception.jl:64 [inlined]",
      " [3] macro expansion at /home/karel/.julia/packages/PyCall/0jMpb/src/exception.jl:84 [inlined]",
      " [4] __pycall!(::PyObject, ::Ptr{PyCall.PyObject_struct}, ::PyObject, ::Ptr{Nothing}) at /home/karel/.julia/packages/PyCall/0jMpb/src/pyfncall.jl:44",
      " [5] _pycall!(::PyObject, ::PyObject, ::Tuple{Int64}, ::Int64, ::Ptr{Nothing}) at /home/karel/.julia/packages/PyCall/0jMpb/src/pyfncall.jl:29",
      " [6] #call#89 at /home/karel/.julia/packages/PyCall/0jMpb/src/pyfncall.jl:11 [inlined]",
      " [7] (::PyObject)(::Int64) at /home/karel/.julia/packages/PyCall/0jMpb/src/pyfncall.jl:89",
      " [8] top-level scope at ./In[39]:4"
     ]
    }
   ],
   "source": [
    "f=figure(figsize=(14,10))\n",
    "\n",
    "for k in 1:arx[:sweepCount]\n",
    "    arx[:setSweep](k)\n",
    "    tts=arx[:sweepX]\n",
    "    vvs=arx[:sweepY]\n",
    "    plot(tts,vvs,alpha=.5,label=\"sweep $k\")\n",
    "end\n",
    "legend()\n",
    "ylabel(arx.sweepLabelY)\n",
    "xlabel(arx.sweepLabelX)\n",
    "title(\"pyABF and Matplotlib are a great pair!\")\n"
   ]
  },
  {
   "cell_type": "code",
   "execution_count": null,
   "metadata": {},
   "outputs": [],
   "source": []
  }
 ],
 "metadata": {
  "@webio": {
   "lastCommId": "ce0ced6500ca4712886090634d8a1942",
   "lastKernelId": "e64b5bd5-5424-4c1b-b856-1d9afa9e8c88"
  },
  "kernelspec": {
   "display_name": "Julia 1.0.3",
   "language": "julia",
   "name": "julia-1.0"
  },
  "language_info": {
   "file_extension": ".jl",
   "mimetype": "application/julia",
   "name": "julia",
   "version": "1.0.3"
  }
 },
 "nbformat": 4,
 "nbformat_minor": 2
}
