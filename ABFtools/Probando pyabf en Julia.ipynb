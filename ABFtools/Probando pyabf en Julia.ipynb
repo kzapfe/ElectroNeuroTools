{
 "cells": [
  {
   "cell_type": "code",
   "execution_count": 1,
   "metadata": {},
   "outputs": [
    {
     "ename": "ArgumentError",
     "evalue": "ArgumentError: Package PyCall not found in current path:\n- Run `import Pkg; Pkg.add(\"PyCall\")` to install the PyCall package.\n",
     "output_type": "error",
     "traceback": [
      "ArgumentError: Package PyCall not found in current path:\n- Run `import Pkg; Pkg.add(\"PyCall\")` to install the PyCall package.\n",
      "",
      "Stacktrace:",
      " [1] require(::Module, ::Symbol) at ./loading.jl:887",
      " [2] top-level scope at In[1]:1"
     ]
    }
   ],
   "source": [
    "using PyCall\n",
    "using PyPlot"
   ]
  },
  {
   "cell_type": "code",
   "execution_count": 2,
   "metadata": {},
   "outputs": [
    {
     "ename": "UndefVarError",
     "evalue": "UndefVarError: pyimport not defined",
     "output_type": "error",
     "traceback": [
      "UndefVarError: pyimport not defined",
      "",
      "Stacktrace:",
      " [1] top-level scope at In[2]:1"
     ]
    }
   ],
   "source": [
    "pyabf=pyimport(\"pyabf\")"
   ]
  },
  {
   "cell_type": "code",
   "execution_count": null,
   "metadata": {
    "collapsed": true
   },
   "outputs": [],
   "source": [
    "arx=pyabf.ABF(\"../ABFiles/Eduardo/CarbacholCA3.abf\") # sintaxis similar a PyPlot.jl"
   ]
  },
  {
   "cell_type": "code",
   "execution_count": null,
   "metadata": {
    "collapsed": true
   },
   "outputs": [],
   "source": [
    "canales=arx.channelCount"
   ]
  },
  {
   "cell_type": "code",
   "execution_count": null,
   "metadata": {
    "collapsed": true
   },
   "outputs": [],
   "source": [
    "llaves=keys(arx)"
   ]
  },
  {
   "cell_type": "code",
   "execution_count": null,
   "metadata": {
    "collapsed": true
   },
   "outputs": [],
   "source": [
    "#este diccionario parece tener cosas interesantes\n",
    "for i in keys(arx[:__dict__])\n",
    "    print(i,\" , \")\n",
    "end "
   ]
  },
  {
   "cell_type": "code",
   "execution_count": null,
   "metadata": {
    "collapsed": true
   },
   "outputs": [],
   "source": [
    "dictionario=arx.__dict__"
   ]
  },
  {
   "cell_type": "code",
   "execution_count": null,
   "metadata": {
    "collapsed": true
   },
   "outputs": [],
   "source": [
    "dictionario[\"sweepLabelX\"]"
   ]
  },
  {
   "cell_type": "code",
   "execution_count": null,
   "metadata": {
    "collapsed": true
   },
   "outputs": [],
   "source": [
    "arx.sweepLabelX  #esto parece ser mas simple y nos permitira ordenar mas comodamente los hdf5"
   ]
  },
  {
   "cell_type": "code",
   "execution_count": null,
   "metadata": {
    "collapsed": true
   },
   "outputs": [],
   "source": [
    "# Al parecer son equivalentes, aunque el __dict__ parece solo tener objetos con data \n",
    "# mientras que el diccionario original tiene mucho mnas cosas (una copia de si mismo al parecer)\n",
    "arx[:sweepLabelX] ==arx[:__dict__][\"sweepLabelX\"]"
   ]
  },
  {
   "cell_type": "code",
   "execution_count": null,
   "metadata": {
    "collapsed": true
   },
   "outputs": [],
   "source": [
    "for l in llaves\n",
    "    print(l, \", \")\n",
    "end"
   ]
  },
  {
   "cell_type": "code",
   "execution_count": null,
   "metadata": {
    "collapsed": true
   },
   "outputs": [],
   "source": [
    "arx.setSweep(0)\n",
    "arx.sweepCount"
   ]
  },
  {
   "cell_type": "code",
   "execution_count": null,
   "metadata": {
    "collapsed": true
   },
   "outputs": [],
   "source": [
    "tts=arx[:sweepX]\n",
    "vvs=arx[:sweepY]\n",
    "plot(tts,vvs)"
   ]
  },
  {
   "cell_type": "code",
   "execution_count": null,
   "metadata": {
    "collapsed": true
   },
   "outputs": [],
   "source": [
    "f=figure(figsize=(14,10))\n",
    "\n",
    "for k in 0:(arx[:sweepCount]-1)\n",
    "    arx[:setSweep](k)\n",
    "    tts=arx[:sweepX]\n",
    "    vvs=arx[:sweepY]\n",
    "    plot(tts,vvs,alpha=.5,label=\"sweep $k\")\n",
    "end\n",
    "legend()\n",
    "ylabel(arx[:sweepLabelY])\n",
    "xlabel(arx[:sweepLabelX])\n",
    "title(\"pyABF and Matplotlib are a great pair!\")\n"
   ]
  },
  {
   "cell_type": "code",
   "execution_count": null,
   "metadata": {
    "collapsed": true
   },
   "outputs": [],
   "source": [
    "arx.sweepList"
   ]
  },
  {
   "cell_type": "code",
   "execution_count": null,
   "metadata": {
    "collapsed": true
   },
   "outputs": [],
   "source": [
    "arx.sweepNumber"
   ]
  },
  {
   "cell_type": "code",
   "execution_count": null,
   "metadata": {
    "collapsed": true
   },
   "outputs": [],
   "source": [
    "arx.dataRate"
   ]
  },
  {
   "cell_type": "code",
   "execution_count": null,
   "metadata": {
    "collapsed": true
   },
   "outputs": [],
   "source": []
  }
 ],
 "metadata": {
  "@webio": {
   "lastCommId": "DD2C06F7AA9248078A061ED16A813261",
   "lastKernelId": "d9617533-481b-4edb-800c-a31093c01980"
  },
  "kernelspec": {
   "display_name": "Julia 1.3.0",
   "language": "julia",
   "name": "julia-1.3"
  },
  "language_info": {
   "file_extension": ".jl",
   "mimetype": "application/julia",
   "name": "julia",
   "version": "1.3.0"
  }
 },
 "nbformat": 4,
 "nbformat_minor": 2
}
