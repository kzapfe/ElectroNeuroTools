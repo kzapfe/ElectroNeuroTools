{
 "cells": [
  {
   "cell_type": "code",
   "execution_count": 3,
   "metadata": {},
   "outputs": [],
   "source": [
    "using PyCall\n",
    "using PyPlot"
   ]
  },
  {
   "cell_type": "code",
   "execution_count": 4,
   "metadata": {},
   "outputs": [
    {
     "ename": "PyCall.PyError",
     "evalue": "PyError (PyImport_ImportModule\n\nThe Python package pyabf could not be found by pyimport. Usually this means\nthat you did not install pyabf in the Python version being used by PyCall.\n\nPyCall is currently configured to use the Julia-specific Python distribution\ninstalled by the Conda.jl package.  To install the pyabf module, you can\nuse `pyimport_conda(\"pyabf\", PKG)`, where PKG is the Anaconda\npackage the contains the module pyabf, or alternatively you can use the\nConda package directly (via `using Conda` followed by `Conda.add` etcetera).\n\nAlternatively, if you want to use a different Python distribution on your\nsystem, such as a system-wide Python (as opposed to the Julia-specific Python),\nyou can re-configure PyCall with that Python.   As explained in the PyCall\ndocumentation, set ENV[\"PYTHON\"] to the path/name of the python executable\nyou want to use, run Pkg.build(\"PyCall\"), and re-launch Julia.\n\n) <class 'ModuleNotFoundError'>\nModuleNotFoundError(\"No module named 'pyabf'\")\n",
     "output_type": "error",
     "traceback": [
      "PyError (PyImport_ImportModule\n\nThe Python package pyabf could not be found by pyimport. Usually this means\nthat you did not install pyabf in the Python version being used by PyCall.\n\nPyCall is currently configured to use the Julia-specific Python distribution\ninstalled by the Conda.jl package.  To install the pyabf module, you can\nuse `pyimport_conda(\"pyabf\", PKG)`, where PKG is the Anaconda\npackage the contains the module pyabf, or alternatively you can use the\nConda package directly (via `using Conda` followed by `Conda.add` etcetera).\n\nAlternatively, if you want to use a different Python distribution on your\nsystem, such as a system-wide Python (as opposed to the Julia-specific Python),\nyou can re-configure PyCall with that Python.   As explained in the PyCall\ndocumentation, set ENV[\"PYTHON\"] to the path/name of the python executable\nyou want to use, run Pkg.build(\"PyCall\"), and re-launch Julia.\n\n) <class 'ModuleNotFoundError'>\nModuleNotFoundError(\"No module named 'pyabf'\")\n",
      "",
      "Stacktrace:",
      " [1] pyimport(::String) at /home/karel/.julia/packages/PyCall/a5Jd3/src/PyCall.jl:544",
      " [2] top-level scope at In[4]:1"
     ]
    }
   ],
   "source": [
    "pyabf=pyimport(\"pyabf\")"
   ]
  },
  {
   "cell_type": "code",
   "execution_count": null,
   "metadata": {},
   "outputs": [],
   "source": [
    "arx=pyabf.ABF(\"../ABFiles/Eduardo/CarbacholCA3.abf\") # sintaxis similar a PyPlot.jl"
   ]
  },
  {
   "cell_type": "code",
   "execution_count": null,
   "metadata": {},
   "outputs": [],
   "source": [
    "canales=arx.channelCount"
   ]
  },
  {
   "cell_type": "code",
   "execution_count": null,
   "metadata": {},
   "outputs": [],
   "source": [
    "llaves=keys(arx)"
   ]
  },
  {
   "cell_type": "code",
   "execution_count": null,
   "metadata": {},
   "outputs": [],
   "source": [
    "#este diccionario parece tener cosas interesantes\n",
    "for i in keys(arx[:__dict__])\n",
    "    print(i,\" , \")\n",
    "end "
   ]
  },
  {
   "cell_type": "code",
   "execution_count": null,
   "metadata": {},
   "outputs": [],
   "source": [
    "dictionario=arx.__dict__"
   ]
  },
  {
   "cell_type": "code",
   "execution_count": null,
   "metadata": {},
   "outputs": [],
   "source": [
    "dictionario[\"sweepLabelX\"]"
   ]
  },
  {
   "cell_type": "code",
   "execution_count": null,
   "metadata": {},
   "outputs": [],
   "source": [
    "arx.sweepLabelX  #esto parece ser mas simple y nos permitira ordenar mas comodamente los hdf5"
   ]
  },
  {
   "cell_type": "code",
   "execution_count": null,
   "metadata": {},
   "outputs": [],
   "source": [
    "# Al parecer son equivalentes, aunque el __dict__ parece solo tener objetos con data \n",
    "# mientras que el diccionario original tiene mucho mnas cosas (una copia de si mismo al parecer)\n",
    "arx[:sweepLabelX] ==arx[:__dict__][\"sweepLabelX\"]"
   ]
  },
  {
   "cell_type": "code",
   "execution_count": null,
   "metadata": {},
   "outputs": [],
   "source": [
    "for l in llaves\n",
    "    print(l, \", \")\n",
    "end"
   ]
  },
  {
   "cell_type": "code",
   "execution_count": null,
   "metadata": {},
   "outputs": [],
   "source": [
    "arx.setSweep(0)\n",
    "arx.sweepCount"
   ]
  },
  {
   "cell_type": "code",
   "execution_count": null,
   "metadata": {},
   "outputs": [],
   "source": [
    "tts=arx[:sweepX]\n",
    "vvs=arx[:sweepY]\n",
    "plot(tts,vvs)"
   ]
  },
  {
   "cell_type": "code",
   "execution_count": null,
   "metadata": {},
   "outputs": [],
   "source": [
    "f=figure(figsize=(14,10))\n",
    "\n",
    "for k in 0:(arx[:sweepCount]-1)\n",
    "    arx[:setSweep](k)\n",
    "    tts=arx[:sweepX]\n",
    "    vvs=arx[:sweepY]\n",
    "    plot(tts,vvs,alpha=.5,label=\"sweep $k\")\n",
    "end\n",
    "legend()\n",
    "ylabel(arx[:sweepLabelY])\n",
    "xlabel(arx[:sweepLabelX])\n",
    "title(\"pyABF and Matplotlib are a great pair!\")\n"
   ]
  },
  {
   "cell_type": "code",
   "execution_count": null,
   "metadata": {},
   "outputs": [],
   "source": [
    "arx.sweepList"
   ]
  },
  {
   "cell_type": "code",
   "execution_count": null,
   "metadata": {},
   "outputs": [],
   "source": [
    "arx.sweepNumber"
   ]
  },
  {
   "cell_type": "code",
   "execution_count": null,
   "metadata": {},
   "outputs": [],
   "source": [
    "arx.dataRate"
   ]
  },
  {
   "cell_type": "code",
   "execution_count": null,
   "metadata": {
    "collapsed": true
   },
   "outputs": [],
   "source": []
  }
 ],
 "metadata": {
  "@webio": {
   "lastCommId": "DD2C06F7AA9248078A061ED16A813261",
   "lastKernelId": "d9617533-481b-4edb-800c-a31093c01980"
  },
  "kernelspec": {
   "display_name": "Julia 1.0.3",
   "language": "julia",
   "name": "julia-1.0"
  },
  "language_info": {
   "file_extension": ".jl",
   "mimetype": "application/julia",
   "name": "julia",
   "version": "1.0.3"
  }
 },
 "nbformat": 4,
 "nbformat_minor": 2
}
