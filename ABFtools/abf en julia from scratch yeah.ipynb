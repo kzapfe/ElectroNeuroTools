{
 "cells": [
  {
   "cell_type": "markdown",
   "metadata": {},
   "source": [
    "Por alguna razón, si leemos (read) dos veces el archivo (arx) abierto, la segunda vez nos da un array vacio. \n",
    "Asi que mas bien lo leemos y lo cerramos de una.\n",
    "Al parecer es porque read avanza en el registor, así que si no especificamos el número de bytes o pasos, pus nos leemos todo y quedamos al final. De todas formas por seguridad de cosas que no entiendo, dejemos el close."
   ]
  },
  {
   "cell_type": "code",
   "execution_count": 2,
   "metadata": {},
   "outputs": [],
   "source": [
    "arx=open(\"../ABFiles/Eduardo/CA3_50UMcarbachol_EMAD_060319_raton.abf\", \"r\")\n",
    "databin=read(arx)\n",
    "close(arx)"
   ]
  },
  {
   "cell_type": "code",
   "execution_count": 3,
   "metadata": {},
   "outputs": [
    {
     "data": {
      "text/plain": [
       "Array{UInt8,1}"
      ]
     },
     "execution_count": 3,
     "metadata": {},
     "output_type": "execute_result"
    }
   ],
   "source": [
    "typeof(databin) # Los datos estan en bytes separados en palabras de 8 bytes."
   ]
  },
  {
   "cell_type": "code",
   "execution_count": 4,
   "metadata": {},
   "outputs": [
    {
     "data": {
      "text/plain": [
       "4-element Array{UInt8,1}:\n",
       " 0x41\n",
       " 0x42\n",
       " 0x46\n",
       " 0x32"
      ]
     },
     "execution_count": 4,
     "metadata": {},
     "output_type": "execute_result"
    }
   ],
   "source": [
    "head=databin[1:4]"
   ]
  },
  {
   "cell_type": "code",
   "execution_count": 5,
   "metadata": {},
   "outputs": [
    {
     "data": {
      "text/plain": [
       "(\"50\", \"101\", '2')"
      ]
     },
     "execution_count": 5,
     "metadata": {},
     "output_type": "execute_result"
    }
   ],
   "source": [
    "string(head[4]), string(50, base=7), Char(head[4])"
   ]
  },
  {
   "cell_type": "markdown",
   "metadata": {},
   "source": [
    "Lo que descubrió swharden es que el 4 número nos dice si es un abf1 o un abf2. Si el número es un espacio (en ASCII es el número 32) es un abf1. Si es un 50 (ASCII para \"2\") es un abf2:\n",
    " - ascii 32 es espacio -> abf1\n",
    " - ascii 50 es 2 -> abf2"
   ]
  },
  {
   "cell_type": "code",
   "execution_count": 6,
   "metadata": {},
   "outputs": [
    {
     "data": {
      "text/plain": [
       "50"
      ]
     },
     "execution_count": 6,
     "metadata": {},
     "output_type": "execute_result"
    }
   ],
   "source": [
    "convert(Int,databin[4]) #aquí vemos que tipo de archivo es. Curiosamente 0x32 es 50, no 32. ( 3 * 16 +2 )"
   ]
  },
  {
   "cell_type": "code",
   "execution_count": 7,
   "metadata": {},
   "outputs": [
    {
     "data": {
      "text/plain": [
       "4-element Array{Char,1}:\n",
       " 'A'\n",
       " 'B'\n",
       " 'F'\n",
       " '2'"
      ]
     },
     "execution_count": 7,
     "metadata": {},
     "output_type": "execute_result"
    }
   ],
   "source": [
    "map(Char, head) # and here it is"
   ]
  },
  {
   "cell_type": "code",
   "execution_count": 8,
   "metadata": {},
   "outputs": [
    {
     "name": "stdout",
     "output_type": "stream",
     "text": [
      "Tenemos un archivo abf2\n"
     ]
    }
   ],
   "source": [
    "if( Char(head[4])=='2')\n",
    "    println( \"Tenemos un archivo abf2\")\n",
    "elseif ( Char(head[4])==' ')\n",
    "    println( \"Tenemos un archivo abf1\")\n",
    "else\n",
    "    println( \"no tengo zorra idea de que es esto\")\n",
    "end"
   ]
  },
  {
   "cell_type": "code",
   "execution_count": 10,
   "metadata": {},
   "outputs": [
    {
     "data": {
      "text/plain": [
       "4-element Array{UInt8,1}:\n",
       " 0x01\n",
       " 0x00\n",
       " 0x00\n",
       " 0x00"
      ]
     },
     "execution_count": 10,
     "metadata": {},
     "output_type": "execute_result"
    }
   ],
   "source": [
    "aver=databin[13:16]"
   ]
  },
  {
   "cell_type": "code",
   "execution_count": 11,
   "metadata": {},
   "outputs": [
    {
     "data": {
      "text/plain": [
       "1"
      ]
     },
     "execution_count": 11,
     "metadata": {},
     "output_type": "execute_result"
    }
   ],
   "source": [
    "averviendo=IOBuffer(aver)\n",
    "read(averviendo, Int32)"
   ]
  },
  {
   "cell_type": "code",
   "execution_count": 52,
   "metadata": {},
   "outputs": [
    {
     "data": {
      "text/plain": [
       "\"ABF \""
      ]
     },
     "execution_count": 52,
     "metadata": {},
     "output_type": "execute_result"
    }
   ],
   "source": [
    "averviendo=IOBuffer(head)\n",
    "encabezado=read(averviendo, String)"
   ]
  },
  {
   "cell_type": "code",
   "execution_count": 53,
   "metadata": {},
   "outputs": [
    {
     "data": {
      "text/plain": [
       "String"
      ]
     },
     "execution_count": 53,
     "metadata": {},
     "output_type": "execute_result"
    }
   ],
   "source": [
    "typeof(encabezado)"
   ]
  },
  {
   "cell_type": "code",
   "execution_count": 14,
   "metadata": {},
   "outputs": [
    {
     "data": {
      "text/plain": [
       "readfrombyn (generic function with 1 method)"
      ]
     },
     "execution_count": 14,
     "metadata": {},
     "output_type": "execute_result"
    }
   ],
   "source": [
    "function readfrombyn(data::Array{UInt8,1}, startbyte::Int, endbyte::Int, typeout::Type)\n",
    "    # reads byte data for an array, and interprets as typeout, returnint it.\n",
    "    rango=startbyte:endbyte\n",
    "    aux=IOBuffer(data[rango])\n",
    "    result=read(aux, typeout)\n",
    "    return result\n",
    "end"
   ]
  },
  {
   "cell_type": "code",
   "execution_count": 15,
   "metadata": {},
   "outputs": [
    {
     "data": {
      "text/plain": [
       "\"ABF2\""
      ]
     },
     "execution_count": 15,
     "metadata": {},
     "output_type": "execute_result"
    }
   ],
   "source": [
    "readfrombyn(databin, 1, 4, String)"
   ]
  },
  {
   "cell_type": "code",
   "execution_count": 39,
   "metadata": {},
   "outputs": [
    {
     "data": {
      "text/plain": [
       "Float16(0.0)"
      ]
     },
     "execution_count": 39,
     "metadata": {},
     "output_type": "execute_result"
    }
   ],
   "source": [
    "aux=IOBuffer(databin[5:8])\n",
    "read(aux, Float16)"
   ]
  },
  {
   "cell_type": "code",
   "execution_count": 17,
   "metadata": {},
   "outputs": [
    {
     "ename": "EOFError",
     "evalue": "EOFError: read end of file",
     "output_type": "error",
     "traceback": [
      "EOFError: read end of file",
      "",
      "Stacktrace:",
      " [1] read(::Base.GenericIOBuffer{Array{UInt8,1}}, ::Type{Float16}) at ./iobuffer.jl:175",
      " [2] readfrombyn(::Array{UInt8,1}, ::Int64, ::Int64, ::Type) at ./In[14]:5",
      " [3] top-level scope at In[17]:1"
     ]
    }
   ],
   "source": [
    "fFileVersionNumber = readfrombyn(databin, 5,5, Float16)"
   ]
  },
  {
   "cell_type": "markdown",
   "metadata": {},
   "source": [
    "# Encabezado de un ABF1\n",
    "\n",
    "mmmm tal vez podemos hacer un programa QUE AUTOMATICE esta conversion!"
   ]
  },
  {
   "cell_type": "code",
   "execution_count": null,
   "metadata": {
    "collapsed": true
   },
   "outputs": [],
   "source": [
    "fFileSignature = readfrombyn(f, 1, 4, String )\n",
    "fFileVersionNumber = readfrombyn(f, 5,8, Float16)\n",
    "nOperationMode = readfrombyn(f, \"h\", 8)\n",
    "lActualAcqLength = readfrombyn(f, \"i\", 10)\n",
    "nNumPointsIgnored = readfrombyn(f, \"h\", 14)\n",
    "lActualEpisodes = readfrombyn(f, \"i\", 16)\n",
    "lFileStartTime = readfrombyn(f, \"i\", 24)\n",
    "lDataSectionPtr = readfrombyn(f, \"i\", 40)\n",
    "lTagSectionPtr = readfrombyn(f, \"i\", 44)\n",
    "lNumTagEntries = readfrombyn(f, \"i\", 48)\n",
    "lSynchArrayPtr = readfrombyn(f, \"i\", 92)\n",
    "lSynchArraySize = readfrombyn(f, \"i\", 96)\n",
    "nDataFormat = readfrombyn(f, \"h\", 100)\n",
    "nADCNumChannels = readfrombyn(f, \"h\", 120)\n",
    "fADCSampleInterval = readfrombyn(f, \"f\", 122)\n",
    "fSynchTimeUnit = readfrombyn(f, \"f\", 130)\n",
    "lNumSamplesPerEpisode = readfrombyn(f, \"i\", 138)\n",
    "lPreTriggerSamples = readfrombyn(f, \"i\", 142)\n",
    "lEpisodesPerRun = readfrombyn(f, \"i\", 146)\n",
    "fADCRange = readfrombyn(f, \"f\", 244)\n",
    "lADCResolution = readfrombyn(f, \"i\", 252)\n",
    "nFileStartMillisecs = readfrombyn(f, \"h\", 366)\n",
    "nADCPtoLChannelMap = readfrombyn(f, \"16h\", 378)\n",
    "nADCSamplingSeq = readfrombyn(f, \"16h\", 410)\n",
    "sADCChannelName = readfrombyn(f, \"10s\"*16, 442)\n",
    "sADCUnits = readfrombyn(f, \"8s\"*16, 602)\n",
    "fADCProgrammableGain = readfrombyn(f, \"16f\", 730)\n",
    "fInstrument\n",
    "= readfrombyn(f, \"16f\", 922)\n",
    "fInstrumentOffset = readfrombyn(f, \"16f\", 986)\n",
    "fSignalGain = readfrombyn(f, \"16f\", 1050)\n",
    "fSignalOffset = readfrombyn(f, \"16f\", 1114)\n",
    "nDigitalEnable = readfrombyn(f, \"h\", 1436)\n",
    "nActiveDACChannel = readfrombyn(f, \"h\", 1440)\n",
    "nDigitalHolding = readfrombyn(f, \"h\", 1584)\n",
    "nDigitalInterEpisode = readfrombyn(f, \"h\", 1586)\n",
    "nDigitalValue = readfrombyn(f, \"10h\", 2588)\n",
    "lDACFilePtr = readfrombyn(f, \"2i\", 2048)\n",
    "lDACFileNumEpisodes = readfrombyn(f, \"2i\", 2056)\n",
    "fDACCalibrationFactor = readfrombyn(f, \"4f\", 2074)\n",
    "fDACCalibrationOffset = readfrombyn(f, \"4f\", 2090)\n",
    "nWaveformEnable = readfrombyn(f, \"2h\", 2296)\n",
    "nWaveformSource = readfrombyn(f, \"2h\", 2300)\n",
    "nInterEpisodeLevel = readfrombyn(f, \"2h\", 2304)\n",
    "nEpochType = readfrombyn(f, \"20h\", 2308)\n",
    "fEpochInitLevel = readfrombyn(f, \"20f\", 2348)\n",
    "fEpochLevelInc = readfrombyn(f, \"20f\", 2428)\n",
    "lEpochInitDuration = readfrombyn(f, \"20i\", 2508)\n",
    "lEpochDurationInc = readfrombyn(f, \"20i\", 2588)\n",
    "nTelegraphEnable = readfrombyn(f, \"16h\", 4512)\n",
    "fTelegraphAdditGain = readfrombyn(f, \"16f\", 4576)\n",
    "sProtocolPath = readfrombyn(f, \"384s\", 4898)"
   ]
  }
 ],
 "metadata": {
  "@webio": {
   "lastCommId": "60b1b2ac469c4ed799191ed6855dd670",
   "lastKernelId": "6bc6c045-8e95-4f92-8bcd-e2c21d660d35"
  },
  "kernelspec": {
   "display_name": "Julia 1.0.3",
   "language": "julia",
   "name": "julia-1.0"
  },
  "language_info": {
   "file_extension": ".jl",
   "mimetype": "application/julia",
   "name": "julia",
   "version": "1.0.3"
  }
 },
 "nbformat": 4,
 "nbformat_minor": 2
}
