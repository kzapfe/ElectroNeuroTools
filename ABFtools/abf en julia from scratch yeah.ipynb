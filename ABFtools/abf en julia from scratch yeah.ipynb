{
 "cells": [
  {
   "cell_type": "markdown",
   "metadata": {},
   "source": [
    "Por alguna razón, si leemos (read) dos veces el archivo (arx) abierto, la segunda vez nos da un array vacio. \n",
    "Asi que mas bien lo leemos y lo cerramos de una.\n",
    "Al parecer es porque read avanza en el registor, así que si no especificamos el número de bytes o pasos, pus nos leemos todo y quedamos al final. De todas formas por seguridad de cosas que no entiendo, dejemos el close."
   ]
  },
  {
   "cell_type": "code",
   "execution_count": 36,
   "metadata": {
    "collapsed": true
   },
   "outputs": [],
   "source": [
    "arx=open(\"../ABFiles/Eduardo/C1C31000.DAT\", \"r\")\n",
    "databin=read(arx)\n",
    "close(arx)"
   ]
  },
  {
   "cell_type": "code",
   "execution_count": 37,
   "metadata": {},
   "outputs": [
    {
     "data": {
      "text/plain": [
       "Array{UInt8,1}"
      ]
     },
     "execution_count": 37,
     "metadata": {},
     "output_type": "execute_result"
    }
   ],
   "source": [
    "typeof(databin) # Los datos estan en bytes separados en palabras de 8 bytes."
   ]
  },
  {
   "cell_type": "code",
   "execution_count": 38,
   "metadata": {},
   "outputs": [
    {
     "data": {
      "text/plain": [
       "4-element Array{UInt8,1}:\n",
       " 0x41\n",
       " 0x42\n",
       " 0x46\n",
       " 0x20"
      ]
     },
     "execution_count": 38,
     "metadata": {},
     "output_type": "execute_result"
    }
   ],
   "source": [
    "head=databin[1:4]"
   ]
  },
  {
   "cell_type": "code",
   "execution_count": 39,
   "metadata": {},
   "outputs": [
    {
     "data": {
      "text/plain": [
       "4"
      ]
     },
     "execution_count": 39,
     "metadata": {},
     "output_type": "execute_result"
    }
   ],
   "source": [
    "sizeof(Float32)"
   ]
  },
  {
   "cell_type": "code",
   "execution_count": 40,
   "metadata": {},
   "outputs": [
    {
     "data": {
      "text/plain": [
       "(\"32\", \"101\", ' ')"
      ]
     },
     "execution_count": 40,
     "metadata": {},
     "output_type": "execute_result"
    }
   ],
   "source": [
    "string(head[4]), string(50, base=7), Char(head[4])"
   ]
  },
  {
   "cell_type": "markdown",
   "metadata": {},
   "source": [
    "Lo que descubrió swharden es que el 4 número nos dice si es un abf1 o un abf2. Si el número es un espacio (en ASCII es el número 32) es un abf1. Si es un 50 (ASCII para \"2\") es un abf2:\n",
    " - ascii 32 es espacio -> abf1\n",
    " - ascii 50 es 2 -> abf2"
   ]
  },
  {
   "cell_type": "code",
   "execution_count": 41,
   "metadata": {},
   "outputs": [
    {
     "data": {
      "text/plain": [
       "32"
      ]
     },
     "execution_count": 41,
     "metadata": {},
     "output_type": "execute_result"
    }
   ],
   "source": [
    "convert(Int,databin[4]) #aquí vemos que tipo de archivo es. Curiosamente 0x32 es 50, no 32. ( 3 * 16 +2 )"
   ]
  },
  {
   "cell_type": "code",
   "execution_count": 42,
   "metadata": {},
   "outputs": [
    {
     "data": {
      "text/plain": [
       "4-element Array{Char,1}:\n",
       " 'A'\n",
       " 'B'\n",
       " 'F'\n",
       " ' '"
      ]
     },
     "execution_count": 42,
     "metadata": {},
     "output_type": "execute_result"
    }
   ],
   "source": [
    "map(Char, head) # and here it is"
   ]
  },
  {
   "cell_type": "code",
   "execution_count": 43,
   "metadata": {},
   "outputs": [
    {
     "name": "stdout",
     "output_type": "stream",
     "text": [
      "Tenemos un archivo abf1\n"
     ]
    }
   ],
   "source": [
    "if( Char(head[4])=='2')\n",
    "    println( \"Tenemos un archivo abf2\")\n",
    "elseif ( Char(head[4])==' ')\n",
    "    println( \"Tenemos un archivo abf1\")\n",
    "else\n",
    "    println( \"no tengo zorra idea de que es esto\")\n",
    "end"
   ]
  },
  {
   "cell_type": "code",
   "execution_count": 44,
   "metadata": {},
   "outputs": [
    {
     "data": {
      "text/plain": [
       "4-element Array{UInt8,1}:\n",
       " 0x16\n",
       " 0x00\n",
       " 0x00\n",
       " 0x00"
      ]
     },
     "execution_count": 44,
     "metadata": {},
     "output_type": "execute_result"
    }
   ],
   "source": [
    "aver=databin[13:16]"
   ]
  },
  {
   "cell_type": "code",
   "execution_count": 45,
   "metadata": {},
   "outputs": [
    {
     "data": {
      "text/plain": [
       "22"
      ]
     },
     "execution_count": 45,
     "metadata": {},
     "output_type": "execute_result"
    }
   ],
   "source": [
    "averviendo=IOBuffer(aver)\n",
    "read(averviendo, Int32)"
   ]
  },
  {
   "cell_type": "code",
   "execution_count": 46,
   "metadata": {},
   "outputs": [
    {
     "data": {
      "text/plain": [
       "\"ABF \""
      ]
     },
     "execution_count": 46,
     "metadata": {},
     "output_type": "execute_result"
    }
   ],
   "source": [
    "averviendo=IOBuffer(head)\n",
    "encabezado=read(averviendo, String)"
   ]
  },
  {
   "cell_type": "code",
   "execution_count": 47,
   "metadata": {},
   "outputs": [
    {
     "data": {
      "text/plain": [
       "String"
      ]
     },
     "execution_count": 47,
     "metadata": {},
     "output_type": "execute_result"
    }
   ],
   "source": [
    "typeof(encabezado)"
   ]
  },
  {
   "cell_type": "code",
   "execution_count": 48,
   "metadata": {},
   "outputs": [
    {
     "data": {
      "text/plain": [
       "readfrombyn (generic function with 1 method)"
      ]
     },
     "execution_count": 48,
     "metadata": {},
     "output_type": "execute_result"
    }
   ],
   "source": [
    "function readfrombyn(data::Array{UInt8,1}, startbyte::Int, endbyte::Int, typeout::Type)\n",
    "    # reads byte data for an array, and interprets as typeout, returnint it.\n",
    "    rango=startbyte:endbyte\n",
    "    aux=IOBuffer(data[rango])\n",
    "    result=read(aux, typeout)\n",
    "    return result\n",
    "end"
   ]
  },
  {
   "cell_type": "code",
   "execution_count": 49,
   "metadata": {},
   "outputs": [
    {
     "data": {
      "text/plain": [
       "\"ABF \""
      ]
     },
     "execution_count": 49,
     "metadata": {},
     "output_type": "execute_result"
    }
   ],
   "source": [
    "readfrombyn(databin, 1, 4, String)"
   ]
  },
  {
   "cell_type": "code",
   "execution_count": 50,
   "metadata": {},
   "outputs": [
    {
     "data": {
      "text/plain": [
       "Float16(1638.0)"
      ]
     },
     "execution_count": 50,
     "metadata": {},
     "output_type": "execute_result"
    }
   ],
   "source": [
    "aux=IOBuffer(databin[5:8])\n",
    "read(aux, Float16)"
   ]
  },
  {
   "cell_type": "code",
   "execution_count": 51,
   "metadata": {},
   "outputs": [
    {
     "data": {
      "text/plain": [
       "Float16(1638.0)"
      ]
     },
     "execution_count": 51,
     "metadata": {},
     "output_type": "execute_result"
    }
   ],
   "source": [
    "fFileVersionNumber = readfrombyn(databin, 5,8, Float16)"
   ]
  },
  {
   "cell_type": "code",
   "execution_count": 66,
   "metadata": {},
   "outputs": [
    {
     "ename": "ErrorException",
     "evalue": "The IO stream does not support reading objects of type Array{Int16,16}.",
     "output_type": "error",
     "traceback": [
      "The IO stream does not support reading objects of type Array{Int16,16}.",
      "",
      "Stacktrace:",
      " [1] read(::Base.GenericIOBuffer{Array{UInt8,1}}, ::Type) at ./io.jl:833",
      " [2] readfrombyn(::Array{UInt8,1}, ::Int64, ::Int64, ::Type) at ./In[48]:5",
      " [3] top-level scope at In[66]:1"
     ]
    }
   ],
   "source": [
    "nADCPtoLChannelMap = readfrombyn(databin, 379, 410, Array{Int16,16})\n"
   ]
  },
  {
   "cell_type": "code",
   "execution_count": 59,
   "metadata": {},
   "outputs": [
    {
     "data": {
      "text/plain": [
       "8388673"
      ]
     },
     "execution_count": 59,
     "metadata": {},
     "output_type": "execute_result"
    }
   ],
   "source": [
    "nOperationMode = readfrombyn(databin, 9,10, Int16)\n",
    "lActualAcqLength = readfrombyn(databin, 11,14, Int32)\n",
    "lTagSectionPtr = readfrombyn(databin, 45,48,  Int32)\n",
    "lEpisodesPerRun = readfrombyn(databin, 147, 150, Int32)\n",
    "lADCResolution = readfrombyn(databin, 252,255, Int32)\n"
   ]
  },
  {
   "cell_type": "markdown",
   "metadata": {},
   "source": [
    "# Encabezado de un ABF1\n",
    "\n",
    "mmmm tal vez podemos hacer un programa QUE AUTOMATICE esta conversion!"
   ]
  },
  {
   "cell_type": "code",
   "execution_count": 60,
   "metadata": {},
   "outputs": [
    {
     "ename": "UndefVarError",
     "evalue": "UndefVarError: f not defined",
     "output_type": "error",
     "traceback": [
      "UndefVarError: f not defined",
      "",
      "Stacktrace:",
      " [1] top-level scope at In[60]:1"
     ]
    }
   ],
   "source": [
    "fFileSignature = readfrombyn(f, 1, 4, String )\n",
    "fFileVersionNumber = readfrombyn(f, 5,8, Float16)\n",
    "nOperationMode = readfrombyn(f, 9,10, Int16)\n",
    "lActualAcqLength = readfrombyn(f, 11,14, Int32)\n",
    "nNumPointsIgnored = readfrombyn(f , 15, 16, Int16)\n",
    "lActualEpisodes = readfrombyn(f, 17,24, Int32)\n",
    "lFileStartTime = readfrombyn(f, 25,40 Int32)\n",
    "lDataSectionPtr = readfrombyn(f, 41,44, Int32)\n",
    "lTagSectionPtr = readfrombyn(f, 45,48,  Int32)\n",
    "lNumTagEntries = readfrombyn(f, 49,92, Int32)\n",
    "lSynchArrayPtr = readfrombyn(f, 93, 96, Int32)\n",
    "lSynchArraySize = readfrombyn(f, 97,100, Int32)\n",
    "nDataFormat = readfrombyn(f, 101,120, Int16)\n",
    "nADCNumChannels = readfrombyn(f, 121,122, Int16)\n",
    "fADCSampleInterval = readfrombyn(f, 123, 130, Float16)\n",
    "fSynchTimeUnit = readfrombyn(f, 131,138, Float16)\n",
    "lNumSamplesPerEpisode = readfrombyn(f, 139,142, Int32)\n",
    "lPreTriggerSamples = readfrombyn(f, 143, 146, Int32)\n",
    "lEpisodesPerRun = readfrombyn(f, 147, 150, Int32)\n",
    "fADCRange = readfrombyn(f, 245,252, Float16)\n",
    "lADCResolution = readfrombyn(f, 252,255, Int32)\n",
    "nFileStartMillisecs = readfrombyn(f, 367,368, Int16)\n",
    "nADCPtoLChannelMap = readfrombyn(f, 379, 410, Array{Int16})\n",
    "nADCSamplingSeq = readfrombyn(f, \"16h\", 410)\n",
    "sADCChannelName = readfrombyn(f, \"10s\"*16, 442)\n",
    "sADCUnits = readfrombyn(f, \"8s\"*16, 602)\n",
    "fADCProgrammableGain = readfrombyn(f, \"16f\", 730)\n",
    "fInstrument\n",
    "= readfrombyn(f, \"16f\", 922)\n",
    "fInstrumentOffset = readfrombyn(f, \"16f\", 986)\n",
    "fSignalGain = readfrombyn(f, \"16f\", 1050)\n",
    "fSignalOffset = readfrombyn(f, \"16f\", 1114)\n",
    "nDigitalEnable = readfrombyn(f, \"h\", 1436)\n",
    "nActiveDACChannel = readfrombyn(f, \"h\", 1440)\n",
    "nDigitalHolding = readfrombyn(f, \"h\", 1584)\n",
    "nDigitalInterEpisode = readfrombyn(f, \"h\", 1586)\n",
    "nDigitalValue = readfrombyn(f, \"10h\", 2588)\n",
    "lDACFilePtr = readfrombyn(f, \"2i\", 2048)\n",
    "lDACFileNumEpisodes = readfrombyn(f, \"2i\", 2056)\n",
    "fDACCalibrationFactor = readfrombyn(f, \"4f\", 2074)\n",
    "fDACCalibrationOffset = readfrombyn(f, \"4f\", 2090)\n",
    "nWaveformEnable = readfrombyn(f, \"2h\", 2296)\n",
    "nWaveformSource = readfrombyn(f, \"2h\", 2300)\n",
    "nInterEpisodeLevel = readfrombyn(f, \"2h\", 2304)\n",
    "nEpochType = readfrombyn(f, \"20h\", 2308)\n",
    "fEpochInitLevel = readfrombyn(f, \"20f\", 2348)\n",
    "fEpochLevelInc = readfrombyn(f, \"20f\", 2428)\n",
    "lEpochInitDuration = readfrombyn(f, \"20i\", 2508)\n",
    "lEpochDurationInc = readfrombyn(f, \"20i\", 2588)\n",
    "nTelegraphEnable = readfrombyn(f, \"16h\", 4512)\n",
    "fTelegraphAdditGain = readfrombyn(f, \"16f\", 4576)\n",
    "sProtocolPath = readfrombyn(f, \"384s\", 4898)"
   ]
  },
  {
   "cell_type": "code",
   "execution_count": null,
   "metadata": {
    "collapsed": true
   },
   "outputs": [],
   "source": []
  }
 ],
 "metadata": {
  "@webio": {
   "lastCommId": "9F48B57AAE834769A7B5BE6D9675A63A",
   "lastKernelId": "0fc6dfc9-8b0d-4a5a-a8cc-6427504a7605"
  },
  "kernelspec": {
   "display_name": "Julia 1.0.3",
   "language": "julia",
   "name": "julia-1.0"
  },
  "language_info": {
   "file_extension": ".jl",
   "mimetype": "application/julia",
   "name": "julia",
   "version": "1.0.3"
  }
 },
 "nbformat": 4,
 "nbformat_minor": 2
}
