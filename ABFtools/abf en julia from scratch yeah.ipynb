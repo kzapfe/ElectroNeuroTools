{
 "cells": [
  {
   "cell_type": "markdown",
   "metadata": {},
   "source": [
    "Por alguna razón, si leemos (read) dos veces el archivo (arx) abierto, la segunda vez nos da un array vacio. \n",
    "Asi que mas bien lo leemos y lo cerramos de una.\n",
    "Al parecer es porque read avanza en el registor, así que si no especificamos el número de bytes o pasos, pus nos leemos todo y quedamos al final. De todas formas por seguridad de cosas que no entiendo, dejemos el close."
   ]
  },
  {
   "cell_type": "code",
   "execution_count": 1,
   "metadata": {
    "collapsed": true
   },
   "outputs": [],
   "source": [
    "arx=open(\"../ABFiles/Eduardo/C1C31000.DAT\", \"r\")\n",
    "databin=read(arx)\n",
    "close(arx)"
   ]
  },
  {
   "cell_type": "code",
   "execution_count": 2,
   "metadata": {},
   "outputs": [
    {
     "data": {
      "text/plain": [
       "Array{UInt8,1}"
      ]
     },
     "execution_count": 2,
     "metadata": {},
     "output_type": "execute_result"
    }
   ],
   "source": [
    "typeof(databin) # Los datos estan en bytes separados en palabras de 8 bytes."
   ]
  },
  {
   "cell_type": "code",
   "execution_count": 3,
   "metadata": {},
   "outputs": [
    {
     "data": {
      "text/plain": [
       "4-element Array{UInt8,1}:\n",
       " 0x41\n",
       " 0x42\n",
       " 0x46\n",
       " 0x20"
      ]
     },
     "execution_count": 3,
     "metadata": {},
     "output_type": "execute_result"
    }
   ],
   "source": [
    "head=databin[1:4]"
   ]
  },
  {
   "cell_type": "code",
   "execution_count": 4,
   "metadata": {},
   "outputs": [
    {
     "data": {
      "text/plain": [
       "4"
      ]
     },
     "execution_count": 4,
     "metadata": {},
     "output_type": "execute_result"
    }
   ],
   "source": [
    "sizeof(Float32)"
   ]
  },
  {
   "cell_type": "code",
   "execution_count": 5,
   "metadata": {},
   "outputs": [
    {
     "data": {
      "text/plain": [
       "(\"32\", \"101\", ' ')"
      ]
     },
     "execution_count": 5,
     "metadata": {},
     "output_type": "execute_result"
    }
   ],
   "source": [
    "string(head[4]), string(50, base=7), Char(head[4])"
   ]
  },
  {
   "cell_type": "markdown",
   "metadata": {},
   "source": [
    "Lo que descubrió swharden es que el 4 número nos dice si es un abf1 o un abf2. Si el número es un espacio (en ASCII es el número 32) es un abf1. Si es un 50 (ASCII para \"2\") es un abf2:\n",
    " - ascii 32 es espacio -> abf1\n",
    " - ascii 50 es 2 -> abf2"
   ]
  },
  {
   "cell_type": "code",
   "execution_count": 6,
   "metadata": {},
   "outputs": [
    {
     "data": {
      "text/plain": [
       "32"
      ]
     },
     "execution_count": 6,
     "metadata": {},
     "output_type": "execute_result"
    }
   ],
   "source": [
    "convert(Int,databin[4]) #aquí vemos que tipo de archivo es. Curiosamente 0x32 es 50, no 32. ( 3 * 16 +2 )"
   ]
  },
  {
   "cell_type": "code",
   "execution_count": 7,
   "metadata": {},
   "outputs": [
    {
     "data": {
      "text/plain": [
       "4-element Array{Char,1}:\n",
       " 'A'\n",
       " 'B'\n",
       " 'F'\n",
       " ' '"
      ]
     },
     "execution_count": 7,
     "metadata": {},
     "output_type": "execute_result"
    }
   ],
   "source": [
    "map(Char, head) # and here it is"
   ]
  },
  {
   "cell_type": "code",
   "execution_count": 8,
   "metadata": {},
   "outputs": [
    {
     "name": "stdout",
     "output_type": "stream",
     "text": [
      "Tenemos un archivo abf1\n"
     ]
    }
   ],
   "source": [
    "if( Char(head[4])=='2')\n",
    "    println( \"Tenemos un archivo abf2\")\n",
    "elseif ( Char(head[4])==' ')\n",
    "    println( \"Tenemos un archivo abf1\")\n",
    "else\n",
    "    println( \"no tengo zorra idea de que es esto\")\n",
    "end"
   ]
  },
  {
   "cell_type": "code",
   "execution_count": 9,
   "metadata": {},
   "outputs": [
    {
     "data": {
      "text/plain": [
       "4-element Array{UInt8,1}:\n",
       " 0x16\n",
       " 0x00\n",
       " 0x00\n",
       " 0x00"
      ]
     },
     "execution_count": 9,
     "metadata": {},
     "output_type": "execute_result"
    }
   ],
   "source": [
    "aver=databin[13:16]"
   ]
  },
  {
   "cell_type": "code",
   "execution_count": 10,
   "metadata": {},
   "outputs": [
    {
     "data": {
      "text/plain": [
       "22"
      ]
     },
     "execution_count": 10,
     "metadata": {},
     "output_type": "execute_result"
    }
   ],
   "source": [
    "averviendo=IOBuffer(aver)\n",
    "read(averviendo, Int32)"
   ]
  },
  {
   "cell_type": "code",
   "execution_count": 11,
   "metadata": {},
   "outputs": [
    {
     "data": {
      "text/plain": [
       "\"ABF \""
      ]
     },
     "execution_count": 11,
     "metadata": {},
     "output_type": "execute_result"
    }
   ],
   "source": [
    "averviendo=IOBuffer(head)\n",
    "encabezado=read(averviendo, String)"
   ]
  },
  {
   "cell_type": "code",
   "execution_count": 12,
   "metadata": {},
   "outputs": [
    {
     "data": {
      "text/plain": [
       "String"
      ]
     },
     "execution_count": 12,
     "metadata": {},
     "output_type": "execute_result"
    }
   ],
   "source": [
    "typeof(encabezado)"
   ]
  },
  {
   "cell_type": "code",
   "execution_count": 13,
   "metadata": {},
   "outputs": [
    {
     "data": {
      "text/plain": [
       "readfrombyn (generic function with 2 methods)"
      ]
     },
     "execution_count": 13,
     "metadata": {},
     "output_type": "execute_result"
    }
   ],
   "source": [
    "function readfrombyn(data::Array{UInt8,1}, startbyte::Int, endbyte::Int, typeout::Type, n=1::Int)\n",
    "    # reads byte data for an array, and interprets as typeout, returnint it.\n",
    "    # n tells if we want only one pieze of info or an array.\n",
    "    # String is an exception, typeof can be String and we let n=1\n",
    "    rango=startbyte:endbyte\n",
    "    aux=IOBuffer(data[rango])\n",
    " \n",
    "    if n==1   \n",
    "        rango=startbyte:endbyte\n",
    "        aux=IOBuffer(data[rango])\n",
    "        result=read(aux, typeout)\n",
    "    else\n",
    "        result=Array{typeout}(undef, n)\n",
    "        sz=sizeof(typeout)\n",
    "        for k=1:n\n",
    "            ranguito=(startbyte+(k-1)*sz):(startbyte+(k)*sz)\n",
    "            aux=IOBuffer(data[ranguito])\n",
    "            result[k]=read(aux, typeout)\n",
    "        end\n",
    "    end\n",
    "        \n",
    "    return result\n",
    "end"
   ]
  },
  {
   "cell_type": "code",
   "execution_count": 14,
   "metadata": {},
   "outputs": [
    {
     "data": {
      "text/plain": [
       "String"
      ]
     },
     "execution_count": 14,
     "metadata": {},
     "output_type": "execute_result"
    }
   ],
   "source": [
    "a=readfrombyn(databin, 1, 4, String)\n",
    "ab=typeof(a)"
   ]
  },
  {
   "cell_type": "code",
   "execution_count": 15,
   "metadata": {},
   "outputs": [
    {
     "data": {
      "text/plain": [
       "Float16(1638.0)"
      ]
     },
     "execution_count": 15,
     "metadata": {},
     "output_type": "execute_result"
    }
   ],
   "source": [
    "aux=IOBuffer(databin[5:8])\n",
    "read(aux, Float16)"
   ]
  },
  {
   "cell_type": "code",
   "execution_count": 16,
   "metadata": {},
   "outputs": [
    {
     "data": {
      "text/plain": [
       "Float16(1638.0)"
      ]
     },
     "execution_count": 16,
     "metadata": {},
     "output_type": "execute_result"
    }
   ],
   "source": [
    "ffv = readfrombyn(databin, 5,8, Float16)"
   ]
  },
  {
   "cell_type": "code",
   "execution_count": 17,
   "metadata": {},
   "outputs": [
    {
     "data": {
      "text/plain": [
       "16-element Array{Int16,1}:\n",
       "  0\n",
       "  1\n",
       "  2\n",
       "  3\n",
       "  4\n",
       "  5\n",
       "  6\n",
       "  7\n",
       "  8\n",
       "  9\n",
       " 10\n",
       " 11\n",
       " 12\n",
       " 13\n",
       " 14\n",
       " 15"
      ]
     },
     "execution_count": 17,
     "metadata": {},
     "output_type": "execute_result"
    }
   ],
   "source": [
    "nstyck= readfrombyn(databin, 379, 410, Int16, 16)\n"
   ]
  },
  {
   "cell_type": "markdown",
   "metadata": {},
   "source": [
    "# Encabezado de un ABF1\n",
    "\n",
    "mmmm tal vez podemos hacer un programa QUE AUTOMATICE esta conversion!"
   ]
  },
  {
   "cell_type": "code",
   "execution_count": 18,
   "metadata": {},
   "outputs": [
    {
     "data": {
      "text/plain": [
       "16-element Array{Int16,1}:\n",
       "  2\n",
       "  3\n",
       " -1\n",
       " -1\n",
       " -1\n",
       " -1\n",
       " -1\n",
       " -1\n",
       " -1\n",
       " -1\n",
       " -1\n",
       " -1\n",
       " -1\n",
       " -1\n",
       " -1\n",
       " -1"
      ]
     },
     "execution_count": 18,
     "metadata": {},
     "output_type": "execute_result"
    }
   ],
   "source": [
    "fFileSignature  = readfrombyn(databin, 1, 4, String )\n",
    "fFileVersionNumber  = readfrombyn(databin, 5,8, Float16)\n",
    "nOperationMode  = readfrombyn(databin, 9,10, Int16)\n",
    "lActualAcqLength  = readfrombyn(databin, 11,14, Int32)\n",
    "nNumPointsIgnored  = readfrombyn(databin, 15, 16, Int16)\n",
    "lActualEpisodes  = readfrombyn(databin, 17,24, Int32)\n",
    "lFileStartTime  = readfrombyn(databin, 25,40, Int32)\n",
    "lDataSectionPtr  = readfrombyn(databin, 41,44, Int32)\n",
    "lTagSectionPtr  = readfrombyn(databin, 45,48,  Int32)\n",
    "lNumTagEntries  = readfrombyn(databin, 49,92, Int32)\n",
    "lSynchArrayPtr  = readfrombyn(databin, 93, 96, Int32)\n",
    "lSynchArraySize  = readfrombyn(databin, 97,100, Int32)\n",
    "nDataFormat  = readfrombyn(databin, 101,120, Int16)\n",
    "nADCNumChannels  = readfrombyn(databin, 121,122, Int16)\n",
    "fADCSampleInterval  = readfrombyn(databin, 123, 130, Float16)\n",
    "fSynchTimeUnit  = readfrombyn(databin, 131,138, Float16)\n",
    "lNumSamplesPerEpisode  = readfrombyn(databin, 139,142, Int32)\n",
    "lPreTriggerSamples  = readfrombyn(databin, 143, 146, Int32)\n",
    "lEpisodesPerRun  = readfrombyn(databin, 147, 150, Int32)\n",
    "fADCRange  = readfrombyn(databin, 245,252, Float16)\n",
    "lADCResolution  = readfrombyn(databin, 252,255, Int32)\n",
    "nFileStartMillisecs  = readfrombyn(databin, 367,368, Int16)\n",
    "nADCPtoLChannelMap = readfrombyn(databin, 379, 410, Int16,16)\n",
    "nADCSamplingSeq = readfrombyn(databin, 411, 442, Int16,16)"
   ]
  },
  {
   "cell_type": "code",
   "execution_count": 29,
   "metadata": {},
   "outputs": [
    {
     "data": {
      "text/plain": [
       "355"
      ]
     },
     "execution_count": 29,
     "metadata": {},
     "output_type": "execute_result"
    }
   ],
   "source": []
  },
  {
   "cell_type": "markdown",
   "metadata": {},
   "source": [
    "Dado que String es una excepcion, para las proximas dos lecturas vamos a tener que hacer algo rarito:\n",
    "dividir en cachos el endiablado lector.\n",
    "Un **byte** es un **byte** es un **byte**."
   ]
  },
  {
   "cell_type": "code",
   "execution_count": 19,
   "metadata": {},
   "outputs": [
    {
     "data": {
      "text/plain": [
       "16-element Array{String,1}:\n",
       " #undef\n",
       " #undef\n",
       " #undef\n",
       " #undef\n",
       " #undef\n",
       " #undef\n",
       " #undef\n",
       " #undef\n",
       " #undef\n",
       " #undef\n",
       " #undef\n",
       " #undef\n",
       " #undef\n",
       " #undef\n",
       " #undef\n",
       " #undef"
      ]
     },
     "execution_count": 19,
     "metadata": {},
     "output_type": "execute_result"
    }
   ],
   "source": [
    "sA=Array{String}(undef, 16)"
   ]
  },
  {
   "cell_type": "code",
   "execution_count": 20,
   "metadata": {
    "collapsed": true
   },
   "outputs": [],
   "source": [
    "sADCChannelName=Array{String}(undef, 16)\n",
    "ini=443\n",
    "for j=0:15\n",
    "    inif=ini+10*j\n",
    "    finf=ini+10*(j+1)-1\n",
    "    sADCChannelName[j+1]=readfrombyn(databin, inif, finf, String)\n",
    "end\n",
    "\n",
    "sADCUnits=Array{String}(undef, 16)\n",
    "ini=602\n",
    "for j=0:15\n",
    "    inif=ini+8*j\n",
    "    finf=ini+8*(j+1)-1\n",
    "    sADCUnits[j+1]=readfrombyn(databin, inif, finf, String)\n",
    "end\n",
    "\n"
   ]
  },
  {
   "cell_type": "markdown",
   "metadata": {},
   "source": [
    "Por recordatorio, esta era la definicion en python. El Metodo Karel parece funcionar.\n",
    "#=\n",
    "sADCChannelName = readfrombyn(f, \"10s\"*16, 442)\n",
    "sADCUnits = readfrombyn(f, \"8s\"*16, 602)\n",
    "\n",
    "=#"
   ]
  },
  {
   "cell_type": "code",
   "execution_count": 21,
   "metadata": {},
   "outputs": [
    {
     "data": {
      "text/plain": [
       "16-element Array{Float16,1}:\n",
       " 0.0  \n",
       " 2.5  \n",
       " 0.0  \n",
       " 2.5  \n",
       " 0.0  \n",
       " 2.5  \n",
       " 0.0  \n",
       " 2.5  \n",
       " 0.0  \n",
       " 1.875\n",
       " 0.0  \n",
       " 1.875\n",
       " 0.0  \n",
       " 1.875\n",
       " 0.0  \n",
       " 1.875"
      ]
     },
     "execution_count": 21,
     "metadata": {},
     "output_type": "execute_result"
    }
   ],
   "source": [
    "fADCProgrammableGain = readfrombyn(databin, 731,922, Float16, 16)"
   ]
  },
  {
   "cell_type": "code",
   "execution_count": 22,
   "metadata": {},
   "outputs": [
    {
     "data": {
      "text/plain": [
       "16-element Array{Float16,1}:\n",
       " 0.0\n",
       " 0.0\n",
       " 0.0\n",
       " 0.0\n",
       " 0.0\n",
       " 0.0\n",
       " 0.0\n",
       " 0.0\n",
       " 0.0\n",
       " 0.0\n",
       " 0.0\n",
       " 0.0\n",
       " 0.0\n",
       " 0.0\n",
       " 0.0\n",
       " 0.0"
      ]
     },
     "execution_count": 22,
     "metadata": {},
     "output_type": "execute_result"
    }
   ],
   "source": [
    "fInstrument= readfrombyn(databin,923,986,  Float16 , 16)\n",
    "fInstrumentOffset = readfrombyn(databin, 987,1050, Float16, 16)"
   ]
  },
  {
   "cell_type": "code",
   "execution_count": 23,
   "metadata": {},
   "outputs": [
    {
     "data": {
      "text/plain": [
       "1"
      ]
     },
     "execution_count": 23,
     "metadata": {},
     "output_type": "execute_result"
    }
   ],
   "source": [
    "fSignalGain = readfrombyn(databin, 1051, 1114, Float16, 16)\n",
    "fSignalOffset = readfrombyn(databin, 1115, 1436, Float16, 16)\n",
    "nDigitalEnable = readfrombyn(databin, 1437,1440, Int16)"
   ]
  },
  {
   "cell_type": "code",
   "execution_count": 24,
   "metadata": {},
   "outputs": [
    {
     "data": {
      "text/plain": [
       "10-element Array{Int16,1}:\n",
       " -192\n",
       "   64\n",
       " -176\n",
       "   80\n",
       " -176\n",
       "   80\n",
       " -176\n",
       "   80\n",
       " -176\n",
       "   96"
      ]
     },
     "execution_count": 24,
     "metadata": {},
     "output_type": "execute_result"
    }
   ],
   "source": [
    "nActiveDACChannel = readfrombyn(databin, 1441, 1442, Int16)\n",
    "nDigitalHolding = readfrombyn(databin, 1585, 1586, Int16)\n",
    "nDigitalInterEpisode = readfrombyn(databin, 1587,1588,Int16)\n",
    "nDigitalValue = readfrombyn(databin, 2589, 2608, Int16,10)"
   ]
  },
  {
   "cell_type": "code",
   "execution_count": 30,
   "metadata": {},
   "outputs": [
    {
     "data": {
      "text/plain": [
       "2"
      ]
     },
     "execution_count": 30,
     "metadata": {},
     "output_type": "execute_result"
    }
   ],
   "source": [
    "nADCNumChannels"
   ]
  },
  {
   "cell_type": "code",
   "execution_count": 25,
   "metadata": {
    "scrolled": true
   },
   "outputs": [
    {
     "data": {
      "text/plain": [
       "16-element Array{Float16,1}:\n",
       " NaN     \n",
       "   9.5e-7\n",
       " NaN     \n",
       "   1.9e-6\n",
       " NaN     \n",
       "   9.5e-7\n",
       " NaN     \n",
       "   1.9e-6\n",
       " NaN     \n",
       "   9.5e-7\n",
       " NaN     \n",
       "   9.5e-7\n",
       " NaN     \n",
       "   0.0   \n",
       " NaN     \n",
       "   9.5e-7"
      ]
     },
     "execution_count": 25,
     "metadata": {},
     "output_type": "execute_result"
    }
   ],
   "source": [
    "lDACFilePtr = readfrombyn(databin, 2049,2056, Int32, 2)\n",
    "lDACFileNumEpisodes = readfrombyn(databin, 2057, 2060, Int32,2)\n",
    "fDACCalibrationFactor = readfrombyn(databin,  2075, 2090, Float16, 4)\n",
    "fDACCalibrationOffset = readfrombyn(databin,  2091, 2105, Float16,4)\n",
    "nWaveformEnable = readfrombyn(databin, 2297,2300, Int16,2)\n",
    "nWaveformSource = readfrombyn(databin,  2301,2304, Int16,2)\n",
    "nInterEpisodeLevel = readfrombyn(databin,  2305,2308, Int16, 2)\n",
    "nEpochType = readfrombyn(databin, 2309,2348, Int16,20)\n",
    "fEpochInitLevel = readfrombyn(databin, 2349, 2428, Float16, 20)\n",
    "fEpochLevelInc = readfrombyn(databin,  2429, 2488, Float16,20)\n",
    "lEpochInitDuration = readfrombyn(databin,  2509, 2588,Int32,20)\n",
    "lEpochDurationInc = readfrombyn(databin,  2589, 2668,  Int32,20)\n",
    "nTelegraphEnable = readfrombyn(databin,  4513,4544, Int16, 16)\n",
    "fTelegraphAdditGain = readfrombyn(databin,  4577, 4609, Float16,16)\n",
    "#sProtocolPath = readfrombyn(databin,  4898,5282 , String)"
   ]
  },
  {
   "cell_type": "code",
   "execution_count": 27,
   "metadata": {},
   "outputs": [
    {
     "data": {
      "text/plain": [
       "16-element Array{Int16,1}:\n",
       "  0\n",
       "  1\n",
       "  2\n",
       "  3\n",
       "  4\n",
       "  5\n",
       "  6\n",
       "  7\n",
       "  8\n",
       "  9\n",
       " 10\n",
       " 11\n",
       " 12\n",
       " 13\n",
       " 14\n",
       " 15"
      ]
     },
     "execution_count": 27,
     "metadata": {},
     "output_type": "execute_result"
    }
   ],
   "source": [
    "nADCPtoLChannelMap"
   ]
  },
  {
   "cell_type": "code",
   "execution_count": 81,
   "metadata": {},
   "outputs": [
    {
     "data": {
      "text/plain": [
       "String"
      ]
     },
     "execution_count": 81,
     "metadata": {},
     "output_type": "execute_result"
    }
   ],
   "source": [
    "typeof(sProtocolPath)"
   ]
  },
  {
   "cell_type": "code",
   "execution_count": 82,
   "metadata": {},
   "outputs": [
    {
     "data": {
      "text/plain": [
       "385-element Array{Char,1}:\n",
       " '\\xff'\n",
       " '\\0'  \n",
       " '\\0'  \n",
       " '@'   \n",
       " '\\xff'\n",
       " '\\x10'\n",
       " '\\0'  \n",
       " 'P'   \n",
       " '\\xff'\n",
       " '\\x10'\n",
       " '\\0'  \n",
       " 'P'   \n",
       " '\\xff'\n",
       " ⋮     \n",
       " ' '   \n",
       " '\\0'  \n",
       " ' '   \n",
       " '\\xff'\n",
       " ' '   \n",
       " '\\0'  \n",
       " '0'   \n",
       " '\\xff'\n",
       " ' '   \n",
       " '\\0'  \n",
       " '0'   \n",
       " '\\xff'"
      ]
     },
     "execution_count": 82,
     "metadata": {},
     "output_type": "execute_result"
    }
   ],
   "source": [
    "collect(sProtocolPath)"
   ]
  },
  {
   "cell_type": "code",
   "execution_count": null,
   "metadata": {
    "collapsed": true
   },
   "outputs": [],
   "source": []
  }
 ],
 "metadata": {
  "@webio": {
   "lastCommId": "8C21FDEEAA7047D08DD195A7BB886796",
   "lastKernelId": "a0fcad04-a2b3-4cfd-b931-dc76fb64a4c5"
  },
  "kernelspec": {
   "display_name": "Julia 1.0.3",
   "language": "julia",
   "name": "julia-1.0"
  },
  "language_info": {
   "file_extension": ".jl",
   "mimetype": "application/julia",
   "name": "julia",
   "version": "1.0.3"
  }
 },
 "nbformat": 4,
 "nbformat_minor": 2
}
