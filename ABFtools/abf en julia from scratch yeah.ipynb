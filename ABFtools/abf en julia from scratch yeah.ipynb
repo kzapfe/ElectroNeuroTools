{
 "cells": [
  {
   "cell_type": "code",
   "execution_count": 1,
   "metadata": {},
   "outputs": [],
   "source": [
    "using FileIO"
   ]
  },
  {
   "cell_type": "markdown",
   "metadata": {},
   "source": [
    "Por alguna razón, si leemos (read) dos veces el archivo (arx) abierto, la segunda vez nos da un array vacio. \n",
    "Asi que mas bien lo leemos y lo cerramos de una."
   ]
  },
  {
   "cell_type": "code",
   "execution_count": 29,
   "metadata": {},
   "outputs": [],
   "source": [
    "arx=open(\"../ABFiles/Eduardo/CA3_50UMcarbachol_EMAD_060319_raton.abf\", \"r\")\n",
    "databin=read(arx)\n",
    "close(arx)"
   ]
  },
  {
   "cell_type": "code",
   "execution_count": 31,
   "metadata": {},
   "outputs": [
    {
     "data": {
      "text/plain": [
       "Array{UInt8,1}"
      ]
     },
     "execution_count": 31,
     "metadata": {},
     "output_type": "execute_result"
    }
   ],
   "source": [
    "typeof(databin) # Los datos estan en bytes separados en palabras de 8 bytes."
   ]
  },
  {
   "cell_type": "code",
   "execution_count": 32,
   "metadata": {},
   "outputs": [
    {
     "data": {
      "text/plain": [
       "4-element Array{UInt8,1}:\n",
       " 0x41\n",
       " 0x42\n",
       " 0x46\n",
       " 0x32"
      ]
     },
     "execution_count": 32,
     "metadata": {},
     "output_type": "execute_result"
    }
   ],
   "source": [
    "databin[1:4]"
   ]
  },
  {
   "cell_type": "markdown",
   "metadata": {},
   "source": [
    "Lo que descubrió swharden es que el 4 número nos dice si es un abf1 o un abf2. Si el número es un espacio (en ASCII es el número 32) es un abf1. Si es un 50 (ASCII para \"2\") es un abf2:\n",
    " - ascii 32 es espacio -> abf1\n",
    " - ascii 50 es 2 -> abf2"
   ]
  },
  {
   "cell_type": "code",
   "execution_count": 34,
   "metadata": {},
   "outputs": [
    {
     "data": {
      "text/plain": [
       "50"
      ]
     },
     "execution_count": 34,
     "metadata": {},
     "output_type": "execute_result"
    }
   ],
   "source": [
    "convert(Int,databin[4]) #aquí vemos que tipo de archivo es."
   ]
  },
  {
   "cell_type": "code",
   "execution_count": 35,
   "metadata": {},
   "outputs": [
    {
     "data": {
      "text/plain": [
       "4-element Array{UInt8,1}:\n",
       " 0x01\n",
       " 0x00\n",
       " 0x00\n",
       " 0x00"
      ]
     },
     "execution_count": 35,
     "metadata": {},
     "output_type": "execute_result"
    }
   ],
   "source": [
    "aver=databin[13:16]"
   ]
  },
  {
   "cell_type": "code",
   "execution_count": 39,
   "metadata": {},
   "outputs": [
    {
     "data": {
      "text/plain": [
       "1"
      ]
     },
     "execution_count": 39,
     "metadata": {},
     "output_type": "execute_result"
    }
   ],
   "source": [
    "numsweeps=convert(Int, sum(aver))"
   ]
  },
  {
   "cell_type": "code",
   "execution_count": null,
   "metadata": {},
   "outputs": [],
   "source": []
  }
 ],
 "metadata": {
  "@webio": {
   "lastCommId": "6421009ad72f4ccbb55e40c82f9733d6",
   "lastKernelId": "21f0c245-f68a-47be-8249-f395d110e5f4"
  },
  "kernelspec": {
   "display_name": "Julia 1.0.3",
   "language": "julia",
   "name": "julia-1.0"
  },
  "language_info": {
   "file_extension": ".jl",
   "mimetype": "application/julia",
   "name": "julia",
   "version": "1.0.3"
  }
 },
 "nbformat": 4,
 "nbformat_minor": 2
}
