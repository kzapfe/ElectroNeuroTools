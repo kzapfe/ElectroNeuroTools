{
 "cells": [
  {
   "cell_type": "code",
   "execution_count": 1,
   "metadata": {},
   "outputs": [
    {
     "name": "stderr",
     "output_type": "stream",
     "text": [
      "┌ Info: Recompiling stale cache file /home/karel/.julia/compiled/v1.0/Plots/ld3vC.ji for Plots [91a5bcdd-55d7-5caf-9e0b-520d859cae80]\n",
      "└ @ Base loading.jl:1190\n"
     ]
    },
    {
     "data": {
      "text/plain": [
       "Plots.GRBackend()"
      ]
     },
     "execution_count": 1,
     "metadata": {},
     "output_type": "execute_result"
    }
   ],
   "source": [
    "using HDF5\n",
    "using Plots\n",
    "gr()"
   ]
  },
  {
   "cell_type": "code",
   "execution_count": 2,
   "metadata": {},
   "outputs": [
    {
     "data": {
      "text/plain": [
       "Plots.GRBackend()"
      ]
     },
     "execution_count": 2,
     "metadata": {},
     "output_type": "execute_result"
    }
   ],
   "source": [
    "gr(show=false)"
   ]
  },
  {
   "cell_type": "code",
   "execution_count": 3,
   "metadata": {},
   "outputs": [
    {
     "ename": "ErrorException",
     "evalue": "Viable options are Series, Subplot, Plot, Axis",
     "output_type": "error",
     "traceback": [
      "Viable options are Series, Subplot, Plot, Axis",
      "",
      "Stacktrace:",
      " [1] plotattr(::Symbol) at /home/karel/.julia/packages/Plots/47Tik/src/plotattr.jl:28",
      " [2] top-level scope at In[3]:1"
     ]
    }
   ],
   "source": [
    "plotattr(:gr)"
   ]
  },
  {
   "cell_type": "code",
   "execution_count": 2,
   "metadata": {},
   "outputs": [
    {
     "data": {
      "text/plain": [
       "\"/home/karel/BRWFiles/Eduardo/Control/Completo_193005_CTRL_Rtn_EMAD_01_subdatos.h5\""
      ]
     },
     "execution_count": 2,
     "metadata": {},
     "output_type": "execute_result"
    }
   ],
   "source": [
    "nombre=\"/home/karel/BRWFiles/Eduardo/Control/Completo_193005_CTRL_Rtn_EMAD_01_subdatos.h5\""
   ]
  },
  {
   "cell_type": "code",
   "execution_count": 3,
   "metadata": {},
   "outputs": [
    {
     "data": {
      "text/plain": [
       "7-element Array{String,1}:\n",
       " \"CSDALindenberg\"  \n",
       " \"CanalesSaturados\"\n",
       " \"Canalesrespuesta\"\n",
       " \"LFPRecortado\"    \n",
       " \"cols\"            \n",
       " \"freq\"            \n",
       " \"rengs\"           "
      ]
     },
     "execution_count": 3,
     "metadata": {},
     "output_type": "execute_result"
    }
   ],
   "source": [
    "arxivo=h5open(nombre)\n",
    "elementos=names(arxivo)"
   ]
  },
  {
   "cell_type": "code",
   "execution_count": 1,
   "metadata": {},
   "outputs": [
    {
     "ename": "UndefVarError",
     "evalue": "UndefVarError: arxivo not defined",
     "output_type": "error",
     "traceback": [
      "UndefVarError: arxivo not defined",
      "",
      "Stacktrace:",
      " [1] top-level scope at In[1]:1"
     ]
    }
   ],
   "source": [
    "csd=read(arxivo[\"CSDALindenberg\"])\n",
    "freq=read(arxivo[\"freq\"])\n",
    "(xmin, xmax)=read(arxivo[\"cols\"])\n",
    "(ymin, ymax)=read(arxivo[\"rengs\"])"
   ]
  },
  {
   "cell_type": "code",
   "execution_count": 2,
   "metadata": {},
   "outputs": [
    {
     "ename": "UndefVarError",
     "evalue": "UndefVarError: freq not defined",
     "output_type": "error",
     "traceback": [
      "UndefVarError: freq not defined",
      "",
      "Stacktrace:",
      " [1] top-level scope at In[2]:1"
     ]
    }
   ],
   "source": [
    "freq"
   ]
  },
  {
   "cell_type": "code",
   "execution_count": null,
   "metadata": {
    "collapsed": true
   },
   "outputs": [],
   "source": [
    "plot(csdejemplo/maximum(csdejemplo)+1,lw=1)\n",
    "plot(csdejemplo2/maximum(csdejemplo2))"
   ]
  },
  {
   "cell_type": "code",
   "execution_count": 48,
   "metadata": {},
   "outputs": [
    {
     "ename": "UndefVarError",
     "evalue": "UndefVarError: casad not defined",
     "output_type": "error",
     "traceback": [
      "UndefVarError: casad not defined",
      "",
      "Stacktrace:",
      " [1] top-level scope at In[48]:27"
     ]
    }
   ],
   "source": [
    "n=140000\n",
    "\n",
    "\n",
    "lista=(\"sinc\", \"hanning\", \"gaussian\", \"nearest\")\n",
    "limites=150\n",
    "#for interpol in lista\n",
    "plot(figsize=(4,4))\n",
    "\n",
    "    ejemplo=csd[:,:,n]\n",
    "    tiempo=round(Int,n/freq)\n",
    "#=\n",
    "tick_params(\n",
    "    axis=\"both\",          # changes apply to the x-axis\n",
    "    which=\"both\",      # both major and minor ticks are affected\n",
    "   # bottom=\"off\",      # ticks along the bottom edge are off\n",
    "    top=\"off\",\n",
    "    right=\"off\",\n",
    "   # left=\"off\",\n",
    "# ticks along the top edge are off\n",
    "   # labelbottom=\"off\",\n",
    "    labelleft=\"on\")\n",
    "=#\n",
    "    xxs=xmin:xmax\n",
    "    yys=ymin:ymax\n",
    "    imagen=heatmap!(xxs, yys, ejemplo, color=:bluesreds, aspectratio=1, clims=(-limites,limites)) \n",
    "    zlims!(-15,15)\n",
    "    #    interpolation=interpol,\n",
    "    #cmap=\"bwr\", vmin=-limites,vmax=limites, extent=[xmin,xmax,ymin,ymax])\n",
    "casad\n",
    "    \n",
    "#cbx=colorbar(imagen, fraction=0.045, ticks=[]) \n",
    "\n",
    "#cbx[:set_label](\"<-Sink | Source->\")\n",
    "\n",
    "\n",
    "   \n",
    "#end\n",
    "    "
   ]
  },
  {
   "cell_type": "code",
   "execution_count": 41,
   "metadata": {},
   "outputs": [
    {
     "name": "stdout",
     "output_type": "stream",
     "text": [
      "search: \u001b[0m\u001b[1mc\u001b[22m\u001b[0m\u001b[1mo\u001b[22m\u001b[0m\u001b[1ml\u001b[22m\u001b[0m\u001b[1mo\u001b[22m\u001b[0m\u001b[1mr\u001b[22m \u001b[0m\u001b[1mC\u001b[22m\u001b[0m\u001b[1mo\u001b[22m\u001b[0m\u001b[1ml\u001b[22m\u001b[0m\u001b[1mo\u001b[22m\u001b[0m\u001b[1mr\u001b[22m \u001b[0m\u001b[1mC\u001b[22m\u001b[0m\u001b[1mo\u001b[22m\u001b[0m\u001b[1ml\u001b[22m\u001b[0m\u001b[1mo\u001b[22m\u001b[0m\u001b[1mr\u001b[22ms \u001b[0m\u001b[1mC\u001b[22m\u001b[0m\u001b[1mo\u001b[22m\u001b[0m\u001b[1ml\u001b[22m\u001b[0m\u001b[1mo\u001b[22m\u001b[0m\u001b[1mr\u001b[22m3 \u001b[0m\u001b[1mc\u001b[22m\u001b[0m\u001b[1mo\u001b[22m\u001b[0m\u001b[1ml\u001b[22m\u001b[0m\u001b[1mo\u001b[22m\u001b[0m\u001b[1mr\u001b[22mmap \u001b[0m\u001b[1mc\u001b[22m\u001b[0m\u001b[1mo\u001b[22m\u001b[0m\u001b[1ml\u001b[22m\u001b[0m\u001b[1mo\u001b[22m\u001b[0m\u001b[1mr\u001b[22mdiff \u001b[0m\u001b[1mC\u001b[22m\u001b[0m\u001b[1mo\u001b[22m\u001b[0m\u001b[1ml\u001b[22m\u001b[0m\u001b[1mo\u001b[22m\u001b[0m\u001b[1mr\u001b[22mant \u001b[0m\u001b[1mc\u001b[22m\u001b[0m\u001b[1mo\u001b[22m\u001b[0m\u001b[1ml\u001b[22m\u001b[0m\u001b[1mo\u001b[22m\u001b[0m\u001b[1mr\u001b[22mmatch\n",
      "\n"
     ]
    },
    {
     "data": {
      "text/latex": [
       "\\texttt{color(c)} extracts the opaque color component from a Colorant (e.g., omits the alpha channel, if present).\n",
       "\n"
      ],
      "text/markdown": [
       "`color(c)` extracts the opaque color component from a Colorant (e.g., omits the alpha channel, if present).\n"
      ],
      "text/plain": [
       "  \u001b[36mcolor(c)\u001b[39m extracts the opaque color component from a Colorant (e.g., omits\n",
       "  the alpha channel, if present)."
      ]
     },
     "execution_count": 41,
     "metadata": {},
     "output_type": "execute_result"
    }
   ],
   "source": [
    "?color"
   ]
  },
  {
   "cell_type": "code",
   "execution_count": null,
   "metadata": {
    "collapsed": true
   },
   "outputs": [],
   "source": [
    "t=140\n",
    "#ion()\n",
    "ioff()\n",
    "lista=(\"sinc\", \"hanning\", \"gaussian\", \"nearest\")\n",
    "limites=10\n",
    "for interpol in lista\n",
    "figure(figsize=(4,4))\n",
    "    xlim(0,65)\n",
    "    ylim(65,0)\n",
    "\n",
    "    ejemplo=CSD2[:,:,t]\n",
    "    tiempo=round(Int,(t-retrazo2)/freq2)\n",
    "\n",
    "tick_params(\n",
    "    axis=\"both\",          # changes apply to the x-axis\n",
    "    which=\"both\",      # both major and minor ticks are affected\n",
    "   # bottom=\"off\",      # ticks along the bottom edge are off\n",
    "    top=\"off\",\n",
    "    right=\"off\",\n",
    "   # left=\"off\",\n",
    "# ticks along the top edge are off\n",
    "   # labelbottom=\"off\",\n",
    "    labelleft=\"on\")\n",
    "\n",
    "    title(\"t= $tiempo ms\")\n",
    "    imagen=imshow((ejemplo), origin=\"lower\", interpolation=interpol,\n",
    "    cmap=\"bwr\", \n",
    "                      vmin=-limites,vmax=limites, extent=[0,64.5,0.5,64.5])\n",
    "\n",
    "cbx=colorbar(imagen, fraction=0.045, ticks=[]) \n",
    "\n",
    "cbx[:set_label](\"<-Sink | Source->\")\n",
    "end"
   ]
  },
  {
   "cell_type": "code",
   "execution_count": null,
   "metadata": {
    "collapsed": true
   },
   "outputs": [],
   "source": [
    "ioff()\n",
    "limites=50\n",
    "inicio=1009\n",
    "retrazo=inicio\n",
    "final=1500\n",
    "paso=1\n",
    "for t=inicio:paso:final\n",
    "#t=954\n",
    "    figura=figure(figsize=(4,4))\n",
    "    xlim(0,65)\n",
    "    ylim(65,0)\n",
    "\n",
    "    ejemplo=CSD[:,:,t]\n",
    "    tiempo=@sprintf(\"%3.2f\",(t-retrazo)/freq);\n",
    "    title(\"t= $tiempo ms\")\n",
    "    imagen=imshow((ejemplo), origin=\"lower\", interpolation=\"gaussian\",\n",
    "                  cmap=\"coolwarm\", \n",
    "                  vmin=-limites,vmax=limites, extent=[0.5,64.5,0.5,64.5])\n",
    "\n",
    "   cbx=colorbar(imagen, fraction=0.045, ticks=[]) \n",
    "   cbx[:set_label](\"<-Sink | Source->\")\n",
    "    savefig(\"CSDDifferenceSmooth_140116s2_08_$t.svg\",dpi=90)\n",
    "    close(figura)\n",
    "end\n",
    "PyPlot.close_figs()"
   ]
  },
  {
   "cell_type": "code",
   "execution_count": null,
   "metadata": {
    "collapsed": true
   },
   "outputs": [],
   "source": [
    "bchica=readdlm(\"../kCSD/BceroDura-r-0.0675.dat\")\n",
    "btchica=readdlm(\"../kCSD/BtildeceroDura-r-0.0675.dat\");"
   ]
  },
  {
   "cell_type": "code",
   "execution_count": null,
   "metadata": {
    "collapsed": true
   },
   "outputs": [],
   "source": [
    "aver=imshow(bchica,interpolation=\"nearest\", cmap=\"gnuplot\")\n",
    "cbx=colorbar(aver)"
   ]
  },
  {
   "cell_type": "code",
   "execution_count": null,
   "metadata": {
    "collapsed": true
   },
   "outputs": [],
   "source": [
    "bgrande=readdlm(\"../kCSD/BceroDura-r-0.25.dat\")\n",
    "btgrande=readdlm(\"../kCSD/BtildeceroDura-r-0.25.dat\");"
   ]
  },
  {
   "cell_type": "code",
   "execution_count": null,
   "metadata": {
    "collapsed": true
   },
   "outputs": [],
   "source": [
    "aver=imshow(bgrande,interpolation=\"nearest\", cmap=\"gnuplot\")\n",
    "cbx=colorbar(aver)"
   ]
  },
  {
   "cell_type": "code",
   "execution_count": null,
   "metadata": {
    "collapsed": true
   },
   "outputs": [],
   "source": [
    "size(bgrande)\n",
    "tu=vec(bgrande[64,:])\n",
    "te=vec(bchica[64,:])"
   ]
  },
  {
   "cell_type": "code",
   "execution_count": null,
   "metadata": {
    "collapsed": true
   },
   "outputs": [],
   "source": [
    "plot(1:127,tu)\n",
    "plot(1:127,te)"
   ]
  },
  {
   "cell_type": "code",
   "execution_count": null,
   "metadata": {
    "collapsed": true
   },
   "outputs": [],
   "source": [
    "bgmin=bgrande/minimum(bgrande)"
   ]
  },
  {
   "cell_type": "code",
   "execution_count": null,
   "metadata": {
    "collapsed": true
   },
   "outputs": [],
   "source": [
    "cloack=bgmin-brmin"
   ]
  },
  {
   "cell_type": "code",
   "execution_count": null,
   "metadata": {
    "collapsed": true
   },
   "outputs": [],
   "source": [
    "imshow(cloack,cmap=\"gnuplot\",interpolation=\"none\")\n",
    "colorbar()"
   ]
  },
  {
   "cell_type": "code",
   "execution_count": null,
   "metadata": {
    "collapsed": true
   },
   "outputs": [],
   "source": [
    "xlim(0,65)\n",
    "ylim(0,65)\n",
    "imshow(KOp,cmap=\"gnuplot\", vmin=-1,vmax=1)\n",
    "colorbar()"
   ]
  },
  {
   "cell_type": "code",
   "execution_count": null,
   "metadata": {
    "collapsed": true
   },
   "outputs": [],
   "source": [
    "KOp[1:64,1:64]"
   ]
  },
  {
   "cell_type": "markdown",
   "metadata": {
    "collapsed": true
   },
   "source": [
    "# Pruebas de Estabilidad en una submatrix pequeñita"
   ]
  },
  {
   "cell_type": "code",
   "execution_count": null,
   "metadata": {
    "collapsed": true
   },
   "outputs": [],
   "source": [
    "Kdd=readdlm(\"../kCSD/Krevisarestable.dat\")\n",
    "Ktildedd=readdlm(\"../kCSD/KTilderevisarestable.dat\");"
   ]
  },
  {
   "cell_type": "code",
   "execution_count": null,
   "metadata": {
    "collapsed": true
   },
   "outputs": [],
   "source": [
    "size(Kdd)"
   ]
  },
  {
   "cell_type": "code",
   "execution_count": null,
   "metadata": {
    "collapsed": true
   },
   "outputs": [],
   "source": [
    "sublfp=LFP[41:64,11:34,1000]\n",
    "saturados=Set{Array{Int,1}}()\n",
    "push!(saturados, [1,1])"
   ]
  },
  {
   "cell_type": "code",
   "execution_count": null,
   "metadata": {
    "collapsed": true
   },
   "outputs": [],
   "source": [
    "writedlm(\"EjemplitoLFP.dat\",sublfp)"
   ]
  },
  {
   "cell_type": "code",
   "execution_count": null,
   "metadata": {
    "collapsed": true
   },
   "outputs": [],
   "source": [
    "saturados"
   ]
  },
  {
   "cell_type": "code",
   "execution_count": null,
   "metadata": {
    "collapsed": true
   },
   "outputs": [],
   "source": [
    "imshow(sublfp)"
   ]
  },
  {
   "cell_type": "code",
   "execution_count": null,
   "metadata": {
    "collapsed": true
   },
   "outputs": [],
   "source": [
    "include(\"../CSDA/LindenbergOperadores.jl\")\n",
    "importall LindenbergOperadores"
   ]
  },
  {
   "cell_type": "code",
   "execution_count": null,
   "metadata": {
    "collapsed": true
   },
   "outputs": [],
   "source": [
    "aux1=GaussianSmooth(sublfp);\n",
    "aux2=DiscreteLaplacian(aux1);\n",
    "dcsd=-aux2;"
   ]
  },
  {
   "cell_type": "code",
   "execution_count": null,
   "metadata": {
    "collapsed": true
   },
   "outputs": [],
   "source": [
    "writedlm(\"EjemplitodCSD.dat\",dcsd)\n",
    "vlim=100\n",
    "imshow(dcsd,cmap=\"seismic\",vmin=-vlim,vmax=vlim)"
   ]
  },
  {
   "cell_type": "code",
   "execution_count": null,
   "metadata": {
    "collapsed": true
   },
   "outputs": [],
   "source": [
    "todaslasX=Array[]\n",
    "\n",
    "ncuad=24\n",
    "Ntot=ncuad^2\n",
    "\n",
    "for j=1:ncuad,k=1:ncuad\n",
    "    push!(todaslasX,[j,k])\n",
    "end\n",
    "\n",
    "xpurgadas=filter(q->!(q in saturados), todaslasX)\n",
    "nbuenas=length(xpurgadas)\n",
    "\n",
    "CSDtentativa=zeros(Ntot)\n",
    "CSD=zeros(sublfp)\n",
    "\n",
    "lfpv=zeros(nbuenas)\n",
    "\n",
    "println(\"Acomodando los LFP correctos\")\n",
    "\n",
    "for j=1:nbuenas\n",
    "    renglon=xpurgadas[j][1]\n",
    "    columna=xpurgadas[j][2]\n",
    "    lfpv[j]=sublfp[renglon,columna]\n",
    "end\n"
   ]
  },
  {
   "cell_type": "code",
   "execution_count": null,
   "metadata": {
    "collapsed": true
   },
   "outputs": [],
   "source": [
    "rangolambda=20\n",
    "\n",
    "\n",
    "CSD=zeros(Float64,ncuad,ncuad,rangolambda)\n",
    "CSDTentativa=zeros(nbuenas,rangolambda)\n",
    "\n",
    "#nbuenas es la long de la diagonal!!!\n",
    "## y de cualquier lado de la matriz, daah..\n",
    "KLambda=deepcopy(Kdd)\n",
    "KTT=zeros(Kdd)\n",
    "\n",
    "intervalo=0.2\n",
    "\n",
    "\n",
    "for l=1:rangolambda\n",
    "     KLambda=deepcopy(Kdd)\n",
    "    lambda=l/(rangolambda)\n",
    "    println(lambda, \" \",KLambda[8,8])\n",
    "    for j=1:nbuenas\n",
    "       \n",
    "        KLambda[j,j]=KLambda[j,j]/2.0*(1.0+intervalo*lambda)\n",
    "    \n",
    "        KTT=transpose(Ktildedd)*inv(KLambda)\n",
    "    end\n",
    "    println(lambda, \",\", KTT[8,8], \" \", KLambda[8,8])\n",
    "    CSDTentativa[:,l]=KTT*lfpv \n",
    "    \n",
    "end\n",
    "\n",
    "\n",
    "for j=1:nbuenas\n",
    "    renglon=xpurgadas[j][1]\n",
    "    columna=xpurgadas[j][2]\n",
    "    CSD[renglon,columna,:]=CSDTentativa[j,:]\n",
    "end\n",
    "\n",
    "\n",
    "println(\"terminando calculo\")\n",
    "writedlm(\"EjemplitokCSD.dat\",CSD)"
   ]
  },
  {
   "cell_type": "code",
   "execution_count": null,
   "metadata": {
    "collapsed": true
   },
   "outputs": [],
   "source": [
    "intervalo=(1,1.2)\n",
    "save(\"EjemploskCSD.jld\", \"CSD\", CSD)"
   ]
  },
  {
   "cell_type": "code",
   "execution_count": null,
   "metadata": {
    "collapsed": true
   },
   "outputs": [],
   "source": [
    "farofa, lista=subplots(4,5, figsize=(25,20))\n",
    "vlim=40\n",
    "intervalo=0.2\n",
    "for j=1:rangolambda\n",
    "    pu=ceil(Int,j/5)\n",
    "    pa=mod(j,5)\n",
    "    reallambda=(1+intervalo*j/rangolambda)\n",
    "    if pa==0; pa=5;end\n",
    "   # println(pa,\", \",pu)\n",
    "    lista[pu,pa][:imshow](CSD[:,:,j],cmap=\"seismic\",vmin=-vlim,vmax=vlim)\n",
    "    lista[pu,pa][:set_title](\"lambda = $reallambda\")\n",
    "end\n",
    "savefig(\"VarioskCSD03.png\",dpi=92)"
   ]
  },
  {
   "cell_type": "code",
   "execution_count": null,
   "metadata": {
    "collapsed": true
   },
   "outputs": [],
   "source": [
    "for j=1:rangolambda\n",
    "    pu=ceil(Int,j/5)\n",
    "    pa=mod(j,5)\n",
    "    if pa==0; pa=5 ; end\n",
    "    println(pu,\" \",pa)\n",
    "end"
   ]
  },
  {
   "cell_type": "code",
   "execution_count": null,
   "metadata": {
    "collapsed": true
   },
   "outputs": [],
   "source": []
  }
 ],
 "metadata": {
  "@webio": {
   "lastCommId": null,
   "lastKernelId": null
  },
  "kernelspec": {
   "display_name": "Julia 1.0.3",
   "language": "julia",
   "name": "julia-1.0"
  },
  "language_info": {
   "file_extension": ".jl",
   "mimetype": "application/julia",
   "name": "julia",
   "version": "1.0.3"
  }
 },
 "nbformat": 4,
 "nbformat_minor": 1
}
