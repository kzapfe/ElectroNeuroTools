{
 "cells": [
  {
   "cell_type": "code",
   "execution_count": 4,
   "metadata": {
    "collapsed": false,
    "deletable": true,
    "editable": true
   },
   "outputs": [],
   "source": [
    "using JLD, PyPlot"
   ]
  },
  {
   "cell_type": "code",
   "execution_count": 5,
   "metadata": {
    "collapsed": false,
    "deletable": true,
    "editable": true
   },
   "outputs": [
    {
     "data": {
      "text/plain": [
       "\"/home/karel/RGutWork/JLDFiles/Enriquecidas/Deshinibidas/evento_desinhibido_2.jld\""
      ]
     },
     "execution_count": 5,
     "metadata": {},
     "output_type": "execute_result"
    }
   ],
   "source": [
    "archivo=\"/home/karel/RGutWork/JLDFiles/Enriquecidas/Deshinibidas/evento_desinhibido_2.jld\""
   ]
  },
  {
   "cell_type": "code",
   "execution_count": 6,
   "metadata": {
    "collapsed": false,
    "deletable": true,
    "editable": true
   },
   "outputs": [
    {
     "data": {
      "text/plain": [
       "Dict{String,Any} with 7 entries:\n",
       "  \"Canalesrespuesta\" => Set(Array{Int64,1}[[27,62],[36,44],[37,62],[48,50],[51,…\n",
       "  \"KTT_KInv\"         => [0.0587544 0.0453965 … 6.84109e-5 8.77293e-5; 0.0487949…\n",
       "  \"kCSDCorrecta\"     => [0.0 8.18196 … 1.8844 1.29687; 8.77891 8.96577 … 1.3123…\n",
       "  \"Nota\"             => \"Usamos las siguientes B y BT para obtener las Ks: Bcer…\n",
       "  \"LFPSaturados\"     => [-4122.99 14.0991 … 2.01416 0.0; 26.1841 4.02832 … -10.…\n",
       "  \"freq\"             => 7.02206\n",
       "  \"CanalesSaturados\" => Set(Array{Int64,1}[[31,6],[59,51],[21,59],[50,62],[1,1]…"
      ]
     },
     "execution_count": 6,
     "metadata": {},
     "output_type": "execute_result"
    }
   ],
   "source": [
    "Arxivo=load(archivo)"
   ]
  },
  {
   "cell_type": "code",
   "execution_count": 7,
   "metadata": {
    "collapsed": false,
    "deletable": true,
    "editable": true
   },
   "outputs": [],
   "source": [
    "CSD=Arxivo[\"kCSDCorrecta\"];"
   ]
  },
  {
   "cell_type": "code",
   "execution_count": 26,
   "metadata": {
    "collapsed": false
   },
   "outputs": [
    {
     "data": {
      "text/plain": [
       "(64,64,2000)"
      ]
     },
     "execution_count": 26,
     "metadata": {},
     "output_type": "execute_result"
    }
   ],
   "source": [
    "(alto,ancho,tmax)=size(CSD)"
   ]
  },
  {
   "cell_type": "code",
   "execution_count": 8,
   "metadata": {
    "collapsed": false,
    "deletable": true,
    "editable": true
   },
   "outputs": [
    {
     "data": {
      "text/plain": [
       "5"
      ]
     },
     "execution_count": 8,
     "metadata": {},
     "output_type": "execute_result"
    }
   ],
   "source": [
    "satu=length(Arxivo[\"CanalesSaturados\"])"
   ]
  },
  {
   "cell_type": "code",
   "execution_count": 9,
   "metadata": {
    "collapsed": false,
    "deletable": true,
    "editable": true
   },
   "outputs": [
    {
     "data": {
      "text/plain": [
       "(135,139,149)"
      ]
     },
     "execution_count": 9,
     "metadata": {},
     "output_type": "execute_result"
    }
   ],
   "source": [
    "listonga=(135,139,149)   "
   ]
  },
  {
   "cell_type": "code",
   "execution_count": 11,
   "metadata": {
    "collapsed": false,
    "deletable": true,
    "editable": true
   },
   "outputs": [
    {
     "data": {
      "text/plain": [
       "7.022058198545425"
      ]
     },
     "execution_count": 11,
     "metadata": {},
     "output_type": "execute_result"
    }
   ],
   "source": [
    "freq=Arxivo[\"freq\"]\n",
    "#retrazo=Arxivo[\"retrazo\"]"
   ]
  },
  {
   "cell_type": "code",
   "execution_count": 14,
   "metadata": {
    "collapsed": false,
    "deletable": true,
    "editable": true
   },
   "outputs": [
    {
     "data": {
      "text/plain": [
       "0"
      ]
     },
     "execution_count": 14,
     "metadata": {},
     "output_type": "execute_result"
    }
   ],
   "source": [
    "retrazo=0"
   ]
  },
  {
   "cell_type": "code",
   "execution_count": 15,
   "metadata": {
    "collapsed": false,
    "deletable": true,
    "editable": true
   },
   "outputs": [
    {
     "data": {
      "text/plain": [
       "\"Usamos las siguientes B y BT para obtener las Ks: BceroDura-r-0.25.dat y BtildeceroDura-r-0.25.dat\""
      ]
     },
     "execution_count": 15,
     "metadata": {},
     "output_type": "execute_result"
    }
   ],
   "source": [
    "Arxivo[\"Nota\"]"
   ]
  },
  {
   "cell_type": "code",
   "execution_count": 24,
   "metadata": {
    "collapsed": false,
    "deletable": true,
    "editable": true
   },
   "outputs": [
    {
     "data": {
      "image/png": "[encoded data removed]",
      "text/plain": [
       "PyPlot.Figure(PyObject <matplotlib.figure.Figure object at 0x7fcd14a1d780>)"
      ]
     },
     "metadata": {},
     "output_type": "display_data"
    }
   ],
   "source": [
    "t=1800\n",
    "ion()\n",
    "limites=100\n",
    "figure(figsize=(4,4))\n",
    "    xlim(0,65)\n",
    "    ylim(0,65)\n",
    "\n",
    "    ejemplo=CSD[:,:,t]\n",
    "    tiempo=round((t-retrazo)/freq,2)\n",
    "title(\"t= $tiempo ms\")\n",
    "imagen=imshow((ejemplo), origin=\"lower\", interpolation=\"none\",\n",
    "                  cmap=\"coolwarm\", \n",
    "                  vmin=-limites,vmax=limites, extent=[0.5,64.5,0.5,64.5])\n",
    "\n",
    "   cbx=colorbar(imagen, fraction=0.045, ticks=[]) \n",
    "cbx[:set_label](\"<-Sink | Source->\")"
   ]
  },
  {
   "cell_type": "code",
   "execution_count": 31,
   "metadata": {
    "collapsed": false,
    "deletable": true,
    "editable": true
   },
   "outputs": [],
   "source": [
    "ioff()\n",
    "limites=200\n",
    "for t=800:1350\n",
    "    figura=figure(figsize=(4,4))\n",
    "    xlim(0,65)\n",
    "    ylim(0,65)\n",
    "\n",
    "    ejemplo=CSD[:,:,t]\n",
    "    tiempo=round((t-retrazo)/freq,1)\n",
    "    title(\"t= $tiempo ms\")\n",
    "    imagen=imshow((ejemplo), origin=\"lower\", interpolation=\"sinc\",\n",
    "                  cmap=\"coolwarm\", \n",
    "                  vmin=-limites,vmax=limites, extent=[0.5,64.5,0.5,64.5])\n",
    "\n",
    "   cbx=colorbar(imagen, fraction=0.045, ticks=[]) \n",
    "cbx[:set_label](\"<-Sink | Source->\")\n",
    "    savefig(\"CSD_eventodeshinibido_02_$t.png\",dpi=90)\n",
    "    close(figura)\n",
    "end\n",
    "PyPlot.close_figs()"
   ]
  },
  {
   "cell_type": "code",
   "execution_count": null,
   "metadata": {
    "collapsed": true,
    "deletable": true,
    "editable": true
   },
   "outputs": [],
   "source": []
  }
 ],
 "metadata": {
  "kernelspec": {
   "display_name": "Julia 0.5.0",
   "language": "julia",
   "name": "julia-0.5"
  },
  "language_info": {
   "file_extension": ".jl",
   "mimetype": "application/julia",
   "name": "julia",
   "version": "0.5.0"
  }
 },
 "nbformat": 4,
 "nbformat_minor": 0
}
