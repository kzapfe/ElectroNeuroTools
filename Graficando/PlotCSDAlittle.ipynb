{
 "cells": [
  {
   "cell_type": "code",
   "execution_count": 3,
   "metadata": {
    "collapsed": false
   },
   "outputs": [],
   "source": [
    "using JLD, PyPlot"
   ]
  },
  {
   "cell_type": "code",
   "execution_count": 40,
   "metadata": {
    "collapsed": false
   },
   "outputs": [
    {
     "data": {
      "text/plain": [
       "\"/home/karel/RGutWork/kCSD/JLDForkCSDExacto2/evento_desinhibido_3.jld\""
      ]
     },
     "execution_count": 40,
     "metadata": {},
     "output_type": "execute_result"
    }
   ],
   "source": [
    "archivo=\"/home/karel/RGutWork/kCSD/JLDForkCSDExacto2/evento_desinhibido_3.jld\""
   ]
  },
  {
   "cell_type": "code",
   "execution_count": 41,
   "metadata": {
    "collapsed": false
   },
   "outputs": [
    {
     "data": {
      "text/plain": [
       "Dict{ByteString,Any} with 7 entries:\n",
       "  \"Canalesrespuesta\" => Set([[51,31],[47,24],[50,29],[30,2],[46,14],[45,3],[43,…\n",
       "  \"KTT_KInv\"         => 4093x4093 Array{Float64,2}:…\n",
       "  \"kCSDCorrecta\"     => 64x64x2000 Array{Float64,3}:…\n",
       "  \"Nota\"             => \"Usamos las siguientes B y BT para obtener las Ks: Bcer…\n",
       "  \"LFPSaturados\"     => 64x64x2000 Array{Float64,3}:…\n",
       "  \"freq\"             => 7.022058198545425\n",
       "  \"CanalesSaturados\" => Set([[57,10],[1,1],[5,43]])"
      ]
     },
     "execution_count": 41,
     "metadata": {},
     "output_type": "execute_result"
    }
   ],
   "source": [
    "Arxivo=load(archivo)"
   ]
  },
  {
   "cell_type": "code",
   "execution_count": 42,
   "metadata": {
    "collapsed": false
   },
   "outputs": [],
   "source": [
    "CSD=Arxivo[\"kCSDCorrecta\"];"
   ]
  },
  {
   "cell_type": "code",
   "execution_count": 43,
   "metadata": {
    "collapsed": false
   },
   "outputs": [
    {
     "data": {
      "text/plain": [
       "(135,139,139)"
      ]
     },
     "execution_count": 43,
     "metadata": {},
     "output_type": "execute_result"
    }
   ],
   "source": [
    "listonga=(135,139,139)   "
   ]
  },
  {
   "cell_type": "code",
   "execution_count": 44,
   "metadata": {
    "collapsed": false
   },
   "outputs": [
    {
     "ename": "LoadError",
     "evalue": "KeyError: retrazo not found",
     "output_type": "error",
     "traceback": [
      "KeyError: retrazo not found",
      "",
      " in getindex at dict.jl:718"
     ]
    }
   ],
   "source": [
    "freq=Arxivo[\"freq\"]\n",
    "retrazo=Arxivo[\"retrazo\"]"
   ]
  },
  {
   "cell_type": "code",
   "execution_count": 45,
   "metadata": {
    "collapsed": false
   },
   "outputs": [
    {
     "data": {
      "text/plain": [
       "0"
      ]
     },
     "execution_count": 45,
     "metadata": {},
     "output_type": "execute_result"
    }
   ],
   "source": [
    "retrazo=0"
   ]
  },
  {
   "cell_type": "code",
   "execution_count": 46,
   "metadata": {
    "collapsed": false
   },
   "outputs": [
    {
     "data": {
      "text/plain": [
       "\"Usamos las siguientes B y BT para obtener las Ks: BceroDura-r-0.25.dat y BtildeceroDura-r-0.25.dat\""
      ]
     },
     "execution_count": 46,
     "metadata": {},
     "output_type": "execute_result"
    }
   ],
   "source": [
    "Arxivo[\"Nota\"]"
   ]
  },
  {
   "cell_type": "code",
   "execution_count": 48,
   "metadata": {
    "collapsed": false
   },
   "outputs": [
    {
     "data": {
      "image/png": "[encoded data removed]",
      "text/plain": [
       "PyPlot.Figure(PyObject <matplotlib.figure.Figure object at 0x7fc80fe75d68>)"
      ]
     },
     "metadata": {},
     "output_type": "display_data"
    }
   ],
   "source": [
    "t=400\n",
    "ion()\n",
    "limites=100\n",
    "figure(figsize=(4,4))\n",
    "    xlim(0,65)\n",
    "    ylim(0,65)\n",
    "\n",
    "    ejemplo=CSD[:,:,t]\n",
    "    tiempo=round((t-retrazo)/freq,2)\n",
    "title(\"t= $tiempo ms\")\n",
    "imagen=imshow((ejemplo), origin=\"lower\", interpolation=\"none\",\n",
    "                  cmap=\"coolwarm\", \n",
    "                  vmin=-limites,vmax=limites, extent=[0.5,64.5,0.5,64.5])\n",
    "\n",
    "   cbx=colorbar(imagen, fraction=0.045, ticks=[]) \n",
    "cbx[:set_label](\"<-Sink | Source->\")"
   ]
  },
  {
   "cell_type": "code",
   "execution_count": 49,
   "metadata": {
    "collapsed": false
   },
   "outputs": [],
   "source": [
    "ioff()\n",
    "limites=100\n",
    "for t=1:1000\n",
    "    figura=figure(figsize=(4,4))\n",
    "    xlim(0,65)\n",
    "    ylim(0,65)\n",
    "\n",
    "    ejemplo=CSD[:,:,t]\n",
    "    tiempo=round((t-retrazo)/freq,2)\n",
    "    title(\"t= $tiempo ms\")\n",
    "    imagen=imshow((ejemplo), origin=\"lower\", interpolation=\"sinc\",\n",
    "                  cmap=\"coolwarm\", \n",
    "                  vmin=-limites,vmax=limites, extent=[0.5,64.5,0.5,64.5])\n",
    "\n",
    "   cbx=colorbar(imagen, fraction=0.045, ticks=[]) \n",
    "cbx[:set_label](\"<-Sink | Source->\")\n",
    "    savefig(\"CSD_1915s1cut_singlevent_$t.png\",dpi=90)\n",
    "    close(figura)\n",
    "end\n",
    "PyPlot.close_figs()"
   ]
  },
  {
   "cell_type": "code",
   "execution_count": null,
   "metadata": {
    "collapsed": true
   },
   "outputs": [],
   "source": []
  }
 ],
 "metadata": {
  "kernelspec": {
   "display_name": "Julia 0.4.2-pre",
   "language": "julia",
   "name": "julia-0.4"
  },
  "language_info": {
   "file_extension": ".jl",
   "mimetype": "application/julia",
   "name": "julia",
   "version": "0.4.2"
  }
 },
 "nbformat": 4,
 "nbformat_minor": 0
}
