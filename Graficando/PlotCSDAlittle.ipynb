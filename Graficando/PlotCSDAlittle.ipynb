{
 "cells": [
  {
   "cell_type": "code",
   "execution_count": 3,
   "metadata": {
    "collapsed": false
   },
   "outputs": [],
   "source": [
    "using JLD, PyPlot"
   ]
  },
  {
   "cell_type": "code",
   "execution_count": 24,
   "metadata": {
    "collapsed": false
   },
   "outputs": [
    {
     "data": {
      "text/plain": [
       "\"/home/karel/RGutWork/kCSD/JLDForkCSDExacto2/LFP_Promedio_est_con7.jld\""
      ]
     },
     "execution_count": 24,
     "metadata": {},
     "output_type": "execute_result"
    }
   ],
   "source": [
    "archivo=\"/home/karel/RGutWork/kCSD/JLDForkCSDExacto2/LFP_Promedio"
   ]
  },
  {
   "cell_type": "code",
   "execution_count": 25,
   "metadata": {
    "collapsed": false
   },
   "outputs": [
    {
     "data": {
      "text/plain": [
       "Dict{ByteString,Any} with 10 entries:\n",
       "  \"Canalesrespuesta\" => Set([[19,36],[34,53],[52,55],[33,56],[32,42],[32,43],[3…\n",
       "  \"KTT_KInv\"         => 3546x3546 Array{Float64,2}:…\n",
       "  \"freq\"             => 17.85550205219098\n",
       "  \"latencia\"         => 27\n",
       "  \"kCSDCorrecta\"     => 64x64x1163 Array{Float64,3}:…\n",
       "  \"retrazo\"          => 90\n",
       "  \"Nota\"             => \"Usamos las siguientes B y BT para obtener las Ks: Bcer…\n",
       "  \"LFPSaturados\"     => 64x64x1163 Array{Float64,3}:…\n",
       "  \"final\"            => 1072\n",
       "  \"CanalesSaturados\" => Set([[10,46],[25,20],[11,63],[15,48],[33,57],[6,37],[25…"
      ]
     },
     "execution_count": 25,
     "metadata": {},
     "output_type": "execute_result"
    }
   ],
   "source": [
    "Arxivo=load(archivo)"
   ]
  },
  {
   "cell_type": "code",
   "execution_count": 26,
   "metadata": {
    "collapsed": false
   },
   "outputs": [],
   "source": [
    "CSD=Arxivo[\"kCSDCorrecta\"];"
   ]
  },
  {
   "cell_type": "code",
   "execution_count": 27,
   "metadata": {
    "collapsed": false
   },
   "outputs": [
    {
     "data": {
      "text/plain": [
       "550"
      ]
     },
     "execution_count": 27,
     "metadata": {},
     "output_type": "execute_result"
    }
   ],
   "source": [
    "satu=length(Arxivo[\"CanalesSaturados\"])"
   ]
  },
  {
   "cell_type": "code",
   "execution_count": 28,
   "metadata": {
    "collapsed": false
   },
   "outputs": [
    {
     "data": {
      "text/plain": [
       "(135,139,139)"
      ]
     },
     "execution_count": 28,
     "metadata": {},
     "output_type": "execute_result"
    }
   ],
   "source": [
    "listonga=(135,139,139)   "
   ]
  },
  {
   "cell_type": "code",
   "execution_count": 29,
   "metadata": {
    "collapsed": false
   },
   "outputs": [
    {
     "data": {
      "text/plain": [
       "90"
      ]
     },
     "execution_count": 29,
     "metadata": {},
     "output_type": "execute_result"
    }
   ],
   "source": [
    "freq=Arxivo[\"freq\"]\n",
    "retrazo=Arxivo[\"retrazo\"]"
   ]
  },
  {
   "cell_type": "code",
   "execution_count": 30,
   "metadata": {
    "collapsed": false
   },
   "outputs": [],
   "source": [
    "#retrazo=0"
   ]
  },
  {
   "cell_type": "code",
   "execution_count": 31,
   "metadata": {
    "collapsed": false
   },
   "outputs": [
    {
     "data": {
      "text/plain": [
       "\"Usamos las siguientes B y BT para obtener las Ks: BceroDura-r-0.25.dat y BtildeceroDura-r-0.25.dat\""
      ]
     },
     "execution_count": 31,
     "metadata": {},
     "output_type": "execute_result"
    }
   ],
   "source": [
    "Arxivo[\"Nota\"]"
   ]
  },
  {
   "cell_type": "code",
   "execution_count": 32,
   "metadata": {
    "collapsed": false
   },
   "outputs": [
    {
     "data": {
      "image/png": "[encoded data removed]",
      "text/plain": [
       "PyPlot.Figure(PyObject <matplotlib.figure.Figure object at 0x7f5757bfbeb8>)"
      ]
     },
     "metadata": {},
     "output_type": "display_data"
    }
   ],
   "source": [
    "t=400\n",
    "ion()\n",
    "limites=100\n",
    "figure(figsize=(4,4))\n",
    "    xlim(0,65)\n",
    "    ylim(0,65)\n",
    "\n",
    "    ejemplo=CSD[:,:,t]\n",
    "    tiempo=round((t-retrazo)/freq,2)\n",
    "title(\"t= $tiempo ms\")\n",
    "imagen=imshow((ejemplo), origin=\"lower\", interpolation=\"none\",\n",
    "                  cmap=\"coolwarm\", \n",
    "                  vmin=-limites,vmax=limites, extent=[0.5,64.5,0.5,64.5])\n",
    "\n",
    "   cbx=colorbar(imagen, fraction=0.045, ticks=[]) \n",
    "cbx[:set_label](\"<-Sink | Source->\")"
   ]
  },
  {
   "cell_type": "code",
   "execution_count": 33,
   "metadata": {
    "collapsed": false
   },
   "outputs": [],
   "source": [
    "ioff()\n",
    "limites=100\n",
    "for t=1:1000\n",
    "    figura=figure(figsize=(4,4))\n",
    "    xlim(0,65)\n",
    "    ylim(0,65)\n",
    "\n",
    "    ejemplo=CSD[:,:,t]\n",
    "    tiempo=round((t-retrazo)/freq,2)\n",
    "    title(\"t= $tiempo ms\")\n",
    "    imagen=imshow((ejemplo), origin=\"lower\", interpolation=\"sinc\",\n",
    "                  cmap=\"coolwarm\", \n",
    "                  vmin=-limites,vmax=limites, extent=[0.5,64.5,0.5,64.5])\n",
    "\n",
    "   cbx=colorbar(imagen, fraction=0.045, ticks=[]) \n",
    "cbx[:set_label](\"<-Sink | Source->\")\n",
    "    savefig(\"CSD_antidromica_nbqx_V04_$t.png\",dpi=90)\n",
    "    close(figura)\n",
    "end\n",
    "PyPlot.close_figs()"
   ]
  },
  {
   "cell_type": "code",
   "execution_count": null,
   "metadata": {
    "collapsed": true
   },
   "outputs": [],
   "source": []
  }
 ],
 "metadata": {
  "kernelspec": {
   "display_name": "Julia 0.4.2-pre",
   "language": "julia",
   "name": "julia-0.4"
  },
  "language_info": {
   "file_extension": ".jl",
   "mimetype": "application/julia",
   "name": "julia",
   "version": "0.4.2"
  }
 },
 "nbformat": 4,
 "nbformat_minor": 0
}
