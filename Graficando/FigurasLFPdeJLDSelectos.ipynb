{
 "cells": [
  {
   "cell_type": "code",
   "execution_count": null,
   "metadata": {
    "collapsed": true
   },
   "outputs": [],
   "source": [
    "using JLD, PyPlot"
   ]
  },
  {
   "cell_type": "code",
   "execution_count": null,
   "metadata": {},
   "outputs": [],
   "source": [
    "archivo=\"../Evocada/antidromicamefluoquina/LFP_Promedio_310816_stim_antidromic_nbqx_apv_mfq6.jld\""
   ]
  },
  {
   "cell_type": "code",
   "execution_count": null,
   "metadata": {},
   "outputs": [],
   "source": [
    "LFP=load(archivo)[\"LFPSaturados\"]\n",
    "saturados=load(archivo)[\"CanalesSaturados\"]\n",
    "respuestas=load(archivo)[\"Canalesrespuesta\"];\n",
    "retrazo=load(archivo)[\"retrazo\"]\n",
    "frecuencia=load(archivo)[\"freq\"]"
   ]
  },
  {
   "cell_type": "code",
   "execution_count": null,
   "metadata": {
    "collapsed": true
   },
   "outputs": [],
   "source": [
    "tantossaturados=length(saturados)\n",
    "tantosrespuesta=length(respuestas);"
   ]
  },
  {
   "cell_type": "code",
   "execution_count": null,
   "metadata": {},
   "outputs": [],
   "source": [
    "texg=136\n",
    "latencia=round(Int, ceil(1.5*frecuencia))\n",
    "retrazo"
   ]
  },
  {
   "cell_type": "code",
   "execution_count": null,
   "metadata": {},
   "outputs": [],
   "source": [
    "iniciobusqueda=retrazo\n",
    "finbusqueda=retrazo+10*latencia"
   ]
  },
  {
   "cell_type": "code",
   "execution_count": null,
   "metadata": {
    "collapsed": true
   },
   "outputs": [],
   "source": [
    "xxsresp=zeros(tantosrespuesta)\n",
    "yysresp=zeros(tantosrespuesta)\n",
    "j=1\n",
    "for q in respuestas\n",
    "    xxsresp[j]=q[2]\n",
    "    yysresp[j]=q[1]\n",
    "    j+=1\n",
    "end\n",
    "xxssatu=zeros(tantossaturados)\n",
    "yyssatu=zeros(tantossaturados)\n",
    "j=1\n",
    "for q in saturados\n",
    "    xxssatu[j]=q[2]\n",
    "    yyssatu[j]=q[1]\n",
    "    j+=1\n",
    "end"
   ]
  },
  {
   "cell_type": "code",
   "execution_count": null,
   "metadata": {
    "collapsed": true
   },
   "outputs": [],
   "source": [
    "ejemplo=LFP[:,:,texg];"
   ]
  },
  {
   "cell_type": "code",
   "execution_count": null,
   "metadata": {},
   "outputs": [],
   "source": [
    "figure(figsize=(8,8))\n",
    "xlim(0,65)\n",
    "ylim(0,65)\n",
    "grid()\n",
    "limites=200\n",
    "imagen=imshow(ejemplo, origin=\"lower\", interpolation=\"nearest\", cmap=\"Spectral_r\", \n",
    "vmin=-limites,vmax=limites, extent=[0.5,64.5,0.5,64.5])\n",
    "cb=colorbar(imagen, fraction=0.046)\n",
    "scatter(xxsresp,yysresp, alpha=0.9, c=\"red\", edgecolor=\"none\", label=\"Respuestas\")   \n",
    "scatter(xxssatu,yyssatu, alpha=0.9, c=\"black\", edgecolor=\"none\", marker=\"x\", label=\"Saturados\") \n",
    "legend()\n",
    "savefig(\"MapaSaturados.png\",dpi=90)\n",
    "#scatter(46,31)"
   ]
  },
  {
   "cell_type": "code",
   "execution_count": null,
   "metadata": {},
   "outputs": [],
   "source": [
    "tmax=size(LFP,3)"
   ]
  },
  {
   "cell_type": "code",
   "execution_count": null,
   "metadata": {},
   "outputs": [],
   "source": [
    "mean(LFP[31,46,iniciobusqueda:finbusqueda])"
   ]
  },
  {
   "cell_type": "code",
   "execution_count": null,
   "metadata": {},
   "outputs": [],
   "source": [
    "plot(1:tmax, vec(LFP[31,46,1:tmax]))"
   ]
  },
  {
   "cell_type": "code",
   "execution_count": null,
   "metadata": {},
   "outputs": [],
   "source": [
    "mean(ejemplo)"
   ]
  },
  {
   "cell_type": "code",
   "execution_count": null,
   "metadata": {
    "collapsed": true
   },
   "outputs": [],
   "source": [
    "\n",
    "tmax=size(LFP,3)\n",
    "for t=1:2\n",
    "    ioff()\n",
    "    PyPlot.ioff()\n",
    "figure(figsize=(6,6))\n",
    "xlim(0,65)\n",
    "ylim(0,65)\n",
    "    ejemplo=LFP[:,:,t]\n",
    "imagen=imshow(ejemplo, origin=\"lower\", interpolation=\"nearest\", cmap=\"winter\", \n",
    "vmin=-limites,vmax=limites, extent=[0.5,64.5,0.5,64.5])\n",
    "cb=colorbar(imagen, fraction=0.046)\n",
    "    if t>(tmax-140)\n",
    "\n",
    "        scatter(xxsresp,yysresp, alpha=0.9, c=\"red\", edgecolor=\"none\")\n",
    "        scatter(xxssatu,yyssatu, alpha=0.9, c=\"white\", edgecolor=\"none\", marker=\"s\") \n",
    "    end\n",
    "    savefig(\"LFP_Try_$t.png\",dpi=90)\n",
    "    close()\n",
    "    PyPlot.close_figs()\n",
    "end"
   ]
  },
  {
   "cell_type": "code",
   "execution_count": null,
   "metadata": {
    "collapsed": true
   },
   "outputs": [],
   "source": []
  }
 ],
 "metadata": {
  "kernelspec": {
   "display_name": "Julia 0.4.3-pre",
   "language": "julia",
   "name": "julia-0.4"
  },
  "language_info": {
   "file_extension": ".jl",
   "mimetype": "application/julia",
   "name": "julia",
   "version": "0.4.2"
  }
 },
 "nbformat": 4,
 "nbformat_minor": 1
}
