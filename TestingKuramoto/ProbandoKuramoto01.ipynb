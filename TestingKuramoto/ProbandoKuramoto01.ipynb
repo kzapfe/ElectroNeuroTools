{
 "metadata": {
  "name": ""
 },
 "nbformat": 3,
 "nbformat_minor": 0,
 "worksheets": [
  {
   "cells": [
    {
     "cell_type": "markdown",
     "metadata": {},
     "source": [
      "Los paquetes necesarios"
     ]
    },
    {
     "cell_type": "code",
     "collapsed": false,
     "input": [
      "import numpy as np"
     ],
     "language": "python",
     "metadata": {},
     "outputs": [],
     "prompt_number": 3
    },
    {
     "cell_type": "markdown",
     "metadata": {},
     "source": [
      "Primero, los parametros."
     ]
    },
    {
     "cell_type": "code",
     "collapsed": false,
     "input": [
      "N=40.0\n",
      "K=6.0\n",
      "OmegaPromedio=0.00\n",
      "sigma=1.0"
     ],
     "language": "python",
     "metadata": {},
     "outputs": [],
     "prompt_number": 203
    },
    {
     "cell_type": "markdown",
     "metadata": {},
     "source": [
      "Definamos un Oscilador Kuramoto."
     ]
    },
    {
     "cell_type": "code",
     "collapsed": false,
     "input": [
      "class OsciladorKuramoto:\n",
      "    \"\"\"Un Oscilador de Kuramoto\"\"\"\n",
      "    def __init__(self, Tantos=N, Acoplamiento=K):\n",
      "        \"\"\"Esta funcion inicializa con N osciladores acoplados con K intensidad\"\"\"\n",
      "        self.Tantos=Tantos\n",
      "        self.Acoplamiento=Acoplamiento\n",
      "        self.theta=np.random.uniform(low=0, high=2.0*np.pi, size=self.Tantos)\n",
      "        self.omega=np.random.normal(loc=OmegaPromedio, scale=sigma, size=self.Tantos)\n",
      "        self.h=0.01\n",
      "    \n",
      "    def fasediferencias(self):\n",
      "        \"\"\"Esta funcion es un auxiliar de prueba\"\"\"\n",
      "        result=self.theta[:,np.newaxis]-self.theta\n",
      "        return result\n",
      "        \n",
      "    def thetapunto(self):\n",
      "        \"\"\"Esta funcion construye un arreglo 2d de las diferencias de angulos, las suma, las multiplica por las \n",
      "        constantes adecuadas y hace thetapunto como array\"\"\"\n",
      "        senos=np.sin(self.theta[:,np.newaxis]-self.theta)\n",
      "        thetapunto=self.omega+(self.Acoplamiento/self.Tantos)*np.sum(senos,axis=1)\n",
      "        return thetapunto\n",
      "    \n",
      "    def paso(self):\n",
      "        self.theta=self.theta+self.h*self.thetapunto()\n",
      "        self.theta=np.fmod(self.theta+2*np.pi, 2*np.pi)"
     ],
     "language": "python",
     "metadata": {},
     "outputs": [],
     "prompt_number": 204
    },
    {
     "cell_type": "code",
     "collapsed": false,
     "input": [
      "Rau=OsciladorKuramoto()"
     ],
     "language": "python",
     "metadata": {},
     "outputs": [],
     "prompt_number": 205
    },
    {
     "cell_type": "code",
     "collapsed": false,
     "input": [
      "tmax=300\n",
      "datos=open('Kuramotos01.dat', 'w')\n",
      "derivadas=open('ThetaPunto01.dat','w')\n",
      "#Let us start the fun\n",
      "for t in range(0,tmax):\n",
      "    \"\"\"Integracion temporal\"\"\"\n",
      "    Rau.paso()\n",
      "    #El mugroso formateador de abajo garantiza que podamos imprimir los osciladores en columnas descentes\n",
      "    print('\\t'.join(map(str, Rau.theta)), file=datos)\n",
      "    print('\\t'.join(map(str, Rau.thetapunto())), file=derivadas)\n",
      "    \n",
      "datos.close()\n",
      "derivadas.close()"
     ],
     "language": "python",
     "metadata": {},
     "outputs": [],
     "prompt_number": 207
    },
    {
     "cell_type": "code",
     "collapsed": false,
     "input": [],
     "language": "python",
     "metadata": {},
     "outputs": [],
     "prompt_number": 200
    },
    {
     "cell_type": "code",
     "collapsed": false,
     "input": [],
     "language": "python",
     "metadata": {},
     "outputs": [],
     "prompt_number": 201
    },
    {
     "cell_type": "code",
     "collapsed": false,
     "input": [],
     "language": "python",
     "metadata": {},
     "outputs": [],
     "prompt_number": 101
    },
    {
     "cell_type": "code",
     "collapsed": false,
     "input": [],
     "language": "python",
     "metadata": {},
     "outputs": []
    }
   ],
   "metadata": {}
  }
 ]
}