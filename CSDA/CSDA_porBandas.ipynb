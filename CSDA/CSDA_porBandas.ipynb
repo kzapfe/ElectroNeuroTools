{
 "cells": [
  {
   "cell_type": "markdown",
   "metadata": {},
   "source": [
    "Una versión para los Potenciales separados por bandas."
   ]
  },
  {
   "cell_type": "code",
   "execution_count": 1,
   "metadata": {},
   "outputs": [
    {
     "data": {
      "text/plain": [
       "4-element Array{String,1}:\n",
       " \"@\"\n",
       " \"@v#.#\"\n",
       " \"@stdlib\"\n",
       " \".\""
      ]
     },
     "execution_count": 1,
     "metadata": {},
     "output_type": "execute_result"
    }
   ],
   "source": [
    "push!(LOAD_PATH, \".\")"
   ]
  },
  {
   "cell_type": "code",
   "execution_count": 2,
   "metadata": {},
   "outputs": [
    {
     "name": "stderr",
     "output_type": "stream",
     "text": [
      "┌ Info: Precompiling ParaSets [top-level]\n",
      "└ @ Base loading.jl:1260\n"
     ]
    }
   ],
   "source": [
    "using HDF5\n",
    "using LindenbergOperadores, ParaSets\n",
    "#importall LindenbergOperadores"
   ]
  },
  {
   "cell_type": "code",
   "execution_count": 3,
   "metadata": {},
   "outputs": [
    {
     "data": {
      "text/plain": [
       "7-element Array{String,1}:\n",
       " \"alpha\"\n",
       " \"beta\"\n",
       " \"delta\"\n",
       " \"gamma\"\n",
       " \"spr\"\n",
       " \"theta\"\n",
       " \"uspr\""
      ]
     },
     "execution_count": 3,
     "metadata": {},
     "output_type": "execute_result"
    }
   ],
   "source": [
    "arxnombre=\"../JLDFiles/Deshinibida/180116s1/180116s1cut_evento_1_bandaslfp.h5\"\n",
    "arx=h5open(arxnombre)\n",
    "nambandas=names(arx)"
   ]
  },
  {
   "cell_type": "code",
   "execution_count": 4,
   "metadata": {},
   "outputs": [
    {
     "data": {
      "text/plain": [
       "5-element Array{String,1}:\n",
       " \"alpha\"\n",
       " \"beta\"\n",
       " \"gamma\"\n",
       " \"spr\"\n",
       " \"uspr\""
      ]
     },
     "execution_count": 4,
     "metadata": {},
     "output_type": "execute_result"
    }
   ],
   "source": [
    "nomutiles=[\"alpha\", \"beta\", \"gamma\", \"spr\", \"uspr\"]"
   ]
  },
  {
   "cell_type": "markdown",
   "metadata": {},
   "source": [
    "Theta y Delta no tienen nada en el archivo de prueba, 180116s1cut_evento_1"
   ]
  },
  {
   "cell_type": "code",
   "execution_count": 5,
   "metadata": {},
   "outputs": [
    {
     "data": {
      "text/plain": [
       "7-element Array{String,1}:\n",
       " \"CMPNeg\"\n",
       " \"CMPos\"\n",
       " \"CSDLindenberg\"\n",
       " \"CanalesSaturados\"\n",
       " \"Canalesrespuesta\"\n",
       " \"LFPTotal\"\n",
       " \"freq\""
      ]
     },
     "execution_count": 5,
     "metadata": {},
     "output_type": "execute_result"
    }
   ],
   "source": [
    "arxbasenombre=\"../JLDFiles/Deshinibida/180116s1/180116s1cut_evento_1.h5\"\n",
    "arxbase=h5open(arxbasenombre)\n",
    "nambase=names(arxbase)"
   ]
  },
  {
   "cell_type": "code",
   "execution_count": 6,
   "metadata": {},
   "outputs": [],
   "source": [
    "saturadosarray=read(arxbase[\"CanalesSaturados\"])\n",
    "respuestasarray=read(arxbase[\"Canalesrespuesta\"]);\n",
    "frecuencia=read(arxbase[\"freq\"])\n",
    "close(arxbase)"
   ]
  },
  {
   "cell_type": "code",
   "execution_count": 7,
   "metadata": {},
   "outputs": [],
   "source": [
    "saturados=arraytoset(saturadosarray)\n",
    "respuestas=arraytoset(respuestasarray);"
   ]
  },
  {
   "cell_type": "code",
   "execution_count": 8,
   "metadata": {},
   "outputs": [
    {
     "data": {
      "text/plain": [
       "Dict{String,Array} with 0 entries"
      ]
     },
     "execution_count": 8,
     "metadata": {},
     "output_type": "execute_result"
    }
   ],
   "source": [
    "lfps=Dict{String, Array}()"
   ]
  },
  {
   "cell_type": "code",
   "execution_count": 9,
   "metadata": {},
   "outputs": [
    {
     "data": {
      "text/plain": [
       "2001"
      ]
     },
     "execution_count": 9,
     "metadata": {},
     "output_type": "execute_result"
    }
   ],
   "source": [
    "for n in nomutiles\n",
    "    lfps[n]=read(arx[n])\n",
    "end\n",
    "nmax=size(lfps[\"alpha\"],3)"
   ]
  },
  {
   "cell_type": "code",
   "execution_count": 10,
   "metadata": {},
   "outputs": [],
   "source": [
    "for n in nomutiles\n",
    "#Poner en cero los canales inservibles\n",
    "    for m in saturados\n",
    "        q=m[1]\n",
    "        p=m[2]\n",
    "        lfps[n][q,p,:]=zeros(nmax)\n",
    "    end\n",
    "end"
   ]
  },
  {
   "cell_type": "code",
   "execution_count": 11,
   "metadata": {},
   "outputs": [],
   "source": [
    "#Creamos una mancha suave sobre el canal saturado.\n",
    "for n in nomutiles\n",
    "    for m in saturados\n",
    "        q=m[1]\n",
    "        p=m[2]\n",
    "        vecinos=vecindad8(m)\n",
    "        lfps[n][q,p,:]=promediasobreconjunto(vecinos,lfps[n])\n",
    "    end\n",
    "end"
   ]
  },
  {
   "cell_type": "code",
   "execution_count": 13,
   "metadata": {},
   "outputs": [
    {
     "data": {
      "text/plain": [
       "(64, 64, 2001)"
      ]
     },
     "execution_count": 13,
     "metadata": {},
     "output_type": "execute_result"
    }
   ],
   "source": [
    "(mu, nu, lu)=size(lfps[\"alpha\"])"
   ]
  },
  {
   "cell_type": "code",
   "execution_count": 14,
   "metadata": {},
   "outputs": [
    {
     "data": {
      "text/plain": [
       "Dict{String,Array} with 0 entries"
      ]
     },
     "execution_count": 14,
     "metadata": {},
     "output_type": "execute_result"
    }
   ],
   "source": [
    "csds=Dict{String, Array}()"
   ]
  },
  {
   "cell_type": "code",
   "execution_count": 16,
   "metadata": {},
   "outputs": [],
   "source": [
    "for n in nomutiles\n",
    "    aux1=zeros(mu,nu,lu)\n",
    "    aux2=zeros(mu,nu,lu)\n",
    "    #Suavizamos espacialmente con un filtro Gaussiano bidimensional el LFP.\n",
    "    #Posteriormente sacamos el dCSD.\n",
    "    for t=1:lu\n",
    "        aux1[:,:,t]=GaussianSmooth(lfps[n][:,:,t])\n",
    "        aux2[:,:,t]=DiscreteLaplacian(aux1[:,:,t])\n",
    "    end\n",
    "    csds[n]=-aux2;\n",
    "end"
   ]
  },
  {
   "cell_type": "code",
   "execution_count": 25,
   "metadata": {},
   "outputs": [],
   "source": [
    "arxout=arxnombre[1:end-6]*\"csd.h5\"\n",
    "\n",
    "h5open(arxout, \"w\") do file\n",
    "    for n in nomutiles\n",
    "    write(file, n, csds[n])  # alternatively, say \"@write file A\"\n",
    "    end\n",
    "end"
   ]
  },
  {
   "cell_type": "code",
   "execution_count": 26,
   "metadata": {},
   "outputs": [
    {
     "data": {
      "text/plain": [
       "5-element Array{String,1}:\n",
       " \"alpha\"\n",
       " \"beta\"\n",
       " \"gamma\"\n",
       " \"spr\"\n",
       " \"uspr\""
      ]
     },
     "execution_count": 26,
     "metadata": {},
     "output_type": "execute_result"
    }
   ],
   "source": [
    "arx=h5open(arxout)\n",
    "names(arx)"
   ]
  },
  {
   "cell_type": "code",
   "execution_count": 28,
   "metadata": {},
   "outputs": [],
   "source": [
    "close(arx)"
   ]
  },
  {
   "cell_type": "code",
   "execution_count": 29,
   "metadata": {},
   "outputs": [
    {
     "data": {
      "text/plain": [
       "\"../JLDFiles/Deshinibida/180116s1/180116s1cut_evento_1_bandascsd.h5\""
      ]
     },
     "execution_count": 29,
     "metadata": {},
     "output_type": "execute_result"
    }
   ],
   "source": [
    "arxout"
   ]
  },
  {
   "cell_type": "code",
   "execution_count": null,
   "metadata": {},
   "outputs": [],
   "source": []
  }
 ],
 "metadata": {
  "@webio": {
   "lastCommId": null,
   "lastKernelId": null
  },
  "kernelspec": {
   "display_name": "Julia 1.4.1",
   "language": "julia",
   "name": "julia-1.4"
  },
  "language_info": {
   "file_extension": ".jl",
   "mimetype": "application/julia",
   "name": "julia",
   "version": "1.4.1"
  }
 },
 "nbformat": 4,
 "nbformat_minor": 2
}
