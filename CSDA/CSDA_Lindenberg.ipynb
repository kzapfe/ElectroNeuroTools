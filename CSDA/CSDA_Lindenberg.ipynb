{
 "cells": [
  {
   "cell_type": "markdown",
   "metadata": {},
   "source": [
    "Este cuaderno es simplemente una versión anotada en Jupyter del programa CSDALindenberg.jl. \n",
    "\n",
    "Usa el operador convexo de Lindenberg como Laplaciano.\n",
    "Para usarse requiere un archivo *jld que contenga el LFP\n",
    "como fue registrado en el experimento (o promediado sobre eventos evocados),\n",
    "y, optativamente, una lista de electrodos inusables (\"saturados\")."
   ]
  },
  {
   "cell_type": "code",
   "execution_count": 1,
   "metadata": {},
   "outputs": [],
   "source": [
    "using JLD\n",
    "include(\"LindenbergOperadores.jl\")\n",
    "importall LindenbergOperadores"
   ]
  },
  {
   "cell_type": "code",
   "execution_count": 3,
   "metadata": {},
   "outputs": [
    {
     "data": {
      "text/plain": [
       "Dict{String,Any} with 6 entries:\n",
       "  \"Canalesrespuesta\" => Set(Array{Int64,1}[[30, 55], [52, 14], [6, 37], [38, 4]…\n",
       "  \"desde\"            => 29000\n",
       "  \"hasta\"            => 34000\n",
       "  \"LFPSaturados\"     => [4125.0 -12.085 … 6.04248 22.1558; -34.2407 -8.05664 … …\n",
       "  \"freq\"             => 17.8555\n",
       "  \"CanalesSaturados\" => Set(Array{Int64,1}[[64, 63], [9, 38], [9, 41], [9, 37],…"
      ]
     },
     "execution_count": 3,
     "metadata": {},
     "output_type": "execute_result"
    }
   ],
   "source": [
    "arxnombre=\"../JLDFiles/estriadoscachos/Corte_final_estriado_slice1_1004AP.jld\"\n",
    "arx=load(arxnombre)"
   ]
  },
  {
   "cell_type": "code",
   "execution_count": 4,
   "metadata": {},
   "outputs": [
    {
     "name": "stdout",
     "output_type": "stream",
     "text": [
      "../JLDFiles/estriadoscachos/Corte_final_estriado_slice1_1004AP\n"
     ]
    }
   ],
   "source": [
    "#quitemos la terminacion de los nombres de archivo\n",
    "palabra=replace(arxnombre,\".jld\", \"\")\n",
    "println(palabra)"
   ]
  },
  {
   "cell_type": "code",
   "execution_count": 5,
   "metadata": {},
   "outputs": [
    {
     "data": {
      "text/plain": [
       "17.85550205219098"
      ]
     },
     "execution_count": 5,
     "metadata": {},
     "output_type": "execute_result"
    }
   ],
   "source": [
    "# cargando los datos importantes\n",
    "if haskey(arx, \"LFPSaturados\")\n",
    "    LFP=arx[\"LFPSaturados\"]\n",
    "else\n",
    "    LFP=arx[\"LFPTotal\"]\n",
    "end\n",
    "saturados=arx[\"CanalesSaturados\"]\n",
    "respuestas=arx[\"Canalesrespuesta\"];\n",
    "frecuencia=arx[\"freq\"]"
   ]
  },
  {
   "cell_type": "code",
   "execution_count": 6,
   "metadata": {
    "collapsed": true
   },
   "outputs": [],
   "source": [
    "lfpParchado=copy(LFP)\n",
    "#Poner en cero los canales inservibles\n",
    "for m in saturados\n",
    "    q=m[1]\n",
    "    p=m[2]\n",
    "    lfpParchado[q,p,:]=0\n",
    "end"
   ]
  },
  {
   "cell_type": "code",
   "execution_count": 7,
   "metadata": {},
   "outputs": [
    {
     "data": {
      "text/plain": [
       "Set(Any[[22, 63], [9, 38], [9, 41], [9, 37], [10, 41], [8, 37], [9, 31], [11, 41], [9, 36], [7, 30]  …  [55, 57], [8, 40], [10, 40], [8, 41], [13, 11], [23, 63], [9, 39], [10, 38], [10, 39], [8, 31]])"
      ]
     },
     "execution_count": 7,
     "metadata": {},
     "output_type": "execute_result"
    }
   ],
   "source": [
    "listaredux=TiraOrillas(saturados)\n"
   ]
  },
  {
   "cell_type": "code",
   "execution_count": 8,
   "metadata": {
    "collapsed": true
   },
   "outputs": [],
   "source": [
    "#Creamos una mancha suave sobre el canal saturado.\n",
    "for m in listaredux\n",
    "        q=m[1]\n",
    "        p=m[2]\n",
    "        vecinos=vecindad8(m)\n",
    "        lfpParchado[q,p,:]=promediasobreconjunto(vecinos,lfpParchado)\n",
    "end\n"
   ]
  },
  {
   "cell_type": "code",
   "execution_count": 9,
   "metadata": {},
   "outputs": [
    {
     "data": {
      "text/plain": [
       "(64, 64, 5001)"
      ]
     },
     "execution_count": 9,
     "metadata": {},
     "output_type": "execute_result"
    }
   ],
   "source": [
    "size(lfpParchado)"
   ]
  },
  {
   "cell_type": "code",
   "execution_count": 10,
   "metadata": {},
   "outputs": [
    {
     "name": "stderr",
     "output_type": "stream",
     "text": [
      "WARNING: imported binding for lu overwritten in module Main\n"
     ]
    }
   ],
   "source": [
    "#en realidad nunca haces referencia al tercer numero como tiempo\n",
    "(mu,nu,lu)=size(lfpParchado)\n",
    "#Aplicamos un suavizado Gaussiano Temporal (esto afecta mucho las animaciones)\n",
    "lfpplanchado=zeros(mu,nu,lu)\n",
    "for j=1:mu,l=1:nu\n",
    "    porromponpon=vec(lfpParchado[j,l,:])\n",
    "    lfpplanchado[j,l,:]=GaussSuavizarTemporal(porromponpon)\n",
    "end\n",
    "\n"
   ]
  },
  {
   "cell_type": "code",
   "execution_count": 11,
   "metadata": {
    "collapsed": true
   },
   "outputs": [],
   "source": [
    "\n",
    "aux1=zeros(mu,nu,lu)\n",
    "aux2=zeros(mu,nu,lu)\n",
    "#Suavizamos espacialmente con un filtro Gaussiano bidimensional el LFP.\n",
    "#Posteriormente sacamos el dCSD.\n",
    "for t=1:lu\n",
    "    aux1[:,:,t]=GaussianSmooth(lfpplanchado[:,:,t])\n",
    "    aux2[:,:,t]=DiscreteLaplacian(aux1[:,:,t])\n",
    "end\n",
    "CSD=-aux2;\n"
   ]
  },
  {
   "cell_type": "code",
   "execution_count": 12,
   "metadata": {
    "collapsed": true
   },
   "outputs": [],
   "source": [
    "\n",
    "#Descartamos variables auxiliares\n",
    "lfpParchado=0\n",
    "aux1=0\n",
    "aux2=0\n",
    "\n",
    "#Observa que vas a guardar en el mismo archivo todo. \n",
    "paguardar=load(arxnombre)\n",
    "paguardar[\"CSDLindenberg\"]=CSD\n",
    "save(arxnombre,paguardar)\n",
    "\n"
   ]
  },
  {
   "cell_type": "code",
   "execution_count": null,
   "metadata": {
    "collapsed": true
   },
   "outputs": [],
   "source": []
  }
 ],
 "metadata": {
  "kernelspec": {
   "display_name": "Julia 0.6.3",
   "language": "julia",
   "name": "julia-0.6"
  },
  "language_info": {
   "file_extension": ".jl",
   "mimetype": "application/julia",
   "name": "julia",
   "version": "0.6.3"
  }
 },
 "nbformat": 4,
 "nbformat_minor": 2
}
