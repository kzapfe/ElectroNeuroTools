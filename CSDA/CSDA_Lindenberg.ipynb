{
 "cells": [
  {
   "cell_type": "markdown",
   "metadata": {},
   "source": [
    "Este cuaderno es simplemente una versión anotada en Jupyter del programa CSDALindenberg.jl. \n",
    "\n",
    "Usa el operador convexo de Lindenberg como Laplaciano.\n",
    "Para usarse requiere un archivo *jld que contenga el LFP\n",
    "como fue registrado en el experimento (o promediado sobre eventos evocados),\n",
    "y, optativamente, una lista de electrodos inusables (\"saturados\")."
   ]
  },
  {
   "cell_type": "code",
   "execution_count": 1,
   "metadata": {},
   "outputs": [
    {
     "data": {
      "text/plain": [
       "4-element Array{String,1}:\n",
       " \"@\"      \n",
       " \"@v#.#\"  \n",
       " \"@stdlib\"\n",
       " \".\"      "
      ]
     },
     "execution_count": 1,
     "metadata": {},
     "output_type": "execute_result"
    }
   ],
   "source": [
    "push!(LOAD_PATH, \".\")"
   ]
  },
  {
   "cell_type": "code",
   "execution_count": 2,
   "metadata": {},
   "outputs": [
    {
     "name": "stderr",
     "output_type": "stream",
     "text": [
      "┌ Info: Precompiling LindenbergOperadores [top-level]\n",
      "└ @ Base loading.jl:1186\n"
     ]
    }
   ],
   "source": [
    "using JLD\n",
    "using LindenbergOperadores\n",
    "#importall LindenbergOperadores"
   ]
  },
  {
   "cell_type": "code",
   "execution_count": 3,
   "metadata": {},
   "outputs": [
    {
     "data": {
      "text/plain": [
       "Dict{String,Any} with 7 entries:\n",
       "  \"Canalesrespuesta\" => Set(Array{Int64,1}[[60, 20], [56, 11], [13, 42], [60, 3…\n",
       "  \"CSDLindenberg\"    => [3.70417 0.865323 … -1.35841 8.99422; -13.4063 -1.38475…\n",
       "  \"desde\"            => 29000\n",
       "  \"hasta\"            => 34000\n",
       "  \"LFPSaturados\"     => [4125.0 -12.085 … 6.04248 22.1558; -34.2407 -8.05664 … …\n",
       "  \"freq\"             => 17.8555\n",
       "  \"CanalesSaturados\" => Set(Array{Int64,1}[[55, 57], [10, 41], [21, 64], [9, 40…"
      ]
     },
     "execution_count": 3,
     "metadata": {},
     "output_type": "execute_result"
    }
   ],
   "source": [
    "arxnombre=\"../JLDFiles/estriadoscachos/Corte_final_estriado_slice1_1004AP.jld\"\n",
    "arx=load(arxnombre)"
   ]
  },
  {
   "cell_type": "code",
   "execution_count": 5,
   "metadata": {},
   "outputs": [
    {
     "name": "stdout",
     "output_type": "stream",
     "text": [
      "../JLDFiles/estriadoscachos/Corte_final_estriado_slice1_1004AP\n"
     ]
    }
   ],
   "source": [
    "#quitemos la terminacion de los nombres de archivo\n",
    "palabra=replace(arxnombre,\".jld\"=>\"\")\n",
    "println(palabra)"
   ]
  },
  {
   "cell_type": "code",
   "execution_count": 6,
   "metadata": {},
   "outputs": [
    {
     "data": {
      "text/plain": [
       "17.85550205219098"
      ]
     },
     "execution_count": 6,
     "metadata": {},
     "output_type": "execute_result"
    }
   ],
   "source": [
    "# cargando los datos importantes\n",
    "if haskey(arx, \"LFPSaturados\")\n",
    "    LFP=arx[\"LFPSaturados\"]\n",
    "else\n",
    "    LFP=arx[\"LFPTotal\"]\n",
    "end\n",
    "saturados=arx[\"CanalesSaturados\"]\n",
    "respuestas=arx[\"Canalesrespuesta\"];\n",
    "frecuencia=arx[\"freq\"]"
   ]
  },
  {
   "cell_type": "code",
   "execution_count": 8,
   "metadata": {},
   "outputs": [],
   "source": [
    "lfpParchado=copy(LFP)\n",
    "(l,m,cmax)=size(lfpParchado)\n",
    "#Poner en cero los canales inservibles\n",
    "for m in saturados\n",
    "    q=m[1]\n",
    "    p=m[2]\n",
    "    lfpParchado[q,p,:]=zeros(cmax)\n",
    "end"
   ]
  },
  {
   "cell_type": "code",
   "execution_count": 9,
   "metadata": {},
   "outputs": [
    {
     "data": {
      "text/plain": [
       "Set(Any[[55, 57], [9, 41], [10, 41], [11, 41], [9, 40], [9, 31], [10, 39], [10, 40], [9, 38], [13, 11]  …  [7, 30], [22, 63], [8, 40], [9, 37], [8, 37], [23, 63], [9, 39], [8, 41], [10, 38], [8, 31], [9, 36]])"
      ]
     },
     "execution_count": 9,
     "metadata": {},
     "output_type": "execute_result"
    }
   ],
   "source": [
    "listaredux=TiraOrillas(saturados)\n"
   ]
  },
  {
   "cell_type": "code",
   "execution_count": 10,
   "metadata": {},
   "outputs": [
    {
     "ename": "BoundsError",
     "evalue": "BoundsError: attempt to access 64×64×5001 Array{Float64,3} at index [55, 56]",
     "output_type": "error",
     "traceback": [
      "BoundsError: attempt to access 64×64×5001 Array{Float64,3} at index [55, 56]",
      "",
      "Stacktrace:",
      " [1] getindex at ./array.jl:732 [inlined]",
      " [2] promediasobreconjunto(::Set{Array{Int64,1}}, ::Array{Float64,3}) at /home/karel/RGutWork/CSDA/LindenbergOperadores.jl:33",
      " [3] top-level scope at ./In[10]:6"
     ]
    }
   ],
   "source": [
    "#Creamos una mancha suave sobre el canal saturado.\n",
    "for m in listaredux\n",
    "        q=m[1]\n",
    "        p=m[2]\n",
    "        vecinos=vecindad8(m)\n",
    "        lfpParchado[q,p,:]=promediasobreconjunto(vecinos,lfpParchado)\n",
    "end\n"
   ]
  },
  {
   "cell_type": "code",
   "execution_count": 9,
   "metadata": {},
   "outputs": [
    {
     "data": {
      "text/plain": [
       "(64, 64, 5001)"
      ]
     },
     "execution_count": 9,
     "metadata": {},
     "output_type": "execute_result"
    }
   ],
   "source": [
    "size(lfpParchado)"
   ]
  },
  {
   "cell_type": "code",
   "execution_count": 10,
   "metadata": {},
   "outputs": [
    {
     "name": "stderr",
     "output_type": "stream",
     "text": [
      "WARNING: imported binding for lu overwritten in module Main\n"
     ]
    }
   ],
   "source": [
    "#en realidad nunca haces referencia al tercer numero como tiempo\n",
    "(mu,nu,lu)=size(lfpParchado)\n",
    "#Aplicamos un suavizado Gaussiano Temporal (esto afecta mucho las animaciones)\n",
    "lfpplanchado=zeros(mu,nu,lu)\n",
    "for j=1:mu,l=1:nu\n",
    "    porromponpon=vec(lfpParchado[j,l,:])\n",
    "    lfpplanchado[j,l,:]=GaussSuavizarTemporal(porromponpon)\n",
    "end\n",
    "\n"
   ]
  },
  {
   "cell_type": "code",
   "execution_count": 11,
   "metadata": {
    "collapsed": true
   },
   "outputs": [],
   "source": [
    "\n",
    "aux1=zeros(mu,nu,lu)\n",
    "aux2=zeros(mu,nu,lu)\n",
    "#Suavizamos espacialmente con un filtro Gaussiano bidimensional el LFP.\n",
    "#Posteriormente sacamos el dCSD.\n",
    "for t=1:lu\n",
    "    aux1[:,:,t]=GaussianSmooth(lfpplanchado[:,:,t])\n",
    "    aux2[:,:,t]=DiscreteLaplacian(aux1[:,:,t])\n",
    "end\n",
    "CSD=-aux2;\n"
   ]
  },
  {
   "cell_type": "code",
   "execution_count": 12,
   "metadata": {
    "collapsed": true
   },
   "outputs": [],
   "source": [
    "\n",
    "#Descartamos variables auxiliares\n",
    "lfpParchado=0\n",
    "aux1=0\n",
    "aux2=0\n",
    "\n",
    "#Observa que vas a guardar en el mismo archivo todo. \n",
    "paguardar=load(arxnombre)\n",
    "paguardar[\"CSDLindenberg\"]=CSD\n",
    "save(arxnombre,paguardar)\n",
    "\n"
   ]
  },
  {
   "cell_type": "code",
   "execution_count": null,
   "metadata": {
    "collapsed": true
   },
   "outputs": [],
   "source": []
  }
 ],
 "metadata": {
  "@webio": {
   "lastCommId": "782B993CF34345FB8FA9F146D7A8A509",
   "lastKernelId": "1a4b0273-25a8-4605-ba34-4f61860fcfd0"
  },
  "kernelspec": {
   "display_name": "Julia 1.0.0",
   "language": "julia",
   "name": "julia-1.0"
  },
  "language_info": {
   "file_extension": ".jl",
   "mimetype": "application/julia",
   "name": "julia",
   "version": "1.0.0"
  }
 },
 "nbformat": 4,
 "nbformat_minor": 2
}
