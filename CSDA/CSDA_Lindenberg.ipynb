{
 "cells": [
  {
   "cell_type": "markdown",
   "metadata": {},
   "source": [
    "Este cuaderno es simplemente una versión anotada en Jupyter del programa CSDALindenberg.jl. \n",
    "\n",
    "Usa el operador convexo de Lindenberg como Laplaciano.\n",
    "Para usarse requiere un archivo *jld que contenga el LFP\n",
    "como fue registrado en el experimento (o promediado sobre eventos evocados),\n",
    "y, optativamente, una lista de electrodos inusables (\"saturados\")."
   ]
  },
  {
   "cell_type": "code",
   "execution_count": 1,
   "metadata": {
    "collapsed": true
   },
   "outputs": [],
   "source": [
    "using JLD\n",
    "include(\"LindenbergOperadores.jl\")\n",
    "importall LindenbergOperadores"
   ]
  },
  {
   "cell_type": "code",
   "execution_count": 16,
   "metadata": {},
   "outputs": [
    {
     "data": {
      "text/plain": [
       "Dict{String,Any} with 6 entries:\n",
       "  \"Canalesrespuesta\" => Set(Array{Int64,1}[[24, 64], [57, 11], [9, 28], [11, 14…\n",
       "  \"desde\"            => 7500\n",
       "  \"hasta\"            => 8000\n",
       "  \"LFPSaturados\"     => [4125.0 0.0 … 2.01416 6.04248; -8.05664 -2.01416 … -12.…\n",
       "  \"freq\"             => 17.8555\n",
       "  \"CanalesSaturados\" => Set(Array{Int64,1}[[8, 31], [8, 40], [9, 38], [10, 40],…"
      ]
     },
     "execution_count": 16,
     "metadata": {},
     "output_type": "execute_result"
    }
   ],
   "source": [
    "arxnombre=\"../JLDFiles/estriadoscachos/Corte_01_estriado_slice1_1004AP.jld\"\n",
    "arx=load(arxnombre)"
   ]
  },
  {
   "cell_type": "code",
   "execution_count": 17,
   "metadata": {},
   "outputs": [
    {
     "name": "stdout",
     "output_type": "stream",
     "text": [
      "../JLDFiles/estriadoscachos/Corte_01_estriado_slice1_1004AP\n"
     ]
    }
   ],
   "source": [
    "#quitemos la terminacion de los nombres de archivo\n",
    "palabra=replace(arxnombre,\".jld\", \"\")\n",
    "println(palabra)"
   ]
  },
  {
   "cell_type": "code",
   "execution_count": 18,
   "metadata": {},
   "outputs": [
    {
     "data": {
      "text/plain": [
       "17.85550205219098"
      ]
     },
     "execution_count": 18,
     "metadata": {},
     "output_type": "execute_result"
    }
   ],
   "source": [
    "# cargando los datos importantes\n",
    "if haskey(arx, \"LFPSaturados\")\n",
    "    LFP=arx[\"LFPSaturados\"]\n",
    "else\n",
    "    LFP=arx[\"LFPTotal\"]\n",
    "end\n",
    "saturados=arx[\"CanalesSaturados\"]\n",
    "respuestas=arx[\"Canalesrespuesta\"];\n",
    "frecuencia=arx[\"freq\"]"
   ]
  },
  {
   "cell_type": "code",
   "execution_count": 19,
   "metadata": {
    "collapsed": true
   },
   "outputs": [],
   "source": [
    "lfpParchado=copy(LFP)\n",
    "#Poner en cero los canales inservibles\n",
    "for m in saturados\n",
    "    q=m[1]\n",
    "    p=m[2]\n",
    "    lfpParchado[q,p,:]=0\n",
    "end"
   ]
  },
  {
   "cell_type": "code",
   "execution_count": 20,
   "metadata": {},
   "outputs": [
    {
     "data": {
      "text/plain": [
       "Set(Any[[9, 38], [9, 41], [9, 37], [10, 41], [9, 31], [11, 41], [7, 30], [9, 40], [8, 40], [10, 40], [8, 41], [13, 11], [8, 35], [23, 63], [8, 31]])"
      ]
     },
     "execution_count": 20,
     "metadata": {},
     "output_type": "execute_result"
    }
   ],
   "source": [
    "listaredux=TiraOrillas(saturados)\n"
   ]
  },
  {
   "cell_type": "code",
   "execution_count": 21,
   "metadata": {
    "collapsed": true
   },
   "outputs": [],
   "source": [
    "#Creamos una mancha suave sobre el canal saturado.\n",
    "for m in listaredux\n",
    "        q=m[1]\n",
    "        p=m[2]\n",
    "        vecinos=vecindad8(m)\n",
    "        lfpParchado[q,p,:]=promediasobreconjunto(vecinos,lfpParchado)\n",
    "end\n"
   ]
  },
  {
   "cell_type": "code",
   "execution_count": 22,
   "metadata": {
    "collapsed": true
   },
   "outputs": [],
   "source": [
    "#en realidad nunca haces referencia al tercer numero como tiempo\n",
    "(mu,nu,lu)=size(lfpParchado)\n",
    "#Aplicamos un suavizado Gaussiano Temporal (esto afecta mucho las animaciones)\n",
    "lfpplanchado=zeros(mu,nu,lu)\n",
    "for j=1:mu,l=1:nu\n",
    "    porromponpon=vec(lfpParchado[j,l,:])\n",
    "    lfpplanchado[j,l,:]=GaussSuavizarTemporal(porromponpon)\n",
    "end\n",
    "\n"
   ]
  },
  {
   "cell_type": "code",
   "execution_count": 23,
   "metadata": {},
   "outputs": [
    {
     "name": "stderr",
     "output_type": "stream",
     "text": [
      "\u001b[1m\u001b[33mWARNING: \u001b[39m\u001b[22m\u001b[33mArray(::Type{T}, d::NTuple{N, Int}) where {T, N} is deprecated, use Array{T}(d) instead.\u001b[39m\n",
      "Stacktrace:\n",
      " [1] \u001b[1mdepwarn\u001b[22m\u001b[22m\u001b[1m(\u001b[22m\u001b[22m::String, ::Symbol\u001b[1m)\u001b[22m\u001b[22m at \u001b[1m./deprecated.jl:70\u001b[22m\u001b[22m\n",
      " [2] \u001b[1mArray\u001b[22m\u001b[22m\u001b[1m(\u001b[22m\u001b[22m::Type{Float64}, ::Tuple{Int64,Int64}\u001b[1m)\u001b[22m\u001b[22m at \u001b[1m./deprecated.jl:57\u001b[22m\u001b[22m\n",
      " [3] \u001b[1mDiscreteLaplacian\u001b[22m\u001b[22m\u001b[1m(\u001b[22m\u001b[22m::Array{Float64,2}\u001b[1m)\u001b[22m\u001b[22m at \u001b[1m/home/karel/RGutWork/CSDA/LindenbergOperadores.jl:137\u001b[22m\u001b[22m\n",
      " [4] \u001b[1mmacro expansion\u001b[22m\u001b[22m at \u001b[1m./In[23]:8\u001b[22m\u001b[22m [inlined]\n",
      " [5] \u001b[1manonymous\u001b[22m\u001b[22m at \u001b[1m./<missing>:?\u001b[22m\u001b[22m\n",
      " [6] \u001b[1mexecute_request\u001b[22m\u001b[22m\u001b[1m(\u001b[22m\u001b[22m::ZMQ.Socket, ::IJulia.Msg\u001b[1m)\u001b[22m\u001b[22m at \u001b[1m/home/karel/.julia/v0.6/IJulia/src/execute_request.jl:193\u001b[22m\u001b[22m\n",
      " [7] \u001b[1m(::Compat.#inner#14{Array{Any,1},IJulia.#execute_request,Tuple{ZMQ.Socket,IJulia.Msg}})\u001b[22m\u001b[22m\u001b[1m(\u001b[22m\u001b[22m\u001b[1m)\u001b[22m\u001b[22m at \u001b[1m/home/karel/.julia/v0.6/Compat/src/Compat.jl:332\u001b[22m\u001b[22m\n",
      " [8] \u001b[1meventloop\u001b[22m\u001b[22m\u001b[1m(\u001b[22m\u001b[22m::ZMQ.Socket\u001b[1m)\u001b[22m\u001b[22m at \u001b[1m/home/karel/.julia/v0.6/IJulia/src/eventloop.jl:8\u001b[22m\u001b[22m\n",
      " [9] \u001b[1m(::IJulia.##13#16)\u001b[22m\u001b[22m\u001b[1m(\u001b[22m\u001b[22m\u001b[1m)\u001b[22m\u001b[22m at \u001b[1m./task.jl:335\u001b[22m\u001b[22m\n",
      "while loading In[23], in expression starting on line 6\n"
     ]
    }
   ],
   "source": [
    "\n",
    "aux1=zeros(mu,nu,lu)\n",
    "aux2=zeros(mu,nu,lu)\n",
    "#Suavizamos espacialmente con un filtro Gaussiano bidimensional el LFP.\n",
    "#Posteriormente sacamos el dCSD.\n",
    "for t=1:lu\n",
    "    aux1[:,:,t]=GaussianSmooth(lfpplanchado[:,:,t])\n",
    "    aux2[:,:,t]=DiscreteLaplacian(aux1[:,:,t])\n",
    "end\n",
    "CSD=-aux2;\n"
   ]
  },
  {
   "cell_type": "code",
   "execution_count": 25,
   "metadata": {},
   "outputs": [],
   "source": [
    "\n",
    "#Descartamos variables auxiliares\n",
    "lfpParchado=0\n",
    "aux1=0\n",
    "aux2=0\n",
    "\n",
    "#Observa que vas a guardar en el mismo archivo todo. \n",
    "paguardar=load(arxnombre)\n",
    "paguardar[\"CSDLindenberg\"]=CSD\n",
    "save(arxnombre,paguardar)\n",
    "\n"
   ]
  },
  {
   "cell_type": "code",
   "execution_count": null,
   "metadata": {
    "collapsed": true
   },
   "outputs": [],
   "source": []
  }
 ],
 "metadata": {
  "kernelspec": {
   "display_name": "Julia 0.6.3",
   "language": "julia",
   "name": "julia-0.6"
  },
  "language_info": {
   "file_extension": ".jl",
   "mimetype": "application/julia",
   "name": "julia",
   "version": "0.6.3"
  }
 },
 "nbformat": 4,
 "nbformat_minor": 2
}
