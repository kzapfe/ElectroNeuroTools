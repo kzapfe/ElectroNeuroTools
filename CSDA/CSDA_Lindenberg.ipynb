{
 "cells": [
  {
   "cell_type": "markdown",
   "metadata": {},
   "source": [
    "Este cuaderno es simplemente una versión anotada en Jupyter del programa CSDALindenberg.jl. \n",
    "\n",
    "Usa el operador convexo de Lindenberg como Laplaciano.\n",
    "Para usarse requiere un archivo *jld que contenga el LFP\n",
    "como fue registrado en el experimento (o promediado sobre eventos evocados),\n",
    "y, optativamente, una lista de electrodos inusables (\"saturados\")."
   ]
  },
  {
   "cell_type": "code",
   "execution_count": 2,
   "metadata": {},
   "outputs": [
    {
     "data": {
      "text/plain": [
       "4-element Array{String,1}:\n",
       " \"@\"      \n",
       " \"@v#.#\"  \n",
       " \"@stdlib\"\n",
       " \".\"      "
      ]
     },
     "execution_count": 2,
     "metadata": {},
     "output_type": "execute_result"
    }
   ],
   "source": [
    "push!(LOAD_PATH, \".\")"
   ]
  },
  {
   "cell_type": "code",
   "execution_count": 3,
   "metadata": {
    "collapsed": true
   },
   "outputs": [],
   "source": [
    "using HDF5\n",
    "using LindenbergOperadores, ParaSets\n",
    "#importall LindenbergOperadores"
   ]
  },
  {
   "cell_type": "code",
   "execution_count": 33,
   "metadata": {},
   "outputs": [
    {
     "data": {
      "text/plain": [
       "8-element Array{String,1}:\n",
       " \"CSDALindenberg\"  \n",
       " \"CanalesSaturados\"\n",
       " \"Canalesrespuesta\"\n",
       " \"LFPSaturados\"    \n",
       " \"final\"           \n",
       " \"freq\"            \n",
       " \"latencia\"        \n",
       " \"retrazo\"         "
      ]
     },
     "execution_count": 33,
     "metadata": {},
     "output_type": "execute_result"
    }
   ],
   "source": [
    "arxnombre=\"../BRWFiles/test.h5\"\n",
    "arx=h5open(arxnombre)\n",
    "names(arx)"
   ]
  },
  {
   "cell_type": "code",
   "execution_count": 23,
   "metadata": {
    "collapsed": true
   },
   "outputs": [],
   "source": [
    "# cargando los datos importantes\n",
    "if in(\"LFPSaturados\", elementos)\n",
    "    LFP=read(arx[\"LFPSaturados\"])\n",
    "else\n",
    "    LFP=read(arx[\"LFPTotal\"])\n",
    "end\n",
    "saturadosarray=read(arx[\"CanalesSaturados\"])\n",
    "respuestasarray=read(arx[\"Canalesrespuesta\"]);\n",
    "frecuencia=read(arx[\"freq\"])\n",
    "close(arx)"
   ]
  },
  {
   "cell_type": "code",
   "execution_count": 24,
   "metadata": {},
   "outputs": [
    {
     "data": {
      "text/plain": [
       "Set(Any[[25, 55], [22, 48], [19, 59], [48, 35], [20, 52], [17, 50], [25, 51], [23, 58], [21, 54], [20, 48]  …  [20, 54], [31, 53], [22, 52], [27, 52], [18, 57], [25, 52], [19, 57], [25, 59], [23, 51], [20, 50], [20, 56]])"
      ]
     },
     "execution_count": 24,
     "metadata": {},
     "output_type": "execute_result"
    }
   ],
   "source": [
    "saturados=arraytoset(saturadosarray)\n",
    "respuestas=arraytoset(respuestasarray)"
   ]
  },
  {
   "cell_type": "code",
   "execution_count": 25,
   "metadata": {
    "collapsed": true
   },
   "outputs": [],
   "source": [
    "\n",
    "\n",
    "lfpParchado=copy(LFP)\n",
    "(l,m,cmax)=size(lfpParchado)\n",
    "#Poner en cero los canales inservibles\n",
    "for m in saturados\n",
    "    q=m[1]\n",
    "    p=m[2]\n",
    "    lfpParchado[q,p,:]=zeros(cmax)\n",
    "end"
   ]
  },
  {
   "cell_type": "code",
   "execution_count": 26,
   "metadata": {},
   "outputs": [
    {
     "data": {
      "text/plain": [
       "Set(Any[[29, 58], [34, 7], [29, 55], [33, 60], [38, 61], [32, 57], [27, 61], [25, 51], [33, 61], [36, 63]  …  [46, 57], [37, 60], [29, 40], [29, 5], [35, 49], [36, 57], [31, 61], [34, 56], [23, 52], [33, 59], [36, 59]])"
      ]
     },
     "execution_count": 26,
     "metadata": {},
     "output_type": "execute_result"
    }
   ],
   "source": [
    "listaredux=TiraOrillas(saturados)\n"
   ]
  },
  {
   "cell_type": "code",
   "execution_count": 27,
   "metadata": {
    "collapsed": true
   },
   "outputs": [],
   "source": [
    "#Creamos una mancha suave sobre el canal saturado.\n",
    "for m in listaredux\n",
    "        q=m[1]\n",
    "        p=m[2]\n",
    "        vecinos=vecindad8(m)\n",
    "        lfpParchado[q,p,:]=promediasobreconjunto(vecinos,lfpParchado)\n",
    "end\n"
   ]
  },
  {
   "cell_type": "code",
   "execution_count": 28,
   "metadata": {},
   "outputs": [
    {
     "data": {
      "text/plain": [
       "(64, 64, 459)"
      ]
     },
     "execution_count": 28,
     "metadata": {},
     "output_type": "execute_result"
    }
   ],
   "source": [
    "size(lfpParchado)"
   ]
  },
  {
   "cell_type": "code",
   "execution_count": 29,
   "metadata": {
    "collapsed": true
   },
   "outputs": [],
   "source": [
    "#en realidad nunca haces referencia al tercer numero como tiempo\n",
    "(mu,nu,lu)=size(lfpParchado)\n",
    "#Aplicamos un suavizado Gaussiano Temporal (esto afecta mucho las animaciones)\n",
    "lfpplanchado=zeros(mu,nu,lu)\n",
    "for j=1:mu,l=1:nu\n",
    "    porromponpon=vec(lfpParchado[j,l,:])\n",
    "    lfpplanchado[j,l,:]=GaussSuavizarTemporal(porromponpon)\n",
    "end\n",
    "\n"
   ]
  },
  {
   "cell_type": "code",
   "execution_count": 14,
   "metadata": {
    "collapsed": true
   },
   "outputs": [],
   "source": [
    "\n",
    "aux1=zeros(mu,nu,lu)\n",
    "aux2=zeros(mu,nu,lu)\n",
    "#Suavizamos espacialmente con un filtro Gaussiano bidimensional el LFP.\n",
    "#Posteriormente sacamos el dCSD.\n",
    "for t=1:lu\n",
    "    aux1[:,:,t]=GaussianSmooth(lfpplanchado[:,:,t])\n",
    "    aux2[:,:,t]=DiscreteLaplacian(aux1[:,:,t])\n",
    "end\n",
    "CSD=-aux2;\n"
   ]
  },
  {
   "cell_type": "code",
   "execution_count": 30,
   "metadata": {
    "collapsed": true
   },
   "outputs": [],
   "source": [
    "\n",
    "h5open(arxnombre, \"r+\") do file\n",
    "    write(file, \"CSDALindenberg\", CSD)  # alternatively, say \"@write file A\"\n",
    "end\n"
   ]
  },
  {
   "cell_type": "code",
   "execution_count": 31,
   "metadata": {},
   "outputs": [
    {
     "data": {
      "text/plain": [
       "8-element Array{String,1}:\n",
       " \"CSDALindenberg\"  \n",
       " \"CanalesSaturados\"\n",
       " \"Canalesrespuesta\"\n",
       " \"LFPSaturados\"    \n",
       " \"final\"           \n",
       " \"freq\"            \n",
       " \"latencia\"        \n",
       " \"retrazo\"         "
      ]
     },
     "execution_count": 31,
     "metadata": {},
     "output_type": "execute_result"
    }
   ],
   "source": [
    "arx=h5open(arxnombre)\n",
    "names(arx)"
   ]
  },
  {
   "cell_type": "code",
   "execution_count": 32,
   "metadata": {
    "collapsed": true
   },
   "outputs": [],
   "source": [
    "close(arx)"
   ]
  },
  {
   "cell_type": "code",
   "execution_count": null,
   "metadata": {
    "collapsed": true
   },
   "outputs": [],
   "source": []
  },
  {
   "cell_type": "code",
   "execution_count": null,
   "metadata": {
    "collapsed": true
   },
   "outputs": [],
   "source": []
  }
 ],
 "metadata": {
  "@webio": {
   "lastCommId": "602B99BF4B55486F81A4346090367246",
   "lastKernelId": "7868bc74-0d34-43fb-acec-d246b039c2e6"
  },
  "kernelspec": {
   "display_name": "Julia 1.4.1",
   "language": "julia",
   "name": "julia-1.4"
  },
  "language_info": {
   "file_extension": ".jl",
   "mimetype": "application/julia",
   "name": "julia",
   "version": "1.4.1"
  }
 },
 "nbformat": 4,
 "nbformat_minor": 2
}
