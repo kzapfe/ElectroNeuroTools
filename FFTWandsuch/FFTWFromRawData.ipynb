{
 "cells": [
  {
   "cell_type": "markdown",
   "metadata": {},
   "source": [
    "# Herramientas para hacer Fast Fourier Transform Directo\n",
    "\n",
    "En este cuaderno de Julia indicamos un posible uso de las herramientas desarrolladas por el Dr. WPK Zapfe para la transformada rápida de Fourier en linea de los datos de BioCAM X. Estamos usando ad hoc un par de modulos auxiliares que nos permiten abrir los archivos tal y como vienen en el flujo (hexadecimal sin signo), interpretarlos y aplicarles una fftw."
   ]
  },
  {
   "cell_type": "code",
   "execution_count": 7,
   "metadata": {},
   "outputs": [],
   "source": [
    "push!(LOAD_PATH, \".\") # las herramientas para hacer fftw estan aqui\n",
    "push!(LOAD_PATH, \"../Preprocesamiento/\") # el interpretador de los datos crudos esta aqui\n",
    "using PreprocTools #para abrir y manejar los datos crudos\n",
    "using FFTWtoolkit, FFTW # the fastest fourier transform in the west\n",
    "using PyPlot # posible graficador, se pueden usar otros"
   ]
  },
  {
   "cell_type": "code",
   "execution_count": 8,
   "metadata": {},
   "outputs": [
    {
     "data": {
      "text/plain": [
       "\"/home/karel/BRWFiles/Facilitada/19115s1cut_single_event.brw\""
      ]
     },
     "execution_count": 8,
     "metadata": {},
     "output_type": "execute_result"
    }
   ],
   "source": [
    "abrestring=\"/home/karel/BRWFiles/Facilitada/19115s1cut_single_event.brw\"\n"
   ]
  },
  {
   "cell_type": "markdown",
   "metadata": {},
   "source": [
    "En la versión en linea, los datos que aparecen catalogados en el siguiente diccionario deben de estar detallados en algun objeto visible de python. De aquí los interesantes son minvolt, maxvolt, bithdept e inversión, de los que se obtiene el factor de conversión según la siguiente formula\n",
    "$$\n",
    "(maxvolt-minvolt)/2^(bitdepth)*inversion=factor\n",
    "$$\n",
    "Y también nos interesa la frecuencia de muestreo. El número de cuadros máximo no tiene sentido en el trabajo en linea, ese se va a obtener por la convenciencia del usuario, pero para una buena fftw unos 1000 cuadros son adecuados."
   ]
  },
  {
   "cell_type": "code",
   "execution_count": 9,
   "metadata": {},
   "outputs": [
    {
     "data": {
      "text/plain": [
       "Dict{String,Any} with 8 entries:\n",
       "  \"minvolt\"     => -4125.0\n",
       "  \"maxvolt\"     => 4125.0\n",
       "  \"frecuencia\"  => 7022.06\n",
       "  \"DatosCrudos\" => UInt16[0x0fff 0x0fff … 0x0fff 0x0fff; 0x0814 0x07ed … 0x0800…\n",
       "  \"bitdepth\"    => 0x0c\n",
       "  \"factor\"      => 2.01416\n",
       "  \"numcuadros\"  => 2000\n",
       "  \"duracion\"    => 0.284817"
      ]
     },
     "execution_count": 9,
     "metadata": {},
     "output_type": "execute_result"
    }
   ],
   "source": [
    "Datos=AbreyCheca(abrestring)"
   ]
  },
  {
   "cell_type": "markdown",
   "metadata": {},
   "source": [
    "Las siguientes constantes nos daran las unidades adecuadas para trabajar."
   ]
  },
  {
   "cell_type": "code",
   "execution_count": 10,
   "metadata": {},
   "outputs": [
    {
     "data": {
      "text/plain": [
       "2.01416015625"
      ]
     },
     "execution_count": 10,
     "metadata": {},
     "output_type": "execute_result"
    }
   ],
   "source": [
    "freq=Datos[\"frecuencia\"]\n",
    "factor=Datos[\"factor\"]"
   ]
  },
  {
   "cell_type": "markdown",
   "metadata": {},
   "source": [
    "Esta es una función de conveniencia para escoger el canal. En la versión en linea usar el ratón de la computadora sobre la representación visual del MEA puede ser más conveniente."
   ]
  },
  {
   "cell_type": "code",
   "execution_count": 11,
   "metadata": {},
   "outputs": [
    {
     "data": {
      "text/plain": [
       "escogecanal (generic function with 1 method)"
      ]
     },
     "execution_count": 11,
     "metadata": {},
     "output_type": "execute_result"
    }
   ],
   "source": [
    "escogecanal(y::Int,x::Int)=(y-1)*64+x"
   ]
  },
  {
   "cell_type": "markdown",
   "metadata": {},
   "source": [
    "Se le preguntará al usuario cuanto en tiempo quiere transformar a la Fourier. El usuario especificará un rango de tiempo (típicamente entre 0.1 y 1 segundo), y eso se transformará en cuadros."
   ]
  },
  {
   "cell_type": "code",
   "execution_count": 12,
   "metadata": {},
   "outputs": [
    {
     "data": {
      "text/plain": [
       "0.2848"
      ]
     },
     "execution_count": 12,
     "metadata": {},
     "output_type": "execute_result"
    }
   ],
   "source": [
    "intertiempo=0.2848"
   ]
  },
  {
   "cell_type": "code",
   "execution_count": 13,
   "metadata": {},
   "outputs": [
    {
     "data": {
      "text/plain": [
       "timetoframe (generic function with 1 method)"
      ]
     },
     "execution_count": 13,
     "metadata": {},
     "output_type": "execute_result"
    }
   ],
   "source": [
    "timetoframe(t)=round(Int, floor(t*freq))"
   ]
  },
  {
   "cell_type": "code",
   "execution_count": 14,
   "metadata": {},
   "outputs": [
    {
     "data": {
      "text/plain": [
       "1999"
      ]
     },
     "execution_count": 14,
     "metadata": {},
     "output_type": "execute_result"
    }
   ],
   "source": [
    "inter1=timetoframe(intertiempo) #un putativo numero de cuadros que tengamos para hacer fftw"
   ]
  },
  {
   "cell_type": "code",
   "execution_count": 15,
   "metadata": {},
   "outputs": [
    {
     "data": {
      "text/plain": [
       "2778"
      ]
     },
     "execution_count": 15,
     "metadata": {},
     "output_type": "execute_result"
    }
   ],
   "source": [
    "electo=escogecanal(44,26) # un canal que tal vez se puede escoger con el ratón (de la compu, no del experimento)"
   ]
  },
  {
   "cell_type": "markdown",
   "metadata": {},
   "source": [
    "Aquí estoy usando el máximo número de cuadros que hay en el archivo como límite para el rango de la fftw. En la versión en linea debe ser posible extenderlo mucho más, simplemente esperando unos cuantos segundos de muestreo y ya."
   ]
  },
  {
   "cell_type": "code",
   "execution_count": 16,
   "metadata": {},
   "outputs": [
    {
     "data": {
      "text/plain": [
       "1999"
      ]
     },
     "execution_count": 16,
     "metadata": {},
     "output_type": "execute_result"
    }
   ],
   "source": [
    "if (inter1 < Datos[\"numcuadros\"] )\n",
    "        nmax=inter1\n",
    "else\n",
    "        nmax= Datos[\"numcuadros\"]\n",
    "end"
   ]
  },
  {
   "cell_type": "markdown",
   "metadata": {},
   "source": [
    "Tomamos el arreglo de los datos crudos escogidos (viene en UInt16, enteros sin signo de 16 bytes)"
   ]
  },
  {
   "cell_type": "code",
   "execution_count": 17,
   "metadata": {},
   "outputs": [
    {
     "data": {
      "text/plain": [
       "Array{UInt16,1}"
      ]
     },
     "execution_count": 17,
     "metadata": {},
     "output_type": "execute_result"
    }
   ],
   "source": [
    "lfprawsel=Datos[\"DatosCrudos\"][electo,:];\n",
    "typeof(lfprawsel)"
   ]
  },
  {
   "cell_type": "markdown",
   "metadata": {},
   "source": [
    "A continuación hacemos variables auxiliares, para que la representación se encuentre en las unidades adecuadas.Por ejemplo, nos gustaría que la transformada de Fourier tuviera una escala en Hz positivos."
   ]
  },
  {
   "cell_type": "code",
   "execution_count": 18,
   "metadata": {},
   "outputs": [
    {
     "data": {
      "text/plain": [
       "\"mV^2·s\""
      ]
     },
     "execution_count": 18,
     "metadata": {},
     "output_type": "execute_result"
    }
   ],
   "source": [
    "rango=1:nmax\n",
    "tmax=nmax/freq\n",
    "rangotiempos=(rango.-1)./freq\n",
    "rangofreqs=(rango.-1)./tmax\n",
    "# la fftw es simetrica con el tiempo, aqui corregimos el efecto\n",
    "rfreqsim=map(x->-freq/2+(x-1)*freq/(nmax-1),rango);  \n",
    "# establecemos las medidas del grafico (estas seguramente se pueden obtener del feed del aparato)\n",
    "vunits=\"mV\"\n",
    "tunits=\"s\"\n",
    "funits=\"Hz\"\n",
    "punits=vunits*\"^2·\"*tunits"
   ]
  },
  {
   "cell_type": "markdown",
   "metadata": {},
   "source": [
    "Hacemos la conversión a las unidades SI."
   ]
  },
  {
   "cell_type": "code",
   "execution_count": 19,
   "metadata": {},
   "outputs": [],
   "source": [
    "lfprawsel=Datos[\"DatosCrudos\"][electo,(end-nmax)+1:end];# si el nmax NO concide con ncuadros, es decir, es menor\n",
    "lfprawsel=(lfprawsel.-2048).*factor; # los datos en mV"
   ]
  },
  {
   "cell_type": "markdown",
   "metadata": {},
   "source": [
    "El 3Brain ya grafica los voltajes, esto es solo una ayuda para mi,"
   ]
  },
  {
   "cell_type": "code",
   "execution_count": 20,
   "metadata": {},
   "outputs": [
    {
     "ename": "ArgumentError",
     "evalue": "ArgumentError: hasproperty of NULL PyObject",
     "output_type": "error",
     "traceback": [
      "ArgumentError: hasproperty of NULL PyObject",
      "",
      "Stacktrace:",
      " [1] pyhasproperty(::PyCall.PyObject, ::String) at /home/karel/.julia/packages/PyCall/a5Jd3/src/PyCall.jl:356",
      " [2] hasproperty at /home/karel/.julia/packages/PyCall/a5Jd3/src/PyCall.jl:362 [inlined]",
      " [3] #plot#85(::Base.Iterators.Pairs{Union{},Union{},Tuple{},NamedTuple{(),Tuple{}}}, ::Function, ::StepRangeLen{Float64,Base.TwicePrecision{Float64},Base.TwicePrecision{Float64}}, ::Vararg{Any,N} where N) at /home/karel/.julia/packages/PyPlot/KRYZs/src/PyPlot.jl:175",
      " [4] plot(::StepRangeLen{Float64,Base.TwicePrecision{Float64},Base.TwicePrecision{Float64}}, ::Vararg{Any,N} where N) at /home/karel/.julia/packages/PyPlot/KRYZs/src/PyPlot.jl:175",
      " [5] top-level scope at In[20]:1"
     ]
    }
   ],
   "source": [
    "plot(rangotiempos,lfprawsel)"
   ]
  },
  {
   "cell_type": "code",
   "execution_count": 21,
   "metadata": {},
   "outputs": [
    {
     "data": {
      "text/plain": [
       "3.5127854920187214"
      ]
     },
     "execution_count": 21,
     "metadata": {},
     "output_type": "execute_result"
    }
   ],
   "source": [
    "1/tmax # la minima frecuencia observable."
   ]
  },
  {
   "cell_type": "markdown",
   "metadata": {},
   "source": [
    "Por cada tipo de array, solo es necesario calcular el plan una vez. Asi que si el usuario cambia de electrodo, no es necesario volver a calcular el plan, pero si cambia la longitud entonces si."
   ]
  },
  {
   "cell_type": "code",
   "execution_count": null,
   "metadata": {},
   "outputs": [],
   "source": [
    "plan=plan_fft(lfprawsel,  flags=FFTW.MEASURE)"
   ]
  },
  {
   "cell_type": "markdown",
   "metadata": {},
   "source": [
    "Aplicamos la transformada númerica de Fourier ahora si. El plan se aplica con \" * \" en julia. Lo simetrizamos, y calculamos el poder (el valor absoluto al cuadrado)"
   ]
  },
  {
   "cell_type": "code",
   "execution_count": null,
   "metadata": {
    "collapsed": true
   },
   "outputs": [],
   "source": [
    "fttotal=(plan*lfprawsel);\n",
    "ftsym=circshift(fttotal, div(nmax,2));\n",
    "epoder=map(abs2, ftsym);"
   ]
  },
  {
   "cell_type": "markdown",
   "metadata": {},
   "source": [
    "Finalmente la prueba: una hermosa gráfica del espectro de poder por frecuencia."
   ]
  },
  {
   "cell_type": "code",
   "execution_count": null,
   "metadata": {},
   "outputs": [],
   "source": [
    "figura=figure(figsize=(12,6))\n",
    "grid(which=\"both\")\n",
    "fminplot=(1/tmax*0.95)\n",
    "fmaxplot=freq/2*1.05\n",
    "xlim(fminplot,fmaxplot)\n",
    "xlabel(funits)\n",
    "ylabel(punits)\n",
    "#yscale(\"log\")\n",
    "#xscale(\"log\")\n",
    "#yscale(\"log\")\n",
    "mediorango=1:500\n",
    "plot(rfreqsim,epoder, lw=0.74)\n",
    "#outname=palabra*\"-sweep_$nsweep.png\"\n",
    "#savefig(outname,dpi=90)"
   ]
  },
  {
   "cell_type": "code",
   "execution_count": null,
   "metadata": {
    "collapsed": true
   },
   "outputs": [],
   "source": []
  }
 ],
 "metadata": {
  "@webio": {
   "lastCommId": "72F267CEB6074236A491ECEEE2C7B2BF",
   "lastKernelId": "85e655e2-7aba-44a6-acd8-68df266ea8a5"
  },
  "kernelspec": {
   "display_name": "Julia 1.0.3",
   "language": "julia",
   "name": "julia-1.0"
  },
  "language_info": {
   "file_extension": ".jl",
   "mimetype": "application/julia",
   "name": "julia",
   "version": "1.0.3"
  }
 },
 "nbformat": 4,
 "nbformat_minor": 2
}
