{
 "cells": [
  {
   "cell_type": "code",
   "execution_count": 1,
   "metadata": {},
   "outputs": [],
   "source": [
    "push!(LOAD_PATH, \".\")\n",
    "using FFTWtoolkit, FFTW\n",
    "using LinearAlgebra\n",
    "using HDF5, DelimitedFiles\n",
    "using PyPlot"
   ]
  },
  {
   "cell_type": "code",
   "execution_count": 2,
   "metadata": {},
   "outputs": [
    {
     "data": {
      "text/plain": [
       "\"/home/karel/BRWFiles/Isabel/Cacho_13_190531_CTRL_R1_Rtn_EMAD.h5\""
      ]
     },
     "execution_count": 2,
     "metadata": {},
     "output_type": "execute_result"
    }
   ],
   "source": [
    "#arxname=\"../JLDFiles/Desinhibida/180116s1/180116s1cut_evento_1.h5\"\n",
    "arxname=\"/home/karel/BRWFiles/Isabel/Cacho_13_190531_CTRL_R1_Rtn_EMAD.h5\""
   ]
  },
  {
   "cell_type": "code",
   "execution_count": 3,
   "metadata": {},
   "outputs": [
    {
     "name": "stderr",
     "output_type": "stream",
     "text": [
      "HDF5-DIAG: Error detected in HDF5 (1.10.4) thread 0:\n",
      "  #000: H5F.c line 370 in H5Fis_hdf5(): unable open file\n",
      "    major: File accessibilty\n",
      "    minor: Not an HDF5 file\n",
      "  #001: H5Fint.c line 802 in H5F__is_hdf5(): unable to open file\n",
      "    major: Low-level I/O\n",
      "    minor: Unable to initialize object\n",
      "  #002: H5FD.c line 734 in H5FD_open(): open failed\n",
      "    major: Virtual File Layer\n",
      "    minor: Unable to initialize object\n",
      "  #003: H5FDsec2.c line 346 in H5FD_sec2_open(): unable to open file: name = '/home/karel/BRWFiles/Isabel/Cacho_13_190531_CTRL_R1_Rtn_EMAD.h5', errno = 2, error message = 'No existe el fichero o el directorio', flags = 0, o_flags = 0\n",
      "    major: File accessibilty\n",
      "    minor: Unable to open file\n"
     ]
    },
    {
     "ename": "ErrorException",
     "evalue": "Cannot access file /home/karel/BRWFiles/Isabel/Cacho_13_190531_CTRL_R1_Rtn_EMAD.h5",
     "output_type": "error",
     "traceback": [
      "Cannot access file /home/karel/BRWFiles/Isabel/Cacho_13_190531_CTRL_R1_Rtn_EMAD.h5",
      "",
      "Stacktrace:",
      " [1] h5f_is_hdf5(::String) at /home/karel/.julia/packages/HDF5/QXcoh/src/HDF5.jl:2330",
      " [2] h5open(::String, ::Bool, ::Bool, ::Bool, ::Bool, ::Bool, ::HDF5Properties, ::HDF5Properties; swmr::Bool) at /home/karel/.julia/packages/HDF5/QXcoh/src/HDF5.jl:625",
      " [3] h5open(::String, ::String; swmr::Bool) at /home/karel/.julia/packages/HDF5/QXcoh/src/HDF5.jl:673",
      " [4] h5open at /home/karel/.julia/packages/HDF5/QXcoh/src/HDF5.jl:656 [inlined] (repeats 2 times)",
      " [5] top-level scope at In[3]:1"
     ]
    }
   ],
   "source": [
    "arx=h5open(arxname)"
   ]
  },
  {
   "cell_type": "code",
   "execution_count": 4,
   "metadata": {},
   "outputs": [
    {
     "ename": "UndefVarError",
     "evalue": "UndefVarError: arx not defined",
     "output_type": "error",
     "traceback": [
      "UndefVarError: arx not defined",
      "",
      "Stacktrace:",
      " [1] top-level scope at In[4]:1"
     ]
    }
   ],
   "source": [
    "names(arx)"
   ]
  },
  {
   "cell_type": "markdown",
   "metadata": {},
   "source": [
    "Todos los tiempos estan en cuadros, esto es, en 1/freq de segundo. Para las transformadas de Fourier (o graficas bonitas) tenemos que multiplicar los rangos por los factores adecuados."
   ]
  },
  {
   "cell_type": "code",
   "execution_count": 5,
   "metadata": {},
   "outputs": [
    {
     "ename": "UndefVarError",
     "evalue": "UndefVarError: arx not defined",
     "output_type": "error",
     "traceback": [
      "UndefVarError: arx not defined",
      "",
      "Stacktrace:",
      " [1] top-level scope at In[5]:1"
     ]
    }
   ],
   "source": [
    "lfp=read(arx, \"lfp\")\n",
    "saturados=read(arx, \"CanalesSaturados\")\n",
    "buenos=read(arx, \"Canalesrespuesta\")\n",
    "freq=read(arx, \"freq\")\n",
    "#late=read(arx, \"latencia\")\n",
    "#fin=read(arx,\"final\")\n",
    "#retrazo=read(arx,\"retrazo\")\n",
    "#println(freq, \" \", late, \" \", fin , \" \", retrazo )"
   ]
  },
  {
   "cell_type": "code",
   "execution_count": 6,
   "metadata": {},
   "outputs": [
    {
     "ename": "UndefVarError",
     "evalue": "UndefVarError: lfp not defined",
     "output_type": "error",
     "traceback": [
      "UndefVarError: lfp not defined",
      "",
      "Stacktrace:",
      " [1] top-level scope at In[6]:1"
     ]
    }
   ],
   "source": [
    "nmax=size(lfp)[3]"
   ]
  },
  {
   "cell_type": "code",
   "execution_count": 7,
   "metadata": {},
   "outputs": [
    {
     "ename": "UndefVarError",
     "evalue": "UndefVarError: retrazo not defined",
     "output_type": "error",
     "traceback": [
      "UndefVarError: retrazo not defined",
      "",
      "Stacktrace:",
      " [1] top-level scope at In[7]:1"
     ]
    }
   ],
   "source": [
    "iniact=retrazo+late # Retrazo + latencia = inicio de señal"
   ]
  },
  {
   "cell_type": "code",
   "execution_count": 8,
   "metadata": {},
   "outputs": [
    {
     "ename": "UndefVarError",
     "evalue": "UndefVarError: nmax not defined",
     "output_type": "error",
     "traceback": [
      "UndefVarError: nmax not defined",
      "",
      "Stacktrace:",
      " [1] top-level scope at In[8]:1"
     ]
    }
   ],
   "source": [
    "#rango=iniact:fin\n",
    "#mejor contamos desde cero, no? el momento cero es el inicial (aunque el indice no)!!!\n",
    "rango=1:nmax"
   ]
  },
  {
   "cell_type": "code",
   "execution_count": 9,
   "metadata": {},
   "outputs": [
    {
     "ename": "UndefVarError",
     "evalue": "UndefVarError: buenos not defined",
     "output_type": "error",
     "traceback": [
      "UndefVarError: buenos not defined",
      "",
      "Stacktrace:",
      " [1] top-level scope at In[9]:1"
     ]
    }
   ],
   "source": [
    "buenos"
   ]
  },
  {
   "cell_type": "code",
   "execution_count": 10,
   "metadata": {},
   "outputs": [
    {
     "ename": "UndefVarError",
     "evalue": "UndefVarError: saturados not defined",
     "output_type": "error",
     "traceback": [
      "UndefVarError: saturados not defined",
      "",
      "Stacktrace:",
      " [1] top-level scope at In[10]:1"
     ]
    }
   ],
   "source": [
    "saturados #terrible wring"
   ]
  },
  {
   "cell_type": "code",
   "execution_count": 11,
   "metadata": {},
   "outputs": [
    {
     "ename": "UndefVarError",
     "evalue": "UndefVarError: lfp not defined",
     "output_type": "error",
     "traceback": [
      "UndefVarError: lfp not defined",
      "",
      "Stacktrace:",
      " [1] top-level scope at In[11]:1"
     ]
    }
   ],
   "source": [
    "ejemplolfp=lfp[1,1,:];"
   ]
  },
  {
   "cell_type": "code",
   "execution_count": 12,
   "metadata": {},
   "outputs": [
    {
     "ename": "UndefVarError",
     "evalue": "UndefVarError: nmax not defined",
     "output_type": "error",
     "traceback": [
      "UndefVarError: nmax not defined",
      "",
      "Stacktrace:",
      " [1] top-level scope at In[12]:1"
     ]
    }
   ],
   "source": [
    "tmax=nmax/freq\n",
    "rangotiempos=(rango.-1)./freq\n",
    "rangofreqs=(rango.-1)./tmax\n",
    "rfreqsim=map(x->-freq/2+(x-1)*freq/(nmax-1),rango);\n",
    "rfreqsim[div(nmax,2)+1]"
   ]
  },
  {
   "cell_type": "code",
   "execution_count": 13,
   "metadata": {},
   "outputs": [
    {
     "ename": "UndefVarError",
     "evalue": "UndefVarError: rangotiempos not defined",
     "output_type": "error",
     "traceback": [
      "UndefVarError: rangotiempos not defined",
      "",
      "Stacktrace:",
      " [1] top-level scope at In[13]:7"
     ]
    }
   ],
   "source": [
    "figura=figure(figsize=(12,6))\n",
    "grid()\n",
    "#xlim(120,170)\n",
    "ylim(-4140,-4120)\n",
    "xlabel(\"[ms]\")\n",
    "ylabel(\"[μ V]\")\n",
    "plot(rangotiempos, ejemplolfp, lw=0.5)"
   ]
  },
  {
   "cell_type": "code",
   "execution_count": 14,
   "metadata": {},
   "outputs": [
    {
     "ename": "UndefVarError",
     "evalue": "UndefVarError: ejemplolfp not defined",
     "output_type": "error",
     "traceback": [
      "UndefVarError: ejemplolfp not defined",
      "",
      "Stacktrace:",
      " [1] top-level scope at In[14]:1"
     ]
    }
   ],
   "source": [
    "plan=plan_fft(ejemplolfp,  flags=FFTW.PATIENT)\n",
    "fttotal=(plan*ejemplolfp);\n",
    "ftsym=circshift(fttotal, div(nmax,2));"
   ]
  },
  {
   "cell_type": "code",
   "execution_count": 15,
   "metadata": {},
   "outputs": [
    {
     "ename": "LoadError",
     "evalue": "syntax: incomplete: premature end of input",
     "output_type": "error",
     "traceback": [
      "syntax: incomplete: premature end of input",
      ""
     ]
    }
   ],
   "source": [
    "invplan=plan_ifft(fttotal;"
   ]
  },
  {
   "cell_type": "code",
   "execution_count": 16,
   "metadata": {},
   "outputs": [
    {
     "ename": "UndefVarError",
     "evalue": "UndefVarError: ftsym not defined",
     "output_type": "error",
     "traceback": [
      "UndefVarError: ftsym not defined",
      "",
      "Stacktrace:",
      " [1] top-level scope at In[16]:1"
     ]
    }
   ],
   "source": [
    "epoder=map(abs2, ftsym)\n",
    "unsymepoder=map(abs2, fttotal)\n",
    "   # poderfiltrado=map(abs2, rara2);"
   ]
  },
  {
   "cell_type": "code",
   "execution_count": 17,
   "metadata": {},
   "outputs": [
    {
     "ename": "UndefVarError",
     "evalue": "UndefVarError: rfreqsim not defined",
     "output_type": "error",
     "traceback": [
      "UndefVarError: rfreqsim not defined",
      "",
      "Stacktrace:",
      " [1] top-level scope at In[17]:1"
     ]
    }
   ],
   "source": [
    "plot(rfreqsim,epoder)"
   ]
  },
  {
   "cell_type": "code",
   "execution_count": 18,
   "metadata": {},
   "outputs": [
    {
     "ename": "UndefVarError",
     "evalue": "UndefVarError: rangofreqs not defined",
     "output_type": "error",
     "traceback": [
      "UndefVarError: rangofreqs not defined",
      "",
      "Stacktrace:",
      " [1] top-level scope at In[18]:1"
     ]
    }
   ],
   "source": [
    "plot(rangofreqs, unsymepoder)"
   ]
  },
  {
   "cell_type": "code",
   "execution_count": 19,
   "metadata": {},
   "outputs": [
    {
     "ename": "UndefVarError",
     "evalue": "UndefVarError: rangofreqs not defined",
     "output_type": "error",
     "traceback": [
      "UndefVarError: rangofreqs not defined",
      "",
      "Stacktrace:",
      " [1] top-level scope at In[19]:11"
     ]
    }
   ],
   "source": [
    "figura=figure(figsize=(12,6))\n",
    "grid(which=\"both\")\n",
    "xlim(+0.3,4)\n",
    "xlabel(\"[kHz]\")\n",
    "ylabel(\"[μ V^2 ms]\")\n",
    "yscale(\"log\")\n",
    "xscale(\"log\")\n",
    "#xticks([0.1,0.2,0.3,0.4,0.5,0.6,0.7])\n",
    "#yscale(\"log\")\n",
    "mediorango=1:500\n",
    "plot(rangofreqs,unsyfiltr, lw=0.15)\n",
    "#plot(rangofreqs[mediorango],epoder2[mediorango])"
   ]
  },
  {
   "cell_type": "code",
   "execution_count": 20,
   "metadata": {},
   "outputs": [
    {
     "ename": "UndefVarError",
     "evalue": "UndefVarError: rangofreqs not defined",
     "output_type": "error",
     "traceback": [
      "UndefVarError: rangofreqs not defined",
      "",
      "Stacktrace:",
      " [1] top-level scope at In[20]:1"
     ]
    }
   ],
   "source": [
    "rara2=filtrobanda(rangofreqs, fttotal, 0.350,3);  #esto seria la banda theta"
   ]
  },
  {
   "cell_type": "code",
   "execution_count": 21,
   "metadata": {},
   "outputs": [
    {
     "ename": "UndefVarError",
     "evalue": "UndefVarError: rara2 not defined",
     "output_type": "error",
     "traceback": [
      "UndefVarError: rara2 not defined",
      "",
      "Stacktrace:",
      " [1] top-level scope at In[21]:1"
     ]
    }
   ],
   "source": [
    "unsyfiltr=map(abs2, rara2);"
   ]
  },
  {
   "cell_type": "code",
   "execution_count": 22,
   "metadata": {},
   "outputs": [
    {
     "ename": "UndefVarError",
     "evalue": "UndefVarError: rangofreqs not defined",
     "output_type": "error",
     "traceback": [
      "UndefVarError: rangofreqs not defined",
      "",
      "Stacktrace:",
      " [1] top-level scope at In[22]:3"
     ]
    }
   ],
   "source": [
    "figura=figure(figsize=(12,6))\n",
    "xlim(0,17.8)\n",
    "plot(rangofreqs, unsyfiltr)"
   ]
  },
  {
   "cell_type": "code",
   "execution_count": 23,
   "metadata": {},
   "outputs": [
    {
     "ename": "UndefVarError",
     "evalue": "UndefVarError: invplan not defined",
     "output_type": "error",
     "traceback": [
      "UndefVarError: invplan not defined",
      "",
      "Stacktrace:",
      " [1] top-level scope at In[23]:1"
     ]
    }
   ],
   "source": [
    "exfiltrado=real.(invplan*rara2);"
   ]
  },
  {
   "cell_type": "code",
   "execution_count": 24,
   "metadata": {},
   "outputs": [
    {
     "ename": "UndefVarError",
     "evalue": "UndefVarError: exfiltrado not defined",
     "output_type": "error",
     "traceback": [
      "UndefVarError: exfiltrado not defined",
      "",
      "Stacktrace:",
      " [1] top-level scope at In[24]:3"
     ]
    }
   ],
   "source": [
    "figura=figure(figsize=(12,10))\n",
    "xlim(900,1050)\n",
    "\n",
    "plot(rangotiempos, exfiltrado.+200, lw=0.2)\n",
    "plot(rangotiempos, ejemplolfp, lw=0.2)\n",
    "grid()"
   ]
  },
  {
   "cell_type": "markdown",
   "metadata": {},
   "source": [
    "Muy bien, hasta ahí parece funcionar. Hay que checar que esto también jale con indices pares. Ahora aplicamos a esto a los datos completos."
   ]
  },
  {
   "cell_type": "code",
   "execution_count": 25,
   "metadata": {},
   "outputs": [
    {
     "ename": "UndefVarError",
     "evalue": "UndefVarError: nmax not defined",
     "output_type": "error",
     "traceback": [
      "UndefVarError: nmax not defined",
      "",
      "Stacktrace:",
      " [1] top-level scope at In[25]:1"
     ]
    }
   ],
   "source": [
    "ffTotalTotal=zeros(Complex, 64, 64, nmax);\n",
    "for j=1:64, k=1:64\n",
    "    ffTotalTotal[j,k,:]=plan*vec(lfp[j,k,:])\n",
    "end"
   ]
  },
  {
   "cell_type": "code",
   "execution_count": 26,
   "metadata": {},
   "outputs": [
    {
     "data": {
      "text/plain": [
       "faltotas (generic function with 1 method)"
      ]
     },
     "execution_count": 26,
     "metadata": {},
     "output_type": "execute_result"
    }
   ],
   "source": [
    "# = funciones auxiliares para bandas \"ineteresantes =#\n",
    "fbajas(datos)=filtrobanda(rangofreqs,datos, 0.010, 0.060)\n",
    "fmedias(datos)=filtrobanda(rangofreqs, datos, 0.1, 0.2)\n",
    "faltas(datos)=filtrobanda(rangofreqs, datos, 0.2, 0.3)\n",
    "faltotas(datos)=filtrobanda(rangofreqs, datos, 0.3, 0.45)"
   ]
  },
  {
   "cell_type": "code",
   "execution_count": 27,
   "metadata": {},
   "outputs": [
    {
     "data": {
      "text/plain": [
       "fuspr (generic function with 1 method)"
      ]
     },
     "execution_count": 27,
     "metadata": {},
     "output_type": "execute_result"
    }
   ],
   "source": [
    "fdelta(datos)=filtrobanda(rangofreqs,datos, 0.0001, 0.0035)\n",
    "ftheta(datos)=filtrobanda(rangofreqs, datos, 0.0035, 0.007022)\n",
    "falpha(datos)=filtrobanda(rangofreqs, datos, 0.007022, 0.014044)\n",
    "fbeta(datos)=filtrobanda(rangofreqs, datos, 0.014044, 0.035120)\n",
    "fgamma(datos)=filtrobanda(rangofreqs, datos, 0.035120, 0.100)\n",
    "fspr(datos)=filtrobanda(rangofreqs, datos, 0.100, 0.250)\n",
    "fuspr(datos)=filtrobanda(rangofreqs, datos, 0.250, 0.600)"
   ]
  },
  {
   "cell_type": "markdown",
   "metadata": {},
   "source": [
    "Las unidades son un relajo. Tenemos que $V^2 \\cdot s$ ( Volts cuadrados por segundos ) son Joules entre Coulombs. La transformada de Fourier esta en $ V \\cdot s$, Volts segundos. Al cuadrar y multiplicar por $ d \\omega$,nos da otra vez $ V^2 s$ que esta bien. Pero nuestra señal esta en $mV \\cdot ms$. Eso da que la Transformada de Fourier está en $10^{-6} Vs$. Al cuadrar queda en $10^{-12}$, y nuestra $d \\omega$ esta en kHz. Por ende el resultado de la integral esta en $10^{-9} J/C$."
   ]
  },
  {
   "cell_type": "code",
   "execution_count": 28,
   "metadata": {},
   "outputs": [
    {
     "ename": "UndefVarError",
     "evalue": "UndefVarError: ffTotalTotal not defined",
     "output_type": "error",
     "traceback": [
      "UndefVarError: ffTotalTotal not defined",
      "",
      "Stacktrace:",
      " [1] top-level scope at ./In[28]:7"
     ]
    }
   ],
   "source": [
    "factor=10^9\n",
    "poderbajo=zeros(Real, 64,64)\n",
    "podermedio=zeros(Real, 64,64)\n",
    "poderalto=zeros(Real, 64,64)\n",
    "poderaltote=zeros(Real, 64,64)\n",
    "for j=1:64, k=1:64\n",
    "    aux=fbajas(ffTotalTotal[j,k,:])\n",
    "    poderbajo[j,k]=convert(Real, dot(aux,aux))/factor\n",
    "    aux=fmedias(ffTotalTotal[j,k,:])\n",
    "    podermedio[j,k]=convert(Real, dot(aux,aux))/factor\n",
    "    aux=faltas(ffTotalTotal[j,k,:])\n",
    "    poderalto[j,k]=convert(Real, dot(aux,aux))/factor\n",
    "    aux=faltotas(ffTotalTotal[j,k,:])\n",
    "    poderaltote[j,k]=convert(Real, dot(aux,aux))/factor\n",
    "end"
   ]
  },
  {
   "cell_type": "code",
   "execution_count": 29,
   "metadata": {},
   "outputs": [],
   "source": [
    "poderdelta=zeros(Real,64,64)\n",
    "podertheta=zeros(Real,64,64)\n",
    "poderalpha=zeros(Real,64,64)\n",
    "poderbeta=zeros(Real,64,64)\n",
    "podergamma=zeros(Real,64,64)\n",
    "poderspr=zeros(Real,64,64)\n",
    "poderuspr=zeros(Real,64,64);"
   ]
  },
  {
   "cell_type": "code",
   "execution_count": 30,
   "metadata": {},
   "outputs": [
    {
     "data": {
      "text/plain": [
       "(fdelta, ftheta, falpha, fbeta, fgamma, fspr, fuspr)"
      ]
     },
     "execution_count": 30,
     "metadata": {},
     "output_type": "execute_result"
    }
   ],
   "source": [
    "listapoder=(poderdelta,podertheta, poderalpha,poderbeta,podergamma,poderspr,poderuspr)\n",
    "listaf=(fdelta, ftheta, falpha, fbeta, fgamma, fspr, fuspr)"
   ]
  },
  {
   "cell_type": "code",
   "execution_count": 31,
   "metadata": {},
   "outputs": [
    {
     "ename": "UndefVarError",
     "evalue": "UndefVarError: ffTotalTotal not defined",
     "output_type": "error",
     "traceback": [
      "UndefVarError: ffTotalTotal not defined",
      "",
      "Stacktrace:",
      " [1] top-level scope at ./In[31]:4"
     ]
    }
   ],
   "source": [
    "ll=zip(listapoder, listaf)\n",
    "for (p,f) in ll\n",
    "    for j=1:64, k=1:64\n",
    "    aux=f(ffTotalTotal[j,k,:])\n",
    "    p[j,k]=convert(Real, dot(aux,aux))/factor\n",
    "    end\n",
    "end"
   ]
  },
  {
   "cell_type": "code",
   "execution_count": 32,
   "metadata": {},
   "outputs": [
    {
     "data": {
      "text/plain": [
       "(0, 0)"
      ]
     },
     "execution_count": 32,
     "metadata": {},
     "output_type": "execute_result"
    }
   ],
   "source": [
    "extrema(podergamma)"
   ]
  },
  {
   "cell_type": "code",
   "execution_count": 33,
   "metadata": {},
   "outputs": [
    {
     "ename": "UndefVarError",
     "evalue": "UndefVarError: saturados not defined",
     "output_type": "error",
     "traceback": [
      "UndefVarError: saturados not defined",
      "",
      "Stacktrace:",
      " [1] top-level scope at In[33]:1"
     ]
    }
   ],
   "source": [
    "saturados"
   ]
  },
  {
   "cell_type": "code",
   "execution_count": 34,
   "metadata": {
    "scrolled": false
   },
   "outputs": [
    {
     "ename": "UndefVarError",
     "evalue": "UndefVarError: saturados not defined",
     "output_type": "error",
     "traceback": [
      "UndefVarError: saturados not defined",
      "",
      "Stacktrace:",
      " [1] top-level scope at In[34]:1"
     ]
    }
   ],
   "source": [
    "satux=saturados[:,2]\n",
    "satuy=saturados[:,1]\n",
    "bonsx=buenos[:,2]\n",
    "bonsy=buenos[:,1];"
   ]
  },
  {
   "cell_type": "code",
   "execution_count": 35,
   "metadata": {},
   "outputs": [
    {
     "name": "stderr",
     "output_type": "stream",
     "text": [
      "┌ Warning: `getindex(o::PyObject, s::Symbol)` is deprecated in favor of dot overloading (`getproperty`) so elements should now be accessed as e.g. `o.s` instead of `o[:s]`.\n",
      "│   caller = top-level scope at In[35]:6\n",
      "└ @ Core In[35]:6\n",
      "┌ Warning: `getindex(o::PyObject, s::Symbol)` is deprecated in favor of dot overloading (`getproperty`) so elements should now be accessed as e.g. `o.s` instead of `o[:s]`.\n",
      "│   caller = top-level scope at In[35]:8\n",
      "└ @ Core In[35]:8\n",
      "┌ Warning: `getindex(o::PyObject, s::Symbol)` is deprecated in favor of dot overloading (`getproperty`) so elements should now be accessed as e.g. `o.s` instead of `o[:s]`.\n",
      "│   caller = top-level scope at In[35]:8\n",
      "└ @ Core In[35]:8\n",
      "┌ Warning: `getindex(o::PyObject, s::Symbol)` is deprecated in favor of dot overloading (`getproperty`) so elements should now be accessed as e.g. `o.s` instead of `o[:s]`.\n",
      "│   caller = top-level scope at In[35]:9\n",
      "└ @ Core In[35]:9\n",
      "┌ Warning: `getindex(o::PyObject, s::Symbol)` is deprecated in favor of dot overloading (`getproperty`) so elements should now be accessed as e.g. `o.s` instead of `o[:s]`.\n",
      "│   caller = top-level scope at In[35]:11\n",
      "└ @ Core In[35]:11\n",
      "┌ Warning: `getindex(o::PyObject, s::Symbol)` is deprecated in favor of dot overloading (`getproperty`) so elements should now be accessed as e.g. `o.s` instead of `o[:s]`.\n",
      "│   caller = top-level scope at In[35]:11\n",
      "└ @ Core In[35]:11\n",
      "┌ Warning: `getindex(o::PyObject, s::Symbol)` is deprecated in favor of dot overloading (`getproperty`) so elements should now be accessed as e.g. `o.s` instead of `o[:s]`.\n",
      "│   caller = top-level scope at In[35]:12\n",
      "└ @ Core In[35]:12\n",
      "┌ Warning: `getindex(o::PyObject, s::Symbol)` is deprecated in favor of dot overloading (`getproperty`) so elements should now be accessed as e.g. `o.s` instead of `o[:s]`.\n",
      "│   caller = top-level scope at In[35]:14\n",
      "└ @ Core In[35]:14\n",
      "┌ Warning: `getindex(o::PyObject, s::Symbol)` is deprecated in favor of dot overloading (`getproperty`) so elements should now be accessed as e.g. `o.s` instead of `o[:s]`.\n",
      "│   caller = top-level scope at In[35]:14\n",
      "└ @ Core In[35]:14\n",
      "┌ Warning: `getindex(o::PyObject, s::Symbol)` is deprecated in favor of dot overloading (`getproperty`) so elements should now be accessed as e.g. `o.s` instead of `o[:s]`.\n",
      "│   caller = top-level scope at In[35]:15\n",
      "└ @ Core In[35]:15\n",
      "┌ Warning: `getindex(o::PyObject, s::Symbol)` is deprecated in favor of dot overloading (`getproperty`) so elements should now be accessed as e.g. `o.s` instead of `o[:s]`.\n",
      "│   caller = top-level scope at In[35]:17\n",
      "└ @ Core In[35]:17\n",
      "┌ Warning: `getindex(o::PyObject, s::Symbol)` is deprecated in favor of dot overloading (`getproperty`) so elements should now be accessed as e.g. `o.s` instead of `o[:s]`.\n",
      "│   caller = top-level scope at In[35]:17\n",
      "└ @ Core In[35]:17\n"
     ]
    },
    {
     "ename": "UndefVarError",
     "evalue": "UndefVarError: bonsx not defined",
     "output_type": "error",
     "traceback": [
      "UndefVarError: bonsx not defined",
      "",
      "Stacktrace:",
      " [1] top-level scope at In[35]:18"
     ]
    }
   ],
   "source": [
    "farofa, lista =subplots(2,2, figsize=(10,10))\n",
    "\n",
    "(pmin, pmax)= (0, 2)\n",
    "\n",
    "exten=[0.5,64.5,0.5,64.5]\n",
    "\n",
    "lista[1,1][:imshow](poderbajo, vmin=pmin, vmax=pmax, origin=\"lower\", cmap=\"magma\")\n",
    "lista[1,1][:title][:set_text](\"10~60Hz\")\n",
    "\n",
    "lista[1,2][:imshow](podermedio, vmin=pmin, vmax=pmax, origin=\"lower\", cmap=\"magma\")\n",
    "lista[1,2][:title][:set_text](\"100~200Hz\")\n",
    "\n",
    "lista[2,1][:imshow](poderalto, vmin=pmin, vmax=pmax, origin=\"lower\", cmap=\"magma\")\n",
    "lista[2,1][:title][:set_text](\"200~300Hz\")\n",
    "\n",
    "lista[2,2][:imshow](poderaltote, vmin=pmin, vmax=pmax, origin=\"lower\", cmap=\"magma\", extent=exten)\n",
    "lista[2,2][:title][:set_text](\"300~450Hz\")\n",
    "\n",
    "scatter(bonsx, bonsy, marker=\"o\", c=\"red\", s=0.4)\n",
    "scatter(satux, satuy, marker=\"x\", c=\"cyan\", s=20)\n",
    "\n",
    "\n",
    "#farofa[:colorbar](lista[2,2], ax=lista, orientation=\"horizontal\", fraction=.1)\n",
    "\n",
    "savefig(\"EspectrosdePoderporBandasArbitrarias.png\", dpi=90)\n",
    "\n",
    "#colorbar()"
   ]
  },
  {
   "cell_type": "code",
   "execution_count": 36,
   "metadata": {},
   "outputs": [
    {
     "name": "stderr",
     "output_type": "stream",
     "text": [
      "┌ Warning: `getindex(o::PyObject, s::Symbol)` is deprecated in favor of dot overloading (`getproperty`) so elements should now be accessed as e.g. `o.s` instead of `o[:s]`.\n",
      "│   caller = top-level scope at In[36]:6\n",
      "└ @ Core In[36]:6\n",
      "┌ Warning: `getindex(o::PyObject, s::Symbol)` is deprecated in favor of dot overloading (`getproperty`) so elements should now be accessed as e.g. `o.s` instead of `o[:s]`.\n",
      "│   caller = top-level scope at In[36]:8\n",
      "└ @ Core In[36]:8\n",
      "┌ Warning: `getindex(o::PyObject, s::Symbol)` is deprecated in favor of dot overloading (`getproperty`) so elements should now be accessed as e.g. `o.s` instead of `o[:s]`.\n",
      "│   caller = top-level scope at In[36]:8\n",
      "└ @ Core In[36]:8\n",
      "┌ Warning: `getindex(o::PyObject, s::Symbol)` is deprecated in favor of dot overloading (`getproperty`) so elements should now be accessed as e.g. `o.s` instead of `o[:s]`.\n",
      "│   caller = top-level scope at In[36]:9\n",
      "└ @ Core In[36]:9\n",
      "┌ Warning: `getindex(o::PyObject, s::Symbol)` is deprecated in favor of dot overloading (`getproperty`) so elements should now be accessed as e.g. `o.s` instead of `o[:s]`.\n",
      "│   caller = top-level scope at In[36]:11\n",
      "└ @ Core In[36]:11\n",
      "┌ Warning: `getindex(o::PyObject, s::Symbol)` is deprecated in favor of dot overloading (`getproperty`) so elements should now be accessed as e.g. `o.s` instead of `o[:s]`.\n",
      "│   caller = top-level scope at In[36]:11\n",
      "└ @ Core In[36]:11\n",
      "┌ Warning: `getindex(o::PyObject, s::Symbol)` is deprecated in favor of dot overloading (`getproperty`) so elements should now be accessed as e.g. `o.s` instead of `o[:s]`.\n",
      "│   caller = top-level scope at In[36]:12\n",
      "└ @ Core In[36]:12\n",
      "┌ Warning: `getindex(o::PyObject, s::Symbol)` is deprecated in favor of dot overloading (`getproperty`) so elements should now be accessed as e.g. `o.s` instead of `o[:s]`.\n",
      "│   caller = top-level scope at In[36]:14\n",
      "└ @ Core In[36]:14\n",
      "┌ Warning: `getindex(o::PyObject, s::Symbol)` is deprecated in favor of dot overloading (`getproperty`) so elements should now be accessed as e.g. `o.s` instead of `o[:s]`.\n",
      "│   caller = top-level scope at In[36]:14\n",
      "└ @ Core In[36]:14\n",
      "┌ Warning: `getindex(o::PyObject, s::Symbol)` is deprecated in favor of dot overloading (`getproperty`) so elements should now be accessed as e.g. `o.s` instead of `o[:s]`.\n",
      "│   caller = top-level scope at In[36]:15\n",
      "└ @ Core In[36]:15\n",
      "┌ Warning: `getindex(o::PyObject, s::Symbol)` is deprecated in favor of dot overloading (`getproperty`) so elements should now be accessed as e.g. `o.s` instead of `o[:s]`.\n",
      "│   caller = top-level scope at In[36]:17\n",
      "└ @ Core In[36]:17\n",
      "┌ Warning: `getindex(o::PyObject, s::Symbol)` is deprecated in favor of dot overloading (`getproperty`) so elements should now be accessed as e.g. `o.s` instead of `o[:s]`.\n",
      "│   caller = top-level scope at In[36]:17\n",
      "└ @ Core In[36]:17\n",
      "┌ Warning: `getindex(o::PyObject, s::Symbol)` is deprecated in favor of dot overloading (`getproperty`) so elements should now be accessed as e.g. `o.s` instead of `o[:s]`.\n",
      "│   caller = top-level scope at In[36]:18\n",
      "└ @ Core In[36]:18\n",
      "┌ Warning: `getindex(o::PyObject, s::Symbol)` is deprecated in favor of dot overloading (`getproperty`) so elements should now be accessed as e.g. `o.s` instead of `o[:s]`.\n",
      "│   caller = top-level scope at In[36]:20\n",
      "└ @ Core In[36]:20\n",
      "┌ Warning: `getindex(o::PyObject, s::Symbol)` is deprecated in favor of dot overloading (`getproperty`) so elements should now be accessed as e.g. `o.s` instead of `o[:s]`.\n",
      "│   caller = top-level scope at In[36]:20\n",
      "└ @ Core In[36]:20\n",
      "┌ Warning: `getindex(o::PyObject, s::Symbol)` is deprecated in favor of dot overloading (`getproperty`) so elements should now be accessed as e.g. `o.s` instead of `o[:s]`.\n",
      "│   caller = top-level scope at In[36]:21\n",
      "└ @ Core In[36]:21\n",
      "┌ Warning: `getindex(o::PyObject, s::Symbol)` is deprecated in favor of dot overloading (`getproperty`) so elements should now be accessed as e.g. `o.s` instead of `o[:s]`.\n",
      "│   caller = top-level scope at In[36]:23\n",
      "└ @ Core In[36]:23\n",
      "┌ Warning: `getindex(o::PyObject, s::Symbol)` is deprecated in favor of dot overloading (`getproperty`) so elements should now be accessed as e.g. `o.s` instead of `o[:s]`.\n",
      "│   caller = top-level scope at In[36]:23\n",
      "└ @ Core In[36]:23\n",
      "┌ Warning: `getindex(o::PyObject, s::Symbol)` is deprecated in favor of dot overloading (`getproperty`) so elements should now be accessed as e.g. `o.s` instead of `o[:s]`.\n",
      "│   caller = top-level scope at In[36]:24\n",
      "└ @ Core In[36]:24\n",
      "┌ Warning: `getindex(o::PyObject, s::Symbol)` is deprecated in favor of dot overloading (`getproperty`) so elements should now be accessed as e.g. `o.s` instead of `o[:s]`.\n",
      "│   caller = top-level scope at In[36]:26\n",
      "└ @ Core In[36]:26\n",
      "┌ Warning: `getindex(o::PyObject, s::Symbol)` is deprecated in favor of dot overloading (`getproperty`) so elements should now be accessed as e.g. `o.s` instead of `o[:s]`.\n",
      "│   caller = top-level scope at In[36]:26\n",
      "└ @ Core In[36]:26\n",
      "┌ Warning: `getindex(o::PyObject, s::Symbol)` is deprecated in favor of dot overloading (`getproperty`) so elements should now be accessed as e.g. `o.s` instead of `o[:s]`.\n",
      "│   caller = top-level scope at In[36]:27\n",
      "└ @ Core In[36]:27\n",
      "┌ Warning: `getindex(o::PyObject, s::Symbol)` is deprecated in favor of dot overloading (`getproperty`) so elements should now be accessed as e.g. `o.s` instead of `o[:s]`.\n",
      "│   caller = top-level scope at In[36]:29\n",
      "└ @ Core In[36]:29\n"
     ]
    },
    {
     "ename": "UndefVarError",
     "evalue": "UndefVarError: bonsx not defined",
     "output_type": "error",
     "traceback": [
      "UndefVarError: bonsx not defined",
      "",
      "Stacktrace:",
      " [1] top-level scope at In[36]:29"
     ]
    }
   ],
   "source": [
    "farofa, lista =subplots(4,2, figsize=(10,14))\n",
    "\n",
    "(pmin, pmax)= (0, 2)\n",
    "\n",
    "exten=[0.5,64.5,0.5,64.5]\n",
    "\n",
    "lista[1,1][:imshow](poderdelta, vmin=pmin, vmax=pmax, origin=\"lower\", cmap=\"magma\")\n",
    "lista[1,1][:title][:set_text](\"δ Band\")\n",
    "\n",
    "lista[1,2][:imshow](podertheta, vmin=pmin, vmax=pmax, origin=\"lower\", cmap=\"magma\")\n",
    "lista[1,2][:title][:set_text](\"θ Band\")\n",
    "\n",
    "lista[2,1][:imshow](poderalpha, vmin=pmin, vmax=pmax, origin=\"lower\", cmap=\"magma\")\n",
    "lista[2,1][:title][:set_text](\"α Band\")\n",
    "\n",
    "lista[2,2][:imshow](poderbeta, vmin=pmin, vmax=pmax, origin=\"lower\", cmap=\"magma\", extent=exten)\n",
    "lista[2,2][:title][:set_text](\"β Band\")\n",
    "\n",
    "lista[3,1][:imshow](podergamma, vmin=pmin, vmax=pmax, origin=\"lower\", cmap=\"magma\", extent=exten)\n",
    "lista[3,1][:title][:set_text](\"γ Band\")\n",
    "\n",
    "lista[3,2][:imshow](poderspr, vmin=pmin, vmax=pmax, origin=\"lower\", cmap=\"magma\", extent=exten)\n",
    "lista[3,2][:title][:set_text](\"SPR Band\")\n",
    "\n",
    "lista[4,1][:imshow](poderuspr, vmin=pmin, vmax=pmax, origin=\"lower\", cmap=\"magma\", extent=exten)\n",
    "lista[4,1][:title][:set_text](\"USPR Band\")\n",
    "\n",
    "lista[4,2][:set_aspect](\"equal\")\n",
    "lista[4,2][:scatter](bonsx, bonsy, marker=\"o\", c=\"red\", s=0.4)\n",
    "lista[4,2][:scatter](satux, satuy, marker=\"x\", c=\"cyan\", s=20)\n",
    "\n",
    "\n",
    "#farofa[:colorbar](lista[2,2], ax=lista, orientation=\"horizontal\", fraction=.1)\n",
    "\n",
    "savefig(\"EspectrosdePoderporBandasTradicionales.png\", dpi=90)\n",
    "\n",
    "#colorbar()"
   ]
  },
  {
   "cell_type": "code",
   "execution_count": 37,
   "metadata": {},
   "outputs": [
    {
     "ename": "UndefVarError",
     "evalue": "UndefVarError: ejemplolfp not defined",
     "output_type": "error",
     "traceback": [
      "UndefVarError: ejemplolfp not defined",
      "",
      "Stacktrace:",
      " [1] top-level scope at In[37]:1"
     ]
    }
   ],
   "source": [
    "skt=wfft(ejemplolfp, 350);\n",
    "ranguitof=(0:349).*(freq/350)"
   ]
  },
  {
   "cell_type": "code",
   "execution_count": 38,
   "metadata": {},
   "outputs": [
    {
     "ename": "UndefVarError",
     "evalue": "UndefVarError: skt not defined",
     "output_type": "error",
     "traceback": [
      "UndefVarError: skt not defined",
      "",
      "Stacktrace:",
      " [1] top-level scope at In[38]:1"
     ]
    }
   ],
   "source": [
    "epoder=map(abs2, skt)./factor;"
   ]
  },
  {
   "cell_type": "code",
   "execution_count": 39,
   "metadata": {},
   "outputs": [
    {
     "ename": "UndefVarError",
     "evalue": "UndefVarError: epoder not defined",
     "output_type": "error",
     "traceback": [
      "UndefVarError: epoder not defined",
      "",
      "Stacktrace:",
      " [1] top-level scope at In[39]:1"
     ]
    }
   ],
   "source": [
    "extrema(epoder), size(epoder)"
   ]
  },
  {
   "cell_type": "code",
   "execution_count": 40,
   "metadata": {},
   "outputs": [
    {
     "ename": "UndefVarError",
     "evalue": "UndefVarError: epoder not defined",
     "output_type": "error",
     "traceback": [
      "UndefVarError: epoder not defined",
      "",
      "Stacktrace:",
      " [1] top-level scope at In[40]:2"
     ]
    }
   ],
   "source": [
    "f=figure(figsize=(10,10))\n",
    "#xlim(0,2)\n",
    "#axis(\"off\")\n",
    "\n",
    "fmax=size(epoder)[2]\n",
    "datossym=circshift(epoder, (0,div(fmax,2)))\n",
    "\n",
    "for j=1:2:(350)\n",
    "    datos=vec(datossym[:,j+1]).+(j*0.0001)\n",
    "    plot(datos, lw=0.2, c=\"black\")\n",
    "end\n",
    "\n",
    "#savefig(\"texturadefrequenciasa01.png\", dpi=90)\n"
   ]
  },
  {
   "cell_type": "code",
   "execution_count": 41,
   "metadata": {},
   "outputs": [
    {
     "ename": "UndefVarError",
     "evalue": "UndefVarError: datossym not defined",
     "output_type": "error",
     "traceback": [
      "UndefVarError: datossym not defined",
      "",
      "Stacktrace:",
      " [1] top-level scope at In[41]:2"
     ]
    }
   ],
   "source": [
    "f=figure(figsize=(10,10))\n",
    "\n",
    "(twmax , fwmax)= size(datossym)\n",
    "\n",
    "twmax=twmax/freq\n",
    "fwmax=freq\n",
    "\n",
    "(pmin,pmax)=extrema(datossym)\n",
    "\n",
    "ylim(-0.5,.5)\n",
    "\n",
    "extento=[0,twmax,-fwmax/2,fwmax/2]\n",
    "\n",
    "bla=permutedims(datossym, [2,1])\n",
    "\n",
    "imshow(bla, origin=\"lower\", cmap=\"gnuplot\", extent=extento, aspect=80, vmin=pmin, vmax=0.5*pmax)"
   ]
  },
  {
   "cell_type": "code",
   "execution_count": 42,
   "metadata": {},
   "outputs": [
    {
     "ename": "UndefVarError",
     "evalue": "UndefVarError: skt not defined",
     "output_type": "error",
     "traceback": [
      "UndefVarError: skt not defined",
      "",
      "Stacktrace:",
      " [1] top-level scope at In[42]:1"
     ]
    }
   ],
   "source": [
    "\n",
    "(cmax, smax)=size(skt)\n",
    "\n",
    "poderwindowgamma=zeros(cmax)\n",
    "poderwindowalpha=zeros(cmax)\n",
    "poderwindowbeta=zeros(cmax)\n",
    "poderwindowspr=zeros(cmax)\n",
    "\n",
    "\n",
    "for j=1:cmax\n",
    "    aux=fgamma(skt[j,:])\n",
    "    poderwindowgamma[j]=dot(aux, aux)\n",
    "    \n",
    "    aux=falpha(skt[j,:])\n",
    "    poderwindowalpha[j]=dot(aux, aux)\n",
    "\n",
    "    aux=fbeta(skt[j,:])\n",
    "    poderwindowbeta[j]=dot(aux, aux)\n",
    "\n",
    "    aux=fspr(skt[j,:])\n",
    "    poderwindowspr[j]=dot(aux, aux)\n",
    "    \n",
    "end\n"
   ]
  },
  {
   "cell_type": "code",
   "execution_count": 43,
   "metadata": {},
   "outputs": [
    {
     "ename": "UndefVarError",
     "evalue": "UndefVarError: cmax not defined",
     "output_type": "error",
     "traceback": [
      "UndefVarError: cmax not defined",
      "",
      "Stacktrace:",
      " [1] top-level scope at In[43]:2"
     ]
    }
   ],
   "source": [
    "figura=figure(figsize=(10,4))\n",
    "trange=(1:cmax)./freq\n",
    "\n",
    "plot(trange,poderwindowalpha, label=\"α\")\n",
    "plot(trange,poderwindowbeta, label=\"β\")\n",
    "plot(trange,poderwindowgamma, label=\"γ\")\n",
    "plot(trange,poderwindowspr, label=\"SPR\")\n",
    "\n",
    "legend()\n"
   ]
  },
  {
   "cell_type": "code",
   "execution_count": 44,
   "metadata": {},
   "outputs": [
    {
     "ename": "UndefVarError",
     "evalue": "UndefVarError: cmax not defined",
     "output_type": "error",
     "traceback": [
      "UndefVarError: cmax not defined",
      "",
      "Stacktrace:",
      " [1] top-level scope at In[44]:1"
     ]
    }
   ],
   "source": [
    "podergammaventana=zeros(64,64,cmax)\n",
    "\n",
    "cvent=350\n",
    "cmax=nmax-cvent\n",
    "podergammaventana=zeros(64,64,cmax)\n",
    "\n",
    "\n",
    "@time for j=1:64, k=1:64\n",
    "   wtaux=wfft(lfp[j,k,:], cvent)\n",
    "   for t=1:cmax\n",
    "        auxfilt=fgamma(wtaux[t,:])\n",
    "        podergammaventana[j,k,t]=dot(auxfilt,auxfilt)\n",
    "    end\n",
    "    \n",
    "end\n"
   ]
  },
  {
   "cell_type": "code",
   "execution_count": 45,
   "metadata": {},
   "outputs": [
    {
     "ename": "LoadError",
     "evalue": "syntax: incomplete: \"function\" at none:1 requires end",
     "output_type": "error",
     "traceback": [
      "syntax: incomplete: \"function\" at none:1 requires end",
      ""
     ]
    }
   ],
   "source": [
    "function podpromediobanda(datos::Array, cventana=350, banda=\"gamma\")\n",
    "    \n",
    "nmax=size(datos)[3]    \n",
    "cmax=nmax-cventana\n",
    "    \n",
    "result=zeros(64,64,cmax)\n",
    "\n",
    "dictfiltros=Dict(\"alpha\"=>falpha, \"beta\"=>fbeta, \n",
    "        \"gamma\"=>fgamma, \"theta\"=>ftheta, \n",
    "        \"delta\"=>fdelta, \"spr\"=>fspr, \"uspr\"=>fuspr )          \n",
    "\n",
    "filt=dictfiltros[banda]\n",
    "    \n",
    "for j=1:64, k=1:64\n",
    "   wtaux=wfft(lfp[j,k,:], cventana)\n",
    "   for t=1:cmax\n",
    "        auxfilt=filt(wtaux[t,:])\n",
    "        result[j,k,t]=dot(auxfilt,auxfilt)\n",
    "    end\n",
    "return resul\n",
    "\n",
    "end\n"
   ]
  },
  {
   "cell_type": "code",
   "execution_count": 46,
   "metadata": {},
   "outputs": [
    {
     "ename": "UndefVarError",
     "evalue": "UndefVarError: podergammaventana not defined",
     "output_type": "error",
     "traceback": [
      "UndefVarError: podergammaventana not defined",
      "",
      "Stacktrace:",
      " [1] top-level scope at In[46]:1"
     ]
    }
   ],
   "source": [
    "imshow(podergammaventana[:,:,100], origin=\"lower\", vmin=0, vmax=0.1)"
   ]
  },
  {
   "cell_type": "code",
   "execution_count": 47,
   "metadata": {},
   "outputs": [
    {
     "ename": "UndefVarError",
     "evalue": "UndefVarError: podergammaventana not defined",
     "output_type": "error",
     "traceback": [
      "UndefVarError: podergammaventana not defined",
      "",
      "Stacktrace:",
      " [1] top-level scope at In[47]:1"
     ]
    }
   ],
   "source": [
    "h5write(\"podergammatest.h5\", \"poder/podergammaventana\", podergammaventana)"
   ]
  },
  {
   "cell_type": "code",
   "execution_count": 48,
   "metadata": {},
   "outputs": [
    {
     "ename": "UndefVarError",
     "evalue": "UndefVarError: podergammaventana not defined",
     "output_type": "error",
     "traceback": [
      "UndefVarError: podergammaventana not defined",
      "",
      "Stacktrace:",
      " [1] top-level scope at In[48]:1"
     ]
    }
   ],
   "source": [
    "extrema(podergammaventana[:,:,100])"
   ]
  },
  {
   "cell_type": "code",
   "execution_count": 49,
   "metadata": {},
   "outputs": [
    {
     "ename": "LoadError",
     "evalue": "UndefVarError: @everywhere not defined",
     "output_type": "error",
     "traceback": [
      "UndefVarError: @everywhere not defined",
      ""
     ]
    }
   ],
   "source": [
    "@everywhere"
   ]
  },
  {
   "cell_type": "code",
   "execution_count": 50,
   "metadata": {},
   "outputs": [
    {
     "ename": "UndefVarError",
     "evalue": "UndefVarError: cmax not defined",
     "output_type": "error",
     "traceback": [
      "UndefVarError: cmax not defined",
      "",
      "Stacktrace:",
      " [1] top-level scope at ./In[50]:5"
     ]
    }
   ],
   "source": [
    "ioff()\n",
    "\n",
    "pmin=0\n",
    "pmax=0.1\n",
    "\n",
    "\n",
    "for t=1:cmax\n",
    "    ioff()\n",
    "    fff=figure(figsize=(4,4))\n",
    "    imshow(podergammaventana[:,:,t], origin=\"lower\", vmin=pmin, vmax=pmax)\n",
    "    nome=\"tratando-$t.png\"\n",
    "    savefig(nome,dpi=90)\n",
    "end"
   ]
  },
  {
   "cell_type": "code",
   "execution_count": 51,
   "metadata": {},
   "outputs": [
    {
     "name": "stdout",
     "output_type": "stream",
     "text": [
      "bla 1\n",
      "bla 2\n",
      "bla 3\n",
      "bla 4\n"
     ]
    }
   ],
   "source": [
    "for t=1:4\n",
    "    println(\"bla $t\")\n",
    "end"
   ]
  },
  {
   "cell_type": "code",
   "execution_count": 52,
   "metadata": {},
   "outputs": [
    {
     "ename": "UndefVarError",
     "evalue": "UndefVarError: epoder not defined",
     "output_type": "error",
     "traceback": [
      "UndefVarError: epoder not defined",
      "",
      "Stacktrace:",
      " [1] top-level scope at In[52]:1"
     ]
    }
   ],
   "source": [
    "a,b=size(epoder)\n",
    "xx=collect(1:a)\n",
    "yy=collect(1:b);\n",
    "\n",
    "xxs=repeat(xx,outer=(1,b))\n",
    "yys=permutedims(repeat(yy, outer=(1,a)))\n",
    "\n",
    "xxs=xxs./freq\n",
    "yys=yys.*(freq/350)\n",
    "\n",
    "#plot_wireframe(xxs, yys, epoder)"
   ]
  },
  {
   "cell_type": "code",
   "execution_count": 53,
   "metadata": {},
   "outputs": [
    {
     "ename": "UndefVarError",
     "evalue": "UndefVarError: xxs not defined",
     "output_type": "error",
     "traceback": [
      "UndefVarError: xxs not defined",
      "",
      "Stacktrace:",
      " [1] top-level scope at In[53]:1"
     ]
    }
   ],
   "source": [
    "xxs"
   ]
  },
  {
   "cell_type": "code",
   "execution_count": 54,
   "metadata": {},
   "outputs": [
    {
     "ename": "UndefVarError",
     "evalue": "UndefVarError: xxs not defined",
     "output_type": "error",
     "traceback": [
      "UndefVarError: xxs not defined",
      "",
      "Stacktrace:",
      " [1] top-level scope at In[54]:6"
     ]
    }
   ],
   "source": [
    "f=figure(figsize=(15,15))\n",
    "ylim(0,3.5)\n",
    "xlabel(\"Tiempo ms\")\n",
    "ylabel(\"frequencia kHz\")\n",
    "zlabel(\"Poder J/C\")\n",
    "plot_surface(xxs[:,1:170], yys[:,1:170], epoder[:,1:170], lw=0.5)"
   ]
  },
  {
   "cell_type": "code",
   "execution_count": 55,
   "metadata": {},
   "outputs": [
    {
     "name": "stdout",
     "output_type": "stream",
     "text": [
      "search: \u001b[0m\u001b[1mv\u001b[22m\u001b[0m\u001b[1mi\u001b[22m\u001b[0m\u001b[1me\u001b[22m\u001b[0m\u001b[1mw\u001b[22m @\u001b[0m\u001b[1mv\u001b[22m\u001b[0m\u001b[1mi\u001b[22m\u001b[0m\u001b[1me\u001b[22m\u001b[0m\u001b[1mw\u001b[22m @\u001b[0m\u001b[1mv\u001b[22m\u001b[0m\u001b[1mi\u001b[22m\u001b[0m\u001b[1me\u001b[22m\u001b[0m\u001b[1mw\u001b[22ms Di\u001b[0m\u001b[1mv\u001b[22m\u001b[0m\u001b[1mi\u001b[22md\u001b[0m\u001b[1me\u001b[22mError \u001b[0m\u001b[1mv\u001b[22ml\u001b[0m\u001b[1mi\u001b[22mn\u001b[0m\u001b[1me\u001b[22ms ax\u001b[0m\u001b[1mv\u001b[22ml\u001b[0m\u001b[1mi\u001b[22mn\u001b[0m\u001b[1me\u001b[22m e\u001b[0m\u001b[1mv\u001b[22malf\u001b[0m\u001b[1mi\u001b[22ml\u001b[0m\u001b[1me\u001b[22m reada\u001b[0m\u001b[1mv\u001b[22ma\u001b[0m\u001b[1mi\u001b[22mlabl\u001b[0m\u001b[1me\u001b[22m\n",
      "\n"
     ]
    },
    {
     "data": {
      "text/latex": [
       "\\begin{verbatim}\n",
       "view(A, inds...)\n",
       "\\end{verbatim}\n",
       "Like \\href{@ref}{\\texttt{getindex}}, but returns a view into the parent array \\texttt{A} with the given indices instead of making a copy.  Calling \\href{@ref}{\\texttt{getindex}} or \\href{@ref}{\\texttt{setindex!}} on the returned \\texttt{SubArray} computes the indices to the parent array on the fly without checking bounds.\n",
       "\n",
       "\\section{Examples}\n",
       "\\begin{verbatim}\n",
       "julia> A = [1 2; 3 4]\n",
       "2×2 Array{Int64,2}:\n",
       " 1  2\n",
       " 3  4\n",
       "\n",
       "julia> b = view(A, :, 1)\n",
       "2-element view(::Array{Int64,2}, :, 1) with eltype Int64:\n",
       " 1\n",
       " 3\n",
       "\n",
       "julia> fill!(b, 0)\n",
       "2-element view(::Array{Int64,2}, :, 1) with eltype Int64:\n",
       " 0\n",
       " 0\n",
       "\n",
       "julia> A # Note A has changed even though we modified b\n",
       "2×2 Array{Int64,2}:\n",
       " 0  2\n",
       " 0  4\n",
       "\\end{verbatim}\n"
      ],
      "text/markdown": [
       "```\n",
       "view(A, inds...)\n",
       "```\n",
       "\n",
       "Like [`getindex`](@ref), but returns a view into the parent array `A` with the given indices instead of making a copy.  Calling [`getindex`](@ref) or [`setindex!`](@ref) on the returned `SubArray` computes the indices to the parent array on the fly without checking bounds.\n",
       "\n",
       "# Examples\n",
       "\n",
       "```jldoctest\n",
       "julia> A = [1 2; 3 4]\n",
       "2×2 Array{Int64,2}:\n",
       " 1  2\n",
       " 3  4\n",
       "\n",
       "julia> b = view(A, :, 1)\n",
       "2-element view(::Array{Int64,2}, :, 1) with eltype Int64:\n",
       " 1\n",
       " 3\n",
       "\n",
       "julia> fill!(b, 0)\n",
       "2-element view(::Array{Int64,2}, :, 1) with eltype Int64:\n",
       " 0\n",
       " 0\n",
       "\n",
       "julia> A # Note A has changed even though we modified b\n",
       "2×2 Array{Int64,2}:\n",
       " 0  2\n",
       " 0  4\n",
       "```\n"
      ],
      "text/plain": [
       "\u001b[36m  view(A, inds...)\u001b[39m\n",
       "\n",
       "  Like \u001b[36mgetindex\u001b[39m, but returns a view into the parent array \u001b[36mA\u001b[39m with the given\n",
       "  indices instead of making a copy. Calling \u001b[36mgetindex\u001b[39m or \u001b[36msetindex!\u001b[39m on the\n",
       "  returned \u001b[36mSubArray\u001b[39m computes the indices to the parent array on the fly\n",
       "  without checking bounds.\n",
       "\n",
       "\u001b[1m  Examples\u001b[22m\n",
       "\u001b[1m  ≡≡≡≡≡≡≡≡≡≡\u001b[22m\n",
       "\n",
       "\u001b[36m  julia> A = [1 2; 3 4]\u001b[39m\n",
       "\u001b[36m  2×2 Array{Int64,2}:\u001b[39m\n",
       "\u001b[36m   1  2\u001b[39m\n",
       "\u001b[36m   3  4\u001b[39m\n",
       "\u001b[36m  \u001b[39m\n",
       "\u001b[36m  julia> b = view(A, :, 1)\u001b[39m\n",
       "\u001b[36m  2-element view(::Array{Int64,2}, :, 1) with eltype Int64:\u001b[39m\n",
       "\u001b[36m   1\u001b[39m\n",
       "\u001b[36m   3\u001b[39m\n",
       "\u001b[36m  \u001b[39m\n",
       "\u001b[36m  julia> fill!(b, 0)\u001b[39m\n",
       "\u001b[36m  2-element view(::Array{Int64,2}, :, 1) with eltype Int64:\u001b[39m\n",
       "\u001b[36m   0\u001b[39m\n",
       "\u001b[36m   0\u001b[39m\n",
       "\u001b[36m  \u001b[39m\n",
       "\u001b[36m  julia> A # Note A has changed even though we modified b\u001b[39m\n",
       "\u001b[36m  2×2 Array{Int64,2}:\u001b[39m\n",
       "\u001b[36m   0  2\u001b[39m\n",
       "\u001b[36m   0  4\u001b[39m"
      ]
     },
     "execution_count": 55,
     "metadata": {},
     "output_type": "execute_result"
    }
   ],
   "source": [
    "?view"
   ]
  },
  {
   "cell_type": "code",
   "execution_count": 56,
   "metadata": {},
   "outputs": [
    {
     "ename": "UndefVarError",
     "evalue": "UndefVarError: rangotiempos not defined",
     "output_type": "error",
     "traceback": [
      "UndefVarError: rangotiempos not defined",
      "",
      "Stacktrace:",
      " [1] top-level scope at In[56]:6"
     ]
    }
   ],
   "source": [
    "figura=figure(figsize=(13,10))\n",
    "grid()\n",
    "#xlim(120,170)\n",
    "xlabel(\"[ms]\")\n",
    "ylabel(\"[μ V]\")\n",
    "#plot(rangotiempos, signalfiltrad, lw=1.5)\n",
    "plot(rangotiempos, signalfiltrad2, lw=1.5)\n",
    "#plot(rangotiempos, signalfiltrad+signalfiltrad2, lw=1.65)\n",
    "plot(rangotiempos, ejemplolfp, lw=0.3)\n"
   ]
  },
  {
   "cell_type": "code",
   "execution_count": 57,
   "metadata": {},
   "outputs": [
    {
     "ename": "UndefVarError",
     "evalue": "UndefVarError: rangofreqs not defined",
     "output_type": "error",
     "traceback": [
      "UndefVarError: rangofreqs not defined",
      "",
      "Stacktrace:",
      " [1] top-level scope at In[57]:2"
     ]
    }
   ],
   "source": [
    "a=0.053022\n",
    "tol=2*step(rangofreqs)\n",
    "q(x)=isapprox(a,x, atol=tol)\n",
    "findfirst(q, rangofreqs)\n"
   ]
  },
  {
   "cell_type": "code",
   "execution_count": 58,
   "metadata": {},
   "outputs": [
    {
     "ename": "UndefVarError",
     "evalue": "UndefVarError: rangofreqs not defined",
     "output_type": "error",
     "traceback": [
      "UndefVarError: rangofreqs not defined",
      "",
      "Stacktrace:",
      " [1] top-level scope at In[58]:1"
     ]
    }
   ],
   "source": [
    "rangofreqs[12:17]"
   ]
  },
  {
   "cell_type": "code",
   "execution_count": 59,
   "metadata": {},
   "outputs": [
    {
     "ename": "UndefVarError",
     "evalue": "UndefVarError: rangofreqs not defined",
     "output_type": "error",
     "traceback": [
      "UndefVarError: rangofreqs not defined",
      "",
      "Stacktrace:",
      " [1] top-level scope at In[59]:1"
     ]
    }
   ],
   "source": [
    "map(q, rangofreqs[12:17])"
   ]
  },
  {
   "cell_type": "code",
   "execution_count": 60,
   "metadata": {},
   "outputs": [
    {
     "ename": "UndefVarError",
     "evalue": "UndefVarError: rangofreqs not defined",
     "output_type": "error",
     "traceback": [
      "UndefVarError: rangofreqs not defined",
      "",
      "Stacktrace:",
      " [1] top-level scope at In[60]:1"
     ]
    }
   ],
   "source": [
    "collect(rangofreqs[12:17])"
   ]
  },
  {
   "cell_type": "code",
   "execution_count": 61,
   "metadata": {},
   "outputs": [
    {
     "ename": "UndefVarError",
     "evalue": "UndefVarError: rangofreqs not defined",
     "output_type": "error",
     "traceback": [
      "UndefVarError: rangofreqs not defined",
      "",
      "Stacktrace:",
      " [1] top-level scope at In[61]:1"
     ]
    }
   ],
   "source": [
    "step(rangofreqs)"
   ]
  },
  {
   "cell_type": "code",
   "execution_count": 62,
   "metadata": {},
   "outputs": [
    {
     "ename": "UndefVarError",
     "evalue": "UndefVarError: indicecercano not defined",
     "output_type": "error",
     "traceback": [
      "UndefVarError: indicecercano not defined",
      "",
      "Stacktrace:",
      " [1] top-level scope at In[62]:2"
     ]
    }
   ],
   "source": [
    "a=0.005\n",
    "p=indicecercano(a, rangofreqs)"
   ]
  },
  {
   "cell_type": "code",
   "execution_count": 63,
   "metadata": {},
   "outputs": [
    {
     "ename": "UndefVarError",
     "evalue": "UndefVarError: rangofreqs not defined",
     "output_type": "error",
     "traceback": [
      "UndefVarError: rangofreqs not defined",
      "",
      "Stacktrace:",
      " [1] top-level scope at In[63]:1"
     ]
    }
   ],
   "source": [
    "rangofreqs[2]"
   ]
  },
  {
   "cell_type": "code",
   "execution_count": 64,
   "metadata": {},
   "outputs": [
    {
     "ename": "UndefVarError",
     "evalue": "UndefVarError: rangofreqs not defined",
     "output_type": "error",
     "traceback": [
      "UndefVarError: rangofreqs not defined",
      "",
      "Stacktrace:",
      " [1] top-level scope at In[64]:1"
     ]
    }
   ],
   "source": [
    "rangofreqs[57]"
   ]
  },
  {
   "cell_type": "code",
   "execution_count": 65,
   "metadata": {},
   "outputs": [
    {
     "ename": "UndefVarError",
     "evalue": "UndefVarError: subfreqs not defined",
     "output_type": "error",
     "traceback": [
      "UndefVarError: subfreqs not defined",
      "",
      "Stacktrace:",
      " [1] top-level scope at In[65]:5"
     ]
    }
   ],
   "source": [
    "figura=figure(figsize=(12,6))\n",
    "grid()\n",
    "xlabel(\"[kHz]\")\n",
    "ylabel(\"[μ V^2]\")\n",
    "plot(subfreqs,epoder2)"
   ]
  },
  {
   "cell_type": "code",
   "execution_count": null,
   "metadata": {},
   "outputs": [],
   "source": []
  }
 ],
 "metadata": {
  "@webio": {
   "lastCommId": null,
   "lastKernelId": null
  },
  "kernelspec": {
   "display_name": "Julia 1.4.1",
   "language": "julia",
   "name": "julia-1.4"
  },
  "language_info": {
   "file_extension": ".jl",
   "mimetype": "application/julia",
   "name": "julia",
   "version": "1.4.1"
  }
 },
 "nbformat": 4,
 "nbformat_minor": 2
}
