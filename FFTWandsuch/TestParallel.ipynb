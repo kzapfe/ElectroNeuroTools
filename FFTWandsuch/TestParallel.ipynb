{
 "cells": [
  {
   "cell_type": "markdown",
   "metadata": {},
   "source": [
    "# Tutorial para trabajar en Paralelo en Julia 1.0.x\n",
    "\n",
    "Haste un buen tutorial para trabajar en paralelo, especialmente las funciones vergonzosamente paralelas."
   ]
  },
  {
   "cell_type": "code",
   "execution_count": 1,
   "metadata": {},
   "outputs": [
    {
     "data": {
      "text/plain": [
       "4-element Array{Int64,1}:\n",
       " 2\n",
       " 3\n",
       " 4\n",
       " 5"
      ]
     },
     "execution_count": 1,
     "metadata": {},
     "output_type": "execute_result"
    }
   ],
   "source": [
    "# A partir de ahora, Julia tiene las funciones básicas de paralelo en Distributed\n",
    "\n",
    "using Distributed, SharedArrays\n",
    "\n",
    "addprocs(4) #por ejemplo, esta esta en Distributed"
   ]
  },
  {
   "cell_type": "code",
   "execution_count": 2,
   "metadata": {
    "collapsed": true
   },
   "outputs": [],
   "source": [
    "A=SharedArray{Float64}(8,8,100)\n",
    "B=SharedArray{Float64}(8,8,100);"
   ]
  },
  {
   "cell_type": "markdown",
   "metadata": {},
   "source": [
    " La forma de abajo rellena A con valores aleatoreos. Como se puede ver, es más rapido que la forma serial en un sólo procesador, sin embargo no es MUCHO mas rapida, dado que no estamos explotando la Vergonzosa Paralelización"
   ]
  },
  {
   "cell_type": "code",
   "execution_count": 6,
   "metadata": {},
   "outputs": [
    {
     "name": "stdout",
     "output_type": "stream",
     "text": [
      "  0.344100 seconds (13 allocations: 250.000 MiB, 4.26% gc time)\n"
     ]
    }
   ],
   "source": [
    "@time A=@sync randn(64,64,8000);  "
   ]
  },
  {
   "cell_type": "code",
   "execution_count": 7,
   "metadata": {},
   "outputs": [
    {
     "name": "stdout",
     "output_type": "stream",
     "text": [
      "  0.397400 seconds (10 allocations: 250.000 MiB, 17.13% gc time)\n"
     ]
    }
   ],
   "source": [
    "@time C=randn(64,64,8000);"
   ]
  },
  {
   "cell_type": "code",
   "execution_count": 15,
   "metadata": {},
   "outputs": [
    {
     "data": {
      "text/plain": [
       "enteroarangos (generic function with 1 method)"
      ]
     },
     "execution_count": 15,
     "metadata": {},
     "output_type": "execute_result"
    }
   ],
   "source": [
    "function enteroarangos(nn::Int)\n",
    "    result=[]\n",
    "    np=nprocs()\n",
    "    if np==1\n",
    "        result=[1:nn]\n",
    "    else\n",
    "          bb=div(nn,np)\n",
    "        for j=1:(np-1)\n",
    "           \n",
    "            aux=((j-1)*bb+1):j*bb\n",
    "            push!(result, aux)\n",
    "        end\n",
    "        aux=(np-1)*bb:nn\n",
    "        push!(result,aux)\n",
    "    end\n",
    "    return result\n",
    "end"
   ]
  },
  {
   "cell_type": "markdown",
   "metadata": {},
   "source": [
    "Esto parece estar aun peor:"
   ]
  },
  {
   "cell_type": "code",
   "execution_count": 41,
   "metadata": {},
   "outputs": [
    {
     "name": "stdout",
     "output_type": "stream",
     "text": [
      "1 2 3 4 5   0.457217 seconds (11.30 k allocations: 250.561 MiB, 29.91% gc time)\n"
     ]
    }
   ],
   "source": [
    "rangos=enteroarangos(8000);\n",
    "@time @sync begin\n",
    "for p in procs()\n",
    "        r=rangos[p]\n",
    "        rl=length(r)\n",
    "    @async A[:,:,r]=remotecall_fetch(randn, p, 64,64,rl)\n",
    "        print(p, \" \")\n",
    "    end\n",
    "end"
   ]
  },
  {
   "cell_type": "code",
   "execution_count": 43,
   "metadata": {},
   "outputs": [
    {
     "data": {
      "text/plain": [
       "64×64 Array{Float64,2}:\n",
       " -0.699769    -0.618232   -1.17597    …   0.11664     0.802312   -0.871803 \n",
       " -0.971473    -0.0669316   0.242634      -0.832293   -0.250825    1.64553  \n",
       "  1.87582      1.71093    -0.778121       0.658627   -0.0977677   0.222937 \n",
       " -0.352145     1.39128    -0.303881       0.639688    0.649276   -0.609182 \n",
       " -0.234354     0.53354     0.820147       0.566679   -1.05966     0.457698 \n",
       " -0.465027     0.160488   -0.428067   …   0.68727     1.48003    -0.232314 \n",
       "  3.01104      0.817164    0.758898      -1.28944    -0.993045    1.1996   \n",
       " -1.61833      2.23881     1.18639        0.635698   -0.69447     0.193327 \n",
       "  1.51609     -0.811188    1.71791        1.33464     1.45405     1.60332  \n",
       " -2.03454      1.96529     1.35733        0.100102   -0.483451    0.815067 \n",
       " -2.42917      0.118585   -2.16413    …  -0.528577   -0.680802    0.312458 \n",
       "  0.00621477   0.262157   -0.89777       -0.430316   -0.365693   -0.532293 \n",
       " -1.48747      0.209509    0.835445      -1.09483    -0.354053    0.890844 \n",
       "  ⋮                                   ⋱                                    \n",
       "  1.41824     -0.328096    0.403887      -0.258113   -0.454191    1.88652  \n",
       "  0.111106    -0.271807    1.07317       -0.310582   -0.850283    2.49505  \n",
       "  0.546103    -1.15955    -1.21163       -0.0873466   0.8267      0.0981613\n",
       "  0.255676     0.758606   -0.0736819  …   0.652977    0.541617    1.51036  \n",
       "  0.646506    -0.965635   -0.0601512     -0.0345852   1.40459    -0.45183  \n",
       " -1.87727      0.0863583  -0.602776       1.79784    -0.340514   -0.259492 \n",
       " -0.693172     0.171016    0.394989       0.505707    1.80359     0.596298 \n",
       " -0.0938483   -2.09126    -1.03198       -1.70602     0.522143   -0.42529  \n",
       " -0.416615     0.398975   -1.19691    …  -0.562283   -2.6119     -0.457492 \n",
       "  0.702013    -1.43191     1.55716        0.604534    0.580845    0.104852 \n",
       " -0.473538    -0.0607732   0.0179744     -0.867806    0.0614722   0.0974438\n",
       " -0.559193    -0.811992   -1.40305        0.870827   -0.0565531   0.690972 "
      ]
     },
     "execution_count": 43,
     "metadata": {},
     "output_type": "execute_result"
    }
   ],
   "source": [
    "A[:,:,5000]"
   ]
  },
  {
   "cell_type": "code",
   "execution_count": null,
   "metadata": {
    "collapsed": true
   },
   "outputs": [],
   "source": [
    "s=@spawnat 2 2 .+ fetch(a)"
   ]
  },
  {
   "cell_type": "code",
   "execution_count": null,
   "metadata": {
    "collapsed": true
   },
   "outputs": [],
   "source": [
    "fetch(s)"
   ]
  },
  {
   "cell_type": "code",
   "execution_count": null,
   "metadata": {
    "collapsed": true
   },
   "outputs": [],
   "source": [
    "?Future"
   ]
  },
  {
   "cell_type": "code",
   "execution_count": null,
   "metadata": {},
   "outputs": [],
   "source": [
    "M = Matrix{Float64}[rand(1000,1000) for i = 1:10];\n",
    "\n",
    "pmap(svdvals, M)"
   ]
  },
  {
   "cell_type": "code",
   "execution_count": null,
   "metadata": {
    "collapsed": true
   },
   "outputs": [],
   "source": [
    "using LinearAlgebra"
   ]
  },
  {
   "cell_type": "code",
   "execution_count": null,
   "metadata": {
    "collapsed": true
   },
   "outputs": [],
   "source": [
    "> M = Matrix{Float64}[rand(1000,1000) for i = 1:10];\n",
    "\n",
    "julia> pmap(svdvals, M);"
   ]
  },
  {
   "cell_type": "code",
   "execution_count": null,
   "metadata": {
    "collapsed": true
   },
   "outputs": [],
   "source": [
    "\n",
    "@everywhere fdelta(datos)=filtrobanda(rangofreqs,datos, 0.0001, 0.0035)\n",
    "@everywhere ftheta(datos)=filtrobanda(rangofreqs, datos, 0.0035, 0.007022)\n",
    "@everywhere falpha(datos)=filtrobanda(rangofreqs, datos, 0.007022, 0.014044)\n",
    "@everywhere fbeta(datos)=filtrobanda(rangofreqs, datos, 0.014044, 0.035120)\n",
    "@everywhere fgamma(datos)=filtrobanda(rangofreqs, datos, 0.035120, 0.100)\n",
    "@everywhere fspr(datos)=filtrobanda(rangofreqs, datos, 0.100, 0.250)\n",
    "@everywhere fuspr(datos)=filtrobanda(rangofreqs, datos, 0.250, 0.600)\n",
    "\n",
    "\n",
    "@everywhere function podpromediobanda(datos::Array, cventana=350, banda=\"gamma\")\n",
    "    \n",
    "nmax=size(datos)[3]    \n",
    "cmax=nmax-cventana\n",
    "    \n",
    "result=zeros(64,64,cmax)\n",
    "\n",
    "dictfiltros=Dict(\"alpha\"=>falpha, \"beta\"=>fbeta, \n",
    "        \"gamma\"=>fgamma, \"theta\"=>ftheta, \n",
    "        \"delta\"=>fdelta, \"spr\"=>fspr, \"uspr\"=>fuspr )          \n",
    "\n",
    "filt=dictfiltros[banda]\n",
    "    \n",
    "for j=1:64, k=1:64\n",
    "   wtaux=wfft(lfp[j,k,:], cventana)\n",
    "   for t=1:cmax\n",
    "        auxfilt=filt(wtaux[t,:])\n",
    "        result[j,k,t]=dot(auxfilt,auxfilt)\n",
    "    end\n",
    "return resul\n",
    "\n",
    "end\n",
    "\n",
    "end"
   ]
  },
  {
   "cell_type": "code",
   "execution_count": null,
   "metadata": {},
   "outputs": [],
   "source": [
    "A=randn(8,8,100) \n",
    "@everywhere aux(datos)=podpromediobanda(datos, 4, \"gamma\")\n",
    "B=pmap(aux, A)"
   ]
  },
  {
   "cell_type": "code",
   "execution_count": null,
   "metadata": {
    "collapsed": true
   },
   "outputs": [],
   "source": []
  }
 ],
 "metadata": {
  "@webio": {
   "lastCommId": "0BB610E046CB41C29D4BAA16EEA5037B",
   "lastKernelId": "af7bd168-0fc4-42f2-8997-e8eb7eab9992"
  },
  "kernelspec": {
   "display_name": "Julia 1.0.0",
   "language": "julia",
   "name": "julia-1.0"
  },
  "language_info": {
   "file_extension": ".jl",
   "mimetype": "application/julia",
   "name": "julia",
   "version": "1.0.0"
  }
 },
 "nbformat": 4,
 "nbformat_minor": 2
}
