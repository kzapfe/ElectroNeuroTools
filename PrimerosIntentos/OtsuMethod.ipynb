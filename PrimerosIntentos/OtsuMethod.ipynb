{
 "cells": [
  {
   "cell_type": "code",
   "execution_count": 77,
   "metadata": {},
   "outputs": [
    {
     "data": {
      "text/plain": [
       "OtsuMethod (generic function with 1 method)"
      ]
     },
     "execution_count": 77,
     "metadata": {},
     "output_type": "execute_result"
    }
   ],
   "source": [
    "function OtsuMethod(Data)\n",
    "    #Pa que esto funcione hay que mandar los datos ya sin NaNs u otras mugres\n",
    "    minimo=minimum(Data)\n",
    "    maximo=maximum(Data)\n",
    "    binsdefault=2*ceil(Int,sqrt(length(Data)))\n",
    "    (rango, cuentas)=hist(Data,binsdefault)\n",
    "    tantos=length(rango)\n",
    "    valores\n",
    "    omega1=0\n",
    "    omega2=0\n",
    "    mu1=0\n",
    "    mu2=0\n",
    "    sigmab=0\n",
    "    sigmabtemp=0\n",
    "    tbest=0\n",
    "    varlim=0\n",
    "    for t=1:tantos-1\n",
    "        omega1=sum(cuentas[1:t])\n",
    "        omega2=sum(cuentas[t+1:tantos-1])\n",
    "        mu1=sum(cuentas[1:t].*rango[1:t])/omega1\n",
    "        mu2=sum(cuentas[t+1:tantos-1].*rango[t+1:tantos-1])/omega2        \n",
    "        sigmabtemp=omega1*omega2*((mu1-mu2)^2)\n",
    "        if sigmabtemp>sigmab\n",
    "            sigmab=sigmabtemp\n",
    "            tbest=t\n",
    "            varlim=rango[t]\n",
    "        end\n",
    "    end\n",
    "    return (sigmab,tbest,varlim)\n",
    "end"
   ]
  },
  {
   "cell_type": "code",
   "execution_count": 65,
   "metadata": {},
   "outputs": [],
   "source": [
    "DatosPrueba1=readdlm(\"DesviacionesTotalesEjemplo01.dat\");"
   ]
  },
  {
   "cell_type": "code",
   "execution_count": 66,
   "metadata": {},
   "outputs": [],
   "source": [
    "DatosPrueba1=reshape(DatosPrueba1,size(DatosPrueba1)[1]*size(DatosPrueba1)[2]);\n"
   ]
  },
  {
   "cell_type": "code",
   "execution_count": 73,
   "metadata": {},
   "outputs": [],
   "source": [
    "map!(x->abs(x)>60? 0.0:x, DatosPrueba);"
   ]
  },
  {
   "cell_type": "code",
   "execution_count": 67,
   "metadata": {},
   "outputs": [
    {
     "data": {
      "text/plain": [
       "4096-element Array{Float64,1}:\n",
       " 63.5519\n",
       " 15.2189\n",
       " 15.1487\n",
       " 15.225 \n",
       " 15.1806\n",
       " 15.863 \n",
       " 15.3221\n",
       " 15.3783\n",
       " 14.5119\n",
       " 15.8327\n",
       " 15.5044\n",
       " 14.7791\n",
       " 16.6736\n",
       "  ⋮     \n",
       " 16.5654\n",
       " 16.1853\n",
       " 14.1098\n",
       " 15.2896\n",
       " 16.1733\n",
       " 14.2743\n",
       " 17.5464\n",
       " 14.0111\n",
       " 15.0867\n",
       " 13.9587\n",
       " 15.2409\n",
       " 14.5564"
      ]
     },
     "execution_count": 67,
     "metadata": {},
     "output_type": "execute_result"
    }
   ],
   "source": [
    "DatosPrueba1"
   ]
  },
  {
   "cell_type": "code",
   "execution_count": 71,
   "metadata": {},
   "outputs": [
    {
     "data": {
      "text/plain": [
       "4096-element Array{Float64,1}:\n",
       "  0.0   \n",
       " 15.2189\n",
       " 15.1487\n",
       " 15.225 \n",
       " 15.1806\n",
       " 15.863 \n",
       " 15.3221\n",
       " 15.3783\n",
       " 14.5119\n",
       " 15.8327\n",
       " 15.5044\n",
       " 14.7791\n",
       " 16.6736\n",
       "  ⋮     \n",
       " 16.5654\n",
       " 16.1853\n",
       " 14.1098\n",
       " 15.2896\n",
       " 16.1733\n",
       " 14.2743\n",
       " 17.5464\n",
       " 14.0111\n",
       " 15.0867\n",
       " 13.9587\n",
       " 15.2409\n",
       " 14.5564"
      ]
     },
     "execution_count": 71,
     "metadata": {},
     "output_type": "execute_result"
    }
   ],
   "source": []
  },
  {
   "cell_type": "code",
   "execution_count": 78,
   "metadata": {},
   "outputs": [
    {
     "data": {
      "text/plain": [
       "(2.265979747893028e7,35,16.5)"
      ]
     },
     "execution_count": 78,
     "metadata": {},
     "output_type": "execute_result"
    }
   ],
   "source": [
    "OtsuMethod(DatosPrueba)"
   ]
  },
  {
   "cell_type": "code",
   "execution_count": 19,
   "metadata": {},
   "outputs": [
    {
     "data": {
      "text/plain": [
       "34"
      ]
     },
     "execution_count": 19,
     "metadata": {},
     "output_type": "execute_result"
    }
   ],
   "source": [
    "length(0.0:50:1650)"
   ]
  },
  {
   "cell_type": "code",
   "execution_count": 37,
   "metadata": {},
   "outputs": [
    {
     "data": {
      "text/plain": [
       "6-element Array{Float64,1}:\n",
       "    990.0\n",
       "   8050.0\n",
       "  27600.0\n",
       "  15125.0\n",
       "    130.0\n",
       " 132300.0"
      ]
     },
     "execution_count": 37,
     "metadata": {},
     "output_type": "execute_result"
    }
   ],
   "source": [
    "[0.9, 7, 23, 12.1, 0.1, 98].*[(0.0:50:1650)[23:28]]"
   ]
  },
  {
   "cell_type": "code",
   "execution_count": null,
   "metadata": {},
   "outputs": [],
   "source": []
  }
 ],
 "metadata": {
  "kernelspec": {
   "display_name": "Julia 0.6.3",
   "language": "julia",
   "name": "julia-0.6"
  },
  "language_info": {
   "file_extension": ".jl",
   "mimetype": "application/julia",
   "name": "julia",
   "version": "0.6.3"
  }
 },
 "nbformat": 4,
 "nbformat_minor": 1
}
