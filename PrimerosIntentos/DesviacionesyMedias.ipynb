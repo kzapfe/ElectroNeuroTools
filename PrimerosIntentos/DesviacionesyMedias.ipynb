{
 "cells": [
  {
   "cell_type": "markdown",
   "metadata": {},
   "source": [
    "# Medidas de actividad por electrodo: Distribuciones de prob de señal, desviaciones y modas."
   ]
  },
  {
   "cell_type": "markdown",
   "metadata": {},
   "source": [
    "Veamos. Franco dice que hay una distribucion trimodal en los datos. Cada moda indica la superposición de otra señal. Una es el ruido de fondo. La mas violenta debe ser la actividad real."
   ]
  },
  {
   "cell_type": "code",
   "execution_count": 1,
   "metadata": {},
   "outputs": [
    {
     "data": {
      "text/plain": [
       "Dict{ASCIIString,Any} with 4 entries:\n",
       "  \"SamplingFrequency\" => 7022.0\n",
       "  \"StopFrame\"         => 5.549486e6\n",
       "  \"StartFrame\"        => 5.545273e6\n",
       "  \"RawMatrix\"         => [4125.0 2.01416015625 -28.1982421875 -10.07080078125 -…"
      ]
     },
     "execution_count": 1,
     "metadata": {},
     "output_type": "execute_result"
    }
   ],
   "source": [
    "using MAT \n",
    "DatosAparato=matopen(\"propagacion.mat\");\n",
    "matread(\"propagacion.mat\")"
   ]
  },
  {
   "cell_type": "markdown",
   "metadata": {},
   "source": [
    "La siguiente variable contiene TODO el arreglo de los datos, cuyas longitudes son espacio, espacio y tiempo."
   ]
  },
  {
   "cell_type": "code",
   "execution_count": 2,
   "metadata": {},
   "outputs": [
    {
     "data": {
      "text/plain": [
       "(64,64,4213)"
      ]
     },
     "execution_count": 2,
     "metadata": {},
     "output_type": "execute_result"
    }
   ],
   "source": [
    "LasMedicionesCrudas=read(DatosAparato, \"RawMatrix\");\n",
    "size(LasMedicionesCrudas)\n"
   ]
  },
  {
   "cell_type": "markdown",
   "metadata": {},
   "source": [
    "La actividad mas interesante se da entre los cuadros 1300 y 2700 aprox, vamos a usar solo esos."
   ]
  },
  {
   "cell_type": "code",
   "execution_count": 7,
   "metadata": {},
   "outputs": [
    {
     "data": {
      "text/plain": [
       "(64,64,1401)"
      ]
     },
     "execution_count": 7,
     "metadata": {},
     "output_type": "execute_result"
    }
   ],
   "source": [
    "LasMedicionesCrudas=LasMedicionesCrudas[:,:,1300:2700];\n",
    "size(LasMedicionesCrudas)"
   ]
  },
  {
   "cell_type": "markdown",
   "metadata": {},
   "source": [
    "Hay un par de electros saturados, que marcan voltajes absurdamente altos. Esos los vamos a matar con una funcion umbral."
   ]
  },
  {
   "cell_type": "code",
   "execution_count": 8,
   "metadata": {
    "collapsed": true
   },
   "outputs": [],
   "source": [
    "function umbral(x)\n",
    "    result=((abs(x)<1)||(abs(x)>500)?0:x)\n",
    "end;"
   ]
  },
  {
   "cell_type": "code",
   "execution_count": 9,
   "metadata": {
    "collapsed": true
   },
   "outputs": [],
   "source": [
    "DatosInteresantes=map(umbral, LasMedicionesCrudas);"
   ]
  },
  {
   "cell_type": "code",
   "execution_count": 10,
   "metadata": {},
   "outputs": [
    {
     "data": {
      "text/plain": [
       "mediaporventana (generic function with 1 method)"
      ]
     },
     "execution_count": 10,
     "metadata": {},
     "output_type": "execute_result"
    }
   ],
   "source": [
    "function desviaporventanas(data, param)\n",
    "    ateonde=ceil(param/2)\n",
    "    tantos=length(data)\n",
    "    result=zeros(data)\n",
    "    for j=ateonde:(tantos-ateonde)\n",
    "        chusco=std(data[j-ateonde+1:j+ateonde])\n",
    "        result[j]=chusco\n",
    "    end\n",
    "    return result \n",
    "end\n",
    "\n",
    "function mediaporventana(data,param)\n",
    "    ateonde=ceil(param/2)\n",
    "    tantos=length(data)\n",
    "    result=zeros(data)\n",
    "    for j=ateonde:(tantos-ateonde)\n",
    "        chusco=mean(data[j-ateonde+1:j+ateonde])\n",
    "        result[j]=chusco\n",
    "    end\n",
    "    return result\n",
    "end"
   ]
  },
  {
   "cell_type": "markdown",
   "metadata": {},
   "source": [
    "Varias medidas estadisticas que vamos a usar, desviacion estandar total, por canal, etc."
   ]
  },
  {
   "cell_type": "code",
   "execution_count": 7,
   "metadata": {
    "collapsed": true
   },
   "outputs": [],
   "source": [
    "sigmaTotalAbsoluta=std(DatosInteresantes);\n",
    "DesviacionPorCanal=zeros(64,64)\n",
    "for j=1:64\n",
    "    for k=1:64\n",
    "        ChorizoExemplo=reshape(DatosInteresantes[j,k,:],1401)\n",
    "        DesviacionPorCanal[j,k]=std(ChorizoExemplo)\n",
    "    end\n",
    "end"
   ]
  },
  {
   "cell_type": "code",
   "execution_count": 8,
   "metadata": {
    "collapsed": true
   },
   "outputs": [],
   "source": [
    "writedlm(\"UmpaLoompa.dat\", DesviacionPorCanal-sigmaTotalAbsoluta);\n"
   ]
  },
  {
   "cell_type": "code",
   "execution_count": 8,
   "metadata": {
    "collapsed": true
   },
   "outputs": [],
   "source": [
    "Mascara=zeros(DesviacionPorCanal)\n",
    "Mascara=map(x->((x<1)||(x>25))?0:1, DesviacionPorCanal-sigmaTotalAbsoluta);\n",
    "writedlm(\"mascara.dat\", Mascara)"
   ]
  },
  {
   "cell_type": "markdown",
   "metadata": {},
   "source": [
    "Voy  a considerar ahora solo los datos que estan en la mascara. Checate como Julia hace la operacion elemento por elemento!"
   ]
  },
  {
   "cell_type": "code",
   "execution_count": 10,
   "metadata": {
    "collapsed": true
   },
   "outputs": [],
   "source": [
    "DatosFiltrados=zeros(DatosInteresantes)\n",
    "for t=1:1401\n",
    "    DatosFiltrados[:,:,t]=DatosInteresantes[:,:,t].*Mascara\n",
    "end"
   ]
  },
  {
   "cell_type": "code",
   "execution_count": 11,
   "metadata": {
    "collapsed": true
   },
   "outputs": [],
   "source": [
    "zacatito=zeros(Float64,(64,64))\n",
    "for t=1:1401\n",
    "    zacatlan=\"DatosEnmascarados05fadeout-$t.dat\"\n",
    "    zacatito+=0.5+DatosFiltrados[:,:,t]\n",
    "    writedlm(zacatlan,zacatito )\n",
    "end"
   ]
  },
  {
   "cell_type": "code",
   "execution_count": 12,
   "metadata": {
    "collapsed": true
   },
   "outputs": [],
   "source": [
    "VarianciasTemporales=zeros(64,64);\n",
    "for j=1:64\n",
    "    for k=1:64\n",
    "         VarianciasTemporales[j,k]=std(DatosInteresantes[j,k,:])\n",
    "    end\n",
    "end"
   ]
  },
  {
   "cell_type": "code",
   "execution_count": 13,
   "metadata": {
    "collapsed": true
   },
   "outputs": [],
   "source": []
  },
  {
   "cell_type": "code",
   "execution_count": 14,
   "metadata": {
    "collapsed": true
   },
   "outputs": [],
   "source": [
    "writedlm(\"VarianciasTemporals01.dat\", VarianciasTemporales);"
   ]
  },
  {
   "cell_type": "code",
   "execution_count": 15,
   "metadata": {
    "collapsed": true
   },
   "outputs": [],
   "source": [
    "MediasTemporales=zeros(64,64);\n",
    "for j=1:64\n",
    "    for k=1:64\n",
    "         MediasTemporales[j,k]=mean(DatosInteresantes[j,k,:])\n",
    "    end\n",
    "end"
   ]
  },
  {
   "cell_type": "code",
   "execution_count": 16,
   "metadata": {
    "collapsed": true
   },
   "outputs": [],
   "source": [
    "writedlm(\"MediasTemporals01.dat\", MediasTemporales);"
   ]
  },
  {
   "cell_type": "code",
   "execution_count": 17,
   "metadata": {},
   "outputs": [
    {
     "data": {
      "text/plain": [
       "16.515387990287376"
      ]
     },
     "execution_count": 17,
     "metadata": {},
     "output_type": "execute_result"
    }
   ],
   "source": [
    "sigmaTotalAbsoluta"
   ]
  },
  {
   "cell_type": "code",
   "execution_count": 39,
   "metadata": {},
   "outputs": [
    {
     "data": {
      "text/plain": [
       "-0.09987307054327693"
      ]
     },
     "execution_count": 39,
     "metadata": {},
     "output_type": "execute_result"
    }
   ],
   "source": [
    "promediototal=mean(DatosFiltrados)"
   ]
  },
  {
   "cell_type": "code",
   "execution_count": 19,
   "metadata": {
    "collapsed": true
   },
   "outputs": [],
   "source": [
    "VarianciasVentaneadas=zeros(DatosFiltrados)\n",
    "for j=1:64\n",
    "    for k=1:64\n",
    "        ChorizoExemplo=reshape(DatosFiltrados[j,k,:],1401)\n",
    "        VarianciasVentaneadas[j,k,:]=desviaporventanas(ChorizoExemplo,350)\n",
    "    end\n",
    "end"
   ]
  },
  {
   "cell_type": "code",
   "execution_count": 20,
   "metadata": {
    "collapsed": true
   },
   "outputs": [],
   "source": [
    "MediasVentaneadas=zeros(DatosFiltrados)\n",
    "for j=1:64\n",
    "    for k=1:64\n",
    "        if (Mascara[j,k]==1)\n",
    "            ChorizoExemplo=reshape(DatosFiltrados[j,k,:],1401)\n",
    "            MediasVentaneadas[j,k,:]=mediaporventana(ChorizoExemplo,350)\n",
    "        end\n",
    "    end\n",
    "end"
   ]
  },
  {
   "cell_type": "code",
   "execution_count": 21,
   "metadata": {
    "collapsed": true
   },
   "outputs": [],
   "source": [
    "zacatito=zeros(Float64,(64,64))\n",
    "for t=1:1051\n",
    "    zacatlan=\"MediasFiltradaLocal350-$t.dat\"\n",
    "    zacatito=VarianciasVentaneadas[:,:,t]\n",
    "    writedlm(zacatlan,zacatito )\n",
    "end"
   ]
  },
  {
   "cell_type": "code",
   "execution_count": 48,
   "metadata": {
    "collapsed": true
   },
   "outputs": [],
   "source": [
    "ActividadNegativa=zeros(DatosFiltrados);\n",
    "ActividadPositiva=zeros(DatosFiltrados);\n",
    "SpikeCountPositivo=zeros(64,64);\n",
    "SpikeCountNegativo=zeros(64,64);\n",
    "SpikeCountTotal=zeros(64,64;)\n",
    "for j=1:64\n",
    "    for k=1:64\n",
    "        for t=1:1051\n",
    "            if(abs(DatosFiltrados[j,k,t]-promediototal)>2*sigmaTotalAbsoluta)\n",
    "                SpikeCountTotal[j,k]+=1;    \n",
    "                if(MediasVentaneadas[j,k,t]<0)      \n",
    "                    ActividadNegativa[j,k,t]=DatosFiltrados[j,k,t]\n",
    "                    SpikeCountNegativo[j,k]+=1\n",
    "                else\n",
    "                    ActividadPositiva[j,k,t]=DatosFiltrados[j,k,t]\n",
    "                    SpikeCountPositivo[j,k]+=1\n",
    "                end\n",
    "            end\n",
    "            \n",
    "        end\n",
    "    end\n",
    "end"
   ]
  },
  {
   "cell_type": "code",
   "execution_count": 49,
   "metadata": {
    "collapsed": true
   },
   "outputs": [],
   "source": [
    "writedlm(\"SpikeCountNegativo.dat\", SpikeCountNegativo)\n",
    "writedlm(\"SpikeCountPositivo.dat\", SpikeCountPositivo)\n",
    "writedlm(\"SpikeCountTotal.dat\", SpikeCountTotal)"
   ]
  },
  {
   "cell_type": "code",
   "execution_count": 53,
   "metadata": {},
   "outputs": [
    {
     "data": {
      "text/plain": [
       "(118.0,1)"
      ]
     },
     "execution_count": 53,
     "metadata": {},
     "output_type": "execute_result"
    }
   ],
   "source": [
    "SpikeCountTotal[30,60],\n",
    "Mascara[30,60]\n"
   ]
  },
  {
   "cell_type": "code",
   "execution_count": 67,
   "metadata": {
    "collapsed": true
   },
   "outputs": [],
   "source": [
    "testingsmooth=reshape(DatosFiltrados[30,60,:],1401);\n",
    "writedlm(\"DatosExemplo3060.dat\", testingsmooth);\n",
    "suavizados=mediaporventana(testingsmooth,50);\n",
    "writedlm(\"DatosSmoothed01.dat\", suavizados);\n",
    "suavizaditos=mediaporventana(testingsmooth,24);\n",
    "suavizadisimos=mediaporventana(testingsmooth,350);\n",
    "writedlm(\"DatospocoSmoothed01.dat\", suavizaditos);\n",
    "writedlm(\"DatosmuySmoothed01.dat\", suavizadisimos);"
   ]
  },
  {
   "cell_type": "code",
   "execution_count": 66,
   "metadata": {
    "collapsed": true
   },
   "outputs": [],
   "source": [
    "desviacionexemplo=desviaporventanas(testingsmooth,50);\n",
    "writedlm(\"DesviacionesExemplo01.dat\", desviacionexemplo);"
   ]
  },
  {
   "cell_type": "code",
   "execution_count": 68,
   "metadata": {
    "collapsed": true
   },
   "outputs": [],
   "source": [
    "pocopocosuaves=mediaporventana(testingsmooth,10);\n",
    "writedlm(\"MuypocoSuaves01.dat\", pocopocosuaves);"
   ]
  },
  {
   "cell_type": "code",
   "execution_count": 41,
   "metadata": {
    "collapsed": true
   },
   "outputs": [],
   "source": [
    "zacatito=zeros(Float64,(64,64))\n",
    "for t=1:1051\n",
    "    zacatlan=\"PseudoSpikeCountNeg-$t.dat\"\n",
    "    zacatito=ActividadNegativa[:,:,t]\n",
    "    writedlm(zacatlan,zacatito )\n",
    "    zacatlan=\"PseudoSpikeCountPos-$t.dat\"\n",
    "    zacatito=ActividadPositiva[:,:,t]\n",
    "    writedlm(zacatlan,zacatito )\n",
    "end\n"
   ]
  },
  {
   "cell_type": "code",
   "execution_count": null,
   "metadata": {
    "collapsed": true
   },
   "outputs": [],
   "source": []
  },
  {
   "cell_type": "code",
   "execution_count": 24,
   "metadata": {
    "collapsed": true
   },
   "outputs": [],
   "source": [
    "Salida=open(\"DatosCMNegativo01.dat\", \"w\");"
   ]
  },
  {
   "cell_type": "code",
   "execution_count": 25,
   "metadata": {
    "collapsed": true
   },
   "outputs": [],
   "source": [
    "for t=1:1051\n",
    "    masa=sum(ActividadNegativa[:,:,t]);\n",
    "    xmasa=0.0\n",
    "    ymasa=0.0\n",
    "    for j=1:64\n",
    "        xmasa+=j*sum(ActividadNegativa[j,:,t])\n",
    "        ymasa+=j*sum(ActividadNegativa[:,j,t])\n",
    "    end\n",
    "    xmasa=xmasa/masa\n",
    "    ymasa=ymasa/masa\n",
    "    write(Salida,join((xmasa,ymasa,masa), \"\\t\"), \"\\n\" )\n",
    "end"
   ]
  },
  {
   "cell_type": "code",
   "execution_count": 26,
   "metadata": {},
   "outputs": [
    {
     "data": {
      "text/plain": [
       "IOStream(<file DatosCMPositivo01.dat>)"
      ]
     },
     "execution_count": 26,
     "metadata": {},
     "output_type": "execute_result"
    }
   ],
   "source": [
    "close(Salida);\n",
    "Salida=open(\"DatosCMPositivo01.dat\", \"w\")"
   ]
  },
  {
   "cell_type": "code",
   "execution_count": 27,
   "metadata": {
    "collapsed": true
   },
   "outputs": [],
   "source": [
    "for t=1:1051\n",
    "    masa=sum(ActividadPositiva[:,:,t]);\n",
    "    xmasa=0.0\n",
    "    ymasa=0.0\n",
    "    for j=1:64\n",
    "        xmasa+=j*sum(ActividadPositiva[j,:,t])\n",
    "        ymasa+=j*sum(ActividadPositiva[:,j,t])\n",
    "    end\n",
    "    xmasa=xmasa/masa\n",
    "    ymasa=ymasa/masa\n",
    "    write(Salida,join((xmasa,ymasa,masa), \"\\t\"), \"\\n\" )\n",
    "end"
   ]
  },
  {
   "cell_type": "code",
   "execution_count": 28,
   "metadata": {
    "collapsed": true
   },
   "outputs": [],
   "source": [
    "close(Salida)"
   ]
  },
  {
   "cell_type": "code",
   "execution_count": 29,
   "metadata": {
    "collapsed": true
   },
   "outputs": [],
   "source": []
  },
  {
   "cell_type": "code",
   "execution_count": 30,
   "metadata": {},
   "outputs": [
    {
     "ename": "LoadError",
     "evalue": "paescribir not defined\nwhile loading In[30], in expression starting on line 1",
     "output_type": "error",
     "traceback": [
      "paescribir not defined\nwhile loading In[30], in expression starting on line 1",
      ""
     ]
    }
   ],
   "source": [
    "paescribirunfolded=sort(paescribir);\n",
    "paescribirunfolded=diff(paescribirunfolded); #checa el metodo diff"
   ]
  },
  {
   "cell_type": "code",
   "execution_count": 31,
   "metadata": {},
   "outputs": [
    {
     "ename": "LoadError",
     "evalue": "paescribirunfolded not defined\nwhile loading In[31], in expression starting on line 1",
     "output_type": "error",
     "traceback": [
      "paescribirunfolded not defined\nwhile loading In[31], in expression starting on line 1",
      ""
     ]
    }
   ],
   "source": [
    "writedlm(\"DiferenciasVariancias01.dat\", paescribirunfolded)"
   ]
  },
  {
   "cell_type": "code",
   "execution_count": 32,
   "metadata": {},
   "outputs": [
    {
     "ename": "LoadError",
     "evalue": "paescribirunfolded not defined\nwhile loading In[32], in expression starting on line 2",
     "output_type": "error",
     "traceback": [
      "paescribirunfolded not defined\nwhile loading In[32], in expression starting on line 2",
      ""
     ]
    }
   ],
   "source": [
    "otrasbins=range(0,0.005,200)\n",
    "histodiff=hist(paescribirunfolded,otrasbins)\n",
    "cruac=DataFrame();\n",
    "cruac[1]=collect(otrasbins[1:end-1]);\n",
    "cruac[2]=histodiff[2];\n",
    "writetable(\"HistoDiffVariancias.dat\", cruac, separator='\\t')"
   ]
  },
  {
   "cell_type": "code",
   "execution_count": 33,
   "metadata": {},
   "outputs": [
    {
     "ename": "LoadError",
     "evalue": "Distributions not defined\nwhile loading In[33], in expression starting on line 1",
     "output_type": "error",
     "traceback": [
      "Distributions not defined\nwhile loading In[33], in expression starting on line 1",
      ""
     ]
    }
   ],
   "source": [
    "Distributions.fit(Distributions.Gamma, paescribirunfolded)"
   ]
  },
  {
   "cell_type": "code",
   "execution_count": 34,
   "metadata": {},
   "outputs": [
    {
     "ename": "LoadError",
     "evalue": "cruac not defined\nwhile loading In[34], in expression starting on line 1",
     "output_type": "error",
     "traceback": [
      "cruac not defined\nwhile loading In[34], in expression starting on line 1",
      ""
     ]
    }
   ],
   "source": [
    "sum(cruac[2])"
   ]
  },
  {
   "cell_type": "markdown",
   "metadata": {},
   "source": [
    "Okey, vamos a seguir Francos Way a partir de ahora. Veamos que endiabladas cosas esas funcionan mas o menos menos chungo"
   ]
  },
  {
   "cell_type": "code",
   "execution_count": 35,
   "metadata": {},
   "outputs": [
    {
     "ename": "LoadError",
     "evalue": "Variancias not defined\nwhile loading In[35], in expression starting on line 1",
     "output_type": "error",
     "traceback": [
      "Variancias not defined\nwhile loading In[35], in expression starting on line 1",
      ""
     ]
    }
   ],
   "source": [
    "Mascara=zeros(Variancias)\n",
    "Mascara=map(x->((x<26)&&(x>17))?1:0, Variancias);\n",
    "writedlm(\"mascara.dat\", Mascara)"
   ]
  },
  {
   "cell_type": "code",
   "execution_count": 36,
   "metadata": {},
   "outputs": [
    {
     "name": "stderr",
     "output_type": "stream",
     "text": [
      "INFO: Loading help data...\n"
     ]
    },
    {
     "name": "stdout",
     "output_type": "stream",
     "text": [
      "Base.std(v[, region])\n",
      "\n",
      "   Compute the sample standard deviation of a vector or array \"v\",\n",
      "   optionally along dimensions in \"region\". The algorithm returns an\n",
      "   estimator of the generative distribution's standard deviation under\n",
      "   the assumption that each entry of \"v\" is an IID drawn from that\n",
      "   generative distribution. This computation is equivalent to\n",
      "   calculating \"sqrt(sum((v - mean(v)).^2) / (length(v) - 1))\".\n",
      "   Note: Julia does not ignore \"NaN\" values in the computation. For\n",
      "   applications requiring the handling of missing data, the\n",
      "   \"DataArray\" package is recommended.\n"
     ]
    }
   ],
   "source": [
    "?std"
   ]
  },
  {
   "cell_type": "code",
   "execution_count": 37,
   "metadata": {},
   "outputs": [
    {
     "data": {
      "text/plain": [
       "80.68605707215762"
      ]
     },
     "execution_count": 37,
     "metadata": {},
     "output_type": "execute_result"
    }
   ],
   "source": [
    "std(LasMedicionesCrudas)"
   ]
  },
  {
   "cell_type": "code",
   "execution_count": 38,
   "metadata": {
    "collapsed": true
   },
   "outputs": [],
   "source": []
  }
 ],
 "metadata": {
  "kernelspec": {
   "display_name": "Julia 0.6.3",
   "language": "julia",
   "name": "julia-0.6"
  },
  "language_info": {
   "file_extension": ".jl",
   "mimetype": "application/julia",
   "name": "julia",
   "version": "0.6.3"
  }
 },
 "nbformat": 4,
 "nbformat_minor": 1
}
