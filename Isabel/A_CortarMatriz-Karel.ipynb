{
 "cells": [
  {
   "cell_type": "code",
   "execution_count": 2,
   "metadata": {},
   "outputs": [],
   "source": [
    "push!( LOAD_PATH, \".\" ); # folder que continen los modulos. Correr desde ahí dentro.\n",
    "#\n",
    "using Z_auxiliaresBRW, Z_auxiliaresGEN\n",
    "using HDF5"
   ]
  },
  {
   "cell_type": "code",
   "execution_count": 3,
   "metadata": {},
   "outputs": [
    {
     "data": {
      "text/plain": [
       "\"/home/karel/BRWFiles/Isabel2019/control_02.brw\""
      ]
     },
     "execution_count": 3,
     "metadata": {},
     "output_type": "execute_result"
    }
   ],
   "source": [
    "arxname=\"/home/karel/BRWFiles/Isabel2019/control_02.brw\""
   ]
  },
  {
   "cell_type": "code",
   "execution_count": 6,
   "metadata": {},
   "outputs": [
    {
     "data": {
      "text/plain": [
       "0.5216578024702109"
      ]
     },
     "execution_count": 6,
     "metadata": {},
     "output_type": "execute_result"
    }
   ],
   "source": [
    "pmem=filesize(arxname)/Sys.total_memory()"
   ]
  },
  {
   "cell_type": "code",
   "execution_count": 41,
   "metadata": {},
   "outputs": [
    {
     "data": {
      "text/plain": [
       "cortayguarda (generic function with 2 methods)"
      ]
     },
     "execution_count": 41,
     "metadata": {},
     "output_type": "execute_result"
    }
   ],
   "source": [
    "function cortayguarda(filename::String, fmem=0.25)\n",
    "    \n",
    "\n",
    "dicth5 = brw_things( filename ); # variables útiles\n",
    "pointdatos = dicth5[ \"dset\" ]; # path al dataset (NO READ! to much)\n",
    "M=size(pointdatos, 1)\n",
    "    \n",
    "nframes=dicth5[\"NRecFrames\"]\n",
    "\n",
    "    println(nframes, \"\\n\", M, \"\\n\", M/4096)\n",
    "    \n",
    "nchans=Int(M/nframes)\n",
    "    \n",
    "ncachos=min(ceil(Int, 1/fmem), 4) # al menos partela en 4\n",
    "fcacho=floor(Int, nframes/ncachos) # frames por cacho dara un poco menos que el total.\n",
    "        \n",
    "infin = zeros( Int,ι[ 1 ], 2 ); # preallocate\n",
    "infin[ :, 1 ] = collect( 1:fcacho:nframes ); # inicio y \n",
    "infin[ :, 2 ] = infin[ :, 1 ] .+ fcacho .- 1; # fin en frames de cada cacho (para cortar)\n",
    "#\n",
    "for i = 1:ncachos  # numero de Β a cortar (1-> 4096,1->ω)\n",
    "    B = zeros(UInt16, nchans, fcacho ); # preallocate\n",
    "    # valores correspondientes al Β especifico\n",
    "    # el canal 1,1 tiene el frame 1, 4097, 8193...etc\n",
    "    ondeadonde = collect( ( inifin[ i, 1 ] - 1 ):1:inifin[ i, 2 ] ); \n",
    "    for j = 1:fcacho\n",
    "        # saca esos frames del machote seguido Σ, y ponlos en array en Β\n",
    "        Β[ :, j ] = pointdatos[ ( ondeadonde[ j ]*nchans  + 1):( nchans*ondeadonde[ j + 1 ] ) ];\n",
    "    end\n",
    "    #Β = ( ( Β.*ζ ) .+ ο ); # conversion a volaje\n",
    "    #ΒINname = string( WORKpath, Γ, \"Β\", add_zeros( 2, i ), \".jld\" ); \n",
    "    #save( ΒINname, \"data\", Β );\n",
    "    #println( add_zeros( 2, i ), \" of \", ι[ 1 ], \"...saved\" );\n",
    "end\n",
    "   \n",
    "    print(\"bla\")\n",
    "    \n",
    "end"
   ]
  },
  {
   "cell_type": "code",
   "execution_count": 42,
   "metadata": {},
   "outputs": [
    {
     "data": {
      "text/plain": [
       "2-element Array{UInt16,1}:\n",
       " 0x0000\n",
       " 0x0801"
      ]
     },
     "execution_count": 42,
     "metadata": {},
     "output_type": "execute_result"
    }
   ],
   "source": [
    "a[\"dset\"][1:2]"
   ]
  },
  {
   "cell_type": "code",
   "execution_count": 43,
   "metadata": {},
   "outputs": [
    {
     "name": "stdout",
     "output_type": "stream",
     "text": [
      "3303268\n",
      "13164503040\n",
      "3.21399e6\n"
     ]
    },
    {
     "ename": "InexactError",
     "evalue": "InexactError: Int64(Int64, 3985.2966940617594)",
     "output_type": "error",
     "traceback": [
      "InexactError: Int64(Int64, 3985.2966940617594)",
      "",
      "Stacktrace:",
      " [1] Int64(::Float64) at ./float.jl:700",
      " [2] cortayguarda(::String, ::Float64) at ./In[41]:12",
      " [3] cortayguarda(::String) at ./In[41]:4",
      " [4] top-level scope at In[43]:5"
     ]
    }
   ],
   "source": [
    "if pmem < 0.25\n",
    "    println(\"Tu archivo tiene tamaño razonable. Déjalo así.\")\n",
    "else\n",
    "    a=brw_things(arxname)\n",
    "    cortayguarda(arxname)\n",
    "end"
   ]
  },
  {
   "cell_type": "code",
   "execution_count": 44,
   "metadata": {},
   "outputs": [
    {
     "data": {
      "text/plain": [
       "HDF5Dataset"
      ]
     },
     "execution_count": 44,
     "metadata": {},
     "output_type": "execute_result"
    }
   ],
   "source": [
    "typeof(a[\"dset\"])"
   ]
  },
  {
   "cell_type": "code",
   "execution_count": 9,
   "metadata": {},
   "outputs": [
    {
     "data": {
      "text/plain": [
       "HDF5 data file: /home/karel/BRWFiles/Isabel2019/control_02.brw"
      ]
     },
     "execution_count": 9,
     "metadata": {},
     "output_type": "execute_result"
    }
   ],
   "source": [
    "arxdict=h5open(arxname)"
   ]
  },
  {
   "cell_type": "code",
   "execution_count": 10,
   "metadata": {},
   "outputs": [
    {
     "data": {
      "text/plain": [
       "3-element Array{String,1}:\n",
       " \"3BData\"    \n",
       " \"3BRecInfo\" \n",
       " \"3BUserInfo\""
      ]
     },
     "execution_count": 10,
     "metadata": {},
     "output_type": "execute_result"
    }
   ],
   "source": [
    "names(arxdict)"
   ]
  },
  {
   "cell_type": "code",
   "execution_count": 14,
   "metadata": {},
   "outputs": [
    {
     "data": {
      "text/plain": [
       "7-element Array{String,1}:\n",
       " \"BitDepth\"       \n",
       " \"ExperimentType\" \n",
       " \"MaxVolt\"        \n",
       " \"MinVolt\"        \n",
       " \"NRecFrames\"     \n",
       " \"SamplingRate\"   \n",
       " \"SignalInversion\""
      ]
     },
     "execution_count": 14,
     "metadata": {},
     "output_type": "execute_result"
    }
   ],
   "source": [
    "names(arxdict[\"3BRecInfo/3BRecVars\"])"
   ]
  },
  {
   "cell_type": "code",
   "execution_count": 66,
   "metadata": {},
   "outputs": [
    {
     "data": {
      "text/plain": [
       "3×1 Array{Int64,2}:\n",
       "   89278\n",
       " 3213990\n",
       "       0"
      ]
     },
     "execution_count": 66,
     "metadata": {},
     "output_type": "execute_result"
    }
   ],
   "source": [
    "b=read(arxdict[\"/3BData/RawEncodedTOC\"])"
   ]
  },
  {
   "cell_type": "code",
   "execution_count": 60,
   "metadata": {},
   "outputs": [
    {
     "data": {
      "text/plain": [
       "13530185728"
      ]
     },
     "execution_count": 60,
     "metadata": {},
     "output_type": "execute_result"
    }
   ],
   "source": [
    "c=(arxdict[\"3BRecInfo/3BRecVars/NRecFrames\"][1])[1]*4096"
   ]
  },
  {
   "cell_type": "code",
   "execution_count": 63,
   "metadata": {},
   "outputs": [
    {
     "data": {
      "text/plain": [
       "89278.0"
      ]
     },
     "execution_count": 63,
     "metadata": {},
     "output_type": "execute_result"
    }
   ],
   "source": [
    "(c-b)/4096"
   ]
  },
  {
   "cell_type": "code",
   "execution_count": 69,
   "metadata": {},
   "outputs": [
    {
     "data": {
      "text/plain": [
       "4959.888888888889"
      ]
     },
     "execution_count": 69,
     "metadata": {},
     "output_type": "execute_result"
    }
   ],
   "source": [
    "b[1]/18"
   ]
  },
  {
   "cell_type": "code",
   "execution_count": 67,
   "metadata": {},
   "outputs": [
    {
     "data": {
      "text/plain": [
       "35.99979838258025"
      ]
     },
     "execution_count": 67,
     "metadata": {},
     "output_type": "execute_result"
    }
   ],
   "source": [
    "b[2]/b[1]"
   ]
  },
  {
   "cell_type": "code",
   "execution_count": 68,
   "metadata": {},
   "outputs": [
    {
     "data": {
      "text/plain": [
       "108"
      ]
     },
     "execution_count": 68,
     "metadata": {},
     "output_type": "execute_result"
    }
   ],
   "source": [
    "6*18"
   ]
  },
  {
   "cell_type": "code",
   "execution_count": null,
   "metadata": {
    "collapsed": true
   },
   "outputs": [],
   "source": [
    "\n"
   ]
  }
 ],
 "metadata": {
  "kernelspec": {
   "display_name": "Julia 1.0.3",
   "language": "julia",
   "name": "julia-1.0"
  },
  "language_info": {
   "file_extension": ".jl",
   "mimetype": "application/julia",
   "name": "julia",
   "version": "1.0.3"
  }
 },
 "nbformat": 4,
 "nbformat_minor": 2
}
