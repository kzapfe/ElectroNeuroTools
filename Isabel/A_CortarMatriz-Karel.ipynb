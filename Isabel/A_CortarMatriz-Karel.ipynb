{
 "cells": [
  {
   "cell_type": "code",
   "execution_count": 1,
   "metadata": {
    "collapsed": true
   },
   "outputs": [],
   "source": [
    "push!( LOAD_PATH, \".\" ); # folder que continen los modulos. Correr desde ahí dentro.\n",
    "#\n",
    "using Z_auxiliaresBRW, Z_auxiliaresGEN\n",
    "using HDF5"
   ]
  },
  {
   "cell_type": "code",
   "execution_count": 2,
   "metadata": {},
   "outputs": [
    {
     "data": {
      "text/plain": [
       "\"/home/karel/BRWFiles/Isabel2019/control_02.brw\""
      ]
     },
     "execution_count": 2,
     "metadata": {},
     "output_type": "execute_result"
    }
   ],
   "source": [
    "arxname=\"/home/karel/BRWFiles/Isabel2019/control_02.brw\""
   ]
  },
  {
   "cell_type": "code",
   "execution_count": 3,
   "metadata": {},
   "outputs": [
    {
     "data": {
      "text/plain": [
       "0.5216578024702109"
      ]
     },
     "execution_count": 3,
     "metadata": {},
     "output_type": "execute_result"
    }
   ],
   "source": [
    "pmem=filesize(arxname)/Sys.total_memory()"
   ]
  },
  {
   "cell_type": "code",
   "execution_count": 55,
   "metadata": {},
   "outputs": [
    {
     "data": {
      "text/plain": [
       "guardadictydatos (generic function with 1 method)"
      ]
     },
     "execution_count": 55,
     "metadata": {},
     "output_type": "execute_result"
    }
   ],
   "source": [
    "function guardadictydatos(oldie::Dict, nuevos::Array, nombre::String)\n",
    "    llaves=keys(oldie)\n",
    "    \n",
    "    if in( \"dset\", llaves)\n",
    "        \n",
    "        oldie[\"dset\"]=nuevos\n",
    "        println(\"guardando en $nombre\")\n",
    "        \n",
    "        h5open(nombre, \"w\")  do file\n",
    "            for k in llaves\n",
    "                datos=oldie[k]\n",
    "                write(file, \"$k\", datos)\n",
    "            end\n",
    "        end\n",
    "        return\n",
    "    else   \n",
    "        error(\"Tu dict no trae dataset a remplazar\")\n",
    "    end\n",
    "        \n",
    "end"
   ]
  },
  {
   "cell_type": "code",
   "execution_count": 61,
   "metadata": {},
   "outputs": [
    {
     "data": {
      "text/plain": [
       "(\"/home/karel/BRWFiles/Isabel2019\", \"control_02.brw\")"
      ]
     },
     "execution_count": 61,
     "metadata": {},
     "output_type": "execute_result"
    }
   ],
   "source": [
    "dirname(arxname), basename(arxname)"
   ]
  },
  {
   "cell_type": "code",
   "execution_count": 77,
   "metadata": {},
   "outputs": [
    {
     "data": {
      "text/plain": [
       "cortayguarda (generic function with 2 methods)"
      ]
     },
     "execution_count": 77,
     "metadata": {},
     "output_type": "execute_result"
    }
   ],
   "source": [
    "function cortayguarda(filenombre::String, pmem=0.25)\n",
    "    \n",
    "    \n",
    "    if pmem<0.25 #pmem es memoria usada, no libre!!\n",
    "        println(\"tu archivo tiene tamaño razonable, dejalo asi\")\n",
    "        return 0\n",
    "    else\n",
    "\n",
    "    dicth5 = brw_things( filenombre ); # variables útiles\n",
    "    data = dicth5[ \"dset\" ]; # path al dataset (NO READ! to much)\n",
    "    M=size(data, 1) # el tamaño de data\n",
    "    chans=dicth5[\"Chs\"]\n",
    "    nch=size(chans, 1)\n",
    "    nframes=Int(M/nch)\n",
    "    \n",
    "    \n",
    "    ncachos=max(ceil(Int, 1/(1-pmem)), 4) # al menos partela en 4\n",
    "    fcacho=floor(Int, nframes/ncachos) # frames por cacho dara un poco menos que el total.\n",
    "        \n",
    "    paso=nch*fcacho #cuantos datos tiene cada cacho.\n",
    "        \n",
    "    println(\"Cuadros totales: \\t\", nframes, \"\\n\", \n",
    "            \"Datos totales: \\t\",  M, \"\\n\", \n",
    "            \"Cachos: \\t \" ,ncachos, \"\\n\",\n",
    "            \"Cuadros por cacho: \\t\", fcacho, \"\\n\")\n",
    "    \n",
    "    \n",
    "    for n = 1:ncachos  # numero de Β a cortar (1-> 4096,1->ω)\n",
    "        \n",
    "        cini=(n-1)*fcacho+1\n",
    "        cfin=n*fcacho\n",
    "        datitos =reshape(data[((n-1)*paso+1):n*paso], nch, fcacho)\n",
    "        \n",
    "        nstring=lpad(n, 2, \"0\")\n",
    "        dir=dirname(filenombre)\n",
    "        fn=basename(filenombre)\n",
    "        nuname=dir*\"/Cacho_\"*nstring*\"_\"*fn\n",
    "        \n",
    "            \n",
    "            \n",
    "        notacacho=\"Este es un intervalo de un dataset mas grande. \\n\n",
    "                    Contiene los cuadros de $cini a $cfin.\"\n",
    "        dicth5[\"notacacho\"]=notacacho\n",
    "            \n",
    "        guardadictydatos(dicth5,datitos, nuname)\n",
    "        \n",
    "        println( \"vamos en el cacho\", n,  \" de \", ncachos, \" que va del cuadro \",\n",
    "                cini, \" al \",  n*cfin, \" guardado en $nuname\")\n",
    "    end\n",
    "    print(\"bla\")\n",
    "    return  \"Chido\"\n",
    "    end\n",
    "\n",
    "end"
   ]
  },
  {
   "cell_type": "code",
   "execution_count": null,
   "metadata": {},
   "outputs": [
    {
     "name": "stdout",
     "output_type": "stream",
     "text": [
      "Cuadros totales: \t3213990\n",
      "Datos totales: \t13164503040\n",
      "Cachos: \t 4\n",
      "Cuadros por cacho: \t803497\n",
      "\n",
      "guardando en /home/karel/BRWFiles/Isabel2019/Cacho_01_control_02.brw\n",
      "vamos en el cacho1 de 4 que va del cuadro 1 al 803497 guardado en /home/karel/BRWFiles/Isabel2019/Cacho_01_control_02.brw\n",
      "guardando en /home/karel/BRWFiles/Isabel2019/Cacho_02_control_02.brw\n",
      "vamos en el cacho"
     ]
    }
   ],
   "source": [
    "cortayguarda(arxname, pmem)"
   ]
  },
  {
   "cell_type": "code",
   "execution_count": null,
   "metadata": {
    "collapsed": true
   },
   "outputs": [],
   "source": [
    "\n"
   ]
  }
 ],
 "metadata": {
  "kernelspec": {
   "display_name": "Julia 1.0.3",
   "language": "julia",
   "name": "julia-1.0"
  },
  "language_info": {
   "file_extension": ".jl",
   "mimetype": "application/julia",
   "name": "julia",
   "version": "1.0.3"
  }
 },
 "nbformat": 4,
 "nbformat_minor": 2
}
