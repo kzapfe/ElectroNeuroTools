{
 "cells": [
  {
   "cell_type": "code",
   "execution_count": null,
   "metadata": {},
   "outputs": [],
   "source": [
    "#=\n",
    "Plotting Otsu method.\n",
    "=#"
   ]
  },
  {
   "cell_type": "code",
   "execution_count": 36,
   "metadata": {},
   "outputs": [],
   "source": [
    "push!(LOAD_PATH,\".\") # folder que continen los modulos. Correr desde ahí dentro.\n",
    "# LOad Modules\n",
    "using Z_auxiliaresBRW, Z_auxiliaresGEN\n",
    "using Plots, JLD\n",
    "#\n",
    "Γ = OS( \"linux\" ); # establecer SO a usar...es para mi lap si?"
   ]
  },
  {
   "cell_type": "code",
   "execution_count": 37,
   "metadata": {},
   "outputs": [],
   "source": [
    "OtsuFile = \"/home/isabel/Desktop/200819/control_01/Detection/Otsu_STD_windows.jld\";\n",
    "BRWname = \"/home/isabel/Desktop/200819/control_01.brw\"; # original BRW file\n",
    "# path para guardar las figuras\n",
    "WORKpath = string( split( BRWname, \".\" )[ 1 ], Γ, \"Detection\", Γ, \" OtsuFigures \" ); \n",
    "checkpath( WORKpath ); # checar si el folder existe, si no, crearlo\n",
    "υ = brw_things( BRWname ); # BRW vars\n",
    "SamplingRate = υ[ \"SamplingRate\" ]; # :L\n",
    "#\n",
    "ω = load( OtsuFile )[ \"windows\" ]; # Otsu window size on frames\n",
    "data = load( OtsuFile )[ \"data\" ]; # collection of std per window \n",
    "τ = (ω./SamplingRate).*1000; # times (msec) for each Otsu window\n",
    "#\n",
    "# one file, all windows (n = 65)\n",
    "χ = zeros( size( data, 1 ), Int( length( ω ) ) ); # preallocate, ω*nChs\n",
    "# all values per channel per window (n = 8)\n",
    "ψ = zeros( size( data, 1 ), Int( size( data, 2 )./length( ω ) ) ); # preallocate nfiles*nChs\n",
    "#"
   ]
  },
  {
   "cell_type": "code",
   "execution_count": 79,
   "metadata": {},
   "outputs": [],
   "source": [
    "i = 65#:Int( size( data, 2 )./length( ω ) )\n",
    "χ = data[ :, i:( i + size( ω, 1 ) - 1 ) ];\n",
    "χ = [ 0; sum( χ, dims = 2 ) ];\n",
    "x = [ string( i ) for i = 1:64 ];\n",
    "y = [ string( i ) for i = 1:64 ];\n",
    "z = rotr90(rot180(float( reshape( χ, ( 64, 64 ) ) )));\n",
    "heatmap( x, y, z, aspect_ratio = 1 )"
   ]
  },
  {
   "cell_type": "code",
   "execution_count": null,
   "metadata": {},
   "outputs": [],
   "source": []
  }
 ],
 "metadata": {
  "kernelspec": {
   "display_name": "Julia 1.2.0",
   "language": "julia",
   "name": "julia-1.2"
  },
  "language_info": {
   "file_extension": ".jl",
   "mimetype": "application/julia",
   "name": "julia",
   "version": "1.2.0"
  }
 },
 "nbformat": 4,
 "nbformat_minor": 2
}
