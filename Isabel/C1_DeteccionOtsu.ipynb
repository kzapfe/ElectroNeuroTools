{
 "cells": [
  {
   "cell_type": "code",
   "execution_count": 1,
   "metadata": {},
   "outputs": [],
   "source": [
    "#= Detección de canales activos por 1. metodo de Otsu =#"
   ]
  },
  {
   "cell_type": "code",
   "execution_count": 2,
   "metadata": {},
   "outputs": [
    {
     "name": "stderr",
     "output_type": "stream",
     "text": [
      "┌ Info: Recompiling stale cache file /home/isabel/.julia/compiled/v1.2/Auxiliares_genericos.ji for Auxiliares_genericos [top-level]\n",
      "└ @ Base loading.jl:1240\n"
     ]
    }
   ],
   "source": [
    "push!(LOAD_PATH,\".\") # folder que continen los modulos. Correr desde ahí dentro.\n",
    "# LOad Modules\n",
    "using Z_auxiliaresBRW, Z_auxiliaresGEN\n",
    "# Packages\n",
    "using JLD, Statistics"
   ]
  },
  {
   "cell_type": "code",
   "execution_count": 3,
   "metadata": {},
   "outputs": [
    {
     "name": "stdout",
     "output_type": "stream",
     "text": [
      "duration = 185.0000067399207 secs\n",
      "real duration = 179.99997931201398 secs\n"
     ]
    }
   ],
   "source": [
    "#\n",
    "Γ = OS( \"linux\" );\n",
    "# donde estan los jld para procesar\n",
    "BRWname = \"/home/isabel/Desktop/200819/control_01.brw\"; # original BRW file\n",
    "PROCESSpath = string( split( BRWname, \".\" )[ 1 ], Γ, \"Process\" );\n",
    "υ = brw_things( BRWname );\n",
    "SamplingRate = υ[ \"SamplingRate\" ];\n",
    "ξ = υ[ \"Chs\" ];\n",
    "# donde se guardarán los archivos de salida de los procesos de detección (de haber)\n",
    "WORKpath = string( split( PROCESSpath, \"Process\" )[ 1 ], \"Detection\", Γ);\n",
    "checkpath( WORKpath ); # checar si el folder para guardar los bines existe\n",
    "#\n",
    "files = find_files( PROCESSpath, \".jld\" ); # files ya con path.\n",
    "#"
   ]
  },
  {
   "cell_type": "code",
   "execution_count": 4,
   "metadata": {},
   "outputs": [
    {
     "name": "stdout",
     "output_type": "stream",
     "text": [
      "Los divisores de 49446 entre 1 y 49446 son ----- [1, 2, 3, 6, 9, 18, 41, 67, 82, 123, 134, 201, 246, 369, 402, 603, 738, 1206, 2747, 5494, 8241, 16482, 24723, 49446] ----- 24 divisores.\n"
     ]
    }
   ],
   "source": [
    "#= 1. Método de Otsu\n",
    "1.1 Con ventanas de Desviación Estandar =#\n",
    "data = load( files[ 1 ] )[ \"data\" ]; # carga previa, solo para sacar los valores necesarios\n",
    "# divisores del numero de frames por bin\n",
    "δφ = div_n_ab( size( data, 2 ), 1, size( data, 2 ) ); \n",
    "# mismos divisores pasados a msec (por dimensionar)\n",
    "δτ = ( δφ./SamplingRate )*1000; \n",
    "δφ = δφ[ 1 .<= δτ .<= 500 ]; # seleccionar valores entre 1 y 500 msec\n",
    "\n",
    "if length( δφ ) <= 10\n",
    "    ω = δφ; # tamaño final de las ventanas de Otsu a usar\n",
    "else\n",
    "    ω = δφ[ iseven.( collect( 1:1:length( δφ ) ) ) ];\n",
    "end\n",
    "\n",
    "#= espacio para guardar los valores de STD de cada diferente ventana, \n",
    "ej. 5 ventanas, para 65 archivos = 325 columnas, \n",
    "con 4095 filas por cada canal menos el de referencia =#\n",
    "Π = zeros( Int, size( ξ, 1 ) - 1, size(  ω, 1 )*( size( files, 1 ) ) );"
   ]
  },
  {
   "cell_type": "code",
   "execution_count": 6,
   "metadata": {},
   "outputs": [
    {
     "name": "stdout",
     "output_type": "stream",
     "text": [
      "file 1 obtained\n",
      "file 2 obtained\n",
      "file 3 obtained\n",
      "file 4 obtained\n",
      "file 5 obtained\n",
      "file 6 obtained\n",
      "file 7 obtained\n",
      "file 8 obtained\n",
      "file 9 obtained\n",
      "file 10 obtained\n",
      "file 11 obtained\n",
      "file 12 obtained\n",
      "file 13 obtained\n",
      "file 14 obtained\n",
      "file 15 obtained\n",
      "file 16 obtained\n",
      "file 17 obtained\n",
      "file 18 obtained\n",
      "file 19 obtained\n",
      "file 20 obtained\n",
      "file 21 obtained\n",
      "file 22 obtained\n",
      "file 23 obtained\n",
      "file 24 obtained\n",
      "file 25 obtained\n",
      "file 26 obtained\n",
      "file 27 obtained\n",
      "file 28 obtained\n",
      "file 29 obtained\n",
      "file 30 obtained\n",
      "file 31 obtained\n",
      "file 32 obtained\n",
      "file 33 obtained\n",
      "file 34 obtained\n",
      "file 35 obtained\n",
      "file 36 obtained\n",
      "file 37 obtained\n",
      "file 38 obtained\n",
      "file 39 obtained\n",
      "file 40 obtained\n",
      "file 41 obtained\n",
      "file 42 obtained\n",
      "file 43 obtained\n",
      "file 44 obtained\n",
      "file 45 obtained\n",
      "file 46 obtained\n",
      "file 47 obtained\n",
      "file 48 obtained\n",
      "file 49 obtained\n",
      "file 50 obtained\n",
      "file 51 obtained\n",
      "file 52 obtained\n",
      "file 53 obtained\n",
      "file 54 obtained\n",
      "file 55 obtained\n",
      "file 56 obtained\n",
      "file 57 obtained\n",
      "file 58 obtained\n",
      "file 59 obtained\n",
      "file 60 obtained\n",
      "file 61 obtained\n",
      "file 62 obtained\n",
      "file 63 obtained\n",
      "file 64 obtained\n",
      "file 65 obtained\n",
      "Otsu method for std windows saved\n"
     ]
    }
   ],
   "source": [
    "for i = 1:size( files, 1 );\n",
    "    # para cada cacho, se hace una ventana de tiempo previamente definida\n",
    "    β = zeros( Int, size( ξ, 1 ) - 1, size(  ω, 1 ) );\n",
    "    #\n",
    "    data = load( files[ i ])[ \"data\" ];\n",
    "    data = data[ setdiff( 1:end, 1 ), : ]; # remueve el canal de referencia (1,1)\n",
    "    for j = 1:size(  ω, 1 ) # para cada ventana de tiempo\n",
    "        # limites para tomar cada cacho de la ventana de tiempo\n",
    "        lims = collect( 1: ω[ j ]:size( data, 2 ) );\n",
    "        # aqui se colectarán las stds de cada bin del cacho\n",
    "        α = zeros( size( ξ, 1 ) - 1,size( lims, 1 ) - 1 ); \n",
    "        for k = 1:size( lims, 1 ) - 1 # por cada bin del cacho\n",
    "            # std de cada bin\n",
    "            α[ :, k ] = std( data[ :, lims[ k ]:lims[ k + 1 ] ], dims = 2); \n",
    "        end\n",
    "        α[ α .== Inf ] .= 0; # sometimes the std gives back Inf, du no why\n",
    "        # aplicando otsu al vector de stds maximas\n",
    "        β[ :, j ] = OtsuThr( maximum( α, dims = 2 ) ); \n",
    "    end\n",
    "    Π[ :, 1 + ( i - 1 )*size(  ω, 1 ):i*size(  ω, 1 ) ] = β;\n",
    "    println( \"file \", i, \" obtained\" );\n",
    "end\n",
    "save( string( WORKpath, \"Otsu_STD_windows.jld\" ), \"data\", Π , \"windows\", ω );\n",
    "println( \"Otsu method for std windows saved\" )"
   ]
  },
  {
   "cell_type": "code",
   "execution_count": null,
   "metadata": {},
   "outputs": [],
   "source": []
  }
 ],
 "metadata": {
  "kernelspec": {
   "display_name": "Julia 1.2.0",
   "language": "julia",
   "name": "julia-1.2"
  },
  "language_info": {
   "file_extension": ".jl",
   "mimetype": "application/julia",
   "name": "julia",
   "version": "1.2.0"
  }
 },
 "nbformat": 4,
 "nbformat_minor": 2
}
