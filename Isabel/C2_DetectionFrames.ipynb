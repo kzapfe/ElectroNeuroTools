{
 "cells": [
  {
   "cell_type": "code",
   "execution_count": 1,
   "metadata": {},
   "outputs": [],
   "source": [
    "#= Detección de canales activos por 2. metodo de actividad por frame =#\n",
    "#\n",
    "push!(LOAD_PATH,\".\"); # folder que contine los modulos. Correr desde ahí dentro.\n",
    "# LOad Modules\n",
    "using Auxiliares_genericos, Auxiliares_brw;\n",
    "# Packages\n",
    "using JLD, Statistics\n",
    "#"
   ]
  },
  {
   "cell_type": "code",
   "execution_count": 75,
   "metadata": {},
   "outputs": [
    {
     "data": {
      "text/plain": [
       "denoise_mod (generic function with 1 method)"
      ]
     },
     "execution_count": 75,
     "metadata": {},
     "output_type": "execute_result"
    }
   ],
   "source": [
    "using Wavelets\n",
    "function denoise_mod(x)\n",
    "    y = denoise( \n",
    "    x,\n",
    "    L = min( maxtransformlevels( x ), 6 ),\n",
    "    dnt = VisuShrink( size( x, 1 ) ),\n",
    "    estnoise = noisest,\n",
    "    TI = true \n",
    "    );\n",
    "    return y\n",
    "end"
   ]
  },
  {
   "cell_type": "code",
   "execution_count": 2,
   "metadata": {},
   "outputs": [],
   "source": [
    "#\n",
    "Γ = OS( \"linux\" );\n",
    "# donde estan los jld para procesar\n",
    "processpath = \"/home/isabel/Desktop/200819/control_01/Process/\"; \n",
    "# donde se guardarán los archivos de salida de los procesos de detección (de haber)\n",
    "workpath = string( split( processpath, \"Process\" )[ 1 ], \"Detection\", Γ);\n",
    "checkpath(workpath); # checar si el folder para guardar los bines existe\n",
    "#\n",
    "files = find_files( processpath, \".jld\" ); # files ya con path.\n",
    "#"
   ]
  },
  {
   "cell_type": "code",
   "execution_count": 3,
   "metadata": {},
   "outputs": [],
   "source": [
    "i = 1;\n",
    "data = load( files[ i ] )[ \"data\" ];"
   ]
  },
  {
   "cell_type": "code",
   "execution_count": null,
   "metadata": {},
   "outputs": [],
   "source": []
  },
  {
   "cell_type": "code",
   "execution_count": 81,
   "metadata": {},
   "outputs": [],
   "source": [
    "#for j = 1:size( data, 1 );\n",
    "j = 100;\n",
    "chraw = data[ j, : ];\n",
    "chfilt = denoise_mod( chraw );\n",
    "\n",
    "#end"
   ]
  },
  {
   "cell_type": "code",
   "execution_count": null,
   "metadata": {},
   "outputs": [],
   "source": [
    "# virtual channel with the level of activity showed for the entire time segment\n",
    "frames_ph_raw = zeros(Int, size( data, 2 ), 1 ); # preallocation\n",
    "frames_ph_filt = zeros(Int, size( data, 2 ), 1 ); # preallocation\n",
    "frames_adap_raw = zeros(Int, size( data, 2 ), 1 ); # preallocation\n",
    "frames_adap_filt = zeros(Int, size( data, 2 ), 1 ); # preallocation\n",
    "\n",
    "# virtual frame with the level of activity showed for the entire time segment\n",
    "chs_ph_raw = zeros(Int, size( data, 1 ), 1 ); # preallocation\n",
    "chs_ph_filt = zeros(Int, size( data, 1 ), 1 ); # preallocation\n",
    "chs_adap_raw = zeros(Int, size( data, 1 ), 1 ); # preallocation\n",
    "chs_adap_filt = zeros(Int, size( data, 1 ), 1 ); # preallocation"
   ]
  },
  {
   "cell_type": "code",
   "execution_count": null,
   "metadata": {},
   "outputs": [],
   "source": []
  },
  {
   "cell_type": "code",
   "execution_count": null,
   "metadata": {},
   "outputs": [],
   "source": [
    "# ψ = physiological\n",
    "# ρ = raw\n",
    "# Φ = Frames\n",
    "# θ = filt\n",
    "# α = adap\n",
    "# ξ = chs"
   ]
  },
  {
   "cell_type": "code",
   "execution_count": null,
   "metadata": {},
   "outputs": [],
   "source": [
    "brw = \"/home/isabel/Desktop/200819/control_01.brw\"; # original BRW file\n",
    "vars = brw_things( brw );\n",
    "SamplingRate = vars[ \"SamplingRate\" ];\n",
    "Chs = vars[ \"Chs\" ];"
   ]
  },
  {
   "cell_type": "code",
   "execution_count": null,
   "metadata": {},
   "outputs": [],
   "source": [
    "#= Detección de canales activos por 3. metodo de deteccion \n",
    "con filtraje y sin filtraje de eventos supraumbral =#"
   ]
  }
 ],
 "metadata": {
  "kernelspec": {
   "display_name": "Julia 1.2.0",
   "language": "julia",
   "name": "julia-1.2"
  },
  "language_info": {
   "file_extension": ".jl",
   "mimetype": "application/julia",
   "name": "julia",
   "version": "1.2.0"
  }
 },
 "nbformat": 4,
 "nbformat_minor": 2
}
