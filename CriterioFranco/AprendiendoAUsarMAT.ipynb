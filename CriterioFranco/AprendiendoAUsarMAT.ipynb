{
 "metadata": {
  "language": "Julia",
  "name": "",
  "signature": "sha256:8e5b2b5dc0389776e3b448be469d9f3fc3ea3667f330d241c8bcb94edeae62ce"
 },
 "nbformat": 3,
 "nbformat_minor": 0,
 "worksheets": [
  {
   "cells": [
    {
     "cell_type": "code",
     "collapsed": false,
     "input": [
      "using MAT"
     ],
     "language": "python",
     "metadata": {},
     "outputs": [],
     "prompt_number": 1
    },
    {
     "cell_type": "code",
     "collapsed": false,
     "input": [
      "DatosAparato=matopen(\"../CenterOfMass/actividad_epileptica.mat\")\n",
      "matread(\"../CenterOfMass/actividad_epileptica.mat\");"
     ],
     "language": "python",
     "metadata": {},
     "outputs": [],
     "prompt_number": 2
    },
    {
     "cell_type": "code",
     "collapsed": false,
     "input": [
      "chururu=read(DatosAparato, \"Ch37_55\")"
     ],
     "language": "python",
     "metadata": {},
     "outputs": [
      {
       "metadata": {},
       "output_type": "pyout",
       "prompt_number": 3,
       "text": [
        "1x28088 Array{Float64,2}:\n",
        " -4.02832  16.1133  6.04248  -6.04248  \u2026  -4.02832  10.0708  -4.02832"
       ]
      }
     ],
     "prompt_number": 3
    },
    {
     "cell_type": "code",
     "collapsed": false,
     "input": [
      "Esquina=zeros(9,9,28088);\n",
      "for j=1:9, k=1:9\n",
      "    pseudostring=\"Ch0$j\\_0$k\"\n",
      "    Esquina[j,k,:]=read(DatosAparato, pseudostring)\n",
      "end"
     ],
     "language": "python",
     "metadata": {},
     "outputs": [],
     "prompt_number": 4
    },
    {
     "cell_type": "code",
     "collapsed": false,
     "input": [
      "TodosLosDatos=zeros(64,64,28088);"
     ],
     "language": "python",
     "metadata": {},
     "outputs": [],
     "prompt_number": 5
    },
    {
     "cell_type": "code",
     "collapsed": false,
     "input": [
      "TodosLosDatos[32,45,1030]"
     ],
     "language": "python",
     "metadata": {},
     "outputs": [
      {
       "metadata": {},
       "output_type": "pyout",
       "prompt_number": 22,
       "text": [
        "-18.12744140625"
       ]
      }
     ],
     "prompt_number": 22
    },
    {
     "cell_type": "code",
     "collapsed": false,
     "input": [
      "for j=1:64, k=1:64\n",
      "    if((j<10)&&(k<10))\n",
      "        pseudostring=\"Ch0$j\\_0$k\"\n",
      "    elseif((j<10)&&(k>=10))\n",
      "        pseudostring=\"Ch0$j\\_$k\"\n",
      "    elseif((j>=10)&&(k<10))\n",
      "        pseudostring=\"Ch$j\\_0$k\"\n",
      "    else\n",
      "        pseudostring=\"Ch$j\\_$k\"\n",
      "    end\n",
      "    TodosLosDatos[j,k,:]=read(DatosAparato, pseudostring)\n",
      "end"
     ],
     "language": "python",
     "metadata": {},
     "outputs": [],
     "prompt_number": 7
    },
    {
     "cell_type": "code",
     "collapsed": false,
     "input": [
      "function SigmaVentanas(Datos, ancho, paso)\n",
      "    anchomedio=floor(ancho/2)\n",
      "    tantos=convert(Int, floor((length(Datos)-ancho)/paso))\n",
      "    result=zeros(tantos)\n",
      "    for t=1:tantos\n",
      "        result[t]=std(Datos[(t-1)*paso+1:(t-1)*paso+ancho])\n",
      "    end\n",
      "    return result  \n",
      "end"
     ],
     "language": "python",
     "metadata": {},
     "outputs": [
      {
       "metadata": {},
       "output_type": "pyout",
       "prompt_number": 9,
       "text": [
        "SigmaVentanas (generic function with 1 method)"
       ]
      }
     ],
     "prompt_number": 9
    },
    {
     "cell_type": "code",
     "collapsed": false,
     "input": [
      "ancho=350\n",
      "paso=35\n",
      "tmax=28088\n",
      "cuantasventanas=convert(Int, floor((tmax-ancho)/paso))\n",
      "DesviacionPorVentana=zeros((64,64,cuantasventanas))\n",
      "for j=1:64, k=1:64\n",
      "    chorizo=reshape(TodosLosDatos[j,k,:],tmax)\n",
      "    DesviacionPorVentana[j,k,:]=SigmaVentanas(chorizo, ancho, paso)\n",
      "end"
     ],
     "language": "python",
     "metadata": {},
     "outputs": [],
     "prompt_number": 11
    },
    {
     "cell_type": "code",
     "collapsed": false,
     "input": [
      "function OtsuMethod(Data)\n",
      "    #Pa que esto funcione hay que mandar los datos ya sin NaNs u otras mugres   \n",
      "    binsdefault=2*ceil(Int,sqrt(length(Data)))\n",
      "    (rango, cuentas)=hist(Data,binsdefault)\n",
      "    tantos=length(rango)\n",
      "    valores\n",
      "    omega1=0\n",
      "    omega2=0\n",
      "    mu1=0\n",
      "    mu2=0\n",
      "    sigmab=0\n",
      "    sigmabtemp=0\n",
      "    tbest=0\n",
      "    varlim=0\n",
      "    for t=1:tantos-1\n",
      "        omega1=sum(cuentas[1:t])\n",
      "        omega2=sum(cuentas[t+1:tantos-1])\n",
      "        mu1=sum(cuentas[1:t].*rango[1:t])/omega1\n",
      "        mu2=sum(cuentas[t+1:tantos-1].*rango[t+1:tantos-1])/omega2        \n",
      "        sigmabtemp=omega1*omega2*((mu1-mu2)^2)\n",
      "        if sigmabtemp>sigmab\n",
      "            sigmab=sigmabtemp\n",
      "            tbest=t\n",
      "            varlim=rango[t]\n",
      "        end\n",
      "    end\n",
      "    return (sigmab,tbest,varlim)\n",
      "end\n",
      "\n",
      "function OtsuUmbralizar(DatosMatriz)\n",
      "    # aplanar datos\n",
      "    DataFlatten=reshape(DatosMatriz, size(DatosMatriz)[1]*size(DatosMatriz)[2])\n",
      "    mascara=zeros(DatosMatriz)\n",
      "    umbral=OtsuMethod(DataFlatten)[3]\n",
      "    mascara=map(x->(x>umbral)?1:0, DatosMatriz)\n",
      "    return mascara\n",
      "end\n"
     ],
     "language": "python",
     "metadata": {},
     "outputs": [
      {
       "metadata": {},
       "output_type": "pyout",
       "prompt_number": 13,
       "text": [
        "OtsuUmbralizar (generic function with 1 method)"
       ]
      }
     ],
     "prompt_number": 13
    },
    {
     "cell_type": "code",
     "collapsed": false,
     "input": [
      "SumaVentanasOtsuUmbral=zeros(64,64)\n",
      "for t=1:cuantasventanas\n",
      "    SumaVentanasOtsuUmbral+=OtsuUmbralizar(DesviacionPorVentana[:,:,t])\n",
      "end"
     ],
     "language": "python",
     "metadata": {},
     "outputs": [],
     "prompt_number": 14
    },
    {
     "cell_type": "code",
     "collapsed": false,
     "input": [
      "writedlm(\"SumaOtsu02.dat\", SumaVentanasOtsuUmbral)"
     ],
     "language": "python",
     "metadata": {},
     "outputs": [],
     "prompt_number": 15
    },
    {
     "cell_type": "code",
     "collapsed": false,
     "input": [
      "writedlm(\"DatosTotalesActividadEpilectica.dat\", TodosLosDatos)"
     ],
     "language": "python",
     "metadata": {},
     "outputs": [],
     "prompt_number": 17
    },
    {
     "cell_type": "code",
     "collapsed": false,
     "input": [
      "chanfles=open(\"Chanfleta.bin\", \"w\")\n",
      "write(chanfles, TodosLosDatos)\n",
      "close(chanfles)"
     ],
     "language": "python",
     "metadata": {},
     "outputs": [],
     "prompt_number": 21
    },
    {
     "cell_type": "code",
     "collapsed": false,
     "input": [],
     "language": "python",
     "metadata": {},
     "outputs": []
    }
   ],
   "metadata": {}
  }
 ]
}