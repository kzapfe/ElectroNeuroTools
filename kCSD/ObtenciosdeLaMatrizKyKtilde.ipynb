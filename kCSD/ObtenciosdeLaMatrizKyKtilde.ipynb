{
 "cells": [
  {
   "cell_type": "markdown",
   "metadata": {},
   "source": [
    "Vamos a listar las \"jotas\", es decir, el índice de las coordenadas totales, siguiendo este orden: de la esquina inferior [1,1], ese será j=1, luego j=2 corresponderá a [1,2], j=64 será [1,64] y luego j=65 será [2,1]. Recuerda que esto está ordenado como MATRICES, entonces j=5, [1,5]  es el lugar coordenada x=5 y y=1. Respeta el orden y todo saldrá bien."
   ]
  },
  {
   "cell_type": "code",
   "execution_count": 1,
   "metadata": {
    "collapsed": false
   },
   "outputs": [
    {
     "data": {
      "text/plain": [
       "0-element Array{Array{T,N},1}"
      ]
     },
     "execution_count": 1,
     "metadata": {},
     "output_type": "execute_result"
    }
   ],
   "source": [
    "ConjuntoDeCoordenadasTotal=Array[]\n",
    "LasXNetas=Array[]\n",
    "CasiXNetas=Array[]"
   ]
  },
  {
   "cell_type": "markdown",
   "metadata": {},
   "source": [
    "Por cierto, estoy SEGURO que esta NO es la forma más inteligente de hacerlo, pero funciona. Ya después optimizamos."
   ]
  },
  {
   "cell_type": "code",
   "execution_count": 2,
   "metadata": {
    "collapsed": false
   },
   "outputs": [],
   "source": [
    "for j=1:64,k=1:64\n",
    "    push!(ConjuntoDeCoordenadasTotal,[j,k])\n",
    "end\n",
    "\n",
    "for j=1:24, k=1:24\n",
    "    push!(LasXNetas,[j+5,k+23])\n",
    "    push!(CasiXNetas,[j,k])\n",
    "end"
   ]
  },
  {
   "cell_type": "code",
   "execution_count": 27,
   "metadata": {
    "collapsed": false
   },
   "outputs": [
    {
     "data": {
      "text/plain": [
       "(576,)"
      ]
     },
     "execution_count": 27,
     "metadata": {},
     "output_type": "execute_result"
    }
   ],
   "source": [
    "size(LasXNetas)"
   ]
  },
  {
   "cell_type": "code",
   "execution_count": 3,
   "metadata": {
    "collapsed": false
   },
   "outputs": [],
   "source": [
    "BceroDura=readdlm(\"BceroDura.dat\");\n",
    "BceroSuave=readdlm(\"BceroSuave.dat\")\n",
    "btildedura=readdlm(\"BtildeDuraCero.dat\")\n",
    "btildesuave=readdlm(\"BtildeSuaveCero.dat\");"
   ]
  },
  {
   "cell_type": "code",
   "execution_count": 4,
   "metadata": {
    "collapsed": false
   },
   "outputs": [
    {
     "data": {
      "text/plain": [
       "393.105"
      ]
     },
     "execution_count": 4,
     "metadata": {},
     "output_type": "execute_result"
    }
   ],
   "source": [
    "BceroSuave[64,64]=393.105 #Convergencia, hay que checar el notebook anterior y ver porque pasa eso..."
   ]
  },
  {
   "cell_type": "code",
   "execution_count": 5,
   "metadata": {
    "collapsed": false
   },
   "outputs": [
    {
     "data": {
      "text/plain": [
       "137.089"
      ]
     },
     "execution_count": 5,
     "metadata": {},
     "output_type": "execute_result"
    }
   ],
   "source": [
    "BceroDura[64,64]=137.089 #Correccion por convergencia, hay que checar el notebook anterior y ver porque pasa eso..."
   ]
  },
  {
   "cell_type": "markdown",
   "metadata": {},
   "source": [
    "Dependiendo del cpu los procesos. En mi casa añado 5, en el labo añado 11."
   ]
  },
  {
   "cell_type": "code",
   "execution_count": 6,
   "metadata": {
    "collapsed": false
   },
   "outputs": [
    {
     "data": {
      "text/plain": [
       "5-element Array{Int64,1}:\n",
       " 2\n",
       " 3\n",
       " 4\n",
       " 5\n",
       " 6"
      ]
     },
     "execution_count": 6,
     "metadata": {},
     "output_type": "execute_result"
    }
   ],
   "source": [
    "addprocs(5)"
   ]
  },
  {
   "cell_type": "code",
   "execution_count": 7,
   "metadata": {
    "collapsed": false
   },
   "outputs": [
    {
     "data": {
      "text/plain": [
       "6"
      ]
     },
     "execution_count": 7,
     "metadata": {},
     "output_type": "execute_result"
    }
   ],
   "source": [
    "nprocs()"
   ]
  },
  {
   "cell_type": "markdown",
   "metadata": {},
   "source": [
    "Esta parte de abajo debe ser trivialmente paralelizable, ¿no?"
   ]
  },
  {
   "cell_type": "code",
   "execution_count": 8,
   "metadata": {
    "collapsed": false
   },
   "outputs": [
    {
     "data": {
      "text/plain": [
       "512x512 Array{Float64,2}:\n",
       " 0.0  0.0  0.0  0.0  0.0  0.0  0.0  0.0  …  0.0  0.0  0.0  0.0  0.0  0.0  0.0\n",
       " 0.0  0.0  0.0  0.0  0.0  0.0  0.0  0.0     0.0  0.0  0.0  0.0  0.0  0.0  0.0\n",
       " 0.0  0.0  0.0  0.0  0.0  0.0  0.0  0.0     0.0  0.0  0.0  0.0  0.0  0.0  0.0\n",
       " 0.0  0.0  0.0  0.0  0.0  0.0  0.0  0.0     0.0  0.0  0.0  0.0  0.0  0.0  0.0\n",
       " 0.0  0.0  0.0  0.0  0.0  0.0  0.0  0.0     0.0  0.0  0.0  0.0  0.0  0.0  0.0\n",
       " 0.0  0.0  0.0  0.0  0.0  0.0  0.0  0.0  …  0.0  0.0  0.0  0.0  0.0  0.0  0.0\n",
       " 0.0  0.0  0.0  0.0  0.0  0.0  0.0  0.0     0.0  0.0  0.0  0.0  0.0  0.0  0.0\n",
       " 0.0  0.0  0.0  0.0  0.0  0.0  0.0  0.0     0.0  0.0  0.0  0.0  0.0  0.0  0.0\n",
       " 0.0  0.0  0.0  0.0  0.0  0.0  0.0  0.0     0.0  0.0  0.0  0.0  0.0  0.0  0.0\n",
       " 0.0  0.0  0.0  0.0  0.0  0.0  0.0  0.0     0.0  0.0  0.0  0.0  0.0  0.0  0.0\n",
       " 0.0  0.0  0.0  0.0  0.0  0.0  0.0  0.0  …  0.0  0.0  0.0  0.0  0.0  0.0  0.0\n",
       " 0.0  0.0  0.0  0.0  0.0  0.0  0.0  0.0     0.0  0.0  0.0  0.0  0.0  0.0  0.0\n",
       " 0.0  0.0  0.0  0.0  0.0  0.0  0.0  0.0     0.0  0.0  0.0  0.0  0.0  0.0  0.0\n",
       " ⋮                        ⋮              ⋱  ⋮                        ⋮       \n",
       " 0.0  0.0  0.0  0.0  0.0  0.0  0.0  0.0  …  0.0  0.0  0.0  0.0  0.0  0.0  0.0\n",
       " 0.0  0.0  0.0  0.0  0.0  0.0  0.0  0.0     0.0  0.0  0.0  0.0  0.0  0.0  0.0\n",
       " 0.0  0.0  0.0  0.0  0.0  0.0  0.0  0.0     0.0  0.0  0.0  0.0  0.0  0.0  0.0\n",
       " 0.0  0.0  0.0  0.0  0.0  0.0  0.0  0.0     0.0  0.0  0.0  0.0  0.0  0.0  0.0\n",
       " 0.0  0.0  0.0  0.0  0.0  0.0  0.0  0.0     0.0  0.0  0.0  0.0  0.0  0.0  0.0\n",
       " 0.0  0.0  0.0  0.0  0.0  0.0  0.0  0.0  …  0.0  0.0  0.0  0.0  0.0  0.0  0.0\n",
       " 0.0  0.0  0.0  0.0  0.0  0.0  0.0  0.0     0.0  0.0  0.0  0.0  0.0  0.0  0.0\n",
       " 0.0  0.0  0.0  0.0  0.0  0.0  0.0  0.0     0.0  0.0  0.0  0.0  0.0  0.0  0.0\n",
       " 0.0  0.0  0.0  0.0  0.0  0.0  0.0  0.0     0.0  0.0  0.0  0.0  0.0  0.0  0.0\n",
       " 0.0  0.0  0.0  0.0  0.0  0.0  0.0  0.0     0.0  0.0  0.0  0.0  0.0  0.0  0.0\n",
       " 0.0  0.0  0.0  0.0  0.0  0.0  0.0  0.0  …  0.0  0.0  0.0  0.0  0.0  0.0  0.0\n",
       " 0.0  0.0  0.0  0.0  0.0  0.0  0.0  0.0     0.0  0.0  0.0  0.0  0.0  0.0  0.0"
      ]
     },
     "execution_count": 8,
     "metadata": {},
     "output_type": "execute_result"
    }
   ],
   "source": [
    "jmax=512\n",
    "xconstante=[64,64]\n",
    "Kduras=zeros(jmax,jmax);\n",
    "#=\n",
    "@time for j=1:jmax\n",
    "     xj=ConjuntoDeCoordenadasTotal[j]\n",
    "     for k=1:j\n",
    "            xk=ConjuntoDeCoordenadasTotal[k]\n",
    "        for l=1:jmax\n",
    "            xl=ConjuntoDeCoordenadasTotal[l]\n",
    "            Kduras[j,k]+=BceroDura[(xk-xl+xconstante)...]*BceroDura[(xj-xl+xconstante)...]\n",
    "            end\n",
    "    end\n",
    "end\n",
    "=#"
   ]
  },
  {
   "cell_type": "code",
   "execution_count": 9,
   "metadata": {
    "collapsed": false
   },
   "outputs": [],
   "source": [
    "@everywhere function sumaalgunasB(LasB::Array, lasX::Array,rango)\n",
    "    tantas=length(rango)\n",
    "    tamanho=length(lasX)\n",
    "    result=zeros(tamanho,tamanho)\n",
    "    xconstante=[64,64]\n",
    "    for j=1:tamanho\n",
    "     xj=lasX[j]\n",
    "         for k=1:j\n",
    "            xk=lasX[k]\n",
    "            aux=0\n",
    "            for l in rango\n",
    "                xl=lasX[l]\n",
    "                aux += LasB[(xk-xl+xconstante)...]*LasB[(xj-xl+xconstante)...]\n",
    "          end\n",
    "            result[j,k]=aux\n",
    "  #  println(\"hola loco \", KdurasParalel[j,k])\n",
    "        end\n",
    "    end\n",
    "    return result\n",
    "    \n",
    "end\n",
    "\n",
    "@everywhere function sumaalgunasByBtilde(LasB::Array, LasBtilde::Array, lasX::Array,rango)\n",
    "    tantas=length(rango)\n",
    "    tamanho=length(lasX)\n",
    "    result=zeros(tamanho,tamanho)\n",
    "    xconstante=[64,64]\n",
    "    for j=1:tamanho\n",
    "     xj=lasX[j]\n",
    "        for k=1:tamanho\n",
    "            xk=lasX[k]\n",
    "            aux=0\n",
    "            for l in rango\n",
    "                xl=lasX[l]\n",
    "                aux += LasBtilde[(xk-xl+xconstante)...]*LasB[(xj-xl+xconstante)...]\n",
    "          end\n",
    "            result[j,k]=aux\n",
    "  #  println(\"hola loco \", KdurasParalel[j,k])\n",
    "        end\n",
    "    end\n",
    "    return result\n",
    "    \n",
    "end\n"
   ]
  },
  {
   "cell_type": "code",
   "execution_count": 10,
   "metadata": {
    "collapsed": false
   },
   "outputs": [
    {
     "name": "stdout",
     "output_type": "stream",
     "text": [
      " 45.151483 seconds (377.83 M allocations: 13.765 GB, 3.24% gc time)\n"
     ]
    }
   ],
   "source": [
    "@time sumaalgunasB(BceroDura, ConjuntoDeCoordenadasTotal, 1:2);"
   ]
  },
  {
   "cell_type": "code",
   "execution_count": 11,
   "metadata": {
    "collapsed": false
   },
   "outputs": [
    {
     "name": "stdout",
     "output_type": "stream",
     "text": [
      " 91.762878 seconds (754.99 M allocations: 27.376 GB, 3.30% gc time)\n"
     ]
    },
    {
     "data": {
      "text/plain": [
       "4096x4096 Array{Float64,2}:\n",
       " 272.827   272.827   272.827   272.827   …  0.0  0.0  0.0  0.0  0.0  0.0  0.0\n",
       " 272.827   272.827   272.827   272.827      0.0  0.0  0.0  0.0  0.0  0.0  0.0\n",
       " 267.424   267.424   267.424   267.424      0.0  0.0  0.0  0.0  0.0  0.0  0.0\n",
       " 256.597   256.597   256.597   256.597      0.0  0.0  0.0  0.0  0.0  0.0  0.0\n",
       " 240.273   240.273   240.273   240.273      0.0  0.0  0.0  0.0  0.0  0.0  0.0\n",
       " 218.366   218.366   218.366   218.366   …  0.0  0.0  0.0  0.0  0.0  0.0  0.0\n",
       " 193.743   193.743   193.743   193.743      0.0  0.0  0.0  0.0  0.0  0.0  0.0\n",
       " 171.641   171.641   171.641   171.641      0.0  0.0  0.0  0.0  0.0  0.0  0.0\n",
       " 153.754   153.754   153.754   153.754      0.0  0.0  0.0  0.0  0.0  0.0  0.0\n",
       " 139.009   139.009   139.009   139.009      0.0  0.0  0.0  0.0  0.0  0.0  0.0\n",
       " 126.673   126.673   126.673   126.673   …  0.0  0.0  0.0  0.0  0.0  0.0  0.0\n",
       " 116.226   116.226   116.226   116.226      0.0  0.0  0.0  0.0  0.0  0.0  0.0\n",
       " 107.283   107.283   107.283   107.283      0.0  0.0  0.0  0.0  0.0  0.0  0.0\n",
       "   ⋮                                     ⋱       ⋮                        ⋮  \n",
       "  16.0677   16.0677   16.0677   16.0677     0.0  0.0  0.0  0.0  0.0  0.0  0.0\n",
       "  15.9433   15.9433   15.9433   15.9433  …  0.0  0.0  0.0  0.0  0.0  0.0  0.0\n",
       "  15.8194   15.8194   15.8194   15.8194     0.0  0.0  0.0  0.0  0.0  0.0  0.0\n",
       "  15.6961   15.6961   15.6961   15.6961     0.0  0.0  0.0  0.0  0.0  0.0  0.0\n",
       "  15.5735   15.5735   15.5735   15.5735     0.0  0.0  0.0  0.0  0.0  0.0  0.0\n",
       "  15.4515   15.4515   15.4515   15.4515     0.0  0.0  0.0  0.0  0.0  0.0  0.0\n",
       "  15.3303   15.3303   15.3303   15.3303  …  0.0  0.0  0.0  0.0  0.0  0.0  0.0\n",
       "  15.2098   15.2098   15.2098   15.2098     0.0  0.0  0.0  0.0  0.0  0.0  0.0\n",
       "  15.0901   15.0901   15.0901   15.0901     0.0  0.0  0.0  0.0  0.0  0.0  0.0\n",
       "  14.9712   14.9712   14.9712   14.9712     0.0  0.0  0.0  0.0  0.0  0.0  0.0\n",
       "  14.8532   14.8532   14.8532   14.8532     0.0  0.0  0.0  0.0  0.0  0.0  0.0\n",
       "  14.736    14.736    14.736    14.736   …  0.0  0.0  0.0  0.0  0.0  0.0  0.0"
      ]
     },
     "execution_count": 11,
     "metadata": {},
     "output_type": "execute_result"
    }
   ],
   "source": [
    "@time sumaalgunasByBtilde(BceroDura,btildedura,ConjuntoDeCoordenadasTotal,1:2)"
   ]
  },
  {
   "cell_type": "code",
   "execution_count": 12,
   "metadata": {
    "collapsed": false
   },
   "outputs": [],
   "source": [
    "@everywhere function divideArray(lasX::Array)\n",
    "    #el proceso myid()==nprocs() va a ser el director de orquesta\n",
    "    procesos=nprocs()-1\n",
    "    largo=length(lasX)\n",
    "    idx=myid()\n",
    "    if idx==nprocs()\n",
    "        return 1:0\n",
    "    else\n",
    "        splits=[round(Int, s) for s in linspace(0,largo,procesos+1)]\n",
    "        return splits[idx]+1:splits[idx+1]\n",
    "    end\n",
    "end"
   ]
  },
  {
   "cell_type": "code",
   "execution_count": 13,
   "metadata": {
    "collapsed": false
   },
   "outputs": [],
   "source": [
    "@everywhere function obtenKParcial(LasB,lasX)\n",
    "    rangito=divideArray(lasX)\n",
    "    @show (rangito)\n",
    "    result= sumaalgunasB(LasB, lasX,rangito)\n",
    "    return result\n",
    "end\n",
    "\n",
    "@everywhere function obtenKtildeParcial(LasB,LasBTilde, lasX)\n",
    "    rangito=divideArray(lasX)\n",
    "    @show (rangito)\n",
    "    result= sumaalgunasByBtilde(LasB, LasBTilde, lasX,rangito)\n",
    "    return result\n",
    "end\n"
   ]
  },
  {
   "cell_type": "code",
   "execution_count": 14,
   "metadata": {
    "collapsed": false
   },
   "outputs": [
    {
     "name": "stdout",
     "output_type": "stream",
     "text": [
      "rangito = 1:102\n",
      " 34.778156 seconds (294.96 M allocations: 10.788 GB, 3.56% gc time)\n"
     ]
    },
    {
     "data": {
      "text/plain": [
       "512x512 Array{Float64,2}:\n",
       "      3.01481e5      0.0        …      0.0            0.0      0.0\n",
       "      3.18723e5      3.3755e5          0.0            0.0      0.0\n",
       "      3.33315e5      3.53686e5         0.0            0.0      0.0\n",
       " 344651.0            3.66436e5         0.0            0.0      0.0\n",
       "      3.52181e5      3.75181e5         0.0            0.0      0.0\n",
       "      3.55403e5      3.79363e5  …      0.0            0.0      0.0\n",
       "      3.54713e5      3.79321e5         0.0            0.0      0.0\n",
       "      3.51088e5      3.75996e5         0.0            0.0      0.0\n",
       " 345350.0            3.70206e5         0.0            0.0      0.0\n",
       "      3.38179e5      3.6266e5          0.0            0.0      0.0\n",
       "      3.30123e5      3.5396e5   …      0.0            0.0      0.0\n",
       " 321591.0            3.44596e5         0.0            0.0      0.0\n",
       "      3.12865e5      3.34934e5         0.0            0.0      0.0\n",
       "      ⋮                         ⋱                     ⋮           \n",
       "  87233.7        91505.9        …      0.0            0.0      0.0\n",
       "  85181.4        89349.0               0.0            0.0      0.0\n",
       "  83174.8        87241.8               0.0            0.0      0.0\n",
       "  81206.7        85176.8               0.0            0.0      0.0\n",
       "  79270.4        83147.0               0.0            0.0      0.0\n",
       "  77359.9        81146.1        …      0.0            0.0      0.0\n",
       "  75470.2        79169.0               0.0            0.0      0.0\n",
       "  73598.0        77212.1               0.0            0.0      0.0\n",
       "  71741.8        75273.8               0.0            0.0      0.0\n",
       "  69902.9        73355.2               1.02703e5      0.0      0.0\n",
       "  68085.4        71460.4        …  99306.8        96080.6      0.0\n",
       "  66296.8        69597.0           95627.5        92566.0  89216.9"
      ]
     },
     "execution_count": 14,
     "metadata": {},
     "output_type": "execute_result"
    }
   ],
   "source": [
    "LasXchiquitas=ConjuntoDeCoordenadasTotal[1:512];\n",
    "@time  laKParcial=obtenKParcial(BceroDura,LasXchiquitas)"
   ]
  },
  {
   "cell_type": "code",
   "execution_count": 15,
   "metadata": {
    "collapsed": false
   },
   "outputs": [
    {
     "name": "stdout",
     "output_type": "stream",
     "text": [
      "rangito = 1:102\n",
      " 69.442915 seconds (588.51 M allocations: 21.522 GB, 3.57% gc time)\n"
     ]
    },
    {
     "data": {
      "text/plain": [
       "512x512 Array{Float64,2}:\n",
       " 1385.79   1578.19   1748.93   1902.06   …  0.0  0.0  0.0  0.0  0.0  0.0  0.0\n",
       " 1438.92   1655.92   1848.32   2019.06      0.0  0.0  0.0  0.0  0.0  0.0  0.0\n",
       " 1462.03   1700.94   1917.94   2110.34      0.0  0.0  0.0  0.0  0.0  0.0  0.0\n",
       " 1455.24   1710.49   1949.4    2166.4       0.0  0.0  0.0  0.0  0.0  0.0  0.0\n",
       " 1418.53   1684.6    1939.85   2178.76      0.0  0.0  0.0  0.0  0.0  0.0  0.0\n",
       " 1351.71   1623.19   1889.26   2144.51   …  0.0  0.0  0.0  0.0  0.0  0.0  0.0\n",
       " 1260.82   1532.29   1803.77   2069.84      0.0  0.0  0.0  0.0  0.0  0.0  0.0\n",
       " 1155.93   1422.0    1693.47   1964.95      0.0  0.0  0.0  0.0  0.0  0.0  0.0\n",
       " 1045.94   1301.18   1567.25   1838.73      0.0  0.0  0.0  0.0  0.0  0.0  0.0\n",
       "  939.012  1177.92   1433.15   1699.22      0.0  0.0  0.0  0.0  0.0  0.0  0.0\n",
       "  842.767  1059.79   1298.69   1553.93   …  0.0  0.0  0.0  0.0  0.0  0.0  0.0\n",
       "  761.14    953.987  1171.01   1409.91      0.0  0.0  0.0  0.0  0.0  0.0  0.0\n",
       "  693.112   864.129  1056.98   1273.99      0.0  0.0  0.0  0.0  0.0  0.0  0.0\n",
       "    ⋮                                    ⋱  ⋮                        ⋮       \n",
       "  143.204   170.98    199.35    228.338  …  0.0  0.0  0.0  0.0  0.0  0.0  0.0\n",
       "  140.441   167.648   195.423   223.793     0.0  0.0  0.0  0.0  0.0  0.0  0.0\n",
       "  137.782   164.441   191.647   219.423     0.0  0.0  0.0  0.0  0.0  0.0  0.0\n",
       "  135.22    161.354   188.013   215.219     0.0  0.0  0.0  0.0  0.0  0.0  0.0\n",
       "  132.751   158.379   184.513   211.172     0.0  0.0  0.0  0.0  0.0  0.0  0.0\n",
       "  130.37    155.511   181.139   207.272  …  0.0  0.0  0.0  0.0  0.0  0.0  0.0\n",
       "  128.072   152.744   177.885   203.513     0.0  0.0  0.0  0.0  0.0  0.0  0.0\n",
       "  125.853   150.073   174.746   199.887     0.0  0.0  0.0  0.0  0.0  0.0  0.0\n",
       "  123.709   147.494   171.714   196.387     0.0  0.0  0.0  0.0  0.0  0.0  0.0\n",
       "  121.636   145.0     168.785   193.006     0.0  0.0  0.0  0.0  0.0  0.0  0.0\n",
       "  119.63    142.589   165.954   189.739  …  0.0  0.0  0.0  0.0  0.0  0.0  0.0\n",
       "  117.69    140.256   163.215   186.579     0.0  0.0  0.0  0.0  0.0  0.0  0.0"
      ]
     },
     "execution_count": 15,
     "metadata": {},
     "output_type": "execute_result"
    }
   ],
   "source": [
    "\n",
    "@time  laKParcial=obtenKtildeParcial(BceroDura, btildedura,LasXchiquitas)"
   ]
  },
  {
   "cell_type": "code",
   "execution_count": 16,
   "metadata": {
    "collapsed": false
   },
   "outputs": [
    {
     "data": {
      "text/plain": [
       "KtildeenTrozos (generic function with 1 method)"
      ]
     },
     "execution_count": 16,
     "metadata": {},
     "output_type": "execute_result"
    }
   ],
   "source": [
    "function sacalaKenTrozos(LasB::Array, lasX::Array)\n",
    "    largo=length(lasX)\n",
    "    cachos=nprocs()\n",
    "    aux=SharedArray(Float64,(largo,largo,cachos))\n",
    "     @sync begin\n",
    "        for p in procs()\n",
    "            @async  aux[:,:,p]=remotecall_fetch(p, obtenKParcial, LasB, lasX)\n",
    "        end\n",
    "        end #cierra el syncbegin\n",
    "    result=zeros(largo,largo)\n",
    "    result=sum(aux,3)\n",
    "    return result\n",
    "    #return result\n",
    "end\n",
    "\n",
    "function KtildeenTrozos(LasB::Array, LasBtilde::Array, lasX::Array)\n",
    "    largo=length(lasX)\n",
    "    cachos=nprocs()\n",
    "    aux=SharedArray(Float64,(largo,largo,cachos))\n",
    "     @sync begin\n",
    "        for p in procs()\n",
    "            @async  aux[:,:,p]=remotecall_fetch(p, obtenKtildeParcial, LasB, LasBtilde, lasX)\n",
    "        end\n",
    "        end #cierra el syncbegin\n",
    "    result=zeros(largo,largo)\n",
    "    result=sum(aux,3)\n",
    "    return result\n",
    "    #return result\n",
    "end"
   ]
  },
  {
   "cell_type": "code",
   "execution_count": 17,
   "metadata": {
    "collapsed": false
   },
   "outputs": [
    {
     "name": "stdout",
     "output_type": "stream",
     "text": [
      "rangito = 1:115\n",
      "\tFrom worker 4:\trangito = 347:461\n",
      "\tFrom worker 5:\trangito = 462:576\n",
      "\tFrom worker 2:\trangito = 116:230\n",
      "\tFrom worker 3:\trangito = 231:346\n",
      "\tFrom worker 6:\trangito = 1:0\n",
      " 69.060873 seconds (422.02 M allocations: 15.465 GB, 3.16% gc time)\n"
     ]
    }
   ],
   "source": [
    "@time K3R7=sacalaKenTrozos(BceroDura,LasXNetas);"
   ]
  },
  {
   "cell_type": "code",
   "execution_count": 18,
   "metadata": {
    "collapsed": false
   },
   "outputs": [
    {
     "name": "stdout",
     "output_type": "stream",
     "text": [
      "rangito = 1:115\n",
      "\tFrom worker 6:\trangito = 1:0\n",
      "\tFrom worker 4:\trangito = 347:461\n",
      "\tFrom worker 5:\trangito = 462:576\n",
      "\tFrom worker 2:\trangito = 116:230\n",
      "\tFrom worker 3:\trangito = 231:346\n",
      "214.463882 seconds (839.76 M allocations: 30.732 GB, 1.83% gc time)\n"
     ]
    },
    {
     "data": {
      "text/plain": [
       "576x576x1 Array{Float64,3}:\n",
       "[:, :, 1] =\n",
       " 3132.23   3608.47   4032.9    4414.03   …   804.529   684.222   566.653\n",
       " 3235.99   3770.23   4246.47   4670.9        823.393   700.319   580.011\n",
       " 3269.02   3853.63   4387.87   4864.1        842.569   716.713   593.64 \n",
       " 3232.29   3852.58   4437.18   4971.42       861.995   733.358   607.503\n",
       " 3127.75   3769.17   4389.46   4974.06       881.594   750.193   621.556\n",
       " 2961.18   3609.5    4250.91   4871.2    …   901.275   767.148   635.747\n",
       " 2750.46   3391.71   4040.03   4681.44       920.928   784.137   650.01 \n",
       " 2517.9    3138.29   3779.55   4427.86       940.43    801.06    664.269\n",
       " 2282.77   2869.8    3490.2    4131.45       959.637   817.804   678.434\n",
       " 2061.29   2604.18   3191.22   3811.62       978.39    834.237   692.404\n",
       " 1865.88   2356.63   2899.52   3486.56   …   996.512   850.216   706.063\n",
       " 1698.94   2138.73   2629.48   3172.37      1013.81    865.58    719.284\n",
       " 1557.22   1952.26   2392.05   2882.79      1030.09    880.16    731.928\n",
       "    ⋮                                    ⋱                         ⋮    \n",
       "  719.284   865.58   1013.81   1163.74      2629.48   2138.73   1698.94 \n",
       "  706.063   850.216   996.512  1144.74   …  2899.52   2356.63   1865.88 \n",
       "  692.404   834.237   978.39   1124.69      3191.22   2604.18   2061.29 \n",
       "  678.434   817.804   959.637  1103.79      3490.2    2869.8    2282.77 \n",
       "  664.269   801.06    940.43   1082.26      3779.55   3138.29   2517.9  \n",
       "  650.01    784.137   920.928  1060.3       4040.03   3391.71   2750.46 \n",
       "  635.747   767.148   901.275  1038.07   …  4250.91   3609.5    2961.18 \n",
       "  621.556   750.193   881.594  1015.72      4389.46   3769.17   3127.75 \n",
       "  607.503   733.358   861.995   993.396     4437.18   3852.58   3232.29 \n",
       "  593.64    716.713   842.569   971.206     4387.87   3853.63   3269.02 \n",
       "  580.011   700.319   823.393   949.248     4246.47   3770.23   3235.99 \n",
       "  566.653   684.222   804.529   927.603  …  4032.9    3608.47   3132.23 "
      ]
     },
     "execution_count": 18,
     "metadata": {},
     "output_type": "execute_result"
    }
   ],
   "source": [
    "@time KTilde3R7=KtildeenTrozos(BceroDura,btildedura, CasiXNetas)"
   ]
  },
  {
   "cell_type": "code",
   "execution_count": 22,
   "metadata": {
    "collapsed": false
   },
   "outputs": [
    {
     "name": "stdout",
     "output_type": "stream",
     "text": [
      "rangito = 1:115\n",
      "\tFrom worker 2:\trangito = 116:230\n",
      "\tFrom worker 3:\trangito = 231:346\n",
      "\tFrom worker 4:\trangito = 347:461\n",
      "\tFrom worker 6:\trangito = 1:0\n",
      "\tFrom worker 5:\trangito = 462:576\n"
     ]
    },
    {
     "data": {
      "text/plain": [
       "576x576x1 Array{Float64,3}:\n",
       "[:, :, 1] =\n",
       " 3132.23   3608.47   4032.9    4414.03   …   804.529   684.222   566.653\n",
       " 3235.99   3770.23   4246.47   4670.9        823.393   700.319   580.011\n",
       " 3269.02   3853.63   4387.87   4864.1        842.569   716.713   593.64 \n",
       " 3232.29   3852.58   4437.18   4971.42       861.995   733.358   607.503\n",
       " 3127.75   3769.17   4389.46   4974.06       881.594   750.193   621.556\n",
       " 2961.18   3609.5    4250.91   4871.2    …   901.275   767.148   635.747\n",
       " 2750.46   3391.71   4040.03   4681.44       920.928   784.137   650.01 \n",
       " 2517.9    3138.29   3779.55   4427.86       940.43    801.06    664.269\n",
       " 2282.77   2869.8    3490.2    4131.45       959.637   817.804   678.434\n",
       " 2061.29   2604.18   3191.22   3811.62       978.39    834.237   692.404\n",
       " 1865.88   2356.63   2899.52   3486.56   …   996.512   850.216   706.063\n",
       " 1698.94   2138.73   2629.48   3172.37      1013.81    865.58    719.284\n",
       " 1557.22   1952.26   2392.05   2882.79      1030.09    880.16    731.928\n",
       "    ⋮                                    ⋱                         ⋮    \n",
       "  719.284   865.58   1013.81   1163.74      2629.48   2138.73   1698.94 \n",
       "  706.063   850.216   996.512  1144.74   …  2899.52   2356.63   1865.88 \n",
       "  692.404   834.237   978.39   1124.69      3191.22   2604.18   2061.29 \n",
       "  678.434   817.804   959.637  1103.79      3490.2    2869.8    2282.77 \n",
       "  664.269   801.06    940.43   1082.26      3779.55   3138.29   2517.9  \n",
       "  650.01    784.137   920.928  1060.3       4040.03   3391.71   2750.46 \n",
       "  635.747   767.148   901.275  1038.07   …  4250.91   3609.5    2961.18 \n",
       "  621.556   750.193   881.594  1015.72      4389.46   3769.17   3127.75 \n",
       "  607.503   733.358   861.995   993.396     4437.18   3852.58   3232.29 \n",
       "  593.64    716.713   842.569   971.206     4387.87   3853.63   3269.02 \n",
       "  580.011   700.319   823.393   949.248     4246.47   3770.23   3235.99 \n",
       "  566.653   684.222   804.529   927.603  …  4032.9    3608.47   3132.23 "
      ]
     },
     "execution_count": 22,
     "metadata": {},
     "output_type": "execute_result"
    }
   ],
   "source": [
    "KTilde3R7bien=KtildeenTrozos(BceroDura,btildedura, LasXNetas)"
   ]
  },
  {
   "cell_type": "code",
   "execution_count": 23,
   "metadata": {
    "collapsed": false
   },
   "outputs": [
    {
     "data": {
      "text/plain": [
       "576x576x1 Array{Float64,3}:\n",
       "[:, :, 1] =\n",
       "      1.37332e6  1.43345e6  1.48505e6  …  9.30673e5  896834.0      \n",
       "      1.43382e6  1.49834e6  1.55424e6     9.65662e5       9.30777e5\n",
       "      1.48582e6  1.55464e6  1.61503e6     9.99723e5       9.63836e5\n",
       "      1.52732e6  1.60012e6  1.66497e6     1.03227e6  995442.0      \n",
       "      1.55683e6  1.63309e6  1.70214e6     1.06276e6       1.02508e6\n",
       "      1.57367e6  1.65271e6  1.72547e6  …  1.09078e6       1.05233e6\n",
       "      1.57904e6  1.66003e6  1.7358e6      1.1162e6        1.07708e6\n",
       "      1.57489e6  1.65693e6  1.73485e6     1.13896e6       1.0993e6 \n",
       "      1.56299e6  1.64519e6  1.72433e6     1.15903e6       1.11893e6\n",
       "      1.54488e6  1.62643e6  1.70587e6     1.17631e6       1.13588e6\n",
       "      1.52184e6  1.60207e6  1.68096e6  …  1.1907e6        1.15007e6\n",
       "      1.49489e6  1.57326e6  1.65091e6     1.20206e6       1.16135e6\n",
       "      1.46477e6  1.54094e6  1.61682e6     1.21024e6       1.16958e6\n",
       "      ⋮                                ⋱                  ⋮        \n",
       "      1.16135e6  1.20206e6  1.24095e6     1.57326e6       1.49489e6\n",
       "      1.15007e6  1.1907e6   1.22963e6  …  1.60207e6       1.52184e6\n",
       "      1.13588e6  1.17631e6  1.21516e6     1.62643e6       1.54488e6\n",
       "      1.11893e6  1.15903e6  1.19767e6     1.64519e6       1.56299e6\n",
       "      1.0993e6   1.13896e6  1.17726e6     1.65693e6       1.57489e6\n",
       "      1.07708e6  1.1162e6   1.15404e6     1.66003e6       1.57904e6\n",
       "      1.05233e6  1.09078e6  1.12805e6  …  1.65271e6       1.57367e6\n",
       "      1.02508e6  1.06276e6  1.09934e6     1.63309e6       1.55683e6\n",
       " 995442.0        1.03227e6  1.06805e6     1.60012e6       1.52732e6\n",
       "      9.63836e5  9.99723e5  1.03463e6     1.55464e6       1.48582e6\n",
       "      9.30777e5  9.65662e5  9.99616e5     1.49834e6       1.43382e6\n",
       " 896834.0        9.30673e5  9.63625e5  …  1.43345e6       1.37332e6"
      ]
     },
     "execution_count": 23,
     "metadata": {},
     "output_type": "execute_result"
    }
   ],
   "source": [
    "KTilde3R7-KTilde3R7bien"
   ]
  },
  {
   "cell_type": "code",
   "execution_count": 20,
   "metadata": {
    "collapsed": false
   },
   "outputs": [],
   "source": [
    "longus=size(K3R7,1)\n",
    "K3R7=reshape(K3R7,longus,longus)\n",
    "KTilde3R7=reshape(K3R7,longus,longus)\n",
    "K3R7=K3R7+transpose(K3R7)\n",
    "\n",
    "for j=1:longus\n",
    "    KTilde3R7[j,j]=KTilde3R7[j,j]/2\n",
    "end\n",
    "writedlm(\"K3R7.dat\",K3R7)\n",
    "writedlm(\"KTilde3R7.dat\",KTilde3R7)\n",
    "\n"
   ]
  },
  {
   "cell_type": "code",
   "execution_count": 25,
   "metadata": {
    "collapsed": false
   },
   "outputs": [],
   "source": [
    "KTilde3R7bien=reshape(KTilde3R7bien,longus,longus)\n",
    "writedlm(\"KTilde3R7.dat\",KTilde3R7bien)"
   ]
  },
  {
   "cell_type": "code",
   "execution_count": null,
   "metadata": {
    "collapsed": false
   },
   "outputs": [],
   "source": [
    "@everywhere function obtenerKernelParalell(LasB::Array, lasX::Array, jmax::Int)\n",
    "    result=SharedArray(Float64,(jmax,jmax))\n",
    "    @sync @parallel for j=1:jmax\n",
    "      xj=lasX[j]\n",
    "         for k=1:jmax\n",
    "            xk=lasX[k]\n",
    "            aux=0\n",
    "          for l=1:jmax\n",
    "                xl=lasX[l]\n",
    "                aux = LasB[(xk-xl+xconstante)...]*LasB[(xj-xl+xconstante)...]\n",
    "          end\n",
    "            result[j,k]=aux\n",
    "  #  println(\"hola loco \", KdurasParalel[j,k])\n",
    "        end\n",
    "    end\n",
    "    result=Array(result)\n",
    "    return result\n",
    "end\n",
    "\n",
    "@everywhere function obtenerKtildeParalell(LasB::Array,LasBTilde::Array, lasX::Array, jmax::Int)\n",
    "    result=SharedArray(Float64,(jmax,jmax))\n",
    "    @sync @parallel for j=1:jmax\n",
    "        xj=lasX[j]\n",
    "         for k=1:jmax\n",
    "            xk=lasX[k]\n",
    "         for l=1:jmax\n",
    "                xl=lasX[l]\n",
    "                result[j,k]=200\n",
    "                unax=xk-xl+xconstante\n",
    "                unay=xj-xl+xconstante\n",
    "                if(LasBTilde[unax...]!=0.0)\n",
    "                    println(\"hola tu\")\n",
    "                    \n",
    "                #result[j,k]+= LasB[(xj-xl+xconstante)...]*LasBTilde[(xk-xl+xconstante)...]\n",
    "                end\n",
    "        end\n",
    "  #  println(\"hola loco \", KdurasParalel[j,k])\n",
    "        end\n",
    "    end \n",
    "    return result\n",
    "end\n",
    "    "
   ]
  },
  {
   "cell_type": "code",
   "execution_count": null,
   "metadata": {
    "collapsed": false
   },
   "outputs": [],
   "source": [
    "#@time KSuaveParalel=obtenerKernelParalell(BceroSuave, ConjuntoDeCoordenadasTotal,4096);"
   ]
  },
  {
   "cell_type": "code",
   "execution_count": null,
   "metadata": {
    "collapsed": false
   },
   "outputs": [],
   "source": [
    "@time KDuraParalel2=obtenerKernelParalell(BceroDura, ConjuntoDeCoordenadasTotal,512);"
   ]
  },
  {
   "cell_type": "code",
   "execution_count": null,
   "metadata": {
    "collapsed": false
   },
   "outputs": [],
   "source": []
  },
  {
   "cell_type": "code",
   "execution_count": null,
   "metadata": {
    "collapsed": false
   },
   "outputs": [],
   "source": [
    "obtenerKtildeParalell(BceroDura,btildedura, ConjuntoDeCoordenadasTotal,128)"
   ]
  },
  {
   "cell_type": "code",
   "execution_count": null,
   "metadata": {
    "collapsed": false
   },
   "outputs": [],
   "source": []
  },
  {
   "cell_type": "code",
   "execution_count": null,
   "metadata": {
    "collapsed": false
   },
   "outputs": [],
   "source": [
    "writedlm(\"KSuavesParalel02.dat\", KSuaveParalel)"
   ]
  },
  {
   "cell_type": "code",
   "execution_count": null,
   "metadata": {
    "collapsed": false
   },
   "outputs": [],
   "source": [
    "jmax=4096\n",
    "KdurasParalel=SharedArray(Float64, jmax,jmax)\n",
    "\n",
    "@time @sync @parallel for j=1:jmax\n",
    "     xj=ConjuntoDeCoordenadasTotal[j]\n",
    "     for k=1:j\n",
    "            xk=ConjuntoDeCoordenadasTotal[k]\n",
    "\n",
    "         for l=1:jmax\n",
    "            xl=ConjuntoDeCoordenadasTotal[l]\n",
    "            KdurasParalel[j,k]+= BceroDura[(xk-xl+xconstante)...]*BceroDura[(xj-xl+xconstante)...]\n",
    "         \n",
    "       \n",
    "        end\n",
    "  #  println(\"hola loco \", KdurasParalel[j,k])\n",
    "    end\n",
    "end "
   ]
  },
  {
   "cell_type": "code",
   "execution_count": null,
   "metadata": {
    "collapsed": false
   },
   "outputs": [],
   "source": [
    "writedlm(\"KDurasParalel.dat\", KdurasParalel)"
   ]
  },
  {
   "cell_type": "code",
   "execution_count": null,
   "metadata": {
    "collapsed": false
   },
   "outputs": [],
   "source": [
    "Kcasero=readdlm(\"/home/karel/Downloads/KDurasParalel.dat\");"
   ]
  },
  {
   "cell_type": "code",
   "execution_count": null,
   "metadata": {
    "collapsed": false
   },
   "outputs": [],
   "source": [
    "Kcasero-KdurasParalel"
   ]
  },
  {
   "cell_type": "code",
   "execution_count": null,
   "metadata": {
    "collapsed": false
   },
   "outputs": [],
   "source": [
    "using PyPlot"
   ]
  },
  {
   "cell_type": "code",
   "execution_count": null,
   "metadata": {
    "collapsed": false
   },
   "outputs": [],
   "source": [
    "ion()\n",
    "figuru=imshow(KSuaveParalel, origin=\"upper\",interpolation=\"nearest\",cmap=\"magma\") \n",
    "cb=colorbar(figuru)"
   ]
  },
  {
   "cell_type": "markdown",
   "metadata": {},
   "source": [
    "Hay algo raro... me está saliendo Ciclica la integral... ¿tiene sentido?"
   ]
  },
  {
   "cell_type": "code",
   "execution_count": null,
   "metadata": {
    "collapsed": false
   },
   "outputs": [],
   "source": []
  },
  {
   "cell_type": "code",
   "execution_count": null,
   "metadata": {
    "collapsed": false
   },
   "outputs": [],
   "source": [
    "figuru=imshow(KTotal, origin=\"upper\",interpolation=\"nearest\",cmap=\"magma\") \n",
    "cb=colorbar(figuru)"
   ]
  },
  {
   "cell_type": "code",
   "execution_count": null,
   "metadata": {
    "collapsed": true
   },
   "outputs": [],
   "source": []
  }
 ],
 "metadata": {
  "kernelspec": {
   "display_name": "Julia 0.4.3-pre",
   "language": "julia",
   "name": "julia-0.4"
  },
  "language_info": {
   "file_extension": ".jl",
   "mimetype": "application/julia",
   "name": "julia",
   "version": "0.4.3"
  }
 },
 "nbformat": 4,
 "nbformat_minor": 0
}
