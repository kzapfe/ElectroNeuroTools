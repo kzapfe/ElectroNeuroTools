{
 "cells": [
  {
   "cell_type": "markdown",
   "metadata": {},
   "source": [
    "Vamos a listar las \"jotas\", es decir, el índice de las coordenadas totales, siguiendo este orden: de la esquina inferior [1,1], ese será j=1, luego j=2 corresponderá a [1,2], j=64 será [1,64] y luego j=65 será [2,1]. Recuerda que esto está ordenado como MATRICES, entonces j=5, [1,5]  es el lugar coordenada x=5 y y=1. Respeta el orden y todo saldrá bien."
   ]
  },
  {
   "cell_type": "code",
   "execution_count": 1,
   "metadata": {
    "collapsed": false
   },
   "outputs": [
    {
     "data": {
      "text/plain": [
       "0-element Array{Array{T,N},1}"
      ]
     },
     "execution_count": 1,
     "metadata": {},
     "output_type": "execute_result"
    }
   ],
   "source": [
    "ConjuntoDeCoordenadasTotal=Array[]"
   ]
  },
  {
   "cell_type": "markdown",
   "metadata": {},
   "source": [
    "Por cierto, estoy SEGURO que esta NO es la forma más inteligente de hacerlo, pero funciona. Ya después optimizamos."
   ]
  },
  {
   "cell_type": "code",
   "execution_count": 2,
   "metadata": {
    "collapsed": false
   },
   "outputs": [],
   "source": [
    "for j=1:64,k=1:64\n",
    "    push!(ConjuntoDeCoordenadasTotal,[j,k])\n",
    "end\n"
   ]
  },
  {
   "cell_type": "code",
   "execution_count": 3,
   "metadata": {
    "collapsed": false
   },
   "outputs": [],
   "source": [
    "BceroDura=readdlm(\"BceroDura.dat\");\n",
    "BceroSuave=readdlm(\"BceroSuave.dat\")\n",
    "btildedura=readdlm(\"BtildeDuraCero.dat\")\n",
    "btildesuave=readdlm(\"BtildeSuaveCero.dat\");"
   ]
  },
  {
   "cell_type": "code",
   "execution_count": 4,
   "metadata": {
    "collapsed": false
   },
   "outputs": [
    {
     "data": {
      "text/plain": [
       "393.105"
      ]
     },
     "execution_count": 4,
     "metadata": {},
     "output_type": "execute_result"
    }
   ],
   "source": [
    "BceroSuave[64,64]=393.105 #Convergencia, hay que checar el notebook anterior y ver porque pasa eso..."
   ]
  },
  {
   "cell_type": "code",
   "execution_count": 5,
   "metadata": {
    "collapsed": false
   },
   "outputs": [
    {
     "data": {
      "text/plain": [
       "137.089"
      ]
     },
     "execution_count": 5,
     "metadata": {},
     "output_type": "execute_result"
    }
   ],
   "source": [
    "BceroDura[64,64]=137.089 #Correccion por convergencia, hay que checar el notebook anterior y ver porque pasa eso..."
   ]
  },
  {
   "cell_type": "code",
   "execution_count": 6,
   "metadata": {
    "collapsed": false
   },
   "outputs": [
    {
     "data": {
      "text/plain": [
       "11-element Array{Int64,1}:\n",
       "  2\n",
       "  3\n",
       "  4\n",
       "  5\n",
       "  6\n",
       "  7\n",
       "  8\n",
       "  9\n",
       " 10\n",
       " 11\n",
       " 12"
      ]
     },
     "execution_count": 6,
     "metadata": {},
     "output_type": "execute_result"
    }
   ],
   "source": [
    "addprocs(11)"
   ]
  },
  {
   "cell_type": "code",
   "execution_count": 63,
   "metadata": {
    "collapsed": false
   },
   "outputs": [
    {
     "data": {
      "text/plain": [
       "12"
      ]
     },
     "execution_count": 63,
     "metadata": {},
     "output_type": "execute_result"
    }
   ],
   "source": [
    "nprocs()"
   ]
  },
  {
   "cell_type": "markdown",
   "metadata": {},
   "source": [
    "Esta parte de abajo debe ser trivialmente paralelizable, ¿no?"
   ]
  },
  {
   "cell_type": "code",
   "execution_count": 19,
   "metadata": {
    "collapsed": false
   },
   "outputs": [
    {
     "name": "stdout",
     "output_type": "stream",
     "text": [
      "159.984415 seconds (1.61 G allocations: 57.125 GB, 4.21% gc time)\n"
     ]
    }
   ],
   "source": [
    "jmax=512\n",
    "xconstante=[64,64]\n",
    "Kduras=zeros(jmax,jmax);\n",
    "@time for j=1:jmax\n",
    "     xj=ConjuntoDeCoordenadasTotal[j]\n",
    "     for k=1:j\n",
    "            xk=ConjuntoDeCoordenadasTotal[k]\n",
    "        for l=1:jmax\n",
    "            xl=ConjuntoDeCoordenadasTotal[l]\n",
    "            Kduras[j,k]+=BceroDura[(xk-xl+xconstante)...]*BceroDura[(xj-xl+xconstante)...]\n",
    "            end\n",
    "    end\n",
    "end"
   ]
  },
  {
   "cell_type": "code",
   "execution_count": 48,
   "metadata": {
    "collapsed": false
   },
   "outputs": [
    {
     "data": {
      "text/plain": [
       "348"
      ]
     },
     "execution_count": 48,
     "metadata": {},
     "output_type": "execute_result"
    }
   ],
   "source": [
    "length(ConjuntoDeCoordenadasTotal),nprocs()\n",
    "a=1:348\n",
    "length(a)"
   ]
  },
  {
   "cell_type": "code",
   "execution_count": 77,
   "metadata": {
    "collapsed": false
   },
   "outputs": [],
   "source": [
    "@everywhere function sumaalgunasB(LasB::Array, lasX::Array,rango)\n",
    "    tantas=length(rango)\n",
    "    tamanho=length(lasX)\n",
    "    result=zeros(tamanho,tamanho)\n",
    "    xconstante=[64,64]\n",
    "    for j=1:tamanho\n",
    "     xj=lasX[j]\n",
    "         for k=1:j\n",
    "            xk=lasX[k]\n",
    "            aux=0\n",
    "            for l in rango\n",
    "                xl=lasX[l]\n",
    "                aux = LasB[(xk-xl+xconstante)...]*LasB[(xj-xl+xconstante)...]\n",
    "          end\n",
    "            result[j,k]=aux\n",
    "  #  println(\"hola loco \", KdurasParalel[j,k])\n",
    "        end\n",
    "    end\n",
    "    return result\n",
    "    \n",
    "end"
   ]
  },
  {
   "cell_type": "code",
   "execution_count": 50,
   "metadata": {
    "collapsed": false
   },
   "outputs": [
    {
     "name": "stdout",
     "output_type": "stream",
     "text": [
      "717.073830 seconds (8.82 G allocations: 331.581 GB, 6.05% gc time)\n"
     ]
    },
    {
     "data": {
      "text/plain": [
       "4096x4096 Array{Float64,2}:\n",
       " 177.196    0.0      0.0      0.0    …    0.0      0.0      0.0      0.0  \n",
       " 180.861  184.601    0.0      0.0         0.0      0.0      0.0      0.0  \n",
       " 184.68   188.499  192.48     0.0         0.0      0.0      0.0      0.0  \n",
       " 188.663  192.565  196.631  200.872       0.0      0.0      0.0      0.0  \n",
       " 192.821  196.809  200.965  205.299       0.0      0.0      0.0      0.0  \n",
       " 197.166  201.244  205.493  209.925  …    0.0      0.0      0.0      0.0  \n",
       " 201.71   205.881  210.229  214.763       0.0      0.0      0.0      0.0  \n",
       " 206.467  210.737  215.187  219.828       0.0      0.0      0.0      0.0  \n",
       " 211.453  215.826  220.384  225.137       0.0      0.0      0.0      0.0  \n",
       " 216.684  221.166  225.836  230.707       0.0      0.0      0.0      0.0  \n",
       " 222.18   226.775  231.564  236.558  …    0.0      0.0      0.0      0.0  \n",
       " 227.96   232.674  237.588  242.712       0.0      0.0      0.0      0.0  \n",
       " 234.046  238.887  243.931  249.192       0.0      0.0      0.0      0.0  \n",
       "   ⋮                                 ⋱                               ⋮    \n",
       " 137.855  140.706  143.677  146.776       0.0      0.0      0.0      0.0  \n",
       " 137.734  140.583  143.551  146.647  …    0.0      0.0      0.0      0.0  \n",
       " 137.579  140.425  143.39   146.483       0.0      0.0      0.0      0.0  \n",
       " 137.391  140.233  143.194  146.282       0.0      0.0      0.0      0.0  \n",
       " 137.17   140.007  142.963  146.046       0.0      0.0      0.0      0.0  \n",
       " 136.915  139.747  142.698  145.776       0.0      0.0      0.0      0.0  \n",
       " 136.629  139.455  142.399  145.471  …    0.0      0.0      0.0      0.0  \n",
       " 136.311  139.13   142.068  145.132       0.0      0.0      0.0      0.0  \n",
       " 135.962  138.774  141.704  144.761     104.323    0.0      0.0      0.0  \n",
       " 135.583  138.387  141.309  144.357     104.032  103.742    0.0      0.0  \n",
       " 135.174  137.97   140.883  143.922     103.719  103.43   103.118    0.0  \n",
       " 134.737  137.524  140.428  143.457  …  103.384  103.095  102.785  102.452"
      ]
     },
     "execution_count": 50,
     "metadata": {},
     "output_type": "execute_result"
    }
   ],
   "source": [
    "@time sumaalgunasB(BceroDura, ConjuntoDeCoordenadasTotal, 1:2);"
   ]
  },
  {
   "cell_type": "code",
   "execution_count": 78,
   "metadata": {
    "collapsed": false
   },
   "outputs": [],
   "source": [
    "@everywhere function divideArray(lasX::Array)\n",
    "    procesos=nprocs()\n",
    "    largo=length(lasX)\n",
    "    idx=myid()\n",
    "    splits=[round(Int, s) for s in linspace(0,largo,procesos+1)]\n",
    "    return splits[idx]+1:splits[idx+1]\n",
    "end"
   ]
  },
  {
   "cell_type": "code",
   "execution_count": 79,
   "metadata": {
    "collapsed": false
   },
   "outputs": [],
   "source": [
    "@everywhere function obtenKParcial(LasB,lasX)\n",
    "    rangito=divideArray(lasX)\n",
    "    @show (rangito)\n",
    "    result= sumaalgunasB(LasB, lasX,rangito)\n",
    "    return result\n",
    "end\n"
   ]
  },
  {
   "cell_type": "code",
   "execution_count": 64,
   "metadata": {
    "collapsed": false
   },
   "outputs": [
    {
     "name": "stdout",
     "output_type": "stream",
     "text": [
      "rangito = 1:30\n",
      "  3.405265 seconds (41.00 M allocations: 1.542 GB, 6.45% gc time)\n"
     ]
    },
    {
     "data": {
      "text/plain": [
       "360x360 Array{Float64,2}:\n",
       "  499.368     0.0       0.0    …     0.0      0.0      0.0      0.0 \n",
       "  516.829   534.901     0.0          0.0      0.0      0.0      0.0 \n",
       "  535.541   554.267   574.334        0.0      0.0      0.0      0.0 \n",
       "  555.64    575.069   595.889        0.0      0.0      0.0      0.0 \n",
       "  577.286   597.471   619.103        0.0      0.0      0.0      0.0 \n",
       "  600.66    621.663   644.17   …     0.0      0.0      0.0      0.0 \n",
       "  625.974   647.862   671.318        0.0      0.0      0.0      0.0 \n",
       "  653.476   676.326   700.813        0.0      0.0      0.0      0.0 \n",
       "  683.457   707.356   732.965        0.0      0.0      0.0      0.0 \n",
       "  716.259   741.304   768.143        0.0      0.0      0.0      0.0 \n",
       "  752.29    778.595   806.784  …     0.0      0.0      0.0      0.0 \n",
       "  792.037   819.732   849.41         0.0      0.0      0.0      0.0 \n",
       "  836.087   865.322   896.651        0.0      0.0      0.0      0.0 \n",
       "    ⋮                          ⋱                                    \n",
       " 2271.67   2351.1    2436.23         0.0      0.0      0.0      0.0 \n",
       " 2301.77   2382.26   2468.51         0.0      0.0      0.0      0.0 \n",
       " 2271.67   2351.1    2436.23   …     0.0      0.0      0.0      0.0 \n",
       " 2188.56   2265.09   2347.1          0.0      0.0      0.0      0.0 \n",
       " 2069.72   2142.09   2219.65         0.0      0.0      0.0      0.0 \n",
       " 1933.5    2001.11   2073.56         0.0      0.0      0.0      0.0 \n",
       " 1793.91   1856.64   1923.86         0.0      0.0      0.0      0.0 \n",
       " 1659.54   1717.57   1779.75   …     0.0      0.0      0.0      0.0 \n",
       " 1534.72   1588.38   1645.89      4716.69     0.0      0.0      0.0 \n",
       " 1421.13   1470.82   1524.07      4367.58  4044.31     0.0      0.0 \n",
       " 1318.87   1364.99   1414.4       4053.31  3753.3   3483.23     0.0 \n",
       " 1227.26   1270.18   1316.16      3771.78  3492.6   3241.29  3016.16"
      ]
     },
     "execution_count": 64,
     "metadata": {},
     "output_type": "execute_result"
    }
   ],
   "source": [
    "LasXchiquitas=ConjuntoDeCoordenadasTotal[1:360];\n",
    "@time obtenKParcial(BceroDura,LasXchiquitas)"
   ]
  },
  {
   "cell_type": "code",
   "execution_count": 97,
   "metadata": {
    "collapsed": false
   },
   "outputs": [
    {
     "data": {
      "text/plain": [
       "sacalaKenTrozos (generic function with 1 method)"
      ]
     },
     "execution_count": 97,
     "metadata": {},
     "output_type": "execute_result"
    }
   ],
   "source": [
    "function sacalaKenTrozos(LasB::Array, lasX::Array)\n",
    "    largo=length(lasX)\n",
    "    cachos=nprocs()\n",
    "    aux=SharedArray(Float64,(largo,largo,cachos))\n",
    "     @sync begin\n",
    "        for p in procs()\n",
    "            @async  aux[:,:,p]=remotecall_fetch(p, obtenKParcial, LasB, lasX)\n",
    "        end\n",
    "        end #cierra el syncbegin\n",
    "    result=zeros(largo,largo)\n",
    "    result=sum(aux,3)\n",
    "    return result\n",
    "    #return result\n",
    "end"
   ]
  },
  {
   "cell_type": "code",
   "execution_count": 91,
   "metadata": {
    "collapsed": false
   },
   "outputs": [
    {
     "name": "stdout",
     "output_type": "stream",
     "text": [
      "rangito = 1:30\n",
      "\tFrom worker 2:\trangito = 31:60\n",
      "\tFrom worker 3:\trangito = 61:90\n",
      "\tFrom worker 4:\trangito = 91:120\n",
      "\tFrom worker 5:\trangito = 121:150\n",
      "\tFrom worker 7:\trangito = 181:210\n",
      "\tFrom worker 6:\trangito = 151:180\n",
      "\tFrom worker 8:\trangito = 211:240\n",
      "\tFrom worker 9:\trangito = 241:270\n",
      "\tFrom worker 10:\trangito = 271:300\n",
      "\tFrom worker 12:\trangito = 331:360\n",
      "\tFrom worker 11:\trangito = 301:330\n",
      "  7.312196 seconds (41.03 M allocations: 1.554 GB, 4.52% gc time)\n"
     ]
    }
   ],
   "source": [
    "@time putin=sacalaKenTrozos(BceroDura,LasXchiquitas);"
   ]
  },
  {
   "cell_type": "code",
   "execution_count": 92,
   "metadata": {
    "collapsed": false
   },
   "outputs": [
    {
     "data": {
      "text/plain": [
       "360x360x12 Array{Float64,3}:\n",
       "[:, :, 1] =\n",
       "  499.368     0.0       0.0    …     0.0      0.0      0.0      0.0 \n",
       "  516.829   534.901     0.0          0.0      0.0      0.0      0.0 \n",
       "  535.541   554.267   574.334        0.0      0.0      0.0      0.0 \n",
       "  555.64    575.069   595.889        0.0      0.0      0.0      0.0 \n",
       "  577.286   597.471   619.103        0.0      0.0      0.0      0.0 \n",
       "  600.66    621.663   644.17   …     0.0      0.0      0.0      0.0 \n",
       "  625.974   647.862   671.318        0.0      0.0      0.0      0.0 \n",
       "  653.476   676.326   700.813        0.0      0.0      0.0      0.0 \n",
       "  683.457   707.356   732.965        0.0      0.0      0.0      0.0 \n",
       "  716.259   741.304   768.143        0.0      0.0      0.0      0.0 \n",
       "  752.29    778.595   806.784  …     0.0      0.0      0.0      0.0 \n",
       "  792.037   819.732   849.41         0.0      0.0      0.0      0.0 \n",
       "  836.087   865.322   896.651        0.0      0.0      0.0      0.0 \n",
       "    ⋮                          ⋱                                    \n",
       " 2271.67   2351.1    2436.23         0.0      0.0      0.0      0.0 \n",
       " 2301.77   2382.26   2468.51         0.0      0.0      0.0      0.0 \n",
       " 2271.67   2351.1    2436.23   …     0.0      0.0      0.0      0.0 \n",
       " 2188.56   2265.09   2347.1          0.0      0.0      0.0      0.0 \n",
       " 2069.72   2142.09   2219.65         0.0      0.0      0.0      0.0 \n",
       " 1933.5    2001.11   2073.56         0.0      0.0      0.0      0.0 \n",
       " 1793.91   1856.64   1923.86         0.0      0.0      0.0      0.0 \n",
       " 1659.54   1717.57   1779.75   …     0.0      0.0      0.0      0.0 \n",
       " 1534.72   1588.38   1645.89      4716.69     0.0      0.0      0.0 \n",
       " 1421.13   1470.82   1524.07      4367.58  4044.31     0.0      0.0 \n",
       " 1318.87   1364.99   1414.4       4053.31  3753.3   3483.23     0.0 \n",
       " 1227.26   1270.18   1316.16      3771.78  3492.6   3241.29  3016.16\n",
       "\n",
       "[:, :, 2] =\n",
       "  621.854     0.0       0.0    …     0.0      0.0      0.0      0.0 \n",
       "  641.416   661.626     0.0          0.0      0.0      0.0      0.0 \n",
       "  662.303   683.203   705.521        0.0      0.0      0.0      0.0 \n",
       "  684.654   706.296   729.407        0.0      0.0      0.0      0.0 \n",
       "  708.632   731.071   755.034        0.0      0.0      0.0      0.0 \n",
       "  734.424   757.722   782.604  …     0.0      0.0      0.0      0.0 \n",
       "  762.248   786.474   812.349        0.0      0.0      0.0      0.0 \n",
       "  792.354   817.587   844.539        0.0      0.0      0.0      0.0 \n",
       "  825.041   851.368   879.491        0.0      0.0      0.0      0.0 \n",
       "  860.656   888.178   917.58         0.0      0.0      0.0      0.0 \n",
       "  899.613   928.445   959.25   …     0.0      0.0      0.0      0.0 \n",
       "  942.406   972.681  1005.03         0.0      0.0      0.0      0.0 \n",
       "  989.632  1021.5    1055.56         0.0      0.0      0.0      0.0 \n",
       "    ⋮                          ⋱                                    \n",
       " 2500.41   2583.77   2672.95         0.0      0.0      0.0      0.0 \n",
       " 2537.81   2622.34   2712.78         0.0      0.0      0.0      0.0 \n",
       " 2515.46   2599.08   2688.53   …     0.0      0.0      0.0      0.0 \n",
       " 2440.62   2521.48   2607.96         0.0      0.0      0.0      0.0 \n",
       " 2330.62   2407.47   2489.65         0.0      0.0      0.0      0.0 \n",
       " 2203.85   2276.1    2353.35         0.0      0.0      0.0      0.0 \n",
       " 2074.41   2141.95   2214.15         0.0      0.0      0.0      0.0 \n",
       " 1950.95   2013.97   2081.33   …     0.0      0.0      0.0      0.0 \n",
       " 1837.88   1896.74   1959.63      5467.02     0.0      0.0      0.0 \n",
       " 1736.98   1792.09   1850.95      5149.35  4858.82     0.0      0.0 \n",
       " 1648.48   1700.25   1755.53      4869.12  4603.29  4370.24     0.0 \n",
       " 1571.82   1620.65   1672.75      4624.58  4381.13  4168.52  3985.42\n",
       "\n",
       "[:, :, 3] =\n",
       " 1288.18     0.0      0.0      0.0   …     0.0      0.0      0.0      0.0 \n",
       " 1334.67  1382.91     0.0      0.0         0.0      0.0      0.0      0.0 \n",
       " 1384.73  1434.83  1488.77     0.0         0.0      0.0      0.0      0.0 \n",
       " 1438.75  1490.88  1547.0   1607.58        0.0      0.0      0.0      0.0 \n",
       " 1497.26  1551.57  1610.05  1673.2         0.0      0.0      0.0      0.0 \n",
       " 1560.81  1617.51  1678.56  1744.49  …     0.0      0.0      0.0      0.0 \n",
       " 1630.1   1689.4   1753.26  1822.22        0.0      0.0      0.0      0.0 \n",
       " 1705.92  1768.09  1835.02  1907.31        0.0      0.0      0.0      0.0 \n",
       " 1789.26  1854.56  1924.89  2000.84        0.0      0.0      0.0      0.0 \n",
       " 1881.26  1950.04  2024.11  2104.12        0.0      0.0      0.0      0.0 \n",
       " 1983.33  2055.97  2134.21  2218.72  …     0.0      0.0      0.0      0.0 \n",
       " 2097.19  2174.15  2257.04  2346.59        0.0      0.0      0.0      0.0 \n",
       " 2224.92  2306.72  2394.84  2490.05        0.0      0.0      0.0      0.0 \n",
       "    ⋮                                ⋱                                    \n",
       " 5159.34  5350.18  5555.74  5777.79        0.0      0.0      0.0      0.0 \n",
       " 4980.55  5163.83  5361.19  5574.3         0.0      0.0      0.0      0.0 \n",
       " 4748.91  4922.81  5110.02  5312.11  …     0.0      0.0      0.0      0.0 \n",
       " 4481.7   4645.06  4820.88  5010.64        0.0      0.0      0.0      0.0 \n",
       " 4199.47  4351.86  4515.84  4692.79        0.0      0.0      0.0      0.0 \n",
       " 3920.43  4062.07  4214.45  4378.85        0.0      0.0      0.0      0.0 \n",
       " 3657.08  3788.59  3930.06  4082.67        0.0      0.0      0.0      0.0 \n",
       " 3415.86  3538.1   3669.58  3811.38  …     0.0      0.0      0.0      0.0 \n",
       " 3199.12  3313.01  3435.48  3567.54     8247.93     0.0      0.0      0.0 \n",
       " 3006.72  3113.16  3227.59  3350.96     7743.31  7278.41     0.0      0.0 \n",
       " 2837.07  2936.88  3044.18  3159.83     7297.3   6868.24  6490.43     0.0 \n",
       " 2688.16  2782.11  2883.08  2991.88     6905.17  6508.42  6159.84  5855.72\n",
       "\n",
       "...\n",
       "\n",
       "[:, :, 10] =\n",
       "  6419.13      0.0       0.0   …      0.0      0.0      0.0      0.0\n",
       "  6747.08   7093.47      0.0          0.0      0.0      0.0      0.0\n",
       "  7110.79   7477.73   7884.9          0.0      0.0      0.0      0.0\n",
       "  7516.05   7906.01   8338.85         0.0      0.0      0.0      0.0\n",
       "  7969.37   8385.2    8846.91         0.0      0.0      0.0      0.0\n",
       "  8478.2    8923.21   9417.47  …      0.0      0.0      0.0      0.0\n",
       "  9050.9    9528.88  10059.9          0.0      0.0      0.0      0.0\n",
       "  9695.91  10211.1   10783.8          0.0      0.0      0.0      0.0\n",
       " 10420.1   10977.2   11596.6          0.0      0.0      0.0      0.0\n",
       " 11225.9   11829.5   12500.9          0.0      0.0      0.0      0.0\n",
       " 12104.8   12758.9   13486.6   …      0.0      0.0      0.0      0.0\n",
       " 12986.9   13690.5   14473.3          0.0      0.0      0.0      0.0\n",
       " 13826.1   14574.8   15407.5          0.0      0.0      0.0      0.0\n",
       "     ⋮                         ⋱                                    \n",
       " 13158.5   13743.2   14384.8          0.0      0.0      0.0      0.0\n",
       " 12608.0   13161.4   13768.3          0.0      0.0      0.0      0.0\n",
       " 12073.8   12597.5   13171.5   …      0.0      0.0      0.0      0.0\n",
       " 11565.6   12061.5   12604.7          0.0      0.0      0.0      0.0\n",
       " 11098.2   11568.4   12083.2          0.0      0.0      0.0      0.0\n",
       " 10686.2   11133.2   11622.5          0.0      0.0      0.0      0.0\n",
       " 10340.3   10766.9   11233.6          0.0      0.0      0.0      0.0\n",
       " 10067.2   10476.2   10923.3   …      0.0      0.0      0.0      0.0\n",
       "  9871.61  10265.8   10696.4      24113.3      0.0      0.0      0.0\n",
       "  9758.5   10140.8   10557.9      24610.0  25277.9      0.0      0.0\n",
       "  9734.99  10108.2   10515.0      25422.9  26283.2  27508.4      0.0\n",
       "  9774.46  10140.8   10539.5      26419.5  27478.5  28932.4  30595.7\n",
       "\n",
       "[:, :, 11] =\n",
       "  9902.36      0.0      0.0      0.0  …      0.0      0.0      0.0      0.0\n",
       " 10500.4   11137.8      0.0      0.0         0.0      0.0      0.0      0.0\n",
       " 11164.1   11845.3  12601.6      0.0         0.0      0.0      0.0      0.0\n",
       " 11899.0   12628.8  13439.2  14336.7         0.0      0.0      0.0      0.0\n",
       " 12707.2   13490.4  14360.2  15323.7         0.0      0.0      0.0      0.0\n",
       " 13584.7   14425.7  15359.7  16394.6  …      0.0      0.0      0.0      0.0\n",
       " 14517.2   15419.0  16420.9  17531.0         0.0      0.0      0.0      0.0\n",
       " 15476.1   16439.5  17509.9  18696.5         0.0      0.0      0.0      0.0\n",
       " 16419.7   17442.0  18578.2  19837.9         0.0      0.0      0.0      0.0\n",
       " 17305.0   18380.0  19575.0  20900.6         0.0      0.0      0.0      0.0\n",
       " 18104.4   19223.8  20468.2  21849.4  …      0.0      0.0      0.0      0.0\n",
       " 18767.1   19918.8  21199.4  22621.5         0.0      0.0      0.0      0.0\n",
       " 19292.4   20464.9  21768.5  23216.6         0.0      0.0      0.0      0.0\n",
       "     ⋮                                ⋱                                    \n",
       " 15145.4   15884.1  16696.8  17591.9         0.0      0.0      0.0      0.0\n",
       " 14499.7   15199.8  15969.6  16817.0         0.0      0.0      0.0      0.0\n",
       " 13878.9   14542.5  15272.0  16074.7  …      0.0      0.0      0.0      0.0\n",
       " 13291.5   13921.2  14613.0  15374.0         0.0      0.0      0.0      0.0\n",
       " 12751.4   13349.8  14007.1  14729.7         0.0      0.0      0.0      0.0\n",
       " 12272.6   12842.6  13468.5  14156.3         0.0      0.0      0.0      0.0\n",
       " 11865.0   12409.8  13007.8  13664.6         0.0      0.0      0.0      0.0\n",
       " 11534.7   12057.5  12631.0  13260.6  …      0.0      0.0      0.0      0.0\n",
       " 11286.0   11789.9  12342.3  12948.4     24687.6      0.0      0.0      0.0\n",
       " 11123.5   11611.6  12146.3  12732.6     25164.3  25812.8      0.0      0.0\n",
       " 11053.9   11529.3  12049.7  12619.8     25958.4  26800.0  28007.8      0.0\n",
       " 11050.2   11515.4  12024.1  12580.8     26937.5  27978.4  29415.5  31063.0\n",
       "\n",
       "[:, :, 12] =\n",
       " 10176.5      0.0      0.0      0.0  …      0.0      0.0      0.0      0.0\n",
       " 10781.5  11426.1      0.0      0.0         0.0      0.0      0.0      0.0\n",
       " 11452.6  12141.2  12905.3      0.0         0.0      0.0      0.0      0.0\n",
       " 12195.3  12932.7  13751.0  14656.9         0.0      0.0      0.0      0.0\n",
       " 13011.7  13802.7  14680.6  15652.7         0.0      0.0      0.0      0.0\n",
       " 13897.8  14746.8  15689.3  16733.0  …      0.0      0.0      0.0      0.0\n",
       " 14839.5  15749.5  16760.0  17879.3         0.0      0.0      0.0      0.0\n",
       " 15808.0  16779.9  17859.3  19055.2         0.0      0.0      0.0      0.0\n",
       " 16761.9  17793.0  18938.3  20207.8         0.0      0.0      0.0      0.0\n",
       " 17658.1  18742.2  19946.7  21282.2         0.0      0.0      0.0      0.0\n",
       " 18469.1  19597.8  20852.1  22243.6  …      0.0      0.0      0.0      0.0\n",
       " 19144.2  20305.6  21596.3  23029.0         0.0      0.0      0.0      0.0\n",
       " 19682.7  20865.2  22179.3  23638.4         0.0      0.0      0.0      0.0\n",
       "     ⋮                               ⋱                                    \n",
       " 16067.7  16830.1  17667.6  18588.9         0.0      0.0      0.0      0.0\n",
       " 15501.7  16227.4  17024.1  17900.0         0.0      0.0      0.0      0.0\n",
       " 14974.2  15665.9  16424.9  17258.6  …      0.0      0.0      0.0      0.0\n",
       " 14497.7  15158.2  15882.5  16677.7         0.0      0.0      0.0      0.0\n",
       " 14090.9  14723.6  15416.8  16177.4         0.0      0.0      0.0      0.0\n",
       " 13774.9  14383.4  15049.7  15780.1         0.0      0.0      0.0      0.0\n",
       " 13570.4  14158.9  14802.7  15507.8         0.0      0.0      0.0      0.0\n",
       " 13444.7  14016.4  14641.2  15325.0  …      0.0      0.0      0.0      0.0\n",
       " 13354.1  13911.0  14519.0  15183.7     40290.4      0.0      0.0      0.0\n",
       " 13303.8  13847.7  14441.1  15089.1     41613.4  43154.2      0.0      0.0\n",
       " 13301.2  13834.2  14415.1  15048.8     42913.6  44674.9  46432.6      0.0\n",
       " 13320.0  13843.2  14412.9  15034.0     44061.4  46031.2  48023.6  49856.4"
      ]
     },
     "execution_count": 92,
     "metadata": {},
     "output_type": "execute_result"
    }
   ],
   "source": [
    "tralala=cumsum(putin,3)"
   ]
  },
  {
   "cell_type": "code",
   "execution_count": 96,
   "metadata": {
    "collapsed": false
   },
   "outputs": [
    {
     "name": "stdout",
     "output_type": "stream",
     "text": [
      "search: sum sum! sumabs summary sumabs2 sumabs! sum_kbn sumabs2! sumaalgunasB\n",
      "\n"
     ]
    },
    {
     "data": {
      "text/markdown": [
       "```\n",
       "sum(A, dims)\n",
       "```\n",
       "\n",
       "Sum elements of an array over the given dimensions.\n",
       "\n",
       "```\n",
       "sum(itr)\n",
       "```\n",
       "\n",
       "Returns the sum of all elements in a collection.\n",
       "\n",
       "```\n",
       "sum(f, itr)\n",
       "```\n",
       "\n",
       "Sum the results of calling function `f` on each element of `itr`.\n"
      ],
      "text/plain": [
       "```\n",
       "sum(A, dims)\n",
       "```\n",
       "\n",
       "Sum elements of an array over the given dimensions.\n",
       "\n",
       "```\n",
       "sum(itr)\n",
       "```\n",
       "\n",
       "Returns the sum of all elements in a collection.\n",
       "\n",
       "```\n",
       "sum(f, itr)\n",
       "```\n",
       "\n",
       "Sum the results of calling function `f` on each element of `itr`.\n"
      ]
     },
     "execution_count": 96,
     "metadata": {},
     "output_type": "execute_result"
    }
   ],
   "source": [
    "?sum"
   ]
  },
  {
   "cell_type": "code",
   "execution_count": 16,
   "metadata": {
    "collapsed": false
   },
   "outputs": [],
   "source": [
    "@everywhere function obtenerKernelParalell(LasB::Array, lasX::Array, jmax::Int)\n",
    "    result=SharedArray(Float64,(jmax,jmax))\n",
    "    @sync @parallel for j=1:jmax\n",
    "      xj=lasX[j]\n",
    "         for k=1:jmax\n",
    "            xk=lasX[k]\n",
    "            aux=0\n",
    "          for l=1:jmax\n",
    "                xl=lasX[l]\n",
    "                aux = LasB[(xk-xl+xconstante)...]*LasB[(xj-xl+xconstante)...]\n",
    "          end\n",
    "            result[j,k]=aux\n",
    "  #  println(\"hola loco \", KdurasParalel[j,k])\n",
    "        end\n",
    "    end\n",
    "    result=Array(result)\n",
    "    return result\n",
    "end\n",
    "\n",
    "@everywhere function obtenerKtildeParalell(LasB::Array,LasBTilde::Array, lasX::Array, jmax::Int)\n",
    "    result=SharedArray(Float64,(jmax,jmax))\n",
    "    @sync @parallel for j=1:jmax\n",
    "        xj=lasX[j]\n",
    "         for k=1:jmax\n",
    "            xk=lasX[k]\n",
    "         for l=1:jmax\n",
    "                xl=lasX[l]\n",
    "                result[j,k]=200\n",
    "                unax=xk-xl+xconstante\n",
    "                unay=xj-xl+xconstante\n",
    "                if(LasBTilde[unax...]!=0.0)\n",
    "                    println(\"hola tu\")\n",
    "                    \n",
    "                #result[j,k]+= LasB[(xj-xl+xconstante)...]*LasBTilde[(xk-xl+xconstante)...]\n",
    "                end\n",
    "        end\n",
    "  #  println(\"hola loco \", KdurasParalel[j,k])\n",
    "        end\n",
    "    end \n",
    "    return result\n",
    "end\n",
    "    "
   ]
  },
  {
   "cell_type": "code",
   "execution_count": null,
   "metadata": {
    "collapsed": false
   },
   "outputs": [],
   "source": [
    "#@time KSuaveParalel=obtenerKernelParalell(BceroSuave, ConjuntoDeCoordenadasTotal,4096);"
   ]
  },
  {
   "cell_type": "code",
   "execution_count": 18,
   "metadata": {
    "collapsed": false
   },
   "outputs": [
    {
     "name": "stdout",
     "output_type": "stream",
     "text": [
      " 41.879294 seconds (262.94 k allocations: 18.312 MB, 0.01% gc time)\n"
     ]
    }
   ],
   "source": [
    "@time KSuaveParalel2=obtenerKernelParalell(BceroSuave, ConjuntoDeCoordenadasTotal,512);"
   ]
  },
  {
   "cell_type": "code",
   "execution_count": null,
   "metadata": {
    "collapsed": false
   },
   "outputs": [],
   "source": []
  },
  {
   "cell_type": "code",
   "execution_count": null,
   "metadata": {
    "collapsed": false
   },
   "outputs": [],
   "source": [
    "obtenerKtildeParalell(BceroDura,btildedura, ConjuntoDeCoordenadasTotal,128)"
   ]
  },
  {
   "cell_type": "code",
   "execution_count": null,
   "metadata": {
    "collapsed": false
   },
   "outputs": [],
   "source": []
  },
  {
   "cell_type": "code",
   "execution_count": null,
   "metadata": {
    "collapsed": false
   },
   "outputs": [],
   "source": [
    "writedlm(\"KSuavesParalel02.dat\", KSuaveParalel)"
   ]
  },
  {
   "cell_type": "code",
   "execution_count": null,
   "metadata": {
    "collapsed": false
   },
   "outputs": [],
   "source": [
    "jmax=4096\n",
    "KdurasParalel=SharedArray(Float64, jmax,jmax)\n",
    "\n",
    "@time @sync @parallel for j=1:jmax\n",
    "     xj=ConjuntoDeCoordenadasTotal[j]\n",
    "     for k=1:j\n",
    "            xk=ConjuntoDeCoordenadasTotal[k]\n",
    "\n",
    "         for l=1:jmax\n",
    "            xl=ConjuntoDeCoordenadasTotal[l]\n",
    "            KdurasParalel[j,k]+= BceroDura[(xk-xl+xconstante)...]*BceroDura[(xj-xl+xconstante)...]\n",
    "         \n",
    "       \n",
    "        end\n",
    "  #  println(\"hola loco \", KdurasParalel[j,k])\n",
    "    end\n",
    "end "
   ]
  },
  {
   "cell_type": "code",
   "execution_count": null,
   "metadata": {
    "collapsed": false
   },
   "outputs": [],
   "source": [
    "writedlm(\"KDurasParalel.dat\", KdurasParalel)"
   ]
  },
  {
   "cell_type": "code",
   "execution_count": null,
   "metadata": {
    "collapsed": false
   },
   "outputs": [],
   "source": [
    "Kcasero=readdlm(\"/home/karel/Downloads/KDurasParalel.dat\");"
   ]
  },
  {
   "cell_type": "code",
   "execution_count": null,
   "metadata": {
    "collapsed": false
   },
   "outputs": [],
   "source": [
    "Kcasero-KdurasParalel"
   ]
  },
  {
   "cell_type": "code",
   "execution_count": null,
   "metadata": {
    "collapsed": false
   },
   "outputs": [],
   "source": [
    "using PyPlot"
   ]
  },
  {
   "cell_type": "code",
   "execution_count": null,
   "metadata": {
    "collapsed": false
   },
   "outputs": [],
   "source": [
    "ion()\n",
    "figuru=imshow(KSuaveParalel, origin=\"upper\",interpolation=\"nearest\",cmap=\"magma\") \n",
    "cb=colorbar(figuru)"
   ]
  },
  {
   "cell_type": "markdown",
   "metadata": {},
   "source": [
    "Hay algo raro... me está saliendo Ciclica la integral... ¿tiene sentido?"
   ]
  },
  {
   "cell_type": "code",
   "execution_count": null,
   "metadata": {
    "collapsed": false
   },
   "outputs": [],
   "source": []
  },
  {
   "cell_type": "code",
   "execution_count": null,
   "metadata": {
    "collapsed": false
   },
   "outputs": [],
   "source": [
    "figuru=imshow(KTotal, origin=\"upper\",interpolation=\"nearest\",cmap=\"magma\") \n",
    "cb=colorbar(figuru)"
   ]
  },
  {
   "cell_type": "code",
   "execution_count": null,
   "metadata": {
    "collapsed": true
   },
   "outputs": [],
   "source": []
  }
 ],
 "metadata": {
  "kernelspec": {
   "display_name": "Julia 0.4.2-pre",
   "language": "julia",
   "name": "julia-0.4"
  },
  "language_info": {
   "file_extension": ".jl",
   "mimetype": "application/julia",
   "name": "julia",
   "version": "0.4.2"
  }
 },
 "nbformat": 4,
 "nbformat_minor": 0
}
