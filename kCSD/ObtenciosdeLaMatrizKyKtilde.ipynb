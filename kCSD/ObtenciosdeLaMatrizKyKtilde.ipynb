{
 "cells": [
  {
   "cell_type": "markdown",
   "metadata": {},
   "source": [
    "Vamos a listar las \"jotas\", es decir, el índice de las coordenadas totales, siguiendo este orden: de la esquina inferior [1,1], ese será j=1, luego j=2 corresponderá a [1,2], j=64 será [1,64] y luego j=65 será [2,1]. Recuerda que esto está ordenado como MATRICES, entonces j=5, [1,5]  es el lugar coordenada x=5 y y=1. Respeta el orden y todo saldrá bien."
   ]
  },
  {
   "cell_type": "code",
   "execution_count": 1,
   "metadata": {},
   "outputs": [
    {
     "data": {
      "text/plain": [
       "0-element Array{Array{T,N},1}"
      ]
     },
     "execution_count": 1,
     "metadata": {},
     "output_type": "execute_result"
    }
   ],
   "source": [
    "ConjuntoDeCoordenadasTotal=Array[]\n",
    "LasXNetas=Array[]\n",
    "CasiXNetas=Array[]"
   ]
  },
  {
   "cell_type": "markdown",
   "metadata": {},
   "source": [
    "Por cierto, estoy SEGURO que esta NO es la forma más inteligente de hacerlo, pero funciona. Ya después optimizamos. \n",
    "Primero, pongamos una lista de todas las coordenadas de los electrodos que nos interesa. La podemos leer de un archivo o crear *in-situ*."
   ]
  },
  {
   "cell_type": "code",
   "execution_count": 2,
   "metadata": {
    "collapsed": true
   },
   "outputs": [],
   "source": [
    "for j=1:64,k=1:64\n",
    "    push!(ConjuntoDeCoordenadasTotal,[j,k])\n",
    "end\n",
    "\n",
    "for j=1:24, k=1:24\n",
    "    push!(LasXNetas,[j+5,k+23])\n",
    "    push!(CasiXNetas,[j,k])\n",
    "end"
   ]
  },
  {
   "cell_type": "code",
   "execution_count": 3,
   "metadata": {},
   "outputs": [
    {
     "data": {
      "text/plain": [
       "(576,)"
      ]
     },
     "execution_count": 3,
     "metadata": {},
     "output_type": "execute_result"
    }
   ],
   "source": [
    "size(LasXNetas)"
   ]
  },
  {
   "cell_type": "code",
   "execution_count": 23,
   "metadata": {
    "collapsed": true
   },
   "outputs": [],
   "source": [
    "BceroDura=readdlm(\"BceroDura-r-5.0.dat\");\n",
    "BceroSuave=readdlm(\"BceroSuave-r-5.0.dat\")\n",
    "btildedura=readdlm(\"BtildeDuraCero_radio_5.0.dat\")\n",
    "btildesuave=readdlm(\"BtildeSuaveCero_radio_5.0.dat\");"
   ]
  },
  {
   "cell_type": "code",
   "execution_count": 24,
   "metadata": {},
   "outputs": [
    {
     "data": {
      "text/plain": [
       "116.65587463286872"
      ]
     },
     "execution_count": 24,
     "metadata": {},
     "output_type": "execute_result"
    }
   ],
   "source": [
    "BceroSuave[64,64]"
   ]
  },
  {
   "cell_type": "code",
   "execution_count": null,
   "metadata": {
    "collapsed": true
   },
   "outputs": [],
   "source": [
    "#BceroSuave[64,64]=393.105 #Convergencia, hay que checar el notebook anterior y ver porque pasa eso..."
   ]
  },
  {
   "cell_type": "code",
   "execution_count": null,
   "metadata": {
    "collapsed": true
   },
   "outputs": [],
   "source": [
    "#BceroDura[64,64]=137.089 #Correccion por convergencia, hay que checar el notebook anterior y ver porque pasa eso..."
   ]
  },
  {
   "cell_type": "markdown",
   "metadata": {},
   "source": [
    "Dependiendo del cpu los procesos. En mi casa añado 5, en el labo añado 11."
   ]
  },
  {
   "cell_type": "code",
   "execution_count": 8,
   "metadata": {},
   "outputs": [
    {
     "data": {
      "text/plain": [
       "5-element Array{Int64,1}:\n",
       " 2\n",
       " 3\n",
       " 4\n",
       " 5\n",
       " 6"
      ]
     },
     "execution_count": 8,
     "metadata": {},
     "output_type": "execute_result"
    }
   ],
   "source": [
    "addprocs(5)"
   ]
  },
  {
   "cell_type": "code",
   "execution_count": 25,
   "metadata": {},
   "outputs": [
    {
     "data": {
      "text/plain": [
       "6"
      ]
     },
     "execution_count": 25,
     "metadata": {},
     "output_type": "execute_result"
    }
   ],
   "source": [
    "nprocs()"
   ]
  },
  {
   "cell_type": "code",
   "execution_count": 10,
   "metadata": {
    "collapsed": true
   },
   "outputs": [],
   "source": [
    "@everywhere function sumaalgunasB(LasB::Array, lasX::Array,rango)\n",
    "    tantas=length(rango)\n",
    "    tamanho=length(lasX)\n",
    "    result=zeros(tamanho,tamanho)\n",
    "    xconstante=[64,64]\n",
    "    for j=1:tamanho\n",
    "     xj=lasX[j]\n",
    "         for k=1:j\n",
    "            xk=lasX[k]\n",
    "            aux=0\n",
    "            for l in rango\n",
    "                xl=lasX[l]\n",
    "                aux += LasB[(xk-xl+xconstante)...]*LasB[(xj-xl+xconstante)...]\n",
    "          end\n",
    "            result[j,k]=aux\n",
    "  #  println(\"hola loco \", KdurasParalel[j,k])\n",
    "        end\n",
    "    end\n",
    "    return result\n",
    "    \n",
    "end\n",
    "\n",
    "@everywhere function sumaalgunasByBtilde(LasB::Array, LasBtilde::Array, lasX::Array,rango)\n",
    "    tantas=length(rango)\n",
    "    tamanho=length(lasX)\n",
    "    result=zeros(tamanho,tamanho)\n",
    "    xconstante=[64,64]\n",
    "    for j=1:tamanho\n",
    "     xj=lasX[j]\n",
    "        for k=1:tamanho\n",
    "            xk=lasX[k]\n",
    "            aux=0\n",
    "            for l in rango\n",
    "                xl=lasX[l]\n",
    "                aux += LasBtilde[(xk-xl+xconstante)...]*LasB[(xj-xl+xconstante)...]\n",
    "          end\n",
    "            result[j,k]=aux\n",
    "  #  println(\"hola loco \", KdurasParalel[j,k])\n",
    "        end\n",
    "    end\n",
    "    return result\n",
    "    \n",
    "end\n"
   ]
  },
  {
   "cell_type": "code",
   "execution_count": 11,
   "metadata": {},
   "outputs": [
    {
     "name": "stdout",
     "output_type": "stream",
     "text": [
      " 45.976851 seconds (377.84 M allocations: 13.765 GB, 3.15% gc time)\n"
     ]
    }
   ],
   "source": [
    "@time sumaalgunasB(BceroSuave, ConjuntoDeCoordenadasTotal, 1:2);"
   ]
  },
  {
   "cell_type": "code",
   "execution_count": 12,
   "metadata": {},
   "outputs": [
    {
     "name": "stdout",
     "output_type": "stream",
     "text": [
      " 93.382037 seconds (754.99 M allocations: 27.376 GB, 3.18% gc time)\n"
     ]
    },
    {
     "data": {
      "text/plain": [
       "4096x4096 Array{Float64,2}:\n",
       " 231.994   231.994   231.994   231.994   …  0.0  0.0  0.0  0.0  0.0  0.0  0.0\n",
       " 231.994   231.994   231.994   231.994      0.0  0.0  0.0  0.0  0.0  0.0  0.0\n",
       " 226.953   226.953   226.953   226.953      0.0  0.0  0.0  0.0  0.0  0.0  0.0\n",
       " 217.369   217.369   217.369   217.369      0.0  0.0  0.0  0.0  0.0  0.0  0.0\n",
       " 203.684   203.684   203.684   203.684      0.0  0.0  0.0  0.0  0.0  0.0  0.0\n",
       " 186.163   186.163   186.163   186.163   …  0.0  0.0  0.0  0.0  0.0  0.0  0.0\n",
       " 166.767   166.767   166.767   166.767      0.0  0.0  0.0  0.0  0.0  0.0  0.0\n",
       " 148.978   148.978   148.978   148.978      0.0  0.0  0.0  0.0  0.0  0.0  0.0\n",
       " 134.105   134.105   134.105   134.105      0.0  0.0  0.0  0.0  0.0  0.0  0.0\n",
       " 121.595   121.595   121.595   121.595      0.0  0.0  0.0  0.0  0.0  0.0  0.0\n",
       " 110.997   110.997   110.997   110.997   …  0.0  0.0  0.0  0.0  0.0  0.0  0.0\n",
       " 101.949   101.949   101.949   101.949      0.0  0.0  0.0  0.0  0.0  0.0  0.0\n",
       "  94.1634   94.1634   94.1634   94.1634     0.0  0.0  0.0  0.0  0.0  0.0  0.0\n",
       "   ⋮                                     ⋱       ⋮                        ⋮  \n",
       "  14.0984   14.0984   14.0984   14.0984     0.0  0.0  0.0  0.0  0.0  0.0  0.0\n",
       "  13.9893   13.9893   13.9893   13.9893  …  0.0  0.0  0.0  0.0  0.0  0.0  0.0\n",
       "  13.8806   13.8806   13.8806   13.8806     0.0  0.0  0.0  0.0  0.0  0.0  0.0\n",
       "  13.7724   13.7724   13.7724   13.7724     0.0  0.0  0.0  0.0  0.0  0.0  0.0\n",
       "  13.6647   13.6647   13.6647   13.6647     0.0  0.0  0.0  0.0  0.0  0.0  0.0\n",
       "  13.5577   13.5577   13.5577   13.5577     0.0  0.0  0.0  0.0  0.0  0.0  0.0\n",
       "  13.4513   13.4513   13.4513   13.4513  …  0.0  0.0  0.0  0.0  0.0  0.0  0.0\n",
       "  13.3456   13.3456   13.3456   13.3456     0.0  0.0  0.0  0.0  0.0  0.0  0.0\n",
       "  13.2405   13.2405   13.2405   13.2405     0.0  0.0  0.0  0.0  0.0  0.0  0.0\n",
       "  13.1362   13.1362   13.1362   13.1362     0.0  0.0  0.0  0.0  0.0  0.0  0.0\n",
       "  13.0326   13.0326   13.0326   13.0326     0.0  0.0  0.0  0.0  0.0  0.0  0.0\n",
       "  12.9298   12.9298   12.9298   12.9298  …  0.0  0.0  0.0  0.0  0.0  0.0  0.0"
      ]
     },
     "execution_count": 12,
     "metadata": {},
     "output_type": "execute_result"
    }
   ],
   "source": [
    "@time sumaalgunasByBtilde(BceroSuave,btildedura,ConjuntoDeCoordenadasTotal,1:2)"
   ]
  },
  {
   "cell_type": "code",
   "execution_count": 13,
   "metadata": {
    "collapsed": true
   },
   "outputs": [],
   "source": [
    "@everywhere function divideArray(lasX::Array)\n",
    "    #el proceso myid()==nprocs() va a ser el director de orquesta\n",
    "    procesos=nprocs()-1\n",
    "    largo=length(lasX)\n",
    "    idx=myid()\n",
    "    if idx==nprocs()\n",
    "        return 1:0\n",
    "    else\n",
    "        splits=[round(Int, s) for s in linspace(0,largo,procesos+1)]\n",
    "        return splits[idx]+1:splits[idx+1]\n",
    "    end\n",
    "end"
   ]
  },
  {
   "cell_type": "code",
   "execution_count": 14,
   "metadata": {
    "collapsed": true
   },
   "outputs": [],
   "source": [
    "@everywhere function obtenKParcial(LasB,lasX)\n",
    "    rangito=divideArray(lasX)\n",
    "    @show (rangito)\n",
    "    result= sumaalgunasB(LasB, lasX,rangito)\n",
    "    return result\n",
    "end\n",
    "\n",
    "@everywhere function obtenKtildeParcial(LasB,LasBTilde, lasX)\n",
    "    rangito=divideArray(lasX)\n",
    "    @show (rangito)\n",
    "    result= sumaalgunasByBtilde(LasB, LasBTilde, lasX,rangito)\n",
    "    return result\n",
    "end\n"
   ]
  },
  {
   "cell_type": "code",
   "execution_count": 15,
   "metadata": {},
   "outputs": [
    {
     "name": "stdout",
     "output_type": "stream",
     "text": [
      "rangito = 1:102\n",
      " 35.065591 seconds (294.96 M allocations: 10.788 GB, 3.43% gc time)\n"
     ]
    },
    {
     "data": {
      "text/plain": [
       "512x512 Array{Float64,2}:\n",
       "      3.01458e5       0.0        …      0.0            0.0      0.0\n",
       "      3.187e5         3.37529e5         0.0            0.0      0.0\n",
       "      3.33292e5       3.53665e5         0.0            0.0      0.0\n",
       "      3.44626e5       3.66413e5         0.0            0.0      0.0\n",
       "      3.52153e5       3.75155e5         0.0            0.0      0.0\n",
       "      3.55372e5       3.79333e5  …      0.0            0.0      0.0\n",
       "      3.54679e5       3.79288e5         0.0            0.0      0.0\n",
       "      3.51053e5       3.75961e5         0.0            0.0      0.0\n",
       "      3.45315e5  370171.0               0.0            0.0      0.0\n",
       "      3.38145e5  362625.0               0.0            0.0      0.0\n",
       " 330090.0             3.53926e5  …      0.0            0.0      0.0\n",
       "      3.2156e5        3.44563e5         0.0            0.0      0.0\n",
       "      3.12835e5       3.34903e5         0.0            0.0      0.0\n",
       "      ⋮                          ⋱                     ⋮           \n",
       "  87225.9         91498.1        …      0.0            0.0      0.0\n",
       "  85173.9         89341.4               0.0            0.0      0.0\n",
       "  83167.6         87234.5               0.0            0.0      0.0\n",
       "  81199.8         85169.8               0.0            0.0      0.0\n",
       "  79263.7         83140.2               0.0            0.0      0.0\n",
       "  77353.4         81139.6        …      0.0            0.0      0.0\n",
       "  75464.0         79162.7               0.0            0.0      0.0\n",
       "  73592.0         77206.1               0.0            0.0      0.0\n",
       "  71736.0         75268.0               0.0            0.0      0.0\n",
       "  69897.3         73349.6               1.02685e5      0.0      0.0\n",
       "  68080.0         71455.0        …  99290.2        96064.7      0.0\n",
       "  66291.7         69591.9           95611.8        92550.8  89202.7"
      ]
     },
     "execution_count": 15,
     "metadata": {},
     "output_type": "execute_result"
    }
   ],
   "source": [
    "LasXchiquitas=LasXNetas[1:25];\n",
    "@time  laKParcial=obtenKParcial(BceroDura,LasXchiquitas);"
   ]
  },
  {
   "cell_type": "code",
   "execution_count": 16,
   "metadata": {},
   "outputs": [
    {
     "name": "stdout",
     "output_type": "stream",
     "text": [
      "rangito = 1:102\n",
      " 71.026153 seconds (588.51 M allocations: 21.522 GB, 3.54% gc time)\n"
     ]
    },
    {
     "data": {
      "text/plain": [
       "512x512 Array{Float64,2}:\n",
       " 1761.77   1890.86   1987.9    …  151.116  141.206  131.541  122.155\n",
       " 1861.08   2000.81   2108.97      155.473  145.228  135.248  125.565\n",
       " 1943.22   2092.91   2212.33      160.042  149.446  139.134  129.139\n",
       " 2004.45   2163.01   2293.43      164.823  153.858  143.199  132.877\n",
       " 2041.27   2207.29   2348.06      169.815  158.465  147.443  136.779\n",
       " 2050.48   2222.2    2372.33   …  175.018  163.265  151.864  140.845\n",
       " 2035.08   2210.04   2367.74      180.443  168.27   156.475  145.084\n",
       " 2001.81   2177.42   2339.87      186.114  173.502  161.293  149.514\n",
       " 1955.79   2130.02   2294.34      192.051  178.98   166.338  154.152\n",
       " 1900.85   2072.22   2236.18      198.278  184.723  171.626  159.013\n",
       " 1839.91   2007.33   2169.29   …  204.813  190.75   177.176  164.114\n",
       " 1775.17   1937.89   2096.64      211.678  197.082  183.005  169.471\n",
       " 1708.33   1865.83   2020.52      218.895  203.736  189.131  175.101\n",
       "    ⋮                          ⋱                      ⋮             \n",
       "  329.486   358.917   387.097  …  577.804  546.443  514.253  481.669\n",
       "  321.416   350.096   377.527     582.618  551.87   520.078  487.702\n",
       "  313.714   341.678   368.397     585.48   555.5    524.257  492.233\n",
       "  306.356   333.636   359.676     586.111  557.046  526.503  494.981\n",
       "  299.32    325.948   351.339     584.247  556.232  526.536  495.666\n",
       "  292.586   318.589   343.362  …  579.664  552.811  524.093  494.021\n",
       "  286.135   311.541   335.723     572.196  546.587  518.959  489.815\n",
       "  279.95    304.785   328.401     561.762  537.445  510.989  482.886\n",
       "  274.017   298.303   321.378     548.402  525.385  500.151  473.173\n",
       "  268.321   292.082   314.638     532.303  510.557  486.56   460.762\n",
       "  262.849   286.106   308.165  …  513.817  493.281  470.503  445.906\n",
       "  257.592   280.365   301.947     493.46   474.049  452.445  429.04 "
      ]
     },
     "execution_count": 16,
     "metadata": {},
     "output_type": "execute_result"
    }
   ],
   "source": [
    "\n",
    "@time  laKParcial=obtenKtildeParcial(BceroDura, btildesuave,LasXchiquitas)"
   ]
  },
  {
   "cell_type": "code",
   "execution_count": 26,
   "metadata": {},
   "outputs": [
    {
     "data": {
      "text/plain": [
       "KtildeenTrozos (generic function with 1 method)"
      ]
     },
     "execution_count": 26,
     "metadata": {},
     "output_type": "execute_result"
    }
   ],
   "source": [
    "function sacalaKenTrozos(LasB::Array, lasX::Array)\n",
    "    largo=length(lasX)\n",
    "    cachos=nprocs()\n",
    "    aux=SharedArray(Float64,(largo,largo,cachos))\n",
    "     @sync begin\n",
    "        for p in procs()\n",
    "            @async  aux[:,:,p]=remotecall_fetch(p, obtenKParcial, LasB, lasX)\n",
    "        end\n",
    "        end #cierra el syncbegin\n",
    "    result=zeros(largo,largo)\n",
    "    result=sum(aux,3)\n",
    "    return result\n",
    "    #return result\n",
    "end\n",
    "\n",
    "function KtildeenTrozos(LasB::Array, LasBtilde::Array, lasX::Array)\n",
    "    largo=length(lasX)\n",
    "    cachos=nprocs()\n",
    "    aux=SharedArray(Float64,(largo,largo,cachos))\n",
    "     @sync begin\n",
    "        for p in procs()\n",
    "            @async  aux[:,:,p]=remotecall_fetch(p, obtenKtildeParcial, LasB, LasBtilde, lasX)\n",
    "        end\n",
    "        end #cierra el syncbegin\n",
    "    result=zeros(largo,largo)\n",
    "    result=sum(aux,3)\n",
    "    return result\n",
    "    #return result\n",
    "end"
   ]
  },
  {
   "cell_type": "code",
   "execution_count": 27,
   "metadata": {},
   "outputs": [
    {
     "name": "stdout",
     "output_type": "stream",
     "text": [
      "rangito = 1:115\n",
      "\tFrom worker 2:\trangito = 116:230\n",
      "\tFrom worker 3:\trangito = 231:346\n",
      "\tFrom worker 4:\trangito = 347:461\n",
      "\tFrom worker 5:\trangito = 462:576\n",
      "\tFrom worker 6:\trangito = 1:0\n",
      " 68.638064 seconds (420.62 M allocations: 15.402 GB, 3.30% gc time)\n"
     ]
    }
   ],
   "source": [
    "@time K3R7=sacalaKenTrozos(BceroDura,LasXNetas);"
   ]
  },
  {
   "cell_type": "code",
   "execution_count": 28,
   "metadata": {},
   "outputs": [
    {
     "name": "stdout",
     "output_type": "stream",
     "text": [
      "rangito = 1:115\n",
      "\tFrom worker 2:\trangito = 116:230\n",
      "\tFrom worker 3:\trangito = 231:346\n",
      "\tFrom worker 4:\trangito = 347:461\n",
      "\tFrom worker 5:\trangito = 462:576\n",
      "\tFrom worker 6:\trangito = 1:0\n",
      "209.953541 seconds (839.75 M allocations: 30.730 GB, 1.82% gc time)\n"
     ]
    }
   ],
   "source": [
    "@time KTilde3R7=KtildeenTrozos(BceroDura,btildedura, LasXNetas);"
   ]
  },
  {
   "cell_type": "code",
   "execution_count": 29,
   "metadata": {
    "collapsed": true
   },
   "outputs": [],
   "source": [
    "longus=size(K3R7,1)\n",
    "K3R7=reshape(K3R7,longus,longus)\n",
    "KTilde3R7=reshape(KTilde3R7,longus,longus)\n",
    "K3R7=K3R7+transpose(K3R7)\n",
    "\n",
    "for j=1:longus\n",
    "    K3R7[j,j]=K3R7[j,j]/2\n",
    "end\n",
    "writedlm(\"KDura3R7-radio_5.dat\",K3R7)\n",
    "writedlm(\"KTildeDura3R7-radio_5.dat\",KTilde3R7)\n",
    "\n"
   ]
  },
  {
   "cell_type": "code",
   "execution_count": null,
   "metadata": {
    "collapsed": true
   },
   "outputs": [],
   "source": [
    "@everywhere function obtenerKernelParalell(LasB::Array, lasX::Array, jmax::Int)\n",
    "    result=SharedArray(Float64,(jmax,jmax))\n",
    "    @sync @parallel for j=1:jmax\n",
    "      xj=lasX[j]\n",
    "         for k=1:jmax\n",
    "            xk=lasX[k]\n",
    "            aux=0\n",
    "          for l=1:jmax\n",
    "                xl=lasX[l]\n",
    "                aux = LasB[(xk-xl+xconstante)...]*LasB[(xj-xl+xconstante)...]\n",
    "          end\n",
    "            result[j,k]=aux\n",
    "  #  println(\"hola loco \", KdurasParalel[j,k])\n",
    "        end\n",
    "    end\n",
    "    result=Array(result)\n",
    "    return result\n",
    "end\n",
    "\n",
    "@everywhere function obtenerKtildeParalell(LasB::Array,LasBTilde::Array, lasX::Array, jmax::Int)\n",
    "    result=SharedArray(Float64,(jmax,jmax))\n",
    "    @sync @parallel for j=1:jmax\n",
    "        xj=lasX[j]\n",
    "         for k=1:jmax\n",
    "            xk=lasX[k]\n",
    "         for l=1:jmax\n",
    "                xl=lasX[l]\n",
    "                result[j,k]=200\n",
    "                unax=xk-xl+xconstante\n",
    "                unay=xj-xl+xconstante\n",
    "                if(LasBTilde[unax...]!=0.0)\n",
    "                    println(\"hola tu\")\n",
    "                    \n",
    "                #result[j,k]+= LasB[(xj-xl+xconstante)...]*LasBTilde[(xk-xl+xconstante)...]\n",
    "                end\n",
    "        end\n",
    "  #  println(\"hola loco \", KdurasParalel[j,k])\n",
    "        end\n",
    "    end \n",
    "    return result\n",
    "end\n",
    "    "
   ]
  },
  {
   "cell_type": "code",
   "execution_count": null,
   "metadata": {
    "collapsed": true
   },
   "outputs": [],
   "source": []
  }
 ],
 "metadata": {
  "kernelspec": {
   "display_name": "Julia 1.0.3",
   "language": "julia",
   "name": "julia-1.0"
  },
  "language_info": {
   "file_extension": ".jl",
   "mimetype": "application/julia",
   "name": "julia",
   "version": "1.0.3"
  }
 },
 "nbformat": 4,
 "nbformat_minor": 1
}
