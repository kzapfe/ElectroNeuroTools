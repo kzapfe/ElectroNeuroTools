{
 "cells": [
  {
   "cell_type": "markdown",
   "metadata": {},
   "source": [
    "# Kernel CSDA\n",
    "\n",
    "Siguendo a Potworosky et al, vamos a implementar el kCSDA aquí y tratar de hacer que funcione bien.\n"
   ]
  },
  {
   "cell_type": "markdown",
   "metadata": {
    "collapsed": true
   },
   "source": [
    "### Problema 1 a) Calcular $b_j (x_k)$\n",
    "\n",
    "Usa tu cabeza chico: en realidad sólo necesitas una TABLOTA de los valores de la integral resuelta, de forma que cubra toda la matriz para cualquier $x_k$ válido que escogas, lo que haría que *\"solo\"* tuvieras que resolver los valores para una malla de $129·129$ puntos o algo asi: pero tienes simetría rotacional respecto al centro $j$-\n",
    "ésimo, así que en realidad puedes reducir esto bastante: calculemos esto en una rebanada de un octavo de cuadrado (un cuadrante de la matriz reducido a la mitad). Para \"ahorrarme\" trabajo después copiare los resultados en todos los octantes y guardare la tabla como una matrizota."
   ]
  },
  {
   "cell_type": "code",
   "execution_count": 54,
   "metadata": {
    "collapsed": false
   },
   "outputs": [
    {
     "data": {
      "text/plain": [
       "0.0001"
      ]
     },
     "execution_count": 54,
     "metadata": {},
     "output_type": "execute_result"
    }
   ],
   "source": [
    "#Constantes\n",
    "#Las unidades de distancia estan en unidades de distancia inter electrodos:  \n",
    "#1 u.a.=42 µm\n",
    "sigma=1.0\n",
    "h=8+1/3  #350/42\n",
    "radio=5.0  #Las primeras pruebas las hiciste con radio=5. Quedaron demasiado suaves... borraste info.\n",
    "toldura=0.0001 #menos de eso y por alguna razón se chinga la integral en (x,y)=(1,3)"
   ]
  },
  {
   "cell_type": "code",
   "execution_count": null,
   "metadata": {
    "collapsed": true
   },
   "outputs": [],
   "source": []
  },
  {
   "cell_type": "markdown",
   "metadata": {},
   "source": [
    "Pero antes... quiero ver como se VE la función que voy a integrar."
   ]
  },
  {
   "cell_type": "code",
   "execution_count": 1,
   "metadata": {
    "collapsed": true
   },
   "outputs": [],
   "source": [
    "using PyPlot"
   ]
  },
  {
   "cell_type": "code",
   "execution_count": null,
   "metadata": {
    "collapsed": false
   },
   "outputs": [],
   "source": [
    "function duro(x::Number)\n",
    "    if abs(x)<radio\n",
    "        return 1.0\n",
    "    else\n",
    "        return 0\n",
    "    end\n",
    "end\n",
    "\n",
    "\n",
    "function suave(x::Number)\n",
    "    result=exp(-x^2/(2*radio))\n",
    "    return result\n",
    "end\n",
    "\n",
    "function bkerneldura(x::Number)\n",
    "    xcero=1\n",
    "        result=asinh(h/sqrt((x-xcero)^2))*duro(x)\n",
    "    return result\n",
    "end\n",
    "\n",
    "function bkernelsuave(x::Number)\n",
    "    xcero=1\n",
    "    result=asinh(h/sqrt((x-xcero)^2))*suave(x)\n",
    "    return result\n",
    "end\n",
    "\n"
   ]
  },
  {
   "cell_type": "code",
   "execution_count": 4,
   "metadata": {
    "collapsed": false
   },
   "outputs": [
    {
     "ename": "LoadError",
     "evalue": "LoadError: UndefVarError: bkerneldura not defined\nwhile loading In[4], in expression starting on line 2",
     "output_type": "error",
     "traceback": [
      "LoadError: UndefVarError: bkerneldura not defined\nwhile loading In[4], in expression starting on line 2",
      ""
     ]
    }
   ],
   "source": [
    "xxs=-10:0.02:10\n",
    "yys=map(bkerneldura,xxs);\n",
    "otrayys=map(bkernelsuave,xxs);"
   ]
  },
  {
   "cell_type": "code",
   "execution_count": null,
   "metadata": {
    "collapsed": false
   },
   "outputs": [],
   "source": [
    "grid(true)\n",
    "plot(xxs,yys,c=\"blue\")\n",
    "plot(xxs,otrayys,c=\"red\")\n"
   ]
  },
  {
   "cell_type": "markdown",
   "metadata": {},
   "source": [
    "Bien. Parece que los dos se parecen mucho cerca de la singularidad, y que no hay nada que ver después de 2 distancias de R, en la imagen de arriba tenemos que R=2, xcero=1, h=1. "
   ]
  },
  {
   "cell_type": "code",
   "execution_count": 5,
   "metadata": {
    "collapsed": false
   },
   "outputs": [
    {
     "data": {
      "text/plain": [
       "distancia2d (generic function with 2 methods)"
      ]
     },
     "execution_count": 5,
     "metadata": {},
     "output_type": "execute_result"
    }
   ],
   "source": [
    "function distancia2d(x1::Number,y1::Number,x2::Number,y2::Number)\n",
    "    result=sqrt((x1-x2)^2+(y1-y2)^2)\n",
    "    return result\n",
    "end\n",
    "\n",
    "function distancia2d(x1::Array,x2::Array)\n",
    "    result=distancia2d(x1[1],x1[2],x2[1],x2[2])\n",
    "    return result\n",
    "end"
   ]
  },
  {
   "cell_type": "code",
   "execution_count": null,
   "metadata": {
    "collapsed": false
   },
   "outputs": [],
   "source": [
    "a=[1.0,2.0]\n",
    "\n",
    "b=[0.0,0.0]"
   ]
  },
  {
   "cell_type": "code",
   "execution_count": null,
   "metadata": {
    "collapsed": false
   },
   "outputs": [],
   "source": [
    "distancia2d(0.1,2,0.7,0.1)"
   ]
  },
  {
   "cell_type": "code",
   "execution_count": null,
   "metadata": {
    "collapsed": false
   },
   "outputs": [],
   "source": [
    "distancia2d(a,b)"
   ]
  },
  {
   "cell_type": "code",
   "execution_count": 6,
   "metadata": {
    "collapsed": false
   },
   "outputs": [
    {
     "data": {
      "text/plain": [
       "bKernelSuave2D (generic function with 1 method)"
      ]
     },
     "execution_count": 6,
     "metadata": {},
     "output_type": "execute_result"
    }
   ],
   "source": [
    "function duro2D(x1::Number,y1::Number)\n",
    "    if distancia2d(x1,y1,0,0)<=radio\n",
    "        return 1.0\n",
    "    else\n",
    "        return 0\n",
    "    end\n",
    "end\n",
    "    \n",
    "function suave2D(x1::Number,y1::Number)\n",
    "    result=exp(-distancia2d(x1,y1,0,0)/(2*radio))\n",
    "    return result\n",
    "end\n",
    "   \n",
    "\n",
    "function bKernelDuro2D(x1::Number,y1::Number, x2::Number,y2::Number)\n",
    "    #=\n",
    "    Acuerdate: Estos estan centrados en el origen, despues los vamos trasla<dando \n",
    "    sea necesario \n",
    "    =#\n",
    "    dist=distancia2d(x1,y1,x2,y2)\n",
    "    result=asinh(h/dist)*duro2D(x2,y2)\n",
    "    return result\n",
    "end\n",
    "\n",
    "function bKernelSuave2D(x1::Number,y1::Number, x2::Number,y2::Number)\n",
    "    #=\n",
    "    Acuerdate: Estos estan centrados en el origen, despues los vamos trasla<dando \n",
    "    sea necesario \n",
    "    =#\n",
    "    dist=distancia2d(x1,y1,x2,y2)\n",
    "    result=asinh(h/dist)*suave2D(x2,y2)\n",
    "    return result\n",
    "end\n"
   ]
  },
  {
   "cell_type": "code",
   "execution_count": 9,
   "metadata": {
    "collapsed": false
   },
   "outputs": [
    {
     "data": {
      "text/plain": [
       "2-element Array{Float64,1}:\n",
       " 13.0\n",
       " 15.0"
      ]
     },
     "execution_count": 9,
     "metadata": {},
     "output_type": "execute_result"
    }
   ],
   "source": [
    "xefecto=[1.0,0.50]\n",
    "xobservador=[13.0,15.0]"
   ]
  },
  {
   "cell_type": "code",
   "execution_count": 7,
   "metadata": {
    "collapsed": false
   },
   "outputs": [
    {
     "data": {
      "text/plain": [
       "-63:63"
      ]
     },
     "execution_count": 7,
     "metadata": {},
     "output_type": "execute_result"
    }
   ],
   "source": [
    "xxs=-63:63\n",
    "yys=-63:63"
   ]
  },
  {
   "cell_type": "code",
   "execution_count": 10,
   "metadata": {
    "collapsed": false
   },
   "outputs": [],
   "source": [
    "matrizevaluacionobservadores=zeros(127,127);\n",
    "matrizevaluacioncausantesres=zeros(127,127);\n",
    "btildesuavecero=zeros(127,127)\n",
    "btildeduracero=zeros(127,127) \n",
    "for j in 1:127, k in 1:127\n",
    "    x=xxs[j]\n",
    "    y=yys[k]\n",
    "    zz1=bKernelDuro2D(x,y, xefecto[2],xefecto[1])\n",
    "    matrizevaluacionobservadores[k,j]=zz1\n",
    "    zz2=bKernelDuro2D(xobservador[1],xobservador[2],x,y)\n",
    "    matrizevaluacioncausantesres[k,j]=zz2   \n",
    "    btildesuavecero[k,j]=suave2D(x,y)\n",
    "    btildeduracero[k,j]=duro2D(x,y)\n",
    "end"
   ]
  },
  {
   "cell_type": "code",
   "execution_count": 7,
   "metadata": {
    "collapsed": true
   },
   "outputs": [],
   "source": [
    "writedlm(\"BtildeSuaveCero_radio_$radio.dat\",btildesuavecero)\n",
    "writedlm(\"BtildeDuraCero_radio_$radio.dat\",btildeduracero)"
   ]
  },
  {
   "cell_type": "code",
   "execution_count": 11,
   "metadata": {
    "collapsed": false
   },
   "outputs": [
    {
     "data": {
      "text/plain": [
       "13x13 Array{Float64,2}:\n",
       " 0.0  0.0  0.0  0.0  0.0  0.0  0.0  0.0  0.0  0.0  0.0  0.0  0.0\n",
       " 0.0  0.0  0.0  0.0  0.0  0.0  1.0  0.0  0.0  0.0  0.0  0.0  0.0\n",
       " 0.0  0.0  0.0  1.0  1.0  1.0  1.0  1.0  1.0  1.0  0.0  0.0  0.0\n",
       " 0.0  0.0  1.0  1.0  1.0  1.0  1.0  1.0  1.0  1.0  1.0  0.0  0.0\n",
       " 0.0  0.0  1.0  1.0  1.0  1.0  1.0  1.0  1.0  1.0  1.0  0.0  0.0\n",
       " 0.0  0.0  1.0  1.0  1.0  1.0  1.0  1.0  1.0  1.0  1.0  0.0  0.0\n",
       " 0.0  1.0  1.0  1.0  1.0  1.0  1.0  1.0  1.0  1.0  1.0  1.0  0.0\n",
       " 0.0  0.0  1.0  1.0  1.0  1.0  1.0  1.0  1.0  1.0  1.0  0.0  0.0\n",
       " 0.0  0.0  1.0  1.0  1.0  1.0  1.0  1.0  1.0  1.0  1.0  0.0  0.0\n",
       " 0.0  0.0  1.0  1.0  1.0  1.0  1.0  1.0  1.0  1.0  1.0  0.0  0.0\n",
       " 0.0  0.0  0.0  1.0  1.0  1.0  1.0  1.0  1.0  1.0  0.0  0.0  0.0\n",
       " 0.0  0.0  0.0  0.0  0.0  0.0  1.0  0.0  0.0  0.0  0.0  0.0  0.0\n",
       " 0.0  0.0  0.0  0.0  0.0  0.0  0.0  0.0  0.0  0.0  0.0  0.0  0.0"
      ]
     },
     "execution_count": 11,
     "metadata": {},
     "output_type": "execute_result"
    }
   ],
   "source": [
    "btildeduracero[58:70,58:70]"
   ]
  },
  {
   "cell_type": "code",
   "execution_count": null,
   "metadata": {
    "collapsed": false
   },
   "outputs": [],
   "source": [
    "ion()\n",
    "xlim(-64,64)\n",
    "ylim(-64,64)\n",
    "zlimitemax=4\n",
    "zlimitemin=0\n",
    "grid(true)\n",
    "figuru=imshow(btildeduracero, origin=\"lower\",extent=[-63,63,-63,63], \n",
    "interpolation=\"none\", cmap=\"viridis\")\n",
    "cb=colorbar(figuru)"
   ]
  },
  {
   "cell_type": "code",
   "execution_count": null,
   "metadata": {
    "collapsed": false
   },
   "outputs": [],
   "source": [
    "xlim(-10,10)\n",
    "ylim(-10,10)\n",
    "zlimitemax=4\n",
    "zlimitemin=0\n",
    "grid(true)\n",
    "figuru=imshow(matrizevaluacioncausantesres, origin=\"lower\",extent=[-63,63,-63,63], \n",
    "interpolation=\"none\", cmap=\"viridis\")\n",
    "cb=colorbar(figuru)"
   ]
  },
  {
   "cell_type": "code",
   "execution_count": null,
   "metadata": {
    "collapsed": false
   },
   "outputs": [],
   "source": [
    "matrizevaluacioncausantesres[1,1]"
   ]
  },
  {
   "cell_type": "markdown",
   "metadata": {},
   "source": [
    "Bueno, hasta aquí parece que vamos bien: Ahora fijamos las $x$ del Observador e integremos la chiva respecto a las fuentes."
   ]
  },
  {
   "cell_type": "code",
   "execution_count": 33,
   "metadata": {
    "collapsed": false
   },
   "outputs": [],
   "source": [
    "using Cubature"
   ]
  },
  {
   "cell_type": "code",
   "execution_count": 55,
   "metadata": {
    "collapsed": false
   },
   "outputs": [
    {
     "name": "stdout",
     "output_type": "stream",
     "text": [
      "  0.582739 seconds (9.35 M allocations: 173.240 MB, 2.68% gc time)\n"
     ]
    },
    {
     "data": {
      "text/plain": [
       "(32.282808674696675,0.0032282323333610668)"
      ]
     },
     "execution_count": 55,
     "metadata": {},
     "output_type": "execute_result"
    }
   ],
   "source": [
    "#En este caso el soporte de la integral esta contenido en una bola en \n",
    "@time hcubature(x ->\n",
    "    bKernelDuro2D(xobservador[1]+0.001,xobservador[2]+0.001, x[1],x[2]),\n",
    "[-radio,-radio],[radio,radio],reltol=toldura)"
   ]
  },
  {
   "cell_type": "code",
   "execution_count": 61,
   "metadata": {
    "collapsed": false
   },
   "outputs": [
    {
     "name": "stdout",
     "output_type": "stream",
     "text": [
      "  0.934137 seconds (11.34 M allocations: 225.013 MB, 2.36% gc time)\n"
     ]
    },
    {
     "data": {
      "text/plain": [
       "(123.55176109231626,0.006177222597403406)"
      ]
     },
     "execution_count": 61,
     "metadata": {},
     "output_type": "execute_result"
    }
   ],
   "source": [
    "@time hcubature(x ->\n",
    "bKernelDuro2D(xxs[63],yys[61], x[1],x[2]),\n",
    "[-radio,-radio],[radio,radio],reltol=0.00005)"
   ]
  },
  {
   "cell_type": "code",
   "execution_count": 60,
   "metadata": {
    "collapsed": false
   },
   "outputs": [
    {
     "data": {
      "text/plain": [
       "17.066666666666666"
      ]
     },
     "execution_count": 60,
     "metadata": {},
     "output_type": "execute_result"
    }
   ],
   "source": [
    "64*32*0.5/60"
   ]
  },
  {
   "cell_type": "code",
   "execution_count": 63,
   "metadata": {
    "collapsed": false
   },
   "outputs": [
    {
     "name": "stdout",
     "output_type": "stream",
     "text": [
      "  0.011261 seconds (136.76 k allocations: 2.458 MB)\n"
     ]
    },
    {
     "data": {
      "text/plain": [
       "(247.21920159030586,0.002442878308639903)"
      ]
     },
     "execution_count": 63,
     "metadata": {},
     "output_type": "execute_result"
    }
   ],
   "source": [
    "limint=22*radio #Suficiente: nada se ve mucho mas lejos que esto (depende de h)\n",
    "\n",
    "@time (chula,errir)=hcubature(x ->\n",
    "bKernelSuave2D(xobservador[1]+0.001,xobservador[2]+0.001, x[1],x[2]),\n",
    "[-limint,-limint],[limint,limint],reltol=0.00001)"
   ]
  },
  {
   "cell_type": "code",
   "execution_count": 13,
   "metadata": {
    "collapsed": false
   },
   "outputs": [
    {
     "name": "stdout",
     "output_type": "stream",
     "text": [
      "  0.008229 seconds (114.32 k allocations: 2.149 MB)\n"
     ]
    },
    {
     "data": {
      "text/plain": [
       "(393.1051131897264,0.0038945993348382594)"
      ]
     },
     "execution_count": 13,
     "metadata": {},
     "output_type": "execute_result"
    }
   ],
   "source": [
    "@time (chula,errir)=hcubature(x ->\n",
    "bKernelSuave2D(0.00001,0.00001, x[1],x[2]),\n",
    "[-limint,-limint],[limint,limint],reltol=0.00001)"
   ]
  },
  {
   "cell_type": "code",
   "execution_count": 14,
   "metadata": {
    "collapsed": false
   },
   "outputs": [],
   "source": [
    "bcerodura=zeros(127,127)\n",
    "bcerosuave=zeros(127,127);"
   ]
  },
  {
   "cell_type": "code",
   "execution_count": 15,
   "metadata": {
    "collapsed": false
   },
   "outputs": [
    {
     "name": "stdout",
     "output_type": "stream",
     "text": [
      " 99.829115 seconds (1.38 G allocations: 26.654 GB, 1.92% gc time)\n"
     ]
    }
   ],
   "source": [
    "#Evaluemos solo la parte de medio cuadrante superior de la matriz. \n",
    "#El resto lo obtenemos por reflecciones.\n",
    "#Por convenciencia, evaluemos la matriz completa sobre -64:64^2\n",
    "# El \"origen\" de la Matriz está en en [64,64]\n",
    "#Por alguna razón el kernel de bordes duros es MUCHO mas lento de evaluar\n",
    "#que el gaussiano.\n",
    "deltita=0\n",
    "\n",
    "@time for j in 64:127, k in 64:j\n",
    "\n",
    "    (zz1,pupu)=hcubature(x ->\n",
    "    bKernelDuro2D(xxs[j]+deltita,yys[k]+deltita, x[1],x[2]),\n",
    "    [-radio,-radio],[radio,radio],reltol=toldura)\n",
    "    bcerodura[k,j]=zz1\n",
    "\n",
    "    (zz2,pupu)=hcubature(x ->\n",
    "    bKernelSuave2D(xxs[j]+deltita,yys[k]+deltita, x[1],x[2]),\n",
    "    [-limint,-limint],[limint,limint],reltol=0.00001)\n",
    "    bcerosuave[k,j]=zz2\n",
    "\n",
    "end"
   ]
  },
  {
   "cell_type": "code",
   "execution_count": 24,
   "metadata": {
    "collapsed": false
   },
   "outputs": [
    {
     "data": {
      "text/plain": [
       "(116.65587463286872,0.0011544053914483206)"
      ]
     },
     "execution_count": 24,
     "metadata": {},
     "output_type": "execute_result"
    }
   ],
   "source": [
    "j=64\n",
    "k=64\n",
    "deltita=0.0000001\n",
    "(bcerodura[k,j], pupu)=hcubature(x ->\n",
    "bKernelDuro2D(xxs[j]+deltita,yys[k]+deltita, x[1],x[2]),\n",
    "[-radio,-radio],[radio,radio],reltol=0.001)\n",
    "\n",
    "(bcerosuave[k,j],pupu)=hcubature(x ->\n",
    "    bKernelSuave2D(xxs[j]+deltita,yys[k]+deltita, x[1],x[2]),\n",
    "[-limint,-limint],[limint,limint],reltol=0.00001)"
   ]
  },
  {
   "cell_type": "code",
   "execution_count": 28,
   "metadata": {
    "collapsed": false
   },
   "outputs": [],
   "source": [
    "for j in 64:127, k in 64:j\n",
    "    bcerodura[j,k]=bcerodura[k,j]\n",
    "    bcerosuave[j,k]=bcerosuave[k,j]\n",
    "end"
   ]
  },
  {
   "cell_type": "code",
   "execution_count": 29,
   "metadata": {
    "collapsed": false
   },
   "outputs": [],
   "source": [
    "for j in 64:127, k in 64:127\n",
    "    bcerodura[127-k+1,127-j+1]=bcerodura[k,j]\n",
    "    bcerodura[127-k+1,j]=bcerodura[k,j]\n",
    "    bcerodura[k,127-j+1]=bcerodura[k,j]\n",
    "    \n",
    "    bcerosuave[127-k+1,127-j+1]=bcerosuave[k,j]\n",
    "    bcerosuave[127-k+1,j]=bcerosuave[k,j]\n",
    "    bcerosuave[k,127-j+1]=bcerosuave[k,j]\n",
    "end"
   ]
  },
  {
   "cell_type": "code",
   "execution_count": 25,
   "metadata": {
    "collapsed": false
   },
   "outputs": [
    {
     "data": {
      "text/plain": [
       "116.65587463286872"
      ]
     },
     "execution_count": 25,
     "metadata": {},
     "output_type": "execute_result"
    }
   ],
   "source": [
    "bcerosuave[64,64]"
   ]
  },
  {
   "cell_type": "code",
   "execution_count": null,
   "metadata": {
    "collapsed": false
   },
   "outputs": [],
   "source": [
    "xlim(-64,64)\n",
    "ylim(-64,64)\n",
    "zlimitemax=4\n",
    "zlimitemin=0\n",
    "grid(true)\n",
    "figuru=imshow(bcerodura,origin=\"lower\",extent=[-63,63,-63,63], \n",
    "interpolation=\"none\", cmap=\"viridis\")\n",
    "cb=colorbar(figuru)"
   ]
  },
  {
   "cell_type": "code",
   "execution_count": 30,
   "metadata": {
    "collapsed": false
   },
   "outputs": [
    {
     "data": {
      "text/plain": [
       "127x127 Array{Float64,2}:\n",
       " 6.4394   6.49061  6.54221  6.59419  …  6.59419  6.54221  6.49061  6.4394 \n",
       " 6.49061  6.54306  6.59593  6.64921     6.64921  6.59593  6.54306  6.49061\n",
       " 6.54221  6.59593  6.6501   6.70471     6.70471  6.6501   6.59593  6.54221\n",
       " 6.59419  6.64921  6.70471  6.7607      6.7607   6.70471  6.64921  6.59419\n",
       " 6.64653  6.70289  6.75976  6.81714     6.81714  6.75976  6.70289  6.64653\n",
       " 6.69924  6.75695  6.81522  6.87405  …  6.87405  6.81522  6.75695  6.69924\n",
       " 6.75228  6.81139  6.87109  6.93139     6.93139  6.87109  6.81139  6.75228\n",
       " 6.80565  6.86618  6.92735  6.98915     6.98915  6.92735  6.86618  6.80565\n",
       " 6.85932  6.92131  6.98398  7.04732     7.04732  6.98398  6.92131  6.85932\n",
       " 6.91328  6.97676  7.04096  7.10588     7.10588  7.04096  6.97676  6.91328\n",
       " 6.96751  7.03251  7.09828  7.16481  …  7.16481  7.09828  7.03251  6.96751\n",
       " 7.02199  7.08854  7.15591  7.22409     7.22409  7.15591  7.08854  7.02199\n",
       " 7.07669  7.14482  7.21382  7.28369     7.28369  7.21382  7.14482  7.07669\n",
       " ⋮                                   ⋱                    ⋮               \n",
       " 7.02199  7.08854  7.15591  7.22409  …  7.22409  7.15591  7.08854  7.02199\n",
       " 6.96751  7.03251  7.09828  7.16481     7.16481  7.09828  7.03251  6.96751\n",
       " 6.91328  6.97676  7.04096  7.10588     7.10588  7.04096  6.97676  6.91328\n",
       " 6.85932  6.92131  6.98398  7.04732     7.04732  6.98398  6.92131  6.85932\n",
       " 6.80565  6.86618  6.92735  6.98915     6.98915  6.92735  6.86618  6.80565\n",
       " 6.75228  6.81139  6.87109  6.93139  …  6.93139  6.87109  6.81139  6.75228\n",
       " 6.69924  6.75695  6.81522  6.87405     6.87405  6.81522  6.75695  6.69924\n",
       " 6.64653  6.70289  6.75976  6.81714     6.81714  6.75976  6.70289  6.64653\n",
       " 6.59419  6.64921  6.70471  6.7607      6.7607   6.70471  6.64921  6.59419\n",
       " 6.54221  6.59593  6.6501   6.70471     6.70471  6.6501   6.59593  6.54221\n",
       " 6.49061  6.54306  6.59593  6.64921  …  6.64921  6.59593  6.54306  6.49061\n",
       " 6.4394   6.49061  6.54221  6.59419     6.59419  6.54221  6.49061  6.4394 "
      ]
     },
     "execution_count": 30,
     "metadata": {},
     "output_type": "execute_result"
    }
   ],
   "source": [
    "bcerosuave"
   ]
  },
  {
   "cell_type": "code",
   "execution_count": 32,
   "metadata": {
    "collapsed": true
   },
   "outputs": [],
   "source": [
    "writedlm(\"BceroDura-r-$radio.dat\", bcerodura)\n",
    "writedlm(\"BceroSuave-r-$radio.dat\", bcerosuave)"
   ]
  },
  {
   "cell_type": "code",
   "execution_count": 16,
   "metadata": {
    "collapsed": false
   },
   "outputs": [
    {
     "data": {
      "text/plain": [
       "127x127 Array{Float64,2}:\n",
       " 7.33932  7.39762  7.45634  7.51557  …  7.51557  7.45634  7.39762  7.33932\n",
       " 7.39762  7.45744  7.51763  7.57827     7.57827  7.51763  7.45744  7.39762\n",
       " 7.45634  7.51763  7.57942  7.6416      7.6416   7.57942  7.51763  7.45634\n",
       " 7.51557  7.57827  7.6416   7.70545     7.70545  7.6416   7.57827  7.51557\n",
       " 7.57522  7.63943  7.70425  7.76972     7.76972  7.70425  7.63943  7.57522\n",
       " 7.63524  7.70101  7.76741  7.83447  …  7.83447  7.76741  7.70101  7.63524\n",
       " 7.69569  7.76304  7.83107  7.89978     7.89978  7.83107  7.76304  7.69569\n",
       " 7.7565   7.82548  7.89518  7.9656      7.9656   7.89518  7.82548  7.7565 \n",
       " 7.81766  7.8883   7.95971  8.03188     8.03188  7.95971  7.8883   7.81766\n",
       " 7.87915  7.95148  8.02464  8.09861     8.09861  8.02464  7.95148  7.87915\n",
       " 7.94094  8.01501  8.08995  8.16576  …  8.16576  8.08995  8.01501  7.94094\n",
       " 8.00302  8.07885  8.15561  8.2333      8.2333   8.15561  8.07885  8.00302\n",
       " 8.06535  8.14298  8.2216   8.30121     8.30121  8.2216   8.14298  8.06535\n",
       " ⋮                                   ⋱                    ⋮               \n",
       " 8.00302  8.07885  8.15561  8.2333   …  8.2333   8.15561  8.07885  8.00302\n",
       " 7.94094  8.01501  8.08995  8.16576     8.16576  8.08995  8.01501  7.94094\n",
       " 7.87915  7.95148  8.02464  8.09861     8.09861  8.02464  7.95148  7.87915\n",
       " 7.81766  7.8883   7.95971  8.03188     8.03188  7.95971  7.8883   7.81766\n",
       " 7.7565   7.82548  7.89518  7.9656      7.9656   7.89518  7.82548  7.7565 \n",
       " 7.69569  7.76304  7.83107  7.89978  …  7.89978  7.83107  7.76304  7.69569\n",
       " 7.63524  7.70101  7.76741  7.83447     7.83447  7.76741  7.70101  7.63524\n",
       " 7.57522  7.63943  7.70425  7.76972     7.76972  7.70425  7.63943  7.57522\n",
       " 7.51557  7.57827  7.6416   7.70545     7.70545  7.6416   7.57827  7.51557\n",
       " 7.45634  7.51763  7.57942  7.6416      7.6416   7.57942  7.51763  7.45634\n",
       " 7.39762  7.45744  7.51763  7.57827  …  7.57827  7.51763  7.45744  7.39762\n",
       " 7.33932  7.39762  7.45634  7.51557     7.51557  7.45634  7.39762  7.33932"
      ]
     },
     "execution_count": 16,
     "metadata": {},
     "output_type": "execute_result"
    }
   ],
   "source": [
    "bli=readdlm(\"/home/karel/Downloads/BceroDura\\ (1).dat\")\n",
    "blu=readdlm(\"BceroDura-r-5.0.dat\")"
   ]
  },
  {
   "cell_type": "code",
   "execution_count": 27,
   "metadata": {
    "collapsed": false
   },
   "outputs": [
    {
     "data": {
      "text/plain": [
       "-19.867997321138986"
      ]
     },
     "execution_count": 27,
     "metadata": {},
     "output_type": "execute_result"
    }
   ],
   "source": [
    "a=bli-blu;\n",
    "a[61,63]"
   ]
  },
  {
   "cell_type": "code",
   "execution_count": 28,
   "metadata": {
    "collapsed": false
   },
   "outputs": [
    {
     "data": {
      "text/plain": [
       "123.54784400809176"
      ]
     },
     "execution_count": 28,
     "metadata": {},
     "output_type": "execute_result"
    }
   ],
   "source": [
    "bli[61,63]"
   ]
  },
  {
   "cell_type": "code",
   "execution_count": 30,
   "metadata": {
    "collapsed": false
   },
   "outputs": [
    {
     "data": {
      "text/plain": [
       "143.41584132923074"
      ]
     },
     "execution_count": 30,
     "metadata": {},
     "output_type": "execute_result"
    }
   ],
   "source": [
    "blu[61,63]"
   ]
  },
  {
   "cell_type": "code",
   "execution_count": 31,
   "metadata": {
    "collapsed": false
   },
   "outputs": [
    {
     "data": {
      "text/plain": [
       "10x10 Array{Float64,2}:\n",
       "  94.6314  103.006   109.883   113.996  …  103.006    94.6314   86.5234\n",
       " 103.006   112.626   119.464   123.548     112.626   103.006    92.6194\n",
       " 109.883   119.464   126.266   130.334     119.464   109.883    97.9374\n",
       " 113.996   123.548   130.334   134.388     123.548   113.996   101.657 \n",
       " 115.362   124.911   131.687   135.738     124.911   115.362   103.004 \n",
       " 113.996   123.548   130.334   134.388  …  123.548   113.996   101.657 \n",
       " 109.883   119.464   126.266   130.334     119.464   109.883    97.9374\n",
       " 103.006   112.626   119.464   123.548     112.626   103.006    92.6194\n",
       "  94.6314  103.006   109.883   113.996     103.006    94.6314   86.5234\n",
       "  86.5234   92.6194   97.9374  101.657      92.6194   86.5234   80.2771"
      ]
     },
     "execution_count": 31,
     "metadata": {},
     "output_type": "execute_result"
    }
   ],
   "source": [
    "bli[60:69,60:69]"
   ]
  },
  {
   "cell_type": "code",
   "execution_count": 32,
   "metadata": {
    "collapsed": false
   },
   "outputs": [
    {
     "data": {
      "text/plain": [
       "10x10 Array{Float64,2}:\n",
       "  94.6396  103.011   109.89    114.001  …  103.011    94.6396   86.5295\n",
       " 103.011   112.633   119.47    143.416     112.633   103.011    92.6252\n",
       " 109.89    119.47    126.277   130.342     119.47    109.89     97.9454\n",
       " 114.001   143.416   130.342   134.4       143.416   114.001   101.662 \n",
       " 115.364   124.909   131.689   135.745     124.909   115.364   103.007 \n",
       " 114.001   143.416   130.342   134.4    …  143.416   114.001   101.662 \n",
       " 109.89    119.47    126.277   130.342     119.47    109.89     97.9454\n",
       " 103.011   112.633   119.47    143.416     112.633   103.011    92.6252\n",
       "  94.6396  103.011   109.89    114.001     103.011    94.6396   86.5295\n",
       "  86.5295   92.6252   97.9454  101.662      92.6252   86.5295   80.2849"
      ]
     },
     "execution_count": 32,
     "metadata": {},
     "output_type": "execute_result"
    }
   ],
   "source": [
    "blu[60:69,60:69]"
   ]
  },
  {
   "cell_type": "code",
   "execution_count": null,
   "metadata": {
    "collapsed": true
   },
   "outputs": [],
   "source": []
  }
 ],
 "metadata": {
  "kernelspec": {
   "display_name": "Julia 0.4.3-pre",
   "language": "julia",
   "name": "julia-0.4"
  },
  "language_info": {
   "file_extension": ".jl",
   "mimetype": "application/julia",
   "name": "julia",
   "version": "0.4.3"
  }
 },
 "nbformat": 4,
 "nbformat_minor": 0
}
